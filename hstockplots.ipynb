{
 "cells": [
  {
   "cell_type": "markdown",
   "metadata": {},
   "source": [
    "# Material stock explorer for vehicles\n",
    "This interactive ipython notebook allows the exploration of the *historical dataset* of vehicles in the Netherlands between 2000 and 2017. It was made by Jochem van der Zaag as part of a graduation project for the Master programme Industrial Ecology at TU Delft & Leiden University, in collaboration with PBL (Planbureau voor de Leefomgeving). For background on assumptions and data that was used: see thesis report on TU Delft repository.\n",
    "\n",
    "It is hosted on Google Colab, which means that to initialise _you need to run the whole code first (via: Runtime > Run all) before you can explore._ Individual cells can be refreshed by clicking the \"▶\" icon to the left of each cell or via the keyboard command: `ctrl + enter`.\n",
    "\n",
    "Note that the dataset can be manipulated: one can group the mass using the dimension variable `Dim` as e.g. `['Class']`, `['Material Group']` or by individual `['Vehiclename']`, and `['Material']`.\n",
    "\n",
    "Subsets of the dataset can be viewed by including or excluding:\n",
    "- materials (e.g. `['Aluminium, wrought alloy', 'Polyethylene, high density']`)\n",
    "- matgroup (e.g. `['Ferrous metals', 'Critical Raw Materials, CRM']`)\n",
    "- vehicles (e.g. `['icev', 'ebike']`)\n",
    "- classes (e.g. `['Cars', 'Seavessels']`)\n",
    "- domains (`['Freight']` or `['Passenger']`)\n",
    "\n",
    "\n",
    "\n"
   ]
  },
  {
   "cell_type": "code",
   "execution_count": 1,
   "metadata": {},
   "outputs": [
    {
     "name": "stdout",
     "output_type": "stream",
     "text": [
      "No count data found for vehicle: ftrain\n",
      "No count data found for vehicle: wagon\n"
     ]
    }
   ],
   "source": [
    "### make sure to run this cell to load data.\n",
    "\n",
    "# ! git clone https://github.com/grimelda/urmive/\n",
    "# ! pip install colorlover==0.3.0\n",
    "# ! pip install squarify==0.4.3\n",
    "# import os; os.chdir('urmive/')\n",
    "\n",
    "import stocks; import numpy as np\n",
    "\n",
    "mat = stocks.CalcStocks(start=2000, end=2017)"
   ]
  },
  {
   "cell_type": "code",
   "execution_count": 16,
   "metadata": {},
   "outputs": [
    {
     "data": {
      "application/vnd.plotly.v1+json": {
       "config": {
        "plotlyServerURL": "https://plot.ly"
       },
       "data": [
        {
         "alignmentgroup": "True",
         "hoverlabel": {
          "namelength": 0
         },
         "hovertemplate": "Vehicle=emoped<br>Year=%{x}<br>Mass=%{y}",
         "legendgroup": "Vehicle=emoped",
         "marker": {
          "color": "#636efa"
         },
         "name": "emoped",
         "offsetgroup": "Vehicle=emoped",
         "orientation": "v",
         "showlegend": true,
         "textposition": "auto",
         "type": "bar",
         "x": [
          2007,
          2013,
          2008,
          2014,
          2010,
          2015,
          2016,
          2011,
          2009,
          2012,
          2017
         ],
         "xaxis": "x",
         "y": [
          0.075122026309,
          0.592333853463,
          0.1058537643445,
          0.6592365752039999,
          0.258787221766,
          0.7866660140395001,
          0.926001357286,
          0.3774534314665,
          0.16665244372250002,
          0.4832165417165,
          1.04252208675
         ],
         "yaxis": "y"
        },
        {
         "alignmentgroup": "True",
         "hoverlabel": {
          "namelength": 0
         },
         "hovertemplate": "Vehicle=locomotive<br>Year=%{x}<br>Mass=%{y}",
         "legendgroup": "Vehicle=locomotive",
         "marker": {
          "color": "#EF553B"
         },
         "name": "locomotive",
         "offsetgroup": "Vehicle=locomotive",
         "orientation": "v",
         "showlegend": true,
         "textposition": "auto",
         "type": "bar",
         "x": [
          2001,
          2000,
          2006,
          2007,
          2005,
          2015,
          2009,
          2004,
          2017,
          2014,
          2013,
          2010,
          2002,
          2012,
          2011,
          2016,
          2008,
          2003
         ],
         "xaxis": "x",
         "y": [
          1945.8,
          2105.64,
          1945.8,
          1945.8,
          1945.8,
          626.94,
          1945.8,
          1945.8,
          626.94,
          626.94,
          626.94,
          1945.8,
          1945.8,
          626.94,
          1060.2,
          626.94,
          1945.8,
          1945.8
         ],
         "yaxis": "y"
        },
        {
         "alignmentgroup": "True",
         "hoverlabel": {
          "namelength": 0
         },
         "hovertemplate": "Vehicle=moped<br>Year=%{x}<br>Mass=%{y}",
         "legendgroup": "Vehicle=moped",
         "marker": {
          "color": "#00cc96"
         },
         "name": "moped",
         "offsetgroup": "Vehicle=moped",
         "orientation": "v",
         "showlegend": true,
         "textposition": "auto",
         "type": "bar",
         "x": [
          2007,
          2009,
          2008,
          2016,
          2017,
          2015,
          2011,
          2012,
          2010,
          2013,
          2014
         ],
         "xaxis": "x",
         "y": [
          489.175010818,
          598.865010121,
          539.932781965,
          772.541704417,
          788.8251013999999,
          757.764509586,
          700.4150350649999,
          721.159797305,
          653.195873461,
          734.9225125730001,
          744.936963786
         ],
         "yaxis": "y"
        },
        {
         "alignmentgroup": "True",
         "hoverlabel": {
          "namelength": 0
         },
         "hovertemplate": "Vehicle=motorbike<br>Year=%{x}<br>Mass=%{y}",
         "legendgroup": "Vehicle=motorbike",
         "marker": {
          "color": "#ab63fa"
         },
         "name": "motorbike",
         "offsetgroup": "Vehicle=motorbike",
         "orientation": "v",
         "showlegend": true,
         "textposition": "auto",
         "type": "bar",
         "x": [
          2013,
          2007,
          2008,
          2005,
          2009,
          2001,
          2016,
          2002,
          2003,
          2010,
          2011,
          2015,
          2012,
          2000,
          2006,
          2014,
          2004,
          2017
         ],
         "xaxis": "x",
         "y": [
          909.67916208782,
          787.58892598362,
          812.42675808903,
          743.0170387993,
          840.9293027884898,
          601.5758015819799,
          909.86005806972,
          634.36583622408,
          681.66505274832,
          866.50318085121,
          884.8640264626399,
          909.13446725189,
          900.470266958,
          567.73188060446,
          766.09135232188,
          910.82373779274,
          713.5778418778899,
          915.0929588274099
         ],
         "yaxis": "y"
        },
        {
         "alignmentgroup": "True",
         "hoverlabel": {
          "namelength": 0
         },
         "hovertemplate": "Vehicle=bus<br>Year=%{x}<br>Mass=%{y}",
         "legendgroup": "Vehicle=bus",
         "marker": {
          "color": "#FFA15A"
         },
         "name": "bus",
         "offsetgroup": "Vehicle=bus",
         "orientation": "v",
         "showlegend": true,
         "textposition": "auto",
         "type": "bar",
         "x": [
          2010,
          2011,
          2013,
          2000,
          2012,
          2002,
          2003,
          2016,
          2004,
          2009,
          2005,
          2006,
          2017,
          2001,
          2007,
          2008,
          2014,
          2015
         ],
         "xaxis": "x",
         "y": [
          1382.3021795999998,
          1347.2040638,
          1255.5332816,
          1281.3337876,
          1318.2664983999998,
          1319.980105,
          1337.7106614,
          1145.9801934,
          1337.6421536,
          1329.8486308000001,
          1325.4427514000001,
          1300.707503,
          1196.9856868,
          1311.4811097999998,
          1279.206993,
          1307.4851853999996,
          1208.1755768000003,
          1175.9656218
         ],
         "yaxis": "y"
        },
        {
         "alignmentgroup": "True",
         "hoverlabel": {
          "namelength": 0
         },
         "hovertemplate": "Vehicle=ebicycle<br>Year=%{x}<br>Mass=%{y}",
         "legendgroup": "Vehicle=ebicycle",
         "marker": {
          "color": "#19d3f3"
         },
         "name": "ebicycle",
         "offsetgroup": "Vehicle=ebicycle",
         "orientation": "v",
         "showlegend": true,
         "textposition": "auto",
         "type": "bar",
         "x": [
          2012,
          2015,
          2014,
          2016,
          2013,
          2017
         ],
         "xaxis": "x",
         "y": [
          678.4000000000001,
          1102.4,
          1017.6000000000001,
          1187.2000000000003,
          848,
          1526.4
         ],
         "yaxis": "y"
        },
        {
         "alignmentgroup": "True",
         "hoverlabel": {
          "namelength": 0
         },
         "hovertemplate": "Vehicle=ptrain<br>Year=%{x}<br>Mass=%{y}",
         "legendgroup": "Vehicle=ptrain",
         "marker": {
          "color": "#FF6692"
         },
         "name": "ptrain",
         "offsetgroup": "Vehicle=ptrain",
         "orientation": "v",
         "showlegend": true,
         "textposition": "auto",
         "type": "bar",
         "x": [
          2013,
          2012,
          2014,
          2016,
          2015,
          2017,
          2002,
          2005,
          2000,
          2007,
          2008,
          2001,
          2006,
          2004,
          2009,
          2011,
          2010,
          2003
         ],
         "xaxis": "x",
         "y": [
          9412.343648494203,
          8800.037648494203,
          8736.155648494203,
          9416.555648494203,
          8736.155648494203,
          8001.2696484942035,
          7537.622400421203,
          6558.440400459002,
          7200.986400421202,
          7787.321648494202,
          7740.179648494202,
          7200.986400421202,
          6857.816400459003,
          7229.174400421202,
          8586.899648494204,
          8262.899648494204,
          8262.899648494204,
          7537.622400421203
         ],
         "yaxis": "y"
        },
        {
         "alignmentgroup": "True",
         "hoverlabel": {
          "namelength": 0
         },
         "hovertemplate": "Vehicle=hev<br>Year=%{x}<br>Mass=%{y}",
         "legendgroup": "Vehicle=hev",
         "marker": {
          "color": "#B6E880"
         },
         "name": "hev",
         "offsetgroup": "Vehicle=hev",
         "orientation": "v",
         "showlegend": true,
         "textposition": "auto",
         "type": "bar",
         "x": [
          2015,
          2009,
          2010,
          2013,
          2011,
          2017,
          2008,
          2007,
          2012,
          2016,
          2014
         ],
         "xaxis": "x",
         "y": [
          8053.851360065551,
          1237.2765094924462,
          2089.2438042904223,
          4767.796355939876,
          2974.879909707562,
          12521.347020048162,
          595.896123349738,
          382.01552669911706,
          3749.2625539483342,
          10924.953957538577,
          6866.973504978188
         ],
         "yaxis": "y"
        },
        {
         "alignmentgroup": "True",
         "hoverlabel": {
          "namelength": 0
         },
         "hovertemplate": "Vehicle=ev<br>Year=%{x}<br>Mass=%{y}",
         "legendgroup": "Vehicle=ev",
         "marker": {
          "color": "#FF97FF"
         },
         "name": "ev",
         "offsetgroup": "Vehicle=ev",
         "orientation": "v",
         "showlegend": true,
         "textposition": "auto",
         "type": "bar",
         "x": [
          2016,
          2002,
          2004,
          2003,
          2015,
          2005,
          2006,
          2007,
          2017,
          2008,
          2009,
          2013,
          2010,
          2011,
          2000,
          2012,
          2001,
          2014
         ],
         "xaxis": "x",
         "y": [
          23572.34301557889,
          48.799156516542,
          57.976979531121,
          57.976979531121,
          17453.30933228561,
          186.80227574795552,
          516.196582234614,
          859.58147258496,
          27469.336207305856,
          1264.1891579228025,
          2617.582278560477,
          10151.903425504379,
          4430.538097952558,
          6248.306678193747,
          4.47698683638,
          7850.39641759233,
          6.491630912751,
          14513.607850847593
         ],
         "yaxis": "y"
        },
        {
         "alignmentgroup": "True",
         "hoverlabel": {
          "namelength": 0
         },
         "hovertemplate": "Vehicle=icev<br>Year=%{x}<br>Mass=%{y}",
         "legendgroup": "Vehicle=icev",
         "marker": {
          "color": "#FECB52"
         },
         "name": "icev",
         "offsetgroup": "Vehicle=icev",
         "orientation": "v",
         "showlegend": true,
         "textposition": "auto",
         "type": "bar",
         "x": [
          2001,
          2017,
          2000,
          2002,
          2011,
          2003,
          2004,
          2015,
          2005,
          2006,
          2014,
          2007,
          2008,
          2013,
          2009,
          2012,
          2016,
          2010
         ],
         "xaxis": "x",
         "y": [
          212710.12838240722,
          251715.10571199682,
          206338.95618393327,
          218278.43880842088,
          247966.85602221475,
          222971.4766882821,
          224726.21809227002,
          249472.19338222337,
          227391.46154281867,
          230559.0588020503,
          249542.91261942335,
          234706.90145860458,
          239717.06990123534,
          251574.2202399121,
          243818.00494967456,
          251025.93470955163,
          249868.85868968177,
          245364.06930369165
         ],
         "yaxis": "y"
        }
       ],
       "layout": {
        "bargap": 0,
        "barmode": "relative",
        "font": {
         "family": "Lato, sans serif",
         "size": 11
        },
        "height": 400,
        "legend": {
         "tracegroupgap": 0,
         "traceorder": "reversed",
         "y": 0.5
        },
        "margin": {
         "b": 30,
         "l": 50,
         "pad": 1,
         "r": 0,
         "t": 0
        },
        "template": {
         "data": {
          "bar": [
           {
            "error_x": {
             "color": "#2a3f5f"
            },
            "error_y": {
             "color": "#2a3f5f"
            },
            "marker": {
             "line": {
              "color": "#E5ECF6",
              "width": 0.5
             }
            },
            "type": "bar"
           }
          ],
          "barpolar": [
           {
            "marker": {
             "line": {
              "color": "#E5ECF6",
              "width": 0.5
             }
            },
            "type": "barpolar"
           }
          ],
          "carpet": [
           {
            "aaxis": {
             "endlinecolor": "#2a3f5f",
             "gridcolor": "white",
             "linecolor": "white",
             "minorgridcolor": "white",
             "startlinecolor": "#2a3f5f"
            },
            "baxis": {
             "endlinecolor": "#2a3f5f",
             "gridcolor": "white",
             "linecolor": "white",
             "minorgridcolor": "white",
             "startlinecolor": "#2a3f5f"
            },
            "type": "carpet"
           }
          ],
          "choropleth": [
           {
            "colorbar": {
             "outlinewidth": 0,
             "ticks": ""
            },
            "type": "choropleth"
           }
          ],
          "contour": [
           {
            "colorbar": {
             "outlinewidth": 0,
             "ticks": ""
            },
            "colorscale": [
             [
              0,
              "#0d0887"
             ],
             [
              0.1111111111111111,
              "#46039f"
             ],
             [
              0.2222222222222222,
              "#7201a8"
             ],
             [
              0.3333333333333333,
              "#9c179e"
             ],
             [
              0.4444444444444444,
              "#bd3786"
             ],
             [
              0.5555555555555556,
              "#d8576b"
             ],
             [
              0.6666666666666666,
              "#ed7953"
             ],
             [
              0.7777777777777778,
              "#fb9f3a"
             ],
             [
              0.8888888888888888,
              "#fdca26"
             ],
             [
              1,
              "#f0f921"
             ]
            ],
            "type": "contour"
           }
          ],
          "contourcarpet": [
           {
            "colorbar": {
             "outlinewidth": 0,
             "ticks": ""
            },
            "type": "contourcarpet"
           }
          ],
          "heatmap": [
           {
            "colorbar": {
             "outlinewidth": 0,
             "ticks": ""
            },
            "colorscale": [
             [
              0,
              "#0d0887"
             ],
             [
              0.1111111111111111,
              "#46039f"
             ],
             [
              0.2222222222222222,
              "#7201a8"
             ],
             [
              0.3333333333333333,
              "#9c179e"
             ],
             [
              0.4444444444444444,
              "#bd3786"
             ],
             [
              0.5555555555555556,
              "#d8576b"
             ],
             [
              0.6666666666666666,
              "#ed7953"
             ],
             [
              0.7777777777777778,
              "#fb9f3a"
             ],
             [
              0.8888888888888888,
              "#fdca26"
             ],
             [
              1,
              "#f0f921"
             ]
            ],
            "type": "heatmap"
           }
          ],
          "heatmapgl": [
           {
            "colorbar": {
             "outlinewidth": 0,
             "ticks": ""
            },
            "colorscale": [
             [
              0,
              "#0d0887"
             ],
             [
              0.1111111111111111,
              "#46039f"
             ],
             [
              0.2222222222222222,
              "#7201a8"
             ],
             [
              0.3333333333333333,
              "#9c179e"
             ],
             [
              0.4444444444444444,
              "#bd3786"
             ],
             [
              0.5555555555555556,
              "#d8576b"
             ],
             [
              0.6666666666666666,
              "#ed7953"
             ],
             [
              0.7777777777777778,
              "#fb9f3a"
             ],
             [
              0.8888888888888888,
              "#fdca26"
             ],
             [
              1,
              "#f0f921"
             ]
            ],
            "type": "heatmapgl"
           }
          ],
          "histogram": [
           {
            "marker": {
             "colorbar": {
              "outlinewidth": 0,
              "ticks": ""
             }
            },
            "type": "histogram"
           }
          ],
          "histogram2d": [
           {
            "colorbar": {
             "outlinewidth": 0,
             "ticks": ""
            },
            "colorscale": [
             [
              0,
              "#0d0887"
             ],
             [
              0.1111111111111111,
              "#46039f"
             ],
             [
              0.2222222222222222,
              "#7201a8"
             ],
             [
              0.3333333333333333,
              "#9c179e"
             ],
             [
              0.4444444444444444,
              "#bd3786"
             ],
             [
              0.5555555555555556,
              "#d8576b"
             ],
             [
              0.6666666666666666,
              "#ed7953"
             ],
             [
              0.7777777777777778,
              "#fb9f3a"
             ],
             [
              0.8888888888888888,
              "#fdca26"
             ],
             [
              1,
              "#f0f921"
             ]
            ],
            "type": "histogram2d"
           }
          ],
          "histogram2dcontour": [
           {
            "colorbar": {
             "outlinewidth": 0,
             "ticks": ""
            },
            "colorscale": [
             [
              0,
              "#0d0887"
             ],
             [
              0.1111111111111111,
              "#46039f"
             ],
             [
              0.2222222222222222,
              "#7201a8"
             ],
             [
              0.3333333333333333,
              "#9c179e"
             ],
             [
              0.4444444444444444,
              "#bd3786"
             ],
             [
              0.5555555555555556,
              "#d8576b"
             ],
             [
              0.6666666666666666,
              "#ed7953"
             ],
             [
              0.7777777777777778,
              "#fb9f3a"
             ],
             [
              0.8888888888888888,
              "#fdca26"
             ],
             [
              1,
              "#f0f921"
             ]
            ],
            "type": "histogram2dcontour"
           }
          ],
          "mesh3d": [
           {
            "colorbar": {
             "outlinewidth": 0,
             "ticks": ""
            },
            "type": "mesh3d"
           }
          ],
          "parcoords": [
           {
            "line": {
             "colorbar": {
              "outlinewidth": 0,
              "ticks": ""
             }
            },
            "type": "parcoords"
           }
          ],
          "scatter": [
           {
            "marker": {
             "colorbar": {
              "outlinewidth": 0,
              "ticks": ""
             }
            },
            "type": "scatter"
           }
          ],
          "scatter3d": [
           {
            "line": {
             "colorbar": {
              "outlinewidth": 0,
              "ticks": ""
             }
            },
            "marker": {
             "colorbar": {
              "outlinewidth": 0,
              "ticks": ""
             }
            },
            "type": "scatter3d"
           }
          ],
          "scattercarpet": [
           {
            "marker": {
             "colorbar": {
              "outlinewidth": 0,
              "ticks": ""
             }
            },
            "type": "scattercarpet"
           }
          ],
          "scattergeo": [
           {
            "marker": {
             "colorbar": {
              "outlinewidth": 0,
              "ticks": ""
             }
            },
            "type": "scattergeo"
           }
          ],
          "scattergl": [
           {
            "marker": {
             "colorbar": {
              "outlinewidth": 0,
              "ticks": ""
             }
            },
            "type": "scattergl"
           }
          ],
          "scattermapbox": [
           {
            "marker": {
             "colorbar": {
              "outlinewidth": 0,
              "ticks": ""
             }
            },
            "type": "scattermapbox"
           }
          ],
          "scatterpolar": [
           {
            "marker": {
             "colorbar": {
              "outlinewidth": 0,
              "ticks": ""
             }
            },
            "type": "scatterpolar"
           }
          ],
          "scatterpolargl": [
           {
            "marker": {
             "colorbar": {
              "outlinewidth": 0,
              "ticks": ""
             }
            },
            "type": "scatterpolargl"
           }
          ],
          "scatterternary": [
           {
            "marker": {
             "colorbar": {
              "outlinewidth": 0,
              "ticks": ""
             }
            },
            "type": "scatterternary"
           }
          ],
          "surface": [
           {
            "colorbar": {
             "outlinewidth": 0,
             "ticks": ""
            },
            "colorscale": [
             [
              0,
              "#0d0887"
             ],
             [
              0.1111111111111111,
              "#46039f"
             ],
             [
              0.2222222222222222,
              "#7201a8"
             ],
             [
              0.3333333333333333,
              "#9c179e"
             ],
             [
              0.4444444444444444,
              "#bd3786"
             ],
             [
              0.5555555555555556,
              "#d8576b"
             ],
             [
              0.6666666666666666,
              "#ed7953"
             ],
             [
              0.7777777777777778,
              "#fb9f3a"
             ],
             [
              0.8888888888888888,
              "#fdca26"
             ],
             [
              1,
              "#f0f921"
             ]
            ],
            "type": "surface"
           }
          ],
          "table": [
           {
            "cells": {
             "fill": {
              "color": "#EBF0F8"
             },
             "line": {
              "color": "white"
             }
            },
            "header": {
             "fill": {
              "color": "#C8D4E3"
             },
             "line": {
              "color": "white"
             }
            },
            "type": "table"
           }
          ]
         },
         "layout": {
          "annotationdefaults": {
           "arrowcolor": "#2a3f5f",
           "arrowhead": 0,
           "arrowwidth": 1
          },
          "colorscale": {
           "diverging": [
            [
             0,
             "#8e0152"
            ],
            [
             0.1,
             "#c51b7d"
            ],
            [
             0.2,
             "#de77ae"
            ],
            [
             0.3,
             "#f1b6da"
            ],
            [
             0.4,
             "#fde0ef"
            ],
            [
             0.5,
             "#f7f7f7"
            ],
            [
             0.6,
             "#e6f5d0"
            ],
            [
             0.7,
             "#b8e186"
            ],
            [
             0.8,
             "#7fbc41"
            ],
            [
             0.9,
             "#4d9221"
            ],
            [
             1,
             "#276419"
            ]
           ],
           "sequential": [
            [
             0,
             "#0d0887"
            ],
            [
             0.1111111111111111,
             "#46039f"
            ],
            [
             0.2222222222222222,
             "#7201a8"
            ],
            [
             0.3333333333333333,
             "#9c179e"
            ],
            [
             0.4444444444444444,
             "#bd3786"
            ],
            [
             0.5555555555555556,
             "#d8576b"
            ],
            [
             0.6666666666666666,
             "#ed7953"
            ],
            [
             0.7777777777777778,
             "#fb9f3a"
            ],
            [
             0.8888888888888888,
             "#fdca26"
            ],
            [
             1,
             "#f0f921"
            ]
           ],
           "sequentialminus": [
            [
             0,
             "#0d0887"
            ],
            [
             0.1111111111111111,
             "#46039f"
            ],
            [
             0.2222222222222222,
             "#7201a8"
            ],
            [
             0.3333333333333333,
             "#9c179e"
            ],
            [
             0.4444444444444444,
             "#bd3786"
            ],
            [
             0.5555555555555556,
             "#d8576b"
            ],
            [
             0.6666666666666666,
             "#ed7953"
            ],
            [
             0.7777777777777778,
             "#fb9f3a"
            ],
            [
             0.8888888888888888,
             "#fdca26"
            ],
            [
             1,
             "#f0f921"
            ]
           ]
          },
          "colorway": [
           "#636efa",
           "#EF553B",
           "#00cc96",
           "#ab63fa",
           "#FFA15A",
           "#19d3f3",
           "#FF6692",
           "#B6E880",
           "#FF97FF",
           "#FECB52"
          ],
          "font": {
           "color": "#2a3f5f"
          },
          "geo": {
           "bgcolor": "white",
           "lakecolor": "white",
           "landcolor": "#E5ECF6",
           "showlakes": true,
           "showland": true,
           "subunitcolor": "white"
          },
          "hoverlabel": {
           "align": "left"
          },
          "hovermode": "closest",
          "mapbox": {
           "style": "light"
          },
          "paper_bgcolor": "white",
          "plot_bgcolor": "#E5ECF6",
          "polar": {
           "angularaxis": {
            "gridcolor": "white",
            "linecolor": "white",
            "ticks": ""
           },
           "bgcolor": "#E5ECF6",
           "radialaxis": {
            "gridcolor": "white",
            "linecolor": "white",
            "ticks": ""
           }
          },
          "scene": {
           "xaxis": {
            "backgroundcolor": "#E5ECF6",
            "gridcolor": "white",
            "gridwidth": 2,
            "linecolor": "white",
            "showbackground": true,
            "ticks": "",
            "zerolinecolor": "white"
           },
           "yaxis": {
            "backgroundcolor": "#E5ECF6",
            "gridcolor": "white",
            "gridwidth": 2,
            "linecolor": "white",
            "showbackground": true,
            "ticks": "",
            "zerolinecolor": "white"
           },
           "zaxis": {
            "backgroundcolor": "#E5ECF6",
            "gridcolor": "white",
            "gridwidth": 2,
            "linecolor": "white",
            "showbackground": true,
            "ticks": "",
            "zerolinecolor": "white"
           }
          },
          "shapedefaults": {
           "line": {
            "color": "#2a3f5f"
           }
          },
          "ternary": {
           "aaxis": {
            "gridcolor": "white",
            "linecolor": "white",
            "ticks": ""
           },
           "baxis": {
            "gridcolor": "white",
            "linecolor": "white",
            "ticks": ""
           },
           "bgcolor": "#E5ECF6",
           "caxis": {
            "gridcolor": "white",
            "linecolor": "white",
            "ticks": ""
           }
          },
          "title": {
           "x": 0.05
          },
          "xaxis": {
           "automargin": true,
           "gridcolor": "white",
           "linecolor": "white",
           "ticks": "",
           "zerolinecolor": "white",
           "zerolinewidth": 2
          },
          "yaxis": {
           "automargin": true,
           "gridcolor": "white",
           "linecolor": "white",
           "ticks": "",
           "zerolinecolor": "white",
           "zerolinewidth": 2
          }
         }
        },
        "width": 1000,
        "xaxis": {
         "anchor": "y",
         "domain": [
          0,
          0.98
         ],
         "title": {
          "text": "Year"
         }
        },
        "yaxis": {
         "anchor": "x",
         "domain": [
          0,
          1
         ],
         "title": {
          "text": "Stock Mass [tons]"
         }
        }
       }
      },
      "text/html": [
       "<div>\n",
       "        \n",
       "        \n",
       "            <div id=\"9e37af38-092a-4845-a6f6-d1ecbe5aadd1\" class=\"plotly-graph-div\" style=\"height:400px; width:1000px;\"></div>\n",
       "            <script type=\"text/javascript\">\n",
       "                require([\"plotly\"], function(Plotly) {\n",
       "                    window.PLOTLYENV=window.PLOTLYENV || {};\n",
       "                    \n",
       "                if (document.getElementById(\"9e37af38-092a-4845-a6f6-d1ecbe5aadd1\")) {\n",
       "                    Plotly.newPlot(\n",
       "                        '9e37af38-092a-4845-a6f6-d1ecbe5aadd1',\n",
       "                        [{\"alignmentgroup\": \"True\", \"hoverlabel\": {\"namelength\": 0}, \"hovertemplate\": \"Vehicle=emoped<br>Year=%{x}<br>Mass=%{y}\", \"legendgroup\": \"Vehicle=emoped\", \"marker\": {\"color\": \"#636efa\"}, \"name\": \"emoped\", \"offsetgroup\": \"Vehicle=emoped\", \"orientation\": \"v\", \"showlegend\": true, \"textposition\": \"auto\", \"type\": \"bar\", \"x\": [2007.0, 2013.0, 2008.0, 2014.0, 2010.0, 2015.0, 2016.0, 2011.0, 2009.0, 2012.0, 2017.0], \"xaxis\": \"x\", \"y\": [0.075122026309, 0.592333853463, 0.1058537643445, 0.6592365752039999, 0.258787221766, 0.7866660140395001, 0.926001357286, 0.3774534314665, 0.16665244372250002, 0.4832165417165, 1.04252208675], \"yaxis\": \"y\"}, {\"alignmentgroup\": \"True\", \"hoverlabel\": {\"namelength\": 0}, \"hovertemplate\": \"Vehicle=locomotive<br>Year=%{x}<br>Mass=%{y}\", \"legendgroup\": \"Vehicle=locomotive\", \"marker\": {\"color\": \"#EF553B\"}, \"name\": \"locomotive\", \"offsetgroup\": \"Vehicle=locomotive\", \"orientation\": \"v\", \"showlegend\": true, \"textposition\": \"auto\", \"type\": \"bar\", \"x\": [2001.0, 2000.0, 2006.0, 2007.0, 2005.0, 2015.0, 2009.0, 2004.0, 2017.0, 2014.0, 2013.0, 2010.0, 2002.0, 2012.0, 2011.0, 2016.0, 2008.0, 2003.0], \"xaxis\": \"x\", \"y\": [1945.8, 2105.64, 1945.8, 1945.8, 1945.8, 626.94, 1945.8, 1945.8, 626.94, 626.94, 626.94, 1945.8, 1945.8, 626.94, 1060.2, 626.94, 1945.8, 1945.8], \"yaxis\": \"y\"}, {\"alignmentgroup\": \"True\", \"hoverlabel\": {\"namelength\": 0}, \"hovertemplate\": \"Vehicle=moped<br>Year=%{x}<br>Mass=%{y}\", \"legendgroup\": \"Vehicle=moped\", \"marker\": {\"color\": \"#00cc96\"}, \"name\": \"moped\", \"offsetgroup\": \"Vehicle=moped\", \"orientation\": \"v\", \"showlegend\": true, \"textposition\": \"auto\", \"type\": \"bar\", \"x\": [2007.0, 2009.0, 2008.0, 2016.0, 2017.0, 2015.0, 2011.0, 2012.0, 2010.0, 2013.0, 2014.0], \"xaxis\": \"x\", \"y\": [489.175010818, 598.865010121, 539.932781965, 772.541704417, 788.8251013999999, 757.764509586, 700.4150350649999, 721.159797305, 653.195873461, 734.9225125730001, 744.936963786], \"yaxis\": \"y\"}, {\"alignmentgroup\": \"True\", \"hoverlabel\": {\"namelength\": 0}, \"hovertemplate\": \"Vehicle=motorbike<br>Year=%{x}<br>Mass=%{y}\", \"legendgroup\": \"Vehicle=motorbike\", \"marker\": {\"color\": \"#ab63fa\"}, \"name\": \"motorbike\", \"offsetgroup\": \"Vehicle=motorbike\", \"orientation\": \"v\", \"showlegend\": true, \"textposition\": \"auto\", \"type\": \"bar\", \"x\": [2013.0, 2007.0, 2008.0, 2005.0, 2009.0, 2001.0, 2016.0, 2002.0, 2003.0, 2010.0, 2011.0, 2015.0, 2012.0, 2000.0, 2006.0, 2014.0, 2004.0, 2017.0], \"xaxis\": \"x\", \"y\": [909.67916208782, 787.58892598362, 812.42675808903, 743.0170387993, 840.9293027884898, 601.5758015819799, 909.86005806972, 634.36583622408, 681.66505274832, 866.50318085121, 884.8640264626399, 909.13446725189, 900.470266958, 567.73188060446, 766.09135232188, 910.82373779274, 713.5778418778899, 915.0929588274099], \"yaxis\": \"y\"}, {\"alignmentgroup\": \"True\", \"hoverlabel\": {\"namelength\": 0}, \"hovertemplate\": \"Vehicle=bus<br>Year=%{x}<br>Mass=%{y}\", \"legendgroup\": \"Vehicle=bus\", \"marker\": {\"color\": \"#FFA15A\"}, \"name\": \"bus\", \"offsetgroup\": \"Vehicle=bus\", \"orientation\": \"v\", \"showlegend\": true, \"textposition\": \"auto\", \"type\": \"bar\", \"x\": [2010.0, 2011.0, 2013.0, 2000.0, 2012.0, 2002.0, 2003.0, 2016.0, 2004.0, 2009.0, 2005.0, 2006.0, 2017.0, 2001.0, 2007.0, 2008.0, 2014.0, 2015.0], \"xaxis\": \"x\", \"y\": [1382.3021795999998, 1347.2040638, 1255.5332816, 1281.3337876, 1318.2664983999998, 1319.980105, 1337.7106614, 1145.9801934, 1337.6421536, 1329.8486308000001, 1325.4427514000001, 1300.707503, 1196.9856868, 1311.4811097999998, 1279.206993, 1307.4851853999996, 1208.1755768000003, 1175.9656218], \"yaxis\": \"y\"}, {\"alignmentgroup\": \"True\", \"hoverlabel\": {\"namelength\": 0}, \"hovertemplate\": \"Vehicle=ebicycle<br>Year=%{x}<br>Mass=%{y}\", \"legendgroup\": \"Vehicle=ebicycle\", \"marker\": {\"color\": \"#19d3f3\"}, \"name\": \"ebicycle\", \"offsetgroup\": \"Vehicle=ebicycle\", \"orientation\": \"v\", \"showlegend\": true, \"textposition\": \"auto\", \"type\": \"bar\", \"x\": [2012.0, 2015.0, 2014.0, 2016.0, 2013.0, 2017.0], \"xaxis\": \"x\", \"y\": [678.4000000000001, 1102.4, 1017.6000000000001, 1187.2000000000003, 848.0, 1526.4], \"yaxis\": \"y\"}, {\"alignmentgroup\": \"True\", \"hoverlabel\": {\"namelength\": 0}, \"hovertemplate\": \"Vehicle=ptrain<br>Year=%{x}<br>Mass=%{y}\", \"legendgroup\": \"Vehicle=ptrain\", \"marker\": {\"color\": \"#FF6692\"}, \"name\": \"ptrain\", \"offsetgroup\": \"Vehicle=ptrain\", \"orientation\": \"v\", \"showlegend\": true, \"textposition\": \"auto\", \"type\": \"bar\", \"x\": [2013.0, 2012.0, 2014.0, 2016.0, 2015.0, 2017.0, 2002.0, 2005.0, 2000.0, 2007.0, 2008.0, 2001.0, 2006.0, 2004.0, 2009.0, 2011.0, 2010.0, 2003.0], \"xaxis\": \"x\", \"y\": [9412.343648494203, 8800.037648494203, 8736.155648494203, 9416.555648494203, 8736.155648494203, 8001.2696484942035, 7537.622400421203, 6558.440400459002, 7200.986400421202, 7787.321648494202, 7740.179648494202, 7200.986400421202, 6857.816400459003, 7229.174400421202, 8586.899648494204, 8262.899648494204, 8262.899648494204, 7537.622400421203], \"yaxis\": \"y\"}, {\"alignmentgroup\": \"True\", \"hoverlabel\": {\"namelength\": 0}, \"hovertemplate\": \"Vehicle=hev<br>Year=%{x}<br>Mass=%{y}\", \"legendgroup\": \"Vehicle=hev\", \"marker\": {\"color\": \"#B6E880\"}, \"name\": \"hev\", \"offsetgroup\": \"Vehicle=hev\", \"orientation\": \"v\", \"showlegend\": true, \"textposition\": \"auto\", \"type\": \"bar\", \"x\": [2015.0, 2009.0, 2010.0, 2013.0, 2011.0, 2017.0, 2008.0, 2007.0, 2012.0, 2016.0, 2014.0], \"xaxis\": \"x\", \"y\": [8053.851360065551, 1237.2765094924462, 2089.2438042904223, 4767.796355939876, 2974.879909707562, 12521.347020048162, 595.896123349738, 382.01552669911706, 3749.2625539483342, 10924.953957538577, 6866.973504978188], \"yaxis\": \"y\"}, {\"alignmentgroup\": \"True\", \"hoverlabel\": {\"namelength\": 0}, \"hovertemplate\": \"Vehicle=ev<br>Year=%{x}<br>Mass=%{y}\", \"legendgroup\": \"Vehicle=ev\", \"marker\": {\"color\": \"#FF97FF\"}, \"name\": \"ev\", \"offsetgroup\": \"Vehicle=ev\", \"orientation\": \"v\", \"showlegend\": true, \"textposition\": \"auto\", \"type\": \"bar\", \"x\": [2016.0, 2002.0, 2004.0, 2003.0, 2015.0, 2005.0, 2006.0, 2007.0, 2017.0, 2008.0, 2009.0, 2013.0, 2010.0, 2011.0, 2000.0, 2012.0, 2001.0, 2014.0], \"xaxis\": \"x\", \"y\": [23572.34301557889, 48.799156516542, 57.976979531121, 57.976979531121, 17453.30933228561, 186.80227574795552, 516.196582234614, 859.58147258496, 27469.336207305856, 1264.1891579228025, 2617.582278560477, 10151.903425504379, 4430.538097952558, 6248.306678193747, 4.47698683638, 7850.39641759233, 6.491630912751, 14513.607850847593], \"yaxis\": \"y\"}, {\"alignmentgroup\": \"True\", \"hoverlabel\": {\"namelength\": 0}, \"hovertemplate\": \"Vehicle=icev<br>Year=%{x}<br>Mass=%{y}\", \"legendgroup\": \"Vehicle=icev\", \"marker\": {\"color\": \"#FECB52\"}, \"name\": \"icev\", \"offsetgroup\": \"Vehicle=icev\", \"orientation\": \"v\", \"showlegend\": true, \"textposition\": \"auto\", \"type\": \"bar\", \"x\": [2001.0, 2017.0, 2000.0, 2002.0, 2011.0, 2003.0, 2004.0, 2015.0, 2005.0, 2006.0, 2014.0, 2007.0, 2008.0, 2013.0, 2009.0, 2012.0, 2016.0, 2010.0], \"xaxis\": \"x\", \"y\": [212710.12838240722, 251715.10571199682, 206338.95618393327, 218278.43880842088, 247966.85602221475, 222971.4766882821, 224726.21809227002, 249472.19338222337, 227391.46154281867, 230559.0588020503, 249542.91261942335, 234706.90145860458, 239717.06990123534, 251574.2202399121, 243818.00494967456, 251025.93470955163, 249868.85868968177, 245364.06930369165], \"yaxis\": \"y\"}],\n",
       "                        {\"bargap\": 0, \"barmode\": \"relative\", \"font\": {\"family\": \"Lato, sans serif\", \"size\": 11}, \"height\": 400, \"legend\": {\"tracegroupgap\": 0, \"traceorder\": \"reversed\", \"y\": 0.5}, \"margin\": {\"b\": 30, \"l\": 50, \"pad\": 1, \"r\": 0, \"t\": 0}, \"template\": {\"data\": {\"bar\": [{\"error_x\": {\"color\": \"#2a3f5f\"}, \"error_y\": {\"color\": \"#2a3f5f\"}, \"marker\": {\"line\": {\"color\": \"#E5ECF6\", \"width\": 0.5}}, \"type\": \"bar\"}], \"barpolar\": [{\"marker\": {\"line\": {\"color\": \"#E5ECF6\", \"width\": 0.5}}, \"type\": \"barpolar\"}], \"carpet\": [{\"aaxis\": {\"endlinecolor\": \"#2a3f5f\", \"gridcolor\": \"white\", \"linecolor\": \"white\", \"minorgridcolor\": \"white\", \"startlinecolor\": \"#2a3f5f\"}, \"baxis\": {\"endlinecolor\": \"#2a3f5f\", \"gridcolor\": \"white\", \"linecolor\": \"white\", \"minorgridcolor\": \"white\", \"startlinecolor\": \"#2a3f5f\"}, \"type\": \"carpet\"}], \"choropleth\": [{\"colorbar\": {\"outlinewidth\": 0, \"ticks\": \"\"}, \"type\": \"choropleth\"}], \"contour\": [{\"colorbar\": {\"outlinewidth\": 0, \"ticks\": \"\"}, \"colorscale\": [[0.0, \"#0d0887\"], [0.1111111111111111, \"#46039f\"], [0.2222222222222222, \"#7201a8\"], [0.3333333333333333, \"#9c179e\"], [0.4444444444444444, \"#bd3786\"], [0.5555555555555556, \"#d8576b\"], [0.6666666666666666, \"#ed7953\"], [0.7777777777777778, \"#fb9f3a\"], [0.8888888888888888, \"#fdca26\"], [1.0, \"#f0f921\"]], \"type\": \"contour\"}], \"contourcarpet\": [{\"colorbar\": {\"outlinewidth\": 0, \"ticks\": \"\"}, \"type\": \"contourcarpet\"}], \"heatmap\": [{\"colorbar\": {\"outlinewidth\": 0, \"ticks\": \"\"}, \"colorscale\": [[0.0, \"#0d0887\"], [0.1111111111111111, \"#46039f\"], [0.2222222222222222, \"#7201a8\"], [0.3333333333333333, \"#9c179e\"], [0.4444444444444444, \"#bd3786\"], [0.5555555555555556, \"#d8576b\"], [0.6666666666666666, \"#ed7953\"], [0.7777777777777778, \"#fb9f3a\"], [0.8888888888888888, \"#fdca26\"], [1.0, \"#f0f921\"]], \"type\": \"heatmap\"}], \"heatmapgl\": [{\"colorbar\": {\"outlinewidth\": 0, \"ticks\": \"\"}, \"colorscale\": [[0.0, \"#0d0887\"], [0.1111111111111111, \"#46039f\"], [0.2222222222222222, \"#7201a8\"], [0.3333333333333333, \"#9c179e\"], [0.4444444444444444, \"#bd3786\"], [0.5555555555555556, \"#d8576b\"], [0.6666666666666666, \"#ed7953\"], [0.7777777777777778, \"#fb9f3a\"], [0.8888888888888888, \"#fdca26\"], [1.0, \"#f0f921\"]], \"type\": \"heatmapgl\"}], \"histogram\": [{\"marker\": {\"colorbar\": {\"outlinewidth\": 0, \"ticks\": \"\"}}, \"type\": \"histogram\"}], \"histogram2d\": [{\"colorbar\": {\"outlinewidth\": 0, \"ticks\": \"\"}, \"colorscale\": [[0.0, \"#0d0887\"], [0.1111111111111111, \"#46039f\"], [0.2222222222222222, \"#7201a8\"], [0.3333333333333333, \"#9c179e\"], [0.4444444444444444, \"#bd3786\"], [0.5555555555555556, \"#d8576b\"], [0.6666666666666666, \"#ed7953\"], [0.7777777777777778, \"#fb9f3a\"], [0.8888888888888888, \"#fdca26\"], [1.0, \"#f0f921\"]], \"type\": \"histogram2d\"}], \"histogram2dcontour\": [{\"colorbar\": {\"outlinewidth\": 0, \"ticks\": \"\"}, \"colorscale\": [[0.0, \"#0d0887\"], [0.1111111111111111, \"#46039f\"], [0.2222222222222222, \"#7201a8\"], [0.3333333333333333, \"#9c179e\"], [0.4444444444444444, \"#bd3786\"], [0.5555555555555556, \"#d8576b\"], [0.6666666666666666, \"#ed7953\"], [0.7777777777777778, \"#fb9f3a\"], [0.8888888888888888, \"#fdca26\"], [1.0, \"#f0f921\"]], \"type\": \"histogram2dcontour\"}], \"mesh3d\": [{\"colorbar\": {\"outlinewidth\": 0, \"ticks\": \"\"}, \"type\": \"mesh3d\"}], \"parcoords\": [{\"line\": {\"colorbar\": {\"outlinewidth\": 0, \"ticks\": \"\"}}, \"type\": \"parcoords\"}], \"scatter\": [{\"marker\": {\"colorbar\": {\"outlinewidth\": 0, \"ticks\": \"\"}}, \"type\": \"scatter\"}], \"scatter3d\": [{\"line\": {\"colorbar\": {\"outlinewidth\": 0, \"ticks\": \"\"}}, \"marker\": {\"colorbar\": {\"outlinewidth\": 0, \"ticks\": \"\"}}, \"type\": \"scatter3d\"}], \"scattercarpet\": [{\"marker\": {\"colorbar\": {\"outlinewidth\": 0, \"ticks\": \"\"}}, \"type\": \"scattercarpet\"}], \"scattergeo\": [{\"marker\": {\"colorbar\": {\"outlinewidth\": 0, \"ticks\": \"\"}}, \"type\": \"scattergeo\"}], \"scattergl\": [{\"marker\": {\"colorbar\": {\"outlinewidth\": 0, \"ticks\": \"\"}}, \"type\": \"scattergl\"}], \"scattermapbox\": [{\"marker\": {\"colorbar\": {\"outlinewidth\": 0, \"ticks\": \"\"}}, \"type\": \"scattermapbox\"}], \"scatterpolar\": [{\"marker\": {\"colorbar\": {\"outlinewidth\": 0, \"ticks\": \"\"}}, \"type\": \"scatterpolar\"}], \"scatterpolargl\": [{\"marker\": {\"colorbar\": {\"outlinewidth\": 0, \"ticks\": \"\"}}, \"type\": \"scatterpolargl\"}], \"scatterternary\": [{\"marker\": {\"colorbar\": {\"outlinewidth\": 0, \"ticks\": \"\"}}, \"type\": \"scatterternary\"}], \"surface\": [{\"colorbar\": {\"outlinewidth\": 0, \"ticks\": \"\"}, \"colorscale\": [[0.0, \"#0d0887\"], [0.1111111111111111, \"#46039f\"], [0.2222222222222222, \"#7201a8\"], [0.3333333333333333, \"#9c179e\"], [0.4444444444444444, \"#bd3786\"], [0.5555555555555556, \"#d8576b\"], [0.6666666666666666, \"#ed7953\"], [0.7777777777777778, \"#fb9f3a\"], [0.8888888888888888, \"#fdca26\"], [1.0, \"#f0f921\"]], \"type\": \"surface\"}], \"table\": [{\"cells\": {\"fill\": {\"color\": \"#EBF0F8\"}, \"line\": {\"color\": \"white\"}}, \"header\": {\"fill\": {\"color\": \"#C8D4E3\"}, \"line\": {\"color\": \"white\"}}, \"type\": \"table\"}]}, \"layout\": {\"annotationdefaults\": {\"arrowcolor\": \"#2a3f5f\", \"arrowhead\": 0, \"arrowwidth\": 1}, \"colorscale\": {\"diverging\": [[0, \"#8e0152\"], [0.1, \"#c51b7d\"], [0.2, \"#de77ae\"], [0.3, \"#f1b6da\"], [0.4, \"#fde0ef\"], [0.5, \"#f7f7f7\"], [0.6, \"#e6f5d0\"], [0.7, \"#b8e186\"], [0.8, \"#7fbc41\"], [0.9, \"#4d9221\"], [1, \"#276419\"]], \"sequential\": [[0.0, \"#0d0887\"], [0.1111111111111111, \"#46039f\"], [0.2222222222222222, \"#7201a8\"], [0.3333333333333333, \"#9c179e\"], [0.4444444444444444, \"#bd3786\"], [0.5555555555555556, \"#d8576b\"], [0.6666666666666666, \"#ed7953\"], [0.7777777777777778, \"#fb9f3a\"], [0.8888888888888888, \"#fdca26\"], [1.0, \"#f0f921\"]], \"sequentialminus\": [[0.0, \"#0d0887\"], [0.1111111111111111, \"#46039f\"], [0.2222222222222222, \"#7201a8\"], [0.3333333333333333, \"#9c179e\"], [0.4444444444444444, \"#bd3786\"], [0.5555555555555556, \"#d8576b\"], [0.6666666666666666, \"#ed7953\"], [0.7777777777777778, \"#fb9f3a\"], [0.8888888888888888, \"#fdca26\"], [1.0, \"#f0f921\"]]}, \"colorway\": [\"#636efa\", \"#EF553B\", \"#00cc96\", \"#ab63fa\", \"#FFA15A\", \"#19d3f3\", \"#FF6692\", \"#B6E880\", \"#FF97FF\", \"#FECB52\"], \"font\": {\"color\": \"#2a3f5f\"}, \"geo\": {\"bgcolor\": \"white\", \"lakecolor\": \"white\", \"landcolor\": \"#E5ECF6\", \"showlakes\": true, \"showland\": true, \"subunitcolor\": \"white\"}, \"hoverlabel\": {\"align\": \"left\"}, \"hovermode\": \"closest\", \"mapbox\": {\"style\": \"light\"}, \"paper_bgcolor\": \"white\", \"plot_bgcolor\": \"#E5ECF6\", \"polar\": {\"angularaxis\": {\"gridcolor\": \"white\", \"linecolor\": \"white\", \"ticks\": \"\"}, \"bgcolor\": \"#E5ECF6\", \"radialaxis\": {\"gridcolor\": \"white\", \"linecolor\": \"white\", \"ticks\": \"\"}}, \"scene\": {\"xaxis\": {\"backgroundcolor\": \"#E5ECF6\", \"gridcolor\": \"white\", \"gridwidth\": 2, \"linecolor\": \"white\", \"showbackground\": true, \"ticks\": \"\", \"zerolinecolor\": \"white\"}, \"yaxis\": {\"backgroundcolor\": \"#E5ECF6\", \"gridcolor\": \"white\", \"gridwidth\": 2, \"linecolor\": \"white\", \"showbackground\": true, \"ticks\": \"\", \"zerolinecolor\": \"white\"}, \"zaxis\": {\"backgroundcolor\": \"#E5ECF6\", \"gridcolor\": \"white\", \"gridwidth\": 2, \"linecolor\": \"white\", \"showbackground\": true, \"ticks\": \"\", \"zerolinecolor\": \"white\"}}, \"shapedefaults\": {\"line\": {\"color\": \"#2a3f5f\"}}, \"ternary\": {\"aaxis\": {\"gridcolor\": \"white\", \"linecolor\": \"white\", \"ticks\": \"\"}, \"baxis\": {\"gridcolor\": \"white\", \"linecolor\": \"white\", \"ticks\": \"\"}, \"bgcolor\": \"#E5ECF6\", \"caxis\": {\"gridcolor\": \"white\", \"linecolor\": \"white\", \"ticks\": \"\"}}, \"title\": {\"x\": 0.05}, \"xaxis\": {\"automargin\": true, \"gridcolor\": \"white\", \"linecolor\": \"white\", \"ticks\": \"\", \"zerolinecolor\": \"white\", \"zerolinewidth\": 2}, \"yaxis\": {\"automargin\": true, \"gridcolor\": \"white\", \"linecolor\": \"white\", \"ticks\": \"\", \"zerolinecolor\": \"white\", \"zerolinewidth\": 2}}}, \"width\": 1000, \"xaxis\": {\"anchor\": \"y\", \"domain\": [0.0, 0.98], \"title\": {\"text\": \"Year\"}}, \"yaxis\": {\"anchor\": \"x\", \"domain\": [0.0, 1.0], \"title\": {\"text\": \"Stock Mass [tons]\"}}},\n",
       "                        {\"responsive\": true}\n",
       "                    ).then(function(){\n",
       "                            \n",
       "var gd = document.getElementById('9e37af38-092a-4845-a6f6-d1ecbe5aadd1');\n",
       "var x = new MutationObserver(function (mutations, observer) {{\n",
       "        var display = window.getComputedStyle(gd).display;\n",
       "        if (!display || display === 'none') {{\n",
       "            console.log([gd, 'removed!']);\n",
       "            Plotly.purge(gd);\n",
       "            observer.disconnect();\n",
       "        }}\n",
       "}});\n",
       "\n",
       "// Listen for the removal of the full notebook cells\n",
       "var notebookContainer = gd.closest('#notebook-container');\n",
       "if (notebookContainer) {{\n",
       "    x.observe(notebookContainer, {childList: true});\n",
       "}}\n",
       "\n",
       "// Listen for the clearing of the current output cell\n",
       "var outputEl = gd.closest('.output');\n",
       "if (outputEl) {{\n",
       "    x.observe(outputEl, {childList: true});\n",
       "}}\n",
       "\n",
       "                        })\n",
       "                };\n",
       "                });\n",
       "            </script>\n",
       "        </div>"
      ]
     },
     "metadata": {},
     "output_type": "display_data"
    }
   ],
   "source": [
    "### include and exclude are kinda mutually exclusive, be sane.\n",
    "stocks.PlotMass1Dim(mat, \n",
    "                    Dim=['Vehicle'], \n",
    "                    materials = dict(include = ['All'], exclude = [None]),\n",
    "                    matgroup = dict(include = ['Copper'], exclude = [None]),\n",
    "                    vehicles = dict(include = ['All'], exclude = [None]),\n",
    "                    classes = dict(include = ['All'], exclude = [None]),\n",
    "                    domain = dict(include = ['Passenger'], exclude = [None]),\n",
    "                    category_orders={'Class':['Inlandvessels','Seavessels','Cars','Utilitycars','Bicycles','Transit','Aircraft'][::-1]},\n",
    "                    ylabel='Stock Mass [tons]',\n",
    "                    w=1000,\n",
    "                    h=400,\n",
    "                    )"
   ]
  },
  {
   "cell_type": "code",
   "execution_count": 20,
   "metadata": {},
   "outputs": [
    {
     "data": {
      "application/vnd.plotly.v1+json": {
       "config": {
        "plotlyServerURL": "https://plot.ly"
       },
       "data": [
        {
         "alignmentgroup": "True",
         "hoverlabel": {
          "namelength": 0
         },
         "hovertemplate": "Class=Aircraft<br>Year=%{x}<br>Mass=%{y}",
         "legendgroup": "Class=Aircraft",
         "marker": {
          "color": "#636efa"
         },
         "name": "Aircraft",
         "offsetgroup": "Class=Aircraft",
         "orientation": "v",
         "showlegend": true,
         "textposition": "auto",
         "type": "bar",
         "x": [
          2000,
          2009,
          2011,
          2008,
          2012,
          2007,
          2006,
          2013,
          2010,
          2014,
          2004,
          2015,
          2003,
          2005,
          2002,
          2016,
          2001,
          2017
         ],
         "xaxis": "x",
         "y": [
          23502.74474781132,
          23689.35014759769,
          22004.337697775038,
          22655.52599773635,
          21707.95839779057,
          22596.43294774406,
          22241.211297789803,
          22235.6537977669,
          22690.23704768246,
          21939.525197805026,
          23656.595297573607,
          21345.690597858604,
          25143.135247496306,
          22223.71349776638,
          23739.529597758214,
          21328.60544781262,
          24035.90889774272,
          20860.632597750555
         ],
         "yaxis": "y"
        },
        {
         "alignmentgroup": "True",
         "hoverlabel": {
          "namelength": 0
         },
         "hovertemplate": "Class=Transit<br>Year=%{x}<br>Mass=%{y}",
         "legendgroup": "Class=Transit",
         "marker": {
          "color": "#EF553B"
         },
         "name": "Transit",
         "offsetgroup": "Class=Transit",
         "orientation": "v",
         "showlegend": true,
         "textposition": "auto",
         "type": "bar",
         "x": [
          2009,
          2006,
          2012,
          2007,
          2011,
          2005,
          2013,
          2016,
          2000,
          2004,
          2010,
          2001,
          2014,
          2003,
          2017,
          2002,
          2015,
          2008
         ],
         "xaxis": "x",
         "y": [
          306049.4405592573,
          271247.9224340083,
          294400.1642938571,
          286449.64280795737,
          291939.3092897572,
          268032.1257854083,
          299831.68347105687,
          289573.53095135756,
          277539.6256624077,
          281616.5488734077,
          304992.38340405707,
          278625.75707110786,
          282829.0067002573,
          287340.7245197077,
          268150.64213525725,
          285667.86325030756,
          279790.0278327571,
          288243.7905833573
         ],
         "yaxis": "y"
        },
        {
         "alignmentgroup": "True",
         "hoverlabel": {
          "namelength": 0
         },
         "hovertemplate": "Class=Bicycles<br>Year=%{x}<br>Mass=%{y}",
         "legendgroup": "Class=Bicycles",
         "marker": {
          "color": "#00cc96"
         },
         "name": "Bicycles",
         "offsetgroup": "Class=Bicycles",
         "orientation": "v",
         "showlegend": true,
         "textposition": "auto",
         "type": "bar",
         "x": [
          2017,
          2000,
          2011,
          2008,
          2009,
          2010,
          2007,
          2006,
          2012,
          2015,
          2003,
          2002,
          2001,
          2013,
          2005,
          2004,
          2016,
          2014
         ],
         "xaxis": "x",
         "y": [
          667538.0839104287,
          377320.7223721531,
          561338.6811729142,
          494410.1592668069,
          507090.27125268034,
          535252.5770325218,
          483447.73947344196,
          409397.5155388189,
          598791.5366171928,
          648679.4224645644,
          397155.67240595946,
          386982.6693737103,
          382228.10281758837,
          631715.5879655697,
          406051.73196227243,
          401783.0380542175,
          654954.305100852,
          641380.4946902478
         ],
         "yaxis": "y"
        },
        {
         "alignmentgroup": "True",
         "hoverlabel": {
          "namelength": 0
         },
         "hovertemplate": "Class=Utilitycars<br>Year=%{x}<br>Mass=%{y}",
         "legendgroup": "Class=Utilitycars",
         "marker": {
          "color": "#ab63fa"
         },
         "name": "Utilitycars",
         "offsetgroup": "Class=Utilitycars",
         "orientation": "v",
         "showlegend": true,
         "textposition": "auto",
         "type": "bar",
         "x": [
          2014,
          2010,
          2013,
          2012,
          2011,
          2016,
          2015,
          2017,
          2004,
          2000,
          2001,
          2008,
          2002,
          2003,
          2009,
          2007,
          2005,
          2006
         ],
         "xaxis": "x",
         "y": [
          1869823.0509964754,
          1931560.5979357094,
          1884625.6878266898,
          1910712.2353190568,
          1919666.051930059,
          1916630.756779294,
          1872817.0883495985,
          1983026.7465477407,
          1798297.5282253062,
          1430767.721299564,
          1562152.1576535236,
          1906055.2188214732,
          1656452.1922009648,
          1735186.296845582,
          1951902.8079555593,
          1856545.4054347726,
          1859728.722019234,
          1831034.1306996904
         ],
         "yaxis": "y"
        },
        {
         "alignmentgroup": "True",
         "hoverlabel": {
          "namelength": 0
         },
         "hovertemplate": "Class=Cars<br>Year=%{x}<br>Mass=%{y}",
         "legendgroup": "Class=Cars",
         "marker": {
          "color": "#FFA15A"
         },
         "name": "Cars",
         "offsetgroup": "Class=Cars",
         "orientation": "v",
         "showlegend": true,
         "textposition": "auto",
         "type": "bar",
         "x": [
          2009,
          2017,
          2000,
          2010,
          2001,
          2016,
          2002,
          2015,
          2012,
          2003,
          2008,
          2007,
          2014,
          2004,
          2005,
          2006,
          2011,
          2013
         ],
         "xaxis": "x",
         "y": [
          8474584.232795406,
          9437986.353186991,
          7109394.187263179,
          8578951.693374291,
          7328944.936830885,
          9269979.347111294,
          7521530.483676185,
          9083948.95721217,
          8871643.85921637,
          7683385.782022003,
          8295018.15506195,
          8110441.112036612,
          9008036.982066313,
          7743844.614737237,
          7837902.986690929,
          7952739.453772218,
          8720591.234855793,
          8953943.375687681
         ],
         "yaxis": "y"
        },
        {
         "alignmentgroup": "True",
         "hoverlabel": {
          "namelength": 0
         },
         "hovertemplate": "Class=Seavessels<br>Year=%{x}<br>Mass=%{y}",
         "legendgroup": "Class=Seavessels",
         "marker": {
          "color": "#19d3f3"
         },
         "name": "Seavessels",
         "offsetgroup": "Class=Seavessels",
         "orientation": "v",
         "showlegend": true,
         "textposition": "auto",
         "type": "bar",
         "x": [
          2014,
          2017,
          2012,
          2006,
          2000,
          2007,
          2005,
          2016,
          2001,
          2010,
          2013,
          2002,
          2015,
          2008,
          2004,
          2003,
          2011,
          2009
         ],
         "xaxis": "x",
         "y": [
          16423437.242000999,
          15484093.755744664,
          15928667.54061085,
          12364401.28784333,
          11747740.607144156,
          12655504.143021088,
          12080701.867303515,
          15549223.434131317,
          12381999.748215048,
          14903486.856819445,
          16590644.067934047,
          12385489.060828323,
          15964599.296751859,
          14255691.851240227,
          12498009.717784615,
          12787981.041674893,
          16133315.653112145,
          15143811.911123559
         ],
         "yaxis": "y"
        },
        {
         "alignmentgroup": "True",
         "hoverlabel": {
          "namelength": 0
         },
         "hovertemplate": "Class=Inlandvessels<br>Year=%{x}<br>Mass=%{y}",
         "legendgroup": "Class=Inlandvessels",
         "marker": {
          "color": "#FF6692"
         },
         "name": "Inlandvessels",
         "offsetgroup": "Class=Inlandvessels",
         "orientation": "v",
         "showlegend": true,
         "textposition": "auto",
         "type": "bar",
         "x": [
          2017,
          2016,
          2015,
          2014,
          2013,
          2012,
          2009,
          2008,
          2010,
          2011
         ],
         "xaxis": "x",
         "y": [
          8482248.082694499,
          8464679.639466252,
          8577219.52217475,
          8588931.81766025,
          8695106.322387496,
          8714966.301688999,
          8326423.6297135,
          7851311.817193001,
          8514329.58772,
          8746283.961356755
         ],
         "yaxis": "y"
        },
        {
         "alignmentgroup": "True",
         "hoverlabel": {
          "namelength": 0
         },
         "hovertemplate": "Class=Pleziervaartuigen<br>Year=%{x}<br>Mass=%{y}",
         "legendgroup": "Class=Pleziervaartuigen",
         "marker": {
          "color": "#B6E880"
         },
         "name": "Pleziervaartuigen",
         "offsetgroup": "Class=Pleziervaartuigen",
         "orientation": "v",
         "showlegend": true,
         "textposition": "auto",
         "type": "bar",
         "x": [
          2014
         ],
         "xaxis": "x",
         "y": [
          184595.04390000002
         ],
         "yaxis": "y"
        }
       ],
       "layout": {
        "bargap": 0,
        "barmode": "relative",
        "font": {
         "family": "Lato, sans serif",
         "size": 11
        },
        "height": 400,
        "legend": {
         "tracegroupgap": 0,
         "traceorder": "reversed",
         "y": 0.5
        },
        "margin": {
         "b": 30,
         "l": 50,
         "pad": 1,
         "r": 0,
         "t": 0
        },
        "template": {
         "data": {
          "bar": [
           {
            "error_x": {
             "color": "#2a3f5f"
            },
            "error_y": {
             "color": "#2a3f5f"
            },
            "marker": {
             "line": {
              "color": "#E5ECF6",
              "width": 0.5
             }
            },
            "type": "bar"
           }
          ],
          "barpolar": [
           {
            "marker": {
             "line": {
              "color": "#E5ECF6",
              "width": 0.5
             }
            },
            "type": "barpolar"
           }
          ],
          "carpet": [
           {
            "aaxis": {
             "endlinecolor": "#2a3f5f",
             "gridcolor": "white",
             "linecolor": "white",
             "minorgridcolor": "white",
             "startlinecolor": "#2a3f5f"
            },
            "baxis": {
             "endlinecolor": "#2a3f5f",
             "gridcolor": "white",
             "linecolor": "white",
             "minorgridcolor": "white",
             "startlinecolor": "#2a3f5f"
            },
            "type": "carpet"
           }
          ],
          "choropleth": [
           {
            "colorbar": {
             "outlinewidth": 0,
             "ticks": ""
            },
            "type": "choropleth"
           }
          ],
          "contour": [
           {
            "colorbar": {
             "outlinewidth": 0,
             "ticks": ""
            },
            "colorscale": [
             [
              0,
              "#0d0887"
             ],
             [
              0.1111111111111111,
              "#46039f"
             ],
             [
              0.2222222222222222,
              "#7201a8"
             ],
             [
              0.3333333333333333,
              "#9c179e"
             ],
             [
              0.4444444444444444,
              "#bd3786"
             ],
             [
              0.5555555555555556,
              "#d8576b"
             ],
             [
              0.6666666666666666,
              "#ed7953"
             ],
             [
              0.7777777777777778,
              "#fb9f3a"
             ],
             [
              0.8888888888888888,
              "#fdca26"
             ],
             [
              1,
              "#f0f921"
             ]
            ],
            "type": "contour"
           }
          ],
          "contourcarpet": [
           {
            "colorbar": {
             "outlinewidth": 0,
             "ticks": ""
            },
            "type": "contourcarpet"
           }
          ],
          "heatmap": [
           {
            "colorbar": {
             "outlinewidth": 0,
             "ticks": ""
            },
            "colorscale": [
             [
              0,
              "#0d0887"
             ],
             [
              0.1111111111111111,
              "#46039f"
             ],
             [
              0.2222222222222222,
              "#7201a8"
             ],
             [
              0.3333333333333333,
              "#9c179e"
             ],
             [
              0.4444444444444444,
              "#bd3786"
             ],
             [
              0.5555555555555556,
              "#d8576b"
             ],
             [
              0.6666666666666666,
              "#ed7953"
             ],
             [
              0.7777777777777778,
              "#fb9f3a"
             ],
             [
              0.8888888888888888,
              "#fdca26"
             ],
             [
              1,
              "#f0f921"
             ]
            ],
            "type": "heatmap"
           }
          ],
          "heatmapgl": [
           {
            "colorbar": {
             "outlinewidth": 0,
             "ticks": ""
            },
            "colorscale": [
             [
              0,
              "#0d0887"
             ],
             [
              0.1111111111111111,
              "#46039f"
             ],
             [
              0.2222222222222222,
              "#7201a8"
             ],
             [
              0.3333333333333333,
              "#9c179e"
             ],
             [
              0.4444444444444444,
              "#bd3786"
             ],
             [
              0.5555555555555556,
              "#d8576b"
             ],
             [
              0.6666666666666666,
              "#ed7953"
             ],
             [
              0.7777777777777778,
              "#fb9f3a"
             ],
             [
              0.8888888888888888,
              "#fdca26"
             ],
             [
              1,
              "#f0f921"
             ]
            ],
            "type": "heatmapgl"
           }
          ],
          "histogram": [
           {
            "marker": {
             "colorbar": {
              "outlinewidth": 0,
              "ticks": ""
             }
            },
            "type": "histogram"
           }
          ],
          "histogram2d": [
           {
            "colorbar": {
             "outlinewidth": 0,
             "ticks": ""
            },
            "colorscale": [
             [
              0,
              "#0d0887"
             ],
             [
              0.1111111111111111,
              "#46039f"
             ],
             [
              0.2222222222222222,
              "#7201a8"
             ],
             [
              0.3333333333333333,
              "#9c179e"
             ],
             [
              0.4444444444444444,
              "#bd3786"
             ],
             [
              0.5555555555555556,
              "#d8576b"
             ],
             [
              0.6666666666666666,
              "#ed7953"
             ],
             [
              0.7777777777777778,
              "#fb9f3a"
             ],
             [
              0.8888888888888888,
              "#fdca26"
             ],
             [
              1,
              "#f0f921"
             ]
            ],
            "type": "histogram2d"
           }
          ],
          "histogram2dcontour": [
           {
            "colorbar": {
             "outlinewidth": 0,
             "ticks": ""
            },
            "colorscale": [
             [
              0,
              "#0d0887"
             ],
             [
              0.1111111111111111,
              "#46039f"
             ],
             [
              0.2222222222222222,
              "#7201a8"
             ],
             [
              0.3333333333333333,
              "#9c179e"
             ],
             [
              0.4444444444444444,
              "#bd3786"
             ],
             [
              0.5555555555555556,
              "#d8576b"
             ],
             [
              0.6666666666666666,
              "#ed7953"
             ],
             [
              0.7777777777777778,
              "#fb9f3a"
             ],
             [
              0.8888888888888888,
              "#fdca26"
             ],
             [
              1,
              "#f0f921"
             ]
            ],
            "type": "histogram2dcontour"
           }
          ],
          "mesh3d": [
           {
            "colorbar": {
             "outlinewidth": 0,
             "ticks": ""
            },
            "type": "mesh3d"
           }
          ],
          "parcoords": [
           {
            "line": {
             "colorbar": {
              "outlinewidth": 0,
              "ticks": ""
             }
            },
            "type": "parcoords"
           }
          ],
          "scatter": [
           {
            "marker": {
             "colorbar": {
              "outlinewidth": 0,
              "ticks": ""
             }
            },
            "type": "scatter"
           }
          ],
          "scatter3d": [
           {
            "line": {
             "colorbar": {
              "outlinewidth": 0,
              "ticks": ""
             }
            },
            "marker": {
             "colorbar": {
              "outlinewidth": 0,
              "ticks": ""
             }
            },
            "type": "scatter3d"
           }
          ],
          "scattercarpet": [
           {
            "marker": {
             "colorbar": {
              "outlinewidth": 0,
              "ticks": ""
             }
            },
            "type": "scattercarpet"
           }
          ],
          "scattergeo": [
           {
            "marker": {
             "colorbar": {
              "outlinewidth": 0,
              "ticks": ""
             }
            },
            "type": "scattergeo"
           }
          ],
          "scattergl": [
           {
            "marker": {
             "colorbar": {
              "outlinewidth": 0,
              "ticks": ""
             }
            },
            "type": "scattergl"
           }
          ],
          "scattermapbox": [
           {
            "marker": {
             "colorbar": {
              "outlinewidth": 0,
              "ticks": ""
             }
            },
            "type": "scattermapbox"
           }
          ],
          "scatterpolar": [
           {
            "marker": {
             "colorbar": {
              "outlinewidth": 0,
              "ticks": ""
             }
            },
            "type": "scatterpolar"
           }
          ],
          "scatterpolargl": [
           {
            "marker": {
             "colorbar": {
              "outlinewidth": 0,
              "ticks": ""
             }
            },
            "type": "scatterpolargl"
           }
          ],
          "scatterternary": [
           {
            "marker": {
             "colorbar": {
              "outlinewidth": 0,
              "ticks": ""
             }
            },
            "type": "scatterternary"
           }
          ],
          "surface": [
           {
            "colorbar": {
             "outlinewidth": 0,
             "ticks": ""
            },
            "colorscale": [
             [
              0,
              "#0d0887"
             ],
             [
              0.1111111111111111,
              "#46039f"
             ],
             [
              0.2222222222222222,
              "#7201a8"
             ],
             [
              0.3333333333333333,
              "#9c179e"
             ],
             [
              0.4444444444444444,
              "#bd3786"
             ],
             [
              0.5555555555555556,
              "#d8576b"
             ],
             [
              0.6666666666666666,
              "#ed7953"
             ],
             [
              0.7777777777777778,
              "#fb9f3a"
             ],
             [
              0.8888888888888888,
              "#fdca26"
             ],
             [
              1,
              "#f0f921"
             ]
            ],
            "type": "surface"
           }
          ],
          "table": [
           {
            "cells": {
             "fill": {
              "color": "#EBF0F8"
             },
             "line": {
              "color": "white"
             }
            },
            "header": {
             "fill": {
              "color": "#C8D4E3"
             },
             "line": {
              "color": "white"
             }
            },
            "type": "table"
           }
          ]
         },
         "layout": {
          "annotationdefaults": {
           "arrowcolor": "#2a3f5f",
           "arrowhead": 0,
           "arrowwidth": 1
          },
          "colorscale": {
           "diverging": [
            [
             0,
             "#8e0152"
            ],
            [
             0.1,
             "#c51b7d"
            ],
            [
             0.2,
             "#de77ae"
            ],
            [
             0.3,
             "#f1b6da"
            ],
            [
             0.4,
             "#fde0ef"
            ],
            [
             0.5,
             "#f7f7f7"
            ],
            [
             0.6,
             "#e6f5d0"
            ],
            [
             0.7,
             "#b8e186"
            ],
            [
             0.8,
             "#7fbc41"
            ],
            [
             0.9,
             "#4d9221"
            ],
            [
             1,
             "#276419"
            ]
           ],
           "sequential": [
            [
             0,
             "#0d0887"
            ],
            [
             0.1111111111111111,
             "#46039f"
            ],
            [
             0.2222222222222222,
             "#7201a8"
            ],
            [
             0.3333333333333333,
             "#9c179e"
            ],
            [
             0.4444444444444444,
             "#bd3786"
            ],
            [
             0.5555555555555556,
             "#d8576b"
            ],
            [
             0.6666666666666666,
             "#ed7953"
            ],
            [
             0.7777777777777778,
             "#fb9f3a"
            ],
            [
             0.8888888888888888,
             "#fdca26"
            ],
            [
             1,
             "#f0f921"
            ]
           ],
           "sequentialminus": [
            [
             0,
             "#0d0887"
            ],
            [
             0.1111111111111111,
             "#46039f"
            ],
            [
             0.2222222222222222,
             "#7201a8"
            ],
            [
             0.3333333333333333,
             "#9c179e"
            ],
            [
             0.4444444444444444,
             "#bd3786"
            ],
            [
             0.5555555555555556,
             "#d8576b"
            ],
            [
             0.6666666666666666,
             "#ed7953"
            ],
            [
             0.7777777777777778,
             "#fb9f3a"
            ],
            [
             0.8888888888888888,
             "#fdca26"
            ],
            [
             1,
             "#f0f921"
            ]
           ]
          },
          "colorway": [
           "#636efa",
           "#EF553B",
           "#00cc96",
           "#ab63fa",
           "#FFA15A",
           "#19d3f3",
           "#FF6692",
           "#B6E880",
           "#FF97FF",
           "#FECB52"
          ],
          "font": {
           "color": "#2a3f5f"
          },
          "geo": {
           "bgcolor": "white",
           "lakecolor": "white",
           "landcolor": "#E5ECF6",
           "showlakes": true,
           "showland": true,
           "subunitcolor": "white"
          },
          "hoverlabel": {
           "align": "left"
          },
          "hovermode": "closest",
          "mapbox": {
           "style": "light"
          },
          "paper_bgcolor": "white",
          "plot_bgcolor": "#E5ECF6",
          "polar": {
           "angularaxis": {
            "gridcolor": "white",
            "linecolor": "white",
            "ticks": ""
           },
           "bgcolor": "#E5ECF6",
           "radialaxis": {
            "gridcolor": "white",
            "linecolor": "white",
            "ticks": ""
           }
          },
          "scene": {
           "xaxis": {
            "backgroundcolor": "#E5ECF6",
            "gridcolor": "white",
            "gridwidth": 2,
            "linecolor": "white",
            "showbackground": true,
            "ticks": "",
            "zerolinecolor": "white"
           },
           "yaxis": {
            "backgroundcolor": "#E5ECF6",
            "gridcolor": "white",
            "gridwidth": 2,
            "linecolor": "white",
            "showbackground": true,
            "ticks": "",
            "zerolinecolor": "white"
           },
           "zaxis": {
            "backgroundcolor": "#E5ECF6",
            "gridcolor": "white",
            "gridwidth": 2,
            "linecolor": "white",
            "showbackground": true,
            "ticks": "",
            "zerolinecolor": "white"
           }
          },
          "shapedefaults": {
           "line": {
            "color": "#2a3f5f"
           }
          },
          "ternary": {
           "aaxis": {
            "gridcolor": "white",
            "linecolor": "white",
            "ticks": ""
           },
           "baxis": {
            "gridcolor": "white",
            "linecolor": "white",
            "ticks": ""
           },
           "bgcolor": "#E5ECF6",
           "caxis": {
            "gridcolor": "white",
            "linecolor": "white",
            "ticks": ""
           }
          },
          "title": {
           "x": 0.05
          },
          "xaxis": {
           "automargin": true,
           "gridcolor": "white",
           "linecolor": "white",
           "ticks": "",
           "zerolinecolor": "white",
           "zerolinewidth": 2
          },
          "yaxis": {
           "automargin": true,
           "gridcolor": "white",
           "linecolor": "white",
           "ticks": "",
           "zerolinecolor": "white",
           "zerolinewidth": 2
          }
         }
        },
        "width": 1000,
        "xaxis": {
         "anchor": "y",
         "domain": [
          0,
          0.98
         ],
         "title": {
          "text": "Year"
         }
        },
        "yaxis": {
         "anchor": "x",
         "domain": [
          0,
          1
         ],
         "title": {
          "text": "Stock Mass [tons]"
         }
        }
       }
      },
      "text/html": [
       "<div>\n",
       "        \n",
       "        \n",
       "            <div id=\"6322cccd-7f40-4169-aa94-065b80d50fd3\" class=\"plotly-graph-div\" style=\"height:400px; width:1000px;\"></div>\n",
       "            <script type=\"text/javascript\">\n",
       "                require([\"plotly\"], function(Plotly) {\n",
       "                    window.PLOTLYENV=window.PLOTLYENV || {};\n",
       "                    \n",
       "                if (document.getElementById(\"6322cccd-7f40-4169-aa94-065b80d50fd3\")) {\n",
       "                    Plotly.newPlot(\n",
       "                        '6322cccd-7f40-4169-aa94-065b80d50fd3',\n",
       "                        [{\"alignmentgroup\": \"True\", \"hoverlabel\": {\"namelength\": 0}, \"hovertemplate\": \"Class=Aircraft<br>Year=%{x}<br>Mass=%{y}\", \"legendgroup\": \"Class=Aircraft\", \"marker\": {\"color\": \"#636efa\"}, \"name\": \"Aircraft\", \"offsetgroup\": \"Class=Aircraft\", \"orientation\": \"v\", \"showlegend\": true, \"textposition\": \"auto\", \"type\": \"bar\", \"x\": [2000.0, 2009.0, 2011.0, 2008.0, 2012.0, 2007.0, 2006.0, 2013.0, 2010.0, 2014.0, 2004.0, 2015.0, 2003.0, 2005.0, 2002.0, 2016.0, 2001.0, 2017.0], \"xaxis\": \"x\", \"y\": [23502.74474781132, 23689.35014759769, 22004.337697775038, 22655.52599773635, 21707.95839779057, 22596.43294774406, 22241.211297789803, 22235.6537977669, 22690.23704768246, 21939.525197805026, 23656.595297573607, 21345.690597858604, 25143.135247496306, 22223.71349776638, 23739.529597758214, 21328.60544781262, 24035.90889774272, 20860.632597750555], \"yaxis\": \"y\"}, {\"alignmentgroup\": \"True\", \"hoverlabel\": {\"namelength\": 0}, \"hovertemplate\": \"Class=Transit<br>Year=%{x}<br>Mass=%{y}\", \"legendgroup\": \"Class=Transit\", \"marker\": {\"color\": \"#EF553B\"}, \"name\": \"Transit\", \"offsetgroup\": \"Class=Transit\", \"orientation\": \"v\", \"showlegend\": true, \"textposition\": \"auto\", \"type\": \"bar\", \"x\": [2009.0, 2006.0, 2012.0, 2007.0, 2011.0, 2005.0, 2013.0, 2016.0, 2000.0, 2004.0, 2010.0, 2001.0, 2014.0, 2003.0, 2017.0, 2002.0, 2015.0, 2008.0], \"xaxis\": \"x\", \"y\": [306049.4405592573, 271247.9224340083, 294400.1642938571, 286449.64280795737, 291939.3092897572, 268032.1257854083, 299831.68347105687, 289573.53095135756, 277539.6256624077, 281616.5488734077, 304992.38340405707, 278625.75707110786, 282829.0067002573, 287340.7245197077, 268150.64213525725, 285667.86325030756, 279790.0278327571, 288243.7905833573], \"yaxis\": \"y\"}, {\"alignmentgroup\": \"True\", \"hoverlabel\": {\"namelength\": 0}, \"hovertemplate\": \"Class=Bicycles<br>Year=%{x}<br>Mass=%{y}\", \"legendgroup\": \"Class=Bicycles\", \"marker\": {\"color\": \"#00cc96\"}, \"name\": \"Bicycles\", \"offsetgroup\": \"Class=Bicycles\", \"orientation\": \"v\", \"showlegend\": true, \"textposition\": \"auto\", \"type\": \"bar\", \"x\": [2017.0, 2000.0, 2011.0, 2008.0, 2009.0, 2010.0, 2007.0, 2006.0, 2012.0, 2015.0, 2003.0, 2002.0, 2001.0, 2013.0, 2005.0, 2004.0, 2016.0, 2014.0], \"xaxis\": \"x\", \"y\": [667538.0839104287, 377320.7223721531, 561338.6811729142, 494410.1592668069, 507090.27125268034, 535252.5770325218, 483447.73947344196, 409397.5155388189, 598791.5366171928, 648679.4224645644, 397155.67240595946, 386982.6693737103, 382228.10281758837, 631715.5879655697, 406051.73196227243, 401783.0380542175, 654954.305100852, 641380.4946902478], \"yaxis\": \"y\"}, {\"alignmentgroup\": \"True\", \"hoverlabel\": {\"namelength\": 0}, \"hovertemplate\": \"Class=Utilitycars<br>Year=%{x}<br>Mass=%{y}\", \"legendgroup\": \"Class=Utilitycars\", \"marker\": {\"color\": \"#ab63fa\"}, \"name\": \"Utilitycars\", \"offsetgroup\": \"Class=Utilitycars\", \"orientation\": \"v\", \"showlegend\": true, \"textposition\": \"auto\", \"type\": \"bar\", \"x\": [2014.0, 2010.0, 2013.0, 2012.0, 2011.0, 2016.0, 2015.0, 2017.0, 2004.0, 2000.0, 2001.0, 2008.0, 2002.0, 2003.0, 2009.0, 2007.0, 2005.0, 2006.0], \"xaxis\": \"x\", \"y\": [1869823.0509964754, 1931560.5979357094, 1884625.6878266898, 1910712.2353190568, 1919666.051930059, 1916630.756779294, 1872817.0883495985, 1983026.7465477407, 1798297.5282253062, 1430767.721299564, 1562152.1576535236, 1906055.2188214732, 1656452.1922009648, 1735186.296845582, 1951902.8079555593, 1856545.4054347726, 1859728.722019234, 1831034.1306996904], \"yaxis\": \"y\"}, {\"alignmentgroup\": \"True\", \"hoverlabel\": {\"namelength\": 0}, \"hovertemplate\": \"Class=Cars<br>Year=%{x}<br>Mass=%{y}\", \"legendgroup\": \"Class=Cars\", \"marker\": {\"color\": \"#FFA15A\"}, \"name\": \"Cars\", \"offsetgroup\": \"Class=Cars\", \"orientation\": \"v\", \"showlegend\": true, \"textposition\": \"auto\", \"type\": \"bar\", \"x\": [2009.0, 2017.0, 2000.0, 2010.0, 2001.0, 2016.0, 2002.0, 2015.0, 2012.0, 2003.0, 2008.0, 2007.0, 2014.0, 2004.0, 2005.0, 2006.0, 2011.0, 2013.0], \"xaxis\": \"x\", \"y\": [8474584.232795406, 9437986.353186991, 7109394.187263179, 8578951.693374291, 7328944.936830885, 9269979.347111294, 7521530.483676185, 9083948.95721217, 8871643.85921637, 7683385.782022003, 8295018.15506195, 8110441.112036612, 9008036.982066313, 7743844.614737237, 7837902.986690929, 7952739.453772218, 8720591.234855793, 8953943.375687681], \"yaxis\": \"y\"}, {\"alignmentgroup\": \"True\", \"hoverlabel\": {\"namelength\": 0}, \"hovertemplate\": \"Class=Seavessels<br>Year=%{x}<br>Mass=%{y}\", \"legendgroup\": \"Class=Seavessels\", \"marker\": {\"color\": \"#19d3f3\"}, \"name\": \"Seavessels\", \"offsetgroup\": \"Class=Seavessels\", \"orientation\": \"v\", \"showlegend\": true, \"textposition\": \"auto\", \"type\": \"bar\", \"x\": [2014.0, 2017.0, 2012.0, 2006.0, 2000.0, 2007.0, 2005.0, 2016.0, 2001.0, 2010.0, 2013.0, 2002.0, 2015.0, 2008.0, 2004.0, 2003.0, 2011.0, 2009.0], \"xaxis\": \"x\", \"y\": [16423437.242000999, 15484093.755744664, 15928667.54061085, 12364401.28784333, 11747740.607144156, 12655504.143021088, 12080701.867303515, 15549223.434131317, 12381999.748215048, 14903486.856819445, 16590644.067934047, 12385489.060828323, 15964599.296751859, 14255691.851240227, 12498009.717784615, 12787981.041674893, 16133315.653112145, 15143811.911123559], \"yaxis\": \"y\"}, {\"alignmentgroup\": \"True\", \"hoverlabel\": {\"namelength\": 0}, \"hovertemplate\": \"Class=Inlandvessels<br>Year=%{x}<br>Mass=%{y}\", \"legendgroup\": \"Class=Inlandvessels\", \"marker\": {\"color\": \"#FF6692\"}, \"name\": \"Inlandvessels\", \"offsetgroup\": \"Class=Inlandvessels\", \"orientation\": \"v\", \"showlegend\": true, \"textposition\": \"auto\", \"type\": \"bar\", \"x\": [2017.0, 2016.0, 2015.0, 2014.0, 2013.0, 2012.0, 2009.0, 2008.0, 2010.0, 2011.0], \"xaxis\": \"x\", \"y\": [8482248.082694499, 8464679.639466252, 8577219.52217475, 8588931.81766025, 8695106.322387496, 8714966.301688999, 8326423.6297135, 7851311.817193001, 8514329.58772, 8746283.961356755], \"yaxis\": \"y\"}, {\"alignmentgroup\": \"True\", \"hoverlabel\": {\"namelength\": 0}, \"hovertemplate\": \"Class=Pleziervaartuigen<br>Year=%{x}<br>Mass=%{y}\", \"legendgroup\": \"Class=Pleziervaartuigen\", \"marker\": {\"color\": \"#B6E880\"}, \"name\": \"Pleziervaartuigen\", \"offsetgroup\": \"Class=Pleziervaartuigen\", \"orientation\": \"v\", \"showlegend\": true, \"textposition\": \"auto\", \"type\": \"bar\", \"x\": [2014.0], \"xaxis\": \"x\", \"y\": [184595.04390000002], \"yaxis\": \"y\"}],\n",
       "                        {\"bargap\": 0, \"barmode\": \"relative\", \"font\": {\"family\": \"Lato, sans serif\", \"size\": 11}, \"height\": 400, \"legend\": {\"tracegroupgap\": 0, \"traceorder\": \"reversed\", \"y\": 0.5}, \"margin\": {\"b\": 30, \"l\": 50, \"pad\": 1, \"r\": 0, \"t\": 0}, \"template\": {\"data\": {\"bar\": [{\"error_x\": {\"color\": \"#2a3f5f\"}, \"error_y\": {\"color\": \"#2a3f5f\"}, \"marker\": {\"line\": {\"color\": \"#E5ECF6\", \"width\": 0.5}}, \"type\": \"bar\"}], \"barpolar\": [{\"marker\": {\"line\": {\"color\": \"#E5ECF6\", \"width\": 0.5}}, \"type\": \"barpolar\"}], \"carpet\": [{\"aaxis\": {\"endlinecolor\": \"#2a3f5f\", \"gridcolor\": \"white\", \"linecolor\": \"white\", \"minorgridcolor\": \"white\", \"startlinecolor\": \"#2a3f5f\"}, \"baxis\": {\"endlinecolor\": \"#2a3f5f\", \"gridcolor\": \"white\", \"linecolor\": \"white\", \"minorgridcolor\": \"white\", \"startlinecolor\": \"#2a3f5f\"}, \"type\": \"carpet\"}], \"choropleth\": [{\"colorbar\": {\"outlinewidth\": 0, \"ticks\": \"\"}, \"type\": \"choropleth\"}], \"contour\": [{\"colorbar\": {\"outlinewidth\": 0, \"ticks\": \"\"}, \"colorscale\": [[0.0, \"#0d0887\"], [0.1111111111111111, \"#46039f\"], [0.2222222222222222, \"#7201a8\"], [0.3333333333333333, \"#9c179e\"], [0.4444444444444444, \"#bd3786\"], [0.5555555555555556, \"#d8576b\"], [0.6666666666666666, \"#ed7953\"], [0.7777777777777778, \"#fb9f3a\"], [0.8888888888888888, \"#fdca26\"], [1.0, \"#f0f921\"]], \"type\": \"contour\"}], \"contourcarpet\": [{\"colorbar\": {\"outlinewidth\": 0, \"ticks\": \"\"}, \"type\": \"contourcarpet\"}], \"heatmap\": [{\"colorbar\": {\"outlinewidth\": 0, \"ticks\": \"\"}, \"colorscale\": [[0.0, \"#0d0887\"], [0.1111111111111111, \"#46039f\"], [0.2222222222222222, \"#7201a8\"], [0.3333333333333333, \"#9c179e\"], [0.4444444444444444, \"#bd3786\"], [0.5555555555555556, \"#d8576b\"], [0.6666666666666666, \"#ed7953\"], [0.7777777777777778, \"#fb9f3a\"], [0.8888888888888888, \"#fdca26\"], [1.0, \"#f0f921\"]], \"type\": \"heatmap\"}], \"heatmapgl\": [{\"colorbar\": {\"outlinewidth\": 0, \"ticks\": \"\"}, \"colorscale\": [[0.0, \"#0d0887\"], [0.1111111111111111, \"#46039f\"], [0.2222222222222222, \"#7201a8\"], [0.3333333333333333, \"#9c179e\"], [0.4444444444444444, \"#bd3786\"], [0.5555555555555556, \"#d8576b\"], [0.6666666666666666, \"#ed7953\"], [0.7777777777777778, \"#fb9f3a\"], [0.8888888888888888, \"#fdca26\"], [1.0, \"#f0f921\"]], \"type\": \"heatmapgl\"}], \"histogram\": [{\"marker\": {\"colorbar\": {\"outlinewidth\": 0, \"ticks\": \"\"}}, \"type\": \"histogram\"}], \"histogram2d\": [{\"colorbar\": {\"outlinewidth\": 0, \"ticks\": \"\"}, \"colorscale\": [[0.0, \"#0d0887\"], [0.1111111111111111, \"#46039f\"], [0.2222222222222222, \"#7201a8\"], [0.3333333333333333, \"#9c179e\"], [0.4444444444444444, \"#bd3786\"], [0.5555555555555556, \"#d8576b\"], [0.6666666666666666, \"#ed7953\"], [0.7777777777777778, \"#fb9f3a\"], [0.8888888888888888, \"#fdca26\"], [1.0, \"#f0f921\"]], \"type\": \"histogram2d\"}], \"histogram2dcontour\": [{\"colorbar\": {\"outlinewidth\": 0, \"ticks\": \"\"}, \"colorscale\": [[0.0, \"#0d0887\"], [0.1111111111111111, \"#46039f\"], [0.2222222222222222, \"#7201a8\"], [0.3333333333333333, \"#9c179e\"], [0.4444444444444444, \"#bd3786\"], [0.5555555555555556, \"#d8576b\"], [0.6666666666666666, \"#ed7953\"], [0.7777777777777778, \"#fb9f3a\"], [0.8888888888888888, \"#fdca26\"], [1.0, \"#f0f921\"]], \"type\": \"histogram2dcontour\"}], \"mesh3d\": [{\"colorbar\": {\"outlinewidth\": 0, \"ticks\": \"\"}, \"type\": \"mesh3d\"}], \"parcoords\": [{\"line\": {\"colorbar\": {\"outlinewidth\": 0, \"ticks\": \"\"}}, \"type\": \"parcoords\"}], \"scatter\": [{\"marker\": {\"colorbar\": {\"outlinewidth\": 0, \"ticks\": \"\"}}, \"type\": \"scatter\"}], \"scatter3d\": [{\"line\": {\"colorbar\": {\"outlinewidth\": 0, \"ticks\": \"\"}}, \"marker\": {\"colorbar\": {\"outlinewidth\": 0, \"ticks\": \"\"}}, \"type\": \"scatter3d\"}], \"scattercarpet\": [{\"marker\": {\"colorbar\": {\"outlinewidth\": 0, \"ticks\": \"\"}}, \"type\": \"scattercarpet\"}], \"scattergeo\": [{\"marker\": {\"colorbar\": {\"outlinewidth\": 0, \"ticks\": \"\"}}, \"type\": \"scattergeo\"}], \"scattergl\": [{\"marker\": {\"colorbar\": {\"outlinewidth\": 0, \"ticks\": \"\"}}, \"type\": \"scattergl\"}], \"scattermapbox\": [{\"marker\": {\"colorbar\": {\"outlinewidth\": 0, \"ticks\": \"\"}}, \"type\": \"scattermapbox\"}], \"scatterpolar\": [{\"marker\": {\"colorbar\": {\"outlinewidth\": 0, \"ticks\": \"\"}}, \"type\": \"scatterpolar\"}], \"scatterpolargl\": [{\"marker\": {\"colorbar\": {\"outlinewidth\": 0, \"ticks\": \"\"}}, \"type\": \"scatterpolargl\"}], \"scatterternary\": [{\"marker\": {\"colorbar\": {\"outlinewidth\": 0, \"ticks\": \"\"}}, \"type\": \"scatterternary\"}], \"surface\": [{\"colorbar\": {\"outlinewidth\": 0, \"ticks\": \"\"}, \"colorscale\": [[0.0, \"#0d0887\"], [0.1111111111111111, \"#46039f\"], [0.2222222222222222, \"#7201a8\"], [0.3333333333333333, \"#9c179e\"], [0.4444444444444444, \"#bd3786\"], [0.5555555555555556, \"#d8576b\"], [0.6666666666666666, \"#ed7953\"], [0.7777777777777778, \"#fb9f3a\"], [0.8888888888888888, \"#fdca26\"], [1.0, \"#f0f921\"]], \"type\": \"surface\"}], \"table\": [{\"cells\": {\"fill\": {\"color\": \"#EBF0F8\"}, \"line\": {\"color\": \"white\"}}, \"header\": {\"fill\": {\"color\": \"#C8D4E3\"}, \"line\": {\"color\": \"white\"}}, \"type\": \"table\"}]}, \"layout\": {\"annotationdefaults\": {\"arrowcolor\": \"#2a3f5f\", \"arrowhead\": 0, \"arrowwidth\": 1}, \"colorscale\": {\"diverging\": [[0, \"#8e0152\"], [0.1, \"#c51b7d\"], [0.2, \"#de77ae\"], [0.3, \"#f1b6da\"], [0.4, \"#fde0ef\"], [0.5, \"#f7f7f7\"], [0.6, \"#e6f5d0\"], [0.7, \"#b8e186\"], [0.8, \"#7fbc41\"], [0.9, \"#4d9221\"], [1, \"#276419\"]], \"sequential\": [[0.0, \"#0d0887\"], [0.1111111111111111, \"#46039f\"], [0.2222222222222222, \"#7201a8\"], [0.3333333333333333, \"#9c179e\"], [0.4444444444444444, \"#bd3786\"], [0.5555555555555556, \"#d8576b\"], [0.6666666666666666, \"#ed7953\"], [0.7777777777777778, \"#fb9f3a\"], [0.8888888888888888, \"#fdca26\"], [1.0, \"#f0f921\"]], \"sequentialminus\": [[0.0, \"#0d0887\"], [0.1111111111111111, \"#46039f\"], [0.2222222222222222, \"#7201a8\"], [0.3333333333333333, \"#9c179e\"], [0.4444444444444444, \"#bd3786\"], [0.5555555555555556, \"#d8576b\"], [0.6666666666666666, \"#ed7953\"], [0.7777777777777778, \"#fb9f3a\"], [0.8888888888888888, \"#fdca26\"], [1.0, \"#f0f921\"]]}, \"colorway\": [\"#636efa\", \"#EF553B\", \"#00cc96\", \"#ab63fa\", \"#FFA15A\", \"#19d3f3\", \"#FF6692\", \"#B6E880\", \"#FF97FF\", \"#FECB52\"], \"font\": {\"color\": \"#2a3f5f\"}, \"geo\": {\"bgcolor\": \"white\", \"lakecolor\": \"white\", \"landcolor\": \"#E5ECF6\", \"showlakes\": true, \"showland\": true, \"subunitcolor\": \"white\"}, \"hoverlabel\": {\"align\": \"left\"}, \"hovermode\": \"closest\", \"mapbox\": {\"style\": \"light\"}, \"paper_bgcolor\": \"white\", \"plot_bgcolor\": \"#E5ECF6\", \"polar\": {\"angularaxis\": {\"gridcolor\": \"white\", \"linecolor\": \"white\", \"ticks\": \"\"}, \"bgcolor\": \"#E5ECF6\", \"radialaxis\": {\"gridcolor\": \"white\", \"linecolor\": \"white\", \"ticks\": \"\"}}, \"scene\": {\"xaxis\": {\"backgroundcolor\": \"#E5ECF6\", \"gridcolor\": \"white\", \"gridwidth\": 2, \"linecolor\": \"white\", \"showbackground\": true, \"ticks\": \"\", \"zerolinecolor\": \"white\"}, \"yaxis\": {\"backgroundcolor\": \"#E5ECF6\", \"gridcolor\": \"white\", \"gridwidth\": 2, \"linecolor\": \"white\", \"showbackground\": true, \"ticks\": \"\", \"zerolinecolor\": \"white\"}, \"zaxis\": {\"backgroundcolor\": \"#E5ECF6\", \"gridcolor\": \"white\", \"gridwidth\": 2, \"linecolor\": \"white\", \"showbackground\": true, \"ticks\": \"\", \"zerolinecolor\": \"white\"}}, \"shapedefaults\": {\"line\": {\"color\": \"#2a3f5f\"}}, \"ternary\": {\"aaxis\": {\"gridcolor\": \"white\", \"linecolor\": \"white\", \"ticks\": \"\"}, \"baxis\": {\"gridcolor\": \"white\", \"linecolor\": \"white\", \"ticks\": \"\"}, \"bgcolor\": \"#E5ECF6\", \"caxis\": {\"gridcolor\": \"white\", \"linecolor\": \"white\", \"ticks\": \"\"}}, \"title\": {\"x\": 0.05}, \"xaxis\": {\"automargin\": true, \"gridcolor\": \"white\", \"linecolor\": \"white\", \"ticks\": \"\", \"zerolinecolor\": \"white\", \"zerolinewidth\": 2}, \"yaxis\": {\"automargin\": true, \"gridcolor\": \"white\", \"linecolor\": \"white\", \"ticks\": \"\", \"zerolinecolor\": \"white\", \"zerolinewidth\": 2}}}, \"width\": 1000, \"xaxis\": {\"anchor\": \"y\", \"domain\": [0.0, 0.98], \"title\": {\"text\": \"Year\"}}, \"yaxis\": {\"anchor\": \"x\", \"domain\": [0.0, 1.0], \"title\": {\"text\": \"Stock Mass [tons]\"}}},\n",
       "                        {\"responsive\": true}\n",
       "                    ).then(function(){\n",
       "                            \n",
       "var gd = document.getElementById('6322cccd-7f40-4169-aa94-065b80d50fd3');\n",
       "var x = new MutationObserver(function (mutations, observer) {{\n",
       "        var display = window.getComputedStyle(gd).display;\n",
       "        if (!display || display === 'none') {{\n",
       "            console.log([gd, 'removed!']);\n",
       "            Plotly.purge(gd);\n",
       "            observer.disconnect();\n",
       "        }}\n",
       "}});\n",
       "\n",
       "// Listen for the removal of the full notebook cells\n",
       "var notebookContainer = gd.closest('#notebook-container');\n",
       "if (notebookContainer) {{\n",
       "    x.observe(notebookContainer, {childList: true});\n",
       "}}\n",
       "\n",
       "// Listen for the clearing of the current output cell\n",
       "var outputEl = gd.closest('.output');\n",
       "if (outputEl) {{\n",
       "    x.observe(outputEl, {childList: true});\n",
       "}}\n",
       "\n",
       "                        })\n",
       "                };\n",
       "                });\n",
       "            </script>\n",
       "        </div>"
      ]
     },
     "metadata": {},
     "output_type": "display_data"
    }
   ],
   "source": [
    "### include and exclude are kinda mutually exclusive, be sane.\n",
    "stocks.PlotMass1Dim(mat, \n",
    "                    Dim=['Class'], \n",
    "                    materials = dict(include = ['All'], exclude = [None]),\n",
    "                    matgroup = dict(include = ['All'], exclude = [None]),\n",
    "                    vehicles = dict(include = ['All'], exclude = [None]),\n",
    "                    classes = dict(include = ['All'], exclude = [None]),\n",
    "                    domain = dict(include = ['All'], exclude = [None]),\n",
    "                    category_orders={'Class':['Inlandvessels','Seavessels','Cars','Utilitycars','Bicycles','Transit','Aircraft'][::-1]},\n",
    "                    ylabel='Stock Mass [tons]',\n",
    "                    w=1000,\n",
    "                    h=400,\n",
    "                    )"
   ]
  },
  {
   "cell_type": "code",
   "execution_count": 21,
   "metadata": {
    "scrolled": false
   },
   "outputs": [
    {
     "data": {
      "application/vnd.plotly.v1+json": {
       "config": {
        "plotlyServerURL": "https://plot.ly"
       },
       "data": [
        {
         "alignmentgroup": "True",
         "hoverlabel": {
          "namelength": 0
         },
         "hovertemplate": "Vehicle=moped<br>Year=%{x}<br>Mass=%{y}",
         "legendgroup": "Vehicle=moped",
         "marker": {
          "color": "#636efa"
         },
         "name": "moped",
         "offsetgroup": "Vehicle=moped",
         "orientation": "v",
         "showlegend": true,
         "textposition": "auto",
         "type": "bar",
         "x": [
          2007,
          2016,
          2015,
          2008,
          2014,
          2013,
          2009,
          2012,
          2011,
          2017,
          2010
         ],
         "xaxis": "x",
         "y": [
          0.091973581102,
          0.145251547063,
          0.142473172254,
          0.10151694263500001,
          0.140061366054,
          0.138178471547,
          0.112597247119,
          0.135590836895,
          0.13169045353500003,
          0.14831311460000002,
          0.12281241337900001
         ],
         "yaxis": "y"
        },
        {
         "alignmentgroup": "True",
         "hoverlabel": {
          "namelength": 0
         },
         "hovertemplate": "Vehicle=motorbike<br>Year=%{x}<br>Mass=%{y}",
         "legendgroup": "Vehicle=motorbike",
         "marker": {
          "color": "#EF553B"
         },
         "name": "motorbike",
         "offsetgroup": "Vehicle=motorbike",
         "orientation": "v",
         "showlegend": true,
         "textposition": "auto",
         "type": "bar",
         "x": [
          2010,
          2007,
          2008,
          2009,
          2011,
          2012,
          2013,
          2014,
          2015,
          2016,
          2006,
          2005,
          2017,
          2003,
          2001,
          2000,
          2004,
          2002
         ],
         "xaxis": "x",
         "y": [
          0.16291797172118994,
          0.14808069168917998,
          0.15275064480417,
          0.15810962890710997,
          0.1663701364589599,
          0.16930438656199998,
          0.17103582223297994,
          0.17125102277285997,
          0.17093340993970996,
          0.17106983388707997,
          0.14403876642532,
          0.1397003860927,
          0.17205371207298997,
          0.12816512419248,
          0.11310692400921997,
          0.10674366639794,
          0.13416529475371,
          0.11927203229112002
         ],
         "yaxis": "y"
        },
        {
         "alignmentgroup": "True",
         "hoverlabel": {
          "namelength": 0
         },
         "hovertemplate": "Vehicle=emoped<br>Year=%{x}<br>Mass=%{y}",
         "legendgroup": "Vehicle=emoped",
         "marker": {
          "color": "#00cc96"
         },
         "name": "emoped",
         "offsetgroup": "Vehicle=emoped",
         "orientation": "v",
         "showlegend": true,
         "textposition": "auto",
         "type": "bar",
         "x": [
          2010,
          2009,
          2008,
          2014,
          2015,
          2007,
          2011,
          2016,
          2017,
          2013,
          2012
         ],
         "xaxis": "x",
         "y": [
          0.5692335130031,
          0.366572025246625,
          0.232838042509325,
          1.4500698645113999,
          1.7303661891650748,
          0.16523990113565,
          0.8302540647970248,
          2.0368509776351003,
          2.2931522884875,
          1.30290930895455,
          1.062892702759525
         ],
         "yaxis": "y"
        },
        {
         "alignmentgroup": "True",
         "hoverlabel": {
          "namelength": 0
         },
         "hovertemplate": "Vehicle=A330<br>Year=%{x}<br>Mass=%{y}",
         "legendgroup": "Vehicle=A330",
         "marker": {
          "color": "#ab63fa"
         },
         "name": "A330",
         "offsetgroup": "Vehicle=A330",
         "orientation": "v",
         "showlegend": true,
         "textposition": "auto",
         "type": "bar",
         "x": [
          2003,
          2012,
          2006,
          2002,
          2011,
          2015,
          2001,
          2016,
          2017,
          2013,
          2014,
          2000,
          2008,
          2005,
          2010,
          2004,
          2007,
          2009
         ],
         "xaxis": "x",
         "y": [
          35.0533369284,
          30.967365139200005,
          30.967365139200005,
          31.397467432800006,
          31.182416286000002,
          29.999634978600007,
          31.612518579600007,
          30.644788419000008,
          31.504993006200003,
          31.28994185940001,
          30.752313992400005,
          30.644788419000008,
          31.720044153000007,
          31.289941859400002,
          32.47272316680001,
          33.9780811944,
          31.612518579600003,
          33.65550447420001
         ],
         "yaxis": "y"
        },
        {
         "alignmentgroup": "True",
         "hoverlabel": {
          "namelength": 0
         },
         "hovertemplate": "Vehicle=icev<br>Year=%{x}<br>Mass=%{y}",
         "legendgroup": "Vehicle=icev",
         "marker": {
          "color": "#FFA15A"
         },
         "name": "icev",
         "offsetgroup": "Vehicle=icev",
         "orientation": "v",
         "showlegend": true,
         "textposition": "auto",
         "type": "bar",
         "x": [
          2007,
          2015,
          2008,
          2013,
          2004,
          2002,
          2014,
          2005,
          2012,
          2001,
          2000,
          2006,
          2010,
          2003,
          2009,
          2011,
          2016,
          2017
         ],
         "xaxis": "x",
         "y": [
          1344.3461781851324,
          1428.9183132350493,
          1373.043249962982,
          1440.9582309154189,
          1287.1791607015225,
          1250.2477906218382,
          1429.3233764678002,
          1302.4450511564314,
          1437.817779770978,
          1218.3538122443845,
          1181.8612296132412,
          1320.5883066082906,
          1405.3879403735655,
          1277.128412787872,
          1396.5324457433078,
          1420.2960932908104,
          1431.190319242484,
          1441.765189913139
         ],
         "yaxis": "y"
        },
        {
         "alignmentgroup": "True",
         "hoverlabel": {
          "namelength": 0
         },
         "hovertemplate": "Vehicle=ebicycle<br>Year=%{x}<br>Mass=%{y}",
         "legendgroup": "Vehicle=ebicycle",
         "marker": {
          "color": "#19d3f3"
         },
         "name": "ebicycle",
         "offsetgroup": "Vehicle=ebicycle",
         "orientation": "v",
         "showlegend": true,
         "textposition": "auto",
         "type": "bar",
         "x": [
          2015,
          2014,
          2012,
          2013,
          2016,
          2017
         ],
         "xaxis": "x",
         "y": [
          1136.2,
          1048.8000000000002,
          699.2,
          874,
          1223.6,
          1573.2
         ],
         "yaxis": "y"
        },
        {
         "alignmentgroup": "True",
         "hoverlabel": {
          "namelength": 0
         },
         "hovertemplate": "Vehicle=hev<br>Year=%{x}<br>Mass=%{y}",
         "legendgroup": "Vehicle=hev",
         "marker": {
          "color": "#FF6692"
         },
         "name": "hev",
         "offsetgroup": "Vehicle=hev",
         "orientation": "v",
         "showlegend": true,
         "textposition": "auto",
         "type": "bar",
         "x": [
          2015,
          2007,
          2016,
          2017,
          2010,
          2014,
          2011,
          2009,
          2013,
          2008,
          2012
         ],
         "xaxis": "x",
         "y": [
          1448.4352570944748,
          68.7031251125565,
          1964.7852669215263,
          2251.886666307309,
          375.73755108087903,
          1234.982629982766,
          535.013716320609,
          222.516512784147,
          857.4586284062821,
          107.168224994241,
          674.281636009563
         ],
         "yaxis": "y"
        },
        {
         "alignmentgroup": "True",
         "hoverlabel": {
          "namelength": 0
         },
         "hovertemplate": "Vehicle=ev<br>Year=%{x}<br>Mass=%{y}",
         "legendgroup": "Vehicle=ev",
         "marker": {
          "color": "#B6E880"
         },
         "name": "ev",
         "offsetgroup": "Vehicle=ev",
         "orientation": "v",
         "showlegend": true,
         "textposition": "auto",
         "type": "bar",
         "x": [
          2015,
          2003,
          2011,
          2017,
          2006,
          2014,
          2010,
          2000,
          2009,
          2012,
          2002,
          2001,
          2005,
          2004,
          2013,
          2007,
          2008,
          2016
         ],
         "xaxis": "x",
         "y": [
          43573.47237506114,
          144.743800037718,
          15599.357878196226,
          68579.22125841121,
          1288.722791069412,
          36234.29108550387,
          11061.164719098582,
          11.177127416040001,
          6534.986971973187,
          19599.09292402614,
          121.83068883483601,
          16.206834753258,
          466.36564143426904,
          144.743800037718,
          25344.974700426905,
          2146.00846387968,
          3156.1413541042953,
          58850.09069911921
         ],
         "yaxis": "y"
        }
       ],
       "layout": {
        "bargap": 0,
        "barmode": "relative",
        "font": {
         "family": "Lato, sans serif",
         "size": 11
        },
        "height": 400,
        "legend": {
         "tracegroupgap": 0,
         "traceorder": "reversed",
         "y": 0.5
        },
        "margin": {
         "b": 30,
         "l": 50,
         "pad": 1,
         "r": 0,
         "t": 0
        },
        "template": {
         "data": {
          "bar": [
           {
            "error_x": {
             "color": "#2a3f5f"
            },
            "error_y": {
             "color": "#2a3f5f"
            },
            "marker": {
             "line": {
              "color": "#E5ECF6",
              "width": 0.5
             }
            },
            "type": "bar"
           }
          ],
          "barpolar": [
           {
            "marker": {
             "line": {
              "color": "#E5ECF6",
              "width": 0.5
             }
            },
            "type": "barpolar"
           }
          ],
          "carpet": [
           {
            "aaxis": {
             "endlinecolor": "#2a3f5f",
             "gridcolor": "white",
             "linecolor": "white",
             "minorgridcolor": "white",
             "startlinecolor": "#2a3f5f"
            },
            "baxis": {
             "endlinecolor": "#2a3f5f",
             "gridcolor": "white",
             "linecolor": "white",
             "minorgridcolor": "white",
             "startlinecolor": "#2a3f5f"
            },
            "type": "carpet"
           }
          ],
          "choropleth": [
           {
            "colorbar": {
             "outlinewidth": 0,
             "ticks": ""
            },
            "type": "choropleth"
           }
          ],
          "contour": [
           {
            "colorbar": {
             "outlinewidth": 0,
             "ticks": ""
            },
            "colorscale": [
             [
              0,
              "#0d0887"
             ],
             [
              0.1111111111111111,
              "#46039f"
             ],
             [
              0.2222222222222222,
              "#7201a8"
             ],
             [
              0.3333333333333333,
              "#9c179e"
             ],
             [
              0.4444444444444444,
              "#bd3786"
             ],
             [
              0.5555555555555556,
              "#d8576b"
             ],
             [
              0.6666666666666666,
              "#ed7953"
             ],
             [
              0.7777777777777778,
              "#fb9f3a"
             ],
             [
              0.8888888888888888,
              "#fdca26"
             ],
             [
              1,
              "#f0f921"
             ]
            ],
            "type": "contour"
           }
          ],
          "contourcarpet": [
           {
            "colorbar": {
             "outlinewidth": 0,
             "ticks": ""
            },
            "type": "contourcarpet"
           }
          ],
          "heatmap": [
           {
            "colorbar": {
             "outlinewidth": 0,
             "ticks": ""
            },
            "colorscale": [
             [
              0,
              "#0d0887"
             ],
             [
              0.1111111111111111,
              "#46039f"
             ],
             [
              0.2222222222222222,
              "#7201a8"
             ],
             [
              0.3333333333333333,
              "#9c179e"
             ],
             [
              0.4444444444444444,
              "#bd3786"
             ],
             [
              0.5555555555555556,
              "#d8576b"
             ],
             [
              0.6666666666666666,
              "#ed7953"
             ],
             [
              0.7777777777777778,
              "#fb9f3a"
             ],
             [
              0.8888888888888888,
              "#fdca26"
             ],
             [
              1,
              "#f0f921"
             ]
            ],
            "type": "heatmap"
           }
          ],
          "heatmapgl": [
           {
            "colorbar": {
             "outlinewidth": 0,
             "ticks": ""
            },
            "colorscale": [
             [
              0,
              "#0d0887"
             ],
             [
              0.1111111111111111,
              "#46039f"
             ],
             [
              0.2222222222222222,
              "#7201a8"
             ],
             [
              0.3333333333333333,
              "#9c179e"
             ],
             [
              0.4444444444444444,
              "#bd3786"
             ],
             [
              0.5555555555555556,
              "#d8576b"
             ],
             [
              0.6666666666666666,
              "#ed7953"
             ],
             [
              0.7777777777777778,
              "#fb9f3a"
             ],
             [
              0.8888888888888888,
              "#fdca26"
             ],
             [
              1,
              "#f0f921"
             ]
            ],
            "type": "heatmapgl"
           }
          ],
          "histogram": [
           {
            "marker": {
             "colorbar": {
              "outlinewidth": 0,
              "ticks": ""
             }
            },
            "type": "histogram"
           }
          ],
          "histogram2d": [
           {
            "colorbar": {
             "outlinewidth": 0,
             "ticks": ""
            },
            "colorscale": [
             [
              0,
              "#0d0887"
             ],
             [
              0.1111111111111111,
              "#46039f"
             ],
             [
              0.2222222222222222,
              "#7201a8"
             ],
             [
              0.3333333333333333,
              "#9c179e"
             ],
             [
              0.4444444444444444,
              "#bd3786"
             ],
             [
              0.5555555555555556,
              "#d8576b"
             ],
             [
              0.6666666666666666,
              "#ed7953"
             ],
             [
              0.7777777777777778,
              "#fb9f3a"
             ],
             [
              0.8888888888888888,
              "#fdca26"
             ],
             [
              1,
              "#f0f921"
             ]
            ],
            "type": "histogram2d"
           }
          ],
          "histogram2dcontour": [
           {
            "colorbar": {
             "outlinewidth": 0,
             "ticks": ""
            },
            "colorscale": [
             [
              0,
              "#0d0887"
             ],
             [
              0.1111111111111111,
              "#46039f"
             ],
             [
              0.2222222222222222,
              "#7201a8"
             ],
             [
              0.3333333333333333,
              "#9c179e"
             ],
             [
              0.4444444444444444,
              "#bd3786"
             ],
             [
              0.5555555555555556,
              "#d8576b"
             ],
             [
              0.6666666666666666,
              "#ed7953"
             ],
             [
              0.7777777777777778,
              "#fb9f3a"
             ],
             [
              0.8888888888888888,
              "#fdca26"
             ],
             [
              1,
              "#f0f921"
             ]
            ],
            "type": "histogram2dcontour"
           }
          ],
          "mesh3d": [
           {
            "colorbar": {
             "outlinewidth": 0,
             "ticks": ""
            },
            "type": "mesh3d"
           }
          ],
          "parcoords": [
           {
            "line": {
             "colorbar": {
              "outlinewidth": 0,
              "ticks": ""
             }
            },
            "type": "parcoords"
           }
          ],
          "scatter": [
           {
            "marker": {
             "colorbar": {
              "outlinewidth": 0,
              "ticks": ""
             }
            },
            "type": "scatter"
           }
          ],
          "scatter3d": [
           {
            "line": {
             "colorbar": {
              "outlinewidth": 0,
              "ticks": ""
             }
            },
            "marker": {
             "colorbar": {
              "outlinewidth": 0,
              "ticks": ""
             }
            },
            "type": "scatter3d"
           }
          ],
          "scattercarpet": [
           {
            "marker": {
             "colorbar": {
              "outlinewidth": 0,
              "ticks": ""
             }
            },
            "type": "scattercarpet"
           }
          ],
          "scattergeo": [
           {
            "marker": {
             "colorbar": {
              "outlinewidth": 0,
              "ticks": ""
             }
            },
            "type": "scattergeo"
           }
          ],
          "scattergl": [
           {
            "marker": {
             "colorbar": {
              "outlinewidth": 0,
              "ticks": ""
             }
            },
            "type": "scattergl"
           }
          ],
          "scattermapbox": [
           {
            "marker": {
             "colorbar": {
              "outlinewidth": 0,
              "ticks": ""
             }
            },
            "type": "scattermapbox"
           }
          ],
          "scatterpolar": [
           {
            "marker": {
             "colorbar": {
              "outlinewidth": 0,
              "ticks": ""
             }
            },
            "type": "scatterpolar"
           }
          ],
          "scatterpolargl": [
           {
            "marker": {
             "colorbar": {
              "outlinewidth": 0,
              "ticks": ""
             }
            },
            "type": "scatterpolargl"
           }
          ],
          "scatterternary": [
           {
            "marker": {
             "colorbar": {
              "outlinewidth": 0,
              "ticks": ""
             }
            },
            "type": "scatterternary"
           }
          ],
          "surface": [
           {
            "colorbar": {
             "outlinewidth": 0,
             "ticks": ""
            },
            "colorscale": [
             [
              0,
              "#0d0887"
             ],
             [
              0.1111111111111111,
              "#46039f"
             ],
             [
              0.2222222222222222,
              "#7201a8"
             ],
             [
              0.3333333333333333,
              "#9c179e"
             ],
             [
              0.4444444444444444,
              "#bd3786"
             ],
             [
              0.5555555555555556,
              "#d8576b"
             ],
             [
              0.6666666666666666,
              "#ed7953"
             ],
             [
              0.7777777777777778,
              "#fb9f3a"
             ],
             [
              0.8888888888888888,
              "#fdca26"
             ],
             [
              1,
              "#f0f921"
             ]
            ],
            "type": "surface"
           }
          ],
          "table": [
           {
            "cells": {
             "fill": {
              "color": "#EBF0F8"
             },
             "line": {
              "color": "white"
             }
            },
            "header": {
             "fill": {
              "color": "#C8D4E3"
             },
             "line": {
              "color": "white"
             }
            },
            "type": "table"
           }
          ]
         },
         "layout": {
          "annotationdefaults": {
           "arrowcolor": "#2a3f5f",
           "arrowhead": 0,
           "arrowwidth": 1
          },
          "colorscale": {
           "diverging": [
            [
             0,
             "#8e0152"
            ],
            [
             0.1,
             "#c51b7d"
            ],
            [
             0.2,
             "#de77ae"
            ],
            [
             0.3,
             "#f1b6da"
            ],
            [
             0.4,
             "#fde0ef"
            ],
            [
             0.5,
             "#f7f7f7"
            ],
            [
             0.6,
             "#e6f5d0"
            ],
            [
             0.7,
             "#b8e186"
            ],
            [
             0.8,
             "#7fbc41"
            ],
            [
             0.9,
             "#4d9221"
            ],
            [
             1,
             "#276419"
            ]
           ],
           "sequential": [
            [
             0,
             "#0d0887"
            ],
            [
             0.1111111111111111,
             "#46039f"
            ],
            [
             0.2222222222222222,
             "#7201a8"
            ],
            [
             0.3333333333333333,
             "#9c179e"
            ],
            [
             0.4444444444444444,
             "#bd3786"
            ],
            [
             0.5555555555555556,
             "#d8576b"
            ],
            [
             0.6666666666666666,
             "#ed7953"
            ],
            [
             0.7777777777777778,
             "#fb9f3a"
            ],
            [
             0.8888888888888888,
             "#fdca26"
            ],
            [
             1,
             "#f0f921"
            ]
           ],
           "sequentialminus": [
            [
             0,
             "#0d0887"
            ],
            [
             0.1111111111111111,
             "#46039f"
            ],
            [
             0.2222222222222222,
             "#7201a8"
            ],
            [
             0.3333333333333333,
             "#9c179e"
            ],
            [
             0.4444444444444444,
             "#bd3786"
            ],
            [
             0.5555555555555556,
             "#d8576b"
            ],
            [
             0.6666666666666666,
             "#ed7953"
            ],
            [
             0.7777777777777778,
             "#fb9f3a"
            ],
            [
             0.8888888888888888,
             "#fdca26"
            ],
            [
             1,
             "#f0f921"
            ]
           ]
          },
          "colorway": [
           "#636efa",
           "#EF553B",
           "#00cc96",
           "#ab63fa",
           "#FFA15A",
           "#19d3f3",
           "#FF6692",
           "#B6E880",
           "#FF97FF",
           "#FECB52"
          ],
          "font": {
           "color": "#2a3f5f"
          },
          "geo": {
           "bgcolor": "white",
           "lakecolor": "white",
           "landcolor": "#E5ECF6",
           "showlakes": true,
           "showland": true,
           "subunitcolor": "white"
          },
          "hoverlabel": {
           "align": "left"
          },
          "hovermode": "closest",
          "mapbox": {
           "style": "light"
          },
          "paper_bgcolor": "white",
          "plot_bgcolor": "#E5ECF6",
          "polar": {
           "angularaxis": {
            "gridcolor": "white",
            "linecolor": "white",
            "ticks": ""
           },
           "bgcolor": "#E5ECF6",
           "radialaxis": {
            "gridcolor": "white",
            "linecolor": "white",
            "ticks": ""
           }
          },
          "scene": {
           "xaxis": {
            "backgroundcolor": "#E5ECF6",
            "gridcolor": "white",
            "gridwidth": 2,
            "linecolor": "white",
            "showbackground": true,
            "ticks": "",
            "zerolinecolor": "white"
           },
           "yaxis": {
            "backgroundcolor": "#E5ECF6",
            "gridcolor": "white",
            "gridwidth": 2,
            "linecolor": "white",
            "showbackground": true,
            "ticks": "",
            "zerolinecolor": "white"
           },
           "zaxis": {
            "backgroundcolor": "#E5ECF6",
            "gridcolor": "white",
            "gridwidth": 2,
            "linecolor": "white",
            "showbackground": true,
            "ticks": "",
            "zerolinecolor": "white"
           }
          },
          "shapedefaults": {
           "line": {
            "color": "#2a3f5f"
           }
          },
          "ternary": {
           "aaxis": {
            "gridcolor": "white",
            "linecolor": "white",
            "ticks": ""
           },
           "baxis": {
            "gridcolor": "white",
            "linecolor": "white",
            "ticks": ""
           },
           "bgcolor": "#E5ECF6",
           "caxis": {
            "gridcolor": "white",
            "linecolor": "white",
            "ticks": ""
           }
          },
          "title": {
           "x": 0.05
          },
          "xaxis": {
           "automargin": true,
           "gridcolor": "white",
           "linecolor": "white",
           "ticks": "",
           "zerolinecolor": "white",
           "zerolinewidth": 2
          },
          "yaxis": {
           "automargin": true,
           "gridcolor": "white",
           "linecolor": "white",
           "ticks": "",
           "zerolinecolor": "white",
           "zerolinewidth": 2
          }
         }
        },
        "width": 1000,
        "xaxis": {
         "anchor": "y",
         "domain": [
          0,
          0.98
         ],
         "title": {
          "text": "Year"
         }
        },
        "yaxis": {
         "anchor": "x",
         "domain": [
          0,
          1
         ],
         "title": {
          "text": "Stock Mass [tons]"
         }
        }
       }
      },
      "text/html": [
       "<div>\n",
       "        \n",
       "        \n",
       "            <div id=\"3f186463-6e41-45bb-92cc-eee74825ea5d\" class=\"plotly-graph-div\" style=\"height:400px; width:1000px;\"></div>\n",
       "            <script type=\"text/javascript\">\n",
       "                require([\"plotly\"], function(Plotly) {\n",
       "                    window.PLOTLYENV=window.PLOTLYENV || {};\n",
       "                    \n",
       "                if (document.getElementById(\"3f186463-6e41-45bb-92cc-eee74825ea5d\")) {\n",
       "                    Plotly.newPlot(\n",
       "                        '3f186463-6e41-45bb-92cc-eee74825ea5d',\n",
       "                        [{\"alignmentgroup\": \"True\", \"hoverlabel\": {\"namelength\": 0}, \"hovertemplate\": \"Vehicle=moped<br>Year=%{x}<br>Mass=%{y}\", \"legendgroup\": \"Vehicle=moped\", \"marker\": {\"color\": \"#636efa\"}, \"name\": \"moped\", \"offsetgroup\": \"Vehicle=moped\", \"orientation\": \"v\", \"showlegend\": true, \"textposition\": \"auto\", \"type\": \"bar\", \"x\": [2007.0, 2016.0, 2015.0, 2008.0, 2014.0, 2013.0, 2009.0, 2012.0, 2011.0, 2017.0, 2010.0], \"xaxis\": \"x\", \"y\": [0.091973581102, 0.145251547063, 0.142473172254, 0.10151694263500001, 0.140061366054, 0.138178471547, 0.112597247119, 0.135590836895, 0.13169045353500003, 0.14831311460000002, 0.12281241337900001], \"yaxis\": \"y\"}, {\"alignmentgroup\": \"True\", \"hoverlabel\": {\"namelength\": 0}, \"hovertemplate\": \"Vehicle=motorbike<br>Year=%{x}<br>Mass=%{y}\", \"legendgroup\": \"Vehicle=motorbike\", \"marker\": {\"color\": \"#EF553B\"}, \"name\": \"motorbike\", \"offsetgroup\": \"Vehicle=motorbike\", \"orientation\": \"v\", \"showlegend\": true, \"textposition\": \"auto\", \"type\": \"bar\", \"x\": [2010.0, 2007.0, 2008.0, 2009.0, 2011.0, 2012.0, 2013.0, 2014.0, 2015.0, 2016.0, 2006.0, 2005.0, 2017.0, 2003.0, 2001.0, 2000.0, 2004.0, 2002.0], \"xaxis\": \"x\", \"y\": [0.16291797172118994, 0.14808069168917998, 0.15275064480417, 0.15810962890710997, 0.1663701364589599, 0.16930438656199998, 0.17103582223297994, 0.17125102277285997, 0.17093340993970996, 0.17106983388707997, 0.14403876642532, 0.1397003860927, 0.17205371207298997, 0.12816512419248, 0.11310692400921997, 0.10674366639794, 0.13416529475371, 0.11927203229112002], \"yaxis\": \"y\"}, {\"alignmentgroup\": \"True\", \"hoverlabel\": {\"namelength\": 0}, \"hovertemplate\": \"Vehicle=emoped<br>Year=%{x}<br>Mass=%{y}\", \"legendgroup\": \"Vehicle=emoped\", \"marker\": {\"color\": \"#00cc96\"}, \"name\": \"emoped\", \"offsetgroup\": \"Vehicle=emoped\", \"orientation\": \"v\", \"showlegend\": true, \"textposition\": \"auto\", \"type\": \"bar\", \"x\": [2010.0, 2009.0, 2008.0, 2014.0, 2015.0, 2007.0, 2011.0, 2016.0, 2017.0, 2013.0, 2012.0], \"xaxis\": \"x\", \"y\": [0.5692335130031, 0.366572025246625, 0.232838042509325, 1.4500698645113999, 1.7303661891650748, 0.16523990113565, 0.8302540647970248, 2.0368509776351003, 2.2931522884875, 1.30290930895455, 1.062892702759525], \"yaxis\": \"y\"}, {\"alignmentgroup\": \"True\", \"hoverlabel\": {\"namelength\": 0}, \"hovertemplate\": \"Vehicle=A330<br>Year=%{x}<br>Mass=%{y}\", \"legendgroup\": \"Vehicle=A330\", \"marker\": {\"color\": \"#ab63fa\"}, \"name\": \"A330\", \"offsetgroup\": \"Vehicle=A330\", \"orientation\": \"v\", \"showlegend\": true, \"textposition\": \"auto\", \"type\": \"bar\", \"x\": [2003.0, 2012.0, 2006.0, 2002.0, 2011.0, 2015.0, 2001.0, 2016.0, 2017.0, 2013.0, 2014.0, 2000.0, 2008.0, 2005.0, 2010.0, 2004.0, 2007.0, 2009.0], \"xaxis\": \"x\", \"y\": [35.0533369284, 30.967365139200005, 30.967365139200005, 31.397467432800006, 31.182416286000002, 29.999634978600007, 31.612518579600007, 30.644788419000008, 31.504993006200003, 31.28994185940001, 30.752313992400005, 30.644788419000008, 31.720044153000007, 31.289941859400002, 32.47272316680001, 33.9780811944, 31.612518579600003, 33.65550447420001], \"yaxis\": \"y\"}, {\"alignmentgroup\": \"True\", \"hoverlabel\": {\"namelength\": 0}, \"hovertemplate\": \"Vehicle=icev<br>Year=%{x}<br>Mass=%{y}\", \"legendgroup\": \"Vehicle=icev\", \"marker\": {\"color\": \"#FFA15A\"}, \"name\": \"icev\", \"offsetgroup\": \"Vehicle=icev\", \"orientation\": \"v\", \"showlegend\": true, \"textposition\": \"auto\", \"type\": \"bar\", \"x\": [2007.0, 2015.0, 2008.0, 2013.0, 2004.0, 2002.0, 2014.0, 2005.0, 2012.0, 2001.0, 2000.0, 2006.0, 2010.0, 2003.0, 2009.0, 2011.0, 2016.0, 2017.0], \"xaxis\": \"x\", \"y\": [1344.3461781851324, 1428.9183132350493, 1373.043249962982, 1440.9582309154189, 1287.1791607015225, 1250.2477906218382, 1429.3233764678002, 1302.4450511564314, 1437.817779770978, 1218.3538122443845, 1181.8612296132412, 1320.5883066082906, 1405.3879403735655, 1277.128412787872, 1396.5324457433078, 1420.2960932908104, 1431.190319242484, 1441.765189913139], \"yaxis\": \"y\"}, {\"alignmentgroup\": \"True\", \"hoverlabel\": {\"namelength\": 0}, \"hovertemplate\": \"Vehicle=ebicycle<br>Year=%{x}<br>Mass=%{y}\", \"legendgroup\": \"Vehicle=ebicycle\", \"marker\": {\"color\": \"#19d3f3\"}, \"name\": \"ebicycle\", \"offsetgroup\": \"Vehicle=ebicycle\", \"orientation\": \"v\", \"showlegend\": true, \"textposition\": \"auto\", \"type\": \"bar\", \"x\": [2015.0, 2014.0, 2012.0, 2013.0, 2016.0, 2017.0], \"xaxis\": \"x\", \"y\": [1136.2, 1048.8000000000002, 699.2, 874.0, 1223.6, 1573.2], \"yaxis\": \"y\"}, {\"alignmentgroup\": \"True\", \"hoverlabel\": {\"namelength\": 0}, \"hovertemplate\": \"Vehicle=hev<br>Year=%{x}<br>Mass=%{y}\", \"legendgroup\": \"Vehicle=hev\", \"marker\": {\"color\": \"#FF6692\"}, \"name\": \"hev\", \"offsetgroup\": \"Vehicle=hev\", \"orientation\": \"v\", \"showlegend\": true, \"textposition\": \"auto\", \"type\": \"bar\", \"x\": [2015.0, 2007.0, 2016.0, 2017.0, 2010.0, 2014.0, 2011.0, 2009.0, 2013.0, 2008.0, 2012.0], \"xaxis\": \"x\", \"y\": [1448.4352570944748, 68.7031251125565, 1964.7852669215263, 2251.886666307309, 375.73755108087903, 1234.982629982766, 535.013716320609, 222.516512784147, 857.4586284062821, 107.168224994241, 674.281636009563], \"yaxis\": \"y\"}, {\"alignmentgroup\": \"True\", \"hoverlabel\": {\"namelength\": 0}, \"hovertemplate\": \"Vehicle=ev<br>Year=%{x}<br>Mass=%{y}\", \"legendgroup\": \"Vehicle=ev\", \"marker\": {\"color\": \"#B6E880\"}, \"name\": \"ev\", \"offsetgroup\": \"Vehicle=ev\", \"orientation\": \"v\", \"showlegend\": true, \"textposition\": \"auto\", \"type\": \"bar\", \"x\": [2015.0, 2003.0, 2011.0, 2017.0, 2006.0, 2014.0, 2010.0, 2000.0, 2009.0, 2012.0, 2002.0, 2001.0, 2005.0, 2004.0, 2013.0, 2007.0, 2008.0, 2016.0], \"xaxis\": \"x\", \"y\": [43573.47237506114, 144.743800037718, 15599.357878196226, 68579.22125841121, 1288.722791069412, 36234.29108550387, 11061.164719098582, 11.177127416040001, 6534.986971973187, 19599.09292402614, 121.83068883483601, 16.206834753258, 466.36564143426904, 144.743800037718, 25344.974700426905, 2146.00846387968, 3156.1413541042953, 58850.09069911921], \"yaxis\": \"y\"}],\n",
       "                        {\"bargap\": 0, \"barmode\": \"relative\", \"font\": {\"family\": \"Lato, sans serif\", \"size\": 11}, \"height\": 400, \"legend\": {\"tracegroupgap\": 0, \"traceorder\": \"reversed\", \"y\": 0.5}, \"margin\": {\"b\": 30, \"l\": 50, \"pad\": 1, \"r\": 0, \"t\": 0}, \"template\": {\"data\": {\"bar\": [{\"error_x\": {\"color\": \"#2a3f5f\"}, \"error_y\": {\"color\": \"#2a3f5f\"}, \"marker\": {\"line\": {\"color\": \"#E5ECF6\", \"width\": 0.5}}, \"type\": \"bar\"}], \"barpolar\": [{\"marker\": {\"line\": {\"color\": \"#E5ECF6\", \"width\": 0.5}}, \"type\": \"barpolar\"}], \"carpet\": [{\"aaxis\": {\"endlinecolor\": \"#2a3f5f\", \"gridcolor\": \"white\", \"linecolor\": \"white\", \"minorgridcolor\": \"white\", \"startlinecolor\": \"#2a3f5f\"}, \"baxis\": {\"endlinecolor\": \"#2a3f5f\", \"gridcolor\": \"white\", \"linecolor\": \"white\", \"minorgridcolor\": \"white\", \"startlinecolor\": \"#2a3f5f\"}, \"type\": \"carpet\"}], \"choropleth\": [{\"colorbar\": {\"outlinewidth\": 0, \"ticks\": \"\"}, \"type\": \"choropleth\"}], \"contour\": [{\"colorbar\": {\"outlinewidth\": 0, \"ticks\": \"\"}, \"colorscale\": [[0.0, \"#0d0887\"], [0.1111111111111111, \"#46039f\"], [0.2222222222222222, \"#7201a8\"], [0.3333333333333333, \"#9c179e\"], [0.4444444444444444, \"#bd3786\"], [0.5555555555555556, \"#d8576b\"], [0.6666666666666666, \"#ed7953\"], [0.7777777777777778, \"#fb9f3a\"], [0.8888888888888888, \"#fdca26\"], [1.0, \"#f0f921\"]], \"type\": \"contour\"}], \"contourcarpet\": [{\"colorbar\": {\"outlinewidth\": 0, \"ticks\": \"\"}, \"type\": \"contourcarpet\"}], \"heatmap\": [{\"colorbar\": {\"outlinewidth\": 0, \"ticks\": \"\"}, \"colorscale\": [[0.0, \"#0d0887\"], [0.1111111111111111, \"#46039f\"], [0.2222222222222222, \"#7201a8\"], [0.3333333333333333, \"#9c179e\"], [0.4444444444444444, \"#bd3786\"], [0.5555555555555556, \"#d8576b\"], [0.6666666666666666, \"#ed7953\"], [0.7777777777777778, \"#fb9f3a\"], [0.8888888888888888, \"#fdca26\"], [1.0, \"#f0f921\"]], \"type\": \"heatmap\"}], \"heatmapgl\": [{\"colorbar\": {\"outlinewidth\": 0, \"ticks\": \"\"}, \"colorscale\": [[0.0, \"#0d0887\"], [0.1111111111111111, \"#46039f\"], [0.2222222222222222, \"#7201a8\"], [0.3333333333333333, \"#9c179e\"], [0.4444444444444444, \"#bd3786\"], [0.5555555555555556, \"#d8576b\"], [0.6666666666666666, \"#ed7953\"], [0.7777777777777778, \"#fb9f3a\"], [0.8888888888888888, \"#fdca26\"], [1.0, \"#f0f921\"]], \"type\": \"heatmapgl\"}], \"histogram\": [{\"marker\": {\"colorbar\": {\"outlinewidth\": 0, \"ticks\": \"\"}}, \"type\": \"histogram\"}], \"histogram2d\": [{\"colorbar\": {\"outlinewidth\": 0, \"ticks\": \"\"}, \"colorscale\": [[0.0, \"#0d0887\"], [0.1111111111111111, \"#46039f\"], [0.2222222222222222, \"#7201a8\"], [0.3333333333333333, \"#9c179e\"], [0.4444444444444444, \"#bd3786\"], [0.5555555555555556, \"#d8576b\"], [0.6666666666666666, \"#ed7953\"], [0.7777777777777778, \"#fb9f3a\"], [0.8888888888888888, \"#fdca26\"], [1.0, \"#f0f921\"]], \"type\": \"histogram2d\"}], \"histogram2dcontour\": [{\"colorbar\": {\"outlinewidth\": 0, \"ticks\": \"\"}, \"colorscale\": [[0.0, \"#0d0887\"], [0.1111111111111111, \"#46039f\"], [0.2222222222222222, \"#7201a8\"], [0.3333333333333333, \"#9c179e\"], [0.4444444444444444, \"#bd3786\"], [0.5555555555555556, \"#d8576b\"], [0.6666666666666666, \"#ed7953\"], [0.7777777777777778, \"#fb9f3a\"], [0.8888888888888888, \"#fdca26\"], [1.0, \"#f0f921\"]], \"type\": \"histogram2dcontour\"}], \"mesh3d\": [{\"colorbar\": {\"outlinewidth\": 0, \"ticks\": \"\"}, \"type\": \"mesh3d\"}], \"parcoords\": [{\"line\": {\"colorbar\": {\"outlinewidth\": 0, \"ticks\": \"\"}}, \"type\": \"parcoords\"}], \"scatter\": [{\"marker\": {\"colorbar\": {\"outlinewidth\": 0, \"ticks\": \"\"}}, \"type\": \"scatter\"}], \"scatter3d\": [{\"line\": {\"colorbar\": {\"outlinewidth\": 0, \"ticks\": \"\"}}, \"marker\": {\"colorbar\": {\"outlinewidth\": 0, \"ticks\": \"\"}}, \"type\": \"scatter3d\"}], \"scattercarpet\": [{\"marker\": {\"colorbar\": {\"outlinewidth\": 0, \"ticks\": \"\"}}, \"type\": \"scattercarpet\"}], \"scattergeo\": [{\"marker\": {\"colorbar\": {\"outlinewidth\": 0, \"ticks\": \"\"}}, \"type\": \"scattergeo\"}], \"scattergl\": [{\"marker\": {\"colorbar\": {\"outlinewidth\": 0, \"ticks\": \"\"}}, \"type\": \"scattergl\"}], \"scattermapbox\": [{\"marker\": {\"colorbar\": {\"outlinewidth\": 0, \"ticks\": \"\"}}, \"type\": \"scattermapbox\"}], \"scatterpolar\": [{\"marker\": {\"colorbar\": {\"outlinewidth\": 0, \"ticks\": \"\"}}, \"type\": \"scatterpolar\"}], \"scatterpolargl\": [{\"marker\": {\"colorbar\": {\"outlinewidth\": 0, \"ticks\": \"\"}}, \"type\": \"scatterpolargl\"}], \"scatterternary\": [{\"marker\": {\"colorbar\": {\"outlinewidth\": 0, \"ticks\": \"\"}}, \"type\": \"scatterternary\"}], \"surface\": [{\"colorbar\": {\"outlinewidth\": 0, \"ticks\": \"\"}, \"colorscale\": [[0.0, \"#0d0887\"], [0.1111111111111111, \"#46039f\"], [0.2222222222222222, \"#7201a8\"], [0.3333333333333333, \"#9c179e\"], [0.4444444444444444, \"#bd3786\"], [0.5555555555555556, \"#d8576b\"], [0.6666666666666666, \"#ed7953\"], [0.7777777777777778, \"#fb9f3a\"], [0.8888888888888888, \"#fdca26\"], [1.0, \"#f0f921\"]], \"type\": \"surface\"}], \"table\": [{\"cells\": {\"fill\": {\"color\": \"#EBF0F8\"}, \"line\": {\"color\": \"white\"}}, \"header\": {\"fill\": {\"color\": \"#C8D4E3\"}, \"line\": {\"color\": \"white\"}}, \"type\": \"table\"}]}, \"layout\": {\"annotationdefaults\": {\"arrowcolor\": \"#2a3f5f\", \"arrowhead\": 0, \"arrowwidth\": 1}, \"colorscale\": {\"diverging\": [[0, \"#8e0152\"], [0.1, \"#c51b7d\"], [0.2, \"#de77ae\"], [0.3, \"#f1b6da\"], [0.4, \"#fde0ef\"], [0.5, \"#f7f7f7\"], [0.6, \"#e6f5d0\"], [0.7, \"#b8e186\"], [0.8, \"#7fbc41\"], [0.9, \"#4d9221\"], [1, \"#276419\"]], \"sequential\": [[0.0, \"#0d0887\"], [0.1111111111111111, \"#46039f\"], [0.2222222222222222, \"#7201a8\"], [0.3333333333333333, \"#9c179e\"], [0.4444444444444444, \"#bd3786\"], [0.5555555555555556, \"#d8576b\"], [0.6666666666666666, \"#ed7953\"], [0.7777777777777778, \"#fb9f3a\"], [0.8888888888888888, \"#fdca26\"], [1.0, \"#f0f921\"]], \"sequentialminus\": [[0.0, \"#0d0887\"], [0.1111111111111111, \"#46039f\"], [0.2222222222222222, \"#7201a8\"], [0.3333333333333333, \"#9c179e\"], [0.4444444444444444, \"#bd3786\"], [0.5555555555555556, \"#d8576b\"], [0.6666666666666666, \"#ed7953\"], [0.7777777777777778, \"#fb9f3a\"], [0.8888888888888888, \"#fdca26\"], [1.0, \"#f0f921\"]]}, \"colorway\": [\"#636efa\", \"#EF553B\", \"#00cc96\", \"#ab63fa\", \"#FFA15A\", \"#19d3f3\", \"#FF6692\", \"#B6E880\", \"#FF97FF\", \"#FECB52\"], \"font\": {\"color\": \"#2a3f5f\"}, \"geo\": {\"bgcolor\": \"white\", \"lakecolor\": \"white\", \"landcolor\": \"#E5ECF6\", \"showlakes\": true, \"showland\": true, \"subunitcolor\": \"white\"}, \"hoverlabel\": {\"align\": \"left\"}, \"hovermode\": \"closest\", \"mapbox\": {\"style\": \"light\"}, \"paper_bgcolor\": \"white\", \"plot_bgcolor\": \"#E5ECF6\", \"polar\": {\"angularaxis\": {\"gridcolor\": \"white\", \"linecolor\": \"white\", \"ticks\": \"\"}, \"bgcolor\": \"#E5ECF6\", \"radialaxis\": {\"gridcolor\": \"white\", \"linecolor\": \"white\", \"ticks\": \"\"}}, \"scene\": {\"xaxis\": {\"backgroundcolor\": \"#E5ECF6\", \"gridcolor\": \"white\", \"gridwidth\": 2, \"linecolor\": \"white\", \"showbackground\": true, \"ticks\": \"\", \"zerolinecolor\": \"white\"}, \"yaxis\": {\"backgroundcolor\": \"#E5ECF6\", \"gridcolor\": \"white\", \"gridwidth\": 2, \"linecolor\": \"white\", \"showbackground\": true, \"ticks\": \"\", \"zerolinecolor\": \"white\"}, \"zaxis\": {\"backgroundcolor\": \"#E5ECF6\", \"gridcolor\": \"white\", \"gridwidth\": 2, \"linecolor\": \"white\", \"showbackground\": true, \"ticks\": \"\", \"zerolinecolor\": \"white\"}}, \"shapedefaults\": {\"line\": {\"color\": \"#2a3f5f\"}}, \"ternary\": {\"aaxis\": {\"gridcolor\": \"white\", \"linecolor\": \"white\", \"ticks\": \"\"}, \"baxis\": {\"gridcolor\": \"white\", \"linecolor\": \"white\", \"ticks\": \"\"}, \"bgcolor\": \"#E5ECF6\", \"caxis\": {\"gridcolor\": \"white\", \"linecolor\": \"white\", \"ticks\": \"\"}}, \"title\": {\"x\": 0.05}, \"xaxis\": {\"automargin\": true, \"gridcolor\": \"white\", \"linecolor\": \"white\", \"ticks\": \"\", \"zerolinecolor\": \"white\", \"zerolinewidth\": 2}, \"yaxis\": {\"automargin\": true, \"gridcolor\": \"white\", \"linecolor\": \"white\", \"ticks\": \"\", \"zerolinecolor\": \"white\", \"zerolinewidth\": 2}}}, \"width\": 1000, \"xaxis\": {\"anchor\": \"y\", \"domain\": [0.0, 0.98], \"title\": {\"text\": \"Year\"}}, \"yaxis\": {\"anchor\": \"x\", \"domain\": [0.0, 1.0], \"title\": {\"text\": \"Stock Mass [tons]\"}}},\n",
       "                        {\"responsive\": true}\n",
       "                    ).then(function(){\n",
       "                            \n",
       "var gd = document.getElementById('3f186463-6e41-45bb-92cc-eee74825ea5d');\n",
       "var x = new MutationObserver(function (mutations, observer) {{\n",
       "        var display = window.getComputedStyle(gd).display;\n",
       "        if (!display || display === 'none') {{\n",
       "            console.log([gd, 'removed!']);\n",
       "            Plotly.purge(gd);\n",
       "            observer.disconnect();\n",
       "        }}\n",
       "}});\n",
       "\n",
       "// Listen for the removal of the full notebook cells\n",
       "var notebookContainer = gd.closest('#notebook-container');\n",
       "if (notebookContainer) {{\n",
       "    x.observe(notebookContainer, {childList: true});\n",
       "}}\n",
       "\n",
       "// Listen for the clearing of the current output cell\n",
       "var outputEl = gd.closest('.output');\n",
       "if (outputEl) {{\n",
       "    x.observe(outputEl, {childList: true});\n",
       "}}\n",
       "\n",
       "                        })\n",
       "                };\n",
       "                });\n",
       "            </script>\n",
       "        </div>"
      ]
     },
     "metadata": {},
     "output_type": "display_data"
    }
   ],
   "source": [
    "### include and exclude are kinda mutually exclusive, be sane.\n",
    "stocks.PlotMass1Dim(mat, \n",
    "                    Dim=['Vehicle'], \n",
    "                    materials = dict(include = ['All'], exclude = [None]),\n",
    "                    matgroup = dict(include = ['Critical Raw Materials, CRM'], exclude = [None]),\n",
    "                    vehicles = dict(include = ['All'], exclude = [None]),\n",
    "                    classes = dict(include = ['All'], exclude = [None]),\n",
    "                    domain = dict(include = ['Passenger'], exclude = [None]),\n",
    "#                     category_orders={'Class':['Inlandvessels','Seavessels','Cars','Utilitycars','Bicycles','Transit','Aircraft'][::-1]},\n",
    "                    ylabel='Stock Mass [tons]',\n",
    "                    w=1000,\n",
    "                    h=400,\n",
    "                    )"
   ]
  },
  {
   "cell_type": "markdown",
   "metadata": {},
   "source": [
    "## 2 dimensional viewer\n",
    "The 2-dimensional explorer allows to explore data using two dimensions. "
   ]
  },
  {
   "cell_type": "code",
   "execution_count": 5,
   "metadata": {
    "scrolled": false
   },
   "outputs": [
    {
     "data": {
      "application/vnd.plotly.v1+json": {
       "config": {
        "plotlyServerURL": "https://plot.ly"
       },
       "data": [
        {
         "groupnorm": "",
         "hoverlabel": {
          "namelength": 0
         },
         "hovertemplate": "Class=Aircraft<br>Vehicle=balloon<br>Year=%{x}<br>Mass=%{y}",
         "legendgroup": "Class=Aircraft",
         "line": {
          "color": "#636efa"
         },
         "mode": "lines",
         "name": "Aircraft",
         "orientation": "v",
         "showlegend": true,
         "stackgroup": "1",
         "type": "scatter",
         "x": [
          2000,
          2001,
          2002,
          2003,
          2004,
          2005,
          2006,
          2007,
          2008,
          2009,
          2010,
          2011,
          2012,
          2013,
          2014,
          2015,
          2016,
          2017
         ],
         "xaxis": "x",
         "y": [
          255.38975001155,
          274.62690001242004,
          275.95360001248,
          288.55725001305,
          290.54730001314005,
          285.2405000129,
          290.54730001314005,
          303.15095001371003,
          305.1410000138,
          311.11115001407,
          307.13105001389,
          306.46770001386005,
          307.79440001392004,
          297.18080001344003,
          286.56720001296003,
          275.95360001248,
          283.25045001281,
          275.95360001248
         ],
         "yaxis": "y"
        },
        {
         "groupnorm": "",
         "hoverlabel": {
          "namelength": 0
         },
         "hovertemplate": "Class=Aircraft<br>Vehicle=B747<br>Year=%{x}<br>Mass=%{y}",
         "legendgroup": "Class=Aircraft",
         "line": {
          "color": "#636efa"
         },
         "mode": "lines",
         "name": "Aircraft",
         "orientation": "v",
         "showlegend": false,
         "stackgroup": "1",
         "type": "scatter",
         "x": [
          2000,
          2001,
          2002,
          2003,
          2004,
          2005,
          2006,
          2007,
          2008,
          2009,
          2010,
          2011,
          2012,
          2013,
          2014,
          2015,
          2016,
          2017
         ],
         "xaxis": "x",
         "y": [
          6973.000000000001,
          6973.000000000001,
          6789.500000000001,
          6239.000000000001,
          5321.5,
          5321.5,
          5505,
          5505,
          5505,
          5505,
          5138,
          5138,
          4954.5,
          5321.5,
          5321.5,
          5138,
          4771,
          3853.4999999999995
         ],
         "yaxis": "y"
        },
        {
         "groupnorm": "",
         "hoverlabel": {
          "namelength": 0
         },
         "hovertemplate": "Class=Aircraft<br>Vehicle=A330<br>Year=%{x}<br>Mass=%{y}",
         "legendgroup": "Class=Aircraft",
         "line": {
          "color": "#636efa"
         },
         "mode": "lines",
         "name": "Aircraft",
         "orientation": "v",
         "showlegend": false,
         "stackgroup": "1",
         "type": "scatter",
         "x": [
          2000,
          2001,
          2002,
          2003,
          2004,
          2005,
          2006,
          2007,
          2008,
          2009,
          2010,
          2011,
          2012,
          2013,
          2014,
          2015,
          2016,
          2017
         ],
         "xaxis": "x",
         "y": [
          16274.354997799808,
          16788.28199773032,
          16674.07599774577,
          18615.577997483295,
          18044.547997560498,
          16616.972997753495,
          16445.663997776628,
          16788.281997730333,
          16845.384997722587,
          17873.23899758362,
          17245.10599766857,
          16559.869997761194,
          16445.66399777663,
          16616.97299775348,
          16331.45799779208,
          15931.736997846112,
          16274.354997799823,
          16731.178997738025
         ],
         "yaxis": "y"
        },
        {
         "groupnorm": "",
         "hoverlabel": {
          "namelength": 0
         },
         "hovertemplate": "Class=Transit<br>Vehicle=locomotive<br>Year=%{x}<br>Mass=%{y}",
         "legendgroup": "Class=Transit",
         "line": {
          "color": "#EF553B"
         },
         "mode": "lines",
         "name": "Transit",
         "orientation": "v",
         "showlegend": true,
         "stackgroup": "1",
         "type": "scatter",
         "x": [
          2000,
          2001,
          2002,
          2003,
          2004,
          2005,
          2006,
          2007,
          2008,
          2009,
          2010,
          2011,
          2012,
          2013,
          2014,
          2015,
          2016,
          2017
         ],
         "xaxis": "x",
         "y": [
          23162.039999999994,
          21403.799999999996,
          21403.799999999996,
          21403.799999999996,
          21403.799999999996,
          21403.799999999996,
          21403.799999999996,
          21403.799999999996,
          21403.799999999996,
          21403.799999999996,
          21403.799999999996,
          11662.199999999999,
          6896.340000000002,
          6896.340000000002,
          6896.340000000002,
          6896.340000000002,
          6896.340000000002,
          6896.340000000002
         ],
         "yaxis": "y"
        },
        {
         "groupnorm": "",
         "hoverlabel": {
          "namelength": 0
         },
         "hovertemplate": "Class=Transit<br>Vehicle=bus<br>Year=%{x}<br>Mass=%{y}",
         "legendgroup": "Class=Transit",
         "line": {
          "color": "#EF553B"
         },
         "mode": "lines",
         "name": "Transit",
         "orientation": "v",
         "showlegend": false,
         "stackgroup": "1",
         "type": "scatter",
         "x": [
          2000,
          2001,
          2002,
          2003,
          2004,
          2005,
          2006,
          2007,
          2008,
          2009,
          2010,
          2011,
          2012,
          2013,
          2014,
          2015,
          2016,
          2017
         ],
         "xaxis": "x",
         "y": [
          120892.6340546001,
          123737.00546330008,
          124538.87764250004,
          126211.73891189997,
          126205.27526559995,
          125054.27317690001,
          122720.52582550014,
          120691.97299049997,
          123359.99376590009,
          125469.96374179993,
          130418.90658660002,
          127107.43247230005,
          124377.20047640004,
          118458.38065360018,
          113990.22588279992,
          110951.24701529997,
          108122.15013389995,
          112934.47031779987
         ],
         "yaxis": "y"
        },
        {
         "groupnorm": "",
         "hoverlabel": {
          "namelength": 0
         },
         "hovertemplate": "Class=Transit<br>Vehicle=ptrain<br>Year=%{x}<br>Mass=%{y}",
         "legendgroup": "Class=Transit",
         "line": {
          "color": "#EF553B"
         },
         "mode": "lines",
         "name": "Transit",
         "orientation": "v",
         "showlegend": false,
         "stackgroup": "1",
         "type": "scatter",
         "x": [
          2000,
          2001,
          2002,
          2003,
          2004,
          2005,
          2006,
          2007,
          2008,
          2009,
          2010,
          2011,
          2012,
          2013,
          2014,
          2015,
          2016,
          2017
         ],
         "xaxis": "x",
         "y": [
          133484.95160780786,
          133484.95160780786,
          139725.18560780786,
          139725.18560780786,
          134007.47360780783,
          121574.05260850854,
          127123.59660850852,
          144353.86981745737,
          143479.99681745734,
          159175.67681745728,
          153169.67681745734,
          153169.67681745734,
          163126.6238174573,
          174476.9628174573,
          161942.44081745727,
          161942.44081745727,
          174555.0408174573,
          148319.8318174574
         ],
         "yaxis": "y"
        },
        {
         "groupnorm": "",
         "hoverlabel": {
          "namelength": 0
         },
         "hovertemplate": "Class=Bicycles<br>Vehicle=emoped<br>Year=%{x}<br>Mass=%{y}",
         "legendgroup": "Class=Bicycles",
         "line": {
          "color": "#00cc96"
         },
         "mode": "lines",
         "name": "Bicycles",
         "orientation": "v",
         "showlegend": true,
         "stackgroup": "1",
         "type": "scatter",
         "x": [
          2007,
          2008,
          2009,
          2010,
          2011,
          2012,
          2013,
          2014,
          2015,
          2016,
          2017
         ],
         "xaxis": "x",
         "y": [
          2.5195696357002384,
          3.550302668486701,
          5.589471657637497,
          8.679643749049413,
          12.65967189039891,
          16.206934048464415,
          19.86669509211427,
          22.110591782959137,
          26.384535931691186,
          31.05780044907406,
          34.96586984378851
         ],
         "yaxis": "y"
        },
        {
         "groupnorm": "",
         "hoverlabel": {
          "namelength": 0
         },
         "hovertemplate": "Class=Bicycles<br>Vehicle=ebicycle<br>Year=%{x}<br>Mass=%{y}",
         "legendgroup": "Class=Bicycles",
         "line": {
          "color": "#00cc96"
         },
         "mode": "lines",
         "name": "Bicycles",
         "orientation": "v",
         "showlegend": false,
         "stackgroup": "1",
         "type": "scatter",
         "x": [
          2012,
          2013,
          2014,
          2015,
          2016,
          2017
         ],
         "xaxis": "x",
         "y": [
          18920,
          23650,
          28380.000000000004,
          30745,
          33110,
          42569.999999999985
         ],
         "yaxis": "y"
        },
        {
         "groupnorm": "",
         "hoverlabel": {
          "namelength": 0
         },
         "hovertemplate": "Class=Bicycles<br>Vehicle=moped<br>Year=%{x}<br>Mass=%{y}",
         "legendgroup": "Class=Bicycles",
         "line": {
          "color": "#00cc96"
         },
         "mode": "lines",
         "name": "Bicycles",
         "orientation": "v",
         "showlegend": false,
         "stackgroup": "1",
         "type": "scatter",
         "x": [
          2007,
          2008,
          2009,
          2010,
          2011,
          2012,
          2013,
          2014,
          2015,
          2016,
          2017
         ],
         "xaxis": "x",
         "y": [
          70930.5486228385,
          78290.44329184217,
          86835.63710229738,
          94713.63139602568,
          101560.42643668308,
          104568.42425789843,
          106564.02281242546,
          108016.12176062586,
          109876.12041337206,
          112018.81886135018,
          114379.91715113459
         ],
         "yaxis": "y"
        },
        {
         "groupnorm": "",
         "hoverlabel": {
          "namelength": 0
         },
         "hovertemplate": "Class=Bicycles<br>Vehicle=motorbike<br>Year=%{x}<br>Mass=%{y}",
         "legendgroup": "Class=Bicycles",
         "line": {
          "color": "#00cc96"
         },
         "mode": "lines",
         "name": "Bicycles",
         "orientation": "v",
         "showlegend": false,
         "stackgroup": "1",
         "type": "scatter",
         "x": [
          2000,
          2001,
          2002,
          2003,
          2004,
          2005,
          2006,
          2007,
          2008,
          2009,
          2010,
          2011,
          2012,
          2013,
          2014,
          2015,
          2016,
          2017
         ],
         "xaxis": "x",
         "y": [
          82321.32237215333,
          87228.70281758797,
          91983.26937371028,
          98841.67240595965,
          103469.03805421735,
          107737.7319622721,
          111083.51553881893,
          114200.67128096793,
          117802.16567229558,
          121935.04467872508,
          125643.26599274717,
          128305.59506434116,
          130568.50542524584,
          131903.79845805248,
          132069.76233783975,
          131824.81751526077,
          131930.02843905325,
          132688.80088945117
         ],
         "yaxis": "y"
        },
        {
         "groupnorm": "",
         "hoverlabel": {
          "namelength": 0
         },
         "hovertemplate": "Class=Bicycles<br>Vehicle=bicycle<br>Year=%{x}<br>Mass=%{y}",
         "legendgroup": "Class=Bicycles",
         "line": {
          "color": "#00cc96"
         },
         "mode": "lines",
         "name": "Bicycles",
         "orientation": "v",
         "showlegend": false,
         "stackgroup": "1",
         "type": "scatter",
         "x": [
          2000,
          2001,
          2002,
          2003,
          2004,
          2005,
          2006,
          2007,
          2008,
          2009,
          2010,
          2011,
          2012,
          2013,
          2014,
          2015,
          2016,
          2017
         ],
         "xaxis": "x",
         "y": [
          294999.4,
          294999.4,
          294999.4,
          298314,
          298314,
          298314,
          298314,
          298314,
          298314,
          298314,
          314887,
          331460,
          344718.4,
          369577.9,
          372892.5,
          376207.1,
          377864.4,
          377864.4
         ],
         "yaxis": "y"
        },
        {
         "groupnorm": "",
         "hoverlabel": {
          "namelength": 0
         },
         "hovertemplate": "Class=Utilitycars<br>Vehicle=lorry40t<br>Year=%{x}<br>Mass=%{y}",
         "legendgroup": "Class=Utilitycars",
         "line": {
          "color": "#ab63fa"
         },
         "mode": "lines",
         "name": "Utilitycars",
         "orientation": "v",
         "showlegend": true,
         "stackgroup": "1",
         "type": "scatter",
         "x": [
          2000,
          2001,
          2002,
          2003,
          2004,
          2005,
          2006,
          2007,
          2008,
          2009,
          2010,
          2011,
          2012,
          2013,
          2014,
          2015,
          2016,
          2017
         ],
         "xaxis": "x",
         "y": [
          2113.030405220138,
          2426.5910661364396,
          2428.0938778440386,
          2567.843344157192,
          2643.9797927621016,
          2751.421812985266,
          2939.5087169361427,
          3181.9423016062,
          3334.9656027953497,
          3751.71131930442,
          3802.8029098649386,
          3877.43654676225,
          4059.512203882725,
          3991.891688287548,
          3941.3010349628967,
          3812.5701840898687,
          4002.6608369842124,
          4120.872005904037
         ],
         "yaxis": "y"
        },
        {
         "groupnorm": "",
         "hoverlabel": {
          "namelength": 0
         },
         "hovertemplate": "Class=Utilitycars<br>Vehicle=lorry28t<br>Year=%{x}<br>Mass=%{y}",
         "legendgroup": "Class=Utilitycars",
         "line": {
          "color": "#ab63fa"
         },
         "mode": "lines",
         "name": "Utilitycars",
         "orientation": "v",
         "showlegend": false,
         "stackgroup": "1",
         "type": "scatter",
         "x": [
          2000,
          2001,
          2002,
          2003,
          2004,
          2005,
          2006,
          2007,
          2008,
          2009,
          2010,
          2011,
          2012,
          2013,
          2014,
          2015,
          2016,
          2017
         ],
         "xaxis": "x",
         "y": [
          32691.626042441443,
          35967.616902511814,
          38885.97967957501,
          43075.81468674848,
          47196.518550422246,
          51725.935929511616,
          57664.82834096866,
          67801.06178155655,
          76325.73567683646,
          84563.90435333134,
          89587.69126135255,
          100971.09653661888,
          117300.663709061,
          132081.78523892126,
          153088.78329364446,
          167522.56095237588,
          189413.38708134522,
          219345.32075802496
         ],
         "yaxis": "y"
        },
        {
         "groupnorm": "",
         "hoverlabel": {
          "namelength": 0
         },
         "hovertemplate": "Class=Utilitycars<br>Vehicle=lorry16t<br>Year=%{x}<br>Mass=%{y}",
         "legendgroup": "Class=Utilitycars",
         "line": {
          "color": "#ab63fa"
         },
         "mode": "lines",
         "name": "Utilitycars",
         "orientation": "v",
         "showlegend": false,
         "stackgroup": "1",
         "type": "scatter",
         "x": [
          2000,
          2001,
          2002,
          2003,
          2004,
          2005,
          2006,
          2007,
          2008,
          2009,
          2010,
          2011,
          2012,
          2013,
          2014,
          2015,
          2016,
          2017
         ],
         "xaxis": "x",
         "y": [
          364414.7963880155,
          383551.3624945206,
          396769.40685361606,
          399019.5055139634,
          398630.0025711078,
          401507.10181465105,
          402636.3624937993,
          427984.1959574129,
          434869.3522867643,
          438151.4653818884,
          410408.24948277534,
          398009.27267501387,
          383926.3513865621,
          363191.02556394844,
          349782.36494048865,
          333914.9918490848,
          327248.21352552314,
          315693.7366691718
         ],
         "yaxis": "y"
        },
        {
         "groupnorm": "",
         "hoverlabel": {
          "namelength": 0
         },
         "hovertemplate": "Class=Utilitycars<br>Vehicle=icevan<br>Year=%{x}<br>Mass=%{y}",
         "legendgroup": "Class=Utilitycars",
         "line": {
          "color": "#ab63fa"
         },
         "mode": "lines",
         "name": "Utilitycars",
         "orientation": "v",
         "showlegend": false,
         "stackgroup": "1",
         "type": "scatter",
         "x": [
          2000,
          2001,
          2002,
          2003,
          2004,
          2005,
          2006,
          2007,
          2008,
          2009,
          2010,
          2011,
          2012,
          2013,
          2014,
          2015,
          2016,
          2017
         ],
         "xaxis": "x",
         "y": [
          1031548.2684638838,
          1140206.5871903552,
          1218368.7117899312,
          1290523.1333007142,
          1349827.0273110135,
          1403744.262462087,
          1367793.4311479835,
          1357578.2053941954,
          1391525.165255074,
          1425435.7269010372,
          1427761.8542817172,
          1416808.246171664,
          1405425.7080195465,
          1385360.985335533,
          1363010.60172738,
          1367566.9653640457,
          1395966.49533544,
          1443866.8171146389
         ],
         "yaxis": "y"
        },
        {
         "groupnorm": "",
         "hoverlabel": {
          "namelength": 0
         },
         "hovertemplate": "Class=Cars<br>Vehicle=hev<br>Year=%{x}<br>Mass=%{y}",
         "legendgroup": "Class=Cars",
         "line": {
          "color": "#FFA15A"
         },
         "mode": "lines",
         "name": "Cars",
         "orientation": "v",
         "showlegend": true,
         "stackgroup": "1",
         "type": "scatter",
         "x": [
          2007,
          2008,
          2009,
          2010,
          2011,
          2012,
          2013,
          2014,
          2015,
          2016,
          2017
         ],
         "xaxis": "x",
         "y": [
          8849.244701094121,
          13803.707554820145,
          28661.040795961904,
          48396.53985837186,
          68911.9641414613,
          86850.24421708827,
          110444.19320664843,
          159070.83522640093,
          186564.410319358,
          253072.41240639598,
          290052.2518682695
         ],
         "yaxis": "y"
        },
        {
         "groupnorm": "",
         "hoverlabel": {
          "namelength": 0
         },
         "hovertemplate": "Class=Cars<br>Vehicle=ev<br>Year=%{x}<br>Mass=%{y}",
         "legendgroup": "Class=Cars",
         "line": {
          "color": "#FFA15A"
         },
         "mode": "lines",
         "name": "Cars",
         "orientation": "v",
         "showlegend": false,
         "stackgroup": "1",
         "type": "scatter",
         "x": [
          2000,
          2001,
          2002,
          2003,
          2004,
          2005,
          2006,
          2007,
          2008,
          2009,
          2010,
          2011,
          2012,
          2013,
          2014,
          2015,
          2016,
          2017
         ],
         "xaxis": "x",
         "y": [
          77.44907647461001,
          112.3011608881845,
          844.1949335732488,
          1002.9655403461993,
          1002.9655403461993,
          3231.562715903103,
          8929.878517522533,
          14870.222683125116,
          21869.682969518006,
          45282.53878779261,
          76645.54230618587,
          108091.80358178946,
          135806.9555982286,
          175621.58958691367,
          251076.35234230262,
          301931.35218244337,
          407786.8136810283,
          475202.36229835276
         ],
         "yaxis": "y"
        },
        {
         "groupnorm": "",
         "hoverlabel": {
          "namelength": 0
         },
         "hovertemplate": "Class=Cars<br>Vehicle=icev<br>Year=%{x}<br>Mass=%{y}",
         "legendgroup": "Class=Cars",
         "line": {
          "color": "#FFA15A"
         },
         "mode": "lines",
         "name": "Cars",
         "orientation": "v",
         "showlegend": false,
         "stackgroup": "1",
         "type": "scatter",
         "x": [
          2000,
          2001,
          2002,
          2003,
          2004,
          2005,
          2006,
          2007,
          2008,
          2009,
          2010,
          2011,
          2012,
          2013,
          2014,
          2015,
          2016,
          2017
         ],
         "xaxis": "x",
         "y": [
          7109316.738186705,
          7328832.635669998,
          7520686.288742613,
          7682382.816481658,
          7742841.649196893,
          7834671.423975026,
          7943809.5752546955,
          8086721.644652387,
          8259344.76453761,
          8400640.65321166,
          8453909.611209735,
          8543587.46713254,
          8648986.659401054,
          8667877.592894116,
          8597889.794497605,
          8595453.194710363,
          8609120.121023867,
          8672731.73902038
         ],
         "yaxis": "y"
        },
        {
         "groupnorm": "",
         "hoverlabel": {
          "namelength": 0
         },
         "hovertemplate": "Class=Seavessels<br>Vehicle=tanker<br>Year=%{x}<br>Mass=%{y}",
         "legendgroup": "Class=Seavessels",
         "line": {
          "color": "#19d3f3"
         },
         "mode": "lines",
         "name": "Seavessels",
         "orientation": "v",
         "showlegend": true,
         "stackgroup": "1",
         "type": "scatter",
         "x": [
          2000,
          2001,
          2002,
          2003,
          2004,
          2005,
          2006,
          2007,
          2008,
          2009,
          2010,
          2011,
          2012,
          2013,
          2014,
          2015,
          2016,
          2017
         ],
         "xaxis": "x",
         "y": [
          3290920.188808626,
          3356973.342990498,
          3323601.706569446,
          3703071.2426345423,
          3513336.4746019943,
          3436851.1486243005,
          3883063.957531502,
          4426383.612312726,
          5304769.332285995,
          5414850.934178214,
          4223523.130586376,
          4367468.688364332,
          4108837.4895898895,
          3907707.0310665816,
          3847837.57352298,
          3589422.1421435303,
          3318328.615038779,
          3307265.462239146
         ],
         "yaxis": "y"
        },
        {
         "groupnorm": "",
         "hoverlabel": {
          "namelength": 0
         },
         "hovertemplate": "Class=Seavessels<br>Vehicle=hmax<br>Year=%{x}<br>Mass=%{y}",
         "legendgroup": "Class=Seavessels",
         "line": {
          "color": "#19d3f3"
         },
         "mode": "lines",
         "name": "Seavessels",
         "orientation": "v",
         "showlegend": false,
         "stackgroup": "1",
         "type": "scatter",
         "x": [
          2000,
          2001,
          2002,
          2003,
          2004,
          2005,
          2006,
          2007,
          2008,
          2009,
          2010,
          2011,
          2012,
          2013,
          2014,
          2015,
          2016,
          2017
         ],
         "xaxis": "x",
         "y": [
          4207682.444073425,
          4679317.113365569,
          4544495.720005511,
          4664089.482383833,
          4692614.683321951,
          4673696.55080806,
          4543373.601639617,
          4972235.519213215,
          4821800.952583999,
          5019894.764249399,
          5357179.399985602,
          5534461.022726543,
          5347108.8094216855,
          5676782.153921323,
          5545155.035558249,
          5911206.661879026,
          5964230.363327345,
          6085469.487307765
         ],
         "yaxis": "y"
        },
        {
         "groupnorm": "",
         "hoverlabel": {
          "namelength": 0
         },
         "hovertemplate": "Class=Seavessels<br>Vehicle=bulker<br>Year=%{x}<br>Mass=%{y}",
         "legendgroup": "Class=Seavessels",
         "line": {
          "color": "#19d3f3"
         },
         "mode": "lines",
         "name": "Seavessels",
         "orientation": "v",
         "showlegend": false,
         "stackgroup": "1",
         "type": "scatter",
         "x": [
          2000,
          2001,
          2002,
          2003,
          2004,
          2005,
          2006,
          2007,
          2008,
          2009,
          2010,
          2011,
          2012,
          2013,
          2014,
          2015,
          2016,
          2017
         ],
         "xaxis": "x",
         "y": [
          4249137.974262113,
          4345709.291858979,
          4517391.634253407,
          4420820.316656541,
          4292058.559860719,
          3970154.167871166,
          3937963.72867221,
          3256885.0114951613,
          4129121.566370246,
          4709066.212695957,
          5322784.326247483,
          6231385.9420212405,
          6472721.241599274,
          7006154.88294616,
          7030444.63291977,
          6463970.492729338,
          6266664.455765204,
          6091358.806197753
         ],
         "yaxis": "y"
        },
        {
         "groupnorm": "",
         "hoverlabel": {
          "namelength": 0
         },
         "hovertemplate": "Class=Inlandvessels<br>Vehicle=hmaxin<br>Year=%{x}<br>Mass=%{y}",
         "legendgroup": "Class=Inlandvessels",
         "line": {
          "color": "#FF6692"
         },
         "mode": "lines",
         "name": "Inlandvessels",
         "orientation": "v",
         "showlegend": true,
         "stackgroup": "1",
         "type": "scatter",
         "x": [
          2008,
          2009,
          2010,
          2011,
          2012,
          2013,
          2014,
          2015,
          2016,
          2017
         ],
         "xaxis": "x",
         "y": [
          7851311.817193001,
          8326423.6297135,
          8514329.58772,
          8746283.961356755,
          8714966.301688999,
          8695106.322387496,
          8588931.81766025,
          8577219.52217475,
          8464679.639466252,
          8482248.082694499
         ],
         "yaxis": "y"
        },
        {
         "groupnorm": "",
         "hoverlabel": {
          "namelength": 0
         },
         "hovertemplate": "Class=Pleziervaartuigen<br>Vehicle=Overigecatamarans<br>Year=%{x}<br>Mass=%{y}",
         "legendgroup": "Class=Pleziervaartuigen",
         "line": {
          "color": "#B6E880"
         },
         "mode": "lines",
         "name": "Pleziervaartuigen",
         "orientation": "v",
         "showlegend": true,
         "stackgroup": "1",
         "type": "scatter",
         "x": [
          2014
         ],
         "xaxis": "x",
         "y": [
          45
         ],
         "yaxis": "y"
        },
        {
         "groupnorm": "",
         "hoverlabel": {
          "namelength": 0
         },
         "hovertemplate": "Class=Pleziervaartuigen<br>Vehicle=Kanos<br>Year=%{x}<br>Mass=%{y}",
         "legendgroup": "Class=Pleziervaartuigen",
         "line": {
          "color": "#B6E880"
         },
         "mode": "lines",
         "name": "Pleziervaartuigen",
         "orientation": "v",
         "showlegend": false,
         "stackgroup": "1",
         "type": "scatter",
         "x": [
          2014
         ],
         "xaxis": "x",
         "y": [
          60
         ],
         "yaxis": "y"
        },
        {
         "groupnorm": "",
         "hoverlabel": {
          "namelength": 0
         },
         "hovertemplate": "Class=Pleziervaartuigen<br>Vehicle=Zwaardboten<br>Year=%{x}<br>Mass=%{y}",
         "legendgroup": "Class=Pleziervaartuigen",
         "line": {
          "color": "#B6E880"
         },
         "mode": "lines",
         "name": "Pleziervaartuigen",
         "orientation": "v",
         "showlegend": false,
         "stackgroup": "1",
         "type": "scatter",
         "x": [
          2014
         ],
         "xaxis": "x",
         "y": [
          100
         ],
         "yaxis": "y"
        },
        {
         "groupnorm": "",
         "hoverlabel": {
          "namelength": 0
         },
         "hovertemplate": "Class=Pleziervaartuigen<br>Vehicle=Openzeilboot<br>Year=%{x}<br>Mass=%{y}",
         "legendgroup": "Class=Pleziervaartuigen",
         "line": {
          "color": "#B6E880"
         },
         "mode": "lines",
         "name": "Pleziervaartuigen",
         "orientation": "v",
         "showlegend": false,
         "stackgroup": "1",
         "type": "scatter",
         "x": [
          2014
         ],
         "xaxis": "x",
         "y": [
          157.7016000000001
         ],
         "yaxis": "y"
        },
        {
         "groupnorm": "",
         "hoverlabel": {
          "namelength": 0
         },
         "hovertemplate": "Class=Pleziervaartuigen<br>Vehicle=Openmotorboot<br>Year=%{x}<br>Mass=%{y}",
         "legendgroup": "Class=Pleziervaartuigen",
         "line": {
          "color": "#B6E880"
         },
         "mode": "lines",
         "name": "Pleziervaartuigen",
         "orientation": "v",
         "showlegend": false,
         "stackgroup": "1",
         "type": "scatter",
         "x": [
          2014
         ],
         "xaxis": "x",
         "y": [
          160.74930000000003
         ],
         "yaxis": "y"
        },
        {
         "groupnorm": "",
         "hoverlabel": {
          "namelength": 0
         },
         "hovertemplate": "Class=Pleziervaartuigen<br>Vehicle=Opencatamarans<br>Year=%{x}<br>Mass=%{y}",
         "legendgroup": "Class=Pleziervaartuigen",
         "line": {
          "color": "#B6E880"
         },
         "mode": "lines",
         "name": "Pleziervaartuigen",
         "orientation": "v",
         "showlegend": false,
         "stackgroup": "1",
         "type": "scatter",
         "x": [
          2014
         ],
         "xaxis": "x",
         "y": [
          180
         ],
         "yaxis": "y"
        },
        {
         "groupnorm": "",
         "hoverlabel": {
          "namelength": 0
         },
         "hovertemplate": "Class=Pleziervaartuigen<br>Vehicle=Jetskis<br>Year=%{x}<br>Mass=%{y}",
         "legendgroup": "Class=Pleziervaartuigen",
         "line": {
          "color": "#B6E880"
         },
         "mode": "lines",
         "name": "Pleziervaartuigen",
         "orientation": "v",
         "showlegend": false,
         "stackgroup": "1",
         "type": "scatter",
         "x": [
          2014
         ],
         "xaxis": "x",
         "y": [
          600
         ],
         "yaxis": "y"
        },
        {
         "groupnorm": "",
         "hoverlabel": {
          "namelength": 0
         },
         "hovertemplate": "Class=Pleziervaartuigen<br>Vehicle=Surfplanken<br>Year=%{x}<br>Mass=%{y}",
         "legendgroup": "Class=Pleziervaartuigen",
         "line": {
          "color": "#B6E880"
         },
         "mode": "lines",
         "name": "Pleziervaartuigen",
         "orientation": "v",
         "showlegend": false,
         "stackgroup": "1",
         "type": "scatter",
         "x": [
          2014
         ],
         "xaxis": "x",
         "y": [
          626
         ],
         "yaxis": "y"
        },
        {
         "groupnorm": "",
         "hoverlabel": {
          "namelength": 0
         },
         "hovertemplate": "Class=Pleziervaartuigen<br>Vehicle=Overigekanos<br>Year=%{x}<br>Mass=%{y}",
         "legendgroup": "Class=Pleziervaartuigen",
         "line": {
          "color": "#B6E880"
         },
         "mode": "lines",
         "name": "Pleziervaartuigen",
         "orientation": "v",
         "showlegend": false,
         "stackgroup": "1",
         "type": "scatter",
         "x": [
          2014
         ],
         "xaxis": "x",
         "y": [
          700
         ],
         "yaxis": "y"
        },
        {
         "groupnorm": "",
         "hoverlabel": {
          "namelength": 0
         },
         "hovertemplate": "Class=Pleziervaartuigen<br>Vehicle=Roeiboten<br>Year=%{x}<br>Mass=%{y}",
         "legendgroup": "Class=Pleziervaartuigen",
         "line": {
          "color": "#B6E880"
         },
         "mode": "lines",
         "name": "Pleziervaartuigen",
         "orientation": "v",
         "showlegend": false,
         "stackgroup": "1",
         "type": "scatter",
         "x": [
          2014
         ],
         "xaxis": "x",
         "y": [
          1300
         ],
         "yaxis": "y"
        },
        {
         "groupnorm": "",
         "hoverlabel": {
          "namelength": 0
         },
         "hovertemplate": "Class=Pleziervaartuigen<br>Vehicle=Wedstrijdzeilboten<br>Year=%{x}<br>Mass=%{y}",
         "legendgroup": "Class=Pleziervaartuigen",
         "line": {
          "color": "#B6E880"
         },
         "mode": "lines",
         "name": "Pleziervaartuigen",
         "orientation": "v",
         "showlegend": false,
         "stackgroup": "1",
         "type": "scatter",
         "x": [
          2014
         ],
         "xaxis": "x",
         "y": [
          2000
         ],
         "yaxis": "y"
        },
        {
         "groupnorm": "",
         "hoverlabel": {
          "namelength": 0
         },
         "hovertemplate": "Class=Pleziervaartuigen<br>Vehicle=Anderepleziervaartuigen<br>Year=%{x}<br>Mass=%{y}",
         "legendgroup": "Class=Pleziervaartuigen",
         "line": {
          "color": "#B6E880"
         },
         "mode": "lines",
         "name": "Pleziervaartuigen",
         "orientation": "v",
         "showlegend": false,
         "stackgroup": "1",
         "type": "scatter",
         "x": [
          2014
         ],
         "xaxis": "x",
         "y": [
          2995.0619999999976
         ],
         "yaxis": "y"
        },
        {
         "groupnorm": "",
         "hoverlabel": {
          "namelength": 0
         },
         "hovertemplate": "Class=Pleziervaartuigen<br>Vehicle=Kleinezeilboten<br>Year=%{x}<br>Mass=%{y}",
         "legendgroup": "Class=Pleziervaartuigen",
         "line": {
          "color": "#B6E880"
         },
         "mode": "lines",
         "name": "Pleziervaartuigen",
         "orientation": "v",
         "showlegend": false,
         "stackgroup": "1",
         "type": "scatter",
         "x": [
          2014
         ],
         "xaxis": "x",
         "y": [
          4000
         ],
         "yaxis": "y"
        },
        {
         "groupnorm": "",
         "hoverlabel": {
          "namelength": 0
         },
         "hovertemplate": "Class=Pleziervaartuigen<br>Vehicle=Kajuitzeilboot<br>Year=%{x}<br>Mass=%{y}",
         "legendgroup": "Class=Pleziervaartuigen",
         "line": {
          "color": "#B6E880"
         },
         "mode": "lines",
         "name": "Pleziervaartuigen",
         "orientation": "v",
         "showlegend": false,
         "stackgroup": "1",
         "type": "scatter",
         "x": [
          2014
         ],
         "xaxis": "x",
         "y": [
          4678.680000000002
         ],
         "yaxis": "y"
        },
        {
         "groupnorm": "",
         "hoverlabel": {
          "namelength": 0
         },
         "hovertemplate": "Class=Pleziervaartuigen<br>Vehicle=Buitenwatervisboten<br>Year=%{x}<br>Mass=%{y}",
         "legendgroup": "Class=Pleziervaartuigen",
         "line": {
          "color": "#B6E880"
         },
         "mode": "lines",
         "name": "Pleziervaartuigen",
         "orientation": "v",
         "showlegend": false,
         "stackgroup": "1",
         "type": "scatter",
         "x": [
          2014
         ],
         "xaxis": "x",
         "y": [
          7500
         ],
         "yaxis": "y"
        },
        {
         "groupnorm": "",
         "hoverlabel": {
          "namelength": 0
         },
         "hovertemplate": "Class=Pleziervaartuigen<br>Vehicle=Exwedstrijdzeilboten<br>Year=%{x}<br>Mass=%{y}",
         "legendgroup": "Class=Pleziervaartuigen",
         "line": {
          "color": "#B6E880"
         },
         "mode": "lines",
         "name": "Pleziervaartuigen",
         "orientation": "v",
         "showlegend": false,
         "stackgroup": "1",
         "type": "scatter",
         "x": [
          2014
         ],
         "xaxis": "x",
         "y": [
          8500
         ],
         "yaxis": "y"
        },
        {
         "groupnorm": "",
         "hoverlabel": {
          "namelength": 0
         },
         "hovertemplate": "Class=Pleziervaartuigen<br>Vehicle=Overigemotorboten<br>Year=%{x}<br>Mass=%{y}",
         "legendgroup": "Class=Pleziervaartuigen",
         "line": {
          "color": "#B6E880"
         },
         "mode": "lines",
         "name": "Pleziervaartuigen",
         "orientation": "v",
         "showlegend": false,
         "stackgroup": "1",
         "type": "scatter",
         "x": [
          2014
         ],
         "xaxis": "x",
         "y": [
          18000
         ],
         "yaxis": "y"
        },
        {
         "groupnorm": "",
         "hoverlabel": {
          "namelength": 0
         },
         "hovertemplate": "Class=Pleziervaartuigen<br>Vehicle=Binnenwatervisboten<br>Year=%{x}<br>Mass=%{y}",
         "legendgroup": "Class=Pleziervaartuigen",
         "line": {
          "color": "#B6E880"
         },
         "mode": "lines",
         "name": "Pleziervaartuigen",
         "orientation": "v",
         "showlegend": false,
         "stackgroup": "1",
         "type": "scatter",
         "x": [
          2014
         ],
         "xaxis": "x",
         "y": [
          30000
         ],
         "yaxis": "y"
        },
        {
         "groupnorm": "",
         "hoverlabel": {
          "namelength": 0
         },
         "hovertemplate": "Class=Pleziervaartuigen<br>Vehicle=Snellemotorboten<br>Year=%{x}<br>Mass=%{y}",
         "legendgroup": "Class=Pleziervaartuigen",
         "line": {
          "color": "#B6E880"
         },
         "mode": "lines",
         "name": "Pleziervaartuigen",
         "orientation": "v",
         "showlegend": false,
         "stackgroup": "1",
         "type": "scatter",
         "x": [
          2014
         ],
         "xaxis": "x",
         "y": [
          30000
         ],
         "yaxis": "y"
        },
        {
         "groupnorm": "",
         "hoverlabel": {
          "namelength": 0
         },
         "hovertemplate": "Class=Pleziervaartuigen<br>Vehicle=Platbodem<br>Year=%{x}<br>Mass=%{y}",
         "legendgroup": "Class=Pleziervaartuigen",
         "line": {
          "color": "#B6E880"
         },
         "mode": "lines",
         "name": "Pleziervaartuigen",
         "orientation": "v",
         "showlegend": false,
         "stackgroup": "1",
         "type": "scatter",
         "x": [
          2014
         ],
         "xaxis": "x",
         "y": [
          32008.863000000034
         ],
         "yaxis": "y"
        },
        {
         "groupnorm": "",
         "hoverlabel": {
          "namelength": 0
         },
         "hovertemplate": "Class=Pleziervaartuigen<br>Vehicle=Kajuitmotorboot<br>Year=%{x}<br>Mass=%{y}",
         "legendgroup": "Class=Pleziervaartuigen",
         "line": {
          "color": "#B6E880"
         },
         "mode": "lines",
         "name": "Pleziervaartuigen",
         "orientation": "v",
         "showlegend": false,
         "stackgroup": "1",
         "type": "scatter",
         "x": [
          2014
         ],
         "xaxis": "x",
         "y": [
          40982.988000000005
         ],
         "yaxis": "y"
        }
       ],
       "layout": {
        "font": {
         "family": "Lato, sans serif",
         "size": 11
        },
        "height": 600,
        "legend": {
         "tracegroupgap": 0,
         "traceorder": "reversed",
         "y": 0.5
        },
        "margin": {
         "b": 30,
         "l": 50,
         "pad": 1,
         "r": 0,
         "t": 0
        },
        "template": {
         "data": {
          "bar": [
           {
            "error_x": {
             "color": "#2a3f5f"
            },
            "error_y": {
             "color": "#2a3f5f"
            },
            "marker": {
             "line": {
              "color": "#E5ECF6",
              "width": 0.5
             }
            },
            "type": "bar"
           }
          ],
          "barpolar": [
           {
            "marker": {
             "line": {
              "color": "#E5ECF6",
              "width": 0.5
             }
            },
            "type": "barpolar"
           }
          ],
          "carpet": [
           {
            "aaxis": {
             "endlinecolor": "#2a3f5f",
             "gridcolor": "white",
             "linecolor": "white",
             "minorgridcolor": "white",
             "startlinecolor": "#2a3f5f"
            },
            "baxis": {
             "endlinecolor": "#2a3f5f",
             "gridcolor": "white",
             "linecolor": "white",
             "minorgridcolor": "white",
             "startlinecolor": "#2a3f5f"
            },
            "type": "carpet"
           }
          ],
          "choropleth": [
           {
            "colorbar": {
             "outlinewidth": 0,
             "ticks": ""
            },
            "type": "choropleth"
           }
          ],
          "contour": [
           {
            "colorbar": {
             "outlinewidth": 0,
             "ticks": ""
            },
            "colorscale": [
             [
              0,
              "#0d0887"
             ],
             [
              0.1111111111111111,
              "#46039f"
             ],
             [
              0.2222222222222222,
              "#7201a8"
             ],
             [
              0.3333333333333333,
              "#9c179e"
             ],
             [
              0.4444444444444444,
              "#bd3786"
             ],
             [
              0.5555555555555556,
              "#d8576b"
             ],
             [
              0.6666666666666666,
              "#ed7953"
             ],
             [
              0.7777777777777778,
              "#fb9f3a"
             ],
             [
              0.8888888888888888,
              "#fdca26"
             ],
             [
              1,
              "#f0f921"
             ]
            ],
            "type": "contour"
           }
          ],
          "contourcarpet": [
           {
            "colorbar": {
             "outlinewidth": 0,
             "ticks": ""
            },
            "type": "contourcarpet"
           }
          ],
          "heatmap": [
           {
            "colorbar": {
             "outlinewidth": 0,
             "ticks": ""
            },
            "colorscale": [
             [
              0,
              "#0d0887"
             ],
             [
              0.1111111111111111,
              "#46039f"
             ],
             [
              0.2222222222222222,
              "#7201a8"
             ],
             [
              0.3333333333333333,
              "#9c179e"
             ],
             [
              0.4444444444444444,
              "#bd3786"
             ],
             [
              0.5555555555555556,
              "#d8576b"
             ],
             [
              0.6666666666666666,
              "#ed7953"
             ],
             [
              0.7777777777777778,
              "#fb9f3a"
             ],
             [
              0.8888888888888888,
              "#fdca26"
             ],
             [
              1,
              "#f0f921"
             ]
            ],
            "type": "heatmap"
           }
          ],
          "heatmapgl": [
           {
            "colorbar": {
             "outlinewidth": 0,
             "ticks": ""
            },
            "colorscale": [
             [
              0,
              "#0d0887"
             ],
             [
              0.1111111111111111,
              "#46039f"
             ],
             [
              0.2222222222222222,
              "#7201a8"
             ],
             [
              0.3333333333333333,
              "#9c179e"
             ],
             [
              0.4444444444444444,
              "#bd3786"
             ],
             [
              0.5555555555555556,
              "#d8576b"
             ],
             [
              0.6666666666666666,
              "#ed7953"
             ],
             [
              0.7777777777777778,
              "#fb9f3a"
             ],
             [
              0.8888888888888888,
              "#fdca26"
             ],
             [
              1,
              "#f0f921"
             ]
            ],
            "type": "heatmapgl"
           }
          ],
          "histogram": [
           {
            "marker": {
             "colorbar": {
              "outlinewidth": 0,
              "ticks": ""
             }
            },
            "type": "histogram"
           }
          ],
          "histogram2d": [
           {
            "colorbar": {
             "outlinewidth": 0,
             "ticks": ""
            },
            "colorscale": [
             [
              0,
              "#0d0887"
             ],
             [
              0.1111111111111111,
              "#46039f"
             ],
             [
              0.2222222222222222,
              "#7201a8"
             ],
             [
              0.3333333333333333,
              "#9c179e"
             ],
             [
              0.4444444444444444,
              "#bd3786"
             ],
             [
              0.5555555555555556,
              "#d8576b"
             ],
             [
              0.6666666666666666,
              "#ed7953"
             ],
             [
              0.7777777777777778,
              "#fb9f3a"
             ],
             [
              0.8888888888888888,
              "#fdca26"
             ],
             [
              1,
              "#f0f921"
             ]
            ],
            "type": "histogram2d"
           }
          ],
          "histogram2dcontour": [
           {
            "colorbar": {
             "outlinewidth": 0,
             "ticks": ""
            },
            "colorscale": [
             [
              0,
              "#0d0887"
             ],
             [
              0.1111111111111111,
              "#46039f"
             ],
             [
              0.2222222222222222,
              "#7201a8"
             ],
             [
              0.3333333333333333,
              "#9c179e"
             ],
             [
              0.4444444444444444,
              "#bd3786"
             ],
             [
              0.5555555555555556,
              "#d8576b"
             ],
             [
              0.6666666666666666,
              "#ed7953"
             ],
             [
              0.7777777777777778,
              "#fb9f3a"
             ],
             [
              0.8888888888888888,
              "#fdca26"
             ],
             [
              1,
              "#f0f921"
             ]
            ],
            "type": "histogram2dcontour"
           }
          ],
          "mesh3d": [
           {
            "colorbar": {
             "outlinewidth": 0,
             "ticks": ""
            },
            "type": "mesh3d"
           }
          ],
          "parcoords": [
           {
            "line": {
             "colorbar": {
              "outlinewidth": 0,
              "ticks": ""
             }
            },
            "type": "parcoords"
           }
          ],
          "scatter": [
           {
            "marker": {
             "colorbar": {
              "outlinewidth": 0,
              "ticks": ""
             }
            },
            "type": "scatter"
           }
          ],
          "scatter3d": [
           {
            "line": {
             "colorbar": {
              "outlinewidth": 0,
              "ticks": ""
             }
            },
            "marker": {
             "colorbar": {
              "outlinewidth": 0,
              "ticks": ""
             }
            },
            "type": "scatter3d"
           }
          ],
          "scattercarpet": [
           {
            "marker": {
             "colorbar": {
              "outlinewidth": 0,
              "ticks": ""
             }
            },
            "type": "scattercarpet"
           }
          ],
          "scattergeo": [
           {
            "marker": {
             "colorbar": {
              "outlinewidth": 0,
              "ticks": ""
             }
            },
            "type": "scattergeo"
           }
          ],
          "scattergl": [
           {
            "marker": {
             "colorbar": {
              "outlinewidth": 0,
              "ticks": ""
             }
            },
            "type": "scattergl"
           }
          ],
          "scattermapbox": [
           {
            "marker": {
             "colorbar": {
              "outlinewidth": 0,
              "ticks": ""
             }
            },
            "type": "scattermapbox"
           }
          ],
          "scatterpolar": [
           {
            "marker": {
             "colorbar": {
              "outlinewidth": 0,
              "ticks": ""
             }
            },
            "type": "scatterpolar"
           }
          ],
          "scatterpolargl": [
           {
            "marker": {
             "colorbar": {
              "outlinewidth": 0,
              "ticks": ""
             }
            },
            "type": "scatterpolargl"
           }
          ],
          "scatterternary": [
           {
            "marker": {
             "colorbar": {
              "outlinewidth": 0,
              "ticks": ""
             }
            },
            "type": "scatterternary"
           }
          ],
          "surface": [
           {
            "colorbar": {
             "outlinewidth": 0,
             "ticks": ""
            },
            "colorscale": [
             [
              0,
              "#0d0887"
             ],
             [
              0.1111111111111111,
              "#46039f"
             ],
             [
              0.2222222222222222,
              "#7201a8"
             ],
             [
              0.3333333333333333,
              "#9c179e"
             ],
             [
              0.4444444444444444,
              "#bd3786"
             ],
             [
              0.5555555555555556,
              "#d8576b"
             ],
             [
              0.6666666666666666,
              "#ed7953"
             ],
             [
              0.7777777777777778,
              "#fb9f3a"
             ],
             [
              0.8888888888888888,
              "#fdca26"
             ],
             [
              1,
              "#f0f921"
             ]
            ],
            "type": "surface"
           }
          ],
          "table": [
           {
            "cells": {
             "fill": {
              "color": "#EBF0F8"
             },
             "line": {
              "color": "white"
             }
            },
            "header": {
             "fill": {
              "color": "#C8D4E3"
             },
             "line": {
              "color": "white"
             }
            },
            "type": "table"
           }
          ]
         },
         "layout": {
          "annotationdefaults": {
           "arrowcolor": "#2a3f5f",
           "arrowhead": 0,
           "arrowwidth": 1
          },
          "colorscale": {
           "diverging": [
            [
             0,
             "#8e0152"
            ],
            [
             0.1,
             "#c51b7d"
            ],
            [
             0.2,
             "#de77ae"
            ],
            [
             0.3,
             "#f1b6da"
            ],
            [
             0.4,
             "#fde0ef"
            ],
            [
             0.5,
             "#f7f7f7"
            ],
            [
             0.6,
             "#e6f5d0"
            ],
            [
             0.7,
             "#b8e186"
            ],
            [
             0.8,
             "#7fbc41"
            ],
            [
             0.9,
             "#4d9221"
            ],
            [
             1,
             "#276419"
            ]
           ],
           "sequential": [
            [
             0,
             "#0d0887"
            ],
            [
             0.1111111111111111,
             "#46039f"
            ],
            [
             0.2222222222222222,
             "#7201a8"
            ],
            [
             0.3333333333333333,
             "#9c179e"
            ],
            [
             0.4444444444444444,
             "#bd3786"
            ],
            [
             0.5555555555555556,
             "#d8576b"
            ],
            [
             0.6666666666666666,
             "#ed7953"
            ],
            [
             0.7777777777777778,
             "#fb9f3a"
            ],
            [
             0.8888888888888888,
             "#fdca26"
            ],
            [
             1,
             "#f0f921"
            ]
           ],
           "sequentialminus": [
            [
             0,
             "#0d0887"
            ],
            [
             0.1111111111111111,
             "#46039f"
            ],
            [
             0.2222222222222222,
             "#7201a8"
            ],
            [
             0.3333333333333333,
             "#9c179e"
            ],
            [
             0.4444444444444444,
             "#bd3786"
            ],
            [
             0.5555555555555556,
             "#d8576b"
            ],
            [
             0.6666666666666666,
             "#ed7953"
            ],
            [
             0.7777777777777778,
             "#fb9f3a"
            ],
            [
             0.8888888888888888,
             "#fdca26"
            ],
            [
             1,
             "#f0f921"
            ]
           ]
          },
          "colorway": [
           "#636efa",
           "#EF553B",
           "#00cc96",
           "#ab63fa",
           "#FFA15A",
           "#19d3f3",
           "#FF6692",
           "#B6E880",
           "#FF97FF",
           "#FECB52"
          ],
          "font": {
           "color": "#2a3f5f"
          },
          "geo": {
           "bgcolor": "white",
           "lakecolor": "white",
           "landcolor": "#E5ECF6",
           "showlakes": true,
           "showland": true,
           "subunitcolor": "white"
          },
          "hoverlabel": {
           "align": "left"
          },
          "hovermode": "closest",
          "mapbox": {
           "style": "light"
          },
          "paper_bgcolor": "white",
          "plot_bgcolor": "#E5ECF6",
          "polar": {
           "angularaxis": {
            "gridcolor": "white",
            "linecolor": "white",
            "ticks": ""
           },
           "bgcolor": "#E5ECF6",
           "radialaxis": {
            "gridcolor": "white",
            "linecolor": "white",
            "ticks": ""
           }
          },
          "scene": {
           "xaxis": {
            "backgroundcolor": "#E5ECF6",
            "gridcolor": "white",
            "gridwidth": 2,
            "linecolor": "white",
            "showbackground": true,
            "ticks": "",
            "zerolinecolor": "white"
           },
           "yaxis": {
            "backgroundcolor": "#E5ECF6",
            "gridcolor": "white",
            "gridwidth": 2,
            "linecolor": "white",
            "showbackground": true,
            "ticks": "",
            "zerolinecolor": "white"
           },
           "zaxis": {
            "backgroundcolor": "#E5ECF6",
            "gridcolor": "white",
            "gridwidth": 2,
            "linecolor": "white",
            "showbackground": true,
            "ticks": "",
            "zerolinecolor": "white"
           }
          },
          "shapedefaults": {
           "line": {
            "color": "#2a3f5f"
           }
          },
          "ternary": {
           "aaxis": {
            "gridcolor": "white",
            "linecolor": "white",
            "ticks": ""
           },
           "baxis": {
            "gridcolor": "white",
            "linecolor": "white",
            "ticks": ""
           },
           "bgcolor": "#E5ECF6",
           "caxis": {
            "gridcolor": "white",
            "linecolor": "white",
            "ticks": ""
           }
          },
          "title": {
           "x": 0.05
          },
          "xaxis": {
           "automargin": true,
           "gridcolor": "white",
           "linecolor": "white",
           "ticks": "",
           "zerolinecolor": "white",
           "zerolinewidth": 2
          },
          "yaxis": {
           "automargin": true,
           "gridcolor": "white",
           "linecolor": "white",
           "ticks": "",
           "zerolinecolor": "white",
           "zerolinewidth": 2
          }
         }
        },
        "xaxis": {
         "anchor": "y",
         "domain": [
          0,
          0.98
         ],
         "title": {
          "text": "Year"
         }
        },
        "yaxis": {
         "anchor": "x",
         "domain": [
          0,
          1
         ],
         "title": {
          "text": "Stock Mass [tons]"
         }
        }
       }
      },
      "text/html": [
       "<div>\n",
       "        \n",
       "        \n",
       "            <div id=\"9b14cff5-bf1f-41ac-8c9e-d03b8e143ee1\" class=\"plotly-graph-div\" style=\"height:600px; width:100%;\"></div>\n",
       "            <script type=\"text/javascript\">\n",
       "                require([\"plotly\"], function(Plotly) {\n",
       "                    window.PLOTLYENV=window.PLOTLYENV || {};\n",
       "                    \n",
       "                if (document.getElementById(\"9b14cff5-bf1f-41ac-8c9e-d03b8e143ee1\")) {\n",
       "                    Plotly.newPlot(\n",
       "                        '9b14cff5-bf1f-41ac-8c9e-d03b8e143ee1',\n",
       "                        [{\"groupnorm\": \"\", \"hoverlabel\": {\"namelength\": 0}, \"hovertemplate\": \"Class=Aircraft<br>Vehicle=balloon<br>Year=%{x}<br>Mass=%{y}\", \"legendgroup\": \"Class=Aircraft\", \"line\": {\"color\": \"#636efa\"}, \"mode\": \"lines\", \"name\": \"Aircraft\", \"orientation\": \"v\", \"showlegend\": true, \"stackgroup\": \"1\", \"type\": \"scatter\", \"x\": [2000.0, 2001.0, 2002.0, 2003.0, 2004.0, 2005.0, 2006.0, 2007.0, 2008.0, 2009.0, 2010.0, 2011.0, 2012.0, 2013.0, 2014.0, 2015.0, 2016.0, 2017.0], \"xaxis\": \"x\", \"y\": [255.38975001155, 274.62690001242004, 275.95360001248, 288.55725001305, 290.54730001314005, 285.2405000129, 290.54730001314005, 303.15095001371003, 305.1410000138, 311.11115001407, 307.13105001389, 306.46770001386005, 307.79440001392004, 297.18080001344003, 286.56720001296003, 275.95360001248, 283.25045001281, 275.95360001248], \"yaxis\": \"y\"}, {\"groupnorm\": \"\", \"hoverlabel\": {\"namelength\": 0}, \"hovertemplate\": \"Class=Aircraft<br>Vehicle=B747<br>Year=%{x}<br>Mass=%{y}\", \"legendgroup\": \"Class=Aircraft\", \"line\": {\"color\": \"#636efa\"}, \"mode\": \"lines\", \"name\": \"Aircraft\", \"orientation\": \"v\", \"showlegend\": false, \"stackgroup\": \"1\", \"type\": \"scatter\", \"x\": [2000.0, 2001.0, 2002.0, 2003.0, 2004.0, 2005.0, 2006.0, 2007.0, 2008.0, 2009.0, 2010.0, 2011.0, 2012.0, 2013.0, 2014.0, 2015.0, 2016.0, 2017.0], \"xaxis\": \"x\", \"y\": [6973.000000000001, 6973.000000000001, 6789.500000000001, 6239.000000000001, 5321.5, 5321.5, 5505.0, 5505.0, 5505.0, 5505.0, 5138.0, 5138.0, 4954.5, 5321.5, 5321.5, 5138.0, 4771.0, 3853.4999999999995], \"yaxis\": \"y\"}, {\"groupnorm\": \"\", \"hoverlabel\": {\"namelength\": 0}, \"hovertemplate\": \"Class=Aircraft<br>Vehicle=A330<br>Year=%{x}<br>Mass=%{y}\", \"legendgroup\": \"Class=Aircraft\", \"line\": {\"color\": \"#636efa\"}, \"mode\": \"lines\", \"name\": \"Aircraft\", \"orientation\": \"v\", \"showlegend\": false, \"stackgroup\": \"1\", \"type\": \"scatter\", \"x\": [2000.0, 2001.0, 2002.0, 2003.0, 2004.0, 2005.0, 2006.0, 2007.0, 2008.0, 2009.0, 2010.0, 2011.0, 2012.0, 2013.0, 2014.0, 2015.0, 2016.0, 2017.0], \"xaxis\": \"x\", \"y\": [16274.354997799808, 16788.28199773032, 16674.07599774577, 18615.577997483295, 18044.547997560498, 16616.972997753495, 16445.663997776628, 16788.281997730333, 16845.384997722587, 17873.23899758362, 17245.10599766857, 16559.869997761194, 16445.66399777663, 16616.97299775348, 16331.45799779208, 15931.736997846112, 16274.354997799823, 16731.178997738025], \"yaxis\": \"y\"}, {\"groupnorm\": \"\", \"hoverlabel\": {\"namelength\": 0}, \"hovertemplate\": \"Class=Transit<br>Vehicle=locomotive<br>Year=%{x}<br>Mass=%{y}\", \"legendgroup\": \"Class=Transit\", \"line\": {\"color\": \"#EF553B\"}, \"mode\": \"lines\", \"name\": \"Transit\", \"orientation\": \"v\", \"showlegend\": true, \"stackgroup\": \"1\", \"type\": \"scatter\", \"x\": [2000.0, 2001.0, 2002.0, 2003.0, 2004.0, 2005.0, 2006.0, 2007.0, 2008.0, 2009.0, 2010.0, 2011.0, 2012.0, 2013.0, 2014.0, 2015.0, 2016.0, 2017.0], \"xaxis\": \"x\", \"y\": [23162.039999999994, 21403.799999999996, 21403.799999999996, 21403.799999999996, 21403.799999999996, 21403.799999999996, 21403.799999999996, 21403.799999999996, 21403.799999999996, 21403.799999999996, 21403.799999999996, 11662.199999999999, 6896.340000000002, 6896.340000000002, 6896.340000000002, 6896.340000000002, 6896.340000000002, 6896.340000000002], \"yaxis\": \"y\"}, {\"groupnorm\": \"\", \"hoverlabel\": {\"namelength\": 0}, \"hovertemplate\": \"Class=Transit<br>Vehicle=bus<br>Year=%{x}<br>Mass=%{y}\", \"legendgroup\": \"Class=Transit\", \"line\": {\"color\": \"#EF553B\"}, \"mode\": \"lines\", \"name\": \"Transit\", \"orientation\": \"v\", \"showlegend\": false, \"stackgroup\": \"1\", \"type\": \"scatter\", \"x\": [2000.0, 2001.0, 2002.0, 2003.0, 2004.0, 2005.0, 2006.0, 2007.0, 2008.0, 2009.0, 2010.0, 2011.0, 2012.0, 2013.0, 2014.0, 2015.0, 2016.0, 2017.0], \"xaxis\": \"x\", \"y\": [120892.6340546001, 123737.00546330008, 124538.87764250004, 126211.73891189997, 126205.27526559995, 125054.27317690001, 122720.52582550014, 120691.97299049997, 123359.99376590009, 125469.96374179993, 130418.90658660002, 127107.43247230005, 124377.20047640004, 118458.38065360018, 113990.22588279992, 110951.24701529997, 108122.15013389995, 112934.47031779987], \"yaxis\": \"y\"}, {\"groupnorm\": \"\", \"hoverlabel\": {\"namelength\": 0}, \"hovertemplate\": \"Class=Transit<br>Vehicle=ptrain<br>Year=%{x}<br>Mass=%{y}\", \"legendgroup\": \"Class=Transit\", \"line\": {\"color\": \"#EF553B\"}, \"mode\": \"lines\", \"name\": \"Transit\", \"orientation\": \"v\", \"showlegend\": false, \"stackgroup\": \"1\", \"type\": \"scatter\", \"x\": [2000.0, 2001.0, 2002.0, 2003.0, 2004.0, 2005.0, 2006.0, 2007.0, 2008.0, 2009.0, 2010.0, 2011.0, 2012.0, 2013.0, 2014.0, 2015.0, 2016.0, 2017.0], \"xaxis\": \"x\", \"y\": [133484.95160780786, 133484.95160780786, 139725.18560780786, 139725.18560780786, 134007.47360780783, 121574.05260850854, 127123.59660850852, 144353.86981745737, 143479.99681745734, 159175.67681745728, 153169.67681745734, 153169.67681745734, 163126.6238174573, 174476.9628174573, 161942.44081745727, 161942.44081745727, 174555.0408174573, 148319.8318174574], \"yaxis\": \"y\"}, {\"groupnorm\": \"\", \"hoverlabel\": {\"namelength\": 0}, \"hovertemplate\": \"Class=Bicycles<br>Vehicle=emoped<br>Year=%{x}<br>Mass=%{y}\", \"legendgroup\": \"Class=Bicycles\", \"line\": {\"color\": \"#00cc96\"}, \"mode\": \"lines\", \"name\": \"Bicycles\", \"orientation\": \"v\", \"showlegend\": true, \"stackgroup\": \"1\", \"type\": \"scatter\", \"x\": [2007.0, 2008.0, 2009.0, 2010.0, 2011.0, 2012.0, 2013.0, 2014.0, 2015.0, 2016.0, 2017.0], \"xaxis\": \"x\", \"y\": [2.5195696357002384, 3.550302668486701, 5.589471657637497, 8.679643749049413, 12.65967189039891, 16.206934048464415, 19.86669509211427, 22.110591782959137, 26.384535931691186, 31.05780044907406, 34.96586984378851], \"yaxis\": \"y\"}, {\"groupnorm\": \"\", \"hoverlabel\": {\"namelength\": 0}, \"hovertemplate\": \"Class=Bicycles<br>Vehicle=ebicycle<br>Year=%{x}<br>Mass=%{y}\", \"legendgroup\": \"Class=Bicycles\", \"line\": {\"color\": \"#00cc96\"}, \"mode\": \"lines\", \"name\": \"Bicycles\", \"orientation\": \"v\", \"showlegend\": false, \"stackgroup\": \"1\", \"type\": \"scatter\", \"x\": [2012.0, 2013.0, 2014.0, 2015.0, 2016.0, 2017.0], \"xaxis\": \"x\", \"y\": [18920.0, 23650.0, 28380.000000000004, 30745.0, 33110.0, 42569.999999999985], \"yaxis\": \"y\"}, {\"groupnorm\": \"\", \"hoverlabel\": {\"namelength\": 0}, \"hovertemplate\": \"Class=Bicycles<br>Vehicle=moped<br>Year=%{x}<br>Mass=%{y}\", \"legendgroup\": \"Class=Bicycles\", \"line\": {\"color\": \"#00cc96\"}, \"mode\": \"lines\", \"name\": \"Bicycles\", \"orientation\": \"v\", \"showlegend\": false, \"stackgroup\": \"1\", \"type\": \"scatter\", \"x\": [2007.0, 2008.0, 2009.0, 2010.0, 2011.0, 2012.0, 2013.0, 2014.0, 2015.0, 2016.0, 2017.0], \"xaxis\": \"x\", \"y\": [70930.5486228385, 78290.44329184217, 86835.63710229738, 94713.63139602568, 101560.42643668308, 104568.42425789843, 106564.02281242546, 108016.12176062586, 109876.12041337206, 112018.81886135018, 114379.91715113459], \"yaxis\": \"y\"}, {\"groupnorm\": \"\", \"hoverlabel\": {\"namelength\": 0}, \"hovertemplate\": \"Class=Bicycles<br>Vehicle=motorbike<br>Year=%{x}<br>Mass=%{y}\", \"legendgroup\": \"Class=Bicycles\", \"line\": {\"color\": \"#00cc96\"}, \"mode\": \"lines\", \"name\": \"Bicycles\", \"orientation\": \"v\", \"showlegend\": false, \"stackgroup\": \"1\", \"type\": \"scatter\", \"x\": [2000.0, 2001.0, 2002.0, 2003.0, 2004.0, 2005.0, 2006.0, 2007.0, 2008.0, 2009.0, 2010.0, 2011.0, 2012.0, 2013.0, 2014.0, 2015.0, 2016.0, 2017.0], \"xaxis\": \"x\", \"y\": [82321.32237215333, 87228.70281758797, 91983.26937371028, 98841.67240595965, 103469.03805421735, 107737.7319622721, 111083.51553881893, 114200.67128096793, 117802.16567229558, 121935.04467872508, 125643.26599274717, 128305.59506434116, 130568.50542524584, 131903.79845805248, 132069.76233783975, 131824.81751526077, 131930.02843905325, 132688.80088945117], \"yaxis\": \"y\"}, {\"groupnorm\": \"\", \"hoverlabel\": {\"namelength\": 0}, \"hovertemplate\": \"Class=Bicycles<br>Vehicle=bicycle<br>Year=%{x}<br>Mass=%{y}\", \"legendgroup\": \"Class=Bicycles\", \"line\": {\"color\": \"#00cc96\"}, \"mode\": \"lines\", \"name\": \"Bicycles\", \"orientation\": \"v\", \"showlegend\": false, \"stackgroup\": \"1\", \"type\": \"scatter\", \"x\": [2000.0, 2001.0, 2002.0, 2003.0, 2004.0, 2005.0, 2006.0, 2007.0, 2008.0, 2009.0, 2010.0, 2011.0, 2012.0, 2013.0, 2014.0, 2015.0, 2016.0, 2017.0], \"xaxis\": \"x\", \"y\": [294999.4, 294999.4, 294999.4, 298314.0, 298314.0, 298314.0, 298314.0, 298314.0, 298314.0, 298314.0, 314887.0, 331460.0, 344718.4, 369577.9, 372892.5, 376207.1, 377864.4, 377864.4], \"yaxis\": \"y\"}, {\"groupnorm\": \"\", \"hoverlabel\": {\"namelength\": 0}, \"hovertemplate\": \"Class=Utilitycars<br>Vehicle=lorry40t<br>Year=%{x}<br>Mass=%{y}\", \"legendgroup\": \"Class=Utilitycars\", \"line\": {\"color\": \"#ab63fa\"}, \"mode\": \"lines\", \"name\": \"Utilitycars\", \"orientation\": \"v\", \"showlegend\": true, \"stackgroup\": \"1\", \"type\": \"scatter\", \"x\": [2000.0, 2001.0, 2002.0, 2003.0, 2004.0, 2005.0, 2006.0, 2007.0, 2008.0, 2009.0, 2010.0, 2011.0, 2012.0, 2013.0, 2014.0, 2015.0, 2016.0, 2017.0], \"xaxis\": \"x\", \"y\": [2113.030405220138, 2426.5910661364396, 2428.0938778440386, 2567.843344157192, 2643.9797927621016, 2751.421812985266, 2939.5087169361427, 3181.9423016062, 3334.9656027953497, 3751.71131930442, 3802.8029098649386, 3877.43654676225, 4059.512203882725, 3991.891688287548, 3941.3010349628967, 3812.5701840898687, 4002.6608369842124, 4120.872005904037], \"yaxis\": \"y\"}, {\"groupnorm\": \"\", \"hoverlabel\": {\"namelength\": 0}, \"hovertemplate\": \"Class=Utilitycars<br>Vehicle=lorry28t<br>Year=%{x}<br>Mass=%{y}\", \"legendgroup\": \"Class=Utilitycars\", \"line\": {\"color\": \"#ab63fa\"}, \"mode\": \"lines\", \"name\": \"Utilitycars\", \"orientation\": \"v\", \"showlegend\": false, \"stackgroup\": \"1\", \"type\": \"scatter\", \"x\": [2000.0, 2001.0, 2002.0, 2003.0, 2004.0, 2005.0, 2006.0, 2007.0, 2008.0, 2009.0, 2010.0, 2011.0, 2012.0, 2013.0, 2014.0, 2015.0, 2016.0, 2017.0], \"xaxis\": \"x\", \"y\": [32691.626042441443, 35967.616902511814, 38885.97967957501, 43075.81468674848, 47196.518550422246, 51725.935929511616, 57664.82834096866, 67801.06178155655, 76325.73567683646, 84563.90435333134, 89587.69126135255, 100971.09653661888, 117300.663709061, 132081.78523892126, 153088.78329364446, 167522.56095237588, 189413.38708134522, 219345.32075802496], \"yaxis\": \"y\"}, {\"groupnorm\": \"\", \"hoverlabel\": {\"namelength\": 0}, \"hovertemplate\": \"Class=Utilitycars<br>Vehicle=lorry16t<br>Year=%{x}<br>Mass=%{y}\", \"legendgroup\": \"Class=Utilitycars\", \"line\": {\"color\": \"#ab63fa\"}, \"mode\": \"lines\", \"name\": \"Utilitycars\", \"orientation\": \"v\", \"showlegend\": false, \"stackgroup\": \"1\", \"type\": \"scatter\", \"x\": [2000.0, 2001.0, 2002.0, 2003.0, 2004.0, 2005.0, 2006.0, 2007.0, 2008.0, 2009.0, 2010.0, 2011.0, 2012.0, 2013.0, 2014.0, 2015.0, 2016.0, 2017.0], \"xaxis\": \"x\", \"y\": [364414.7963880155, 383551.3624945206, 396769.40685361606, 399019.5055139634, 398630.0025711078, 401507.10181465105, 402636.3624937993, 427984.1959574129, 434869.3522867643, 438151.4653818884, 410408.24948277534, 398009.27267501387, 383926.3513865621, 363191.02556394844, 349782.36494048865, 333914.9918490848, 327248.21352552314, 315693.7366691718], \"yaxis\": \"y\"}, {\"groupnorm\": \"\", \"hoverlabel\": {\"namelength\": 0}, \"hovertemplate\": \"Class=Utilitycars<br>Vehicle=icevan<br>Year=%{x}<br>Mass=%{y}\", \"legendgroup\": \"Class=Utilitycars\", \"line\": {\"color\": \"#ab63fa\"}, \"mode\": \"lines\", \"name\": \"Utilitycars\", \"orientation\": \"v\", \"showlegend\": false, \"stackgroup\": \"1\", \"type\": \"scatter\", \"x\": [2000.0, 2001.0, 2002.0, 2003.0, 2004.0, 2005.0, 2006.0, 2007.0, 2008.0, 2009.0, 2010.0, 2011.0, 2012.0, 2013.0, 2014.0, 2015.0, 2016.0, 2017.0], \"xaxis\": \"x\", \"y\": [1031548.2684638838, 1140206.5871903552, 1218368.7117899312, 1290523.1333007142, 1349827.0273110135, 1403744.262462087, 1367793.4311479835, 1357578.2053941954, 1391525.165255074, 1425435.7269010372, 1427761.8542817172, 1416808.246171664, 1405425.7080195465, 1385360.985335533, 1363010.60172738, 1367566.9653640457, 1395966.49533544, 1443866.8171146389], \"yaxis\": \"y\"}, {\"groupnorm\": \"\", \"hoverlabel\": {\"namelength\": 0}, \"hovertemplate\": \"Class=Cars<br>Vehicle=hev<br>Year=%{x}<br>Mass=%{y}\", \"legendgroup\": \"Class=Cars\", \"line\": {\"color\": \"#FFA15A\"}, \"mode\": \"lines\", \"name\": \"Cars\", \"orientation\": \"v\", \"showlegend\": true, \"stackgroup\": \"1\", \"type\": \"scatter\", \"x\": [2007.0, 2008.0, 2009.0, 2010.0, 2011.0, 2012.0, 2013.0, 2014.0, 2015.0, 2016.0, 2017.0], \"xaxis\": \"x\", \"y\": [8849.244701094121, 13803.707554820145, 28661.040795961904, 48396.53985837186, 68911.9641414613, 86850.24421708827, 110444.19320664843, 159070.83522640093, 186564.410319358, 253072.41240639598, 290052.2518682695], \"yaxis\": \"y\"}, {\"groupnorm\": \"\", \"hoverlabel\": {\"namelength\": 0}, \"hovertemplate\": \"Class=Cars<br>Vehicle=ev<br>Year=%{x}<br>Mass=%{y}\", \"legendgroup\": \"Class=Cars\", \"line\": {\"color\": \"#FFA15A\"}, \"mode\": \"lines\", \"name\": \"Cars\", \"orientation\": \"v\", \"showlegend\": false, \"stackgroup\": \"1\", \"type\": \"scatter\", \"x\": [2000.0, 2001.0, 2002.0, 2003.0, 2004.0, 2005.0, 2006.0, 2007.0, 2008.0, 2009.0, 2010.0, 2011.0, 2012.0, 2013.0, 2014.0, 2015.0, 2016.0, 2017.0], \"xaxis\": \"x\", \"y\": [77.44907647461001, 112.3011608881845, 844.1949335732488, 1002.9655403461993, 1002.9655403461993, 3231.562715903103, 8929.878517522533, 14870.222683125116, 21869.682969518006, 45282.53878779261, 76645.54230618587, 108091.80358178946, 135806.9555982286, 175621.58958691367, 251076.35234230262, 301931.35218244337, 407786.8136810283, 475202.36229835276], \"yaxis\": \"y\"}, {\"groupnorm\": \"\", \"hoverlabel\": {\"namelength\": 0}, \"hovertemplate\": \"Class=Cars<br>Vehicle=icev<br>Year=%{x}<br>Mass=%{y}\", \"legendgroup\": \"Class=Cars\", \"line\": {\"color\": \"#FFA15A\"}, \"mode\": \"lines\", \"name\": \"Cars\", \"orientation\": \"v\", \"showlegend\": false, \"stackgroup\": \"1\", \"type\": \"scatter\", \"x\": [2000.0, 2001.0, 2002.0, 2003.0, 2004.0, 2005.0, 2006.0, 2007.0, 2008.0, 2009.0, 2010.0, 2011.0, 2012.0, 2013.0, 2014.0, 2015.0, 2016.0, 2017.0], \"xaxis\": \"x\", \"y\": [7109316.738186705, 7328832.635669998, 7520686.288742613, 7682382.816481658, 7742841.649196893, 7834671.423975026, 7943809.5752546955, 8086721.644652387, 8259344.76453761, 8400640.65321166, 8453909.611209735, 8543587.46713254, 8648986.659401054, 8667877.592894116, 8597889.794497605, 8595453.194710363, 8609120.121023867, 8672731.73902038], \"yaxis\": \"y\"}, {\"groupnorm\": \"\", \"hoverlabel\": {\"namelength\": 0}, \"hovertemplate\": \"Class=Seavessels<br>Vehicle=tanker<br>Year=%{x}<br>Mass=%{y}\", \"legendgroup\": \"Class=Seavessels\", \"line\": {\"color\": \"#19d3f3\"}, \"mode\": \"lines\", \"name\": \"Seavessels\", \"orientation\": \"v\", \"showlegend\": true, \"stackgroup\": \"1\", \"type\": \"scatter\", \"x\": [2000.0, 2001.0, 2002.0, 2003.0, 2004.0, 2005.0, 2006.0, 2007.0, 2008.0, 2009.0, 2010.0, 2011.0, 2012.0, 2013.0, 2014.0, 2015.0, 2016.0, 2017.0], \"xaxis\": \"x\", \"y\": [3290920.188808626, 3356973.342990498, 3323601.706569446, 3703071.2426345423, 3513336.4746019943, 3436851.1486243005, 3883063.957531502, 4426383.612312726, 5304769.332285995, 5414850.934178214, 4223523.130586376, 4367468.688364332, 4108837.4895898895, 3907707.0310665816, 3847837.57352298, 3589422.1421435303, 3318328.615038779, 3307265.462239146], \"yaxis\": \"y\"}, {\"groupnorm\": \"\", \"hoverlabel\": {\"namelength\": 0}, \"hovertemplate\": \"Class=Seavessels<br>Vehicle=hmax<br>Year=%{x}<br>Mass=%{y}\", \"legendgroup\": \"Class=Seavessels\", \"line\": {\"color\": \"#19d3f3\"}, \"mode\": \"lines\", \"name\": \"Seavessels\", \"orientation\": \"v\", \"showlegend\": false, \"stackgroup\": \"1\", \"type\": \"scatter\", \"x\": [2000.0, 2001.0, 2002.0, 2003.0, 2004.0, 2005.0, 2006.0, 2007.0, 2008.0, 2009.0, 2010.0, 2011.0, 2012.0, 2013.0, 2014.0, 2015.0, 2016.0, 2017.0], \"xaxis\": \"x\", \"y\": [4207682.444073425, 4679317.113365569, 4544495.720005511, 4664089.482383833, 4692614.683321951, 4673696.55080806, 4543373.601639617, 4972235.519213215, 4821800.952583999, 5019894.764249399, 5357179.399985602, 5534461.022726543, 5347108.8094216855, 5676782.153921323, 5545155.035558249, 5911206.661879026, 5964230.363327345, 6085469.487307765], \"yaxis\": \"y\"}, {\"groupnorm\": \"\", \"hoverlabel\": {\"namelength\": 0}, \"hovertemplate\": \"Class=Seavessels<br>Vehicle=bulker<br>Year=%{x}<br>Mass=%{y}\", \"legendgroup\": \"Class=Seavessels\", \"line\": {\"color\": \"#19d3f3\"}, \"mode\": \"lines\", \"name\": \"Seavessels\", \"orientation\": \"v\", \"showlegend\": false, \"stackgroup\": \"1\", \"type\": \"scatter\", \"x\": [2000.0, 2001.0, 2002.0, 2003.0, 2004.0, 2005.0, 2006.0, 2007.0, 2008.0, 2009.0, 2010.0, 2011.0, 2012.0, 2013.0, 2014.0, 2015.0, 2016.0, 2017.0], \"xaxis\": \"x\", \"y\": [4249137.974262113, 4345709.291858979, 4517391.634253407, 4420820.316656541, 4292058.559860719, 3970154.167871166, 3937963.72867221, 3256885.0114951613, 4129121.566370246, 4709066.212695957, 5322784.326247483, 6231385.9420212405, 6472721.241599274, 7006154.88294616, 7030444.63291977, 6463970.492729338, 6266664.455765204, 6091358.806197753], \"yaxis\": \"y\"}, {\"groupnorm\": \"\", \"hoverlabel\": {\"namelength\": 0}, \"hovertemplate\": \"Class=Inlandvessels<br>Vehicle=hmaxin<br>Year=%{x}<br>Mass=%{y}\", \"legendgroup\": \"Class=Inlandvessels\", \"line\": {\"color\": \"#FF6692\"}, \"mode\": \"lines\", \"name\": \"Inlandvessels\", \"orientation\": \"v\", \"showlegend\": true, \"stackgroup\": \"1\", \"type\": \"scatter\", \"x\": [2008.0, 2009.0, 2010.0, 2011.0, 2012.0, 2013.0, 2014.0, 2015.0, 2016.0, 2017.0], \"xaxis\": \"x\", \"y\": [7851311.817193001, 8326423.6297135, 8514329.58772, 8746283.961356755, 8714966.301688999, 8695106.322387496, 8588931.81766025, 8577219.52217475, 8464679.639466252, 8482248.082694499], \"yaxis\": \"y\"}, {\"groupnorm\": \"\", \"hoverlabel\": {\"namelength\": 0}, \"hovertemplate\": \"Class=Pleziervaartuigen<br>Vehicle=Overigecatamarans<br>Year=%{x}<br>Mass=%{y}\", \"legendgroup\": \"Class=Pleziervaartuigen\", \"line\": {\"color\": \"#B6E880\"}, \"mode\": \"lines\", \"name\": \"Pleziervaartuigen\", \"orientation\": \"v\", \"showlegend\": true, \"stackgroup\": \"1\", \"type\": \"scatter\", \"x\": [2014.0], \"xaxis\": \"x\", \"y\": [45.0], \"yaxis\": \"y\"}, {\"groupnorm\": \"\", \"hoverlabel\": {\"namelength\": 0}, \"hovertemplate\": \"Class=Pleziervaartuigen<br>Vehicle=Kanos<br>Year=%{x}<br>Mass=%{y}\", \"legendgroup\": \"Class=Pleziervaartuigen\", \"line\": {\"color\": \"#B6E880\"}, \"mode\": \"lines\", \"name\": \"Pleziervaartuigen\", \"orientation\": \"v\", \"showlegend\": false, \"stackgroup\": \"1\", \"type\": \"scatter\", \"x\": [2014.0], \"xaxis\": \"x\", \"y\": [60.0], \"yaxis\": \"y\"}, {\"groupnorm\": \"\", \"hoverlabel\": {\"namelength\": 0}, \"hovertemplate\": \"Class=Pleziervaartuigen<br>Vehicle=Zwaardboten<br>Year=%{x}<br>Mass=%{y}\", \"legendgroup\": \"Class=Pleziervaartuigen\", \"line\": {\"color\": \"#B6E880\"}, \"mode\": \"lines\", \"name\": \"Pleziervaartuigen\", \"orientation\": \"v\", \"showlegend\": false, \"stackgroup\": \"1\", \"type\": \"scatter\", \"x\": [2014.0], \"xaxis\": \"x\", \"y\": [100.0], \"yaxis\": \"y\"}, {\"groupnorm\": \"\", \"hoverlabel\": {\"namelength\": 0}, \"hovertemplate\": \"Class=Pleziervaartuigen<br>Vehicle=Openzeilboot<br>Year=%{x}<br>Mass=%{y}\", \"legendgroup\": \"Class=Pleziervaartuigen\", \"line\": {\"color\": \"#B6E880\"}, \"mode\": \"lines\", \"name\": \"Pleziervaartuigen\", \"orientation\": \"v\", \"showlegend\": false, \"stackgroup\": \"1\", \"type\": \"scatter\", \"x\": [2014.0], \"xaxis\": \"x\", \"y\": [157.7016000000001], \"yaxis\": \"y\"}, {\"groupnorm\": \"\", \"hoverlabel\": {\"namelength\": 0}, \"hovertemplate\": \"Class=Pleziervaartuigen<br>Vehicle=Openmotorboot<br>Year=%{x}<br>Mass=%{y}\", \"legendgroup\": \"Class=Pleziervaartuigen\", \"line\": {\"color\": \"#B6E880\"}, \"mode\": \"lines\", \"name\": \"Pleziervaartuigen\", \"orientation\": \"v\", \"showlegend\": false, \"stackgroup\": \"1\", \"type\": \"scatter\", \"x\": [2014.0], \"xaxis\": \"x\", \"y\": [160.74930000000003], \"yaxis\": \"y\"}, {\"groupnorm\": \"\", \"hoverlabel\": {\"namelength\": 0}, \"hovertemplate\": \"Class=Pleziervaartuigen<br>Vehicle=Opencatamarans<br>Year=%{x}<br>Mass=%{y}\", \"legendgroup\": \"Class=Pleziervaartuigen\", \"line\": {\"color\": \"#B6E880\"}, \"mode\": \"lines\", \"name\": \"Pleziervaartuigen\", \"orientation\": \"v\", \"showlegend\": false, \"stackgroup\": \"1\", \"type\": \"scatter\", \"x\": [2014.0], \"xaxis\": \"x\", \"y\": [180.0], \"yaxis\": \"y\"}, {\"groupnorm\": \"\", \"hoverlabel\": {\"namelength\": 0}, \"hovertemplate\": \"Class=Pleziervaartuigen<br>Vehicle=Jetskis<br>Year=%{x}<br>Mass=%{y}\", \"legendgroup\": \"Class=Pleziervaartuigen\", \"line\": {\"color\": \"#B6E880\"}, \"mode\": \"lines\", \"name\": \"Pleziervaartuigen\", \"orientation\": \"v\", \"showlegend\": false, \"stackgroup\": \"1\", \"type\": \"scatter\", \"x\": [2014.0], \"xaxis\": \"x\", \"y\": [600.0], \"yaxis\": \"y\"}, {\"groupnorm\": \"\", \"hoverlabel\": {\"namelength\": 0}, \"hovertemplate\": \"Class=Pleziervaartuigen<br>Vehicle=Surfplanken<br>Year=%{x}<br>Mass=%{y}\", \"legendgroup\": \"Class=Pleziervaartuigen\", \"line\": {\"color\": \"#B6E880\"}, \"mode\": \"lines\", \"name\": \"Pleziervaartuigen\", \"orientation\": \"v\", \"showlegend\": false, \"stackgroup\": \"1\", \"type\": \"scatter\", \"x\": [2014.0], \"xaxis\": \"x\", \"y\": [626.0], \"yaxis\": \"y\"}, {\"groupnorm\": \"\", \"hoverlabel\": {\"namelength\": 0}, \"hovertemplate\": \"Class=Pleziervaartuigen<br>Vehicle=Overigekanos<br>Year=%{x}<br>Mass=%{y}\", \"legendgroup\": \"Class=Pleziervaartuigen\", \"line\": {\"color\": \"#B6E880\"}, \"mode\": \"lines\", \"name\": \"Pleziervaartuigen\", \"orientation\": \"v\", \"showlegend\": false, \"stackgroup\": \"1\", \"type\": \"scatter\", \"x\": [2014.0], \"xaxis\": \"x\", \"y\": [700.0], \"yaxis\": \"y\"}, {\"groupnorm\": \"\", \"hoverlabel\": {\"namelength\": 0}, \"hovertemplate\": \"Class=Pleziervaartuigen<br>Vehicle=Roeiboten<br>Year=%{x}<br>Mass=%{y}\", \"legendgroup\": \"Class=Pleziervaartuigen\", \"line\": {\"color\": \"#B6E880\"}, \"mode\": \"lines\", \"name\": \"Pleziervaartuigen\", \"orientation\": \"v\", \"showlegend\": false, \"stackgroup\": \"1\", \"type\": \"scatter\", \"x\": [2014.0], \"xaxis\": \"x\", \"y\": [1300.0], \"yaxis\": \"y\"}, {\"groupnorm\": \"\", \"hoverlabel\": {\"namelength\": 0}, \"hovertemplate\": \"Class=Pleziervaartuigen<br>Vehicle=Wedstrijdzeilboten<br>Year=%{x}<br>Mass=%{y}\", \"legendgroup\": \"Class=Pleziervaartuigen\", \"line\": {\"color\": \"#B6E880\"}, \"mode\": \"lines\", \"name\": \"Pleziervaartuigen\", \"orientation\": \"v\", \"showlegend\": false, \"stackgroup\": \"1\", \"type\": \"scatter\", \"x\": [2014.0], \"xaxis\": \"x\", \"y\": [2000.0], \"yaxis\": \"y\"}, {\"groupnorm\": \"\", \"hoverlabel\": {\"namelength\": 0}, \"hovertemplate\": \"Class=Pleziervaartuigen<br>Vehicle=Anderepleziervaartuigen<br>Year=%{x}<br>Mass=%{y}\", \"legendgroup\": \"Class=Pleziervaartuigen\", \"line\": {\"color\": \"#B6E880\"}, \"mode\": \"lines\", \"name\": \"Pleziervaartuigen\", \"orientation\": \"v\", \"showlegend\": false, \"stackgroup\": \"1\", \"type\": \"scatter\", \"x\": [2014.0], \"xaxis\": \"x\", \"y\": [2995.0619999999976], \"yaxis\": \"y\"}, {\"groupnorm\": \"\", \"hoverlabel\": {\"namelength\": 0}, \"hovertemplate\": \"Class=Pleziervaartuigen<br>Vehicle=Kleinezeilboten<br>Year=%{x}<br>Mass=%{y}\", \"legendgroup\": \"Class=Pleziervaartuigen\", \"line\": {\"color\": \"#B6E880\"}, \"mode\": \"lines\", \"name\": \"Pleziervaartuigen\", \"orientation\": \"v\", \"showlegend\": false, \"stackgroup\": \"1\", \"type\": \"scatter\", \"x\": [2014.0], \"xaxis\": \"x\", \"y\": [4000.0], \"yaxis\": \"y\"}, {\"groupnorm\": \"\", \"hoverlabel\": {\"namelength\": 0}, \"hovertemplate\": \"Class=Pleziervaartuigen<br>Vehicle=Kajuitzeilboot<br>Year=%{x}<br>Mass=%{y}\", \"legendgroup\": \"Class=Pleziervaartuigen\", \"line\": {\"color\": \"#B6E880\"}, \"mode\": \"lines\", \"name\": \"Pleziervaartuigen\", \"orientation\": \"v\", \"showlegend\": false, \"stackgroup\": \"1\", \"type\": \"scatter\", \"x\": [2014.0], \"xaxis\": \"x\", \"y\": [4678.680000000002], \"yaxis\": \"y\"}, {\"groupnorm\": \"\", \"hoverlabel\": {\"namelength\": 0}, \"hovertemplate\": \"Class=Pleziervaartuigen<br>Vehicle=Buitenwatervisboten<br>Year=%{x}<br>Mass=%{y}\", \"legendgroup\": \"Class=Pleziervaartuigen\", \"line\": {\"color\": \"#B6E880\"}, \"mode\": \"lines\", \"name\": \"Pleziervaartuigen\", \"orientation\": \"v\", \"showlegend\": false, \"stackgroup\": \"1\", \"type\": \"scatter\", \"x\": [2014.0], \"xaxis\": \"x\", \"y\": [7500.0], \"yaxis\": \"y\"}, {\"groupnorm\": \"\", \"hoverlabel\": {\"namelength\": 0}, \"hovertemplate\": \"Class=Pleziervaartuigen<br>Vehicle=Exwedstrijdzeilboten<br>Year=%{x}<br>Mass=%{y}\", \"legendgroup\": \"Class=Pleziervaartuigen\", \"line\": {\"color\": \"#B6E880\"}, \"mode\": \"lines\", \"name\": \"Pleziervaartuigen\", \"orientation\": \"v\", \"showlegend\": false, \"stackgroup\": \"1\", \"type\": \"scatter\", \"x\": [2014.0], \"xaxis\": \"x\", \"y\": [8500.0], \"yaxis\": \"y\"}, {\"groupnorm\": \"\", \"hoverlabel\": {\"namelength\": 0}, \"hovertemplate\": \"Class=Pleziervaartuigen<br>Vehicle=Overigemotorboten<br>Year=%{x}<br>Mass=%{y}\", \"legendgroup\": \"Class=Pleziervaartuigen\", \"line\": {\"color\": \"#B6E880\"}, \"mode\": \"lines\", \"name\": \"Pleziervaartuigen\", \"orientation\": \"v\", \"showlegend\": false, \"stackgroup\": \"1\", \"type\": \"scatter\", \"x\": [2014.0], \"xaxis\": \"x\", \"y\": [18000.0], \"yaxis\": \"y\"}, {\"groupnorm\": \"\", \"hoverlabel\": {\"namelength\": 0}, \"hovertemplate\": \"Class=Pleziervaartuigen<br>Vehicle=Binnenwatervisboten<br>Year=%{x}<br>Mass=%{y}\", \"legendgroup\": \"Class=Pleziervaartuigen\", \"line\": {\"color\": \"#B6E880\"}, \"mode\": \"lines\", \"name\": \"Pleziervaartuigen\", \"orientation\": \"v\", \"showlegend\": false, \"stackgroup\": \"1\", \"type\": \"scatter\", \"x\": [2014.0], \"xaxis\": \"x\", \"y\": [30000.0], \"yaxis\": \"y\"}, {\"groupnorm\": \"\", \"hoverlabel\": {\"namelength\": 0}, \"hovertemplate\": \"Class=Pleziervaartuigen<br>Vehicle=Snellemotorboten<br>Year=%{x}<br>Mass=%{y}\", \"legendgroup\": \"Class=Pleziervaartuigen\", \"line\": {\"color\": \"#B6E880\"}, \"mode\": \"lines\", \"name\": \"Pleziervaartuigen\", \"orientation\": \"v\", \"showlegend\": false, \"stackgroup\": \"1\", \"type\": \"scatter\", \"x\": [2014.0], \"xaxis\": \"x\", \"y\": [30000.0], \"yaxis\": \"y\"}, {\"groupnorm\": \"\", \"hoverlabel\": {\"namelength\": 0}, \"hovertemplate\": \"Class=Pleziervaartuigen<br>Vehicle=Platbodem<br>Year=%{x}<br>Mass=%{y}\", \"legendgroup\": \"Class=Pleziervaartuigen\", \"line\": {\"color\": \"#B6E880\"}, \"mode\": \"lines\", \"name\": \"Pleziervaartuigen\", \"orientation\": \"v\", \"showlegend\": false, \"stackgroup\": \"1\", \"type\": \"scatter\", \"x\": [2014.0], \"xaxis\": \"x\", \"y\": [32008.863000000034], \"yaxis\": \"y\"}, {\"groupnorm\": \"\", \"hoverlabel\": {\"namelength\": 0}, \"hovertemplate\": \"Class=Pleziervaartuigen<br>Vehicle=Kajuitmotorboot<br>Year=%{x}<br>Mass=%{y}\", \"legendgroup\": \"Class=Pleziervaartuigen\", \"line\": {\"color\": \"#B6E880\"}, \"mode\": \"lines\", \"name\": \"Pleziervaartuigen\", \"orientation\": \"v\", \"showlegend\": false, \"stackgroup\": \"1\", \"type\": \"scatter\", \"x\": [2014.0], \"xaxis\": \"x\", \"y\": [40982.988000000005], \"yaxis\": \"y\"}],\n",
       "                        {\"font\": {\"family\": \"Lato, sans serif\", \"size\": 11}, \"height\": 600, \"legend\": {\"tracegroupgap\": 0, \"traceorder\": \"reversed\", \"y\": 0.5}, \"margin\": {\"b\": 30, \"l\": 50, \"pad\": 1, \"r\": 0, \"t\": 0}, \"template\": {\"data\": {\"bar\": [{\"error_x\": {\"color\": \"#2a3f5f\"}, \"error_y\": {\"color\": \"#2a3f5f\"}, \"marker\": {\"line\": {\"color\": \"#E5ECF6\", \"width\": 0.5}}, \"type\": \"bar\"}], \"barpolar\": [{\"marker\": {\"line\": {\"color\": \"#E5ECF6\", \"width\": 0.5}}, \"type\": \"barpolar\"}], \"carpet\": [{\"aaxis\": {\"endlinecolor\": \"#2a3f5f\", \"gridcolor\": \"white\", \"linecolor\": \"white\", \"minorgridcolor\": \"white\", \"startlinecolor\": \"#2a3f5f\"}, \"baxis\": {\"endlinecolor\": \"#2a3f5f\", \"gridcolor\": \"white\", \"linecolor\": \"white\", \"minorgridcolor\": \"white\", \"startlinecolor\": \"#2a3f5f\"}, \"type\": \"carpet\"}], \"choropleth\": [{\"colorbar\": {\"outlinewidth\": 0, \"ticks\": \"\"}, \"type\": \"choropleth\"}], \"contour\": [{\"colorbar\": {\"outlinewidth\": 0, \"ticks\": \"\"}, \"colorscale\": [[0.0, \"#0d0887\"], [0.1111111111111111, \"#46039f\"], [0.2222222222222222, \"#7201a8\"], [0.3333333333333333, \"#9c179e\"], [0.4444444444444444, \"#bd3786\"], [0.5555555555555556, \"#d8576b\"], [0.6666666666666666, \"#ed7953\"], [0.7777777777777778, \"#fb9f3a\"], [0.8888888888888888, \"#fdca26\"], [1.0, \"#f0f921\"]], \"type\": \"contour\"}], \"contourcarpet\": [{\"colorbar\": {\"outlinewidth\": 0, \"ticks\": \"\"}, \"type\": \"contourcarpet\"}], \"heatmap\": [{\"colorbar\": {\"outlinewidth\": 0, \"ticks\": \"\"}, \"colorscale\": [[0.0, \"#0d0887\"], [0.1111111111111111, \"#46039f\"], [0.2222222222222222, \"#7201a8\"], [0.3333333333333333, \"#9c179e\"], [0.4444444444444444, \"#bd3786\"], [0.5555555555555556, \"#d8576b\"], [0.6666666666666666, \"#ed7953\"], [0.7777777777777778, \"#fb9f3a\"], [0.8888888888888888, \"#fdca26\"], [1.0, \"#f0f921\"]], \"type\": \"heatmap\"}], \"heatmapgl\": [{\"colorbar\": {\"outlinewidth\": 0, \"ticks\": \"\"}, \"colorscale\": [[0.0, \"#0d0887\"], [0.1111111111111111, \"#46039f\"], [0.2222222222222222, \"#7201a8\"], [0.3333333333333333, \"#9c179e\"], [0.4444444444444444, \"#bd3786\"], [0.5555555555555556, \"#d8576b\"], [0.6666666666666666, \"#ed7953\"], [0.7777777777777778, \"#fb9f3a\"], [0.8888888888888888, \"#fdca26\"], [1.0, \"#f0f921\"]], \"type\": \"heatmapgl\"}], \"histogram\": [{\"marker\": {\"colorbar\": {\"outlinewidth\": 0, \"ticks\": \"\"}}, \"type\": \"histogram\"}], \"histogram2d\": [{\"colorbar\": {\"outlinewidth\": 0, \"ticks\": \"\"}, \"colorscale\": [[0.0, \"#0d0887\"], [0.1111111111111111, \"#46039f\"], [0.2222222222222222, \"#7201a8\"], [0.3333333333333333, \"#9c179e\"], [0.4444444444444444, \"#bd3786\"], [0.5555555555555556, \"#d8576b\"], [0.6666666666666666, \"#ed7953\"], [0.7777777777777778, \"#fb9f3a\"], [0.8888888888888888, \"#fdca26\"], [1.0, \"#f0f921\"]], \"type\": \"histogram2d\"}], \"histogram2dcontour\": [{\"colorbar\": {\"outlinewidth\": 0, \"ticks\": \"\"}, \"colorscale\": [[0.0, \"#0d0887\"], [0.1111111111111111, \"#46039f\"], [0.2222222222222222, \"#7201a8\"], [0.3333333333333333, \"#9c179e\"], [0.4444444444444444, \"#bd3786\"], [0.5555555555555556, \"#d8576b\"], [0.6666666666666666, \"#ed7953\"], [0.7777777777777778, \"#fb9f3a\"], [0.8888888888888888, \"#fdca26\"], [1.0, \"#f0f921\"]], \"type\": \"histogram2dcontour\"}], \"mesh3d\": [{\"colorbar\": {\"outlinewidth\": 0, \"ticks\": \"\"}, \"type\": \"mesh3d\"}], \"parcoords\": [{\"line\": {\"colorbar\": {\"outlinewidth\": 0, \"ticks\": \"\"}}, \"type\": \"parcoords\"}], \"scatter\": [{\"marker\": {\"colorbar\": {\"outlinewidth\": 0, \"ticks\": \"\"}}, \"type\": \"scatter\"}], \"scatter3d\": [{\"line\": {\"colorbar\": {\"outlinewidth\": 0, \"ticks\": \"\"}}, \"marker\": {\"colorbar\": {\"outlinewidth\": 0, \"ticks\": \"\"}}, \"type\": \"scatter3d\"}], \"scattercarpet\": [{\"marker\": {\"colorbar\": {\"outlinewidth\": 0, \"ticks\": \"\"}}, \"type\": \"scattercarpet\"}], \"scattergeo\": [{\"marker\": {\"colorbar\": {\"outlinewidth\": 0, \"ticks\": \"\"}}, \"type\": \"scattergeo\"}], \"scattergl\": [{\"marker\": {\"colorbar\": {\"outlinewidth\": 0, \"ticks\": \"\"}}, \"type\": \"scattergl\"}], \"scattermapbox\": [{\"marker\": {\"colorbar\": {\"outlinewidth\": 0, \"ticks\": \"\"}}, \"type\": \"scattermapbox\"}], \"scatterpolar\": [{\"marker\": {\"colorbar\": {\"outlinewidth\": 0, \"ticks\": \"\"}}, \"type\": \"scatterpolar\"}], \"scatterpolargl\": [{\"marker\": {\"colorbar\": {\"outlinewidth\": 0, \"ticks\": \"\"}}, \"type\": \"scatterpolargl\"}], \"scatterternary\": [{\"marker\": {\"colorbar\": {\"outlinewidth\": 0, \"ticks\": \"\"}}, \"type\": \"scatterternary\"}], \"surface\": [{\"colorbar\": {\"outlinewidth\": 0, \"ticks\": \"\"}, \"colorscale\": [[0.0, \"#0d0887\"], [0.1111111111111111, \"#46039f\"], [0.2222222222222222, \"#7201a8\"], [0.3333333333333333, \"#9c179e\"], [0.4444444444444444, \"#bd3786\"], [0.5555555555555556, \"#d8576b\"], [0.6666666666666666, \"#ed7953\"], [0.7777777777777778, \"#fb9f3a\"], [0.8888888888888888, \"#fdca26\"], [1.0, \"#f0f921\"]], \"type\": \"surface\"}], \"table\": [{\"cells\": {\"fill\": {\"color\": \"#EBF0F8\"}, \"line\": {\"color\": \"white\"}}, \"header\": {\"fill\": {\"color\": \"#C8D4E3\"}, \"line\": {\"color\": \"white\"}}, \"type\": \"table\"}]}, \"layout\": {\"annotationdefaults\": {\"arrowcolor\": \"#2a3f5f\", \"arrowhead\": 0, \"arrowwidth\": 1}, \"colorscale\": {\"diverging\": [[0, \"#8e0152\"], [0.1, \"#c51b7d\"], [0.2, \"#de77ae\"], [0.3, \"#f1b6da\"], [0.4, \"#fde0ef\"], [0.5, \"#f7f7f7\"], [0.6, \"#e6f5d0\"], [0.7, \"#b8e186\"], [0.8, \"#7fbc41\"], [0.9, \"#4d9221\"], [1, \"#276419\"]], \"sequential\": [[0.0, \"#0d0887\"], [0.1111111111111111, \"#46039f\"], [0.2222222222222222, \"#7201a8\"], [0.3333333333333333, \"#9c179e\"], [0.4444444444444444, \"#bd3786\"], [0.5555555555555556, \"#d8576b\"], [0.6666666666666666, \"#ed7953\"], [0.7777777777777778, \"#fb9f3a\"], [0.8888888888888888, \"#fdca26\"], [1.0, \"#f0f921\"]], \"sequentialminus\": [[0.0, \"#0d0887\"], [0.1111111111111111, \"#46039f\"], [0.2222222222222222, \"#7201a8\"], [0.3333333333333333, \"#9c179e\"], [0.4444444444444444, \"#bd3786\"], [0.5555555555555556, \"#d8576b\"], [0.6666666666666666, \"#ed7953\"], [0.7777777777777778, \"#fb9f3a\"], [0.8888888888888888, \"#fdca26\"], [1.0, \"#f0f921\"]]}, \"colorway\": [\"#636efa\", \"#EF553B\", \"#00cc96\", \"#ab63fa\", \"#FFA15A\", \"#19d3f3\", \"#FF6692\", \"#B6E880\", \"#FF97FF\", \"#FECB52\"], \"font\": {\"color\": \"#2a3f5f\"}, \"geo\": {\"bgcolor\": \"white\", \"lakecolor\": \"white\", \"landcolor\": \"#E5ECF6\", \"showlakes\": true, \"showland\": true, \"subunitcolor\": \"white\"}, \"hoverlabel\": {\"align\": \"left\"}, \"hovermode\": \"closest\", \"mapbox\": {\"style\": \"light\"}, \"paper_bgcolor\": \"white\", \"plot_bgcolor\": \"#E5ECF6\", \"polar\": {\"angularaxis\": {\"gridcolor\": \"white\", \"linecolor\": \"white\", \"ticks\": \"\"}, \"bgcolor\": \"#E5ECF6\", \"radialaxis\": {\"gridcolor\": \"white\", \"linecolor\": \"white\", \"ticks\": \"\"}}, \"scene\": {\"xaxis\": {\"backgroundcolor\": \"#E5ECF6\", \"gridcolor\": \"white\", \"gridwidth\": 2, \"linecolor\": \"white\", \"showbackground\": true, \"ticks\": \"\", \"zerolinecolor\": \"white\"}, \"yaxis\": {\"backgroundcolor\": \"#E5ECF6\", \"gridcolor\": \"white\", \"gridwidth\": 2, \"linecolor\": \"white\", \"showbackground\": true, \"ticks\": \"\", \"zerolinecolor\": \"white\"}, \"zaxis\": {\"backgroundcolor\": \"#E5ECF6\", \"gridcolor\": \"white\", \"gridwidth\": 2, \"linecolor\": \"white\", \"showbackground\": true, \"ticks\": \"\", \"zerolinecolor\": \"white\"}}, \"shapedefaults\": {\"line\": {\"color\": \"#2a3f5f\"}}, \"ternary\": {\"aaxis\": {\"gridcolor\": \"white\", \"linecolor\": \"white\", \"ticks\": \"\"}, \"baxis\": {\"gridcolor\": \"white\", \"linecolor\": \"white\", \"ticks\": \"\"}, \"bgcolor\": \"#E5ECF6\", \"caxis\": {\"gridcolor\": \"white\", \"linecolor\": \"white\", \"ticks\": \"\"}}, \"title\": {\"x\": 0.05}, \"xaxis\": {\"automargin\": true, \"gridcolor\": \"white\", \"linecolor\": \"white\", \"ticks\": \"\", \"zerolinecolor\": \"white\", \"zerolinewidth\": 2}, \"yaxis\": {\"automargin\": true, \"gridcolor\": \"white\", \"linecolor\": \"white\", \"ticks\": \"\", \"zerolinecolor\": \"white\", \"zerolinewidth\": 2}}}, \"xaxis\": {\"anchor\": \"y\", \"domain\": [0.0, 0.98], \"title\": {\"text\": \"Year\"}}, \"yaxis\": {\"anchor\": \"x\", \"domain\": [0.0, 1.0], \"title\": {\"text\": \"Stock Mass [tons]\"}}},\n",
       "                        {\"responsive\": true}\n",
       "                    ).then(function(){\n",
       "                            \n",
       "var gd = document.getElementById('9b14cff5-bf1f-41ac-8c9e-d03b8e143ee1');\n",
       "var x = new MutationObserver(function (mutations, observer) {{\n",
       "        var display = window.getComputedStyle(gd).display;\n",
       "        if (!display || display === 'none') {{\n",
       "            console.log([gd, 'removed!']);\n",
       "            Plotly.purge(gd);\n",
       "            observer.disconnect();\n",
       "        }}\n",
       "}});\n",
       "\n",
       "// Listen for the removal of the full notebook cells\n",
       "var notebookContainer = gd.closest('#notebook-container');\n",
       "if (notebookContainer) {{\n",
       "    x.observe(notebookContainer, {childList: true});\n",
       "}}\n",
       "\n",
       "// Listen for the clearing of the current output cell\n",
       "var outputEl = gd.closest('.output');\n",
       "if (outputEl) {{\n",
       "    x.observe(outputEl, {childList: true});\n",
       "}}\n",
       "\n",
       "                        })\n",
       "                };\n",
       "                });\n",
       "            </script>\n",
       "        </div>"
      ]
     },
     "metadata": {},
     "output_type": "display_data"
    }
   ],
   "source": [
    "### include and exclude are kinda mutually exclusive, be sane.\n",
    "stocks.PlotMass2Dim(mat, \n",
    "                    Dim=['Class', 'Vehicle'], \n",
    "                    materials = dict(include = ['All'], exclude = [None]),\n",
    "                    matgroup = dict(include = ['All'], exclude = [None]),\n",
    "                    vehicles = dict(include = ['All'], exclude = [None]),\n",
    "                    classes = dict(include = ['All'], exclude = [None]),\n",
    "                    domain = dict(include = ['All'], exclude = [None]),\n",
    "                    category_orders={'Class':['Inlandvessels','Seavessels','Cars','Utilitycars','Bicycles','Transit','Aircraft'][::-1]},\n",
    "                    ylabel='Stock Mass [tons]',\n",
    "                    )"
   ]
  },
  {
   "cell_type": "code",
   "execution_count": 6,
   "metadata": {
    "scrolled": false
   },
   "outputs": [
    {
     "data": {
      "application/vnd.plotly.v1+json": {
       "config": {
        "plotlyServerURL": "https://plot.ly"
       },
       "data": [
        {
         "hole": 0.6,
         "labels": [
          "Seavessels",
          "Cars",
          "Inlandvessels",
          "Utilitycars",
          "Bicycles",
          "Transit",
          "Aircraft"
         ],
         "type": "pie",
         "values": [
          15484093,
          9437986,
          8482248,
          1983026,
          667538,
          268150,
          20860
         ]
        }
       ],
       "layout": {
        "font": {
         "family": "Lato, sans serif",
         "size": 11
        },
        "template": {
         "data": {
          "bar": [
           {
            "error_x": {
             "color": "#2a3f5f"
            },
            "error_y": {
             "color": "#2a3f5f"
            },
            "marker": {
             "line": {
              "color": "#E5ECF6",
              "width": 0.5
             }
            },
            "type": "bar"
           }
          ],
          "barpolar": [
           {
            "marker": {
             "line": {
              "color": "#E5ECF6",
              "width": 0.5
             }
            },
            "type": "barpolar"
           }
          ],
          "carpet": [
           {
            "aaxis": {
             "endlinecolor": "#2a3f5f",
             "gridcolor": "white",
             "linecolor": "white",
             "minorgridcolor": "white",
             "startlinecolor": "#2a3f5f"
            },
            "baxis": {
             "endlinecolor": "#2a3f5f",
             "gridcolor": "white",
             "linecolor": "white",
             "minorgridcolor": "white",
             "startlinecolor": "#2a3f5f"
            },
            "type": "carpet"
           }
          ],
          "choropleth": [
           {
            "colorbar": {
             "outlinewidth": 0,
             "ticks": ""
            },
            "type": "choropleth"
           }
          ],
          "contour": [
           {
            "colorbar": {
             "outlinewidth": 0,
             "ticks": ""
            },
            "colorscale": [
             [
              0,
              "#0d0887"
             ],
             [
              0.1111111111111111,
              "#46039f"
             ],
             [
              0.2222222222222222,
              "#7201a8"
             ],
             [
              0.3333333333333333,
              "#9c179e"
             ],
             [
              0.4444444444444444,
              "#bd3786"
             ],
             [
              0.5555555555555556,
              "#d8576b"
             ],
             [
              0.6666666666666666,
              "#ed7953"
             ],
             [
              0.7777777777777778,
              "#fb9f3a"
             ],
             [
              0.8888888888888888,
              "#fdca26"
             ],
             [
              1,
              "#f0f921"
             ]
            ],
            "type": "contour"
           }
          ],
          "contourcarpet": [
           {
            "colorbar": {
             "outlinewidth": 0,
             "ticks": ""
            },
            "type": "contourcarpet"
           }
          ],
          "heatmap": [
           {
            "colorbar": {
             "outlinewidth": 0,
             "ticks": ""
            },
            "colorscale": [
             [
              0,
              "#0d0887"
             ],
             [
              0.1111111111111111,
              "#46039f"
             ],
             [
              0.2222222222222222,
              "#7201a8"
             ],
             [
              0.3333333333333333,
              "#9c179e"
             ],
             [
              0.4444444444444444,
              "#bd3786"
             ],
             [
              0.5555555555555556,
              "#d8576b"
             ],
             [
              0.6666666666666666,
              "#ed7953"
             ],
             [
              0.7777777777777778,
              "#fb9f3a"
             ],
             [
              0.8888888888888888,
              "#fdca26"
             ],
             [
              1,
              "#f0f921"
             ]
            ],
            "type": "heatmap"
           }
          ],
          "heatmapgl": [
           {
            "colorbar": {
             "outlinewidth": 0,
             "ticks": ""
            },
            "colorscale": [
             [
              0,
              "#0d0887"
             ],
             [
              0.1111111111111111,
              "#46039f"
             ],
             [
              0.2222222222222222,
              "#7201a8"
             ],
             [
              0.3333333333333333,
              "#9c179e"
             ],
             [
              0.4444444444444444,
              "#bd3786"
             ],
             [
              0.5555555555555556,
              "#d8576b"
             ],
             [
              0.6666666666666666,
              "#ed7953"
             ],
             [
              0.7777777777777778,
              "#fb9f3a"
             ],
             [
              0.8888888888888888,
              "#fdca26"
             ],
             [
              1,
              "#f0f921"
             ]
            ],
            "type": "heatmapgl"
           }
          ],
          "histogram": [
           {
            "marker": {
             "colorbar": {
              "outlinewidth": 0,
              "ticks": ""
             }
            },
            "type": "histogram"
           }
          ],
          "histogram2d": [
           {
            "colorbar": {
             "outlinewidth": 0,
             "ticks": ""
            },
            "colorscale": [
             [
              0,
              "#0d0887"
             ],
             [
              0.1111111111111111,
              "#46039f"
             ],
             [
              0.2222222222222222,
              "#7201a8"
             ],
             [
              0.3333333333333333,
              "#9c179e"
             ],
             [
              0.4444444444444444,
              "#bd3786"
             ],
             [
              0.5555555555555556,
              "#d8576b"
             ],
             [
              0.6666666666666666,
              "#ed7953"
             ],
             [
              0.7777777777777778,
              "#fb9f3a"
             ],
             [
              0.8888888888888888,
              "#fdca26"
             ],
             [
              1,
              "#f0f921"
             ]
            ],
            "type": "histogram2d"
           }
          ],
          "histogram2dcontour": [
           {
            "colorbar": {
             "outlinewidth": 0,
             "ticks": ""
            },
            "colorscale": [
             [
              0,
              "#0d0887"
             ],
             [
              0.1111111111111111,
              "#46039f"
             ],
             [
              0.2222222222222222,
              "#7201a8"
             ],
             [
              0.3333333333333333,
              "#9c179e"
             ],
             [
              0.4444444444444444,
              "#bd3786"
             ],
             [
              0.5555555555555556,
              "#d8576b"
             ],
             [
              0.6666666666666666,
              "#ed7953"
             ],
             [
              0.7777777777777778,
              "#fb9f3a"
             ],
             [
              0.8888888888888888,
              "#fdca26"
             ],
             [
              1,
              "#f0f921"
             ]
            ],
            "type": "histogram2dcontour"
           }
          ],
          "mesh3d": [
           {
            "colorbar": {
             "outlinewidth": 0,
             "ticks": ""
            },
            "type": "mesh3d"
           }
          ],
          "parcoords": [
           {
            "line": {
             "colorbar": {
              "outlinewidth": 0,
              "ticks": ""
             }
            },
            "type": "parcoords"
           }
          ],
          "scatter": [
           {
            "marker": {
             "colorbar": {
              "outlinewidth": 0,
              "ticks": ""
             }
            },
            "type": "scatter"
           }
          ],
          "scatter3d": [
           {
            "line": {
             "colorbar": {
              "outlinewidth": 0,
              "ticks": ""
             }
            },
            "marker": {
             "colorbar": {
              "outlinewidth": 0,
              "ticks": ""
             }
            },
            "type": "scatter3d"
           }
          ],
          "scattercarpet": [
           {
            "marker": {
             "colorbar": {
              "outlinewidth": 0,
              "ticks": ""
             }
            },
            "type": "scattercarpet"
           }
          ],
          "scattergeo": [
           {
            "marker": {
             "colorbar": {
              "outlinewidth": 0,
              "ticks": ""
             }
            },
            "type": "scattergeo"
           }
          ],
          "scattergl": [
           {
            "marker": {
             "colorbar": {
              "outlinewidth": 0,
              "ticks": ""
             }
            },
            "type": "scattergl"
           }
          ],
          "scattermapbox": [
           {
            "marker": {
             "colorbar": {
              "outlinewidth": 0,
              "ticks": ""
             }
            },
            "type": "scattermapbox"
           }
          ],
          "scatterpolar": [
           {
            "marker": {
             "colorbar": {
              "outlinewidth": 0,
              "ticks": ""
             }
            },
            "type": "scatterpolar"
           }
          ],
          "scatterpolargl": [
           {
            "marker": {
             "colorbar": {
              "outlinewidth": 0,
              "ticks": ""
             }
            },
            "type": "scatterpolargl"
           }
          ],
          "scatterternary": [
           {
            "marker": {
             "colorbar": {
              "outlinewidth": 0,
              "ticks": ""
             }
            },
            "type": "scatterternary"
           }
          ],
          "surface": [
           {
            "colorbar": {
             "outlinewidth": 0,
             "ticks": ""
            },
            "colorscale": [
             [
              0,
              "#0d0887"
             ],
             [
              0.1111111111111111,
              "#46039f"
             ],
             [
              0.2222222222222222,
              "#7201a8"
             ],
             [
              0.3333333333333333,
              "#9c179e"
             ],
             [
              0.4444444444444444,
              "#bd3786"
             ],
             [
              0.5555555555555556,
              "#d8576b"
             ],
             [
              0.6666666666666666,
              "#ed7953"
             ],
             [
              0.7777777777777778,
              "#fb9f3a"
             ],
             [
              0.8888888888888888,
              "#fdca26"
             ],
             [
              1,
              "#f0f921"
             ]
            ],
            "type": "surface"
           }
          ],
          "table": [
           {
            "cells": {
             "fill": {
              "color": "#EBF0F8"
             },
             "line": {
              "color": "white"
             }
            },
            "header": {
             "fill": {
              "color": "#C8D4E3"
             },
             "line": {
              "color": "white"
             }
            },
            "type": "table"
           }
          ]
         },
         "layout": {
          "annotationdefaults": {
           "arrowcolor": "#2a3f5f",
           "arrowhead": 0,
           "arrowwidth": 1
          },
          "colorscale": {
           "diverging": [
            [
             0,
             "#8e0152"
            ],
            [
             0.1,
             "#c51b7d"
            ],
            [
             0.2,
             "#de77ae"
            ],
            [
             0.3,
             "#f1b6da"
            ],
            [
             0.4,
             "#fde0ef"
            ],
            [
             0.5,
             "#f7f7f7"
            ],
            [
             0.6,
             "#e6f5d0"
            ],
            [
             0.7,
             "#b8e186"
            ],
            [
             0.8,
             "#7fbc41"
            ],
            [
             0.9,
             "#4d9221"
            ],
            [
             1,
             "#276419"
            ]
           ],
           "sequential": [
            [
             0,
             "#0d0887"
            ],
            [
             0.1111111111111111,
             "#46039f"
            ],
            [
             0.2222222222222222,
             "#7201a8"
            ],
            [
             0.3333333333333333,
             "#9c179e"
            ],
            [
             0.4444444444444444,
             "#bd3786"
            ],
            [
             0.5555555555555556,
             "#d8576b"
            ],
            [
             0.6666666666666666,
             "#ed7953"
            ],
            [
             0.7777777777777778,
             "#fb9f3a"
            ],
            [
             0.8888888888888888,
             "#fdca26"
            ],
            [
             1,
             "#f0f921"
            ]
           ],
           "sequentialminus": [
            [
             0,
             "#0d0887"
            ],
            [
             0.1111111111111111,
             "#46039f"
            ],
            [
             0.2222222222222222,
             "#7201a8"
            ],
            [
             0.3333333333333333,
             "#9c179e"
            ],
            [
             0.4444444444444444,
             "#bd3786"
            ],
            [
             0.5555555555555556,
             "#d8576b"
            ],
            [
             0.6666666666666666,
             "#ed7953"
            ],
            [
             0.7777777777777778,
             "#fb9f3a"
            ],
            [
             0.8888888888888888,
             "#fdca26"
            ],
            [
             1,
             "#f0f921"
            ]
           ]
          },
          "colorway": [
           "#636efa",
           "#EF553B",
           "#00cc96",
           "#ab63fa",
           "#FFA15A",
           "#19d3f3",
           "#FF6692",
           "#B6E880",
           "#FF97FF",
           "#FECB52"
          ],
          "font": {
           "color": "#2a3f5f"
          },
          "geo": {
           "bgcolor": "white",
           "lakecolor": "white",
           "landcolor": "#E5ECF6",
           "showlakes": true,
           "showland": true,
           "subunitcolor": "white"
          },
          "hoverlabel": {
           "align": "left"
          },
          "hovermode": "closest",
          "mapbox": {
           "style": "light"
          },
          "paper_bgcolor": "white",
          "plot_bgcolor": "#E5ECF6",
          "polar": {
           "angularaxis": {
            "gridcolor": "white",
            "linecolor": "white",
            "ticks": ""
           },
           "bgcolor": "#E5ECF6",
           "radialaxis": {
            "gridcolor": "white",
            "linecolor": "white",
            "ticks": ""
           }
          },
          "scene": {
           "xaxis": {
            "backgroundcolor": "#E5ECF6",
            "gridcolor": "white",
            "gridwidth": 2,
            "linecolor": "white",
            "showbackground": true,
            "ticks": "",
            "zerolinecolor": "white"
           },
           "yaxis": {
            "backgroundcolor": "#E5ECF6",
            "gridcolor": "white",
            "gridwidth": 2,
            "linecolor": "white",
            "showbackground": true,
            "ticks": "",
            "zerolinecolor": "white"
           },
           "zaxis": {
            "backgroundcolor": "#E5ECF6",
            "gridcolor": "white",
            "gridwidth": 2,
            "linecolor": "white",
            "showbackground": true,
            "ticks": "",
            "zerolinecolor": "white"
           }
          },
          "shapedefaults": {
           "line": {
            "color": "#2a3f5f"
           }
          },
          "ternary": {
           "aaxis": {
            "gridcolor": "white",
            "linecolor": "white",
            "ticks": ""
           },
           "baxis": {
            "gridcolor": "white",
            "linecolor": "white",
            "ticks": ""
           },
           "bgcolor": "#E5ECF6",
           "caxis": {
            "gridcolor": "white",
            "linecolor": "white",
            "ticks": ""
           }
          },
          "title": {
           "x": 0.05
          },
          "xaxis": {
           "automargin": true,
           "gridcolor": "white",
           "linecolor": "white",
           "ticks": "",
           "zerolinecolor": "white",
           "zerolinewidth": 2
          },
          "yaxis": {
           "automargin": true,
           "gridcolor": "white",
           "linecolor": "white",
           "ticks": "",
           "zerolinecolor": "white",
           "zerolinewidth": 2
          }
         }
        }
       }
      },
      "text/html": [
       "<div>\n",
       "        \n",
       "        \n",
       "            <div id=\"b6e8ec71-51ee-4d49-814c-cb63492e41f6\" class=\"plotly-graph-div\" style=\"height:525px; width:100%;\"></div>\n",
       "            <script type=\"text/javascript\">\n",
       "                require([\"plotly\"], function(Plotly) {\n",
       "                    window.PLOTLYENV=window.PLOTLYENV || {};\n",
       "                    \n",
       "                if (document.getElementById(\"b6e8ec71-51ee-4d49-814c-cb63492e41f6\")) {\n",
       "                    Plotly.newPlot(\n",
       "                        'b6e8ec71-51ee-4d49-814c-cb63492e41f6',\n",
       "                        [{\"hole\": 0.6, \"labels\": [\"Seavessels\", \"Cars\", \"Inlandvessels\", \"Utilitycars\", \"Bicycles\", \"Transit\", \"Aircraft\"], \"type\": \"pie\", \"values\": [15484093, 9437986, 8482248, 1983026, 667538, 268150, 20860]}],\n",
       "                        {\"font\": {\"family\": \"Lato, sans serif\", \"size\": 11}, \"template\": {\"data\": {\"bar\": [{\"error_x\": {\"color\": \"#2a3f5f\"}, \"error_y\": {\"color\": \"#2a3f5f\"}, \"marker\": {\"line\": {\"color\": \"#E5ECF6\", \"width\": 0.5}}, \"type\": \"bar\"}], \"barpolar\": [{\"marker\": {\"line\": {\"color\": \"#E5ECF6\", \"width\": 0.5}}, \"type\": \"barpolar\"}], \"carpet\": [{\"aaxis\": {\"endlinecolor\": \"#2a3f5f\", \"gridcolor\": \"white\", \"linecolor\": \"white\", \"minorgridcolor\": \"white\", \"startlinecolor\": \"#2a3f5f\"}, \"baxis\": {\"endlinecolor\": \"#2a3f5f\", \"gridcolor\": \"white\", \"linecolor\": \"white\", \"minorgridcolor\": \"white\", \"startlinecolor\": \"#2a3f5f\"}, \"type\": \"carpet\"}], \"choropleth\": [{\"colorbar\": {\"outlinewidth\": 0, \"ticks\": \"\"}, \"type\": \"choropleth\"}], \"contour\": [{\"colorbar\": {\"outlinewidth\": 0, \"ticks\": \"\"}, \"colorscale\": [[0.0, \"#0d0887\"], [0.1111111111111111, \"#46039f\"], [0.2222222222222222, \"#7201a8\"], [0.3333333333333333, \"#9c179e\"], [0.4444444444444444, \"#bd3786\"], [0.5555555555555556, \"#d8576b\"], [0.6666666666666666, \"#ed7953\"], [0.7777777777777778, \"#fb9f3a\"], [0.8888888888888888, \"#fdca26\"], [1.0, \"#f0f921\"]], \"type\": \"contour\"}], \"contourcarpet\": [{\"colorbar\": {\"outlinewidth\": 0, \"ticks\": \"\"}, \"type\": \"contourcarpet\"}], \"heatmap\": [{\"colorbar\": {\"outlinewidth\": 0, \"ticks\": \"\"}, \"colorscale\": [[0.0, \"#0d0887\"], [0.1111111111111111, \"#46039f\"], [0.2222222222222222, \"#7201a8\"], [0.3333333333333333, \"#9c179e\"], [0.4444444444444444, \"#bd3786\"], [0.5555555555555556, \"#d8576b\"], [0.6666666666666666, \"#ed7953\"], [0.7777777777777778, \"#fb9f3a\"], [0.8888888888888888, \"#fdca26\"], [1.0, \"#f0f921\"]], \"type\": \"heatmap\"}], \"heatmapgl\": [{\"colorbar\": {\"outlinewidth\": 0, \"ticks\": \"\"}, \"colorscale\": [[0.0, \"#0d0887\"], [0.1111111111111111, \"#46039f\"], [0.2222222222222222, \"#7201a8\"], [0.3333333333333333, \"#9c179e\"], [0.4444444444444444, \"#bd3786\"], [0.5555555555555556, \"#d8576b\"], [0.6666666666666666, \"#ed7953\"], [0.7777777777777778, \"#fb9f3a\"], [0.8888888888888888, \"#fdca26\"], [1.0, \"#f0f921\"]], \"type\": \"heatmapgl\"}], \"histogram\": [{\"marker\": {\"colorbar\": {\"outlinewidth\": 0, \"ticks\": \"\"}}, \"type\": \"histogram\"}], \"histogram2d\": [{\"colorbar\": {\"outlinewidth\": 0, \"ticks\": \"\"}, \"colorscale\": [[0.0, \"#0d0887\"], [0.1111111111111111, \"#46039f\"], [0.2222222222222222, \"#7201a8\"], [0.3333333333333333, \"#9c179e\"], [0.4444444444444444, \"#bd3786\"], [0.5555555555555556, \"#d8576b\"], [0.6666666666666666, \"#ed7953\"], [0.7777777777777778, \"#fb9f3a\"], [0.8888888888888888, \"#fdca26\"], [1.0, \"#f0f921\"]], \"type\": \"histogram2d\"}], \"histogram2dcontour\": [{\"colorbar\": {\"outlinewidth\": 0, \"ticks\": \"\"}, \"colorscale\": [[0.0, \"#0d0887\"], [0.1111111111111111, \"#46039f\"], [0.2222222222222222, \"#7201a8\"], [0.3333333333333333, \"#9c179e\"], [0.4444444444444444, \"#bd3786\"], [0.5555555555555556, \"#d8576b\"], [0.6666666666666666, \"#ed7953\"], [0.7777777777777778, \"#fb9f3a\"], [0.8888888888888888, \"#fdca26\"], [1.0, \"#f0f921\"]], \"type\": \"histogram2dcontour\"}], \"mesh3d\": [{\"colorbar\": {\"outlinewidth\": 0, \"ticks\": \"\"}, \"type\": \"mesh3d\"}], \"parcoords\": [{\"line\": {\"colorbar\": {\"outlinewidth\": 0, \"ticks\": \"\"}}, \"type\": \"parcoords\"}], \"scatter\": [{\"marker\": {\"colorbar\": {\"outlinewidth\": 0, \"ticks\": \"\"}}, \"type\": \"scatter\"}], \"scatter3d\": [{\"line\": {\"colorbar\": {\"outlinewidth\": 0, \"ticks\": \"\"}}, \"marker\": {\"colorbar\": {\"outlinewidth\": 0, \"ticks\": \"\"}}, \"type\": \"scatter3d\"}], \"scattercarpet\": [{\"marker\": {\"colorbar\": {\"outlinewidth\": 0, \"ticks\": \"\"}}, \"type\": \"scattercarpet\"}], \"scattergeo\": [{\"marker\": {\"colorbar\": {\"outlinewidth\": 0, \"ticks\": \"\"}}, \"type\": \"scattergeo\"}], \"scattergl\": [{\"marker\": {\"colorbar\": {\"outlinewidth\": 0, \"ticks\": \"\"}}, \"type\": \"scattergl\"}], \"scattermapbox\": [{\"marker\": {\"colorbar\": {\"outlinewidth\": 0, \"ticks\": \"\"}}, \"type\": \"scattermapbox\"}], \"scatterpolar\": [{\"marker\": {\"colorbar\": {\"outlinewidth\": 0, \"ticks\": \"\"}}, \"type\": \"scatterpolar\"}], \"scatterpolargl\": [{\"marker\": {\"colorbar\": {\"outlinewidth\": 0, \"ticks\": \"\"}}, \"type\": \"scatterpolargl\"}], \"scatterternary\": [{\"marker\": {\"colorbar\": {\"outlinewidth\": 0, \"ticks\": \"\"}}, \"type\": \"scatterternary\"}], \"surface\": [{\"colorbar\": {\"outlinewidth\": 0, \"ticks\": \"\"}, \"colorscale\": [[0.0, \"#0d0887\"], [0.1111111111111111, \"#46039f\"], [0.2222222222222222, \"#7201a8\"], [0.3333333333333333, \"#9c179e\"], [0.4444444444444444, \"#bd3786\"], [0.5555555555555556, \"#d8576b\"], [0.6666666666666666, \"#ed7953\"], [0.7777777777777778, \"#fb9f3a\"], [0.8888888888888888, \"#fdca26\"], [1.0, \"#f0f921\"]], \"type\": \"surface\"}], \"table\": [{\"cells\": {\"fill\": {\"color\": \"#EBF0F8\"}, \"line\": {\"color\": \"white\"}}, \"header\": {\"fill\": {\"color\": \"#C8D4E3\"}, \"line\": {\"color\": \"white\"}}, \"type\": \"table\"}]}, \"layout\": {\"annotationdefaults\": {\"arrowcolor\": \"#2a3f5f\", \"arrowhead\": 0, \"arrowwidth\": 1}, \"colorscale\": {\"diverging\": [[0, \"#8e0152\"], [0.1, \"#c51b7d\"], [0.2, \"#de77ae\"], [0.3, \"#f1b6da\"], [0.4, \"#fde0ef\"], [0.5, \"#f7f7f7\"], [0.6, \"#e6f5d0\"], [0.7, \"#b8e186\"], [0.8, \"#7fbc41\"], [0.9, \"#4d9221\"], [1, \"#276419\"]], \"sequential\": [[0.0, \"#0d0887\"], [0.1111111111111111, \"#46039f\"], [0.2222222222222222, \"#7201a8\"], [0.3333333333333333, \"#9c179e\"], [0.4444444444444444, \"#bd3786\"], [0.5555555555555556, \"#d8576b\"], [0.6666666666666666, \"#ed7953\"], [0.7777777777777778, \"#fb9f3a\"], [0.8888888888888888, \"#fdca26\"], [1.0, \"#f0f921\"]], \"sequentialminus\": [[0.0, \"#0d0887\"], [0.1111111111111111, \"#46039f\"], [0.2222222222222222, \"#7201a8\"], [0.3333333333333333, \"#9c179e\"], [0.4444444444444444, \"#bd3786\"], [0.5555555555555556, \"#d8576b\"], [0.6666666666666666, \"#ed7953\"], [0.7777777777777778, \"#fb9f3a\"], [0.8888888888888888, \"#fdca26\"], [1.0, \"#f0f921\"]]}, \"colorway\": [\"#636efa\", \"#EF553B\", \"#00cc96\", \"#ab63fa\", \"#FFA15A\", \"#19d3f3\", \"#FF6692\", \"#B6E880\", \"#FF97FF\", \"#FECB52\"], \"font\": {\"color\": \"#2a3f5f\"}, \"geo\": {\"bgcolor\": \"white\", \"lakecolor\": \"white\", \"landcolor\": \"#E5ECF6\", \"showlakes\": true, \"showland\": true, \"subunitcolor\": \"white\"}, \"hoverlabel\": {\"align\": \"left\"}, \"hovermode\": \"closest\", \"mapbox\": {\"style\": \"light\"}, \"paper_bgcolor\": \"white\", \"plot_bgcolor\": \"#E5ECF6\", \"polar\": {\"angularaxis\": {\"gridcolor\": \"white\", \"linecolor\": \"white\", \"ticks\": \"\"}, \"bgcolor\": \"#E5ECF6\", \"radialaxis\": {\"gridcolor\": \"white\", \"linecolor\": \"white\", \"ticks\": \"\"}}, \"scene\": {\"xaxis\": {\"backgroundcolor\": \"#E5ECF6\", \"gridcolor\": \"white\", \"gridwidth\": 2, \"linecolor\": \"white\", \"showbackground\": true, \"ticks\": \"\", \"zerolinecolor\": \"white\"}, \"yaxis\": {\"backgroundcolor\": \"#E5ECF6\", \"gridcolor\": \"white\", \"gridwidth\": 2, \"linecolor\": \"white\", \"showbackground\": true, \"ticks\": \"\", \"zerolinecolor\": \"white\"}, \"zaxis\": {\"backgroundcolor\": \"#E5ECF6\", \"gridcolor\": \"white\", \"gridwidth\": 2, \"linecolor\": \"white\", \"showbackground\": true, \"ticks\": \"\", \"zerolinecolor\": \"white\"}}, \"shapedefaults\": {\"line\": {\"color\": \"#2a3f5f\"}}, \"ternary\": {\"aaxis\": {\"gridcolor\": \"white\", \"linecolor\": \"white\", \"ticks\": \"\"}, \"baxis\": {\"gridcolor\": \"white\", \"linecolor\": \"white\", \"ticks\": \"\"}, \"bgcolor\": \"#E5ECF6\", \"caxis\": {\"gridcolor\": \"white\", \"linecolor\": \"white\", \"ticks\": \"\"}}, \"title\": {\"x\": 0.05}, \"xaxis\": {\"automargin\": true, \"gridcolor\": \"white\", \"linecolor\": \"white\", \"ticks\": \"\", \"zerolinecolor\": \"white\", \"zerolinewidth\": 2}, \"yaxis\": {\"automargin\": true, \"gridcolor\": \"white\", \"linecolor\": \"white\", \"ticks\": \"\", \"zerolinecolor\": \"white\", \"zerolinewidth\": 2}}}},\n",
       "                        {\"responsive\": true}\n",
       "                    ).then(function(){\n",
       "                            \n",
       "var gd = document.getElementById('b6e8ec71-51ee-4d49-814c-cb63492e41f6');\n",
       "var x = new MutationObserver(function (mutations, observer) {{\n",
       "        var display = window.getComputedStyle(gd).display;\n",
       "        if (!display || display === 'none') {{\n",
       "            console.log([gd, 'removed!']);\n",
       "            Plotly.purge(gd);\n",
       "            observer.disconnect();\n",
       "        }}\n",
       "}});\n",
       "\n",
       "// Listen for the removal of the full notebook cells\n",
       "var notebookContainer = gd.closest('#notebook-container');\n",
       "if (notebookContainer) {{\n",
       "    x.observe(notebookContainer, {childList: true});\n",
       "}}\n",
       "\n",
       "// Listen for the clearing of the current output cell\n",
       "var outputEl = gd.closest('.output');\n",
       "if (outputEl) {{\n",
       "    x.observe(outputEl, {childList: true});\n",
       "}}\n",
       "\n",
       "                        })\n",
       "                };\n",
       "                });\n",
       "            </script>\n",
       "        </div>"
      ]
     },
     "metadata": {},
     "output_type": "display_data"
    },
    {
     "name": "stdout",
     "output_type": "stream",
     "text": [
      "Total mass:\t36.3439 Mt\n",
      "Transit:\t0.26815 Mt\n",
      "Bicycles:\t0.66754 Mt\n",
      "Cars:\t9.43799 Mt\n",
      "Utilitycars:\t1.98303 Mt\n",
      "Seavessels:\t15.48409 Mt\n",
      "Inlandvessels:\t8.48225 Mt\n",
      "Pleziervaartuigen:\t0.0 Mt\n",
      "Aircraft:\t0.02086 Mt\n"
     ]
    }
   ],
   "source": [
    "cat = ['Class']\n",
    "year=2017\n",
    "stocks.DonutChart(mat,\n",
    "                  cat = cat,\n",
    "                  year = year,\n",
    "                  lim=20,\n",
    "                  exportpdf=True,\n",
    "                  )\n",
    "print('Total mass:\\t'+str(round(mat.loc[mat['Year']==2017].loc[:,'Mass'].sum()/1e6,4))+' Mt')\n",
    "for i in mat[cat[0]].unique():\n",
    "    print(i+':\\t'+str(round(mat.loc[mat['Year']==year].loc[mat[cat[0]].isin([i]), 'Mass'].sum()/1e6,5))+' Mt')\n"
   ]
  },
  {
   "cell_type": "code",
   "execution_count": 7,
   "metadata": {},
   "outputs": [
    {
     "data": {
      "application/vnd.plotly.v1+json": {
       "config": {
        "plotlyServerURL": "https://plot.ly"
       },
       "data": [
        {
         "hole": 0.6,
         "labels": [
          "Aluminium",
          "Steel",
          "Steel, reinforcing",
          "Polyethylene",
          "Aluminium, wrought alloy",
          "Polypropylene",
          "Steel, low alloy",
          "Rubber",
          "Aluminium, cast alloy",
          "Rubber, synthetic",
          "Polyvinylchloride",
          "Copper",
          "Ethylene",
          "Other"
         ],
         "type": "pie",
         "values": [
          187084,
          166273,
          112178,
          87188,
          25713,
          18528,
          16689,
          13849,
          12100,
          7436,
          6039,
          3231,
          3125,
          8096
         ]
        }
       ],
       "layout": {
        "font": {
         "family": "Lato, sans serif",
         "size": 11
        },
        "template": {
         "data": {
          "bar": [
           {
            "error_x": {
             "color": "#2a3f5f"
            },
            "error_y": {
             "color": "#2a3f5f"
            },
            "marker": {
             "line": {
              "color": "#E5ECF6",
              "width": 0.5
             }
            },
            "type": "bar"
           }
          ],
          "barpolar": [
           {
            "marker": {
             "line": {
              "color": "#E5ECF6",
              "width": 0.5
             }
            },
            "type": "barpolar"
           }
          ],
          "carpet": [
           {
            "aaxis": {
             "endlinecolor": "#2a3f5f",
             "gridcolor": "white",
             "linecolor": "white",
             "minorgridcolor": "white",
             "startlinecolor": "#2a3f5f"
            },
            "baxis": {
             "endlinecolor": "#2a3f5f",
             "gridcolor": "white",
             "linecolor": "white",
             "minorgridcolor": "white",
             "startlinecolor": "#2a3f5f"
            },
            "type": "carpet"
           }
          ],
          "choropleth": [
           {
            "colorbar": {
             "outlinewidth": 0,
             "ticks": ""
            },
            "type": "choropleth"
           }
          ],
          "contour": [
           {
            "colorbar": {
             "outlinewidth": 0,
             "ticks": ""
            },
            "colorscale": [
             [
              0,
              "#0d0887"
             ],
             [
              0.1111111111111111,
              "#46039f"
             ],
             [
              0.2222222222222222,
              "#7201a8"
             ],
             [
              0.3333333333333333,
              "#9c179e"
             ],
             [
              0.4444444444444444,
              "#bd3786"
             ],
             [
              0.5555555555555556,
              "#d8576b"
             ],
             [
              0.6666666666666666,
              "#ed7953"
             ],
             [
              0.7777777777777778,
              "#fb9f3a"
             ],
             [
              0.8888888888888888,
              "#fdca26"
             ],
             [
              1,
              "#f0f921"
             ]
            ],
            "type": "contour"
           }
          ],
          "contourcarpet": [
           {
            "colorbar": {
             "outlinewidth": 0,
             "ticks": ""
            },
            "type": "contourcarpet"
           }
          ],
          "heatmap": [
           {
            "colorbar": {
             "outlinewidth": 0,
             "ticks": ""
            },
            "colorscale": [
             [
              0,
              "#0d0887"
             ],
             [
              0.1111111111111111,
              "#46039f"
             ],
             [
              0.2222222222222222,
              "#7201a8"
             ],
             [
              0.3333333333333333,
              "#9c179e"
             ],
             [
              0.4444444444444444,
              "#bd3786"
             ],
             [
              0.5555555555555556,
              "#d8576b"
             ],
             [
              0.6666666666666666,
              "#ed7953"
             ],
             [
              0.7777777777777778,
              "#fb9f3a"
             ],
             [
              0.8888888888888888,
              "#fdca26"
             ],
             [
              1,
              "#f0f921"
             ]
            ],
            "type": "heatmap"
           }
          ],
          "heatmapgl": [
           {
            "colorbar": {
             "outlinewidth": 0,
             "ticks": ""
            },
            "colorscale": [
             [
              0,
              "#0d0887"
             ],
             [
              0.1111111111111111,
              "#46039f"
             ],
             [
              0.2222222222222222,
              "#7201a8"
             ],
             [
              0.3333333333333333,
              "#9c179e"
             ],
             [
              0.4444444444444444,
              "#bd3786"
             ],
             [
              0.5555555555555556,
              "#d8576b"
             ],
             [
              0.6666666666666666,
              "#ed7953"
             ],
             [
              0.7777777777777778,
              "#fb9f3a"
             ],
             [
              0.8888888888888888,
              "#fdca26"
             ],
             [
              1,
              "#f0f921"
             ]
            ],
            "type": "heatmapgl"
           }
          ],
          "histogram": [
           {
            "marker": {
             "colorbar": {
              "outlinewidth": 0,
              "ticks": ""
             }
            },
            "type": "histogram"
           }
          ],
          "histogram2d": [
           {
            "colorbar": {
             "outlinewidth": 0,
             "ticks": ""
            },
            "colorscale": [
             [
              0,
              "#0d0887"
             ],
             [
              0.1111111111111111,
              "#46039f"
             ],
             [
              0.2222222222222222,
              "#7201a8"
             ],
             [
              0.3333333333333333,
              "#9c179e"
             ],
             [
              0.4444444444444444,
              "#bd3786"
             ],
             [
              0.5555555555555556,
              "#d8576b"
             ],
             [
              0.6666666666666666,
              "#ed7953"
             ],
             [
              0.7777777777777778,
              "#fb9f3a"
             ],
             [
              0.8888888888888888,
              "#fdca26"
             ],
             [
              1,
              "#f0f921"
             ]
            ],
            "type": "histogram2d"
           }
          ],
          "histogram2dcontour": [
           {
            "colorbar": {
             "outlinewidth": 0,
             "ticks": ""
            },
            "colorscale": [
             [
              0,
              "#0d0887"
             ],
             [
              0.1111111111111111,
              "#46039f"
             ],
             [
              0.2222222222222222,
              "#7201a8"
             ],
             [
              0.3333333333333333,
              "#9c179e"
             ],
             [
              0.4444444444444444,
              "#bd3786"
             ],
             [
              0.5555555555555556,
              "#d8576b"
             ],
             [
              0.6666666666666666,
              "#ed7953"
             ],
             [
              0.7777777777777778,
              "#fb9f3a"
             ],
             [
              0.8888888888888888,
              "#fdca26"
             ],
             [
              1,
              "#f0f921"
             ]
            ],
            "type": "histogram2dcontour"
           }
          ],
          "mesh3d": [
           {
            "colorbar": {
             "outlinewidth": 0,
             "ticks": ""
            },
            "type": "mesh3d"
           }
          ],
          "parcoords": [
           {
            "line": {
             "colorbar": {
              "outlinewidth": 0,
              "ticks": ""
             }
            },
            "type": "parcoords"
           }
          ],
          "scatter": [
           {
            "marker": {
             "colorbar": {
              "outlinewidth": 0,
              "ticks": ""
             }
            },
            "type": "scatter"
           }
          ],
          "scatter3d": [
           {
            "line": {
             "colorbar": {
              "outlinewidth": 0,
              "ticks": ""
             }
            },
            "marker": {
             "colorbar": {
              "outlinewidth": 0,
              "ticks": ""
             }
            },
            "type": "scatter3d"
           }
          ],
          "scattercarpet": [
           {
            "marker": {
             "colorbar": {
              "outlinewidth": 0,
              "ticks": ""
             }
            },
            "type": "scattercarpet"
           }
          ],
          "scattergeo": [
           {
            "marker": {
             "colorbar": {
              "outlinewidth": 0,
              "ticks": ""
             }
            },
            "type": "scattergeo"
           }
          ],
          "scattergl": [
           {
            "marker": {
             "colorbar": {
              "outlinewidth": 0,
              "ticks": ""
             }
            },
            "type": "scattergl"
           }
          ],
          "scattermapbox": [
           {
            "marker": {
             "colorbar": {
              "outlinewidth": 0,
              "ticks": ""
             }
            },
            "type": "scattermapbox"
           }
          ],
          "scatterpolar": [
           {
            "marker": {
             "colorbar": {
              "outlinewidth": 0,
              "ticks": ""
             }
            },
            "type": "scatterpolar"
           }
          ],
          "scatterpolargl": [
           {
            "marker": {
             "colorbar": {
              "outlinewidth": 0,
              "ticks": ""
             }
            },
            "type": "scatterpolargl"
           }
          ],
          "scatterternary": [
           {
            "marker": {
             "colorbar": {
              "outlinewidth": 0,
              "ticks": ""
             }
            },
            "type": "scatterternary"
           }
          ],
          "surface": [
           {
            "colorbar": {
             "outlinewidth": 0,
             "ticks": ""
            },
            "colorscale": [
             [
              0,
              "#0d0887"
             ],
             [
              0.1111111111111111,
              "#46039f"
             ],
             [
              0.2222222222222222,
              "#7201a8"
             ],
             [
              0.3333333333333333,
              "#9c179e"
             ],
             [
              0.4444444444444444,
              "#bd3786"
             ],
             [
              0.5555555555555556,
              "#d8576b"
             ],
             [
              0.6666666666666666,
              "#ed7953"
             ],
             [
              0.7777777777777778,
              "#fb9f3a"
             ],
             [
              0.8888888888888888,
              "#fdca26"
             ],
             [
              1,
              "#f0f921"
             ]
            ],
            "type": "surface"
           }
          ],
          "table": [
           {
            "cells": {
             "fill": {
              "color": "#EBF0F8"
             },
             "line": {
              "color": "white"
             }
            },
            "header": {
             "fill": {
              "color": "#C8D4E3"
             },
             "line": {
              "color": "white"
             }
            },
            "type": "table"
           }
          ]
         },
         "layout": {
          "annotationdefaults": {
           "arrowcolor": "#2a3f5f",
           "arrowhead": 0,
           "arrowwidth": 1
          },
          "colorscale": {
           "diverging": [
            [
             0,
             "#8e0152"
            ],
            [
             0.1,
             "#c51b7d"
            ],
            [
             0.2,
             "#de77ae"
            ],
            [
             0.3,
             "#f1b6da"
            ],
            [
             0.4,
             "#fde0ef"
            ],
            [
             0.5,
             "#f7f7f7"
            ],
            [
             0.6,
             "#e6f5d0"
            ],
            [
             0.7,
             "#b8e186"
            ],
            [
             0.8,
             "#7fbc41"
            ],
            [
             0.9,
             "#4d9221"
            ],
            [
             1,
             "#276419"
            ]
           ],
           "sequential": [
            [
             0,
             "#0d0887"
            ],
            [
             0.1111111111111111,
             "#46039f"
            ],
            [
             0.2222222222222222,
             "#7201a8"
            ],
            [
             0.3333333333333333,
             "#9c179e"
            ],
            [
             0.4444444444444444,
             "#bd3786"
            ],
            [
             0.5555555555555556,
             "#d8576b"
            ],
            [
             0.6666666666666666,
             "#ed7953"
            ],
            [
             0.7777777777777778,
             "#fb9f3a"
            ],
            [
             0.8888888888888888,
             "#fdca26"
            ],
            [
             1,
             "#f0f921"
            ]
           ],
           "sequentialminus": [
            [
             0,
             "#0d0887"
            ],
            [
             0.1111111111111111,
             "#46039f"
            ],
            [
             0.2222222222222222,
             "#7201a8"
            ],
            [
             0.3333333333333333,
             "#9c179e"
            ],
            [
             0.4444444444444444,
             "#bd3786"
            ],
            [
             0.5555555555555556,
             "#d8576b"
            ],
            [
             0.6666666666666666,
             "#ed7953"
            ],
            [
             0.7777777777777778,
             "#fb9f3a"
            ],
            [
             0.8888888888888888,
             "#fdca26"
            ],
            [
             1,
             "#f0f921"
            ]
           ]
          },
          "colorway": [
           "#636efa",
           "#EF553B",
           "#00cc96",
           "#ab63fa",
           "#FFA15A",
           "#19d3f3",
           "#FF6692",
           "#B6E880",
           "#FF97FF",
           "#FECB52"
          ],
          "font": {
           "color": "#2a3f5f"
          },
          "geo": {
           "bgcolor": "white",
           "lakecolor": "white",
           "landcolor": "#E5ECF6",
           "showlakes": true,
           "showland": true,
           "subunitcolor": "white"
          },
          "hoverlabel": {
           "align": "left"
          },
          "hovermode": "closest",
          "mapbox": {
           "style": "light"
          },
          "paper_bgcolor": "white",
          "plot_bgcolor": "#E5ECF6",
          "polar": {
           "angularaxis": {
            "gridcolor": "white",
            "linecolor": "white",
            "ticks": ""
           },
           "bgcolor": "#E5ECF6",
           "radialaxis": {
            "gridcolor": "white",
            "linecolor": "white",
            "ticks": ""
           }
          },
          "scene": {
           "xaxis": {
            "backgroundcolor": "#E5ECF6",
            "gridcolor": "white",
            "gridwidth": 2,
            "linecolor": "white",
            "showbackground": true,
            "ticks": "",
            "zerolinecolor": "white"
           },
           "yaxis": {
            "backgroundcolor": "#E5ECF6",
            "gridcolor": "white",
            "gridwidth": 2,
            "linecolor": "white",
            "showbackground": true,
            "ticks": "",
            "zerolinecolor": "white"
           },
           "zaxis": {
            "backgroundcolor": "#E5ECF6",
            "gridcolor": "white",
            "gridwidth": 2,
            "linecolor": "white",
            "showbackground": true,
            "ticks": "",
            "zerolinecolor": "white"
           }
          },
          "shapedefaults": {
           "line": {
            "color": "#2a3f5f"
           }
          },
          "ternary": {
           "aaxis": {
            "gridcolor": "white",
            "linecolor": "white",
            "ticks": ""
           },
           "baxis": {
            "gridcolor": "white",
            "linecolor": "white",
            "ticks": ""
           },
           "bgcolor": "#E5ECF6",
           "caxis": {
            "gridcolor": "white",
            "linecolor": "white",
            "ticks": ""
           }
          },
          "title": {
           "x": 0.05
          },
          "xaxis": {
           "automargin": true,
           "gridcolor": "white",
           "linecolor": "white",
           "ticks": "",
           "zerolinecolor": "white",
           "zerolinewidth": 2
          },
          "yaxis": {
           "automargin": true,
           "gridcolor": "white",
           "linecolor": "white",
           "ticks": "",
           "zerolinecolor": "white",
           "zerolinewidth": 2
          }
         }
        }
       }
      },
      "text/html": [
       "<div>\n",
       "        \n",
       "        \n",
       "            <div id=\"26db50df-54fd-4b97-abd3-b854c5b9d2ca\" class=\"plotly-graph-div\" style=\"height:525px; width:100%;\"></div>\n",
       "            <script type=\"text/javascript\">\n",
       "                require([\"plotly\"], function(Plotly) {\n",
       "                    window.PLOTLYENV=window.PLOTLYENV || {};\n",
       "                    \n",
       "                if (document.getElementById(\"26db50df-54fd-4b97-abd3-b854c5b9d2ca\")) {\n",
       "                    Plotly.newPlot(\n",
       "                        '26db50df-54fd-4b97-abd3-b854c5b9d2ca',\n",
       "                        [{\"hole\": 0.6, \"labels\": [\"Aluminium\", \"Steel\", \"Steel, reinforcing\", \"Polyethylene\", \"Aluminium, wrought alloy\", \"Polypropylene\", \"Steel, low alloy\", \"Rubber\", \"Aluminium, cast alloy\", \"Rubber, synthetic\", \"Polyvinylchloride\", \"Copper\", \"Ethylene\", \"Other\"], \"type\": \"pie\", \"values\": [187084, 166273, 112178, 87188, 25713, 18528, 16689, 13849, 12100, 7436, 6039, 3231, 3125, 8096]}],\n",
       "                        {\"font\": {\"family\": \"Lato, sans serif\", \"size\": 11}, \"template\": {\"data\": {\"bar\": [{\"error_x\": {\"color\": \"#2a3f5f\"}, \"error_y\": {\"color\": \"#2a3f5f\"}, \"marker\": {\"line\": {\"color\": \"#E5ECF6\", \"width\": 0.5}}, \"type\": \"bar\"}], \"barpolar\": [{\"marker\": {\"line\": {\"color\": \"#E5ECF6\", \"width\": 0.5}}, \"type\": \"barpolar\"}], \"carpet\": [{\"aaxis\": {\"endlinecolor\": \"#2a3f5f\", \"gridcolor\": \"white\", \"linecolor\": \"white\", \"minorgridcolor\": \"white\", \"startlinecolor\": \"#2a3f5f\"}, \"baxis\": {\"endlinecolor\": \"#2a3f5f\", \"gridcolor\": \"white\", \"linecolor\": \"white\", \"minorgridcolor\": \"white\", \"startlinecolor\": \"#2a3f5f\"}, \"type\": \"carpet\"}], \"choropleth\": [{\"colorbar\": {\"outlinewidth\": 0, \"ticks\": \"\"}, \"type\": \"choropleth\"}], \"contour\": [{\"colorbar\": {\"outlinewidth\": 0, \"ticks\": \"\"}, \"colorscale\": [[0.0, \"#0d0887\"], [0.1111111111111111, \"#46039f\"], [0.2222222222222222, \"#7201a8\"], [0.3333333333333333, \"#9c179e\"], [0.4444444444444444, \"#bd3786\"], [0.5555555555555556, \"#d8576b\"], [0.6666666666666666, \"#ed7953\"], [0.7777777777777778, \"#fb9f3a\"], [0.8888888888888888, \"#fdca26\"], [1.0, \"#f0f921\"]], \"type\": \"contour\"}], \"contourcarpet\": [{\"colorbar\": {\"outlinewidth\": 0, \"ticks\": \"\"}, \"type\": \"contourcarpet\"}], \"heatmap\": [{\"colorbar\": {\"outlinewidth\": 0, \"ticks\": \"\"}, \"colorscale\": [[0.0, \"#0d0887\"], [0.1111111111111111, \"#46039f\"], [0.2222222222222222, \"#7201a8\"], [0.3333333333333333, \"#9c179e\"], [0.4444444444444444, \"#bd3786\"], [0.5555555555555556, \"#d8576b\"], [0.6666666666666666, \"#ed7953\"], [0.7777777777777778, \"#fb9f3a\"], [0.8888888888888888, \"#fdca26\"], [1.0, \"#f0f921\"]], \"type\": \"heatmap\"}], \"heatmapgl\": [{\"colorbar\": {\"outlinewidth\": 0, \"ticks\": \"\"}, \"colorscale\": [[0.0, \"#0d0887\"], [0.1111111111111111, \"#46039f\"], [0.2222222222222222, \"#7201a8\"], [0.3333333333333333, \"#9c179e\"], [0.4444444444444444, \"#bd3786\"], [0.5555555555555556, \"#d8576b\"], [0.6666666666666666, \"#ed7953\"], [0.7777777777777778, \"#fb9f3a\"], [0.8888888888888888, \"#fdca26\"], [1.0, \"#f0f921\"]], \"type\": \"heatmapgl\"}], \"histogram\": [{\"marker\": {\"colorbar\": {\"outlinewidth\": 0, \"ticks\": \"\"}}, \"type\": \"histogram\"}], \"histogram2d\": [{\"colorbar\": {\"outlinewidth\": 0, \"ticks\": \"\"}, \"colorscale\": [[0.0, \"#0d0887\"], [0.1111111111111111, \"#46039f\"], [0.2222222222222222, \"#7201a8\"], [0.3333333333333333, \"#9c179e\"], [0.4444444444444444, \"#bd3786\"], [0.5555555555555556, \"#d8576b\"], [0.6666666666666666, \"#ed7953\"], [0.7777777777777778, \"#fb9f3a\"], [0.8888888888888888, \"#fdca26\"], [1.0, \"#f0f921\"]], \"type\": \"histogram2d\"}], \"histogram2dcontour\": [{\"colorbar\": {\"outlinewidth\": 0, \"ticks\": \"\"}, \"colorscale\": [[0.0, \"#0d0887\"], [0.1111111111111111, \"#46039f\"], [0.2222222222222222, \"#7201a8\"], [0.3333333333333333, \"#9c179e\"], [0.4444444444444444, \"#bd3786\"], [0.5555555555555556, \"#d8576b\"], [0.6666666666666666, \"#ed7953\"], [0.7777777777777778, \"#fb9f3a\"], [0.8888888888888888, \"#fdca26\"], [1.0, \"#f0f921\"]], \"type\": \"histogram2dcontour\"}], \"mesh3d\": [{\"colorbar\": {\"outlinewidth\": 0, \"ticks\": \"\"}, \"type\": \"mesh3d\"}], \"parcoords\": [{\"line\": {\"colorbar\": {\"outlinewidth\": 0, \"ticks\": \"\"}}, \"type\": \"parcoords\"}], \"scatter\": [{\"marker\": {\"colorbar\": {\"outlinewidth\": 0, \"ticks\": \"\"}}, \"type\": \"scatter\"}], \"scatter3d\": [{\"line\": {\"colorbar\": {\"outlinewidth\": 0, \"ticks\": \"\"}}, \"marker\": {\"colorbar\": {\"outlinewidth\": 0, \"ticks\": \"\"}}, \"type\": \"scatter3d\"}], \"scattercarpet\": [{\"marker\": {\"colorbar\": {\"outlinewidth\": 0, \"ticks\": \"\"}}, \"type\": \"scattercarpet\"}], \"scattergeo\": [{\"marker\": {\"colorbar\": {\"outlinewidth\": 0, \"ticks\": \"\"}}, \"type\": \"scattergeo\"}], \"scattergl\": [{\"marker\": {\"colorbar\": {\"outlinewidth\": 0, \"ticks\": \"\"}}, \"type\": \"scattergl\"}], \"scattermapbox\": [{\"marker\": {\"colorbar\": {\"outlinewidth\": 0, \"ticks\": \"\"}}, \"type\": \"scattermapbox\"}], \"scatterpolar\": [{\"marker\": {\"colorbar\": {\"outlinewidth\": 0, \"ticks\": \"\"}}, \"type\": \"scatterpolar\"}], \"scatterpolargl\": [{\"marker\": {\"colorbar\": {\"outlinewidth\": 0, \"ticks\": \"\"}}, \"type\": \"scatterpolargl\"}], \"scatterternary\": [{\"marker\": {\"colorbar\": {\"outlinewidth\": 0, \"ticks\": \"\"}}, \"type\": \"scatterternary\"}], \"surface\": [{\"colorbar\": {\"outlinewidth\": 0, \"ticks\": \"\"}, \"colorscale\": [[0.0, \"#0d0887\"], [0.1111111111111111, \"#46039f\"], [0.2222222222222222, \"#7201a8\"], [0.3333333333333333, \"#9c179e\"], [0.4444444444444444, \"#bd3786\"], [0.5555555555555556, \"#d8576b\"], [0.6666666666666666, \"#ed7953\"], [0.7777777777777778, \"#fb9f3a\"], [0.8888888888888888, \"#fdca26\"], [1.0, \"#f0f921\"]], \"type\": \"surface\"}], \"table\": [{\"cells\": {\"fill\": {\"color\": \"#EBF0F8\"}, \"line\": {\"color\": \"white\"}}, \"header\": {\"fill\": {\"color\": \"#C8D4E3\"}, \"line\": {\"color\": \"white\"}}, \"type\": \"table\"}]}, \"layout\": {\"annotationdefaults\": {\"arrowcolor\": \"#2a3f5f\", \"arrowhead\": 0, \"arrowwidth\": 1}, \"colorscale\": {\"diverging\": [[0, \"#8e0152\"], [0.1, \"#c51b7d\"], [0.2, \"#de77ae\"], [0.3, \"#f1b6da\"], [0.4, \"#fde0ef\"], [0.5, \"#f7f7f7\"], [0.6, \"#e6f5d0\"], [0.7, \"#b8e186\"], [0.8, \"#7fbc41\"], [0.9, \"#4d9221\"], [1, \"#276419\"]], \"sequential\": [[0.0, \"#0d0887\"], [0.1111111111111111, \"#46039f\"], [0.2222222222222222, \"#7201a8\"], [0.3333333333333333, \"#9c179e\"], [0.4444444444444444, \"#bd3786\"], [0.5555555555555556, \"#d8576b\"], [0.6666666666666666, \"#ed7953\"], [0.7777777777777778, \"#fb9f3a\"], [0.8888888888888888, \"#fdca26\"], [1.0, \"#f0f921\"]], \"sequentialminus\": [[0.0, \"#0d0887\"], [0.1111111111111111, \"#46039f\"], [0.2222222222222222, \"#7201a8\"], [0.3333333333333333, \"#9c179e\"], [0.4444444444444444, \"#bd3786\"], [0.5555555555555556, \"#d8576b\"], [0.6666666666666666, \"#ed7953\"], [0.7777777777777778, \"#fb9f3a\"], [0.8888888888888888, \"#fdca26\"], [1.0, \"#f0f921\"]]}, \"colorway\": [\"#636efa\", \"#EF553B\", \"#00cc96\", \"#ab63fa\", \"#FFA15A\", \"#19d3f3\", \"#FF6692\", \"#B6E880\", \"#FF97FF\", \"#FECB52\"], \"font\": {\"color\": \"#2a3f5f\"}, \"geo\": {\"bgcolor\": \"white\", \"lakecolor\": \"white\", \"landcolor\": \"#E5ECF6\", \"showlakes\": true, \"showland\": true, \"subunitcolor\": \"white\"}, \"hoverlabel\": {\"align\": \"left\"}, \"hovermode\": \"closest\", \"mapbox\": {\"style\": \"light\"}, \"paper_bgcolor\": \"white\", \"plot_bgcolor\": \"#E5ECF6\", \"polar\": {\"angularaxis\": {\"gridcolor\": \"white\", \"linecolor\": \"white\", \"ticks\": \"\"}, \"bgcolor\": \"#E5ECF6\", \"radialaxis\": {\"gridcolor\": \"white\", \"linecolor\": \"white\", \"ticks\": \"\"}}, \"scene\": {\"xaxis\": {\"backgroundcolor\": \"#E5ECF6\", \"gridcolor\": \"white\", \"gridwidth\": 2, \"linecolor\": \"white\", \"showbackground\": true, \"ticks\": \"\", \"zerolinecolor\": \"white\"}, \"yaxis\": {\"backgroundcolor\": \"#E5ECF6\", \"gridcolor\": \"white\", \"gridwidth\": 2, \"linecolor\": \"white\", \"showbackground\": true, \"ticks\": \"\", \"zerolinecolor\": \"white\"}, \"zaxis\": {\"backgroundcolor\": \"#E5ECF6\", \"gridcolor\": \"white\", \"gridwidth\": 2, \"linecolor\": \"white\", \"showbackground\": true, \"ticks\": \"\", \"zerolinecolor\": \"white\"}}, \"shapedefaults\": {\"line\": {\"color\": \"#2a3f5f\"}}, \"ternary\": {\"aaxis\": {\"gridcolor\": \"white\", \"linecolor\": \"white\", \"ticks\": \"\"}, \"baxis\": {\"gridcolor\": \"white\", \"linecolor\": \"white\", \"ticks\": \"\"}, \"bgcolor\": \"#E5ECF6\", \"caxis\": {\"gridcolor\": \"white\", \"linecolor\": \"white\", \"ticks\": \"\"}}, \"title\": {\"x\": 0.05}, \"xaxis\": {\"automargin\": true, \"gridcolor\": \"white\", \"linecolor\": \"white\", \"ticks\": \"\", \"zerolinecolor\": \"white\", \"zerolinewidth\": 2}, \"yaxis\": {\"automargin\": true, \"gridcolor\": \"white\", \"linecolor\": \"white\", \"ticks\": \"\", \"zerolinecolor\": \"white\", \"zerolinewidth\": 2}}}},\n",
       "                        {\"responsive\": true}\n",
       "                    ).then(function(){\n",
       "                            \n",
       "var gd = document.getElementById('26db50df-54fd-4b97-abd3-b854c5b9d2ca');\n",
       "var x = new MutationObserver(function (mutations, observer) {{\n",
       "        var display = window.getComputedStyle(gd).display;\n",
       "        if (!display || display === 'none') {{\n",
       "            console.log([gd, 'removed!']);\n",
       "            Plotly.purge(gd);\n",
       "            observer.disconnect();\n",
       "        }}\n",
       "}});\n",
       "\n",
       "// Listen for the removal of the full notebook cells\n",
       "var notebookContainer = gd.closest('#notebook-container');\n",
       "if (notebookContainer) {{\n",
       "    x.observe(notebookContainer, {childList: true});\n",
       "}}\n",
       "\n",
       "// Listen for the clearing of the current output cell\n",
       "var outputEl = gd.closest('.output');\n",
       "if (outputEl) {{\n",
       "    x.observe(outputEl, {childList: true});\n",
       "}}\n",
       "\n",
       "                        })\n",
       "                };\n",
       "                });\n",
       "            </script>\n",
       "        </div>"
      ]
     },
     "metadata": {},
     "output_type": "display_data"
    }
   ],
   "source": [
    "stocks.DonutChart(mat,\n",
    "                  slx = ['Class', ['Bicycles']],\n",
    "                  year = 2017,\n",
    "                  lim=13,\n",
    "                  )"
   ]
  },
  {
   "cell_type": "code",
   "execution_count": 8,
   "metadata": {},
   "outputs": [
    {
     "data": {
      "application/vnd.plotly.v1+json": {
       "config": {
        "plotlyServerURL": "https://plot.ly"
       },
       "data": [
        {
         "mode": "text",
         "text": [
          "152045 kg",
          "47539 kg",
          "39153 kg",
          "10995 kg",
          "9825 kg",
          "4212 kg",
          "3349 kg",
          "959 kg",
          "69 kg"
         ],
         "type": "scatter",
         "x": [
          0.28351159442990015,
          0.7835115944299001,
          0.7835115944299001,
          0.6479606576361358,
          0.8012228768197014,
          0.9367738136134658,
          0.9367738136134658,
          0.9325300326205963,
          0.9957562190071305
         ],
         "y": [
          0.5,
          0.2047312253985754,
          0.578078569521365,
          0.8733473441227897,
          0.8733473441227897,
          0.8088044782740822,
          0.9202983344957132,
          0.9848412003444207,
          0.9848412003444244
         ]
        }
       ],
       "layout": {
        "annotations": [
         {
          "bgcolor": "#ffffff",
          "borderpad": 4,
          "opacity": 0.7,
          "showarrow": false,
          "text": "Ferrous ..",
          "x": 0.28351159442990015,
          "y": 0.5
         },
         {
          "bgcolor": "#ffffff",
          "borderpad": 4,
          "opacity": 0.7,
          "showarrow": false,
          "text": "Polymers",
          "x": 0.7835115944299001,
          "y": 0.2047312253985754
         },
         {
          "bgcolor": "#ffffff",
          "borderpad": 4,
          "opacity": 0.7,
          "showarrow": false,
          "text": "Aluminium",
          "x": 0.7835115944299001,
          "y": 0.578078569521365
         },
         {
          "bgcolor": "#ffffff",
          "borderpad": 4,
          "opacity": 0.7,
          "showarrow": false,
          "text": "Glass",
          "x": 0.6479606576361358,
          "y": 0.8733473441227897
         },
         {
          "bgcolor": "#ffffff",
          "borderpad": 4,
          "opacity": 0.7,
          "showarrow": false,
          "text": "Copper",
          "x": 0.8012228768197014,
          "y": 0.8733473441227897
         },
         {
          "bgcolor": "#ffffff",
          "borderpad": 4,
          "opacity": 0.7,
          "showarrow": false,
          "text": "Insulati..",
          "x": 0.9367738136134658,
          "y": 0.8088044782740822
         },
         {
          "bgcolor": "#ffffff",
          "borderpad": 4,
          "opacity": 0.7,
          "showarrow": false,
          "text": "Paint",
          "x": 0.9367738136134658,
          "y": 0.9202983344957132
         },
         {
          "bgcolor": "#ffffff",
          "borderpad": 4,
          "opacity": 0.7,
          "showarrow": false,
          "text": "Other no..",
          "x": 0.9325300326205963,
          "y": 0.9848412003444207
         },
         {
          "bgcolor": "#ffffff",
          "borderpad": 4,
          "opacity": 0.7,
          "showarrow": false,
          "text": "Other",
          "x": 0.9957562190071305,
          "y": 0.9848412003444244
         }
        ],
        "height": 700,
        "hovermode": "closest",
        "shapes": [
         {
          "fillcolor": "rgb(8,48,107)",
          "line": {
           "width": 2
          },
          "type": "rect",
          "x0": 0,
          "x1": 0.5670231888598003,
          "y0": 0,
          "y1": 1
         },
         {
          "fillcolor": "rgb(8,81,156)",
          "line": {
           "width": 2
          },
          "type": "rect",
          "x0": 0.5670231888598003,
          "x1": 1,
          "y0": 0,
          "y1": 0.4094624507971508
         },
         {
          "fillcolor": "rgb(33,113,181)",
          "line": {
           "width": 2
          },
          "type": "rect",
          "x0": 0.5670231888598003,
          "x1": 1,
          "y0": 0.4094624507971508,
          "y1": 0.7466946882455794
         },
         {
          "fillcolor": "rgb(66,146,198)",
          "line": {
           "width": 2
          },
          "type": "rect",
          "x0": 0.5670231888598003,
          "x1": 0.7288981264124712,
          "y0": 0.7466946882455794,
          "y1": 1
         },
         {
          "fillcolor": "rgb(107,174,214)",
          "line": {
           "width": 2
          },
          "type": "rect",
          "x0": 0.7288981264124712,
          "x1": 0.8735476272269316,
          "y0": 0.7466946882455794,
          "y1": 1
         },
         {
          "fillcolor": "rgb(158,202,225)",
          "line": {
           "width": 2
          },
          "type": "rect",
          "x0": 0.8735476272269316,
          "x1": 1,
          "y0": 0.7466946882455794,
          "y1": 0.870914268302585
         },
         {
          "fillcolor": "rgb(198,219,239)",
          "line": {
           "width": 2
          },
          "type": "rect",
          "x0": 0.8735476272269316,
          "x1": 1,
          "y0": 0.870914268302585,
          "y1": 0.9696824006888414
         },
         {
          "fillcolor": "rgb(222,235,247)",
          "line": {
           "width": 2
          },
          "type": "rect",
          "x0": 0.8735476272269316,
          "x1": 0.991512438014261,
          "y0": 0.9696824006888414,
          "y1": 0.9999999999999999
         },
         {
          "fillcolor": "rgb(247,251,255)",
          "line": {
           "width": 2
          },
          "type": "rect",
          "x0": 0.991512438014261,
          "x1": 1,
          "y0": 0.9696824006888414,
          "y1": 1.0000000000000073
         }
        ],
        "template": {
         "data": {
          "bar": [
           {
            "error_x": {
             "color": "#2a3f5f"
            },
            "error_y": {
             "color": "#2a3f5f"
            },
            "marker": {
             "line": {
              "color": "#E5ECF6",
              "width": 0.5
             }
            },
            "type": "bar"
           }
          ],
          "barpolar": [
           {
            "marker": {
             "line": {
              "color": "#E5ECF6",
              "width": 0.5
             }
            },
            "type": "barpolar"
           }
          ],
          "carpet": [
           {
            "aaxis": {
             "endlinecolor": "#2a3f5f",
             "gridcolor": "white",
             "linecolor": "white",
             "minorgridcolor": "white",
             "startlinecolor": "#2a3f5f"
            },
            "baxis": {
             "endlinecolor": "#2a3f5f",
             "gridcolor": "white",
             "linecolor": "white",
             "minorgridcolor": "white",
             "startlinecolor": "#2a3f5f"
            },
            "type": "carpet"
           }
          ],
          "choropleth": [
           {
            "colorbar": {
             "outlinewidth": 0,
             "ticks": ""
            },
            "type": "choropleth"
           }
          ],
          "contour": [
           {
            "colorbar": {
             "outlinewidth": 0,
             "ticks": ""
            },
            "colorscale": [
             [
              0,
              "#0d0887"
             ],
             [
              0.1111111111111111,
              "#46039f"
             ],
             [
              0.2222222222222222,
              "#7201a8"
             ],
             [
              0.3333333333333333,
              "#9c179e"
             ],
             [
              0.4444444444444444,
              "#bd3786"
             ],
             [
              0.5555555555555556,
              "#d8576b"
             ],
             [
              0.6666666666666666,
              "#ed7953"
             ],
             [
              0.7777777777777778,
              "#fb9f3a"
             ],
             [
              0.8888888888888888,
              "#fdca26"
             ],
             [
              1,
              "#f0f921"
             ]
            ],
            "type": "contour"
           }
          ],
          "contourcarpet": [
           {
            "colorbar": {
             "outlinewidth": 0,
             "ticks": ""
            },
            "type": "contourcarpet"
           }
          ],
          "heatmap": [
           {
            "colorbar": {
             "outlinewidth": 0,
             "ticks": ""
            },
            "colorscale": [
             [
              0,
              "#0d0887"
             ],
             [
              0.1111111111111111,
              "#46039f"
             ],
             [
              0.2222222222222222,
              "#7201a8"
             ],
             [
              0.3333333333333333,
              "#9c179e"
             ],
             [
              0.4444444444444444,
              "#bd3786"
             ],
             [
              0.5555555555555556,
              "#d8576b"
             ],
             [
              0.6666666666666666,
              "#ed7953"
             ],
             [
              0.7777777777777778,
              "#fb9f3a"
             ],
             [
              0.8888888888888888,
              "#fdca26"
             ],
             [
              1,
              "#f0f921"
             ]
            ],
            "type": "heatmap"
           }
          ],
          "heatmapgl": [
           {
            "colorbar": {
             "outlinewidth": 0,
             "ticks": ""
            },
            "colorscale": [
             [
              0,
              "#0d0887"
             ],
             [
              0.1111111111111111,
              "#46039f"
             ],
             [
              0.2222222222222222,
              "#7201a8"
             ],
             [
              0.3333333333333333,
              "#9c179e"
             ],
             [
              0.4444444444444444,
              "#bd3786"
             ],
             [
              0.5555555555555556,
              "#d8576b"
             ],
             [
              0.6666666666666666,
              "#ed7953"
             ],
             [
              0.7777777777777778,
              "#fb9f3a"
             ],
             [
              0.8888888888888888,
              "#fdca26"
             ],
             [
              1,
              "#f0f921"
             ]
            ],
            "type": "heatmapgl"
           }
          ],
          "histogram": [
           {
            "marker": {
             "colorbar": {
              "outlinewidth": 0,
              "ticks": ""
             }
            },
            "type": "histogram"
           }
          ],
          "histogram2d": [
           {
            "colorbar": {
             "outlinewidth": 0,
             "ticks": ""
            },
            "colorscale": [
             [
              0,
              "#0d0887"
             ],
             [
              0.1111111111111111,
              "#46039f"
             ],
             [
              0.2222222222222222,
              "#7201a8"
             ],
             [
              0.3333333333333333,
              "#9c179e"
             ],
             [
              0.4444444444444444,
              "#bd3786"
             ],
             [
              0.5555555555555556,
              "#d8576b"
             ],
             [
              0.6666666666666666,
              "#ed7953"
             ],
             [
              0.7777777777777778,
              "#fb9f3a"
             ],
             [
              0.8888888888888888,
              "#fdca26"
             ],
             [
              1,
              "#f0f921"
             ]
            ],
            "type": "histogram2d"
           }
          ],
          "histogram2dcontour": [
           {
            "colorbar": {
             "outlinewidth": 0,
             "ticks": ""
            },
            "colorscale": [
             [
              0,
              "#0d0887"
             ],
             [
              0.1111111111111111,
              "#46039f"
             ],
             [
              0.2222222222222222,
              "#7201a8"
             ],
             [
              0.3333333333333333,
              "#9c179e"
             ],
             [
              0.4444444444444444,
              "#bd3786"
             ],
             [
              0.5555555555555556,
              "#d8576b"
             ],
             [
              0.6666666666666666,
              "#ed7953"
             ],
             [
              0.7777777777777778,
              "#fb9f3a"
             ],
             [
              0.8888888888888888,
              "#fdca26"
             ],
             [
              1,
              "#f0f921"
             ]
            ],
            "type": "histogram2dcontour"
           }
          ],
          "mesh3d": [
           {
            "colorbar": {
             "outlinewidth": 0,
             "ticks": ""
            },
            "type": "mesh3d"
           }
          ],
          "parcoords": [
           {
            "line": {
             "colorbar": {
              "outlinewidth": 0,
              "ticks": ""
             }
            },
            "type": "parcoords"
           }
          ],
          "scatter": [
           {
            "marker": {
             "colorbar": {
              "outlinewidth": 0,
              "ticks": ""
             }
            },
            "type": "scatter"
           }
          ],
          "scatter3d": [
           {
            "line": {
             "colorbar": {
              "outlinewidth": 0,
              "ticks": ""
             }
            },
            "marker": {
             "colorbar": {
              "outlinewidth": 0,
              "ticks": ""
             }
            },
            "type": "scatter3d"
           }
          ],
          "scattercarpet": [
           {
            "marker": {
             "colorbar": {
              "outlinewidth": 0,
              "ticks": ""
             }
            },
            "type": "scattercarpet"
           }
          ],
          "scattergeo": [
           {
            "marker": {
             "colorbar": {
              "outlinewidth": 0,
              "ticks": ""
             }
            },
            "type": "scattergeo"
           }
          ],
          "scattergl": [
           {
            "marker": {
             "colorbar": {
              "outlinewidth": 0,
              "ticks": ""
             }
            },
            "type": "scattergl"
           }
          ],
          "scattermapbox": [
           {
            "marker": {
             "colorbar": {
              "outlinewidth": 0,
              "ticks": ""
             }
            },
            "type": "scattermapbox"
           }
          ],
          "scatterpolar": [
           {
            "marker": {
             "colorbar": {
              "outlinewidth": 0,
              "ticks": ""
             }
            },
            "type": "scatterpolar"
           }
          ],
          "scatterpolargl": [
           {
            "marker": {
             "colorbar": {
              "outlinewidth": 0,
              "ticks": ""
             }
            },
            "type": "scatterpolargl"
           }
          ],
          "scatterternary": [
           {
            "marker": {
             "colorbar": {
              "outlinewidth": 0,
              "ticks": ""
             }
            },
            "type": "scatterternary"
           }
          ],
          "surface": [
           {
            "colorbar": {
             "outlinewidth": 0,
             "ticks": ""
            },
            "colorscale": [
             [
              0,
              "#0d0887"
             ],
             [
              0.1111111111111111,
              "#46039f"
             ],
             [
              0.2222222222222222,
              "#7201a8"
             ],
             [
              0.3333333333333333,
              "#9c179e"
             ],
             [
              0.4444444444444444,
              "#bd3786"
             ],
             [
              0.5555555555555556,
              "#d8576b"
             ],
             [
              0.6666666666666666,
              "#ed7953"
             ],
             [
              0.7777777777777778,
              "#fb9f3a"
             ],
             [
              0.8888888888888888,
              "#fdca26"
             ],
             [
              1,
              "#f0f921"
             ]
            ],
            "type": "surface"
           }
          ],
          "table": [
           {
            "cells": {
             "fill": {
              "color": "#EBF0F8"
             },
             "line": {
              "color": "white"
             }
            },
            "header": {
             "fill": {
              "color": "#C8D4E3"
             },
             "line": {
              "color": "white"
             }
            },
            "type": "table"
           }
          ]
         },
         "layout": {
          "annotationdefaults": {
           "arrowcolor": "#2a3f5f",
           "arrowhead": 0,
           "arrowwidth": 1
          },
          "colorscale": {
           "diverging": [
            [
             0,
             "#8e0152"
            ],
            [
             0.1,
             "#c51b7d"
            ],
            [
             0.2,
             "#de77ae"
            ],
            [
             0.3,
             "#f1b6da"
            ],
            [
             0.4,
             "#fde0ef"
            ],
            [
             0.5,
             "#f7f7f7"
            ],
            [
             0.6,
             "#e6f5d0"
            ],
            [
             0.7,
             "#b8e186"
            ],
            [
             0.8,
             "#7fbc41"
            ],
            [
             0.9,
             "#4d9221"
            ],
            [
             1,
             "#276419"
            ]
           ],
           "sequential": [
            [
             0,
             "#0d0887"
            ],
            [
             0.1111111111111111,
             "#46039f"
            ],
            [
             0.2222222222222222,
             "#7201a8"
            ],
            [
             0.3333333333333333,
             "#9c179e"
            ],
            [
             0.4444444444444444,
             "#bd3786"
            ],
            [
             0.5555555555555556,
             "#d8576b"
            ],
            [
             0.6666666666666666,
             "#ed7953"
            ],
            [
             0.7777777777777778,
             "#fb9f3a"
            ],
            [
             0.8888888888888888,
             "#fdca26"
            ],
            [
             1,
             "#f0f921"
            ]
           ],
           "sequentialminus": [
            [
             0,
             "#0d0887"
            ],
            [
             0.1111111111111111,
             "#46039f"
            ],
            [
             0.2222222222222222,
             "#7201a8"
            ],
            [
             0.3333333333333333,
             "#9c179e"
            ],
            [
             0.4444444444444444,
             "#bd3786"
            ],
            [
             0.5555555555555556,
             "#d8576b"
            ],
            [
             0.6666666666666666,
             "#ed7953"
            ],
            [
             0.7777777777777778,
             "#fb9f3a"
            ],
            [
             0.8888888888888888,
             "#fdca26"
            ],
            [
             1,
             "#f0f921"
            ]
           ]
          },
          "colorway": [
           "#636efa",
           "#EF553B",
           "#00cc96",
           "#ab63fa",
           "#FFA15A",
           "#19d3f3",
           "#FF6692",
           "#B6E880",
           "#FF97FF",
           "#FECB52"
          ],
          "font": {
           "color": "#2a3f5f"
          },
          "geo": {
           "bgcolor": "white",
           "lakecolor": "white",
           "landcolor": "#E5ECF6",
           "showlakes": true,
           "showland": true,
           "subunitcolor": "white"
          },
          "hoverlabel": {
           "align": "left"
          },
          "hovermode": "closest",
          "mapbox": {
           "style": "light"
          },
          "paper_bgcolor": "white",
          "plot_bgcolor": "#E5ECF6",
          "polar": {
           "angularaxis": {
            "gridcolor": "white",
            "linecolor": "white",
            "ticks": ""
           },
           "bgcolor": "#E5ECF6",
           "radialaxis": {
            "gridcolor": "white",
            "linecolor": "white",
            "ticks": ""
           }
          },
          "scene": {
           "xaxis": {
            "backgroundcolor": "#E5ECF6",
            "gridcolor": "white",
            "gridwidth": 2,
            "linecolor": "white",
            "showbackground": true,
            "ticks": "",
            "zerolinecolor": "white"
           },
           "yaxis": {
            "backgroundcolor": "#E5ECF6",
            "gridcolor": "white",
            "gridwidth": 2,
            "linecolor": "white",
            "showbackground": true,
            "ticks": "",
            "zerolinecolor": "white"
           },
           "zaxis": {
            "backgroundcolor": "#E5ECF6",
            "gridcolor": "white",
            "gridwidth": 2,
            "linecolor": "white",
            "showbackground": true,
            "ticks": "",
            "zerolinecolor": "white"
           }
          },
          "shapedefaults": {
           "line": {
            "color": "#2a3f5f"
           }
          },
          "ternary": {
           "aaxis": {
            "gridcolor": "white",
            "linecolor": "white",
            "ticks": ""
           },
           "baxis": {
            "gridcolor": "white",
            "linecolor": "white",
            "ticks": ""
           },
           "bgcolor": "#E5ECF6",
           "caxis": {
            "gridcolor": "white",
            "linecolor": "white",
            "ticks": ""
           }
          },
          "title": {
           "x": 0.05
          },
          "xaxis": {
           "automargin": true,
           "gridcolor": "white",
           "linecolor": "white",
           "ticks": "",
           "zerolinecolor": "white",
           "zerolinewidth": 2
          },
          "yaxis": {
           "automargin": true,
           "gridcolor": "white",
           "linecolor": "white",
           "ticks": "",
           "zerolinecolor": "white",
           "zerolinewidth": 2
          }
         }
        },
        "width": 700,
        "xaxis": {
         "showgrid": false,
         "showticklabels": false,
         "zeroline": true
        },
        "yaxis": {
         "showgrid": false,
         "showticklabels": false,
         "zeroline": true
        }
       }
      },
      "text/html": [
       "<div>\n",
       "        \n",
       "        \n",
       "            <div id=\"2425ef72-c14c-47aa-8899-f14073cd93b7\" class=\"plotly-graph-div\" style=\"height:700px; width:700px;\"></div>\n",
       "            <script type=\"text/javascript\">\n",
       "                require([\"plotly\"], function(Plotly) {\n",
       "                    window.PLOTLYENV=window.PLOTLYENV || {};\n",
       "                    \n",
       "                if (document.getElementById(\"2425ef72-c14c-47aa-8899-f14073cd93b7\")) {\n",
       "                    Plotly.newPlot(\n",
       "                        '2425ef72-c14c-47aa-8899-f14073cd93b7',\n",
       "                        [{\"mode\": \"text\", \"text\": [\"152045 kg\", \"47539 kg\", \"39153 kg\", \"10995 kg\", \"9825 kg\", \"4212 kg\", \"3349 kg\", \"959 kg\", \"69 kg\"], \"type\": \"scatter\", \"x\": [0.28351159442990015, 0.7835115944299001, 0.7835115944299001, 0.6479606576361358, 0.8012228768197014, 0.9367738136134658, 0.9367738136134658, 0.9325300326205963, 0.9957562190071305], \"y\": [0.5, 0.2047312253985754, 0.578078569521365, 0.8733473441227897, 0.8733473441227897, 0.8088044782740822, 0.9202983344957132, 0.9848412003444207, 0.9848412003444244]}],\n",
       "                        {\"annotations\": [{\"bgcolor\": \"#ffffff\", \"borderpad\": 4, \"opacity\": 0.7, \"showarrow\": false, \"text\": \"Ferrous ..\", \"x\": 0.28351159442990015, \"y\": 0.5}, {\"bgcolor\": \"#ffffff\", \"borderpad\": 4, \"opacity\": 0.7, \"showarrow\": false, \"text\": \"Polymers\", \"x\": 0.7835115944299001, \"y\": 0.2047312253985754}, {\"bgcolor\": \"#ffffff\", \"borderpad\": 4, \"opacity\": 0.7, \"showarrow\": false, \"text\": \"Aluminium\", \"x\": 0.7835115944299001, \"y\": 0.578078569521365}, {\"bgcolor\": \"#ffffff\", \"borderpad\": 4, \"opacity\": 0.7, \"showarrow\": false, \"text\": \"Glass\", \"x\": 0.6479606576361358, \"y\": 0.8733473441227897}, {\"bgcolor\": \"#ffffff\", \"borderpad\": 4, \"opacity\": 0.7, \"showarrow\": false, \"text\": \"Copper\", \"x\": 0.8012228768197014, \"y\": 0.8733473441227897}, {\"bgcolor\": \"#ffffff\", \"borderpad\": 4, \"opacity\": 0.7, \"showarrow\": false, \"text\": \"Insulati..\", \"x\": 0.9367738136134658, \"y\": 0.8088044782740822}, {\"bgcolor\": \"#ffffff\", \"borderpad\": 4, \"opacity\": 0.7, \"showarrow\": false, \"text\": \"Paint\", \"x\": 0.9367738136134658, \"y\": 0.9202983344957132}, {\"bgcolor\": \"#ffffff\", \"borderpad\": 4, \"opacity\": 0.7, \"showarrow\": false, \"text\": \"Other no..\", \"x\": 0.9325300326205963, \"y\": 0.9848412003444207}, {\"bgcolor\": \"#ffffff\", \"borderpad\": 4, \"opacity\": 0.7, \"showarrow\": false, \"text\": \"Other\", \"x\": 0.9957562190071305, \"y\": 0.9848412003444244}], \"height\": 700, \"hovermode\": \"closest\", \"shapes\": [{\"fillcolor\": \"rgb(8,48,107)\", \"line\": {\"width\": 2}, \"type\": \"rect\", \"x0\": 0.0, \"x1\": 0.5670231888598003, \"y0\": 0.0, \"y1\": 1.0}, {\"fillcolor\": \"rgb(8,81,156)\", \"line\": {\"width\": 2}, \"type\": \"rect\", \"x0\": 0.5670231888598003, \"x1\": 1.0, \"y0\": 0.0, \"y1\": 0.4094624507971508}, {\"fillcolor\": \"rgb(33,113,181)\", \"line\": {\"width\": 2}, \"type\": \"rect\", \"x0\": 0.5670231888598003, \"x1\": 1.0, \"y0\": 0.4094624507971508, \"y1\": 0.7466946882455794}, {\"fillcolor\": \"rgb(66,146,198)\", \"line\": {\"width\": 2}, \"type\": \"rect\", \"x0\": 0.5670231888598003, \"x1\": 0.7288981264124712, \"y0\": 0.7466946882455794, \"y1\": 1.0}, {\"fillcolor\": \"rgb(107,174,214)\", \"line\": {\"width\": 2}, \"type\": \"rect\", \"x0\": 0.7288981264124712, \"x1\": 0.8735476272269316, \"y0\": 0.7466946882455794, \"y1\": 1.0}, {\"fillcolor\": \"rgb(158,202,225)\", \"line\": {\"width\": 2}, \"type\": \"rect\", \"x0\": 0.8735476272269316, \"x1\": 1.0, \"y0\": 0.7466946882455794, \"y1\": 0.870914268302585}, {\"fillcolor\": \"rgb(198,219,239)\", \"line\": {\"width\": 2}, \"type\": \"rect\", \"x0\": 0.8735476272269316, \"x1\": 1.0, \"y0\": 0.870914268302585, \"y1\": 0.9696824006888414}, {\"fillcolor\": \"rgb(222,235,247)\", \"line\": {\"width\": 2}, \"type\": \"rect\", \"x0\": 0.8735476272269316, \"x1\": 0.991512438014261, \"y0\": 0.9696824006888414, \"y1\": 0.9999999999999999}, {\"fillcolor\": \"rgb(247,251,255)\", \"line\": {\"width\": 2}, \"type\": \"rect\", \"x0\": 0.991512438014261, \"x1\": 1.0, \"y0\": 0.9696824006888414, \"y1\": 1.0000000000000073}], \"template\": {\"data\": {\"bar\": [{\"error_x\": {\"color\": \"#2a3f5f\"}, \"error_y\": {\"color\": \"#2a3f5f\"}, \"marker\": {\"line\": {\"color\": \"#E5ECF6\", \"width\": 0.5}}, \"type\": \"bar\"}], \"barpolar\": [{\"marker\": {\"line\": {\"color\": \"#E5ECF6\", \"width\": 0.5}}, \"type\": \"barpolar\"}], \"carpet\": [{\"aaxis\": {\"endlinecolor\": \"#2a3f5f\", \"gridcolor\": \"white\", \"linecolor\": \"white\", \"minorgridcolor\": \"white\", \"startlinecolor\": \"#2a3f5f\"}, \"baxis\": {\"endlinecolor\": \"#2a3f5f\", \"gridcolor\": \"white\", \"linecolor\": \"white\", \"minorgridcolor\": \"white\", \"startlinecolor\": \"#2a3f5f\"}, \"type\": \"carpet\"}], \"choropleth\": [{\"colorbar\": {\"outlinewidth\": 0, \"ticks\": \"\"}, \"type\": \"choropleth\"}], \"contour\": [{\"colorbar\": {\"outlinewidth\": 0, \"ticks\": \"\"}, \"colorscale\": [[0.0, \"#0d0887\"], [0.1111111111111111, \"#46039f\"], [0.2222222222222222, \"#7201a8\"], [0.3333333333333333, \"#9c179e\"], [0.4444444444444444, \"#bd3786\"], [0.5555555555555556, \"#d8576b\"], [0.6666666666666666, \"#ed7953\"], [0.7777777777777778, \"#fb9f3a\"], [0.8888888888888888, \"#fdca26\"], [1.0, \"#f0f921\"]], \"type\": \"contour\"}], \"contourcarpet\": [{\"colorbar\": {\"outlinewidth\": 0, \"ticks\": \"\"}, \"type\": \"contourcarpet\"}], \"heatmap\": [{\"colorbar\": {\"outlinewidth\": 0, \"ticks\": \"\"}, \"colorscale\": [[0.0, \"#0d0887\"], [0.1111111111111111, \"#46039f\"], [0.2222222222222222, \"#7201a8\"], [0.3333333333333333, \"#9c179e\"], [0.4444444444444444, \"#bd3786\"], [0.5555555555555556, \"#d8576b\"], [0.6666666666666666, \"#ed7953\"], [0.7777777777777778, \"#fb9f3a\"], [0.8888888888888888, \"#fdca26\"], [1.0, \"#f0f921\"]], \"type\": \"heatmap\"}], \"heatmapgl\": [{\"colorbar\": {\"outlinewidth\": 0, \"ticks\": \"\"}, \"colorscale\": [[0.0, \"#0d0887\"], [0.1111111111111111, \"#46039f\"], [0.2222222222222222, \"#7201a8\"], [0.3333333333333333, \"#9c179e\"], [0.4444444444444444, \"#bd3786\"], [0.5555555555555556, \"#d8576b\"], [0.6666666666666666, \"#ed7953\"], [0.7777777777777778, \"#fb9f3a\"], [0.8888888888888888, \"#fdca26\"], [1.0, \"#f0f921\"]], \"type\": \"heatmapgl\"}], \"histogram\": [{\"marker\": {\"colorbar\": {\"outlinewidth\": 0, \"ticks\": \"\"}}, \"type\": \"histogram\"}], \"histogram2d\": [{\"colorbar\": {\"outlinewidth\": 0, \"ticks\": \"\"}, \"colorscale\": [[0.0, \"#0d0887\"], [0.1111111111111111, \"#46039f\"], [0.2222222222222222, \"#7201a8\"], [0.3333333333333333, \"#9c179e\"], [0.4444444444444444, \"#bd3786\"], [0.5555555555555556, \"#d8576b\"], [0.6666666666666666, \"#ed7953\"], [0.7777777777777778, \"#fb9f3a\"], [0.8888888888888888, \"#fdca26\"], [1.0, \"#f0f921\"]], \"type\": \"histogram2d\"}], \"histogram2dcontour\": [{\"colorbar\": {\"outlinewidth\": 0, \"ticks\": \"\"}, \"colorscale\": [[0.0, \"#0d0887\"], [0.1111111111111111, \"#46039f\"], [0.2222222222222222, \"#7201a8\"], [0.3333333333333333, \"#9c179e\"], [0.4444444444444444, \"#bd3786\"], [0.5555555555555556, \"#d8576b\"], [0.6666666666666666, \"#ed7953\"], [0.7777777777777778, \"#fb9f3a\"], [0.8888888888888888, \"#fdca26\"], [1.0, \"#f0f921\"]], \"type\": \"histogram2dcontour\"}], \"mesh3d\": [{\"colorbar\": {\"outlinewidth\": 0, \"ticks\": \"\"}, \"type\": \"mesh3d\"}], \"parcoords\": [{\"line\": {\"colorbar\": {\"outlinewidth\": 0, \"ticks\": \"\"}}, \"type\": \"parcoords\"}], \"scatter\": [{\"marker\": {\"colorbar\": {\"outlinewidth\": 0, \"ticks\": \"\"}}, \"type\": \"scatter\"}], \"scatter3d\": [{\"line\": {\"colorbar\": {\"outlinewidth\": 0, \"ticks\": \"\"}}, \"marker\": {\"colorbar\": {\"outlinewidth\": 0, \"ticks\": \"\"}}, \"type\": \"scatter3d\"}], \"scattercarpet\": [{\"marker\": {\"colorbar\": {\"outlinewidth\": 0, \"ticks\": \"\"}}, \"type\": \"scattercarpet\"}], \"scattergeo\": [{\"marker\": {\"colorbar\": {\"outlinewidth\": 0, \"ticks\": \"\"}}, \"type\": \"scattergeo\"}], \"scattergl\": [{\"marker\": {\"colorbar\": {\"outlinewidth\": 0, \"ticks\": \"\"}}, \"type\": \"scattergl\"}], \"scattermapbox\": [{\"marker\": {\"colorbar\": {\"outlinewidth\": 0, \"ticks\": \"\"}}, \"type\": \"scattermapbox\"}], \"scatterpolar\": [{\"marker\": {\"colorbar\": {\"outlinewidth\": 0, \"ticks\": \"\"}}, \"type\": \"scatterpolar\"}], \"scatterpolargl\": [{\"marker\": {\"colorbar\": {\"outlinewidth\": 0, \"ticks\": \"\"}}, \"type\": \"scatterpolargl\"}], \"scatterternary\": [{\"marker\": {\"colorbar\": {\"outlinewidth\": 0, \"ticks\": \"\"}}, \"type\": \"scatterternary\"}], \"surface\": [{\"colorbar\": {\"outlinewidth\": 0, \"ticks\": \"\"}, \"colorscale\": [[0.0, \"#0d0887\"], [0.1111111111111111, \"#46039f\"], [0.2222222222222222, \"#7201a8\"], [0.3333333333333333, \"#9c179e\"], [0.4444444444444444, \"#bd3786\"], [0.5555555555555556, \"#d8576b\"], [0.6666666666666666, \"#ed7953\"], [0.7777777777777778, \"#fb9f3a\"], [0.8888888888888888, \"#fdca26\"], [1.0, \"#f0f921\"]], \"type\": \"surface\"}], \"table\": [{\"cells\": {\"fill\": {\"color\": \"#EBF0F8\"}, \"line\": {\"color\": \"white\"}}, \"header\": {\"fill\": {\"color\": \"#C8D4E3\"}, \"line\": {\"color\": \"white\"}}, \"type\": \"table\"}]}, \"layout\": {\"annotationdefaults\": {\"arrowcolor\": \"#2a3f5f\", \"arrowhead\": 0, \"arrowwidth\": 1}, \"colorscale\": {\"diverging\": [[0, \"#8e0152\"], [0.1, \"#c51b7d\"], [0.2, \"#de77ae\"], [0.3, \"#f1b6da\"], [0.4, \"#fde0ef\"], [0.5, \"#f7f7f7\"], [0.6, \"#e6f5d0\"], [0.7, \"#b8e186\"], [0.8, \"#7fbc41\"], [0.9, \"#4d9221\"], [1, \"#276419\"]], \"sequential\": [[0.0, \"#0d0887\"], [0.1111111111111111, \"#46039f\"], [0.2222222222222222, \"#7201a8\"], [0.3333333333333333, \"#9c179e\"], [0.4444444444444444, \"#bd3786\"], [0.5555555555555556, \"#d8576b\"], [0.6666666666666666, \"#ed7953\"], [0.7777777777777778, \"#fb9f3a\"], [0.8888888888888888, \"#fdca26\"], [1.0, \"#f0f921\"]], \"sequentialminus\": [[0.0, \"#0d0887\"], [0.1111111111111111, \"#46039f\"], [0.2222222222222222, \"#7201a8\"], [0.3333333333333333, \"#9c179e\"], [0.4444444444444444, \"#bd3786\"], [0.5555555555555556, \"#d8576b\"], [0.6666666666666666, \"#ed7953\"], [0.7777777777777778, \"#fb9f3a\"], [0.8888888888888888, \"#fdca26\"], [1.0, \"#f0f921\"]]}, \"colorway\": [\"#636efa\", \"#EF553B\", \"#00cc96\", \"#ab63fa\", \"#FFA15A\", \"#19d3f3\", \"#FF6692\", \"#B6E880\", \"#FF97FF\", \"#FECB52\"], \"font\": {\"color\": \"#2a3f5f\"}, \"geo\": {\"bgcolor\": \"white\", \"lakecolor\": \"white\", \"landcolor\": \"#E5ECF6\", \"showlakes\": true, \"showland\": true, \"subunitcolor\": \"white\"}, \"hoverlabel\": {\"align\": \"left\"}, \"hovermode\": \"closest\", \"mapbox\": {\"style\": \"light\"}, \"paper_bgcolor\": \"white\", \"plot_bgcolor\": \"#E5ECF6\", \"polar\": {\"angularaxis\": {\"gridcolor\": \"white\", \"linecolor\": \"white\", \"ticks\": \"\"}, \"bgcolor\": \"#E5ECF6\", \"radialaxis\": {\"gridcolor\": \"white\", \"linecolor\": \"white\", \"ticks\": \"\"}}, \"scene\": {\"xaxis\": {\"backgroundcolor\": \"#E5ECF6\", \"gridcolor\": \"white\", \"gridwidth\": 2, \"linecolor\": \"white\", \"showbackground\": true, \"ticks\": \"\", \"zerolinecolor\": \"white\"}, \"yaxis\": {\"backgroundcolor\": \"#E5ECF6\", \"gridcolor\": \"white\", \"gridwidth\": 2, \"linecolor\": \"white\", \"showbackground\": true, \"ticks\": \"\", \"zerolinecolor\": \"white\"}, \"zaxis\": {\"backgroundcolor\": \"#E5ECF6\", \"gridcolor\": \"white\", \"gridwidth\": 2, \"linecolor\": \"white\", \"showbackground\": true, \"ticks\": \"\", \"zerolinecolor\": \"white\"}}, \"shapedefaults\": {\"line\": {\"color\": \"#2a3f5f\"}}, \"ternary\": {\"aaxis\": {\"gridcolor\": \"white\", \"linecolor\": \"white\", \"ticks\": \"\"}, \"baxis\": {\"gridcolor\": \"white\", \"linecolor\": \"white\", \"ticks\": \"\"}, \"bgcolor\": \"#E5ECF6\", \"caxis\": {\"gridcolor\": \"white\", \"linecolor\": \"white\", \"ticks\": \"\"}}, \"title\": {\"x\": 0.05}, \"xaxis\": {\"automargin\": true, \"gridcolor\": \"white\", \"linecolor\": \"white\", \"ticks\": \"\", \"zerolinecolor\": \"white\", \"zerolinewidth\": 2}, \"yaxis\": {\"automargin\": true, \"gridcolor\": \"white\", \"linecolor\": \"white\", \"ticks\": \"\", \"zerolinecolor\": \"white\", \"zerolinewidth\": 2}}}, \"width\": 700, \"xaxis\": {\"showgrid\": false, \"showticklabels\": false, \"zeroline\": true}, \"yaxis\": {\"showgrid\": false, \"showticklabels\": false, \"zeroline\": true}},\n",
       "                        {\"responsive\": true}\n",
       "                    ).then(function(){\n",
       "                            \n",
       "var gd = document.getElementById('2425ef72-c14c-47aa-8899-f14073cd93b7');\n",
       "var x = new MutationObserver(function (mutations, observer) {{\n",
       "        var display = window.getComputedStyle(gd).display;\n",
       "        if (!display || display === 'none') {{\n",
       "            console.log([gd, 'removed!']);\n",
       "            Plotly.purge(gd);\n",
       "            observer.disconnect();\n",
       "        }}\n",
       "}});\n",
       "\n",
       "// Listen for the removal of the full notebook cells\n",
       "var notebookContainer = gd.closest('#notebook-container');\n",
       "if (notebookContainer) {{\n",
       "    x.observe(notebookContainer, {childList: true});\n",
       "}}\n",
       "\n",
       "// Listen for the clearing of the current output cell\n",
       "var outputEl = gd.closest('.output');\n",
       "if (outputEl) {{\n",
       "    x.observe(outputEl, {childList: true});\n",
       "}}\n",
       "\n",
       "                        })\n",
       "                };\n",
       "                });\n",
       "            </script>\n",
       "        </div>"
      ]
     },
     "metadata": {},
     "output_type": "display_data"
    }
   ],
   "source": [
    "stocks.TreeChart(mat,\n",
    "                 slx = ['Class', ['Transit']],#['Seavessels','Inlandvessels','Pleziervaartuigen']],#['Cars','Utilitycars']],\n",
    "                 year = 2017,\n",
    "                 scale = 700,\n",
    "                 lim=12,\n",
    "                 val='Material Group'\n",
    "                 )"
   ]
  },
  {
   "cell_type": "code",
   "execution_count": 9,
   "metadata": {},
   "outputs": [
    {
     "data": {
      "application/vnd.plotly.v1+json": {
       "config": {
        "plotlyServerURL": "https://plot.ly"
       },
       "data": [
        {
         "mode": "text",
         "text": [
          "15484093 kg",
          "9437986 kg",
          "8482248 kg",
          "1983026 kg",
          "667538 kg",
          "268150 kg",
          "20860 kg"
         ],
         "type": "scatter",
         "x": [
          0.34286466661902915,
          0.34286466661902915,
          0.8428646666190291,
          0.7917322614219152,
          0.9488675948028861,
          0.9451769890369548,
          0.9963093942340687
         ],
         "y": [
          0.3106501066784998,
          0.8106501066784998,
          0.37131764091578384,
          0.8713176409157839,
          0.8324377429922826,
          0.9611201020764988,
          0.9611201020764989
         ]
        }
       ],
       "layout": {
        "annotations": [
         {
          "bgcolor": "#ffffff",
          "borderpad": 4,
          "opacity": 0.7,
          "showarrow": false,
          "text": "Seavesse..",
          "x": 0.34286466661902915,
          "y": 0.3106501066784998
         },
         {
          "bgcolor": "#ffffff",
          "borderpad": 4,
          "opacity": 0.7,
          "showarrow": false,
          "text": "Cars",
          "x": 0.34286466661902915,
          "y": 0.8106501066784998
         },
         {
          "bgcolor": "#ffffff",
          "borderpad": 4,
          "opacity": 0.7,
          "showarrow": false,
          "text": "Inlandve..",
          "x": 0.8428646666190291,
          "y": 0.37131764091578384
         },
         {
          "bgcolor": "#ffffff",
          "borderpad": 4,
          "opacity": 0.7,
          "showarrow": false,
          "text": "Utilityc..",
          "x": 0.7917322614219152,
          "y": 0.8713176409157839
         },
         {
          "bgcolor": "#ffffff",
          "borderpad": 4,
          "opacity": 0.7,
          "showarrow": false,
          "text": "Bicycles",
          "x": 0.9488675948028861,
          "y": 0.8324377429922826
         },
         {
          "bgcolor": "#ffffff",
          "borderpad": 4,
          "opacity": 0.7,
          "showarrow": false,
          "text": "Transit",
          "x": 0.9451769890369548,
          "y": 0.9611201020764988
         },
         {
          "bgcolor": "#ffffff",
          "borderpad": 4,
          "opacity": 0.7,
          "showarrow": false,
          "text": "Aircraft",
          "x": 0.9963093942340687,
          "y": 0.9611201020764989
         }
        ],
        "height": 700,
        "hovermode": "closest",
        "shapes": [
         {
          "fillcolor": "rgb(8,69,148)",
          "line": {
           "width": 2
          },
          "type": "rect",
          "x0": 0,
          "x1": 0.6857293332380583,
          "y0": 0,
          "y1": 0.6213002133569996
         },
         {
          "fillcolor": "rgb(33,113,181)",
          "line": {
           "width": 2
          },
          "type": "rect",
          "x0": 0,
          "x1": 0.6857293332380583,
          "y0": 0.6213002133569996,
          "y1": 1
         },
         {
          "fillcolor": "rgb(66,146,198)",
          "line": {
           "width": 2
          },
          "type": "rect",
          "x0": 0.6857293332380583,
          "x1": 1,
          "y0": 0,
          "y1": 0.7426352818315677
         },
         {
          "fillcolor": "rgb(107,174,214)",
          "line": {
           "width": 2
          },
          "type": "rect",
          "x0": 0.6857293332380583,
          "x1": 0.8977351896057721,
          "y0": 0.7426352818315677,
          "y1": 1
         },
         {
          "fillcolor": "rgb(158,202,225)",
          "line": {
           "width": 2
          },
          "type": "rect",
          "x0": 0.8977351896057721,
          "x1": 1,
          "y0": 0.7426352818315677,
          "y1": 0.9222402041529975
         },
         {
          "fillcolor": "rgb(198,219,239)",
          "line": {
           "width": 2
          },
          "type": "rect",
          "x0": 0.8977351896057721,
          "x1": 0.9926187884681374,
          "y0": 0.9222402041529975,
          "y1": 1
         },
         {
          "fillcolor": "rgb(239,243,255)",
          "line": {
           "width": 2
          },
          "type": "rect",
          "x0": 0.9926187884681374,
          "x1": 1,
          "y0": 0.9222402041529975,
          "y1": 1.0000000000000004
         }
        ],
        "template": {
         "data": {
          "bar": [
           {
            "error_x": {
             "color": "#2a3f5f"
            },
            "error_y": {
             "color": "#2a3f5f"
            },
            "marker": {
             "line": {
              "color": "#E5ECF6",
              "width": 0.5
             }
            },
            "type": "bar"
           }
          ],
          "barpolar": [
           {
            "marker": {
             "line": {
              "color": "#E5ECF6",
              "width": 0.5
             }
            },
            "type": "barpolar"
           }
          ],
          "carpet": [
           {
            "aaxis": {
             "endlinecolor": "#2a3f5f",
             "gridcolor": "white",
             "linecolor": "white",
             "minorgridcolor": "white",
             "startlinecolor": "#2a3f5f"
            },
            "baxis": {
             "endlinecolor": "#2a3f5f",
             "gridcolor": "white",
             "linecolor": "white",
             "minorgridcolor": "white",
             "startlinecolor": "#2a3f5f"
            },
            "type": "carpet"
           }
          ],
          "choropleth": [
           {
            "colorbar": {
             "outlinewidth": 0,
             "ticks": ""
            },
            "type": "choropleth"
           }
          ],
          "contour": [
           {
            "colorbar": {
             "outlinewidth": 0,
             "ticks": ""
            },
            "colorscale": [
             [
              0,
              "#0d0887"
             ],
             [
              0.1111111111111111,
              "#46039f"
             ],
             [
              0.2222222222222222,
              "#7201a8"
             ],
             [
              0.3333333333333333,
              "#9c179e"
             ],
             [
              0.4444444444444444,
              "#bd3786"
             ],
             [
              0.5555555555555556,
              "#d8576b"
             ],
             [
              0.6666666666666666,
              "#ed7953"
             ],
             [
              0.7777777777777778,
              "#fb9f3a"
             ],
             [
              0.8888888888888888,
              "#fdca26"
             ],
             [
              1,
              "#f0f921"
             ]
            ],
            "type": "contour"
           }
          ],
          "contourcarpet": [
           {
            "colorbar": {
             "outlinewidth": 0,
             "ticks": ""
            },
            "type": "contourcarpet"
           }
          ],
          "heatmap": [
           {
            "colorbar": {
             "outlinewidth": 0,
             "ticks": ""
            },
            "colorscale": [
             [
              0,
              "#0d0887"
             ],
             [
              0.1111111111111111,
              "#46039f"
             ],
             [
              0.2222222222222222,
              "#7201a8"
             ],
             [
              0.3333333333333333,
              "#9c179e"
             ],
             [
              0.4444444444444444,
              "#bd3786"
             ],
             [
              0.5555555555555556,
              "#d8576b"
             ],
             [
              0.6666666666666666,
              "#ed7953"
             ],
             [
              0.7777777777777778,
              "#fb9f3a"
             ],
             [
              0.8888888888888888,
              "#fdca26"
             ],
             [
              1,
              "#f0f921"
             ]
            ],
            "type": "heatmap"
           }
          ],
          "heatmapgl": [
           {
            "colorbar": {
             "outlinewidth": 0,
             "ticks": ""
            },
            "colorscale": [
             [
              0,
              "#0d0887"
             ],
             [
              0.1111111111111111,
              "#46039f"
             ],
             [
              0.2222222222222222,
              "#7201a8"
             ],
             [
              0.3333333333333333,
              "#9c179e"
             ],
             [
              0.4444444444444444,
              "#bd3786"
             ],
             [
              0.5555555555555556,
              "#d8576b"
             ],
             [
              0.6666666666666666,
              "#ed7953"
             ],
             [
              0.7777777777777778,
              "#fb9f3a"
             ],
             [
              0.8888888888888888,
              "#fdca26"
             ],
             [
              1,
              "#f0f921"
             ]
            ],
            "type": "heatmapgl"
           }
          ],
          "histogram": [
           {
            "marker": {
             "colorbar": {
              "outlinewidth": 0,
              "ticks": ""
             }
            },
            "type": "histogram"
           }
          ],
          "histogram2d": [
           {
            "colorbar": {
             "outlinewidth": 0,
             "ticks": ""
            },
            "colorscale": [
             [
              0,
              "#0d0887"
             ],
             [
              0.1111111111111111,
              "#46039f"
             ],
             [
              0.2222222222222222,
              "#7201a8"
             ],
             [
              0.3333333333333333,
              "#9c179e"
             ],
             [
              0.4444444444444444,
              "#bd3786"
             ],
             [
              0.5555555555555556,
              "#d8576b"
             ],
             [
              0.6666666666666666,
              "#ed7953"
             ],
             [
              0.7777777777777778,
              "#fb9f3a"
             ],
             [
              0.8888888888888888,
              "#fdca26"
             ],
             [
              1,
              "#f0f921"
             ]
            ],
            "type": "histogram2d"
           }
          ],
          "histogram2dcontour": [
           {
            "colorbar": {
             "outlinewidth": 0,
             "ticks": ""
            },
            "colorscale": [
             [
              0,
              "#0d0887"
             ],
             [
              0.1111111111111111,
              "#46039f"
             ],
             [
              0.2222222222222222,
              "#7201a8"
             ],
             [
              0.3333333333333333,
              "#9c179e"
             ],
             [
              0.4444444444444444,
              "#bd3786"
             ],
             [
              0.5555555555555556,
              "#d8576b"
             ],
             [
              0.6666666666666666,
              "#ed7953"
             ],
             [
              0.7777777777777778,
              "#fb9f3a"
             ],
             [
              0.8888888888888888,
              "#fdca26"
             ],
             [
              1,
              "#f0f921"
             ]
            ],
            "type": "histogram2dcontour"
           }
          ],
          "mesh3d": [
           {
            "colorbar": {
             "outlinewidth": 0,
             "ticks": ""
            },
            "type": "mesh3d"
           }
          ],
          "parcoords": [
           {
            "line": {
             "colorbar": {
              "outlinewidth": 0,
              "ticks": ""
             }
            },
            "type": "parcoords"
           }
          ],
          "scatter": [
           {
            "marker": {
             "colorbar": {
              "outlinewidth": 0,
              "ticks": ""
             }
            },
            "type": "scatter"
           }
          ],
          "scatter3d": [
           {
            "line": {
             "colorbar": {
              "outlinewidth": 0,
              "ticks": ""
             }
            },
            "marker": {
             "colorbar": {
              "outlinewidth": 0,
              "ticks": ""
             }
            },
            "type": "scatter3d"
           }
          ],
          "scattercarpet": [
           {
            "marker": {
             "colorbar": {
              "outlinewidth": 0,
              "ticks": ""
             }
            },
            "type": "scattercarpet"
           }
          ],
          "scattergeo": [
           {
            "marker": {
             "colorbar": {
              "outlinewidth": 0,
              "ticks": ""
             }
            },
            "type": "scattergeo"
           }
          ],
          "scattergl": [
           {
            "marker": {
             "colorbar": {
              "outlinewidth": 0,
              "ticks": ""
             }
            },
            "type": "scattergl"
           }
          ],
          "scattermapbox": [
           {
            "marker": {
             "colorbar": {
              "outlinewidth": 0,
              "ticks": ""
             }
            },
            "type": "scattermapbox"
           }
          ],
          "scatterpolar": [
           {
            "marker": {
             "colorbar": {
              "outlinewidth": 0,
              "ticks": ""
             }
            },
            "type": "scatterpolar"
           }
          ],
          "scatterpolargl": [
           {
            "marker": {
             "colorbar": {
              "outlinewidth": 0,
              "ticks": ""
             }
            },
            "type": "scatterpolargl"
           }
          ],
          "scatterternary": [
           {
            "marker": {
             "colorbar": {
              "outlinewidth": 0,
              "ticks": ""
             }
            },
            "type": "scatterternary"
           }
          ],
          "surface": [
           {
            "colorbar": {
             "outlinewidth": 0,
             "ticks": ""
            },
            "colorscale": [
             [
              0,
              "#0d0887"
             ],
             [
              0.1111111111111111,
              "#46039f"
             ],
             [
              0.2222222222222222,
              "#7201a8"
             ],
             [
              0.3333333333333333,
              "#9c179e"
             ],
             [
              0.4444444444444444,
              "#bd3786"
             ],
             [
              0.5555555555555556,
              "#d8576b"
             ],
             [
              0.6666666666666666,
              "#ed7953"
             ],
             [
              0.7777777777777778,
              "#fb9f3a"
             ],
             [
              0.8888888888888888,
              "#fdca26"
             ],
             [
              1,
              "#f0f921"
             ]
            ],
            "type": "surface"
           }
          ],
          "table": [
           {
            "cells": {
             "fill": {
              "color": "#EBF0F8"
             },
             "line": {
              "color": "white"
             }
            },
            "header": {
             "fill": {
              "color": "#C8D4E3"
             },
             "line": {
              "color": "white"
             }
            },
            "type": "table"
           }
          ]
         },
         "layout": {
          "annotationdefaults": {
           "arrowcolor": "#2a3f5f",
           "arrowhead": 0,
           "arrowwidth": 1
          },
          "colorscale": {
           "diverging": [
            [
             0,
             "#8e0152"
            ],
            [
             0.1,
             "#c51b7d"
            ],
            [
             0.2,
             "#de77ae"
            ],
            [
             0.3,
             "#f1b6da"
            ],
            [
             0.4,
             "#fde0ef"
            ],
            [
             0.5,
             "#f7f7f7"
            ],
            [
             0.6,
             "#e6f5d0"
            ],
            [
             0.7,
             "#b8e186"
            ],
            [
             0.8,
             "#7fbc41"
            ],
            [
             0.9,
             "#4d9221"
            ],
            [
             1,
             "#276419"
            ]
           ],
           "sequential": [
            [
             0,
             "#0d0887"
            ],
            [
             0.1111111111111111,
             "#46039f"
            ],
            [
             0.2222222222222222,
             "#7201a8"
            ],
            [
             0.3333333333333333,
             "#9c179e"
            ],
            [
             0.4444444444444444,
             "#bd3786"
            ],
            [
             0.5555555555555556,
             "#d8576b"
            ],
            [
             0.6666666666666666,
             "#ed7953"
            ],
            [
             0.7777777777777778,
             "#fb9f3a"
            ],
            [
             0.8888888888888888,
             "#fdca26"
            ],
            [
             1,
             "#f0f921"
            ]
           ],
           "sequentialminus": [
            [
             0,
             "#0d0887"
            ],
            [
             0.1111111111111111,
             "#46039f"
            ],
            [
             0.2222222222222222,
             "#7201a8"
            ],
            [
             0.3333333333333333,
             "#9c179e"
            ],
            [
             0.4444444444444444,
             "#bd3786"
            ],
            [
             0.5555555555555556,
             "#d8576b"
            ],
            [
             0.6666666666666666,
             "#ed7953"
            ],
            [
             0.7777777777777778,
             "#fb9f3a"
            ],
            [
             0.8888888888888888,
             "#fdca26"
            ],
            [
             1,
             "#f0f921"
            ]
           ]
          },
          "colorway": [
           "#636efa",
           "#EF553B",
           "#00cc96",
           "#ab63fa",
           "#FFA15A",
           "#19d3f3",
           "#FF6692",
           "#B6E880",
           "#FF97FF",
           "#FECB52"
          ],
          "font": {
           "color": "#2a3f5f"
          },
          "geo": {
           "bgcolor": "white",
           "lakecolor": "white",
           "landcolor": "#E5ECF6",
           "showlakes": true,
           "showland": true,
           "subunitcolor": "white"
          },
          "hoverlabel": {
           "align": "left"
          },
          "hovermode": "closest",
          "mapbox": {
           "style": "light"
          },
          "paper_bgcolor": "white",
          "plot_bgcolor": "#E5ECF6",
          "polar": {
           "angularaxis": {
            "gridcolor": "white",
            "linecolor": "white",
            "ticks": ""
           },
           "bgcolor": "#E5ECF6",
           "radialaxis": {
            "gridcolor": "white",
            "linecolor": "white",
            "ticks": ""
           }
          },
          "scene": {
           "xaxis": {
            "backgroundcolor": "#E5ECF6",
            "gridcolor": "white",
            "gridwidth": 2,
            "linecolor": "white",
            "showbackground": true,
            "ticks": "",
            "zerolinecolor": "white"
           },
           "yaxis": {
            "backgroundcolor": "#E5ECF6",
            "gridcolor": "white",
            "gridwidth": 2,
            "linecolor": "white",
            "showbackground": true,
            "ticks": "",
            "zerolinecolor": "white"
           },
           "zaxis": {
            "backgroundcolor": "#E5ECF6",
            "gridcolor": "white",
            "gridwidth": 2,
            "linecolor": "white",
            "showbackground": true,
            "ticks": "",
            "zerolinecolor": "white"
           }
          },
          "shapedefaults": {
           "line": {
            "color": "#2a3f5f"
           }
          },
          "ternary": {
           "aaxis": {
            "gridcolor": "white",
            "linecolor": "white",
            "ticks": ""
           },
           "baxis": {
            "gridcolor": "white",
            "linecolor": "white",
            "ticks": ""
           },
           "bgcolor": "#E5ECF6",
           "caxis": {
            "gridcolor": "white",
            "linecolor": "white",
            "ticks": ""
           }
          },
          "title": {
           "x": 0.05
          },
          "xaxis": {
           "automargin": true,
           "gridcolor": "white",
           "linecolor": "white",
           "ticks": "",
           "zerolinecolor": "white",
           "zerolinewidth": 2
          },
          "yaxis": {
           "automargin": true,
           "gridcolor": "white",
           "linecolor": "white",
           "ticks": "",
           "zerolinecolor": "white",
           "zerolinewidth": 2
          }
         }
        },
        "width": 700,
        "xaxis": {
         "showgrid": false,
         "showticklabels": false,
         "zeroline": true
        },
        "yaxis": {
         "showgrid": false,
         "showticklabels": false,
         "zeroline": true
        }
       }
      },
      "text/html": [
       "<div>\n",
       "        \n",
       "        \n",
       "            <div id=\"f1f34581-4201-4e2a-a158-1c8dc8ce2675\" class=\"plotly-graph-div\" style=\"height:700px; width:700px;\"></div>\n",
       "            <script type=\"text/javascript\">\n",
       "                require([\"plotly\"], function(Plotly) {\n",
       "                    window.PLOTLYENV=window.PLOTLYENV || {};\n",
       "                    \n",
       "                if (document.getElementById(\"f1f34581-4201-4e2a-a158-1c8dc8ce2675\")) {\n",
       "                    Plotly.newPlot(\n",
       "                        'f1f34581-4201-4e2a-a158-1c8dc8ce2675',\n",
       "                        [{\"mode\": \"text\", \"text\": [\"15484093 kg\", \"9437986 kg\", \"8482248 kg\", \"1983026 kg\", \"667538 kg\", \"268150 kg\", \"20860 kg\"], \"type\": \"scatter\", \"x\": [0.34286466661902915, 0.34286466661902915, 0.8428646666190291, 0.7917322614219152, 0.9488675948028861, 0.9451769890369548, 0.9963093942340687], \"y\": [0.3106501066784998, 0.8106501066784998, 0.37131764091578384, 0.8713176409157839, 0.8324377429922826, 0.9611201020764988, 0.9611201020764989]}],\n",
       "                        {\"annotations\": [{\"bgcolor\": \"#ffffff\", \"borderpad\": 4, \"opacity\": 0.7, \"showarrow\": false, \"text\": \"Seavesse..\", \"x\": 0.34286466661902915, \"y\": 0.3106501066784998}, {\"bgcolor\": \"#ffffff\", \"borderpad\": 4, \"opacity\": 0.7, \"showarrow\": false, \"text\": \"Cars\", \"x\": 0.34286466661902915, \"y\": 0.8106501066784998}, {\"bgcolor\": \"#ffffff\", \"borderpad\": 4, \"opacity\": 0.7, \"showarrow\": false, \"text\": \"Inlandve..\", \"x\": 0.8428646666190291, \"y\": 0.37131764091578384}, {\"bgcolor\": \"#ffffff\", \"borderpad\": 4, \"opacity\": 0.7, \"showarrow\": false, \"text\": \"Utilityc..\", \"x\": 0.7917322614219152, \"y\": 0.8713176409157839}, {\"bgcolor\": \"#ffffff\", \"borderpad\": 4, \"opacity\": 0.7, \"showarrow\": false, \"text\": \"Bicycles\", \"x\": 0.9488675948028861, \"y\": 0.8324377429922826}, {\"bgcolor\": \"#ffffff\", \"borderpad\": 4, \"opacity\": 0.7, \"showarrow\": false, \"text\": \"Transit\", \"x\": 0.9451769890369548, \"y\": 0.9611201020764988}, {\"bgcolor\": \"#ffffff\", \"borderpad\": 4, \"opacity\": 0.7, \"showarrow\": false, \"text\": \"Aircraft\", \"x\": 0.9963093942340687, \"y\": 0.9611201020764989}], \"height\": 700, \"hovermode\": \"closest\", \"shapes\": [{\"fillcolor\": \"rgb(8,69,148)\", \"line\": {\"width\": 2}, \"type\": \"rect\", \"x0\": 0.0, \"x1\": 0.6857293332380583, \"y0\": 0.0, \"y1\": 0.6213002133569996}, {\"fillcolor\": \"rgb(33,113,181)\", \"line\": {\"width\": 2}, \"type\": \"rect\", \"x0\": 0.0, \"x1\": 0.6857293332380583, \"y0\": 0.6213002133569996, \"y1\": 1.0}, {\"fillcolor\": \"rgb(66,146,198)\", \"line\": {\"width\": 2}, \"type\": \"rect\", \"x0\": 0.6857293332380583, \"x1\": 1.0, \"y0\": 0.0, \"y1\": 0.7426352818315677}, {\"fillcolor\": \"rgb(107,174,214)\", \"line\": {\"width\": 2}, \"type\": \"rect\", \"x0\": 0.6857293332380583, \"x1\": 0.8977351896057721, \"y0\": 0.7426352818315677, \"y1\": 1.0}, {\"fillcolor\": \"rgb(158,202,225)\", \"line\": {\"width\": 2}, \"type\": \"rect\", \"x0\": 0.8977351896057721, \"x1\": 1.0, \"y0\": 0.7426352818315677, \"y1\": 0.9222402041529975}, {\"fillcolor\": \"rgb(198,219,239)\", \"line\": {\"width\": 2}, \"type\": \"rect\", \"x0\": 0.8977351896057721, \"x1\": 0.9926187884681374, \"y0\": 0.9222402041529975, \"y1\": 1.0}, {\"fillcolor\": \"rgb(239,243,255)\", \"line\": {\"width\": 2}, \"type\": \"rect\", \"x0\": 0.9926187884681374, \"x1\": 1.0, \"y0\": 0.9222402041529975, \"y1\": 1.0000000000000004}], \"template\": {\"data\": {\"bar\": [{\"error_x\": {\"color\": \"#2a3f5f\"}, \"error_y\": {\"color\": \"#2a3f5f\"}, \"marker\": {\"line\": {\"color\": \"#E5ECF6\", \"width\": 0.5}}, \"type\": \"bar\"}], \"barpolar\": [{\"marker\": {\"line\": {\"color\": \"#E5ECF6\", \"width\": 0.5}}, \"type\": \"barpolar\"}], \"carpet\": [{\"aaxis\": {\"endlinecolor\": \"#2a3f5f\", \"gridcolor\": \"white\", \"linecolor\": \"white\", \"minorgridcolor\": \"white\", \"startlinecolor\": \"#2a3f5f\"}, \"baxis\": {\"endlinecolor\": \"#2a3f5f\", \"gridcolor\": \"white\", \"linecolor\": \"white\", \"minorgridcolor\": \"white\", \"startlinecolor\": \"#2a3f5f\"}, \"type\": \"carpet\"}], \"choropleth\": [{\"colorbar\": {\"outlinewidth\": 0, \"ticks\": \"\"}, \"type\": \"choropleth\"}], \"contour\": [{\"colorbar\": {\"outlinewidth\": 0, \"ticks\": \"\"}, \"colorscale\": [[0.0, \"#0d0887\"], [0.1111111111111111, \"#46039f\"], [0.2222222222222222, \"#7201a8\"], [0.3333333333333333, \"#9c179e\"], [0.4444444444444444, \"#bd3786\"], [0.5555555555555556, \"#d8576b\"], [0.6666666666666666, \"#ed7953\"], [0.7777777777777778, \"#fb9f3a\"], [0.8888888888888888, \"#fdca26\"], [1.0, \"#f0f921\"]], \"type\": \"contour\"}], \"contourcarpet\": [{\"colorbar\": {\"outlinewidth\": 0, \"ticks\": \"\"}, \"type\": \"contourcarpet\"}], \"heatmap\": [{\"colorbar\": {\"outlinewidth\": 0, \"ticks\": \"\"}, \"colorscale\": [[0.0, \"#0d0887\"], [0.1111111111111111, \"#46039f\"], [0.2222222222222222, \"#7201a8\"], [0.3333333333333333, \"#9c179e\"], [0.4444444444444444, \"#bd3786\"], [0.5555555555555556, \"#d8576b\"], [0.6666666666666666, \"#ed7953\"], [0.7777777777777778, \"#fb9f3a\"], [0.8888888888888888, \"#fdca26\"], [1.0, \"#f0f921\"]], \"type\": \"heatmap\"}], \"heatmapgl\": [{\"colorbar\": {\"outlinewidth\": 0, \"ticks\": \"\"}, \"colorscale\": [[0.0, \"#0d0887\"], [0.1111111111111111, \"#46039f\"], [0.2222222222222222, \"#7201a8\"], [0.3333333333333333, \"#9c179e\"], [0.4444444444444444, \"#bd3786\"], [0.5555555555555556, \"#d8576b\"], [0.6666666666666666, \"#ed7953\"], [0.7777777777777778, \"#fb9f3a\"], [0.8888888888888888, \"#fdca26\"], [1.0, \"#f0f921\"]], \"type\": \"heatmapgl\"}], \"histogram\": [{\"marker\": {\"colorbar\": {\"outlinewidth\": 0, \"ticks\": \"\"}}, \"type\": \"histogram\"}], \"histogram2d\": [{\"colorbar\": {\"outlinewidth\": 0, \"ticks\": \"\"}, \"colorscale\": [[0.0, \"#0d0887\"], [0.1111111111111111, \"#46039f\"], [0.2222222222222222, \"#7201a8\"], [0.3333333333333333, \"#9c179e\"], [0.4444444444444444, \"#bd3786\"], [0.5555555555555556, \"#d8576b\"], [0.6666666666666666, \"#ed7953\"], [0.7777777777777778, \"#fb9f3a\"], [0.8888888888888888, \"#fdca26\"], [1.0, \"#f0f921\"]], \"type\": \"histogram2d\"}], \"histogram2dcontour\": [{\"colorbar\": {\"outlinewidth\": 0, \"ticks\": \"\"}, \"colorscale\": [[0.0, \"#0d0887\"], [0.1111111111111111, \"#46039f\"], [0.2222222222222222, \"#7201a8\"], [0.3333333333333333, \"#9c179e\"], [0.4444444444444444, \"#bd3786\"], [0.5555555555555556, \"#d8576b\"], [0.6666666666666666, \"#ed7953\"], [0.7777777777777778, \"#fb9f3a\"], [0.8888888888888888, \"#fdca26\"], [1.0, \"#f0f921\"]], \"type\": \"histogram2dcontour\"}], \"mesh3d\": [{\"colorbar\": {\"outlinewidth\": 0, \"ticks\": \"\"}, \"type\": \"mesh3d\"}], \"parcoords\": [{\"line\": {\"colorbar\": {\"outlinewidth\": 0, \"ticks\": \"\"}}, \"type\": \"parcoords\"}], \"scatter\": [{\"marker\": {\"colorbar\": {\"outlinewidth\": 0, \"ticks\": \"\"}}, \"type\": \"scatter\"}], \"scatter3d\": [{\"line\": {\"colorbar\": {\"outlinewidth\": 0, \"ticks\": \"\"}}, \"marker\": {\"colorbar\": {\"outlinewidth\": 0, \"ticks\": \"\"}}, \"type\": \"scatter3d\"}], \"scattercarpet\": [{\"marker\": {\"colorbar\": {\"outlinewidth\": 0, \"ticks\": \"\"}}, \"type\": \"scattercarpet\"}], \"scattergeo\": [{\"marker\": {\"colorbar\": {\"outlinewidth\": 0, \"ticks\": \"\"}}, \"type\": \"scattergeo\"}], \"scattergl\": [{\"marker\": {\"colorbar\": {\"outlinewidth\": 0, \"ticks\": \"\"}}, \"type\": \"scattergl\"}], \"scattermapbox\": [{\"marker\": {\"colorbar\": {\"outlinewidth\": 0, \"ticks\": \"\"}}, \"type\": \"scattermapbox\"}], \"scatterpolar\": [{\"marker\": {\"colorbar\": {\"outlinewidth\": 0, \"ticks\": \"\"}}, \"type\": \"scatterpolar\"}], \"scatterpolargl\": [{\"marker\": {\"colorbar\": {\"outlinewidth\": 0, \"ticks\": \"\"}}, \"type\": \"scatterpolargl\"}], \"scatterternary\": [{\"marker\": {\"colorbar\": {\"outlinewidth\": 0, \"ticks\": \"\"}}, \"type\": \"scatterternary\"}], \"surface\": [{\"colorbar\": {\"outlinewidth\": 0, \"ticks\": \"\"}, \"colorscale\": [[0.0, \"#0d0887\"], [0.1111111111111111, \"#46039f\"], [0.2222222222222222, \"#7201a8\"], [0.3333333333333333, \"#9c179e\"], [0.4444444444444444, \"#bd3786\"], [0.5555555555555556, \"#d8576b\"], [0.6666666666666666, \"#ed7953\"], [0.7777777777777778, \"#fb9f3a\"], [0.8888888888888888, \"#fdca26\"], [1.0, \"#f0f921\"]], \"type\": \"surface\"}], \"table\": [{\"cells\": {\"fill\": {\"color\": \"#EBF0F8\"}, \"line\": {\"color\": \"white\"}}, \"header\": {\"fill\": {\"color\": \"#C8D4E3\"}, \"line\": {\"color\": \"white\"}}, \"type\": \"table\"}]}, \"layout\": {\"annotationdefaults\": {\"arrowcolor\": \"#2a3f5f\", \"arrowhead\": 0, \"arrowwidth\": 1}, \"colorscale\": {\"diverging\": [[0, \"#8e0152\"], [0.1, \"#c51b7d\"], [0.2, \"#de77ae\"], [0.3, \"#f1b6da\"], [0.4, \"#fde0ef\"], [0.5, \"#f7f7f7\"], [0.6, \"#e6f5d0\"], [0.7, \"#b8e186\"], [0.8, \"#7fbc41\"], [0.9, \"#4d9221\"], [1, \"#276419\"]], \"sequential\": [[0.0, \"#0d0887\"], [0.1111111111111111, \"#46039f\"], [0.2222222222222222, \"#7201a8\"], [0.3333333333333333, \"#9c179e\"], [0.4444444444444444, \"#bd3786\"], [0.5555555555555556, \"#d8576b\"], [0.6666666666666666, \"#ed7953\"], [0.7777777777777778, \"#fb9f3a\"], [0.8888888888888888, \"#fdca26\"], [1.0, \"#f0f921\"]], \"sequentialminus\": [[0.0, \"#0d0887\"], [0.1111111111111111, \"#46039f\"], [0.2222222222222222, \"#7201a8\"], [0.3333333333333333, \"#9c179e\"], [0.4444444444444444, \"#bd3786\"], [0.5555555555555556, \"#d8576b\"], [0.6666666666666666, \"#ed7953\"], [0.7777777777777778, \"#fb9f3a\"], [0.8888888888888888, \"#fdca26\"], [1.0, \"#f0f921\"]]}, \"colorway\": [\"#636efa\", \"#EF553B\", \"#00cc96\", \"#ab63fa\", \"#FFA15A\", \"#19d3f3\", \"#FF6692\", \"#B6E880\", \"#FF97FF\", \"#FECB52\"], \"font\": {\"color\": \"#2a3f5f\"}, \"geo\": {\"bgcolor\": \"white\", \"lakecolor\": \"white\", \"landcolor\": \"#E5ECF6\", \"showlakes\": true, \"showland\": true, \"subunitcolor\": \"white\"}, \"hoverlabel\": {\"align\": \"left\"}, \"hovermode\": \"closest\", \"mapbox\": {\"style\": \"light\"}, \"paper_bgcolor\": \"white\", \"plot_bgcolor\": \"#E5ECF6\", \"polar\": {\"angularaxis\": {\"gridcolor\": \"white\", \"linecolor\": \"white\", \"ticks\": \"\"}, \"bgcolor\": \"#E5ECF6\", \"radialaxis\": {\"gridcolor\": \"white\", \"linecolor\": \"white\", \"ticks\": \"\"}}, \"scene\": {\"xaxis\": {\"backgroundcolor\": \"#E5ECF6\", \"gridcolor\": \"white\", \"gridwidth\": 2, \"linecolor\": \"white\", \"showbackground\": true, \"ticks\": \"\", \"zerolinecolor\": \"white\"}, \"yaxis\": {\"backgroundcolor\": \"#E5ECF6\", \"gridcolor\": \"white\", \"gridwidth\": 2, \"linecolor\": \"white\", \"showbackground\": true, \"ticks\": \"\", \"zerolinecolor\": \"white\"}, \"zaxis\": {\"backgroundcolor\": \"#E5ECF6\", \"gridcolor\": \"white\", \"gridwidth\": 2, \"linecolor\": \"white\", \"showbackground\": true, \"ticks\": \"\", \"zerolinecolor\": \"white\"}}, \"shapedefaults\": {\"line\": {\"color\": \"#2a3f5f\"}}, \"ternary\": {\"aaxis\": {\"gridcolor\": \"white\", \"linecolor\": \"white\", \"ticks\": \"\"}, \"baxis\": {\"gridcolor\": \"white\", \"linecolor\": \"white\", \"ticks\": \"\"}, \"bgcolor\": \"#E5ECF6\", \"caxis\": {\"gridcolor\": \"white\", \"linecolor\": \"white\", \"ticks\": \"\"}}, \"title\": {\"x\": 0.05}, \"xaxis\": {\"automargin\": true, \"gridcolor\": \"white\", \"linecolor\": \"white\", \"ticks\": \"\", \"zerolinecolor\": \"white\", \"zerolinewidth\": 2}, \"yaxis\": {\"automargin\": true, \"gridcolor\": \"white\", \"linecolor\": \"white\", \"ticks\": \"\", \"zerolinecolor\": \"white\", \"zerolinewidth\": 2}}}, \"width\": 700, \"xaxis\": {\"showgrid\": false, \"showticklabels\": false, \"zeroline\": true}, \"yaxis\": {\"showgrid\": false, \"showticklabels\": false, \"zeroline\": true}},\n",
       "                        {\"responsive\": true}\n",
       "                    ).then(function(){\n",
       "                            \n",
       "var gd = document.getElementById('f1f34581-4201-4e2a-a158-1c8dc8ce2675');\n",
       "var x = new MutationObserver(function (mutations, observer) {{\n",
       "        var display = window.getComputedStyle(gd).display;\n",
       "        if (!display || display === 'none') {{\n",
       "            console.log([gd, 'removed!']);\n",
       "            Plotly.purge(gd);\n",
       "            observer.disconnect();\n",
       "        }}\n",
       "}});\n",
       "\n",
       "// Listen for the removal of the full notebook cells\n",
       "var notebookContainer = gd.closest('#notebook-container');\n",
       "if (notebookContainer) {{\n",
       "    x.observe(notebookContainer, {childList: true});\n",
       "}}\n",
       "\n",
       "// Listen for the clearing of the current output cell\n",
       "var outputEl = gd.closest('.output');\n",
       "if (outputEl) {{\n",
       "    x.observe(outputEl, {childList: true});\n",
       "}}\n",
       "\n",
       "                        })\n",
       "                };\n",
       "                });\n",
       "            </script>\n",
       "        </div>"
      ]
     },
     "metadata": {},
     "output_type": "display_data"
    }
   ],
   "source": [
    "stocks.TreeChart(mat,\n",
    "                 cat = ['Class'],\n",
    "                 year = 2017,\n",
    "                 scale = 700,\n",
    "                 lim=9,\n",
    "                 )\n"
   ]
  },
  {
   "cell_type": "code",
   "execution_count": 10,
   "metadata": {},
   "outputs": [],
   "source": [
    "# for i in mat['Material'].unique():\n",
    "\n",
    "#     e = mat.loc[mat['Year']==2017].loc[mat['Material'].isin([i]), 'Mass'].sum()/1000000000\n",
    "#     print(i,\": \\t\",e)\n"
   ]
  },
  {
   "cell_type": "code",
   "execution_count": 22,
   "metadata": {},
   "outputs": [],
   "source": [
    "# import pandas as pd\n",
    "# grid = pd.read_csv('data/grid.csv', header=0, index_col=None)\n",
    "# grid.loc[:,'Mass'] = grid['Mass'].multiply(1000)\n",
    "\n",
    "# values=grid['Mass'][0:8]\n",
    "# values[8]=grid['Mass'][9:].sum()\n",
    "# labels=grid['Element'][0:8]\n",
    "# labels[8]='Other'\n",
    "\n",
    "# stocks.TreeChart(grid,\n",
    "#                  scale=(grid.loc[:,'Mass'].sum()/300)**0.5,\n",
    "#                  values=values,\n",
    "#                  labels=labels,\n",
    "#                  exportpdf=True,\n",
    "#                  )"
   ]
  },
  {
   "cell_type": "code",
   "execution_count": 12,
   "metadata": {},
   "outputs": [],
   "source": [
    "# year=2017\n",
    "# slx=['Class', ['Cars']]\n",
    "# lim=9\n",
    "# val = mat.loc[mat['Year']==year]\\\n",
    "#          .loc[mat[slx[0]].isin(slx[1])]\\\n",
    "#          .groupby('Material').sum()\\\n",
    "#          .loc[:, 'Mass']\\\n",
    "#          .sort_values(ascending=False)\\\n",
    "# #          .head(lim)\n",
    "# val\n",
    "# v=val[:lim]\n",
    "# v['Other'] = sum(val[lim:])\n",
    "# v"
   ]
  },
  {
   "cell_type": "code",
   "execution_count": 23,
   "metadata": {},
   "outputs": [],
   "source": [
    "# ### \n",
    "# rep = mat.pivot_table(\\\n",
    "#             index=['Vehiclenames','Vehicle','Class','Year'],\n",
    "# #             columns=['Year'],\n",
    "#             values=['Mass'],#,'Moutflow'],\n",
    "#             aggfunc=np.sum\n",
    "#            )\\\n",
    "#         .pivot_table(\\\n",
    "#             index=['Vehiclenames','Vehicle','Class'],\n",
    "#             columns=['Year'],\n",
    "#             values=['Mass'],#,'Moutflow'],\n",
    "#             aggfunc=np.mean\n",
    "#            )\\\n",
    "#         .style.format(\"{:.3g}\")#\"{%.1g}\")\n",
    "# rep"
   ]
  },
  {
   "cell_type": "code",
   "execution_count": 24,
   "metadata": {},
   "outputs": [],
   "source": [
    "# mat.columns\n",
    "\n"
   ]
  },
  {
   "cell_type": "code",
   "execution_count": null,
   "metadata": {},
   "outputs": [],
   "source": []
  },
  {
   "cell_type": "code",
   "execution_count": null,
   "metadata": {},
   "outputs": [],
   "source": []
  }
 ],
 "metadata": {
  "kernelspec": {
   "display_name": "Python 3",
   "language": "python",
   "name": "python3"
  },
  "language_info": {
   "codemirror_mode": {
    "name": "ipython",
    "version": 3
   },
   "file_extension": ".py",
   "mimetype": "text/x-python",
   "name": "python",
   "nbconvert_exporter": "python",
   "pygments_lexer": "ipython3",
   "version": "3.7.3"
  }
 },
 "nbformat": 4,
 "nbformat_minor": 2
}
