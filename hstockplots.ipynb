{
 "cells": [
  {
   "cell_type": "code",
   "execution_count": null,
   "metadata": {},
   "outputs": [],
   "source": [
    "# ### make sure this cell is uncommented, to load from github first\n",
    "! git clone https://github.com/grimelda/urmive/\n",
    "! pip install colorlover==0.3.0\n",
    "! pip install squarify==0.4.3\n",
    "import os\n",
    "os.chdir('urmive/')"
   ]
  },
  {
   "cell_type": "code",
   "execution_count": null,
   "metadata": {},
   "outputs": [],
   "source": [
    "### make sure to run this cell to load data.\n",
    "import stocks\n",
    "\n",
    "mat = stocks.CalcStocks(start=2000, end=2017)"
   ]
  },
  {
   "cell_type": "code",
   "execution_count": null,
   "metadata": {
    "scrolled": false
   },
   "outputs": [],
   "source": [
    "### include and exclude are kinda mutually exclusive, be sane.\n",
    "stocks.PlotMass2Dim(mat, \n",
    "                    Dim=['Vehicle', 'Material'], \n",
    "                    materials = dict(include = ['All'], exclude = [None]),\n",
    "                    vehicles = dict(include = ['All'], exclude = [None]),\n",
    "                    classes = dict(include = ['All'], exclude = [None]),\n",
    "#                     exportpdf = True,\n",
    "                    )"
   ]
  },
  {
   "cell_type": "code",
   "execution_count": null,
   "metadata": {
    "scrolled": false
   },
   "outputs": [],
   "source": [
    "### include and exclude are kinda mutually exclusive, be sane.\n",
    "stocks.PlotMass2Dim(mat, \n",
    "                    Dim=['Material', 'Vehicle'], \n",
    "                    materials = dict(include = ['All'], exclude = [None]),\n",
    "                    vehicles = dict(include = ['All'], exclude = [None]),\n",
    "                    classes = dict(include = ['All'], exclude = ['Pleziervaartuigen']),\n",
    "#                     exportpdf = True,\n",
    "                    )"
   ]
  },
  {
   "cell_type": "code",
   "execution_count": null,
   "metadata": {},
   "outputs": [],
   "source": [
    "### include and exclude are kinda mutually exclusive, be sane.\n",
    "stocks.PlotMass1Dim(mat, \n",
    "                    Dim='Class',\n",
    "                    materials = dict(include = ['All'], exclude = [None]),\n",
    "                    vehicles = dict(include = ['All'], exclude = [None]),\n",
    "                    classes = dict(include = ['All'], exclude = [None]),\n",
    "#                     exportpdf = True,\n",
    "                    )"
   ]
  },
  {
   "cell_type": "code",
   "execution_count": null,
   "metadata": {},
   "outputs": [],
   "source": [
    "stocks.TreeChart(mat,\n",
    "                 slx = ['Class', ['Transit']],#['Seavessels','Inlandvessels','Pleziervaartuigen']],#['Cars','Utilitycars']],\n",
    "                 year = 2017,\n",
    "                 scale = 700,\n",
    "#                  exportpdf=True,\n",
    "                 )"
   ]
  },
  {
   "cell_type": "code",
   "execution_count": null,
   "metadata": {},
   "outputs": [],
   "source": [
    "stocks.TreeChart(mat,\n",
    "                 cat = ['Material'],\n",
    "                 year = 2011,\n",
    "                 scale = 700,\n",
    "#                  exportpdf=True,\n",
    "                 lim=9,\n",
    "                 )"
   ]
  },
  {
   "cell_type": "code",
   "execution_count": null,
   "metadata": {
    "scrolled": false
   },
   "outputs": [],
   "source": [
    "stocks.DonutChart(mat,\n",
    "                  cat = ['Class'],\n",
    "                  year = 2011,\n",
    "                  lim=10,\n",
    "#                   exportpdf=True,\n",
    "                  )"
   ]
  },
  {
   "cell_type": "code",
   "execution_count": null,
   "metadata": {},
   "outputs": [],
   "source": [
    "stocks.DonutChart(mat,\n",
    "                  slx = ['Class', ['Bicycles']],\n",
    "                  year = 2017,\n",
    "                  lim=15,\n",
    "#                   exportpdf=True,\n",
    "                  )"
   ]
  },
  {
   "cell_type": "code",
   "execution_count": null,
   "metadata": {},
   "outputs": [],
   "source": [
    "# (mat.loc[mat['Year']==2011].loc[mat['Class'].isin(['Cars','Utilitycars']), 'Mass'].sum()/10000)**0.5\n"
   ]
  },
  {
   "cell_type": "code",
   "execution_count": null,
   "metadata": {},
   "outputs": [],
   "source": [
    "# mat.loc[mat['Year']==2011].loc[mat['Class'].isin(['Bicycles'])]\n"
   ]
  },
  {
   "cell_type": "code",
   "execution_count": null,
   "metadata": {},
   "outputs": [],
   "source": [
    "# mat.loc[mat['Year']==2011].loc[mat['Class'].isin(['Transit']), 'Mass'].sum()\n"
   ]
  },
  {
   "cell_type": "code",
   "execution_count": null,
   "metadata": {},
   "outputs": [],
   "source": [
    "# mat.loc[mat['Year']==2011].loc[mat['Class'].isin(['Seavessels','Inlandvessels','Pleziervaartuigen']), 'Mass'].sum()#/1000000\n"
   ]
  },
  {
   "cell_type": "code",
   "execution_count": null,
   "metadata": {},
   "outputs": [],
   "source": [
    "# mat.loc[mat['Year']==2017].loc[mat['Material']=='Polymers', 'Mass'].sum()"
   ]
  },
  {
   "cell_type": "code",
   "execution_count": null,
   "metadata": {
    "scrolled": true
   },
   "outputs": [],
   "source": [
    "# mat.loc[mat['Vehicle']=='hmax']"
   ]
  },
  {
   "cell_type": "code",
   "execution_count": null,
   "metadata": {},
   "outputs": [],
   "source": [
    "mat.loc[mat['Year']==2011].loc[mat['Value']!=0].loc[mat['Class']=='Aircraft','Value'].sum()#/1000000000\n"
   ]
  },
  {
   "cell_type": "code",
   "execution_count": null,
   "metadata": {},
   "outputs": [],
   "source": [
    "mat.loc[mat['Year']==2011].loc[mat['Class']=='Aircraft','Mass'].sum()#/1000000000\n"
   ]
  },
  {
   "cell_type": "code",
   "execution_count": null,
   "metadata": {},
   "outputs": [],
   "source": [
    "# import pandas as pd\n",
    "# grid = pd.read_csv('data/grid.csv', header=0, index_col=None)\n",
    "# grid.loc[:,'Mass'] = grid['Mass'].multiply(1000)\n",
    "\n",
    "# stocks.TreeChart(grid,\n",
    "#                  scale=(grid.loc[:,'Mass'].sum()/300)**0.5,\n",
    "#                  values=grid['Mass'][0:9],\n",
    "#                  labels=grid['Element'][0:9],\n",
    "#                  exportpdf=True,\n",
    "#                  )"
   ]
  },
  {
   "cell_type": "code",
   "execution_count": null,
   "metadata": {},
   "outputs": [],
   "source": []
  },
  {
   "cell_type": "code",
   "execution_count": null,
   "metadata": {},
   "outputs": [],
   "source": []
  }
 ],
 "metadata": {
  "kernelspec": {
   "display_name": "Python 3",
   "language": "python",
   "name": "python3"
  },
  "language_info": {
   "codemirror_mode": {
    "name": "ipython",
    "version": 3
   },
   "file_extension": ".py",
   "mimetype": "text/x-python",
   "name": "python",
   "nbconvert_exporter": "python",
   "pygments_lexer": "ipython3",
   "version": "3.7.3"
  }
 },
 "nbformat": 4,
 "nbformat_minor": 2
}
