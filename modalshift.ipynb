{
 "cells": [
  {
   "cell_type": "code",
   "execution_count": 1,
   "metadata": {},
   "outputs": [],
   "source": [
    "import numpy as np\n",
    "import pandas as pd\n",
    "import matplotlib.pyplot as plt\n",
    "import plotly.express as px\n",
    "import seaborn as sns\n",
    "import scipy\n",
    "import scipy.stats"
   ]
  },
  {
   "cell_type": "code",
   "execution_count": 2,
   "metadata": {},
   "outputs": [],
   "source": [
    "#####   F U N C T I O N S\n",
    "\n",
    "###   PERSON TRANSPORT\n",
    "\n",
    "def PolyFit(x, wlo, scn):\n",
    "    ### fourth order polyfit\n",
    "    poly = np.poly1d(np.polyfit(wlo.index, wlo['Total'], 4))\n",
    "    \n",
    "    ### plot\n",
    "    plt.plot(list(wlo.index)[:-3], wlo['Total'][:-3], 'b.', \n",
    "             x, poly(x), 'r-',\n",
    "             list(wlo.index)[-3:], wlo['Total'][-3:], 'g*', \n",
    "            )\n",
    "#     for mode in list(wlo.columns[1:]):\n",
    "#         plt.plot(list(wlo.index), wlo[mode],'.')\n",
    "    plt.legend(('historical','WLO','interpolation'), loc='right')\n",
    "    if scn=='HP' or scn=='LP':\n",
    "        plt.ylabel('Person-kilometers')\n",
    "    if scn=='HF' or scn=='LF':\n",
    "        plt.ylabel('Ton-kilometers')\n",
    "    plt.ylim(0,1.1*max(poly(x)))\n",
    "    plt.savefig(str('figures/WLO_Service_'\\\n",
    "                    +scn+'_'\n",
    "                    +str(int(min(x)))\\\n",
    "                    +'-'+str(int(max(x)))\\\n",
    "                    +'.pdf'), dpi=400)\n",
    "    plt.show()\n",
    "    plt.clf()\n",
    "    return poly(x)\n",
    "\n",
    "\n",
    "def InnoDiff(x, start=0, end=1, steepness=1, midpoint=2030):\n",
    "    if end < start:\n",
    "        y = np.ones(len(x))*start - np.ones(len(x))*(start-end) / (1+np.exp(-steepness*(x-midpoint)))\n",
    "    elif end >= start: \n",
    "        y = np.ones(len(x))*start + np.ones(len(x))*(end-start) / (1+np.exp(-steepness*(x-midpoint)))\n",
    "    return y\n",
    "\n",
    "\n",
    "def CarsFirst(x, poly):\n",
    "    df = pd.DataFrame()\n",
    "    keys = ['ice', 'ev', 'hev', 'train', 'metro/bus', 'ebike', 'bike', 'emoped', 'moped', 'walk']\n",
    "    for key in keys:\n",
    "        temp = pd.DataFrame()\n",
    "        temp['Year'] = x\n",
    "        temp['Vehicle'] = key\n",
    "        temp['Share'] = np.nan\n",
    "        df = pd.concat([df, temp], ignore_index=True, sort=False)\n",
    "        D = dict()\n",
    "        \n",
    "    ### for drive first\n",
    "\n",
    "    D['drive'] = InnoDiff(x, start=0.76, end=0.1,\n",
    "                          steepness=0.25, midpoint=2035)\n",
    "\n",
    "    D['ice'] = InnoDiff(x,start=0.99,end=0.15,\n",
    "                        steepness=0.3,midpoint=2030)\n",
    "\n",
    "    D['ev'] = InnoDiff(x, start=0.01, end=0.99,\n",
    "                   steepness=0.3, midpoint=2025)\n",
    "\n",
    "    D['public'] = InnoDiff(x, start=0.50, end=0.72,\n",
    "                     steepness=0.2, midpoint=2030 )\n",
    "\n",
    "    D['train'] = InnoDiff(x, start=0.77, end=0.77,\n",
    "                      steepness=1,  midpoint=2040 )\n",
    "\n",
    "    D['cycle'] = InnoDiff(x, start=0.80, end=0.80,\n",
    "                     steepness=1, midpoint=2035 )\n",
    "\n",
    "    D['bicycle'] = InnoDiff(x, start=0.93, end=0.85,\n",
    "                     steepness=0.3, midpoint=2030 )\n",
    "\n",
    "    D['bike'] = InnoDiff(x, start=0.999, end=0.66,\n",
    "                     steepness=0.3, midpoint=2030 )\n",
    "\n",
    "    D['moped'] = InnoDiff(x, start=0.999, end=0.001,\n",
    "                      steepness=0.3, midpoint=2030 )\n",
    "    \n",
    "    ones = np.ones(len(x))\n",
    "    ### cars\n",
    "    df.loc[df['Vehicle']=='ice', 'Share'] = D['drive'] * D['ice']\n",
    "    df.loc[df['Vehicle']=='ev', 'Share'] = D['drive'] * (ones - D['ice']) * D['ev']\n",
    "    df.loc[df['Vehicle']=='hev', 'Share'] = D['drive'] * (ones - D['ice'])* (ones - D['ev'])\n",
    "\n",
    "    ### public transport\n",
    "    df.loc[df['Vehicle']=='train', 'Share'] = (ones - D['drive']) * D['public'] * D['train']\n",
    "    df.loc[df['Vehicle']=='metro/bus', 'Share'] = (ones - D['drive']) * D['public'] * (ones - D['train'])\n",
    "\n",
    "    ### slow transport\n",
    "    df.loc[df['Vehicle']=='bike', 'Share'] = (ones - D['drive']) * (ones - D['public']) * D['cycle'] * D['bicycle'] * D['bike']\n",
    "    df.loc[df['Vehicle']=='ebike', 'Share'] = (ones - D['drive']) * (ones - D['public']) * D['cycle'] * D['bicycle'] * (ones - D['bike'])\n",
    "    df.loc[df['Vehicle']=='moped', 'Share'] = (ones - D['drive']) * (ones - D['public']) * D['cycle'] * (ones - D['bicycle']) * D['moped']\n",
    "    df.loc[df['Vehicle']=='emoped', 'Share'] = (ones - D['drive']) * (ones - D['public']) * D['cycle'] * (ones - D['bicycle']) * (ones - D['moped'])\n",
    "    df.loc[df['Vehicle']=='walk', 'Share'] = (ones - D['drive']) * (ones - D['public']) * (ones - D['cycle'])\n",
    "    \n",
    "    df['Person-kilometers'] = None\n",
    "    for i in df['Vehicle'].unique():\n",
    "        df.loc[df['Vehicle']==i, 'Person-kilometers'] = df.loc[df['Vehicle']==i, 'Share'].multiply(poly)\n",
    "        \n",
    "    modemap = {'Driving' : ['ice', 'ev', 'hev'],\n",
    "               'Transit' : ['train', 'metro/bus'],\n",
    "               'Cycling' : ['ebike', 'bike', 'moped', 'emoped'],\n",
    "               'Walking' : ['walk'],\n",
    "               }\n",
    "    for key in list(modemap.keys()):\n",
    "        for i in range(len(modemap[key])):\n",
    "            df.loc[df['Vehicle']==modemap[key][i], 'Mode'] = key\n",
    "    \n",
    "    for each in df['Mode'].unique():\n",
    "        print(each, round(df.loc[df['Year']==2050]\\\n",
    "                            .loc[df['Mode']==each,'Share'].sum(),3)\\\n",
    "              )\n",
    "    return df, D\n",
    "\n",
    "def BinaryShifts(x, D, mode, figs=False):\n",
    "    for key in D.keys():\n",
    "        pal = sns.color_palette(\"Set1\")\n",
    "        y = [D[key], 1-D[key] ]\n",
    "        plt.stackplot(x, y, colors=pal, alpha=0.6 )\n",
    "        plt.savefig(str('figures/WLOHP_Share'\\\n",
    "                        +'_'+mode\n",
    "                        +key\n",
    "                        +'.pdf'), dpi=300)\n",
    "        if figs is True:\n",
    "            plt.show()\n",
    "        plt.clf()\n",
    "\n",
    "    \n",
    "def PlotService(x, df, y='Share', scn='HoogPerson', figs=False):\n",
    "    fig = px.area(df, x = 'Year', y = y, \n",
    "                      color = 'Mode', \n",
    "                      line_group = 'Vehicle',\n",
    "                      ).update_layout(legend=dict(\n",
    "                                                  y=0.5, \n",
    "                                                  traceorder='reversed', \n",
    "                                                  font_size=10,\n",
    "                                                  ))\n",
    "    if figs is True:\n",
    "        fig.show()\n",
    "        \n",
    "    fig.write_image(str('figures/WLO_'\\\n",
    "                                +scn+'_'\\\n",
    "                                +y+'_'\\\n",
    "                                +str(int(min(x)))\\\n",
    "                                +'-'+str(int(max(x)))\\\n",
    "                                +'.pdf'))\n",
    "\n",
    "\n",
    "def StackPlot(x, a, b, path, figs=False):\n",
    "    plt.stackplot(x, a, b)\n",
    "    plt.savefig('figures/CarsPerPersonkm.pdf')\n",
    "    if figs is True:\n",
    "        plt.show()\n",
    "    plt.clf()\n",
    "    \n",
    "def WeibCorr(x, start=2000, scale=10, shape=2, magn=1e3):\n",
    "    weibcorr = magn * scipy.stats.weibull_min.pdf(x,shape, loc=start, scale=scale)\n",
    "    return weibcorr\n",
    "\n",
    "def CosCorr(x, years=25, maxim=180):\n",
    "    cos = ((-np.cos(np.degrees(1/(years)*(x-min(x))/np.pi +1))+1)*maxim/2)[0:int(len(x-1)/(0.95*2**0.5))]\n",
    "    coscorr = np.append(cos, np.zeros(len(x) - len(cos)))\n",
    "    # ### plot if you want to show \n",
    "    # # z=np.linspace(min(x),max(x),4000+1)\n",
    "    # y = coscorr\n",
    "    # plt.plot(x, y)\n",
    "    # plt.show()\n",
    "    return coscorr\n",
    "\n",
    "def ServiceToPersonVehicles(x, df, service='Person-kilometers', figs=False):\n",
    "    STV = dict()\n",
    "    keys = ['ice', 'ev', 'hev', 'train', 'metro/bus', 'ebike', 'bike', 'emoped', 'moped', 'walk']\n",
    "    \n",
    "    ### cars per person kilometer\n",
    "    CarPerPkm = 6.34e6/136.5\n",
    "    CarCurve = InnoDiff(x, start=CarPerPkm, end=CarPerPkm/2,\n",
    "                        steepness=0.3, midpoint=2030 )\n",
    "    CarCorr = WeibCorr(x, start=2000, scale=20, shape=3, magn=2.3e5)\n",
    "#     CarCorr = CosCorr(x, years=120, maxim=CarPerPkm*0.3)\n",
    "    STV['ice'] = CarCurve + CarCorr \n",
    "    STV['ev'] = STV['ice']\n",
    "    STV['hev'] = STV['ice']\n",
    "    StackPlot(x, CarCurve, CarCorr, 'CarsPerPersonkm.pdf', figs)\n",
    "    \n",
    "    ### bikes per person kilometer, assumed to be constant\n",
    "    BikePerPkm = 17.8e6/15.5/20*19\n",
    "    BikeCurve = InnoDiff(x, start=BikePerPkm, end=BikePerPkm*0.66,\n",
    "                      steepness=0.3, midpoint=2030 )\n",
    "    BikeCorr = WeibCorr(x, start=2000, scale=20, shape=3, magn=5e6)\n",
    "#     BikeCorr = CosCorr(x, years=120, maxim=BikePerPkm*0.25)\n",
    "    STV['bike'] = BikeCurve +  BikeCorr\n",
    "    STV['ebike'] = STV['bike']\n",
    "    StackPlot(x, BikeCurve, BikeCorr, 'BikesPerPersonkm.pdf', figs)\n",
    "    \n",
    "    ### train capacity per person kilometer, assumed to be constant\n",
    "    TrainPerPkm = 1301/17.1\n",
    "    TrainCurve = InnoDiff(x, start=TrainPerPkm, end=TrainPerPkm,\n",
    "                      steepness=1, midpoint=2035 )\n",
    "    STV['train'] = TrainCurve\n",
    "\n",
    "    ### buses per person kilometer, assumed to be constant\n",
    "    BusPerPkm = 11634/6.7\n",
    "    BusCurve = InnoDiff(x, start=BusPerPkm, end=BusPerPkm,\n",
    "                      steepness=1, midpoint=2035 )\n",
    "    STV['metro/bus'] = BusCurve\n",
    "    \n",
    "    ### mopeds per person kilometer, assumed to be constant\n",
    "    MopedPerPkm = 0.7e6/1\n",
    "    MopedCurve = InnoDiff(x, start=MopedPerPkm, end=MopedPerPkm*0.3,\n",
    "                      steepness=0.3, midpoint=2035 )\n",
    "    STV['moped'] = MopedCurve\n",
    "    STV['emoped'] = MopedCurve\n",
    "\n",
    "    df['VehicleCount'] = None\n",
    "    for key in STV.keys():\n",
    "        df.loc[df['Vehicle']==key, 'VehicleCount'] = STV[key] * df.loc[df['Vehicle']==key, service]\n",
    "        \n",
    "    return df, STV\n",
    "\n",
    "\n",
    "###   FREIGHT TRANSPORT\n",
    "\n",
    "def RoadFirst(x, poly):\n",
    "    df = pd.DataFrame()\n",
    "    keys = ['40tlorry', '28tlorry', '16tlorry', 'freighttrain', 'xlbarge', 'lbarge', 'mbarge', 'sbarge']\n",
    "    for key in keys:\n",
    "        temp = pd.DataFrame()\n",
    "        temp['Year'] = x\n",
    "        temp['Vehicle'] = key\n",
    "        temp['Share'] = np.nan\n",
    "        df = pd.concat([df, temp], ignore_index=True, sort=False)\n",
    "        \n",
    "    D = dict()\n",
    "    D['ROAD'] = InnoDiff(x, start=0.60, end=0.29,\n",
    "                         steepness=0.15, midpoint=2030)\n",
    "    D['16TL'] = InnoDiff(x, start=0.06, end=0.10,\n",
    "                         steepness=0.15, midpoint=2030)\n",
    "    D['40TL'] = InnoDiff(x, start=0.22, end=0.40,\n",
    "                         steepness=0.15, midpoint=2030)\n",
    "    D['RAIL'] = InnoDiff(x, start=0.11, end=0.4,\n",
    "                         steepness=0.15, midpoint=2030)\n",
    "    D['SBARGE'] = InnoDiff(x, start=0.47, end=0.2,\n",
    "                         steepness=0.1, midpoint=2030)\n",
    "    D['MBARGE'] = InnoDiff(x, start=0.45, end=0.2,\n",
    "                         steepness=0.1, midpoint=2030)\n",
    "    D['LBARGE'] = InnoDiff(x, start=0.60, end=0.4,\n",
    "                         steepness=0.1, midpoint=2030)\n",
    "    \n",
    "    \n",
    "    ones = np.ones(len(x))\n",
    "    df.loc[df['Vehicle']=='16tlorry', 'Share'] = D['ROAD'] * D['16TL']\n",
    "    df.loc[df['Vehicle']=='28tlorry', 'Share'] = D['ROAD'] * (ones - D['16TL']) * (ones - D['40TL'])\n",
    "    df.loc[df['Vehicle']=='40tlorry', 'Share'] = D['ROAD'] * (ones - D['16TL']) * D['40TL']\n",
    "\n",
    "    df.loc[df['Vehicle']=='freighttrain', 'Share'] = (ones - D['ROAD']) * D['RAIL']\n",
    "    \n",
    "    df.loc[df['Vehicle']=='sbarge', 'Share'] = (ones - D['ROAD']) * (ones - D['RAIL']) * D['SBARGE']\n",
    "    df.loc[df['Vehicle']=='mbarge', 'Share'] = (ones - D['ROAD']) * (ones - D['RAIL']) * (ones - D['SBARGE']) * D['MBARGE'] \n",
    "    df.loc[df['Vehicle']=='lbarge', 'Share'] = (ones - D['ROAD']) * (ones - D['RAIL']) * (ones - D['SBARGE']) * (ones - D['MBARGE']) * D['LBARGE'] \n",
    "    df.loc[df['Vehicle']=='xlbarge', 'Share'] = (ones - D['ROAD']) * (ones - D['RAIL']) * (ones - D['SBARGE']) * (ones - D['MBARGE']) * (ones - D['LBARGE'])\n",
    "    \n",
    "    df['Ton-kilometers'] = None\n",
    "    for i in df['Vehicle'].unique():\n",
    "        df.loc[df['Vehicle']==i, 'Ton-kilometers'] = df.loc[df['Vehicle']==i, 'Share'].multiply(poly)\n",
    "    \n",
    "    modemap = {'Road' : ['40tlorry', '28tlorry', '16tlorry'],\n",
    "               'Rail' : ['freighttrain'],\n",
    "               'Inland' : ['xlbarge', 'lbarge', 'mbarge', 'sbarge'],\n",
    "               }\n",
    "    for key in list(modemap.keys()):\n",
    "        for i in range(len(modemap[key])):\n",
    "            df.loc[df['Vehicle']==modemap[key][i], 'Mode'] = key\n",
    "    \n",
    "    for each in df['Mode'].unique():\n",
    "        print(each, round(df.loc[df['Year']==2050]\\\n",
    "                            .loc[df['Mode']==each,'Share'].sum(),3)\\\n",
    "              )\n",
    "        \n",
    "    return df, D\n",
    "\n",
    "def ServiceToFreightVehicles(x, df, service='Ton-kilometers', figs=False):\n",
    "    STV = dict()\n",
    "    keys = ['40tlorry', '28tlorry', '16tlorry', 'freighttrain', 'xlbarge', 'lbarge', 'mbarge', 'sbarge']\n",
    "    \n",
    "    ### lorries per ton kilometer\n",
    "    lorry16PerT = 240000/54.1*28/16\n",
    "    lorry28PerT = 240000/54.1*28/28\n",
    "    lorry40PerT = 240000/54.1*28/40\n",
    "    L16Curve = InnoDiff(x, start=lorry16PerT, end=lorry16PerT,\n",
    "                        steepness=1, midpoint=2035 )\n",
    "    L28Curve = InnoDiff(x, start=lorry28PerT, end=lorry28PerT,\n",
    "                        steepness=1, midpoint=2035 )\n",
    "    L40Curve = InnoDiff(x, start=lorry40PerT, end=lorry40PerT,\n",
    "                        steepness=1, midpoint=2035 )\n",
    "    STV['16tlorry'] = L16Curve \n",
    "    STV['28tlorry'] = L28Curve\n",
    "    STV['40tlorry'] = L40Curve\n",
    "    \n",
    "    ### trains per ton-kilometer\n",
    "    trainPerT = 1000/5.9\n",
    "    trainCurve = InnoDiff(x, start=trainPerT, end=trainPerT,\n",
    "                        steepness=1, midpoint=2035 )\n",
    "    STV['freighttrain']  = trainCurve\n",
    "\n",
    "    ### inland barges per ton-kilometer\n",
    "    XlbPerT = 623/46.6\n",
    "    LbPerT = 943/46.6\n",
    "    MbPerT = 1280/46.6\n",
    "    SbPerT = 2536/46.\n",
    "    xlbCurve = InnoDiff(x, start=XlbPerT, end=XlbPerT, steepness=1, midpoint=2035 )\n",
    "    lbCurve = InnoDiff(x, start=LbPerT, end=LbPerT, steepness=1, midpoint=2035 )\n",
    "    mbCurve = InnoDiff(x, start=MbPerT, end=MbPerT, steepness=1, midpoint=2035 )\n",
    "    sbCurve = InnoDiff(x, start=SbPerT, end=SbPerT, steepness=1, midpoint=2035 )\n",
    "    STV['xlbarge']  = xlbCurve\n",
    "    STV['lbarge']  = lbCurve  \n",
    "    STV['mbarge']  = mbCurve  \n",
    "    STV['sbarge']  = sbCurve  \n",
    "    \n",
    "    ### for output\n",
    "    df['VehicleCount'] = None\n",
    "    for key in STV.keys():\n",
    "        df.loc[df['Vehicle']==key, 'VehicleCount'] = STV[key] * df.loc[df['Vehicle']==key, service]\n",
    "        \n",
    "    return df, STV\n",
    "\n",
    "\n"
   ]
  },
  {
   "cell_type": "code",
   "execution_count": 3,
   "metadata": {
    "scrolled": true
   },
   "outputs": [
    {
     "data": {
      "image/png": "[encoded data removed]",
      "text/plain": [
       "<Figure size 432x288 with 1 Axes>"
      ]
     },
     "metadata": {
      "needs_background": "light"
     },
     "output_type": "display_data"
    },
    {
     "data": {
      "image/png": "[encoded data removed]",
      "text/plain": [
       "<Figure size 432x288 with 1 Axes>"
      ]
     },
     "metadata": {
      "needs_background": "light"
     },
     "output_type": "display_data"
    },
    {
     "data": {
      "image/png": "[encoded data removed]",
      "text/plain": [
       "<Figure size 432x288 with 1 Axes>"
      ]
     },
     "metadata": {
      "needs_background": "light"
     },
     "output_type": "display_data"
    },
    {
     "data": {
      "image/png": "[encoded data removed]",
      "text/plain": [
       "<Figure size 432x288 with 1 Axes>"
      ]
     },
     "metadata": {
      "needs_background": "light"
     },
     "output_type": "display_data"
    },
    {
     "data": {
      "text/plain": [
       "<Figure size 432x288 with 0 Axes>"
      ]
     },
     "metadata": {},
     "output_type": "display_data"
    }
   ],
   "source": [
    "### set x-axis and fidelity.\n",
    "startmodel = 2000\n",
    "endmodel = 2050\n",
    "x = np.linspace(startmodel, endmodel, endmodel-startmodel+1)\n",
    "\n",
    "### read data\n",
    "wloHP = pd.read_csv('data/modalshift/WLOHpassenger.csv', index_col=0,header=0)\n",
    "wloLP = pd.read_csv('data/modalshift/WLOLpassenger.csv', index_col=0,header=0)\n",
    "wloHF = pd.read_csv('data/modalshift/WLOHfreight.csv', index_col=0,header=0)\n",
    "wloLF = pd.read_csv('data/modalshift/WLOLfreight.csv', index_col=0,header=0)\n",
    "\n",
    "### convert to numeric column\n",
    "### force polynomials to flatten out at 2050.\n",
    "wloHP.loc[2040,'Total']=250\n",
    "wloLP.loc[2040,'Total']=210\n",
    "wloHF.loc[2040,'Total']=170\n",
    "wloLF.loc[2040,'Total']=140\n",
    "\n",
    "### \"PolyXX\" is the passenger transport service demand over time.\n",
    "PolyHP = PolyFit(x, wloHP, 'HP')\n",
    "PolyLP = PolyFit(x, wloLP, 'LP')\n",
    "PolyHF = PolyFit(x, wloHF, 'HF')\n",
    "PolyLF = PolyFit(x, wloLF, 'LF')\n"
   ]
  },
  {
   "cell_type": "code",
   "execution_count": 4,
   "metadata": {
    "scrolled": true
   },
   "outputs": [],
   "source": [
    "# dfHP.loc[dfHP['Vehicle']=='ice'].head(20)# df.loc[df['Vehicle']=='bike']\n",
    "# dfHP.loc[dfHP['VehicleCount']==None]#.unique()\n",
    "# dfHP"
   ]
  },
  {
   "cell_type": "code",
   "execution_count": 10,
   "metadata": {},
   "outputs": [
    {
     "data": {
      "image/png": "[encoded data removed]",
      "text/plain": [
       "<Figure size 432x288 with 1 Axes>"
      ]
     },
     "metadata": {
      "needs_background": "light"
     },
     "output_type": "display_data"
    },
    {
     "data": {
      "image/png": "[encoded data removed]",
      "text/plain": [
       "<Figure size 432x288 with 1 Axes>"
      ]
     },
     "metadata": {
      "needs_background": "light"
     },
     "output_type": "display_data"
    },
    {
     "data": {
      "image/png": "[encoded data removed]",
      "text/plain": [
       "<Figure size 432x288 with 1 Axes>"
      ]
     },
     "metadata": {
      "needs_background": "light"
     },
     "output_type": "display_data"
    },
    {
     "data": {
      "image/png": "[encoded data removed]",
      "text/plain": [
       "<Figure size 432x288 with 1 Axes>"
      ]
     },
     "metadata": {
      "needs_background": "light"
     },
     "output_type": "display_data"
    },
    {
     "data": {
      "image/png": "[encoded data removed]",
      "text/plain": [
       "<Figure size 432x288 with 1 Axes>"
      ]
     },
     "metadata": {
      "needs_background": "light"
     },
     "output_type": "display_data"
    },
    {
     "data": {
      "image/png": "[encoded data removed]",
      "text/plain": [
       "<Figure size 432x288 with 1 Axes>"
      ]
     },
     "metadata": {
      "needs_background": "light"
     },
     "output_type": "display_data"
    },
    {
     "data": {
      "image/png": "[encoded data removed]",
      "text/plain": [
       "<Figure size 432x288 with 1 Axes>"
      ]
     },
     "metadata": {
      "needs_background": "light"
     },
     "output_type": "display_data"
    },
    {
     "data": {
      "image/png": "[encoded data removed]",
      "text/plain": [
       "<Figure size 432x288 with 1 Axes>"
      ]
     },
     "metadata": {
      "needs_background": "light"
     },
     "output_type": "display_data"
    },
    {
     "data": {
      "image/png": "[encoded data removed]",
      "text/plain": [
       "<Figure size 432x288 with 1 Axes>"
      ]
     },
     "metadata": {
      "needs_background": "light"
     },
     "output_type": "display_data"
    },
    {
     "data": {
      "text/plain": [
       "<Figure size 432x288 with 0 Axes>"
      ]
     },
     "metadata": {},
     "output_type": "display_data"
    }
   ],
   "source": [
    "BinaryShifts(x, DHP, 'HoogPerson', figs=True)\n",
    "\n"
   ]
  },
  {
   "cell_type": "code",
   "execution_count": 8,
   "metadata": {
    "scrolled": false
   },
   "outputs": [
    {
     "name": "stdout",
     "output_type": "stream",
     "text": [
      "Driving 0.115\n",
      "Transit 0.634\n",
      "Cycling 0.201\n",
      "Walking 0.05\n"
     ]
    },
    {
     "data": {
      "application/vnd.plotly.v1+json": {
       "config": {
        "plotlyServerURL": "https://plot.ly"
       },
       "data": [
        {
         "hoverlabel": {
          "namelength": 0
         },
         "hovertemplate": "Mode=Driving<br>Vehicle=ice<br>Year=%{x}<br>Share=%{y}",
         "legendgroup": "Mode=Driving",
         "line": {
          "color": "#636efa"
         },
         "mode": "lines",
         "name": "Mode=Driving",
         "orientation": "v",
         "showlegend": true,
         "stackgroup": "1",
         "type": "scatter",
         "x": [
          2000,
          2001,
          2002,
          2003,
          2004,
          2005,
          2006,
          2007,
          2008,
          2009,
          2010,
          2011,
          2012,
          2013,
          2014,
          2015,
          2016,
          2017,
          2018,
          2019,
          2020,
          2021,
          2022,
          2023,
          2024,
          2025,
          2026,
          2027,
          2028,
          2029,
          2030,
          2031,
          2032,
          2033,
          2034,
          2035,
          2036,
          2037,
          2038,
          2039,
          2040,
          2041,
          2042,
          2043,
          2044,
          2045,
          2046,
          2047,
          2048,
          2049,
          2050
         ],
         "xaxis": "x",
         "y": [
          0.7522177135157431,
          0.7521607689283896,
          0.7520858477737339,
          0.7519872180570818,
          0.7518573040889641,
          0.7516860899616266,
          0.7514603300722377,
          0.7511625051646699,
          0.7507694436888572,
          0.7502505047659724,
          0.7495651901585865,
          0.7486600184725521,
          0.7474644568986617,
          0.7458856685914342,
          0.7438018072361714,
          0.741053594263193,
          0.7374339850062199,
          0.7326759310009398,
          0.7264386788203192,
          0.7182938632423578,
          0.7077140508475072,
          0.694068559083432,
          0.6766343403399381,
          0.6546329960706798,
          0.6273070111296286,
          0.5940458575602879,
          0.5545610649049558,
          0.5090851932921819,
          0.45853654395296567,
          0.40456674941251464,
          0.34942020777391886,
          0.2955995974786122,
          0.24542695627620323,
          0.20065257176109544,
          0.16224342344356313,
          0.13039209919885594,
          0.10469143234742734,
          0.08437555629440369,
          0.06854118798217629,
          0.056304360795041496,
          0.0468865204815052,
          0.03964565982371845,
          0.03407383125756155,
          0.029778843390011144,
          0.026461596758714574,
          0.023894927390324575,
          0.021906146231514947,
          0.020363514549292683,
          0.019166094787828335,
          0.01823622761374717,
          0.01751395785681324
         ],
         "yaxis": "y"
        },
        {
         "hoverlabel": {
          "namelength": 0
         },
         "hovertemplate": "Mode=Driving<br>Vehicle=ev<br>Year=%{x}<br>Share=%{y}",
         "legendgroup": "Mode=Driving",
         "line": {
          "color": "#636efa"
         },
         "mode": "lines",
         "name": "Mode=Driving",
         "orientation": "v",
         "showlegend": false,
         "stackgroup": "1",
         "type": "scatter",
         "x": [
          2000,
          2001,
          2002,
          2003,
          2004,
          2005,
          2006,
          2007,
          2008,
          2009,
          2010,
          2011,
          2012,
          2013,
          2014,
          2015,
          2016,
          2017,
          2018,
          2019,
          2020,
          2021,
          2022,
          2023,
          2024,
          2025,
          2026,
          2027,
          2028,
          2029,
          2030,
          2031,
          2032,
          2033,
          2034,
          2035,
          2036,
          2037,
          2038,
          2039,
          2040,
          2041,
          2042,
          2043,
          2044,
          2045,
          2046,
          2047,
          2048,
          2049,
          2050
         ],
         "xaxis": "x",
         "y": [
          8.093638303141091e-05,
          8.268285931254528e-05,
          8.505596718670038e-05,
          8.828765317123211e-05,
          9.270140076181685e-05,
          9.875272971806723e-05,
          0.0001070907392916004,
          0.00011865357599179749,
          0.00013481955585498915,
          0.00015765091071229213,
          0.0001902933140507003,
          0.0002376390035867353,
          0.0003074364337301593,
          0.0004121528949588939,
          0.0005720925431799534,
          0.0008205665115211847,
          0.0012123143010256245,
          0.001836836371046358,
          0.0028386147572544993,
          0.004445869483441474,
          0.007007569804716804,
          0.011033544807710073,
          0.01722369177923481,
          0.026460557768702157,
          0.039730597172123995,
          0.05794387181284565,
          0.08165064626263885,
          0.11070664978049276,
          0.1439979711950922,
          0.179365987559348,
          0.2138365139611333,
          0.2441470747226176,
          0.26742553544198777,
          0.28178711136547546,
          0.28664831541994684,
          0.2826868388128684,
          0.2715196983561234,
          0.25525121254355454,
          0.23604018582223343,
          0.21578239580590647,
          0.19594014564219633,
          0.177501715504797,
          0.16102916876992712,
          0.1467500507775116,
          0.1346583635482343,
          0.12460402169754929,
          0.1163620185919172,
          0.10968048945735358,
          0.10431089425915205,
          0.10002482399299929,
          0.09662169536444848
         ],
         "yaxis": "y"
        },
        {
         "hoverlabel": {
          "namelength": 0
         },
         "hovertemplate": "Mode=Driving<br>Vehicle=hev<br>Year=%{x}<br>Share=%{y}",
         "legendgroup": "Mode=Driving",
         "line": {
          "color": "#636efa"
         },
         "mode": "lines",
         "name": "Mode=Driving",
         "orientation": "v",
         "showlegend": false,
         "stackgroup": "1",
         "type": "scatter",
         "x": [
          2000,
          2001,
          2002,
          2003,
          2004,
          2005,
          2006,
          2007,
          2008,
          2009,
          2010,
          2011,
          2012,
          2013,
          2014,
          2015,
          2016,
          2017,
          2018,
          2019,
          2020,
          2021,
          2022,
          2023,
          2024,
          2025,
          2026,
          2027,
          2028,
          2029,
          2030,
          2031,
          2032,
          2033,
          2034,
          2035,
          2036,
          2037,
          2038,
          2039,
          2040,
          2041,
          2042,
          2043,
          2044,
          2045,
          2046,
          2047,
          2048,
          2049,
          2050
         ],
         "xaxis": "x",
         "y": [
          0.007596782196617814,
          0.007622286406781475,
          0.007656710648476207,
          0.007703163203639137,
          0.007765826836599802,
          0.007850323408285871,
          0.007964196725064373,
          0.008117547471033925,
          0.008323859980351178,
          0.008601064033868847,
          0.00897287164956665,
          0.00947041124048218,
          0.010134135991567919,
          0.011015887621115508,
          0.012180817262900101,
          0.01370855761525787,
          0.015692560319704552,
          0.018235850491822435,
          0.021440712573884337,
          0.025389368699220264,
          0.030113315207159104,
          0.03555182381296275,
          0.04150622223370169,
          0.047605369863424,
          0.053305202583402336,
          0.05794387181284565,
          0.06085764199899297,
          0.061534228392727666,
          0.059754334151027086,
          0.05566641731594214,
          0.04976118664024397,
          0.04275198969457343,
          0.035405449737568394,
          0.028383475466653096,
          0.022144751721116716,
          0.016921061988275636,
          0.012752378711822582,
          0.009550072568817748,
          0.007160684739830909,
          0.00541458150324877,
          0.004155425501002351,
          0.0032534703836797595,
          0.002608150673426376,
          0.002145034367074881,
          0.0018106865264633314,
          0.0015674497261468825,
          0.0013890242914129007,
          0.0012570722905477485,
          0.001158756600144925,
          0.001085020689148759,
          0.001029410919355164
         ],
         "yaxis": "y"
        },
        {
         "hoverlabel": {
          "namelength": 0
         },
         "hovertemplate": "Mode=Transit<br>Vehicle=train<br>Year=%{x}<br>Share=%{y}",
         "legendgroup": "Mode=Transit",
         "line": {
          "color": "#EF553B"
         },
         "mode": "lines",
         "name": "Mode=Transit",
         "orientation": "v",
         "showlegend": true,
         "stackgroup": "1",
         "type": "scatter",
         "x": [
          2000,
          2001,
          2002,
          2003,
          2004,
          2005,
          2006,
          2007,
          2008,
          2009,
          2010,
          2011,
          2012,
          2013,
          2014,
          2015,
          2016,
          2017,
          2018,
          2019,
          2020,
          2021,
          2022,
          2023,
          2024,
          2025,
          2026,
          2027,
          2028,
          2029,
          2030,
          2031,
          2032,
          2033,
          2034,
          2035,
          2036,
          2037,
          2038,
          2039,
          2040,
          2041,
          2042,
          2043,
          2044,
          2045,
          2046,
          2047,
          2048,
          2049,
          2050
         ],
         "xaxis": "x",
         "y": [
          0.09254082940988968,
          0.09257447617993073,
          0.09261626250505832,
          0.09266818153073751,
          0.09273271962189858,
          0.0928129792361669,
          0.09291283239217259,
          0.09303711224745373,
          0.09319185207581458,
          0.0933845830905645,
          0.09362470515912805,
          0.09392394755423719,
          0.0942969405303273,
          0.09476192270553876,
          0.09534161389209764,
          0.09606428790806801,
          0.09696508446195527,
          0.0980876022785035,
          0.09948581501299919,
          0.10122634310990847,
          0.10339109145279023,
          0.10608021253459825,
          0.1094152594940659,
          0.11354222681036094,
          0.11863390801156803,
          0.12489060485172693,
          0.13253770855665264,
          0.14181812690855486,
          0.15297717728455906,
          0.1662378168478559,
          0.18176548843612342,
          0.19962487434658147,
          0.21973532842264987,
          0.2418363990014635,
          0.26547709323168533,
          0.290039554235356,
          0.3147987275913129,
          0.3390072430082462,
          0.3619850758748194,
          0.38319192569933425,
          0.40226745661200797,
          0.41903631289255827,
          0.4334851255838448,
          0.44572376331417257,
          0.45594270713918,
          0.4643748704629506,
          0.4712659607565308,
          0.4768541603000057,
          0.4813579620811289,
          0.48497022879265117,
          0.4878565167571176
         ],
         "yaxis": "y"
        },
        {
         "hoverlabel": {
          "namelength": 0
         },
         "hovertemplate": "Mode=Transit<br>Vehicle=metro/bus<br>Year=%{x}<br>Share=%{y}",
         "legendgroup": "Mode=Transit",
         "line": {
          "color": "#EF553B"
         },
         "mode": "lines",
         "name": "Mode=Transit",
         "orientation": "v",
         "showlegend": false,
         "stackgroup": "1",
         "type": "scatter",
         "x": [
          2000,
          2001,
          2002,
          2003,
          2004,
          2005,
          2006,
          2007,
          2008,
          2009,
          2010,
          2011,
          2012,
          2013,
          2014,
          2015,
          2016,
          2017,
          2018,
          2019,
          2020,
          2021,
          2022,
          2023,
          2024,
          2025,
          2026,
          2027,
          2028,
          2029,
          2030,
          2031,
          2032,
          2033,
          2034,
          2035,
          2036,
          2037,
          2038,
          2039,
          2040,
          2041,
          2042,
          2043,
          2044,
          2045,
          2046,
          2047,
          2048,
          2049,
          2050
         ],
         "xaxis": "x",
         "y": [
          0.027642065927629383,
          0.027652116261537744,
          0.027664597891121315,
          0.027680106171518993,
          0.027699383783164507,
          0.02772335743417972,
          0.027753183701558045,
          0.02779030625573293,
          0.027836527243425134,
          0.02789409624783095,
          0.027965821021557726,
          0.028055205113603314,
          0.028166618599967892,
          0.028305509379576512,
          0.028478663889847343,
          0.02869452755695538,
          0.02896359665746716,
          0.029298894187085454,
          0.029716542146740018,
          0.030236440149712916,
          0.03088305329109318,
          0.03168629725059428,
          0.03268248010861709,
          0.03391521060569223,
          0.03543610239306577,
          0.03730498586480155,
          0.03958918567276637,
          0.04236125868697093,
          0.04569448152655659,
          0.04965545178572319,
          0.054293587454945946,
          0.059628209220407444,
          0.0656352279704019,
          0.0722368464549826,
          0.07929835252375016,
          0.0866351915248466,
          0.0940307887610415,
          0.10126190375570988,
          0.10812541227429669,
          0.11445992585824268,
          0.1201578117152751,
          0.1251666908640109,
          0.12948256997958998,
          0.13313826696397363,
          0.13619067875585894,
          0.13870937689153068,
          0.14076775451169102,
          0.14243695697272896,
          0.14378224841384368,
          0.14486123717183086,
          0.14572337513524292
         ],
         "yaxis": "y"
        },
        {
         "hoverlabel": {
          "namelength": 0
         },
         "hovertemplate": "Mode=Cycling<br>Vehicle=ebike<br>Year=%{x}<br>Share=%{y}",
         "legendgroup": "Mode=Cycling",
         "line": {
          "color": "#00cc96"
         },
         "mode": "lines",
         "name": "Mode=Cycling",
         "orientation": "v",
         "showlegend": true,
         "stackgroup": "1",
         "type": "scatter",
         "x": [
          2000,
          2001,
          2002,
          2003,
          2004,
          2005,
          2006,
          2007,
          2008,
          2009,
          2010,
          2011,
          2012,
          2013,
          2014,
          2015,
          2016,
          2017,
          2018,
          2019,
          2020,
          2021,
          2022,
          2023,
          2024,
          2025,
          2026,
          2027,
          2028,
          2029,
          2030,
          2031,
          2032,
          2033,
          2034,
          2035,
          2036,
          2037,
          2038,
          2039,
          2040,
          2041,
          2042,
          2043,
          2044,
          2045,
          2046,
          2047,
          2048,
          2049,
          2050
         ],
         "xaxis": "x",
         "y": [
          9.29529503743428e-05,
          9.424711003725214e-05,
          9.599557386115017e-05,
          9.835736380374682e-05,
          0.00010154700340698572,
          0.00010585381141340496,
          0.00011166785606569685,
          0.00011951483853228908,
          0.000130102924237375,
          0.00014438552260681177,
          0.00016364528682364288,
          0.00018960622640117915,
          0.00022458284792462006,
          0.0002716776777933342,
          0.0003350412991015572,
          0.00042021188338591973,
          0.0005345534678702154,
          0.0006878125714444342,
          0.0008928085944251177,
          0.0011662602853233473,
          0.001529721033977912,
          0.002010539228277473,
          0.0026426638780426633,
          0.003466972123305948,
          0.00453061634467519,
          0.0058847345235923006,
          0.007579874753977552,
          0.009658854190211653,
          0.012147648651684868,
          0.015046135121346078,
          0.018321450418000294,
          0.02190654201122416,
          0.02570490827352618,
          0.02960040720703822,
          0.033469687073483335,
          0.03719477844010845,
          0.04067405636557264,
          0.04383033787582512,
          0.04661522719305772,
          0.04900932941738182,
          0.05101875438137137,
          0.052669113374104806,
          0.05399857370912357,
          0.05505136293814486,
          0.05587259761883991,
          0.05650474200426521,
          0.05698558070661683,
          0.05734737425384909,
          0.057616818394290614,
          0.05781547646561973,
          0.05796043879991663
         ],
         "yaxis": "y"
        },
        {
         "hoverlabel": {
          "namelength": 0
         },
         "hovertemplate": "Mode=Cycling<br>Vehicle=bike<br>Year=%{x}<br>Share=%{y}",
         "legendgroup": "Mode=Cycling",
         "line": {
          "color": "#00cc96"
         },
         "mode": "lines",
         "name": "Mode=Cycling",
         "orientation": "v",
         "showlegend": false,
         "stackgroup": "1",
         "type": "scatter",
         "x": [
          2000,
          2001,
          2002,
          2003,
          2004,
          2005,
          2006,
          2007,
          2008,
          2009,
          2010,
          2011,
          2012,
          2013,
          2014,
          2015,
          2016,
          2017,
          2018,
          2019,
          2020,
          2021,
          2022,
          2023,
          2024,
          2025,
          2026,
          2027,
          2028,
          2029,
          2030,
          2031,
          2032,
          2033,
          2034,
          2035,
          2036,
          2037,
          2038,
          2039,
          2040,
          2041,
          2042,
          2043,
          2044,
          2045,
          2046,
          2047,
          2048,
          2049,
          2050
         ],
         "xaxis": "x",
         "y": [
          0.08912782438776755,
          0.08911578071509534,
          0.08910157415363944,
          0.08908485890616599,
          0.08906524721434818,
          0.08904230885518839,
          0.08901557265771397,
          0.08898453094366601,
          0.08894864805126655,
          0.08890737438678499,
          0.08886016774027436,
          0.0888065238500887,
          0.0887460183175551,
          0.08867836181639706,
          0.08860346990424388,
          0.08852154736351829,
          0.08843318462337409,
          0.08833946038486082,
          0.08824204063319781,
          0.08814326167827378,
          0.08804618812284755,
          0.08795465380261389,
          0.08787333637033741,
          0.08780799457532015,
          0.08776610541329695,
          0.08775822515555141,
          0.08780033625839186,
          0.08791704002648908,
          0.08814459621757581,
          0.08853174025373817,
          0.08913573678434748,
          0.09001226972494453,
          0.0912006855163873,
          0.09270932005528804,
          0.09450683441767953,
          0.0965235119322141,
          0.09866241568838241,
          0.10081651966443274,
          0.10288625141864666,
          0.10479270054033744,
          0.10648414851864375,
          0.10793616153270962,
          0.10914718511519635,
          0.11013206095441652,
          0.110915456397384,
          0.11152639426124593,
          0.11199432211519852,
          0.11234666127363416,
          0.11260753627085052,
          0.11279732997033322,
          0.11293275167621454
         ],
         "yaxis": "y"
        },
        {
         "hoverlabel": {
          "namelength": 0
         },
         "hovertemplate": "Mode=Cycling<br>Vehicle=emoped<br>Year=%{x}<br>Share=%{y}",
         "legendgroup": "Mode=Cycling",
         "line": {
          "color": "#00cc96"
         },
         "mode": "lines",
         "name": "Mode=Cycling",
         "orientation": "v",
         "showlegend": false,
         "stackgroup": "1",
         "type": "scatter",
         "x": [
          2000,
          2001,
          2002,
          2003,
          2004,
          2005,
          2006,
          2007,
          2008,
          2009,
          2010,
          2011,
          2012,
          2013,
          2014,
          2015,
          2016,
          2017,
          2018,
          2019,
          2020,
          2021,
          2022,
          2023,
          2024,
          2025,
          2026,
          2027,
          2028,
          2029,
          2030,
          2031,
          2032,
          2033,
          2034,
          2035,
          2036,
          2037,
          2038,
          2039,
          2040,
          2041,
          2042,
          2043,
          2044,
          2045,
          2046,
          2047,
          2048,
          2049,
          2050
         ],
         "xaxis": "x",
         "y": [
          7.543690302784658e-06,
          7.832492318017476e-06,
          8.222421705197025e-06,
          8.7488561016665e-06,
          9.459541852598764e-06,
          1.0418918551366168e-05,
          1.1713958368429259e-05,
          1.3462054275567733e-05,
          1.5821683044055662e-05,
          1.9006832515171615e-05,
          2.3306547344169378e-05,
          2.9111455841934664e-05,
          3.6949855508754565e-05,
          4.753694946794222e-05,
          6.184227780517139e-05,
          8.118247648742558e-05,
          0.00010734949978220644,
          0.00014278871130658324,
          0.0001908471346246096,
          0.0002561197445916321,
          0.0003449301077831253,
          0.00046598757023935645,
          0.0006312577100646029,
          0.0008570471863542003,
          0.001165206079806655,
          0.0015841497272409573,
          0.0021490811464564196,
          0.002900438187857472,
          0.0038794759757268082,
          0.005120475500880249,
          0.006640612692279918,
          0.008430511000319942,
          0.01044949694900391,
          0.012628313321545251,
          0.014878940165517173,
          0.017108272333307816,
          0.019231448650258515,
          0.021181641433066632,
          0.022914940492571895,
          0.024410570406001458,
          0.02566766305150186,
          0.02670016915724833,
          0.027531367132310077,
          0.028189004632942563,
          0.028701599325472376,
          0.02909599825062728,
          0.02939602857363361,
          0.02962196169316216,
          0.029790509586532173,
          0.02991512335347025,
          0.030006429986468332
         ],
         "yaxis": "y"
        },
        {
         "hoverlabel": {
          "namelength": 0
         },
         "hovertemplate": "Mode=Cycling<br>Vehicle=moped<br>Year=%{x}<br>Share=%{y}",
         "legendgroup": "Mode=Cycling",
         "line": {
          "color": "#00cc96"
         },
         "mode": "lines",
         "name": "Mode=Cycling",
         "orientation": "v",
         "showlegend": false,
         "stackgroup": "1",
         "type": "scatter",
         "x": [
          2000,
          2001,
          2002,
          2003,
          2004,
          2005,
          2006,
          2007,
          2008,
          2009,
          2010,
          2011,
          2012,
          2013,
          2014,
          2015,
          2016,
          2017,
          2018,
          2019,
          2020,
          2021,
          2022,
          2023,
          2024,
          2025,
          2026,
          2027,
          2028,
          2029,
          2030,
          2031,
          2032,
          2033,
          2034,
          2035,
          2036,
          2037,
          2038,
          2039,
          2040,
          2041,
          2042,
          2043,
          2044,
          2045,
          2046,
          2047,
          2048,
          2049,
          2050
         ],
         "xaxis": "x",
         "y": [
          0.0067090170252262025,
          0.0067082751737877885,
          0.006707428022333049,
          0.006706469581009705,
          0.0067053976552811515,
          0.006704216198865175,
          0.006702938623592524,
          0.0067015923916203465,
          0.006700225306009535,
          0.006698914018933816,
          0.006697775383246168,
          0.006696981360098893,
          0.00669677821560755,
          0.006697510602242557,
          0.006699650659492282,
          0.006703831192612024,
          0.0067108798118754335,
          0.00672184686887019,
          0.006738012988794713,
          0.006760850544098488,
          0.006791896252778201,
          0.00683246940743136,
          0.006883146877109284,
          0.006942897219932397,
          0.007007815130390215,
          0.00706953707160914,
          0.007113709924368823,
          0.007119301946699278,
          0.007059872666852041,
          0.006907710786928394,
          0.006640612692279918,
          0.006249280893277672,
          0.005742110982033785,
          0.005144836176392372,
          0.004494989271270187,
          0.003833640686207583,
          0.0031976586816043645,
          0.0026147104900899067,
          0.0021015435410383864,
          0.00166484790686033,
          0.0013035460868934749,
          0.0010114763609257796,
          0.0007797970318901737,
          0.0005988044243009788,
          0.000459120475542789,
          0.00035234854905995326,
          0.00027134509809757345,
          0.0002102479234116776,
          0.00016437083464838112,
          0.0001300396022750342,
          0.00010441471101859463
         ],
         "yaxis": "y"
        },
        {
         "hoverlabel": {
          "namelength": 0
         },
         "hovertemplate": "Mode=Walking<br>Vehicle=walk<br>Year=%{x}<br>Share=%{y}",
         "legendgroup": "Mode=Walking",
         "line": {
          "color": "#ab63fa"
         },
         "mode": "lines",
         "name": "Mode=Walking",
         "orientation": "v",
         "showlegend": true,
         "stackgroup": "1",
         "type": "scatter",
         "x": [
          2000,
          2001,
          2002,
          2003,
          2004,
          2005,
          2006,
          2007,
          2008,
          2009,
          2010,
          2011,
          2012,
          2013,
          2014,
          2015,
          2016,
          2017,
          2018,
          2019,
          2020,
          2021,
          2022,
          2023,
          2024,
          2025,
          2026,
          2027,
          2028,
          2029,
          2030,
          2031,
          2032,
          2033,
          2034,
          2035,
          2036,
          2037,
          2038,
          2039,
          2040,
          2041,
          2042,
          2043,
          2044,
          2045,
          2046,
          2047,
          2048,
          2049,
          2050
         ],
         "xaxis": "x",
         "y": [
          0.023984334513417714,
          0.02398153387280959,
          0.0239783050428847,
          0.02397460867677027,
          0.02397041285372222,
          0.02396569944600458,
          0.02396047327393515,
          0.023954775057023547,
          0.023948699491139373,
          0.02394242019021019,
          0.023936223739422075,
          0.023930555723107674,
          0.023926082309149,
          0.023923771761475216,
          0.023925001035160716,
          0.02393169322900091,
          0.02394649185072548,
          0.0239729771341205,
          0.024015927337760555,
          0.024081623063071808,
          0.02417818387934669,
          0.024315912502140512,
          0.024507601208888483,
          0.024768727776228166,
          0.025117435742042244,
          0.025574161619498447,
          0.026160750520798654,
          0.026898908587814362,
          0.027807898377959876,
          0.028901515415723215,
          0.030184603146726895,
          0.03164965090744157,
          0.033274300430237776,
          0.03502071919006596,
          0.036837612731987546,
          0.03866505084795948,
          0.04044139484645447,
          0.042110802365853586,
          0.04362949066132865,
          0.044969362067645256,
          0.0461185280096026,
          0.04707923010624712,
          0.047864230747130025,
          0.04849280823745122,
          0.048987193454309755,
          0.049369870766299576,
          0.04966181912338662,
          0.04988156128601426,
          0.05004480877158041,
          0.05016449234792454,
          0.05025100879340451
         ],
         "yaxis": "y"
        }
       ],
       "layout": {
        "height": 600,
        "legend": {
         "font": {
          "size": 10
         },
         "tracegroupgap": 0,
         "traceorder": "reversed",
         "y": 0.5
        },
        "margin": {
         "t": 60
        },
        "template": {
         "data": {
          "bar": [
           {
            "error_x": {
             "color": "#2a3f5f"
            },
            "error_y": {
             "color": "#2a3f5f"
            },
            "marker": {
             "line": {
              "color": "#E5ECF6",
              "width": 0.5
             }
            },
            "type": "bar"
           }
          ],
          "barpolar": [
           {
            "marker": {
             "line": {
              "color": "#E5ECF6",
              "width": 0.5
             }
            },
            "type": "barpolar"
           }
          ],
          "carpet": [
           {
            "aaxis": {
             "endlinecolor": "#2a3f5f",
             "gridcolor": "white",
             "linecolor": "white",
             "minorgridcolor": "white",
             "startlinecolor": "#2a3f5f"
            },
            "baxis": {
             "endlinecolor": "#2a3f5f",
             "gridcolor": "white",
             "linecolor": "white",
             "minorgridcolor": "white",
             "startlinecolor": "#2a3f5f"
            },
            "type": "carpet"
           }
          ],
          "choropleth": [
           {
            "colorbar": {
             "outlinewidth": 0,
             "ticks": ""
            },
            "type": "choropleth"
           }
          ],
          "contour": [
           {
            "colorbar": {
             "outlinewidth": 0,
             "ticks": ""
            },
            "colorscale": [
             [
              0,
              "#0d0887"
             ],
             [
              0.1111111111111111,
              "#46039f"
             ],
             [
              0.2222222222222222,
              "#7201a8"
             ],
             [
              0.3333333333333333,
              "#9c179e"
             ],
             [
              0.4444444444444444,
              "#bd3786"
             ],
             [
              0.5555555555555556,
              "#d8576b"
             ],
             [
              0.6666666666666666,
              "#ed7953"
             ],
             [
              0.7777777777777778,
              "#fb9f3a"
             ],
             [
              0.8888888888888888,
              "#fdca26"
             ],
             [
              1,
              "#f0f921"
             ]
            ],
            "type": "contour"
           }
          ],
          "contourcarpet": [
           {
            "colorbar": {
             "outlinewidth": 0,
             "ticks": ""
            },
            "type": "contourcarpet"
           }
          ],
          "heatmap": [
           {
            "colorbar": {
             "outlinewidth": 0,
             "ticks": ""
            },
            "colorscale": [
             [
              0,
              "#0d0887"
             ],
             [
              0.1111111111111111,
              "#46039f"
             ],
             [
              0.2222222222222222,
              "#7201a8"
             ],
             [
              0.3333333333333333,
              "#9c179e"
             ],
             [
              0.4444444444444444,
              "#bd3786"
             ],
             [
              0.5555555555555556,
              "#d8576b"
             ],
             [
              0.6666666666666666,
              "#ed7953"
             ],
             [
              0.7777777777777778,
              "#fb9f3a"
             ],
             [
              0.8888888888888888,
              "#fdca26"
             ],
             [
              1,
              "#f0f921"
             ]
            ],
            "type": "heatmap"
           }
          ],
          "heatmapgl": [
           {
            "colorbar": {
             "outlinewidth": 0,
             "ticks": ""
            },
            "colorscale": [
             [
              0,
              "#0d0887"
             ],
             [
              0.1111111111111111,
              "#46039f"
             ],
             [
              0.2222222222222222,
              "#7201a8"
             ],
             [
              0.3333333333333333,
              "#9c179e"
             ],
             [
              0.4444444444444444,
              "#bd3786"
             ],
             [
              0.5555555555555556,
              "#d8576b"
             ],
             [
              0.6666666666666666,
              "#ed7953"
             ],
             [
              0.7777777777777778,
              "#fb9f3a"
             ],
             [
              0.8888888888888888,
              "#fdca26"
             ],
             [
              1,
              "#f0f921"
             ]
            ],
            "type": "heatmapgl"
           }
          ],
          "histogram": [
           {
            "marker": {
             "colorbar": {
              "outlinewidth": 0,
              "ticks": ""
             }
            },
            "type": "histogram"
           }
          ],
          "histogram2d": [
           {
            "colorbar": {
             "outlinewidth": 0,
             "ticks": ""
            },
            "colorscale": [
             [
              0,
              "#0d0887"
             ],
             [
              0.1111111111111111,
              "#46039f"
             ],
             [
              0.2222222222222222,
              "#7201a8"
             ],
             [
              0.3333333333333333,
              "#9c179e"
             ],
             [
              0.4444444444444444,
              "#bd3786"
             ],
             [
              0.5555555555555556,
              "#d8576b"
             ],
             [
              0.6666666666666666,
              "#ed7953"
             ],
             [
              0.7777777777777778,
              "#fb9f3a"
             ],
             [
              0.8888888888888888,
              "#fdca26"
             ],
             [
              1,
              "#f0f921"
             ]
            ],
            "type": "histogram2d"
           }
          ],
          "histogram2dcontour": [
           {
            "colorbar": {
             "outlinewidth": 0,
             "ticks": ""
            },
            "colorscale": [
             [
              0,
              "#0d0887"
             ],
             [
              0.1111111111111111,
              "#46039f"
             ],
             [
              0.2222222222222222,
              "#7201a8"
             ],
             [
              0.3333333333333333,
              "#9c179e"
             ],
             [
              0.4444444444444444,
              "#bd3786"
             ],
             [
              0.5555555555555556,
              "#d8576b"
             ],
             [
              0.6666666666666666,
              "#ed7953"
             ],
             [
              0.7777777777777778,
              "#fb9f3a"
             ],
             [
              0.8888888888888888,
              "#fdca26"
             ],
             [
              1,
              "#f0f921"
             ]
            ],
            "type": "histogram2dcontour"
           }
          ],
          "mesh3d": [
           {
            "colorbar": {
             "outlinewidth": 0,
             "ticks": ""
            },
            "type": "mesh3d"
           }
          ],
          "parcoords": [
           {
            "line": {
             "colorbar": {
              "outlinewidth": 0,
              "ticks": ""
             }
            },
            "type": "parcoords"
           }
          ],
          "scatter": [
           {
            "marker": {
             "colorbar": {
              "outlinewidth": 0,
              "ticks": ""
             }
            },
            "type": "scatter"
           }
          ],
          "scatter3d": [
           {
            "line": {
             "colorbar": {
              "outlinewidth": 0,
              "ticks": ""
             }
            },
            "marker": {
             "colorbar": {
              "outlinewidth": 0,
              "ticks": ""
             }
            },
            "type": "scatter3d"
           }
          ],
          "scattercarpet": [
           {
            "marker": {
             "colorbar": {
              "outlinewidth": 0,
              "ticks": ""
             }
            },
            "type": "scattercarpet"
           }
          ],
          "scattergeo": [
           {
            "marker": {
             "colorbar": {
              "outlinewidth": 0,
              "ticks": ""
             }
            },
            "type": "scattergeo"
           }
          ],
          "scattergl": [
           {
            "marker": {
             "colorbar": {
              "outlinewidth": 0,
              "ticks": ""
             }
            },
            "type": "scattergl"
           }
          ],
          "scattermapbox": [
           {
            "marker": {
             "colorbar": {
              "outlinewidth": 0,
              "ticks": ""
             }
            },
            "type": "scattermapbox"
           }
          ],
          "scatterpolar": [
           {
            "marker": {
             "colorbar": {
              "outlinewidth": 0,
              "ticks": ""
             }
            },
            "type": "scatterpolar"
           }
          ],
          "scatterpolargl": [
           {
            "marker": {
             "colorbar": {
              "outlinewidth": 0,
              "ticks": ""
             }
            },
            "type": "scatterpolargl"
           }
          ],
          "scatterternary": [
           {
            "marker": {
             "colorbar": {
              "outlinewidth": 0,
              "ticks": ""
             }
            },
            "type": "scatterternary"
           }
          ],
          "surface": [
           {
            "colorbar": {
             "outlinewidth": 0,
             "ticks": ""
            },
            "colorscale": [
             [
              0,
              "#0d0887"
             ],
             [
              0.1111111111111111,
              "#46039f"
             ],
             [
              0.2222222222222222,
              "#7201a8"
             ],
             [
              0.3333333333333333,
              "#9c179e"
             ],
             [
              0.4444444444444444,
              "#bd3786"
             ],
             [
              0.5555555555555556,
              "#d8576b"
             ],
             [
              0.6666666666666666,
              "#ed7953"
             ],
             [
              0.7777777777777778,
              "#fb9f3a"
             ],
             [
              0.8888888888888888,
              "#fdca26"
             ],
             [
              1,
              "#f0f921"
             ]
            ],
            "type": "surface"
           }
          ],
          "table": [
           {
            "cells": {
             "fill": {
              "color": "#EBF0F8"
             },
             "line": {
              "color": "white"
             }
            },
            "header": {
             "fill": {
              "color": "#C8D4E3"
             },
             "line": {
              "color": "white"
             }
            },
            "type": "table"
           }
          ]
         },
         "layout": {
          "annotationdefaults": {
           "arrowcolor": "#2a3f5f",
           "arrowhead": 0,
           "arrowwidth": 1
          },
          "colorscale": {
           "diverging": [
            [
             0,
             "#8e0152"
            ],
            [
             0.1,
             "#c51b7d"
            ],
            [
             0.2,
             "#de77ae"
            ],
            [
             0.3,
             "#f1b6da"
            ],
            [
             0.4,
             "#fde0ef"
            ],
            [
             0.5,
             "#f7f7f7"
            ],
            [
             0.6,
             "#e6f5d0"
            ],
            [
             0.7,
             "#b8e186"
            ],
            [
             0.8,
             "#7fbc41"
            ],
            [
             0.9,
             "#4d9221"
            ],
            [
             1,
             "#276419"
            ]
           ],
           "sequential": [
            [
             0,
             "#0d0887"
            ],
            [
             0.1111111111111111,
             "#46039f"
            ],
            [
             0.2222222222222222,
             "#7201a8"
            ],
            [
             0.3333333333333333,
             "#9c179e"
            ],
            [
             0.4444444444444444,
             "#bd3786"
            ],
            [
             0.5555555555555556,
             "#d8576b"
            ],
            [
             0.6666666666666666,
             "#ed7953"
            ],
            [
             0.7777777777777778,
             "#fb9f3a"
            ],
            [
             0.8888888888888888,
             "#fdca26"
            ],
            [
             1,
             "#f0f921"
            ]
           ],
           "sequentialminus": [
            [
             0,
             "#0d0887"
            ],
            [
             0.1111111111111111,
             "#46039f"
            ],
            [
             0.2222222222222222,
             "#7201a8"
            ],
            [
             0.3333333333333333,
             "#9c179e"
            ],
            [
             0.4444444444444444,
             "#bd3786"
            ],
            [
             0.5555555555555556,
             "#d8576b"
            ],
            [
             0.6666666666666666,
             "#ed7953"
            ],
            [
             0.7777777777777778,
             "#fb9f3a"
            ],
            [
             0.8888888888888888,
             "#fdca26"
            ],
            [
             1,
             "#f0f921"
            ]
           ]
          },
          "colorway": [
           "#636efa",
           "#EF553B",
           "#00cc96",
           "#ab63fa",
           "#FFA15A",
           "#19d3f3",
           "#FF6692",
           "#B6E880",
           "#FF97FF",
           "#FECB52"
          ],
          "font": {
           "color": "#2a3f5f"
          },
          "geo": {
           "bgcolor": "white",
           "lakecolor": "white",
           "landcolor": "#E5ECF6",
           "showlakes": true,
           "showland": true,
           "subunitcolor": "white"
          },
          "hoverlabel": {
           "align": "left"
          },
          "hovermode": "closest",
          "mapbox": {
           "style": "light"
          },
          "paper_bgcolor": "white",
          "plot_bgcolor": "#E5ECF6",
          "polar": {
           "angularaxis": {
            "gridcolor": "white",
            "linecolor": "white",
            "ticks": ""
           },
           "bgcolor": "#E5ECF6",
           "radialaxis": {
            "gridcolor": "white",
            "linecolor": "white",
            "ticks": ""
           }
          },
          "scene": {
           "xaxis": {
            "backgroundcolor": "#E5ECF6",
            "gridcolor": "white",
            "gridwidth": 2,
            "linecolor": "white",
            "showbackground": true,
            "ticks": "",
            "zerolinecolor": "white"
           },
           "yaxis": {
            "backgroundcolor": "#E5ECF6",
            "gridcolor": "white",
            "gridwidth": 2,
            "linecolor": "white",
            "showbackground": true,
            "ticks": "",
            "zerolinecolor": "white"
           },
           "zaxis": {
            "backgroundcolor": "#E5ECF6",
            "gridcolor": "white",
            "gridwidth": 2,
            "linecolor": "white",
            "showbackground": true,
            "ticks": "",
            "zerolinecolor": "white"
           }
          },
          "shapedefaults": {
           "line": {
            "color": "#2a3f5f"
           }
          },
          "ternary": {
           "aaxis": {
            "gridcolor": "white",
            "linecolor": "white",
            "ticks": ""
           },
           "baxis": {
            "gridcolor": "white",
            "linecolor": "white",
            "ticks": ""
           },
           "bgcolor": "#E5ECF6",
           "caxis": {
            "gridcolor": "white",
            "linecolor": "white",
            "ticks": ""
           }
          },
          "title": {
           "x": 0.05
          },
          "xaxis": {
           "automargin": true,
           "gridcolor": "white",
           "linecolor": "white",
           "ticks": "",
           "zerolinecolor": "white",
           "zerolinewidth": 2
          },
          "yaxis": {
           "automargin": true,
           "gridcolor": "white",
           "linecolor": "white",
           "ticks": "",
           "zerolinecolor": "white",
           "zerolinewidth": 2
          }
         }
        },
        "xaxis": {
         "anchor": "y",
         "domain": [
          0,
          0.98
         ],
         "title": {
          "text": "Year"
         }
        },
        "yaxis": {
         "anchor": "x",
         "domain": [
          0,
          1
         ],
         "title": {
          "text": "Share"
         }
        }
       }
      },
      "text/html": [
       "<div>\n",
       "        \n",
       "        \n",
       "            <div id=\"88e367db-91c8-4803-91f0-3e6a7c2f5d7e\" class=\"plotly-graph-div\" style=\"height:600px; width:100%;\"></div>\n",
       "            <script type=\"text/javascript\">\n",
       "                require([\"plotly\"], function(Plotly) {\n",
       "                    window.PLOTLYENV=window.PLOTLYENV || {};\n",
       "                    \n",
       "                if (document.getElementById(\"88e367db-91c8-4803-91f0-3e6a7c2f5d7e\")) {\n",
       "                    Plotly.newPlot(\n",
       "                        '88e367db-91c8-4803-91f0-3e6a7c2f5d7e',\n",
       "                        [{\"hoverlabel\": {\"namelength\": 0}, \"hovertemplate\": \"Mode=Driving<br>Vehicle=ice<br>Year=%{x}<br>Share=%{y}\", \"legendgroup\": \"Mode=Driving\", \"line\": {\"color\": \"#636efa\"}, \"mode\": \"lines\", \"name\": \"Mode=Driving\", \"orientation\": \"v\", \"showlegend\": true, \"stackgroup\": \"1\", \"type\": \"scatter\", \"x\": [2000.0, 2001.0, 2002.0, 2003.0, 2004.0, 2005.0, 2006.0, 2007.0, 2008.0, 2009.0, 2010.0, 2011.0, 2012.0, 2013.0, 2014.0, 2015.0, 2016.0, 2017.0, 2018.0, 2019.0, 2020.0, 2021.0, 2022.0, 2023.0, 2024.0, 2025.0, 2026.0, 2027.0, 2028.0, 2029.0, 2030.0, 2031.0, 2032.0, 2033.0, 2034.0, 2035.0, 2036.0, 2037.0, 2038.0, 2039.0, 2040.0, 2041.0, 2042.0, 2043.0, 2044.0, 2045.0, 2046.0, 2047.0, 2048.0, 2049.0, 2050.0], \"xaxis\": \"x\", \"y\": [0.7522177135157431, 0.7521607689283896, 0.7520858477737339, 0.7519872180570818, 0.7518573040889641, 0.7516860899616266, 0.7514603300722377, 0.7511625051646699, 0.7507694436888572, 0.7502505047659724, 0.7495651901585865, 0.7486600184725521, 0.7474644568986617, 0.7458856685914342, 0.7438018072361714, 0.741053594263193, 0.7374339850062199, 0.7326759310009398, 0.7264386788203192, 0.7182938632423578, 0.7077140508475072, 0.694068559083432, 0.6766343403399381, 0.6546329960706798, 0.6273070111296286, 0.5940458575602879, 0.5545610649049558, 0.5090851932921819, 0.45853654395296567, 0.40456674941251464, 0.34942020777391886, 0.2955995974786122, 0.24542695627620323, 0.20065257176109544, 0.16224342344356313, 0.13039209919885594, 0.10469143234742734, 0.08437555629440369, 0.06854118798217629, 0.056304360795041496, 0.0468865204815052, 0.03964565982371845, 0.03407383125756155, 0.029778843390011144, 0.026461596758714574, 0.023894927390324575, 0.021906146231514947, 0.020363514549292683, 0.019166094787828335, 0.01823622761374717, 0.01751395785681324], \"yaxis\": \"y\"}, {\"hoverlabel\": {\"namelength\": 0}, \"hovertemplate\": \"Mode=Driving<br>Vehicle=ev<br>Year=%{x}<br>Share=%{y}\", \"legendgroup\": \"Mode=Driving\", \"line\": {\"color\": \"#636efa\"}, \"mode\": \"lines\", \"name\": \"Mode=Driving\", \"orientation\": \"v\", \"showlegend\": false, \"stackgroup\": \"1\", \"type\": \"scatter\", \"x\": [2000.0, 2001.0, 2002.0, 2003.0, 2004.0, 2005.0, 2006.0, 2007.0, 2008.0, 2009.0, 2010.0, 2011.0, 2012.0, 2013.0, 2014.0, 2015.0, 2016.0, 2017.0, 2018.0, 2019.0, 2020.0, 2021.0, 2022.0, 2023.0, 2024.0, 2025.0, 2026.0, 2027.0, 2028.0, 2029.0, 2030.0, 2031.0, 2032.0, 2033.0, 2034.0, 2035.0, 2036.0, 2037.0, 2038.0, 2039.0, 2040.0, 2041.0, 2042.0, 2043.0, 2044.0, 2045.0, 2046.0, 2047.0, 2048.0, 2049.0, 2050.0], \"xaxis\": \"x\", \"y\": [8.093638303141091e-05, 8.268285931254528e-05, 8.505596718670038e-05, 8.828765317123211e-05, 9.270140076181685e-05, 9.875272971806723e-05, 0.0001070907392916004, 0.00011865357599179749, 0.00013481955585498915, 0.00015765091071229213, 0.0001902933140507003, 0.0002376390035867353, 0.0003074364337301593, 0.0004121528949588939, 0.0005720925431799534, 0.0008205665115211847, 0.0012123143010256245, 0.001836836371046358, 0.0028386147572544993, 0.004445869483441474, 0.007007569804716804, 0.011033544807710073, 0.01722369177923481, 0.026460557768702157, 0.039730597172123995, 0.05794387181284565, 0.08165064626263885, 0.11070664978049276, 0.1439979711950922, 0.179365987559348, 0.2138365139611333, 0.2441470747226176, 0.26742553544198777, 0.28178711136547546, 0.28664831541994684, 0.2826868388128684, 0.2715196983561234, 0.25525121254355454, 0.23604018582223343, 0.21578239580590647, 0.19594014564219633, 0.177501715504797, 0.16102916876992712, 0.1467500507775116, 0.1346583635482343, 0.12460402169754929, 0.1163620185919172, 0.10968048945735358, 0.10431089425915205, 0.10002482399299929, 0.09662169536444848], \"yaxis\": \"y\"}, {\"hoverlabel\": {\"namelength\": 0}, \"hovertemplate\": \"Mode=Driving<br>Vehicle=hev<br>Year=%{x}<br>Share=%{y}\", \"legendgroup\": \"Mode=Driving\", \"line\": {\"color\": \"#636efa\"}, \"mode\": \"lines\", \"name\": \"Mode=Driving\", \"orientation\": \"v\", \"showlegend\": false, \"stackgroup\": \"1\", \"type\": \"scatter\", \"x\": [2000.0, 2001.0, 2002.0, 2003.0, 2004.0, 2005.0, 2006.0, 2007.0, 2008.0, 2009.0, 2010.0, 2011.0, 2012.0, 2013.0, 2014.0, 2015.0, 2016.0, 2017.0, 2018.0, 2019.0, 2020.0, 2021.0, 2022.0, 2023.0, 2024.0, 2025.0, 2026.0, 2027.0, 2028.0, 2029.0, 2030.0, 2031.0, 2032.0, 2033.0, 2034.0, 2035.0, 2036.0, 2037.0, 2038.0, 2039.0, 2040.0, 2041.0, 2042.0, 2043.0, 2044.0, 2045.0, 2046.0, 2047.0, 2048.0, 2049.0, 2050.0], \"xaxis\": \"x\", \"y\": [0.007596782196617814, 0.007622286406781475, 0.007656710648476207, 0.007703163203639137, 0.007765826836599802, 0.007850323408285871, 0.007964196725064373, 0.008117547471033925, 0.008323859980351178, 0.008601064033868847, 0.00897287164956665, 0.00947041124048218, 0.010134135991567919, 0.011015887621115508, 0.012180817262900101, 0.01370855761525787, 0.015692560319704552, 0.018235850491822435, 0.021440712573884337, 0.025389368699220264, 0.030113315207159104, 0.03555182381296275, 0.04150622223370169, 0.047605369863424, 0.053305202583402336, 0.05794387181284565, 0.06085764199899297, 0.061534228392727666, 0.059754334151027086, 0.05566641731594214, 0.04976118664024397, 0.04275198969457343, 0.035405449737568394, 0.028383475466653096, 0.022144751721116716, 0.016921061988275636, 0.012752378711822582, 0.009550072568817748, 0.007160684739830909, 0.00541458150324877, 0.004155425501002351, 0.0032534703836797595, 0.002608150673426376, 0.002145034367074881, 0.0018106865264633314, 0.0015674497261468825, 0.0013890242914129007, 0.0012570722905477485, 0.001158756600144925, 0.001085020689148759, 0.001029410919355164], \"yaxis\": \"y\"}, {\"hoverlabel\": {\"namelength\": 0}, \"hovertemplate\": \"Mode=Transit<br>Vehicle=train<br>Year=%{x}<br>Share=%{y}\", \"legendgroup\": \"Mode=Transit\", \"line\": {\"color\": \"#EF553B\"}, \"mode\": \"lines\", \"name\": \"Mode=Transit\", \"orientation\": \"v\", \"showlegend\": true, \"stackgroup\": \"1\", \"type\": \"scatter\", \"x\": [2000.0, 2001.0, 2002.0, 2003.0, 2004.0, 2005.0, 2006.0, 2007.0, 2008.0, 2009.0, 2010.0, 2011.0, 2012.0, 2013.0, 2014.0, 2015.0, 2016.0, 2017.0, 2018.0, 2019.0, 2020.0, 2021.0, 2022.0, 2023.0, 2024.0, 2025.0, 2026.0, 2027.0, 2028.0, 2029.0, 2030.0, 2031.0, 2032.0, 2033.0, 2034.0, 2035.0, 2036.0, 2037.0, 2038.0, 2039.0, 2040.0, 2041.0, 2042.0, 2043.0, 2044.0, 2045.0, 2046.0, 2047.0, 2048.0, 2049.0, 2050.0], \"xaxis\": \"x\", \"y\": [0.09254082940988968, 0.09257447617993073, 0.09261626250505832, 0.09266818153073751, 0.09273271962189858, 0.0928129792361669, 0.09291283239217259, 0.09303711224745373, 0.09319185207581458, 0.0933845830905645, 0.09362470515912805, 0.09392394755423719, 0.0942969405303273, 0.09476192270553876, 0.09534161389209764, 0.09606428790806801, 0.09696508446195527, 0.0980876022785035, 0.09948581501299919, 0.10122634310990847, 0.10339109145279023, 0.10608021253459825, 0.1094152594940659, 0.11354222681036094, 0.11863390801156803, 0.12489060485172693, 0.13253770855665264, 0.14181812690855486, 0.15297717728455906, 0.1662378168478559, 0.18176548843612342, 0.19962487434658147, 0.21973532842264987, 0.2418363990014635, 0.26547709323168533, 0.290039554235356, 0.3147987275913129, 0.3390072430082462, 0.3619850758748194, 0.38319192569933425, 0.40226745661200797, 0.41903631289255827, 0.4334851255838448, 0.44572376331417257, 0.45594270713918, 0.4643748704629506, 0.4712659607565308, 0.4768541603000057, 0.4813579620811289, 0.48497022879265117, 0.4878565167571176], \"yaxis\": \"y\"}, {\"hoverlabel\": {\"namelength\": 0}, \"hovertemplate\": \"Mode=Transit<br>Vehicle=metro/bus<br>Year=%{x}<br>Share=%{y}\", \"legendgroup\": \"Mode=Transit\", \"line\": {\"color\": \"#EF553B\"}, \"mode\": \"lines\", \"name\": \"Mode=Transit\", \"orientation\": \"v\", \"showlegend\": false, \"stackgroup\": \"1\", \"type\": \"scatter\", \"x\": [2000.0, 2001.0, 2002.0, 2003.0, 2004.0, 2005.0, 2006.0, 2007.0, 2008.0, 2009.0, 2010.0, 2011.0, 2012.0, 2013.0, 2014.0, 2015.0, 2016.0, 2017.0, 2018.0, 2019.0, 2020.0, 2021.0, 2022.0, 2023.0, 2024.0, 2025.0, 2026.0, 2027.0, 2028.0, 2029.0, 2030.0, 2031.0, 2032.0, 2033.0, 2034.0, 2035.0, 2036.0, 2037.0, 2038.0, 2039.0, 2040.0, 2041.0, 2042.0, 2043.0, 2044.0, 2045.0, 2046.0, 2047.0, 2048.0, 2049.0, 2050.0], \"xaxis\": \"x\", \"y\": [0.027642065927629383, 0.027652116261537744, 0.027664597891121315, 0.027680106171518993, 0.027699383783164507, 0.02772335743417972, 0.027753183701558045, 0.02779030625573293, 0.027836527243425134, 0.02789409624783095, 0.027965821021557726, 0.028055205113603314, 0.028166618599967892, 0.028305509379576512, 0.028478663889847343, 0.02869452755695538, 0.02896359665746716, 0.029298894187085454, 0.029716542146740018, 0.030236440149712916, 0.03088305329109318, 0.03168629725059428, 0.03268248010861709, 0.03391521060569223, 0.03543610239306577, 0.03730498586480155, 0.03958918567276637, 0.04236125868697093, 0.04569448152655659, 0.04965545178572319, 0.054293587454945946, 0.059628209220407444, 0.0656352279704019, 0.0722368464549826, 0.07929835252375016, 0.0866351915248466, 0.0940307887610415, 0.10126190375570988, 0.10812541227429669, 0.11445992585824268, 0.1201578117152751, 0.1251666908640109, 0.12948256997958998, 0.13313826696397363, 0.13619067875585894, 0.13870937689153068, 0.14076775451169102, 0.14243695697272896, 0.14378224841384368, 0.14486123717183086, 0.14572337513524292], \"yaxis\": \"y\"}, {\"hoverlabel\": {\"namelength\": 0}, \"hovertemplate\": \"Mode=Cycling<br>Vehicle=ebike<br>Year=%{x}<br>Share=%{y}\", \"legendgroup\": \"Mode=Cycling\", \"line\": {\"color\": \"#00cc96\"}, \"mode\": \"lines\", \"name\": \"Mode=Cycling\", \"orientation\": \"v\", \"showlegend\": true, \"stackgroup\": \"1\", \"type\": \"scatter\", \"x\": [2000.0, 2001.0, 2002.0, 2003.0, 2004.0, 2005.0, 2006.0, 2007.0, 2008.0, 2009.0, 2010.0, 2011.0, 2012.0, 2013.0, 2014.0, 2015.0, 2016.0, 2017.0, 2018.0, 2019.0, 2020.0, 2021.0, 2022.0, 2023.0, 2024.0, 2025.0, 2026.0, 2027.0, 2028.0, 2029.0, 2030.0, 2031.0, 2032.0, 2033.0, 2034.0, 2035.0, 2036.0, 2037.0, 2038.0, 2039.0, 2040.0, 2041.0, 2042.0, 2043.0, 2044.0, 2045.0, 2046.0, 2047.0, 2048.0, 2049.0, 2050.0], \"xaxis\": \"x\", \"y\": [9.29529503743428e-05, 9.424711003725214e-05, 9.599557386115017e-05, 9.835736380374682e-05, 0.00010154700340698572, 0.00010585381141340496, 0.00011166785606569685, 0.00011951483853228908, 0.000130102924237375, 0.00014438552260681177, 0.00016364528682364288, 0.00018960622640117915, 0.00022458284792462006, 0.0002716776777933342, 0.0003350412991015572, 0.00042021188338591973, 0.0005345534678702154, 0.0006878125714444342, 0.0008928085944251177, 0.0011662602853233473, 0.001529721033977912, 0.002010539228277473, 0.0026426638780426633, 0.003466972123305948, 0.00453061634467519, 0.0058847345235923006, 0.007579874753977552, 0.009658854190211653, 0.012147648651684868, 0.015046135121346078, 0.018321450418000294, 0.02190654201122416, 0.02570490827352618, 0.02960040720703822, 0.033469687073483335, 0.03719477844010845, 0.04067405636557264, 0.04383033787582512, 0.04661522719305772, 0.04900932941738182, 0.05101875438137137, 0.052669113374104806, 0.05399857370912357, 0.05505136293814486, 0.05587259761883991, 0.05650474200426521, 0.05698558070661683, 0.05734737425384909, 0.057616818394290614, 0.05781547646561973, 0.05796043879991663], \"yaxis\": \"y\"}, {\"hoverlabel\": {\"namelength\": 0}, \"hovertemplate\": \"Mode=Cycling<br>Vehicle=bike<br>Year=%{x}<br>Share=%{y}\", \"legendgroup\": \"Mode=Cycling\", \"line\": {\"color\": \"#00cc96\"}, \"mode\": \"lines\", \"name\": \"Mode=Cycling\", \"orientation\": \"v\", \"showlegend\": false, \"stackgroup\": \"1\", \"type\": \"scatter\", \"x\": [2000.0, 2001.0, 2002.0, 2003.0, 2004.0, 2005.0, 2006.0, 2007.0, 2008.0, 2009.0, 2010.0, 2011.0, 2012.0, 2013.0, 2014.0, 2015.0, 2016.0, 2017.0, 2018.0, 2019.0, 2020.0, 2021.0, 2022.0, 2023.0, 2024.0, 2025.0, 2026.0, 2027.0, 2028.0, 2029.0, 2030.0, 2031.0, 2032.0, 2033.0, 2034.0, 2035.0, 2036.0, 2037.0, 2038.0, 2039.0, 2040.0, 2041.0, 2042.0, 2043.0, 2044.0, 2045.0, 2046.0, 2047.0, 2048.0, 2049.0, 2050.0], \"xaxis\": \"x\", \"y\": [0.08912782438776755, 0.08911578071509534, 0.08910157415363944, 0.08908485890616599, 0.08906524721434818, 0.08904230885518839, 0.08901557265771397, 0.08898453094366601, 0.08894864805126655, 0.08890737438678499, 0.08886016774027436, 0.0888065238500887, 0.0887460183175551, 0.08867836181639706, 0.08860346990424388, 0.08852154736351829, 0.08843318462337409, 0.08833946038486082, 0.08824204063319781, 0.08814326167827378, 0.08804618812284755, 0.08795465380261389, 0.08787333637033741, 0.08780799457532015, 0.08776610541329695, 0.08775822515555141, 0.08780033625839186, 0.08791704002648908, 0.08814459621757581, 0.08853174025373817, 0.08913573678434748, 0.09001226972494453, 0.0912006855163873, 0.09270932005528804, 0.09450683441767953, 0.0965235119322141, 0.09866241568838241, 0.10081651966443274, 0.10288625141864666, 0.10479270054033744, 0.10648414851864375, 0.10793616153270962, 0.10914718511519635, 0.11013206095441652, 0.110915456397384, 0.11152639426124593, 0.11199432211519852, 0.11234666127363416, 0.11260753627085052, 0.11279732997033322, 0.11293275167621454], \"yaxis\": \"y\"}, {\"hoverlabel\": {\"namelength\": 0}, \"hovertemplate\": \"Mode=Cycling<br>Vehicle=emoped<br>Year=%{x}<br>Share=%{y}\", \"legendgroup\": \"Mode=Cycling\", \"line\": {\"color\": \"#00cc96\"}, \"mode\": \"lines\", \"name\": \"Mode=Cycling\", \"orientation\": \"v\", \"showlegend\": false, \"stackgroup\": \"1\", \"type\": \"scatter\", \"x\": [2000.0, 2001.0, 2002.0, 2003.0, 2004.0, 2005.0, 2006.0, 2007.0, 2008.0, 2009.0, 2010.0, 2011.0, 2012.0, 2013.0, 2014.0, 2015.0, 2016.0, 2017.0, 2018.0, 2019.0, 2020.0, 2021.0, 2022.0, 2023.0, 2024.0, 2025.0, 2026.0, 2027.0, 2028.0, 2029.0, 2030.0, 2031.0, 2032.0, 2033.0, 2034.0, 2035.0, 2036.0, 2037.0, 2038.0, 2039.0, 2040.0, 2041.0, 2042.0, 2043.0, 2044.0, 2045.0, 2046.0, 2047.0, 2048.0, 2049.0, 2050.0], \"xaxis\": \"x\", \"y\": [7.543690302784658e-06, 7.832492318017476e-06, 8.222421705197025e-06, 8.7488561016665e-06, 9.459541852598764e-06, 1.0418918551366168e-05, 1.1713958368429259e-05, 1.3462054275567733e-05, 1.5821683044055662e-05, 1.9006832515171615e-05, 2.3306547344169378e-05, 2.9111455841934664e-05, 3.6949855508754565e-05, 4.753694946794222e-05, 6.184227780517139e-05, 8.118247648742558e-05, 0.00010734949978220644, 0.00014278871130658324, 0.0001908471346246096, 0.0002561197445916321, 0.0003449301077831253, 0.00046598757023935645, 0.0006312577100646029, 0.0008570471863542003, 0.001165206079806655, 0.0015841497272409573, 0.0021490811464564196, 0.002900438187857472, 0.0038794759757268082, 0.005120475500880249, 0.006640612692279918, 0.008430511000319942, 0.01044949694900391, 0.012628313321545251, 0.014878940165517173, 0.017108272333307816, 0.019231448650258515, 0.021181641433066632, 0.022914940492571895, 0.024410570406001458, 0.02566766305150186, 0.02670016915724833, 0.027531367132310077, 0.028189004632942563, 0.028701599325472376, 0.02909599825062728, 0.02939602857363361, 0.02962196169316216, 0.029790509586532173, 0.02991512335347025, 0.030006429986468332], \"yaxis\": \"y\"}, {\"hoverlabel\": {\"namelength\": 0}, \"hovertemplate\": \"Mode=Cycling<br>Vehicle=moped<br>Year=%{x}<br>Share=%{y}\", \"legendgroup\": \"Mode=Cycling\", \"line\": {\"color\": \"#00cc96\"}, \"mode\": \"lines\", \"name\": \"Mode=Cycling\", \"orientation\": \"v\", \"showlegend\": false, \"stackgroup\": \"1\", \"type\": \"scatter\", \"x\": [2000.0, 2001.0, 2002.0, 2003.0, 2004.0, 2005.0, 2006.0, 2007.0, 2008.0, 2009.0, 2010.0, 2011.0, 2012.0, 2013.0, 2014.0, 2015.0, 2016.0, 2017.0, 2018.0, 2019.0, 2020.0, 2021.0, 2022.0, 2023.0, 2024.0, 2025.0, 2026.0, 2027.0, 2028.0, 2029.0, 2030.0, 2031.0, 2032.0, 2033.0, 2034.0, 2035.0, 2036.0, 2037.0, 2038.0, 2039.0, 2040.0, 2041.0, 2042.0, 2043.0, 2044.0, 2045.0, 2046.0, 2047.0, 2048.0, 2049.0, 2050.0], \"xaxis\": \"x\", \"y\": [0.0067090170252262025, 0.0067082751737877885, 0.006707428022333049, 0.006706469581009705, 0.0067053976552811515, 0.006704216198865175, 0.006702938623592524, 0.0067015923916203465, 0.006700225306009535, 0.006698914018933816, 0.006697775383246168, 0.006696981360098893, 0.00669677821560755, 0.006697510602242557, 0.006699650659492282, 0.006703831192612024, 0.0067108798118754335, 0.00672184686887019, 0.006738012988794713, 0.006760850544098488, 0.006791896252778201, 0.00683246940743136, 0.006883146877109284, 0.006942897219932397, 0.007007815130390215, 0.00706953707160914, 0.007113709924368823, 0.007119301946699278, 0.007059872666852041, 0.006907710786928394, 0.006640612692279918, 0.006249280893277672, 0.005742110982033785, 0.005144836176392372, 0.004494989271270187, 0.003833640686207583, 0.0031976586816043645, 0.0026147104900899067, 0.0021015435410383864, 0.00166484790686033, 0.0013035460868934749, 0.0010114763609257796, 0.0007797970318901737, 0.0005988044243009788, 0.000459120475542789, 0.00035234854905995326, 0.00027134509809757345, 0.0002102479234116776, 0.00016437083464838112, 0.0001300396022750342, 0.00010441471101859463], \"yaxis\": \"y\"}, {\"hoverlabel\": {\"namelength\": 0}, \"hovertemplate\": \"Mode=Walking<br>Vehicle=walk<br>Year=%{x}<br>Share=%{y}\", \"legendgroup\": \"Mode=Walking\", \"line\": {\"color\": \"#ab63fa\"}, \"mode\": \"lines\", \"name\": \"Mode=Walking\", \"orientation\": \"v\", \"showlegend\": true, \"stackgroup\": \"1\", \"type\": \"scatter\", \"x\": [2000.0, 2001.0, 2002.0, 2003.0, 2004.0, 2005.0, 2006.0, 2007.0, 2008.0, 2009.0, 2010.0, 2011.0, 2012.0, 2013.0, 2014.0, 2015.0, 2016.0, 2017.0, 2018.0, 2019.0, 2020.0, 2021.0, 2022.0, 2023.0, 2024.0, 2025.0, 2026.0, 2027.0, 2028.0, 2029.0, 2030.0, 2031.0, 2032.0, 2033.0, 2034.0, 2035.0, 2036.0, 2037.0, 2038.0, 2039.0, 2040.0, 2041.0, 2042.0, 2043.0, 2044.0, 2045.0, 2046.0, 2047.0, 2048.0, 2049.0, 2050.0], \"xaxis\": \"x\", \"y\": [0.023984334513417714, 0.02398153387280959, 0.0239783050428847, 0.02397460867677027, 0.02397041285372222, 0.02396569944600458, 0.02396047327393515, 0.023954775057023547, 0.023948699491139373, 0.02394242019021019, 0.023936223739422075, 0.023930555723107674, 0.023926082309149, 0.023923771761475216, 0.023925001035160716, 0.02393169322900091, 0.02394649185072548, 0.0239729771341205, 0.024015927337760555, 0.024081623063071808, 0.02417818387934669, 0.024315912502140512, 0.024507601208888483, 0.024768727776228166, 0.025117435742042244, 0.025574161619498447, 0.026160750520798654, 0.026898908587814362, 0.027807898377959876, 0.028901515415723215, 0.030184603146726895, 0.03164965090744157, 0.033274300430237776, 0.03502071919006596, 0.036837612731987546, 0.03866505084795948, 0.04044139484645447, 0.042110802365853586, 0.04362949066132865, 0.044969362067645256, 0.0461185280096026, 0.04707923010624712, 0.047864230747130025, 0.04849280823745122, 0.048987193454309755, 0.049369870766299576, 0.04966181912338662, 0.04988156128601426, 0.05004480877158041, 0.05016449234792454, 0.05025100879340451], \"yaxis\": \"y\"}],\n",
       "                        {\"height\": 600, \"legend\": {\"font\": {\"size\": 10}, \"tracegroupgap\": 0, \"traceorder\": \"reversed\", \"y\": 0.5}, \"margin\": {\"t\": 60}, \"template\": {\"data\": {\"bar\": [{\"error_x\": {\"color\": \"#2a3f5f\"}, \"error_y\": {\"color\": \"#2a3f5f\"}, \"marker\": {\"line\": {\"color\": \"#E5ECF6\", \"width\": 0.5}}, \"type\": \"bar\"}], \"barpolar\": [{\"marker\": {\"line\": {\"color\": \"#E5ECF6\", \"width\": 0.5}}, \"type\": \"barpolar\"}], \"carpet\": [{\"aaxis\": {\"endlinecolor\": \"#2a3f5f\", \"gridcolor\": \"white\", \"linecolor\": \"white\", \"minorgridcolor\": \"white\", \"startlinecolor\": \"#2a3f5f\"}, \"baxis\": {\"endlinecolor\": \"#2a3f5f\", \"gridcolor\": \"white\", \"linecolor\": \"white\", \"minorgridcolor\": \"white\", \"startlinecolor\": \"#2a3f5f\"}, \"type\": \"carpet\"}], \"choropleth\": [{\"colorbar\": {\"outlinewidth\": 0, \"ticks\": \"\"}, \"type\": \"choropleth\"}], \"contour\": [{\"colorbar\": {\"outlinewidth\": 0, \"ticks\": \"\"}, \"colorscale\": [[0.0, \"#0d0887\"], [0.1111111111111111, \"#46039f\"], [0.2222222222222222, \"#7201a8\"], [0.3333333333333333, \"#9c179e\"], [0.4444444444444444, \"#bd3786\"], [0.5555555555555556, \"#d8576b\"], [0.6666666666666666, \"#ed7953\"], [0.7777777777777778, \"#fb9f3a\"], [0.8888888888888888, \"#fdca26\"], [1.0, \"#f0f921\"]], \"type\": \"contour\"}], \"contourcarpet\": [{\"colorbar\": {\"outlinewidth\": 0, \"ticks\": \"\"}, \"type\": \"contourcarpet\"}], \"heatmap\": [{\"colorbar\": {\"outlinewidth\": 0, \"ticks\": \"\"}, \"colorscale\": [[0.0, \"#0d0887\"], [0.1111111111111111, \"#46039f\"], [0.2222222222222222, \"#7201a8\"], [0.3333333333333333, \"#9c179e\"], [0.4444444444444444, \"#bd3786\"], [0.5555555555555556, \"#d8576b\"], [0.6666666666666666, \"#ed7953\"], [0.7777777777777778, \"#fb9f3a\"], [0.8888888888888888, \"#fdca26\"], [1.0, \"#f0f921\"]], \"type\": \"heatmap\"}], \"heatmapgl\": [{\"colorbar\": {\"outlinewidth\": 0, \"ticks\": \"\"}, \"colorscale\": [[0.0, \"#0d0887\"], [0.1111111111111111, \"#46039f\"], [0.2222222222222222, \"#7201a8\"], [0.3333333333333333, \"#9c179e\"], [0.4444444444444444, \"#bd3786\"], [0.5555555555555556, \"#d8576b\"], [0.6666666666666666, \"#ed7953\"], [0.7777777777777778, \"#fb9f3a\"], [0.8888888888888888, \"#fdca26\"], [1.0, \"#f0f921\"]], \"type\": \"heatmapgl\"}], \"histogram\": [{\"marker\": {\"colorbar\": {\"outlinewidth\": 0, \"ticks\": \"\"}}, \"type\": \"histogram\"}], \"histogram2d\": [{\"colorbar\": {\"outlinewidth\": 0, \"ticks\": \"\"}, \"colorscale\": [[0.0, \"#0d0887\"], [0.1111111111111111, \"#46039f\"], [0.2222222222222222, \"#7201a8\"], [0.3333333333333333, \"#9c179e\"], [0.4444444444444444, \"#bd3786\"], [0.5555555555555556, \"#d8576b\"], [0.6666666666666666, \"#ed7953\"], [0.7777777777777778, \"#fb9f3a\"], [0.8888888888888888, \"#fdca26\"], [1.0, \"#f0f921\"]], \"type\": \"histogram2d\"}], \"histogram2dcontour\": [{\"colorbar\": {\"outlinewidth\": 0, \"ticks\": \"\"}, \"colorscale\": [[0.0, \"#0d0887\"], [0.1111111111111111, \"#46039f\"], [0.2222222222222222, \"#7201a8\"], [0.3333333333333333, \"#9c179e\"], [0.4444444444444444, \"#bd3786\"], [0.5555555555555556, \"#d8576b\"], [0.6666666666666666, \"#ed7953\"], [0.7777777777777778, \"#fb9f3a\"], [0.8888888888888888, \"#fdca26\"], [1.0, \"#f0f921\"]], \"type\": \"histogram2dcontour\"}], \"mesh3d\": [{\"colorbar\": {\"outlinewidth\": 0, \"ticks\": \"\"}, \"type\": \"mesh3d\"}], \"parcoords\": [{\"line\": {\"colorbar\": {\"outlinewidth\": 0, \"ticks\": \"\"}}, \"type\": \"parcoords\"}], \"scatter\": [{\"marker\": {\"colorbar\": {\"outlinewidth\": 0, \"ticks\": \"\"}}, \"type\": \"scatter\"}], \"scatter3d\": [{\"line\": {\"colorbar\": {\"outlinewidth\": 0, \"ticks\": \"\"}}, \"marker\": {\"colorbar\": {\"outlinewidth\": 0, \"ticks\": \"\"}}, \"type\": \"scatter3d\"}], \"scattercarpet\": [{\"marker\": {\"colorbar\": {\"outlinewidth\": 0, \"ticks\": \"\"}}, \"type\": \"scattercarpet\"}], \"scattergeo\": [{\"marker\": {\"colorbar\": {\"outlinewidth\": 0, \"ticks\": \"\"}}, \"type\": \"scattergeo\"}], \"scattergl\": [{\"marker\": {\"colorbar\": {\"outlinewidth\": 0, \"ticks\": \"\"}}, \"type\": \"scattergl\"}], \"scattermapbox\": [{\"marker\": {\"colorbar\": {\"outlinewidth\": 0, \"ticks\": \"\"}}, \"type\": \"scattermapbox\"}], \"scatterpolar\": [{\"marker\": {\"colorbar\": {\"outlinewidth\": 0, \"ticks\": \"\"}}, \"type\": \"scatterpolar\"}], \"scatterpolargl\": [{\"marker\": {\"colorbar\": {\"outlinewidth\": 0, \"ticks\": \"\"}}, \"type\": \"scatterpolargl\"}], \"scatterternary\": [{\"marker\": {\"colorbar\": {\"outlinewidth\": 0, \"ticks\": \"\"}}, \"type\": \"scatterternary\"}], \"surface\": [{\"colorbar\": {\"outlinewidth\": 0, \"ticks\": \"\"}, \"colorscale\": [[0.0, \"#0d0887\"], [0.1111111111111111, \"#46039f\"], [0.2222222222222222, \"#7201a8\"], [0.3333333333333333, \"#9c179e\"], [0.4444444444444444, \"#bd3786\"], [0.5555555555555556, \"#d8576b\"], [0.6666666666666666, \"#ed7953\"], [0.7777777777777778, \"#fb9f3a\"], [0.8888888888888888, \"#fdca26\"], [1.0, \"#f0f921\"]], \"type\": \"surface\"}], \"table\": [{\"cells\": {\"fill\": {\"color\": \"#EBF0F8\"}, \"line\": {\"color\": \"white\"}}, \"header\": {\"fill\": {\"color\": \"#C8D4E3\"}, \"line\": {\"color\": \"white\"}}, \"type\": \"table\"}]}, \"layout\": {\"annotationdefaults\": {\"arrowcolor\": \"#2a3f5f\", \"arrowhead\": 0, \"arrowwidth\": 1}, \"colorscale\": {\"diverging\": [[0, \"#8e0152\"], [0.1, \"#c51b7d\"], [0.2, \"#de77ae\"], [0.3, \"#f1b6da\"], [0.4, \"#fde0ef\"], [0.5, \"#f7f7f7\"], [0.6, \"#e6f5d0\"], [0.7, \"#b8e186\"], [0.8, \"#7fbc41\"], [0.9, \"#4d9221\"], [1, \"#276419\"]], \"sequential\": [[0.0, \"#0d0887\"], [0.1111111111111111, \"#46039f\"], [0.2222222222222222, \"#7201a8\"], [0.3333333333333333, \"#9c179e\"], [0.4444444444444444, \"#bd3786\"], [0.5555555555555556, \"#d8576b\"], [0.6666666666666666, \"#ed7953\"], [0.7777777777777778, \"#fb9f3a\"], [0.8888888888888888, \"#fdca26\"], [1.0, \"#f0f921\"]], \"sequentialminus\": [[0.0, \"#0d0887\"], [0.1111111111111111, \"#46039f\"], [0.2222222222222222, \"#7201a8\"], [0.3333333333333333, \"#9c179e\"], [0.4444444444444444, \"#bd3786\"], [0.5555555555555556, \"#d8576b\"], [0.6666666666666666, \"#ed7953\"], [0.7777777777777778, \"#fb9f3a\"], [0.8888888888888888, \"#fdca26\"], [1.0, \"#f0f921\"]]}, \"colorway\": [\"#636efa\", \"#EF553B\", \"#00cc96\", \"#ab63fa\", \"#FFA15A\", \"#19d3f3\", \"#FF6692\", \"#B6E880\", \"#FF97FF\", \"#FECB52\"], \"font\": {\"color\": \"#2a3f5f\"}, \"geo\": {\"bgcolor\": \"white\", \"lakecolor\": \"white\", \"landcolor\": \"#E5ECF6\", \"showlakes\": true, \"showland\": true, \"subunitcolor\": \"white\"}, \"hoverlabel\": {\"align\": \"left\"}, \"hovermode\": \"closest\", \"mapbox\": {\"style\": \"light\"}, \"paper_bgcolor\": \"white\", \"plot_bgcolor\": \"#E5ECF6\", \"polar\": {\"angularaxis\": {\"gridcolor\": \"white\", \"linecolor\": \"white\", \"ticks\": \"\"}, \"bgcolor\": \"#E5ECF6\", \"radialaxis\": {\"gridcolor\": \"white\", \"linecolor\": \"white\", \"ticks\": \"\"}}, \"scene\": {\"xaxis\": {\"backgroundcolor\": \"#E5ECF6\", \"gridcolor\": \"white\", \"gridwidth\": 2, \"linecolor\": \"white\", \"showbackground\": true, \"ticks\": \"\", \"zerolinecolor\": \"white\"}, \"yaxis\": {\"backgroundcolor\": \"#E5ECF6\", \"gridcolor\": \"white\", \"gridwidth\": 2, \"linecolor\": \"white\", \"showbackground\": true, \"ticks\": \"\", \"zerolinecolor\": \"white\"}, \"zaxis\": {\"backgroundcolor\": \"#E5ECF6\", \"gridcolor\": \"white\", \"gridwidth\": 2, \"linecolor\": \"white\", \"showbackground\": true, \"ticks\": \"\", \"zerolinecolor\": \"white\"}}, \"shapedefaults\": {\"line\": {\"color\": \"#2a3f5f\"}}, \"ternary\": {\"aaxis\": {\"gridcolor\": \"white\", \"linecolor\": \"white\", \"ticks\": \"\"}, \"baxis\": {\"gridcolor\": \"white\", \"linecolor\": \"white\", \"ticks\": \"\"}, \"bgcolor\": \"#E5ECF6\", \"caxis\": {\"gridcolor\": \"white\", \"linecolor\": \"white\", \"ticks\": \"\"}}, \"title\": {\"x\": 0.05}, \"xaxis\": {\"automargin\": true, \"gridcolor\": \"white\", \"linecolor\": \"white\", \"ticks\": \"\", \"zerolinecolor\": \"white\", \"zerolinewidth\": 2}, \"yaxis\": {\"automargin\": true, \"gridcolor\": \"white\", \"linecolor\": \"white\", \"ticks\": \"\", \"zerolinecolor\": \"white\", \"zerolinewidth\": 2}}}, \"xaxis\": {\"anchor\": \"y\", \"domain\": [0.0, 0.98], \"title\": {\"text\": \"Year\"}}, \"yaxis\": {\"anchor\": \"x\", \"domain\": [0.0, 1.0], \"title\": {\"text\": \"Share\"}}},\n",
       "                        {\"responsive\": true}\n",
       "                    ).then(function(){\n",
       "                            \n",
       "var gd = document.getElementById('88e367db-91c8-4803-91f0-3e6a7c2f5d7e');\n",
       "var x = new MutationObserver(function (mutations, observer) {{\n",
       "        var display = window.getComputedStyle(gd).display;\n",
       "        if (!display || display === 'none') {{\n",
       "            console.log([gd, 'removed!']);\n",
       "            Plotly.purge(gd);\n",
       "            observer.disconnect();\n",
       "        }}\n",
       "}});\n",
       "\n",
       "// Listen for the removal of the full notebook cells\n",
       "var notebookContainer = gd.closest('#notebook-container');\n",
       "if (notebookContainer) {{\n",
       "    x.observe(notebookContainer, {childList: true});\n",
       "}}\n",
       "\n",
       "// Listen for the clearing of the current output cell\n",
       "var outputEl = gd.closest('.output');\n",
       "if (outputEl) {{\n",
       "    x.observe(outputEl, {childList: true});\n",
       "}}\n",
       "\n",
       "                        })\n",
       "                };\n",
       "                });\n",
       "            </script>\n",
       "        </div>"
      ]
     },
     "metadata": {},
     "output_type": "display_data"
    },
    {
     "data": {
      "application/vnd.plotly.v1+json": {
       "config": {
        "plotlyServerURL": "https://plot.ly"
       },
       "data": [
        {
         "hoverlabel": {
          "namelength": 0
         },
         "hovertemplate": "Mode=Driving<br>Vehicle=ice<br>Year=%{x}<br>Person-kilometers=%{y}",
         "legendgroup": "Mode=Driving",
         "line": {
          "color": "#636efa"
         },
         "mode": "lines",
         "name": "Mode=Driving",
         "orientation": "v",
         "showlegend": true,
         "stackgroup": "1",
         "type": "scatter",
         "x": [
          2000,
          2001,
          2002,
          2003,
          2004,
          2005,
          2006,
          2007,
          2008,
          2009,
          2010,
          2011,
          2012,
          2013,
          2014,
          2015,
          2016,
          2017,
          2018,
          2019,
          2020,
          2021,
          2022,
          2023,
          2024,
          2025,
          2026,
          2027,
          2028,
          2029,
          2030,
          2031,
          2032,
          2033,
          2034,
          2035,
          2036,
          2037,
          2038,
          2039,
          2040,
          2041,
          2042,
          2043,
          2044,
          2045,
          2046,
          2047,
          2048,
          2049,
          2050
         ],
         "xaxis": "x",
         "y": [
          138.06146010214735,
          137.5182509159981,
          137.05742967822147,
          136.68560659738782,
          136.40829256606244,
          136.22978313354497,
          136.1530063508826,
          136.17931164739906,
          136.3081928162189,
          136.53691479563037,
          136.86001497876444,
          137.26864200954566,
          137.74967344251945,
          138.28456149658413,
          138.84782460564023,
          139.40510592808346,
          139.91073021373955,
          140.30470777512943,
          140.50922710760105,
          140.42483695990043,
          139.92681645478325,
          138.86273525389208,
          137.0529146795011,
          134.296368316846,
          130.3855269429991,
          125.13288589310766,
          118.41056834746682,
          110.19858152895584,
          100.62963823167193,
          90.01137813803926,
          78.80722999162417,
          67.57014347508074,
          56.84533724996633,
          47.07538766497609,
          38.54021253760147,
          31.346089956186624,
          25.455481291975296,
          20.736867131377092,
          17.014428852854362,
          14.105673720477444,
          11.84392132951974,
          10.088115884572643,
          8.724356288422355,
          7.663149233000744,
          6.835133788199717,
          6.186787266798105,
          5.676751004329671,
          5.272923962791828,
          4.95025168153683,
          4.689070077899762,
          4.473866645091355
         ],
         "yaxis": "y"
        },
        {
         "hoverlabel": {
          "namelength": 0
         },
         "hovertemplate": "Mode=Driving<br>Vehicle=ev<br>Year=%{x}<br>Person-kilometers=%{y}",
         "legendgroup": "Mode=Driving",
         "line": {
          "color": "#636efa"
         },
         "mode": "lines",
         "name": "Mode=Driving",
         "orientation": "v",
         "showlegend": false,
         "stackgroup": "1",
         "type": "scatter",
         "x": [
          2000,
          2001,
          2002,
          2003,
          2004,
          2005,
          2006,
          2007,
          2008,
          2009,
          2010,
          2011,
          2012,
          2013,
          2014,
          2015,
          2016,
          2017,
          2018,
          2019,
          2020,
          2021,
          2022,
          2023,
          2024,
          2025,
          2026,
          2027,
          2028,
          2029,
          2030,
          2031,
          2032,
          2033,
          2034,
          2035,
          2036,
          2037,
          2038,
          2039,
          2040,
          2041,
          2042,
          2043,
          2044,
          2045,
          2046,
          2047,
          2048,
          2049,
          2050
         ],
         "xaxis": "x",
         "y": [
          0.014855001438980855,
          0.015116983845879504,
          0.015500294648426213,
          0.016047681581542017,
          0.01681866988274341,
          0.01789718225865355,
          0.019403188063817477,
          0.021510874400637377,
          0.024477567873013854,
          0.028690642427614443,
          0.03474487096422861,
          0.043571691429984724,
          0.056657233611315055,
          0.07641168713774757,
          0.10679431579872871,
          0.15436287246320465,
          0.23000808554222485,
          0.35174731332897835,
          0.549050563009344,
          0.8691574984911415,
          1.3855128814871733,
          2.207488282668088,
          3.488674782157169,
          5.428319124309971,
          8.257989718174766,
          12.20559626413323,
          17.43414754794235,
          23.963996463419722,
          31.60154613313263,
          39.90683800572341,
          48.228073137789565,
          55.808779879080035,
          61.94060743003479,
          66.11047837611392,
          68.09204814192718,
          67.9575459962834,
          66.01939095617809,
          62.73274763569951,
          58.593804197430494,
          54.058975661599,
          49.496094963929636,
          45.16655501976425,
          41.230345673722056,
          37.76397640197561,
          34.78278121100535,
          32.26201788511739,
          30.15401243680149,
          28.40064173158677,
          26.94159584543545,
          25.71932195445923,
          24.68160444470993
         ],
         "yaxis": "y"
        },
        {
         "hoverlabel": {
          "namelength": 0
         },
         "hovertemplate": "Mode=Driving<br>Vehicle=hev<br>Year=%{x}<br>Person-kilometers=%{y}",
         "legendgroup": "Mode=Driving",
         "line": {
          "color": "#636efa"
         },
         "mode": "lines",
         "name": "Mode=Driving",
         "orientation": "v",
         "showlegend": false,
         "stackgroup": "1",
         "type": "scatter",
         "x": [
          2000,
          2001,
          2002,
          2003,
          2004,
          2005,
          2006,
          2007,
          2008,
          2009,
          2010,
          2011,
          2012,
          2013,
          2014,
          2015,
          2016,
          2017,
          2018,
          2019,
          2020,
          2021,
          2022,
          2023,
          2024,
          2025,
          2026,
          2027,
          2028,
          2029,
          2030,
          2031,
          2032,
          2033,
          2034,
          2035,
          2036,
          2037,
          2038,
          2039,
          2040,
          2041,
          2042,
          2043,
          2044,
          2045,
          2046,
          2047,
          2048,
          2049,
          2050
         ],
         "xaxis": "x",
         "y": [
          1.3943075565729852,
          1.3935896924466848,
          1.3953315095296588,
          1.4001721171917159,
          1.4089417943846159,
          1.4227320017237128,
          1.4429894485356662,
          1.4716416478058234,
          1.5112633055523437,
          1.565294177989835,
          1.638319607801434,
          1.7364230200314705,
          1.8676124470890052,
          2.0423065535745315,
          2.2738314997606532,
          2.5788187808148346,
          2.9772937210569426,
          3.492097346217881,
          4.147105654237702,
          4.963564555611199,
          5.953902320847255,
          7.112875858332925,
          8.407123900341842,
          9.766125941424136,
          11.079466360697209,
          12.20559626413323,
          12.994399415008456,
          13.31994089340081,
          13.113583001596234,
          12.385127907548622,
          11.222995101505836,
          9.772537250212302,
          8.200544721557765,
          6.659087890799222,
          5.260388494089772,
          4.067801151278283,
          3.1007115907031606,
          2.3471085069185835,
          1.7775437606254414,
          1.356490313348617,
          1.049694714368192,
          0.827868331704513,
          0.6677979812971814,
          0.5519931801758254,
          0.4677074013982783,
          0.4058383542524749,
          0.35995126472645605,
          0.32550602145546975,
          0.29928563287718474,
          0.2789907076809182,
          0.2629586763796108
         ],
         "yaxis": "y"
        },
        {
         "hoverlabel": {
          "namelength": 0
         },
         "hovertemplate": "Mode=Transit<br>Vehicle=train<br>Year=%{x}<br>Person-kilometers=%{y}",
         "legendgroup": "Mode=Transit",
         "line": {
          "color": "#EF553B"
         },
         "mode": "lines",
         "name": "Mode=Transit",
         "orientation": "v",
         "showlegend": true,
         "stackgroup": "1",
         "type": "scatter",
         "x": [
          2000,
          2001,
          2002,
          2003,
          2004,
          2005,
          2006,
          2007,
          2008,
          2009,
          2010,
          2011,
          2012,
          2013,
          2014,
          2015,
          2016,
          2017,
          2018,
          2019,
          2020,
          2021,
          2022,
          2023,
          2024,
          2025,
          2026,
          2027,
          2028,
          2029,
          2030,
          2031,
          2032,
          2033,
          2034,
          2035,
          2036,
          2037,
          2038,
          2039,
          2040,
          2041,
          2042,
          2043,
          2044,
          2045,
          2046,
          2047,
          2048,
          2049,
          2050
         ],
         "xaxis": "x",
         "y": [
          16.984872594502807,
          16.925477330951892,
          16.878055773714895,
          16.843912104692485,
          16.824352014453286,
          16.820707742465604,
          16.834370295440465,
          16.86682950281523,
          16.919725554141138,
          16.994914076917745,
          17.09454857121861,
          17.22118507042808,
          17.37791361822882,
          17.568524882178057,
          17.797719169974176,
          18.071368029791742,
          18.396841002919967,
          18.783409952129162,
          19.242745992471914,
          19.789522721370783,
          20.442135152537148,
          21.223535162464838,
          22.16216253012214,
          23.292911910588693,
          24.658013277328404,
          26.307601689565374,
          28.29961638283039,
          30.69850906358347,
          33.572107198126744,
          36.98597330320198,
          40.99486616124288,
          45.63159596917054,
          50.89468996983512,
          56.73758444546925,
          63.062917311855585,
          69.72512915869605,
          76.54258749985677,
          83.31735473609834,
          89.85793069225477,
          95.99931870130133,
          101.61607346013203,
          106.62672542468692,
          110.99070875646566,
          114.70048283060359,
          117.77178193239328,
          120.23424422559744,
          122.12369477303598,
          123.47651101760391,
          124.32595620504308,
          124.70009898261793,
          124.62088899346347
         ],
         "yaxis": "y"
        },
        {
         "hoverlabel": {
          "namelength": 0
         },
         "hovertemplate": "Mode=Transit<br>Vehicle=metro/bus<br>Year=%{x}<br>Person-kilometers=%{y}",
         "legendgroup": "Mode=Transit",
         "line": {
          "color": "#EF553B"
         },
         "mode": "lines",
         "name": "Mode=Transit",
         "orientation": "v",
         "showlegend": false,
         "stackgroup": "1",
         "type": "scatter",
         "x": [
          2000,
          2001,
          2002,
          2003,
          2004,
          2005,
          2006,
          2007,
          2008,
          2009,
          2010,
          2011,
          2012,
          2013,
          2014,
          2015,
          2016,
          2017,
          2018,
          2019,
          2020,
          2021,
          2022,
          2023,
          2024,
          2025,
          2026,
          2027,
          2028,
          2029,
          2030,
          2031,
          2032,
          2033,
          2034,
          2035,
          2036,
          2037,
          2038,
          2039,
          2040,
          2041,
          2042,
          2043,
          2044,
          2045,
          2046,
          2047,
          2048,
          2049,
          2050
         ],
         "xaxis": "x",
         "y": [
          5.073403502254084,
          5.05566205989472,
          5.041497179161592,
          5.0312984208821705,
          5.025455796525007,
          5.024367247749466,
          5.028448270066632,
          5.038143877464289,
          5.053943996691509,
          5.076402906092313,
          5.106163858935428,
          5.143990345712283,
          5.190805366483933,
          5.247741198572665,
          5.316201829992285,
          5.397941099807923,
          5.495160299573496,
          5.610628946739879,
          5.747833218530571,
          5.911156137552311,
          6.106092318290315,
          6.339497516060924,
          6.619866729776743,
          6.9576230382277915,
          7.36538058933186,
          7.858114790389657,
          8.453132166299985,
          9.169684525485971,
          10.028032020219674,
          11.047758259397995,
          12.24521976244917,
          13.630216977804187,
          15.20230999098971,
          16.947590159036267,
          18.836975300943873,
          20.8269866318183,
          22.863370292165005,
          24.887002064029367,
          26.840680596387784,
          28.675121170518572,
          30.352853111468008,
          31.849541360620766,
          33.1530688493339,
          34.261183183167304,
          35.178584213572016,
          35.91412489855507,
          36.47850623090685,
          36.8825942000635,
          37.13632458072715,
          37.248081514288465,
          37.22442138765792
         ],
         "yaxis": "y"
        },
        {
         "hoverlabel": {
          "namelength": 0
         },
         "hovertemplate": "Mode=Cycling<br>Vehicle=ebike<br>Year=%{x}<br>Person-kilometers=%{y}",
         "legendgroup": "Mode=Cycling",
         "line": {
          "color": "#00cc96"
         },
         "mode": "lines",
         "name": "Mode=Cycling",
         "orientation": "v",
         "showlegend": true,
         "stackgroup": "1",
         "type": "scatter",
         "x": [
          2000,
          2001,
          2002,
          2003,
          2004,
          2005,
          2006,
          2007,
          2008,
          2009,
          2010,
          2011,
          2012,
          2013,
          2014,
          2015,
          2016,
          2017,
          2018,
          2019,
          2020,
          2021,
          2022,
          2023,
          2024,
          2025,
          2026,
          2027,
          2028,
          2029,
          2030,
          2031,
          2032,
          2033,
          2034,
          2035,
          2036,
          2037,
          2038,
          2039,
          2040,
          2041,
          2042,
          2043,
          2044,
          2045,
          2046,
          2047,
          2048,
          2049,
          2050
         ],
         "xaxis": "x",
         "y": [
          0.017060512959079132,
          0.017231286530239736,
          0.017493889364945715,
          0.01787801123743912,
          0.018423513710133507,
          0.01918412747726047,
          0.02023249093487173,
          0.021667013903215616,
          0.023621225706478812,
          0.0262764952141395,
          0.029879317636334623,
          0.03476476447579729,
          0.04138820739485895,
          0.05036807935056353,
          0.06254321390553969,
          0.07904918425488185,
          0.10141893043806191,
          0.13171354176837002,
          0.17268883006259333,
          0.2280012663341941,
          0.30245124297323045,
          0.40224985402385693,
          0.53527402529115,
          0.7112409059891976,
          0.9416869076806308,
          1.2395908569687724,
          1.6184642853982594,
          2.090793535111605,
          2.665901999099759,
          3.3475893901072564,
          4.132167300998496,
          5.007544663007875,
          5.953723266419063,
          6.944593991905429,
          7.950577138972699,
          8.941576046766336,
          9.889803374230233,
          10.772123263792151,
          11.571603730331773,
          12.278082909732026,
          12.88775765438618,
          13.402024877835148,
          13.825941454719294,
          14.166662020748566,
          14.432110174653388,
          14.6300012816633,
          14.767223275594151,
          14.849516431671923,
          14.881370216444422,
          14.866058182454859,
          14.805749562822585
         ],
         "yaxis": "y"
        },
        {
         "hoverlabel": {
          "namelength": 0
         },
         "hovertemplate": "Mode=Cycling<br>Vehicle=bike<br>Year=%{x}<br>Person-kilometers=%{y}",
         "legendgroup": "Mode=Cycling",
         "line": {
          "color": "#00cc96"
         },
         "mode": "lines",
         "name": "Mode=Cycling",
         "orientation": "v",
         "showlegend": false,
         "stackgroup": "1",
         "type": "scatter",
         "x": [
          2000,
          2001,
          2002,
          2003,
          2004,
          2005,
          2006,
          2007,
          2008,
          2009,
          2010,
          2011,
          2012,
          2013,
          2014,
          2015,
          2016,
          2017,
          2018,
          2019,
          2020,
          2021,
          2022,
          2023,
          2024,
          2025,
          2026,
          2027,
          2028,
          2029,
          2030,
          2031,
          2032,
          2033,
          2034,
          2035,
          2036,
          2037,
          2038,
          2039,
          2040,
          2041,
          2042,
          2043,
          2044,
          2045,
          2046,
          2047,
          2048,
          2049,
          2050
         ],
         "xaxis": "x",
         "y": [
          16.358452279980018,
          16.29312083161878,
          16.237551564000817,
          16.192586370939758,
          16.15896824225826,
          16.13734055617777,
          16.12824702034253,
          16.132131313607893,
          16.149337950864695,
          16.180113874282917,
          16.22461134484709,
          16.28289294166032,
          16.354938257919663,
          16.4406542374968,
          16.539888622251393,
          16.65244697908626,
          16.77811395643551,
          16.91667714179985,
          17.067952587413004,
          17.23180968637786,
          17.408193026908872,
          17.597143171949877,
          17.79882597462679,
          18.01359670446189,
          18.242152086648403,
          18.48584555352579,
          18.747237004885463,
          19.03086797808919,
          19.344060896401064,
          19.69727853504956,
          20.10341804210119,
          20.575609817169102,
          21.12373393806307,
          21.750666554901475,
          22.449683367167538,
          23.20412591333435,
          23.989539740387603,
          24.777540614186982,
          25.54012931836941,
          26.253235473012904,
          26.8987731429804,
          27.465112461730214,
          27.946341684486814,
          28.34087299423862,
          28.649895566324062,
          28.876006386475535,
          29.022169113070277,
          29.09101967322133,
          29.084466707975572,
          29.003508622153817,
          28.848194965026217
         ],
         "yaxis": "y"
        },
        {
         "hoverlabel": {
          "namelength": 0
         },
         "hovertemplate": "Mode=Cycling<br>Vehicle=emoped<br>Year=%{x}<br>Person-kilometers=%{y}",
         "legendgroup": "Mode=Cycling",
         "line": {
          "color": "#00cc96"
         },
         "mode": "lines",
         "name": "Mode=Cycling",
         "orientation": "v",
         "showlegend": false,
         "stackgroup": "1",
         "type": "scatter",
         "x": [
          2000,
          2001,
          2002,
          2003,
          2004,
          2005,
          2006,
          2007,
          2008,
          2009,
          2010,
          2011,
          2012,
          2013,
          2014,
          2015,
          2016,
          2017,
          2018,
          2019,
          2020,
          2021,
          2022,
          2023,
          2024,
          2025,
          2026,
          2027,
          2028,
          2029,
          2030,
          2031,
          2032,
          2033,
          2034,
          2035,
          2036,
          2037,
          2038,
          2039,
          2040,
          2041,
          2042,
          2043,
          2044,
          2045,
          2046,
          2047,
          2048,
          2049,
          2050
         ],
         "xaxis": "x",
         "y": [
          0.0013845631112475293,
          0.0014320218341370347,
          0.0014984246651903038,
          0.0015902433905449298,
          0.0017162298557885946,
          0.0018882443531862351,
          0.002122388347469263,
          0.0024405548360069617,
          0.002872553007018776,
          0.0034590236929841326,
          0.004255446304745619,
          0.005337656495262319,
          0.006809461618011462,
          0.008813182085229784,
          0.011544292657491866,
          0.015271839745256355,
          0.02036703923061194,
          0.027343505587918357,
          0.03691403577980038,
          0.0500708348170256,
          0.06819840841608181,
          0.0932304276730302,
          0.12786183603214132,
          0.17582114756573197,
          0.2421876465866289,
          0.33369347590530524,
          0.4588744794414003,
          0.6278402482055003,
          0.8513830993716728,
          1.1392460137309566,
          1.4977047122140255,
          1.9271028875507228,
          2.420293138012634,
          2.9627467016686846,
          3.5344268762472155,
          4.112806273154248,
          4.676082563371951,
          5.205783562355106,
          5.688326043891201,
          6.11546844002397,
          6.483863139610165,
          6.794045093300963,
          7.049206006628063,
          7.254027512178248,
          7.4137351994942975,
          7.533429524655093,
          7.617676471483042,
          7.6703042227159,
          7.694343673403041,
          7.692057412559039,
          7.665015946267458
         ],
         "yaxis": "y"
        },
        {
         "hoverlabel": {
          "namelength": 0
         },
         "hovertemplate": "Mode=Cycling<br>Vehicle=moped<br>Year=%{x}<br>Person-kilometers=%{y}",
         "legendgroup": "Mode=Cycling",
         "line": {
          "color": "#00cc96"
         },
         "mode": "lines",
         "name": "Mode=Cycling",
         "orientation": "v",
         "showlegend": false,
         "stackgroup": "1",
         "type": "scatter",
         "x": [
          2000,
          2001,
          2002,
          2003,
          2004,
          2005,
          2006,
          2007,
          2008,
          2009,
          2010,
          2011,
          2012,
          2013,
          2014,
          2015,
          2016,
          2017,
          2018,
          2019,
          2020,
          2021,
          2022,
          2023,
          2024,
          2025,
          2026,
          2027,
          2028,
          2029,
          2030,
          2031,
          2032,
          2033,
          2034,
          2035,
          2036,
          2037,
          2038,
          2039,
          2040,
          2041,
          2042,
          2043,
          2044,
          2045,
          2046,
          2047,
          2048,
          2049,
          2050
         ],
         "xaxis": "x",
         "y": [
          1.2313678203930105,
          1.2264801710900433,
          1.222337645647625,
          1.2190072394789797,
          1.2165497896461894,
          1.2150203802473272,
          1.214468959259418,
          1.2149411512922113,
          1.2164794539802233,
          1.2191248747133185,
          1.2229191687537302,
          1.2279078809892643,
          1.234144317904315,
          1.2416947472644753,
          1.2506448769529268,
          1.2611075700391983,
          1.2732313860585305,
          1.2872086017041429,
          1.3032799944435454,
          1.3217310963506763,
          1.3428706399206471,
          1.3669764723349302,
          1.3941877989831193,
          1.4243184926984291,
          1.456571746025387,
          1.4891637816176209,
          1.5189281911594223,
          1.5410720766186594,
          1.5493474659674284,
          1.536884997626033,
          1.4977047122140255,
          1.4285026440382942,
          1.329977115199611,
          1.2070373947901896,
          1.0677649558427413,
          0.9216022024945993,
          0.7775033631938129,
          0.6426138848889408,
          0.5216799432987873,
          0.4170867235999199,
          0.32928648029362095,
          0.257377246056591,
          0.199661349715535,
          0.1540935490576748,
          0.11859261192177886,
          0.0912287985307536,
          0.07031627297042871,
          0.05444155088263795,
          0.042453979781551354,
          0.033437003577986964,
          0.026672297415699132
         ],
         "yaxis": "y"
        },
        {
         "hoverlabel": {
          "namelength": 0
         },
         "hovertemplate": "Mode=Walking<br>Vehicle=walk<br>Year=%{x}<br>Person-kilometers=%{y}",
         "legendgroup": "Mode=Walking",
         "line": {
          "color": "#ab63fa"
         },
         "mode": "lines",
         "name": "Mode=Walking",
         "orientation": "v",
         "showlegend": true,
         "stackgroup": "1",
         "type": "scatter",
         "x": [
          2000,
          2001,
          2002,
          2003,
          2004,
          2005,
          2006,
          2007,
          2008,
          2009,
          2010,
          2011,
          2012,
          2013,
          2014,
          2015,
          2016,
          2017,
          2018,
          2019,
          2020,
          2021,
          2022,
          2023,
          2024,
          2025,
          2026,
          2027,
          2028,
          2029,
          2030,
          2031,
          2032,
          2033,
          2034,
          2035,
          2036,
          2037,
          2038,
          2039,
          2040,
          2041,
          2042,
          2043,
          2044,
          2045,
          2046,
          2047,
          2048,
          2049,
          2050
         ],
         "xaxis": "x",
         "y": [
          4.402066294110838,
          4.384566077768299,
          4.369720380919643,
          4.357765466261679,
          4.348914443867592,
          4.343358327063885,
          4.341267714721071,
          4.34279500840983,
          4.348077795889602,
          4.357243566975838,
          4.370416319385473,
          4.3877258109051605,
          4.40932006120921,
          4.4353825615492655,
          4.466155251441837,
          4.501968893281399,
          4.543282828040677,
          4.590735697715068,
          4.6452088619247345,
          4.707903220969938,
          4.780428329554707,
          4.864899981495422,
          4.964037408733299,
          5.08124431267881,
          5.220649596735261,
          5.3870734170043715,
          5.585875990221135,
          5.822643459506237,
          6.10267336520998,
          6.4302497341284495,
          6.807748691881932,
          7.2346900029414964,
          7.7069318644235905,
          8.216261160816442,
          8.750613084557546,
          9.295027608937382,
          9.833232260295896,
          10.349515331305792,
          10.83043475897279,
          11.265968386592203,
          11.649920104317587,
          11.979639919730726,
          12.255287623887423,
          12.478914019055773,
          12.653583388098378,
          12.782666497831165,
          12.869346283279471,
          12.916320469622944,
          12.925658644401143,
          12.898765305186421,
          12.836408192882985
         ],
         "yaxis": "y"
        }
       ],
       "layout": {
        "height": 600,
        "legend": {
         "font": {
          "size": 10
         },
         "tracegroupgap": 0,
         "traceorder": "reversed",
         "y": 0.5
        },
        "margin": {
         "t": 60
        },
        "template": {
         "data": {
          "bar": [
           {
            "error_x": {
             "color": "#2a3f5f"
            },
            "error_y": {
             "color": "#2a3f5f"
            },
            "marker": {
             "line": {
              "color": "#E5ECF6",
              "width": 0.5
             }
            },
            "type": "bar"
           }
          ],
          "barpolar": [
           {
            "marker": {
             "line": {
              "color": "#E5ECF6",
              "width": 0.5
             }
            },
            "type": "barpolar"
           }
          ],
          "carpet": [
           {
            "aaxis": {
             "endlinecolor": "#2a3f5f",
             "gridcolor": "white",
             "linecolor": "white",
             "minorgridcolor": "white",
             "startlinecolor": "#2a3f5f"
            },
            "baxis": {
             "endlinecolor": "#2a3f5f",
             "gridcolor": "white",
             "linecolor": "white",
             "minorgridcolor": "white",
             "startlinecolor": "#2a3f5f"
            },
            "type": "carpet"
           }
          ],
          "choropleth": [
           {
            "colorbar": {
             "outlinewidth": 0,
             "ticks": ""
            },
            "type": "choropleth"
           }
          ],
          "contour": [
           {
            "colorbar": {
             "outlinewidth": 0,
             "ticks": ""
            },
            "colorscale": [
             [
              0,
              "#0d0887"
             ],
             [
              0.1111111111111111,
              "#46039f"
             ],
             [
              0.2222222222222222,
              "#7201a8"
             ],
             [
              0.3333333333333333,
              "#9c179e"
             ],
             [
              0.4444444444444444,
              "#bd3786"
             ],
             [
              0.5555555555555556,
              "#d8576b"
             ],
             [
              0.6666666666666666,
              "#ed7953"
             ],
             [
              0.7777777777777778,
              "#fb9f3a"
             ],
             [
              0.8888888888888888,
              "#fdca26"
             ],
             [
              1,
              "#f0f921"
             ]
            ],
            "type": "contour"
           }
          ],
          "contourcarpet": [
           {
            "colorbar": {
             "outlinewidth": 0,
             "ticks": ""
            },
            "type": "contourcarpet"
           }
          ],
          "heatmap": [
           {
            "colorbar": {
             "outlinewidth": 0,
             "ticks": ""
            },
            "colorscale": [
             [
              0,
              "#0d0887"
             ],
             [
              0.1111111111111111,
              "#46039f"
             ],
             [
              0.2222222222222222,
              "#7201a8"
             ],
             [
              0.3333333333333333,
              "#9c179e"
             ],
             [
              0.4444444444444444,
              "#bd3786"
             ],
             [
              0.5555555555555556,
              "#d8576b"
             ],
             [
              0.6666666666666666,
              "#ed7953"
             ],
             [
              0.7777777777777778,
              "#fb9f3a"
             ],
             [
              0.8888888888888888,
              "#fdca26"
             ],
             [
              1,
              "#f0f921"
             ]
            ],
            "type": "heatmap"
           }
          ],
          "heatmapgl": [
           {
            "colorbar": {
             "outlinewidth": 0,
             "ticks": ""
            },
            "colorscale": [
             [
              0,
              "#0d0887"
             ],
             [
              0.1111111111111111,
              "#46039f"
             ],
             [
              0.2222222222222222,
              "#7201a8"
             ],
             [
              0.3333333333333333,
              "#9c179e"
             ],
             [
              0.4444444444444444,
              "#bd3786"
             ],
             [
              0.5555555555555556,
              "#d8576b"
             ],
             [
              0.6666666666666666,
              "#ed7953"
             ],
             [
              0.7777777777777778,
              "#fb9f3a"
             ],
             [
              0.8888888888888888,
              "#fdca26"
             ],
             [
              1,
              "#f0f921"
             ]
            ],
            "type": "heatmapgl"
           }
          ],
          "histogram": [
           {
            "marker": {
             "colorbar": {
              "outlinewidth": 0,
              "ticks": ""
             }
            },
            "type": "histogram"
           }
          ],
          "histogram2d": [
           {
            "colorbar": {
             "outlinewidth": 0,
             "ticks": ""
            },
            "colorscale": [
             [
              0,
              "#0d0887"
             ],
             [
              0.1111111111111111,
              "#46039f"
             ],
             [
              0.2222222222222222,
              "#7201a8"
             ],
             [
              0.3333333333333333,
              "#9c179e"
             ],
             [
              0.4444444444444444,
              "#bd3786"
             ],
             [
              0.5555555555555556,
              "#d8576b"
             ],
             [
              0.6666666666666666,
              "#ed7953"
             ],
             [
              0.7777777777777778,
              "#fb9f3a"
             ],
             [
              0.8888888888888888,
              "#fdca26"
             ],
             [
              1,
              "#f0f921"
             ]
            ],
            "type": "histogram2d"
           }
          ],
          "histogram2dcontour": [
           {
            "colorbar": {
             "outlinewidth": 0,
             "ticks": ""
            },
            "colorscale": [
             [
              0,
              "#0d0887"
             ],
             [
              0.1111111111111111,
              "#46039f"
             ],
             [
              0.2222222222222222,
              "#7201a8"
             ],
             [
              0.3333333333333333,
              "#9c179e"
             ],
             [
              0.4444444444444444,
              "#bd3786"
             ],
             [
              0.5555555555555556,
              "#d8576b"
             ],
             [
              0.6666666666666666,
              "#ed7953"
             ],
             [
              0.7777777777777778,
              "#fb9f3a"
             ],
             [
              0.8888888888888888,
              "#fdca26"
             ],
             [
              1,
              "#f0f921"
             ]
            ],
            "type": "histogram2dcontour"
           }
          ],
          "mesh3d": [
           {
            "colorbar": {
             "outlinewidth": 0,
             "ticks": ""
            },
            "type": "mesh3d"
           }
          ],
          "parcoords": [
           {
            "line": {
             "colorbar": {
              "outlinewidth": 0,
              "ticks": ""
             }
            },
            "type": "parcoords"
           }
          ],
          "scatter": [
           {
            "marker": {
             "colorbar": {
              "outlinewidth": 0,
              "ticks": ""
             }
            },
            "type": "scatter"
           }
          ],
          "scatter3d": [
           {
            "line": {
             "colorbar": {
              "outlinewidth": 0,
              "ticks": ""
             }
            },
            "marker": {
             "colorbar": {
              "outlinewidth": 0,
              "ticks": ""
             }
            },
            "type": "scatter3d"
           }
          ],
          "scattercarpet": [
           {
            "marker": {
             "colorbar": {
              "outlinewidth": 0,
              "ticks": ""
             }
            },
            "type": "scattercarpet"
           }
          ],
          "scattergeo": [
           {
            "marker": {
             "colorbar": {
              "outlinewidth": 0,
              "ticks": ""
             }
            },
            "type": "scattergeo"
           }
          ],
          "scattergl": [
           {
            "marker": {
             "colorbar": {
              "outlinewidth": 0,
              "ticks": ""
             }
            },
            "type": "scattergl"
           }
          ],
          "scattermapbox": [
           {
            "marker": {
             "colorbar": {
              "outlinewidth": 0,
              "ticks": ""
             }
            },
            "type": "scattermapbox"
           }
          ],
          "scatterpolar": [
           {
            "marker": {
             "colorbar": {
              "outlinewidth": 0,
              "ticks": ""
             }
            },
            "type": "scatterpolar"
           }
          ],
          "scatterpolargl": [
           {
            "marker": {
             "colorbar": {
              "outlinewidth": 0,
              "ticks": ""
             }
            },
            "type": "scatterpolargl"
           }
          ],
          "scatterternary": [
           {
            "marker": {
             "colorbar": {
              "outlinewidth": 0,
              "ticks": ""
             }
            },
            "type": "scatterternary"
           }
          ],
          "surface": [
           {
            "colorbar": {
             "outlinewidth": 0,
             "ticks": ""
            },
            "colorscale": [
             [
              0,
              "#0d0887"
             ],
             [
              0.1111111111111111,
              "#46039f"
             ],
             [
              0.2222222222222222,
              "#7201a8"
             ],
             [
              0.3333333333333333,
              "#9c179e"
             ],
             [
              0.4444444444444444,
              "#bd3786"
             ],
             [
              0.5555555555555556,
              "#d8576b"
             ],
             [
              0.6666666666666666,
              "#ed7953"
             ],
             [
              0.7777777777777778,
              "#fb9f3a"
             ],
             [
              0.8888888888888888,
              "#fdca26"
             ],
             [
              1,
              "#f0f921"
             ]
            ],
            "type": "surface"
           }
          ],
          "table": [
           {
            "cells": {
             "fill": {
              "color": "#EBF0F8"
             },
             "line": {
              "color": "white"
             }
            },
            "header": {
             "fill": {
              "color": "#C8D4E3"
             },
             "line": {
              "color": "white"
             }
            },
            "type": "table"
           }
          ]
         },
         "layout": {
          "annotationdefaults": {
           "arrowcolor": "#2a3f5f",
           "arrowhead": 0,
           "arrowwidth": 1
          },
          "colorscale": {
           "diverging": [
            [
             0,
             "#8e0152"
            ],
            [
             0.1,
             "#c51b7d"
            ],
            [
             0.2,
             "#de77ae"
            ],
            [
             0.3,
             "#f1b6da"
            ],
            [
             0.4,
             "#fde0ef"
            ],
            [
             0.5,
             "#f7f7f7"
            ],
            [
             0.6,
             "#e6f5d0"
            ],
            [
             0.7,
             "#b8e186"
            ],
            [
             0.8,
             "#7fbc41"
            ],
            [
             0.9,
             "#4d9221"
            ],
            [
             1,
             "#276419"
            ]
           ],
           "sequential": [
            [
             0,
             "#0d0887"
            ],
            [
             0.1111111111111111,
             "#46039f"
            ],
            [
             0.2222222222222222,
             "#7201a8"
            ],
            [
             0.3333333333333333,
             "#9c179e"
            ],
            [
             0.4444444444444444,
             "#bd3786"
            ],
            [
             0.5555555555555556,
             "#d8576b"
            ],
            [
             0.6666666666666666,
             "#ed7953"
            ],
            [
             0.7777777777777778,
             "#fb9f3a"
            ],
            [
             0.8888888888888888,
             "#fdca26"
            ],
            [
             1,
             "#f0f921"
            ]
           ],
           "sequentialminus": [
            [
             0,
             "#0d0887"
            ],
            [
             0.1111111111111111,
             "#46039f"
            ],
            [
             0.2222222222222222,
             "#7201a8"
            ],
            [
             0.3333333333333333,
             "#9c179e"
            ],
            [
             0.4444444444444444,
             "#bd3786"
            ],
            [
             0.5555555555555556,
             "#d8576b"
            ],
            [
             0.6666666666666666,
             "#ed7953"
            ],
            [
             0.7777777777777778,
             "#fb9f3a"
            ],
            [
             0.8888888888888888,
             "#fdca26"
            ],
            [
             1,
             "#f0f921"
            ]
           ]
          },
          "colorway": [
           "#636efa",
           "#EF553B",
           "#00cc96",
           "#ab63fa",
           "#FFA15A",
           "#19d3f3",
           "#FF6692",
           "#B6E880",
           "#FF97FF",
           "#FECB52"
          ],
          "font": {
           "color": "#2a3f5f"
          },
          "geo": {
           "bgcolor": "white",
           "lakecolor": "white",
           "landcolor": "#E5ECF6",
           "showlakes": true,
           "showland": true,
           "subunitcolor": "white"
          },
          "hoverlabel": {
           "align": "left"
          },
          "hovermode": "closest",
          "mapbox": {
           "style": "light"
          },
          "paper_bgcolor": "white",
          "plot_bgcolor": "#E5ECF6",
          "polar": {
           "angularaxis": {
            "gridcolor": "white",
            "linecolor": "white",
            "ticks": ""
           },
           "bgcolor": "#E5ECF6",
           "radialaxis": {
            "gridcolor": "white",
            "linecolor": "white",
            "ticks": ""
           }
          },
          "scene": {
           "xaxis": {
            "backgroundcolor": "#E5ECF6",
            "gridcolor": "white",
            "gridwidth": 2,
            "linecolor": "white",
            "showbackground": true,
            "ticks": "",
            "zerolinecolor": "white"
           },
           "yaxis": {
            "backgroundcolor": "#E5ECF6",
            "gridcolor": "white",
            "gridwidth": 2,
            "linecolor": "white",
            "showbackground": true,
            "ticks": "",
            "zerolinecolor": "white"
           },
           "zaxis": {
            "backgroundcolor": "#E5ECF6",
            "gridcolor": "white",
            "gridwidth": 2,
            "linecolor": "white",
            "showbackground": true,
            "ticks": "",
            "zerolinecolor": "white"
           }
          },
          "shapedefaults": {
           "line": {
            "color": "#2a3f5f"
           }
          },
          "ternary": {
           "aaxis": {
            "gridcolor": "white",
            "linecolor": "white",
            "ticks": ""
           },
           "baxis": {
            "gridcolor": "white",
            "linecolor": "white",
            "ticks": ""
           },
           "bgcolor": "#E5ECF6",
           "caxis": {
            "gridcolor": "white",
            "linecolor": "white",
            "ticks": ""
           }
          },
          "title": {
           "x": 0.05
          },
          "xaxis": {
           "automargin": true,
           "gridcolor": "white",
           "linecolor": "white",
           "ticks": "",
           "zerolinecolor": "white",
           "zerolinewidth": 2
          },
          "yaxis": {
           "automargin": true,
           "gridcolor": "white",
           "linecolor": "white",
           "ticks": "",
           "zerolinecolor": "white",
           "zerolinewidth": 2
          }
         }
        },
        "xaxis": {
         "anchor": "y",
         "domain": [
          0,
          0.98
         ],
         "title": {
          "text": "Year"
         }
        },
        "yaxis": {
         "anchor": "x",
         "domain": [
          0,
          1
         ],
         "title": {
          "text": "Person-kilometers"
         }
        }
       }
      },
      "text/html": [
       "<div>\n",
       "        \n",
       "        \n",
       "            <div id=\"cc943b2e-0f47-4980-a5a7-b2760c835867\" class=\"plotly-graph-div\" style=\"height:600px; width:100%;\"></div>\n",
       "            <script type=\"text/javascript\">\n",
       "                require([\"plotly\"], function(Plotly) {\n",
       "                    window.PLOTLYENV=window.PLOTLYENV || {};\n",
       "                    \n",
       "                if (document.getElementById(\"cc943b2e-0f47-4980-a5a7-b2760c835867\")) {\n",
       "                    Plotly.newPlot(\n",
       "                        'cc943b2e-0f47-4980-a5a7-b2760c835867',\n",
       "                        [{\"hoverlabel\": {\"namelength\": 0}, \"hovertemplate\": \"Mode=Driving<br>Vehicle=ice<br>Year=%{x}<br>Person-kilometers=%{y}\", \"legendgroup\": \"Mode=Driving\", \"line\": {\"color\": \"#636efa\"}, \"mode\": \"lines\", \"name\": \"Mode=Driving\", \"orientation\": \"v\", \"showlegend\": true, \"stackgroup\": \"1\", \"type\": \"scatter\", \"x\": [2000.0, 2001.0, 2002.0, 2003.0, 2004.0, 2005.0, 2006.0, 2007.0, 2008.0, 2009.0, 2010.0, 2011.0, 2012.0, 2013.0, 2014.0, 2015.0, 2016.0, 2017.0, 2018.0, 2019.0, 2020.0, 2021.0, 2022.0, 2023.0, 2024.0, 2025.0, 2026.0, 2027.0, 2028.0, 2029.0, 2030.0, 2031.0, 2032.0, 2033.0, 2034.0, 2035.0, 2036.0, 2037.0, 2038.0, 2039.0, 2040.0, 2041.0, 2042.0, 2043.0, 2044.0, 2045.0, 2046.0, 2047.0, 2048.0, 2049.0, 2050.0], \"xaxis\": \"x\", \"y\": [138.06146010214735, 137.5182509159981, 137.05742967822147, 136.68560659738782, 136.40829256606244, 136.22978313354497, 136.1530063508826, 136.17931164739906, 136.3081928162189, 136.53691479563037, 136.86001497876444, 137.26864200954566, 137.74967344251945, 138.28456149658413, 138.84782460564023, 139.40510592808346, 139.91073021373955, 140.30470777512943, 140.50922710760105, 140.42483695990043, 139.92681645478325, 138.86273525389208, 137.0529146795011, 134.296368316846, 130.3855269429991, 125.13288589310766, 118.41056834746682, 110.19858152895584, 100.62963823167193, 90.01137813803926, 78.80722999162417, 67.57014347508074, 56.84533724996633, 47.07538766497609, 38.54021253760147, 31.346089956186624, 25.455481291975296, 20.736867131377092, 17.014428852854362, 14.105673720477444, 11.84392132951974, 10.088115884572643, 8.724356288422355, 7.663149233000744, 6.835133788199717, 6.186787266798105, 5.676751004329671, 5.272923962791828, 4.95025168153683, 4.689070077899762, 4.473866645091355], \"yaxis\": \"y\"}, {\"hoverlabel\": {\"namelength\": 0}, \"hovertemplate\": \"Mode=Driving<br>Vehicle=ev<br>Year=%{x}<br>Person-kilometers=%{y}\", \"legendgroup\": \"Mode=Driving\", \"line\": {\"color\": \"#636efa\"}, \"mode\": \"lines\", \"name\": \"Mode=Driving\", \"orientation\": \"v\", \"showlegend\": false, \"stackgroup\": \"1\", \"type\": \"scatter\", \"x\": [2000.0, 2001.0, 2002.0, 2003.0, 2004.0, 2005.0, 2006.0, 2007.0, 2008.0, 2009.0, 2010.0, 2011.0, 2012.0, 2013.0, 2014.0, 2015.0, 2016.0, 2017.0, 2018.0, 2019.0, 2020.0, 2021.0, 2022.0, 2023.0, 2024.0, 2025.0, 2026.0, 2027.0, 2028.0, 2029.0, 2030.0, 2031.0, 2032.0, 2033.0, 2034.0, 2035.0, 2036.0, 2037.0, 2038.0, 2039.0, 2040.0, 2041.0, 2042.0, 2043.0, 2044.0, 2045.0, 2046.0, 2047.0, 2048.0, 2049.0, 2050.0], \"xaxis\": \"x\", \"y\": [0.014855001438980855, 0.015116983845879504, 0.015500294648426213, 0.016047681581542017, 0.01681866988274341, 0.01789718225865355, 0.019403188063817477, 0.021510874400637377, 0.024477567873013854, 0.028690642427614443, 0.03474487096422861, 0.043571691429984724, 0.056657233611315055, 0.07641168713774757, 0.10679431579872871, 0.15436287246320465, 0.23000808554222485, 0.35174731332897835, 0.549050563009344, 0.8691574984911415, 1.3855128814871733, 2.207488282668088, 3.488674782157169, 5.428319124309971, 8.257989718174766, 12.20559626413323, 17.43414754794235, 23.963996463419722, 31.60154613313263, 39.90683800572341, 48.228073137789565, 55.808779879080035, 61.94060743003479, 66.11047837611392, 68.09204814192718, 67.9575459962834, 66.01939095617809, 62.73274763569951, 58.593804197430494, 54.058975661599, 49.496094963929636, 45.16655501976425, 41.230345673722056, 37.76397640197561, 34.78278121100535, 32.26201788511739, 30.15401243680149, 28.40064173158677, 26.94159584543545, 25.71932195445923, 24.68160444470993], \"yaxis\": \"y\"}, {\"hoverlabel\": {\"namelength\": 0}, \"hovertemplate\": \"Mode=Driving<br>Vehicle=hev<br>Year=%{x}<br>Person-kilometers=%{y}\", \"legendgroup\": \"Mode=Driving\", \"line\": {\"color\": \"#636efa\"}, \"mode\": \"lines\", \"name\": \"Mode=Driving\", \"orientation\": \"v\", \"showlegend\": false, \"stackgroup\": \"1\", \"type\": \"scatter\", \"x\": [2000.0, 2001.0, 2002.0, 2003.0, 2004.0, 2005.0, 2006.0, 2007.0, 2008.0, 2009.0, 2010.0, 2011.0, 2012.0, 2013.0, 2014.0, 2015.0, 2016.0, 2017.0, 2018.0, 2019.0, 2020.0, 2021.0, 2022.0, 2023.0, 2024.0, 2025.0, 2026.0, 2027.0, 2028.0, 2029.0, 2030.0, 2031.0, 2032.0, 2033.0, 2034.0, 2035.0, 2036.0, 2037.0, 2038.0, 2039.0, 2040.0, 2041.0, 2042.0, 2043.0, 2044.0, 2045.0, 2046.0, 2047.0, 2048.0, 2049.0, 2050.0], \"xaxis\": \"x\", \"y\": [1.3943075565729852, 1.3935896924466848, 1.3953315095296588, 1.4001721171917159, 1.4089417943846159, 1.4227320017237128, 1.4429894485356662, 1.4716416478058234, 1.5112633055523437, 1.565294177989835, 1.638319607801434, 1.7364230200314705, 1.8676124470890052, 2.0423065535745315, 2.2738314997606532, 2.5788187808148346, 2.9772937210569426, 3.492097346217881, 4.147105654237702, 4.963564555611199, 5.953902320847255, 7.112875858332925, 8.407123900341842, 9.766125941424136, 11.079466360697209, 12.20559626413323, 12.994399415008456, 13.31994089340081, 13.113583001596234, 12.385127907548622, 11.222995101505836, 9.772537250212302, 8.200544721557765, 6.659087890799222, 5.260388494089772, 4.067801151278283, 3.1007115907031606, 2.3471085069185835, 1.7775437606254414, 1.356490313348617, 1.049694714368192, 0.827868331704513, 0.6677979812971814, 0.5519931801758254, 0.4677074013982783, 0.4058383542524749, 0.35995126472645605, 0.32550602145546975, 0.29928563287718474, 0.2789907076809182, 0.2629586763796108], \"yaxis\": \"y\"}, {\"hoverlabel\": {\"namelength\": 0}, \"hovertemplate\": \"Mode=Transit<br>Vehicle=train<br>Year=%{x}<br>Person-kilometers=%{y}\", \"legendgroup\": \"Mode=Transit\", \"line\": {\"color\": \"#EF553B\"}, \"mode\": \"lines\", \"name\": \"Mode=Transit\", \"orientation\": \"v\", \"showlegend\": true, \"stackgroup\": \"1\", \"type\": \"scatter\", \"x\": [2000.0, 2001.0, 2002.0, 2003.0, 2004.0, 2005.0, 2006.0, 2007.0, 2008.0, 2009.0, 2010.0, 2011.0, 2012.0, 2013.0, 2014.0, 2015.0, 2016.0, 2017.0, 2018.0, 2019.0, 2020.0, 2021.0, 2022.0, 2023.0, 2024.0, 2025.0, 2026.0, 2027.0, 2028.0, 2029.0, 2030.0, 2031.0, 2032.0, 2033.0, 2034.0, 2035.0, 2036.0, 2037.0, 2038.0, 2039.0, 2040.0, 2041.0, 2042.0, 2043.0, 2044.0, 2045.0, 2046.0, 2047.0, 2048.0, 2049.0, 2050.0], \"xaxis\": \"x\", \"y\": [16.984872594502807, 16.925477330951892, 16.878055773714895, 16.843912104692485, 16.824352014453286, 16.820707742465604, 16.834370295440465, 16.86682950281523, 16.919725554141138, 16.994914076917745, 17.09454857121861, 17.22118507042808, 17.37791361822882, 17.568524882178057, 17.797719169974176, 18.071368029791742, 18.396841002919967, 18.783409952129162, 19.242745992471914, 19.789522721370783, 20.442135152537148, 21.223535162464838, 22.16216253012214, 23.292911910588693, 24.658013277328404, 26.307601689565374, 28.29961638283039, 30.69850906358347, 33.572107198126744, 36.98597330320198, 40.99486616124288, 45.63159596917054, 50.89468996983512, 56.73758444546925, 63.062917311855585, 69.72512915869605, 76.54258749985677, 83.31735473609834, 89.85793069225477, 95.99931870130133, 101.61607346013203, 106.62672542468692, 110.99070875646566, 114.70048283060359, 117.77178193239328, 120.23424422559744, 122.12369477303598, 123.47651101760391, 124.32595620504308, 124.70009898261793, 124.62088899346347], \"yaxis\": \"y\"}, {\"hoverlabel\": {\"namelength\": 0}, \"hovertemplate\": \"Mode=Transit<br>Vehicle=metro/bus<br>Year=%{x}<br>Person-kilometers=%{y}\", \"legendgroup\": \"Mode=Transit\", \"line\": {\"color\": \"#EF553B\"}, \"mode\": \"lines\", \"name\": \"Mode=Transit\", \"orientation\": \"v\", \"showlegend\": false, \"stackgroup\": \"1\", \"type\": \"scatter\", \"x\": [2000.0, 2001.0, 2002.0, 2003.0, 2004.0, 2005.0, 2006.0, 2007.0, 2008.0, 2009.0, 2010.0, 2011.0, 2012.0, 2013.0, 2014.0, 2015.0, 2016.0, 2017.0, 2018.0, 2019.0, 2020.0, 2021.0, 2022.0, 2023.0, 2024.0, 2025.0, 2026.0, 2027.0, 2028.0, 2029.0, 2030.0, 2031.0, 2032.0, 2033.0, 2034.0, 2035.0, 2036.0, 2037.0, 2038.0, 2039.0, 2040.0, 2041.0, 2042.0, 2043.0, 2044.0, 2045.0, 2046.0, 2047.0, 2048.0, 2049.0, 2050.0], \"xaxis\": \"x\", \"y\": [5.073403502254084, 5.05566205989472, 5.041497179161592, 5.0312984208821705, 5.025455796525007, 5.024367247749466, 5.028448270066632, 5.038143877464289, 5.053943996691509, 5.076402906092313, 5.106163858935428, 5.143990345712283, 5.190805366483933, 5.247741198572665, 5.316201829992285, 5.397941099807923, 5.495160299573496, 5.610628946739879, 5.747833218530571, 5.911156137552311, 6.106092318290315, 6.339497516060924, 6.619866729776743, 6.9576230382277915, 7.36538058933186, 7.858114790389657, 8.453132166299985, 9.169684525485971, 10.028032020219674, 11.047758259397995, 12.24521976244917, 13.630216977804187, 15.20230999098971, 16.947590159036267, 18.836975300943873, 20.8269866318183, 22.863370292165005, 24.887002064029367, 26.840680596387784, 28.675121170518572, 30.352853111468008, 31.849541360620766, 33.1530688493339, 34.261183183167304, 35.178584213572016, 35.91412489855507, 36.47850623090685, 36.8825942000635, 37.13632458072715, 37.248081514288465, 37.22442138765792], \"yaxis\": \"y\"}, {\"hoverlabel\": {\"namelength\": 0}, \"hovertemplate\": \"Mode=Cycling<br>Vehicle=ebike<br>Year=%{x}<br>Person-kilometers=%{y}\", \"legendgroup\": \"Mode=Cycling\", \"line\": {\"color\": \"#00cc96\"}, \"mode\": \"lines\", \"name\": \"Mode=Cycling\", \"orientation\": \"v\", \"showlegend\": true, \"stackgroup\": \"1\", \"type\": \"scatter\", \"x\": [2000.0, 2001.0, 2002.0, 2003.0, 2004.0, 2005.0, 2006.0, 2007.0, 2008.0, 2009.0, 2010.0, 2011.0, 2012.0, 2013.0, 2014.0, 2015.0, 2016.0, 2017.0, 2018.0, 2019.0, 2020.0, 2021.0, 2022.0, 2023.0, 2024.0, 2025.0, 2026.0, 2027.0, 2028.0, 2029.0, 2030.0, 2031.0, 2032.0, 2033.0, 2034.0, 2035.0, 2036.0, 2037.0, 2038.0, 2039.0, 2040.0, 2041.0, 2042.0, 2043.0, 2044.0, 2045.0, 2046.0, 2047.0, 2048.0, 2049.0, 2050.0], \"xaxis\": \"x\", \"y\": [0.017060512959079132, 0.017231286530239736, 0.017493889364945715, 0.01787801123743912, 0.018423513710133507, 0.01918412747726047, 0.02023249093487173, 0.021667013903215616, 0.023621225706478812, 0.0262764952141395, 0.029879317636334623, 0.03476476447579729, 0.04138820739485895, 0.05036807935056353, 0.06254321390553969, 0.07904918425488185, 0.10141893043806191, 0.13171354176837002, 0.17268883006259333, 0.2280012663341941, 0.30245124297323045, 0.40224985402385693, 0.53527402529115, 0.7112409059891976, 0.9416869076806308, 1.2395908569687724, 1.6184642853982594, 2.090793535111605, 2.665901999099759, 3.3475893901072564, 4.132167300998496, 5.007544663007875, 5.953723266419063, 6.944593991905429, 7.950577138972699, 8.941576046766336, 9.889803374230233, 10.772123263792151, 11.571603730331773, 12.278082909732026, 12.88775765438618, 13.402024877835148, 13.825941454719294, 14.166662020748566, 14.432110174653388, 14.6300012816633, 14.767223275594151, 14.849516431671923, 14.881370216444422, 14.866058182454859, 14.805749562822585], \"yaxis\": \"y\"}, {\"hoverlabel\": {\"namelength\": 0}, \"hovertemplate\": \"Mode=Cycling<br>Vehicle=bike<br>Year=%{x}<br>Person-kilometers=%{y}\", \"legendgroup\": \"Mode=Cycling\", \"line\": {\"color\": \"#00cc96\"}, \"mode\": \"lines\", \"name\": \"Mode=Cycling\", \"orientation\": \"v\", \"showlegend\": false, \"stackgroup\": \"1\", \"type\": \"scatter\", \"x\": [2000.0, 2001.0, 2002.0, 2003.0, 2004.0, 2005.0, 2006.0, 2007.0, 2008.0, 2009.0, 2010.0, 2011.0, 2012.0, 2013.0, 2014.0, 2015.0, 2016.0, 2017.0, 2018.0, 2019.0, 2020.0, 2021.0, 2022.0, 2023.0, 2024.0, 2025.0, 2026.0, 2027.0, 2028.0, 2029.0, 2030.0, 2031.0, 2032.0, 2033.0, 2034.0, 2035.0, 2036.0, 2037.0, 2038.0, 2039.0, 2040.0, 2041.0, 2042.0, 2043.0, 2044.0, 2045.0, 2046.0, 2047.0, 2048.0, 2049.0, 2050.0], \"xaxis\": \"x\", \"y\": [16.358452279980018, 16.29312083161878, 16.237551564000817, 16.192586370939758, 16.15896824225826, 16.13734055617777, 16.12824702034253, 16.132131313607893, 16.149337950864695, 16.180113874282917, 16.22461134484709, 16.28289294166032, 16.354938257919663, 16.4406542374968, 16.539888622251393, 16.65244697908626, 16.77811395643551, 16.91667714179985, 17.067952587413004, 17.23180968637786, 17.408193026908872, 17.597143171949877, 17.79882597462679, 18.01359670446189, 18.242152086648403, 18.48584555352579, 18.747237004885463, 19.03086797808919, 19.344060896401064, 19.69727853504956, 20.10341804210119, 20.575609817169102, 21.12373393806307, 21.750666554901475, 22.449683367167538, 23.20412591333435, 23.989539740387603, 24.777540614186982, 25.54012931836941, 26.253235473012904, 26.8987731429804, 27.465112461730214, 27.946341684486814, 28.34087299423862, 28.649895566324062, 28.876006386475535, 29.022169113070277, 29.09101967322133, 29.084466707975572, 29.003508622153817, 28.848194965026217], \"yaxis\": \"y\"}, {\"hoverlabel\": {\"namelength\": 0}, \"hovertemplate\": \"Mode=Cycling<br>Vehicle=emoped<br>Year=%{x}<br>Person-kilometers=%{y}\", \"legendgroup\": \"Mode=Cycling\", \"line\": {\"color\": \"#00cc96\"}, \"mode\": \"lines\", \"name\": \"Mode=Cycling\", \"orientation\": \"v\", \"showlegend\": false, \"stackgroup\": \"1\", \"type\": \"scatter\", \"x\": [2000.0, 2001.0, 2002.0, 2003.0, 2004.0, 2005.0, 2006.0, 2007.0, 2008.0, 2009.0, 2010.0, 2011.0, 2012.0, 2013.0, 2014.0, 2015.0, 2016.0, 2017.0, 2018.0, 2019.0, 2020.0, 2021.0, 2022.0, 2023.0, 2024.0, 2025.0, 2026.0, 2027.0, 2028.0, 2029.0, 2030.0, 2031.0, 2032.0, 2033.0, 2034.0, 2035.0, 2036.0, 2037.0, 2038.0, 2039.0, 2040.0, 2041.0, 2042.0, 2043.0, 2044.0, 2045.0, 2046.0, 2047.0, 2048.0, 2049.0, 2050.0], \"xaxis\": \"x\", \"y\": [0.0013845631112475293, 0.0014320218341370347, 0.0014984246651903038, 0.0015902433905449298, 0.0017162298557885946, 0.0018882443531862351, 0.002122388347469263, 0.0024405548360069617, 0.002872553007018776, 0.0034590236929841326, 0.004255446304745619, 0.005337656495262319, 0.006809461618011462, 0.008813182085229784, 0.011544292657491866, 0.015271839745256355, 0.02036703923061194, 0.027343505587918357, 0.03691403577980038, 0.0500708348170256, 0.06819840841608181, 0.0932304276730302, 0.12786183603214132, 0.17582114756573197, 0.2421876465866289, 0.33369347590530524, 0.4588744794414003, 0.6278402482055003, 0.8513830993716728, 1.1392460137309566, 1.4977047122140255, 1.9271028875507228, 2.420293138012634, 2.9627467016686846, 3.5344268762472155, 4.112806273154248, 4.676082563371951, 5.205783562355106, 5.688326043891201, 6.11546844002397, 6.483863139610165, 6.794045093300963, 7.049206006628063, 7.254027512178248, 7.4137351994942975, 7.533429524655093, 7.617676471483042, 7.6703042227159, 7.694343673403041, 7.692057412559039, 7.665015946267458], \"yaxis\": \"y\"}, {\"hoverlabel\": {\"namelength\": 0}, \"hovertemplate\": \"Mode=Cycling<br>Vehicle=moped<br>Year=%{x}<br>Person-kilometers=%{y}\", \"legendgroup\": \"Mode=Cycling\", \"line\": {\"color\": \"#00cc96\"}, \"mode\": \"lines\", \"name\": \"Mode=Cycling\", \"orientation\": \"v\", \"showlegend\": false, \"stackgroup\": \"1\", \"type\": \"scatter\", \"x\": [2000.0, 2001.0, 2002.0, 2003.0, 2004.0, 2005.0, 2006.0, 2007.0, 2008.0, 2009.0, 2010.0, 2011.0, 2012.0, 2013.0, 2014.0, 2015.0, 2016.0, 2017.0, 2018.0, 2019.0, 2020.0, 2021.0, 2022.0, 2023.0, 2024.0, 2025.0, 2026.0, 2027.0, 2028.0, 2029.0, 2030.0, 2031.0, 2032.0, 2033.0, 2034.0, 2035.0, 2036.0, 2037.0, 2038.0, 2039.0, 2040.0, 2041.0, 2042.0, 2043.0, 2044.0, 2045.0, 2046.0, 2047.0, 2048.0, 2049.0, 2050.0], \"xaxis\": \"x\", \"y\": [1.2313678203930105, 1.2264801710900433, 1.222337645647625, 1.2190072394789797, 1.2165497896461894, 1.2150203802473272, 1.214468959259418, 1.2149411512922113, 1.2164794539802233, 1.2191248747133185, 1.2229191687537302, 1.2279078809892643, 1.234144317904315, 1.2416947472644753, 1.2506448769529268, 1.2611075700391983, 1.2732313860585305, 1.2872086017041429, 1.3032799944435454, 1.3217310963506763, 1.3428706399206471, 1.3669764723349302, 1.3941877989831193, 1.4243184926984291, 1.456571746025387, 1.4891637816176209, 1.5189281911594223, 1.5410720766186594, 1.5493474659674284, 1.536884997626033, 1.4977047122140255, 1.4285026440382942, 1.329977115199611, 1.2070373947901896, 1.0677649558427413, 0.9216022024945993, 0.7775033631938129, 0.6426138848889408, 0.5216799432987873, 0.4170867235999199, 0.32928648029362095, 0.257377246056591, 0.199661349715535, 0.1540935490576748, 0.11859261192177886, 0.0912287985307536, 0.07031627297042871, 0.05444155088263795, 0.042453979781551354, 0.033437003577986964, 0.026672297415699132], \"yaxis\": \"y\"}, {\"hoverlabel\": {\"namelength\": 0}, \"hovertemplate\": \"Mode=Walking<br>Vehicle=walk<br>Year=%{x}<br>Person-kilometers=%{y}\", \"legendgroup\": \"Mode=Walking\", \"line\": {\"color\": \"#ab63fa\"}, \"mode\": \"lines\", \"name\": \"Mode=Walking\", \"orientation\": \"v\", \"showlegend\": true, \"stackgroup\": \"1\", \"type\": \"scatter\", \"x\": [2000.0, 2001.0, 2002.0, 2003.0, 2004.0, 2005.0, 2006.0, 2007.0, 2008.0, 2009.0, 2010.0, 2011.0, 2012.0, 2013.0, 2014.0, 2015.0, 2016.0, 2017.0, 2018.0, 2019.0, 2020.0, 2021.0, 2022.0, 2023.0, 2024.0, 2025.0, 2026.0, 2027.0, 2028.0, 2029.0, 2030.0, 2031.0, 2032.0, 2033.0, 2034.0, 2035.0, 2036.0, 2037.0, 2038.0, 2039.0, 2040.0, 2041.0, 2042.0, 2043.0, 2044.0, 2045.0, 2046.0, 2047.0, 2048.0, 2049.0, 2050.0], \"xaxis\": \"x\", \"y\": [4.402066294110838, 4.384566077768299, 4.369720380919643, 4.357765466261679, 4.348914443867592, 4.343358327063885, 4.341267714721071, 4.34279500840983, 4.348077795889602, 4.357243566975838, 4.370416319385473, 4.3877258109051605, 4.40932006120921, 4.4353825615492655, 4.466155251441837, 4.501968893281399, 4.543282828040677, 4.590735697715068, 4.6452088619247345, 4.707903220969938, 4.780428329554707, 4.864899981495422, 4.964037408733299, 5.08124431267881, 5.220649596735261, 5.3870734170043715, 5.585875990221135, 5.822643459506237, 6.10267336520998, 6.4302497341284495, 6.807748691881932, 7.2346900029414964, 7.7069318644235905, 8.216261160816442, 8.750613084557546, 9.295027608937382, 9.833232260295896, 10.349515331305792, 10.83043475897279, 11.265968386592203, 11.649920104317587, 11.979639919730726, 12.255287623887423, 12.478914019055773, 12.653583388098378, 12.782666497831165, 12.869346283279471, 12.916320469622944, 12.925658644401143, 12.898765305186421, 12.836408192882985], \"yaxis\": \"y\"}],\n",
       "                        {\"height\": 600, \"legend\": {\"font\": {\"size\": 10}, \"tracegroupgap\": 0, \"traceorder\": \"reversed\", \"y\": 0.5}, \"margin\": {\"t\": 60}, \"template\": {\"data\": {\"bar\": [{\"error_x\": {\"color\": \"#2a3f5f\"}, \"error_y\": {\"color\": \"#2a3f5f\"}, \"marker\": {\"line\": {\"color\": \"#E5ECF6\", \"width\": 0.5}}, \"type\": \"bar\"}], \"barpolar\": [{\"marker\": {\"line\": {\"color\": \"#E5ECF6\", \"width\": 0.5}}, \"type\": \"barpolar\"}], \"carpet\": [{\"aaxis\": {\"endlinecolor\": \"#2a3f5f\", \"gridcolor\": \"white\", \"linecolor\": \"white\", \"minorgridcolor\": \"white\", \"startlinecolor\": \"#2a3f5f\"}, \"baxis\": {\"endlinecolor\": \"#2a3f5f\", \"gridcolor\": \"white\", \"linecolor\": \"white\", \"minorgridcolor\": \"white\", \"startlinecolor\": \"#2a3f5f\"}, \"type\": \"carpet\"}], \"choropleth\": [{\"colorbar\": {\"outlinewidth\": 0, \"ticks\": \"\"}, \"type\": \"choropleth\"}], \"contour\": [{\"colorbar\": {\"outlinewidth\": 0, \"ticks\": \"\"}, \"colorscale\": [[0.0, \"#0d0887\"], [0.1111111111111111, \"#46039f\"], [0.2222222222222222, \"#7201a8\"], [0.3333333333333333, \"#9c179e\"], [0.4444444444444444, \"#bd3786\"], [0.5555555555555556, \"#d8576b\"], [0.6666666666666666, \"#ed7953\"], [0.7777777777777778, \"#fb9f3a\"], [0.8888888888888888, \"#fdca26\"], [1.0, \"#f0f921\"]], \"type\": \"contour\"}], \"contourcarpet\": [{\"colorbar\": {\"outlinewidth\": 0, \"ticks\": \"\"}, \"type\": \"contourcarpet\"}], \"heatmap\": [{\"colorbar\": {\"outlinewidth\": 0, \"ticks\": \"\"}, \"colorscale\": [[0.0, \"#0d0887\"], [0.1111111111111111, \"#46039f\"], [0.2222222222222222, \"#7201a8\"], [0.3333333333333333, \"#9c179e\"], [0.4444444444444444, \"#bd3786\"], [0.5555555555555556, \"#d8576b\"], [0.6666666666666666, \"#ed7953\"], [0.7777777777777778, \"#fb9f3a\"], [0.8888888888888888, \"#fdca26\"], [1.0, \"#f0f921\"]], \"type\": \"heatmap\"}], \"heatmapgl\": [{\"colorbar\": {\"outlinewidth\": 0, \"ticks\": \"\"}, \"colorscale\": [[0.0, \"#0d0887\"], [0.1111111111111111, \"#46039f\"], [0.2222222222222222, \"#7201a8\"], [0.3333333333333333, \"#9c179e\"], [0.4444444444444444, \"#bd3786\"], [0.5555555555555556, \"#d8576b\"], [0.6666666666666666, \"#ed7953\"], [0.7777777777777778, \"#fb9f3a\"], [0.8888888888888888, \"#fdca26\"], [1.0, \"#f0f921\"]], \"type\": \"heatmapgl\"}], \"histogram\": [{\"marker\": {\"colorbar\": {\"outlinewidth\": 0, \"ticks\": \"\"}}, \"type\": \"histogram\"}], \"histogram2d\": [{\"colorbar\": {\"outlinewidth\": 0, \"ticks\": \"\"}, \"colorscale\": [[0.0, \"#0d0887\"], [0.1111111111111111, \"#46039f\"], [0.2222222222222222, \"#7201a8\"], [0.3333333333333333, \"#9c179e\"], [0.4444444444444444, \"#bd3786\"], [0.5555555555555556, \"#d8576b\"], [0.6666666666666666, \"#ed7953\"], [0.7777777777777778, \"#fb9f3a\"], [0.8888888888888888, \"#fdca26\"], [1.0, \"#f0f921\"]], \"type\": \"histogram2d\"}], \"histogram2dcontour\": [{\"colorbar\": {\"outlinewidth\": 0, \"ticks\": \"\"}, \"colorscale\": [[0.0, \"#0d0887\"], [0.1111111111111111, \"#46039f\"], [0.2222222222222222, \"#7201a8\"], [0.3333333333333333, \"#9c179e\"], [0.4444444444444444, \"#bd3786\"], [0.5555555555555556, \"#d8576b\"], [0.6666666666666666, \"#ed7953\"], [0.7777777777777778, \"#fb9f3a\"], [0.8888888888888888, \"#fdca26\"], [1.0, \"#f0f921\"]], \"type\": \"histogram2dcontour\"}], \"mesh3d\": [{\"colorbar\": {\"outlinewidth\": 0, \"ticks\": \"\"}, \"type\": \"mesh3d\"}], \"parcoords\": [{\"line\": {\"colorbar\": {\"outlinewidth\": 0, \"ticks\": \"\"}}, \"type\": \"parcoords\"}], \"scatter\": [{\"marker\": {\"colorbar\": {\"outlinewidth\": 0, \"ticks\": \"\"}}, \"type\": \"scatter\"}], \"scatter3d\": [{\"line\": {\"colorbar\": {\"outlinewidth\": 0, \"ticks\": \"\"}}, \"marker\": {\"colorbar\": {\"outlinewidth\": 0, \"ticks\": \"\"}}, \"type\": \"scatter3d\"}], \"scattercarpet\": [{\"marker\": {\"colorbar\": {\"outlinewidth\": 0, \"ticks\": \"\"}}, \"type\": \"scattercarpet\"}], \"scattergeo\": [{\"marker\": {\"colorbar\": {\"outlinewidth\": 0, \"ticks\": \"\"}}, \"type\": \"scattergeo\"}], \"scattergl\": [{\"marker\": {\"colorbar\": {\"outlinewidth\": 0, \"ticks\": \"\"}}, \"type\": \"scattergl\"}], \"scattermapbox\": [{\"marker\": {\"colorbar\": {\"outlinewidth\": 0, \"ticks\": \"\"}}, \"type\": \"scattermapbox\"}], \"scatterpolar\": [{\"marker\": {\"colorbar\": {\"outlinewidth\": 0, \"ticks\": \"\"}}, \"type\": \"scatterpolar\"}], \"scatterpolargl\": [{\"marker\": {\"colorbar\": {\"outlinewidth\": 0, \"ticks\": \"\"}}, \"type\": \"scatterpolargl\"}], \"scatterternary\": [{\"marker\": {\"colorbar\": {\"outlinewidth\": 0, \"ticks\": \"\"}}, \"type\": \"scatterternary\"}], \"surface\": [{\"colorbar\": {\"outlinewidth\": 0, \"ticks\": \"\"}, \"colorscale\": [[0.0, \"#0d0887\"], [0.1111111111111111, \"#46039f\"], [0.2222222222222222, \"#7201a8\"], [0.3333333333333333, \"#9c179e\"], [0.4444444444444444, \"#bd3786\"], [0.5555555555555556, \"#d8576b\"], [0.6666666666666666, \"#ed7953\"], [0.7777777777777778, \"#fb9f3a\"], [0.8888888888888888, \"#fdca26\"], [1.0, \"#f0f921\"]], \"type\": \"surface\"}], \"table\": [{\"cells\": {\"fill\": {\"color\": \"#EBF0F8\"}, \"line\": {\"color\": \"white\"}}, \"header\": {\"fill\": {\"color\": \"#C8D4E3\"}, \"line\": {\"color\": \"white\"}}, \"type\": \"table\"}]}, \"layout\": {\"annotationdefaults\": {\"arrowcolor\": \"#2a3f5f\", \"arrowhead\": 0, \"arrowwidth\": 1}, \"colorscale\": {\"diverging\": [[0, \"#8e0152\"], [0.1, \"#c51b7d\"], [0.2, \"#de77ae\"], [0.3, \"#f1b6da\"], [0.4, \"#fde0ef\"], [0.5, \"#f7f7f7\"], [0.6, \"#e6f5d0\"], [0.7, \"#b8e186\"], [0.8, \"#7fbc41\"], [0.9, \"#4d9221\"], [1, \"#276419\"]], \"sequential\": [[0.0, \"#0d0887\"], [0.1111111111111111, \"#46039f\"], [0.2222222222222222, \"#7201a8\"], [0.3333333333333333, \"#9c179e\"], [0.4444444444444444, \"#bd3786\"], [0.5555555555555556, \"#d8576b\"], [0.6666666666666666, \"#ed7953\"], [0.7777777777777778, \"#fb9f3a\"], [0.8888888888888888, \"#fdca26\"], [1.0, \"#f0f921\"]], \"sequentialminus\": [[0.0, \"#0d0887\"], [0.1111111111111111, \"#46039f\"], [0.2222222222222222, \"#7201a8\"], [0.3333333333333333, \"#9c179e\"], [0.4444444444444444, \"#bd3786\"], [0.5555555555555556, \"#d8576b\"], [0.6666666666666666, \"#ed7953\"], [0.7777777777777778, \"#fb9f3a\"], [0.8888888888888888, \"#fdca26\"], [1.0, \"#f0f921\"]]}, \"colorway\": [\"#636efa\", \"#EF553B\", \"#00cc96\", \"#ab63fa\", \"#FFA15A\", \"#19d3f3\", \"#FF6692\", \"#B6E880\", \"#FF97FF\", \"#FECB52\"], \"font\": {\"color\": \"#2a3f5f\"}, \"geo\": {\"bgcolor\": \"white\", \"lakecolor\": \"white\", \"landcolor\": \"#E5ECF6\", \"showlakes\": true, \"showland\": true, \"subunitcolor\": \"white\"}, \"hoverlabel\": {\"align\": \"left\"}, \"hovermode\": \"closest\", \"mapbox\": {\"style\": \"light\"}, \"paper_bgcolor\": \"white\", \"plot_bgcolor\": \"#E5ECF6\", \"polar\": {\"angularaxis\": {\"gridcolor\": \"white\", \"linecolor\": \"white\", \"ticks\": \"\"}, \"bgcolor\": \"#E5ECF6\", \"radialaxis\": {\"gridcolor\": \"white\", \"linecolor\": \"white\", \"ticks\": \"\"}}, \"scene\": {\"xaxis\": {\"backgroundcolor\": \"#E5ECF6\", \"gridcolor\": \"white\", \"gridwidth\": 2, \"linecolor\": \"white\", \"showbackground\": true, \"ticks\": \"\", \"zerolinecolor\": \"white\"}, \"yaxis\": {\"backgroundcolor\": \"#E5ECF6\", \"gridcolor\": \"white\", \"gridwidth\": 2, \"linecolor\": \"white\", \"showbackground\": true, \"ticks\": \"\", \"zerolinecolor\": \"white\"}, \"zaxis\": {\"backgroundcolor\": \"#E5ECF6\", \"gridcolor\": \"white\", \"gridwidth\": 2, \"linecolor\": \"white\", \"showbackground\": true, \"ticks\": \"\", \"zerolinecolor\": \"white\"}}, \"shapedefaults\": {\"line\": {\"color\": \"#2a3f5f\"}}, \"ternary\": {\"aaxis\": {\"gridcolor\": \"white\", \"linecolor\": \"white\", \"ticks\": \"\"}, \"baxis\": {\"gridcolor\": \"white\", \"linecolor\": \"white\", \"ticks\": \"\"}, \"bgcolor\": \"#E5ECF6\", \"caxis\": {\"gridcolor\": \"white\", \"linecolor\": \"white\", \"ticks\": \"\"}}, \"title\": {\"x\": 0.05}, \"xaxis\": {\"automargin\": true, \"gridcolor\": \"white\", \"linecolor\": \"white\", \"ticks\": \"\", \"zerolinecolor\": \"white\", \"zerolinewidth\": 2}, \"yaxis\": {\"automargin\": true, \"gridcolor\": \"white\", \"linecolor\": \"white\", \"ticks\": \"\", \"zerolinecolor\": \"white\", \"zerolinewidth\": 2}}}, \"xaxis\": {\"anchor\": \"y\", \"domain\": [0.0, 0.98], \"title\": {\"text\": \"Year\"}}, \"yaxis\": {\"anchor\": \"x\", \"domain\": [0.0, 1.0], \"title\": {\"text\": \"Person-kilometers\"}}},\n",
       "                        {\"responsive\": true}\n",
       "                    ).then(function(){\n",
       "                            \n",
       "var gd = document.getElementById('cc943b2e-0f47-4980-a5a7-b2760c835867');\n",
       "var x = new MutationObserver(function (mutations, observer) {{\n",
       "        var display = window.getComputedStyle(gd).display;\n",
       "        if (!display || display === 'none') {{\n",
       "            console.log([gd, 'removed!']);\n",
       "            Plotly.purge(gd);\n",
       "            observer.disconnect();\n",
       "        }}\n",
       "}});\n",
       "\n",
       "// Listen for the removal of the full notebook cells\n",
       "var notebookContainer = gd.closest('#notebook-container');\n",
       "if (notebookContainer) {{\n",
       "    x.observe(notebookContainer, {childList: true});\n",
       "}}\n",
       "\n",
       "// Listen for the clearing of the current output cell\n",
       "var outputEl = gd.closest('.output');\n",
       "if (outputEl) {{\n",
       "    x.observe(outputEl, {childList: true});\n",
       "}}\n",
       "\n",
       "                        })\n",
       "                };\n",
       "                });\n",
       "            </script>\n",
       "        </div>"
      ]
     },
     "metadata": {},
     "output_type": "display_data"
    },
    {
     "data": {
      "image/png": "[encoded data removed]",
      "text/plain": [
       "<Figure size 432x288 with 1 Axes>"
      ]
     },
     "metadata": {
      "needs_background": "light"
     },
     "output_type": "display_data"
    },
    {
     "data": {
      "image/png": "[encoded data removed]",
      "text/plain": [
       "<Figure size 432x288 with 1 Axes>"
      ]
     },
     "metadata": {
      "needs_background": "light"
     },
     "output_type": "display_data"
    },
    {
     "data": {
      "application/vnd.plotly.v1+json": {
       "config": {
        "plotlyServerURL": "https://plot.ly"
       },
       "data": [
        {
         "hoverlabel": {
          "namelength": 0
         },
         "hovertemplate": "Mode=Driving<br>Vehicle=ice<br>Year=%{x}<br>VehicleCount=%{y}",
         "legendgroup": "Mode=Driving",
         "line": {
          "color": "#636efa"
         },
         "mode": "lines",
         "name": "Mode=Driving",
         "orientation": "v",
         "showlegend": true,
         "stackgroup": "1",
         "type": "scatter",
         "x": [
          2000,
          2001,
          2002,
          2003,
          2004,
          2005,
          2006,
          2007,
          2008,
          2009,
          2010,
          2011,
          2012,
          2013,
          2014,
          2015,
          2016,
          2017,
          2018,
          2019,
          2020,
          2021,
          2022,
          2023,
          2024,
          2025,
          2026,
          2027,
          2028,
          2029,
          2030,
          2031,
          2032,
          2033,
          2034,
          2035,
          2036,
          2037,
          2038,
          2039,
          2040,
          2041,
          2042,
          2043,
          2044,
          2045,
          2046,
          2047,
          2048,
          2049,
          2050
         ],
         "xaxis": "x",
         "y": [
          6412129.324656558,
          6398622.12357273,
          6412412.845513893,
          6453402.324277042,
          6521186.523547376,
          6614891.796981997,
          6733017.7398909675,
          6873294.626407036,
          7032565.566884343,
          7206703.998791235,
          7390577.587872791,
          7578068.110922859,
          7762152.766928543,
          7935047.8638893,
          8088407.490869356,
          8213562.21649496,
          8301775.764995749,
          8344492.452319744,
          8333550.705111835,
          8261349.441797754,
          8120979.535256438,
          7906374.762666317,
          7612590.199405206,
          7236366.156384706,
          6777144.8090236,
          6238608.849962755,
          5630543.692372335,
          4970391.742208228,
          4283463.827535284,
          3600809.9395100144,
          2954589.148125208,
          2372201.749448367,
          1871467.2572297428,
          1458765.8447001157,
          1130460.2347430196,
          876342.0930847336,
          683364.4978397285,
          538476.7436236033,
          430222.8888224578,
          349325.67489147186,
          288649.7362357204,
          242879.67060641362,
          208124.5787803,
          181554.59489604383,
          161107.60707223034,
          145269.30164527625,
          132915.1932238654,
          123199.82758861055,
          115479.76432155227,
          109259.89959668522,
          104155.64803030611
         ],
         "yaxis": "y"
        },
        {
         "hoverlabel": {
          "namelength": 0
         },
         "hovertemplate": "Mode=Driving<br>Vehicle=ev<br>Year=%{x}<br>VehicleCount=%{y}",
         "legendgroup": "Mode=Driving",
         "line": {
          "color": "#636efa"
         },
         "mode": "lines",
         "name": "Mode=Driving",
         "orientation": "v",
         "showlegend": false,
         "stackgroup": "1",
         "type": "scatter",
         "x": [
          2000,
          2001,
          2002,
          2003,
          2004,
          2005,
          2006,
          2007,
          2008,
          2009,
          2010,
          2011,
          2012,
          2013,
          2014,
          2015,
          2016,
          2017,
          2018,
          2019,
          2020,
          2021,
          2022,
          2023,
          2024,
          2025,
          2026,
          2027,
          2028,
          2029,
          2030,
          2031,
          2032,
          2033,
          2034,
          2035,
          2036,
          2037,
          2038,
          2039,
          2040,
          2041,
          2042,
          2043,
          2044,
          2045,
          2046,
          2047,
          2048,
          2049,
          2050
         ],
         "xaxis": "x",
         "y": [
          689.9259958154173,
          703.3820357199104,
          725.2017548130945,
          757.6667960557619,
          804.039705505599,
          869.0311427406763,
          959.5235018714434,
          1085.7051312613344,
          1262.8742075461603,
          1514.3521282904776,
          1876.2577563768605,
          2405.423704428989,
          3192.6181140901176,
          4384.657175295297,
          6221.17016483394,
          9094.85379644185,
          13647.81348357223,
          20919.845440266094,
          32563.987438381177,
          51133.502950368784,
          80411.47538025679,
          125686.92108115014,
          193778.0857683138,
          292497.14857914834,
          429231.62918201013,
          608520.6165351297,
          829011.5559609629,
          1080870.991980882,
          1345171.0861150345,
          1596430.828167687,
          1808135.3899007302,
          1959292.6469448241,
          2039214.1960297737,
          2048622.7010640495,
          1997273.6956641213,
          1899887.9344290008,
          1772321.938484648,
          1628988.8656478797,
          1481589.2985257045,
          1338765.4167496609,
          1206275.722249819,
          1087421.886420124,
          983573.8067801102,
          894700.4983014893,
          819847.9827704974,
          757530.6222326193,
          706024.6937826683,
          663570.0020382646,
          628495.1430411933,
          599285.2501145982,
          574609.9983080638
         ],
         "yaxis": "y"
        },
        {
         "hoverlabel": {
          "namelength": 0
         },
         "hovertemplate": "Mode=Driving<br>Vehicle=hev<br>Year=%{x}<br>VehicleCount=%{y}",
         "legendgroup": "Mode=Driving",
         "line": {
          "color": "#636efa"
         },
         "mode": "lines",
         "name": "Mode=Driving",
         "orientation": "v",
         "showlegend": false,
         "stackgroup": "1",
         "type": "scatter",
         "x": [
          2000,
          2001,
          2002,
          2003,
          2004,
          2005,
          2006,
          2007,
          2008,
          2009,
          2010,
          2011,
          2012,
          2013,
          2014,
          2015,
          2016,
          2017,
          2018,
          2019,
          2020,
          2021,
          2022,
          2023,
          2024,
          2025,
          2026,
          2027,
          2028,
          2029,
          2030,
          2031,
          2032,
          2033,
          2034,
          2035,
          2036,
          2037,
          2038,
          2039,
          2040,
          2041,
          2042,
          2043,
          2044,
          2045,
          2046,
          2047,
          2048,
          2049,
          2050
         ],
         "xaxis": "x",
         "y": [
          64757.249159012885,
          64842.693808832584,
          65282.42734789904,
          66106.98975853695,
          67356.40531204424,
          69083.41209264219,
          71358.4945045405,
          74277.26361292525,
          77970.7959260584,
          82619.50131719981,
          88470.89617130722,
          95861.16481182784,
          105239.40101949735,
          117191.68126912718,
          132459.2285682211,
          151940.55024222255,
          176661.3955983577,
          207689.25298632256,
          245963.31472651236,
          292012.0269218133,
          345548.624113384,
          404983.1084882488,
          466972.841537824,
          526233.6139632408,
          575885.6039748698,
          608520.6165351297,
          617896.9891238417,
          600782.0001373151,
          558200.9378529171,
          495453.9369812986,
          420765.19552705716,
          343086.883781036,
          269979.0639003139,
          206350.9288778785,
          154297.54068082495,
          113723.44621438615,
          83240.07685506492,
          60947.651240163286,
          44946.55790789705,
          33593.35424768431,
          25582.24544055585,
          19931.609629640097,
          15930.708120236977,
          13077.769356314348,
          11024.103197414406,
          9529.316551664322,
          8427.882756492521,
          7605.322209337472,
          6981.752963872362,
          6500.755203743599,
          6121.9150046772675
         ],
         "yaxis": "y"
        },
        {
         "hoverlabel": {
          "namelength": 0
         },
         "hovertemplate": "Mode=Transit<br>Vehicle=train<br>Year=%{x}<br>VehicleCount=%{y}",
         "legendgroup": "Mode=Transit",
         "line": {
          "color": "#EF553B"
         },
         "mode": "lines",
         "name": "Mode=Transit",
         "orientation": "v",
         "showlegend": true,
         "stackgroup": "1",
         "type": "scatter",
         "x": [
          2000,
          2001,
          2002,
          2003,
          2004,
          2005,
          2006,
          2007,
          2008,
          2009,
          2010,
          2011,
          2012,
          2013,
          2014,
          2015,
          2016,
          2017,
          2018,
          2019,
          2020,
          2021,
          2022,
          2023,
          2024,
          2025,
          2026,
          2027,
          2028,
          2029,
          2030,
          2031,
          2032,
          2033,
          2034,
          2035,
          2036,
          2037,
          2038,
          2039,
          2040,
          2041,
          2042,
          2043,
          2044,
          2045,
          2046,
          2047,
          2048,
          2049,
          2050
         ],
         "xaxis": "x",
         "y": [
          1292.2408915466754,
          1287.7219887466906,
          1284.1140679300045,
          1281.516353696194,
          1280.0281854271182,
          1279.7509223946051,
          1280.7903949922832,
          1283.2599522317316,
          1287.2843828033695,
          1293.004866319882,
          1300.5852450968075,
          1310.2199869372473,
          1322.1441881471164,
          1336.6462498078156,
          1354.0837801249356,
          1374.9034974712897,
          1399.6660903391153,
          1429.0769793988325,
          1464.024124924325,
          1505.6239216668646,
          1555.2758966930307,
          1614.7262717173537,
          1686.13879834438,
          1772.1683272325079,
          1876.0277937897222,
          2001.5315671417864,
          2153.0877727521834,
          2335.6000170597713,
          2554.2287406294085,
          2813.9620624248987,
          3118.9661330863732,
          3471.7372137947873,
          3872.163254430145,
          4316.701600207924,
          4797.944761562813,
          5304.818306167459,
          5823.503294579745,
          6338.940263839995,
          6836.559522258681,
          7303.807814642866,
          7731.141027580804,
          8112.360805702788,
          8444.38082410303,
          8726.627377930716,
          8960.297561055184,
          9147.646300438728,
          9291.399233901742,
          9394.324025374424,
          9458.951404839827,
          9487.416887507947,
          9481.390443303857
         ],
         "yaxis": "y"
        },
        {
         "hoverlabel": {
          "namelength": 0
         },
         "hovertemplate": "Mode=Transit<br>Vehicle=metro/bus<br>Year=%{x}<br>VehicleCount=%{y}",
         "legendgroup": "Mode=Transit",
         "line": {
          "color": "#EF553B"
         },
         "mode": "lines",
         "name": "Mode=Transit",
         "orientation": "v",
         "showlegend": false,
         "stackgroup": "1",
         "type": "scatter",
         "x": [
          2000,
          2001,
          2002,
          2003,
          2004,
          2005,
          2006,
          2007,
          2008,
          2009,
          2010,
          2011,
          2012,
          2013,
          2014,
          2015,
          2016,
          2017,
          2018,
          2019,
          2020,
          2021,
          2022,
          2023,
          2024,
          2025,
          2026,
          2027,
          2028,
          2029,
          2030,
          2031,
          2032,
          2033,
          2034,
          2035,
          2036,
          2037,
          2038,
          2039,
          2040,
          2041,
          2042,
          2043,
          2044,
          2045,
          2046,
          2047,
          2048,
          2049,
          2050
         ],
         "xaxis": "x",
         "y": [
          8809.548708242392,
          8778.742149972413,
          8754.145997368054,
          8736.436690827339,
          8726.291453249542,
          8724.401277659297,
          8731.487637903761,
          8748.32326424172,
          8775.758874255078,
          8814.756926787757,
          8866.434378336533,
          8932.11696746518,
          9013.407408011057,
          9112.271806596178,
          9231.148073153769,
          9373.081605248564,
          9541.894764960904,
          9742.396591995783,
          9980.640546923085,
          10264.237388699043,
          10602.728064326795,
          11008.017030127283,
          11494.855154361587,
          12081.341257722705,
          12789.378772580128,
          13644.971264387055,
          14678.170092945378,
          15922.404443209522,
          17412.854406453087,
          19183.525311915862,
          21262.818912885617,
          23667.752883548346,
          26397.563348533473,
          29428.099091078795,
          32708.86129122105,
          36164.35260814539,
          39700.365668514576,
          43214.23612133099,
          46606.638516175444,
          49791.99398474822,
          52705.237775943104,
          55304.11405812865,
          57567.58253629113,
          59491.732112383346,
          61084.72369264132,
          62361.92971190892,
          63341.93156572691,
          64043.59715276698,
          64484.17913017607,
          64678.23587122866,
          64637.15200358391
         ],
         "yaxis": "y"
        },
        {
         "hoverlabel": {
          "namelength": 0
         },
         "hovertemplate": "Mode=Cycling<br>Vehicle=ebike<br>Year=%{x}<br>VehicleCount=%{y}",
         "legendgroup": "Mode=Cycling",
         "line": {
          "color": "#00cc96"
         },
         "mode": "lines",
         "name": "Mode=Cycling",
         "orientation": "v",
         "showlegend": true,
         "stackgroup": "1",
         "type": "scatter",
         "x": [
          2000,
          2001,
          2002,
          2003,
          2004,
          2005,
          2006,
          2007,
          2008,
          2009,
          2010,
          2011,
          2012,
          2013,
          2014,
          2015,
          2016,
          2017,
          2018,
          2019,
          2020,
          2021,
          2022,
          2023,
          2024,
          2025,
          2026,
          2027,
          2028,
          2029,
          2030,
          2031,
          2032,
          2033,
          2034,
          2035,
          2036,
          2037,
          2038,
          2039,
          2040,
          2041,
          2042,
          2043,
          2044,
          2045,
          2046,
          2047,
          2048,
          2049,
          2050
         ],
         "xaxis": "x",
         "y": [
          18611.68842879016,
          18830.01781051806,
          19214.883175690644,
          19802.996196414766,
          20644.961651687758,
          21810.644993648646,
          23396.708906561624,
          25537.033185904354,
          28416.911529754863,
          32292.106866952778,
          37514.0433340776,
          44562.59897603815,
          54088.115724776166,
          66964.34525973086,
          84354.03710848995,
          107788.68082576348,
          139263.36404973853,
          181346.44889447754,
          237301.17825536398,
          311211.2519687148,
          408093.13393713965,
          533962.2832966641,
          695797.2433236818,
          901316.9666370233,
          1158464.6877838015,
          1474503.2864742447,
          1854714.4768994881,
          2300888.251971099,
          2810049.6479130806,
          3374028.566820883,
          3980294.8655577917,
          4613891.738802978,
          5259650.9663150925,
          5903727.469968289,
          6534035.438948039,
          7139935.894043871,
          7711877.305340189,
          8241457.632506305,
          8721895.582896613,
          9148581.705748014,
          9519371.181215541,
          9834468.365990909,
          10095961.250220377,
          10307173.907276243,
          10472011.783165043,
          10594417.74912236,
          10677988.243485048,
          10725746.876273144,
          10740045.476184512,
          10722553.787776968,
          10674303.530228449
         ],
         "yaxis": "y"
        },
        {
         "hoverlabel": {
          "namelength": 0
         },
         "hovertemplate": "Mode=Cycling<br>Vehicle=bike<br>Year=%{x}<br>VehicleCount=%{y}",
         "legendgroup": "Mode=Cycling",
         "line": {
          "color": "#00cc96"
         },
         "mode": "lines",
         "name": "Mode=Cycling",
         "orientation": "v",
         "showlegend": false,
         "stackgroup": "1",
         "type": "scatter",
         "x": [
          2000,
          2001,
          2002,
          2003,
          2004,
          2005,
          2006,
          2007,
          2008,
          2009,
          2010,
          2011,
          2012,
          2013,
          2014,
          2015,
          2016,
          2017,
          2018,
          2019,
          2020,
          2021,
          2022,
          2023,
          2024,
          2025,
          2026,
          2027,
          2028,
          2029,
          2030,
          2031,
          2032,
          2033,
          2034,
          2035,
          2036,
          2037,
          2038,
          2039,
          2040,
          2041,
          2042,
          2043,
          2044,
          2045,
          2046,
          2047,
          2048,
          2049,
          2050
         ],
         "xaxis": "x",
         "y": [
          17845795.008771747,
          17804808.416939255,
          17834950.813552078,
          17936096.02629212,
          18107364.58533266,
          18346719.51745513,
          18650590.375784907,
          19013546.331542775,
          19428048.041044883,
          19884309.611681204,
          20370303.648735724,
          20871938.563948236,
          21373426.12417202,
          21857844.50888091,
          22307877.889340542,
          22706689.630207382,
          23038860.51539521,
          23291297.808654673,
          23454008.333554227,
          23520628.426351923,
          23488625.73252074,
          23359140.22988155,
          23136512.258010406,
          22827652.63241884,
          22441523.66269373,
          21989061.849474214,
          21483805.474441312,
          20943196.839022674,
          20390011.159261268,
          19852847.14495874,
          19364543.05560228,
          18958120.70485784,
          18661174.301831603,
          18490642.90582951,
          18449858.941081677,
          18528721.405712936,
          18706578.896352567,
          18956620.362478092,
          19250429.437416248,
          19561675.18422,
          19868421.856939226,
          20154027.629062198,
          20406941.809788365,
          20619840.17179305,
          20788508.42504735,
          20910761.98114086,
          20985555.294065986,
          21012328.234618697,
          20990573.48556884,
          20919579.1795255,
          20798297.853769246
         ],
         "yaxis": "y"
        },
        {
         "hoverlabel": {
          "namelength": 0
         },
         "hovertemplate": "Mode=Cycling<br>Vehicle=emoped<br>Year=%{x}<br>VehicleCount=%{y}",
         "legendgroup": "Mode=Cycling",
         "line": {
          "color": "#00cc96"
         },
         "mode": "lines",
         "name": "Mode=Cycling",
         "orientation": "v",
         "showlegend": false,
         "stackgroup": "1",
         "type": "scatter",
         "x": [
          2000,
          2001,
          2002,
          2003,
          2004,
          2005,
          2006,
          2007,
          2008,
          2009,
          2010,
          2011,
          2012,
          2013,
          2014,
          2015,
          2016,
          2017,
          2018,
          2019,
          2020,
          2021,
          2022,
          2023,
          2024,
          2025,
          2026,
          2027,
          2028,
          2029,
          2030,
          2031,
          2032,
          2033,
          2034,
          2035,
          2036,
          2037,
          2038,
          2039,
          2040,
          2041,
          2042,
          2043,
          2044,
          2045,
          2046,
          2047,
          2048,
          2049,
          2050
         ],
         "xaxis": "x",
         "y": [
          969.175496671212,
          1002.3892027984776,
          1048.8604278207692,
          1113.1176014196074,
          1201.284022632537,
          1321.656877665818,
          1485.4986277895123,
          1708.1195331535273,
          2010.3599877506388,
          2420.622400850391,
          2977.659776616092,
          3734.408344314838,
          4763.263904651845,
          6163.36074665297,
          8070.636468292335,
          10671.784684426166,
          14223.646587312614,
          19080.21141509536,
          25730.216098611643,
          34849.3180634908,
          47371.7328108823,
          64586.37861744395,
          88260.24444238583,
          120783.40946909573,
          165310.05032868887,
          225830.8379441651,
          307052.67127910745,
          413900.78220262437,
          550455.406577223,
          718286.6120982973,
          914515.7108997008,
          1130394.5078089247,
          1351407.5982942812,
          1559505.692274634,
          1737088.9284482433,
          1871326.8542851827,
          1957048.8824643418,
          1997086.4705668055,
          2000213.0706039208,
          1977882.2691731756,
          1941194.1027888686,
          1898983.310011873,
          1857165.7853572029,
          1818980.9215856243,
          1785649.607244523,
          1757087.1420594994,
          1732487.266688006,
          1710727.3325209883,
          1690614.6555572953,
          1671016.9796372133,
          1650918.7430436348
         ],
         "yaxis": "y"
        },
        {
         "hoverlabel": {
          "namelength": 0
         },
         "hovertemplate": "Mode=Cycling<br>Vehicle=moped<br>Year=%{x}<br>VehicleCount=%{y}",
         "legendgroup": "Mode=Cycling",
         "line": {
          "color": "#00cc96"
         },
         "mode": "lines",
         "name": "Mode=Cycling",
         "orientation": "v",
         "showlegend": false,
         "stackgroup": "1",
         "type": "scatter",
         "x": [
          2000,
          2001,
          2002,
          2003,
          2004,
          2005,
          2006,
          2007,
          2008,
          2009,
          2010,
          2011,
          2012,
          2013,
          2014,
          2015,
          2016,
          2017,
          2018,
          2019,
          2020,
          2021,
          2022,
          2023,
          2024,
          2025,
          2026,
          2027,
          2028,
          2029,
          2030,
          2031,
          2032,
          2033,
          2034,
          2035,
          2036,
          2037,
          2038,
          2039,
          2040,
          2041,
          2042,
          2043,
          2044,
          2045,
          2046,
          2047,
          2048,
          2049,
          2050
         ],
         "xaxis": "x",
         "y": [
          861940.8600587714,
          858513.7821505051,
          855606.3015637656,
          853264.6150832355,
          851530.358890901,
          850440.8019800578,
          850029.1544777952,
          850324.967723176,
          851354.7406182295,
          853142.7486751598,
          855712.1763679371,
          859086.6498970734,
          863292.1972943706,
          868359.7582127468,
          874328.1595749327,
          881247.3595749025,
          889181.4393891459,
          898210.0768635963,
          908426.1632638841,
          919925.2926270133,
          932779.9670307061,
          946987.6113085961,
          962377.5143187362,
          978460.4758860618,
          994212.3474769199,
          1007808.4497349993,
          1016380.2509662186,
          1015944.6447821689,
          1001719.0732795829,
          968995.1993022333,
          914515.7108997008,
          837927.0010143209,
          742613.0127832808,
          635350.192746294,
          524781.7391397969,
          419329.0021350427,
          325403.1697322032,
          246524.94287132556,
          183440.7931624717,
          134895.37938202184,
          98584.58760011886,
          71938.74752468243,
          52602.26853936167,
          38639.66953595991,
          28563.85414395046,
          21278.08435179629,
          15992.02171663099,
          12142.236659132637,
          9328.062723988003,
          7263.830433166001,
          5744.775488047695
         ],
         "yaxis": "y"
        },
        {
         "hoverlabel": {
          "namelength": 0
         },
         "hovertemplate": "Mode=Walking<br>Vehicle=walk<br>Year=%{x}<br>VehicleCount=%{y}",
         "legendgroup": "Mode=Walking",
         "line": {
          "color": "#ab63fa"
         },
         "mode": "lines",
         "name": "Mode=Walking",
         "orientation": "v",
         "showlegend": true,
         "stackgroup": "1",
         "type": "scatter",
         "x": [
          2000,
          2001,
          2002,
          2003,
          2004,
          2005,
          2006,
          2007,
          2008,
          2009,
          2010,
          2011,
          2012,
          2013,
          2014,
          2015,
          2016,
          2017,
          2018,
          2019,
          2020,
          2021,
          2022,
          2023,
          2024,
          2025,
          2026,
          2027,
          2028,
          2029,
          2030,
          2031,
          2032,
          2033,
          2034,
          2035,
          2036,
          2037,
          2038,
          2039,
          2040,
          2041,
          2042,
          2043,
          2044,
          2045,
          2046,
          2047,
          2048,
          2049,
          2050
         ],
         "xaxis": "x",
         "y": [
          null,
          null,
          null,
          null,
          null,
          null,
          null,
          null,
          null,
          null,
          null,
          null,
          null,
          null,
          null,
          null,
          null,
          null,
          null,
          null,
          null,
          null,
          null,
          null,
          null,
          null,
          null,
          null,
          null,
          null,
          null,
          null,
          null,
          null,
          null,
          null,
          null,
          null,
          null,
          null,
          null,
          null,
          null,
          null,
          null,
          null,
          null,
          null,
          null,
          null,
          null
         ],
         "yaxis": "y"
        }
       ],
       "layout": {
        "height": 600,
        "legend": {
         "font": {
          "size": 10
         },
         "tracegroupgap": 0,
         "traceorder": "reversed",
         "y": 0.5
        },
        "margin": {
         "t": 60
        },
        "template": {
         "data": {
          "bar": [
           {
            "error_x": {
             "color": "#2a3f5f"
            },
            "error_y": {
             "color": "#2a3f5f"
            },
            "marker": {
             "line": {
              "color": "#E5ECF6",
              "width": 0.5
             }
            },
            "type": "bar"
           }
          ],
          "barpolar": [
           {
            "marker": {
             "line": {
              "color": "#E5ECF6",
              "width": 0.5
             }
            },
            "type": "barpolar"
           }
          ],
          "carpet": [
           {
            "aaxis": {
             "endlinecolor": "#2a3f5f",
             "gridcolor": "white",
             "linecolor": "white",
             "minorgridcolor": "white",
             "startlinecolor": "#2a3f5f"
            },
            "baxis": {
             "endlinecolor": "#2a3f5f",
             "gridcolor": "white",
             "linecolor": "white",
             "minorgridcolor": "white",
             "startlinecolor": "#2a3f5f"
            },
            "type": "carpet"
           }
          ],
          "choropleth": [
           {
            "colorbar": {
             "outlinewidth": 0,
             "ticks": ""
            },
            "type": "choropleth"
           }
          ],
          "contour": [
           {
            "colorbar": {
             "outlinewidth": 0,
             "ticks": ""
            },
            "colorscale": [
             [
              0,
              "#0d0887"
             ],
             [
              0.1111111111111111,
              "#46039f"
             ],
             [
              0.2222222222222222,
              "#7201a8"
             ],
             [
              0.3333333333333333,
              "#9c179e"
             ],
             [
              0.4444444444444444,
              "#bd3786"
             ],
             [
              0.5555555555555556,
              "#d8576b"
             ],
             [
              0.6666666666666666,
              "#ed7953"
             ],
             [
              0.7777777777777778,
              "#fb9f3a"
             ],
             [
              0.8888888888888888,
              "#fdca26"
             ],
             [
              1,
              "#f0f921"
             ]
            ],
            "type": "contour"
           }
          ],
          "contourcarpet": [
           {
            "colorbar": {
             "outlinewidth": 0,
             "ticks": ""
            },
            "type": "contourcarpet"
           }
          ],
          "heatmap": [
           {
            "colorbar": {
             "outlinewidth": 0,
             "ticks": ""
            },
            "colorscale": [
             [
              0,
              "#0d0887"
             ],
             [
              0.1111111111111111,
              "#46039f"
             ],
             [
              0.2222222222222222,
              "#7201a8"
             ],
             [
              0.3333333333333333,
              "#9c179e"
             ],
             [
              0.4444444444444444,
              "#bd3786"
             ],
             [
              0.5555555555555556,
              "#d8576b"
             ],
             [
              0.6666666666666666,
              "#ed7953"
             ],
             [
              0.7777777777777778,
              "#fb9f3a"
             ],
             [
              0.8888888888888888,
              "#fdca26"
             ],
             [
              1,
              "#f0f921"
             ]
            ],
            "type": "heatmap"
           }
          ],
          "heatmapgl": [
           {
            "colorbar": {
             "outlinewidth": 0,
             "ticks": ""
            },
            "colorscale": [
             [
              0,
              "#0d0887"
             ],
             [
              0.1111111111111111,
              "#46039f"
             ],
             [
              0.2222222222222222,
              "#7201a8"
             ],
             [
              0.3333333333333333,
              "#9c179e"
             ],
             [
              0.4444444444444444,
              "#bd3786"
             ],
             [
              0.5555555555555556,
              "#d8576b"
             ],
             [
              0.6666666666666666,
              "#ed7953"
             ],
             [
              0.7777777777777778,
              "#fb9f3a"
             ],
             [
              0.8888888888888888,
              "#fdca26"
             ],
             [
              1,
              "#f0f921"
             ]
            ],
            "type": "heatmapgl"
           }
          ],
          "histogram": [
           {
            "marker": {
             "colorbar": {
              "outlinewidth": 0,
              "ticks": ""
             }
            },
            "type": "histogram"
           }
          ],
          "histogram2d": [
           {
            "colorbar": {
             "outlinewidth": 0,
             "ticks": ""
            },
            "colorscale": [
             [
              0,
              "#0d0887"
             ],
             [
              0.1111111111111111,
              "#46039f"
             ],
             [
              0.2222222222222222,
              "#7201a8"
             ],
             [
              0.3333333333333333,
              "#9c179e"
             ],
             [
              0.4444444444444444,
              "#bd3786"
             ],
             [
              0.5555555555555556,
              "#d8576b"
             ],
             [
              0.6666666666666666,
              "#ed7953"
             ],
             [
              0.7777777777777778,
              "#fb9f3a"
             ],
             [
              0.8888888888888888,
              "#fdca26"
             ],
             [
              1,
              "#f0f921"
             ]
            ],
            "type": "histogram2d"
           }
          ],
          "histogram2dcontour": [
           {
            "colorbar": {
             "outlinewidth": 0,
             "ticks": ""
            },
            "colorscale": [
             [
              0,
              "#0d0887"
             ],
             [
              0.1111111111111111,
              "#46039f"
             ],
             [
              0.2222222222222222,
              "#7201a8"
             ],
             [
              0.3333333333333333,
              "#9c179e"
             ],
             [
              0.4444444444444444,
              "#bd3786"
             ],
             [
              0.5555555555555556,
              "#d8576b"
             ],
             [
              0.6666666666666666,
              "#ed7953"
             ],
             [
              0.7777777777777778,
              "#fb9f3a"
             ],
             [
              0.8888888888888888,
              "#fdca26"
             ],
             [
              1,
              "#f0f921"
             ]
            ],
            "type": "histogram2dcontour"
           }
          ],
          "mesh3d": [
           {
            "colorbar": {
             "outlinewidth": 0,
             "ticks": ""
            },
            "type": "mesh3d"
           }
          ],
          "parcoords": [
           {
            "line": {
             "colorbar": {
              "outlinewidth": 0,
              "ticks": ""
             }
            },
            "type": "parcoords"
           }
          ],
          "scatter": [
           {
            "marker": {
             "colorbar": {
              "outlinewidth": 0,
              "ticks": ""
             }
            },
            "type": "scatter"
           }
          ],
          "scatter3d": [
           {
            "line": {
             "colorbar": {
              "outlinewidth": 0,
              "ticks": ""
             }
            },
            "marker": {
             "colorbar": {
              "outlinewidth": 0,
              "ticks": ""
             }
            },
            "type": "scatter3d"
           }
          ],
          "scattercarpet": [
           {
            "marker": {
             "colorbar": {
              "outlinewidth": 0,
              "ticks": ""
             }
            },
            "type": "scattercarpet"
           }
          ],
          "scattergeo": [
           {
            "marker": {
             "colorbar": {
              "outlinewidth": 0,
              "ticks": ""
             }
            },
            "type": "scattergeo"
           }
          ],
          "scattergl": [
           {
            "marker": {
             "colorbar": {
              "outlinewidth": 0,
              "ticks": ""
             }
            },
            "type": "scattergl"
           }
          ],
          "scattermapbox": [
           {
            "marker": {
             "colorbar": {
              "outlinewidth": 0,
              "ticks": ""
             }
            },
            "type": "scattermapbox"
           }
          ],
          "scatterpolar": [
           {
            "marker": {
             "colorbar": {
              "outlinewidth": 0,
              "ticks": ""
             }
            },
            "type": "scatterpolar"
           }
          ],
          "scatterpolargl": [
           {
            "marker": {
             "colorbar": {
              "outlinewidth": 0,
              "ticks": ""
             }
            },
            "type": "scatterpolargl"
           }
          ],
          "scatterternary": [
           {
            "marker": {
             "colorbar": {
              "outlinewidth": 0,
              "ticks": ""
             }
            },
            "type": "scatterternary"
           }
          ],
          "surface": [
           {
            "colorbar": {
             "outlinewidth": 0,
             "ticks": ""
            },
            "colorscale": [
             [
              0,
              "#0d0887"
             ],
             [
              0.1111111111111111,
              "#46039f"
             ],
             [
              0.2222222222222222,
              "#7201a8"
             ],
             [
              0.3333333333333333,
              "#9c179e"
             ],
             [
              0.4444444444444444,
              "#bd3786"
             ],
             [
              0.5555555555555556,
              "#d8576b"
             ],
             [
              0.6666666666666666,
              "#ed7953"
             ],
             [
              0.7777777777777778,
              "#fb9f3a"
             ],
             [
              0.8888888888888888,
              "#fdca26"
             ],
             [
              1,
              "#f0f921"
             ]
            ],
            "type": "surface"
           }
          ],
          "table": [
           {
            "cells": {
             "fill": {
              "color": "#EBF0F8"
             },
             "line": {
              "color": "white"
             }
            },
            "header": {
             "fill": {
              "color": "#C8D4E3"
             },
             "line": {
              "color": "white"
             }
            },
            "type": "table"
           }
          ]
         },
         "layout": {
          "annotationdefaults": {
           "arrowcolor": "#2a3f5f",
           "arrowhead": 0,
           "arrowwidth": 1
          },
          "colorscale": {
           "diverging": [
            [
             0,
             "#8e0152"
            ],
            [
             0.1,
             "#c51b7d"
            ],
            [
             0.2,
             "#de77ae"
            ],
            [
             0.3,
             "#f1b6da"
            ],
            [
             0.4,
             "#fde0ef"
            ],
            [
             0.5,
             "#f7f7f7"
            ],
            [
             0.6,
             "#e6f5d0"
            ],
            [
             0.7,
             "#b8e186"
            ],
            [
             0.8,
             "#7fbc41"
            ],
            [
             0.9,
             "#4d9221"
            ],
            [
             1,
             "#276419"
            ]
           ],
           "sequential": [
            [
             0,
             "#0d0887"
            ],
            [
             0.1111111111111111,
             "#46039f"
            ],
            [
             0.2222222222222222,
             "#7201a8"
            ],
            [
             0.3333333333333333,
             "#9c179e"
            ],
            [
             0.4444444444444444,
             "#bd3786"
            ],
            [
             0.5555555555555556,
             "#d8576b"
            ],
            [
             0.6666666666666666,
             "#ed7953"
            ],
            [
             0.7777777777777778,
             "#fb9f3a"
            ],
            [
             0.8888888888888888,
             "#fdca26"
            ],
            [
             1,
             "#f0f921"
            ]
           ],
           "sequentialminus": [
            [
             0,
             "#0d0887"
            ],
            [
             0.1111111111111111,
             "#46039f"
            ],
            [
             0.2222222222222222,
             "#7201a8"
            ],
            [
             0.3333333333333333,
             "#9c179e"
            ],
            [
             0.4444444444444444,
             "#bd3786"
            ],
            [
             0.5555555555555556,
             "#d8576b"
            ],
            [
             0.6666666666666666,
             "#ed7953"
            ],
            [
             0.7777777777777778,
             "#fb9f3a"
            ],
            [
             0.8888888888888888,
             "#fdca26"
            ],
            [
             1,
             "#f0f921"
            ]
           ]
          },
          "colorway": [
           "#636efa",
           "#EF553B",
           "#00cc96",
           "#ab63fa",
           "#FFA15A",
           "#19d3f3",
           "#FF6692",
           "#B6E880",
           "#FF97FF",
           "#FECB52"
          ],
          "font": {
           "color": "#2a3f5f"
          },
          "geo": {
           "bgcolor": "white",
           "lakecolor": "white",
           "landcolor": "#E5ECF6",
           "showlakes": true,
           "showland": true,
           "subunitcolor": "white"
          },
          "hoverlabel": {
           "align": "left"
          },
          "hovermode": "closest",
          "mapbox": {
           "style": "light"
          },
          "paper_bgcolor": "white",
          "plot_bgcolor": "#E5ECF6",
          "polar": {
           "angularaxis": {
            "gridcolor": "white",
            "linecolor": "white",
            "ticks": ""
           },
           "bgcolor": "#E5ECF6",
           "radialaxis": {
            "gridcolor": "white",
            "linecolor": "white",
            "ticks": ""
           }
          },
          "scene": {
           "xaxis": {
            "backgroundcolor": "#E5ECF6",
            "gridcolor": "white",
            "gridwidth": 2,
            "linecolor": "white",
            "showbackground": true,
            "ticks": "",
            "zerolinecolor": "white"
           },
           "yaxis": {
            "backgroundcolor": "#E5ECF6",
            "gridcolor": "white",
            "gridwidth": 2,
            "linecolor": "white",
            "showbackground": true,
            "ticks": "",
            "zerolinecolor": "white"
           },
           "zaxis": {
            "backgroundcolor": "#E5ECF6",
            "gridcolor": "white",
            "gridwidth": 2,
            "linecolor": "white",
            "showbackground": true,
            "ticks": "",
            "zerolinecolor": "white"
           }
          },
          "shapedefaults": {
           "line": {
            "color": "#2a3f5f"
           }
          },
          "ternary": {
           "aaxis": {
            "gridcolor": "white",
            "linecolor": "white",
            "ticks": ""
           },
           "baxis": {
            "gridcolor": "white",
            "linecolor": "white",
            "ticks": ""
           },
           "bgcolor": "#E5ECF6",
           "caxis": {
            "gridcolor": "white",
            "linecolor": "white",
            "ticks": ""
           }
          },
          "title": {
           "x": 0.05
          },
          "xaxis": {
           "automargin": true,
           "gridcolor": "white",
           "linecolor": "white",
           "ticks": "",
           "zerolinecolor": "white",
           "zerolinewidth": 2
          },
          "yaxis": {
           "automargin": true,
           "gridcolor": "white",
           "linecolor": "white",
           "ticks": "",
           "zerolinecolor": "white",
           "zerolinewidth": 2
          }
         }
        },
        "xaxis": {
         "anchor": "y",
         "domain": [
          0,
          0.98
         ],
         "title": {
          "text": "Year"
         }
        },
        "yaxis": {
         "anchor": "x",
         "domain": [
          0,
          1
         ],
         "title": {
          "text": "VehicleCount"
         }
        }
       }
      },
      "text/html": [
       "<div>\n",
       "        \n",
       "        \n",
       "            <div id=\"0bc93fd8-5954-4164-adff-7c5a92390a67\" class=\"plotly-graph-div\" style=\"height:600px; width:100%;\"></div>\n",
       "            <script type=\"text/javascript\">\n",
       "                require([\"plotly\"], function(Plotly) {\n",
       "                    window.PLOTLYENV=window.PLOTLYENV || {};\n",
       "                    \n",
       "                if (document.getElementById(\"0bc93fd8-5954-4164-adff-7c5a92390a67\")) {\n",
       "                    Plotly.newPlot(\n",
       "                        '0bc93fd8-5954-4164-adff-7c5a92390a67',\n",
       "                        [{\"hoverlabel\": {\"namelength\": 0}, \"hovertemplate\": \"Mode=Driving<br>Vehicle=ice<br>Year=%{x}<br>VehicleCount=%{y}\", \"legendgroup\": \"Mode=Driving\", \"line\": {\"color\": \"#636efa\"}, \"mode\": \"lines\", \"name\": \"Mode=Driving\", \"orientation\": \"v\", \"showlegend\": true, \"stackgroup\": \"1\", \"type\": \"scatter\", \"x\": [2000.0, 2001.0, 2002.0, 2003.0, 2004.0, 2005.0, 2006.0, 2007.0, 2008.0, 2009.0, 2010.0, 2011.0, 2012.0, 2013.0, 2014.0, 2015.0, 2016.0, 2017.0, 2018.0, 2019.0, 2020.0, 2021.0, 2022.0, 2023.0, 2024.0, 2025.0, 2026.0, 2027.0, 2028.0, 2029.0, 2030.0, 2031.0, 2032.0, 2033.0, 2034.0, 2035.0, 2036.0, 2037.0, 2038.0, 2039.0, 2040.0, 2041.0, 2042.0, 2043.0, 2044.0, 2045.0, 2046.0, 2047.0, 2048.0, 2049.0, 2050.0], \"xaxis\": \"x\", \"y\": [6412129.324656558, 6398622.12357273, 6412412.845513893, 6453402.324277042, 6521186.523547376, 6614891.796981997, 6733017.7398909675, 6873294.626407036, 7032565.566884343, 7206703.998791235, 7390577.587872791, 7578068.110922859, 7762152.766928543, 7935047.8638893, 8088407.490869356, 8213562.21649496, 8301775.764995749, 8344492.452319744, 8333550.705111835, 8261349.441797754, 8120979.535256438, 7906374.762666317, 7612590.199405206, 7236366.156384706, 6777144.8090236, 6238608.849962755, 5630543.692372335, 4970391.742208228, 4283463.827535284, 3600809.9395100144, 2954589.148125208, 2372201.749448367, 1871467.2572297428, 1458765.8447001157, 1130460.2347430196, 876342.0930847336, 683364.4978397285, 538476.7436236033, 430222.8888224578, 349325.67489147186, 288649.7362357204, 242879.67060641362, 208124.5787803, 181554.59489604383, 161107.60707223034, 145269.30164527625, 132915.1932238654, 123199.82758861055, 115479.76432155227, 109259.89959668522, 104155.64803030611], \"yaxis\": \"y\"}, {\"hoverlabel\": {\"namelength\": 0}, \"hovertemplate\": \"Mode=Driving<br>Vehicle=ev<br>Year=%{x}<br>VehicleCount=%{y}\", \"legendgroup\": \"Mode=Driving\", \"line\": {\"color\": \"#636efa\"}, \"mode\": \"lines\", \"name\": \"Mode=Driving\", \"orientation\": \"v\", \"showlegend\": false, \"stackgroup\": \"1\", \"type\": \"scatter\", \"x\": [2000.0, 2001.0, 2002.0, 2003.0, 2004.0, 2005.0, 2006.0, 2007.0, 2008.0, 2009.0, 2010.0, 2011.0, 2012.0, 2013.0, 2014.0, 2015.0, 2016.0, 2017.0, 2018.0, 2019.0, 2020.0, 2021.0, 2022.0, 2023.0, 2024.0, 2025.0, 2026.0, 2027.0, 2028.0, 2029.0, 2030.0, 2031.0, 2032.0, 2033.0, 2034.0, 2035.0, 2036.0, 2037.0, 2038.0, 2039.0, 2040.0, 2041.0, 2042.0, 2043.0, 2044.0, 2045.0, 2046.0, 2047.0, 2048.0, 2049.0, 2050.0], \"xaxis\": \"x\", \"y\": [689.9259958154173, 703.3820357199104, 725.2017548130945, 757.6667960557619, 804.039705505599, 869.0311427406763, 959.5235018714434, 1085.7051312613344, 1262.8742075461603, 1514.3521282904776, 1876.2577563768605, 2405.423704428989, 3192.6181140901176, 4384.657175295297, 6221.17016483394, 9094.85379644185, 13647.81348357223, 20919.845440266094, 32563.987438381177, 51133.502950368784, 80411.47538025679, 125686.92108115014, 193778.0857683138, 292497.14857914834, 429231.62918201013, 608520.6165351297, 829011.5559609629, 1080870.991980882, 1345171.0861150345, 1596430.828167687, 1808135.3899007302, 1959292.6469448241, 2039214.1960297737, 2048622.7010640495, 1997273.6956641213, 1899887.9344290008, 1772321.938484648, 1628988.8656478797, 1481589.2985257045, 1338765.4167496609, 1206275.722249819, 1087421.886420124, 983573.8067801102, 894700.4983014893, 819847.9827704974, 757530.6222326193, 706024.6937826683, 663570.0020382646, 628495.1430411933, 599285.2501145982, 574609.9983080638], \"yaxis\": \"y\"}, {\"hoverlabel\": {\"namelength\": 0}, \"hovertemplate\": \"Mode=Driving<br>Vehicle=hev<br>Year=%{x}<br>VehicleCount=%{y}\", \"legendgroup\": \"Mode=Driving\", \"line\": {\"color\": \"#636efa\"}, \"mode\": \"lines\", \"name\": \"Mode=Driving\", \"orientation\": \"v\", \"showlegend\": false, \"stackgroup\": \"1\", \"type\": \"scatter\", \"x\": [2000.0, 2001.0, 2002.0, 2003.0, 2004.0, 2005.0, 2006.0, 2007.0, 2008.0, 2009.0, 2010.0, 2011.0, 2012.0, 2013.0, 2014.0, 2015.0, 2016.0, 2017.0, 2018.0, 2019.0, 2020.0, 2021.0, 2022.0, 2023.0, 2024.0, 2025.0, 2026.0, 2027.0, 2028.0, 2029.0, 2030.0, 2031.0, 2032.0, 2033.0, 2034.0, 2035.0, 2036.0, 2037.0, 2038.0, 2039.0, 2040.0, 2041.0, 2042.0, 2043.0, 2044.0, 2045.0, 2046.0, 2047.0, 2048.0, 2049.0, 2050.0], \"xaxis\": \"x\", \"y\": [64757.249159012885, 64842.693808832584, 65282.42734789904, 66106.98975853695, 67356.40531204424, 69083.41209264219, 71358.4945045405, 74277.26361292525, 77970.7959260584, 82619.50131719981, 88470.89617130722, 95861.16481182784, 105239.40101949735, 117191.68126912718, 132459.2285682211, 151940.55024222255, 176661.3955983577, 207689.25298632256, 245963.31472651236, 292012.0269218133, 345548.624113384, 404983.1084882488, 466972.841537824, 526233.6139632408, 575885.6039748698, 608520.6165351297, 617896.9891238417, 600782.0001373151, 558200.9378529171, 495453.9369812986, 420765.19552705716, 343086.883781036, 269979.0639003139, 206350.9288778785, 154297.54068082495, 113723.44621438615, 83240.07685506492, 60947.651240163286, 44946.55790789705, 33593.35424768431, 25582.24544055585, 19931.609629640097, 15930.708120236977, 13077.769356314348, 11024.103197414406, 9529.316551664322, 8427.882756492521, 7605.322209337472, 6981.752963872362, 6500.755203743599, 6121.9150046772675], \"yaxis\": \"y\"}, {\"hoverlabel\": {\"namelength\": 0}, \"hovertemplate\": \"Mode=Transit<br>Vehicle=train<br>Year=%{x}<br>VehicleCount=%{y}\", \"legendgroup\": \"Mode=Transit\", \"line\": {\"color\": \"#EF553B\"}, \"mode\": \"lines\", \"name\": \"Mode=Transit\", \"orientation\": \"v\", \"showlegend\": true, \"stackgroup\": \"1\", \"type\": \"scatter\", \"x\": [2000.0, 2001.0, 2002.0, 2003.0, 2004.0, 2005.0, 2006.0, 2007.0, 2008.0, 2009.0, 2010.0, 2011.0, 2012.0, 2013.0, 2014.0, 2015.0, 2016.0, 2017.0, 2018.0, 2019.0, 2020.0, 2021.0, 2022.0, 2023.0, 2024.0, 2025.0, 2026.0, 2027.0, 2028.0, 2029.0, 2030.0, 2031.0, 2032.0, 2033.0, 2034.0, 2035.0, 2036.0, 2037.0, 2038.0, 2039.0, 2040.0, 2041.0, 2042.0, 2043.0, 2044.0, 2045.0, 2046.0, 2047.0, 2048.0, 2049.0, 2050.0], \"xaxis\": \"x\", \"y\": [1292.2408915466754, 1287.7219887466906, 1284.1140679300045, 1281.516353696194, 1280.0281854271182, 1279.7509223946051, 1280.7903949922832, 1283.2599522317316, 1287.2843828033695, 1293.004866319882, 1300.5852450968075, 1310.2199869372473, 1322.1441881471164, 1336.6462498078156, 1354.0837801249356, 1374.9034974712897, 1399.6660903391153, 1429.0769793988325, 1464.024124924325, 1505.6239216668646, 1555.2758966930307, 1614.7262717173537, 1686.13879834438, 1772.1683272325079, 1876.0277937897222, 2001.5315671417864, 2153.0877727521834, 2335.6000170597713, 2554.2287406294085, 2813.9620624248987, 3118.9661330863732, 3471.7372137947873, 3872.163254430145, 4316.701600207924, 4797.944761562813, 5304.818306167459, 5823.503294579745, 6338.940263839995, 6836.559522258681, 7303.807814642866, 7731.141027580804, 8112.360805702788, 8444.38082410303, 8726.627377930716, 8960.297561055184, 9147.646300438728, 9291.399233901742, 9394.324025374424, 9458.951404839827, 9487.416887507947, 9481.390443303857], \"yaxis\": \"y\"}, {\"hoverlabel\": {\"namelength\": 0}, \"hovertemplate\": \"Mode=Transit<br>Vehicle=metro/bus<br>Year=%{x}<br>VehicleCount=%{y}\", \"legendgroup\": \"Mode=Transit\", \"line\": {\"color\": \"#EF553B\"}, \"mode\": \"lines\", \"name\": \"Mode=Transit\", \"orientation\": \"v\", \"showlegend\": false, \"stackgroup\": \"1\", \"type\": \"scatter\", \"x\": [2000.0, 2001.0, 2002.0, 2003.0, 2004.0, 2005.0, 2006.0, 2007.0, 2008.0, 2009.0, 2010.0, 2011.0, 2012.0, 2013.0, 2014.0, 2015.0, 2016.0, 2017.0, 2018.0, 2019.0, 2020.0, 2021.0, 2022.0, 2023.0, 2024.0, 2025.0, 2026.0, 2027.0, 2028.0, 2029.0, 2030.0, 2031.0, 2032.0, 2033.0, 2034.0, 2035.0, 2036.0, 2037.0, 2038.0, 2039.0, 2040.0, 2041.0, 2042.0, 2043.0, 2044.0, 2045.0, 2046.0, 2047.0, 2048.0, 2049.0, 2050.0], \"xaxis\": \"x\", \"y\": [8809.548708242392, 8778.742149972413, 8754.145997368054, 8736.436690827339, 8726.291453249542, 8724.401277659297, 8731.487637903761, 8748.32326424172, 8775.758874255078, 8814.756926787757, 8866.434378336533, 8932.11696746518, 9013.407408011057, 9112.271806596178, 9231.148073153769, 9373.081605248564, 9541.894764960904, 9742.396591995783, 9980.640546923085, 10264.237388699043, 10602.728064326795, 11008.017030127283, 11494.855154361587, 12081.341257722705, 12789.378772580128, 13644.971264387055, 14678.170092945378, 15922.404443209522, 17412.854406453087, 19183.525311915862, 21262.818912885617, 23667.752883548346, 26397.563348533473, 29428.099091078795, 32708.86129122105, 36164.35260814539, 39700.365668514576, 43214.23612133099, 46606.638516175444, 49791.99398474822, 52705.237775943104, 55304.11405812865, 57567.58253629113, 59491.732112383346, 61084.72369264132, 62361.92971190892, 63341.93156572691, 64043.59715276698, 64484.17913017607, 64678.23587122866, 64637.15200358391], \"yaxis\": \"y\"}, {\"hoverlabel\": {\"namelength\": 0}, \"hovertemplate\": \"Mode=Cycling<br>Vehicle=ebike<br>Year=%{x}<br>VehicleCount=%{y}\", \"legendgroup\": \"Mode=Cycling\", \"line\": {\"color\": \"#00cc96\"}, \"mode\": \"lines\", \"name\": \"Mode=Cycling\", \"orientation\": \"v\", \"showlegend\": true, \"stackgroup\": \"1\", \"type\": \"scatter\", \"x\": [2000.0, 2001.0, 2002.0, 2003.0, 2004.0, 2005.0, 2006.0, 2007.0, 2008.0, 2009.0, 2010.0, 2011.0, 2012.0, 2013.0, 2014.0, 2015.0, 2016.0, 2017.0, 2018.0, 2019.0, 2020.0, 2021.0, 2022.0, 2023.0, 2024.0, 2025.0, 2026.0, 2027.0, 2028.0, 2029.0, 2030.0, 2031.0, 2032.0, 2033.0, 2034.0, 2035.0, 2036.0, 2037.0, 2038.0, 2039.0, 2040.0, 2041.0, 2042.0, 2043.0, 2044.0, 2045.0, 2046.0, 2047.0, 2048.0, 2049.0, 2050.0], \"xaxis\": \"x\", \"y\": [18611.68842879016, 18830.01781051806, 19214.883175690644, 19802.996196414766, 20644.961651687758, 21810.644993648646, 23396.708906561624, 25537.033185904354, 28416.911529754863, 32292.106866952778, 37514.0433340776, 44562.59897603815, 54088.115724776166, 66964.34525973086, 84354.03710848995, 107788.68082576348, 139263.36404973853, 181346.44889447754, 237301.17825536398, 311211.2519687148, 408093.13393713965, 533962.2832966641, 695797.2433236818, 901316.9666370233, 1158464.6877838015, 1474503.2864742447, 1854714.4768994881, 2300888.251971099, 2810049.6479130806, 3374028.566820883, 3980294.8655577917, 4613891.738802978, 5259650.9663150925, 5903727.469968289, 6534035.438948039, 7139935.894043871, 7711877.305340189, 8241457.632506305, 8721895.582896613, 9148581.705748014, 9519371.181215541, 9834468.365990909, 10095961.250220377, 10307173.907276243, 10472011.783165043, 10594417.74912236, 10677988.243485048, 10725746.876273144, 10740045.476184512, 10722553.787776968, 10674303.530228449], \"yaxis\": \"y\"}, {\"hoverlabel\": {\"namelength\": 0}, \"hovertemplate\": \"Mode=Cycling<br>Vehicle=bike<br>Year=%{x}<br>VehicleCount=%{y}\", \"legendgroup\": \"Mode=Cycling\", \"line\": {\"color\": \"#00cc96\"}, \"mode\": \"lines\", \"name\": \"Mode=Cycling\", \"orientation\": \"v\", \"showlegend\": false, \"stackgroup\": \"1\", \"type\": \"scatter\", \"x\": [2000.0, 2001.0, 2002.0, 2003.0, 2004.0, 2005.0, 2006.0, 2007.0, 2008.0, 2009.0, 2010.0, 2011.0, 2012.0, 2013.0, 2014.0, 2015.0, 2016.0, 2017.0, 2018.0, 2019.0, 2020.0, 2021.0, 2022.0, 2023.0, 2024.0, 2025.0, 2026.0, 2027.0, 2028.0, 2029.0, 2030.0, 2031.0, 2032.0, 2033.0, 2034.0, 2035.0, 2036.0, 2037.0, 2038.0, 2039.0, 2040.0, 2041.0, 2042.0, 2043.0, 2044.0, 2045.0, 2046.0, 2047.0, 2048.0, 2049.0, 2050.0], \"xaxis\": \"x\", \"y\": [17845795.008771747, 17804808.416939255, 17834950.813552078, 17936096.02629212, 18107364.58533266, 18346719.51745513, 18650590.375784907, 19013546.331542775, 19428048.041044883, 19884309.611681204, 20370303.648735724, 20871938.563948236, 21373426.12417202, 21857844.50888091, 22307877.889340542, 22706689.630207382, 23038860.51539521, 23291297.808654673, 23454008.333554227, 23520628.426351923, 23488625.73252074, 23359140.22988155, 23136512.258010406, 22827652.63241884, 22441523.66269373, 21989061.849474214, 21483805.474441312, 20943196.839022674, 20390011.159261268, 19852847.14495874, 19364543.05560228, 18958120.70485784, 18661174.301831603, 18490642.90582951, 18449858.941081677, 18528721.405712936, 18706578.896352567, 18956620.362478092, 19250429.437416248, 19561675.18422, 19868421.856939226, 20154027.629062198, 20406941.809788365, 20619840.17179305, 20788508.42504735, 20910761.98114086, 20985555.294065986, 21012328.234618697, 20990573.48556884, 20919579.1795255, 20798297.853769246], \"yaxis\": \"y\"}, {\"hoverlabel\": {\"namelength\": 0}, \"hovertemplate\": \"Mode=Cycling<br>Vehicle=emoped<br>Year=%{x}<br>VehicleCount=%{y}\", \"legendgroup\": \"Mode=Cycling\", \"line\": {\"color\": \"#00cc96\"}, \"mode\": \"lines\", \"name\": \"Mode=Cycling\", \"orientation\": \"v\", \"showlegend\": false, \"stackgroup\": \"1\", \"type\": \"scatter\", \"x\": [2000.0, 2001.0, 2002.0, 2003.0, 2004.0, 2005.0, 2006.0, 2007.0, 2008.0, 2009.0, 2010.0, 2011.0, 2012.0, 2013.0, 2014.0, 2015.0, 2016.0, 2017.0, 2018.0, 2019.0, 2020.0, 2021.0, 2022.0, 2023.0, 2024.0, 2025.0, 2026.0, 2027.0, 2028.0, 2029.0, 2030.0, 2031.0, 2032.0, 2033.0, 2034.0, 2035.0, 2036.0, 2037.0, 2038.0, 2039.0, 2040.0, 2041.0, 2042.0, 2043.0, 2044.0, 2045.0, 2046.0, 2047.0, 2048.0, 2049.0, 2050.0], \"xaxis\": \"x\", \"y\": [969.175496671212, 1002.3892027984776, 1048.8604278207692, 1113.1176014196074, 1201.284022632537, 1321.656877665818, 1485.4986277895123, 1708.1195331535273, 2010.3599877506388, 2420.622400850391, 2977.659776616092, 3734.408344314838, 4763.263904651845, 6163.36074665297, 8070.636468292335, 10671.784684426166, 14223.646587312614, 19080.21141509536, 25730.216098611643, 34849.3180634908, 47371.7328108823, 64586.37861744395, 88260.24444238583, 120783.40946909573, 165310.05032868887, 225830.8379441651, 307052.67127910745, 413900.78220262437, 550455.406577223, 718286.6120982973, 914515.7108997008, 1130394.5078089247, 1351407.5982942812, 1559505.692274634, 1737088.9284482433, 1871326.8542851827, 1957048.8824643418, 1997086.4705668055, 2000213.0706039208, 1977882.2691731756, 1941194.1027888686, 1898983.310011873, 1857165.7853572029, 1818980.9215856243, 1785649.607244523, 1757087.1420594994, 1732487.266688006, 1710727.3325209883, 1690614.6555572953, 1671016.9796372133, 1650918.7430436348], \"yaxis\": \"y\"}, {\"hoverlabel\": {\"namelength\": 0}, \"hovertemplate\": \"Mode=Cycling<br>Vehicle=moped<br>Year=%{x}<br>VehicleCount=%{y}\", \"legendgroup\": \"Mode=Cycling\", \"line\": {\"color\": \"#00cc96\"}, \"mode\": \"lines\", \"name\": \"Mode=Cycling\", \"orientation\": \"v\", \"showlegend\": false, \"stackgroup\": \"1\", \"type\": \"scatter\", \"x\": [2000.0, 2001.0, 2002.0, 2003.0, 2004.0, 2005.0, 2006.0, 2007.0, 2008.0, 2009.0, 2010.0, 2011.0, 2012.0, 2013.0, 2014.0, 2015.0, 2016.0, 2017.0, 2018.0, 2019.0, 2020.0, 2021.0, 2022.0, 2023.0, 2024.0, 2025.0, 2026.0, 2027.0, 2028.0, 2029.0, 2030.0, 2031.0, 2032.0, 2033.0, 2034.0, 2035.0, 2036.0, 2037.0, 2038.0, 2039.0, 2040.0, 2041.0, 2042.0, 2043.0, 2044.0, 2045.0, 2046.0, 2047.0, 2048.0, 2049.0, 2050.0], \"xaxis\": \"x\", \"y\": [861940.8600587714, 858513.7821505051, 855606.3015637656, 853264.6150832355, 851530.358890901, 850440.8019800578, 850029.1544777952, 850324.967723176, 851354.7406182295, 853142.7486751598, 855712.1763679371, 859086.6498970734, 863292.1972943706, 868359.7582127468, 874328.1595749327, 881247.3595749025, 889181.4393891459, 898210.0768635963, 908426.1632638841, 919925.2926270133, 932779.9670307061, 946987.6113085961, 962377.5143187362, 978460.4758860618, 994212.3474769199, 1007808.4497349993, 1016380.2509662186, 1015944.6447821689, 1001719.0732795829, 968995.1993022333, 914515.7108997008, 837927.0010143209, 742613.0127832808, 635350.192746294, 524781.7391397969, 419329.0021350427, 325403.1697322032, 246524.94287132556, 183440.7931624717, 134895.37938202184, 98584.58760011886, 71938.74752468243, 52602.26853936167, 38639.66953595991, 28563.85414395046, 21278.08435179629, 15992.02171663099, 12142.236659132637, 9328.062723988003, 7263.830433166001, 5744.775488047695], \"yaxis\": \"y\"}, {\"hoverlabel\": {\"namelength\": 0}, \"hovertemplate\": \"Mode=Walking<br>Vehicle=walk<br>Year=%{x}<br>VehicleCount=%{y}\", \"legendgroup\": \"Mode=Walking\", \"line\": {\"color\": \"#ab63fa\"}, \"mode\": \"lines\", \"name\": \"Mode=Walking\", \"orientation\": \"v\", \"showlegend\": true, \"stackgroup\": \"1\", \"type\": \"scatter\", \"x\": [2000.0, 2001.0, 2002.0, 2003.0, 2004.0, 2005.0, 2006.0, 2007.0, 2008.0, 2009.0, 2010.0, 2011.0, 2012.0, 2013.0, 2014.0, 2015.0, 2016.0, 2017.0, 2018.0, 2019.0, 2020.0, 2021.0, 2022.0, 2023.0, 2024.0, 2025.0, 2026.0, 2027.0, 2028.0, 2029.0, 2030.0, 2031.0, 2032.0, 2033.0, 2034.0, 2035.0, 2036.0, 2037.0, 2038.0, 2039.0, 2040.0, 2041.0, 2042.0, 2043.0, 2044.0, 2045.0, 2046.0, 2047.0, 2048.0, 2049.0, 2050.0], \"xaxis\": \"x\", \"y\": [null, null, null, null, null, null, null, null, null, null, null, null, null, null, null, null, null, null, null, null, null, null, null, null, null, null, null, null, null, null, null, null, null, null, null, null, null, null, null, null, null, null, null, null, null, null, null, null, null, null, null], \"yaxis\": \"y\"}],\n",
       "                        {\"height\": 600, \"legend\": {\"font\": {\"size\": 10}, \"tracegroupgap\": 0, \"traceorder\": \"reversed\", \"y\": 0.5}, \"margin\": {\"t\": 60}, \"template\": {\"data\": {\"bar\": [{\"error_x\": {\"color\": \"#2a3f5f\"}, \"error_y\": {\"color\": \"#2a3f5f\"}, \"marker\": {\"line\": {\"color\": \"#E5ECF6\", \"width\": 0.5}}, \"type\": \"bar\"}], \"barpolar\": [{\"marker\": {\"line\": {\"color\": \"#E5ECF6\", \"width\": 0.5}}, \"type\": \"barpolar\"}], \"carpet\": [{\"aaxis\": {\"endlinecolor\": \"#2a3f5f\", \"gridcolor\": \"white\", \"linecolor\": \"white\", \"minorgridcolor\": \"white\", \"startlinecolor\": \"#2a3f5f\"}, \"baxis\": {\"endlinecolor\": \"#2a3f5f\", \"gridcolor\": \"white\", \"linecolor\": \"white\", \"minorgridcolor\": \"white\", \"startlinecolor\": \"#2a3f5f\"}, \"type\": \"carpet\"}], \"choropleth\": [{\"colorbar\": {\"outlinewidth\": 0, \"ticks\": \"\"}, \"type\": \"choropleth\"}], \"contour\": [{\"colorbar\": {\"outlinewidth\": 0, \"ticks\": \"\"}, \"colorscale\": [[0.0, \"#0d0887\"], [0.1111111111111111, \"#46039f\"], [0.2222222222222222, \"#7201a8\"], [0.3333333333333333, \"#9c179e\"], [0.4444444444444444, \"#bd3786\"], [0.5555555555555556, \"#d8576b\"], [0.6666666666666666, \"#ed7953\"], [0.7777777777777778, \"#fb9f3a\"], [0.8888888888888888, \"#fdca26\"], [1.0, \"#f0f921\"]], \"type\": \"contour\"}], \"contourcarpet\": [{\"colorbar\": {\"outlinewidth\": 0, \"ticks\": \"\"}, \"type\": \"contourcarpet\"}], \"heatmap\": [{\"colorbar\": {\"outlinewidth\": 0, \"ticks\": \"\"}, \"colorscale\": [[0.0, \"#0d0887\"], [0.1111111111111111, \"#46039f\"], [0.2222222222222222, \"#7201a8\"], [0.3333333333333333, \"#9c179e\"], [0.4444444444444444, \"#bd3786\"], [0.5555555555555556, \"#d8576b\"], [0.6666666666666666, \"#ed7953\"], [0.7777777777777778, \"#fb9f3a\"], [0.8888888888888888, \"#fdca26\"], [1.0, \"#f0f921\"]], \"type\": \"heatmap\"}], \"heatmapgl\": [{\"colorbar\": {\"outlinewidth\": 0, \"ticks\": \"\"}, \"colorscale\": [[0.0, \"#0d0887\"], [0.1111111111111111, \"#46039f\"], [0.2222222222222222, \"#7201a8\"], [0.3333333333333333, \"#9c179e\"], [0.4444444444444444, \"#bd3786\"], [0.5555555555555556, \"#d8576b\"], [0.6666666666666666, \"#ed7953\"], [0.7777777777777778, \"#fb9f3a\"], [0.8888888888888888, \"#fdca26\"], [1.0, \"#f0f921\"]], \"type\": \"heatmapgl\"}], \"histogram\": [{\"marker\": {\"colorbar\": {\"outlinewidth\": 0, \"ticks\": \"\"}}, \"type\": \"histogram\"}], \"histogram2d\": [{\"colorbar\": {\"outlinewidth\": 0, \"ticks\": \"\"}, \"colorscale\": [[0.0, \"#0d0887\"], [0.1111111111111111, \"#46039f\"], [0.2222222222222222, \"#7201a8\"], [0.3333333333333333, \"#9c179e\"], [0.4444444444444444, \"#bd3786\"], [0.5555555555555556, \"#d8576b\"], [0.6666666666666666, \"#ed7953\"], [0.7777777777777778, \"#fb9f3a\"], [0.8888888888888888, \"#fdca26\"], [1.0, \"#f0f921\"]], \"type\": \"histogram2d\"}], \"histogram2dcontour\": [{\"colorbar\": {\"outlinewidth\": 0, \"ticks\": \"\"}, \"colorscale\": [[0.0, \"#0d0887\"], [0.1111111111111111, \"#46039f\"], [0.2222222222222222, \"#7201a8\"], [0.3333333333333333, \"#9c179e\"], [0.4444444444444444, \"#bd3786\"], [0.5555555555555556, \"#d8576b\"], [0.6666666666666666, \"#ed7953\"], [0.7777777777777778, \"#fb9f3a\"], [0.8888888888888888, \"#fdca26\"], [1.0, \"#f0f921\"]], \"type\": \"histogram2dcontour\"}], \"mesh3d\": [{\"colorbar\": {\"outlinewidth\": 0, \"ticks\": \"\"}, \"type\": \"mesh3d\"}], \"parcoords\": [{\"line\": {\"colorbar\": {\"outlinewidth\": 0, \"ticks\": \"\"}}, \"type\": \"parcoords\"}], \"scatter\": [{\"marker\": {\"colorbar\": {\"outlinewidth\": 0, \"ticks\": \"\"}}, \"type\": \"scatter\"}], \"scatter3d\": [{\"line\": {\"colorbar\": {\"outlinewidth\": 0, \"ticks\": \"\"}}, \"marker\": {\"colorbar\": {\"outlinewidth\": 0, \"ticks\": \"\"}}, \"type\": \"scatter3d\"}], \"scattercarpet\": [{\"marker\": {\"colorbar\": {\"outlinewidth\": 0, \"ticks\": \"\"}}, \"type\": \"scattercarpet\"}], \"scattergeo\": [{\"marker\": {\"colorbar\": {\"outlinewidth\": 0, \"ticks\": \"\"}}, \"type\": \"scattergeo\"}], \"scattergl\": [{\"marker\": {\"colorbar\": {\"outlinewidth\": 0, \"ticks\": \"\"}}, \"type\": \"scattergl\"}], \"scattermapbox\": [{\"marker\": {\"colorbar\": {\"outlinewidth\": 0, \"ticks\": \"\"}}, \"type\": \"scattermapbox\"}], \"scatterpolar\": [{\"marker\": {\"colorbar\": {\"outlinewidth\": 0, \"ticks\": \"\"}}, \"type\": \"scatterpolar\"}], \"scatterpolargl\": [{\"marker\": {\"colorbar\": {\"outlinewidth\": 0, \"ticks\": \"\"}}, \"type\": \"scatterpolargl\"}], \"scatterternary\": [{\"marker\": {\"colorbar\": {\"outlinewidth\": 0, \"ticks\": \"\"}}, \"type\": \"scatterternary\"}], \"surface\": [{\"colorbar\": {\"outlinewidth\": 0, \"ticks\": \"\"}, \"colorscale\": [[0.0, \"#0d0887\"], [0.1111111111111111, \"#46039f\"], [0.2222222222222222, \"#7201a8\"], [0.3333333333333333, \"#9c179e\"], [0.4444444444444444, \"#bd3786\"], [0.5555555555555556, \"#d8576b\"], [0.6666666666666666, \"#ed7953\"], [0.7777777777777778, \"#fb9f3a\"], [0.8888888888888888, \"#fdca26\"], [1.0, \"#f0f921\"]], \"type\": \"surface\"}], \"table\": [{\"cells\": {\"fill\": {\"color\": \"#EBF0F8\"}, \"line\": {\"color\": \"white\"}}, \"header\": {\"fill\": {\"color\": \"#C8D4E3\"}, \"line\": {\"color\": \"white\"}}, \"type\": \"table\"}]}, \"layout\": {\"annotationdefaults\": {\"arrowcolor\": \"#2a3f5f\", \"arrowhead\": 0, \"arrowwidth\": 1}, \"colorscale\": {\"diverging\": [[0, \"#8e0152\"], [0.1, \"#c51b7d\"], [0.2, \"#de77ae\"], [0.3, \"#f1b6da\"], [0.4, \"#fde0ef\"], [0.5, \"#f7f7f7\"], [0.6, \"#e6f5d0\"], [0.7, \"#b8e186\"], [0.8, \"#7fbc41\"], [0.9, \"#4d9221\"], [1, \"#276419\"]], \"sequential\": [[0.0, \"#0d0887\"], [0.1111111111111111, \"#46039f\"], [0.2222222222222222, \"#7201a8\"], [0.3333333333333333, \"#9c179e\"], [0.4444444444444444, \"#bd3786\"], [0.5555555555555556, \"#d8576b\"], [0.6666666666666666, \"#ed7953\"], [0.7777777777777778, \"#fb9f3a\"], [0.8888888888888888, \"#fdca26\"], [1.0, \"#f0f921\"]], \"sequentialminus\": [[0.0, \"#0d0887\"], [0.1111111111111111, \"#46039f\"], [0.2222222222222222, \"#7201a8\"], [0.3333333333333333, \"#9c179e\"], [0.4444444444444444, \"#bd3786\"], [0.5555555555555556, \"#d8576b\"], [0.6666666666666666, \"#ed7953\"], [0.7777777777777778, \"#fb9f3a\"], [0.8888888888888888, \"#fdca26\"], [1.0, \"#f0f921\"]]}, \"colorway\": [\"#636efa\", \"#EF553B\", \"#00cc96\", \"#ab63fa\", \"#FFA15A\", \"#19d3f3\", \"#FF6692\", \"#B6E880\", \"#FF97FF\", \"#FECB52\"], \"font\": {\"color\": \"#2a3f5f\"}, \"geo\": {\"bgcolor\": \"white\", \"lakecolor\": \"white\", \"landcolor\": \"#E5ECF6\", \"showlakes\": true, \"showland\": true, \"subunitcolor\": \"white\"}, \"hoverlabel\": {\"align\": \"left\"}, \"hovermode\": \"closest\", \"mapbox\": {\"style\": \"light\"}, \"paper_bgcolor\": \"white\", \"plot_bgcolor\": \"#E5ECF6\", \"polar\": {\"angularaxis\": {\"gridcolor\": \"white\", \"linecolor\": \"white\", \"ticks\": \"\"}, \"bgcolor\": \"#E5ECF6\", \"radialaxis\": {\"gridcolor\": \"white\", \"linecolor\": \"white\", \"ticks\": \"\"}}, \"scene\": {\"xaxis\": {\"backgroundcolor\": \"#E5ECF6\", \"gridcolor\": \"white\", \"gridwidth\": 2, \"linecolor\": \"white\", \"showbackground\": true, \"ticks\": \"\", \"zerolinecolor\": \"white\"}, \"yaxis\": {\"backgroundcolor\": \"#E5ECF6\", \"gridcolor\": \"white\", \"gridwidth\": 2, \"linecolor\": \"white\", \"showbackground\": true, \"ticks\": \"\", \"zerolinecolor\": \"white\"}, \"zaxis\": {\"backgroundcolor\": \"#E5ECF6\", \"gridcolor\": \"white\", \"gridwidth\": 2, \"linecolor\": \"white\", \"showbackground\": true, \"ticks\": \"\", \"zerolinecolor\": \"white\"}}, \"shapedefaults\": {\"line\": {\"color\": \"#2a3f5f\"}}, \"ternary\": {\"aaxis\": {\"gridcolor\": \"white\", \"linecolor\": \"white\", \"ticks\": \"\"}, \"baxis\": {\"gridcolor\": \"white\", \"linecolor\": \"white\", \"ticks\": \"\"}, \"bgcolor\": \"#E5ECF6\", \"caxis\": {\"gridcolor\": \"white\", \"linecolor\": \"white\", \"ticks\": \"\"}}, \"title\": {\"x\": 0.05}, \"xaxis\": {\"automargin\": true, \"gridcolor\": \"white\", \"linecolor\": \"white\", \"ticks\": \"\", \"zerolinecolor\": \"white\", \"zerolinewidth\": 2}, \"yaxis\": {\"automargin\": true, \"gridcolor\": \"white\", \"linecolor\": \"white\", \"ticks\": \"\", \"zerolinecolor\": \"white\", \"zerolinewidth\": 2}}}, \"xaxis\": {\"anchor\": \"y\", \"domain\": [0.0, 0.98], \"title\": {\"text\": \"Year\"}}, \"yaxis\": {\"anchor\": \"x\", \"domain\": [0.0, 1.0], \"title\": {\"text\": \"VehicleCount\"}}},\n",
       "                        {\"responsive\": true}\n",
       "                    ).then(function(){\n",
       "                            \n",
       "var gd = document.getElementById('0bc93fd8-5954-4164-adff-7c5a92390a67');\n",
       "var x = new MutationObserver(function (mutations, observer) {{\n",
       "        var display = window.getComputedStyle(gd).display;\n",
       "        if (!display || display === 'none') {{\n",
       "            console.log([gd, 'removed!']);\n",
       "            Plotly.purge(gd);\n",
       "            observer.disconnect();\n",
       "        }}\n",
       "}});\n",
       "\n",
       "// Listen for the removal of the full notebook cells\n",
       "var notebookContainer = gd.closest('#notebook-container');\n",
       "if (notebookContainer) {{\n",
       "    x.observe(notebookContainer, {childList: true});\n",
       "}}\n",
       "\n",
       "// Listen for the clearing of the current output cell\n",
       "var outputEl = gd.closest('.output');\n",
       "if (outputEl) {{\n",
       "    x.observe(outputEl, {childList: true});\n",
       "}}\n",
       "\n",
       "                        })\n",
       "                };\n",
       "                });\n",
       "            </script>\n",
       "        </div>"
      ]
     },
     "metadata": {},
     "output_type": "display_data"
    },
    {
     "data": {
      "text/plain": [
       "<Figure size 432x288 with 0 Axes>"
      ]
     },
     "metadata": {},
     "output_type": "display_data"
    }
   ],
   "source": [
    "###    R U N   F U N C T I O N S   P E R S O N   T R A N S P O R T \n",
    "\n",
    "### calculates shares per vehicle type\n",
    "dfHP, DHP = CarsFirst(x, PolyHP)\n",
    "# BinaryShifts(x, DHP, 'HoogPerson', figs=False)\n",
    "PlotService(x, dfHP, y='Share', scn='HoogPerson', figs=True)\n",
    "PlotService(x, dfHP, y='Person-kilometers', scn='HoogPerson', figs=True)\n",
    "\n",
    "### translates service demand to amount of vehicles needed\n",
    "dfHP, STVhp = ServiceToPersonVehicles(x, dfHP, figs=True)\n",
    "# BinaryShifts(x, STVhp, 'StV', figs=True)\n",
    "PlotService(x, dfHP, y='VehicleCount', scn='HoogPerson', figs=True)\n"
   ]
  },
  {
   "cell_type": "code",
   "execution_count": 6,
   "metadata": {
    "scrolled": false
   },
   "outputs": [
    {
     "name": "stdout",
     "output_type": "stream",
     "text": [
      "Road 0.305\n",
      "Rail 0.269\n",
      "Inland 0.427\n"
     ]
    },
    {
     "data": {
      "application/vnd.plotly.v1+json": {
       "config": {
        "plotlyServerURL": "https://plot.ly"
       },
       "data": [
        {
         "hoverlabel": {
          "namelength": 0
         },
         "hovertemplate": "Mode=Road<br>Vehicle=40tlorry<br>Year=%{x}<br>Share=%{y}",
         "legendgroup": "Mode=Road",
         "line": {
          "color": "#636efa"
         },
         "mode": "lines",
         "name": "Mode=Road",
         "orientation": "v",
         "showlegend": true,
         "stackgroup": "1",
         "type": "scatter",
         "x": [
          2000,
          2001,
          2002,
          2003,
          2004,
          2005,
          2006,
          2007,
          2008,
          2009,
          2010,
          2011,
          2012,
          2013,
          2014,
          2015,
          2016,
          2017,
          2018,
          2019,
          2020,
          2021,
          2022,
          2023,
          2024,
          2025,
          2026,
          2027,
          2028,
          2029,
          2030,
          2031,
          2032,
          2033,
          2034,
          2035,
          2036,
          2037,
          2038,
          2039,
          2040,
          2041,
          2042,
          2043,
          2044,
          2045,
          2046,
          2047,
          2048,
          2049,
          2050
         ],
         "xaxis": "x",
         "y": [
          0.12442651159241165,
          0.12448066680332029,
          0.12454293009138516,
          0.12461439318794612,
          0.12469625237796068,
          0.12478980288188159,
          0.12489642586281717,
          0.1250175653241509,
          0.1251546915258662,
          0.12530924688904127,
          0.12548256975490543,
          0.12567579094558784,
          0.1258896980326625,
          0.12612456283079104,
          0.12637992925462663,
          0.12665436173201955,
          0.126945159294406,
          0.127248047613503,
          0.1275568707033347,
          0.12786331532950107,
          0.1281567131431163,
          0.12842397593509775,
          0.12864972485796106,
          0.12881667090502316,
          0.1289062874114583,
          0.12889978346343586,
          0.12877934083272344,
          0.12852952216300542,
          0.1281387054416219,
          0.12760036340882522,
          0.126914,
          0.1260855870762242,
          0.1251274116973262,
          0.12405733430030379,
          0.12289755087565793,
          0.121673025744062,
          0.12040979975058849,
          0.11913337609486915,
          0.11786734826809989,
          0.11663237521089807,
          0.1154455439251989,
          0.11432010304026294,
          0.11326551056705345,
          0.11228771772992145,
          0.11138960621473899,
          0.11057150377090079,
          0.10983171760923882,
          0.10916704192547347,
          0.10857321195150664,
          0.10804529037966196,
          0.10757798212853122
         ],
         "yaxis": "y"
        },
        {
         "hoverlabel": {
          "namelength": 0
         },
         "hovertemplate": "Mode=Road<br>Vehicle=28tlorry<br>Year=%{x}<br>Share=%{y}",
         "legendgroup": "Mode=Road",
         "line": {
          "color": "#636efa"
         },
         "mode": "lines",
         "name": "Mode=Road",
         "orientation": "v",
         "showlegend": false,
         "stackgroup": "1",
         "type": "scatter",
         "x": [
          2000,
          2001,
          2002,
          2003,
          2004,
          2005,
          2006,
          2007,
          2008,
          2009,
          2010,
          2011,
          2012,
          2013,
          2014,
          2015,
          2016,
          2017,
          2018,
          2019,
          2020,
          2021,
          2022,
          2023,
          2024,
          2025,
          2026,
          2027,
          2028,
          2029,
          2030,
          2031,
          2032,
          2033,
          2034,
          2035,
          2036,
          2037,
          2038,
          2039,
          2040,
          2041,
          2042,
          2043,
          2044,
          2045,
          2046,
          2047,
          2048,
          2049,
          2050
         ],
         "xaxis": "x",
         "y": [
          0.43610970354196305,
          0.43550240953232516,
          0.4348000468855112,
          0.4339883227874841,
          0.43305099630138344,
          0.4319696813466434,
          0.4307236541238742,
          0.42928967579616073,
          0.4276418452154221,
          0.42575150128151945,
          0.42358720009162854,
          0.42111479818051506,
          0.418297679447267,
          0.4150971690738809,
          0.411473181719472,
          0.40738515189246244,
          0.4027932895437955,
          0.3976601910982293,
          0.3919528128122577,
          0.38564477753510146,
          0.3787189371378856,
          0.37117005316270313,
          0.36300739347822086,
          0.35425698319291404,
          0.34496320807287384,
          0.33518946446406167,
          0.32501759537202995,
          0.3145459546207108,
          0.30388609408734546,
          0.29315825204752927,
          0.28248599999999996,
          0.27199054210181817,
          0.2617852226437759,
          0.2519707667101839,
          0.24263166375626344,
          0.2338339304831475,
          0.2256242971429913,
          0.2180306890986827,
          0.21106375126767746,
          0.20471909919827685,
          0.19897997378245497,
          0.19382001326775025,
          0.18920591827823444,
          0.1850998560433852,
          0.18146151626800394,
          0.1782497855824416,
          0.1754240474401767,
          0.1729451401082782,
          0.17077601929896274,
          0.16888217697930105,
          0.16723186686360816
         ],
         "yaxis": "y"
        },
        {
         "hoverlabel": {
          "namelength": 0
         },
         "hovertemplate": "Mode=Road<br>Vehicle=16tlorry<br>Year=%{x}<br>Share=%{y}",
         "legendgroup": "Mode=Road",
         "line": {
          "color": "#636efa"
         },
         "mode": "lines",
         "name": "Mode=Road",
         "orientation": "v",
         "showlegend": false,
         "stackgroup": "1",
         "type": "scatter",
         "x": [
          2000,
          2001,
          2002,
          2003,
          2004,
          2005,
          2006,
          2007,
          2008,
          2009,
          2010,
          2011,
          2012,
          2013,
          2014,
          2015,
          2016,
          2017,
          2018,
          2019,
          2020,
          2021,
          2022,
          2023,
          2024,
          2025,
          2026,
          2027,
          2028,
          2029,
          2030,
          2031,
          2032,
          2033,
          2034,
          2035,
          2036,
          2037,
          2038,
          2039,
          2040,
          2041,
          2042,
          2043,
          2044,
          2045,
          2046,
          2047,
          2048,
          2049,
          2050
         ],
         "xaxis": "x",
         "y": [
          0.03605783265014144,
          0.036066795330479864,
          0.036077073198189,
          0.03608883369669415,
          0.036102256543091904,
          0.036117531099367155,
          0.03613485200448021,
          0.036154412478972456,
          0.03617639458419449,
          0.036200955587295074,
          0.03622820946842034,
          0.03625820253695545,
          0.03629088214240157,
          0.0363260576332576,
          0.03636335311278551,
          0.03640215225679401,
          0.036441536591158466,
          0.03648022025016859,
          0.036516486365256444,
          0.03654813276665604,
          0.036572437339027625,
          0.0365861556439054,
          0.03658556454851351,
          0.03656656464853049,
          0.036524850329419094,
          0.03645614881687425,
          0.03635651872524312,
          0.036222685740542555,
          0.03605238068264686,
          0.03584463660020778,
          0.0356,
          0.03532061876539529,
          0.03501018544728363,
          0.03467373646525345,
          0.03431733043808198,
          0.033947647028418744,
          0.033571557292669044,
          0.033195716059980326,
          0.03282621757952727,
          0.03246834084911867,
          0.03212639467231662,
          0.031803658060728233,
          0.03150240127386327,
          0.031223967264792415,
          0.03096889208789704,
          0.030737044765381544,
          0.030527770863700426,
          0.03034002842831885,
          0.030172509127199522,
          0.03002374097797862,
          0.029892171692906276
         ],
         "yaxis": "y"
        },
        {
         "hoverlabel": {
          "namelength": 0
         },
         "hovertemplate": "Mode=Rail<br>Vehicle=freighttrain<br>Year=%{x}<br>Share=%{y}",
         "legendgroup": "Mode=Rail",
         "line": {
          "color": "#EF553B"
         },
         "mode": "lines",
         "name": "Mode=Rail",
         "orientation": "v",
         "showlegend": true,
         "stackgroup": "1",
         "type": "scatter",
         "x": [
          2000,
          2001,
          2002,
          2003,
          2004,
          2005,
          2006,
          2007,
          2008,
          2009,
          2010,
          2011,
          2012,
          2013,
          2014,
          2015,
          2016,
          2017,
          2018,
          2019,
          2020,
          2021,
          2022,
          2023,
          2024,
          2025,
          2026,
          2027,
          2028,
          2029,
          2030,
          2031,
          2032,
          2033,
          2034,
          2035,
          2036,
          2037,
          2038,
          2039,
          2040,
          2041,
          2042,
          2043,
          2044,
          2045,
          2046,
          2047,
          2048,
          2049,
          2050
         ],
         "xaxis": "x",
         "y": [
          0.04565999217931432,
          0.04592722349010407,
          0.046237204811081685,
          0.046596679003968876,
          0.04701341792275782,
          0.047496366785060445,
          0.04805580400194034,
          0.04870351616078991,
          0.04945298683443634,
          0.05031959639154871,
          0.051320827852807026,
          0.052476470890189794,
          0.0538088121013752,
          0.05534279451354962,
          0.05710612274377985,
          0.05912928237039988,
          0.061445433125370874,
          0.0640901262232463,
          0.06710078788430811,
          0.07051590614911245,
          0.0743738596724026,
          0.0787113394450151,
          0.08356134174608794,
          0.08895075662793131,
          0.09489764173992958,
          0.10140835225871861,
          0.1084747832887556,
          0.11607205335617622,
          0.12415699374420379,
          0.132667786417189,
          0.141525,
          0.15063411218218878,
          0.1598894018138001,
          0.16917888565180275,
          0.17838981027713743,
          0.18741412786290723,
          0.19615340299993148,
          0.20452270823536528,
          0.2124532378256164,
          0.21989356098056034,
          0.22680960824535154,
          0.23318361035235152,
          0.23901227673207398,
          0.2443045142932864,
          0.2490789589514767,
          0.25336153921882737,
          0.25718322842669716,
          0.2605780815400211,
          0.2635816011940169,
          0.26622943862653825,
          0.268556408727575
         ],
         "yaxis": "y"
        },
        {
         "hoverlabel": {
          "namelength": 0
         },
         "hovertemplate": "Mode=Inland<br>Vehicle=xlbarge<br>Year=%{x}<br>Share=%{y}",
         "legendgroup": "Mode=Inland",
         "line": {
          "color": "#00cc96"
         },
         "mode": "lines",
         "name": "Mode=Inland",
         "orientation": "v",
         "showlegend": true,
         "stackgroup": "1",
         "type": "scatter",
         "x": [
          2000,
          2001,
          2002,
          2003,
          2004,
          2005,
          2006,
          2007,
          2008,
          2009,
          2010,
          2011,
          2012,
          2013,
          2014,
          2015,
          2016,
          2017,
          2018,
          2019,
          2020,
          2021,
          2022,
          2023,
          2024,
          2025,
          2026,
          2027,
          2028,
          2029,
          2030,
          2031,
          2032,
          2033,
          2034,
          2035,
          2036,
          2037,
          2038,
          2039,
          2040,
          2041,
          2042,
          2043,
          2044,
          2045,
          2046,
          2047,
          2048,
          2049,
          2050
         ],
         "xaxis": "x",
         "y": [
          0.04467680770763142,
          0.04501451763117558,
          0.04538811497020265,
          0.045801346592102936,
          0.04625832654200313,
          0.04676356382995648,
          0.04732198936097863,
          0.04793898067375107,
          0.04862038264145249,
          0.04937252163733723,
          0.050202209862638965,
          0.05111673557188895,
          0.052123833831405744,
          0.053231631271205615,
          0.05444855716059435,
          0.05578321225994204,
          0.0572441865893258,
          0.05883981793983495,
          0.060577885166507806,
          0.062465234609147116,
          0.06450734485497592,
          0.06670784463706728,
          0.0690680105140665,
          0.07158628379058349,
          0.07425785758550336,
          0.07707439183293233,
          0.0800239128110486,
          0.08309094179691517,
          0.0862568739527745,
          0.08950059599191734,
          0.09279929531250002,
          0.09612938214089697,
          0.09946742777008885,
          0.10279102140863766,
          0.10607946585986759,
          0.10931426350026628,
          0.11247938060924412,
          0.11556131118285172,
          0.11854898429177528,
          0.12143356899372808,
          0.12420822881399202,
          0.1268678675191422,
          0.1294088938768822,
          0.13182901928945936,
          0.13412709118580074,
          0.136302957909088,
          0.13835735739535773,
          0.14029182136660057,
          0.14210858799503234,
          0.1438105180638918,
          0.1454010118354781
         ],
         "yaxis": "y"
        },
        {
         "hoverlabel": {
          "namelength": 0
         },
         "hovertemplate": "Mode=Inland<br>Vehicle=lbarge<br>Year=%{x}<br>Share=%{y}",
         "legendgroup": "Mode=Inland",
         "line": {
          "color": "#00cc96"
         },
         "mode": "lines",
         "name": "Mode=Inland",
         "orientation": "v",
         "showlegend": false,
         "stackgroup": "1",
         "type": "scatter",
         "x": [
          2000,
          2001,
          2002,
          2003,
          2004,
          2005,
          2006,
          2007,
          2008,
          2009,
          2010,
          2011,
          2012,
          2013,
          2014,
          2015,
          2016,
          2017,
          2018,
          2019,
          2020,
          2021,
          2022,
          2023,
          2024,
          2025,
          2026,
          2027,
          2028,
          2029,
          2030,
          2031,
          2032,
          2033,
          2034,
          2035,
          2036,
          2037,
          2038,
          2039,
          2040,
          2041,
          2042,
          2043,
          2044,
          2045,
          2046,
          2047,
          2048,
          2049,
          2050
         ],
         "xaxis": "x",
         "y": [
          0.0644280158000784,
          0.06466177180705168,
          0.06492049730858919,
          0.06520674388475127,
          0.06552328769704607,
          0.06587313813751104,
          0.06625954288698085,
          0.06668598774629224,
          0.06715618913074045,
          0.06767407655854063,
          0.06824376183019125,
          0.06886949092104881,
          0.0695555739611885,
          0.07030628816965775,
          0.0711257484221535,
          0.07201774051358228,
          0.07298551345546707,
          0.07403152969957616,
          0.07515717637160707,
          0.07636244668080679,
          0.07764560860476158,
          0.0790028872003595,
          0.08042819623732309,
          0.08191296228109929,
          0.08344608721633219,
          0.08501409069951094,
          0.08660146007733642,
          0.08819121163136392,
          0.08976563606932526,
          0.09130716840977249,
          0.09279929531250002,
          0.09422739905078711,
          0.0955794417024482,
          0.09684641608975345,
          0.09802252663444637,
          0.09910510491405404,
          0.10009430166489722,
          0.10099262176795169,
          0.10180437802354422,
          0.10253513436305584,
          0.10319119386023572,
          0.1037791670305041,
          0.10430563641771019,
          0.10477691769515318,
          0.10519890689278096,
          0.10557699781301284,
          0.10591605220119563,
          0.10622040644972769,
          0.1064939012767252,
          0.1067399239636541,
          0.10696145573814812
         ],
         "yaxis": "y"
        },
        {
         "hoverlabel": {
          "namelength": 0
         },
         "hovertemplate": "Mode=Inland<br>Vehicle=mbarge<br>Year=%{x}<br>Share=%{y}",
         "legendgroup": "Mode=Inland",
         "line": {
          "color": "#00cc96"
         },
         "mode": "lines",
         "name": "Mode=Inland",
         "orientation": "v",
         "showlegend": false,
         "stackgroup": "1",
         "type": "scatter",
         "x": [
          2000,
          2001,
          2002,
          2003,
          2004,
          2005,
          2006,
          2007,
          2008,
          2009,
          2010,
          2011,
          2012,
          2013,
          2014,
          2015,
          2016,
          2017,
          2018,
          2019,
          2020,
          2021,
          2022,
          2023,
          2024,
          2025,
          2026,
          2027,
          2028,
          2029,
          2030,
          2031,
          2032,
          2033,
          2034,
          2035,
          2036,
          2037,
          2038,
          2039,
          2040,
          2041,
          2042,
          2043,
          2044,
          2045,
          2046,
          2047,
          2048,
          2049,
          2050
         ],
         "xaxis": "x",
         "y": [
          0.08508146723468489,
          0.08511733606981887,
          0.08515930226629886,
          0.0852082550311188,
          0.0852651824427246,
          0.08533117310709647,
          0.08540741400630705,
          0.08549518291268136,
          0.08559583331251819,
          0.08571076931073543,
          0.08584140750649735,
          0.08598912240276453,
          0.08615517164128579,
          0.08634059738912321,
          0.08654610074878503,
          0.08677188737862307,
          0.08701748488050458,
          0.08728153620424284,
          0.08756157848841947,
          0.08785382331717818,
          0.08815296182740287,
          0.08845202539244272,
          0.08874233804005903,
          0.08901359810260231,
          0.08925412146968954,
          0.08945126540569007,
          0.08959202989468572,
          0.08966380494439065,
          0.08965520200589558,
          0.08955688256535706,
          0.08936228437500002,
          0.08906815102997569,
          0.08867479469070207,
          0.0881860604312917,
          0.08760900534688579,
          0.08695334588526402,
          0.08623075424065144,
          0.08545409462976537,
          0.08463668345054048,
          0.0837916382840668,
          0.08293135588089162,
          0.08206713477017491,
          0.08120893821573172,
          0.08036527988218384,
          0.07954320775609178,
          0.0787483603381639,
          0.07798507114912165,
          0.07725650151729366,
          0.07656478615875449,
          0.07591118039158073,
          0.07529620151244981
         ],
         "yaxis": "y"
        },
        {
         "hoverlabel": {
          "namelength": 0
         },
         "hovertemplate": "Mode=Inland<br>Vehicle=sbarge<br>Year=%{x}<br>Share=%{y}",
         "legendgroup": "Mode=Inland",
         "line": {
          "color": "#00cc96"
         },
         "mode": "lines",
         "name": "Mode=Inland",
         "orientation": "v",
         "showlegend": false,
         "stackgroup": "1",
         "type": "scatter",
         "x": [
          2000,
          2001,
          2002,
          2003,
          2004,
          2005,
          2006,
          2007,
          2008,
          2009,
          2010,
          2011,
          2012,
          2013,
          2014,
          2015,
          2016,
          2017,
          2018,
          2019,
          2020,
          2021,
          2022,
          2023,
          2024,
          2025,
          2026,
          2027,
          2028,
          2029,
          2030,
          2031,
          2032,
          2033,
          2034,
          2035,
          2036,
          2037,
          2038,
          2039,
          2040,
          2041,
          2042,
          2043,
          2044,
          2045,
          2046,
          2047,
          2048,
          2049,
          2050
         ],
         "xaxis": "x",
         "y": [
          0.16355966929377488,
          0.16322927933572443,
          0.16287483046874224,
          0.1624954258159338,
          0.16209028017303242,
          0.16165874281248352,
          0.16120031775262159,
          0.1607146789072014,
          0.1602016767553697,
          0.15966133234398222,
          0.1590938136329111,
          0.15849938855104956,
          0.15787834884241372,
          0.15723089911853433,
          0.1565570068378032,
          0.15585621159617674,
          0.1551273965199717,
          0.15436853097119888,
          0.15357640220830887,
          0.15274636361249688,
          0.15187213742042752,
          0.15094571858340916,
          0.14995743057776806,
          0.14889618045131586,
          0.1477499461747941,
          0.14650650305877622,
          0.14515435899817705,
          0.14368382574689534,
          0.1420881140161866,
          0.1403643145592018,
          0.138514125,
          0.1365442076527138,
          0.13446611423457505,
          0.1322957789427732,
          0.13005264681165943,
          0.12775855458188026,
          0.12543650629902692,
          0.12310948293053375,
          0.12079939929321908,
          0.11852628212029531,
          0.11630770081955856,
          0.11415844595908574,
          0.11209042463845077,
          0.1101127278018182,
          0.10823182064320977,
          0.10645181060218395,
          0.10477475491451195,
          0.10320097866428649,
          0.1017293829978022,
          0.10035773061739355,
          0.09908290150130317
         ],
         "yaxis": "y"
        }
       ],
       "layout": {
        "height": 600,
        "legend": {
         "font": {
          "size": 10
         },
         "tracegroupgap": 0,
         "traceorder": "reversed",
         "y": 0.5
        },
        "margin": {
         "t": 60
        },
        "template": {
         "data": {
          "bar": [
           {
            "error_x": {
             "color": "#2a3f5f"
            },
            "error_y": {
             "color": "#2a3f5f"
            },
            "marker": {
             "line": {
              "color": "#E5ECF6",
              "width": 0.5
             }
            },
            "type": "bar"
           }
          ],
          "barpolar": [
           {
            "marker": {
             "line": {
              "color": "#E5ECF6",
              "width": 0.5
             }
            },
            "type": "barpolar"
           }
          ],
          "carpet": [
           {
            "aaxis": {
             "endlinecolor": "#2a3f5f",
             "gridcolor": "white",
             "linecolor": "white",
             "minorgridcolor": "white",
             "startlinecolor": "#2a3f5f"
            },
            "baxis": {
             "endlinecolor": "#2a3f5f",
             "gridcolor": "white",
             "linecolor": "white",
             "minorgridcolor": "white",
             "startlinecolor": "#2a3f5f"
            },
            "type": "carpet"
           }
          ],
          "choropleth": [
           {
            "colorbar": {
             "outlinewidth": 0,
             "ticks": ""
            },
            "type": "choropleth"
           }
          ],
          "contour": [
           {
            "colorbar": {
             "outlinewidth": 0,
             "ticks": ""
            },
            "colorscale": [
             [
              0,
              "#0d0887"
             ],
             [
              0.1111111111111111,
              "#46039f"
             ],
             [
              0.2222222222222222,
              "#7201a8"
             ],
             [
              0.3333333333333333,
              "#9c179e"
             ],
             [
              0.4444444444444444,
              "#bd3786"
             ],
             [
              0.5555555555555556,
              "#d8576b"
             ],
             [
              0.6666666666666666,
              "#ed7953"
             ],
             [
              0.7777777777777778,
              "#fb9f3a"
             ],
             [
              0.8888888888888888,
              "#fdca26"
             ],
             [
              1,
              "#f0f921"
             ]
            ],
            "type": "contour"
           }
          ],
          "contourcarpet": [
           {
            "colorbar": {
             "outlinewidth": 0,
             "ticks": ""
            },
            "type": "contourcarpet"
           }
          ],
          "heatmap": [
           {
            "colorbar": {
             "outlinewidth": 0,
             "ticks": ""
            },
            "colorscale": [
             [
              0,
              "#0d0887"
             ],
             [
              0.1111111111111111,
              "#46039f"
             ],
             [
              0.2222222222222222,
              "#7201a8"
             ],
             [
              0.3333333333333333,
              "#9c179e"
             ],
             [
              0.4444444444444444,
              "#bd3786"
             ],
             [
              0.5555555555555556,
              "#d8576b"
             ],
             [
              0.6666666666666666,
              "#ed7953"
             ],
             [
              0.7777777777777778,
              "#fb9f3a"
             ],
             [
              0.8888888888888888,
              "#fdca26"
             ],
             [
              1,
              "#f0f921"
             ]
            ],
            "type": "heatmap"
           }
          ],
          "heatmapgl": [
           {
            "colorbar": {
             "outlinewidth": 0,
             "ticks": ""
            },
            "colorscale": [
             [
              0,
              "#0d0887"
             ],
             [
              0.1111111111111111,
              "#46039f"
             ],
             [
              0.2222222222222222,
              "#7201a8"
             ],
             [
              0.3333333333333333,
              "#9c179e"
             ],
             [
              0.4444444444444444,
              "#bd3786"
             ],
             [
              0.5555555555555556,
              "#d8576b"
             ],
             [
              0.6666666666666666,
              "#ed7953"
             ],
             [
              0.7777777777777778,
              "#fb9f3a"
             ],
             [
              0.8888888888888888,
              "#fdca26"
             ],
             [
              1,
              "#f0f921"
             ]
            ],
            "type": "heatmapgl"
           }
          ],
          "histogram": [
           {
            "marker": {
             "colorbar": {
              "outlinewidth": 0,
              "ticks": ""
             }
            },
            "type": "histogram"
           }
          ],
          "histogram2d": [
           {
            "colorbar": {
             "outlinewidth": 0,
             "ticks": ""
            },
            "colorscale": [
             [
              0,
              "#0d0887"
             ],
             [
              0.1111111111111111,
              "#46039f"
             ],
             [
              0.2222222222222222,
              "#7201a8"
             ],
             [
              0.3333333333333333,
              "#9c179e"
             ],
             [
              0.4444444444444444,
              "#bd3786"
             ],
             [
              0.5555555555555556,
              "#d8576b"
             ],
             [
              0.6666666666666666,
              "#ed7953"
             ],
             [
              0.7777777777777778,
              "#fb9f3a"
             ],
             [
              0.8888888888888888,
              "#fdca26"
             ],
             [
              1,
              "#f0f921"
             ]
            ],
            "type": "histogram2d"
           }
          ],
          "histogram2dcontour": [
           {
            "colorbar": {
             "outlinewidth": 0,
             "ticks": ""
            },
            "colorscale": [
             [
              0,
              "#0d0887"
             ],
             [
              0.1111111111111111,
              "#46039f"
             ],
             [
              0.2222222222222222,
              "#7201a8"
             ],
             [
              0.3333333333333333,
              "#9c179e"
             ],
             [
              0.4444444444444444,
              "#bd3786"
             ],
             [
              0.5555555555555556,
              "#d8576b"
             ],
             [
              0.6666666666666666,
              "#ed7953"
             ],
             [
              0.7777777777777778,
              "#fb9f3a"
             ],
             [
              0.8888888888888888,
              "#fdca26"
             ],
             [
              1,
              "#f0f921"
             ]
            ],
            "type": "histogram2dcontour"
           }
          ],
          "mesh3d": [
           {
            "colorbar": {
             "outlinewidth": 0,
             "ticks": ""
            },
            "type": "mesh3d"
           }
          ],
          "parcoords": [
           {
            "line": {
             "colorbar": {
              "outlinewidth": 0,
              "ticks": ""
             }
            },
            "type": "parcoords"
           }
          ],
          "scatter": [
           {
            "marker": {
             "colorbar": {
              "outlinewidth": 0,
              "ticks": ""
             }
            },
            "type": "scatter"
           }
          ],
          "scatter3d": [
           {
            "line": {
             "colorbar": {
              "outlinewidth": 0,
              "ticks": ""
             }
            },
            "marker": {
             "colorbar": {
              "outlinewidth": 0,
              "ticks": ""
             }
            },
            "type": "scatter3d"
           }
          ],
          "scattercarpet": [
           {
            "marker": {
             "colorbar": {
              "outlinewidth": 0,
              "ticks": ""
             }
            },
            "type": "scattercarpet"
           }
          ],
          "scattergeo": [
           {
            "marker": {
             "colorbar": {
              "outlinewidth": 0,
              "ticks": ""
             }
            },
            "type": "scattergeo"
           }
          ],
          "scattergl": [
           {
            "marker": {
             "colorbar": {
              "outlinewidth": 0,
              "ticks": ""
             }
            },
            "type": "scattergl"
           }
          ],
          "scattermapbox": [
           {
            "marker": {
             "colorbar": {
              "outlinewidth": 0,
              "ticks": ""
             }
            },
            "type": "scattermapbox"
           }
          ],
          "scatterpolar": [
           {
            "marker": {
             "colorbar": {
              "outlinewidth": 0,
              "ticks": ""
             }
            },
            "type": "scatterpolar"
           }
          ],
          "scatterpolargl": [
           {
            "marker": {
             "colorbar": {
              "outlinewidth": 0,
              "ticks": ""
             }
            },
            "type": "scatterpolargl"
           }
          ],
          "scatterternary": [
           {
            "marker": {
             "colorbar": {
              "outlinewidth": 0,
              "ticks": ""
             }
            },
            "type": "scatterternary"
           }
          ],
          "surface": [
           {
            "colorbar": {
             "outlinewidth": 0,
             "ticks": ""
            },
            "colorscale": [
             [
              0,
              "#0d0887"
             ],
             [
              0.1111111111111111,
              "#46039f"
             ],
             [
              0.2222222222222222,
              "#7201a8"
             ],
             [
              0.3333333333333333,
              "#9c179e"
             ],
             [
              0.4444444444444444,
              "#bd3786"
             ],
             [
              0.5555555555555556,
              "#d8576b"
             ],
             [
              0.6666666666666666,
              "#ed7953"
             ],
             [
              0.7777777777777778,
              "#fb9f3a"
             ],
             [
              0.8888888888888888,
              "#fdca26"
             ],
             [
              1,
              "#f0f921"
             ]
            ],
            "type": "surface"
           }
          ],
          "table": [
           {
            "cells": {
             "fill": {
              "color": "#EBF0F8"
             },
             "line": {
              "color": "white"
             }
            },
            "header": {
             "fill": {
              "color": "#C8D4E3"
             },
             "line": {
              "color": "white"
             }
            },
            "type": "table"
           }
          ]
         },
         "layout": {
          "annotationdefaults": {
           "arrowcolor": "#2a3f5f",
           "arrowhead": 0,
           "arrowwidth": 1
          },
          "colorscale": {
           "diverging": [
            [
             0,
             "#8e0152"
            ],
            [
             0.1,
             "#c51b7d"
            ],
            [
             0.2,
             "#de77ae"
            ],
            [
             0.3,
             "#f1b6da"
            ],
            [
             0.4,
             "#fde0ef"
            ],
            [
             0.5,
             "#f7f7f7"
            ],
            [
             0.6,
             "#e6f5d0"
            ],
            [
             0.7,
             "#b8e186"
            ],
            [
             0.8,
             "#7fbc41"
            ],
            [
             0.9,
             "#4d9221"
            ],
            [
             1,
             "#276419"
            ]
           ],
           "sequential": [
            [
             0,
             "#0d0887"
            ],
            [
             0.1111111111111111,
             "#46039f"
            ],
            [
             0.2222222222222222,
             "#7201a8"
            ],
            [
             0.3333333333333333,
             "#9c179e"
            ],
            [
             0.4444444444444444,
             "#bd3786"
            ],
            [
             0.5555555555555556,
             "#d8576b"
            ],
            [
             0.6666666666666666,
             "#ed7953"
            ],
            [
             0.7777777777777778,
             "#fb9f3a"
            ],
            [
             0.8888888888888888,
             "#fdca26"
            ],
            [
             1,
             "#f0f921"
            ]
           ],
           "sequentialminus": [
            [
             0,
             "#0d0887"
            ],
            [
             0.1111111111111111,
             "#46039f"
            ],
            [
             0.2222222222222222,
             "#7201a8"
            ],
            [
             0.3333333333333333,
             "#9c179e"
            ],
            [
             0.4444444444444444,
             "#bd3786"
            ],
            [
             0.5555555555555556,
             "#d8576b"
            ],
            [
             0.6666666666666666,
             "#ed7953"
            ],
            [
             0.7777777777777778,
             "#fb9f3a"
            ],
            [
             0.8888888888888888,
             "#fdca26"
            ],
            [
             1,
             "#f0f921"
            ]
           ]
          },
          "colorway": [
           "#636efa",
           "#EF553B",
           "#00cc96",
           "#ab63fa",
           "#FFA15A",
           "#19d3f3",
           "#FF6692",
           "#B6E880",
           "#FF97FF",
           "#FECB52"
          ],
          "font": {
           "color": "#2a3f5f"
          },
          "geo": {
           "bgcolor": "white",
           "lakecolor": "white",
           "landcolor": "#E5ECF6",
           "showlakes": true,
           "showland": true,
           "subunitcolor": "white"
          },
          "hoverlabel": {
           "align": "left"
          },
          "hovermode": "closest",
          "mapbox": {
           "style": "light"
          },
          "paper_bgcolor": "white",
          "plot_bgcolor": "#E5ECF6",
          "polar": {
           "angularaxis": {
            "gridcolor": "white",
            "linecolor": "white",
            "ticks": ""
           },
           "bgcolor": "#E5ECF6",
           "radialaxis": {
            "gridcolor": "white",
            "linecolor": "white",
            "ticks": ""
           }
          },
          "scene": {
           "xaxis": {
            "backgroundcolor": "#E5ECF6",
            "gridcolor": "white",
            "gridwidth": 2,
            "linecolor": "white",
            "showbackground": true,
            "ticks": "",
            "zerolinecolor": "white"
           },
           "yaxis": {
            "backgroundcolor": "#E5ECF6",
            "gridcolor": "white",
            "gridwidth": 2,
            "linecolor": "white",
            "showbackground": true,
            "ticks": "",
            "zerolinecolor": "white"
           },
           "zaxis": {
            "backgroundcolor": "#E5ECF6",
            "gridcolor": "white",
            "gridwidth": 2,
            "linecolor": "white",
            "showbackground": true,
            "ticks": "",
            "zerolinecolor": "white"
           }
          },
          "shapedefaults": {
           "line": {
            "color": "#2a3f5f"
           }
          },
          "ternary": {
           "aaxis": {
            "gridcolor": "white",
            "linecolor": "white",
            "ticks": ""
           },
           "baxis": {
            "gridcolor": "white",
            "linecolor": "white",
            "ticks": ""
           },
           "bgcolor": "#E5ECF6",
           "caxis": {
            "gridcolor": "white",
            "linecolor": "white",
            "ticks": ""
           }
          },
          "title": {
           "x": 0.05
          },
          "xaxis": {
           "automargin": true,
           "gridcolor": "white",
           "linecolor": "white",
           "ticks": "",
           "zerolinecolor": "white",
           "zerolinewidth": 2
          },
          "yaxis": {
           "automargin": true,
           "gridcolor": "white",
           "linecolor": "white",
           "ticks": "",
           "zerolinecolor": "white",
           "zerolinewidth": 2
          }
         }
        },
        "xaxis": {
         "anchor": "y",
         "domain": [
          0,
          0.98
         ],
         "title": {
          "text": "Year"
         }
        },
        "yaxis": {
         "anchor": "x",
         "domain": [
          0,
          1
         ],
         "title": {
          "text": "Share"
         }
        }
       }
      },
      "text/html": [
       "<div>\n",
       "        \n",
       "        \n",
       "            <div id=\"14a2a625-c94d-4113-a915-4c8b24727121\" class=\"plotly-graph-div\" style=\"height:600px; width:100%;\"></div>\n",
       "            <script type=\"text/javascript\">\n",
       "                require([\"plotly\"], function(Plotly) {\n",
       "                    window.PLOTLYENV=window.PLOTLYENV || {};\n",
       "                    \n",
       "                if (document.getElementById(\"14a2a625-c94d-4113-a915-4c8b24727121\")) {\n",
       "                    Plotly.newPlot(\n",
       "                        '14a2a625-c94d-4113-a915-4c8b24727121',\n",
       "                        [{\"hoverlabel\": {\"namelength\": 0}, \"hovertemplate\": \"Mode=Road<br>Vehicle=40tlorry<br>Year=%{x}<br>Share=%{y}\", \"legendgroup\": \"Mode=Road\", \"line\": {\"color\": \"#636efa\"}, \"mode\": \"lines\", \"name\": \"Mode=Road\", \"orientation\": \"v\", \"showlegend\": true, \"stackgroup\": \"1\", \"type\": \"scatter\", \"x\": [2000.0, 2001.0, 2002.0, 2003.0, 2004.0, 2005.0, 2006.0, 2007.0, 2008.0, 2009.0, 2010.0, 2011.0, 2012.0, 2013.0, 2014.0, 2015.0, 2016.0, 2017.0, 2018.0, 2019.0, 2020.0, 2021.0, 2022.0, 2023.0, 2024.0, 2025.0, 2026.0, 2027.0, 2028.0, 2029.0, 2030.0, 2031.0, 2032.0, 2033.0, 2034.0, 2035.0, 2036.0, 2037.0, 2038.0, 2039.0, 2040.0, 2041.0, 2042.0, 2043.0, 2044.0, 2045.0, 2046.0, 2047.0, 2048.0, 2049.0, 2050.0], \"xaxis\": \"x\", \"y\": [0.12442651159241165, 0.12448066680332029, 0.12454293009138516, 0.12461439318794612, 0.12469625237796068, 0.12478980288188159, 0.12489642586281717, 0.1250175653241509, 0.1251546915258662, 0.12530924688904127, 0.12548256975490543, 0.12567579094558784, 0.1258896980326625, 0.12612456283079104, 0.12637992925462663, 0.12665436173201955, 0.126945159294406, 0.127248047613503, 0.1275568707033347, 0.12786331532950107, 0.1281567131431163, 0.12842397593509775, 0.12864972485796106, 0.12881667090502316, 0.1289062874114583, 0.12889978346343586, 0.12877934083272344, 0.12852952216300542, 0.1281387054416219, 0.12760036340882522, 0.126914, 0.1260855870762242, 0.1251274116973262, 0.12405733430030379, 0.12289755087565793, 0.121673025744062, 0.12040979975058849, 0.11913337609486915, 0.11786734826809989, 0.11663237521089807, 0.1154455439251989, 0.11432010304026294, 0.11326551056705345, 0.11228771772992145, 0.11138960621473899, 0.11057150377090079, 0.10983171760923882, 0.10916704192547347, 0.10857321195150664, 0.10804529037966196, 0.10757798212853122], \"yaxis\": \"y\"}, {\"hoverlabel\": {\"namelength\": 0}, \"hovertemplate\": \"Mode=Road<br>Vehicle=28tlorry<br>Year=%{x}<br>Share=%{y}\", \"legendgroup\": \"Mode=Road\", \"line\": {\"color\": \"#636efa\"}, \"mode\": \"lines\", \"name\": \"Mode=Road\", \"orientation\": \"v\", \"showlegend\": false, \"stackgroup\": \"1\", \"type\": \"scatter\", \"x\": [2000.0, 2001.0, 2002.0, 2003.0, 2004.0, 2005.0, 2006.0, 2007.0, 2008.0, 2009.0, 2010.0, 2011.0, 2012.0, 2013.0, 2014.0, 2015.0, 2016.0, 2017.0, 2018.0, 2019.0, 2020.0, 2021.0, 2022.0, 2023.0, 2024.0, 2025.0, 2026.0, 2027.0, 2028.0, 2029.0, 2030.0, 2031.0, 2032.0, 2033.0, 2034.0, 2035.0, 2036.0, 2037.0, 2038.0, 2039.0, 2040.0, 2041.0, 2042.0, 2043.0, 2044.0, 2045.0, 2046.0, 2047.0, 2048.0, 2049.0, 2050.0], \"xaxis\": \"x\", \"y\": [0.43610970354196305, 0.43550240953232516, 0.4348000468855112, 0.4339883227874841, 0.43305099630138344, 0.4319696813466434, 0.4307236541238742, 0.42928967579616073, 0.4276418452154221, 0.42575150128151945, 0.42358720009162854, 0.42111479818051506, 0.418297679447267, 0.4150971690738809, 0.411473181719472, 0.40738515189246244, 0.4027932895437955, 0.3976601910982293, 0.3919528128122577, 0.38564477753510146, 0.3787189371378856, 0.37117005316270313, 0.36300739347822086, 0.35425698319291404, 0.34496320807287384, 0.33518946446406167, 0.32501759537202995, 0.3145459546207108, 0.30388609408734546, 0.29315825204752927, 0.28248599999999996, 0.27199054210181817, 0.2617852226437759, 0.2519707667101839, 0.24263166375626344, 0.2338339304831475, 0.2256242971429913, 0.2180306890986827, 0.21106375126767746, 0.20471909919827685, 0.19897997378245497, 0.19382001326775025, 0.18920591827823444, 0.1850998560433852, 0.18146151626800394, 0.1782497855824416, 0.1754240474401767, 0.1729451401082782, 0.17077601929896274, 0.16888217697930105, 0.16723186686360816], \"yaxis\": \"y\"}, {\"hoverlabel\": {\"namelength\": 0}, \"hovertemplate\": \"Mode=Road<br>Vehicle=16tlorry<br>Year=%{x}<br>Share=%{y}\", \"legendgroup\": \"Mode=Road\", \"line\": {\"color\": \"#636efa\"}, \"mode\": \"lines\", \"name\": \"Mode=Road\", \"orientation\": \"v\", \"showlegend\": false, \"stackgroup\": \"1\", \"type\": \"scatter\", \"x\": [2000.0, 2001.0, 2002.0, 2003.0, 2004.0, 2005.0, 2006.0, 2007.0, 2008.0, 2009.0, 2010.0, 2011.0, 2012.0, 2013.0, 2014.0, 2015.0, 2016.0, 2017.0, 2018.0, 2019.0, 2020.0, 2021.0, 2022.0, 2023.0, 2024.0, 2025.0, 2026.0, 2027.0, 2028.0, 2029.0, 2030.0, 2031.0, 2032.0, 2033.0, 2034.0, 2035.0, 2036.0, 2037.0, 2038.0, 2039.0, 2040.0, 2041.0, 2042.0, 2043.0, 2044.0, 2045.0, 2046.0, 2047.0, 2048.0, 2049.0, 2050.0], \"xaxis\": \"x\", \"y\": [0.03605783265014144, 0.036066795330479864, 0.036077073198189, 0.03608883369669415, 0.036102256543091904, 0.036117531099367155, 0.03613485200448021, 0.036154412478972456, 0.03617639458419449, 0.036200955587295074, 0.03622820946842034, 0.03625820253695545, 0.03629088214240157, 0.0363260576332576, 0.03636335311278551, 0.03640215225679401, 0.036441536591158466, 0.03648022025016859, 0.036516486365256444, 0.03654813276665604, 0.036572437339027625, 0.0365861556439054, 0.03658556454851351, 0.03656656464853049, 0.036524850329419094, 0.03645614881687425, 0.03635651872524312, 0.036222685740542555, 0.03605238068264686, 0.03584463660020778, 0.0356, 0.03532061876539529, 0.03501018544728363, 0.03467373646525345, 0.03431733043808198, 0.033947647028418744, 0.033571557292669044, 0.033195716059980326, 0.03282621757952727, 0.03246834084911867, 0.03212639467231662, 0.031803658060728233, 0.03150240127386327, 0.031223967264792415, 0.03096889208789704, 0.030737044765381544, 0.030527770863700426, 0.03034002842831885, 0.030172509127199522, 0.03002374097797862, 0.029892171692906276], \"yaxis\": \"y\"}, {\"hoverlabel\": {\"namelength\": 0}, \"hovertemplate\": \"Mode=Rail<br>Vehicle=freighttrain<br>Year=%{x}<br>Share=%{y}\", \"legendgroup\": \"Mode=Rail\", \"line\": {\"color\": \"#EF553B\"}, \"mode\": \"lines\", \"name\": \"Mode=Rail\", \"orientation\": \"v\", \"showlegend\": true, \"stackgroup\": \"1\", \"type\": \"scatter\", \"x\": [2000.0, 2001.0, 2002.0, 2003.0, 2004.0, 2005.0, 2006.0, 2007.0, 2008.0, 2009.0, 2010.0, 2011.0, 2012.0, 2013.0, 2014.0, 2015.0, 2016.0, 2017.0, 2018.0, 2019.0, 2020.0, 2021.0, 2022.0, 2023.0, 2024.0, 2025.0, 2026.0, 2027.0, 2028.0, 2029.0, 2030.0, 2031.0, 2032.0, 2033.0, 2034.0, 2035.0, 2036.0, 2037.0, 2038.0, 2039.0, 2040.0, 2041.0, 2042.0, 2043.0, 2044.0, 2045.0, 2046.0, 2047.0, 2048.0, 2049.0, 2050.0], \"xaxis\": \"x\", \"y\": [0.04565999217931432, 0.04592722349010407, 0.046237204811081685, 0.046596679003968876, 0.04701341792275782, 0.047496366785060445, 0.04805580400194034, 0.04870351616078991, 0.04945298683443634, 0.05031959639154871, 0.051320827852807026, 0.052476470890189794, 0.0538088121013752, 0.05534279451354962, 0.05710612274377985, 0.05912928237039988, 0.061445433125370874, 0.0640901262232463, 0.06710078788430811, 0.07051590614911245, 0.0743738596724026, 0.0787113394450151, 0.08356134174608794, 0.08895075662793131, 0.09489764173992958, 0.10140835225871861, 0.1084747832887556, 0.11607205335617622, 0.12415699374420379, 0.132667786417189, 0.141525, 0.15063411218218878, 0.1598894018138001, 0.16917888565180275, 0.17838981027713743, 0.18741412786290723, 0.19615340299993148, 0.20452270823536528, 0.2124532378256164, 0.21989356098056034, 0.22680960824535154, 0.23318361035235152, 0.23901227673207398, 0.2443045142932864, 0.2490789589514767, 0.25336153921882737, 0.25718322842669716, 0.2605780815400211, 0.2635816011940169, 0.26622943862653825, 0.268556408727575], \"yaxis\": \"y\"}, {\"hoverlabel\": {\"namelength\": 0}, \"hovertemplate\": \"Mode=Inland<br>Vehicle=xlbarge<br>Year=%{x}<br>Share=%{y}\", \"legendgroup\": \"Mode=Inland\", \"line\": {\"color\": \"#00cc96\"}, \"mode\": \"lines\", \"name\": \"Mode=Inland\", \"orientation\": \"v\", \"showlegend\": true, \"stackgroup\": \"1\", \"type\": \"scatter\", \"x\": [2000.0, 2001.0, 2002.0, 2003.0, 2004.0, 2005.0, 2006.0, 2007.0, 2008.0, 2009.0, 2010.0, 2011.0, 2012.0, 2013.0, 2014.0, 2015.0, 2016.0, 2017.0, 2018.0, 2019.0, 2020.0, 2021.0, 2022.0, 2023.0, 2024.0, 2025.0, 2026.0, 2027.0, 2028.0, 2029.0, 2030.0, 2031.0, 2032.0, 2033.0, 2034.0, 2035.0, 2036.0, 2037.0, 2038.0, 2039.0, 2040.0, 2041.0, 2042.0, 2043.0, 2044.0, 2045.0, 2046.0, 2047.0, 2048.0, 2049.0, 2050.0], \"xaxis\": \"x\", \"y\": [0.04467680770763142, 0.04501451763117558, 0.04538811497020265, 0.045801346592102936, 0.04625832654200313, 0.04676356382995648, 0.04732198936097863, 0.04793898067375107, 0.04862038264145249, 0.04937252163733723, 0.050202209862638965, 0.05111673557188895, 0.052123833831405744, 0.053231631271205615, 0.05444855716059435, 0.05578321225994204, 0.0572441865893258, 0.05883981793983495, 0.060577885166507806, 0.062465234609147116, 0.06450734485497592, 0.06670784463706728, 0.0690680105140665, 0.07158628379058349, 0.07425785758550336, 0.07707439183293233, 0.0800239128110486, 0.08309094179691517, 0.0862568739527745, 0.08950059599191734, 0.09279929531250002, 0.09612938214089697, 0.09946742777008885, 0.10279102140863766, 0.10607946585986759, 0.10931426350026628, 0.11247938060924412, 0.11556131118285172, 0.11854898429177528, 0.12143356899372808, 0.12420822881399202, 0.1268678675191422, 0.1294088938768822, 0.13182901928945936, 0.13412709118580074, 0.136302957909088, 0.13835735739535773, 0.14029182136660057, 0.14210858799503234, 0.1438105180638918, 0.1454010118354781], \"yaxis\": \"y\"}, {\"hoverlabel\": {\"namelength\": 0}, \"hovertemplate\": \"Mode=Inland<br>Vehicle=lbarge<br>Year=%{x}<br>Share=%{y}\", \"legendgroup\": \"Mode=Inland\", \"line\": {\"color\": \"#00cc96\"}, \"mode\": \"lines\", \"name\": \"Mode=Inland\", \"orientation\": \"v\", \"showlegend\": false, \"stackgroup\": \"1\", \"type\": \"scatter\", \"x\": [2000.0, 2001.0, 2002.0, 2003.0, 2004.0, 2005.0, 2006.0, 2007.0, 2008.0, 2009.0, 2010.0, 2011.0, 2012.0, 2013.0, 2014.0, 2015.0, 2016.0, 2017.0, 2018.0, 2019.0, 2020.0, 2021.0, 2022.0, 2023.0, 2024.0, 2025.0, 2026.0, 2027.0, 2028.0, 2029.0, 2030.0, 2031.0, 2032.0, 2033.0, 2034.0, 2035.0, 2036.0, 2037.0, 2038.0, 2039.0, 2040.0, 2041.0, 2042.0, 2043.0, 2044.0, 2045.0, 2046.0, 2047.0, 2048.0, 2049.0, 2050.0], \"xaxis\": \"x\", \"y\": [0.0644280158000784, 0.06466177180705168, 0.06492049730858919, 0.06520674388475127, 0.06552328769704607, 0.06587313813751104, 0.06625954288698085, 0.06668598774629224, 0.06715618913074045, 0.06767407655854063, 0.06824376183019125, 0.06886949092104881, 0.0695555739611885, 0.07030628816965775, 0.0711257484221535, 0.07201774051358228, 0.07298551345546707, 0.07403152969957616, 0.07515717637160707, 0.07636244668080679, 0.07764560860476158, 0.0790028872003595, 0.08042819623732309, 0.08191296228109929, 0.08344608721633219, 0.08501409069951094, 0.08660146007733642, 0.08819121163136392, 0.08976563606932526, 0.09130716840977249, 0.09279929531250002, 0.09422739905078711, 0.0955794417024482, 0.09684641608975345, 0.09802252663444637, 0.09910510491405404, 0.10009430166489722, 0.10099262176795169, 0.10180437802354422, 0.10253513436305584, 0.10319119386023572, 0.1037791670305041, 0.10430563641771019, 0.10477691769515318, 0.10519890689278096, 0.10557699781301284, 0.10591605220119563, 0.10622040644972769, 0.1064939012767252, 0.1067399239636541, 0.10696145573814812], \"yaxis\": \"y\"}, {\"hoverlabel\": {\"namelength\": 0}, \"hovertemplate\": \"Mode=Inland<br>Vehicle=mbarge<br>Year=%{x}<br>Share=%{y}\", \"legendgroup\": \"Mode=Inland\", \"line\": {\"color\": \"#00cc96\"}, \"mode\": \"lines\", \"name\": \"Mode=Inland\", \"orientation\": \"v\", \"showlegend\": false, \"stackgroup\": \"1\", \"type\": \"scatter\", \"x\": [2000.0, 2001.0, 2002.0, 2003.0, 2004.0, 2005.0, 2006.0, 2007.0, 2008.0, 2009.0, 2010.0, 2011.0, 2012.0, 2013.0, 2014.0, 2015.0, 2016.0, 2017.0, 2018.0, 2019.0, 2020.0, 2021.0, 2022.0, 2023.0, 2024.0, 2025.0, 2026.0, 2027.0, 2028.0, 2029.0, 2030.0, 2031.0, 2032.0, 2033.0, 2034.0, 2035.0, 2036.0, 2037.0, 2038.0, 2039.0, 2040.0, 2041.0, 2042.0, 2043.0, 2044.0, 2045.0, 2046.0, 2047.0, 2048.0, 2049.0, 2050.0], \"xaxis\": \"x\", \"y\": [0.08508146723468489, 0.08511733606981887, 0.08515930226629886, 0.0852082550311188, 0.0852651824427246, 0.08533117310709647, 0.08540741400630705, 0.08549518291268136, 0.08559583331251819, 0.08571076931073543, 0.08584140750649735, 0.08598912240276453, 0.08615517164128579, 0.08634059738912321, 0.08654610074878503, 0.08677188737862307, 0.08701748488050458, 0.08728153620424284, 0.08756157848841947, 0.08785382331717818, 0.08815296182740287, 0.08845202539244272, 0.08874233804005903, 0.08901359810260231, 0.08925412146968954, 0.08945126540569007, 0.08959202989468572, 0.08966380494439065, 0.08965520200589558, 0.08955688256535706, 0.08936228437500002, 0.08906815102997569, 0.08867479469070207, 0.0881860604312917, 0.08760900534688579, 0.08695334588526402, 0.08623075424065144, 0.08545409462976537, 0.08463668345054048, 0.0837916382840668, 0.08293135588089162, 0.08206713477017491, 0.08120893821573172, 0.08036527988218384, 0.07954320775609178, 0.0787483603381639, 0.07798507114912165, 0.07725650151729366, 0.07656478615875449, 0.07591118039158073, 0.07529620151244981], \"yaxis\": \"y\"}, {\"hoverlabel\": {\"namelength\": 0}, \"hovertemplate\": \"Mode=Inland<br>Vehicle=sbarge<br>Year=%{x}<br>Share=%{y}\", \"legendgroup\": \"Mode=Inland\", \"line\": {\"color\": \"#00cc96\"}, \"mode\": \"lines\", \"name\": \"Mode=Inland\", \"orientation\": \"v\", \"showlegend\": false, \"stackgroup\": \"1\", \"type\": \"scatter\", \"x\": [2000.0, 2001.0, 2002.0, 2003.0, 2004.0, 2005.0, 2006.0, 2007.0, 2008.0, 2009.0, 2010.0, 2011.0, 2012.0, 2013.0, 2014.0, 2015.0, 2016.0, 2017.0, 2018.0, 2019.0, 2020.0, 2021.0, 2022.0, 2023.0, 2024.0, 2025.0, 2026.0, 2027.0, 2028.0, 2029.0, 2030.0, 2031.0, 2032.0, 2033.0, 2034.0, 2035.0, 2036.0, 2037.0, 2038.0, 2039.0, 2040.0, 2041.0, 2042.0, 2043.0, 2044.0, 2045.0, 2046.0, 2047.0, 2048.0, 2049.0, 2050.0], \"xaxis\": \"x\", \"y\": [0.16355966929377488, 0.16322927933572443, 0.16287483046874224, 0.1624954258159338, 0.16209028017303242, 0.16165874281248352, 0.16120031775262159, 0.1607146789072014, 0.1602016767553697, 0.15966133234398222, 0.1590938136329111, 0.15849938855104956, 0.15787834884241372, 0.15723089911853433, 0.1565570068378032, 0.15585621159617674, 0.1551273965199717, 0.15436853097119888, 0.15357640220830887, 0.15274636361249688, 0.15187213742042752, 0.15094571858340916, 0.14995743057776806, 0.14889618045131586, 0.1477499461747941, 0.14650650305877622, 0.14515435899817705, 0.14368382574689534, 0.1420881140161866, 0.1403643145592018, 0.138514125, 0.1365442076527138, 0.13446611423457505, 0.1322957789427732, 0.13005264681165943, 0.12775855458188026, 0.12543650629902692, 0.12310948293053375, 0.12079939929321908, 0.11852628212029531, 0.11630770081955856, 0.11415844595908574, 0.11209042463845077, 0.1101127278018182, 0.10823182064320977, 0.10645181060218395, 0.10477475491451195, 0.10320097866428649, 0.1017293829978022, 0.10035773061739355, 0.09908290150130317], \"yaxis\": \"y\"}],\n",
       "                        {\"height\": 600, \"legend\": {\"font\": {\"size\": 10}, \"tracegroupgap\": 0, \"traceorder\": \"reversed\", \"y\": 0.5}, \"margin\": {\"t\": 60}, \"template\": {\"data\": {\"bar\": [{\"error_x\": {\"color\": \"#2a3f5f\"}, \"error_y\": {\"color\": \"#2a3f5f\"}, \"marker\": {\"line\": {\"color\": \"#E5ECF6\", \"width\": 0.5}}, \"type\": \"bar\"}], \"barpolar\": [{\"marker\": {\"line\": {\"color\": \"#E5ECF6\", \"width\": 0.5}}, \"type\": \"barpolar\"}], \"carpet\": [{\"aaxis\": {\"endlinecolor\": \"#2a3f5f\", \"gridcolor\": \"white\", \"linecolor\": \"white\", \"minorgridcolor\": \"white\", \"startlinecolor\": \"#2a3f5f\"}, \"baxis\": {\"endlinecolor\": \"#2a3f5f\", \"gridcolor\": \"white\", \"linecolor\": \"white\", \"minorgridcolor\": \"white\", \"startlinecolor\": \"#2a3f5f\"}, \"type\": \"carpet\"}], \"choropleth\": [{\"colorbar\": {\"outlinewidth\": 0, \"ticks\": \"\"}, \"type\": \"choropleth\"}], \"contour\": [{\"colorbar\": {\"outlinewidth\": 0, \"ticks\": \"\"}, \"colorscale\": [[0.0, \"#0d0887\"], [0.1111111111111111, \"#46039f\"], [0.2222222222222222, \"#7201a8\"], [0.3333333333333333, \"#9c179e\"], [0.4444444444444444, \"#bd3786\"], [0.5555555555555556, \"#d8576b\"], [0.6666666666666666, \"#ed7953\"], [0.7777777777777778, \"#fb9f3a\"], [0.8888888888888888, \"#fdca26\"], [1.0, \"#f0f921\"]], \"type\": \"contour\"}], \"contourcarpet\": [{\"colorbar\": {\"outlinewidth\": 0, \"ticks\": \"\"}, \"type\": \"contourcarpet\"}], \"heatmap\": [{\"colorbar\": {\"outlinewidth\": 0, \"ticks\": \"\"}, \"colorscale\": [[0.0, \"#0d0887\"], [0.1111111111111111, \"#46039f\"], [0.2222222222222222, \"#7201a8\"], [0.3333333333333333, \"#9c179e\"], [0.4444444444444444, \"#bd3786\"], [0.5555555555555556, \"#d8576b\"], [0.6666666666666666, \"#ed7953\"], [0.7777777777777778, \"#fb9f3a\"], [0.8888888888888888, \"#fdca26\"], [1.0, \"#f0f921\"]], \"type\": \"heatmap\"}], \"heatmapgl\": [{\"colorbar\": {\"outlinewidth\": 0, \"ticks\": \"\"}, \"colorscale\": [[0.0, \"#0d0887\"], [0.1111111111111111, \"#46039f\"], [0.2222222222222222, \"#7201a8\"], [0.3333333333333333, \"#9c179e\"], [0.4444444444444444, \"#bd3786\"], [0.5555555555555556, \"#d8576b\"], [0.6666666666666666, \"#ed7953\"], [0.7777777777777778, \"#fb9f3a\"], [0.8888888888888888, \"#fdca26\"], [1.0, \"#f0f921\"]], \"type\": \"heatmapgl\"}], \"histogram\": [{\"marker\": {\"colorbar\": {\"outlinewidth\": 0, \"ticks\": \"\"}}, \"type\": \"histogram\"}], \"histogram2d\": [{\"colorbar\": {\"outlinewidth\": 0, \"ticks\": \"\"}, \"colorscale\": [[0.0, \"#0d0887\"], [0.1111111111111111, \"#46039f\"], [0.2222222222222222, \"#7201a8\"], [0.3333333333333333, \"#9c179e\"], [0.4444444444444444, \"#bd3786\"], [0.5555555555555556, \"#d8576b\"], [0.6666666666666666, \"#ed7953\"], [0.7777777777777778, \"#fb9f3a\"], [0.8888888888888888, \"#fdca26\"], [1.0, \"#f0f921\"]], \"type\": \"histogram2d\"}], \"histogram2dcontour\": [{\"colorbar\": {\"outlinewidth\": 0, \"ticks\": \"\"}, \"colorscale\": [[0.0, \"#0d0887\"], [0.1111111111111111, \"#46039f\"], [0.2222222222222222, \"#7201a8\"], [0.3333333333333333, \"#9c179e\"], [0.4444444444444444, \"#bd3786\"], [0.5555555555555556, \"#d8576b\"], [0.6666666666666666, \"#ed7953\"], [0.7777777777777778, \"#fb9f3a\"], [0.8888888888888888, \"#fdca26\"], [1.0, \"#f0f921\"]], \"type\": \"histogram2dcontour\"}], \"mesh3d\": [{\"colorbar\": {\"outlinewidth\": 0, \"ticks\": \"\"}, \"type\": \"mesh3d\"}], \"parcoords\": [{\"line\": {\"colorbar\": {\"outlinewidth\": 0, \"ticks\": \"\"}}, \"type\": \"parcoords\"}], \"scatter\": [{\"marker\": {\"colorbar\": {\"outlinewidth\": 0, \"ticks\": \"\"}}, \"type\": \"scatter\"}], \"scatter3d\": [{\"line\": {\"colorbar\": {\"outlinewidth\": 0, \"ticks\": \"\"}}, \"marker\": {\"colorbar\": {\"outlinewidth\": 0, \"ticks\": \"\"}}, \"type\": \"scatter3d\"}], \"scattercarpet\": [{\"marker\": {\"colorbar\": {\"outlinewidth\": 0, \"ticks\": \"\"}}, \"type\": \"scattercarpet\"}], \"scattergeo\": [{\"marker\": {\"colorbar\": {\"outlinewidth\": 0, \"ticks\": \"\"}}, \"type\": \"scattergeo\"}], \"scattergl\": [{\"marker\": {\"colorbar\": {\"outlinewidth\": 0, \"ticks\": \"\"}}, \"type\": \"scattergl\"}], \"scattermapbox\": [{\"marker\": {\"colorbar\": {\"outlinewidth\": 0, \"ticks\": \"\"}}, \"type\": \"scattermapbox\"}], \"scatterpolar\": [{\"marker\": {\"colorbar\": {\"outlinewidth\": 0, \"ticks\": \"\"}}, \"type\": \"scatterpolar\"}], \"scatterpolargl\": [{\"marker\": {\"colorbar\": {\"outlinewidth\": 0, \"ticks\": \"\"}}, \"type\": \"scatterpolargl\"}], \"scatterternary\": [{\"marker\": {\"colorbar\": {\"outlinewidth\": 0, \"ticks\": \"\"}}, \"type\": \"scatterternary\"}], \"surface\": [{\"colorbar\": {\"outlinewidth\": 0, \"ticks\": \"\"}, \"colorscale\": [[0.0, \"#0d0887\"], [0.1111111111111111, \"#46039f\"], [0.2222222222222222, \"#7201a8\"], [0.3333333333333333, \"#9c179e\"], [0.4444444444444444, \"#bd3786\"], [0.5555555555555556, \"#d8576b\"], [0.6666666666666666, \"#ed7953\"], [0.7777777777777778, \"#fb9f3a\"], [0.8888888888888888, \"#fdca26\"], [1.0, \"#f0f921\"]], \"type\": \"surface\"}], \"table\": [{\"cells\": {\"fill\": {\"color\": \"#EBF0F8\"}, \"line\": {\"color\": \"white\"}}, \"header\": {\"fill\": {\"color\": \"#C8D4E3\"}, \"line\": {\"color\": \"white\"}}, \"type\": \"table\"}]}, \"layout\": {\"annotationdefaults\": {\"arrowcolor\": \"#2a3f5f\", \"arrowhead\": 0, \"arrowwidth\": 1}, \"colorscale\": {\"diverging\": [[0, \"#8e0152\"], [0.1, \"#c51b7d\"], [0.2, \"#de77ae\"], [0.3, \"#f1b6da\"], [0.4, \"#fde0ef\"], [0.5, \"#f7f7f7\"], [0.6, \"#e6f5d0\"], [0.7, \"#b8e186\"], [0.8, \"#7fbc41\"], [0.9, \"#4d9221\"], [1, \"#276419\"]], \"sequential\": [[0.0, \"#0d0887\"], [0.1111111111111111, \"#46039f\"], [0.2222222222222222, \"#7201a8\"], [0.3333333333333333, \"#9c179e\"], [0.4444444444444444, \"#bd3786\"], [0.5555555555555556, \"#d8576b\"], [0.6666666666666666, \"#ed7953\"], [0.7777777777777778, \"#fb9f3a\"], [0.8888888888888888, \"#fdca26\"], [1.0, \"#f0f921\"]], \"sequentialminus\": [[0.0, \"#0d0887\"], [0.1111111111111111, \"#46039f\"], [0.2222222222222222, \"#7201a8\"], [0.3333333333333333, \"#9c179e\"], [0.4444444444444444, \"#bd3786\"], [0.5555555555555556, \"#d8576b\"], [0.6666666666666666, \"#ed7953\"], [0.7777777777777778, \"#fb9f3a\"], [0.8888888888888888, \"#fdca26\"], [1.0, \"#f0f921\"]]}, \"colorway\": [\"#636efa\", \"#EF553B\", \"#00cc96\", \"#ab63fa\", \"#FFA15A\", \"#19d3f3\", \"#FF6692\", \"#B6E880\", \"#FF97FF\", \"#FECB52\"], \"font\": {\"color\": \"#2a3f5f\"}, \"geo\": {\"bgcolor\": \"white\", \"lakecolor\": \"white\", \"landcolor\": \"#E5ECF6\", \"showlakes\": true, \"showland\": true, \"subunitcolor\": \"white\"}, \"hoverlabel\": {\"align\": \"left\"}, \"hovermode\": \"closest\", \"mapbox\": {\"style\": \"light\"}, \"paper_bgcolor\": \"white\", \"plot_bgcolor\": \"#E5ECF6\", \"polar\": {\"angularaxis\": {\"gridcolor\": \"white\", \"linecolor\": \"white\", \"ticks\": \"\"}, \"bgcolor\": \"#E5ECF6\", \"radialaxis\": {\"gridcolor\": \"white\", \"linecolor\": \"white\", \"ticks\": \"\"}}, \"scene\": {\"xaxis\": {\"backgroundcolor\": \"#E5ECF6\", \"gridcolor\": \"white\", \"gridwidth\": 2, \"linecolor\": \"white\", \"showbackground\": true, \"ticks\": \"\", \"zerolinecolor\": \"white\"}, \"yaxis\": {\"backgroundcolor\": \"#E5ECF6\", \"gridcolor\": \"white\", \"gridwidth\": 2, \"linecolor\": \"white\", \"showbackground\": true, \"ticks\": \"\", \"zerolinecolor\": \"white\"}, \"zaxis\": {\"backgroundcolor\": \"#E5ECF6\", \"gridcolor\": \"white\", \"gridwidth\": 2, \"linecolor\": \"white\", \"showbackground\": true, \"ticks\": \"\", \"zerolinecolor\": \"white\"}}, \"shapedefaults\": {\"line\": {\"color\": \"#2a3f5f\"}}, \"ternary\": {\"aaxis\": {\"gridcolor\": \"white\", \"linecolor\": \"white\", \"ticks\": \"\"}, \"baxis\": {\"gridcolor\": \"white\", \"linecolor\": \"white\", \"ticks\": \"\"}, \"bgcolor\": \"#E5ECF6\", \"caxis\": {\"gridcolor\": \"white\", \"linecolor\": \"white\", \"ticks\": \"\"}}, \"title\": {\"x\": 0.05}, \"xaxis\": {\"automargin\": true, \"gridcolor\": \"white\", \"linecolor\": \"white\", \"ticks\": \"\", \"zerolinecolor\": \"white\", \"zerolinewidth\": 2}, \"yaxis\": {\"automargin\": true, \"gridcolor\": \"white\", \"linecolor\": \"white\", \"ticks\": \"\", \"zerolinecolor\": \"white\", \"zerolinewidth\": 2}}}, \"xaxis\": {\"anchor\": \"y\", \"domain\": [0.0, 0.98], \"title\": {\"text\": \"Year\"}}, \"yaxis\": {\"anchor\": \"x\", \"domain\": [0.0, 1.0], \"title\": {\"text\": \"Share\"}}},\n",
       "                        {\"responsive\": true}\n",
       "                    ).then(function(){\n",
       "                            \n",
       "var gd = document.getElementById('14a2a625-c94d-4113-a915-4c8b24727121');\n",
       "var x = new MutationObserver(function (mutations, observer) {{\n",
       "        var display = window.getComputedStyle(gd).display;\n",
       "        if (!display || display === 'none') {{\n",
       "            console.log([gd, 'removed!']);\n",
       "            Plotly.purge(gd);\n",
       "            observer.disconnect();\n",
       "        }}\n",
       "}});\n",
       "\n",
       "// Listen for the removal of the full notebook cells\n",
       "var notebookContainer = gd.closest('#notebook-container');\n",
       "if (notebookContainer) {{\n",
       "    x.observe(notebookContainer, {childList: true});\n",
       "}}\n",
       "\n",
       "// Listen for the clearing of the current output cell\n",
       "var outputEl = gd.closest('.output');\n",
       "if (outputEl) {{\n",
       "    x.observe(outputEl, {childList: true});\n",
       "}}\n",
       "\n",
       "                        })\n",
       "                };\n",
       "                });\n",
       "            </script>\n",
       "        </div>"
      ]
     },
     "metadata": {},
     "output_type": "display_data"
    },
    {
     "data": {
      "application/vnd.plotly.v1+json": {
       "config": {
        "plotlyServerURL": "https://plot.ly"
       },
       "data": [
        {
         "hoverlabel": {
          "namelength": 0
         },
         "hovertemplate": "Mode=Road<br>Vehicle=40tlorry<br>Year=%{x}<br>Ton-kilometers=%{y}",
         "legendgroup": "Mode=Road",
         "line": {
          "color": "#636efa"
         },
         "mode": "lines",
         "name": "Mode=Road",
         "orientation": "v",
         "showlegend": true,
         "stackgroup": "1",
         "type": "scatter",
         "x": [
          2000,
          2001,
          2002,
          2003,
          2004,
          2005,
          2006,
          2007,
          2008,
          2009,
          2010,
          2011,
          2012,
          2013,
          2014,
          2015,
          2016,
          2017,
          2018,
          2019,
          2020,
          2021,
          2022,
          2023,
          2024,
          2025,
          2026,
          2027,
          2028,
          2029,
          2030,
          2031,
          2032,
          2033,
          2034,
          2035,
          2036,
          2037,
          2038,
          2039,
          2040,
          2041,
          2042,
          2043,
          2044,
          2045,
          2046,
          2047,
          2048,
          2049,
          2050
         ],
         "xaxis": "x",
         "y": [
          15.221094960780379,
          15.139063475464184,
          15.07866301330679,
          15.039253095451564,
          15.020220741401278,
          15.02098089368203,
          15.040976020087967,
          15.079674588326943,
          15.136567862929674,
          15.211164429982782,
          15.302981792428925,
          15.41153406158029,
          15.536314909561087,
          15.676774752000352,
          15.832291388774436,
          16.002133541048995,
          16.185417306877582,
          16.381056593089408,
          16.587709844579006,
          16.803727152127294,
          17.027104002039653,
          17.255449722165782,
          17.485980677908863,
          17.715548404566825,
          17.940711837756737,
          18.157858968781827,
          18.363377047327678,
          18.553861962995732,
          18.726348588340723,
          18.878535883342952,
          19.00897698806791,
          19.11720580030199,
          19.20377918066297,
          19.27022656082709,
          19.318912815269382,
          19.352833721389832,
          19.375372172770096,
          19.390046036405014,
          19.400276163325117,
          19.409195255227107,
          19.41950971784163,
          19.433417108724665,
          19.452574805257072,
          19.478110717287894,
          19.510664832880416,
          19.55045027558223,
          19.597324038651372,
          19.650859628615123,
          19.710416001247214,
          19.775199487704256,
          19.844316836322676
         ],
         "yaxis": "y"
        },
        {
         "hoverlabel": {
          "namelength": 0
         },
         "hovertemplate": "Mode=Road<br>Vehicle=28tlorry<br>Year=%{x}<br>Ton-kilometers=%{y}",
         "legendgroup": "Mode=Road",
         "line": {
          "color": "#636efa"
         },
         "mode": "lines",
         "name": "Mode=Road",
         "orientation": "v",
         "showlegend": false,
         "stackgroup": "1",
         "type": "scatter",
         "x": [
          2000,
          2001,
          2002,
          2003,
          2004,
          2005,
          2006,
          2007,
          2008,
          2009,
          2010,
          2011,
          2012,
          2013,
          2014,
          2015,
          2016,
          2017,
          2018,
          2019,
          2020,
          2021,
          2022,
          2023,
          2024,
          2025,
          2026,
          2027,
          2028,
          2029,
          2030,
          2031,
          2032,
          2033,
          2034,
          2035,
          2036,
          2037,
          2038,
          2039,
          2040,
          2041,
          2042,
          2043,
          2044,
          2045,
          2046,
          2047,
          2048,
          2049,
          2050
         ],
         "xaxis": "x",
         "y": [
          53.34929932516754,
          52.96484017108117,
          52.642116098809524,
          52.376455559411596,
          52.162927375034435,
          51.99630242464254,
          51.87101318718014,
          51.78111250486748,
          51.72023303492301,
          51.681549870295974,
          51.657749942236386,
          51.641012220121354,
          51.62300470484282,
          51.594904860003815,
          51.5474517992763,
          51.4710390868097,
          51.35585725294832,
          51.19209463224484,
          50.97020251317868,
          50.68122629734069,
          50.31719815556977,
          49.87157689277119,
          49.3397111832644,
          48.719289897167805,
          48.01073427015343,
          47.21748058860321,
          46.34610343739052,
          45.40623916464829,
          44.41028890854158,
          43.372906102511955,
          42.31030361860276,
          41.23944131657742,
          40.17717253332421,
          39.13943329990335,
          38.1405481633518,
          37.19270682540935,
          36.30563905446375,
          35.48648781350738,
          34.73985902649266,
          34.06801037558127,
          33.471136287667676,
          32.94770614862171,
          32.49481912436021,
          32.10854724502405,
          31.784247599780404,
          31.51683255464446,
          31.300993708284768,
          31.131380055521372,
          31.002733758332628,
          30.90998902356694,
          30.84833983227346
         ],
         "yaxis": "y"
        },
        {
         "hoverlabel": {
          "namelength": 0
         },
         "hovertemplate": "Mode=Road<br>Vehicle=16tlorry<br>Year=%{x}<br>Ton-kilometers=%{y}",
         "legendgroup": "Mode=Road",
         "line": {
          "color": "#636efa"
         },
         "mode": "lines",
         "name": "Mode=Road",
         "orientation": "v",
         "showlegend": false,
         "stackgroup": "1",
         "type": "scatter",
         "x": [
          2000,
          2001,
          2002,
          2003,
          2004,
          2005,
          2006,
          2007,
          2008,
          2009,
          2010,
          2011,
          2012,
          2013,
          2014,
          2015,
          2016,
          2017,
          2018,
          2019,
          2020,
          2021,
          2022,
          2023,
          2024,
          2025,
          2026,
          2027,
          2028,
          2029,
          2030,
          2031,
          2032,
          2033,
          2034,
          2035,
          2036,
          2037,
          2038,
          2039,
          2040,
          2041,
          2042,
          2043,
          2044,
          2045,
          2046,
          2047,
          2048,
          2049,
          2050
         ],
         "xaxis": "x",
         "y": [
          4.4109546094612355,
          4.386363906030634,
          4.367923806375286,
          4.355428694867199,
          4.34867810538772,
          4.347476572938236,
          4.351633273203381,
          4.360961387317389,
          4.375277066993607,
          4.394397872716018,
          4.418140550917948,
          4.44631793606057,
          4.4787348140578676,
          4.515182533546394,
          4.555432225275137,
          4.599226537711497,
          4.646269935065891,
          4.696217848948472,
          4.748665258331426,
          4.8031356714627105,
          4.8590719823181585,
          4.91583105603108,
          4.972684360514642,
          5.028826948162525,
          5.083396844606162,
          5.135505979724942,
          5.184282332575978,
          5.228920950212963,
          5.268739416213202,
          5.303231434492987,
          5.332111357101798,
          5.355342776203781,
          5.373146149862076,
          5.3859835145128505,
          5.394521779013009,
          5.399579439697499,
          5.402063771489311,
          5.402906252752198,
          5.4030034254413035,
          5.403168425699063,
          5.4040962719401335,
          5.406343558487783,
          5.410321414322062,
          5.416299339874604,
          5.424417001778133,
          5.434701028838521,
          5.447084237744022,
          5.461425254886976,
          5.4775270622384715,
          5.495153607532427,
          5.51404399174416
         ],
         "yaxis": "y"
        },
        {
         "hoverlabel": {
          "namelength": 0
         },
         "hovertemplate": "Mode=Rail<br>Vehicle=freighttrain<br>Year=%{x}<br>Ton-kilometers=%{y}",
         "legendgroup": "Mode=Rail",
         "line": {
          "color": "#EF553B"
         },
         "mode": "lines",
         "name": "Mode=Rail",
         "orientation": "v",
         "showlegend": true,
         "stackgroup": "1",
         "type": "scatter",
         "x": [
          2000,
          2001,
          2002,
          2003,
          2004,
          2005,
          2006,
          2007,
          2008,
          2009,
          2010,
          2011,
          2012,
          2013,
          2014,
          2015,
          2016,
          2017,
          2018,
          2019,
          2020,
          2021,
          2022,
          2023,
          2024,
          2025,
          2026,
          2027,
          2028,
          2029,
          2030,
          2031,
          2032,
          2033,
          2034,
          2035,
          2036,
          2037,
          2038,
          2039,
          2040,
          2041,
          2042,
          2043,
          2044,
          2045,
          2046,
          2047,
          2048,
          2049,
          2050
         ],
         "xaxis": "x",
         "y": [
          5.585586769051702,
          5.585567377840954,
          5.598031373695569,
          5.623581923568583,
          5.662976244604299,
          5.717149971564643,
          5.787244836078357,
          5.874639880466113,
          5.980986266817716,
          6.108245590526762,
          6.258731357971599,
          6.43515280445569,
          6.640659742463327,
          6.878886271337388,
          7.153990199986941,
          7.470683675936327,
          7.834248917121108,
          8.250531182294022,
          8.72589922934231,
          9.26716192022052,
          9.881428858595244,
          10.575903373714128,
          11.357599161641847,
          12.232977483378763,
          13.207511276035842,
          14.285195126745005,
          15.46803495636787,
          16.755565721319037,
          18.144456325833865,
          19.628263584297574,
          21.197389320613258,
          22.83927441597091,
          24.538833850313893,
          26.27910291806516,
          28.042033118815105,
          29.809355289639,
          31.563420867332315,
          33.28794044261756,
          34.96856038734732,
          36.59324482350153,
          38.15245908732782,
          39.639173184611145,
          41.048719678467485,
          42.378547488011215,
          43.627913323047636,
          44.79754733647961,
          45.88932208741599,
          46.90594535054378,
          47.85068910118781,
          48.727160988132496,
          49.53911904433798
         ],
         "yaxis": "y"
        },
        {
         "hoverlabel": {
          "namelength": 0
         },
         "hovertemplate": "Mode=Inland<br>Vehicle=xlbarge<br>Year=%{x}<br>Ton-kilometers=%{y}",
         "legendgroup": "Mode=Inland",
         "line": {
          "color": "#00cc96"
         },
         "mode": "lines",
         "name": "Mode=Inland",
         "orientation": "v",
         "showlegend": true,
         "stackgroup": "1",
         "type": "scatter",
         "x": [
          2000,
          2001,
          2002,
          2003,
          2004,
          2005,
          2006,
          2007,
          2008,
          2009,
          2010,
          2011,
          2012,
          2013,
          2014,
          2015,
          2016,
          2017,
          2018,
          2019,
          2020,
          2021,
          2022,
          2023,
          2024,
          2025,
          2026,
          2027,
          2028,
          2029,
          2030,
          2031,
          2032,
          2033,
          2034,
          2035,
          2036,
          2037,
          2038,
          2039,
          2040,
          2041,
          2042,
          2043,
          2044,
          2045,
          2046,
          2047,
          2048,
          2049,
          2050
         ],
         "xaxis": "x",
         "y": [
          5.465313814229405,
          5.474566109229675,
          5.495230359063564,
          5.527596178013272,
          5.572022114046407,
          5.628942290061457,
          5.698873304694284,
          5.782421268418429,
          5.880288724309251,
          5.9932811312275,
          6.122312485058327,
          6.268409416448687,
          6.432712996803322,
          6.616477190408943,
          6.821062709475383,
          7.0479247593618615,
          7.298592978974911,
          7.574641856408595,
          7.877649997210133,
          8.209147058018981,
          8.570548064185505,
          8.963076020872336,
          9.387675711269406,
          9.844923538896444,
          10.334940609826868,
          10.85731798303605,
          11.411063872896854,
          11.994581778029913,
          12.605686035404178,
          13.241656746701173,
          13.899330799629915,
          14.57522009024249,
          15.265643975644926,
          15.966861468813818,
          16.675189520339217,
          17.38709752601095,
          18.099273195212778,
          18.80865981736687,
          19.51246946619042,
          20.208178448535364,
          20.893512425668614,
          21.56642726542666,
          22.225090197384986,
          22.86786378228552,
          23.493293585134158,
          24.100099122624904,
          24.687167104634653,
          25.253545759716335,
          25.798439010747753,
          26.32119987044691,
          26.82132244995778
         ],
         "yaxis": "y"
        },
        {
         "hoverlabel": {
          "namelength": 0
         },
         "hovertemplate": "Mode=Inland<br>Vehicle=lbarge<br>Year=%{x}<br>Ton-kilometers=%{y}",
         "legendgroup": "Mode=Inland",
         "line": {
          "color": "#00cc96"
         },
         "mode": "lines",
         "name": "Mode=Inland",
         "orientation": "v",
         "showlegend": false,
         "stackgroup": "1",
         "type": "scatter",
         "x": [
          2000,
          2001,
          2002,
          2003,
          2004,
          2005,
          2006,
          2007,
          2008,
          2009,
          2010,
          2011,
          2012,
          2013,
          2014,
          2015,
          2016,
          2017,
          2018,
          2019,
          2020,
          2021,
          2022,
          2023,
          2024,
          2025,
          2026,
          2027,
          2028,
          2029,
          2030,
          2031,
          2032,
          2033,
          2034,
          2035,
          2036,
          2037,
          2038,
          2039,
          2040,
          2041,
          2042,
          2043,
          2044,
          2045,
          2046,
          2047,
          2048,
          2049,
          2050
         ],
         "xaxis": "x",
         "y": [
          7.881479068062689,
          7.864021722904403,
          7.86005517016674,
          7.869562253005632,
          7.892572760959106,
          7.9291666988769185,
          7.9794773051369505,
          8.043693637833007,
          8.122062399739175,
          8.214888619438582,
          8.322534729517262,
          8.445417348461103,
          8.58400105539944,
          8.738788214977863,
          8.910303882156771,
          9.099074720074247,
          9.30560093192556,
          9.530320507275496,
          9.773565528191302,
          10.035511087651953,
          10.316118606588605,
          10.615076647998192,
          10.931744214125814,
          11.265102863294727,
          11.613725248001042,
          11.975767746101994,
          12.348993665955481,
          12.730830547105555,
          13.118460862351595,
          13.508940015378581,
          13.899330799629915,
          14.286839768546063,
          14.668939984987212,
          15.043466717865055,
          15.408676840917986,
          15.763268847912123,
          16.106366351808724,
          16.43747243306874,
          16.756405207317584,
          17.063224853089856,
          17.358161465833074,
          17.64155023014187,
          17.913777855830823,
          18.175241644781643,
          18.426320757554283,
          18.667358004511165,
          18.898650053588376,
          19.12044386311231,
          19.332937269070797,
          19.536282259656677,
          19.73058961457484
         ],
         "yaxis": "y"
        },
        {
         "hoverlabel": {
          "namelength": 0
         },
         "hovertemplate": "Mode=Inland<br>Vehicle=mbarge<br>Year=%{x}<br>Ton-kilometers=%{y}",
         "legendgroup": "Mode=Inland",
         "line": {
          "color": "#00cc96"
         },
         "mode": "lines",
         "name": "Mode=Inland",
         "orientation": "v",
         "showlegend": false,
         "stackgroup": "1",
         "type": "scatter",
         "x": [
          2000,
          2001,
          2002,
          2003,
          2004,
          2005,
          2006,
          2007,
          2008,
          2009,
          2010,
          2011,
          2012,
          2013,
          2014,
          2015,
          2016,
          2017,
          2018,
          2019,
          2020,
          2021,
          2022,
          2023,
          2024,
          2025,
          2026,
          2027,
          2028,
          2029,
          2030,
          2031,
          2032,
          2033,
          2034,
          2035,
          2036,
          2037,
          2038,
          2039,
          2040,
          2041,
          2042,
          2043,
          2044,
          2045,
          2046,
          2047,
          2048,
          2049,
          2050
         ],
         "xaxis": "x",
         "y": [
          10.408015748475286,
          10.351782222209579,
          10.31040798847141,
          10.283471117995505,
          10.270572189801692,
          10.271335407832991,
          10.28540934724242,
          10.312467162913704,
          10.352205929501059,
          10.404344753267662,
          10.468621248944796,
          10.54478574484856,
          10.632592647565298,
          10.731788216688203,
          10.842094102270845,
          10.96318603207294,
          11.094667284788231,
          11.236037101615723,
          11.386654826906645,
          11.545701536744453,
          11.712142207071288,
          11.884692604084846,
          12.061796556457262,
          12.241619774617366,
          12.42206649322445,
          12.600823819663988,
          12.775435988048718,
          12.943406557641698,
          13.102321892001584,
          13.24998437264239,
          13.384540770013993,
          13.504590119908377,
          13.609257580185814,
          13.698225692196086,
          13.771720624777624,
          13.830457771106564,
          13.875556305317492,
          13.908435093377859,
          13.930703087962868,
          13.94405511565756,
          13.950181329530109,
          13.950694746531447,
          13.947078308200638,
          13.940650420343182,
          13.93254648256337,
          13.923713168130705,
          13.914912219838232,
          13.906730822207763,
          13.899596033961156,
          13.893791486104288,
          13.889474870419319
         ],
         "yaxis": "y"
        },
        {
         "hoverlabel": {
          "namelength": 0
         },
         "hovertemplate": "Mode=Inland<br>Vehicle=sbarge<br>Year=%{x}<br>Ton-kilometers=%{y}",
         "legendgroup": "Mode=Inland",
         "line": {
          "color": "#00cc96"
         },
         "mode": "lines",
         "name": "Mode=Inland",
         "orientation": "v",
         "showlegend": false,
         "stackgroup": "1",
         "type": "scatter",
         "x": [
          2000,
          2001,
          2002,
          2003,
          2004,
          2005,
          2006,
          2007,
          2008,
          2009,
          2010,
          2011,
          2012,
          2013,
          2014,
          2015,
          2016,
          2017,
          2018,
          2019,
          2020,
          2021,
          2022,
          2023,
          2024,
          2025,
          2026,
          2027,
          2028,
          2029,
          2030,
          2031,
          2032,
          2033,
          2034,
          2035,
          2036,
          2037,
          2038,
          2039,
          2040,
          2041,
          2042,
          2043,
          2044,
          2045,
          2046,
          2047,
          2048,
          2049,
          2050
         ],
         "xaxis": "x",
         "y": [
          20.008254078757055,
          19.851584060215632,
          19.719583280926184,
          19.610975692135302,
          19.52449846571999,
          19.458904742252273,
          19.41296635990903,
          19.38547637849313,
          19.375250918673014,
          19.381129802375614,
          19.401975414337134,
          19.436668804827658,
          19.48410222082572,
          19.543166962985886,
          19.612735707554695,
          19.691638543337206,
          19.77863246114224,
          19.872364955349987,
          19.971333451183444,
          20.07384378396313,
          20.17797285407812,
          20.28154196930112,
          20.382109145486048,
          20.476988525695113,
          20.563304254548168,
          20.638082928240724,
          20.69838381770443,
          20.741459427835245,
          20.764932376652027,
          20.766968669647657,
          20.746425253694326,
          20.702950900787997,
          20.63702533293718,
          20.549930785205454,
          20.443660001747936,
          20.320774043287905,
          20.18422917926818,
          20.03719377213112,
          19.88287461360066,
          19.724366826870448,
          19.564536226609867,
          19.405936819575615,
          19.250761854303956,
          19.100823730918837,
          18.95755671091221,
          18.822036048598996,
          18.69500785224223,
          18.57692495370601,
          18.467985080265116,
          18.36816890508182,
          18.277276181893907
         ],
         "yaxis": "y"
        }
       ],
       "layout": {
        "height": 600,
        "legend": {
         "font": {
          "size": 10
         },
         "tracegroupgap": 0,
         "traceorder": "reversed",
         "y": 0.5
        },
        "margin": {
         "t": 60
        },
        "template": {
         "data": {
          "bar": [
           {
            "error_x": {
             "color": "#2a3f5f"
            },
            "error_y": {
             "color": "#2a3f5f"
            },
            "marker": {
             "line": {
              "color": "#E5ECF6",
              "width": 0.5
             }
            },
            "type": "bar"
           }
          ],
          "barpolar": [
           {
            "marker": {
             "line": {
              "color": "#E5ECF6",
              "width": 0.5
             }
            },
            "type": "barpolar"
           }
          ],
          "carpet": [
           {
            "aaxis": {
             "endlinecolor": "#2a3f5f",
             "gridcolor": "white",
             "linecolor": "white",
             "minorgridcolor": "white",
             "startlinecolor": "#2a3f5f"
            },
            "baxis": {
             "endlinecolor": "#2a3f5f",
             "gridcolor": "white",
             "linecolor": "white",
             "minorgridcolor": "white",
             "startlinecolor": "#2a3f5f"
            },
            "type": "carpet"
           }
          ],
          "choropleth": [
           {
            "colorbar": {
             "outlinewidth": 0,
             "ticks": ""
            },
            "type": "choropleth"
           }
          ],
          "contour": [
           {
            "colorbar": {
             "outlinewidth": 0,
             "ticks": ""
            },
            "colorscale": [
             [
              0,
              "#0d0887"
             ],
             [
              0.1111111111111111,
              "#46039f"
             ],
             [
              0.2222222222222222,
              "#7201a8"
             ],
             [
              0.3333333333333333,
              "#9c179e"
             ],
             [
              0.4444444444444444,
              "#bd3786"
             ],
             [
              0.5555555555555556,
              "#d8576b"
             ],
             [
              0.6666666666666666,
              "#ed7953"
             ],
             [
              0.7777777777777778,
              "#fb9f3a"
             ],
             [
              0.8888888888888888,
              "#fdca26"
             ],
             [
              1,
              "#f0f921"
             ]
            ],
            "type": "contour"
           }
          ],
          "contourcarpet": [
           {
            "colorbar": {
             "outlinewidth": 0,
             "ticks": ""
            },
            "type": "contourcarpet"
           }
          ],
          "heatmap": [
           {
            "colorbar": {
             "outlinewidth": 0,
             "ticks": ""
            },
            "colorscale": [
             [
              0,
              "#0d0887"
             ],
             [
              0.1111111111111111,
              "#46039f"
             ],
             [
              0.2222222222222222,
              "#7201a8"
             ],
             [
              0.3333333333333333,
              "#9c179e"
             ],
             [
              0.4444444444444444,
              "#bd3786"
             ],
             [
              0.5555555555555556,
              "#d8576b"
             ],
             [
              0.6666666666666666,
              "#ed7953"
             ],
             [
              0.7777777777777778,
              "#fb9f3a"
             ],
             [
              0.8888888888888888,
              "#fdca26"
             ],
             [
              1,
              "#f0f921"
             ]
            ],
            "type": "heatmap"
           }
          ],
          "heatmapgl": [
           {
            "colorbar": {
             "outlinewidth": 0,
             "ticks": ""
            },
            "colorscale": [
             [
              0,
              "#0d0887"
             ],
             [
              0.1111111111111111,
              "#46039f"
             ],
             [
              0.2222222222222222,
              "#7201a8"
             ],
             [
              0.3333333333333333,
              "#9c179e"
             ],
             [
              0.4444444444444444,
              "#bd3786"
             ],
             [
              0.5555555555555556,
              "#d8576b"
             ],
             [
              0.6666666666666666,
              "#ed7953"
             ],
             [
              0.7777777777777778,
              "#fb9f3a"
             ],
             [
              0.8888888888888888,
              "#fdca26"
             ],
             [
              1,
              "#f0f921"
             ]
            ],
            "type": "heatmapgl"
           }
          ],
          "histogram": [
           {
            "marker": {
             "colorbar": {
              "outlinewidth": 0,
              "ticks": ""
             }
            },
            "type": "histogram"
           }
          ],
          "histogram2d": [
           {
            "colorbar": {
             "outlinewidth": 0,
             "ticks": ""
            },
            "colorscale": [
             [
              0,
              "#0d0887"
             ],
             [
              0.1111111111111111,
              "#46039f"
             ],
             [
              0.2222222222222222,
              "#7201a8"
             ],
             [
              0.3333333333333333,
              "#9c179e"
             ],
             [
              0.4444444444444444,
              "#bd3786"
             ],
             [
              0.5555555555555556,
              "#d8576b"
             ],
             [
              0.6666666666666666,
              "#ed7953"
             ],
             [
              0.7777777777777778,
              "#fb9f3a"
             ],
             [
              0.8888888888888888,
              "#fdca26"
             ],
             [
              1,
              "#f0f921"
             ]
            ],
            "type": "histogram2d"
           }
          ],
          "histogram2dcontour": [
           {
            "colorbar": {
             "outlinewidth": 0,
             "ticks": ""
            },
            "colorscale": [
             [
              0,
              "#0d0887"
             ],
             [
              0.1111111111111111,
              "#46039f"
             ],
             [
              0.2222222222222222,
              "#7201a8"
             ],
             [
              0.3333333333333333,
              "#9c179e"
             ],
             [
              0.4444444444444444,
              "#bd3786"
             ],
             [
              0.5555555555555556,
              "#d8576b"
             ],
             [
              0.6666666666666666,
              "#ed7953"
             ],
             [
              0.7777777777777778,
              "#fb9f3a"
             ],
             [
              0.8888888888888888,
              "#fdca26"
             ],
             [
              1,
              "#f0f921"
             ]
            ],
            "type": "histogram2dcontour"
           }
          ],
          "mesh3d": [
           {
            "colorbar": {
             "outlinewidth": 0,
             "ticks": ""
            },
            "type": "mesh3d"
           }
          ],
          "parcoords": [
           {
            "line": {
             "colorbar": {
              "outlinewidth": 0,
              "ticks": ""
             }
            },
            "type": "parcoords"
           }
          ],
          "scatter": [
           {
            "marker": {
             "colorbar": {
              "outlinewidth": 0,
              "ticks": ""
             }
            },
            "type": "scatter"
           }
          ],
          "scatter3d": [
           {
            "line": {
             "colorbar": {
              "outlinewidth": 0,
              "ticks": ""
             }
            },
            "marker": {
             "colorbar": {
              "outlinewidth": 0,
              "ticks": ""
             }
            },
            "type": "scatter3d"
           }
          ],
          "scattercarpet": [
           {
            "marker": {
             "colorbar": {
              "outlinewidth": 0,
              "ticks": ""
             }
            },
            "type": "scattercarpet"
           }
          ],
          "scattergeo": [
           {
            "marker": {
             "colorbar": {
              "outlinewidth": 0,
              "ticks": ""
             }
            },
            "type": "scattergeo"
           }
          ],
          "scattergl": [
           {
            "marker": {
             "colorbar": {
              "outlinewidth": 0,
              "ticks": ""
             }
            },
            "type": "scattergl"
           }
          ],
          "scattermapbox": [
           {
            "marker": {
             "colorbar": {
              "outlinewidth": 0,
              "ticks": ""
             }
            },
            "type": "scattermapbox"
           }
          ],
          "scatterpolar": [
           {
            "marker": {
             "colorbar": {
              "outlinewidth": 0,
              "ticks": ""
             }
            },
            "type": "scatterpolar"
           }
          ],
          "scatterpolargl": [
           {
            "marker": {
             "colorbar": {
              "outlinewidth": 0,
              "ticks": ""
             }
            },
            "type": "scatterpolargl"
           }
          ],
          "scatterternary": [
           {
            "marker": {
             "colorbar": {
              "outlinewidth": 0,
              "ticks": ""
             }
            },
            "type": "scatterternary"
           }
          ],
          "surface": [
           {
            "colorbar": {
             "outlinewidth": 0,
             "ticks": ""
            },
            "colorscale": [
             [
              0,
              "#0d0887"
             ],
             [
              0.1111111111111111,
              "#46039f"
             ],
             [
              0.2222222222222222,
              "#7201a8"
             ],
             [
              0.3333333333333333,
              "#9c179e"
             ],
             [
              0.4444444444444444,
              "#bd3786"
             ],
             [
              0.5555555555555556,
              "#d8576b"
             ],
             [
              0.6666666666666666,
              "#ed7953"
             ],
             [
              0.7777777777777778,
              "#fb9f3a"
             ],
             [
              0.8888888888888888,
              "#fdca26"
             ],
             [
              1,
              "#f0f921"
             ]
            ],
            "type": "surface"
           }
          ],
          "table": [
           {
            "cells": {
             "fill": {
              "color": "#EBF0F8"
             },
             "line": {
              "color": "white"
             }
            },
            "header": {
             "fill": {
              "color": "#C8D4E3"
             },
             "line": {
              "color": "white"
             }
            },
            "type": "table"
           }
          ]
         },
         "layout": {
          "annotationdefaults": {
           "arrowcolor": "#2a3f5f",
           "arrowhead": 0,
           "arrowwidth": 1
          },
          "colorscale": {
           "diverging": [
            [
             0,
             "#8e0152"
            ],
            [
             0.1,
             "#c51b7d"
            ],
            [
             0.2,
             "#de77ae"
            ],
            [
             0.3,
             "#f1b6da"
            ],
            [
             0.4,
             "#fde0ef"
            ],
            [
             0.5,
             "#f7f7f7"
            ],
            [
             0.6,
             "#e6f5d0"
            ],
            [
             0.7,
             "#b8e186"
            ],
            [
             0.8,
             "#7fbc41"
            ],
            [
             0.9,
             "#4d9221"
            ],
            [
             1,
             "#276419"
            ]
           ],
           "sequential": [
            [
             0,
             "#0d0887"
            ],
            [
             0.1111111111111111,
             "#46039f"
            ],
            [
             0.2222222222222222,
             "#7201a8"
            ],
            [
             0.3333333333333333,
             "#9c179e"
            ],
            [
             0.4444444444444444,
             "#bd3786"
            ],
            [
             0.5555555555555556,
             "#d8576b"
            ],
            [
             0.6666666666666666,
             "#ed7953"
            ],
            [
             0.7777777777777778,
             "#fb9f3a"
            ],
            [
             0.8888888888888888,
             "#fdca26"
            ],
            [
             1,
             "#f0f921"
            ]
           ],
           "sequentialminus": [
            [
             0,
             "#0d0887"
            ],
            [
             0.1111111111111111,
             "#46039f"
            ],
            [
             0.2222222222222222,
             "#7201a8"
            ],
            [
             0.3333333333333333,
             "#9c179e"
            ],
            [
             0.4444444444444444,
             "#bd3786"
            ],
            [
             0.5555555555555556,
             "#d8576b"
            ],
            [
             0.6666666666666666,
             "#ed7953"
            ],
            [
             0.7777777777777778,
             "#fb9f3a"
            ],
            [
             0.8888888888888888,
             "#fdca26"
            ],
            [
             1,
             "#f0f921"
            ]
           ]
          },
          "colorway": [
           "#636efa",
           "#EF553B",
           "#00cc96",
           "#ab63fa",
           "#FFA15A",
           "#19d3f3",
           "#FF6692",
           "#B6E880",
           "#FF97FF",
           "#FECB52"
          ],
          "font": {
           "color": "#2a3f5f"
          },
          "geo": {
           "bgcolor": "white",
           "lakecolor": "white",
           "landcolor": "#E5ECF6",
           "showlakes": true,
           "showland": true,
           "subunitcolor": "white"
          },
          "hoverlabel": {
           "align": "left"
          },
          "hovermode": "closest",
          "mapbox": {
           "style": "light"
          },
          "paper_bgcolor": "white",
          "plot_bgcolor": "#E5ECF6",
          "polar": {
           "angularaxis": {
            "gridcolor": "white",
            "linecolor": "white",
            "ticks": ""
           },
           "bgcolor": "#E5ECF6",
           "radialaxis": {
            "gridcolor": "white",
            "linecolor": "white",
            "ticks": ""
           }
          },
          "scene": {
           "xaxis": {
            "backgroundcolor": "#E5ECF6",
            "gridcolor": "white",
            "gridwidth": 2,
            "linecolor": "white",
            "showbackground": true,
            "ticks": "",
            "zerolinecolor": "white"
           },
           "yaxis": {
            "backgroundcolor": "#E5ECF6",
            "gridcolor": "white",
            "gridwidth": 2,
            "linecolor": "white",
            "showbackground": true,
            "ticks": "",
            "zerolinecolor": "white"
           },
           "zaxis": {
            "backgroundcolor": "#E5ECF6",
            "gridcolor": "white",
            "gridwidth": 2,
            "linecolor": "white",
            "showbackground": true,
            "ticks": "",
            "zerolinecolor": "white"
           }
          },
          "shapedefaults": {
           "line": {
            "color": "#2a3f5f"
           }
          },
          "ternary": {
           "aaxis": {
            "gridcolor": "white",
            "linecolor": "white",
            "ticks": ""
           },
           "baxis": {
            "gridcolor": "white",
            "linecolor": "white",
            "ticks": ""
           },
           "bgcolor": "#E5ECF6",
           "caxis": {
            "gridcolor": "white",
            "linecolor": "white",
            "ticks": ""
           }
          },
          "title": {
           "x": 0.05
          },
          "xaxis": {
           "automargin": true,
           "gridcolor": "white",
           "linecolor": "white",
           "ticks": "",
           "zerolinecolor": "white",
           "zerolinewidth": 2
          },
          "yaxis": {
           "automargin": true,
           "gridcolor": "white",
           "linecolor": "white",
           "ticks": "",
           "zerolinecolor": "white",
           "zerolinewidth": 2
          }
         }
        },
        "xaxis": {
         "anchor": "y",
         "domain": [
          0,
          0.98
         ],
         "title": {
          "text": "Year"
         }
        },
        "yaxis": {
         "anchor": "x",
         "domain": [
          0,
          1
         ],
         "title": {
          "text": "Ton-kilometers"
         }
        }
       }
      },
      "text/html": [
       "<div>\n",
       "        \n",
       "        \n",
       "            <div id=\"6283d8b2-4e42-4ee3-be20-d1a11261822a\" class=\"plotly-graph-div\" style=\"height:600px; width:100%;\"></div>\n",
       "            <script type=\"text/javascript\">\n",
       "                require([\"plotly\"], function(Plotly) {\n",
       "                    window.PLOTLYENV=window.PLOTLYENV || {};\n",
       "                    \n",
       "                if (document.getElementById(\"6283d8b2-4e42-4ee3-be20-d1a11261822a\")) {\n",
       "                    Plotly.newPlot(\n",
       "                        '6283d8b2-4e42-4ee3-be20-d1a11261822a',\n",
       "                        [{\"hoverlabel\": {\"namelength\": 0}, \"hovertemplate\": \"Mode=Road<br>Vehicle=40tlorry<br>Year=%{x}<br>Ton-kilometers=%{y}\", \"legendgroup\": \"Mode=Road\", \"line\": {\"color\": \"#636efa\"}, \"mode\": \"lines\", \"name\": \"Mode=Road\", \"orientation\": \"v\", \"showlegend\": true, \"stackgroup\": \"1\", \"type\": \"scatter\", \"x\": [2000.0, 2001.0, 2002.0, 2003.0, 2004.0, 2005.0, 2006.0, 2007.0, 2008.0, 2009.0, 2010.0, 2011.0, 2012.0, 2013.0, 2014.0, 2015.0, 2016.0, 2017.0, 2018.0, 2019.0, 2020.0, 2021.0, 2022.0, 2023.0, 2024.0, 2025.0, 2026.0, 2027.0, 2028.0, 2029.0, 2030.0, 2031.0, 2032.0, 2033.0, 2034.0, 2035.0, 2036.0, 2037.0, 2038.0, 2039.0, 2040.0, 2041.0, 2042.0, 2043.0, 2044.0, 2045.0, 2046.0, 2047.0, 2048.0, 2049.0, 2050.0], \"xaxis\": \"x\", \"y\": [15.221094960780379, 15.139063475464184, 15.07866301330679, 15.039253095451564, 15.020220741401278, 15.02098089368203, 15.040976020087967, 15.079674588326943, 15.136567862929674, 15.211164429982782, 15.302981792428925, 15.41153406158029, 15.536314909561087, 15.676774752000352, 15.832291388774436, 16.002133541048995, 16.185417306877582, 16.381056593089408, 16.587709844579006, 16.803727152127294, 17.027104002039653, 17.255449722165782, 17.485980677908863, 17.715548404566825, 17.940711837756737, 18.157858968781827, 18.363377047327678, 18.553861962995732, 18.726348588340723, 18.878535883342952, 19.00897698806791, 19.11720580030199, 19.20377918066297, 19.27022656082709, 19.318912815269382, 19.352833721389832, 19.375372172770096, 19.390046036405014, 19.400276163325117, 19.409195255227107, 19.41950971784163, 19.433417108724665, 19.452574805257072, 19.478110717287894, 19.510664832880416, 19.55045027558223, 19.597324038651372, 19.650859628615123, 19.710416001247214, 19.775199487704256, 19.844316836322676], \"yaxis\": \"y\"}, {\"hoverlabel\": {\"namelength\": 0}, \"hovertemplate\": \"Mode=Road<br>Vehicle=28tlorry<br>Year=%{x}<br>Ton-kilometers=%{y}\", \"legendgroup\": \"Mode=Road\", \"line\": {\"color\": \"#636efa\"}, \"mode\": \"lines\", \"name\": \"Mode=Road\", \"orientation\": \"v\", \"showlegend\": false, \"stackgroup\": \"1\", \"type\": \"scatter\", \"x\": [2000.0, 2001.0, 2002.0, 2003.0, 2004.0, 2005.0, 2006.0, 2007.0, 2008.0, 2009.0, 2010.0, 2011.0, 2012.0, 2013.0, 2014.0, 2015.0, 2016.0, 2017.0, 2018.0, 2019.0, 2020.0, 2021.0, 2022.0, 2023.0, 2024.0, 2025.0, 2026.0, 2027.0, 2028.0, 2029.0, 2030.0, 2031.0, 2032.0, 2033.0, 2034.0, 2035.0, 2036.0, 2037.0, 2038.0, 2039.0, 2040.0, 2041.0, 2042.0, 2043.0, 2044.0, 2045.0, 2046.0, 2047.0, 2048.0, 2049.0, 2050.0], \"xaxis\": \"x\", \"y\": [53.34929932516754, 52.96484017108117, 52.642116098809524, 52.376455559411596, 52.162927375034435, 51.99630242464254, 51.87101318718014, 51.78111250486748, 51.72023303492301, 51.681549870295974, 51.657749942236386, 51.641012220121354, 51.62300470484282, 51.594904860003815, 51.5474517992763, 51.4710390868097, 51.35585725294832, 51.19209463224484, 50.97020251317868, 50.68122629734069, 50.31719815556977, 49.87157689277119, 49.3397111832644, 48.719289897167805, 48.01073427015343, 47.21748058860321, 46.34610343739052, 45.40623916464829, 44.41028890854158, 43.372906102511955, 42.31030361860276, 41.23944131657742, 40.17717253332421, 39.13943329990335, 38.1405481633518, 37.19270682540935, 36.30563905446375, 35.48648781350738, 34.73985902649266, 34.06801037558127, 33.471136287667676, 32.94770614862171, 32.49481912436021, 32.10854724502405, 31.784247599780404, 31.51683255464446, 31.300993708284768, 31.131380055521372, 31.002733758332628, 30.90998902356694, 30.84833983227346], \"yaxis\": \"y\"}, {\"hoverlabel\": {\"namelength\": 0}, \"hovertemplate\": \"Mode=Road<br>Vehicle=16tlorry<br>Year=%{x}<br>Ton-kilometers=%{y}\", \"legendgroup\": \"Mode=Road\", \"line\": {\"color\": \"#636efa\"}, \"mode\": \"lines\", \"name\": \"Mode=Road\", \"orientation\": \"v\", \"showlegend\": false, \"stackgroup\": \"1\", \"type\": \"scatter\", \"x\": [2000.0, 2001.0, 2002.0, 2003.0, 2004.0, 2005.0, 2006.0, 2007.0, 2008.0, 2009.0, 2010.0, 2011.0, 2012.0, 2013.0, 2014.0, 2015.0, 2016.0, 2017.0, 2018.0, 2019.0, 2020.0, 2021.0, 2022.0, 2023.0, 2024.0, 2025.0, 2026.0, 2027.0, 2028.0, 2029.0, 2030.0, 2031.0, 2032.0, 2033.0, 2034.0, 2035.0, 2036.0, 2037.0, 2038.0, 2039.0, 2040.0, 2041.0, 2042.0, 2043.0, 2044.0, 2045.0, 2046.0, 2047.0, 2048.0, 2049.0, 2050.0], \"xaxis\": \"x\", \"y\": [4.4109546094612355, 4.386363906030634, 4.367923806375286, 4.355428694867199, 4.34867810538772, 4.347476572938236, 4.351633273203381, 4.360961387317389, 4.375277066993607, 4.394397872716018, 4.418140550917948, 4.44631793606057, 4.4787348140578676, 4.515182533546394, 4.555432225275137, 4.599226537711497, 4.646269935065891, 4.696217848948472, 4.748665258331426, 4.8031356714627105, 4.8590719823181585, 4.91583105603108, 4.972684360514642, 5.028826948162525, 5.083396844606162, 5.135505979724942, 5.184282332575978, 5.228920950212963, 5.268739416213202, 5.303231434492987, 5.332111357101798, 5.355342776203781, 5.373146149862076, 5.3859835145128505, 5.394521779013009, 5.399579439697499, 5.402063771489311, 5.402906252752198, 5.4030034254413035, 5.403168425699063, 5.4040962719401335, 5.406343558487783, 5.410321414322062, 5.416299339874604, 5.424417001778133, 5.434701028838521, 5.447084237744022, 5.461425254886976, 5.4775270622384715, 5.495153607532427, 5.51404399174416], \"yaxis\": \"y\"}, {\"hoverlabel\": {\"namelength\": 0}, \"hovertemplate\": \"Mode=Rail<br>Vehicle=freighttrain<br>Year=%{x}<br>Ton-kilometers=%{y}\", \"legendgroup\": \"Mode=Rail\", \"line\": {\"color\": \"#EF553B\"}, \"mode\": \"lines\", \"name\": \"Mode=Rail\", \"orientation\": \"v\", \"showlegend\": true, \"stackgroup\": \"1\", \"type\": \"scatter\", \"x\": [2000.0, 2001.0, 2002.0, 2003.0, 2004.0, 2005.0, 2006.0, 2007.0, 2008.0, 2009.0, 2010.0, 2011.0, 2012.0, 2013.0, 2014.0, 2015.0, 2016.0, 2017.0, 2018.0, 2019.0, 2020.0, 2021.0, 2022.0, 2023.0, 2024.0, 2025.0, 2026.0, 2027.0, 2028.0, 2029.0, 2030.0, 2031.0, 2032.0, 2033.0, 2034.0, 2035.0, 2036.0, 2037.0, 2038.0, 2039.0, 2040.0, 2041.0, 2042.0, 2043.0, 2044.0, 2045.0, 2046.0, 2047.0, 2048.0, 2049.0, 2050.0], \"xaxis\": \"x\", \"y\": [5.585586769051702, 5.585567377840954, 5.598031373695569, 5.623581923568583, 5.662976244604299, 5.717149971564643, 5.787244836078357, 5.874639880466113, 5.980986266817716, 6.108245590526762, 6.258731357971599, 6.43515280445569, 6.640659742463327, 6.878886271337388, 7.153990199986941, 7.470683675936327, 7.834248917121108, 8.250531182294022, 8.72589922934231, 9.26716192022052, 9.881428858595244, 10.575903373714128, 11.357599161641847, 12.232977483378763, 13.207511276035842, 14.285195126745005, 15.46803495636787, 16.755565721319037, 18.144456325833865, 19.628263584297574, 21.197389320613258, 22.83927441597091, 24.538833850313893, 26.27910291806516, 28.042033118815105, 29.809355289639, 31.563420867332315, 33.28794044261756, 34.96856038734732, 36.59324482350153, 38.15245908732782, 39.639173184611145, 41.048719678467485, 42.378547488011215, 43.627913323047636, 44.79754733647961, 45.88932208741599, 46.90594535054378, 47.85068910118781, 48.727160988132496, 49.53911904433798], \"yaxis\": \"y\"}, {\"hoverlabel\": {\"namelength\": 0}, \"hovertemplate\": \"Mode=Inland<br>Vehicle=xlbarge<br>Year=%{x}<br>Ton-kilometers=%{y}\", \"legendgroup\": \"Mode=Inland\", \"line\": {\"color\": \"#00cc96\"}, \"mode\": \"lines\", \"name\": \"Mode=Inland\", \"orientation\": \"v\", \"showlegend\": true, \"stackgroup\": \"1\", \"type\": \"scatter\", \"x\": [2000.0, 2001.0, 2002.0, 2003.0, 2004.0, 2005.0, 2006.0, 2007.0, 2008.0, 2009.0, 2010.0, 2011.0, 2012.0, 2013.0, 2014.0, 2015.0, 2016.0, 2017.0, 2018.0, 2019.0, 2020.0, 2021.0, 2022.0, 2023.0, 2024.0, 2025.0, 2026.0, 2027.0, 2028.0, 2029.0, 2030.0, 2031.0, 2032.0, 2033.0, 2034.0, 2035.0, 2036.0, 2037.0, 2038.0, 2039.0, 2040.0, 2041.0, 2042.0, 2043.0, 2044.0, 2045.0, 2046.0, 2047.0, 2048.0, 2049.0, 2050.0], \"xaxis\": \"x\", \"y\": [5.465313814229405, 5.474566109229675, 5.495230359063564, 5.527596178013272, 5.572022114046407, 5.628942290061457, 5.698873304694284, 5.782421268418429, 5.880288724309251, 5.9932811312275, 6.122312485058327, 6.268409416448687, 6.432712996803322, 6.616477190408943, 6.821062709475383, 7.0479247593618615, 7.298592978974911, 7.574641856408595, 7.877649997210133, 8.209147058018981, 8.570548064185505, 8.963076020872336, 9.387675711269406, 9.844923538896444, 10.334940609826868, 10.85731798303605, 11.411063872896854, 11.994581778029913, 12.605686035404178, 13.241656746701173, 13.899330799629915, 14.57522009024249, 15.265643975644926, 15.966861468813818, 16.675189520339217, 17.38709752601095, 18.099273195212778, 18.80865981736687, 19.51246946619042, 20.208178448535364, 20.893512425668614, 21.56642726542666, 22.225090197384986, 22.86786378228552, 23.493293585134158, 24.100099122624904, 24.687167104634653, 25.253545759716335, 25.798439010747753, 26.32119987044691, 26.82132244995778], \"yaxis\": \"y\"}, {\"hoverlabel\": {\"namelength\": 0}, \"hovertemplate\": \"Mode=Inland<br>Vehicle=lbarge<br>Year=%{x}<br>Ton-kilometers=%{y}\", \"legendgroup\": \"Mode=Inland\", \"line\": {\"color\": \"#00cc96\"}, \"mode\": \"lines\", \"name\": \"Mode=Inland\", \"orientation\": \"v\", \"showlegend\": false, \"stackgroup\": \"1\", \"type\": \"scatter\", \"x\": [2000.0, 2001.0, 2002.0, 2003.0, 2004.0, 2005.0, 2006.0, 2007.0, 2008.0, 2009.0, 2010.0, 2011.0, 2012.0, 2013.0, 2014.0, 2015.0, 2016.0, 2017.0, 2018.0, 2019.0, 2020.0, 2021.0, 2022.0, 2023.0, 2024.0, 2025.0, 2026.0, 2027.0, 2028.0, 2029.0, 2030.0, 2031.0, 2032.0, 2033.0, 2034.0, 2035.0, 2036.0, 2037.0, 2038.0, 2039.0, 2040.0, 2041.0, 2042.0, 2043.0, 2044.0, 2045.0, 2046.0, 2047.0, 2048.0, 2049.0, 2050.0], \"xaxis\": \"x\", \"y\": [7.881479068062689, 7.864021722904403, 7.86005517016674, 7.869562253005632, 7.892572760959106, 7.9291666988769185, 7.9794773051369505, 8.043693637833007, 8.122062399739175, 8.214888619438582, 8.322534729517262, 8.445417348461103, 8.58400105539944, 8.738788214977863, 8.910303882156771, 9.099074720074247, 9.30560093192556, 9.530320507275496, 9.773565528191302, 10.035511087651953, 10.316118606588605, 10.615076647998192, 10.931744214125814, 11.265102863294727, 11.613725248001042, 11.975767746101994, 12.348993665955481, 12.730830547105555, 13.118460862351595, 13.508940015378581, 13.899330799629915, 14.286839768546063, 14.668939984987212, 15.043466717865055, 15.408676840917986, 15.763268847912123, 16.106366351808724, 16.43747243306874, 16.756405207317584, 17.063224853089856, 17.358161465833074, 17.64155023014187, 17.913777855830823, 18.175241644781643, 18.426320757554283, 18.667358004511165, 18.898650053588376, 19.12044386311231, 19.332937269070797, 19.536282259656677, 19.73058961457484], \"yaxis\": \"y\"}, {\"hoverlabel\": {\"namelength\": 0}, \"hovertemplate\": \"Mode=Inland<br>Vehicle=mbarge<br>Year=%{x}<br>Ton-kilometers=%{y}\", \"legendgroup\": \"Mode=Inland\", \"line\": {\"color\": \"#00cc96\"}, \"mode\": \"lines\", \"name\": \"Mode=Inland\", \"orientation\": \"v\", \"showlegend\": false, \"stackgroup\": \"1\", \"type\": \"scatter\", \"x\": [2000.0, 2001.0, 2002.0, 2003.0, 2004.0, 2005.0, 2006.0, 2007.0, 2008.0, 2009.0, 2010.0, 2011.0, 2012.0, 2013.0, 2014.0, 2015.0, 2016.0, 2017.0, 2018.0, 2019.0, 2020.0, 2021.0, 2022.0, 2023.0, 2024.0, 2025.0, 2026.0, 2027.0, 2028.0, 2029.0, 2030.0, 2031.0, 2032.0, 2033.0, 2034.0, 2035.0, 2036.0, 2037.0, 2038.0, 2039.0, 2040.0, 2041.0, 2042.0, 2043.0, 2044.0, 2045.0, 2046.0, 2047.0, 2048.0, 2049.0, 2050.0], \"xaxis\": \"x\", \"y\": [10.408015748475286, 10.351782222209579, 10.31040798847141, 10.283471117995505, 10.270572189801692, 10.271335407832991, 10.28540934724242, 10.312467162913704, 10.352205929501059, 10.404344753267662, 10.468621248944796, 10.54478574484856, 10.632592647565298, 10.731788216688203, 10.842094102270845, 10.96318603207294, 11.094667284788231, 11.236037101615723, 11.386654826906645, 11.545701536744453, 11.712142207071288, 11.884692604084846, 12.061796556457262, 12.241619774617366, 12.42206649322445, 12.600823819663988, 12.775435988048718, 12.943406557641698, 13.102321892001584, 13.24998437264239, 13.384540770013993, 13.504590119908377, 13.609257580185814, 13.698225692196086, 13.771720624777624, 13.830457771106564, 13.875556305317492, 13.908435093377859, 13.930703087962868, 13.94405511565756, 13.950181329530109, 13.950694746531447, 13.947078308200638, 13.940650420343182, 13.93254648256337, 13.923713168130705, 13.914912219838232, 13.906730822207763, 13.899596033961156, 13.893791486104288, 13.889474870419319], \"yaxis\": \"y\"}, {\"hoverlabel\": {\"namelength\": 0}, \"hovertemplate\": \"Mode=Inland<br>Vehicle=sbarge<br>Year=%{x}<br>Ton-kilometers=%{y}\", \"legendgroup\": \"Mode=Inland\", \"line\": {\"color\": \"#00cc96\"}, \"mode\": \"lines\", \"name\": \"Mode=Inland\", \"orientation\": \"v\", \"showlegend\": false, \"stackgroup\": \"1\", \"type\": \"scatter\", \"x\": [2000.0, 2001.0, 2002.0, 2003.0, 2004.0, 2005.0, 2006.0, 2007.0, 2008.0, 2009.0, 2010.0, 2011.0, 2012.0, 2013.0, 2014.0, 2015.0, 2016.0, 2017.0, 2018.0, 2019.0, 2020.0, 2021.0, 2022.0, 2023.0, 2024.0, 2025.0, 2026.0, 2027.0, 2028.0, 2029.0, 2030.0, 2031.0, 2032.0, 2033.0, 2034.0, 2035.0, 2036.0, 2037.0, 2038.0, 2039.0, 2040.0, 2041.0, 2042.0, 2043.0, 2044.0, 2045.0, 2046.0, 2047.0, 2048.0, 2049.0, 2050.0], \"xaxis\": \"x\", \"y\": [20.008254078757055, 19.851584060215632, 19.719583280926184, 19.610975692135302, 19.52449846571999, 19.458904742252273, 19.41296635990903, 19.38547637849313, 19.375250918673014, 19.381129802375614, 19.401975414337134, 19.436668804827658, 19.48410222082572, 19.543166962985886, 19.612735707554695, 19.691638543337206, 19.77863246114224, 19.872364955349987, 19.971333451183444, 20.07384378396313, 20.17797285407812, 20.28154196930112, 20.382109145486048, 20.476988525695113, 20.563304254548168, 20.638082928240724, 20.69838381770443, 20.741459427835245, 20.764932376652027, 20.766968669647657, 20.746425253694326, 20.702950900787997, 20.63702533293718, 20.549930785205454, 20.443660001747936, 20.320774043287905, 20.18422917926818, 20.03719377213112, 19.88287461360066, 19.724366826870448, 19.564536226609867, 19.405936819575615, 19.250761854303956, 19.100823730918837, 18.95755671091221, 18.822036048598996, 18.69500785224223, 18.57692495370601, 18.467985080265116, 18.36816890508182, 18.277276181893907], \"yaxis\": \"y\"}],\n",
       "                        {\"height\": 600, \"legend\": {\"font\": {\"size\": 10}, \"tracegroupgap\": 0, \"traceorder\": \"reversed\", \"y\": 0.5}, \"margin\": {\"t\": 60}, \"template\": {\"data\": {\"bar\": [{\"error_x\": {\"color\": \"#2a3f5f\"}, \"error_y\": {\"color\": \"#2a3f5f\"}, \"marker\": {\"line\": {\"color\": \"#E5ECF6\", \"width\": 0.5}}, \"type\": \"bar\"}], \"barpolar\": [{\"marker\": {\"line\": {\"color\": \"#E5ECF6\", \"width\": 0.5}}, \"type\": \"barpolar\"}], \"carpet\": [{\"aaxis\": {\"endlinecolor\": \"#2a3f5f\", \"gridcolor\": \"white\", \"linecolor\": \"white\", \"minorgridcolor\": \"white\", \"startlinecolor\": \"#2a3f5f\"}, \"baxis\": {\"endlinecolor\": \"#2a3f5f\", \"gridcolor\": \"white\", \"linecolor\": \"white\", \"minorgridcolor\": \"white\", \"startlinecolor\": \"#2a3f5f\"}, \"type\": \"carpet\"}], \"choropleth\": [{\"colorbar\": {\"outlinewidth\": 0, \"ticks\": \"\"}, \"type\": \"choropleth\"}], \"contour\": [{\"colorbar\": {\"outlinewidth\": 0, \"ticks\": \"\"}, \"colorscale\": [[0.0, \"#0d0887\"], [0.1111111111111111, \"#46039f\"], [0.2222222222222222, \"#7201a8\"], [0.3333333333333333, \"#9c179e\"], [0.4444444444444444, \"#bd3786\"], [0.5555555555555556, \"#d8576b\"], [0.6666666666666666, \"#ed7953\"], [0.7777777777777778, \"#fb9f3a\"], [0.8888888888888888, \"#fdca26\"], [1.0, \"#f0f921\"]], \"type\": \"contour\"}], \"contourcarpet\": [{\"colorbar\": {\"outlinewidth\": 0, \"ticks\": \"\"}, \"type\": \"contourcarpet\"}], \"heatmap\": [{\"colorbar\": {\"outlinewidth\": 0, \"ticks\": \"\"}, \"colorscale\": [[0.0, \"#0d0887\"], [0.1111111111111111, \"#46039f\"], [0.2222222222222222, \"#7201a8\"], [0.3333333333333333, \"#9c179e\"], [0.4444444444444444, \"#bd3786\"], [0.5555555555555556, \"#d8576b\"], [0.6666666666666666, \"#ed7953\"], [0.7777777777777778, \"#fb9f3a\"], [0.8888888888888888, \"#fdca26\"], [1.0, \"#f0f921\"]], \"type\": \"heatmap\"}], \"heatmapgl\": [{\"colorbar\": {\"outlinewidth\": 0, \"ticks\": \"\"}, \"colorscale\": [[0.0, \"#0d0887\"], [0.1111111111111111, \"#46039f\"], [0.2222222222222222, \"#7201a8\"], [0.3333333333333333, \"#9c179e\"], [0.4444444444444444, \"#bd3786\"], [0.5555555555555556, \"#d8576b\"], [0.6666666666666666, \"#ed7953\"], [0.7777777777777778, \"#fb9f3a\"], [0.8888888888888888, \"#fdca26\"], [1.0, \"#f0f921\"]], \"type\": \"heatmapgl\"}], \"histogram\": [{\"marker\": {\"colorbar\": {\"outlinewidth\": 0, \"ticks\": \"\"}}, \"type\": \"histogram\"}], \"histogram2d\": [{\"colorbar\": {\"outlinewidth\": 0, \"ticks\": \"\"}, \"colorscale\": [[0.0, \"#0d0887\"], [0.1111111111111111, \"#46039f\"], [0.2222222222222222, \"#7201a8\"], [0.3333333333333333, \"#9c179e\"], [0.4444444444444444, \"#bd3786\"], [0.5555555555555556, \"#d8576b\"], [0.6666666666666666, \"#ed7953\"], [0.7777777777777778, \"#fb9f3a\"], [0.8888888888888888, \"#fdca26\"], [1.0, \"#f0f921\"]], \"type\": \"histogram2d\"}], \"histogram2dcontour\": [{\"colorbar\": {\"outlinewidth\": 0, \"ticks\": \"\"}, \"colorscale\": [[0.0, \"#0d0887\"], [0.1111111111111111, \"#46039f\"], [0.2222222222222222, \"#7201a8\"], [0.3333333333333333, \"#9c179e\"], [0.4444444444444444, \"#bd3786\"], [0.5555555555555556, \"#d8576b\"], [0.6666666666666666, \"#ed7953\"], [0.7777777777777778, \"#fb9f3a\"], [0.8888888888888888, \"#fdca26\"], [1.0, \"#f0f921\"]], \"type\": \"histogram2dcontour\"}], \"mesh3d\": [{\"colorbar\": {\"outlinewidth\": 0, \"ticks\": \"\"}, \"type\": \"mesh3d\"}], \"parcoords\": [{\"line\": {\"colorbar\": {\"outlinewidth\": 0, \"ticks\": \"\"}}, \"type\": \"parcoords\"}], \"scatter\": [{\"marker\": {\"colorbar\": {\"outlinewidth\": 0, \"ticks\": \"\"}}, \"type\": \"scatter\"}], \"scatter3d\": [{\"line\": {\"colorbar\": {\"outlinewidth\": 0, \"ticks\": \"\"}}, \"marker\": {\"colorbar\": {\"outlinewidth\": 0, \"ticks\": \"\"}}, \"type\": \"scatter3d\"}], \"scattercarpet\": [{\"marker\": {\"colorbar\": {\"outlinewidth\": 0, \"ticks\": \"\"}}, \"type\": \"scattercarpet\"}], \"scattergeo\": [{\"marker\": {\"colorbar\": {\"outlinewidth\": 0, \"ticks\": \"\"}}, \"type\": \"scattergeo\"}], \"scattergl\": [{\"marker\": {\"colorbar\": {\"outlinewidth\": 0, \"ticks\": \"\"}}, \"type\": \"scattergl\"}], \"scattermapbox\": [{\"marker\": {\"colorbar\": {\"outlinewidth\": 0, \"ticks\": \"\"}}, \"type\": \"scattermapbox\"}], \"scatterpolar\": [{\"marker\": {\"colorbar\": {\"outlinewidth\": 0, \"ticks\": \"\"}}, \"type\": \"scatterpolar\"}], \"scatterpolargl\": [{\"marker\": {\"colorbar\": {\"outlinewidth\": 0, \"ticks\": \"\"}}, \"type\": \"scatterpolargl\"}], \"scatterternary\": [{\"marker\": {\"colorbar\": {\"outlinewidth\": 0, \"ticks\": \"\"}}, \"type\": \"scatterternary\"}], \"surface\": [{\"colorbar\": {\"outlinewidth\": 0, \"ticks\": \"\"}, \"colorscale\": [[0.0, \"#0d0887\"], [0.1111111111111111, \"#46039f\"], [0.2222222222222222, \"#7201a8\"], [0.3333333333333333, \"#9c179e\"], [0.4444444444444444, \"#bd3786\"], [0.5555555555555556, \"#d8576b\"], [0.6666666666666666, \"#ed7953\"], [0.7777777777777778, \"#fb9f3a\"], [0.8888888888888888, \"#fdca26\"], [1.0, \"#f0f921\"]], \"type\": \"surface\"}], \"table\": [{\"cells\": {\"fill\": {\"color\": \"#EBF0F8\"}, \"line\": {\"color\": \"white\"}}, \"header\": {\"fill\": {\"color\": \"#C8D4E3\"}, \"line\": {\"color\": \"white\"}}, \"type\": \"table\"}]}, \"layout\": {\"annotationdefaults\": {\"arrowcolor\": \"#2a3f5f\", \"arrowhead\": 0, \"arrowwidth\": 1}, \"colorscale\": {\"diverging\": [[0, \"#8e0152\"], [0.1, \"#c51b7d\"], [0.2, \"#de77ae\"], [0.3, \"#f1b6da\"], [0.4, \"#fde0ef\"], [0.5, \"#f7f7f7\"], [0.6, \"#e6f5d0\"], [0.7, \"#b8e186\"], [0.8, \"#7fbc41\"], [0.9, \"#4d9221\"], [1, \"#276419\"]], \"sequential\": [[0.0, \"#0d0887\"], [0.1111111111111111, \"#46039f\"], [0.2222222222222222, \"#7201a8\"], [0.3333333333333333, \"#9c179e\"], [0.4444444444444444, \"#bd3786\"], [0.5555555555555556, \"#d8576b\"], [0.6666666666666666, \"#ed7953\"], [0.7777777777777778, \"#fb9f3a\"], [0.8888888888888888, \"#fdca26\"], [1.0, \"#f0f921\"]], \"sequentialminus\": [[0.0, \"#0d0887\"], [0.1111111111111111, \"#46039f\"], [0.2222222222222222, \"#7201a8\"], [0.3333333333333333, \"#9c179e\"], [0.4444444444444444, \"#bd3786\"], [0.5555555555555556, \"#d8576b\"], [0.6666666666666666, \"#ed7953\"], [0.7777777777777778, \"#fb9f3a\"], [0.8888888888888888, \"#fdca26\"], [1.0, \"#f0f921\"]]}, \"colorway\": [\"#636efa\", \"#EF553B\", \"#00cc96\", \"#ab63fa\", \"#FFA15A\", \"#19d3f3\", \"#FF6692\", \"#B6E880\", \"#FF97FF\", \"#FECB52\"], \"font\": {\"color\": \"#2a3f5f\"}, \"geo\": {\"bgcolor\": \"white\", \"lakecolor\": \"white\", \"landcolor\": \"#E5ECF6\", \"showlakes\": true, \"showland\": true, \"subunitcolor\": \"white\"}, \"hoverlabel\": {\"align\": \"left\"}, \"hovermode\": \"closest\", \"mapbox\": {\"style\": \"light\"}, \"paper_bgcolor\": \"white\", \"plot_bgcolor\": \"#E5ECF6\", \"polar\": {\"angularaxis\": {\"gridcolor\": \"white\", \"linecolor\": \"white\", \"ticks\": \"\"}, \"bgcolor\": \"#E5ECF6\", \"radialaxis\": {\"gridcolor\": \"white\", \"linecolor\": \"white\", \"ticks\": \"\"}}, \"scene\": {\"xaxis\": {\"backgroundcolor\": \"#E5ECF6\", \"gridcolor\": \"white\", \"gridwidth\": 2, \"linecolor\": \"white\", \"showbackground\": true, \"ticks\": \"\", \"zerolinecolor\": \"white\"}, \"yaxis\": {\"backgroundcolor\": \"#E5ECF6\", \"gridcolor\": \"white\", \"gridwidth\": 2, \"linecolor\": \"white\", \"showbackground\": true, \"ticks\": \"\", \"zerolinecolor\": \"white\"}, \"zaxis\": {\"backgroundcolor\": \"#E5ECF6\", \"gridcolor\": \"white\", \"gridwidth\": 2, \"linecolor\": \"white\", \"showbackground\": true, \"ticks\": \"\", \"zerolinecolor\": \"white\"}}, \"shapedefaults\": {\"line\": {\"color\": \"#2a3f5f\"}}, \"ternary\": {\"aaxis\": {\"gridcolor\": \"white\", \"linecolor\": \"white\", \"ticks\": \"\"}, \"baxis\": {\"gridcolor\": \"white\", \"linecolor\": \"white\", \"ticks\": \"\"}, \"bgcolor\": \"#E5ECF6\", \"caxis\": {\"gridcolor\": \"white\", \"linecolor\": \"white\", \"ticks\": \"\"}}, \"title\": {\"x\": 0.05}, \"xaxis\": {\"automargin\": true, \"gridcolor\": \"white\", \"linecolor\": \"white\", \"ticks\": \"\", \"zerolinecolor\": \"white\", \"zerolinewidth\": 2}, \"yaxis\": {\"automargin\": true, \"gridcolor\": \"white\", \"linecolor\": \"white\", \"ticks\": \"\", \"zerolinecolor\": \"white\", \"zerolinewidth\": 2}}}, \"xaxis\": {\"anchor\": \"y\", \"domain\": [0.0, 0.98], \"title\": {\"text\": \"Year\"}}, \"yaxis\": {\"anchor\": \"x\", \"domain\": [0.0, 1.0], \"title\": {\"text\": \"Ton-kilometers\"}}},\n",
       "                        {\"responsive\": true}\n",
       "                    ).then(function(){\n",
       "                            \n",
       "var gd = document.getElementById('6283d8b2-4e42-4ee3-be20-d1a11261822a');\n",
       "var x = new MutationObserver(function (mutations, observer) {{\n",
       "        var display = window.getComputedStyle(gd).display;\n",
       "        if (!display || display === 'none') {{\n",
       "            console.log([gd, 'removed!']);\n",
       "            Plotly.purge(gd);\n",
       "            observer.disconnect();\n",
       "        }}\n",
       "}});\n",
       "\n",
       "// Listen for the removal of the full notebook cells\n",
       "var notebookContainer = gd.closest('#notebook-container');\n",
       "if (notebookContainer) {{\n",
       "    x.observe(notebookContainer, {childList: true});\n",
       "}}\n",
       "\n",
       "// Listen for the clearing of the current output cell\n",
       "var outputEl = gd.closest('.output');\n",
       "if (outputEl) {{\n",
       "    x.observe(outputEl, {childList: true});\n",
       "}}\n",
       "\n",
       "                        })\n",
       "                };\n",
       "                });\n",
       "            </script>\n",
       "        </div>"
      ]
     },
     "metadata": {},
     "output_type": "display_data"
    },
    {
     "data": {
      "application/vnd.plotly.v1+json": {
       "config": {
        "plotlyServerURL": "https://plot.ly"
       },
       "data": [
        {
         "hoverlabel": {
          "namelength": 0
         },
         "hovertemplate": "Mode=Road<br>Vehicle=40tlorry<br>Year=%{x}<br>VehicleCount=%{y}",
         "legendgroup": "Mode=Road",
         "line": {
          "color": "#636efa"
         },
         "mode": "lines",
         "name": "Mode=Road",
         "orientation": "v",
         "showlegend": true,
         "stackgroup": "1",
         "type": "scatter",
         "x": [
          2000,
          2001,
          2002,
          2003,
          2004,
          2005,
          2006,
          2007,
          2008,
          2009,
          2010,
          2011,
          2012,
          2013,
          2014,
          2015,
          2016,
          2017,
          2018,
          2019,
          2020,
          2021,
          2022,
          2023,
          2024,
          2025,
          2026,
          2027,
          2028,
          2029,
          2030,
          2031,
          2032,
          2033,
          2034,
          2035,
          2036,
          2037,
          2038,
          2039,
          2040,
          2041,
          2042,
          2043,
          2044,
          2045,
          2046,
          2047,
          2048,
          2049,
          2050
         ],
         "xaxis": "x",
         "y": [
          47266.986199835555,
          47012.24887020301,
          46824.68366424289,
          46702.301664248844,
          46643.199344832065,
          46645.55989165584,
          46707.65196626208,
          46827.824969296234,
          47004.49909375573,
          47236.14832231252,
          47521.27432769056,
          47858.36825037872,
          48245.857759820006,
          48682.036198448404,
          49164.97141061192,
          49692.392511945116,
          50261.55466830746,
          50869.085168928286,
          51510.81800165014,
          52181.62960364852,
          52875.29523738746,
          53584.39100413773,
          54300.27271513288,
          55013.163252628954,
          55712.376871407236,
          56386.69698253876,
          57024.90469410443,
          57616.42901632685,
          58152.0621597272,
          58624.658565649086,
          59029.72521248445,
          59365.81468485645,
          59634.65623570016,
          59840.999301644195,
          59992.187670337444,
          60097.52431041574,
          60167.51432579253,
          60213.08196147952,
          60244.85019295045,
          60272.547188135926,
          60304.577312336296,
          60347.76477385847,
          60407.25632686114,
          60486.55453797349,
          60587.646800811635,
          60711.19494080987,
          60856.75487048854,
          61023.002173887995,
          61207.94617762535,
          61409.122253869034,
          61623.75653423677
         ],
         "yaxis": "y"
        },
        {
         "hoverlabel": {
          "namelength": 0
         },
         "hovertemplate": "Mode=Road<br>Vehicle=28tlorry<br>Year=%{x}<br>VehicleCount=%{y}",
         "legendgroup": "Mode=Road",
         "line": {
          "color": "#636efa"
         },
         "mode": "lines",
         "name": "Mode=Road",
         "orientation": "v",
         "showlegend": false,
         "stackgroup": "1",
         "type": "scatter",
         "x": [
          2000,
          2001,
          2002,
          2003,
          2004,
          2005,
          2006,
          2007,
          2008,
          2009,
          2010,
          2011,
          2012,
          2013,
          2014,
          2015,
          2016,
          2017,
          2018,
          2019,
          2020,
          2021,
          2022,
          2023,
          2024,
          2025,
          2026,
          2027,
          2028,
          2029,
          2030,
          2031,
          2032,
          2033,
          2034,
          2035,
          2036,
          2037,
          2038,
          2039,
          2040,
          2041,
          2042,
          2043,
          2044,
          2045,
          2046,
          2047,
          2048,
          2049,
          2050
         ],
         "xaxis": "x",
         "y": [
          236669.7197419632,
          234964.17081440813,
          233532.49285978344,
          232353.96181624365,
          231406.70184858158,
          230667.51537734212,
          230111.70360301723,
          229712.8835705766,
          229442.80828801333,
          229271.20090334627,
          229165.61896740724,
          229091.36659573243,
          229011.48113054113,
          228886.82377820543,
          228676.31112433109,
          228337.32681764005,
          227826.3538023585,
          227099.86528167763,
          226115.50098267803,
          224833.53625437643,
          223218.62398034646,
          221241.74591987216,
          218882.2677261267,
          216129.9366972324,
          212986.6215311797,
          209467.56638197356,
          205601.9376150411,
          201432.4842794009,
          197014.2206663582,
          192412.15276530254,
          187698.20459269243,
          182947.61397372605,
          178235.1461737118,
          173631.49707905366,
          169200.21366366788,
          164995.37223841486,
          161060.13628597595,
          157426.19362738947,
          154113.97719700992,
          151133.50259037898,
          148485.63232976416,
          146163.57626005934,
          144154.4656163854,
          142440.87502413624,
          141002.20746667832,
          139815.89303354287,
          138858.3824397106,
          138105.9373997251,
          137535.2329389987,
          137123.7960380049,
          136850.3060951133
         ],
         "yaxis": "y"
        },
        {
         "hoverlabel": {
          "namelength": 0
         },
         "hovertemplate": "Mode=Road<br>Vehicle=16tlorry<br>Year=%{x}<br>VehicleCount=%{y}",
         "legendgroup": "Mode=Road",
         "line": {
          "color": "#636efa"
         },
         "mode": "lines",
         "name": "Mode=Road",
         "orientation": "v",
         "showlegend": false,
         "stackgroup": "1",
         "type": "scatter",
         "x": [
          2000,
          2001,
          2002,
          2003,
          2004,
          2005,
          2006,
          2007,
          2008,
          2009,
          2010,
          2011,
          2012,
          2013,
          2014,
          2015,
          2016,
          2017,
          2018,
          2019,
          2020,
          2021,
          2022,
          2023,
          2024,
          2025,
          2026,
          2027,
          2028,
          2029,
          2030,
          2031,
          2032,
          2033,
          2034,
          2035,
          2036,
          2037,
          2038,
          2039,
          2040,
          2041,
          2042,
          2043,
          2044,
          2045,
          2046,
          2047,
          2048,
          2049,
          2050
         ],
         "xaxis": "x",
         "y": [
          34244.00990709277,
          34053.10241280714,
          33909.94452269168,
          33812.939960152005,
          33760.532426300226,
          33751.204447949334,
          33783.47457939778,
          33855.892470855884,
          33967.03083433114,
          34115.473318682576,
          34299.79725296743,
          34518.549596034,
          34770.21482263039,
          35053.173088530224,
          35365.647589936365,
          35705.64040367521,
          36070.857166870126,
          36458.62285690126,
          36865.79313307207,
          37288.66879878629,
          37722.92481651805,
          38163.568272330005,
          38604.943279411265,
          39040.80070662218,
          39464.44870119386,
          39868.992818567014,
          40247.66321038651,
          40594.21070405627,
          40903.33742716348,
          41171.11280013039,
          41395.319223341125,
          41575.67404816243,
          41713.888778966204,
          41813.5503899334,
          41879.83636202336,
          41919.10101059056,
          41938.387874778375,
          41944.92839474903,
          41945.68278531141,
          41946.96374849549,
          41954.166991032456,
          41971.61357790884,
          42002.49526830435,
          42048.90430216883,
          42111.92496759364,
          42191.76399467983,
          42287.89981243048,
          42399.234880823096,
          42524.239669873525,
          42661.08161115747,
          42807.73524089735
         ],
         "yaxis": "y"
        },
        {
         "hoverlabel": {
          "namelength": 0
         },
         "hovertemplate": "Mode=Rail<br>Vehicle=freighttrain<br>Year=%{x}<br>VehicleCount=%{y}",
         "legendgroup": "Mode=Rail",
         "line": {
          "color": "#EF553B"
         },
         "mode": "lines",
         "name": "Mode=Rail",
         "orientation": "v",
         "showlegend": true,
         "stackgroup": "1",
         "type": "scatter",
         "x": [
          2000,
          2001,
          2002,
          2003,
          2004,
          2005,
          2006,
          2007,
          2008,
          2009,
          2010,
          2011,
          2012,
          2013,
          2014,
          2015,
          2016,
          2017,
          2018,
          2019,
          2020,
          2021,
          2022,
          2023,
          2024,
          2025,
          2026,
          2027,
          2028,
          2029,
          2030,
          2031,
          2032,
          2033,
          2034,
          2035,
          2036,
          2037,
          2038,
          2039,
          2040,
          2041,
          2042,
          2043,
          2044,
          2045,
          2046,
          2047,
          2048,
          2049,
          2050
         ],
         "xaxis": "x",
         "y": [
          946.7096218731697,
          946.7063352272803,
          948.8188768975541,
          953.1494785709463,
          959.8264821363218,
          969.0084697567191,
          980.8889552675181,
          995.7016746552732,
          1013.7264859013078,
          1035.295862801146,
          1060.801925079932,
          1090.7038651619812,
          1125.5355495700553,
          1165.91292734532,
          1212.5407118621933,
          1266.2175721925976,
          1327.838799512052,
          1398.3951156430546,
          1478.9659710749677,
          1570.7054102068678,
          1674.8184506093633,
          1792.5259955447675,
          1925.01680705794,
          2073.3860141319938,
          2238.5612332264136,
          2421.219513007628,
          2621.700840062351,
          2839.9263934439045,
          3075.331580649807,
          3326.8243363216225,
          3592.7778509513996,
          3871.0634603340523,
          4159.124381409134,
          4454.085240350027,
          4752.886969290696,
          5052.433099938813,
          5349.732350395308,
          5642.023803833485,
          5926.874641923274,
          6202.244885339242,
          6466.518489377596,
          6718.503929595109,
          6957.410114994488,
          7182.804658984951,
          7394.561580177565,
          7592.804633301628,
          7777.851201256947,
          7950.1602289057255,
          8110.286288336916,
          8258.840845446186,
          8396.460854972538
         ],
         "yaxis": "y"
        },
        {
         "hoverlabel": {
          "namelength": 0
         },
         "hovertemplate": "Mode=Inland<br>Vehicle=xlbarge<br>Year=%{x}<br>VehicleCount=%{y}",
         "legendgroup": "Mode=Inland",
         "line": {
          "color": "#00cc96"
         },
         "mode": "lines",
         "name": "Mode=Inland",
         "orientation": "v",
         "showlegend": true,
         "stackgroup": "1",
         "type": "scatter",
         "x": [
          2000,
          2001,
          2002,
          2003,
          2004,
          2005,
          2006,
          2007,
          2008,
          2009,
          2010,
          2011,
          2012,
          2013,
          2014,
          2015,
          2016,
          2017,
          2018,
          2019,
          2020,
          2021,
          2022,
          2023,
          2024,
          2025,
          2026,
          2027,
          2028,
          2029,
          2030,
          2031,
          2032,
          2033,
          2034,
          2035,
          2036,
          2037,
          2038,
          2039,
          2040,
          2041,
          2042,
          2043,
          2044,
          2045,
          2046,
          2047,
          2048,
          2049,
          2050
         ],
         "xaxis": "x",
         "y": [
          73.0663198769296,
          73.19001472210489,
          73.4662771179528,
          73.8989789464006,
          74.49291367062041,
          75.25388512249545,
          76.18879976018324,
          77.30576073443522,
          78.61416041297561,
          80.12476705482258,
          81.8497999611875,
          83.80298425853073,
          85.99957504310021,
          88.45633668722687,
          91.19146068676316,
          94.22440182580343,
          97.57560999788346,
          101.2661346897544,
          105.31708043480499,
          109.74889736364432,
          114.58050308986202,
          119.82824809020312,
          125.5047632643957,
          131.61775460799322,
          138.1688412000459,
          145.15255586762785,
          152.5556393307884,
          160.35674780499218,
          168.52666094542494,
          177.0290161629792,
          185.82152549719822,
          194.85755614208307,
          204.08790121945898,
          213.46254710452808,
          222.9322547461659,
          232.44982314817216,
          241.97096997033393,
          251.45482974720085,
          260.8641304170951,
          270.16513247720025,
          279.3274300684881,
          288.3236949862835,
          297.12942474186366,
          305.72272824815195,
          314.0841610201412,
          322.19660415011407,
          330.04517395251906,
          337.61714610092866,
          344.90187776171354,
          351.89071929803487,
          358.576907431839
         ],
         "yaxis": "y"
        },
        {
         "hoverlabel": {
          "namelength": 0
         },
         "hovertemplate": "Mode=Inland<br>Vehicle=lbarge<br>Year=%{x}<br>VehicleCount=%{y}",
         "legendgroup": "Mode=Inland",
         "line": {
          "color": "#00cc96"
         },
         "mode": "lines",
         "name": "Mode=Inland",
         "orientation": "v",
         "showlegend": false,
         "stackgroup": "1",
         "type": "scatter",
         "x": [
          2000,
          2001,
          2002,
          2003,
          2004,
          2005,
          2006,
          2007,
          2008,
          2009,
          2010,
          2011,
          2012,
          2013,
          2014,
          2015,
          2016,
          2017,
          2018,
          2019,
          2020,
          2021,
          2022,
          2023,
          2024,
          2025,
          2026,
          2027,
          2028,
          2029,
          2030,
          2031,
          2032,
          2033,
          2034,
          2035,
          2036,
          2037,
          2038,
          2039,
          2040,
          2041,
          2042,
          2043,
          2044,
          2045,
          2046,
          2047,
          2048,
          2049,
          2050
         ],
         "xaxis": "x",
         "y": [
          159.49001633440164,
          159.1367485986878,
          159.0564812332025,
          159.24886705116546,
          159.7145088752025,
          160.45502568757368,
          161.4731137069559,
          162.77259872267223,
          164.35847302476483,
          166.23690918735159,
          168.4152414149094,
          170.90190042057554,
          173.70628745153803,
          176.83856838463785,
          180.30936825909518,
          184.12934465729646,
          188.30861971686275,
          192.8560566171844,
          197.7783753880772,
          203.07911922008137,
          208.75750742517283,
          214.80723774811793,
          221.2153389253357,
          227.9612017186036,
          235.01594225032153,
          242.34225288785794,
          249.8948718239489,
          257.62174261632055,
          265.4658496394325,
          273.3676058906009,
          281.26757390667404,
          289.1092253592047,
          296.84142501808884,
          304.42036727353536,
          311.8107781327395,
          318.98632024852213,
          325.92925900763146,
          332.6295387206829,
          339.08347876610475,
          345.29229691982266,
          351.26064940516284,
          356.9953190348451,
          362.50413128859367,
          367.7951259877487,
          372.875975844929,
          377.75361798828385,
          382.4340558054472,
          386.92228675783065,
          391.222314264673,
          395.33721396687224,
          399.2692276082419
         ],
         "yaxis": "y"
        },
        {
         "hoverlabel": {
          "namelength": 0
         },
         "hovertemplate": "Mode=Inland<br>Vehicle=mbarge<br>Year=%{x}<br>VehicleCount=%{y}",
         "legendgroup": "Mode=Inland",
         "line": {
          "color": "#00cc96"
         },
         "mode": "lines",
         "name": "Mode=Inland",
         "orientation": "v",
         "showlegend": false,
         "stackgroup": "1",
         "type": "scatter",
         "x": [
          2000,
          2001,
          2002,
          2003,
          2004,
          2005,
          2006,
          2007,
          2008,
          2009,
          2010,
          2011,
          2012,
          2013,
          2014,
          2015,
          2016,
          2017,
          2018,
          2019,
          2020,
          2021,
          2022,
          2023,
          2024,
          2025,
          2026,
          2027,
          2028,
          2029,
          2030,
          2031,
          2032,
          2033,
          2034,
          2035,
          2036,
          2037,
          2038,
          2039,
          2040,
          2041,
          2042,
          2043,
          2044,
          2045,
          2046,
          2047,
          2048,
          2049,
          2050
         ],
         "xaxis": "x",
         "y": [
          285.88541111691774,
          284.340799236658,
          283.20433959749795,
          282.4644427260568,
          282.11013740227827,
          282.1311013310349,
          282.5176816409935,
          283.2609006122219,
          284.35243754852695,
          285.78457691378986,
          287.5501115589987,
          289.6421835494884,
          292.05404697175067,
          294.7787321322082,
          297.8085933670962,
          301.13472362775457,
          304.74622584826045,
          308.6293452804319,
          312.7664845158907,
          317.13514950714375,
          321.7069104088251,
          326.4464921293692,
          331.31115004861147,
          336.2505002470006,
          341.2069766379248,
          346.1170491238177,
          350.91326319103774,
          355.52704707685353,
          359.8921034712881,
          363.9480686047695,
          367.64403831798097,
          370.9415311906164,
          373.816517223988,
          376.260276523841,
          378.2790214531193,
          379.8924022964893,
          381.1311603177337,
          382.034268659306,
          382.6459217294522,
          383.01267270475705,
          383.1809463905266,
          383.19504883176506,
          383.095713186627,
          382.91915317680844,
          382.6965557442299,
          382.45392393148717,
          382.2121811457712,
          381.98745606064244,
          381.79147904442664,
          381.63204082003193,
          381.51347283555214
         ],
         "yaxis": "y"
        },
        {
         "hoverlabel": {
          "namelength": 0
         },
         "hovertemplate": "Mode=Inland<br>Vehicle=sbarge<br>Year=%{x}<br>VehicleCount=%{y}",
         "legendgroup": "Mode=Inland",
         "line": {
          "color": "#00cc96"
         },
         "mode": "lines",
         "name": "Mode=Inland",
         "orientation": "v",
         "showlegend": false,
         "stackgroup": "1",
         "type": "scatter",
         "x": [
          2000,
          2001,
          2002,
          2003,
          2004,
          2005,
          2006,
          2007,
          2008,
          2009,
          2010,
          2011,
          2012,
          2013,
          2014,
          2015,
          2016,
          2017,
          2018,
          2019,
          2020,
          2021,
          2022,
          2023,
          2024,
          2025,
          2026,
          2027,
          2028,
          2029,
          2030,
          2031,
          2032,
          2033,
          2034,
          2035,
          2036,
          2037,
          2038,
          2039,
          2040,
          2041,
          2042,
          2043,
          2044,
          2045,
          2046,
          2047,
          2048,
          2049,
          2050
         ],
         "xaxis": "x",
         "y": [
          1103.0637466027802,
          1094.4264603631923,
          1087.1492000093217,
          1081.1616164185896,
          1076.3940893275194,
          1072.777878833734,
          1070.2452758419413,
          1068.7297412143168,
          1068.166007168582,
          1068.4901125831425,
          1069.6393402338906,
          1071.5520019357161,
          1074.1670267829136,
          1077.4232916985263,
          1081.258646833885,
          1085.6085944761555,
          1090.4046069881897,
          1095.572120147121,
          1101.0282963522002,
          1106.6797355680544,
          1112.4204164770024,
          1118.1302268292966,
          1123.674538977231,
          1128.905280460061,
          1133.6639041203077,
          1137.786484913445,
          1141.1108991673573,
          1143.4856762823952,
          1144.7797501562943,
          1144.8920118744882,
          1143.759444421061,
          1141.3626844434425,
          1137.7281792245367,
          1132.926618940892,
          1127.0678644441905,
          1120.2931081256115,
          1112.7653304048717,
          1104.6592044809677,
          1096.1515221758973,
          1087.4129189770317,
          1078.6013884931006,
          1069.8577342270382,
          1061.3028709242355,
          1053.0367169915255,
          1045.1383438885514,
          1037.6670308531968,
          1030.6639111583977,
          1024.1539496217051,
          1018.1480470337464,
          1012.6451378975543,
          1007.6341825496293
         ],
         "yaxis": "y"
        }
       ],
       "layout": {
        "height": 600,
        "legend": {
         "font": {
          "size": 10
         },
         "tracegroupgap": 0,
         "traceorder": "reversed",
         "y": 0.5
        },
        "margin": {
         "t": 60
        },
        "template": {
         "data": {
          "bar": [
           {
            "error_x": {
             "color": "#2a3f5f"
            },
            "error_y": {
             "color": "#2a3f5f"
            },
            "marker": {
             "line": {
              "color": "#E5ECF6",
              "width": 0.5
             }
            },
            "type": "bar"
           }
          ],
          "barpolar": [
           {
            "marker": {
             "line": {
              "color": "#E5ECF6",
              "width": 0.5
             }
            },
            "type": "barpolar"
           }
          ],
          "carpet": [
           {
            "aaxis": {
             "endlinecolor": "#2a3f5f",
             "gridcolor": "white",
             "linecolor": "white",
             "minorgridcolor": "white",
             "startlinecolor": "#2a3f5f"
            },
            "baxis": {
             "endlinecolor": "#2a3f5f",
             "gridcolor": "white",
             "linecolor": "white",
             "minorgridcolor": "white",
             "startlinecolor": "#2a3f5f"
            },
            "type": "carpet"
           }
          ],
          "choropleth": [
           {
            "colorbar": {
             "outlinewidth": 0,
             "ticks": ""
            },
            "type": "choropleth"
           }
          ],
          "contour": [
           {
            "colorbar": {
             "outlinewidth": 0,
             "ticks": ""
            },
            "colorscale": [
             [
              0,
              "#0d0887"
             ],
             [
              0.1111111111111111,
              "#46039f"
             ],
             [
              0.2222222222222222,
              "#7201a8"
             ],
             [
              0.3333333333333333,
              "#9c179e"
             ],
             [
              0.4444444444444444,
              "#bd3786"
             ],
             [
              0.5555555555555556,
              "#d8576b"
             ],
             [
              0.6666666666666666,
              "#ed7953"
             ],
             [
              0.7777777777777778,
              "#fb9f3a"
             ],
             [
              0.8888888888888888,
              "#fdca26"
             ],
             [
              1,
              "#f0f921"
             ]
            ],
            "type": "contour"
           }
          ],
          "contourcarpet": [
           {
            "colorbar": {
             "outlinewidth": 0,
             "ticks": ""
            },
            "type": "contourcarpet"
           }
          ],
          "heatmap": [
           {
            "colorbar": {
             "outlinewidth": 0,
             "ticks": ""
            },
            "colorscale": [
             [
              0,
              "#0d0887"
             ],
             [
              0.1111111111111111,
              "#46039f"
             ],
             [
              0.2222222222222222,
              "#7201a8"
             ],
             [
              0.3333333333333333,
              "#9c179e"
             ],
             [
              0.4444444444444444,
              "#bd3786"
             ],
             [
              0.5555555555555556,
              "#d8576b"
             ],
             [
              0.6666666666666666,
              "#ed7953"
             ],
             [
              0.7777777777777778,
              "#fb9f3a"
             ],
             [
              0.8888888888888888,
              "#fdca26"
             ],
             [
              1,
              "#f0f921"
             ]
            ],
            "type": "heatmap"
           }
          ],
          "heatmapgl": [
           {
            "colorbar": {
             "outlinewidth": 0,
             "ticks": ""
            },
            "colorscale": [
             [
              0,
              "#0d0887"
             ],
             [
              0.1111111111111111,
              "#46039f"
             ],
             [
              0.2222222222222222,
              "#7201a8"
             ],
             [
              0.3333333333333333,
              "#9c179e"
             ],
             [
              0.4444444444444444,
              "#bd3786"
             ],
             [
              0.5555555555555556,
              "#d8576b"
             ],
             [
              0.6666666666666666,
              "#ed7953"
             ],
             [
              0.7777777777777778,
              "#fb9f3a"
             ],
             [
              0.8888888888888888,
              "#fdca26"
             ],
             [
              1,
              "#f0f921"
             ]
            ],
            "type": "heatmapgl"
           }
          ],
          "histogram": [
           {
            "marker": {
             "colorbar": {
              "outlinewidth": 0,
              "ticks": ""
             }
            },
            "type": "histogram"
           }
          ],
          "histogram2d": [
           {
            "colorbar": {
             "outlinewidth": 0,
             "ticks": ""
            },
            "colorscale": [
             [
              0,
              "#0d0887"
             ],
             [
              0.1111111111111111,
              "#46039f"
             ],
             [
              0.2222222222222222,
              "#7201a8"
             ],
             [
              0.3333333333333333,
              "#9c179e"
             ],
             [
              0.4444444444444444,
              "#bd3786"
             ],
             [
              0.5555555555555556,
              "#d8576b"
             ],
             [
              0.6666666666666666,
              "#ed7953"
             ],
             [
              0.7777777777777778,
              "#fb9f3a"
             ],
             [
              0.8888888888888888,
              "#fdca26"
             ],
             [
              1,
              "#f0f921"
             ]
            ],
            "type": "histogram2d"
           }
          ],
          "histogram2dcontour": [
           {
            "colorbar": {
             "outlinewidth": 0,
             "ticks": ""
            },
            "colorscale": [
             [
              0,
              "#0d0887"
             ],
             [
              0.1111111111111111,
              "#46039f"
             ],
             [
              0.2222222222222222,
              "#7201a8"
             ],
             [
              0.3333333333333333,
              "#9c179e"
             ],
             [
              0.4444444444444444,
              "#bd3786"
             ],
             [
              0.5555555555555556,
              "#d8576b"
             ],
             [
              0.6666666666666666,
              "#ed7953"
             ],
             [
              0.7777777777777778,
              "#fb9f3a"
             ],
             [
              0.8888888888888888,
              "#fdca26"
             ],
             [
              1,
              "#f0f921"
             ]
            ],
            "type": "histogram2dcontour"
           }
          ],
          "mesh3d": [
           {
            "colorbar": {
             "outlinewidth": 0,
             "ticks": ""
            },
            "type": "mesh3d"
           }
          ],
          "parcoords": [
           {
            "line": {
             "colorbar": {
              "outlinewidth": 0,
              "ticks": ""
             }
            },
            "type": "parcoords"
           }
          ],
          "scatter": [
           {
            "marker": {
             "colorbar": {
              "outlinewidth": 0,
              "ticks": ""
             }
            },
            "type": "scatter"
           }
          ],
          "scatter3d": [
           {
            "line": {
             "colorbar": {
              "outlinewidth": 0,
              "ticks": ""
             }
            },
            "marker": {
             "colorbar": {
              "outlinewidth": 0,
              "ticks": ""
             }
            },
            "type": "scatter3d"
           }
          ],
          "scattercarpet": [
           {
            "marker": {
             "colorbar": {
              "outlinewidth": 0,
              "ticks": ""
             }
            },
            "type": "scattercarpet"
           }
          ],
          "scattergeo": [
           {
            "marker": {
             "colorbar": {
              "outlinewidth": 0,
              "ticks": ""
             }
            },
            "type": "scattergeo"
           }
          ],
          "scattergl": [
           {
            "marker": {
             "colorbar": {
              "outlinewidth": 0,
              "ticks": ""
             }
            },
            "type": "scattergl"
           }
          ],
          "scattermapbox": [
           {
            "marker": {
             "colorbar": {
              "outlinewidth": 0,
              "ticks": ""
             }
            },
            "type": "scattermapbox"
           }
          ],
          "scatterpolar": [
           {
            "marker": {
             "colorbar": {
              "outlinewidth": 0,
              "ticks": ""
             }
            },
            "type": "scatterpolar"
           }
          ],
          "scatterpolargl": [
           {
            "marker": {
             "colorbar": {
              "outlinewidth": 0,
              "ticks": ""
             }
            },
            "type": "scatterpolargl"
           }
          ],
          "scatterternary": [
           {
            "marker": {
             "colorbar": {
              "outlinewidth": 0,
              "ticks": ""
             }
            },
            "type": "scatterternary"
           }
          ],
          "surface": [
           {
            "colorbar": {
             "outlinewidth": 0,
             "ticks": ""
            },
            "colorscale": [
             [
              0,
              "#0d0887"
             ],
             [
              0.1111111111111111,
              "#46039f"
             ],
             [
              0.2222222222222222,
              "#7201a8"
             ],
             [
              0.3333333333333333,
              "#9c179e"
             ],
             [
              0.4444444444444444,
              "#bd3786"
             ],
             [
              0.5555555555555556,
              "#d8576b"
             ],
             [
              0.6666666666666666,
              "#ed7953"
             ],
             [
              0.7777777777777778,
              "#fb9f3a"
             ],
             [
              0.8888888888888888,
              "#fdca26"
             ],
             [
              1,
              "#f0f921"
             ]
            ],
            "type": "surface"
           }
          ],
          "table": [
           {
            "cells": {
             "fill": {
              "color": "#EBF0F8"
             },
             "line": {
              "color": "white"
             }
            },
            "header": {
             "fill": {
              "color": "#C8D4E3"
             },
             "line": {
              "color": "white"
             }
            },
            "type": "table"
           }
          ]
         },
         "layout": {
          "annotationdefaults": {
           "arrowcolor": "#2a3f5f",
           "arrowhead": 0,
           "arrowwidth": 1
          },
          "colorscale": {
           "diverging": [
            [
             0,
             "#8e0152"
            ],
            [
             0.1,
             "#c51b7d"
            ],
            [
             0.2,
             "#de77ae"
            ],
            [
             0.3,
             "#f1b6da"
            ],
            [
             0.4,
             "#fde0ef"
            ],
            [
             0.5,
             "#f7f7f7"
            ],
            [
             0.6,
             "#e6f5d0"
            ],
            [
             0.7,
             "#b8e186"
            ],
            [
             0.8,
             "#7fbc41"
            ],
            [
             0.9,
             "#4d9221"
            ],
            [
             1,
             "#276419"
            ]
           ],
           "sequential": [
            [
             0,
             "#0d0887"
            ],
            [
             0.1111111111111111,
             "#46039f"
            ],
            [
             0.2222222222222222,
             "#7201a8"
            ],
            [
             0.3333333333333333,
             "#9c179e"
            ],
            [
             0.4444444444444444,
             "#bd3786"
            ],
            [
             0.5555555555555556,
             "#d8576b"
            ],
            [
             0.6666666666666666,
             "#ed7953"
            ],
            [
             0.7777777777777778,
             "#fb9f3a"
            ],
            [
             0.8888888888888888,
             "#fdca26"
            ],
            [
             1,
             "#f0f921"
            ]
           ],
           "sequentialminus": [
            [
             0,
             "#0d0887"
            ],
            [
             0.1111111111111111,
             "#46039f"
            ],
            [
             0.2222222222222222,
             "#7201a8"
            ],
            [
             0.3333333333333333,
             "#9c179e"
            ],
            [
             0.4444444444444444,
             "#bd3786"
            ],
            [
             0.5555555555555556,
             "#d8576b"
            ],
            [
             0.6666666666666666,
             "#ed7953"
            ],
            [
             0.7777777777777778,
             "#fb9f3a"
            ],
            [
             0.8888888888888888,
             "#fdca26"
            ],
            [
             1,
             "#f0f921"
            ]
           ]
          },
          "colorway": [
           "#636efa",
           "#EF553B",
           "#00cc96",
           "#ab63fa",
           "#FFA15A",
           "#19d3f3",
           "#FF6692",
           "#B6E880",
           "#FF97FF",
           "#FECB52"
          ],
          "font": {
           "color": "#2a3f5f"
          },
          "geo": {
           "bgcolor": "white",
           "lakecolor": "white",
           "landcolor": "#E5ECF6",
           "showlakes": true,
           "showland": true,
           "subunitcolor": "white"
          },
          "hoverlabel": {
           "align": "left"
          },
          "hovermode": "closest",
          "mapbox": {
           "style": "light"
          },
          "paper_bgcolor": "white",
          "plot_bgcolor": "#E5ECF6",
          "polar": {
           "angularaxis": {
            "gridcolor": "white",
            "linecolor": "white",
            "ticks": ""
           },
           "bgcolor": "#E5ECF6",
           "radialaxis": {
            "gridcolor": "white",
            "linecolor": "white",
            "ticks": ""
           }
          },
          "scene": {
           "xaxis": {
            "backgroundcolor": "#E5ECF6",
            "gridcolor": "white",
            "gridwidth": 2,
            "linecolor": "white",
            "showbackground": true,
            "ticks": "",
            "zerolinecolor": "white"
           },
           "yaxis": {
            "backgroundcolor": "#E5ECF6",
            "gridcolor": "white",
            "gridwidth": 2,
            "linecolor": "white",
            "showbackground": true,
            "ticks": "",
            "zerolinecolor": "white"
           },
           "zaxis": {
            "backgroundcolor": "#E5ECF6",
            "gridcolor": "white",
            "gridwidth": 2,
            "linecolor": "white",
            "showbackground": true,
            "ticks": "",
            "zerolinecolor": "white"
           }
          },
          "shapedefaults": {
           "line": {
            "color": "#2a3f5f"
           }
          },
          "ternary": {
           "aaxis": {
            "gridcolor": "white",
            "linecolor": "white",
            "ticks": ""
           },
           "baxis": {
            "gridcolor": "white",
            "linecolor": "white",
            "ticks": ""
           },
           "bgcolor": "#E5ECF6",
           "caxis": {
            "gridcolor": "white",
            "linecolor": "white",
            "ticks": ""
           }
          },
          "title": {
           "x": 0.05
          },
          "xaxis": {
           "automargin": true,
           "gridcolor": "white",
           "linecolor": "white",
           "ticks": "",
           "zerolinecolor": "white",
           "zerolinewidth": 2
          },
          "yaxis": {
           "automargin": true,
           "gridcolor": "white",
           "linecolor": "white",
           "ticks": "",
           "zerolinecolor": "white",
           "zerolinewidth": 2
          }
         }
        },
        "xaxis": {
         "anchor": "y",
         "domain": [
          0,
          0.98
         ],
         "title": {
          "text": "Year"
         }
        },
        "yaxis": {
         "anchor": "x",
         "domain": [
          0,
          1
         ],
         "title": {
          "text": "VehicleCount"
         }
        }
       }
      },
      "text/html": [
       "<div>\n",
       "        \n",
       "        \n",
       "            <div id=\"d0b89700-89a1-4d9c-a736-825da9382edb\" class=\"plotly-graph-div\" style=\"height:600px; width:100%;\"></div>\n",
       "            <script type=\"text/javascript\">\n",
       "                require([\"plotly\"], function(Plotly) {\n",
       "                    window.PLOTLYENV=window.PLOTLYENV || {};\n",
       "                    \n",
       "                if (document.getElementById(\"d0b89700-89a1-4d9c-a736-825da9382edb\")) {\n",
       "                    Plotly.newPlot(\n",
       "                        'd0b89700-89a1-4d9c-a736-825da9382edb',\n",
       "                        [{\"hoverlabel\": {\"namelength\": 0}, \"hovertemplate\": \"Mode=Road<br>Vehicle=40tlorry<br>Year=%{x}<br>VehicleCount=%{y}\", \"legendgroup\": \"Mode=Road\", \"line\": {\"color\": \"#636efa\"}, \"mode\": \"lines\", \"name\": \"Mode=Road\", \"orientation\": \"v\", \"showlegend\": true, \"stackgroup\": \"1\", \"type\": \"scatter\", \"x\": [2000.0, 2001.0, 2002.0, 2003.0, 2004.0, 2005.0, 2006.0, 2007.0, 2008.0, 2009.0, 2010.0, 2011.0, 2012.0, 2013.0, 2014.0, 2015.0, 2016.0, 2017.0, 2018.0, 2019.0, 2020.0, 2021.0, 2022.0, 2023.0, 2024.0, 2025.0, 2026.0, 2027.0, 2028.0, 2029.0, 2030.0, 2031.0, 2032.0, 2033.0, 2034.0, 2035.0, 2036.0, 2037.0, 2038.0, 2039.0, 2040.0, 2041.0, 2042.0, 2043.0, 2044.0, 2045.0, 2046.0, 2047.0, 2048.0, 2049.0, 2050.0], \"xaxis\": \"x\", \"y\": [47266.986199835555, 47012.24887020301, 46824.68366424289, 46702.301664248844, 46643.199344832065, 46645.55989165584, 46707.65196626208, 46827.824969296234, 47004.49909375573, 47236.14832231252, 47521.27432769056, 47858.36825037872, 48245.857759820006, 48682.036198448404, 49164.97141061192, 49692.392511945116, 50261.55466830746, 50869.085168928286, 51510.81800165014, 52181.62960364852, 52875.29523738746, 53584.39100413773, 54300.27271513288, 55013.163252628954, 55712.376871407236, 56386.69698253876, 57024.90469410443, 57616.42901632685, 58152.0621597272, 58624.658565649086, 59029.72521248445, 59365.81468485645, 59634.65623570016, 59840.999301644195, 59992.187670337444, 60097.52431041574, 60167.51432579253, 60213.08196147952, 60244.85019295045, 60272.547188135926, 60304.577312336296, 60347.76477385847, 60407.25632686114, 60486.55453797349, 60587.646800811635, 60711.19494080987, 60856.75487048854, 61023.002173887995, 61207.94617762535, 61409.122253869034, 61623.75653423677], \"yaxis\": \"y\"}, {\"hoverlabel\": {\"namelength\": 0}, \"hovertemplate\": \"Mode=Road<br>Vehicle=28tlorry<br>Year=%{x}<br>VehicleCount=%{y}\", \"legendgroup\": \"Mode=Road\", \"line\": {\"color\": \"#636efa\"}, \"mode\": \"lines\", \"name\": \"Mode=Road\", \"orientation\": \"v\", \"showlegend\": false, \"stackgroup\": \"1\", \"type\": \"scatter\", \"x\": [2000.0, 2001.0, 2002.0, 2003.0, 2004.0, 2005.0, 2006.0, 2007.0, 2008.0, 2009.0, 2010.0, 2011.0, 2012.0, 2013.0, 2014.0, 2015.0, 2016.0, 2017.0, 2018.0, 2019.0, 2020.0, 2021.0, 2022.0, 2023.0, 2024.0, 2025.0, 2026.0, 2027.0, 2028.0, 2029.0, 2030.0, 2031.0, 2032.0, 2033.0, 2034.0, 2035.0, 2036.0, 2037.0, 2038.0, 2039.0, 2040.0, 2041.0, 2042.0, 2043.0, 2044.0, 2045.0, 2046.0, 2047.0, 2048.0, 2049.0, 2050.0], \"xaxis\": \"x\", \"y\": [236669.7197419632, 234964.17081440813, 233532.49285978344, 232353.96181624365, 231406.70184858158, 230667.51537734212, 230111.70360301723, 229712.8835705766, 229442.80828801333, 229271.20090334627, 229165.61896740724, 229091.36659573243, 229011.48113054113, 228886.82377820543, 228676.31112433109, 228337.32681764005, 227826.3538023585, 227099.86528167763, 226115.50098267803, 224833.53625437643, 223218.62398034646, 221241.74591987216, 218882.2677261267, 216129.9366972324, 212986.6215311797, 209467.56638197356, 205601.9376150411, 201432.4842794009, 197014.2206663582, 192412.15276530254, 187698.20459269243, 182947.61397372605, 178235.1461737118, 173631.49707905366, 169200.21366366788, 164995.37223841486, 161060.13628597595, 157426.19362738947, 154113.97719700992, 151133.50259037898, 148485.63232976416, 146163.57626005934, 144154.4656163854, 142440.87502413624, 141002.20746667832, 139815.89303354287, 138858.3824397106, 138105.9373997251, 137535.2329389987, 137123.7960380049, 136850.3060951133], \"yaxis\": \"y\"}, {\"hoverlabel\": {\"namelength\": 0}, \"hovertemplate\": \"Mode=Road<br>Vehicle=16tlorry<br>Year=%{x}<br>VehicleCount=%{y}\", \"legendgroup\": \"Mode=Road\", \"line\": {\"color\": \"#636efa\"}, \"mode\": \"lines\", \"name\": \"Mode=Road\", \"orientation\": \"v\", \"showlegend\": false, \"stackgroup\": \"1\", \"type\": \"scatter\", \"x\": [2000.0, 2001.0, 2002.0, 2003.0, 2004.0, 2005.0, 2006.0, 2007.0, 2008.0, 2009.0, 2010.0, 2011.0, 2012.0, 2013.0, 2014.0, 2015.0, 2016.0, 2017.0, 2018.0, 2019.0, 2020.0, 2021.0, 2022.0, 2023.0, 2024.0, 2025.0, 2026.0, 2027.0, 2028.0, 2029.0, 2030.0, 2031.0, 2032.0, 2033.0, 2034.0, 2035.0, 2036.0, 2037.0, 2038.0, 2039.0, 2040.0, 2041.0, 2042.0, 2043.0, 2044.0, 2045.0, 2046.0, 2047.0, 2048.0, 2049.0, 2050.0], \"xaxis\": \"x\", \"y\": [34244.00990709277, 34053.10241280714, 33909.94452269168, 33812.939960152005, 33760.532426300226, 33751.204447949334, 33783.47457939778, 33855.892470855884, 33967.03083433114, 34115.473318682576, 34299.79725296743, 34518.549596034, 34770.21482263039, 35053.173088530224, 35365.647589936365, 35705.64040367521, 36070.857166870126, 36458.62285690126, 36865.79313307207, 37288.66879878629, 37722.92481651805, 38163.568272330005, 38604.943279411265, 39040.80070662218, 39464.44870119386, 39868.992818567014, 40247.66321038651, 40594.21070405627, 40903.33742716348, 41171.11280013039, 41395.319223341125, 41575.67404816243, 41713.888778966204, 41813.5503899334, 41879.83636202336, 41919.10101059056, 41938.387874778375, 41944.92839474903, 41945.68278531141, 41946.96374849549, 41954.166991032456, 41971.61357790884, 42002.49526830435, 42048.90430216883, 42111.92496759364, 42191.76399467983, 42287.89981243048, 42399.234880823096, 42524.239669873525, 42661.08161115747, 42807.73524089735], \"yaxis\": \"y\"}, {\"hoverlabel\": {\"namelength\": 0}, \"hovertemplate\": \"Mode=Rail<br>Vehicle=freighttrain<br>Year=%{x}<br>VehicleCount=%{y}\", \"legendgroup\": \"Mode=Rail\", \"line\": {\"color\": \"#EF553B\"}, \"mode\": \"lines\", \"name\": \"Mode=Rail\", \"orientation\": \"v\", \"showlegend\": true, \"stackgroup\": \"1\", \"type\": \"scatter\", \"x\": [2000.0, 2001.0, 2002.0, 2003.0, 2004.0, 2005.0, 2006.0, 2007.0, 2008.0, 2009.0, 2010.0, 2011.0, 2012.0, 2013.0, 2014.0, 2015.0, 2016.0, 2017.0, 2018.0, 2019.0, 2020.0, 2021.0, 2022.0, 2023.0, 2024.0, 2025.0, 2026.0, 2027.0, 2028.0, 2029.0, 2030.0, 2031.0, 2032.0, 2033.0, 2034.0, 2035.0, 2036.0, 2037.0, 2038.0, 2039.0, 2040.0, 2041.0, 2042.0, 2043.0, 2044.0, 2045.0, 2046.0, 2047.0, 2048.0, 2049.0, 2050.0], \"xaxis\": \"x\", \"y\": [946.7096218731697, 946.7063352272803, 948.8188768975541, 953.1494785709463, 959.8264821363218, 969.0084697567191, 980.8889552675181, 995.7016746552732, 1013.7264859013078, 1035.295862801146, 1060.801925079932, 1090.7038651619812, 1125.5355495700553, 1165.91292734532, 1212.5407118621933, 1266.2175721925976, 1327.838799512052, 1398.3951156430546, 1478.9659710749677, 1570.7054102068678, 1674.8184506093633, 1792.5259955447675, 1925.01680705794, 2073.3860141319938, 2238.5612332264136, 2421.219513007628, 2621.700840062351, 2839.9263934439045, 3075.331580649807, 3326.8243363216225, 3592.7778509513996, 3871.0634603340523, 4159.124381409134, 4454.085240350027, 4752.886969290696, 5052.433099938813, 5349.732350395308, 5642.023803833485, 5926.874641923274, 6202.244885339242, 6466.518489377596, 6718.503929595109, 6957.410114994488, 7182.804658984951, 7394.561580177565, 7592.804633301628, 7777.851201256947, 7950.1602289057255, 8110.286288336916, 8258.840845446186, 8396.460854972538], \"yaxis\": \"y\"}, {\"hoverlabel\": {\"namelength\": 0}, \"hovertemplate\": \"Mode=Inland<br>Vehicle=xlbarge<br>Year=%{x}<br>VehicleCount=%{y}\", \"legendgroup\": \"Mode=Inland\", \"line\": {\"color\": \"#00cc96\"}, \"mode\": \"lines\", \"name\": \"Mode=Inland\", \"orientation\": \"v\", \"showlegend\": true, \"stackgroup\": \"1\", \"type\": \"scatter\", \"x\": [2000.0, 2001.0, 2002.0, 2003.0, 2004.0, 2005.0, 2006.0, 2007.0, 2008.0, 2009.0, 2010.0, 2011.0, 2012.0, 2013.0, 2014.0, 2015.0, 2016.0, 2017.0, 2018.0, 2019.0, 2020.0, 2021.0, 2022.0, 2023.0, 2024.0, 2025.0, 2026.0, 2027.0, 2028.0, 2029.0, 2030.0, 2031.0, 2032.0, 2033.0, 2034.0, 2035.0, 2036.0, 2037.0, 2038.0, 2039.0, 2040.0, 2041.0, 2042.0, 2043.0, 2044.0, 2045.0, 2046.0, 2047.0, 2048.0, 2049.0, 2050.0], \"xaxis\": \"x\", \"y\": [73.0663198769296, 73.19001472210489, 73.4662771179528, 73.8989789464006, 74.49291367062041, 75.25388512249545, 76.18879976018324, 77.30576073443522, 78.61416041297561, 80.12476705482258, 81.8497999611875, 83.80298425853073, 85.99957504310021, 88.45633668722687, 91.19146068676316, 94.22440182580343, 97.57560999788346, 101.2661346897544, 105.31708043480499, 109.74889736364432, 114.58050308986202, 119.82824809020312, 125.5047632643957, 131.61775460799322, 138.1688412000459, 145.15255586762785, 152.5556393307884, 160.35674780499218, 168.52666094542494, 177.0290161629792, 185.82152549719822, 194.85755614208307, 204.08790121945898, 213.46254710452808, 222.9322547461659, 232.44982314817216, 241.97096997033393, 251.45482974720085, 260.8641304170951, 270.16513247720025, 279.3274300684881, 288.3236949862835, 297.12942474186366, 305.72272824815195, 314.0841610201412, 322.19660415011407, 330.04517395251906, 337.61714610092866, 344.90187776171354, 351.89071929803487, 358.576907431839], \"yaxis\": \"y\"}, {\"hoverlabel\": {\"namelength\": 0}, \"hovertemplate\": \"Mode=Inland<br>Vehicle=lbarge<br>Year=%{x}<br>VehicleCount=%{y}\", \"legendgroup\": \"Mode=Inland\", \"line\": {\"color\": \"#00cc96\"}, \"mode\": \"lines\", \"name\": \"Mode=Inland\", \"orientation\": \"v\", \"showlegend\": false, \"stackgroup\": \"1\", \"type\": \"scatter\", \"x\": [2000.0, 2001.0, 2002.0, 2003.0, 2004.0, 2005.0, 2006.0, 2007.0, 2008.0, 2009.0, 2010.0, 2011.0, 2012.0, 2013.0, 2014.0, 2015.0, 2016.0, 2017.0, 2018.0, 2019.0, 2020.0, 2021.0, 2022.0, 2023.0, 2024.0, 2025.0, 2026.0, 2027.0, 2028.0, 2029.0, 2030.0, 2031.0, 2032.0, 2033.0, 2034.0, 2035.0, 2036.0, 2037.0, 2038.0, 2039.0, 2040.0, 2041.0, 2042.0, 2043.0, 2044.0, 2045.0, 2046.0, 2047.0, 2048.0, 2049.0, 2050.0], \"xaxis\": \"x\", \"y\": [159.49001633440164, 159.1367485986878, 159.0564812332025, 159.24886705116546, 159.7145088752025, 160.45502568757368, 161.4731137069559, 162.77259872267223, 164.35847302476483, 166.23690918735159, 168.4152414149094, 170.90190042057554, 173.70628745153803, 176.83856838463785, 180.30936825909518, 184.12934465729646, 188.30861971686275, 192.8560566171844, 197.7783753880772, 203.07911922008137, 208.75750742517283, 214.80723774811793, 221.2153389253357, 227.9612017186036, 235.01594225032153, 242.34225288785794, 249.8948718239489, 257.62174261632055, 265.4658496394325, 273.3676058906009, 281.26757390667404, 289.1092253592047, 296.84142501808884, 304.42036727353536, 311.8107781327395, 318.98632024852213, 325.92925900763146, 332.6295387206829, 339.08347876610475, 345.29229691982266, 351.26064940516284, 356.9953190348451, 362.50413128859367, 367.7951259877487, 372.875975844929, 377.75361798828385, 382.4340558054472, 386.92228675783065, 391.222314264673, 395.33721396687224, 399.2692276082419], \"yaxis\": \"y\"}, {\"hoverlabel\": {\"namelength\": 0}, \"hovertemplate\": \"Mode=Inland<br>Vehicle=mbarge<br>Year=%{x}<br>VehicleCount=%{y}\", \"legendgroup\": \"Mode=Inland\", \"line\": {\"color\": \"#00cc96\"}, \"mode\": \"lines\", \"name\": \"Mode=Inland\", \"orientation\": \"v\", \"showlegend\": false, \"stackgroup\": \"1\", \"type\": \"scatter\", \"x\": [2000.0, 2001.0, 2002.0, 2003.0, 2004.0, 2005.0, 2006.0, 2007.0, 2008.0, 2009.0, 2010.0, 2011.0, 2012.0, 2013.0, 2014.0, 2015.0, 2016.0, 2017.0, 2018.0, 2019.0, 2020.0, 2021.0, 2022.0, 2023.0, 2024.0, 2025.0, 2026.0, 2027.0, 2028.0, 2029.0, 2030.0, 2031.0, 2032.0, 2033.0, 2034.0, 2035.0, 2036.0, 2037.0, 2038.0, 2039.0, 2040.0, 2041.0, 2042.0, 2043.0, 2044.0, 2045.0, 2046.0, 2047.0, 2048.0, 2049.0, 2050.0], \"xaxis\": \"x\", \"y\": [285.88541111691774, 284.340799236658, 283.20433959749795, 282.4644427260568, 282.11013740227827, 282.1311013310349, 282.5176816409935, 283.2609006122219, 284.35243754852695, 285.78457691378986, 287.5501115589987, 289.6421835494884, 292.05404697175067, 294.7787321322082, 297.8085933670962, 301.13472362775457, 304.74622584826045, 308.6293452804319, 312.7664845158907, 317.13514950714375, 321.7069104088251, 326.4464921293692, 331.31115004861147, 336.2505002470006, 341.2069766379248, 346.1170491238177, 350.91326319103774, 355.52704707685353, 359.8921034712881, 363.9480686047695, 367.64403831798097, 370.9415311906164, 373.816517223988, 376.260276523841, 378.2790214531193, 379.8924022964893, 381.1311603177337, 382.034268659306, 382.6459217294522, 383.01267270475705, 383.1809463905266, 383.19504883176506, 383.095713186627, 382.91915317680844, 382.6965557442299, 382.45392393148717, 382.2121811457712, 381.98745606064244, 381.79147904442664, 381.63204082003193, 381.51347283555214], \"yaxis\": \"y\"}, {\"hoverlabel\": {\"namelength\": 0}, \"hovertemplate\": \"Mode=Inland<br>Vehicle=sbarge<br>Year=%{x}<br>VehicleCount=%{y}\", \"legendgroup\": \"Mode=Inland\", \"line\": {\"color\": \"#00cc96\"}, \"mode\": \"lines\", \"name\": \"Mode=Inland\", \"orientation\": \"v\", \"showlegend\": false, \"stackgroup\": \"1\", \"type\": \"scatter\", \"x\": [2000.0, 2001.0, 2002.0, 2003.0, 2004.0, 2005.0, 2006.0, 2007.0, 2008.0, 2009.0, 2010.0, 2011.0, 2012.0, 2013.0, 2014.0, 2015.0, 2016.0, 2017.0, 2018.0, 2019.0, 2020.0, 2021.0, 2022.0, 2023.0, 2024.0, 2025.0, 2026.0, 2027.0, 2028.0, 2029.0, 2030.0, 2031.0, 2032.0, 2033.0, 2034.0, 2035.0, 2036.0, 2037.0, 2038.0, 2039.0, 2040.0, 2041.0, 2042.0, 2043.0, 2044.0, 2045.0, 2046.0, 2047.0, 2048.0, 2049.0, 2050.0], \"xaxis\": \"x\", \"y\": [1103.0637466027802, 1094.4264603631923, 1087.1492000093217, 1081.1616164185896, 1076.3940893275194, 1072.777878833734, 1070.2452758419413, 1068.7297412143168, 1068.166007168582, 1068.4901125831425, 1069.6393402338906, 1071.5520019357161, 1074.1670267829136, 1077.4232916985263, 1081.258646833885, 1085.6085944761555, 1090.4046069881897, 1095.572120147121, 1101.0282963522002, 1106.6797355680544, 1112.4204164770024, 1118.1302268292966, 1123.674538977231, 1128.905280460061, 1133.6639041203077, 1137.786484913445, 1141.1108991673573, 1143.4856762823952, 1144.7797501562943, 1144.8920118744882, 1143.759444421061, 1141.3626844434425, 1137.7281792245367, 1132.926618940892, 1127.0678644441905, 1120.2931081256115, 1112.7653304048717, 1104.6592044809677, 1096.1515221758973, 1087.4129189770317, 1078.6013884931006, 1069.8577342270382, 1061.3028709242355, 1053.0367169915255, 1045.1383438885514, 1037.6670308531968, 1030.6639111583977, 1024.1539496217051, 1018.1480470337464, 1012.6451378975543, 1007.6341825496293], \"yaxis\": \"y\"}],\n",
       "                        {\"height\": 600, \"legend\": {\"font\": {\"size\": 10}, \"tracegroupgap\": 0, \"traceorder\": \"reversed\", \"y\": 0.5}, \"margin\": {\"t\": 60}, \"template\": {\"data\": {\"bar\": [{\"error_x\": {\"color\": \"#2a3f5f\"}, \"error_y\": {\"color\": \"#2a3f5f\"}, \"marker\": {\"line\": {\"color\": \"#E5ECF6\", \"width\": 0.5}}, \"type\": \"bar\"}], \"barpolar\": [{\"marker\": {\"line\": {\"color\": \"#E5ECF6\", \"width\": 0.5}}, \"type\": \"barpolar\"}], \"carpet\": [{\"aaxis\": {\"endlinecolor\": \"#2a3f5f\", \"gridcolor\": \"white\", \"linecolor\": \"white\", \"minorgridcolor\": \"white\", \"startlinecolor\": \"#2a3f5f\"}, \"baxis\": {\"endlinecolor\": \"#2a3f5f\", \"gridcolor\": \"white\", \"linecolor\": \"white\", \"minorgridcolor\": \"white\", \"startlinecolor\": \"#2a3f5f\"}, \"type\": \"carpet\"}], \"choropleth\": [{\"colorbar\": {\"outlinewidth\": 0, \"ticks\": \"\"}, \"type\": \"choropleth\"}], \"contour\": [{\"colorbar\": {\"outlinewidth\": 0, \"ticks\": \"\"}, \"colorscale\": [[0.0, \"#0d0887\"], [0.1111111111111111, \"#46039f\"], [0.2222222222222222, \"#7201a8\"], [0.3333333333333333, \"#9c179e\"], [0.4444444444444444, \"#bd3786\"], [0.5555555555555556, \"#d8576b\"], [0.6666666666666666, \"#ed7953\"], [0.7777777777777778, \"#fb9f3a\"], [0.8888888888888888, \"#fdca26\"], [1.0, \"#f0f921\"]], \"type\": \"contour\"}], \"contourcarpet\": [{\"colorbar\": {\"outlinewidth\": 0, \"ticks\": \"\"}, \"type\": \"contourcarpet\"}], \"heatmap\": [{\"colorbar\": {\"outlinewidth\": 0, \"ticks\": \"\"}, \"colorscale\": [[0.0, \"#0d0887\"], [0.1111111111111111, \"#46039f\"], [0.2222222222222222, \"#7201a8\"], [0.3333333333333333, \"#9c179e\"], [0.4444444444444444, \"#bd3786\"], [0.5555555555555556, \"#d8576b\"], [0.6666666666666666, \"#ed7953\"], [0.7777777777777778, \"#fb9f3a\"], [0.8888888888888888, \"#fdca26\"], [1.0, \"#f0f921\"]], \"type\": \"heatmap\"}], \"heatmapgl\": [{\"colorbar\": {\"outlinewidth\": 0, \"ticks\": \"\"}, \"colorscale\": [[0.0, \"#0d0887\"], [0.1111111111111111, \"#46039f\"], [0.2222222222222222, \"#7201a8\"], [0.3333333333333333, \"#9c179e\"], [0.4444444444444444, \"#bd3786\"], [0.5555555555555556, \"#d8576b\"], [0.6666666666666666, \"#ed7953\"], [0.7777777777777778, \"#fb9f3a\"], [0.8888888888888888, \"#fdca26\"], [1.0, \"#f0f921\"]], \"type\": \"heatmapgl\"}], \"histogram\": [{\"marker\": {\"colorbar\": {\"outlinewidth\": 0, \"ticks\": \"\"}}, \"type\": \"histogram\"}], \"histogram2d\": [{\"colorbar\": {\"outlinewidth\": 0, \"ticks\": \"\"}, \"colorscale\": [[0.0, \"#0d0887\"], [0.1111111111111111, \"#46039f\"], [0.2222222222222222, \"#7201a8\"], [0.3333333333333333, \"#9c179e\"], [0.4444444444444444, \"#bd3786\"], [0.5555555555555556, \"#d8576b\"], [0.6666666666666666, \"#ed7953\"], [0.7777777777777778, \"#fb9f3a\"], [0.8888888888888888, \"#fdca26\"], [1.0, \"#f0f921\"]], \"type\": \"histogram2d\"}], \"histogram2dcontour\": [{\"colorbar\": {\"outlinewidth\": 0, \"ticks\": \"\"}, \"colorscale\": [[0.0, \"#0d0887\"], [0.1111111111111111, \"#46039f\"], [0.2222222222222222, \"#7201a8\"], [0.3333333333333333, \"#9c179e\"], [0.4444444444444444, \"#bd3786\"], [0.5555555555555556, \"#d8576b\"], [0.6666666666666666, \"#ed7953\"], [0.7777777777777778, \"#fb9f3a\"], [0.8888888888888888, \"#fdca26\"], [1.0, \"#f0f921\"]], \"type\": \"histogram2dcontour\"}], \"mesh3d\": [{\"colorbar\": {\"outlinewidth\": 0, \"ticks\": \"\"}, \"type\": \"mesh3d\"}], \"parcoords\": [{\"line\": {\"colorbar\": {\"outlinewidth\": 0, \"ticks\": \"\"}}, \"type\": \"parcoords\"}], \"scatter\": [{\"marker\": {\"colorbar\": {\"outlinewidth\": 0, \"ticks\": \"\"}}, \"type\": \"scatter\"}], \"scatter3d\": [{\"line\": {\"colorbar\": {\"outlinewidth\": 0, \"ticks\": \"\"}}, \"marker\": {\"colorbar\": {\"outlinewidth\": 0, \"ticks\": \"\"}}, \"type\": \"scatter3d\"}], \"scattercarpet\": [{\"marker\": {\"colorbar\": {\"outlinewidth\": 0, \"ticks\": \"\"}}, \"type\": \"scattercarpet\"}], \"scattergeo\": [{\"marker\": {\"colorbar\": {\"outlinewidth\": 0, \"ticks\": \"\"}}, \"type\": \"scattergeo\"}], \"scattergl\": [{\"marker\": {\"colorbar\": {\"outlinewidth\": 0, \"ticks\": \"\"}}, \"type\": \"scattergl\"}], \"scattermapbox\": [{\"marker\": {\"colorbar\": {\"outlinewidth\": 0, \"ticks\": \"\"}}, \"type\": \"scattermapbox\"}], \"scatterpolar\": [{\"marker\": {\"colorbar\": {\"outlinewidth\": 0, \"ticks\": \"\"}}, \"type\": \"scatterpolar\"}], \"scatterpolargl\": [{\"marker\": {\"colorbar\": {\"outlinewidth\": 0, \"ticks\": \"\"}}, \"type\": \"scatterpolargl\"}], \"scatterternary\": [{\"marker\": {\"colorbar\": {\"outlinewidth\": 0, \"ticks\": \"\"}}, \"type\": \"scatterternary\"}], \"surface\": [{\"colorbar\": {\"outlinewidth\": 0, \"ticks\": \"\"}, \"colorscale\": [[0.0, \"#0d0887\"], [0.1111111111111111, \"#46039f\"], [0.2222222222222222, \"#7201a8\"], [0.3333333333333333, \"#9c179e\"], [0.4444444444444444, \"#bd3786\"], [0.5555555555555556, \"#d8576b\"], [0.6666666666666666, \"#ed7953\"], [0.7777777777777778, \"#fb9f3a\"], [0.8888888888888888, \"#fdca26\"], [1.0, \"#f0f921\"]], \"type\": \"surface\"}], \"table\": [{\"cells\": {\"fill\": {\"color\": \"#EBF0F8\"}, \"line\": {\"color\": \"white\"}}, \"header\": {\"fill\": {\"color\": \"#C8D4E3\"}, \"line\": {\"color\": \"white\"}}, \"type\": \"table\"}]}, \"layout\": {\"annotationdefaults\": {\"arrowcolor\": \"#2a3f5f\", \"arrowhead\": 0, \"arrowwidth\": 1}, \"colorscale\": {\"diverging\": [[0, \"#8e0152\"], [0.1, \"#c51b7d\"], [0.2, \"#de77ae\"], [0.3, \"#f1b6da\"], [0.4, \"#fde0ef\"], [0.5, \"#f7f7f7\"], [0.6, \"#e6f5d0\"], [0.7, \"#b8e186\"], [0.8, \"#7fbc41\"], [0.9, \"#4d9221\"], [1, \"#276419\"]], \"sequential\": [[0.0, \"#0d0887\"], [0.1111111111111111, \"#46039f\"], [0.2222222222222222, \"#7201a8\"], [0.3333333333333333, \"#9c179e\"], [0.4444444444444444, \"#bd3786\"], [0.5555555555555556, \"#d8576b\"], [0.6666666666666666, \"#ed7953\"], [0.7777777777777778, \"#fb9f3a\"], [0.8888888888888888, \"#fdca26\"], [1.0, \"#f0f921\"]], \"sequentialminus\": [[0.0, \"#0d0887\"], [0.1111111111111111, \"#46039f\"], [0.2222222222222222, \"#7201a8\"], [0.3333333333333333, \"#9c179e\"], [0.4444444444444444, \"#bd3786\"], [0.5555555555555556, \"#d8576b\"], [0.6666666666666666, \"#ed7953\"], [0.7777777777777778, \"#fb9f3a\"], [0.8888888888888888, \"#fdca26\"], [1.0, \"#f0f921\"]]}, \"colorway\": [\"#636efa\", \"#EF553B\", \"#00cc96\", \"#ab63fa\", \"#FFA15A\", \"#19d3f3\", \"#FF6692\", \"#B6E880\", \"#FF97FF\", \"#FECB52\"], \"font\": {\"color\": \"#2a3f5f\"}, \"geo\": {\"bgcolor\": \"white\", \"lakecolor\": \"white\", \"landcolor\": \"#E5ECF6\", \"showlakes\": true, \"showland\": true, \"subunitcolor\": \"white\"}, \"hoverlabel\": {\"align\": \"left\"}, \"hovermode\": \"closest\", \"mapbox\": {\"style\": \"light\"}, \"paper_bgcolor\": \"white\", \"plot_bgcolor\": \"#E5ECF6\", \"polar\": {\"angularaxis\": {\"gridcolor\": \"white\", \"linecolor\": \"white\", \"ticks\": \"\"}, \"bgcolor\": \"#E5ECF6\", \"radialaxis\": {\"gridcolor\": \"white\", \"linecolor\": \"white\", \"ticks\": \"\"}}, \"scene\": {\"xaxis\": {\"backgroundcolor\": \"#E5ECF6\", \"gridcolor\": \"white\", \"gridwidth\": 2, \"linecolor\": \"white\", \"showbackground\": true, \"ticks\": \"\", \"zerolinecolor\": \"white\"}, \"yaxis\": {\"backgroundcolor\": \"#E5ECF6\", \"gridcolor\": \"white\", \"gridwidth\": 2, \"linecolor\": \"white\", \"showbackground\": true, \"ticks\": \"\", \"zerolinecolor\": \"white\"}, \"zaxis\": {\"backgroundcolor\": \"#E5ECF6\", \"gridcolor\": \"white\", \"gridwidth\": 2, \"linecolor\": \"white\", \"showbackground\": true, \"ticks\": \"\", \"zerolinecolor\": \"white\"}}, \"shapedefaults\": {\"line\": {\"color\": \"#2a3f5f\"}}, \"ternary\": {\"aaxis\": {\"gridcolor\": \"white\", \"linecolor\": \"white\", \"ticks\": \"\"}, \"baxis\": {\"gridcolor\": \"white\", \"linecolor\": \"white\", \"ticks\": \"\"}, \"bgcolor\": \"#E5ECF6\", \"caxis\": {\"gridcolor\": \"white\", \"linecolor\": \"white\", \"ticks\": \"\"}}, \"title\": {\"x\": 0.05}, \"xaxis\": {\"automargin\": true, \"gridcolor\": \"white\", \"linecolor\": \"white\", \"ticks\": \"\", \"zerolinecolor\": \"white\", \"zerolinewidth\": 2}, \"yaxis\": {\"automargin\": true, \"gridcolor\": \"white\", \"linecolor\": \"white\", \"ticks\": \"\", \"zerolinecolor\": \"white\", \"zerolinewidth\": 2}}}, \"xaxis\": {\"anchor\": \"y\", \"domain\": [0.0, 0.98], \"title\": {\"text\": \"Year\"}}, \"yaxis\": {\"anchor\": \"x\", \"domain\": [0.0, 1.0], \"title\": {\"text\": \"VehicleCount\"}}},\n",
       "                        {\"responsive\": true}\n",
       "                    ).then(function(){\n",
       "                            \n",
       "var gd = document.getElementById('d0b89700-89a1-4d9c-a736-825da9382edb');\n",
       "var x = new MutationObserver(function (mutations, observer) {{\n",
       "        var display = window.getComputedStyle(gd).display;\n",
       "        if (!display || display === 'none') {{\n",
       "            console.log([gd, 'removed!']);\n",
       "            Plotly.purge(gd);\n",
       "            observer.disconnect();\n",
       "        }}\n",
       "}});\n",
       "\n",
       "// Listen for the removal of the full notebook cells\n",
       "var notebookContainer = gd.closest('#notebook-container');\n",
       "if (notebookContainer) {{\n",
       "    x.observe(notebookContainer, {childList: true});\n",
       "}}\n",
       "\n",
       "// Listen for the clearing of the current output cell\n",
       "var outputEl = gd.closest('.output');\n",
       "if (outputEl) {{\n",
       "    x.observe(outputEl, {childList: true});\n",
       "}}\n",
       "\n",
       "                        })\n",
       "                };\n",
       "                });\n",
       "            </script>\n",
       "        </div>"
      ]
     },
     "metadata": {},
     "output_type": "display_data"
    },
    {
     "data": {
      "text/plain": [
       "<Figure size 432x288 with 0 Axes>"
      ]
     },
     "metadata": {},
     "output_type": "display_data"
    }
   ],
   "source": [
    "###    R U N   F U N C T I O N S   F R E I G H T   T R A N S P O R T \n",
    "\n",
    "### calculates shares per vehicle type\n",
    "dfHF, DHF = RoadFirst(x, PolyHF)\n",
    "BinaryShifts(x, DHF, 'Freight', figs=False)\n",
    "PlotService(x, dfHF, y='Share', scn='HoogFreight', figs=True)\n",
    "PlotService(x, dfHF, y='Ton-kilometers', scn='HoogFreight', figs=True)\n",
    "\n",
    "### translates service demand to amount of vehicles needed\n",
    "dfHF, STVhf = ServiceToFreightVehicles(x, dfHF, figs=True)\n",
    "# BinaryShifts(x, STVhp, 'StV', figs=True)\n",
    "PlotService(x, dfHF, y='VehicleCount', scn='HoogPerson', figs=True)\n",
    "\n"
   ]
  },
  {
   "cell_type": "code",
   "execution_count": null,
   "metadata": {},
   "outputs": [],
   "source": []
  },
  {
   "cell_type": "code",
   "execution_count": null,
   "metadata": {},
   "outputs": [],
   "source": []
  },
  {
   "cell_type": "code",
   "execution_count": null,
   "metadata": {},
   "outputs": [],
   "source": []
  },
  {
   "cell_type": "code",
   "execution_count": null,
   "metadata": {},
   "outputs": [],
   "source": []
  },
  {
   "cell_type": "code",
   "execution_count": null,
   "metadata": {},
   "outputs": [],
   "source": []
  }
 ],
 "metadata": {
  "kernelspec": {
   "display_name": "Python 3",
   "language": "python",
   "name": "python3"
  },
  "language_info": {
   "codemirror_mode": {
    "name": "ipython",
    "version": 3
   },
   "file_extension": ".py",
   "mimetype": "text/x-python",
   "name": "python",
   "nbconvert_exporter": "python",
   "pygments_lexer": "ipython3",
   "version": "3.7.3"
  }
 },
 "nbformat": 4,
 "nbformat_minor": 2
}
