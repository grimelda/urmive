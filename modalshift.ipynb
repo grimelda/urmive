{
 "cells": [
  {
   "cell_type": "code",
   "execution_count": 1,
   "metadata": {},
   "outputs": [],
   "source": [
    "import numpy as np\n",
    "import pandas as pd\n",
    "import matplotlib.pyplot as plt\n",
    "import plotly.express as px\n",
    "import seaborn as sns\n"
   ]
  },
  {
   "cell_type": "code",
   "execution_count": 44,
   "metadata": {},
   "outputs": [],
   "source": [
    "#####   F U N C T I O N S\n",
    "\n",
    "###   PERSON TRANSPORT\n",
    "\n",
    "def PolyFit(x, wlo, scn):\n",
    "    ### fourth order polyfit\n",
    "    poly = np.poly1d(np.polyfit(wlo.index, wlo['Total'], 4))\n",
    "    \n",
    "    ### plot\n",
    "    plt.plot(list(wlo.index)[:-3], wlo['Total'][:-3], 'b.', \n",
    "             x, poly(x), 'r-',\n",
    "             list(wlo.index)[-3:], wlo['Total'][-3:], 'g*', \n",
    "            )\n",
    "    plt.legend(('historical','WLO','interpolation'), loc='right')\n",
    "    if scn=='HP' or scn=='LP':\n",
    "        plt.ylabel('Person-kilometers')\n",
    "    if scn=='HF' or scn=='LF':\n",
    "        plt.ylabel('Ton-kilometers')\n",
    "    plt.ylim(0,1.1*max(poly(x)))\n",
    "    plt.savefig(str('figures/WLO_Service_'\\\n",
    "                    +scn+'_'\n",
    "                    +str(int(min(x)))\\\n",
    "                    +'-'+str(int(max(x)))\\\n",
    "                    +'.pdf'), dpi=400)\n",
    "    plt.show()\n",
    "    plt.clf()\n",
    "    return poly(x)\n",
    "\n",
    "\n",
    "def InnoDiff(x, start=0, end=1, steepness=1, midpoint=2030):\n",
    "    if end < start:\n",
    "        y = np.ones(len(x))*start - np.ones(len(x))*(start-end) / (1+np.exp(-steepness*(x-midpoint)))\n",
    "    elif end >= start: \n",
    "        y = np.ones(len(x))*start + np.ones(len(x))*(end-start) / (1+np.exp(-steepness*(x-midpoint)))\n",
    "    return y\n",
    "\n",
    "\n",
    "def CarsFirst(x, poly):\n",
    "    df = pd.DataFrame()\n",
    "    keys = ['ice', 'ev', 'hev', 'train', 'metro/bus', 'ebike', 'bike', 'emoped', 'moped', 'walk']\n",
    "    for key in keys:\n",
    "        temp = pd.DataFrame()\n",
    "        temp['Year'] = x\n",
    "        temp['Vehicle'] = key\n",
    "        temp['Share'] = np.nan\n",
    "        df = pd.concat([df, temp], ignore_index=True, sort=False)\n",
    "        D = dict()\n",
    "        \n",
    "    ### for drive first\n",
    "\n",
    "    D['drive'] = InnoDiff(x, start=0.76, end=0.1,\n",
    "                          steepness=0.25, midpoint=2035)\n",
    "\n",
    "    D['ice'] = InnoDiff(x,start=0.99,end=0.15,\n",
    "                        steepness=0.3,midpoint=2030)\n",
    "\n",
    "    D['ev'] = InnoDiff(x, start=0.01, end=0.99,\n",
    "                   steepness=0.3, midpoint=2025)\n",
    "\n",
    "    D['public'] = InnoDiff(x, start=0.50, end=0.72,\n",
    "                     steepness=0.2, midpoint=2030 )\n",
    "\n",
    "    D['train'] = InnoDiff(x, start=0.77, end=0.77,\n",
    "                      steepness=1,  midpoint=2040 )\n",
    "\n",
    "    D['cycle'] = InnoDiff(x, start=0.80, end=0.80,\n",
    "                     steepness=1, midpoint=2035 )\n",
    "\n",
    "    D['bicycle'] = InnoDiff(x, start=0.93, end=0.85,\n",
    "                     steepness=0.3, midpoint=2030 )\n",
    "\n",
    "    D['bike'] = InnoDiff(x, start=0.999, end=0.66,\n",
    "                     steepness=0.3, midpoint=2030 )\n",
    "\n",
    "    D['moped'] = InnoDiff(x, start=0.999, end=0.001,\n",
    "                      steepness=0.3, midpoint=2030 )\n",
    "    \n",
    "    ones = np.ones(len(x))\n",
    "    ### cars\n",
    "    df.loc[df['Vehicle']=='ice', 'Share'] = D['drive'] * D['ice']\n",
    "    df.loc[df['Vehicle']=='ev', 'Share'] = D['drive'] * (ones - D['ice']) * D['ev']\n",
    "    df.loc[df['Vehicle']=='hev', 'Share'] = D['drive'] * (ones - D['ice'])* (ones - D['ev'])\n",
    "\n",
    "    ### public transport\n",
    "    df.loc[df['Vehicle']=='train', 'Share'] = (ones - D['drive']) * D['public'] * D['train']\n",
    "    df.loc[df['Vehicle']=='metro/bus', 'Share'] = (ones - D['drive']) * D['public'] * (ones - D['train'])\n",
    "\n",
    "    ### slow transport\n",
    "    df.loc[df['Vehicle']=='bike', 'Share'] = (ones - D['drive']) * (ones - D['public']) * D['cycle'] * D['bicycle'] * D['bike']\n",
    "    df.loc[df['Vehicle']=='ebike', 'Share'] = (ones - D['drive']) * (ones - D['public']) * D['cycle'] * D['bicycle'] * (ones - D['bike'])\n",
    "    df.loc[df['Vehicle']=='moped', 'Share'] = (ones - D['drive']) * (ones - D['public']) * D['cycle'] * (ones - D['bicycle']) * D['moped']\n",
    "    df.loc[df['Vehicle']=='emoped', 'Share'] = (ones - D['drive']) * (ones - D['public']) * D['cycle'] * (ones - D['bicycle']) * (ones - D['moped'])\n",
    "    df.loc[df['Vehicle']=='walk', 'Share'] = (ones - D['drive']) * (ones - D['public']) * (ones - D['cycle'])\n",
    "    \n",
    "    df['Person-kilometers'] = None\n",
    "    for i in df['Vehicle'].unique():\n",
    "        df.loc[df['Vehicle']==i, 'Person-kilometers'] = df.loc[df['Vehicle']==i, 'Share'].multiply(poly)\n",
    "        \n",
    "    modemap = {'Driving' : ['ice', 'ev', 'hev'],\n",
    "               'Transit' : ['train', 'metro/bus'],\n",
    "               'Cycling' : ['ebike', 'bike', 'moped', 'emoped'],\n",
    "               'Walking' : ['walk'],\n",
    "               }\n",
    "    for key in list(modemap.keys()):\n",
    "        for i in range(len(modemap[key])):\n",
    "            df.loc[df['Vehicle']==modemap[key][i], 'Mode'] = key\n",
    "    \n",
    "    for each in df['Mode'].unique():\n",
    "        print(each, round(df.loc[df['Year']==2050]\\\n",
    "                            .loc[df['Mode']==each,'Share'].sum(),3)\\\n",
    "              )\n",
    "    return df, D\n",
    "\n",
    "def BinaryShifts(x, D, mode, figs=False):\n",
    "    for key in D.keys():\n",
    "        pal = sns.color_palette(\"Set1\")\n",
    "        y = [D[key], 1-D[key] ]\n",
    "        plt.stackplot(x, y, colors=pal, alpha=0.6 )\n",
    "        plt.savefig(str('figures/WLOHP_Share'\\\n",
    "                        +'_'+mode\n",
    "                        +key\n",
    "                        +'.pdf'), dpi=300)\n",
    "        if figs is True:\n",
    "            plt.show()\n",
    "        plt.clf()\n",
    "\n",
    "    \n",
    "def PlotService(x, df, y='Share', scn='HoogPerson', figs=False):\n",
    "    fig = px.area(df, x = 'Year', y = y, \n",
    "                      color = 'Mode', \n",
    "                      line_group = 'Vehicle',\n",
    "                      ).update_layout(legend=dict(\n",
    "                                                  y=0.5, \n",
    "                                                  traceorder='reversed', \n",
    "                                                  font_size=10,\n",
    "                                                  ))\n",
    "    if figs is True:\n",
    "        fig.show()\n",
    "        \n",
    "    fig.write_image(str('figures/WLO_'\\\n",
    "                                +scn+'_'\\\n",
    "                                +y+'_'\\\n",
    "                                +str(int(min(x)))\\\n",
    "                                +'-'+str(int(max(x)))\\\n",
    "                                +'.pdf'))\n",
    "\n",
    "    \n",
    "def CosCorr(x, years=25, maxim=180):\n",
    "    cos = ((-np.cos(np.degrees(1/(years)*(x-2010)/np.pi +1))+1)*maxim/2)[0:int(len(x-1)/((90/years)*2**0.5))]\n",
    "    coscorr = np.append(cos, np.zeros(len(x) - len(cos)))\n",
    "    # ### plot if you want to show \n",
    "    # # z=np.linspace(2010,2050,4000+1)\n",
    "    # y = coscorr\n",
    "    # plt.plot(x, y)\n",
    "    # plt.show()\n",
    "    return coscorr\n",
    "\n",
    "\n",
    "def StackPlot(x, a, b, path, figs=False):\n",
    "    plt.stackplot(x, a, b)\n",
    "    plt.savefig('figures/CarsPerPersonkm.pdf')\n",
    "    if figs is True:\n",
    "        plt.show()\n",
    "    plt.clf()\n",
    "    \n",
    "\n",
    "def ServiceToVehicles(x, df, service='Person-kilometers', figs=False):\n",
    "    STV = dict()\n",
    "    keys = ['ice', 'ev', 'hev', 'train', 'metro/bus', 'ebike', 'bike', 'emoped', 'moped', 'walk']\n",
    "    \n",
    "    ### cars per person kilometer\n",
    "    CarPerPkm2010 = 7622353/7873\n",
    "    CarCurve = InnoDiff(x, start=CarPerPkm2010, end=CarPerPkm2010/2,\n",
    "                        steepness=0.3, midpoint=2030 )\n",
    "    CarCorr = CosCorr(x, years=70, maxim=160)\n",
    "    STV['ice'] = CarCurve + CarCorr \n",
    "    STV['ev'] = STV['ice']\n",
    "    STV['hev'] = STV['ice']\n",
    "    StackPlot(x, CarCurve, CarCorr, 'CarsPerPersonkm.pdf', figs)\n",
    "    \n",
    "    ### bikes per person kilometer, assumed to be constant\n",
    "    BikePerPkm2010 = 19e6/823\n",
    "    BikeCurve = InnoDiff(x, start=BikePerPkm2010, end=BikePerPkm2010*0.66,\n",
    "                      steepness=0.3, midpoint=2030 )\n",
    "    BikeCorr = CosCorr(x, years=80, maxim=4000)\n",
    "    STV['bike'] = BikeCurve +  BikeCorr\n",
    "    STV['ebike'] = STV['bike']\n",
    "    StackPlot(x, BikeCurve, BikeCorr, 'BikesPerPersonkm.pdf', figs)\n",
    "\n",
    "    \n",
    "#     STV['train'] = \n",
    "    \n",
    "    df['VehicleCount'] = None\n",
    "    for key in STV.keys():\n",
    "        df.loc[df['Vehicle']==key, 'VehicleCount'] = STV[key] * df.loc[df['Vehicle']==key, service]\n",
    "        \n",
    "    return df, STV\n",
    "\n",
    "\n",
    "###   FREIGHT TRANSPORT\n",
    "\n",
    "def RoadFirst(x, poly):\n",
    "    df = pd.DataFrame()\n",
    "    keys = ['40tlorry', '28tlorry', '16tlorry', 'freighttrain', 'xlbarge', 'lbarge', 'mbarge', 'sbarge']\n",
    "    for key in keys:\n",
    "        temp = pd.DataFrame()\n",
    "        temp['Year'] = x\n",
    "        temp['Vehicle'] = key\n",
    "        temp['Share'] = np.nan\n",
    "        df = pd.concat([df, temp], ignore_index=True, sort=False)\n",
    "        \n",
    "    D = dict()\n",
    "    D['ROAD'] = InnoDiff(x, start=0.60, end=0.29,\n",
    "                         steepness=0.15, midpoint=2030)\n",
    "    D['16TL'] = InnoDiff(x, start=0.06, end=0.10,\n",
    "                         steepness=0.15, midpoint=2030)\n",
    "    D['40TL'] = InnoDiff(x, start=0.22, end=0.40,\n",
    "                         steepness=0.15, midpoint=2030)\n",
    "    D['RAIL'] = InnoDiff(x, start=0.11, end=0.4,\n",
    "                         steepness=0.15, midpoint=2030)\n",
    "    D['SBARGE'] = InnoDiff(x, start=0.47, end=0.2,\n",
    "                         steepness=0.1, midpoint=2030)\n",
    "    D['MBARGE'] = InnoDiff(x, start=0.45, end=0.2,\n",
    "                         steepness=0.1, midpoint=2030)\n",
    "    D['LBARGE'] = InnoDiff(x, start=0.60, end=0.4,\n",
    "                         steepness=0.1, midpoint=2030)\n",
    "    \n",
    "    \n",
    "    ones = np.ones(len(x))\n",
    "    df.loc[df['Vehicle']=='16tlorry', 'Share'] = D['ROAD'] * D['16TL']\n",
    "    df.loc[df['Vehicle']=='28tlorry', 'Share'] = D['ROAD'] * (ones - D['16TL']) * (ones - D['40TL'])\n",
    "    df.loc[df['Vehicle']=='40tlorry', 'Share'] = D['ROAD'] * (ones - D['16TL']) * D['40TL']\n",
    "\n",
    "    df.loc[df['Vehicle']=='freighttrain', 'Share'] = (ones - D['ROAD']) * D['RAIL']\n",
    "    \n",
    "    df.loc[df['Vehicle']=='sbarge', 'Share'] = (ones - D['ROAD']) * (ones - D['RAIL']) * D['SBARGE']\n",
    "    df.loc[df['Vehicle']=='mbarge', 'Share'] = (ones - D['ROAD']) * (ones - D['RAIL']) * (ones - D['SBARGE']) * D['MBARGE'] \n",
    "    df.loc[df['Vehicle']=='lbarge', 'Share'] = (ones - D['ROAD']) * (ones - D['RAIL']) * (ones - D['SBARGE']) * (ones - D['MBARGE']) * D['LBARGE'] \n",
    "    df.loc[df['Vehicle']=='xlbarge', 'Share'] = (ones - D['ROAD']) * (ones - D['RAIL']) * (ones - D['SBARGE']) * (ones - D['MBARGE']) * (ones - D['LBARGE'])\n",
    "    \n",
    "    df['Ton-kilometers'] = None\n",
    "    for i in df['Vehicle'].unique():\n",
    "        df.loc[df['Vehicle']==i, 'Ton-kilometers'] = df.loc[df['Vehicle']==i, 'Share'].multiply(poly)\n",
    "    \n",
    "    modemap = {'Road' : ['40tlorry', '28tlorry', '16tlorry'],\n",
    "               'Rail' : ['freighttrain'],\n",
    "               'Inland' : ['xlbarge', 'lbarge', 'mbarge', 'sbarge'],\n",
    "               }\n",
    "    for key in list(modemap.keys()):\n",
    "        for i in range(len(modemap[key])):\n",
    "            df.loc[df['Vehicle']==modemap[key][i], 'Mode'] = key\n",
    "    \n",
    "    for each in df['Mode'].unique():\n",
    "        print(each, round(df.loc[df['Year']==2050]\\\n",
    "                            .loc[df['Mode']==each,'Share'].sum(),3)\\\n",
    "              )\n",
    "        \n",
    "    return df, D\n",
    "\n"
   ]
  },
  {
   "cell_type": "code",
   "execution_count": 45,
   "metadata": {},
   "outputs": [
    {
     "data": {
      "image/png": "[encoded data removed]",
      "text/plain": [
       "<Figure size 432x288 with 1 Axes>"
      ]
     },
     "metadata": {
      "needs_background": "light"
     },
     "output_type": "display_data"
    },
    {
     "data": {
      "image/png": "[encoded data removed]",
      "text/plain": [
       "<Figure size 432x288 with 1 Axes>"
      ]
     },
     "metadata": {
      "needs_background": "light"
     },
     "output_type": "display_data"
    },
    {
     "data": {
      "image/png": "[encoded data removed]",
      "text/plain": [
       "<Figure size 432x288 with 1 Axes>"
      ]
     },
     "metadata": {
      "needs_background": "light"
     },
     "output_type": "display_data"
    },
    {
     "data": {
      "image/png": "[encoded data removed]",
      "text/plain": [
       "<Figure size 432x288 with 1 Axes>"
      ]
     },
     "metadata": {
      "needs_background": "light"
     },
     "output_type": "display_data"
    },
    {
     "data": {
      "text/plain": [
       "<Figure size 432x288 with 0 Axes>"
      ]
     },
     "metadata": {},
     "output_type": "display_data"
    }
   ],
   "source": [
    "### set x-axis and fidelity.\n",
    "x = np.linspace(2010, 2050, 40+1)\n",
    "\n",
    "### read data\n",
    "wloHP = pd.read_csv('data/modalshift/WLOHpassenger.csv', index_col=0,header=0)\n",
    "wloLP = pd.read_csv('data/modalshift/WLOLpassenger.csv', index_col=0,header=0)\n",
    "wloHF = pd.read_csv('data/modalshift/WLOHfreight.csv', index_col=0,header=0)\n",
    "wloLF = pd.read_csv('data/modalshift/WLOLfreight.csv', index_col=0,header=0)\n",
    "\n",
    "### convert to numeric column\n",
    "### force polynomials to flatten out at 2050.\n",
    "wloHP.loc[2040,'Total']=14000\n",
    "wloLP.loc[2040,'Total']=11700\n",
    "wloHF.loc[2030,'Total']=140000\n",
    "wloHF.loc[2046,'Total']=182000\n",
    "wloLF.loc[2030,'Total']=120000\n",
    "wloLF.loc[2046,'Total']=140000\n",
    "\n",
    "### \"PolyXX\" is the passenger transport service demand over time.\n",
    "PolyHP = PolyFit(x, wloHP, 'HP')\n",
    "PolyLP = PolyFit(x, wloLP, 'LP')\n",
    "PolyHF = PolyFit(x, wloHF, 'HF')\n",
    "PolyLF = PolyFit(x, wloLF, 'LF')\n"
   ]
  },
  {
   "cell_type": "code",
   "execution_count": 37,
   "metadata": {},
   "outputs": [],
   "source": [
    "# df.loc[df['Vehicle']=='bike']# df.loc[df['Vehicle']=='bike']"
   ]
  },
  {
   "cell_type": "code",
   "execution_count": 43,
   "metadata": {
    "scrolled": false
   },
   "outputs": [
    {
     "name": "stdout",
     "output_type": "stream",
     "text": [
      "Driving 0.115\n",
      "Transit 0.634\n",
      "Cycling 0.201\n",
      "Walking 0.05\n"
     ]
    },
    {
     "data": {
      "image/png": "[encoded data removed]",
      "text/plain": [
       "<Figure size 432x288 with 1 Axes>"
      ]
     },
     "metadata": {
      "needs_background": "light"
     },
     "output_type": "display_data"
    },
    {
     "data": {
      "image/png": "[encoded data removed]",
      "text/plain": [
       "<Figure size 432x288 with 1 Axes>"
      ]
     },
     "metadata": {
      "needs_background": "light"
     },
     "output_type": "display_data"
    },
    {
     "data": {
      "image/png": "[encoded data removed]",
      "text/plain": [
       "<Figure size 432x288 with 1 Axes>"
      ]
     },
     "metadata": {
      "needs_background": "light"
     },
     "output_type": "display_data"
    },
    {
     "data": {
      "image/png": "[encoded data removed]",
      "text/plain": [
       "<Figure size 432x288 with 1 Axes>"
      ]
     },
     "metadata": {
      "needs_background": "light"
     },
     "output_type": "display_data"
    },
    {
     "data": {
      "image/png": "[encoded data removed]",
      "text/plain": [
       "<Figure size 432x288 with 1 Axes>"
      ]
     },
     "metadata": {
      "needs_background": "light"
     },
     "output_type": "display_data"
    },
    {
     "data": {
      "image/png": "[encoded data removed]",
      "text/plain": [
       "<Figure size 432x288 with 1 Axes>"
      ]
     },
     "metadata": {
      "needs_background": "light"
     },
     "output_type": "display_data"
    },
    {
     "data": {
      "image/png": "[encoded data removed]",
      "text/plain": [
       "<Figure size 432x288 with 1 Axes>"
      ]
     },
     "metadata": {
      "needs_background": "light"
     },
     "output_type": "display_data"
    },
    {
     "data": {
      "image/png": "[encoded data removed]",
      "text/plain": [
       "<Figure size 432x288 with 1 Axes>"
      ]
     },
     "metadata": {
      "needs_background": "light"
     },
     "output_type": "display_data"
    },
    {
     "data": {
      "image/png": "[encoded data removed]",
      "text/plain": [
       "<Figure size 432x288 with 1 Axes>"
      ]
     },
     "metadata": {
      "needs_background": "light"
     },
     "output_type": "display_data"
    },
    {
     "data": {
      "application/vnd.plotly.v1+json": {
       "config": {
        "plotlyServerURL": "https://plot.ly"
       },
       "data": [
        {
         "hoverlabel": {
          "namelength": 0
         },
         "hovertemplate": "Mode=Driving<br>Vehicle=ice<br>Year=%{x}<br>Share=%{y}",
         "legendgroup": "Mode=Driving",
         "line": {
          "color": "#636efa"
         },
         "mode": "lines",
         "name": "Mode=Driving",
         "orientation": "v",
         "showlegend": true,
         "stackgroup": "1",
         "type": "scatter",
         "x": [
          2010,
          2011,
          2012,
          2013,
          2014,
          2015,
          2016,
          2017,
          2018,
          2019,
          2020,
          2021,
          2022,
          2023,
          2024,
          2025,
          2026,
          2027,
          2028,
          2029,
          2030,
          2031,
          2032,
          2033,
          2034,
          2035,
          2036,
          2037,
          2038,
          2039,
          2040,
          2041,
          2042,
          2043,
          2044,
          2045,
          2046,
          2047,
          2048,
          2049,
          2050
         ],
         "xaxis": "x",
         "y": [
          0.7495651901585865,
          0.7486600184725521,
          0.7474644568986617,
          0.7458856685914342,
          0.7438018072361714,
          0.741053594263193,
          0.7374339850062199,
          0.7326759310009398,
          0.7264386788203192,
          0.7182938632423578,
          0.7077140508475072,
          0.694068559083432,
          0.6766343403399381,
          0.6546329960706798,
          0.6273070111296286,
          0.5940458575602879,
          0.5545610649049558,
          0.5090851932921819,
          0.45853654395296567,
          0.40456674941251464,
          0.34942020777391886,
          0.2955995974786122,
          0.24542695627620323,
          0.20065257176109544,
          0.16224342344356313,
          0.13039209919885594,
          0.10469143234742734,
          0.08437555629440369,
          0.06854118798217629,
          0.056304360795041496,
          0.0468865204815052,
          0.03964565982371845,
          0.03407383125756155,
          0.029778843390011144,
          0.026461596758714574,
          0.023894927390324575,
          0.021906146231514947,
          0.020363514549292683,
          0.019166094787828335,
          0.01823622761374717,
          0.01751395785681324
         ],
         "yaxis": "y"
        },
        {
         "hoverlabel": {
          "namelength": 0
         },
         "hovertemplate": "Mode=Driving<br>Vehicle=ev<br>Year=%{x}<br>Share=%{y}",
         "legendgroup": "Mode=Driving",
         "line": {
          "color": "#636efa"
         },
         "mode": "lines",
         "name": "Mode=Driving",
         "orientation": "v",
         "showlegend": false,
         "stackgroup": "1",
         "type": "scatter",
         "x": [
          2010,
          2011,
          2012,
          2013,
          2014,
          2015,
          2016,
          2017,
          2018,
          2019,
          2020,
          2021,
          2022,
          2023,
          2024,
          2025,
          2026,
          2027,
          2028,
          2029,
          2030,
          2031,
          2032,
          2033,
          2034,
          2035,
          2036,
          2037,
          2038,
          2039,
          2040,
          2041,
          2042,
          2043,
          2044,
          2045,
          2046,
          2047,
          2048,
          2049,
          2050
         ],
         "xaxis": "x",
         "y": [
          0.0001902933140507003,
          0.0002376390035867353,
          0.0003074364337301593,
          0.0004121528949588939,
          0.0005720925431799534,
          0.0008205665115211847,
          0.0012123143010256245,
          0.001836836371046358,
          0.0028386147572544993,
          0.004445869483441474,
          0.007007569804716804,
          0.011033544807710073,
          0.01722369177923481,
          0.026460557768702157,
          0.039730597172123995,
          0.05794387181284565,
          0.08165064626263885,
          0.11070664978049276,
          0.1439979711950922,
          0.179365987559348,
          0.2138365139611333,
          0.2441470747226176,
          0.26742553544198777,
          0.28178711136547546,
          0.28664831541994684,
          0.2826868388128684,
          0.2715196983561234,
          0.25525121254355454,
          0.23604018582223343,
          0.21578239580590647,
          0.19594014564219633,
          0.177501715504797,
          0.16102916876992712,
          0.1467500507775116,
          0.1346583635482343,
          0.12460402169754929,
          0.1163620185919172,
          0.10968048945735358,
          0.10431089425915205,
          0.10002482399299929,
          0.09662169536444848
         ],
         "yaxis": "y"
        },
        {
         "hoverlabel": {
          "namelength": 0
         },
         "hovertemplate": "Mode=Driving<br>Vehicle=hev<br>Year=%{x}<br>Share=%{y}",
         "legendgroup": "Mode=Driving",
         "line": {
          "color": "#636efa"
         },
         "mode": "lines",
         "name": "Mode=Driving",
         "orientation": "v",
         "showlegend": false,
         "stackgroup": "1",
         "type": "scatter",
         "x": [
          2010,
          2011,
          2012,
          2013,
          2014,
          2015,
          2016,
          2017,
          2018,
          2019,
          2020,
          2021,
          2022,
          2023,
          2024,
          2025,
          2026,
          2027,
          2028,
          2029,
          2030,
          2031,
          2032,
          2033,
          2034,
          2035,
          2036,
          2037,
          2038,
          2039,
          2040,
          2041,
          2042,
          2043,
          2044,
          2045,
          2046,
          2047,
          2048,
          2049,
          2050
         ],
         "xaxis": "x",
         "y": [
          0.00897287164956665,
          0.00947041124048218,
          0.010134135991567919,
          0.011015887621115508,
          0.012180817262900101,
          0.01370855761525787,
          0.015692560319704552,
          0.018235850491822435,
          0.021440712573884337,
          0.025389368699220264,
          0.030113315207159104,
          0.03555182381296275,
          0.04150622223370169,
          0.047605369863424,
          0.053305202583402336,
          0.05794387181284565,
          0.06085764199899297,
          0.061534228392727666,
          0.059754334151027086,
          0.05566641731594214,
          0.04976118664024397,
          0.04275198969457343,
          0.035405449737568394,
          0.028383475466653096,
          0.022144751721116716,
          0.016921061988275636,
          0.012752378711822582,
          0.009550072568817748,
          0.007160684739830909,
          0.00541458150324877,
          0.004155425501002351,
          0.0032534703836797595,
          0.002608150673426376,
          0.002145034367074881,
          0.0018106865264633314,
          0.0015674497261468825,
          0.0013890242914129007,
          0.0012570722905477485,
          0.001158756600144925,
          0.001085020689148759,
          0.001029410919355164
         ],
         "yaxis": "y"
        },
        {
         "hoverlabel": {
          "namelength": 0
         },
         "hovertemplate": "Mode=Transit<br>Vehicle=train<br>Year=%{x}<br>Share=%{y}",
         "legendgroup": "Mode=Transit",
         "line": {
          "color": "#EF553B"
         },
         "mode": "lines",
         "name": "Mode=Transit",
         "orientation": "v",
         "showlegend": true,
         "stackgroup": "1",
         "type": "scatter",
         "x": [
          2010,
          2011,
          2012,
          2013,
          2014,
          2015,
          2016,
          2017,
          2018,
          2019,
          2020,
          2021,
          2022,
          2023,
          2024,
          2025,
          2026,
          2027,
          2028,
          2029,
          2030,
          2031,
          2032,
          2033,
          2034,
          2035,
          2036,
          2037,
          2038,
          2039,
          2040,
          2041,
          2042,
          2043,
          2044,
          2045,
          2046,
          2047,
          2048,
          2049,
          2050
         ],
         "xaxis": "x",
         "y": [
          0.09362470515912805,
          0.09392394755423719,
          0.0942969405303273,
          0.09476192270553876,
          0.09534161389209764,
          0.09606428790806801,
          0.09696508446195527,
          0.0980876022785035,
          0.09948581501299919,
          0.10122634310990847,
          0.10339109145279023,
          0.10608021253459825,
          0.1094152594940659,
          0.11354222681036094,
          0.11863390801156803,
          0.12489060485172693,
          0.13253770855665264,
          0.14181812690855486,
          0.15297717728455906,
          0.1662378168478559,
          0.18176548843612342,
          0.19962487434658147,
          0.21973532842264987,
          0.2418363990014635,
          0.26547709323168533,
          0.290039554235356,
          0.3147987275913129,
          0.3390072430082462,
          0.3619850758748194,
          0.38319192569933425,
          0.40226745661200797,
          0.41903631289255827,
          0.4334851255838448,
          0.44572376331417257,
          0.45594270713918,
          0.4643748704629506,
          0.4712659607565308,
          0.4768541603000057,
          0.4813579620811289,
          0.48497022879265117,
          0.4878565167571176
         ],
         "yaxis": "y"
        },
        {
         "hoverlabel": {
          "namelength": 0
         },
         "hovertemplate": "Mode=Transit<br>Vehicle=metro/bus<br>Year=%{x}<br>Share=%{y}",
         "legendgroup": "Mode=Transit",
         "line": {
          "color": "#EF553B"
         },
         "mode": "lines",
         "name": "Mode=Transit",
         "orientation": "v",
         "showlegend": false,
         "stackgroup": "1",
         "type": "scatter",
         "x": [
          2010,
          2011,
          2012,
          2013,
          2014,
          2015,
          2016,
          2017,
          2018,
          2019,
          2020,
          2021,
          2022,
          2023,
          2024,
          2025,
          2026,
          2027,
          2028,
          2029,
          2030,
          2031,
          2032,
          2033,
          2034,
          2035,
          2036,
          2037,
          2038,
          2039,
          2040,
          2041,
          2042,
          2043,
          2044,
          2045,
          2046,
          2047,
          2048,
          2049,
          2050
         ],
         "xaxis": "x",
         "y": [
          0.027965821021557726,
          0.028055205113603314,
          0.028166618599967892,
          0.028305509379576512,
          0.028478663889847343,
          0.02869452755695538,
          0.02896359665746716,
          0.029298894187085454,
          0.029716542146740018,
          0.030236440149712916,
          0.03088305329109318,
          0.03168629725059428,
          0.03268248010861709,
          0.03391521060569223,
          0.03543610239306577,
          0.03730498586480155,
          0.03958918567276637,
          0.04236125868697093,
          0.04569448152655659,
          0.04965545178572319,
          0.054293587454945946,
          0.059628209220407444,
          0.0656352279704019,
          0.0722368464549826,
          0.07929835252375016,
          0.0866351915248466,
          0.0940307887610415,
          0.10126190375570988,
          0.10812541227429669,
          0.11445992585824268,
          0.1201578117152751,
          0.1251666908640109,
          0.12948256997958998,
          0.13313826696397363,
          0.13619067875585894,
          0.13870937689153068,
          0.14076775451169102,
          0.14243695697272896,
          0.14378224841384368,
          0.14486123717183086,
          0.14572337513524292
         ],
         "yaxis": "y"
        },
        {
         "hoverlabel": {
          "namelength": 0
         },
         "hovertemplate": "Mode=Cycling<br>Vehicle=ebike<br>Year=%{x}<br>Share=%{y}",
         "legendgroup": "Mode=Cycling",
         "line": {
          "color": "#00cc96"
         },
         "mode": "lines",
         "name": "Mode=Cycling",
         "orientation": "v",
         "showlegend": true,
         "stackgroup": "1",
         "type": "scatter",
         "x": [
          2010,
          2011,
          2012,
          2013,
          2014,
          2015,
          2016,
          2017,
          2018,
          2019,
          2020,
          2021,
          2022,
          2023,
          2024,
          2025,
          2026,
          2027,
          2028,
          2029,
          2030,
          2031,
          2032,
          2033,
          2034,
          2035,
          2036,
          2037,
          2038,
          2039,
          2040,
          2041,
          2042,
          2043,
          2044,
          2045,
          2046,
          2047,
          2048,
          2049,
          2050
         ],
         "xaxis": "x",
         "y": [
          0.00016364528682364288,
          0.00018960622640117915,
          0.00022458284792462006,
          0.0002716776777933342,
          0.0003350412991015572,
          0.00042021188338591973,
          0.0005345534678702154,
          0.0006878125714444342,
          0.0008928085944251177,
          0.0011662602853233473,
          0.001529721033977912,
          0.002010539228277473,
          0.0026426638780426633,
          0.003466972123305948,
          0.00453061634467519,
          0.0058847345235923006,
          0.007579874753977552,
          0.009658854190211653,
          0.012147648651684868,
          0.015046135121346078,
          0.018321450418000294,
          0.02190654201122416,
          0.02570490827352618,
          0.02960040720703822,
          0.033469687073483335,
          0.03719477844010845,
          0.04067405636557264,
          0.04383033787582512,
          0.04661522719305772,
          0.04900932941738182,
          0.05101875438137137,
          0.052669113374104806,
          0.05399857370912357,
          0.05505136293814486,
          0.05587259761883991,
          0.05650474200426521,
          0.05698558070661683,
          0.05734737425384909,
          0.057616818394290614,
          0.05781547646561973,
          0.05796043879991663
         ],
         "yaxis": "y"
        },
        {
         "hoverlabel": {
          "namelength": 0
         },
         "hovertemplate": "Mode=Cycling<br>Vehicle=bike<br>Year=%{x}<br>Share=%{y}",
         "legendgroup": "Mode=Cycling",
         "line": {
          "color": "#00cc96"
         },
         "mode": "lines",
         "name": "Mode=Cycling",
         "orientation": "v",
         "showlegend": false,
         "stackgroup": "1",
         "type": "scatter",
         "x": [
          2010,
          2011,
          2012,
          2013,
          2014,
          2015,
          2016,
          2017,
          2018,
          2019,
          2020,
          2021,
          2022,
          2023,
          2024,
          2025,
          2026,
          2027,
          2028,
          2029,
          2030,
          2031,
          2032,
          2033,
          2034,
          2035,
          2036,
          2037,
          2038,
          2039,
          2040,
          2041,
          2042,
          2043,
          2044,
          2045,
          2046,
          2047,
          2048,
          2049,
          2050
         ],
         "xaxis": "x",
         "y": [
          0.08886016774027436,
          0.0888065238500887,
          0.0887460183175551,
          0.08867836181639706,
          0.08860346990424388,
          0.08852154736351829,
          0.08843318462337409,
          0.08833946038486082,
          0.08824204063319781,
          0.08814326167827378,
          0.08804618812284755,
          0.08795465380261389,
          0.08787333637033741,
          0.08780799457532015,
          0.08776610541329695,
          0.08775822515555141,
          0.08780033625839186,
          0.08791704002648908,
          0.08814459621757581,
          0.08853174025373817,
          0.08913573678434748,
          0.09001226972494453,
          0.0912006855163873,
          0.09270932005528804,
          0.09450683441767953,
          0.0965235119322141,
          0.09866241568838241,
          0.10081651966443274,
          0.10288625141864666,
          0.10479270054033744,
          0.10648414851864375,
          0.10793616153270962,
          0.10914718511519635,
          0.11013206095441652,
          0.110915456397384,
          0.11152639426124593,
          0.11199432211519852,
          0.11234666127363416,
          0.11260753627085052,
          0.11279732997033322,
          0.11293275167621454
         ],
         "yaxis": "y"
        },
        {
         "hoverlabel": {
          "namelength": 0
         },
         "hovertemplate": "Mode=Cycling<br>Vehicle=emoped<br>Year=%{x}<br>Share=%{y}",
         "legendgroup": "Mode=Cycling",
         "line": {
          "color": "#00cc96"
         },
         "mode": "lines",
         "name": "Mode=Cycling",
         "orientation": "v",
         "showlegend": false,
         "stackgroup": "1",
         "type": "scatter",
         "x": [
          2010,
          2011,
          2012,
          2013,
          2014,
          2015,
          2016,
          2017,
          2018,
          2019,
          2020,
          2021,
          2022,
          2023,
          2024,
          2025,
          2026,
          2027,
          2028,
          2029,
          2030,
          2031,
          2032,
          2033,
          2034,
          2035,
          2036,
          2037,
          2038,
          2039,
          2040,
          2041,
          2042,
          2043,
          2044,
          2045,
          2046,
          2047,
          2048,
          2049,
          2050
         ],
         "xaxis": "x",
         "y": [
          2.3306547344169378e-05,
          2.9111455841934664e-05,
          3.6949855508754565e-05,
          4.753694946794222e-05,
          6.184227780517139e-05,
          8.118247648742558e-05,
          0.00010734949978220644,
          0.00014278871130658324,
          0.0001908471346246096,
          0.0002561197445916321,
          0.0003449301077831253,
          0.00046598757023935645,
          0.0006312577100646029,
          0.0008570471863542003,
          0.001165206079806655,
          0.0015841497272409573,
          0.0021490811464564196,
          0.002900438187857472,
          0.0038794759757268082,
          0.005120475500880249,
          0.006640612692279918,
          0.008430511000319942,
          0.01044949694900391,
          0.012628313321545251,
          0.014878940165517173,
          0.017108272333307816,
          0.019231448650258515,
          0.021181641433066632,
          0.022914940492571895,
          0.024410570406001458,
          0.02566766305150186,
          0.02670016915724833,
          0.027531367132310077,
          0.028189004632942563,
          0.028701599325472376,
          0.02909599825062728,
          0.02939602857363361,
          0.02962196169316216,
          0.029790509586532173,
          0.02991512335347025,
          0.030006429986468332
         ],
         "yaxis": "y"
        },
        {
         "hoverlabel": {
          "namelength": 0
         },
         "hovertemplate": "Mode=Cycling<br>Vehicle=moped<br>Year=%{x}<br>Share=%{y}",
         "legendgroup": "Mode=Cycling",
         "line": {
          "color": "#00cc96"
         },
         "mode": "lines",
         "name": "Mode=Cycling",
         "orientation": "v",
         "showlegend": false,
         "stackgroup": "1",
         "type": "scatter",
         "x": [
          2010,
          2011,
          2012,
          2013,
          2014,
          2015,
          2016,
          2017,
          2018,
          2019,
          2020,
          2021,
          2022,
          2023,
          2024,
          2025,
          2026,
          2027,
          2028,
          2029,
          2030,
          2031,
          2032,
          2033,
          2034,
          2035,
          2036,
          2037,
          2038,
          2039,
          2040,
          2041,
          2042,
          2043,
          2044,
          2045,
          2046,
          2047,
          2048,
          2049,
          2050
         ],
         "xaxis": "x",
         "y": [
          0.006697775383246168,
          0.006696981360098893,
          0.00669677821560755,
          0.006697510602242557,
          0.006699650659492282,
          0.006703831192612024,
          0.0067108798118754335,
          0.00672184686887019,
          0.006738012988794713,
          0.006760850544098488,
          0.006791896252778201,
          0.00683246940743136,
          0.006883146877109284,
          0.006942897219932397,
          0.007007815130390215,
          0.00706953707160914,
          0.007113709924368823,
          0.007119301946699278,
          0.007059872666852041,
          0.006907710786928394,
          0.006640612692279918,
          0.006249280893277672,
          0.005742110982033785,
          0.005144836176392372,
          0.004494989271270187,
          0.003833640686207583,
          0.0031976586816043645,
          0.0026147104900899067,
          0.0021015435410383864,
          0.00166484790686033,
          0.0013035460868934749,
          0.0010114763609257796,
          0.0007797970318901737,
          0.0005988044243009788,
          0.000459120475542789,
          0.00035234854905995326,
          0.00027134509809757345,
          0.0002102479234116776,
          0.00016437083464838112,
          0.0001300396022750342,
          0.00010441471101859463
         ],
         "yaxis": "y"
        },
        {
         "hoverlabel": {
          "namelength": 0
         },
         "hovertemplate": "Mode=Walking<br>Vehicle=walk<br>Year=%{x}<br>Share=%{y}",
         "legendgroup": "Mode=Walking",
         "line": {
          "color": "#ab63fa"
         },
         "mode": "lines",
         "name": "Mode=Walking",
         "orientation": "v",
         "showlegend": true,
         "stackgroup": "1",
         "type": "scatter",
         "x": [
          2010,
          2011,
          2012,
          2013,
          2014,
          2015,
          2016,
          2017,
          2018,
          2019,
          2020,
          2021,
          2022,
          2023,
          2024,
          2025,
          2026,
          2027,
          2028,
          2029,
          2030,
          2031,
          2032,
          2033,
          2034,
          2035,
          2036,
          2037,
          2038,
          2039,
          2040,
          2041,
          2042,
          2043,
          2044,
          2045,
          2046,
          2047,
          2048,
          2049,
          2050
         ],
         "xaxis": "x",
         "y": [
          0.023936223739422075,
          0.023930555723107674,
          0.023926082309149,
          0.023923771761475216,
          0.023925001035160716,
          0.02393169322900091,
          0.02394649185072548,
          0.0239729771341205,
          0.024015927337760555,
          0.024081623063071808,
          0.02417818387934669,
          0.024315912502140512,
          0.024507601208888483,
          0.024768727776228166,
          0.025117435742042244,
          0.025574161619498447,
          0.026160750520798654,
          0.026898908587814362,
          0.027807898377959876,
          0.028901515415723215,
          0.030184603146726895,
          0.03164965090744157,
          0.033274300430237776,
          0.03502071919006596,
          0.036837612731987546,
          0.03866505084795948,
          0.04044139484645447,
          0.042110802365853586,
          0.04362949066132865,
          0.044969362067645256,
          0.0461185280096026,
          0.04707923010624712,
          0.047864230747130025,
          0.04849280823745122,
          0.048987193454309755,
          0.049369870766299576,
          0.04966181912338662,
          0.04988156128601426,
          0.05004480877158041,
          0.05016449234792454,
          0.05025100879340451
         ],
         "yaxis": "y"
        }
       ],
       "layout": {
        "height": 600,
        "legend": {
         "font": {
          "size": 10
         },
         "tracegroupgap": 0,
         "traceorder": "reversed",
         "y": 0.5
        },
        "margin": {
         "t": 60
        },
        "template": {
         "data": {
          "bar": [
           {
            "error_x": {
             "color": "#2a3f5f"
            },
            "error_y": {
             "color": "#2a3f5f"
            },
            "marker": {
             "line": {
              "color": "#E5ECF6",
              "width": 0.5
             }
            },
            "type": "bar"
           }
          ],
          "barpolar": [
           {
            "marker": {
             "line": {
              "color": "#E5ECF6",
              "width": 0.5
             }
            },
            "type": "barpolar"
           }
          ],
          "carpet": [
           {
            "aaxis": {
             "endlinecolor": "#2a3f5f",
             "gridcolor": "white",
             "linecolor": "white",
             "minorgridcolor": "white",
             "startlinecolor": "#2a3f5f"
            },
            "baxis": {
             "endlinecolor": "#2a3f5f",
             "gridcolor": "white",
             "linecolor": "white",
             "minorgridcolor": "white",
             "startlinecolor": "#2a3f5f"
            },
            "type": "carpet"
           }
          ],
          "choropleth": [
           {
            "colorbar": {
             "outlinewidth": 0,
             "ticks": ""
            },
            "type": "choropleth"
           }
          ],
          "contour": [
           {
            "colorbar": {
             "outlinewidth": 0,
             "ticks": ""
            },
            "colorscale": [
             [
              0,
              "#0d0887"
             ],
             [
              0.1111111111111111,
              "#46039f"
             ],
             [
              0.2222222222222222,
              "#7201a8"
             ],
             [
              0.3333333333333333,
              "#9c179e"
             ],
             [
              0.4444444444444444,
              "#bd3786"
             ],
             [
              0.5555555555555556,
              "#d8576b"
             ],
             [
              0.6666666666666666,
              "#ed7953"
             ],
             [
              0.7777777777777778,
              "#fb9f3a"
             ],
             [
              0.8888888888888888,
              "#fdca26"
             ],
             [
              1,
              "#f0f921"
             ]
            ],
            "type": "contour"
           }
          ],
          "contourcarpet": [
           {
            "colorbar": {
             "outlinewidth": 0,
             "ticks": ""
            },
            "type": "contourcarpet"
           }
          ],
          "heatmap": [
           {
            "colorbar": {
             "outlinewidth": 0,
             "ticks": ""
            },
            "colorscale": [
             [
              0,
              "#0d0887"
             ],
             [
              0.1111111111111111,
              "#46039f"
             ],
             [
              0.2222222222222222,
              "#7201a8"
             ],
             [
              0.3333333333333333,
              "#9c179e"
             ],
             [
              0.4444444444444444,
              "#bd3786"
             ],
             [
              0.5555555555555556,
              "#d8576b"
             ],
             [
              0.6666666666666666,
              "#ed7953"
             ],
             [
              0.7777777777777778,
              "#fb9f3a"
             ],
             [
              0.8888888888888888,
              "#fdca26"
             ],
             [
              1,
              "#f0f921"
             ]
            ],
            "type": "heatmap"
           }
          ],
          "heatmapgl": [
           {
            "colorbar": {
             "outlinewidth": 0,
             "ticks": ""
            },
            "colorscale": [
             [
              0,
              "#0d0887"
             ],
             [
              0.1111111111111111,
              "#46039f"
             ],
             [
              0.2222222222222222,
              "#7201a8"
             ],
             [
              0.3333333333333333,
              "#9c179e"
             ],
             [
              0.4444444444444444,
              "#bd3786"
             ],
             [
              0.5555555555555556,
              "#d8576b"
             ],
             [
              0.6666666666666666,
              "#ed7953"
             ],
             [
              0.7777777777777778,
              "#fb9f3a"
             ],
             [
              0.8888888888888888,
              "#fdca26"
             ],
             [
              1,
              "#f0f921"
             ]
            ],
            "type": "heatmapgl"
           }
          ],
          "histogram": [
           {
            "marker": {
             "colorbar": {
              "outlinewidth": 0,
              "ticks": ""
             }
            },
            "type": "histogram"
           }
          ],
          "histogram2d": [
           {
            "colorbar": {
             "outlinewidth": 0,
             "ticks": ""
            },
            "colorscale": [
             [
              0,
              "#0d0887"
             ],
             [
              0.1111111111111111,
              "#46039f"
             ],
             [
              0.2222222222222222,
              "#7201a8"
             ],
             [
              0.3333333333333333,
              "#9c179e"
             ],
             [
              0.4444444444444444,
              "#bd3786"
             ],
             [
              0.5555555555555556,
              "#d8576b"
             ],
             [
              0.6666666666666666,
              "#ed7953"
             ],
             [
              0.7777777777777778,
              "#fb9f3a"
             ],
             [
              0.8888888888888888,
              "#fdca26"
             ],
             [
              1,
              "#f0f921"
             ]
            ],
            "type": "histogram2d"
           }
          ],
          "histogram2dcontour": [
           {
            "colorbar": {
             "outlinewidth": 0,
             "ticks": ""
            },
            "colorscale": [
             [
              0,
              "#0d0887"
             ],
             [
              0.1111111111111111,
              "#46039f"
             ],
             [
              0.2222222222222222,
              "#7201a8"
             ],
             [
              0.3333333333333333,
              "#9c179e"
             ],
             [
              0.4444444444444444,
              "#bd3786"
             ],
             [
              0.5555555555555556,
              "#d8576b"
             ],
             [
              0.6666666666666666,
              "#ed7953"
             ],
             [
              0.7777777777777778,
              "#fb9f3a"
             ],
             [
              0.8888888888888888,
              "#fdca26"
             ],
             [
              1,
              "#f0f921"
             ]
            ],
            "type": "histogram2dcontour"
           }
          ],
          "mesh3d": [
           {
            "colorbar": {
             "outlinewidth": 0,
             "ticks": ""
            },
            "type": "mesh3d"
           }
          ],
          "parcoords": [
           {
            "line": {
             "colorbar": {
              "outlinewidth": 0,
              "ticks": ""
             }
            },
            "type": "parcoords"
           }
          ],
          "scatter": [
           {
            "marker": {
             "colorbar": {
              "outlinewidth": 0,
              "ticks": ""
             }
            },
            "type": "scatter"
           }
          ],
          "scatter3d": [
           {
            "line": {
             "colorbar": {
              "outlinewidth": 0,
              "ticks": ""
             }
            },
            "marker": {
             "colorbar": {
              "outlinewidth": 0,
              "ticks": ""
             }
            },
            "type": "scatter3d"
           }
          ],
          "scattercarpet": [
           {
            "marker": {
             "colorbar": {
              "outlinewidth": 0,
              "ticks": ""
             }
            },
            "type": "scattercarpet"
           }
          ],
          "scattergeo": [
           {
            "marker": {
             "colorbar": {
              "outlinewidth": 0,
              "ticks": ""
             }
            },
            "type": "scattergeo"
           }
          ],
          "scattergl": [
           {
            "marker": {
             "colorbar": {
              "outlinewidth": 0,
              "ticks": ""
             }
            },
            "type": "scattergl"
           }
          ],
          "scattermapbox": [
           {
            "marker": {
             "colorbar": {
              "outlinewidth": 0,
              "ticks": ""
             }
            },
            "type": "scattermapbox"
           }
          ],
          "scatterpolar": [
           {
            "marker": {
             "colorbar": {
              "outlinewidth": 0,
              "ticks": ""
             }
            },
            "type": "scatterpolar"
           }
          ],
          "scatterpolargl": [
           {
            "marker": {
             "colorbar": {
              "outlinewidth": 0,
              "ticks": ""
             }
            },
            "type": "scatterpolargl"
           }
          ],
          "scatterternary": [
           {
            "marker": {
             "colorbar": {
              "outlinewidth": 0,
              "ticks": ""
             }
            },
            "type": "scatterternary"
           }
          ],
          "surface": [
           {
            "colorbar": {
             "outlinewidth": 0,
             "ticks": ""
            },
            "colorscale": [
             [
              0,
              "#0d0887"
             ],
             [
              0.1111111111111111,
              "#46039f"
             ],
             [
              0.2222222222222222,
              "#7201a8"
             ],
             [
              0.3333333333333333,
              "#9c179e"
             ],
             [
              0.4444444444444444,
              "#bd3786"
             ],
             [
              0.5555555555555556,
              "#d8576b"
             ],
             [
              0.6666666666666666,
              "#ed7953"
             ],
             [
              0.7777777777777778,
              "#fb9f3a"
             ],
             [
              0.8888888888888888,
              "#fdca26"
             ],
             [
              1,
              "#f0f921"
             ]
            ],
            "type": "surface"
           }
          ],
          "table": [
           {
            "cells": {
             "fill": {
              "color": "#EBF0F8"
             },
             "line": {
              "color": "white"
             }
            },
            "header": {
             "fill": {
              "color": "#C8D4E3"
             },
             "line": {
              "color": "white"
             }
            },
            "type": "table"
           }
          ]
         },
         "layout": {
          "annotationdefaults": {
           "arrowcolor": "#2a3f5f",
           "arrowhead": 0,
           "arrowwidth": 1
          },
          "colorscale": {
           "diverging": [
            [
             0,
             "#8e0152"
            ],
            [
             0.1,
             "#c51b7d"
            ],
            [
             0.2,
             "#de77ae"
            ],
            [
             0.3,
             "#f1b6da"
            ],
            [
             0.4,
             "#fde0ef"
            ],
            [
             0.5,
             "#f7f7f7"
            ],
            [
             0.6,
             "#e6f5d0"
            ],
            [
             0.7,
             "#b8e186"
            ],
            [
             0.8,
             "#7fbc41"
            ],
            [
             0.9,
             "#4d9221"
            ],
            [
             1,
             "#276419"
            ]
           ],
           "sequential": [
            [
             0,
             "#0d0887"
            ],
            [
             0.1111111111111111,
             "#46039f"
            ],
            [
             0.2222222222222222,
             "#7201a8"
            ],
            [
             0.3333333333333333,
             "#9c179e"
            ],
            [
             0.4444444444444444,
             "#bd3786"
            ],
            [
             0.5555555555555556,
             "#d8576b"
            ],
            [
             0.6666666666666666,
             "#ed7953"
            ],
            [
             0.7777777777777778,
             "#fb9f3a"
            ],
            [
             0.8888888888888888,
             "#fdca26"
            ],
            [
             1,
             "#f0f921"
            ]
           ],
           "sequentialminus": [
            [
             0,
             "#0d0887"
            ],
            [
             0.1111111111111111,
             "#46039f"
            ],
            [
             0.2222222222222222,
             "#7201a8"
            ],
            [
             0.3333333333333333,
             "#9c179e"
            ],
            [
             0.4444444444444444,
             "#bd3786"
            ],
            [
             0.5555555555555556,
             "#d8576b"
            ],
            [
             0.6666666666666666,
             "#ed7953"
            ],
            [
             0.7777777777777778,
             "#fb9f3a"
            ],
            [
             0.8888888888888888,
             "#fdca26"
            ],
            [
             1,
             "#f0f921"
            ]
           ]
          },
          "colorway": [
           "#636efa",
           "#EF553B",
           "#00cc96",
           "#ab63fa",
           "#FFA15A",
           "#19d3f3",
           "#FF6692",
           "#B6E880",
           "#FF97FF",
           "#FECB52"
          ],
          "font": {
           "color": "#2a3f5f"
          },
          "geo": {
           "bgcolor": "white",
           "lakecolor": "white",
           "landcolor": "#E5ECF6",
           "showlakes": true,
           "showland": true,
           "subunitcolor": "white"
          },
          "hoverlabel": {
           "align": "left"
          },
          "hovermode": "closest",
          "mapbox": {
           "style": "light"
          },
          "paper_bgcolor": "white",
          "plot_bgcolor": "#E5ECF6",
          "polar": {
           "angularaxis": {
            "gridcolor": "white",
            "linecolor": "white",
            "ticks": ""
           },
           "bgcolor": "#E5ECF6",
           "radialaxis": {
            "gridcolor": "white",
            "linecolor": "white",
            "ticks": ""
           }
          },
          "scene": {
           "xaxis": {
            "backgroundcolor": "#E5ECF6",
            "gridcolor": "white",
            "gridwidth": 2,
            "linecolor": "white",
            "showbackground": true,
            "ticks": "",
            "zerolinecolor": "white"
           },
           "yaxis": {
            "backgroundcolor": "#E5ECF6",
            "gridcolor": "white",
            "gridwidth": 2,
            "linecolor": "white",
            "showbackground": true,
            "ticks": "",
            "zerolinecolor": "white"
           },
           "zaxis": {
            "backgroundcolor": "#E5ECF6",
            "gridcolor": "white",
            "gridwidth": 2,
            "linecolor": "white",
            "showbackground": true,
            "ticks": "",
            "zerolinecolor": "white"
           }
          },
          "shapedefaults": {
           "line": {
            "color": "#2a3f5f"
           }
          },
          "ternary": {
           "aaxis": {
            "gridcolor": "white",
            "linecolor": "white",
            "ticks": ""
           },
           "baxis": {
            "gridcolor": "white",
            "linecolor": "white",
            "ticks": ""
           },
           "bgcolor": "#E5ECF6",
           "caxis": {
            "gridcolor": "white",
            "linecolor": "white",
            "ticks": ""
           }
          },
          "title": {
           "x": 0.05
          },
          "xaxis": {
           "automargin": true,
           "gridcolor": "white",
           "linecolor": "white",
           "ticks": "",
           "zerolinecolor": "white",
           "zerolinewidth": 2
          },
          "yaxis": {
           "automargin": true,
           "gridcolor": "white",
           "linecolor": "white",
           "ticks": "",
           "zerolinecolor": "white",
           "zerolinewidth": 2
          }
         }
        },
        "xaxis": {
         "anchor": "y",
         "domain": [
          0,
          0.98
         ],
         "title": {
          "text": "Year"
         }
        },
        "yaxis": {
         "anchor": "x",
         "domain": [
          0,
          1
         ],
         "title": {
          "text": "Share"
         }
        }
       }
      },
      "text/html": [
       "<div>\n",
       "        \n",
       "        \n",
       "            <div id=\"4d085cf3-9262-4a14-a2cd-f98eafe7c70b\" class=\"plotly-graph-div\" style=\"height:600px; width:100%;\"></div>\n",
       "            <script type=\"text/javascript\">\n",
       "                require([\"plotly\"], function(Plotly) {\n",
       "                    window.PLOTLYENV=window.PLOTLYENV || {};\n",
       "                    \n",
       "                if (document.getElementById(\"4d085cf3-9262-4a14-a2cd-f98eafe7c70b\")) {\n",
       "                    Plotly.newPlot(\n",
       "                        '4d085cf3-9262-4a14-a2cd-f98eafe7c70b',\n",
       "                        [{\"hoverlabel\": {\"namelength\": 0}, \"hovertemplate\": \"Mode=Driving<br>Vehicle=ice<br>Year=%{x}<br>Share=%{y}\", \"legendgroup\": \"Mode=Driving\", \"line\": {\"color\": \"#636efa\"}, \"mode\": \"lines\", \"name\": \"Mode=Driving\", \"orientation\": \"v\", \"showlegend\": true, \"stackgroup\": \"1\", \"type\": \"scatter\", \"x\": [2010.0, 2011.0, 2012.0, 2013.0, 2014.0, 2015.0, 2016.0, 2017.0, 2018.0, 2019.0, 2020.0, 2021.0, 2022.0, 2023.0, 2024.0, 2025.0, 2026.0, 2027.0, 2028.0, 2029.0, 2030.0, 2031.0, 2032.0, 2033.0, 2034.0, 2035.0, 2036.0, 2037.0, 2038.0, 2039.0, 2040.0, 2041.0, 2042.0, 2043.0, 2044.0, 2045.0, 2046.0, 2047.0, 2048.0, 2049.0, 2050.0], \"xaxis\": \"x\", \"y\": [0.7495651901585865, 0.7486600184725521, 0.7474644568986617, 0.7458856685914342, 0.7438018072361714, 0.741053594263193, 0.7374339850062199, 0.7326759310009398, 0.7264386788203192, 0.7182938632423578, 0.7077140508475072, 0.694068559083432, 0.6766343403399381, 0.6546329960706798, 0.6273070111296286, 0.5940458575602879, 0.5545610649049558, 0.5090851932921819, 0.45853654395296567, 0.40456674941251464, 0.34942020777391886, 0.2955995974786122, 0.24542695627620323, 0.20065257176109544, 0.16224342344356313, 0.13039209919885594, 0.10469143234742734, 0.08437555629440369, 0.06854118798217629, 0.056304360795041496, 0.0468865204815052, 0.03964565982371845, 0.03407383125756155, 0.029778843390011144, 0.026461596758714574, 0.023894927390324575, 0.021906146231514947, 0.020363514549292683, 0.019166094787828335, 0.01823622761374717, 0.01751395785681324], \"yaxis\": \"y\"}, {\"hoverlabel\": {\"namelength\": 0}, \"hovertemplate\": \"Mode=Driving<br>Vehicle=ev<br>Year=%{x}<br>Share=%{y}\", \"legendgroup\": \"Mode=Driving\", \"line\": {\"color\": \"#636efa\"}, \"mode\": \"lines\", \"name\": \"Mode=Driving\", \"orientation\": \"v\", \"showlegend\": false, \"stackgroup\": \"1\", \"type\": \"scatter\", \"x\": [2010.0, 2011.0, 2012.0, 2013.0, 2014.0, 2015.0, 2016.0, 2017.0, 2018.0, 2019.0, 2020.0, 2021.0, 2022.0, 2023.0, 2024.0, 2025.0, 2026.0, 2027.0, 2028.0, 2029.0, 2030.0, 2031.0, 2032.0, 2033.0, 2034.0, 2035.0, 2036.0, 2037.0, 2038.0, 2039.0, 2040.0, 2041.0, 2042.0, 2043.0, 2044.0, 2045.0, 2046.0, 2047.0, 2048.0, 2049.0, 2050.0], \"xaxis\": \"x\", \"y\": [0.0001902933140507003, 0.0002376390035867353, 0.0003074364337301593, 0.0004121528949588939, 0.0005720925431799534, 0.0008205665115211847, 0.0012123143010256245, 0.001836836371046358, 0.0028386147572544993, 0.004445869483441474, 0.007007569804716804, 0.011033544807710073, 0.01722369177923481, 0.026460557768702157, 0.039730597172123995, 0.05794387181284565, 0.08165064626263885, 0.11070664978049276, 0.1439979711950922, 0.179365987559348, 0.2138365139611333, 0.2441470747226176, 0.26742553544198777, 0.28178711136547546, 0.28664831541994684, 0.2826868388128684, 0.2715196983561234, 0.25525121254355454, 0.23604018582223343, 0.21578239580590647, 0.19594014564219633, 0.177501715504797, 0.16102916876992712, 0.1467500507775116, 0.1346583635482343, 0.12460402169754929, 0.1163620185919172, 0.10968048945735358, 0.10431089425915205, 0.10002482399299929, 0.09662169536444848], \"yaxis\": \"y\"}, {\"hoverlabel\": {\"namelength\": 0}, \"hovertemplate\": \"Mode=Driving<br>Vehicle=hev<br>Year=%{x}<br>Share=%{y}\", \"legendgroup\": \"Mode=Driving\", \"line\": {\"color\": \"#636efa\"}, \"mode\": \"lines\", \"name\": \"Mode=Driving\", \"orientation\": \"v\", \"showlegend\": false, \"stackgroup\": \"1\", \"type\": \"scatter\", \"x\": [2010.0, 2011.0, 2012.0, 2013.0, 2014.0, 2015.0, 2016.0, 2017.0, 2018.0, 2019.0, 2020.0, 2021.0, 2022.0, 2023.0, 2024.0, 2025.0, 2026.0, 2027.0, 2028.0, 2029.0, 2030.0, 2031.0, 2032.0, 2033.0, 2034.0, 2035.0, 2036.0, 2037.0, 2038.0, 2039.0, 2040.0, 2041.0, 2042.0, 2043.0, 2044.0, 2045.0, 2046.0, 2047.0, 2048.0, 2049.0, 2050.0], \"xaxis\": \"x\", \"y\": [0.00897287164956665, 0.00947041124048218, 0.010134135991567919, 0.011015887621115508, 0.012180817262900101, 0.01370855761525787, 0.015692560319704552, 0.018235850491822435, 0.021440712573884337, 0.025389368699220264, 0.030113315207159104, 0.03555182381296275, 0.04150622223370169, 0.047605369863424, 0.053305202583402336, 0.05794387181284565, 0.06085764199899297, 0.061534228392727666, 0.059754334151027086, 0.05566641731594214, 0.04976118664024397, 0.04275198969457343, 0.035405449737568394, 0.028383475466653096, 0.022144751721116716, 0.016921061988275636, 0.012752378711822582, 0.009550072568817748, 0.007160684739830909, 0.00541458150324877, 0.004155425501002351, 0.0032534703836797595, 0.002608150673426376, 0.002145034367074881, 0.0018106865264633314, 0.0015674497261468825, 0.0013890242914129007, 0.0012570722905477485, 0.001158756600144925, 0.001085020689148759, 0.001029410919355164], \"yaxis\": \"y\"}, {\"hoverlabel\": {\"namelength\": 0}, \"hovertemplate\": \"Mode=Transit<br>Vehicle=train<br>Year=%{x}<br>Share=%{y}\", \"legendgroup\": \"Mode=Transit\", \"line\": {\"color\": \"#EF553B\"}, \"mode\": \"lines\", \"name\": \"Mode=Transit\", \"orientation\": \"v\", \"showlegend\": true, \"stackgroup\": \"1\", \"type\": \"scatter\", \"x\": [2010.0, 2011.0, 2012.0, 2013.0, 2014.0, 2015.0, 2016.0, 2017.0, 2018.0, 2019.0, 2020.0, 2021.0, 2022.0, 2023.0, 2024.0, 2025.0, 2026.0, 2027.0, 2028.0, 2029.0, 2030.0, 2031.0, 2032.0, 2033.0, 2034.0, 2035.0, 2036.0, 2037.0, 2038.0, 2039.0, 2040.0, 2041.0, 2042.0, 2043.0, 2044.0, 2045.0, 2046.0, 2047.0, 2048.0, 2049.0, 2050.0], \"xaxis\": \"x\", \"y\": [0.09362470515912805, 0.09392394755423719, 0.0942969405303273, 0.09476192270553876, 0.09534161389209764, 0.09606428790806801, 0.09696508446195527, 0.0980876022785035, 0.09948581501299919, 0.10122634310990847, 0.10339109145279023, 0.10608021253459825, 0.1094152594940659, 0.11354222681036094, 0.11863390801156803, 0.12489060485172693, 0.13253770855665264, 0.14181812690855486, 0.15297717728455906, 0.1662378168478559, 0.18176548843612342, 0.19962487434658147, 0.21973532842264987, 0.2418363990014635, 0.26547709323168533, 0.290039554235356, 0.3147987275913129, 0.3390072430082462, 0.3619850758748194, 0.38319192569933425, 0.40226745661200797, 0.41903631289255827, 0.4334851255838448, 0.44572376331417257, 0.45594270713918, 0.4643748704629506, 0.4712659607565308, 0.4768541603000057, 0.4813579620811289, 0.48497022879265117, 0.4878565167571176], \"yaxis\": \"y\"}, {\"hoverlabel\": {\"namelength\": 0}, \"hovertemplate\": \"Mode=Transit<br>Vehicle=metro/bus<br>Year=%{x}<br>Share=%{y}\", \"legendgroup\": \"Mode=Transit\", \"line\": {\"color\": \"#EF553B\"}, \"mode\": \"lines\", \"name\": \"Mode=Transit\", \"orientation\": \"v\", \"showlegend\": false, \"stackgroup\": \"1\", \"type\": \"scatter\", \"x\": [2010.0, 2011.0, 2012.0, 2013.0, 2014.0, 2015.0, 2016.0, 2017.0, 2018.0, 2019.0, 2020.0, 2021.0, 2022.0, 2023.0, 2024.0, 2025.0, 2026.0, 2027.0, 2028.0, 2029.0, 2030.0, 2031.0, 2032.0, 2033.0, 2034.0, 2035.0, 2036.0, 2037.0, 2038.0, 2039.0, 2040.0, 2041.0, 2042.0, 2043.0, 2044.0, 2045.0, 2046.0, 2047.0, 2048.0, 2049.0, 2050.0], \"xaxis\": \"x\", \"y\": [0.027965821021557726, 0.028055205113603314, 0.028166618599967892, 0.028305509379576512, 0.028478663889847343, 0.02869452755695538, 0.02896359665746716, 0.029298894187085454, 0.029716542146740018, 0.030236440149712916, 0.03088305329109318, 0.03168629725059428, 0.03268248010861709, 0.03391521060569223, 0.03543610239306577, 0.03730498586480155, 0.03958918567276637, 0.04236125868697093, 0.04569448152655659, 0.04965545178572319, 0.054293587454945946, 0.059628209220407444, 0.0656352279704019, 0.0722368464549826, 0.07929835252375016, 0.0866351915248466, 0.0940307887610415, 0.10126190375570988, 0.10812541227429669, 0.11445992585824268, 0.1201578117152751, 0.1251666908640109, 0.12948256997958998, 0.13313826696397363, 0.13619067875585894, 0.13870937689153068, 0.14076775451169102, 0.14243695697272896, 0.14378224841384368, 0.14486123717183086, 0.14572337513524292], \"yaxis\": \"y\"}, {\"hoverlabel\": {\"namelength\": 0}, \"hovertemplate\": \"Mode=Cycling<br>Vehicle=ebike<br>Year=%{x}<br>Share=%{y}\", \"legendgroup\": \"Mode=Cycling\", \"line\": {\"color\": \"#00cc96\"}, \"mode\": \"lines\", \"name\": \"Mode=Cycling\", \"orientation\": \"v\", \"showlegend\": true, \"stackgroup\": \"1\", \"type\": \"scatter\", \"x\": [2010.0, 2011.0, 2012.0, 2013.0, 2014.0, 2015.0, 2016.0, 2017.0, 2018.0, 2019.0, 2020.0, 2021.0, 2022.0, 2023.0, 2024.0, 2025.0, 2026.0, 2027.0, 2028.0, 2029.0, 2030.0, 2031.0, 2032.0, 2033.0, 2034.0, 2035.0, 2036.0, 2037.0, 2038.0, 2039.0, 2040.0, 2041.0, 2042.0, 2043.0, 2044.0, 2045.0, 2046.0, 2047.0, 2048.0, 2049.0, 2050.0], \"xaxis\": \"x\", \"y\": [0.00016364528682364288, 0.00018960622640117915, 0.00022458284792462006, 0.0002716776777933342, 0.0003350412991015572, 0.00042021188338591973, 0.0005345534678702154, 0.0006878125714444342, 0.0008928085944251177, 0.0011662602853233473, 0.001529721033977912, 0.002010539228277473, 0.0026426638780426633, 0.003466972123305948, 0.00453061634467519, 0.0058847345235923006, 0.007579874753977552, 0.009658854190211653, 0.012147648651684868, 0.015046135121346078, 0.018321450418000294, 0.02190654201122416, 0.02570490827352618, 0.02960040720703822, 0.033469687073483335, 0.03719477844010845, 0.04067405636557264, 0.04383033787582512, 0.04661522719305772, 0.04900932941738182, 0.05101875438137137, 0.052669113374104806, 0.05399857370912357, 0.05505136293814486, 0.05587259761883991, 0.05650474200426521, 0.05698558070661683, 0.05734737425384909, 0.057616818394290614, 0.05781547646561973, 0.05796043879991663], \"yaxis\": \"y\"}, {\"hoverlabel\": {\"namelength\": 0}, \"hovertemplate\": \"Mode=Cycling<br>Vehicle=bike<br>Year=%{x}<br>Share=%{y}\", \"legendgroup\": \"Mode=Cycling\", \"line\": {\"color\": \"#00cc96\"}, \"mode\": \"lines\", \"name\": \"Mode=Cycling\", \"orientation\": \"v\", \"showlegend\": false, \"stackgroup\": \"1\", \"type\": \"scatter\", \"x\": [2010.0, 2011.0, 2012.0, 2013.0, 2014.0, 2015.0, 2016.0, 2017.0, 2018.0, 2019.0, 2020.0, 2021.0, 2022.0, 2023.0, 2024.0, 2025.0, 2026.0, 2027.0, 2028.0, 2029.0, 2030.0, 2031.0, 2032.0, 2033.0, 2034.0, 2035.0, 2036.0, 2037.0, 2038.0, 2039.0, 2040.0, 2041.0, 2042.0, 2043.0, 2044.0, 2045.0, 2046.0, 2047.0, 2048.0, 2049.0, 2050.0], \"xaxis\": \"x\", \"y\": [0.08886016774027436, 0.0888065238500887, 0.0887460183175551, 0.08867836181639706, 0.08860346990424388, 0.08852154736351829, 0.08843318462337409, 0.08833946038486082, 0.08824204063319781, 0.08814326167827378, 0.08804618812284755, 0.08795465380261389, 0.08787333637033741, 0.08780799457532015, 0.08776610541329695, 0.08775822515555141, 0.08780033625839186, 0.08791704002648908, 0.08814459621757581, 0.08853174025373817, 0.08913573678434748, 0.09001226972494453, 0.0912006855163873, 0.09270932005528804, 0.09450683441767953, 0.0965235119322141, 0.09866241568838241, 0.10081651966443274, 0.10288625141864666, 0.10479270054033744, 0.10648414851864375, 0.10793616153270962, 0.10914718511519635, 0.11013206095441652, 0.110915456397384, 0.11152639426124593, 0.11199432211519852, 0.11234666127363416, 0.11260753627085052, 0.11279732997033322, 0.11293275167621454], \"yaxis\": \"y\"}, {\"hoverlabel\": {\"namelength\": 0}, \"hovertemplate\": \"Mode=Cycling<br>Vehicle=emoped<br>Year=%{x}<br>Share=%{y}\", \"legendgroup\": \"Mode=Cycling\", \"line\": {\"color\": \"#00cc96\"}, \"mode\": \"lines\", \"name\": \"Mode=Cycling\", \"orientation\": \"v\", \"showlegend\": false, \"stackgroup\": \"1\", \"type\": \"scatter\", \"x\": [2010.0, 2011.0, 2012.0, 2013.0, 2014.0, 2015.0, 2016.0, 2017.0, 2018.0, 2019.0, 2020.0, 2021.0, 2022.0, 2023.0, 2024.0, 2025.0, 2026.0, 2027.0, 2028.0, 2029.0, 2030.0, 2031.0, 2032.0, 2033.0, 2034.0, 2035.0, 2036.0, 2037.0, 2038.0, 2039.0, 2040.0, 2041.0, 2042.0, 2043.0, 2044.0, 2045.0, 2046.0, 2047.0, 2048.0, 2049.0, 2050.0], \"xaxis\": \"x\", \"y\": [2.3306547344169378e-05, 2.9111455841934664e-05, 3.6949855508754565e-05, 4.753694946794222e-05, 6.184227780517139e-05, 8.118247648742558e-05, 0.00010734949978220644, 0.00014278871130658324, 0.0001908471346246096, 0.0002561197445916321, 0.0003449301077831253, 0.00046598757023935645, 0.0006312577100646029, 0.0008570471863542003, 0.001165206079806655, 0.0015841497272409573, 0.0021490811464564196, 0.002900438187857472, 0.0038794759757268082, 0.005120475500880249, 0.006640612692279918, 0.008430511000319942, 0.01044949694900391, 0.012628313321545251, 0.014878940165517173, 0.017108272333307816, 0.019231448650258515, 0.021181641433066632, 0.022914940492571895, 0.024410570406001458, 0.02566766305150186, 0.02670016915724833, 0.027531367132310077, 0.028189004632942563, 0.028701599325472376, 0.02909599825062728, 0.02939602857363361, 0.02962196169316216, 0.029790509586532173, 0.02991512335347025, 0.030006429986468332], \"yaxis\": \"y\"}, {\"hoverlabel\": {\"namelength\": 0}, \"hovertemplate\": \"Mode=Cycling<br>Vehicle=moped<br>Year=%{x}<br>Share=%{y}\", \"legendgroup\": \"Mode=Cycling\", \"line\": {\"color\": \"#00cc96\"}, \"mode\": \"lines\", \"name\": \"Mode=Cycling\", \"orientation\": \"v\", \"showlegend\": false, \"stackgroup\": \"1\", \"type\": \"scatter\", \"x\": [2010.0, 2011.0, 2012.0, 2013.0, 2014.0, 2015.0, 2016.0, 2017.0, 2018.0, 2019.0, 2020.0, 2021.0, 2022.0, 2023.0, 2024.0, 2025.0, 2026.0, 2027.0, 2028.0, 2029.0, 2030.0, 2031.0, 2032.0, 2033.0, 2034.0, 2035.0, 2036.0, 2037.0, 2038.0, 2039.0, 2040.0, 2041.0, 2042.0, 2043.0, 2044.0, 2045.0, 2046.0, 2047.0, 2048.0, 2049.0, 2050.0], \"xaxis\": \"x\", \"y\": [0.006697775383246168, 0.006696981360098893, 0.00669677821560755, 0.006697510602242557, 0.006699650659492282, 0.006703831192612024, 0.0067108798118754335, 0.00672184686887019, 0.006738012988794713, 0.006760850544098488, 0.006791896252778201, 0.00683246940743136, 0.006883146877109284, 0.006942897219932397, 0.007007815130390215, 0.00706953707160914, 0.007113709924368823, 0.007119301946699278, 0.007059872666852041, 0.006907710786928394, 0.006640612692279918, 0.006249280893277672, 0.005742110982033785, 0.005144836176392372, 0.004494989271270187, 0.003833640686207583, 0.0031976586816043645, 0.0026147104900899067, 0.0021015435410383864, 0.00166484790686033, 0.0013035460868934749, 0.0010114763609257796, 0.0007797970318901737, 0.0005988044243009788, 0.000459120475542789, 0.00035234854905995326, 0.00027134509809757345, 0.0002102479234116776, 0.00016437083464838112, 0.0001300396022750342, 0.00010441471101859463], \"yaxis\": \"y\"}, {\"hoverlabel\": {\"namelength\": 0}, \"hovertemplate\": \"Mode=Walking<br>Vehicle=walk<br>Year=%{x}<br>Share=%{y}\", \"legendgroup\": \"Mode=Walking\", \"line\": {\"color\": \"#ab63fa\"}, \"mode\": \"lines\", \"name\": \"Mode=Walking\", \"orientation\": \"v\", \"showlegend\": true, \"stackgroup\": \"1\", \"type\": \"scatter\", \"x\": [2010.0, 2011.0, 2012.0, 2013.0, 2014.0, 2015.0, 2016.0, 2017.0, 2018.0, 2019.0, 2020.0, 2021.0, 2022.0, 2023.0, 2024.0, 2025.0, 2026.0, 2027.0, 2028.0, 2029.0, 2030.0, 2031.0, 2032.0, 2033.0, 2034.0, 2035.0, 2036.0, 2037.0, 2038.0, 2039.0, 2040.0, 2041.0, 2042.0, 2043.0, 2044.0, 2045.0, 2046.0, 2047.0, 2048.0, 2049.0, 2050.0], \"xaxis\": \"x\", \"y\": [0.023936223739422075, 0.023930555723107674, 0.023926082309149, 0.023923771761475216, 0.023925001035160716, 0.02393169322900091, 0.02394649185072548, 0.0239729771341205, 0.024015927337760555, 0.024081623063071808, 0.02417818387934669, 0.024315912502140512, 0.024507601208888483, 0.024768727776228166, 0.025117435742042244, 0.025574161619498447, 0.026160750520798654, 0.026898908587814362, 0.027807898377959876, 0.028901515415723215, 0.030184603146726895, 0.03164965090744157, 0.033274300430237776, 0.03502071919006596, 0.036837612731987546, 0.03866505084795948, 0.04044139484645447, 0.042110802365853586, 0.04362949066132865, 0.044969362067645256, 0.0461185280096026, 0.04707923010624712, 0.047864230747130025, 0.04849280823745122, 0.048987193454309755, 0.049369870766299576, 0.04966181912338662, 0.04988156128601426, 0.05004480877158041, 0.05016449234792454, 0.05025100879340451], \"yaxis\": \"y\"}],\n",
       "                        {\"height\": 600, \"legend\": {\"font\": {\"size\": 10}, \"tracegroupgap\": 0, \"traceorder\": \"reversed\", \"y\": 0.5}, \"margin\": {\"t\": 60}, \"template\": {\"data\": {\"bar\": [{\"error_x\": {\"color\": \"#2a3f5f\"}, \"error_y\": {\"color\": \"#2a3f5f\"}, \"marker\": {\"line\": {\"color\": \"#E5ECF6\", \"width\": 0.5}}, \"type\": \"bar\"}], \"barpolar\": [{\"marker\": {\"line\": {\"color\": \"#E5ECF6\", \"width\": 0.5}}, \"type\": \"barpolar\"}], \"carpet\": [{\"aaxis\": {\"endlinecolor\": \"#2a3f5f\", \"gridcolor\": \"white\", \"linecolor\": \"white\", \"minorgridcolor\": \"white\", \"startlinecolor\": \"#2a3f5f\"}, \"baxis\": {\"endlinecolor\": \"#2a3f5f\", \"gridcolor\": \"white\", \"linecolor\": \"white\", \"minorgridcolor\": \"white\", \"startlinecolor\": \"#2a3f5f\"}, \"type\": \"carpet\"}], \"choropleth\": [{\"colorbar\": {\"outlinewidth\": 0, \"ticks\": \"\"}, \"type\": \"choropleth\"}], \"contour\": [{\"colorbar\": {\"outlinewidth\": 0, \"ticks\": \"\"}, \"colorscale\": [[0.0, \"#0d0887\"], [0.1111111111111111, \"#46039f\"], [0.2222222222222222, \"#7201a8\"], [0.3333333333333333, \"#9c179e\"], [0.4444444444444444, \"#bd3786\"], [0.5555555555555556, \"#d8576b\"], [0.6666666666666666, \"#ed7953\"], [0.7777777777777778, \"#fb9f3a\"], [0.8888888888888888, \"#fdca26\"], [1.0, \"#f0f921\"]], \"type\": \"contour\"}], \"contourcarpet\": [{\"colorbar\": {\"outlinewidth\": 0, \"ticks\": \"\"}, \"type\": \"contourcarpet\"}], \"heatmap\": [{\"colorbar\": {\"outlinewidth\": 0, \"ticks\": \"\"}, \"colorscale\": [[0.0, \"#0d0887\"], [0.1111111111111111, \"#46039f\"], [0.2222222222222222, \"#7201a8\"], [0.3333333333333333, \"#9c179e\"], [0.4444444444444444, \"#bd3786\"], [0.5555555555555556, \"#d8576b\"], [0.6666666666666666, \"#ed7953\"], [0.7777777777777778, \"#fb9f3a\"], [0.8888888888888888, \"#fdca26\"], [1.0, \"#f0f921\"]], \"type\": \"heatmap\"}], \"heatmapgl\": [{\"colorbar\": {\"outlinewidth\": 0, \"ticks\": \"\"}, \"colorscale\": [[0.0, \"#0d0887\"], [0.1111111111111111, \"#46039f\"], [0.2222222222222222, \"#7201a8\"], [0.3333333333333333, \"#9c179e\"], [0.4444444444444444, \"#bd3786\"], [0.5555555555555556, \"#d8576b\"], [0.6666666666666666, \"#ed7953\"], [0.7777777777777778, \"#fb9f3a\"], [0.8888888888888888, \"#fdca26\"], [1.0, \"#f0f921\"]], \"type\": \"heatmapgl\"}], \"histogram\": [{\"marker\": {\"colorbar\": {\"outlinewidth\": 0, \"ticks\": \"\"}}, \"type\": \"histogram\"}], \"histogram2d\": [{\"colorbar\": {\"outlinewidth\": 0, \"ticks\": \"\"}, \"colorscale\": [[0.0, \"#0d0887\"], [0.1111111111111111, \"#46039f\"], [0.2222222222222222, \"#7201a8\"], [0.3333333333333333, \"#9c179e\"], [0.4444444444444444, \"#bd3786\"], [0.5555555555555556, \"#d8576b\"], [0.6666666666666666, \"#ed7953\"], [0.7777777777777778, \"#fb9f3a\"], [0.8888888888888888, \"#fdca26\"], [1.0, \"#f0f921\"]], \"type\": \"histogram2d\"}], \"histogram2dcontour\": [{\"colorbar\": {\"outlinewidth\": 0, \"ticks\": \"\"}, \"colorscale\": [[0.0, \"#0d0887\"], [0.1111111111111111, \"#46039f\"], [0.2222222222222222, \"#7201a8\"], [0.3333333333333333, \"#9c179e\"], [0.4444444444444444, \"#bd3786\"], [0.5555555555555556, \"#d8576b\"], [0.6666666666666666, \"#ed7953\"], [0.7777777777777778, \"#fb9f3a\"], [0.8888888888888888, \"#fdca26\"], [1.0, \"#f0f921\"]], \"type\": \"histogram2dcontour\"}], \"mesh3d\": [{\"colorbar\": {\"outlinewidth\": 0, \"ticks\": \"\"}, \"type\": \"mesh3d\"}], \"parcoords\": [{\"line\": {\"colorbar\": {\"outlinewidth\": 0, \"ticks\": \"\"}}, \"type\": \"parcoords\"}], \"scatter\": [{\"marker\": {\"colorbar\": {\"outlinewidth\": 0, \"ticks\": \"\"}}, \"type\": \"scatter\"}], \"scatter3d\": [{\"line\": {\"colorbar\": {\"outlinewidth\": 0, \"ticks\": \"\"}}, \"marker\": {\"colorbar\": {\"outlinewidth\": 0, \"ticks\": \"\"}}, \"type\": \"scatter3d\"}], \"scattercarpet\": [{\"marker\": {\"colorbar\": {\"outlinewidth\": 0, \"ticks\": \"\"}}, \"type\": \"scattercarpet\"}], \"scattergeo\": [{\"marker\": {\"colorbar\": {\"outlinewidth\": 0, \"ticks\": \"\"}}, \"type\": \"scattergeo\"}], \"scattergl\": [{\"marker\": {\"colorbar\": {\"outlinewidth\": 0, \"ticks\": \"\"}}, \"type\": \"scattergl\"}], \"scattermapbox\": [{\"marker\": {\"colorbar\": {\"outlinewidth\": 0, \"ticks\": \"\"}}, \"type\": \"scattermapbox\"}], \"scatterpolar\": [{\"marker\": {\"colorbar\": {\"outlinewidth\": 0, \"ticks\": \"\"}}, \"type\": \"scatterpolar\"}], \"scatterpolargl\": [{\"marker\": {\"colorbar\": {\"outlinewidth\": 0, \"ticks\": \"\"}}, \"type\": \"scatterpolargl\"}], \"scatterternary\": [{\"marker\": {\"colorbar\": {\"outlinewidth\": 0, \"ticks\": \"\"}}, \"type\": \"scatterternary\"}], \"surface\": [{\"colorbar\": {\"outlinewidth\": 0, \"ticks\": \"\"}, \"colorscale\": [[0.0, \"#0d0887\"], [0.1111111111111111, \"#46039f\"], [0.2222222222222222, \"#7201a8\"], [0.3333333333333333, \"#9c179e\"], [0.4444444444444444, \"#bd3786\"], [0.5555555555555556, \"#d8576b\"], [0.6666666666666666, \"#ed7953\"], [0.7777777777777778, \"#fb9f3a\"], [0.8888888888888888, \"#fdca26\"], [1.0, \"#f0f921\"]], \"type\": \"surface\"}], \"table\": [{\"cells\": {\"fill\": {\"color\": \"#EBF0F8\"}, \"line\": {\"color\": \"white\"}}, \"header\": {\"fill\": {\"color\": \"#C8D4E3\"}, \"line\": {\"color\": \"white\"}}, \"type\": \"table\"}]}, \"layout\": {\"annotationdefaults\": {\"arrowcolor\": \"#2a3f5f\", \"arrowhead\": 0, \"arrowwidth\": 1}, \"colorscale\": {\"diverging\": [[0, \"#8e0152\"], [0.1, \"#c51b7d\"], [0.2, \"#de77ae\"], [0.3, \"#f1b6da\"], [0.4, \"#fde0ef\"], [0.5, \"#f7f7f7\"], [0.6, \"#e6f5d0\"], [0.7, \"#b8e186\"], [0.8, \"#7fbc41\"], [0.9, \"#4d9221\"], [1, \"#276419\"]], \"sequential\": [[0.0, \"#0d0887\"], [0.1111111111111111, \"#46039f\"], [0.2222222222222222, \"#7201a8\"], [0.3333333333333333, \"#9c179e\"], [0.4444444444444444, \"#bd3786\"], [0.5555555555555556, \"#d8576b\"], [0.6666666666666666, \"#ed7953\"], [0.7777777777777778, \"#fb9f3a\"], [0.8888888888888888, \"#fdca26\"], [1.0, \"#f0f921\"]], \"sequentialminus\": [[0.0, \"#0d0887\"], [0.1111111111111111, \"#46039f\"], [0.2222222222222222, \"#7201a8\"], [0.3333333333333333, \"#9c179e\"], [0.4444444444444444, \"#bd3786\"], [0.5555555555555556, \"#d8576b\"], [0.6666666666666666, \"#ed7953\"], [0.7777777777777778, \"#fb9f3a\"], [0.8888888888888888, \"#fdca26\"], [1.0, \"#f0f921\"]]}, \"colorway\": [\"#636efa\", \"#EF553B\", \"#00cc96\", \"#ab63fa\", \"#FFA15A\", \"#19d3f3\", \"#FF6692\", \"#B6E880\", \"#FF97FF\", \"#FECB52\"], \"font\": {\"color\": \"#2a3f5f\"}, \"geo\": {\"bgcolor\": \"white\", \"lakecolor\": \"white\", \"landcolor\": \"#E5ECF6\", \"showlakes\": true, \"showland\": true, \"subunitcolor\": \"white\"}, \"hoverlabel\": {\"align\": \"left\"}, \"hovermode\": \"closest\", \"mapbox\": {\"style\": \"light\"}, \"paper_bgcolor\": \"white\", \"plot_bgcolor\": \"#E5ECF6\", \"polar\": {\"angularaxis\": {\"gridcolor\": \"white\", \"linecolor\": \"white\", \"ticks\": \"\"}, \"bgcolor\": \"#E5ECF6\", \"radialaxis\": {\"gridcolor\": \"white\", \"linecolor\": \"white\", \"ticks\": \"\"}}, \"scene\": {\"xaxis\": {\"backgroundcolor\": \"#E5ECF6\", \"gridcolor\": \"white\", \"gridwidth\": 2, \"linecolor\": \"white\", \"showbackground\": true, \"ticks\": \"\", \"zerolinecolor\": \"white\"}, \"yaxis\": {\"backgroundcolor\": \"#E5ECF6\", \"gridcolor\": \"white\", \"gridwidth\": 2, \"linecolor\": \"white\", \"showbackground\": true, \"ticks\": \"\", \"zerolinecolor\": \"white\"}, \"zaxis\": {\"backgroundcolor\": \"#E5ECF6\", \"gridcolor\": \"white\", \"gridwidth\": 2, \"linecolor\": \"white\", \"showbackground\": true, \"ticks\": \"\", \"zerolinecolor\": \"white\"}}, \"shapedefaults\": {\"line\": {\"color\": \"#2a3f5f\"}}, \"ternary\": {\"aaxis\": {\"gridcolor\": \"white\", \"linecolor\": \"white\", \"ticks\": \"\"}, \"baxis\": {\"gridcolor\": \"white\", \"linecolor\": \"white\", \"ticks\": \"\"}, \"bgcolor\": \"#E5ECF6\", \"caxis\": {\"gridcolor\": \"white\", \"linecolor\": \"white\", \"ticks\": \"\"}}, \"title\": {\"x\": 0.05}, \"xaxis\": {\"automargin\": true, \"gridcolor\": \"white\", \"linecolor\": \"white\", \"ticks\": \"\", \"zerolinecolor\": \"white\", \"zerolinewidth\": 2}, \"yaxis\": {\"automargin\": true, \"gridcolor\": \"white\", \"linecolor\": \"white\", \"ticks\": \"\", \"zerolinecolor\": \"white\", \"zerolinewidth\": 2}}}, \"xaxis\": {\"anchor\": \"y\", \"domain\": [0.0, 0.98], \"title\": {\"text\": \"Year\"}}, \"yaxis\": {\"anchor\": \"x\", \"domain\": [0.0, 1.0], \"title\": {\"text\": \"Share\"}}},\n",
       "                        {\"responsive\": true}\n",
       "                    ).then(function(){\n",
       "                            \n",
       "var gd = document.getElementById('4d085cf3-9262-4a14-a2cd-f98eafe7c70b');\n",
       "var x = new MutationObserver(function (mutations, observer) {{\n",
       "        var display = window.getComputedStyle(gd).display;\n",
       "        if (!display || display === 'none') {{\n",
       "            console.log([gd, 'removed!']);\n",
       "            Plotly.purge(gd);\n",
       "            observer.disconnect();\n",
       "        }}\n",
       "}});\n",
       "\n",
       "// Listen for the removal of the full notebook cells\n",
       "var notebookContainer = gd.closest('#notebook-container');\n",
       "if (notebookContainer) {{\n",
       "    x.observe(notebookContainer, {childList: true});\n",
       "}}\n",
       "\n",
       "// Listen for the clearing of the current output cell\n",
       "var outputEl = gd.closest('.output');\n",
       "if (outputEl) {{\n",
       "    x.observe(outputEl, {childList: true});\n",
       "}}\n",
       "\n",
       "                        })\n",
       "                };\n",
       "                });\n",
       "            </script>\n",
       "        </div>"
      ]
     },
     "metadata": {},
     "output_type": "display_data"
    },
    {
     "data": {
      "application/vnd.plotly.v1+json": {
       "config": {
        "plotlyServerURL": "https://plot.ly"
       },
       "data": [
        {
         "hoverlabel": {
          "namelength": 0
         },
         "hovertemplate": "Mode=Driving<br>Vehicle=ice<br>Year=%{x}<br>Person-kilometers=%{y}",
         "legendgroup": "Mode=Driving",
         "line": {
          "color": "#636efa"
         },
         "mode": "lines",
         "name": "Mode=Driving",
         "orientation": "v",
         "showlegend": true,
         "stackgroup": "1",
         "type": "scatter",
         "x": [
          2010,
          2011,
          2012,
          2013,
          2014,
          2015,
          2016,
          2017,
          2018,
          2019,
          2020,
          2021,
          2022,
          2023,
          2024,
          2025,
          2026,
          2027,
          2028,
          2029,
          2030,
          2031,
          2032,
          2033,
          2034,
          2035,
          2036,
          2037,
          2038,
          2039,
          2040,
          2041,
          2042,
          2043,
          2044,
          2045,
          2046,
          2047,
          2048,
          2049,
          2050
         ],
         "xaxis": "x",
         "y": [
          7832.9870611041815,
          7680.435901357314,
          7567.492335059907,
          7489.439933149645,
          7441.355987387224,
          7417.999986045387,
          7413.671605501566,
          7422.035018610751,
          7435.911312922567,
          7447.048893894014,
          7445.900597028991,
          7421.4633105456705,
          7361.279722438434,
          7251.752312561002,
          7078.964601783089,
          6830.201173782879,
          6496.235975436008,
          6074.161899913839,
          5570.067602048872,
          5000.446609250745,
          4391.22006481912,
          3773.988882094927,
          3180.4070848350825,
          2636.5960443064646,
          2159.516643294206,
          1756.1718040193373,
          1425.2064738741046,
          1159.7191287835699,
          950.1112647920941,
          786.269610839275,
          658.8869574081253,
          560.0536833314327,
          483.36858341960425,
          423.79872704771543,
          377.4467694515039,
          341.3133992895818,
          313.09244582369996,
          291.0078767807471,
          273.6891734322768,
          260.0774490974329,
          249.35489214142402
         ],
         "yaxis": "y"
        },
        {
         "hoverlabel": {
          "namelength": 0
         },
         "hovertemplate": "Mode=Driving<br>Vehicle=ev<br>Year=%{x}<br>Person-kilometers=%{y}",
         "legendgroup": "Mode=Driving",
         "line": {
          "color": "#636efa"
         },
         "mode": "lines",
         "name": "Mode=Driving",
         "orientation": "v",
         "showlegend": false,
         "stackgroup": "1",
         "type": "scatter",
         "x": [
          2010,
          2011,
          2012,
          2013,
          2014,
          2015,
          2016,
          2017,
          2018,
          2019,
          2020,
          2021,
          2022,
          2023,
          2024,
          2025,
          2026,
          2027,
          2028,
          2029,
          2030,
          2031,
          2032,
          2033,
          2034,
          2035,
          2036,
          2037,
          2038,
          2039,
          2040,
          2041,
          2042,
          2043,
          2044,
          2045,
          2046,
          2047,
          2048,
          2049,
          2050
         ],
         "xaxis": "x",
         "y": [
          1.988572957154546,
          2.4379171982953394,
          3.112553157944411,
          4.138428287404448,
          5.723492777397897,
          8.213930028995463,
          12.187802967043,
          18.60722222816744,
          29.056392785658034,
          46.093401480013604,
          73.72704855891865,
          117.97832779490423,
          187.38099070808738,
          293.11906387639874,
          448.34743753732795,
          666.2251680283078,
          956.4715217788705,
          1320.8989831645547,
          1749.2137642944829,
          2216.964309618838,
          2687.3179335542445,
          3117.082544964648,
          3465.4794260999465,
          3702.712487768922,
          3815.38921444758,
          3807.3369379030173,
          3696.306595532031,
          3508.3586625383205,
          3271.966041085277,
          3013.3214902107197,
          2753.507939392032,
          2507.4747149658037,
          2284.3466180599476,
          2088.4788539019796,
          1920.759535577481,
          1779.8347538801904,
          1663.0980464064353,
          1567.405581389006,
          1489.5450923001379,
          1426.5121943810602,
          1375.650930709014
         ],
         "yaxis": "y"
        },
        {
         "hoverlabel": {
          "namelength": 0
         },
         "hovertemplate": "Mode=Driving<br>Vehicle=hev<br>Year=%{x}<br>Person-kilometers=%{y}",
         "legendgroup": "Mode=Driving",
         "line": {
          "color": "#636efa"
         },
         "mode": "lines",
         "name": "Mode=Driving",
         "orientation": "v",
         "showlegend": false,
         "stackgroup": "1",
         "type": "scatter",
         "x": [
          2010,
          2011,
          2012,
          2013,
          2014,
          2015,
          2016,
          2017,
          2018,
          2019,
          2020,
          2021,
          2022,
          2023,
          2024,
          2025,
          2026,
          2027,
          2028,
          2029,
          2030,
          2031,
          2032,
          2033,
          2034,
          2035,
          2036,
          2037,
          2038,
          2039,
          2040,
          2041,
          2042,
          2043,
          2044,
          2045,
          2046,
          2047,
          2048,
          2049,
          2050
         ],
         "xaxis": "x",
         "y": [
          93.76687772431634,
          97.15609849236783,
          102.60019152862849,
          110.61055617876876,
          121.86283575642187,
          137.22365154951123,
          157.7625810923712,
          184.72985834208137,
          219.4696425638731,
          263.22913192479825,
          316.823936745353,
          380.14480356135925,
          451.55691023673165,
          527.3525060141235,
          601.5326394954093,
          666.2251680283078,
          712.8982331311346,
          734.1970863984325,
          725.8651139717646,
          688.0371363213897,
          625.3568521864935,
          545.8246058891572,
          458.8075608956777,
          372.9618737613263,
          294.7543813386345,
          227.89948271753715,
          173.6032480391456,
          131.26315636586537,
          99.26071367055071,
          75.61263162038902,
          58.39536900955541,
          45.96008945472203,
          36.999012140122176,
          30.52713707963781,
          25.82753361918243,
          22.389337515348256,
          19.852556817197932,
          17.964381214583476,
          16.54688342166934,
          15.474111149995888,
          14.656233094974283
         ],
         "yaxis": "y"
        },
        {
         "hoverlabel": {
          "namelength": 0
         },
         "hovertemplate": "Mode=Transit<br>Vehicle=train<br>Year=%{x}<br>Person-kilometers=%{y}",
         "legendgroup": "Mode=Transit",
         "line": {
          "color": "#EF553B"
         },
         "mode": "lines",
         "name": "Mode=Transit",
         "orientation": "v",
         "showlegend": true,
         "stackgroup": "1",
         "type": "scatter",
         "x": [
          2010,
          2011,
          2012,
          2013,
          2014,
          2015,
          2016,
          2017,
          2018,
          2019,
          2020,
          2021,
          2022,
          2023,
          2024,
          2025,
          2026,
          2027,
          2028,
          2029,
          2030,
          2031,
          2032,
          2033,
          2034,
          2035,
          2036,
          2037,
          2038,
          2039,
          2040,
          2041,
          2042,
          2043,
          2044,
          2045,
          2046,
          2047,
          2048,
          2049,
          2050
         ],
         "xaxis": "x",
         "y": [
          978.382018988883,
          963.5573437787534,
          954.6826850384911,
          951.504711698187,
          953.8439977974549,
          961.6104582422678,
          974.8225712632374,
          993.6311378593421,
          1018.3484427506097,
          1049.4834566548836,
          1087.783672874525,
          1134.283342758035,
          1190.3568634047735,
          1257.7736087052685,
          1338.746770696528,
          1435.9631415595686,
          1552.5724485817314,
          1692.1063007438258,
          1858.28857106973,
          2054.700068142559,
          2284.2761871081725,
          2548.657247167278,
          2847.477742084194,
          3177.755896075725,
          3533.592851278912,
          3906.36618574309,
          4285.481385349438,
          4659.562576880096,
          5017.8018269062195,
          5351.133767296076,
          5652.984649520789,
          5919.508756534768,
          6149.384538037043,
          6343.334461768458,
          6503.541847223601,
          6633.096765405821,
          6735.544021633879,
          6814.5563177251615,
          6873.724888947856,
          6916.442515639014,
          6945.854849658561
         ],
         "yaxis": "y"
        },
        {
         "hoverlabel": {
          "namelength": 0
         },
         "hovertemplate": "Mode=Transit<br>Vehicle=metro/bus<br>Year=%{x}<br>Person-kilometers=%{y}",
         "legendgroup": "Mode=Transit",
         "line": {
          "color": "#EF553B"
         },
         "mode": "lines",
         "name": "Mode=Transit",
         "orientation": "v",
         "showlegend": false,
         "stackgroup": "1",
         "type": "scatter",
         "x": [
          2010,
          2011,
          2012,
          2013,
          2014,
          2015,
          2016,
          2017,
          2018,
          2019,
          2020,
          2021,
          2022,
          2023,
          2024,
          2025,
          2026,
          2027,
          2028,
          2029,
          2030,
          2031,
          2032,
          2033,
          2034,
          2035,
          2036,
          2037,
          2038,
          2039,
          2040,
          2041,
          2042,
          2043,
          2044,
          2045,
          2046,
          2047,
          2048,
          2049,
          2050
         ],
         "xaxis": "x",
         "y": [
          292.24397969797803,
          287.81582995988737,
          285.16495786864016,
          284.2156931046532,
          284.9144409005384,
          287.2342927217164,
          291.1807680396683,
          296.7989113086346,
          304.18200238005227,
          313.4820714683418,
          324.9223957936893,
          338.81190757707526,
          355.56114101701024,
          375.6986103924828,
          399.88539903922265,
          428.92405527103995,
          463.7554067192184,
          505.43434957283114,
          555.0732095403089,
          613.7415787958292,
          682.3162636816618,
          761.2872296733427,
          850.5452995835902,
          949.1998131135282,
          1055.488773758636,
          1166.8366528842998,
          1280.0788553641175,
          1391.8173930940543,
          1498.823922322637,
          1598.3906058157108,
          1688.5538563503658,
          1768.1649532506447,
          1836.8291477253504,
          1894.762241826942,
          1942.6163959239323,
          1981.3146182381022,
          2011.915746721808,
          2035.5168221776453,
          2053.1905512441645,
          2065.950361814251,
          2074.735864183726
         ],
         "yaxis": "y"
        },
        {
         "hoverlabel": {
          "namelength": 0
         },
         "hovertemplate": "Mode=Cycling<br>Vehicle=ebike<br>Year=%{x}<br>Person-kilometers=%{y}",
         "legendgroup": "Mode=Cycling",
         "line": {
          "color": "#00cc96"
         },
         "mode": "lines",
         "name": "Mode=Cycling",
         "orientation": "v",
         "showlegend": true,
         "stackgroup": "1",
         "type": "scatter",
         "x": [
          2010,
          2011,
          2012,
          2013,
          2014,
          2015,
          2016,
          2017,
          2018,
          2019,
          2020,
          2021,
          2022,
          2023,
          2024,
          2025,
          2026,
          2027,
          2028,
          2029,
          2030,
          2031,
          2032,
          2033,
          2034,
          2035,
          2036,
          2037,
          2038,
          2039,
          2040,
          2041,
          2042,
          2043,
          2044,
          2045,
          2046,
          2047,
          2048,
          2049,
          2050
         ],
         "xaxis": "x",
         "y": [
          1.7100999767999878,
          1.945153250394778,
          2.2737254789439474,
          2.7279162674531734,
          3.3519165358786758,
          4.206351293919744,
          5.374045605368166,
          6.967567481747604,
          9.138893235064527,
          12.091426381683148,
          16.094283766930896,
          21.49808246144808,
          28.75022277007501,
          38.40567656026604,
          51.126596960014034,
          67.66130954185066,
          88.79212440658326,
          115.24484485514058,
          147.56342779685426,
          185.97028910338864,
          230.24862014897093,
          279.68592210781776,
          333.10143933885934,
          388.95248571675455,
          445.4932270717183,
          500.9538273760526,
          553.7122489504164,
          602.4361022081087,
          646.1757341948047,
          684.3971909879531,
          716.9564194543763,
          744.029260053354,
          766.019350250373,
          783.4655372563427,
          796.9636777549985,
          807.1096117775066,
          814.4634228018956,
          819.5313034086827,
          822.7601698049286,
          824.5401382353856,
          825.211473247919
         ],
         "yaxis": "y"
        },
        {
         "hoverlabel": {
          "namelength": 0
         },
         "hovertemplate": "Mode=Cycling<br>Vehicle=bike<br>Year=%{x}<br>Person-kilometers=%{y}",
         "legendgroup": "Mode=Cycling",
         "line": {
          "color": "#00cc96"
         },
         "mode": "lines",
         "name": "Mode=Cycling",
         "orientation": "v",
         "showlegend": false,
         "stackgroup": "1",
         "type": "scatter",
         "x": [
          2010,
          2011,
          2012,
          2013,
          2014,
          2015,
          2016,
          2017,
          2018,
          2019,
          2020,
          2021,
          2022,
          2023,
          2024,
          2025,
          2026,
          2027,
          2028,
          2029,
          2030,
          2031,
          2032,
          2033,
          2034,
          2035,
          2036,
          2037,
          2038,
          2039,
          2040,
          2041,
          2042,
          2043,
          2044,
          2045,
          2046,
          2047,
          2048,
          2049,
          2050
         ],
         "xaxis": "x",
         "y": [
          928.5924070324744,
          911.0581535321729,
          898.4839442020923,
          890.4196610295938,
          886.4323195518654,
          886.1070807708378,
          889.0485157405058,
          894.8820901020879,
          903.2558526279493,
          913.8421097214954,
          926.3390544881205,
          940.4722741653245,
          955.9967187609734,
          972.7004772826508,
          990.4132146367903,
          1009.0236718900401,
          1028.5101842750132,
          1048.9842209486649,
          1070.7355087876265,
          1094.2526567142013,
          1120.183169581064,
          1149.2076041093035,
          1181.83964287813,
          1218.2102844869112,
          1257.9189806175511,
          1300.0164206403524,
          1343.1310510730257,
          1385.6957095995153,
          1426.199185378986,
          1463.3913734068008,
          1496.4005839870279,
          1524.7581979928514,
          1548.3530412114085,
          1567.3485577777392,
          1582.0920060556991,
          1593.0348778221962,
          1600.6729736410539,
          1605.5069119579687,
          1608.0199887035144,
          1608.6683312491148,
          1607.8795177928234
         ],
         "yaxis": "y"
        },
        {
         "hoverlabel": {
          "namelength": 0
         },
         "hovertemplate": "Mode=Cycling<br>Vehicle=emoped<br>Year=%{x}<br>Person-kilometers=%{y}",
         "legendgroup": "Mode=Cycling",
         "line": {
          "color": "#00cc96"
         },
         "mode": "lines",
         "name": "Mode=Cycling",
         "orientation": "v",
         "showlegend": false,
         "stackgroup": "1",
         "type": "scatter",
         "x": [
          2010,
          2011,
          2012,
          2013,
          2014,
          2015,
          2016,
          2017,
          2018,
          2019,
          2020,
          2021,
          2022,
          2023,
          2024,
          2025,
          2026,
          2027,
          2028,
          2029,
          2030,
          2031,
          2032,
          2033,
          2034,
          2035,
          2036,
          2037,
          2038,
          2039,
          2040,
          2041,
          2042,
          2043,
          2044,
          2045,
          2046,
          2047,
          2048,
          2049,
          2050
         ],
         "xaxis": "x",
         "y": [
          0.24355437816858375,
          0.2986518113326636,
          0.3740883539857478,
          0.4773186329181762,
          0.6187003039548367,
          0.8126424513865473,
          1.0792205873091512,
          1.4464550707049257,
          1.9535335999709387,
          2.6553703968120654,
          3.6290296799957815,
          4.98266289466945,
          6.867615643623582,
          9.494012603891017,
          13.148988368359344,
          18.214185300250023,
          25.174753766988974,
          34.60664612892711,
          47.125891557160955,
          63.289097270869554,
          83.45364992713698,
          107.63429672088272,
          135.41158898688167,
          165.93737452561552,
          198.04389133338253,
          230.4209048848791,
          261.80542670738794,
          291.13591456808314,
          317.64467081741657,
          340.8846032966911,
          360.70256948267553,
          377.1794478532839,
          390.55772242801584,
          401.1728771235779,
          409.3980435977765,
          415.6051159488553,
          420.1411962813244,
          423.3171124533198,
          425.40434215332107,
          426.6369742687647,
          427.2164049951893
         ],
         "yaxis": "y"
        },
        {
         "hoverlabel": {
          "namelength": 0
         },
         "hovertemplate": "Mode=Cycling<br>Vehicle=moped<br>Year=%{x}<br>Person-kilometers=%{y}",
         "legendgroup": "Mode=Cycling",
         "line": {
          "color": "#00cc96"
         },
         "mode": "lines",
         "name": "Mode=Cycling",
         "orientation": "v",
         "showlegend": false,
         "stackgroup": "1",
         "type": "scatter",
         "x": [
          2010,
          2011,
          2012,
          2013,
          2014,
          2015,
          2016,
          2017,
          2018,
          2019,
          2020,
          2021,
          2022,
          2023,
          2024,
          2025,
          2026,
          2027,
          2028,
          2029,
          2030,
          2031,
          2032,
          2033,
          2034,
          2035,
          2036,
          2037,
          2038,
          2039,
          2040,
          2041,
          2042,
          2043,
          2044,
          2045,
          2046,
          2047,
          2048,
          2049,
          2050
         ],
         "xaxis": "x",
         "y": [
          69.9920281837655,
          68.70373039789895,
          67.79963561943254,
          67.24972133042078,
          67.02657221776,
          67.105834285428,
          67.46672938977034,
          68.0925641740913,
          68.97108933043278,
          70.09441002174269,
          71.45793460361436,
          73.05751047798468,
          74.88353237817377,
          76.91053043877136,
          79.08101513888725,
          81.2838938106826,
          83.33137909243786,
          84.94411781841795,
          85.75972522760709,
          85.37933241508351,
          83.45364992713698,
          79.78602411332659,
          74.41012481374403,
          67.60369225385138,
          59.82987745641028,
          51.632972559108644,
          43.53101062882024,
          35.93848627211303,
          29.13139165768278,
          23.24898635469339,
          18.318474184351256,
          14.288602183895375,
          11.062136917048866,
          8.521907632397133,
          6.5488693619969585,
          5.032920964769296,
          3.878185579872568,
          3.0045796682831756,
          2.347192705102247,
          1.8545704055503531,
          1.4866039542222054
         ],
         "yaxis": "y"
        },
        {
         "hoverlabel": {
          "namelength": 0
         },
         "hovertemplate": "Mode=Walking<br>Vehicle=walk<br>Year=%{x}<br>Person-kilometers=%{y}",
         "legendgroup": "Mode=Walking",
         "line": {
          "color": "#ab63fa"
         },
         "mode": "lines",
         "name": "Mode=Walking",
         "orientation": "v",
         "showlegend": true,
         "stackgroup": "1",
         "type": "scatter",
         "x": [
          2010,
          2011,
          2012,
          2013,
          2014,
          2015,
          2016,
          2017,
          2018,
          2019,
          2020,
          2021,
          2022,
          2023,
          2024,
          2025,
          2026,
          2027,
          2028,
          2029,
          2030,
          2031,
          2032,
          2033,
          2034,
          2035,
          2036,
          2037,
          2038,
          2039,
          2040,
          2041,
          2042,
          2043,
          2044,
          2045,
          2046,
          2047,
          2048,
          2049,
          2050
         ],
         "xaxis": "x",
         "y": [
          250.134522392802,
          245.5014222479498,
          242.23284841361357,
          240.21865431509642,
          239.35737715236465,
          239.55797720039297,
          240.7421278307383,
          242.84716920715786,
          245.8298421983543,
          249.67082913043325,
          254.38007563466533,
          260.0026324998566,
          266.62452238821135,
          274.37767422139467,
          283.44245377601266,
          294.0457651357058,
          306.45211038525576,
          320.94495743778754,
          337.79613834231213,
          357.22284387588564,
          379.3347723960771,
          404.07846176283255,
          431.19069900440354,
          460.1759592457831,
          490.3214941197654,
          520.7560313650981,
          550.5449343399124,
          578.8015531619549,
          604.7877455122223,
          627.9805385115344,
          648.0945117771075,
          665.063877020846,
          678.9980627017113,
          690.127219947514,
          698.7506491926175,
          705.1956316283316,
          709.7889445760364,
          712.8399768720634,
          714.6329233417164,
          715.4250035397035,
          715.4484999975383
         ],
         "yaxis": "y"
        }
       ],
       "layout": {
        "height": 600,
        "legend": {
         "font": {
          "size": 10
         },
         "tracegroupgap": 0,
         "traceorder": "reversed",
         "y": 0.5
        },
        "margin": {
         "t": 60
        },
        "template": {
         "data": {
          "bar": [
           {
            "error_x": {
             "color": "#2a3f5f"
            },
            "error_y": {
             "color": "#2a3f5f"
            },
            "marker": {
             "line": {
              "color": "#E5ECF6",
              "width": 0.5
             }
            },
            "type": "bar"
           }
          ],
          "barpolar": [
           {
            "marker": {
             "line": {
              "color": "#E5ECF6",
              "width": 0.5
             }
            },
            "type": "barpolar"
           }
          ],
          "carpet": [
           {
            "aaxis": {
             "endlinecolor": "#2a3f5f",
             "gridcolor": "white",
             "linecolor": "white",
             "minorgridcolor": "white",
             "startlinecolor": "#2a3f5f"
            },
            "baxis": {
             "endlinecolor": "#2a3f5f",
             "gridcolor": "white",
             "linecolor": "white",
             "minorgridcolor": "white",
             "startlinecolor": "#2a3f5f"
            },
            "type": "carpet"
           }
          ],
          "choropleth": [
           {
            "colorbar": {
             "outlinewidth": 0,
             "ticks": ""
            },
            "type": "choropleth"
           }
          ],
          "contour": [
           {
            "colorbar": {
             "outlinewidth": 0,
             "ticks": ""
            },
            "colorscale": [
             [
              0,
              "#0d0887"
             ],
             [
              0.1111111111111111,
              "#46039f"
             ],
             [
              0.2222222222222222,
              "#7201a8"
             ],
             [
              0.3333333333333333,
              "#9c179e"
             ],
             [
              0.4444444444444444,
              "#bd3786"
             ],
             [
              0.5555555555555556,
              "#d8576b"
             ],
             [
              0.6666666666666666,
              "#ed7953"
             ],
             [
              0.7777777777777778,
              "#fb9f3a"
             ],
             [
              0.8888888888888888,
              "#fdca26"
             ],
             [
              1,
              "#f0f921"
             ]
            ],
            "type": "contour"
           }
          ],
          "contourcarpet": [
           {
            "colorbar": {
             "outlinewidth": 0,
             "ticks": ""
            },
            "type": "contourcarpet"
           }
          ],
          "heatmap": [
           {
            "colorbar": {
             "outlinewidth": 0,
             "ticks": ""
            },
            "colorscale": [
             [
              0,
              "#0d0887"
             ],
             [
              0.1111111111111111,
              "#46039f"
             ],
             [
              0.2222222222222222,
              "#7201a8"
             ],
             [
              0.3333333333333333,
              "#9c179e"
             ],
             [
              0.4444444444444444,
              "#bd3786"
             ],
             [
              0.5555555555555556,
              "#d8576b"
             ],
             [
              0.6666666666666666,
              "#ed7953"
             ],
             [
              0.7777777777777778,
              "#fb9f3a"
             ],
             [
              0.8888888888888888,
              "#fdca26"
             ],
             [
              1,
              "#f0f921"
             ]
            ],
            "type": "heatmap"
           }
          ],
          "heatmapgl": [
           {
            "colorbar": {
             "outlinewidth": 0,
             "ticks": ""
            },
            "colorscale": [
             [
              0,
              "#0d0887"
             ],
             [
              0.1111111111111111,
              "#46039f"
             ],
             [
              0.2222222222222222,
              "#7201a8"
             ],
             [
              0.3333333333333333,
              "#9c179e"
             ],
             [
              0.4444444444444444,
              "#bd3786"
             ],
             [
              0.5555555555555556,
              "#d8576b"
             ],
             [
              0.6666666666666666,
              "#ed7953"
             ],
             [
              0.7777777777777778,
              "#fb9f3a"
             ],
             [
              0.8888888888888888,
              "#fdca26"
             ],
             [
              1,
              "#f0f921"
             ]
            ],
            "type": "heatmapgl"
           }
          ],
          "histogram": [
           {
            "marker": {
             "colorbar": {
              "outlinewidth": 0,
              "ticks": ""
             }
            },
            "type": "histogram"
           }
          ],
          "histogram2d": [
           {
            "colorbar": {
             "outlinewidth": 0,
             "ticks": ""
            },
            "colorscale": [
             [
              0,
              "#0d0887"
             ],
             [
              0.1111111111111111,
              "#46039f"
             ],
             [
              0.2222222222222222,
              "#7201a8"
             ],
             [
              0.3333333333333333,
              "#9c179e"
             ],
             [
              0.4444444444444444,
              "#bd3786"
             ],
             [
              0.5555555555555556,
              "#d8576b"
             ],
             [
              0.6666666666666666,
              "#ed7953"
             ],
             [
              0.7777777777777778,
              "#fb9f3a"
             ],
             [
              0.8888888888888888,
              "#fdca26"
             ],
             [
              1,
              "#f0f921"
             ]
            ],
            "type": "histogram2d"
           }
          ],
          "histogram2dcontour": [
           {
            "colorbar": {
             "outlinewidth": 0,
             "ticks": ""
            },
            "colorscale": [
             [
              0,
              "#0d0887"
             ],
             [
              0.1111111111111111,
              "#46039f"
             ],
             [
              0.2222222222222222,
              "#7201a8"
             ],
             [
              0.3333333333333333,
              "#9c179e"
             ],
             [
              0.4444444444444444,
              "#bd3786"
             ],
             [
              0.5555555555555556,
              "#d8576b"
             ],
             [
              0.6666666666666666,
              "#ed7953"
             ],
             [
              0.7777777777777778,
              "#fb9f3a"
             ],
             [
              0.8888888888888888,
              "#fdca26"
             ],
             [
              1,
              "#f0f921"
             ]
            ],
            "type": "histogram2dcontour"
           }
          ],
          "mesh3d": [
           {
            "colorbar": {
             "outlinewidth": 0,
             "ticks": ""
            },
            "type": "mesh3d"
           }
          ],
          "parcoords": [
           {
            "line": {
             "colorbar": {
              "outlinewidth": 0,
              "ticks": ""
             }
            },
            "type": "parcoords"
           }
          ],
          "scatter": [
           {
            "marker": {
             "colorbar": {
              "outlinewidth": 0,
              "ticks": ""
             }
            },
            "type": "scatter"
           }
          ],
          "scatter3d": [
           {
            "line": {
             "colorbar": {
              "outlinewidth": 0,
              "ticks": ""
             }
            },
            "marker": {
             "colorbar": {
              "outlinewidth": 0,
              "ticks": ""
             }
            },
            "type": "scatter3d"
           }
          ],
          "scattercarpet": [
           {
            "marker": {
             "colorbar": {
              "outlinewidth": 0,
              "ticks": ""
             }
            },
            "type": "scattercarpet"
           }
          ],
          "scattergeo": [
           {
            "marker": {
             "colorbar": {
              "outlinewidth": 0,
              "ticks": ""
             }
            },
            "type": "scattergeo"
           }
          ],
          "scattergl": [
           {
            "marker": {
             "colorbar": {
              "outlinewidth": 0,
              "ticks": ""
             }
            },
            "type": "scattergl"
           }
          ],
          "scattermapbox": [
           {
            "marker": {
             "colorbar": {
              "outlinewidth": 0,
              "ticks": ""
             }
            },
            "type": "scattermapbox"
           }
          ],
          "scatterpolar": [
           {
            "marker": {
             "colorbar": {
              "outlinewidth": 0,
              "ticks": ""
             }
            },
            "type": "scatterpolar"
           }
          ],
          "scatterpolargl": [
           {
            "marker": {
             "colorbar": {
              "outlinewidth": 0,
              "ticks": ""
             }
            },
            "type": "scatterpolargl"
           }
          ],
          "scatterternary": [
           {
            "marker": {
             "colorbar": {
              "outlinewidth": 0,
              "ticks": ""
             }
            },
            "type": "scatterternary"
           }
          ],
          "surface": [
           {
            "colorbar": {
             "outlinewidth": 0,
             "ticks": ""
            },
            "colorscale": [
             [
              0,
              "#0d0887"
             ],
             [
              0.1111111111111111,
              "#46039f"
             ],
             [
              0.2222222222222222,
              "#7201a8"
             ],
             [
              0.3333333333333333,
              "#9c179e"
             ],
             [
              0.4444444444444444,
              "#bd3786"
             ],
             [
              0.5555555555555556,
              "#d8576b"
             ],
             [
              0.6666666666666666,
              "#ed7953"
             ],
             [
              0.7777777777777778,
              "#fb9f3a"
             ],
             [
              0.8888888888888888,
              "#fdca26"
             ],
             [
              1,
              "#f0f921"
             ]
            ],
            "type": "surface"
           }
          ],
          "table": [
           {
            "cells": {
             "fill": {
              "color": "#EBF0F8"
             },
             "line": {
              "color": "white"
             }
            },
            "header": {
             "fill": {
              "color": "#C8D4E3"
             },
             "line": {
              "color": "white"
             }
            },
            "type": "table"
           }
          ]
         },
         "layout": {
          "annotationdefaults": {
           "arrowcolor": "#2a3f5f",
           "arrowhead": 0,
           "arrowwidth": 1
          },
          "colorscale": {
           "diverging": [
            [
             0,
             "#8e0152"
            ],
            [
             0.1,
             "#c51b7d"
            ],
            [
             0.2,
             "#de77ae"
            ],
            [
             0.3,
             "#f1b6da"
            ],
            [
             0.4,
             "#fde0ef"
            ],
            [
             0.5,
             "#f7f7f7"
            ],
            [
             0.6,
             "#e6f5d0"
            ],
            [
             0.7,
             "#b8e186"
            ],
            [
             0.8,
             "#7fbc41"
            ],
            [
             0.9,
             "#4d9221"
            ],
            [
             1,
             "#276419"
            ]
           ],
           "sequential": [
            [
             0,
             "#0d0887"
            ],
            [
             0.1111111111111111,
             "#46039f"
            ],
            [
             0.2222222222222222,
             "#7201a8"
            ],
            [
             0.3333333333333333,
             "#9c179e"
            ],
            [
             0.4444444444444444,
             "#bd3786"
            ],
            [
             0.5555555555555556,
             "#d8576b"
            ],
            [
             0.6666666666666666,
             "#ed7953"
            ],
            [
             0.7777777777777778,
             "#fb9f3a"
            ],
            [
             0.8888888888888888,
             "#fdca26"
            ],
            [
             1,
             "#f0f921"
            ]
           ],
           "sequentialminus": [
            [
             0,
             "#0d0887"
            ],
            [
             0.1111111111111111,
             "#46039f"
            ],
            [
             0.2222222222222222,
             "#7201a8"
            ],
            [
             0.3333333333333333,
             "#9c179e"
            ],
            [
             0.4444444444444444,
             "#bd3786"
            ],
            [
             0.5555555555555556,
             "#d8576b"
            ],
            [
             0.6666666666666666,
             "#ed7953"
            ],
            [
             0.7777777777777778,
             "#fb9f3a"
            ],
            [
             0.8888888888888888,
             "#fdca26"
            ],
            [
             1,
             "#f0f921"
            ]
           ]
          },
          "colorway": [
           "#636efa",
           "#EF553B",
           "#00cc96",
           "#ab63fa",
           "#FFA15A",
           "#19d3f3",
           "#FF6692",
           "#B6E880",
           "#FF97FF",
           "#FECB52"
          ],
          "font": {
           "color": "#2a3f5f"
          },
          "geo": {
           "bgcolor": "white",
           "lakecolor": "white",
           "landcolor": "#E5ECF6",
           "showlakes": true,
           "showland": true,
           "subunitcolor": "white"
          },
          "hoverlabel": {
           "align": "left"
          },
          "hovermode": "closest",
          "mapbox": {
           "style": "light"
          },
          "paper_bgcolor": "white",
          "plot_bgcolor": "#E5ECF6",
          "polar": {
           "angularaxis": {
            "gridcolor": "white",
            "linecolor": "white",
            "ticks": ""
           },
           "bgcolor": "#E5ECF6",
           "radialaxis": {
            "gridcolor": "white",
            "linecolor": "white",
            "ticks": ""
           }
          },
          "scene": {
           "xaxis": {
            "backgroundcolor": "#E5ECF6",
            "gridcolor": "white",
            "gridwidth": 2,
            "linecolor": "white",
            "showbackground": true,
            "ticks": "",
            "zerolinecolor": "white"
           },
           "yaxis": {
            "backgroundcolor": "#E5ECF6",
            "gridcolor": "white",
            "gridwidth": 2,
            "linecolor": "white",
            "showbackground": true,
            "ticks": "",
            "zerolinecolor": "white"
           },
           "zaxis": {
            "backgroundcolor": "#E5ECF6",
            "gridcolor": "white",
            "gridwidth": 2,
            "linecolor": "white",
            "showbackground": true,
            "ticks": "",
            "zerolinecolor": "white"
           }
          },
          "shapedefaults": {
           "line": {
            "color": "#2a3f5f"
           }
          },
          "ternary": {
           "aaxis": {
            "gridcolor": "white",
            "linecolor": "white",
            "ticks": ""
           },
           "baxis": {
            "gridcolor": "white",
            "linecolor": "white",
            "ticks": ""
           },
           "bgcolor": "#E5ECF6",
           "caxis": {
            "gridcolor": "white",
            "linecolor": "white",
            "ticks": ""
           }
          },
          "title": {
           "x": 0.05
          },
          "xaxis": {
           "automargin": true,
           "gridcolor": "white",
           "linecolor": "white",
           "ticks": "",
           "zerolinecolor": "white",
           "zerolinewidth": 2
          },
          "yaxis": {
           "automargin": true,
           "gridcolor": "white",
           "linecolor": "white",
           "ticks": "",
           "zerolinecolor": "white",
           "zerolinewidth": 2
          }
         }
        },
        "xaxis": {
         "anchor": "y",
         "domain": [
          0,
          0.98
         ],
         "title": {
          "text": "Year"
         }
        },
        "yaxis": {
         "anchor": "x",
         "domain": [
          0,
          1
         ],
         "title": {
          "text": "Person-kilometers"
         }
        }
       }
      },
      "text/html": [
       "<div>\n",
       "        \n",
       "        \n",
       "            <div id=\"468a6e4f-d883-4ee5-83cb-af6e051f3d47\" class=\"plotly-graph-div\" style=\"height:600px; width:100%;\"></div>\n",
       "            <script type=\"text/javascript\">\n",
       "                require([\"plotly\"], function(Plotly) {\n",
       "                    window.PLOTLYENV=window.PLOTLYENV || {};\n",
       "                    \n",
       "                if (document.getElementById(\"468a6e4f-d883-4ee5-83cb-af6e051f3d47\")) {\n",
       "                    Plotly.newPlot(\n",
       "                        '468a6e4f-d883-4ee5-83cb-af6e051f3d47',\n",
       "                        [{\"hoverlabel\": {\"namelength\": 0}, \"hovertemplate\": \"Mode=Driving<br>Vehicle=ice<br>Year=%{x}<br>Person-kilometers=%{y}\", \"legendgroup\": \"Mode=Driving\", \"line\": {\"color\": \"#636efa\"}, \"mode\": \"lines\", \"name\": \"Mode=Driving\", \"orientation\": \"v\", \"showlegend\": true, \"stackgroup\": \"1\", \"type\": \"scatter\", \"x\": [2010.0, 2011.0, 2012.0, 2013.0, 2014.0, 2015.0, 2016.0, 2017.0, 2018.0, 2019.0, 2020.0, 2021.0, 2022.0, 2023.0, 2024.0, 2025.0, 2026.0, 2027.0, 2028.0, 2029.0, 2030.0, 2031.0, 2032.0, 2033.0, 2034.0, 2035.0, 2036.0, 2037.0, 2038.0, 2039.0, 2040.0, 2041.0, 2042.0, 2043.0, 2044.0, 2045.0, 2046.0, 2047.0, 2048.0, 2049.0, 2050.0], \"xaxis\": \"x\", \"y\": [7832.9870611041815, 7680.435901357314, 7567.492335059907, 7489.439933149645, 7441.355987387224, 7417.999986045387, 7413.671605501566, 7422.035018610751, 7435.911312922567, 7447.048893894014, 7445.900597028991, 7421.4633105456705, 7361.279722438434, 7251.752312561002, 7078.964601783089, 6830.201173782879, 6496.235975436008, 6074.161899913839, 5570.067602048872, 5000.446609250745, 4391.22006481912, 3773.988882094927, 3180.4070848350825, 2636.5960443064646, 2159.516643294206, 1756.1718040193373, 1425.2064738741046, 1159.7191287835699, 950.1112647920941, 786.269610839275, 658.8869574081253, 560.0536833314327, 483.36858341960425, 423.79872704771543, 377.4467694515039, 341.3133992895818, 313.09244582369996, 291.0078767807471, 273.6891734322768, 260.0774490974329, 249.35489214142402], \"yaxis\": \"y\"}, {\"hoverlabel\": {\"namelength\": 0}, \"hovertemplate\": \"Mode=Driving<br>Vehicle=ev<br>Year=%{x}<br>Person-kilometers=%{y}\", \"legendgroup\": \"Mode=Driving\", \"line\": {\"color\": \"#636efa\"}, \"mode\": \"lines\", \"name\": \"Mode=Driving\", \"orientation\": \"v\", \"showlegend\": false, \"stackgroup\": \"1\", \"type\": \"scatter\", \"x\": [2010.0, 2011.0, 2012.0, 2013.0, 2014.0, 2015.0, 2016.0, 2017.0, 2018.0, 2019.0, 2020.0, 2021.0, 2022.0, 2023.0, 2024.0, 2025.0, 2026.0, 2027.0, 2028.0, 2029.0, 2030.0, 2031.0, 2032.0, 2033.0, 2034.0, 2035.0, 2036.0, 2037.0, 2038.0, 2039.0, 2040.0, 2041.0, 2042.0, 2043.0, 2044.0, 2045.0, 2046.0, 2047.0, 2048.0, 2049.0, 2050.0], \"xaxis\": \"x\", \"y\": [1.988572957154546, 2.4379171982953394, 3.112553157944411, 4.138428287404448, 5.723492777397897, 8.213930028995463, 12.187802967043, 18.60722222816744, 29.056392785658034, 46.093401480013604, 73.72704855891865, 117.97832779490423, 187.38099070808738, 293.11906387639874, 448.34743753732795, 666.2251680283078, 956.4715217788705, 1320.8989831645547, 1749.2137642944829, 2216.964309618838, 2687.3179335542445, 3117.082544964648, 3465.4794260999465, 3702.712487768922, 3815.38921444758, 3807.3369379030173, 3696.306595532031, 3508.3586625383205, 3271.966041085277, 3013.3214902107197, 2753.507939392032, 2507.4747149658037, 2284.3466180599476, 2088.4788539019796, 1920.759535577481, 1779.8347538801904, 1663.0980464064353, 1567.405581389006, 1489.5450923001379, 1426.5121943810602, 1375.650930709014], \"yaxis\": \"y\"}, {\"hoverlabel\": {\"namelength\": 0}, \"hovertemplate\": \"Mode=Driving<br>Vehicle=hev<br>Year=%{x}<br>Person-kilometers=%{y}\", \"legendgroup\": \"Mode=Driving\", \"line\": {\"color\": \"#636efa\"}, \"mode\": \"lines\", \"name\": \"Mode=Driving\", \"orientation\": \"v\", \"showlegend\": false, \"stackgroup\": \"1\", \"type\": \"scatter\", \"x\": [2010.0, 2011.0, 2012.0, 2013.0, 2014.0, 2015.0, 2016.0, 2017.0, 2018.0, 2019.0, 2020.0, 2021.0, 2022.0, 2023.0, 2024.0, 2025.0, 2026.0, 2027.0, 2028.0, 2029.0, 2030.0, 2031.0, 2032.0, 2033.0, 2034.0, 2035.0, 2036.0, 2037.0, 2038.0, 2039.0, 2040.0, 2041.0, 2042.0, 2043.0, 2044.0, 2045.0, 2046.0, 2047.0, 2048.0, 2049.0, 2050.0], \"xaxis\": \"x\", \"y\": [93.76687772431634, 97.15609849236783, 102.60019152862849, 110.61055617876876, 121.86283575642187, 137.22365154951123, 157.7625810923712, 184.72985834208137, 219.4696425638731, 263.22913192479825, 316.823936745353, 380.14480356135925, 451.55691023673165, 527.3525060141235, 601.5326394954093, 666.2251680283078, 712.8982331311346, 734.1970863984325, 725.8651139717646, 688.0371363213897, 625.3568521864935, 545.8246058891572, 458.8075608956777, 372.9618737613263, 294.7543813386345, 227.89948271753715, 173.6032480391456, 131.26315636586537, 99.26071367055071, 75.61263162038902, 58.39536900955541, 45.96008945472203, 36.999012140122176, 30.52713707963781, 25.82753361918243, 22.389337515348256, 19.852556817197932, 17.964381214583476, 16.54688342166934, 15.474111149995888, 14.656233094974283], \"yaxis\": \"y\"}, {\"hoverlabel\": {\"namelength\": 0}, \"hovertemplate\": \"Mode=Transit<br>Vehicle=train<br>Year=%{x}<br>Person-kilometers=%{y}\", \"legendgroup\": \"Mode=Transit\", \"line\": {\"color\": \"#EF553B\"}, \"mode\": \"lines\", \"name\": \"Mode=Transit\", \"orientation\": \"v\", \"showlegend\": true, \"stackgroup\": \"1\", \"type\": \"scatter\", \"x\": [2010.0, 2011.0, 2012.0, 2013.0, 2014.0, 2015.0, 2016.0, 2017.0, 2018.0, 2019.0, 2020.0, 2021.0, 2022.0, 2023.0, 2024.0, 2025.0, 2026.0, 2027.0, 2028.0, 2029.0, 2030.0, 2031.0, 2032.0, 2033.0, 2034.0, 2035.0, 2036.0, 2037.0, 2038.0, 2039.0, 2040.0, 2041.0, 2042.0, 2043.0, 2044.0, 2045.0, 2046.0, 2047.0, 2048.0, 2049.0, 2050.0], \"xaxis\": \"x\", \"y\": [978.382018988883, 963.5573437787534, 954.6826850384911, 951.504711698187, 953.8439977974549, 961.6104582422678, 974.8225712632374, 993.6311378593421, 1018.3484427506097, 1049.4834566548836, 1087.783672874525, 1134.283342758035, 1190.3568634047735, 1257.7736087052685, 1338.746770696528, 1435.9631415595686, 1552.5724485817314, 1692.1063007438258, 1858.28857106973, 2054.700068142559, 2284.2761871081725, 2548.657247167278, 2847.477742084194, 3177.755896075725, 3533.592851278912, 3906.36618574309, 4285.481385349438, 4659.562576880096, 5017.8018269062195, 5351.133767296076, 5652.984649520789, 5919.508756534768, 6149.384538037043, 6343.334461768458, 6503.541847223601, 6633.096765405821, 6735.544021633879, 6814.5563177251615, 6873.724888947856, 6916.442515639014, 6945.854849658561], \"yaxis\": \"y\"}, {\"hoverlabel\": {\"namelength\": 0}, \"hovertemplate\": \"Mode=Transit<br>Vehicle=metro/bus<br>Year=%{x}<br>Person-kilometers=%{y}\", \"legendgroup\": \"Mode=Transit\", \"line\": {\"color\": \"#EF553B\"}, \"mode\": \"lines\", \"name\": \"Mode=Transit\", \"orientation\": \"v\", \"showlegend\": false, \"stackgroup\": \"1\", \"type\": \"scatter\", \"x\": [2010.0, 2011.0, 2012.0, 2013.0, 2014.0, 2015.0, 2016.0, 2017.0, 2018.0, 2019.0, 2020.0, 2021.0, 2022.0, 2023.0, 2024.0, 2025.0, 2026.0, 2027.0, 2028.0, 2029.0, 2030.0, 2031.0, 2032.0, 2033.0, 2034.0, 2035.0, 2036.0, 2037.0, 2038.0, 2039.0, 2040.0, 2041.0, 2042.0, 2043.0, 2044.0, 2045.0, 2046.0, 2047.0, 2048.0, 2049.0, 2050.0], \"xaxis\": \"x\", \"y\": [292.24397969797803, 287.81582995988737, 285.16495786864016, 284.2156931046532, 284.9144409005384, 287.2342927217164, 291.1807680396683, 296.7989113086346, 304.18200238005227, 313.4820714683418, 324.9223957936893, 338.81190757707526, 355.56114101701024, 375.6986103924828, 399.88539903922265, 428.92405527103995, 463.7554067192184, 505.43434957283114, 555.0732095403089, 613.7415787958292, 682.3162636816618, 761.2872296733427, 850.5452995835902, 949.1998131135282, 1055.488773758636, 1166.8366528842998, 1280.0788553641175, 1391.8173930940543, 1498.823922322637, 1598.3906058157108, 1688.5538563503658, 1768.1649532506447, 1836.8291477253504, 1894.762241826942, 1942.6163959239323, 1981.3146182381022, 2011.915746721808, 2035.5168221776453, 2053.1905512441645, 2065.950361814251, 2074.735864183726], \"yaxis\": \"y\"}, {\"hoverlabel\": {\"namelength\": 0}, \"hovertemplate\": \"Mode=Cycling<br>Vehicle=ebike<br>Year=%{x}<br>Person-kilometers=%{y}\", \"legendgroup\": \"Mode=Cycling\", \"line\": {\"color\": \"#00cc96\"}, \"mode\": \"lines\", \"name\": \"Mode=Cycling\", \"orientation\": \"v\", \"showlegend\": true, \"stackgroup\": \"1\", \"type\": \"scatter\", \"x\": [2010.0, 2011.0, 2012.0, 2013.0, 2014.0, 2015.0, 2016.0, 2017.0, 2018.0, 2019.0, 2020.0, 2021.0, 2022.0, 2023.0, 2024.0, 2025.0, 2026.0, 2027.0, 2028.0, 2029.0, 2030.0, 2031.0, 2032.0, 2033.0, 2034.0, 2035.0, 2036.0, 2037.0, 2038.0, 2039.0, 2040.0, 2041.0, 2042.0, 2043.0, 2044.0, 2045.0, 2046.0, 2047.0, 2048.0, 2049.0, 2050.0], \"xaxis\": \"x\", \"y\": [1.7100999767999878, 1.945153250394778, 2.2737254789439474, 2.7279162674531734, 3.3519165358786758, 4.206351293919744, 5.374045605368166, 6.967567481747604, 9.138893235064527, 12.091426381683148, 16.094283766930896, 21.49808246144808, 28.75022277007501, 38.40567656026604, 51.126596960014034, 67.66130954185066, 88.79212440658326, 115.24484485514058, 147.56342779685426, 185.97028910338864, 230.24862014897093, 279.68592210781776, 333.10143933885934, 388.95248571675455, 445.4932270717183, 500.9538273760526, 553.7122489504164, 602.4361022081087, 646.1757341948047, 684.3971909879531, 716.9564194543763, 744.029260053354, 766.019350250373, 783.4655372563427, 796.9636777549985, 807.1096117775066, 814.4634228018956, 819.5313034086827, 822.7601698049286, 824.5401382353856, 825.211473247919], \"yaxis\": \"y\"}, {\"hoverlabel\": {\"namelength\": 0}, \"hovertemplate\": \"Mode=Cycling<br>Vehicle=bike<br>Year=%{x}<br>Person-kilometers=%{y}\", \"legendgroup\": \"Mode=Cycling\", \"line\": {\"color\": \"#00cc96\"}, \"mode\": \"lines\", \"name\": \"Mode=Cycling\", \"orientation\": \"v\", \"showlegend\": false, \"stackgroup\": \"1\", \"type\": \"scatter\", \"x\": [2010.0, 2011.0, 2012.0, 2013.0, 2014.0, 2015.0, 2016.0, 2017.0, 2018.0, 2019.0, 2020.0, 2021.0, 2022.0, 2023.0, 2024.0, 2025.0, 2026.0, 2027.0, 2028.0, 2029.0, 2030.0, 2031.0, 2032.0, 2033.0, 2034.0, 2035.0, 2036.0, 2037.0, 2038.0, 2039.0, 2040.0, 2041.0, 2042.0, 2043.0, 2044.0, 2045.0, 2046.0, 2047.0, 2048.0, 2049.0, 2050.0], \"xaxis\": \"x\", \"y\": [928.5924070324744, 911.0581535321729, 898.4839442020923, 890.4196610295938, 886.4323195518654, 886.1070807708378, 889.0485157405058, 894.8820901020879, 903.2558526279493, 913.8421097214954, 926.3390544881205, 940.4722741653245, 955.9967187609734, 972.7004772826508, 990.4132146367903, 1009.0236718900401, 1028.5101842750132, 1048.9842209486649, 1070.7355087876265, 1094.2526567142013, 1120.183169581064, 1149.2076041093035, 1181.83964287813, 1218.2102844869112, 1257.9189806175511, 1300.0164206403524, 1343.1310510730257, 1385.6957095995153, 1426.199185378986, 1463.3913734068008, 1496.4005839870279, 1524.7581979928514, 1548.3530412114085, 1567.3485577777392, 1582.0920060556991, 1593.0348778221962, 1600.6729736410539, 1605.5069119579687, 1608.0199887035144, 1608.6683312491148, 1607.8795177928234], \"yaxis\": \"y\"}, {\"hoverlabel\": {\"namelength\": 0}, \"hovertemplate\": \"Mode=Cycling<br>Vehicle=emoped<br>Year=%{x}<br>Person-kilometers=%{y}\", \"legendgroup\": \"Mode=Cycling\", \"line\": {\"color\": \"#00cc96\"}, \"mode\": \"lines\", \"name\": \"Mode=Cycling\", \"orientation\": \"v\", \"showlegend\": false, \"stackgroup\": \"1\", \"type\": \"scatter\", \"x\": [2010.0, 2011.0, 2012.0, 2013.0, 2014.0, 2015.0, 2016.0, 2017.0, 2018.0, 2019.0, 2020.0, 2021.0, 2022.0, 2023.0, 2024.0, 2025.0, 2026.0, 2027.0, 2028.0, 2029.0, 2030.0, 2031.0, 2032.0, 2033.0, 2034.0, 2035.0, 2036.0, 2037.0, 2038.0, 2039.0, 2040.0, 2041.0, 2042.0, 2043.0, 2044.0, 2045.0, 2046.0, 2047.0, 2048.0, 2049.0, 2050.0], \"xaxis\": \"x\", \"y\": [0.24355437816858375, 0.2986518113326636, 0.3740883539857478, 0.4773186329181762, 0.6187003039548367, 0.8126424513865473, 1.0792205873091512, 1.4464550707049257, 1.9535335999709387, 2.6553703968120654, 3.6290296799957815, 4.98266289466945, 6.867615643623582, 9.494012603891017, 13.148988368359344, 18.214185300250023, 25.174753766988974, 34.60664612892711, 47.125891557160955, 63.289097270869554, 83.45364992713698, 107.63429672088272, 135.41158898688167, 165.93737452561552, 198.04389133338253, 230.4209048848791, 261.80542670738794, 291.13591456808314, 317.64467081741657, 340.8846032966911, 360.70256948267553, 377.1794478532839, 390.55772242801584, 401.1728771235779, 409.3980435977765, 415.6051159488553, 420.1411962813244, 423.3171124533198, 425.40434215332107, 426.6369742687647, 427.2164049951893], \"yaxis\": \"y\"}, {\"hoverlabel\": {\"namelength\": 0}, \"hovertemplate\": \"Mode=Cycling<br>Vehicle=moped<br>Year=%{x}<br>Person-kilometers=%{y}\", \"legendgroup\": \"Mode=Cycling\", \"line\": {\"color\": \"#00cc96\"}, \"mode\": \"lines\", \"name\": \"Mode=Cycling\", \"orientation\": \"v\", \"showlegend\": false, \"stackgroup\": \"1\", \"type\": \"scatter\", \"x\": [2010.0, 2011.0, 2012.0, 2013.0, 2014.0, 2015.0, 2016.0, 2017.0, 2018.0, 2019.0, 2020.0, 2021.0, 2022.0, 2023.0, 2024.0, 2025.0, 2026.0, 2027.0, 2028.0, 2029.0, 2030.0, 2031.0, 2032.0, 2033.0, 2034.0, 2035.0, 2036.0, 2037.0, 2038.0, 2039.0, 2040.0, 2041.0, 2042.0, 2043.0, 2044.0, 2045.0, 2046.0, 2047.0, 2048.0, 2049.0, 2050.0], \"xaxis\": \"x\", \"y\": [69.9920281837655, 68.70373039789895, 67.79963561943254, 67.24972133042078, 67.02657221776, 67.105834285428, 67.46672938977034, 68.0925641740913, 68.97108933043278, 70.09441002174269, 71.45793460361436, 73.05751047798468, 74.88353237817377, 76.91053043877136, 79.08101513888725, 81.2838938106826, 83.33137909243786, 84.94411781841795, 85.75972522760709, 85.37933241508351, 83.45364992713698, 79.78602411332659, 74.41012481374403, 67.60369225385138, 59.82987745641028, 51.632972559108644, 43.53101062882024, 35.93848627211303, 29.13139165768278, 23.24898635469339, 18.318474184351256, 14.288602183895375, 11.062136917048866, 8.521907632397133, 6.5488693619969585, 5.032920964769296, 3.878185579872568, 3.0045796682831756, 2.347192705102247, 1.8545704055503531, 1.4866039542222054], \"yaxis\": \"y\"}, {\"hoverlabel\": {\"namelength\": 0}, \"hovertemplate\": \"Mode=Walking<br>Vehicle=walk<br>Year=%{x}<br>Person-kilometers=%{y}\", \"legendgroup\": \"Mode=Walking\", \"line\": {\"color\": \"#ab63fa\"}, \"mode\": \"lines\", \"name\": \"Mode=Walking\", \"orientation\": \"v\", \"showlegend\": true, \"stackgroup\": \"1\", \"type\": \"scatter\", \"x\": [2010.0, 2011.0, 2012.0, 2013.0, 2014.0, 2015.0, 2016.0, 2017.0, 2018.0, 2019.0, 2020.0, 2021.0, 2022.0, 2023.0, 2024.0, 2025.0, 2026.0, 2027.0, 2028.0, 2029.0, 2030.0, 2031.0, 2032.0, 2033.0, 2034.0, 2035.0, 2036.0, 2037.0, 2038.0, 2039.0, 2040.0, 2041.0, 2042.0, 2043.0, 2044.0, 2045.0, 2046.0, 2047.0, 2048.0, 2049.0, 2050.0], \"xaxis\": \"x\", \"y\": [250.134522392802, 245.5014222479498, 242.23284841361357, 240.21865431509642, 239.35737715236465, 239.55797720039297, 240.7421278307383, 242.84716920715786, 245.8298421983543, 249.67082913043325, 254.38007563466533, 260.0026324998566, 266.62452238821135, 274.37767422139467, 283.44245377601266, 294.0457651357058, 306.45211038525576, 320.94495743778754, 337.79613834231213, 357.22284387588564, 379.3347723960771, 404.07846176283255, 431.19069900440354, 460.1759592457831, 490.3214941197654, 520.7560313650981, 550.5449343399124, 578.8015531619549, 604.7877455122223, 627.9805385115344, 648.0945117771075, 665.063877020846, 678.9980627017113, 690.127219947514, 698.7506491926175, 705.1956316283316, 709.7889445760364, 712.8399768720634, 714.6329233417164, 715.4250035397035, 715.4484999975383], \"yaxis\": \"y\"}],\n",
       "                        {\"height\": 600, \"legend\": {\"font\": {\"size\": 10}, \"tracegroupgap\": 0, \"traceorder\": \"reversed\", \"y\": 0.5}, \"margin\": {\"t\": 60}, \"template\": {\"data\": {\"bar\": [{\"error_x\": {\"color\": \"#2a3f5f\"}, \"error_y\": {\"color\": \"#2a3f5f\"}, \"marker\": {\"line\": {\"color\": \"#E5ECF6\", \"width\": 0.5}}, \"type\": \"bar\"}], \"barpolar\": [{\"marker\": {\"line\": {\"color\": \"#E5ECF6\", \"width\": 0.5}}, \"type\": \"barpolar\"}], \"carpet\": [{\"aaxis\": {\"endlinecolor\": \"#2a3f5f\", \"gridcolor\": \"white\", \"linecolor\": \"white\", \"minorgridcolor\": \"white\", \"startlinecolor\": \"#2a3f5f\"}, \"baxis\": {\"endlinecolor\": \"#2a3f5f\", \"gridcolor\": \"white\", \"linecolor\": \"white\", \"minorgridcolor\": \"white\", \"startlinecolor\": \"#2a3f5f\"}, \"type\": \"carpet\"}], \"choropleth\": [{\"colorbar\": {\"outlinewidth\": 0, \"ticks\": \"\"}, \"type\": \"choropleth\"}], \"contour\": [{\"colorbar\": {\"outlinewidth\": 0, \"ticks\": \"\"}, \"colorscale\": [[0.0, \"#0d0887\"], [0.1111111111111111, \"#46039f\"], [0.2222222222222222, \"#7201a8\"], [0.3333333333333333, \"#9c179e\"], [0.4444444444444444, \"#bd3786\"], [0.5555555555555556, \"#d8576b\"], [0.6666666666666666, \"#ed7953\"], [0.7777777777777778, \"#fb9f3a\"], [0.8888888888888888, \"#fdca26\"], [1.0, \"#f0f921\"]], \"type\": \"contour\"}], \"contourcarpet\": [{\"colorbar\": {\"outlinewidth\": 0, \"ticks\": \"\"}, \"type\": \"contourcarpet\"}], \"heatmap\": [{\"colorbar\": {\"outlinewidth\": 0, \"ticks\": \"\"}, \"colorscale\": [[0.0, \"#0d0887\"], [0.1111111111111111, \"#46039f\"], [0.2222222222222222, \"#7201a8\"], [0.3333333333333333, \"#9c179e\"], [0.4444444444444444, \"#bd3786\"], [0.5555555555555556, \"#d8576b\"], [0.6666666666666666, \"#ed7953\"], [0.7777777777777778, \"#fb9f3a\"], [0.8888888888888888, \"#fdca26\"], [1.0, \"#f0f921\"]], \"type\": \"heatmap\"}], \"heatmapgl\": [{\"colorbar\": {\"outlinewidth\": 0, \"ticks\": \"\"}, \"colorscale\": [[0.0, \"#0d0887\"], [0.1111111111111111, \"#46039f\"], [0.2222222222222222, \"#7201a8\"], [0.3333333333333333, \"#9c179e\"], [0.4444444444444444, \"#bd3786\"], [0.5555555555555556, \"#d8576b\"], [0.6666666666666666, \"#ed7953\"], [0.7777777777777778, \"#fb9f3a\"], [0.8888888888888888, \"#fdca26\"], [1.0, \"#f0f921\"]], \"type\": \"heatmapgl\"}], \"histogram\": [{\"marker\": {\"colorbar\": {\"outlinewidth\": 0, \"ticks\": \"\"}}, \"type\": \"histogram\"}], \"histogram2d\": [{\"colorbar\": {\"outlinewidth\": 0, \"ticks\": \"\"}, \"colorscale\": [[0.0, \"#0d0887\"], [0.1111111111111111, \"#46039f\"], [0.2222222222222222, \"#7201a8\"], [0.3333333333333333, \"#9c179e\"], [0.4444444444444444, \"#bd3786\"], [0.5555555555555556, \"#d8576b\"], [0.6666666666666666, \"#ed7953\"], [0.7777777777777778, \"#fb9f3a\"], [0.8888888888888888, \"#fdca26\"], [1.0, \"#f0f921\"]], \"type\": \"histogram2d\"}], \"histogram2dcontour\": [{\"colorbar\": {\"outlinewidth\": 0, \"ticks\": \"\"}, \"colorscale\": [[0.0, \"#0d0887\"], [0.1111111111111111, \"#46039f\"], [0.2222222222222222, \"#7201a8\"], [0.3333333333333333, \"#9c179e\"], [0.4444444444444444, \"#bd3786\"], [0.5555555555555556, \"#d8576b\"], [0.6666666666666666, \"#ed7953\"], [0.7777777777777778, \"#fb9f3a\"], [0.8888888888888888, \"#fdca26\"], [1.0, \"#f0f921\"]], \"type\": \"histogram2dcontour\"}], \"mesh3d\": [{\"colorbar\": {\"outlinewidth\": 0, \"ticks\": \"\"}, \"type\": \"mesh3d\"}], \"parcoords\": [{\"line\": {\"colorbar\": {\"outlinewidth\": 0, \"ticks\": \"\"}}, \"type\": \"parcoords\"}], \"scatter\": [{\"marker\": {\"colorbar\": {\"outlinewidth\": 0, \"ticks\": \"\"}}, \"type\": \"scatter\"}], \"scatter3d\": [{\"line\": {\"colorbar\": {\"outlinewidth\": 0, \"ticks\": \"\"}}, \"marker\": {\"colorbar\": {\"outlinewidth\": 0, \"ticks\": \"\"}}, \"type\": \"scatter3d\"}], \"scattercarpet\": [{\"marker\": {\"colorbar\": {\"outlinewidth\": 0, \"ticks\": \"\"}}, \"type\": \"scattercarpet\"}], \"scattergeo\": [{\"marker\": {\"colorbar\": {\"outlinewidth\": 0, \"ticks\": \"\"}}, \"type\": \"scattergeo\"}], \"scattergl\": [{\"marker\": {\"colorbar\": {\"outlinewidth\": 0, \"ticks\": \"\"}}, \"type\": \"scattergl\"}], \"scattermapbox\": [{\"marker\": {\"colorbar\": {\"outlinewidth\": 0, \"ticks\": \"\"}}, \"type\": \"scattermapbox\"}], \"scatterpolar\": [{\"marker\": {\"colorbar\": {\"outlinewidth\": 0, \"ticks\": \"\"}}, \"type\": \"scatterpolar\"}], \"scatterpolargl\": [{\"marker\": {\"colorbar\": {\"outlinewidth\": 0, \"ticks\": \"\"}}, \"type\": \"scatterpolargl\"}], \"scatterternary\": [{\"marker\": {\"colorbar\": {\"outlinewidth\": 0, \"ticks\": \"\"}}, \"type\": \"scatterternary\"}], \"surface\": [{\"colorbar\": {\"outlinewidth\": 0, \"ticks\": \"\"}, \"colorscale\": [[0.0, \"#0d0887\"], [0.1111111111111111, \"#46039f\"], [0.2222222222222222, \"#7201a8\"], [0.3333333333333333, \"#9c179e\"], [0.4444444444444444, \"#bd3786\"], [0.5555555555555556, \"#d8576b\"], [0.6666666666666666, \"#ed7953\"], [0.7777777777777778, \"#fb9f3a\"], [0.8888888888888888, \"#fdca26\"], [1.0, \"#f0f921\"]], \"type\": \"surface\"}], \"table\": [{\"cells\": {\"fill\": {\"color\": \"#EBF0F8\"}, \"line\": {\"color\": \"white\"}}, \"header\": {\"fill\": {\"color\": \"#C8D4E3\"}, \"line\": {\"color\": \"white\"}}, \"type\": \"table\"}]}, \"layout\": {\"annotationdefaults\": {\"arrowcolor\": \"#2a3f5f\", \"arrowhead\": 0, \"arrowwidth\": 1}, \"colorscale\": {\"diverging\": [[0, \"#8e0152\"], [0.1, \"#c51b7d\"], [0.2, \"#de77ae\"], [0.3, \"#f1b6da\"], [0.4, \"#fde0ef\"], [0.5, \"#f7f7f7\"], [0.6, \"#e6f5d0\"], [0.7, \"#b8e186\"], [0.8, \"#7fbc41\"], [0.9, \"#4d9221\"], [1, \"#276419\"]], \"sequential\": [[0.0, \"#0d0887\"], [0.1111111111111111, \"#46039f\"], [0.2222222222222222, \"#7201a8\"], [0.3333333333333333, \"#9c179e\"], [0.4444444444444444, \"#bd3786\"], [0.5555555555555556, \"#d8576b\"], [0.6666666666666666, \"#ed7953\"], [0.7777777777777778, \"#fb9f3a\"], [0.8888888888888888, \"#fdca26\"], [1.0, \"#f0f921\"]], \"sequentialminus\": [[0.0, \"#0d0887\"], [0.1111111111111111, \"#46039f\"], [0.2222222222222222, \"#7201a8\"], [0.3333333333333333, \"#9c179e\"], [0.4444444444444444, \"#bd3786\"], [0.5555555555555556, \"#d8576b\"], [0.6666666666666666, \"#ed7953\"], [0.7777777777777778, \"#fb9f3a\"], [0.8888888888888888, \"#fdca26\"], [1.0, \"#f0f921\"]]}, \"colorway\": [\"#636efa\", \"#EF553B\", \"#00cc96\", \"#ab63fa\", \"#FFA15A\", \"#19d3f3\", \"#FF6692\", \"#B6E880\", \"#FF97FF\", \"#FECB52\"], \"font\": {\"color\": \"#2a3f5f\"}, \"geo\": {\"bgcolor\": \"white\", \"lakecolor\": \"white\", \"landcolor\": \"#E5ECF6\", \"showlakes\": true, \"showland\": true, \"subunitcolor\": \"white\"}, \"hoverlabel\": {\"align\": \"left\"}, \"hovermode\": \"closest\", \"mapbox\": {\"style\": \"light\"}, \"paper_bgcolor\": \"white\", \"plot_bgcolor\": \"#E5ECF6\", \"polar\": {\"angularaxis\": {\"gridcolor\": \"white\", \"linecolor\": \"white\", \"ticks\": \"\"}, \"bgcolor\": \"#E5ECF6\", \"radialaxis\": {\"gridcolor\": \"white\", \"linecolor\": \"white\", \"ticks\": \"\"}}, \"scene\": {\"xaxis\": {\"backgroundcolor\": \"#E5ECF6\", \"gridcolor\": \"white\", \"gridwidth\": 2, \"linecolor\": \"white\", \"showbackground\": true, \"ticks\": \"\", \"zerolinecolor\": \"white\"}, \"yaxis\": {\"backgroundcolor\": \"#E5ECF6\", \"gridcolor\": \"white\", \"gridwidth\": 2, \"linecolor\": \"white\", \"showbackground\": true, \"ticks\": \"\", \"zerolinecolor\": \"white\"}, \"zaxis\": {\"backgroundcolor\": \"#E5ECF6\", \"gridcolor\": \"white\", \"gridwidth\": 2, \"linecolor\": \"white\", \"showbackground\": true, \"ticks\": \"\", \"zerolinecolor\": \"white\"}}, \"shapedefaults\": {\"line\": {\"color\": \"#2a3f5f\"}}, \"ternary\": {\"aaxis\": {\"gridcolor\": \"white\", \"linecolor\": \"white\", \"ticks\": \"\"}, \"baxis\": {\"gridcolor\": \"white\", \"linecolor\": \"white\", \"ticks\": \"\"}, \"bgcolor\": \"#E5ECF6\", \"caxis\": {\"gridcolor\": \"white\", \"linecolor\": \"white\", \"ticks\": \"\"}}, \"title\": {\"x\": 0.05}, \"xaxis\": {\"automargin\": true, \"gridcolor\": \"white\", \"linecolor\": \"white\", \"ticks\": \"\", \"zerolinecolor\": \"white\", \"zerolinewidth\": 2}, \"yaxis\": {\"automargin\": true, \"gridcolor\": \"white\", \"linecolor\": \"white\", \"ticks\": \"\", \"zerolinecolor\": \"white\", \"zerolinewidth\": 2}}}, \"xaxis\": {\"anchor\": \"y\", \"domain\": [0.0, 0.98], \"title\": {\"text\": \"Year\"}}, \"yaxis\": {\"anchor\": \"x\", \"domain\": [0.0, 1.0], \"title\": {\"text\": \"Person-kilometers\"}}},\n",
       "                        {\"responsive\": true}\n",
       "                    ).then(function(){\n",
       "                            \n",
       "var gd = document.getElementById('468a6e4f-d883-4ee5-83cb-af6e051f3d47');\n",
       "var x = new MutationObserver(function (mutations, observer) {{\n",
       "        var display = window.getComputedStyle(gd).display;\n",
       "        if (!display || display === 'none') {{\n",
       "            console.log([gd, 'removed!']);\n",
       "            Plotly.purge(gd);\n",
       "            observer.disconnect();\n",
       "        }}\n",
       "}});\n",
       "\n",
       "// Listen for the removal of the full notebook cells\n",
       "var notebookContainer = gd.closest('#notebook-container');\n",
       "if (notebookContainer) {{\n",
       "    x.observe(notebookContainer, {childList: true});\n",
       "}}\n",
       "\n",
       "// Listen for the clearing of the current output cell\n",
       "var outputEl = gd.closest('.output');\n",
       "if (outputEl) {{\n",
       "    x.observe(outputEl, {childList: true});\n",
       "}}\n",
       "\n",
       "                        })\n",
       "                };\n",
       "                });\n",
       "            </script>\n",
       "        </div>"
      ]
     },
     "metadata": {},
     "output_type": "display_data"
    },
    {
     "data": {
      "image/png": "[encoded data removed]",
      "text/plain": [
       "<Figure size 432x288 with 1 Axes>"
      ]
     },
     "metadata": {
      "needs_background": "light"
     },
     "output_type": "display_data"
    },
    {
     "data": {
      "image/png": "[encoded data removed]",
      "text/plain": [
       "<Figure size 432x288 with 1 Axes>"
      ]
     },
     "metadata": {
      "needs_background": "light"
     },
     "output_type": "display_data"
    },
    {
     "data": {
      "text/plain": [
       "<Figure size 432x288 with 0 Axes>"
      ]
     },
     "metadata": {},
     "output_type": "display_data"
    }
   ],
   "source": [
    "###    R U N   F U N C T I O N S   P E R S O N   T R A N S P O R T \n",
    "\n",
    "### calculates shares per vehicle type\n",
    "dfHP, DHP = CarsFirst(x, PolyHP)\n",
    "BinaryShifts(x, DHP, 'HoogPerson', figs=True)\n",
    "PlotService(x, dfHP, y='Share', scn='HoogPerson', figs=True)\n",
    "PlotService(x, dfHP, y='Person-kilometers', scn='HoogPerson', figs=True)\n",
    "\n",
    "### calculates the amount of vehicles needed to supply service\n",
    "dfHP, STVhp = ServiceToVehicles(x, dfHP, figs=True)\n",
    "# BinaryShifts(x, STVhp, 'StV', figs=False)"
   ]
  },
  {
   "cell_type": "code",
   "execution_count": 42,
   "metadata": {},
   "outputs": [
    {
     "name": "stdout",
     "output_type": "stream",
     "text": [
      "Road 0.305\n",
      "Rail 0.269\n",
      "Inland 0.427\n"
     ]
    },
    {
     "data": {
      "application/vnd.plotly.v1+json": {
       "config": {
        "plotlyServerURL": "https://plot.ly"
       },
       "data": [
        {
         "hoverlabel": {
          "namelength": 0
         },
         "hovertemplate": "Mode=Road<br>Vehicle=40tlorry<br>Year=%{x}<br>Share=%{y}",
         "legendgroup": "Mode=Road",
         "line": {
          "color": "#636efa"
         },
         "mode": "lines",
         "name": "Mode=Road",
         "orientation": "v",
         "showlegend": true,
         "stackgroup": "1",
         "type": "scatter",
         "x": [
          2010,
          2011,
          2012,
          2013,
          2014,
          2015,
          2016,
          2017,
          2018,
          2019,
          2020,
          2021,
          2022,
          2023,
          2024,
          2025,
          2026,
          2027,
          2028,
          2029,
          2030,
          2031,
          2032,
          2033,
          2034,
          2035,
          2036,
          2037,
          2038,
          2039,
          2040,
          2041,
          2042,
          2043,
          2044,
          2045,
          2046,
          2047,
          2048,
          2049,
          2050
         ],
         "xaxis": "x",
         "y": [
          0.12548256975490543,
          0.12567579094558784,
          0.1258896980326625,
          0.12612456283079104,
          0.12637992925462663,
          0.12665436173201955,
          0.126945159294406,
          0.127248047613503,
          0.1275568707033347,
          0.12786331532950107,
          0.1281567131431163,
          0.12842397593509775,
          0.12864972485796106,
          0.12881667090502316,
          0.1289062874114583,
          0.12889978346343586,
          0.12877934083272344,
          0.12852952216300542,
          0.1281387054416219,
          0.12760036340882522,
          0.126914,
          0.1260855870762242,
          0.1251274116973262,
          0.12405733430030379,
          0.12289755087565793,
          0.121673025744062,
          0.12040979975058849,
          0.11913337609486915,
          0.11786734826809989,
          0.11663237521089807,
          0.1154455439251989,
          0.11432010304026294,
          0.11326551056705345,
          0.11228771772992145,
          0.11138960621473899,
          0.11057150377090079,
          0.10983171760923882,
          0.10916704192547347,
          0.10857321195150664,
          0.10804529037966196,
          0.10757798212853122
         ],
         "yaxis": "y"
        },
        {
         "hoverlabel": {
          "namelength": 0
         },
         "hovertemplate": "Mode=Road<br>Vehicle=28tlorry<br>Year=%{x}<br>Share=%{y}",
         "legendgroup": "Mode=Road",
         "line": {
          "color": "#636efa"
         },
         "mode": "lines",
         "name": "Mode=Road",
         "orientation": "v",
         "showlegend": false,
         "stackgroup": "1",
         "type": "scatter",
         "x": [
          2010,
          2011,
          2012,
          2013,
          2014,
          2015,
          2016,
          2017,
          2018,
          2019,
          2020,
          2021,
          2022,
          2023,
          2024,
          2025,
          2026,
          2027,
          2028,
          2029,
          2030,
          2031,
          2032,
          2033,
          2034,
          2035,
          2036,
          2037,
          2038,
          2039,
          2040,
          2041,
          2042,
          2043,
          2044,
          2045,
          2046,
          2047,
          2048,
          2049,
          2050
         ],
         "xaxis": "x",
         "y": [
          0.42358720009162854,
          0.42111479818051506,
          0.418297679447267,
          0.4150971690738809,
          0.411473181719472,
          0.40738515189246244,
          0.4027932895437955,
          0.3976601910982293,
          0.3919528128122577,
          0.38564477753510146,
          0.3787189371378856,
          0.37117005316270313,
          0.36300739347822086,
          0.35425698319291404,
          0.34496320807287384,
          0.33518946446406167,
          0.32501759537202995,
          0.3145459546207108,
          0.30388609408734546,
          0.29315825204752927,
          0.28248599999999996,
          0.27199054210181817,
          0.2617852226437759,
          0.2519707667101839,
          0.24263166375626344,
          0.2338339304831475,
          0.2256242971429913,
          0.2180306890986827,
          0.21106375126767746,
          0.20471909919827685,
          0.19897997378245497,
          0.19382001326775025,
          0.18920591827823444,
          0.1850998560433852,
          0.18146151626800394,
          0.1782497855824416,
          0.1754240474401767,
          0.1729451401082782,
          0.17077601929896274,
          0.16888217697930105,
          0.16723186686360816
         ],
         "yaxis": "y"
        },
        {
         "hoverlabel": {
          "namelength": 0
         },
         "hovertemplate": "Mode=Road<br>Vehicle=16tlorry<br>Year=%{x}<br>Share=%{y}",
         "legendgroup": "Mode=Road",
         "line": {
          "color": "#636efa"
         },
         "mode": "lines",
         "name": "Mode=Road",
         "orientation": "v",
         "showlegend": false,
         "stackgroup": "1",
         "type": "scatter",
         "x": [
          2010,
          2011,
          2012,
          2013,
          2014,
          2015,
          2016,
          2017,
          2018,
          2019,
          2020,
          2021,
          2022,
          2023,
          2024,
          2025,
          2026,
          2027,
          2028,
          2029,
          2030,
          2031,
          2032,
          2033,
          2034,
          2035,
          2036,
          2037,
          2038,
          2039,
          2040,
          2041,
          2042,
          2043,
          2044,
          2045,
          2046,
          2047,
          2048,
          2049,
          2050
         ],
         "xaxis": "x",
         "y": [
          0.03622820946842034,
          0.03625820253695545,
          0.03629088214240157,
          0.0363260576332576,
          0.03636335311278551,
          0.03640215225679401,
          0.036441536591158466,
          0.03648022025016859,
          0.036516486365256444,
          0.03654813276665604,
          0.036572437339027625,
          0.0365861556439054,
          0.03658556454851351,
          0.03656656464853049,
          0.036524850329419094,
          0.03645614881687425,
          0.03635651872524312,
          0.036222685740542555,
          0.03605238068264686,
          0.03584463660020778,
          0.0356,
          0.03532061876539529,
          0.03501018544728363,
          0.03467373646525345,
          0.03431733043808198,
          0.033947647028418744,
          0.033571557292669044,
          0.033195716059980326,
          0.03282621757952727,
          0.03246834084911867,
          0.03212639467231662,
          0.031803658060728233,
          0.03150240127386327,
          0.031223967264792415,
          0.03096889208789704,
          0.030737044765381544,
          0.030527770863700426,
          0.03034002842831885,
          0.030172509127199522,
          0.03002374097797862,
          0.029892171692906276
         ],
         "yaxis": "y"
        },
        {
         "hoverlabel": {
          "namelength": 0
         },
         "hovertemplate": "Mode=Rail<br>Vehicle=freighttrain<br>Year=%{x}<br>Share=%{y}",
         "legendgroup": "Mode=Rail",
         "line": {
          "color": "#EF553B"
         },
         "mode": "lines",
         "name": "Mode=Rail",
         "orientation": "v",
         "showlegend": true,
         "stackgroup": "1",
         "type": "scatter",
         "x": [
          2010,
          2011,
          2012,
          2013,
          2014,
          2015,
          2016,
          2017,
          2018,
          2019,
          2020,
          2021,
          2022,
          2023,
          2024,
          2025,
          2026,
          2027,
          2028,
          2029,
          2030,
          2031,
          2032,
          2033,
          2034,
          2035,
          2036,
          2037,
          2038,
          2039,
          2040,
          2041,
          2042,
          2043,
          2044,
          2045,
          2046,
          2047,
          2048,
          2049,
          2050
         ],
         "xaxis": "x",
         "y": [
          0.051320827852807026,
          0.052476470890189794,
          0.0538088121013752,
          0.05534279451354962,
          0.05710612274377985,
          0.05912928237039988,
          0.061445433125370874,
          0.0640901262232463,
          0.06710078788430811,
          0.07051590614911245,
          0.0743738596724026,
          0.0787113394450151,
          0.08356134174608794,
          0.08895075662793131,
          0.09489764173992958,
          0.10140835225871861,
          0.1084747832887556,
          0.11607205335617622,
          0.12415699374420379,
          0.132667786417189,
          0.141525,
          0.15063411218218878,
          0.1598894018138001,
          0.16917888565180275,
          0.17838981027713743,
          0.18741412786290723,
          0.19615340299993148,
          0.20452270823536528,
          0.2124532378256164,
          0.21989356098056034,
          0.22680960824535154,
          0.23318361035235152,
          0.23901227673207398,
          0.2443045142932864,
          0.2490789589514767,
          0.25336153921882737,
          0.25718322842669716,
          0.2605780815400211,
          0.2635816011940169,
          0.26622943862653825,
          0.268556408727575
         ],
         "yaxis": "y"
        },
        {
         "hoverlabel": {
          "namelength": 0
         },
         "hovertemplate": "Mode=Inland<br>Vehicle=xlbarge<br>Year=%{x}<br>Share=%{y}",
         "legendgroup": "Mode=Inland",
         "line": {
          "color": "#00cc96"
         },
         "mode": "lines",
         "name": "Mode=Inland",
         "orientation": "v",
         "showlegend": true,
         "stackgroup": "1",
         "type": "scatter",
         "x": [
          2010,
          2011,
          2012,
          2013,
          2014,
          2015,
          2016,
          2017,
          2018,
          2019,
          2020,
          2021,
          2022,
          2023,
          2024,
          2025,
          2026,
          2027,
          2028,
          2029,
          2030,
          2031,
          2032,
          2033,
          2034,
          2035,
          2036,
          2037,
          2038,
          2039,
          2040,
          2041,
          2042,
          2043,
          2044,
          2045,
          2046,
          2047,
          2048,
          2049,
          2050
         ],
         "xaxis": "x",
         "y": [
          0.050202209862638965,
          0.05111673557188895,
          0.052123833831405744,
          0.053231631271205615,
          0.05444855716059435,
          0.05578321225994204,
          0.0572441865893258,
          0.05883981793983495,
          0.060577885166507806,
          0.062465234609147116,
          0.06450734485497592,
          0.06670784463706728,
          0.0690680105140665,
          0.07158628379058349,
          0.07425785758550336,
          0.07707439183293233,
          0.0800239128110486,
          0.08309094179691517,
          0.0862568739527745,
          0.08950059599191734,
          0.09279929531250002,
          0.09612938214089697,
          0.09946742777008885,
          0.10279102140863766,
          0.10607946585986759,
          0.10931426350026628,
          0.11247938060924412,
          0.11556131118285172,
          0.11854898429177528,
          0.12143356899372808,
          0.12420822881399202,
          0.1268678675191422,
          0.1294088938768822,
          0.13182901928945936,
          0.13412709118580074,
          0.136302957909088,
          0.13835735739535773,
          0.14029182136660057,
          0.14210858799503234,
          0.1438105180638918,
          0.1454010118354781
         ],
         "yaxis": "y"
        },
        {
         "hoverlabel": {
          "namelength": 0
         },
         "hovertemplate": "Mode=Inland<br>Vehicle=lbarge<br>Year=%{x}<br>Share=%{y}",
         "legendgroup": "Mode=Inland",
         "line": {
          "color": "#00cc96"
         },
         "mode": "lines",
         "name": "Mode=Inland",
         "orientation": "v",
         "showlegend": false,
         "stackgroup": "1",
         "type": "scatter",
         "x": [
          2010,
          2011,
          2012,
          2013,
          2014,
          2015,
          2016,
          2017,
          2018,
          2019,
          2020,
          2021,
          2022,
          2023,
          2024,
          2025,
          2026,
          2027,
          2028,
          2029,
          2030,
          2031,
          2032,
          2033,
          2034,
          2035,
          2036,
          2037,
          2038,
          2039,
          2040,
          2041,
          2042,
          2043,
          2044,
          2045,
          2046,
          2047,
          2048,
          2049,
          2050
         ],
         "xaxis": "x",
         "y": [
          0.06824376183019125,
          0.06886949092104881,
          0.0695555739611885,
          0.07030628816965775,
          0.0711257484221535,
          0.07201774051358228,
          0.07298551345546707,
          0.07403152969957616,
          0.07515717637160707,
          0.07636244668080679,
          0.07764560860476158,
          0.0790028872003595,
          0.08042819623732309,
          0.08191296228109929,
          0.08344608721633219,
          0.08501409069951094,
          0.08660146007733642,
          0.08819121163136392,
          0.08976563606932526,
          0.09130716840977249,
          0.09279929531250002,
          0.09422739905078711,
          0.0955794417024482,
          0.09684641608975345,
          0.09802252663444637,
          0.09910510491405404,
          0.10009430166489722,
          0.10099262176795169,
          0.10180437802354422,
          0.10253513436305584,
          0.10319119386023572,
          0.1037791670305041,
          0.10430563641771019,
          0.10477691769515318,
          0.10519890689278096,
          0.10557699781301284,
          0.10591605220119563,
          0.10622040644972769,
          0.1064939012767252,
          0.1067399239636541,
          0.10696145573814812
         ],
         "yaxis": "y"
        },
        {
         "hoverlabel": {
          "namelength": 0
         },
         "hovertemplate": "Mode=Inland<br>Vehicle=mbarge<br>Year=%{x}<br>Share=%{y}",
         "legendgroup": "Mode=Inland",
         "line": {
          "color": "#00cc96"
         },
         "mode": "lines",
         "name": "Mode=Inland",
         "orientation": "v",
         "showlegend": false,
         "stackgroup": "1",
         "type": "scatter",
         "x": [
          2010,
          2011,
          2012,
          2013,
          2014,
          2015,
          2016,
          2017,
          2018,
          2019,
          2020,
          2021,
          2022,
          2023,
          2024,
          2025,
          2026,
          2027,
          2028,
          2029,
          2030,
          2031,
          2032,
          2033,
          2034,
          2035,
          2036,
          2037,
          2038,
          2039,
          2040,
          2041,
          2042,
          2043,
          2044,
          2045,
          2046,
          2047,
          2048,
          2049,
          2050
         ],
         "xaxis": "x",
         "y": [
          0.08584140750649735,
          0.08598912240276453,
          0.08615517164128579,
          0.08634059738912321,
          0.08654610074878503,
          0.08677188737862307,
          0.08701748488050458,
          0.08728153620424284,
          0.08756157848841947,
          0.08785382331717818,
          0.08815296182740287,
          0.08845202539244272,
          0.08874233804005903,
          0.08901359810260231,
          0.08925412146968954,
          0.08945126540569007,
          0.08959202989468572,
          0.08966380494439065,
          0.08965520200589558,
          0.08955688256535706,
          0.08936228437500002,
          0.08906815102997569,
          0.08867479469070207,
          0.0881860604312917,
          0.08760900534688579,
          0.08695334588526402,
          0.08623075424065144,
          0.08545409462976537,
          0.08463668345054048,
          0.0837916382840668,
          0.08293135588089162,
          0.08206713477017491,
          0.08120893821573172,
          0.08036527988218384,
          0.07954320775609178,
          0.0787483603381639,
          0.07798507114912165,
          0.07725650151729366,
          0.07656478615875449,
          0.07591118039158073,
          0.07529620151244981
         ],
         "yaxis": "y"
        },
        {
         "hoverlabel": {
          "namelength": 0
         },
         "hovertemplate": "Mode=Inland<br>Vehicle=sbarge<br>Year=%{x}<br>Share=%{y}",
         "legendgroup": "Mode=Inland",
         "line": {
          "color": "#00cc96"
         },
         "mode": "lines",
         "name": "Mode=Inland",
         "orientation": "v",
         "showlegend": false,
         "stackgroup": "1",
         "type": "scatter",
         "x": [
          2010,
          2011,
          2012,
          2013,
          2014,
          2015,
          2016,
          2017,
          2018,
          2019,
          2020,
          2021,
          2022,
          2023,
          2024,
          2025,
          2026,
          2027,
          2028,
          2029,
          2030,
          2031,
          2032,
          2033,
          2034,
          2035,
          2036,
          2037,
          2038,
          2039,
          2040,
          2041,
          2042,
          2043,
          2044,
          2045,
          2046,
          2047,
          2048,
          2049,
          2050
         ],
         "xaxis": "x",
         "y": [
          0.1590938136329111,
          0.15849938855104956,
          0.15787834884241372,
          0.15723089911853433,
          0.1565570068378032,
          0.15585621159617674,
          0.1551273965199717,
          0.15436853097119888,
          0.15357640220830887,
          0.15274636361249688,
          0.15187213742042752,
          0.15094571858340916,
          0.14995743057776806,
          0.14889618045131586,
          0.1477499461747941,
          0.14650650305877622,
          0.14515435899817705,
          0.14368382574689534,
          0.1420881140161866,
          0.1403643145592018,
          0.138514125,
          0.1365442076527138,
          0.13446611423457505,
          0.1322957789427732,
          0.13005264681165943,
          0.12775855458188026,
          0.12543650629902692,
          0.12310948293053375,
          0.12079939929321908,
          0.11852628212029531,
          0.11630770081955856,
          0.11415844595908574,
          0.11209042463845077,
          0.1101127278018182,
          0.10823182064320977,
          0.10645181060218395,
          0.10477475491451195,
          0.10320097866428649,
          0.1017293829978022,
          0.10035773061739355,
          0.09908290150130317
         ],
         "yaxis": "y"
        }
       ],
       "layout": {
        "height": 600,
        "legend": {
         "font": {
          "size": 10
         },
         "tracegroupgap": 0,
         "traceorder": "reversed",
         "y": 0.5
        },
        "margin": {
         "t": 60
        },
        "template": {
         "data": {
          "bar": [
           {
            "error_x": {
             "color": "#2a3f5f"
            },
            "error_y": {
             "color": "#2a3f5f"
            },
            "marker": {
             "line": {
              "color": "#E5ECF6",
              "width": 0.5
             }
            },
            "type": "bar"
           }
          ],
          "barpolar": [
           {
            "marker": {
             "line": {
              "color": "#E5ECF6",
              "width": 0.5
             }
            },
            "type": "barpolar"
           }
          ],
          "carpet": [
           {
            "aaxis": {
             "endlinecolor": "#2a3f5f",
             "gridcolor": "white",
             "linecolor": "white",
             "minorgridcolor": "white",
             "startlinecolor": "#2a3f5f"
            },
            "baxis": {
             "endlinecolor": "#2a3f5f",
             "gridcolor": "white",
             "linecolor": "white",
             "minorgridcolor": "white",
             "startlinecolor": "#2a3f5f"
            },
            "type": "carpet"
           }
          ],
          "choropleth": [
           {
            "colorbar": {
             "outlinewidth": 0,
             "ticks": ""
            },
            "type": "choropleth"
           }
          ],
          "contour": [
           {
            "colorbar": {
             "outlinewidth": 0,
             "ticks": ""
            },
            "colorscale": [
             [
              0,
              "#0d0887"
             ],
             [
              0.1111111111111111,
              "#46039f"
             ],
             [
              0.2222222222222222,
              "#7201a8"
             ],
             [
              0.3333333333333333,
              "#9c179e"
             ],
             [
              0.4444444444444444,
              "#bd3786"
             ],
             [
              0.5555555555555556,
              "#d8576b"
             ],
             [
              0.6666666666666666,
              "#ed7953"
             ],
             [
              0.7777777777777778,
              "#fb9f3a"
             ],
             [
              0.8888888888888888,
              "#fdca26"
             ],
             [
              1,
              "#f0f921"
             ]
            ],
            "type": "contour"
           }
          ],
          "contourcarpet": [
           {
            "colorbar": {
             "outlinewidth": 0,
             "ticks": ""
            },
            "type": "contourcarpet"
           }
          ],
          "heatmap": [
           {
            "colorbar": {
             "outlinewidth": 0,
             "ticks": ""
            },
            "colorscale": [
             [
              0,
              "#0d0887"
             ],
             [
              0.1111111111111111,
              "#46039f"
             ],
             [
              0.2222222222222222,
              "#7201a8"
             ],
             [
              0.3333333333333333,
              "#9c179e"
             ],
             [
              0.4444444444444444,
              "#bd3786"
             ],
             [
              0.5555555555555556,
              "#d8576b"
             ],
             [
              0.6666666666666666,
              "#ed7953"
             ],
             [
              0.7777777777777778,
              "#fb9f3a"
             ],
             [
              0.8888888888888888,
              "#fdca26"
             ],
             [
              1,
              "#f0f921"
             ]
            ],
            "type": "heatmap"
           }
          ],
          "heatmapgl": [
           {
            "colorbar": {
             "outlinewidth": 0,
             "ticks": ""
            },
            "colorscale": [
             [
              0,
              "#0d0887"
             ],
             [
              0.1111111111111111,
              "#46039f"
             ],
             [
              0.2222222222222222,
              "#7201a8"
             ],
             [
              0.3333333333333333,
              "#9c179e"
             ],
             [
              0.4444444444444444,
              "#bd3786"
             ],
             [
              0.5555555555555556,
              "#d8576b"
             ],
             [
              0.6666666666666666,
              "#ed7953"
             ],
             [
              0.7777777777777778,
              "#fb9f3a"
             ],
             [
              0.8888888888888888,
              "#fdca26"
             ],
             [
              1,
              "#f0f921"
             ]
            ],
            "type": "heatmapgl"
           }
          ],
          "histogram": [
           {
            "marker": {
             "colorbar": {
              "outlinewidth": 0,
              "ticks": ""
             }
            },
            "type": "histogram"
           }
          ],
          "histogram2d": [
           {
            "colorbar": {
             "outlinewidth": 0,
             "ticks": ""
            },
            "colorscale": [
             [
              0,
              "#0d0887"
             ],
             [
              0.1111111111111111,
              "#46039f"
             ],
             [
              0.2222222222222222,
              "#7201a8"
             ],
             [
              0.3333333333333333,
              "#9c179e"
             ],
             [
              0.4444444444444444,
              "#bd3786"
             ],
             [
              0.5555555555555556,
              "#d8576b"
             ],
             [
              0.6666666666666666,
              "#ed7953"
             ],
             [
              0.7777777777777778,
              "#fb9f3a"
             ],
             [
              0.8888888888888888,
              "#fdca26"
             ],
             [
              1,
              "#f0f921"
             ]
            ],
            "type": "histogram2d"
           }
          ],
          "histogram2dcontour": [
           {
            "colorbar": {
             "outlinewidth": 0,
             "ticks": ""
            },
            "colorscale": [
             [
              0,
              "#0d0887"
             ],
             [
              0.1111111111111111,
              "#46039f"
             ],
             [
              0.2222222222222222,
              "#7201a8"
             ],
             [
              0.3333333333333333,
              "#9c179e"
             ],
             [
              0.4444444444444444,
              "#bd3786"
             ],
             [
              0.5555555555555556,
              "#d8576b"
             ],
             [
              0.6666666666666666,
              "#ed7953"
             ],
             [
              0.7777777777777778,
              "#fb9f3a"
             ],
             [
              0.8888888888888888,
              "#fdca26"
             ],
             [
              1,
              "#f0f921"
             ]
            ],
            "type": "histogram2dcontour"
           }
          ],
          "mesh3d": [
           {
            "colorbar": {
             "outlinewidth": 0,
             "ticks": ""
            },
            "type": "mesh3d"
           }
          ],
          "parcoords": [
           {
            "line": {
             "colorbar": {
              "outlinewidth": 0,
              "ticks": ""
             }
            },
            "type": "parcoords"
           }
          ],
          "scatter": [
           {
            "marker": {
             "colorbar": {
              "outlinewidth": 0,
              "ticks": ""
             }
            },
            "type": "scatter"
           }
          ],
          "scatter3d": [
           {
            "line": {
             "colorbar": {
              "outlinewidth": 0,
              "ticks": ""
             }
            },
            "marker": {
             "colorbar": {
              "outlinewidth": 0,
              "ticks": ""
             }
            },
            "type": "scatter3d"
           }
          ],
          "scattercarpet": [
           {
            "marker": {
             "colorbar": {
              "outlinewidth": 0,
              "ticks": ""
             }
            },
            "type": "scattercarpet"
           }
          ],
          "scattergeo": [
           {
            "marker": {
             "colorbar": {
              "outlinewidth": 0,
              "ticks": ""
             }
            },
            "type": "scattergeo"
           }
          ],
          "scattergl": [
           {
            "marker": {
             "colorbar": {
              "outlinewidth": 0,
              "ticks": ""
             }
            },
            "type": "scattergl"
           }
          ],
          "scattermapbox": [
           {
            "marker": {
             "colorbar": {
              "outlinewidth": 0,
              "ticks": ""
             }
            },
            "type": "scattermapbox"
           }
          ],
          "scatterpolar": [
           {
            "marker": {
             "colorbar": {
              "outlinewidth": 0,
              "ticks": ""
             }
            },
            "type": "scatterpolar"
           }
          ],
          "scatterpolargl": [
           {
            "marker": {
             "colorbar": {
              "outlinewidth": 0,
              "ticks": ""
             }
            },
            "type": "scatterpolargl"
           }
          ],
          "scatterternary": [
           {
            "marker": {
             "colorbar": {
              "outlinewidth": 0,
              "ticks": ""
             }
            },
            "type": "scatterternary"
           }
          ],
          "surface": [
           {
            "colorbar": {
             "outlinewidth": 0,
             "ticks": ""
            },
            "colorscale": [
             [
              0,
              "#0d0887"
             ],
             [
              0.1111111111111111,
              "#46039f"
             ],
             [
              0.2222222222222222,
              "#7201a8"
             ],
             [
              0.3333333333333333,
              "#9c179e"
             ],
             [
              0.4444444444444444,
              "#bd3786"
             ],
             [
              0.5555555555555556,
              "#d8576b"
             ],
             [
              0.6666666666666666,
              "#ed7953"
             ],
             [
              0.7777777777777778,
              "#fb9f3a"
             ],
             [
              0.8888888888888888,
              "#fdca26"
             ],
             [
              1,
              "#f0f921"
             ]
            ],
            "type": "surface"
           }
          ],
          "table": [
           {
            "cells": {
             "fill": {
              "color": "#EBF0F8"
             },
             "line": {
              "color": "white"
             }
            },
            "header": {
             "fill": {
              "color": "#C8D4E3"
             },
             "line": {
              "color": "white"
             }
            },
            "type": "table"
           }
          ]
         },
         "layout": {
          "annotationdefaults": {
           "arrowcolor": "#2a3f5f",
           "arrowhead": 0,
           "arrowwidth": 1
          },
          "colorscale": {
           "diverging": [
            [
             0,
             "#8e0152"
            ],
            [
             0.1,
             "#c51b7d"
            ],
            [
             0.2,
             "#de77ae"
            ],
            [
             0.3,
             "#f1b6da"
            ],
            [
             0.4,
             "#fde0ef"
            ],
            [
             0.5,
             "#f7f7f7"
            ],
            [
             0.6,
             "#e6f5d0"
            ],
            [
             0.7,
             "#b8e186"
            ],
            [
             0.8,
             "#7fbc41"
            ],
            [
             0.9,
             "#4d9221"
            ],
            [
             1,
             "#276419"
            ]
           ],
           "sequential": [
            [
             0,
             "#0d0887"
            ],
            [
             0.1111111111111111,
             "#46039f"
            ],
            [
             0.2222222222222222,
             "#7201a8"
            ],
            [
             0.3333333333333333,
             "#9c179e"
            ],
            [
             0.4444444444444444,
             "#bd3786"
            ],
            [
             0.5555555555555556,
             "#d8576b"
            ],
            [
             0.6666666666666666,
             "#ed7953"
            ],
            [
             0.7777777777777778,
             "#fb9f3a"
            ],
            [
             0.8888888888888888,
             "#fdca26"
            ],
            [
             1,
             "#f0f921"
            ]
           ],
           "sequentialminus": [
            [
             0,
             "#0d0887"
            ],
            [
             0.1111111111111111,
             "#46039f"
            ],
            [
             0.2222222222222222,
             "#7201a8"
            ],
            [
             0.3333333333333333,
             "#9c179e"
            ],
            [
             0.4444444444444444,
             "#bd3786"
            ],
            [
             0.5555555555555556,
             "#d8576b"
            ],
            [
             0.6666666666666666,
             "#ed7953"
            ],
            [
             0.7777777777777778,
             "#fb9f3a"
            ],
            [
             0.8888888888888888,
             "#fdca26"
            ],
            [
             1,
             "#f0f921"
            ]
           ]
          },
          "colorway": [
           "#636efa",
           "#EF553B",
           "#00cc96",
           "#ab63fa",
           "#FFA15A",
           "#19d3f3",
           "#FF6692",
           "#B6E880",
           "#FF97FF",
           "#FECB52"
          ],
          "font": {
           "color": "#2a3f5f"
          },
          "geo": {
           "bgcolor": "white",
           "lakecolor": "white",
           "landcolor": "#E5ECF6",
           "showlakes": true,
           "showland": true,
           "subunitcolor": "white"
          },
          "hoverlabel": {
           "align": "left"
          },
          "hovermode": "closest",
          "mapbox": {
           "style": "light"
          },
          "paper_bgcolor": "white",
          "plot_bgcolor": "#E5ECF6",
          "polar": {
           "angularaxis": {
            "gridcolor": "white",
            "linecolor": "white",
            "ticks": ""
           },
           "bgcolor": "#E5ECF6",
           "radialaxis": {
            "gridcolor": "white",
            "linecolor": "white",
            "ticks": ""
           }
          },
          "scene": {
           "xaxis": {
            "backgroundcolor": "#E5ECF6",
            "gridcolor": "white",
            "gridwidth": 2,
            "linecolor": "white",
            "showbackground": true,
            "ticks": "",
            "zerolinecolor": "white"
           },
           "yaxis": {
            "backgroundcolor": "#E5ECF6",
            "gridcolor": "white",
            "gridwidth": 2,
            "linecolor": "white",
            "showbackground": true,
            "ticks": "",
            "zerolinecolor": "white"
           },
           "zaxis": {
            "backgroundcolor": "#E5ECF6",
            "gridcolor": "white",
            "gridwidth": 2,
            "linecolor": "white",
            "showbackground": true,
            "ticks": "",
            "zerolinecolor": "white"
           }
          },
          "shapedefaults": {
           "line": {
            "color": "#2a3f5f"
           }
          },
          "ternary": {
           "aaxis": {
            "gridcolor": "white",
            "linecolor": "white",
            "ticks": ""
           },
           "baxis": {
            "gridcolor": "white",
            "linecolor": "white",
            "ticks": ""
           },
           "bgcolor": "#E5ECF6",
           "caxis": {
            "gridcolor": "white",
            "linecolor": "white",
            "ticks": ""
           }
          },
          "title": {
           "x": 0.05
          },
          "xaxis": {
           "automargin": true,
           "gridcolor": "white",
           "linecolor": "white",
           "ticks": "",
           "zerolinecolor": "white",
           "zerolinewidth": 2
          },
          "yaxis": {
           "automargin": true,
           "gridcolor": "white",
           "linecolor": "white",
           "ticks": "",
           "zerolinecolor": "white",
           "zerolinewidth": 2
          }
         }
        },
        "xaxis": {
         "anchor": "y",
         "domain": [
          0,
          0.98
         ],
         "title": {
          "text": "Year"
         }
        },
        "yaxis": {
         "anchor": "x",
         "domain": [
          0,
          1
         ],
         "title": {
          "text": "Share"
         }
        }
       }
      },
      "text/html": [
       "<div>\n",
       "        \n",
       "        \n",
       "            <div id=\"ba6ec614-6fe9-4bbe-a20d-21dc9798e6f9\" class=\"plotly-graph-div\" style=\"height:600px; width:100%;\"></div>\n",
       "            <script type=\"text/javascript\">\n",
       "                require([\"plotly\"], function(Plotly) {\n",
       "                    window.PLOTLYENV=window.PLOTLYENV || {};\n",
       "                    \n",
       "                if (document.getElementById(\"ba6ec614-6fe9-4bbe-a20d-21dc9798e6f9\")) {\n",
       "                    Plotly.newPlot(\n",
       "                        'ba6ec614-6fe9-4bbe-a20d-21dc9798e6f9',\n",
       "                        [{\"hoverlabel\": {\"namelength\": 0}, \"hovertemplate\": \"Mode=Road<br>Vehicle=40tlorry<br>Year=%{x}<br>Share=%{y}\", \"legendgroup\": \"Mode=Road\", \"line\": {\"color\": \"#636efa\"}, \"mode\": \"lines\", \"name\": \"Mode=Road\", \"orientation\": \"v\", \"showlegend\": true, \"stackgroup\": \"1\", \"type\": \"scatter\", \"x\": [2010.0, 2011.0, 2012.0, 2013.0, 2014.0, 2015.0, 2016.0, 2017.0, 2018.0, 2019.0, 2020.0, 2021.0, 2022.0, 2023.0, 2024.0, 2025.0, 2026.0, 2027.0, 2028.0, 2029.0, 2030.0, 2031.0, 2032.0, 2033.0, 2034.0, 2035.0, 2036.0, 2037.0, 2038.0, 2039.0, 2040.0, 2041.0, 2042.0, 2043.0, 2044.0, 2045.0, 2046.0, 2047.0, 2048.0, 2049.0, 2050.0], \"xaxis\": \"x\", \"y\": [0.12548256975490543, 0.12567579094558784, 0.1258896980326625, 0.12612456283079104, 0.12637992925462663, 0.12665436173201955, 0.126945159294406, 0.127248047613503, 0.1275568707033347, 0.12786331532950107, 0.1281567131431163, 0.12842397593509775, 0.12864972485796106, 0.12881667090502316, 0.1289062874114583, 0.12889978346343586, 0.12877934083272344, 0.12852952216300542, 0.1281387054416219, 0.12760036340882522, 0.126914, 0.1260855870762242, 0.1251274116973262, 0.12405733430030379, 0.12289755087565793, 0.121673025744062, 0.12040979975058849, 0.11913337609486915, 0.11786734826809989, 0.11663237521089807, 0.1154455439251989, 0.11432010304026294, 0.11326551056705345, 0.11228771772992145, 0.11138960621473899, 0.11057150377090079, 0.10983171760923882, 0.10916704192547347, 0.10857321195150664, 0.10804529037966196, 0.10757798212853122], \"yaxis\": \"y\"}, {\"hoverlabel\": {\"namelength\": 0}, \"hovertemplate\": \"Mode=Road<br>Vehicle=28tlorry<br>Year=%{x}<br>Share=%{y}\", \"legendgroup\": \"Mode=Road\", \"line\": {\"color\": \"#636efa\"}, \"mode\": \"lines\", \"name\": \"Mode=Road\", \"orientation\": \"v\", \"showlegend\": false, \"stackgroup\": \"1\", \"type\": \"scatter\", \"x\": [2010.0, 2011.0, 2012.0, 2013.0, 2014.0, 2015.0, 2016.0, 2017.0, 2018.0, 2019.0, 2020.0, 2021.0, 2022.0, 2023.0, 2024.0, 2025.0, 2026.0, 2027.0, 2028.0, 2029.0, 2030.0, 2031.0, 2032.0, 2033.0, 2034.0, 2035.0, 2036.0, 2037.0, 2038.0, 2039.0, 2040.0, 2041.0, 2042.0, 2043.0, 2044.0, 2045.0, 2046.0, 2047.0, 2048.0, 2049.0, 2050.0], \"xaxis\": \"x\", \"y\": [0.42358720009162854, 0.42111479818051506, 0.418297679447267, 0.4150971690738809, 0.411473181719472, 0.40738515189246244, 0.4027932895437955, 0.3976601910982293, 0.3919528128122577, 0.38564477753510146, 0.3787189371378856, 0.37117005316270313, 0.36300739347822086, 0.35425698319291404, 0.34496320807287384, 0.33518946446406167, 0.32501759537202995, 0.3145459546207108, 0.30388609408734546, 0.29315825204752927, 0.28248599999999996, 0.27199054210181817, 0.2617852226437759, 0.2519707667101839, 0.24263166375626344, 0.2338339304831475, 0.2256242971429913, 0.2180306890986827, 0.21106375126767746, 0.20471909919827685, 0.19897997378245497, 0.19382001326775025, 0.18920591827823444, 0.1850998560433852, 0.18146151626800394, 0.1782497855824416, 0.1754240474401767, 0.1729451401082782, 0.17077601929896274, 0.16888217697930105, 0.16723186686360816], \"yaxis\": \"y\"}, {\"hoverlabel\": {\"namelength\": 0}, \"hovertemplate\": \"Mode=Road<br>Vehicle=16tlorry<br>Year=%{x}<br>Share=%{y}\", \"legendgroup\": \"Mode=Road\", \"line\": {\"color\": \"#636efa\"}, \"mode\": \"lines\", \"name\": \"Mode=Road\", \"orientation\": \"v\", \"showlegend\": false, \"stackgroup\": \"1\", \"type\": \"scatter\", \"x\": [2010.0, 2011.0, 2012.0, 2013.0, 2014.0, 2015.0, 2016.0, 2017.0, 2018.0, 2019.0, 2020.0, 2021.0, 2022.0, 2023.0, 2024.0, 2025.0, 2026.0, 2027.0, 2028.0, 2029.0, 2030.0, 2031.0, 2032.0, 2033.0, 2034.0, 2035.0, 2036.0, 2037.0, 2038.0, 2039.0, 2040.0, 2041.0, 2042.0, 2043.0, 2044.0, 2045.0, 2046.0, 2047.0, 2048.0, 2049.0, 2050.0], \"xaxis\": \"x\", \"y\": [0.03622820946842034, 0.03625820253695545, 0.03629088214240157, 0.0363260576332576, 0.03636335311278551, 0.03640215225679401, 0.036441536591158466, 0.03648022025016859, 0.036516486365256444, 0.03654813276665604, 0.036572437339027625, 0.0365861556439054, 0.03658556454851351, 0.03656656464853049, 0.036524850329419094, 0.03645614881687425, 0.03635651872524312, 0.036222685740542555, 0.03605238068264686, 0.03584463660020778, 0.0356, 0.03532061876539529, 0.03501018544728363, 0.03467373646525345, 0.03431733043808198, 0.033947647028418744, 0.033571557292669044, 0.033195716059980326, 0.03282621757952727, 0.03246834084911867, 0.03212639467231662, 0.031803658060728233, 0.03150240127386327, 0.031223967264792415, 0.03096889208789704, 0.030737044765381544, 0.030527770863700426, 0.03034002842831885, 0.030172509127199522, 0.03002374097797862, 0.029892171692906276], \"yaxis\": \"y\"}, {\"hoverlabel\": {\"namelength\": 0}, \"hovertemplate\": \"Mode=Rail<br>Vehicle=freighttrain<br>Year=%{x}<br>Share=%{y}\", \"legendgroup\": \"Mode=Rail\", \"line\": {\"color\": \"#EF553B\"}, \"mode\": \"lines\", \"name\": \"Mode=Rail\", \"orientation\": \"v\", \"showlegend\": true, \"stackgroup\": \"1\", \"type\": \"scatter\", \"x\": [2010.0, 2011.0, 2012.0, 2013.0, 2014.0, 2015.0, 2016.0, 2017.0, 2018.0, 2019.0, 2020.0, 2021.0, 2022.0, 2023.0, 2024.0, 2025.0, 2026.0, 2027.0, 2028.0, 2029.0, 2030.0, 2031.0, 2032.0, 2033.0, 2034.0, 2035.0, 2036.0, 2037.0, 2038.0, 2039.0, 2040.0, 2041.0, 2042.0, 2043.0, 2044.0, 2045.0, 2046.0, 2047.0, 2048.0, 2049.0, 2050.0], \"xaxis\": \"x\", \"y\": [0.051320827852807026, 0.052476470890189794, 0.0538088121013752, 0.05534279451354962, 0.05710612274377985, 0.05912928237039988, 0.061445433125370874, 0.0640901262232463, 0.06710078788430811, 0.07051590614911245, 0.0743738596724026, 0.0787113394450151, 0.08356134174608794, 0.08895075662793131, 0.09489764173992958, 0.10140835225871861, 0.1084747832887556, 0.11607205335617622, 0.12415699374420379, 0.132667786417189, 0.141525, 0.15063411218218878, 0.1598894018138001, 0.16917888565180275, 0.17838981027713743, 0.18741412786290723, 0.19615340299993148, 0.20452270823536528, 0.2124532378256164, 0.21989356098056034, 0.22680960824535154, 0.23318361035235152, 0.23901227673207398, 0.2443045142932864, 0.2490789589514767, 0.25336153921882737, 0.25718322842669716, 0.2605780815400211, 0.2635816011940169, 0.26622943862653825, 0.268556408727575], \"yaxis\": \"y\"}, {\"hoverlabel\": {\"namelength\": 0}, \"hovertemplate\": \"Mode=Inland<br>Vehicle=xlbarge<br>Year=%{x}<br>Share=%{y}\", \"legendgroup\": \"Mode=Inland\", \"line\": {\"color\": \"#00cc96\"}, \"mode\": \"lines\", \"name\": \"Mode=Inland\", \"orientation\": \"v\", \"showlegend\": true, \"stackgroup\": \"1\", \"type\": \"scatter\", \"x\": [2010.0, 2011.0, 2012.0, 2013.0, 2014.0, 2015.0, 2016.0, 2017.0, 2018.0, 2019.0, 2020.0, 2021.0, 2022.0, 2023.0, 2024.0, 2025.0, 2026.0, 2027.0, 2028.0, 2029.0, 2030.0, 2031.0, 2032.0, 2033.0, 2034.0, 2035.0, 2036.0, 2037.0, 2038.0, 2039.0, 2040.0, 2041.0, 2042.0, 2043.0, 2044.0, 2045.0, 2046.0, 2047.0, 2048.0, 2049.0, 2050.0], \"xaxis\": \"x\", \"y\": [0.050202209862638965, 0.05111673557188895, 0.052123833831405744, 0.053231631271205615, 0.05444855716059435, 0.05578321225994204, 0.0572441865893258, 0.05883981793983495, 0.060577885166507806, 0.062465234609147116, 0.06450734485497592, 0.06670784463706728, 0.0690680105140665, 0.07158628379058349, 0.07425785758550336, 0.07707439183293233, 0.0800239128110486, 0.08309094179691517, 0.0862568739527745, 0.08950059599191734, 0.09279929531250002, 0.09612938214089697, 0.09946742777008885, 0.10279102140863766, 0.10607946585986759, 0.10931426350026628, 0.11247938060924412, 0.11556131118285172, 0.11854898429177528, 0.12143356899372808, 0.12420822881399202, 0.1268678675191422, 0.1294088938768822, 0.13182901928945936, 0.13412709118580074, 0.136302957909088, 0.13835735739535773, 0.14029182136660057, 0.14210858799503234, 0.1438105180638918, 0.1454010118354781], \"yaxis\": \"y\"}, {\"hoverlabel\": {\"namelength\": 0}, \"hovertemplate\": \"Mode=Inland<br>Vehicle=lbarge<br>Year=%{x}<br>Share=%{y}\", \"legendgroup\": \"Mode=Inland\", \"line\": {\"color\": \"#00cc96\"}, \"mode\": \"lines\", \"name\": \"Mode=Inland\", \"orientation\": \"v\", \"showlegend\": false, \"stackgroup\": \"1\", \"type\": \"scatter\", \"x\": [2010.0, 2011.0, 2012.0, 2013.0, 2014.0, 2015.0, 2016.0, 2017.0, 2018.0, 2019.0, 2020.0, 2021.0, 2022.0, 2023.0, 2024.0, 2025.0, 2026.0, 2027.0, 2028.0, 2029.0, 2030.0, 2031.0, 2032.0, 2033.0, 2034.0, 2035.0, 2036.0, 2037.0, 2038.0, 2039.0, 2040.0, 2041.0, 2042.0, 2043.0, 2044.0, 2045.0, 2046.0, 2047.0, 2048.0, 2049.0, 2050.0], \"xaxis\": \"x\", \"y\": [0.06824376183019125, 0.06886949092104881, 0.0695555739611885, 0.07030628816965775, 0.0711257484221535, 0.07201774051358228, 0.07298551345546707, 0.07403152969957616, 0.07515717637160707, 0.07636244668080679, 0.07764560860476158, 0.0790028872003595, 0.08042819623732309, 0.08191296228109929, 0.08344608721633219, 0.08501409069951094, 0.08660146007733642, 0.08819121163136392, 0.08976563606932526, 0.09130716840977249, 0.09279929531250002, 0.09422739905078711, 0.0955794417024482, 0.09684641608975345, 0.09802252663444637, 0.09910510491405404, 0.10009430166489722, 0.10099262176795169, 0.10180437802354422, 0.10253513436305584, 0.10319119386023572, 0.1037791670305041, 0.10430563641771019, 0.10477691769515318, 0.10519890689278096, 0.10557699781301284, 0.10591605220119563, 0.10622040644972769, 0.1064939012767252, 0.1067399239636541, 0.10696145573814812], \"yaxis\": \"y\"}, {\"hoverlabel\": {\"namelength\": 0}, \"hovertemplate\": \"Mode=Inland<br>Vehicle=mbarge<br>Year=%{x}<br>Share=%{y}\", \"legendgroup\": \"Mode=Inland\", \"line\": {\"color\": \"#00cc96\"}, \"mode\": \"lines\", \"name\": \"Mode=Inland\", \"orientation\": \"v\", \"showlegend\": false, \"stackgroup\": \"1\", \"type\": \"scatter\", \"x\": [2010.0, 2011.0, 2012.0, 2013.0, 2014.0, 2015.0, 2016.0, 2017.0, 2018.0, 2019.0, 2020.0, 2021.0, 2022.0, 2023.0, 2024.0, 2025.0, 2026.0, 2027.0, 2028.0, 2029.0, 2030.0, 2031.0, 2032.0, 2033.0, 2034.0, 2035.0, 2036.0, 2037.0, 2038.0, 2039.0, 2040.0, 2041.0, 2042.0, 2043.0, 2044.0, 2045.0, 2046.0, 2047.0, 2048.0, 2049.0, 2050.0], \"xaxis\": \"x\", \"y\": [0.08584140750649735, 0.08598912240276453, 0.08615517164128579, 0.08634059738912321, 0.08654610074878503, 0.08677188737862307, 0.08701748488050458, 0.08728153620424284, 0.08756157848841947, 0.08785382331717818, 0.08815296182740287, 0.08845202539244272, 0.08874233804005903, 0.08901359810260231, 0.08925412146968954, 0.08945126540569007, 0.08959202989468572, 0.08966380494439065, 0.08965520200589558, 0.08955688256535706, 0.08936228437500002, 0.08906815102997569, 0.08867479469070207, 0.0881860604312917, 0.08760900534688579, 0.08695334588526402, 0.08623075424065144, 0.08545409462976537, 0.08463668345054048, 0.0837916382840668, 0.08293135588089162, 0.08206713477017491, 0.08120893821573172, 0.08036527988218384, 0.07954320775609178, 0.0787483603381639, 0.07798507114912165, 0.07725650151729366, 0.07656478615875449, 0.07591118039158073, 0.07529620151244981], \"yaxis\": \"y\"}, {\"hoverlabel\": {\"namelength\": 0}, \"hovertemplate\": \"Mode=Inland<br>Vehicle=sbarge<br>Year=%{x}<br>Share=%{y}\", \"legendgroup\": \"Mode=Inland\", \"line\": {\"color\": \"#00cc96\"}, \"mode\": \"lines\", \"name\": \"Mode=Inland\", \"orientation\": \"v\", \"showlegend\": false, \"stackgroup\": \"1\", \"type\": \"scatter\", \"x\": [2010.0, 2011.0, 2012.0, 2013.0, 2014.0, 2015.0, 2016.0, 2017.0, 2018.0, 2019.0, 2020.0, 2021.0, 2022.0, 2023.0, 2024.0, 2025.0, 2026.0, 2027.0, 2028.0, 2029.0, 2030.0, 2031.0, 2032.0, 2033.0, 2034.0, 2035.0, 2036.0, 2037.0, 2038.0, 2039.0, 2040.0, 2041.0, 2042.0, 2043.0, 2044.0, 2045.0, 2046.0, 2047.0, 2048.0, 2049.0, 2050.0], \"xaxis\": \"x\", \"y\": [0.1590938136329111, 0.15849938855104956, 0.15787834884241372, 0.15723089911853433, 0.1565570068378032, 0.15585621159617674, 0.1551273965199717, 0.15436853097119888, 0.15357640220830887, 0.15274636361249688, 0.15187213742042752, 0.15094571858340916, 0.14995743057776806, 0.14889618045131586, 0.1477499461747941, 0.14650650305877622, 0.14515435899817705, 0.14368382574689534, 0.1420881140161866, 0.1403643145592018, 0.138514125, 0.1365442076527138, 0.13446611423457505, 0.1322957789427732, 0.13005264681165943, 0.12775855458188026, 0.12543650629902692, 0.12310948293053375, 0.12079939929321908, 0.11852628212029531, 0.11630770081955856, 0.11415844595908574, 0.11209042463845077, 0.1101127278018182, 0.10823182064320977, 0.10645181060218395, 0.10477475491451195, 0.10320097866428649, 0.1017293829978022, 0.10035773061739355, 0.09908290150130317], \"yaxis\": \"y\"}],\n",
       "                        {\"height\": 600, \"legend\": {\"font\": {\"size\": 10}, \"tracegroupgap\": 0, \"traceorder\": \"reversed\", \"y\": 0.5}, \"margin\": {\"t\": 60}, \"template\": {\"data\": {\"bar\": [{\"error_x\": {\"color\": \"#2a3f5f\"}, \"error_y\": {\"color\": \"#2a3f5f\"}, \"marker\": {\"line\": {\"color\": \"#E5ECF6\", \"width\": 0.5}}, \"type\": \"bar\"}], \"barpolar\": [{\"marker\": {\"line\": {\"color\": \"#E5ECF6\", \"width\": 0.5}}, \"type\": \"barpolar\"}], \"carpet\": [{\"aaxis\": {\"endlinecolor\": \"#2a3f5f\", \"gridcolor\": \"white\", \"linecolor\": \"white\", \"minorgridcolor\": \"white\", \"startlinecolor\": \"#2a3f5f\"}, \"baxis\": {\"endlinecolor\": \"#2a3f5f\", \"gridcolor\": \"white\", \"linecolor\": \"white\", \"minorgridcolor\": \"white\", \"startlinecolor\": \"#2a3f5f\"}, \"type\": \"carpet\"}], \"choropleth\": [{\"colorbar\": {\"outlinewidth\": 0, \"ticks\": \"\"}, \"type\": \"choropleth\"}], \"contour\": [{\"colorbar\": {\"outlinewidth\": 0, \"ticks\": \"\"}, \"colorscale\": [[0.0, \"#0d0887\"], [0.1111111111111111, \"#46039f\"], [0.2222222222222222, \"#7201a8\"], [0.3333333333333333, \"#9c179e\"], [0.4444444444444444, \"#bd3786\"], [0.5555555555555556, \"#d8576b\"], [0.6666666666666666, \"#ed7953\"], [0.7777777777777778, \"#fb9f3a\"], [0.8888888888888888, \"#fdca26\"], [1.0, \"#f0f921\"]], \"type\": \"contour\"}], \"contourcarpet\": [{\"colorbar\": {\"outlinewidth\": 0, \"ticks\": \"\"}, \"type\": \"contourcarpet\"}], \"heatmap\": [{\"colorbar\": {\"outlinewidth\": 0, \"ticks\": \"\"}, \"colorscale\": [[0.0, \"#0d0887\"], [0.1111111111111111, \"#46039f\"], [0.2222222222222222, \"#7201a8\"], [0.3333333333333333, \"#9c179e\"], [0.4444444444444444, \"#bd3786\"], [0.5555555555555556, \"#d8576b\"], [0.6666666666666666, \"#ed7953\"], [0.7777777777777778, \"#fb9f3a\"], [0.8888888888888888, \"#fdca26\"], [1.0, \"#f0f921\"]], \"type\": \"heatmap\"}], \"heatmapgl\": [{\"colorbar\": {\"outlinewidth\": 0, \"ticks\": \"\"}, \"colorscale\": [[0.0, \"#0d0887\"], [0.1111111111111111, \"#46039f\"], [0.2222222222222222, \"#7201a8\"], [0.3333333333333333, \"#9c179e\"], [0.4444444444444444, \"#bd3786\"], [0.5555555555555556, \"#d8576b\"], [0.6666666666666666, \"#ed7953\"], [0.7777777777777778, \"#fb9f3a\"], [0.8888888888888888, \"#fdca26\"], [1.0, \"#f0f921\"]], \"type\": \"heatmapgl\"}], \"histogram\": [{\"marker\": {\"colorbar\": {\"outlinewidth\": 0, \"ticks\": \"\"}}, \"type\": \"histogram\"}], \"histogram2d\": [{\"colorbar\": {\"outlinewidth\": 0, \"ticks\": \"\"}, \"colorscale\": [[0.0, \"#0d0887\"], [0.1111111111111111, \"#46039f\"], [0.2222222222222222, \"#7201a8\"], [0.3333333333333333, \"#9c179e\"], [0.4444444444444444, \"#bd3786\"], [0.5555555555555556, \"#d8576b\"], [0.6666666666666666, \"#ed7953\"], [0.7777777777777778, \"#fb9f3a\"], [0.8888888888888888, \"#fdca26\"], [1.0, \"#f0f921\"]], \"type\": \"histogram2d\"}], \"histogram2dcontour\": [{\"colorbar\": {\"outlinewidth\": 0, \"ticks\": \"\"}, \"colorscale\": [[0.0, \"#0d0887\"], [0.1111111111111111, \"#46039f\"], [0.2222222222222222, \"#7201a8\"], [0.3333333333333333, \"#9c179e\"], [0.4444444444444444, \"#bd3786\"], [0.5555555555555556, \"#d8576b\"], [0.6666666666666666, \"#ed7953\"], [0.7777777777777778, \"#fb9f3a\"], [0.8888888888888888, \"#fdca26\"], [1.0, \"#f0f921\"]], \"type\": \"histogram2dcontour\"}], \"mesh3d\": [{\"colorbar\": {\"outlinewidth\": 0, \"ticks\": \"\"}, \"type\": \"mesh3d\"}], \"parcoords\": [{\"line\": {\"colorbar\": {\"outlinewidth\": 0, \"ticks\": \"\"}}, \"type\": \"parcoords\"}], \"scatter\": [{\"marker\": {\"colorbar\": {\"outlinewidth\": 0, \"ticks\": \"\"}}, \"type\": \"scatter\"}], \"scatter3d\": [{\"line\": {\"colorbar\": {\"outlinewidth\": 0, \"ticks\": \"\"}}, \"marker\": {\"colorbar\": {\"outlinewidth\": 0, \"ticks\": \"\"}}, \"type\": \"scatter3d\"}], \"scattercarpet\": [{\"marker\": {\"colorbar\": {\"outlinewidth\": 0, \"ticks\": \"\"}}, \"type\": \"scattercarpet\"}], \"scattergeo\": [{\"marker\": {\"colorbar\": {\"outlinewidth\": 0, \"ticks\": \"\"}}, \"type\": \"scattergeo\"}], \"scattergl\": [{\"marker\": {\"colorbar\": {\"outlinewidth\": 0, \"ticks\": \"\"}}, \"type\": \"scattergl\"}], \"scattermapbox\": [{\"marker\": {\"colorbar\": {\"outlinewidth\": 0, \"ticks\": \"\"}}, \"type\": \"scattermapbox\"}], \"scatterpolar\": [{\"marker\": {\"colorbar\": {\"outlinewidth\": 0, \"ticks\": \"\"}}, \"type\": \"scatterpolar\"}], \"scatterpolargl\": [{\"marker\": {\"colorbar\": {\"outlinewidth\": 0, \"ticks\": \"\"}}, \"type\": \"scatterpolargl\"}], \"scatterternary\": [{\"marker\": {\"colorbar\": {\"outlinewidth\": 0, \"ticks\": \"\"}}, \"type\": \"scatterternary\"}], \"surface\": [{\"colorbar\": {\"outlinewidth\": 0, \"ticks\": \"\"}, \"colorscale\": [[0.0, \"#0d0887\"], [0.1111111111111111, \"#46039f\"], [0.2222222222222222, \"#7201a8\"], [0.3333333333333333, \"#9c179e\"], [0.4444444444444444, \"#bd3786\"], [0.5555555555555556, \"#d8576b\"], [0.6666666666666666, \"#ed7953\"], [0.7777777777777778, \"#fb9f3a\"], [0.8888888888888888, \"#fdca26\"], [1.0, \"#f0f921\"]], \"type\": \"surface\"}], \"table\": [{\"cells\": {\"fill\": {\"color\": \"#EBF0F8\"}, \"line\": {\"color\": \"white\"}}, \"header\": {\"fill\": {\"color\": \"#C8D4E3\"}, \"line\": {\"color\": \"white\"}}, \"type\": \"table\"}]}, \"layout\": {\"annotationdefaults\": {\"arrowcolor\": \"#2a3f5f\", \"arrowhead\": 0, \"arrowwidth\": 1}, \"colorscale\": {\"diverging\": [[0, \"#8e0152\"], [0.1, \"#c51b7d\"], [0.2, \"#de77ae\"], [0.3, \"#f1b6da\"], [0.4, \"#fde0ef\"], [0.5, \"#f7f7f7\"], [0.6, \"#e6f5d0\"], [0.7, \"#b8e186\"], [0.8, \"#7fbc41\"], [0.9, \"#4d9221\"], [1, \"#276419\"]], \"sequential\": [[0.0, \"#0d0887\"], [0.1111111111111111, \"#46039f\"], [0.2222222222222222, \"#7201a8\"], [0.3333333333333333, \"#9c179e\"], [0.4444444444444444, \"#bd3786\"], [0.5555555555555556, \"#d8576b\"], [0.6666666666666666, \"#ed7953\"], [0.7777777777777778, \"#fb9f3a\"], [0.8888888888888888, \"#fdca26\"], [1.0, \"#f0f921\"]], \"sequentialminus\": [[0.0, \"#0d0887\"], [0.1111111111111111, \"#46039f\"], [0.2222222222222222, \"#7201a8\"], [0.3333333333333333, \"#9c179e\"], [0.4444444444444444, \"#bd3786\"], [0.5555555555555556, \"#d8576b\"], [0.6666666666666666, \"#ed7953\"], [0.7777777777777778, \"#fb9f3a\"], [0.8888888888888888, \"#fdca26\"], [1.0, \"#f0f921\"]]}, \"colorway\": [\"#636efa\", \"#EF553B\", \"#00cc96\", \"#ab63fa\", \"#FFA15A\", \"#19d3f3\", \"#FF6692\", \"#B6E880\", \"#FF97FF\", \"#FECB52\"], \"font\": {\"color\": \"#2a3f5f\"}, \"geo\": {\"bgcolor\": \"white\", \"lakecolor\": \"white\", \"landcolor\": \"#E5ECF6\", \"showlakes\": true, \"showland\": true, \"subunitcolor\": \"white\"}, \"hoverlabel\": {\"align\": \"left\"}, \"hovermode\": \"closest\", \"mapbox\": {\"style\": \"light\"}, \"paper_bgcolor\": \"white\", \"plot_bgcolor\": \"#E5ECF6\", \"polar\": {\"angularaxis\": {\"gridcolor\": \"white\", \"linecolor\": \"white\", \"ticks\": \"\"}, \"bgcolor\": \"#E5ECF6\", \"radialaxis\": {\"gridcolor\": \"white\", \"linecolor\": \"white\", \"ticks\": \"\"}}, \"scene\": {\"xaxis\": {\"backgroundcolor\": \"#E5ECF6\", \"gridcolor\": \"white\", \"gridwidth\": 2, \"linecolor\": \"white\", \"showbackground\": true, \"ticks\": \"\", \"zerolinecolor\": \"white\"}, \"yaxis\": {\"backgroundcolor\": \"#E5ECF6\", \"gridcolor\": \"white\", \"gridwidth\": 2, \"linecolor\": \"white\", \"showbackground\": true, \"ticks\": \"\", \"zerolinecolor\": \"white\"}, \"zaxis\": {\"backgroundcolor\": \"#E5ECF6\", \"gridcolor\": \"white\", \"gridwidth\": 2, \"linecolor\": \"white\", \"showbackground\": true, \"ticks\": \"\", \"zerolinecolor\": \"white\"}}, \"shapedefaults\": {\"line\": {\"color\": \"#2a3f5f\"}}, \"ternary\": {\"aaxis\": {\"gridcolor\": \"white\", \"linecolor\": \"white\", \"ticks\": \"\"}, \"baxis\": {\"gridcolor\": \"white\", \"linecolor\": \"white\", \"ticks\": \"\"}, \"bgcolor\": \"#E5ECF6\", \"caxis\": {\"gridcolor\": \"white\", \"linecolor\": \"white\", \"ticks\": \"\"}}, \"title\": {\"x\": 0.05}, \"xaxis\": {\"automargin\": true, \"gridcolor\": \"white\", \"linecolor\": \"white\", \"ticks\": \"\", \"zerolinecolor\": \"white\", \"zerolinewidth\": 2}, \"yaxis\": {\"automargin\": true, \"gridcolor\": \"white\", \"linecolor\": \"white\", \"ticks\": \"\", \"zerolinecolor\": \"white\", \"zerolinewidth\": 2}}}, \"xaxis\": {\"anchor\": \"y\", \"domain\": [0.0, 0.98], \"title\": {\"text\": \"Year\"}}, \"yaxis\": {\"anchor\": \"x\", \"domain\": [0.0, 1.0], \"title\": {\"text\": \"Share\"}}},\n",
       "                        {\"responsive\": true}\n",
       "                    ).then(function(){\n",
       "                            \n",
       "var gd = document.getElementById('ba6ec614-6fe9-4bbe-a20d-21dc9798e6f9');\n",
       "var x = new MutationObserver(function (mutations, observer) {{\n",
       "        var display = window.getComputedStyle(gd).display;\n",
       "        if (!display || display === 'none') {{\n",
       "            console.log([gd, 'removed!']);\n",
       "            Plotly.purge(gd);\n",
       "            observer.disconnect();\n",
       "        }}\n",
       "}});\n",
       "\n",
       "// Listen for the removal of the full notebook cells\n",
       "var notebookContainer = gd.closest('#notebook-container');\n",
       "if (notebookContainer) {{\n",
       "    x.observe(notebookContainer, {childList: true});\n",
       "}}\n",
       "\n",
       "// Listen for the clearing of the current output cell\n",
       "var outputEl = gd.closest('.output');\n",
       "if (outputEl) {{\n",
       "    x.observe(outputEl, {childList: true});\n",
       "}}\n",
       "\n",
       "                        })\n",
       "                };\n",
       "                });\n",
       "            </script>\n",
       "        </div>"
      ]
     },
     "metadata": {},
     "output_type": "display_data"
    },
    {
     "data": {
      "application/vnd.plotly.v1+json": {
       "config": {
        "plotlyServerURL": "https://plot.ly"
       },
       "data": [
        {
         "hoverlabel": {
          "namelength": 0
         },
         "hovertemplate": "Mode=Road<br>Vehicle=40tlorry<br>Year=%{x}<br>Ton-kilometers=%{y}",
         "legendgroup": "Mode=Road",
         "line": {
          "color": "#636efa"
         },
         "mode": "lines",
         "name": "Mode=Road",
         "orientation": "v",
         "showlegend": true,
         "stackgroup": "1",
         "type": "scatter",
         "x": [
          2010,
          2011,
          2012,
          2013,
          2014,
          2015,
          2016,
          2017,
          2018,
          2019,
          2020,
          2021,
          2022,
          2023,
          2024,
          2025,
          2026,
          2027,
          2028,
          2029,
          2030,
          2031,
          2032,
          2033,
          2034,
          2035,
          2036,
          2037,
          2038,
          2039,
          2040,
          2041,
          2042,
          2043,
          2044,
          2045,
          2046,
          2047,
          2048,
          2049,
          2050
         ],
         "xaxis": "x",
         "y": [
          16255.142807272408,
          16103.479469696262,
          15974.001727167204,
          15868.538373042828,
          15788.651164638137,
          15735.607196611656,
          15710.345043506994,
          15713.435137471832,
          15745.034528946613,
          15804.841024952717,
          15892.04765080368,
          16005.306108812121,
          16142.70640669233,
          16301.780806470018,
          16479.54308705714,
          16672.56826574087,
          16877.11677632193,
          17089.30014057091,
          17305.27582539284,
          17521.453870261226,
          17734.690560779298,
          17942.44241163573,
          18142.859689996018,
          18334.804275597653,
          18517.78902682991,
          18691.848398104255,
          18857.358131696103,
          19014.829178862088,
          19164.700540430666,
          19307.151519116956,
          19441.949694606385,
          19568.341452202945,
          19684.985658514088,
          19789.927059515885,
          19880.60213324424,
          19953.868329516976,
          20006.048658104904,
          20032.984458758514,
          20030.090518518293,
          19992.40834003587,
          19914.654907751195
         ],
         "yaxis": "y"
        },
        {
         "hoverlabel": {
          "namelength": 0
         },
         "hovertemplate": "Mode=Road<br>Vehicle=28tlorry<br>Year=%{x}<br>Ton-kilometers=%{y}",
         "legendgroup": "Mode=Road",
         "line": {
          "color": "#636efa"
         },
         "mode": "lines",
         "name": "Mode=Road",
         "orientation": "v",
         "showlegend": false,
         "stackgroup": "1",
         "type": "scatter",
         "x": [
          2010,
          2011,
          2012,
          2013,
          2014,
          2015,
          2016,
          2017,
          2018,
          2019,
          2020,
          2021,
          2022,
          2023,
          2024,
          2025,
          2026,
          2027,
          2028,
          2029,
          2030,
          2031,
          2032,
          2033,
          2034,
          2035,
          2036,
          2037,
          2038,
          2039,
          2040,
          2041,
          2042,
          2043,
          2044,
          2045,
          2046,
          2047,
          2048,
          2049,
          2050
         ],
         "xaxis": "x",
         "y": [
          54871.927171007934,
          53959.584864051234,
          53077.32053044593,
          52226.03121984603,
          51405.36609008007,
          50613.75415933374,
          49848.466811298866,
          49105.724895331165,
          48380.85582861049,
          47668.51528398672,
          46962.96625940957,
          46258.42079749507,
          45549.431083877964,
          44831.30676021083,
          44100.533535194074,
          43355.148302630274,
          42595.03019648353,
          41822.06652646309,
          41040.1576912968,
          40255.048282894924,
          39473.98866754101,
          38705.25371961174,
          37957.57059875222,
          37239.512817680996,
          36558.92187154348,
          35922.41051124801,
          35334.98256163996,
          34799.78864747033,
          34318.016375360596,
          33888.89800050083,
          33509.81344952697,
          33176.458899429614,
          32883.05300675011,
          32622.558583264974,
          32386.90152530644,
          32167.17354813359,
          31953.811752049507,
          31736.7517054477,
          31505.553381604488,
          31249.50131246022,
          30957.6816024372
         ],
         "yaxis": "y"
        },
        {
         "hoverlabel": {
          "namelength": 0
         },
         "hovertemplate": "Mode=Road<br>Vehicle=16tlorry<br>Year=%{x}<br>Ton-kilometers=%{y}",
         "legendgroup": "Mode=Road",
         "line": {
          "color": "#636efa"
         },
         "mode": "lines",
         "name": "Mode=Road",
         "orientation": "v",
         "showlegend": false,
         "stackgroup": "1",
         "type": "scatter",
         "x": [
          2010,
          2011,
          2012,
          2013,
          2014,
          2015,
          2016,
          2017,
          2018,
          2019,
          2020,
          2021,
          2022,
          2023,
          2024,
          2025,
          2026,
          2027,
          2028,
          2029,
          2030,
          2031,
          2032,
          2033,
          2034,
          2035,
          2036,
          2037,
          2038,
          2039,
          2040,
          2041,
          2042,
          2043,
          2044,
          2045,
          2046,
          2047,
          2048,
          2049,
          2050
         ],
         "xaxis": "x",
         "y": [
          4693.039995205627,
          4645.948243243975,
          4604.909083765824,
          4570.413776324192,
          4542.87560422345,
          4522.623312698347,
          4509.893224324887,
          4504.820195299263,
          4507.427436299909,
          4517.616539562615,
          4535.157797382052,
          4559.683004373606,
          4590.682396575668,
          4627.507585454257,
          4669.383137462634,
          4715.427858168277,
          4764.686696940648,
          4816.172487847949,
          4868.914429290114,
          4922.009075119766,
          4974.667758984375,
          5026.253855314351,
          5076.304813427068,
          5124.535160937425,
          5170.81976401109,
          5215.1597927901885,
          5257.6358420820325,
          5298.354592485353,
          5337.39529250888,
          5374.7612977506615,
          5410.3409092424545,
          5443.879281164136,
          5474.961567560669,
          5503.006447821815,
          5527.268144928501,
          5546.8445591340615,
          5560.689413012455,
          5567.626522277107,
          5566.364650412641,
          5555.511835990258,
          5533.58849021948
         ],
         "yaxis": "y"
        },
        {
         "hoverlabel": {
          "namelength": 0
         },
         "hovertemplate": "Mode=Rail<br>Vehicle=freighttrain<br>Year=%{x}<br>Ton-kilometers=%{y}",
         "legendgroup": "Mode=Rail",
         "line": {
          "color": "#EF553B"
         },
         "mode": "lines",
         "name": "Mode=Rail",
         "orientation": "v",
         "showlegend": true,
         "stackgroup": "1",
         "type": "scatter",
         "x": [
          2010,
          2011,
          2012,
          2013,
          2014,
          2015,
          2016,
          2017,
          2018,
          2019,
          2020,
          2021,
          2022,
          2023,
          2024,
          2025,
          2026,
          2027,
          2028,
          2029,
          2030,
          2031,
          2032,
          2033,
          2034,
          2035,
          2036,
          2037,
          2038,
          2039,
          2040,
          2041,
          2042,
          2043,
          2044,
          2045,
          2046,
          2047,
          2048,
          2049,
          2050
         ],
         "xaxis": "x",
         "y": [
          6648.153503424802,
          6724.077606865084,
          6827.739448713047,
          6963.031139207146,
          7134.2708979522595,
          7346.254392460638,
          7604.29906199542,
          7914.274994774039,
          8282.613208778988,
          8716.281785320392,
          9222.715633851249,
          9809.687582704615,
          10485.107591529439,
          11256.739728876599,
          12131.834740702272,
          13116.683599622831,
          14216.112406015225,
          15432.95364640352,
          16767.541196784427,
          18217.28745654712,
          19776.40040983887,
          21435.787751242915,
          23183.17740034542,
          25003.453229785573,
          26879.175766410975,
          28791.23326023929,
          30719.55087362017,
          32643.785375450396,
          34543.940638348875,
          36400.85604235524,
          38196.545694450106,
          39914.384146637705,
          41539.151822339896,
          43056.966655991324,
          44455.13231396771,
          45721.93215180551,
          46846.39641400096,
          47818.06455237714,
          48626.758258659815,
          49262.37534701624,
          49714.710178191905
         ],
         "yaxis": "y"
        },
        {
         "hoverlabel": {
          "namelength": 0
         },
         "hovertemplate": "Mode=Inland<br>Vehicle=xlbarge<br>Year=%{x}<br>Ton-kilometers=%{y}",
         "legendgroup": "Mode=Inland",
         "line": {
          "color": "#00cc96"
         },
         "mode": "lines",
         "name": "Mode=Inland",
         "orientation": "v",
         "showlegend": true,
         "stackgroup": "1",
         "type": "scatter",
         "x": [
          2010,
          2011,
          2012,
          2013,
          2014,
          2015,
          2016,
          2017,
          2018,
          2019,
          2020,
          2021,
          2022,
          2023,
          2024,
          2025,
          2026,
          2027,
          2028,
          2029,
          2030,
          2031,
          2032,
          2033,
          2034,
          2035,
          2036,
          2037,
          2038,
          2039,
          2040,
          2041,
          2042,
          2043,
          2044,
          2045,
          2046,
          2047,
          2048,
          2049,
          2050
         ],
         "xaxis": "x",
         "y": [
          6503.246563660325,
          6549.8477920556525,
          6613.934457396379,
          6697.412181480106,
          6802.261090797474,
          6930.536811238352,
          7084.365627266844,
          7265.932012619233,
          7477.456042768013,
          7721.159896721074,
          7999.220431919817,
          8313.708289291098,
          8666.513799807166,
          9059.261498570086,
          9493.218586978555,
          9969.2026227456,
          10487.496772984607,
          11047.781236822337,
          11649.087529364479,
          12289.781330864193,
          12967.574787852913,
          13679.564358822825,
          14422.288140369947,
          15191.79232284636,
          15983.69662272017,
          16793.25083437499,
          17615.376547202537,
          18444.69336684808,
          19275.53149118384,
          20101.93406272994,
          20917.65566822099,
          21716.160893006414,
          22490.625851569563,
          23233.945161668562,
          23938.744607945675,
          24597.397903503974,
          25202.04622590278,
          25744.61877465446,
          26216.852479879322,
          26610.30934918595,
          26916.390479250644
         ],
         "yaxis": "y"
        },
        {
         "hoverlabel": {
          "namelength": 0
         },
         "hovertemplate": "Mode=Inland<br>Vehicle=lbarge<br>Year=%{x}<br>Ton-kilometers=%{y}",
         "legendgroup": "Mode=Inland",
         "line": {
          "color": "#00cc96"
         },
         "mode": "lines",
         "name": "Mode=Inland",
         "orientation": "v",
         "showlegend": false,
         "stackgroup": "1",
         "type": "scatter",
         "x": [
          2010,
          2011,
          2012,
          2013,
          2014,
          2015,
          2016,
          2017,
          2018,
          2019,
          2020,
          2021,
          2022,
          2023,
          2024,
          2025,
          2026,
          2027,
          2028,
          2029,
          2030,
          2031,
          2032,
          2033,
          2034,
          2035,
          2036,
          2037,
          2038,
          2039,
          2040,
          2041,
          2042,
          2043,
          2044,
          2045,
          2046,
          2047,
          2048,
          2049,
          2050
         ],
         "xaxis": "x",
         "y": [
          8840.368000288572,
          8824.598793380248,
          8825.828292175724,
          8845.684033673837,
          8885.743466422156,
          8947.523483691763,
          9032.464143856785,
          9141.905607820629,
          9277.05681821926,
          9438.956959284476,
          9628.428207615923,
          9846.022784411673,
          10091.966851172014,
          10366.105154973822,
          10667.85350305294,
          10996.164560195304,
          11349.514178859605,
          11725.913704227416,
          12122.94978685594,
          12537.85096356044,
          12967.574787852913,
          13408.905175219465,
          13858.54927016545,
          14313.22133281057,
          14769.704157326853,
          15224.883125930817,
          15675.751453342711,
          16119.39083900214,
          16552.933846345524,
          16973.515043321833,
          17378.219476855582,
          17764.03381444534,
          18127.80383636092,
          18466.200940118008,
          18775.69805530786,
          19052.55369730238,
          19292.803027540525,
          19492.25438446063,
          19646.48962578063,
          19750.866868579833,
          19800.524580493973
         ],
         "yaxis": "y"
        },
        {
         "hoverlabel": {
          "namelength": 0
         },
         "hovertemplate": "Mode=Inland<br>Vehicle=mbarge<br>Year=%{x}<br>Ton-kilometers=%{y}",
         "legendgroup": "Mode=Inland",
         "line": {
          "color": "#00cc96"
         },
         "mode": "lines",
         "name": "Mode=Inland",
         "orientation": "v",
         "showlegend": false,
         "stackgroup": "1",
         "type": "scatter",
         "x": [
          2010,
          2011,
          2012,
          2013,
          2014,
          2015,
          2016,
          2017,
          2018,
          2019,
          2020,
          2021,
          2022,
          2023,
          2024,
          2025,
          2026,
          2027,
          2028,
          2029,
          2030,
          2031,
          2032,
          2033,
          2034,
          2035,
          2036,
          2037,
          2038,
          2039,
          2040,
          2041,
          2042,
          2043,
          2044,
          2045,
          2046,
          2047,
          2048,
          2049,
          2050
         ],
         "xaxis": "x",
         "y": [
          11119.985353510277,
          11018.224407512525,
          10932.132510518974,
          10863.063086758688,
          10812.208888241408,
          10780.586762480583,
          10769.018053854392,
          10778.104525501045,
          10808.19926913738,
          10859.375164675728,
          10931.39044816251,
          11023.656073893308,
          11135.208492717342,
          11264.692332669607,
          11410.359959885382,
          11570.091809784326,
          11741.441919045106,
          11921.709881539859,
          12108.035542782822,
          12297.510326093454,
          12487.294240154657,
          12674.725221369607,
          12857.409390072036,
          13033.281482010698,
          13200.629844165389,
          13358.086141575204,
          13504.583663874828,
          13639.292910874587,
          13761.543946635367,
          13870.74432343683,
          13966.30129081889,
          14047.553076654798,
          14113.711897969704,
          14163.820043179981,
          14196.718343291914,
          14211.02508118922,
          14205.12363801786,
          14177.157014940203,
          14125.027432879291,
          14046.399529583588,
          13938.706037387583
         ],
         "yaxis": "y"
        },
        {
         "hoverlabel": {
          "namelength": 0
         },
         "hovertemplate": "Mode=Inland<br>Vehicle=sbarge<br>Year=%{x}<br>Ton-kilometers=%{y}",
         "legendgroup": "Mode=Inland",
         "line": {
          "color": "#00cc96"
         },
         "mode": "lines",
         "name": "Mode=Inland",
         "orientation": "v",
         "showlegend": false,
         "stackgroup": "1",
         "type": "scatter",
         "x": [
          2010,
          2011,
          2012,
          2013,
          2014,
          2015,
          2016,
          2017,
          2018,
          2019,
          2020,
          2021,
          2022,
          2023,
          2024,
          2025,
          2026,
          2027,
          2028,
          2029,
          2030,
          2031,
          2032,
          2033,
          2034,
          2035,
          2036,
          2037,
          2038,
          2039,
          2040,
          2041,
          2042,
          2043,
          2044,
          2045,
          2046,
          2047,
          2048,
          2049,
          2050
         ],
         "xaxis": "x",
         "y": [
          20609.17835367693,
          20309.33428217939,
          20033.005531848168,
          19782.225603729683,
          19558.675043738807,
          19363.661000625547,
          19198.092613973942,
          19062.452777667175,
          18956.766046926867,
          18880.567798621272,
          18832.87410796458,
          18812.16037854976,
          18816.35408075308,
          18842.847587852906,
          18888.540295370123,
          18949.912932284384,
          19023.13718616183,
          19104.21809878118,
          19189.159091982572,
          19274.136819658874,
          19355.66718543347,
          19430.742555611494,
          19496.925657809337,
          19552.388636143216,
          19595.89478292962,
          19626.72925409663,
          19644.589783963525,
          19649.45395619453,
          19641.438845748766,
          19620.66607797521,
          19587.143786981742,
          19540.670370052783,
          19480.7615347163,
          19406.600254923833,
          19317.00665335139,
          19210.423479414287,
          19084.91363504289,
          18938.166366381127,
          18767.509160078025,
          18569.92307144493,
          18342.05988637738
         ],
         "yaxis": "y"
        }
       ],
       "layout": {
        "height": 600,
        "legend": {
         "font": {
          "size": 10
         },
         "tracegroupgap": 0,
         "traceorder": "reversed",
         "y": 0.5
        },
        "margin": {
         "t": 60
        },
        "template": {
         "data": {
          "bar": [
           {
            "error_x": {
             "color": "#2a3f5f"
            },
            "error_y": {
             "color": "#2a3f5f"
            },
            "marker": {
             "line": {
              "color": "#E5ECF6",
              "width": 0.5
             }
            },
            "type": "bar"
           }
          ],
          "barpolar": [
           {
            "marker": {
             "line": {
              "color": "#E5ECF6",
              "width": 0.5
             }
            },
            "type": "barpolar"
           }
          ],
          "carpet": [
           {
            "aaxis": {
             "endlinecolor": "#2a3f5f",
             "gridcolor": "white",
             "linecolor": "white",
             "minorgridcolor": "white",
             "startlinecolor": "#2a3f5f"
            },
            "baxis": {
             "endlinecolor": "#2a3f5f",
             "gridcolor": "white",
             "linecolor": "white",
             "minorgridcolor": "white",
             "startlinecolor": "#2a3f5f"
            },
            "type": "carpet"
           }
          ],
          "choropleth": [
           {
            "colorbar": {
             "outlinewidth": 0,
             "ticks": ""
            },
            "type": "choropleth"
           }
          ],
          "contour": [
           {
            "colorbar": {
             "outlinewidth": 0,
             "ticks": ""
            },
            "colorscale": [
             [
              0,
              "#0d0887"
             ],
             [
              0.1111111111111111,
              "#46039f"
             ],
             [
              0.2222222222222222,
              "#7201a8"
             ],
             [
              0.3333333333333333,
              "#9c179e"
             ],
             [
              0.4444444444444444,
              "#bd3786"
             ],
             [
              0.5555555555555556,
              "#d8576b"
             ],
             [
              0.6666666666666666,
              "#ed7953"
             ],
             [
              0.7777777777777778,
              "#fb9f3a"
             ],
             [
              0.8888888888888888,
              "#fdca26"
             ],
             [
              1,
              "#f0f921"
             ]
            ],
            "type": "contour"
           }
          ],
          "contourcarpet": [
           {
            "colorbar": {
             "outlinewidth": 0,
             "ticks": ""
            },
            "type": "contourcarpet"
           }
          ],
          "heatmap": [
           {
            "colorbar": {
             "outlinewidth": 0,
             "ticks": ""
            },
            "colorscale": [
             [
              0,
              "#0d0887"
             ],
             [
              0.1111111111111111,
              "#46039f"
             ],
             [
              0.2222222222222222,
              "#7201a8"
             ],
             [
              0.3333333333333333,
              "#9c179e"
             ],
             [
              0.4444444444444444,
              "#bd3786"
             ],
             [
              0.5555555555555556,
              "#d8576b"
             ],
             [
              0.6666666666666666,
              "#ed7953"
             ],
             [
              0.7777777777777778,
              "#fb9f3a"
             ],
             [
              0.8888888888888888,
              "#fdca26"
             ],
             [
              1,
              "#f0f921"
             ]
            ],
            "type": "heatmap"
           }
          ],
          "heatmapgl": [
           {
            "colorbar": {
             "outlinewidth": 0,
             "ticks": ""
            },
            "colorscale": [
             [
              0,
              "#0d0887"
             ],
             [
              0.1111111111111111,
              "#46039f"
             ],
             [
              0.2222222222222222,
              "#7201a8"
             ],
             [
              0.3333333333333333,
              "#9c179e"
             ],
             [
              0.4444444444444444,
              "#bd3786"
             ],
             [
              0.5555555555555556,
              "#d8576b"
             ],
             [
              0.6666666666666666,
              "#ed7953"
             ],
             [
              0.7777777777777778,
              "#fb9f3a"
             ],
             [
              0.8888888888888888,
              "#fdca26"
             ],
             [
              1,
              "#f0f921"
             ]
            ],
            "type": "heatmapgl"
           }
          ],
          "histogram": [
           {
            "marker": {
             "colorbar": {
              "outlinewidth": 0,
              "ticks": ""
             }
            },
            "type": "histogram"
           }
          ],
          "histogram2d": [
           {
            "colorbar": {
             "outlinewidth": 0,
             "ticks": ""
            },
            "colorscale": [
             [
              0,
              "#0d0887"
             ],
             [
              0.1111111111111111,
              "#46039f"
             ],
             [
              0.2222222222222222,
              "#7201a8"
             ],
             [
              0.3333333333333333,
              "#9c179e"
             ],
             [
              0.4444444444444444,
              "#bd3786"
             ],
             [
              0.5555555555555556,
              "#d8576b"
             ],
             [
              0.6666666666666666,
              "#ed7953"
             ],
             [
              0.7777777777777778,
              "#fb9f3a"
             ],
             [
              0.8888888888888888,
              "#fdca26"
             ],
             [
              1,
              "#f0f921"
             ]
            ],
            "type": "histogram2d"
           }
          ],
          "histogram2dcontour": [
           {
            "colorbar": {
             "outlinewidth": 0,
             "ticks": ""
            },
            "colorscale": [
             [
              0,
              "#0d0887"
             ],
             [
              0.1111111111111111,
              "#46039f"
             ],
             [
              0.2222222222222222,
              "#7201a8"
             ],
             [
              0.3333333333333333,
              "#9c179e"
             ],
             [
              0.4444444444444444,
              "#bd3786"
             ],
             [
              0.5555555555555556,
              "#d8576b"
             ],
             [
              0.6666666666666666,
              "#ed7953"
             ],
             [
              0.7777777777777778,
              "#fb9f3a"
             ],
             [
              0.8888888888888888,
              "#fdca26"
             ],
             [
              1,
              "#f0f921"
             ]
            ],
            "type": "histogram2dcontour"
           }
          ],
          "mesh3d": [
           {
            "colorbar": {
             "outlinewidth": 0,
             "ticks": ""
            },
            "type": "mesh3d"
           }
          ],
          "parcoords": [
           {
            "line": {
             "colorbar": {
              "outlinewidth": 0,
              "ticks": ""
             }
            },
            "type": "parcoords"
           }
          ],
          "scatter": [
           {
            "marker": {
             "colorbar": {
              "outlinewidth": 0,
              "ticks": ""
             }
            },
            "type": "scatter"
           }
          ],
          "scatter3d": [
           {
            "line": {
             "colorbar": {
              "outlinewidth": 0,
              "ticks": ""
             }
            },
            "marker": {
             "colorbar": {
              "outlinewidth": 0,
              "ticks": ""
             }
            },
            "type": "scatter3d"
           }
          ],
          "scattercarpet": [
           {
            "marker": {
             "colorbar": {
              "outlinewidth": 0,
              "ticks": ""
             }
            },
            "type": "scattercarpet"
           }
          ],
          "scattergeo": [
           {
            "marker": {
             "colorbar": {
              "outlinewidth": 0,
              "ticks": ""
             }
            },
            "type": "scattergeo"
           }
          ],
          "scattergl": [
           {
            "marker": {
             "colorbar": {
              "outlinewidth": 0,
              "ticks": ""
             }
            },
            "type": "scattergl"
           }
          ],
          "scattermapbox": [
           {
            "marker": {
             "colorbar": {
              "outlinewidth": 0,
              "ticks": ""
             }
            },
            "type": "scattermapbox"
           }
          ],
          "scatterpolar": [
           {
            "marker": {
             "colorbar": {
              "outlinewidth": 0,
              "ticks": ""
             }
            },
            "type": "scatterpolar"
           }
          ],
          "scatterpolargl": [
           {
            "marker": {
             "colorbar": {
              "outlinewidth": 0,
              "ticks": ""
             }
            },
            "type": "scatterpolargl"
           }
          ],
          "scatterternary": [
           {
            "marker": {
             "colorbar": {
              "outlinewidth": 0,
              "ticks": ""
             }
            },
            "type": "scatterternary"
           }
          ],
          "surface": [
           {
            "colorbar": {
             "outlinewidth": 0,
             "ticks": ""
            },
            "colorscale": [
             [
              0,
              "#0d0887"
             ],
             [
              0.1111111111111111,
              "#46039f"
             ],
             [
              0.2222222222222222,
              "#7201a8"
             ],
             [
              0.3333333333333333,
              "#9c179e"
             ],
             [
              0.4444444444444444,
              "#bd3786"
             ],
             [
              0.5555555555555556,
              "#d8576b"
             ],
             [
              0.6666666666666666,
              "#ed7953"
             ],
             [
              0.7777777777777778,
              "#fb9f3a"
             ],
             [
              0.8888888888888888,
              "#fdca26"
             ],
             [
              1,
              "#f0f921"
             ]
            ],
            "type": "surface"
           }
          ],
          "table": [
           {
            "cells": {
             "fill": {
              "color": "#EBF0F8"
             },
             "line": {
              "color": "white"
             }
            },
            "header": {
             "fill": {
              "color": "#C8D4E3"
             },
             "line": {
              "color": "white"
             }
            },
            "type": "table"
           }
          ]
         },
         "layout": {
          "annotationdefaults": {
           "arrowcolor": "#2a3f5f",
           "arrowhead": 0,
           "arrowwidth": 1
          },
          "colorscale": {
           "diverging": [
            [
             0,
             "#8e0152"
            ],
            [
             0.1,
             "#c51b7d"
            ],
            [
             0.2,
             "#de77ae"
            ],
            [
             0.3,
             "#f1b6da"
            ],
            [
             0.4,
             "#fde0ef"
            ],
            [
             0.5,
             "#f7f7f7"
            ],
            [
             0.6,
             "#e6f5d0"
            ],
            [
             0.7,
             "#b8e186"
            ],
            [
             0.8,
             "#7fbc41"
            ],
            [
             0.9,
             "#4d9221"
            ],
            [
             1,
             "#276419"
            ]
           ],
           "sequential": [
            [
             0,
             "#0d0887"
            ],
            [
             0.1111111111111111,
             "#46039f"
            ],
            [
             0.2222222222222222,
             "#7201a8"
            ],
            [
             0.3333333333333333,
             "#9c179e"
            ],
            [
             0.4444444444444444,
             "#bd3786"
            ],
            [
             0.5555555555555556,
             "#d8576b"
            ],
            [
             0.6666666666666666,
             "#ed7953"
            ],
            [
             0.7777777777777778,
             "#fb9f3a"
            ],
            [
             0.8888888888888888,
             "#fdca26"
            ],
            [
             1,
             "#f0f921"
            ]
           ],
           "sequentialminus": [
            [
             0,
             "#0d0887"
            ],
            [
             0.1111111111111111,
             "#46039f"
            ],
            [
             0.2222222222222222,
             "#7201a8"
            ],
            [
             0.3333333333333333,
             "#9c179e"
            ],
            [
             0.4444444444444444,
             "#bd3786"
            ],
            [
             0.5555555555555556,
             "#d8576b"
            ],
            [
             0.6666666666666666,
             "#ed7953"
            ],
            [
             0.7777777777777778,
             "#fb9f3a"
            ],
            [
             0.8888888888888888,
             "#fdca26"
            ],
            [
             1,
             "#f0f921"
            ]
           ]
          },
          "colorway": [
           "#636efa",
           "#EF553B",
           "#00cc96",
           "#ab63fa",
           "#FFA15A",
           "#19d3f3",
           "#FF6692",
           "#B6E880",
           "#FF97FF",
           "#FECB52"
          ],
          "font": {
           "color": "#2a3f5f"
          },
          "geo": {
           "bgcolor": "white",
           "lakecolor": "white",
           "landcolor": "#E5ECF6",
           "showlakes": true,
           "showland": true,
           "subunitcolor": "white"
          },
          "hoverlabel": {
           "align": "left"
          },
          "hovermode": "closest",
          "mapbox": {
           "style": "light"
          },
          "paper_bgcolor": "white",
          "plot_bgcolor": "#E5ECF6",
          "polar": {
           "angularaxis": {
            "gridcolor": "white",
            "linecolor": "white",
            "ticks": ""
           },
           "bgcolor": "#E5ECF6",
           "radialaxis": {
            "gridcolor": "white",
            "linecolor": "white",
            "ticks": ""
           }
          },
          "scene": {
           "xaxis": {
            "backgroundcolor": "#E5ECF6",
            "gridcolor": "white",
            "gridwidth": 2,
            "linecolor": "white",
            "showbackground": true,
            "ticks": "",
            "zerolinecolor": "white"
           },
           "yaxis": {
            "backgroundcolor": "#E5ECF6",
            "gridcolor": "white",
            "gridwidth": 2,
            "linecolor": "white",
            "showbackground": true,
            "ticks": "",
            "zerolinecolor": "white"
           },
           "zaxis": {
            "backgroundcolor": "#E5ECF6",
            "gridcolor": "white",
            "gridwidth": 2,
            "linecolor": "white",
            "showbackground": true,
            "ticks": "",
            "zerolinecolor": "white"
           }
          },
          "shapedefaults": {
           "line": {
            "color": "#2a3f5f"
           }
          },
          "ternary": {
           "aaxis": {
            "gridcolor": "white",
            "linecolor": "white",
            "ticks": ""
           },
           "baxis": {
            "gridcolor": "white",
            "linecolor": "white",
            "ticks": ""
           },
           "bgcolor": "#E5ECF6",
           "caxis": {
            "gridcolor": "white",
            "linecolor": "white",
            "ticks": ""
           }
          },
          "title": {
           "x": 0.05
          },
          "xaxis": {
           "automargin": true,
           "gridcolor": "white",
           "linecolor": "white",
           "ticks": "",
           "zerolinecolor": "white",
           "zerolinewidth": 2
          },
          "yaxis": {
           "automargin": true,
           "gridcolor": "white",
           "linecolor": "white",
           "ticks": "",
           "zerolinecolor": "white",
           "zerolinewidth": 2
          }
         }
        },
        "xaxis": {
         "anchor": "y",
         "domain": [
          0,
          0.98
         ],
         "title": {
          "text": "Year"
         }
        },
        "yaxis": {
         "anchor": "x",
         "domain": [
          0,
          1
         ],
         "title": {
          "text": "Ton-kilometers"
         }
        }
       }
      },
      "text/html": [
       "<div>\n",
       "        \n",
       "        \n",
       "            <div id=\"dee452ea-6bbf-4dcf-88c8-68e86636a2a4\" class=\"plotly-graph-div\" style=\"height:600px; width:100%;\"></div>\n",
       "            <script type=\"text/javascript\">\n",
       "                require([\"plotly\"], function(Plotly) {\n",
       "                    window.PLOTLYENV=window.PLOTLYENV || {};\n",
       "                    \n",
       "                if (document.getElementById(\"dee452ea-6bbf-4dcf-88c8-68e86636a2a4\")) {\n",
       "                    Plotly.newPlot(\n",
       "                        'dee452ea-6bbf-4dcf-88c8-68e86636a2a4',\n",
       "                        [{\"hoverlabel\": {\"namelength\": 0}, \"hovertemplate\": \"Mode=Road<br>Vehicle=40tlorry<br>Year=%{x}<br>Ton-kilometers=%{y}\", \"legendgroup\": \"Mode=Road\", \"line\": {\"color\": \"#636efa\"}, \"mode\": \"lines\", \"name\": \"Mode=Road\", \"orientation\": \"v\", \"showlegend\": true, \"stackgroup\": \"1\", \"type\": \"scatter\", \"x\": [2010.0, 2011.0, 2012.0, 2013.0, 2014.0, 2015.0, 2016.0, 2017.0, 2018.0, 2019.0, 2020.0, 2021.0, 2022.0, 2023.0, 2024.0, 2025.0, 2026.0, 2027.0, 2028.0, 2029.0, 2030.0, 2031.0, 2032.0, 2033.0, 2034.0, 2035.0, 2036.0, 2037.0, 2038.0, 2039.0, 2040.0, 2041.0, 2042.0, 2043.0, 2044.0, 2045.0, 2046.0, 2047.0, 2048.0, 2049.0, 2050.0], \"xaxis\": \"x\", \"y\": [16255.142807272408, 16103.479469696262, 15974.001727167204, 15868.538373042828, 15788.651164638137, 15735.607196611656, 15710.345043506994, 15713.435137471832, 15745.034528946613, 15804.841024952717, 15892.04765080368, 16005.306108812121, 16142.70640669233, 16301.780806470018, 16479.54308705714, 16672.56826574087, 16877.11677632193, 17089.30014057091, 17305.27582539284, 17521.453870261226, 17734.690560779298, 17942.44241163573, 18142.859689996018, 18334.804275597653, 18517.78902682991, 18691.848398104255, 18857.358131696103, 19014.829178862088, 19164.700540430666, 19307.151519116956, 19441.949694606385, 19568.341452202945, 19684.985658514088, 19789.927059515885, 19880.60213324424, 19953.868329516976, 20006.048658104904, 20032.984458758514, 20030.090518518293, 19992.40834003587, 19914.654907751195], \"yaxis\": \"y\"}, {\"hoverlabel\": {\"namelength\": 0}, \"hovertemplate\": \"Mode=Road<br>Vehicle=28tlorry<br>Year=%{x}<br>Ton-kilometers=%{y}\", \"legendgroup\": \"Mode=Road\", \"line\": {\"color\": \"#636efa\"}, \"mode\": \"lines\", \"name\": \"Mode=Road\", \"orientation\": \"v\", \"showlegend\": false, \"stackgroup\": \"1\", \"type\": \"scatter\", \"x\": [2010.0, 2011.0, 2012.0, 2013.0, 2014.0, 2015.0, 2016.0, 2017.0, 2018.0, 2019.0, 2020.0, 2021.0, 2022.0, 2023.0, 2024.0, 2025.0, 2026.0, 2027.0, 2028.0, 2029.0, 2030.0, 2031.0, 2032.0, 2033.0, 2034.0, 2035.0, 2036.0, 2037.0, 2038.0, 2039.0, 2040.0, 2041.0, 2042.0, 2043.0, 2044.0, 2045.0, 2046.0, 2047.0, 2048.0, 2049.0, 2050.0], \"xaxis\": \"x\", \"y\": [54871.927171007934, 53959.584864051234, 53077.32053044593, 52226.03121984603, 51405.36609008007, 50613.75415933374, 49848.466811298866, 49105.724895331165, 48380.85582861049, 47668.51528398672, 46962.96625940957, 46258.42079749507, 45549.431083877964, 44831.30676021083, 44100.533535194074, 43355.148302630274, 42595.03019648353, 41822.06652646309, 41040.1576912968, 40255.048282894924, 39473.98866754101, 38705.25371961174, 37957.57059875222, 37239.512817680996, 36558.92187154348, 35922.41051124801, 35334.98256163996, 34799.78864747033, 34318.016375360596, 33888.89800050083, 33509.81344952697, 33176.458899429614, 32883.05300675011, 32622.558583264974, 32386.90152530644, 32167.17354813359, 31953.811752049507, 31736.7517054477, 31505.553381604488, 31249.50131246022, 30957.6816024372], \"yaxis\": \"y\"}, {\"hoverlabel\": {\"namelength\": 0}, \"hovertemplate\": \"Mode=Road<br>Vehicle=16tlorry<br>Year=%{x}<br>Ton-kilometers=%{y}\", \"legendgroup\": \"Mode=Road\", \"line\": {\"color\": \"#636efa\"}, \"mode\": \"lines\", \"name\": \"Mode=Road\", \"orientation\": \"v\", \"showlegend\": false, \"stackgroup\": \"1\", \"type\": \"scatter\", \"x\": [2010.0, 2011.0, 2012.0, 2013.0, 2014.0, 2015.0, 2016.0, 2017.0, 2018.0, 2019.0, 2020.0, 2021.0, 2022.0, 2023.0, 2024.0, 2025.0, 2026.0, 2027.0, 2028.0, 2029.0, 2030.0, 2031.0, 2032.0, 2033.0, 2034.0, 2035.0, 2036.0, 2037.0, 2038.0, 2039.0, 2040.0, 2041.0, 2042.0, 2043.0, 2044.0, 2045.0, 2046.0, 2047.0, 2048.0, 2049.0, 2050.0], \"xaxis\": \"x\", \"y\": [4693.039995205627, 4645.948243243975, 4604.909083765824, 4570.413776324192, 4542.87560422345, 4522.623312698347, 4509.893224324887, 4504.820195299263, 4507.427436299909, 4517.616539562615, 4535.157797382052, 4559.683004373606, 4590.682396575668, 4627.507585454257, 4669.383137462634, 4715.427858168277, 4764.686696940648, 4816.172487847949, 4868.914429290114, 4922.009075119766, 4974.667758984375, 5026.253855314351, 5076.304813427068, 5124.535160937425, 5170.81976401109, 5215.1597927901885, 5257.6358420820325, 5298.354592485353, 5337.39529250888, 5374.7612977506615, 5410.3409092424545, 5443.879281164136, 5474.961567560669, 5503.006447821815, 5527.268144928501, 5546.8445591340615, 5560.689413012455, 5567.626522277107, 5566.364650412641, 5555.511835990258, 5533.58849021948], \"yaxis\": \"y\"}, {\"hoverlabel\": {\"namelength\": 0}, \"hovertemplate\": \"Mode=Rail<br>Vehicle=freighttrain<br>Year=%{x}<br>Ton-kilometers=%{y}\", \"legendgroup\": \"Mode=Rail\", \"line\": {\"color\": \"#EF553B\"}, \"mode\": \"lines\", \"name\": \"Mode=Rail\", \"orientation\": \"v\", \"showlegend\": true, \"stackgroup\": \"1\", \"type\": \"scatter\", \"x\": [2010.0, 2011.0, 2012.0, 2013.0, 2014.0, 2015.0, 2016.0, 2017.0, 2018.0, 2019.0, 2020.0, 2021.0, 2022.0, 2023.0, 2024.0, 2025.0, 2026.0, 2027.0, 2028.0, 2029.0, 2030.0, 2031.0, 2032.0, 2033.0, 2034.0, 2035.0, 2036.0, 2037.0, 2038.0, 2039.0, 2040.0, 2041.0, 2042.0, 2043.0, 2044.0, 2045.0, 2046.0, 2047.0, 2048.0, 2049.0, 2050.0], \"xaxis\": \"x\", \"y\": [6648.153503424802, 6724.077606865084, 6827.739448713047, 6963.031139207146, 7134.2708979522595, 7346.254392460638, 7604.29906199542, 7914.274994774039, 8282.613208778988, 8716.281785320392, 9222.715633851249, 9809.687582704615, 10485.107591529439, 11256.739728876599, 12131.834740702272, 13116.683599622831, 14216.112406015225, 15432.95364640352, 16767.541196784427, 18217.28745654712, 19776.40040983887, 21435.787751242915, 23183.17740034542, 25003.453229785573, 26879.175766410975, 28791.23326023929, 30719.55087362017, 32643.785375450396, 34543.940638348875, 36400.85604235524, 38196.545694450106, 39914.384146637705, 41539.151822339896, 43056.966655991324, 44455.13231396771, 45721.93215180551, 46846.39641400096, 47818.06455237714, 48626.758258659815, 49262.37534701624, 49714.710178191905], \"yaxis\": \"y\"}, {\"hoverlabel\": {\"namelength\": 0}, \"hovertemplate\": \"Mode=Inland<br>Vehicle=xlbarge<br>Year=%{x}<br>Ton-kilometers=%{y}\", \"legendgroup\": \"Mode=Inland\", \"line\": {\"color\": \"#00cc96\"}, \"mode\": \"lines\", \"name\": \"Mode=Inland\", \"orientation\": \"v\", \"showlegend\": true, \"stackgroup\": \"1\", \"type\": \"scatter\", \"x\": [2010.0, 2011.0, 2012.0, 2013.0, 2014.0, 2015.0, 2016.0, 2017.0, 2018.0, 2019.0, 2020.0, 2021.0, 2022.0, 2023.0, 2024.0, 2025.0, 2026.0, 2027.0, 2028.0, 2029.0, 2030.0, 2031.0, 2032.0, 2033.0, 2034.0, 2035.0, 2036.0, 2037.0, 2038.0, 2039.0, 2040.0, 2041.0, 2042.0, 2043.0, 2044.0, 2045.0, 2046.0, 2047.0, 2048.0, 2049.0, 2050.0], \"xaxis\": \"x\", \"y\": [6503.246563660325, 6549.8477920556525, 6613.934457396379, 6697.412181480106, 6802.261090797474, 6930.536811238352, 7084.365627266844, 7265.932012619233, 7477.456042768013, 7721.159896721074, 7999.220431919817, 8313.708289291098, 8666.513799807166, 9059.261498570086, 9493.218586978555, 9969.2026227456, 10487.496772984607, 11047.781236822337, 11649.087529364479, 12289.781330864193, 12967.574787852913, 13679.564358822825, 14422.288140369947, 15191.79232284636, 15983.69662272017, 16793.25083437499, 17615.376547202537, 18444.69336684808, 19275.53149118384, 20101.93406272994, 20917.65566822099, 21716.160893006414, 22490.625851569563, 23233.945161668562, 23938.744607945675, 24597.397903503974, 25202.04622590278, 25744.61877465446, 26216.852479879322, 26610.30934918595, 26916.390479250644], \"yaxis\": \"y\"}, {\"hoverlabel\": {\"namelength\": 0}, \"hovertemplate\": \"Mode=Inland<br>Vehicle=lbarge<br>Year=%{x}<br>Ton-kilometers=%{y}\", \"legendgroup\": \"Mode=Inland\", \"line\": {\"color\": \"#00cc96\"}, \"mode\": \"lines\", \"name\": \"Mode=Inland\", \"orientation\": \"v\", \"showlegend\": false, \"stackgroup\": \"1\", \"type\": \"scatter\", \"x\": [2010.0, 2011.0, 2012.0, 2013.0, 2014.0, 2015.0, 2016.0, 2017.0, 2018.0, 2019.0, 2020.0, 2021.0, 2022.0, 2023.0, 2024.0, 2025.0, 2026.0, 2027.0, 2028.0, 2029.0, 2030.0, 2031.0, 2032.0, 2033.0, 2034.0, 2035.0, 2036.0, 2037.0, 2038.0, 2039.0, 2040.0, 2041.0, 2042.0, 2043.0, 2044.0, 2045.0, 2046.0, 2047.0, 2048.0, 2049.0, 2050.0], \"xaxis\": \"x\", \"y\": [8840.368000288572, 8824.598793380248, 8825.828292175724, 8845.684033673837, 8885.743466422156, 8947.523483691763, 9032.464143856785, 9141.905607820629, 9277.05681821926, 9438.956959284476, 9628.428207615923, 9846.022784411673, 10091.966851172014, 10366.105154973822, 10667.85350305294, 10996.164560195304, 11349.514178859605, 11725.913704227416, 12122.94978685594, 12537.85096356044, 12967.574787852913, 13408.905175219465, 13858.54927016545, 14313.22133281057, 14769.704157326853, 15224.883125930817, 15675.751453342711, 16119.39083900214, 16552.933846345524, 16973.515043321833, 17378.219476855582, 17764.03381444534, 18127.80383636092, 18466.200940118008, 18775.69805530786, 19052.55369730238, 19292.803027540525, 19492.25438446063, 19646.48962578063, 19750.866868579833, 19800.524580493973], \"yaxis\": \"y\"}, {\"hoverlabel\": {\"namelength\": 0}, \"hovertemplate\": \"Mode=Inland<br>Vehicle=mbarge<br>Year=%{x}<br>Ton-kilometers=%{y}\", \"legendgroup\": \"Mode=Inland\", \"line\": {\"color\": \"#00cc96\"}, \"mode\": \"lines\", \"name\": \"Mode=Inland\", \"orientation\": \"v\", \"showlegend\": false, \"stackgroup\": \"1\", \"type\": \"scatter\", \"x\": [2010.0, 2011.0, 2012.0, 2013.0, 2014.0, 2015.0, 2016.0, 2017.0, 2018.0, 2019.0, 2020.0, 2021.0, 2022.0, 2023.0, 2024.0, 2025.0, 2026.0, 2027.0, 2028.0, 2029.0, 2030.0, 2031.0, 2032.0, 2033.0, 2034.0, 2035.0, 2036.0, 2037.0, 2038.0, 2039.0, 2040.0, 2041.0, 2042.0, 2043.0, 2044.0, 2045.0, 2046.0, 2047.0, 2048.0, 2049.0, 2050.0], \"xaxis\": \"x\", \"y\": [11119.985353510277, 11018.224407512525, 10932.132510518974, 10863.063086758688, 10812.208888241408, 10780.586762480583, 10769.018053854392, 10778.104525501045, 10808.19926913738, 10859.375164675728, 10931.39044816251, 11023.656073893308, 11135.208492717342, 11264.692332669607, 11410.359959885382, 11570.091809784326, 11741.441919045106, 11921.709881539859, 12108.035542782822, 12297.510326093454, 12487.294240154657, 12674.725221369607, 12857.409390072036, 13033.281482010698, 13200.629844165389, 13358.086141575204, 13504.583663874828, 13639.292910874587, 13761.543946635367, 13870.74432343683, 13966.30129081889, 14047.553076654798, 14113.711897969704, 14163.820043179981, 14196.718343291914, 14211.02508118922, 14205.12363801786, 14177.157014940203, 14125.027432879291, 14046.399529583588, 13938.706037387583], \"yaxis\": \"y\"}, {\"hoverlabel\": {\"namelength\": 0}, \"hovertemplate\": \"Mode=Inland<br>Vehicle=sbarge<br>Year=%{x}<br>Ton-kilometers=%{y}\", \"legendgroup\": \"Mode=Inland\", \"line\": {\"color\": \"#00cc96\"}, \"mode\": \"lines\", \"name\": \"Mode=Inland\", \"orientation\": \"v\", \"showlegend\": false, \"stackgroup\": \"1\", \"type\": \"scatter\", \"x\": [2010.0, 2011.0, 2012.0, 2013.0, 2014.0, 2015.0, 2016.0, 2017.0, 2018.0, 2019.0, 2020.0, 2021.0, 2022.0, 2023.0, 2024.0, 2025.0, 2026.0, 2027.0, 2028.0, 2029.0, 2030.0, 2031.0, 2032.0, 2033.0, 2034.0, 2035.0, 2036.0, 2037.0, 2038.0, 2039.0, 2040.0, 2041.0, 2042.0, 2043.0, 2044.0, 2045.0, 2046.0, 2047.0, 2048.0, 2049.0, 2050.0], \"xaxis\": \"x\", \"y\": [20609.17835367693, 20309.33428217939, 20033.005531848168, 19782.225603729683, 19558.675043738807, 19363.661000625547, 19198.092613973942, 19062.452777667175, 18956.766046926867, 18880.567798621272, 18832.87410796458, 18812.16037854976, 18816.35408075308, 18842.847587852906, 18888.540295370123, 18949.912932284384, 19023.13718616183, 19104.21809878118, 19189.159091982572, 19274.136819658874, 19355.66718543347, 19430.742555611494, 19496.925657809337, 19552.388636143216, 19595.89478292962, 19626.72925409663, 19644.589783963525, 19649.45395619453, 19641.438845748766, 19620.66607797521, 19587.143786981742, 19540.670370052783, 19480.7615347163, 19406.600254923833, 19317.00665335139, 19210.423479414287, 19084.91363504289, 18938.166366381127, 18767.509160078025, 18569.92307144493, 18342.05988637738], \"yaxis\": \"y\"}],\n",
       "                        {\"height\": 600, \"legend\": {\"font\": {\"size\": 10}, \"tracegroupgap\": 0, \"traceorder\": \"reversed\", \"y\": 0.5}, \"margin\": {\"t\": 60}, \"template\": {\"data\": {\"bar\": [{\"error_x\": {\"color\": \"#2a3f5f\"}, \"error_y\": {\"color\": \"#2a3f5f\"}, \"marker\": {\"line\": {\"color\": \"#E5ECF6\", \"width\": 0.5}}, \"type\": \"bar\"}], \"barpolar\": [{\"marker\": {\"line\": {\"color\": \"#E5ECF6\", \"width\": 0.5}}, \"type\": \"barpolar\"}], \"carpet\": [{\"aaxis\": {\"endlinecolor\": \"#2a3f5f\", \"gridcolor\": \"white\", \"linecolor\": \"white\", \"minorgridcolor\": \"white\", \"startlinecolor\": \"#2a3f5f\"}, \"baxis\": {\"endlinecolor\": \"#2a3f5f\", \"gridcolor\": \"white\", \"linecolor\": \"white\", \"minorgridcolor\": \"white\", \"startlinecolor\": \"#2a3f5f\"}, \"type\": \"carpet\"}], \"choropleth\": [{\"colorbar\": {\"outlinewidth\": 0, \"ticks\": \"\"}, \"type\": \"choropleth\"}], \"contour\": [{\"colorbar\": {\"outlinewidth\": 0, \"ticks\": \"\"}, \"colorscale\": [[0.0, \"#0d0887\"], [0.1111111111111111, \"#46039f\"], [0.2222222222222222, \"#7201a8\"], [0.3333333333333333, \"#9c179e\"], [0.4444444444444444, \"#bd3786\"], [0.5555555555555556, \"#d8576b\"], [0.6666666666666666, \"#ed7953\"], [0.7777777777777778, \"#fb9f3a\"], [0.8888888888888888, \"#fdca26\"], [1.0, \"#f0f921\"]], \"type\": \"contour\"}], \"contourcarpet\": [{\"colorbar\": {\"outlinewidth\": 0, \"ticks\": \"\"}, \"type\": \"contourcarpet\"}], \"heatmap\": [{\"colorbar\": {\"outlinewidth\": 0, \"ticks\": \"\"}, \"colorscale\": [[0.0, \"#0d0887\"], [0.1111111111111111, \"#46039f\"], [0.2222222222222222, \"#7201a8\"], [0.3333333333333333, \"#9c179e\"], [0.4444444444444444, \"#bd3786\"], [0.5555555555555556, \"#d8576b\"], [0.6666666666666666, \"#ed7953\"], [0.7777777777777778, \"#fb9f3a\"], [0.8888888888888888, \"#fdca26\"], [1.0, \"#f0f921\"]], \"type\": \"heatmap\"}], \"heatmapgl\": [{\"colorbar\": {\"outlinewidth\": 0, \"ticks\": \"\"}, \"colorscale\": [[0.0, \"#0d0887\"], [0.1111111111111111, \"#46039f\"], [0.2222222222222222, \"#7201a8\"], [0.3333333333333333, \"#9c179e\"], [0.4444444444444444, \"#bd3786\"], [0.5555555555555556, \"#d8576b\"], [0.6666666666666666, \"#ed7953\"], [0.7777777777777778, \"#fb9f3a\"], [0.8888888888888888, \"#fdca26\"], [1.0, \"#f0f921\"]], \"type\": \"heatmapgl\"}], \"histogram\": [{\"marker\": {\"colorbar\": {\"outlinewidth\": 0, \"ticks\": \"\"}}, \"type\": \"histogram\"}], \"histogram2d\": [{\"colorbar\": {\"outlinewidth\": 0, \"ticks\": \"\"}, \"colorscale\": [[0.0, \"#0d0887\"], [0.1111111111111111, \"#46039f\"], [0.2222222222222222, \"#7201a8\"], [0.3333333333333333, \"#9c179e\"], [0.4444444444444444, \"#bd3786\"], [0.5555555555555556, \"#d8576b\"], [0.6666666666666666, \"#ed7953\"], [0.7777777777777778, \"#fb9f3a\"], [0.8888888888888888, \"#fdca26\"], [1.0, \"#f0f921\"]], \"type\": \"histogram2d\"}], \"histogram2dcontour\": [{\"colorbar\": {\"outlinewidth\": 0, \"ticks\": \"\"}, \"colorscale\": [[0.0, \"#0d0887\"], [0.1111111111111111, \"#46039f\"], [0.2222222222222222, \"#7201a8\"], [0.3333333333333333, \"#9c179e\"], [0.4444444444444444, \"#bd3786\"], [0.5555555555555556, \"#d8576b\"], [0.6666666666666666, \"#ed7953\"], [0.7777777777777778, \"#fb9f3a\"], [0.8888888888888888, \"#fdca26\"], [1.0, \"#f0f921\"]], \"type\": \"histogram2dcontour\"}], \"mesh3d\": [{\"colorbar\": {\"outlinewidth\": 0, \"ticks\": \"\"}, \"type\": \"mesh3d\"}], \"parcoords\": [{\"line\": {\"colorbar\": {\"outlinewidth\": 0, \"ticks\": \"\"}}, \"type\": \"parcoords\"}], \"scatter\": [{\"marker\": {\"colorbar\": {\"outlinewidth\": 0, \"ticks\": \"\"}}, \"type\": \"scatter\"}], \"scatter3d\": [{\"line\": {\"colorbar\": {\"outlinewidth\": 0, \"ticks\": \"\"}}, \"marker\": {\"colorbar\": {\"outlinewidth\": 0, \"ticks\": \"\"}}, \"type\": \"scatter3d\"}], \"scattercarpet\": [{\"marker\": {\"colorbar\": {\"outlinewidth\": 0, \"ticks\": \"\"}}, \"type\": \"scattercarpet\"}], \"scattergeo\": [{\"marker\": {\"colorbar\": {\"outlinewidth\": 0, \"ticks\": \"\"}}, \"type\": \"scattergeo\"}], \"scattergl\": [{\"marker\": {\"colorbar\": {\"outlinewidth\": 0, \"ticks\": \"\"}}, \"type\": \"scattergl\"}], \"scattermapbox\": [{\"marker\": {\"colorbar\": {\"outlinewidth\": 0, \"ticks\": \"\"}}, \"type\": \"scattermapbox\"}], \"scatterpolar\": [{\"marker\": {\"colorbar\": {\"outlinewidth\": 0, \"ticks\": \"\"}}, \"type\": \"scatterpolar\"}], \"scatterpolargl\": [{\"marker\": {\"colorbar\": {\"outlinewidth\": 0, \"ticks\": \"\"}}, \"type\": \"scatterpolargl\"}], \"scatterternary\": [{\"marker\": {\"colorbar\": {\"outlinewidth\": 0, \"ticks\": \"\"}}, \"type\": \"scatterternary\"}], \"surface\": [{\"colorbar\": {\"outlinewidth\": 0, \"ticks\": \"\"}, \"colorscale\": [[0.0, \"#0d0887\"], [0.1111111111111111, \"#46039f\"], [0.2222222222222222, \"#7201a8\"], [0.3333333333333333, \"#9c179e\"], [0.4444444444444444, \"#bd3786\"], [0.5555555555555556, \"#d8576b\"], [0.6666666666666666, \"#ed7953\"], [0.7777777777777778, \"#fb9f3a\"], [0.8888888888888888, \"#fdca26\"], [1.0, \"#f0f921\"]], \"type\": \"surface\"}], \"table\": [{\"cells\": {\"fill\": {\"color\": \"#EBF0F8\"}, \"line\": {\"color\": \"white\"}}, \"header\": {\"fill\": {\"color\": \"#C8D4E3\"}, \"line\": {\"color\": \"white\"}}, \"type\": \"table\"}]}, \"layout\": {\"annotationdefaults\": {\"arrowcolor\": \"#2a3f5f\", \"arrowhead\": 0, \"arrowwidth\": 1}, \"colorscale\": {\"diverging\": [[0, \"#8e0152\"], [0.1, \"#c51b7d\"], [0.2, \"#de77ae\"], [0.3, \"#f1b6da\"], [0.4, \"#fde0ef\"], [0.5, \"#f7f7f7\"], [0.6, \"#e6f5d0\"], [0.7, \"#b8e186\"], [0.8, \"#7fbc41\"], [0.9, \"#4d9221\"], [1, \"#276419\"]], \"sequential\": [[0.0, \"#0d0887\"], [0.1111111111111111, \"#46039f\"], [0.2222222222222222, \"#7201a8\"], [0.3333333333333333, \"#9c179e\"], [0.4444444444444444, \"#bd3786\"], [0.5555555555555556, \"#d8576b\"], [0.6666666666666666, \"#ed7953\"], [0.7777777777777778, \"#fb9f3a\"], [0.8888888888888888, \"#fdca26\"], [1.0, \"#f0f921\"]], \"sequentialminus\": [[0.0, \"#0d0887\"], [0.1111111111111111, \"#46039f\"], [0.2222222222222222, \"#7201a8\"], [0.3333333333333333, \"#9c179e\"], [0.4444444444444444, \"#bd3786\"], [0.5555555555555556, \"#d8576b\"], [0.6666666666666666, \"#ed7953\"], [0.7777777777777778, \"#fb9f3a\"], [0.8888888888888888, \"#fdca26\"], [1.0, \"#f0f921\"]]}, \"colorway\": [\"#636efa\", \"#EF553B\", \"#00cc96\", \"#ab63fa\", \"#FFA15A\", \"#19d3f3\", \"#FF6692\", \"#B6E880\", \"#FF97FF\", \"#FECB52\"], \"font\": {\"color\": \"#2a3f5f\"}, \"geo\": {\"bgcolor\": \"white\", \"lakecolor\": \"white\", \"landcolor\": \"#E5ECF6\", \"showlakes\": true, \"showland\": true, \"subunitcolor\": \"white\"}, \"hoverlabel\": {\"align\": \"left\"}, \"hovermode\": \"closest\", \"mapbox\": {\"style\": \"light\"}, \"paper_bgcolor\": \"white\", \"plot_bgcolor\": \"#E5ECF6\", \"polar\": {\"angularaxis\": {\"gridcolor\": \"white\", \"linecolor\": \"white\", \"ticks\": \"\"}, \"bgcolor\": \"#E5ECF6\", \"radialaxis\": {\"gridcolor\": \"white\", \"linecolor\": \"white\", \"ticks\": \"\"}}, \"scene\": {\"xaxis\": {\"backgroundcolor\": \"#E5ECF6\", \"gridcolor\": \"white\", \"gridwidth\": 2, \"linecolor\": \"white\", \"showbackground\": true, \"ticks\": \"\", \"zerolinecolor\": \"white\"}, \"yaxis\": {\"backgroundcolor\": \"#E5ECF6\", \"gridcolor\": \"white\", \"gridwidth\": 2, \"linecolor\": \"white\", \"showbackground\": true, \"ticks\": \"\", \"zerolinecolor\": \"white\"}, \"zaxis\": {\"backgroundcolor\": \"#E5ECF6\", \"gridcolor\": \"white\", \"gridwidth\": 2, \"linecolor\": \"white\", \"showbackground\": true, \"ticks\": \"\", \"zerolinecolor\": \"white\"}}, \"shapedefaults\": {\"line\": {\"color\": \"#2a3f5f\"}}, \"ternary\": {\"aaxis\": {\"gridcolor\": \"white\", \"linecolor\": \"white\", \"ticks\": \"\"}, \"baxis\": {\"gridcolor\": \"white\", \"linecolor\": \"white\", \"ticks\": \"\"}, \"bgcolor\": \"#E5ECF6\", \"caxis\": {\"gridcolor\": \"white\", \"linecolor\": \"white\", \"ticks\": \"\"}}, \"title\": {\"x\": 0.05}, \"xaxis\": {\"automargin\": true, \"gridcolor\": \"white\", \"linecolor\": \"white\", \"ticks\": \"\", \"zerolinecolor\": \"white\", \"zerolinewidth\": 2}, \"yaxis\": {\"automargin\": true, \"gridcolor\": \"white\", \"linecolor\": \"white\", \"ticks\": \"\", \"zerolinecolor\": \"white\", \"zerolinewidth\": 2}}}, \"xaxis\": {\"anchor\": \"y\", \"domain\": [0.0, 0.98], \"title\": {\"text\": \"Year\"}}, \"yaxis\": {\"anchor\": \"x\", \"domain\": [0.0, 1.0], \"title\": {\"text\": \"Ton-kilometers\"}}},\n",
       "                        {\"responsive\": true}\n",
       "                    ).then(function(){\n",
       "                            \n",
       "var gd = document.getElementById('dee452ea-6bbf-4dcf-88c8-68e86636a2a4');\n",
       "var x = new MutationObserver(function (mutations, observer) {{\n",
       "        var display = window.getComputedStyle(gd).display;\n",
       "        if (!display || display === 'none') {{\n",
       "            console.log([gd, 'removed!']);\n",
       "            Plotly.purge(gd);\n",
       "            observer.disconnect();\n",
       "        }}\n",
       "}});\n",
       "\n",
       "// Listen for the removal of the full notebook cells\n",
       "var notebookContainer = gd.closest('#notebook-container');\n",
       "if (notebookContainer) {{\n",
       "    x.observe(notebookContainer, {childList: true});\n",
       "}}\n",
       "\n",
       "// Listen for the clearing of the current output cell\n",
       "var outputEl = gd.closest('.output');\n",
       "if (outputEl) {{\n",
       "    x.observe(outputEl, {childList: true});\n",
       "}}\n",
       "\n",
       "                        })\n",
       "                };\n",
       "                });\n",
       "            </script>\n",
       "        </div>"
      ]
     },
     "metadata": {},
     "output_type": "display_data"
    },
    {
     "data": {
      "text/plain": [
       "<Figure size 432x288 with 0 Axes>"
      ]
     },
     "metadata": {},
     "output_type": "display_data"
    }
   ],
   "source": [
    "###    R U N   F U N C T I O N S   F R E I G H T   T R A N S P O R T \n",
    "\n",
    "### calculates shares per vehicle type\n",
    "dfHF, DHF = RoadFirst(x, PolyHF)\n",
    "BinaryShifts(x, DHF, 'Freight', figs=False)\n",
    "PlotService(x, dfHF, y='Share', scn='HoogFreight', figs=True)\n",
    "PlotService(x, dfHF, y='Ton-kilometers', scn='HoogFreight', figs=True)\n",
    "\n",
    "### calculates the amount of vehicles needed to supply service\n",
    "\n"
   ]
  },
  {
   "cell_type": "code",
   "execution_count": null,
   "metadata": {
    "scrolled": true
   },
   "outputs": [],
   "source": []
  },
  {
   "cell_type": "code",
   "execution_count": null,
   "metadata": {},
   "outputs": [],
   "source": []
  },
  {
   "cell_type": "code",
   "execution_count": null,
   "metadata": {},
   "outputs": [],
   "source": []
  },
  {
   "cell_type": "code",
   "execution_count": null,
   "metadata": {},
   "outputs": [],
   "source": []
  },
  {
   "cell_type": "code",
   "execution_count": null,
   "metadata": {},
   "outputs": [],
   "source": []
  }
 ],
 "metadata": {
  "kernelspec": {
   "display_name": "Python 3",
   "language": "python",
   "name": "python3"
  },
  "language_info": {
   "codemirror_mode": {
    "name": "ipython",
    "version": 3
   },
   "file_extension": ".py",
   "mimetype": "text/x-python",
   "name": "python",
   "nbconvert_exporter": "python",
   "pygments_lexer": "ipython3",
   "version": "3.7.3"
  }
 },
 "nbformat": 4,
 "nbformat_minor": 2
}
