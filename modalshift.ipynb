{
 "cells": [
  {
   "cell_type": "code",
   "execution_count": 1,
   "metadata": {},
   "outputs": [],
   "source": [
    "import numpy as np\n",
    "import pandas as pd\n",
    "import matplotlib.pyplot as plt\n",
    "import plotly.express as px\n",
    "import seaborn as sns\n",
    "import scipy\n",
    "import scipy.stats"
   ]
  },
  {
   "cell_type": "code",
   "execution_count": 75,
   "metadata": {},
   "outputs": [],
   "source": [
    "#####   F U N C T I O N S\n",
    "\n",
    "### generic functions\n",
    "\n",
    "def PolyFit(x, deg, wlo, scn, col, n=3, figs=False):\n",
    "    wlo = wlo.dropna(subset=[col])\n",
    "    \n",
    "    ### fourth order polyfit\n",
    "    poly = np.poly1d(np.polyfit(wlo.index, wlo[col], deg))\n",
    "    \n",
    "    ### plot\n",
    "    plt.plot(x, poly(x), 'r-',\n",
    "             list(wlo.index)[:-n], wlo[col][:-n], 'b.', \n",
    "             list(wlo.index)[-n:], wlo[col][-n:], 'g*', \n",
    "            )\n",
    "#     for mode in list(wlo.columns[1:]):\n",
    "#         plt.plot(list(wlo.index), wlo[mode],'.')\n",
    "    plt.legend(('interpolation','historical','WLO'), loc='right')\n",
    "    if scn=='HP' or scn=='LP':\n",
    "        plt.ylabel('Person-kilometers')\n",
    "    if scn=='HF' or scn=='LF':\n",
    "        plt.ylabel('Ton-kilometers')\n",
    "    plt.ylim(0,1.1*max(poly(x)))\n",
    "    plt.savefig(str('figures/WLO_Service_'\\\n",
    "                    +scn+'_'\n",
    "                    +str(int(min(x)))\\\n",
    "                    +'-'+str(int(max(x)))\\\n",
    "                    +'.png'), dpi=400)\n",
    "    if figs is True:\n",
    "        plt.show()\n",
    "    plt.clf()\n",
    "    return poly(x)\n",
    "\n",
    "\n",
    "def InnoDiff(x, start=0, end=1, steepness=1, midpoint=2030):\n",
    "    if end < start:\n",
    "        y = np.ones(len(x))*start - np.ones(len(x))*(start-end) / (1+np.exp(-steepness*(x-midpoint)))\n",
    "    elif end >= start: \n",
    "        y = np.ones(len(x))*start + np.ones(len(x))*(end-start) / (1+np.exp(-steepness*(x-midpoint)))\n",
    "    return y\n",
    "\n",
    "\n",
    "def BinaryShifts(x, D, mode, figs=False):\n",
    "    for key in D.keys():\n",
    "        pal = sns.color_palette(\"Set1\")\n",
    "        y = [D[key], 1-D[key] ]\n",
    "        plt.stackplot(x, y, colors=pal, alpha=0.6 )\n",
    "        plt.savefig(str('figures/WLOHP_Share'\\\n",
    "                        +'_'+mode\n",
    "                        +key\n",
    "                        +'.png'), dpi=300)\n",
    "        if figs is True:\n",
    "            plt.show()\n",
    "        plt.clf()\n",
    "\n",
    "    \n",
    "def PlotService(x, df, y='Share', \n",
    "                scn='HoogPerson', \n",
    "                figs=False, \n",
    "                savefig='pdf', \n",
    "                color='Mode',\n",
    "                group='Vehicle',\n",
    "                ):\n",
    "    fig = px.area(df, x = 'Year', y = y, \n",
    "                      color = color, \n",
    "                      line_group = group,\n",
    "                      width = 800,\n",
    "                      height = 500,\n",
    "                      ).update_layout(legend=dict(\n",
    "                                                  y=0.5, \n",
    "                                                  traceorder='reversed', \n",
    "                                                  font_size=10,\n",
    "                                                  ))\n",
    "    if figs is True:\n",
    "        fig.show()\n",
    "        \n",
    "    fig.write_image(str('figures/WLO_'\\\n",
    "                                +scn+'_'\\\n",
    "                                +y+'_'\\\n",
    "                                +str(int(min(x)))\\\n",
    "                                +'-'+str(int(max(x)))\\\n",
    "                                +'.'+savefig))\n",
    "\n",
    "\n",
    "def StackPlot(x, a, b, path, figs=False):\n",
    "    plt.stackplot(x, a, b)\n",
    "    plt.savefig(str('figures/'+path), dpi=300)\n",
    "    if figs is True:\n",
    "        plt.show()\n",
    "    plt.clf()\n",
    "    \n",
    "    \n",
    "def WeibCorr(x, start=2000, scale=10, shape=2, magn=1e3):\n",
    "    weibcorr = magn * scipy.stats.weibull_min.pdf(x,shape, loc=start, scale=scale)\n",
    "    return weibcorr\n",
    "\n",
    "\n",
    "###   PERSON TRANSPORT\n",
    "\n",
    "def CarsFirst(x, poly):\n",
    "    df = pd.DataFrame()\n",
    "    keys = ['ice', 'ev', 'hev', 'train', 'metro-bus', 'ebike', 'bike', 'emoped', 'moped', 'walk']\n",
    "    for key in keys:\n",
    "        temp = pd.DataFrame()\n",
    "        temp['Year'] = x\n",
    "        temp['Vehicle'] = key\n",
    "        temp['Share'] = np.nan\n",
    "        df = pd.concat([df, temp], ignore_index=True, sort=False)\n",
    "    \n",
    "    D = dict()\n",
    "        \n",
    "    ### for drive first\n",
    "\n",
    "    D['drive'] = InnoDiff(x, start=0.76, end=0.1,\n",
    "                          steepness=0.25, midpoint=2035)\n",
    "\n",
    "    D['ice'] = InnoDiff(x,start=0.99,end=0.15,\n",
    "                        steepness=0.3,midpoint=2030)\n",
    "\n",
    "    D['ev'] = InnoDiff(x, start=0.01, end=0.95,\n",
    "                   steepness=0.3, midpoint=2025)\n",
    "\n",
    "    D['public'] = InnoDiff(x, start=0.50, end=0.72,\n",
    "                     steepness=0.2, midpoint=2030 )\n",
    "\n",
    "    D['train'] = InnoDiff(x, start=0.77, end=0.77,\n",
    "                      steepness=1,  midpoint=2040 )\n",
    "\n",
    "    D['cycle'] = InnoDiff(x, start=0.80, end=0.80,\n",
    "                     steepness=1, midpoint=2035 )\n",
    "\n",
    "    D['bicycle'] = InnoDiff(x, start=0.93, end=0.85,\n",
    "                     steepness=0.3, midpoint=2030 )\n",
    "\n",
    "    D['bike'] = InnoDiff(x, start=1, end=0.8,\n",
    "                     steepness=0.25, midpoint=2022 )\n",
    "\n",
    "    D['moped'] = InnoDiff(x, start=0.999, end=0.001,\n",
    "                      steepness=0.3, midpoint=2025 )\n",
    "    \n",
    "    ones = np.ones(len(x))\n",
    "    ### cars\n",
    "    df.loc[df['Vehicle']=='ice', 'Share'] = D['drive'] * D['ice']\n",
    "    df.loc[df['Vehicle']=='ev', 'Share'] = D['drive'] * (ones - D['ice']) * D['ev']\n",
    "    df.loc[df['Vehicle']=='hev', 'Share'] = D['drive'] * (ones - D['ice'])* (ones - D['ev'])\n",
    "\n",
    "    ### public transport\n",
    "    df.loc[df['Vehicle']=='train', 'Share'] = (ones - D['drive']) * D['public'] * D['train']\n",
    "    df.loc[df['Vehicle']=='metro-bus', 'Share'] = (ones - D['drive']) * D['public'] * (ones - D['train'])\n",
    "\n",
    "    ### slow transport\n",
    "    df.loc[df['Vehicle']=='bike', 'Share'] = (ones - D['drive']) * (ones - D['public']) * D['cycle'] * D['bicycle'] * D['bike']\n",
    "    df.loc[df['Vehicle']=='ebike', 'Share'] = (ones - D['drive']) * (ones - D['public']) * D['cycle'] * D['bicycle'] * (ones - D['bike'])\n",
    "    df.loc[df['Vehicle']=='moped', 'Share'] = (ones - D['drive']) * (ones - D['public']) * D['cycle'] * (ones - D['bicycle']) * D['moped']\n",
    "    df.loc[df['Vehicle']=='emoped', 'Share'] = (ones - D['drive']) * (ones - D['public']) * D['cycle'] * (ones - D['bicycle']) * (ones - D['moped'])\n",
    "    df.loc[df['Vehicle']=='walk', 'Share'] = (ones - D['drive']) * (ones - D['public']) * (ones - D['cycle'])\n",
    "    \n",
    "    df['Person-kilometers'] = None\n",
    "    for i in df['Vehicle'].unique():\n",
    "        df.loc[df['Vehicle']==i, 'Person-kilometers'] = df.loc[df['Vehicle']==i, 'Share'].multiply(poly)\n",
    "        \n",
    "    modemap = {'Driving' : ['ice', 'ev', 'hev'],\n",
    "               'Transit' : ['train', 'metro-bus'],\n",
    "               'Cycling' : ['ebike', 'bike', 'moped', 'emoped'],\n",
    "               'Walking' : ['walk'],\n",
    "               }\n",
    "    for key in list(modemap.keys()):\n",
    "        for i in range(len(modemap[key])):\n",
    "            df.loc[df['Vehicle']==modemap[key][i], 'Mode'] = key\n",
    "    \n",
    "    for each in df['Mode'].unique():\n",
    "        print(each, round(df.loc[df['Year']==2050]\\\n",
    "                            .loc[df['Mode']==each,'Share'].sum(),3)\\\n",
    "              )\n",
    "    return df, D\n",
    "\n",
    "\n",
    "def ServiceToPersonVehicles(x, df, service='Person-kilometers', figs=False):\n",
    "    STV = dict()\n",
    "    keys = ['ice', 'ev', 'hev', 'train', 'metro-bus', 'ebike', 'bike', 'emoped', 'moped', 'walk']\n",
    "    \n",
    "    ### cars per person kilometer\n",
    "    CarPerPkm = 6.34e6/136.5\n",
    "    CarCurve = InnoDiff(x, start=CarPerPkm, end=CarPerPkm*0.5,\n",
    "                        steepness=0.3, midpoint=2030 )\n",
    "    CarCorr = WeibCorr(x, start=2000, scale=20, shape=3, magn=2.3e5)\n",
    "    STV['ice'] = CarCurve + CarCorr \n",
    "    STV['ev'] = STV['ice']\n",
    "    STV['hev'] = STV['ice']\n",
    "    StackPlot(x, CarCurve, CarCorr, 'CarsPerPersonkm.png', figs=False)\n",
    "    \n",
    "    ### bikes per person kilometer, assumed to be constant\n",
    "    BikePerPkm = 17.8e6/15.5/20*19\n",
    "    BikeCurve = InnoDiff(x, start=BikePerPkm, end=BikePerPkm*0.75,\n",
    "                      steepness=0.3, midpoint=2030 )\n",
    "    BikeCorr = WeibCorr(x, start=2000, scale=20, shape=3, magn=5e6)\n",
    "    STV['bike'] = BikeCurve +  BikeCorr\n",
    "    STV['ebike'] = STV['bike']\n",
    "    StackPlot(x, BikeCurve, BikeCorr, 'BikesPerPersonkm.png', figs=False)\n",
    "    \n",
    "    ### train capacity per person kilometer, assumed to be constant\n",
    "    TrainPerPkm = 1301/17.1\n",
    "    TrainCurve = InnoDiff(x, start=TrainPerPkm, end=TrainPerPkm,\n",
    "                      steepness=1, midpoint=2035 )\n",
    "    STV['train'] = TrainCurve\n",
    "\n",
    "    ### buses per person kilometer, assumed to be constant\n",
    "    BusPerPkm = 11634/6.7\n",
    "    BusCurve = InnoDiff(x, start=BusPerPkm, end=BusPerPkm,\n",
    "                      steepness=1, midpoint=2035 )\n",
    "    STV['metro-bus'] = BusCurve\n",
    "    \n",
    "    ### mopeds per person kilometer, assumed to be constant\n",
    "    MopedPerPkm = 0.7e6/1\n",
    "    MopedCurve = InnoDiff(x, start=MopedPerPkm, end=MopedPerPkm*0.3,\n",
    "                      steepness=0.3, midpoint=2035 )\n",
    "    STV['moped'] = MopedCurve\n",
    "    STV['emoped'] = MopedCurve\n",
    "    \n",
    "    ###   M A T H \n",
    "    df['VehicleCount'] = None\n",
    "    for key in STV.keys():\n",
    "        df.loc[df['Vehicle']==key, 'VehicleCount'] = STV[key] * df.loc[df['Vehicle']==key, service]\n",
    "        \n",
    "    return df, STV\n",
    "\n",
    "\n",
    "###   FREIGHT TRANSPORT\n",
    "\n",
    "def RoadFirst(x, poly):\n",
    "    df = pd.DataFrame()\n",
    "    keys = ['40tlorry', '28tlorry', '16tlorry', 'freighttrain', 'xlbarge', 'lbarge', 'mbarge', 'sbarge']\n",
    "    for key in keys:\n",
    "        temp = pd.DataFrame()\n",
    "        temp['Year'] = x\n",
    "        temp['Vehicle'] = key\n",
    "        temp['Share'] = np.nan\n",
    "        df = pd.concat([df, temp], ignore_index=True, sort=False)\n",
    "        \n",
    "    D = dict()\n",
    "    D['ROAD'] = InnoDiff(x, start=0.60, end=0.29,\n",
    "                         steepness=0.2, midpoint=2035)\n",
    "    D['16TL'] = InnoDiff(x, start=0.06, end=0.10,\n",
    "                         steepness=0.2, midpoint=2030)\n",
    "    D['40TL'] = InnoDiff(x, start=0.22, end=0.40,\n",
    "                         steepness=0.2, midpoint=2030)\n",
    "    D['RAIL'] = InnoDiff(x, start=0.11, end=0.4,\n",
    "                         steepness=0.2, midpoint=2030)\n",
    "    D['SBARGE'] = InnoDiff(x, start=0.47, end=0.2,\n",
    "                         steepness=0.1, midpoint=2030)\n",
    "    D['MBARGE'] = InnoDiff(x, start=0.45, end=0.2,\n",
    "                         steepness=0.1, midpoint=2030)\n",
    "    D['LBARGE'] = InnoDiff(x, start=0.60, end=0.4,\n",
    "                         steepness=0.1, midpoint=2030)\n",
    "    \n",
    "    \n",
    "    ones = np.ones(len(x))\n",
    "    df.loc[df['Vehicle']=='16tlorry', 'Share'] = D['ROAD'] * D['16TL']\n",
    "    df.loc[df['Vehicle']=='28tlorry', 'Share'] = D['ROAD'] * (ones - D['16TL']) * (ones - D['40TL'])\n",
    "    df.loc[df['Vehicle']=='40tlorry', 'Share'] = D['ROAD'] * (ones - D['16TL']) * D['40TL']\n",
    "\n",
    "    df.loc[df['Vehicle']=='freighttrain', 'Share'] = (ones - D['ROAD']) * D['RAIL']\n",
    "    \n",
    "    df.loc[df['Vehicle']=='sbarge', 'Share'] = (ones - D['ROAD']) * (ones - D['RAIL']) * D['SBARGE']\n",
    "    df.loc[df['Vehicle']=='mbarge', 'Share'] = (ones - D['ROAD']) * (ones - D['RAIL']) * (ones - D['SBARGE']) * D['MBARGE'] \n",
    "    df.loc[df['Vehicle']=='lbarge', 'Share'] = (ones - D['ROAD']) * (ones - D['RAIL']) * (ones - D['SBARGE']) * (ones - D['MBARGE']) * D['LBARGE'] \n",
    "    df.loc[df['Vehicle']=='xlbarge', 'Share'] = (ones - D['ROAD']) * (ones - D['RAIL']) * (ones - D['SBARGE']) * (ones - D['MBARGE']) * (ones - D['LBARGE'])\n",
    "    \n",
    "    df['Ton-kilometers'] = None\n",
    "    for i in df['Vehicle'].unique():\n",
    "        df.loc[df['Vehicle']==i, 'Ton-kilometers'] = df.loc[df['Vehicle']==i, 'Share'].multiply(poly)\n",
    "    \n",
    "    modemap = {'Road' : ['40tlorry', '28tlorry', '16tlorry'],\n",
    "               'Rail' : ['freighttrain'],\n",
    "               'Inland' : ['xlbarge', 'lbarge', 'mbarge', 'sbarge'],\n",
    "               }\n",
    "    for key in list(modemap.keys()):\n",
    "        for i in range(len(modemap[key])):\n",
    "            df.loc[df['Vehicle']==modemap[key][i], 'Mode'] = key\n",
    "    \n",
    "    for each in df['Mode'].unique():\n",
    "        print(each, round(df.loc[df['Year']==2050]\\\n",
    "                            .loc[df['Mode']==each,'Share'].sum(),3)\\\n",
    "              )\n",
    "        \n",
    "    return df, D\n",
    "\n",
    "\n",
    "def ServiceToFreightVehicles(x, df, service='Ton-kilometers', figs=False):\n",
    "    STV = dict()\n",
    "    keys = ['40tlorry', '28tlorry', '16tlorry', 'freighttrain', 'xlbarge', 'lbarge', 'mbarge', 'sbarge']\n",
    "    \n",
    "    ### lorries per ton kilometer\n",
    "    lorry16PerT = 240000/54.1*28/16\n",
    "    lorry28PerT = 240000/54.1*28/28\n",
    "    lorry40PerT = 240000/54.1*28/40\n",
    "    L16Curve = InnoDiff(x, start=lorry16PerT, end=lorry16PerT,\n",
    "                        steepness=1, midpoint=2035 )\n",
    "    L28Curve = InnoDiff(x, start=lorry28PerT, end=lorry28PerT,\n",
    "                        steepness=1, midpoint=2035 )\n",
    "    L40Curve = InnoDiff(x, start=lorry40PerT, end=lorry40PerT,\n",
    "                        steepness=1, midpoint=2035 )\n",
    "    STV['16tlorry'] = L16Curve \n",
    "    STV['28tlorry'] = L28Curve\n",
    "    STV['40tlorry'] = L40Curve\n",
    "    \n",
    "    ### trains per ton-kilometer\n",
    "    trainPerT = 1000/5.9\n",
    "    trainCurve = InnoDiff(x, start=trainPerT, end=trainPerT,\n",
    "                        steepness=1, midpoint=2035 )\n",
    "    STV['freighttrain']  = trainCurve\n",
    "\n",
    "    ### inland barges per ton-kilometer\n",
    "    XlbPerT = 623/46.6\n",
    "    LbPerT = 943/46.6\n",
    "    MbPerT = 1280/46.6\n",
    "    SbPerT = 2536/46.6\n",
    "    xlbCurve = InnoDiff(x, start=XlbPerT, end=XlbPerT, steepness=1, midpoint=2035 )\n",
    "    lbCurve = InnoDiff(x, start=LbPerT, end=LbPerT, steepness=1, midpoint=2035 )\n",
    "    mbCurve = InnoDiff(x, start=MbPerT, end=MbPerT, steepness=1, midpoint=2035 )\n",
    "    sbCurve = InnoDiff(x, start=SbPerT, end=SbPerT, steepness=1, midpoint=2035 )\n",
    "    STV['xlbarge']  = xlbCurve\n",
    "    STV['lbarge']  = lbCurve  \n",
    "    STV['mbarge']  = mbCurve  \n",
    "    STV['sbarge']  = sbCurve  \n",
    "    \n",
    "    ### for output\n",
    "    df['VehicleCount'] = None\n",
    "    for key in STV.keys():\n",
    "        df.loc[df['Vehicle']==key, 'VehicleCount'] = STV[key] * df.loc[df['Vehicle']==key, service]\n",
    "        \n",
    "    return df, STV\n",
    "\n",
    "\n",
    "###   FLIGHT TRANSPORT\n",
    "\n",
    "def Flights(x, poly):\n",
    "    df = pd.DataFrame()\n",
    "    keys = ['A330', 'B787']\n",
    "    for key in keys:\n",
    "        temp = pd.DataFrame()\n",
    "        temp['Year'] = x\n",
    "        temp['Vehicle'] = key\n",
    "        temp['Share'] = np.nan\n",
    "        df = pd.concat([df, temp], ignore_index=True, sort=False)\n",
    "        \n",
    "    D = dict()\n",
    "    D['A330'] = InnoDiff(x, start=1, end=0.10,\n",
    "                         steepness=0.2, midpoint=2030)    \n",
    "    \n",
    "    ones = np.ones(len(x))\n",
    "    df.loc[df['Vehicle']=='A330', 'Share'] = D['A330'] \n",
    "    df.loc[df['Vehicle']=='B787', 'Share'] = (ones - D['A330'])\n",
    "    \n",
    "    key = 'Person-movements'\n",
    "    df[key] = None\n",
    "    for i in df['Vehicle'].unique():\n",
    "        df.loc[df['Vehicle']==i, key] = df.loc[df['Vehicle']==i, 'Share'].multiply(poly)\n",
    "    \n",
    "    modemap = {'Air' : ['A330', 'B787'],\n",
    "               }\n",
    "    for key in list(modemap.keys()):\n",
    "        for i in range(len(modemap[key])):\n",
    "            df.loc[df['Vehicle']==modemap[key][i], 'Mode'] = key\n",
    "    \n",
    "    ### prints mode shares at last timestep\n",
    "    for each in df['Mode'].unique():\n",
    "        print(each, round(df.loc[df['Year']==2050]\\\n",
    "                            .loc[df['Mode']==each,'Share'].sum(),3)\\\n",
    "              )\n",
    "        \n",
    "    return df, D\n",
    "\n",
    "def ServiceToFlightVehicles(x, df, service='Person-movements', figs=False):\n",
    "    STV = dict()\n",
    "    keys = ['A330', 'B787']\n",
    "    \n",
    "    ### aircraft per passenger movements \n",
    "    PM = np.array(df.groupby('Year')['Person-movements'].sum())\n",
    "\n",
    "    ### for output\n",
    "    df['VehicleCount'] = None\n",
    "    df.at[df['Vehicle']=='A330', 'VehicleCount'] = (145 + 1.13 * PM) * df.loc[df['Vehicle']=='A330', 'Share']#STV[key] * df.loc[df['Vehicle']==key, service]\n",
    "    df.at[df['Vehicle']=='B787', 'VehicleCount'] = (145 + 1.13 * PM) * df.loc[df['Vehicle']=='B787', 'Share']#STV[key] * df.loc[df['Vehicle']==key, service]\n",
    "\n",
    "    return df, STV\n",
    "\n",
    "###   SEA VESSEL TRANSPORT\n",
    "\n",
    "def SeaVessels(x, poly, driver='SeaTGW'):\n",
    "\n",
    "    shares = pd.read_csv('data/modalshift/ships.csv', header=0, index_col=None)\n",
    "    keys = list(shares['Type'].unique())\n",
    "\n",
    "    df = pd.DataFrame()\n",
    "    for key in keys:\n",
    "        temp = pd.DataFrame()\n",
    "        temp['Year'] = x\n",
    "        temp['Vehicle'] = key\n",
    "        temp['Share'] = np.nan\n",
    "        df = pd.concat([df, temp], ignore_index=True, sort=False)\n",
    "    \n",
    "    D = dict.fromkeys(shares['Type'].unique())\n",
    "    for key in D.keys():\n",
    "        D[key] = shares.loc[shares['Type']==key, 'Share'].values * np.ones(len(x))\n",
    "        df.at[df['Vehicle']==key, 'Share'] = list(D[key])\n",
    "\n",
    "    driver = 'SeaTGW'\n",
    "    df[driver] = None\n",
    "    for i in df['Vehicle'].unique():\n",
    "        df.loc[df['Vehicle']==i, driver] = df.loc[df['Vehicle']==i, 'Share'].multiply(poly)\n",
    "    \n",
    "    modemap = {'Sea vessels' : keys,\n",
    "               }\n",
    "    for key in list(modemap.keys()):\n",
    "        for i in range(len(modemap[key])):\n",
    "            df.loc[df['Vehicle']==modemap[key][i], 'Mode'] = key\n",
    "    \n",
    "    ### prints mode shares at last timestep\n",
    "    for each in df['Mode'].unique():\n",
    "        print(each, round(df.loc[df['Year']==2050]\\\n",
    "                            .loc[df['Mode']==each,'Share'].sum(),3)\\\n",
    "              )\n",
    "        \n",
    "    return df, D\n",
    "\n",
    "def ServiceToSeaVehicles(x, df, service='SeaTGW', figs=False):\n",
    "    STV = dict()\n",
    "    shares = pd.read_csv('data/modalshift/ships.csv', header=0, index_col=None)\n",
    "    keys = list(shares['Type'].unique())\n",
    "\n",
    "    ### sea vessel per SeaTGW\n",
    "    GDP = np.array(df.groupby('Year')['SeaTGW'].sum())\n",
    "\n",
    "    ### for output\n",
    "    df['VehicleCount'] = None\n",
    "    for key in keys:\n",
    "        df.at[df['Vehicle']==key, 'VehicleCount'] = (1400 / 6070 * GDP) * df.loc[df['Vehicle']==key, 'Share']\n",
    "\n",
    "    return df, STV"
   ]
  },
  {
   "cell_type": "code",
   "execution_count": 94,
   "metadata": {
    "scrolled": true
   },
   "outputs": [
    {
     "data": {
      "text/plain": [
       "<Figure size 432x288 with 0 Axes>"
      ]
     },
     "metadata": {},
     "output_type": "display_data"
    }
   ],
   "source": [
    "### set x-axis and fidelity.\n",
    "startmodel = 1999\n",
    "endmodel = 2051\n",
    "x = np.linspace(startmodel, endmodel, endmodel-startmodel+1)\n",
    "\n",
    "### read data\n",
    "wloHP = pd.read_csv('data/modalshift/WLOHpassenger.csv', index_col=0,header=0)\n",
    "wloLP = pd.read_csv('data/modalshift/WLOLpassenger.csv', index_col=0,header=0)\n",
    "wloHF = pd.read_csv('data/modalshift/WLOHfreight.csv', index_col=0,header=0)\n",
    "wloLF = pd.read_csv('data/modalshift/WLOLfreight.csv', index_col=0,header=0)\n",
    "wloLSV = pd.read_csv('data/modalshift/SeaL.csv', index_col=0,header=0)\n",
    "wloHSV = pd.read_csv('data/modalshift/SeaH.csv', index_col=0,header=0)\n",
    "\n",
    "### convert to numeric column\n",
    "### force polynomials to flatten out at 2050.\n",
    "wloHP.loc[2040,'Total']=250\n",
    "wloLP.loc[2040,'Total']=210\n",
    "wloHF.loc[2040,'Total']=170\n",
    "wloLF.loc[2040,'Total']=140\n",
    "wloHP.loc[2040,'Luchtvaart']=140\n",
    "\n",
    "### \"PolyXX\" is the service demand over time.\n",
    "PolyHP = PolyFit(x, 4, wloHP, 'HP', 'Total')\n",
    "PolyLP = PolyFit(x, 4, wloLP, 'LP', 'Total')\n",
    "PolyHF = PolyFit(x, 4, wloHF, 'HF', 'Total')\n",
    "PolyLF = PolyFit(x, 4, wloLF, 'LF', 'Total')\n",
    "PolyLAC = PolyFit(x, 1, wloLP, 'LAC', 'Luchtvaart')\n",
    "PolyHAC = PolyFit(x, 4, wloHP, 'HAC', 'Luchtvaart')\n",
    "PolyLSV = PolyFit(x, 2, wloLSV, 'LSV', 'SeaGDP', n=32)\n",
    "PolyHSV = PolyFit(x, 2, wloHSV, 'HSV', 'SeaGDP', n=32)"
   ]
  },
  {
   "cell_type": "code",
   "execution_count": 95,
   "metadata": {
    "scrolled": false
   },
   "outputs": [
    {
     "name": "stdout",
     "output_type": "stream",
     "text": [
      "Driving 0.115\n",
      "Transit 0.634\n",
      "Cycling 0.201\n",
      "Walking 0.05\n",
      "Driving 0.115\n",
      "Transit 0.634\n",
      "Cycling 0.201\n",
      "Walking 0.05\n"
     ]
    },
    {
     "data": {
      "application/vnd.plotly.v1+json": {
       "config": {
        "plotlyServerURL": "https://plot.ly"
       },
       "data": [
        {
         "hoverlabel": {
          "namelength": 0
         },
         "hovertemplate": "Mode=Driving<br>Vehicle=ice<br>Year=%{x}<br>Person-kilometers=%{y}",
         "legendgroup": "Mode=Driving",
         "line": {
          "color": "#636efa"
         },
         "mode": "lines",
         "name": "Mode=Driving",
         "orientation": "v",
         "showlegend": true,
         "stackgroup": "1",
         "type": "scatter",
         "x": [
          1999,
          2000,
          2001,
          2002,
          2003,
          2004,
          2005,
          2006,
          2007,
          2008,
          2009,
          2010,
          2011,
          2012,
          2013,
          2014,
          2015,
          2016,
          2017,
          2018,
          2019,
          2020,
          2021,
          2022,
          2023,
          2024,
          2025,
          2026,
          2027,
          2028,
          2029,
          2030,
          2031,
          2032,
          2033,
          2034,
          2035,
          2036,
          2037,
          2038,
          2039,
          2040,
          2041,
          2042,
          2043,
          2044,
          2045,
          2046,
          2047,
          2048,
          2049,
          2050,
          2051
         ],
         "xaxis": "x",
         "y": [
          138.67145056578636,
          137.8817294158311,
          137.26119923653286,
          136.79836844298333,
          136.48174157428267,
          136.29973308728125,
          136.24055203953264,
          136.2920475204943,
          136.4415044387523,
          136.67537006051361,
          136.97889168574773,
          137.33563792507877,
          137.726864770953,
          138.13068670615752,
          138.52099682931274,
          138.86607746294746,
          139.1268380996962,
          139.25463164027116,
          139.18863596403344,
          138.85287114556579,
          138.15308921735527,
          136.97405772758697,
          135.17821321699336,
          132.60729044857095,
          129.0892580557895,
          124.45339146586628,
          118.55593185844702,
          111.31651450813789,
          102.76059760335548,
          93.05610102139474,
          82.52686234762915,
          71.62728272367275,
          60.875570819974676,
          50.76294584109989,
          41.67015666890738,
          33.81959980463582,
          27.273068397793804,
          21.965018267561096,
          17.751198525786194,
          14.4545084631791,
          11.898225798614472,
          9.924822841190142,
          8.40330181805473,
          7.2293491223660125,
          6.321996777720093,
          5.619212592106155,
          5.073689108508156,
          4.649327217389826,
          4.318492728442301,
          4.059946944280794,
          3.8573061442632204,
          3.6978954827182378,
          3.5718910109218736
         ],
         "yaxis": "y"
        },
        {
         "hoverlabel": {
          "namelength": 0
         },
         "hovertemplate": "Mode=Driving<br>Vehicle=ev<br>Year=%{x}<br>Person-kilometers=%{y}",
         "legendgroup": "Mode=Driving",
         "line": {
          "color": "#636efa"
         },
         "mode": "lines",
         "name": "Mode=Driving",
         "orientation": "v",
         "showlegend": false,
         "stackgroup": "1",
         "type": "scatter",
         "x": [
          1999,
          2000,
          2001,
          2002,
          2003,
          2004,
          2005,
          2006,
          2007,
          2008,
          2009,
          2010,
          2011,
          2012,
          2013,
          2014,
          2015,
          2016,
          2017,
          2018,
          2019,
          2020,
          2021,
          2022,
          2023,
          2024,
          2025,
          2026,
          2027,
          2028,
          2029,
          2030,
          2031,
          2032,
          2033,
          2034,
          2035,
          2036,
          2037,
          2038,
          2039,
          2040,
          2041,
          2042,
          2043,
          2044,
          2045,
          2046,
          2047,
          2048,
          2049,
          2050,
          2051
         ],
         "xaxis": "x",
         "y": [
          0.014659324019805952,
          0.01480454531698515,
          0.015046768042922458,
          0.015414288543854819,
          0.015946902916227402,
          0.016700834792006423,
          0.017756100436621573,
          0.01922773172859056,
          0.021283228448151902,
          0.024170249654153125,
          0.028261390213413395,
          0.03412778832093603,
          0.042661720741832894,
          0.05528259860968479,
          0.07428441849242094,
          0.10342064197249509,
          0.14888015594861298,
          0.22088838696387178,
          0.3362629018748574,
          0.5223263780408637,
          0.8225368373667947,
          1.3038498386710449,
          2.064908213417066,
          3.2424335950814767,
          5.01083347221993,
          7.568085051853232,
          11.101510170633079,
          15.732366642400926,
          21.448606108639684,
          28.047261630721756,
          35.11471209440313,
          42.06703027640493,
          48.251367253697715,
          53.08091863501795,
          56.15735950578132,
          57.3391924101291,
          56.739553755904396,
          54.66596139273533,
          51.531442765743215,
          47.76720133283362,
          43.756982460037214,
          39.8005109900509,
          36.1032914584735,
          32.78478333447577,
          29.89605952069584,
          27.4398527878796,
          25.3886182411857,
          23.69867835905957,
          22.32017006101924,
          21.203374889406042,
          20.302309743005264,
          19.57643010479874,
          18.99113743738786
         ],
         "yaxis": "y"
        },
        {
         "hoverlabel": {
          "namelength": 0
         },
         "hovertemplate": "Mode=Driving<br>Vehicle=hev<br>Year=%{x}<br>Person-kilometers=%{y}",
         "legendgroup": "Mode=Driving",
         "line": {
          "color": "#636efa"
         },
         "mode": "lines",
         "name": "Mode=Driving",
         "orientation": "v",
         "showlegend": false,
         "stackgroup": "1",
         "type": "scatter",
         "x": [
          1999,
          2000,
          2001,
          2002,
          2003,
          2004,
          2005,
          2006,
          2007,
          2008,
          2009,
          2010,
          2011,
          2012,
          2013,
          2014,
          2015,
          2016,
          2017,
          2018,
          2019,
          2020,
          2021,
          2022,
          2023,
          2024,
          2025,
          2026,
          2027,
          2028,
          2029,
          2030,
          2031,
          2032,
          2033,
          2034,
          2035,
          2036,
          2037,
          2038,
          2039,
          2040,
          2041,
          2042,
          2043,
          2044,
          2045,
          2046,
          2047,
          2048,
          2049,
          2050,
          2051
         ],
         "xaxis": "x",
         "y": [
          1.3969279374370889,
          1.3925235416304618,
          1.391026727456526,
          1.3927508099272743,
          1.398160620181587,
          1.4079249490981116,
          1.4229869646654867,
          1.444658318700481,
          1.4747441344589804,
          1.5157074925111145,
          1.570883239585088,
          1.6447510099659386,
          1.7432748728569833,
          1.8743095794355702,
          2.048056351349499,
          2.2775181293241245,
          2.5788457680131853,
          2.9713730711446713,
          3.47700540183348,
          4.11847044033105,
          4.915825319681978,
          5.880687815239969,
          7.008153532116575,
          8.267497694572555,
          9.594473169262992,
          10.889576989041485,
          12.026636018185837,
          12.873186364686985,
          13.318807687755037,
          13.302539949270537,
          12.82913636210403,
          11.96758651513765,
          10.83242197702633,
          9.555203871331484,
          8.256751083195143,
          7.0286428555606,
          5.927025134028196,
          4.9763725189222185,
          4.1782957930389095,
          3.5209240306489678,
          2.9863167237643315,
          2.555225253724451,
          2.2096131306622513,
          1.933687352368666,
          1.7141086840969657,
          1.5398271462105715,
          1.401788354737412,
          1.2926242081580075,
          1.2063706331101687,
          1.1382232014319194,
          1.0843297198595163,
          1.0416156711216578,
          1.0076381717779639
         ],
         "yaxis": "y"
        },
        {
         "hoverlabel": {
          "namelength": 0
         },
         "hovertemplate": "Mode=Transit<br>Vehicle=train<br>Year=%{x}<br>Person-kilometers=%{y}",
         "legendgroup": "Mode=Transit",
         "line": {
          "color": "#EF553B"
         },
         "mode": "lines",
         "name": "Mode=Transit",
         "orientation": "v",
         "showlegend": true,
         "stackgroup": "1",
         "type": "scatter",
         "x": [
          1999,
          2000,
          2001,
          2002,
          2003,
          2004,
          2005,
          2006,
          2007,
          2008,
          2009,
          2010,
          2011,
          2012,
          2013,
          2014,
          2015,
          2016,
          2017,
          2018,
          2019,
          2020,
          2021,
          2022,
          2023,
          2024,
          2025,
          2026,
          2027,
          2028,
          2029,
          2030,
          2031,
          2032,
          2033,
          2034,
          2035,
          2036,
          2037,
          2038,
          2039,
          2040,
          2041,
          2042,
          2043,
          2044,
          2045,
          2046,
          2047,
          2048,
          2049,
          2050,
          2051
         ],
         "xaxis": "x",
         "y": [
          17.05393732695073,
          16.96276140716533,
          16.89383991304778,
          16.846153453735436,
          16.818789601922177,
          16.810962484746828,
          16.822037412205642,
          16.851561766993598,
          16.899304047260514,
          16.965302698660754,
          17.04992747225314,
          17.15395642353119,
          17.27867189962779,
          17.42598063296236,
          17.598563087319064,
          17.800058848174583,
          18.03529560400677,
          18.310570699563666,
          18.633994906146313,
          19.015907956944517,
          19.469374202479088,
          20.010761849667176,
          20.6603993228602,
          21.44328218391335,
          22.389769389762257,
          23.536150454148657,
          24.92488054604253,
          26.60416803684288,
          28.62647679432206,
          31.045420154821816,
          33.91056098380638,
          37.25991725711653,
          41.110604613029395,
          45.449011572885695,
          50.222932834540835,
          55.338631667352175,
          60.66524466841235,
          66.04704556148995,
          71.32142455240866,
          76.33827916927463,
          80.9760379444375,
          85.15098157529458,
          88.81901891955236,
          91.97132217125844,
          94.62638150582711,
          96.8210280202269,
          98.6022549491729,
          100.02077201614564,
          101.12651324496254,
          101.96588344630352,
          102.58035175523055,
          103.00598095986597,
          103.27354681427441
         ],
         "yaxis": "y"
        },
        {
         "hoverlabel": {
          "namelength": 0
         },
         "hovertemplate": "Mode=Transit<br>Vehicle=metro-bus<br>Year=%{x}<br>Person-kilometers=%{y}",
         "legendgroup": "Mode=Transit",
         "line": {
          "color": "#EF553B"
         },
         "mode": "lines",
         "name": "Mode=Transit",
         "orientation": "v",
         "showlegend": false,
         "stackgroup": "1",
         "type": "scatter",
         "x": [
          1999,
          2000,
          2001,
          2002,
          2003,
          2004,
          2005,
          2006,
          2007,
          2008,
          2009,
          2010,
          2011,
          2012,
          2013,
          2014,
          2015,
          2016,
          2017,
          2018,
          2019,
          2020,
          2021,
          2022,
          2023,
          2024,
          2025,
          2026,
          2027,
          2028,
          2029,
          2030,
          2031,
          2032,
          2033,
          2034,
          2035,
          2036,
          2037,
          2038,
          2039,
          2040,
          2041,
          2042,
          2043,
          2044,
          2045,
          2046,
          2047,
          2048,
          2049,
          2050,
          2051
         ],
         "xaxis": "x",
         "y": [
          5.094033227530737,
          5.066798861880553,
          5.046211922079206,
          5.031967914752143,
          5.023794296678052,
          5.021456326612689,
          5.024764421827659,
          5.033583384946139,
          5.047844066064829,
          5.067557948950614,
          5.092835478724965,
          5.123909061574252,
          5.161161736252455,
          5.205163046209536,
          5.25671364945894,
          5.3169006949092905,
          5.387166219378646,
          5.469391247921614,
          5.565998478459287,
          5.680076402723687,
          5.815527359182064,
          5.977240552497987,
          6.171288109425773,
          6.405136236753338,
          6.68785319434457,
          7.030278707083364,
          7.445094189077638,
          7.946699543472548,
          8.550765795706589,
          9.273307318972748,
          10.129128605552554,
          11.129585674203637,
          12.279790988307479,
          13.57567878151131,
          15.001655262265443,
          16.52972114739091,
          18.120787368486805,
          19.728338284600895,
          21.303802139031156,
          22.80234312848463,
          24.187647697689115,
          25.43470878223085,
          26.530356300645504,
          27.471953375830438,
          28.26502304719511,
          28.920566811236604,
          29.452621608194498,
          29.876334498329214,
          30.20662083940439,
          30.457341808636116,
          30.64088429052341,
          30.76802028671321,
          30.847942554913132
         ],
         "yaxis": "y"
        },
        {
         "hoverlabel": {
          "namelength": 0
         },
         "hovertemplate": "Mode=Cycling<br>Vehicle=ebike<br>Year=%{x}<br>Person-kilometers=%{y}",
         "legendgroup": "Mode=Cycling",
         "line": {
          "color": "#00cc96"
         },
         "mode": "lines",
         "name": "Mode=Cycling",
         "orientation": "v",
         "showlegend": true,
         "stackgroup": "1",
         "type": "scatter",
         "x": [
          1999,
          2000,
          2001,
          2002,
          2003,
          2004,
          2005,
          2006,
          2007,
          2008,
          2009,
          2010,
          2011,
          2012,
          2013,
          2014,
          2015,
          2016,
          2017,
          2018,
          2019,
          2020,
          2021,
          2022,
          2023,
          2024,
          2025,
          2026,
          2027,
          2028,
          2029,
          2030,
          2031,
          2032,
          2033,
          2034,
          2035,
          2036,
          2037,
          2038,
          2039,
          2040,
          2041,
          2042,
          2043,
          2044,
          2045,
          2046,
          2047,
          2048,
          2049,
          2050,
          2051
         ],
         "xaxis": "x",
         "y": [
          0.01043724980615993,
          0.013312765079039853,
          0.01699658779675154,
          0.02171739199344188,
          0.02776752754473548,
          0.0355197244157911,
          0.045447459811436906,
          0.0581493108416834,
          0.07437728702426183,
          0.09506850300537621,
          0.12137846196812423,
          0.15471248526293155,
          0.1967492707049384,
          0.24944716038741374,
          0.31501972387532406,
          0.39586371069017,
          0.49442133221442514,
          0.6129635462933092,
          0.7532955603314744,
          0.916412765339083,
          1.1021720672580808,
          1.3090778202509823,
          1.5342916073850752,
          1.7739391602781438,
          2.0237020885269987,
          2.279574802342817,
          2.538589624661994,
          2.7993079447942444,
          3.061944265258471,
          3.3280939025863567,
          3.6001258046005864,
          3.8803579305617535,
          4.170164038399845,
          4.46918638380064,
          4.774844297609891,
          5.082301683358608,
          5.3849587112997845,
          5.675377974909317,
          5.946407309958448,
          6.192197080928229,
          6.408865038706471,
          6.594704537750234,
          6.749986278595751,
          6.8765020238767,
          6.977018816691193,
          7.054774036665044,
          7.113082205267584,
          7.155071954390581,
          7.183538993548063,
          7.200886632059025,
          7.209124375484523,
          7.2098999878912835,
          7.204547446144322
         ],
         "yaxis": "y"
        },
        {
         "hoverlabel": {
          "namelength": 0
         },
         "hovertemplate": "Mode=Cycling<br>Vehicle=bike<br>Year=%{x}<br>Person-kilometers=%{y}",
         "legendgroup": "Mode=Cycling",
         "line": {
          "color": "#00cc96"
         },
         "mode": "lines",
         "name": "Mode=Cycling",
         "orientation": "v",
         "showlegend": false,
         "stackgroup": "1",
         "type": "scatter",
         "x": [
          1999,
          2000,
          2001,
          2002,
          2003,
          2004,
          2005,
          2006,
          2007,
          2008,
          2009,
          2010,
          2011,
          2012,
          2013,
          2014,
          2015,
          2016,
          2017,
          2018,
          2019,
          2020,
          2021,
          2022,
          2023,
          2024,
          2025,
          2026,
          2027,
          2028,
          2029,
          2030,
          2031,
          2032,
          2033,
          2034,
          2035,
          2036,
          2037,
          2038,
          2039,
          2040,
          2041,
          2042,
          2043,
          2044,
          2045,
          2046,
          2047,
          2048,
          2049,
          2050,
          2051
         ],
         "xaxis": "x",
         "y": [
          16.438181040046477,
          16.34088211516467,
          16.26286791596863,
          16.202603334052633,
          16.158519131914723,
          16.128997380136404,
          16.112354390197407,
          16.106821231657698,
          16.110522750601326,
          16.121456232318017,
          16.13747281179251,
          16.156266617185434,
          16.175379158418924,
          16.1922312662211,
          16.20419851235972,
          16.20875067186329,
          16.203676936034952,
          16.187414314865137,
          16.159481510777084,
          16.12099189830198,
          16.075179692509245,
          16.0278335172517,
          15.987513532005941,
          15.965452442503299,
          15.975112210348312,
          16.031459253017694,
          16.15008264777644,
          16.3462709911654,
          16.63408565960941,
          17.02536623771097,
          17.5285435083181,
          18.147178420207073,
          18.87831643331496,
          19.711011326023673,
          20.625605108145795,
          21.59437124031186,
          22.583822386385034,
          23.558419723511875,
          24.484859719193384,
          25.335858552023698,
          26.092547904842473,
          26.745120900403926,
          27.2919392339213,
          27.73767562638673,
          28.091135439824892,
          28.36325239184948,
          28.565525728304934,
          28.708966068468076,
          28.803493437006516,
          28.857677004170228,
          28.878702586013116,
          28.872472840427186,
          28.843772209974556
         ],
         "yaxis": "y"
        },
        {
         "hoverlabel": {
          "namelength": 0
         },
         "hovertemplate": "Mode=Cycling<br>Vehicle=emoped<br>Year=%{x}<br>Person-kilometers=%{y}",
         "legendgroup": "Mode=Cycling",
         "line": {
          "color": "#00cc96"
         },
         "mode": "lines",
         "name": "Mode=Cycling",
         "orientation": "v",
         "showlegend": false,
         "stackgroup": "1",
         "type": "scatter",
         "x": [
          1999,
          2000,
          2001,
          2002,
          2003,
          2004,
          2005,
          2006,
          2007,
          2008,
          2009,
          2010,
          2011,
          2012,
          2013,
          2014,
          2015,
          2016,
          2017,
          2018,
          2019,
          2020,
          2021,
          2022,
          2023,
          2024,
          2025,
          2026,
          2027,
          2028,
          2029,
          2030,
          2031,
          2032,
          2033,
          2034,
          2035,
          2036,
          2037,
          2038,
          2039,
          2040,
          2041,
          2042,
          2043,
          2044,
          2045,
          2046,
          2047,
          2048,
          2049,
          2050,
          2051
         ],
         "xaxis": "x",
         "y": [
          0.0017443218527776704,
          0.0019103385354171186,
          0.0021381338542002418,
          0.0024488567591794074,
          0.002871198346513417,
          0.0034440641197723866,
          0.004220180733516648,
          0.005270952139866276,
          0.006692976593842844,
          0.00861675389310088,
          0.01121824997447112,
          0.014734133397299945,
          0.019481630336164155,
          0.025884011616460055,
          0.034502630798346166,
          0.046076020211659505,
          0.06156558317974796,
          0.08220559629811788,
          0.10955229047904123,
          0.1455227605805849,
          0.19241024747720836,
          0.25286032277024506,
          0.3297967171418516,
          0.42629976861415597,
          0.545463033419502,
          0.6902705858871105,
          0.8635241618065611,
          1.067790599838048,
          1.3052629716661068,
          1.5774053777097155,
          1.884341343661482,
          2.22412098875251,
          2.5921439614239254,
          2.9810122688939233,
          3.3809384091806223,
          3.7806434358342886,
          4.168549748646039,
          4.53402712682097,
          4.8684584146273755,
          5.165936923096958,
          5.423495896126434,
          5.640888542121216,
          5.820042902309585,
          5.96436691034724,
          6.078065833896699,
          6.165579330578751,
          6.231182130904886,
          6.278743662967792,
          6.311615879356362,
          6.332610663148385,
          6.344031991763595,
          6.347736116066722,
          6.345201842556526
         ],
         "yaxis": "y"
        },
        {
         "hoverlabel": {
          "namelength": 0
         },
         "hovertemplate": "Mode=Cycling<br>Vehicle=moped<br>Year=%{x}<br>Person-kilometers=%{y}",
         "legendgroup": "Mode=Cycling",
         "line": {
          "color": "#00cc96"
         },
         "mode": "lines",
         "name": "Mode=Cycling",
         "orientation": "v",
         "showlegend": false,
         "stackgroup": "1",
         "type": "scatter",
         "x": [
          1999,
          2000,
          2001,
          2002,
          2003,
          2004,
          2005,
          2006,
          2007,
          2008,
          2009,
          2010,
          2011,
          2012,
          2013,
          2014,
          2015,
          2016,
          2017,
          2018,
          2019,
          2020,
          2021,
          2022,
          2023,
          2024,
          2025,
          2026,
          2027,
          2028,
          2029,
          2030,
          2031,
          2032,
          2033,
          2034,
          2035,
          2036,
          2037,
          2038,
          2039,
          2040,
          2041,
          2042,
          2043,
          2044,
          2045,
          2046,
          2047,
          2048,
          2049,
          2050,
          2051
         ],
         "xaxis": "x",
         "y": [
          1.2364628059082785,
          1.2292372275796777,
          1.2234788226971747,
          1.2190739607453165,
          1.2159057773003288,
          1.2138524078451312,
          1.2127846399723745,
          1.2125627939159749,
          1.213032614988126,
          1.2140198561726547,
          1.2153232142676642,
          1.2167052218495122,
          1.2178806607448625,
          1.2185022250416513,
          1.218143384359028,
          1.2162790760805282,
          1.2122660337947204,
          1.205326617484755,
          1.1945430433060547,
          1.1788727458166737,
          1.1571991142859857,
          1.1284321141011668,
          1.091665702630472,
          1.0463787110781726,
          0.9926339496650932,
          0.9312005440143375,
          0.8635241618065611,
          0.7915206318260158,
          0.7172560440587006,
          0.6426426115220725,
          0.5692673019009213,
          0.4983835040391422,
          0.43100193817713905,
          0.3679830043008705,
          0.3100679785210593,
          0.25784716235825866,
          0.21170204322712485,
          0.1717615057629947,
          0.13789396666581819,
          0.1097373222463916,
          0.08675607190725605,
          0.06831038674476396,
          0.05372290710302817,
          0.042333312369899505,
          0.03353607467718736,
          0.02680147678049352,
          0.02168292202024934,
          0.01781468292777367,
          0.014904034025458623,
          0.012720849534199382,
          0.011086738341588454,
          0.00986491837629801,
          0.008951400868161272
         ],
         "yaxis": "y"
        },
        {
         "hoverlabel": {
          "namelength": 0
         },
         "hovertemplate": "Mode=Walking<br>Vehicle=walk<br>Year=%{x}<br>Person-kilometers=%{y}",
         "legendgroup": "Mode=Walking",
         "line": {
          "color": "#ab63fa"
         },
         "mode": "lines",
         "name": "Mode=Walking",
         "orientation": "v",
         "showlegend": true,
         "stackgroup": "1",
         "type": "scatter",
         "x": [
          1999,
          2000,
          2001,
          2002,
          2003,
          2004,
          2005,
          2006,
          2007,
          2008,
          2009,
          2010,
          2011,
          2012,
          2013,
          2014,
          2015,
          2016,
          2017,
          2018,
          2019,
          2020,
          2021,
          2022,
          2023,
          2024,
          2025,
          2026,
          2027,
          2028,
          2029,
          2030,
          2031,
          2032,
          2033,
          2034,
          2035,
          2036,
          2037,
          2038,
          2039,
          2040,
          2041,
          2042,
          2043,
          2044,
          2045,
          2046,
          2047,
          2048,
          2049,
          2050,
          2051
         ],
         "xaxis": "x",
         "y": [
          4.4217063544034225,
          4.3963356115897,
          4.376370365079188,
          4.361460885887641,
          4.351265908776573,
          4.345453394129273,
          4.343701667678682,
          4.345701072138804,
          4.351156407301888,
          4.359790336347286,
          4.371348184500691,
          4.3856046144237935,
          4.40237268005122,
          4.421516165816654,
          4.442966062848104,
          4.466742369711411,
          4.49298247130596,
          4.521977518735328,
          4.554218101223412,
          4.5904500425095796,
          4.631740280382629,
          4.679550943593523,
          4.735816889790834,
          4.8030175206184405,
          4.884227820489975,
          4.983126296315488,
          5.103930149012888,
          5.251222541905926,
          5.429637235148171,
          5.643377032382277,
          5.895569489620272,
          6.187510210890118,
          6.5179065928289655,
          6.8822982457547734,
          7.272863948364341,
          7.678790880465753,
          8.087258222389494,
          8.484896582751285,
          8.859404852611254,
          9.200932469573816,
          9.502916227895657,
          9.762256091755033,
          9.978922830482414,
          10.155219468245138,
          10.29493904127249,
          10.40260180896844,
          10.48286824662441,
          10.540149092188553,
          10.578388085984098,
          10.600973787227957,
          10.610736422900702,
          10.60999346569037,
          10.600618224885888
         ],
         "yaxis": "y"
        }
       ],
       "layout": {
        "height": 500,
        "legend": {
         "font": {
          "size": 10
         },
         "tracegroupgap": 0,
         "traceorder": "reversed",
         "y": 0.5
        },
        "margin": {
         "t": 60
        },
        "template": {
         "data": {
          "bar": [
           {
            "error_x": {
             "color": "#2a3f5f"
            },
            "error_y": {
             "color": "#2a3f5f"
            },
            "marker": {
             "line": {
              "color": "#E5ECF6",
              "width": 0.5
             }
            },
            "type": "bar"
           }
          ],
          "barpolar": [
           {
            "marker": {
             "line": {
              "color": "#E5ECF6",
              "width": 0.5
             }
            },
            "type": "barpolar"
           }
          ],
          "carpet": [
           {
            "aaxis": {
             "endlinecolor": "#2a3f5f",
             "gridcolor": "white",
             "linecolor": "white",
             "minorgridcolor": "white",
             "startlinecolor": "#2a3f5f"
            },
            "baxis": {
             "endlinecolor": "#2a3f5f",
             "gridcolor": "white",
             "linecolor": "white",
             "minorgridcolor": "white",
             "startlinecolor": "#2a3f5f"
            },
            "type": "carpet"
           }
          ],
          "choropleth": [
           {
            "colorbar": {
             "outlinewidth": 0,
             "ticks": ""
            },
            "type": "choropleth"
           }
          ],
          "contour": [
           {
            "colorbar": {
             "outlinewidth": 0,
             "ticks": ""
            },
            "colorscale": [
             [
              0,
              "#0d0887"
             ],
             [
              0.1111111111111111,
              "#46039f"
             ],
             [
              0.2222222222222222,
              "#7201a8"
             ],
             [
              0.3333333333333333,
              "#9c179e"
             ],
             [
              0.4444444444444444,
              "#bd3786"
             ],
             [
              0.5555555555555556,
              "#d8576b"
             ],
             [
              0.6666666666666666,
              "#ed7953"
             ],
             [
              0.7777777777777778,
              "#fb9f3a"
             ],
             [
              0.8888888888888888,
              "#fdca26"
             ],
             [
              1,
              "#f0f921"
             ]
            ],
            "type": "contour"
           }
          ],
          "contourcarpet": [
           {
            "colorbar": {
             "outlinewidth": 0,
             "ticks": ""
            },
            "type": "contourcarpet"
           }
          ],
          "heatmap": [
           {
            "colorbar": {
             "outlinewidth": 0,
             "ticks": ""
            },
            "colorscale": [
             [
              0,
              "#0d0887"
             ],
             [
              0.1111111111111111,
              "#46039f"
             ],
             [
              0.2222222222222222,
              "#7201a8"
             ],
             [
              0.3333333333333333,
              "#9c179e"
             ],
             [
              0.4444444444444444,
              "#bd3786"
             ],
             [
              0.5555555555555556,
              "#d8576b"
             ],
             [
              0.6666666666666666,
              "#ed7953"
             ],
             [
              0.7777777777777778,
              "#fb9f3a"
             ],
             [
              0.8888888888888888,
              "#fdca26"
             ],
             [
              1,
              "#f0f921"
             ]
            ],
            "type": "heatmap"
           }
          ],
          "heatmapgl": [
           {
            "colorbar": {
             "outlinewidth": 0,
             "ticks": ""
            },
            "colorscale": [
             [
              0,
              "#0d0887"
             ],
             [
              0.1111111111111111,
              "#46039f"
             ],
             [
              0.2222222222222222,
              "#7201a8"
             ],
             [
              0.3333333333333333,
              "#9c179e"
             ],
             [
              0.4444444444444444,
              "#bd3786"
             ],
             [
              0.5555555555555556,
              "#d8576b"
             ],
             [
              0.6666666666666666,
              "#ed7953"
             ],
             [
              0.7777777777777778,
              "#fb9f3a"
             ],
             [
              0.8888888888888888,
              "#fdca26"
             ],
             [
              1,
              "#f0f921"
             ]
            ],
            "type": "heatmapgl"
           }
          ],
          "histogram": [
           {
            "marker": {
             "colorbar": {
              "outlinewidth": 0,
              "ticks": ""
             }
            },
            "type": "histogram"
           }
          ],
          "histogram2d": [
           {
            "colorbar": {
             "outlinewidth": 0,
             "ticks": ""
            },
            "colorscale": [
             [
              0,
              "#0d0887"
             ],
             [
              0.1111111111111111,
              "#46039f"
             ],
             [
              0.2222222222222222,
              "#7201a8"
             ],
             [
              0.3333333333333333,
              "#9c179e"
             ],
             [
              0.4444444444444444,
              "#bd3786"
             ],
             [
              0.5555555555555556,
              "#d8576b"
             ],
             [
              0.6666666666666666,
              "#ed7953"
             ],
             [
              0.7777777777777778,
              "#fb9f3a"
             ],
             [
              0.8888888888888888,
              "#fdca26"
             ],
             [
              1,
              "#f0f921"
             ]
            ],
            "type": "histogram2d"
           }
          ],
          "histogram2dcontour": [
           {
            "colorbar": {
             "outlinewidth": 0,
             "ticks": ""
            },
            "colorscale": [
             [
              0,
              "#0d0887"
             ],
             [
              0.1111111111111111,
              "#46039f"
             ],
             [
              0.2222222222222222,
              "#7201a8"
             ],
             [
              0.3333333333333333,
              "#9c179e"
             ],
             [
              0.4444444444444444,
              "#bd3786"
             ],
             [
              0.5555555555555556,
              "#d8576b"
             ],
             [
              0.6666666666666666,
              "#ed7953"
             ],
             [
              0.7777777777777778,
              "#fb9f3a"
             ],
             [
              0.8888888888888888,
              "#fdca26"
             ],
             [
              1,
              "#f0f921"
             ]
            ],
            "type": "histogram2dcontour"
           }
          ],
          "mesh3d": [
           {
            "colorbar": {
             "outlinewidth": 0,
             "ticks": ""
            },
            "type": "mesh3d"
           }
          ],
          "parcoords": [
           {
            "line": {
             "colorbar": {
              "outlinewidth": 0,
              "ticks": ""
             }
            },
            "type": "parcoords"
           }
          ],
          "scatter": [
           {
            "marker": {
             "colorbar": {
              "outlinewidth": 0,
              "ticks": ""
             }
            },
            "type": "scatter"
           }
          ],
          "scatter3d": [
           {
            "line": {
             "colorbar": {
              "outlinewidth": 0,
              "ticks": ""
             }
            },
            "marker": {
             "colorbar": {
              "outlinewidth": 0,
              "ticks": ""
             }
            },
            "type": "scatter3d"
           }
          ],
          "scattercarpet": [
           {
            "marker": {
             "colorbar": {
              "outlinewidth": 0,
              "ticks": ""
             }
            },
            "type": "scattercarpet"
           }
          ],
          "scattergeo": [
           {
            "marker": {
             "colorbar": {
              "outlinewidth": 0,
              "ticks": ""
             }
            },
            "type": "scattergeo"
           }
          ],
          "scattergl": [
           {
            "marker": {
             "colorbar": {
              "outlinewidth": 0,
              "ticks": ""
             }
            },
            "type": "scattergl"
           }
          ],
          "scattermapbox": [
           {
            "marker": {
             "colorbar": {
              "outlinewidth": 0,
              "ticks": ""
             }
            },
            "type": "scattermapbox"
           }
          ],
          "scatterpolar": [
           {
            "marker": {
             "colorbar": {
              "outlinewidth": 0,
              "ticks": ""
             }
            },
            "type": "scatterpolar"
           }
          ],
          "scatterpolargl": [
           {
            "marker": {
             "colorbar": {
              "outlinewidth": 0,
              "ticks": ""
             }
            },
            "type": "scatterpolargl"
           }
          ],
          "scatterternary": [
           {
            "marker": {
             "colorbar": {
              "outlinewidth": 0,
              "ticks": ""
             }
            },
            "type": "scatterternary"
           }
          ],
          "surface": [
           {
            "colorbar": {
             "outlinewidth": 0,
             "ticks": ""
            },
            "colorscale": [
             [
              0,
              "#0d0887"
             ],
             [
              0.1111111111111111,
              "#46039f"
             ],
             [
              0.2222222222222222,
              "#7201a8"
             ],
             [
              0.3333333333333333,
              "#9c179e"
             ],
             [
              0.4444444444444444,
              "#bd3786"
             ],
             [
              0.5555555555555556,
              "#d8576b"
             ],
             [
              0.6666666666666666,
              "#ed7953"
             ],
             [
              0.7777777777777778,
              "#fb9f3a"
             ],
             [
              0.8888888888888888,
              "#fdca26"
             ],
             [
              1,
              "#f0f921"
             ]
            ],
            "type": "surface"
           }
          ],
          "table": [
           {
            "cells": {
             "fill": {
              "color": "#EBF0F8"
             },
             "line": {
              "color": "white"
             }
            },
            "header": {
             "fill": {
              "color": "#C8D4E3"
             },
             "line": {
              "color": "white"
             }
            },
            "type": "table"
           }
          ]
         },
         "layout": {
          "annotationdefaults": {
           "arrowcolor": "#2a3f5f",
           "arrowhead": 0,
           "arrowwidth": 1
          },
          "colorscale": {
           "diverging": [
            [
             0,
             "#8e0152"
            ],
            [
             0.1,
             "#c51b7d"
            ],
            [
             0.2,
             "#de77ae"
            ],
            [
             0.3,
             "#f1b6da"
            ],
            [
             0.4,
             "#fde0ef"
            ],
            [
             0.5,
             "#f7f7f7"
            ],
            [
             0.6,
             "#e6f5d0"
            ],
            [
             0.7,
             "#b8e186"
            ],
            [
             0.8,
             "#7fbc41"
            ],
            [
             0.9,
             "#4d9221"
            ],
            [
             1,
             "#276419"
            ]
           ],
           "sequential": [
            [
             0,
             "#0d0887"
            ],
            [
             0.1111111111111111,
             "#46039f"
            ],
            [
             0.2222222222222222,
             "#7201a8"
            ],
            [
             0.3333333333333333,
             "#9c179e"
            ],
            [
             0.4444444444444444,
             "#bd3786"
            ],
            [
             0.5555555555555556,
             "#d8576b"
            ],
            [
             0.6666666666666666,
             "#ed7953"
            ],
            [
             0.7777777777777778,
             "#fb9f3a"
            ],
            [
             0.8888888888888888,
             "#fdca26"
            ],
            [
             1,
             "#f0f921"
            ]
           ],
           "sequentialminus": [
            [
             0,
             "#0d0887"
            ],
            [
             0.1111111111111111,
             "#46039f"
            ],
            [
             0.2222222222222222,
             "#7201a8"
            ],
            [
             0.3333333333333333,
             "#9c179e"
            ],
            [
             0.4444444444444444,
             "#bd3786"
            ],
            [
             0.5555555555555556,
             "#d8576b"
            ],
            [
             0.6666666666666666,
             "#ed7953"
            ],
            [
             0.7777777777777778,
             "#fb9f3a"
            ],
            [
             0.8888888888888888,
             "#fdca26"
            ],
            [
             1,
             "#f0f921"
            ]
           ]
          },
          "colorway": [
           "#636efa",
           "#EF553B",
           "#00cc96",
           "#ab63fa",
           "#FFA15A",
           "#19d3f3",
           "#FF6692",
           "#B6E880",
           "#FF97FF",
           "#FECB52"
          ],
          "font": {
           "color": "#2a3f5f"
          },
          "geo": {
           "bgcolor": "white",
           "lakecolor": "white",
           "landcolor": "#E5ECF6",
           "showlakes": true,
           "showland": true,
           "subunitcolor": "white"
          },
          "hoverlabel": {
           "align": "left"
          },
          "hovermode": "closest",
          "mapbox": {
           "style": "light"
          },
          "paper_bgcolor": "white",
          "plot_bgcolor": "#E5ECF6",
          "polar": {
           "angularaxis": {
            "gridcolor": "white",
            "linecolor": "white",
            "ticks": ""
           },
           "bgcolor": "#E5ECF6",
           "radialaxis": {
            "gridcolor": "white",
            "linecolor": "white",
            "ticks": ""
           }
          },
          "scene": {
           "xaxis": {
            "backgroundcolor": "#E5ECF6",
            "gridcolor": "white",
            "gridwidth": 2,
            "linecolor": "white",
            "showbackground": true,
            "ticks": "",
            "zerolinecolor": "white"
           },
           "yaxis": {
            "backgroundcolor": "#E5ECF6",
            "gridcolor": "white",
            "gridwidth": 2,
            "linecolor": "white",
            "showbackground": true,
            "ticks": "",
            "zerolinecolor": "white"
           },
           "zaxis": {
            "backgroundcolor": "#E5ECF6",
            "gridcolor": "white",
            "gridwidth": 2,
            "linecolor": "white",
            "showbackground": true,
            "ticks": "",
            "zerolinecolor": "white"
           }
          },
          "shapedefaults": {
           "line": {
            "color": "#2a3f5f"
           }
          },
          "ternary": {
           "aaxis": {
            "gridcolor": "white",
            "linecolor": "white",
            "ticks": ""
           },
           "baxis": {
            "gridcolor": "white",
            "linecolor": "white",
            "ticks": ""
           },
           "bgcolor": "#E5ECF6",
           "caxis": {
            "gridcolor": "white",
            "linecolor": "white",
            "ticks": ""
           }
          },
          "title": {
           "x": 0.05
          },
          "xaxis": {
           "automargin": true,
           "gridcolor": "white",
           "linecolor": "white",
           "ticks": "",
           "zerolinecolor": "white",
           "zerolinewidth": 2
          },
          "yaxis": {
           "automargin": true,
           "gridcolor": "white",
           "linecolor": "white",
           "ticks": "",
           "zerolinecolor": "white",
           "zerolinewidth": 2
          }
         }
        },
        "width": 800,
        "xaxis": {
         "anchor": "y",
         "domain": [
          0,
          0.98
         ],
         "title": {
          "text": "Year"
         }
        },
        "yaxis": {
         "anchor": "x",
         "domain": [
          0,
          1
         ],
         "title": {
          "text": "Person-kilometers"
         }
        }
       }
      },
      "text/html": [
       "<div>\n",
       "        \n",
       "        \n",
       "            <div id=\"f61ed869-8974-46b6-90b4-7066ba1eef2f\" class=\"plotly-graph-div\" style=\"height:500px; width:800px;\"></div>\n",
       "            <script type=\"text/javascript\">\n",
       "                require([\"plotly\"], function(Plotly) {\n",
       "                    window.PLOTLYENV=window.PLOTLYENV || {};\n",
       "                    \n",
       "                if (document.getElementById(\"f61ed869-8974-46b6-90b4-7066ba1eef2f\")) {\n",
       "                    Plotly.newPlot(\n",
       "                        'f61ed869-8974-46b6-90b4-7066ba1eef2f',\n",
       "                        [{\"hoverlabel\": {\"namelength\": 0}, \"hovertemplate\": \"Mode=Driving<br>Vehicle=ice<br>Year=%{x}<br>Person-kilometers=%{y}\", \"legendgroup\": \"Mode=Driving\", \"line\": {\"color\": \"#636efa\"}, \"mode\": \"lines\", \"name\": \"Mode=Driving\", \"orientation\": \"v\", \"showlegend\": true, \"stackgroup\": \"1\", \"type\": \"scatter\", \"x\": [1999.0, 2000.0, 2001.0, 2002.0, 2003.0, 2004.0, 2005.0, 2006.0, 2007.0, 2008.0, 2009.0, 2010.0, 2011.0, 2012.0, 2013.0, 2014.0, 2015.0, 2016.0, 2017.0, 2018.0, 2019.0, 2020.0, 2021.0, 2022.0, 2023.0, 2024.0, 2025.0, 2026.0, 2027.0, 2028.0, 2029.0, 2030.0, 2031.0, 2032.0, 2033.0, 2034.0, 2035.0, 2036.0, 2037.0, 2038.0, 2039.0, 2040.0, 2041.0, 2042.0, 2043.0, 2044.0, 2045.0, 2046.0, 2047.0, 2048.0, 2049.0, 2050.0, 2051.0], \"xaxis\": \"x\", \"y\": [138.67145056578636, 137.8817294158311, 137.26119923653286, 136.79836844298333, 136.48174157428267, 136.29973308728125, 136.24055203953264, 136.2920475204943, 136.4415044387523, 136.67537006051361, 136.97889168574773, 137.33563792507877, 137.726864770953, 138.13068670615752, 138.52099682931274, 138.86607746294746, 139.1268380996962, 139.25463164027116, 139.18863596403344, 138.85287114556579, 138.15308921735527, 136.97405772758697, 135.17821321699336, 132.60729044857095, 129.0892580557895, 124.45339146586628, 118.55593185844702, 111.31651450813789, 102.76059760335548, 93.05610102139474, 82.52686234762915, 71.62728272367275, 60.875570819974676, 50.76294584109989, 41.67015666890738, 33.81959980463582, 27.273068397793804, 21.965018267561096, 17.751198525786194, 14.4545084631791, 11.898225798614472, 9.924822841190142, 8.40330181805473, 7.2293491223660125, 6.321996777720093, 5.619212592106155, 5.073689108508156, 4.649327217389826, 4.318492728442301, 4.059946944280794, 3.8573061442632204, 3.6978954827182378, 3.5718910109218736], \"yaxis\": \"y\"}, {\"hoverlabel\": {\"namelength\": 0}, \"hovertemplate\": \"Mode=Driving<br>Vehicle=ev<br>Year=%{x}<br>Person-kilometers=%{y}\", \"legendgroup\": \"Mode=Driving\", \"line\": {\"color\": \"#636efa\"}, \"mode\": \"lines\", \"name\": \"Mode=Driving\", \"orientation\": \"v\", \"showlegend\": false, \"stackgroup\": \"1\", \"type\": \"scatter\", \"x\": [1999.0, 2000.0, 2001.0, 2002.0, 2003.0, 2004.0, 2005.0, 2006.0, 2007.0, 2008.0, 2009.0, 2010.0, 2011.0, 2012.0, 2013.0, 2014.0, 2015.0, 2016.0, 2017.0, 2018.0, 2019.0, 2020.0, 2021.0, 2022.0, 2023.0, 2024.0, 2025.0, 2026.0, 2027.0, 2028.0, 2029.0, 2030.0, 2031.0, 2032.0, 2033.0, 2034.0, 2035.0, 2036.0, 2037.0, 2038.0, 2039.0, 2040.0, 2041.0, 2042.0, 2043.0, 2044.0, 2045.0, 2046.0, 2047.0, 2048.0, 2049.0, 2050.0, 2051.0], \"xaxis\": \"x\", \"y\": [0.014659324019805952, 0.01480454531698515, 0.015046768042922458, 0.015414288543854819, 0.015946902916227402, 0.016700834792006423, 0.017756100436621573, 0.01922773172859056, 0.021283228448151902, 0.024170249654153125, 0.028261390213413395, 0.03412778832093603, 0.042661720741832894, 0.05528259860968479, 0.07428441849242094, 0.10342064197249509, 0.14888015594861298, 0.22088838696387178, 0.3362629018748574, 0.5223263780408637, 0.8225368373667947, 1.3038498386710449, 2.064908213417066, 3.2424335950814767, 5.01083347221993, 7.568085051853232, 11.101510170633079, 15.732366642400926, 21.448606108639684, 28.047261630721756, 35.11471209440313, 42.06703027640493, 48.251367253697715, 53.08091863501795, 56.15735950578132, 57.3391924101291, 56.739553755904396, 54.66596139273533, 51.531442765743215, 47.76720133283362, 43.756982460037214, 39.8005109900509, 36.1032914584735, 32.78478333447577, 29.89605952069584, 27.4398527878796, 25.3886182411857, 23.69867835905957, 22.32017006101924, 21.203374889406042, 20.302309743005264, 19.57643010479874, 18.99113743738786], \"yaxis\": \"y\"}, {\"hoverlabel\": {\"namelength\": 0}, \"hovertemplate\": \"Mode=Driving<br>Vehicle=hev<br>Year=%{x}<br>Person-kilometers=%{y}\", \"legendgroup\": \"Mode=Driving\", \"line\": {\"color\": \"#636efa\"}, \"mode\": \"lines\", \"name\": \"Mode=Driving\", \"orientation\": \"v\", \"showlegend\": false, \"stackgroup\": \"1\", \"type\": \"scatter\", \"x\": [1999.0, 2000.0, 2001.0, 2002.0, 2003.0, 2004.0, 2005.0, 2006.0, 2007.0, 2008.0, 2009.0, 2010.0, 2011.0, 2012.0, 2013.0, 2014.0, 2015.0, 2016.0, 2017.0, 2018.0, 2019.0, 2020.0, 2021.0, 2022.0, 2023.0, 2024.0, 2025.0, 2026.0, 2027.0, 2028.0, 2029.0, 2030.0, 2031.0, 2032.0, 2033.0, 2034.0, 2035.0, 2036.0, 2037.0, 2038.0, 2039.0, 2040.0, 2041.0, 2042.0, 2043.0, 2044.0, 2045.0, 2046.0, 2047.0, 2048.0, 2049.0, 2050.0, 2051.0], \"xaxis\": \"x\", \"y\": [1.3969279374370889, 1.3925235416304618, 1.391026727456526, 1.3927508099272743, 1.398160620181587, 1.4079249490981116, 1.4229869646654867, 1.444658318700481, 1.4747441344589804, 1.5157074925111145, 1.570883239585088, 1.6447510099659386, 1.7432748728569833, 1.8743095794355702, 2.048056351349499, 2.2775181293241245, 2.5788457680131853, 2.9713730711446713, 3.47700540183348, 4.11847044033105, 4.915825319681978, 5.880687815239969, 7.008153532116575, 8.267497694572555, 9.594473169262992, 10.889576989041485, 12.026636018185837, 12.873186364686985, 13.318807687755037, 13.302539949270537, 12.82913636210403, 11.96758651513765, 10.83242197702633, 9.555203871331484, 8.256751083195143, 7.0286428555606, 5.927025134028196, 4.9763725189222185, 4.1782957930389095, 3.5209240306489678, 2.9863167237643315, 2.555225253724451, 2.2096131306622513, 1.933687352368666, 1.7141086840969657, 1.5398271462105715, 1.401788354737412, 1.2926242081580075, 1.2063706331101687, 1.1382232014319194, 1.0843297198595163, 1.0416156711216578, 1.0076381717779639], \"yaxis\": \"y\"}, {\"hoverlabel\": {\"namelength\": 0}, \"hovertemplate\": \"Mode=Transit<br>Vehicle=train<br>Year=%{x}<br>Person-kilometers=%{y}\", \"legendgroup\": \"Mode=Transit\", \"line\": {\"color\": \"#EF553B\"}, \"mode\": \"lines\", \"name\": \"Mode=Transit\", \"orientation\": \"v\", \"showlegend\": true, \"stackgroup\": \"1\", \"type\": \"scatter\", \"x\": [1999.0, 2000.0, 2001.0, 2002.0, 2003.0, 2004.0, 2005.0, 2006.0, 2007.0, 2008.0, 2009.0, 2010.0, 2011.0, 2012.0, 2013.0, 2014.0, 2015.0, 2016.0, 2017.0, 2018.0, 2019.0, 2020.0, 2021.0, 2022.0, 2023.0, 2024.0, 2025.0, 2026.0, 2027.0, 2028.0, 2029.0, 2030.0, 2031.0, 2032.0, 2033.0, 2034.0, 2035.0, 2036.0, 2037.0, 2038.0, 2039.0, 2040.0, 2041.0, 2042.0, 2043.0, 2044.0, 2045.0, 2046.0, 2047.0, 2048.0, 2049.0, 2050.0, 2051.0], \"xaxis\": \"x\", \"y\": [17.05393732695073, 16.96276140716533, 16.89383991304778, 16.846153453735436, 16.818789601922177, 16.810962484746828, 16.822037412205642, 16.851561766993598, 16.899304047260514, 16.965302698660754, 17.04992747225314, 17.15395642353119, 17.27867189962779, 17.42598063296236, 17.598563087319064, 17.800058848174583, 18.03529560400677, 18.310570699563666, 18.633994906146313, 19.015907956944517, 19.469374202479088, 20.010761849667176, 20.6603993228602, 21.44328218391335, 22.389769389762257, 23.536150454148657, 24.92488054604253, 26.60416803684288, 28.62647679432206, 31.045420154821816, 33.91056098380638, 37.25991725711653, 41.110604613029395, 45.449011572885695, 50.222932834540835, 55.338631667352175, 60.66524466841235, 66.04704556148995, 71.32142455240866, 76.33827916927463, 80.9760379444375, 85.15098157529458, 88.81901891955236, 91.97132217125844, 94.62638150582711, 96.8210280202269, 98.6022549491729, 100.02077201614564, 101.12651324496254, 101.96588344630352, 102.58035175523055, 103.00598095986597, 103.27354681427441], \"yaxis\": \"y\"}, {\"hoverlabel\": {\"namelength\": 0}, \"hovertemplate\": \"Mode=Transit<br>Vehicle=metro-bus<br>Year=%{x}<br>Person-kilometers=%{y}\", \"legendgroup\": \"Mode=Transit\", \"line\": {\"color\": \"#EF553B\"}, \"mode\": \"lines\", \"name\": \"Mode=Transit\", \"orientation\": \"v\", \"showlegend\": false, \"stackgroup\": \"1\", \"type\": \"scatter\", \"x\": [1999.0, 2000.0, 2001.0, 2002.0, 2003.0, 2004.0, 2005.0, 2006.0, 2007.0, 2008.0, 2009.0, 2010.0, 2011.0, 2012.0, 2013.0, 2014.0, 2015.0, 2016.0, 2017.0, 2018.0, 2019.0, 2020.0, 2021.0, 2022.0, 2023.0, 2024.0, 2025.0, 2026.0, 2027.0, 2028.0, 2029.0, 2030.0, 2031.0, 2032.0, 2033.0, 2034.0, 2035.0, 2036.0, 2037.0, 2038.0, 2039.0, 2040.0, 2041.0, 2042.0, 2043.0, 2044.0, 2045.0, 2046.0, 2047.0, 2048.0, 2049.0, 2050.0, 2051.0], \"xaxis\": \"x\", \"y\": [5.094033227530737, 5.066798861880553, 5.046211922079206, 5.031967914752143, 5.023794296678052, 5.021456326612689, 5.024764421827659, 5.033583384946139, 5.047844066064829, 5.067557948950614, 5.092835478724965, 5.123909061574252, 5.161161736252455, 5.205163046209536, 5.25671364945894, 5.3169006949092905, 5.387166219378646, 5.469391247921614, 5.565998478459287, 5.680076402723687, 5.815527359182064, 5.977240552497987, 6.171288109425773, 6.405136236753338, 6.68785319434457, 7.030278707083364, 7.445094189077638, 7.946699543472548, 8.550765795706589, 9.273307318972748, 10.129128605552554, 11.129585674203637, 12.279790988307479, 13.57567878151131, 15.001655262265443, 16.52972114739091, 18.120787368486805, 19.728338284600895, 21.303802139031156, 22.80234312848463, 24.187647697689115, 25.43470878223085, 26.530356300645504, 27.471953375830438, 28.26502304719511, 28.920566811236604, 29.452621608194498, 29.876334498329214, 30.20662083940439, 30.457341808636116, 30.64088429052341, 30.76802028671321, 30.847942554913132], \"yaxis\": \"y\"}, {\"hoverlabel\": {\"namelength\": 0}, \"hovertemplate\": \"Mode=Cycling<br>Vehicle=ebike<br>Year=%{x}<br>Person-kilometers=%{y}\", \"legendgroup\": \"Mode=Cycling\", \"line\": {\"color\": \"#00cc96\"}, \"mode\": \"lines\", \"name\": \"Mode=Cycling\", \"orientation\": \"v\", \"showlegend\": true, \"stackgroup\": \"1\", \"type\": \"scatter\", \"x\": [1999.0, 2000.0, 2001.0, 2002.0, 2003.0, 2004.0, 2005.0, 2006.0, 2007.0, 2008.0, 2009.0, 2010.0, 2011.0, 2012.0, 2013.0, 2014.0, 2015.0, 2016.0, 2017.0, 2018.0, 2019.0, 2020.0, 2021.0, 2022.0, 2023.0, 2024.0, 2025.0, 2026.0, 2027.0, 2028.0, 2029.0, 2030.0, 2031.0, 2032.0, 2033.0, 2034.0, 2035.0, 2036.0, 2037.0, 2038.0, 2039.0, 2040.0, 2041.0, 2042.0, 2043.0, 2044.0, 2045.0, 2046.0, 2047.0, 2048.0, 2049.0, 2050.0, 2051.0], \"xaxis\": \"x\", \"y\": [0.01043724980615993, 0.013312765079039853, 0.01699658779675154, 0.02171739199344188, 0.02776752754473548, 0.0355197244157911, 0.045447459811436906, 0.0581493108416834, 0.07437728702426183, 0.09506850300537621, 0.12137846196812423, 0.15471248526293155, 0.1967492707049384, 0.24944716038741374, 0.31501972387532406, 0.39586371069017, 0.49442133221442514, 0.6129635462933092, 0.7532955603314744, 0.916412765339083, 1.1021720672580808, 1.3090778202509823, 1.5342916073850752, 1.7739391602781438, 2.0237020885269987, 2.279574802342817, 2.538589624661994, 2.7993079447942444, 3.061944265258471, 3.3280939025863567, 3.6001258046005864, 3.8803579305617535, 4.170164038399845, 4.46918638380064, 4.774844297609891, 5.082301683358608, 5.3849587112997845, 5.675377974909317, 5.946407309958448, 6.192197080928229, 6.408865038706471, 6.594704537750234, 6.749986278595751, 6.8765020238767, 6.977018816691193, 7.054774036665044, 7.113082205267584, 7.155071954390581, 7.183538993548063, 7.200886632059025, 7.209124375484523, 7.2098999878912835, 7.204547446144322], \"yaxis\": \"y\"}, {\"hoverlabel\": {\"namelength\": 0}, \"hovertemplate\": \"Mode=Cycling<br>Vehicle=bike<br>Year=%{x}<br>Person-kilometers=%{y}\", \"legendgroup\": \"Mode=Cycling\", \"line\": {\"color\": \"#00cc96\"}, \"mode\": \"lines\", \"name\": \"Mode=Cycling\", \"orientation\": \"v\", \"showlegend\": false, \"stackgroup\": \"1\", \"type\": \"scatter\", \"x\": [1999.0, 2000.0, 2001.0, 2002.0, 2003.0, 2004.0, 2005.0, 2006.0, 2007.0, 2008.0, 2009.0, 2010.0, 2011.0, 2012.0, 2013.0, 2014.0, 2015.0, 2016.0, 2017.0, 2018.0, 2019.0, 2020.0, 2021.0, 2022.0, 2023.0, 2024.0, 2025.0, 2026.0, 2027.0, 2028.0, 2029.0, 2030.0, 2031.0, 2032.0, 2033.0, 2034.0, 2035.0, 2036.0, 2037.0, 2038.0, 2039.0, 2040.0, 2041.0, 2042.0, 2043.0, 2044.0, 2045.0, 2046.0, 2047.0, 2048.0, 2049.0, 2050.0, 2051.0], \"xaxis\": \"x\", \"y\": [16.438181040046477, 16.34088211516467, 16.26286791596863, 16.202603334052633, 16.158519131914723, 16.128997380136404, 16.112354390197407, 16.106821231657698, 16.110522750601326, 16.121456232318017, 16.13747281179251, 16.156266617185434, 16.175379158418924, 16.1922312662211, 16.20419851235972, 16.20875067186329, 16.203676936034952, 16.187414314865137, 16.159481510777084, 16.12099189830198, 16.075179692509245, 16.0278335172517, 15.987513532005941, 15.965452442503299, 15.975112210348312, 16.031459253017694, 16.15008264777644, 16.3462709911654, 16.63408565960941, 17.02536623771097, 17.5285435083181, 18.147178420207073, 18.87831643331496, 19.711011326023673, 20.625605108145795, 21.59437124031186, 22.583822386385034, 23.558419723511875, 24.484859719193384, 25.335858552023698, 26.092547904842473, 26.745120900403926, 27.2919392339213, 27.73767562638673, 28.091135439824892, 28.36325239184948, 28.565525728304934, 28.708966068468076, 28.803493437006516, 28.857677004170228, 28.878702586013116, 28.872472840427186, 28.843772209974556], \"yaxis\": \"y\"}, {\"hoverlabel\": {\"namelength\": 0}, \"hovertemplate\": \"Mode=Cycling<br>Vehicle=emoped<br>Year=%{x}<br>Person-kilometers=%{y}\", \"legendgroup\": \"Mode=Cycling\", \"line\": {\"color\": \"#00cc96\"}, \"mode\": \"lines\", \"name\": \"Mode=Cycling\", \"orientation\": \"v\", \"showlegend\": false, \"stackgroup\": \"1\", \"type\": \"scatter\", \"x\": [1999.0, 2000.0, 2001.0, 2002.0, 2003.0, 2004.0, 2005.0, 2006.0, 2007.0, 2008.0, 2009.0, 2010.0, 2011.0, 2012.0, 2013.0, 2014.0, 2015.0, 2016.0, 2017.0, 2018.0, 2019.0, 2020.0, 2021.0, 2022.0, 2023.0, 2024.0, 2025.0, 2026.0, 2027.0, 2028.0, 2029.0, 2030.0, 2031.0, 2032.0, 2033.0, 2034.0, 2035.0, 2036.0, 2037.0, 2038.0, 2039.0, 2040.0, 2041.0, 2042.0, 2043.0, 2044.0, 2045.0, 2046.0, 2047.0, 2048.0, 2049.0, 2050.0, 2051.0], \"xaxis\": \"x\", \"y\": [0.0017443218527776704, 0.0019103385354171186, 0.0021381338542002418, 0.0024488567591794074, 0.002871198346513417, 0.0034440641197723866, 0.004220180733516648, 0.005270952139866276, 0.006692976593842844, 0.00861675389310088, 0.01121824997447112, 0.014734133397299945, 0.019481630336164155, 0.025884011616460055, 0.034502630798346166, 0.046076020211659505, 0.06156558317974796, 0.08220559629811788, 0.10955229047904123, 0.1455227605805849, 0.19241024747720836, 0.25286032277024506, 0.3297967171418516, 0.42629976861415597, 0.545463033419502, 0.6902705858871105, 0.8635241618065611, 1.067790599838048, 1.3052629716661068, 1.5774053777097155, 1.884341343661482, 2.22412098875251, 2.5921439614239254, 2.9810122688939233, 3.3809384091806223, 3.7806434358342886, 4.168549748646039, 4.53402712682097, 4.8684584146273755, 5.165936923096958, 5.423495896126434, 5.640888542121216, 5.820042902309585, 5.96436691034724, 6.078065833896699, 6.165579330578751, 6.231182130904886, 6.278743662967792, 6.311615879356362, 6.332610663148385, 6.344031991763595, 6.347736116066722, 6.345201842556526], \"yaxis\": \"y\"}, {\"hoverlabel\": {\"namelength\": 0}, \"hovertemplate\": \"Mode=Cycling<br>Vehicle=moped<br>Year=%{x}<br>Person-kilometers=%{y}\", \"legendgroup\": \"Mode=Cycling\", \"line\": {\"color\": \"#00cc96\"}, \"mode\": \"lines\", \"name\": \"Mode=Cycling\", \"orientation\": \"v\", \"showlegend\": false, \"stackgroup\": \"1\", \"type\": \"scatter\", \"x\": [1999.0, 2000.0, 2001.0, 2002.0, 2003.0, 2004.0, 2005.0, 2006.0, 2007.0, 2008.0, 2009.0, 2010.0, 2011.0, 2012.0, 2013.0, 2014.0, 2015.0, 2016.0, 2017.0, 2018.0, 2019.0, 2020.0, 2021.0, 2022.0, 2023.0, 2024.0, 2025.0, 2026.0, 2027.0, 2028.0, 2029.0, 2030.0, 2031.0, 2032.0, 2033.0, 2034.0, 2035.0, 2036.0, 2037.0, 2038.0, 2039.0, 2040.0, 2041.0, 2042.0, 2043.0, 2044.0, 2045.0, 2046.0, 2047.0, 2048.0, 2049.0, 2050.0, 2051.0], \"xaxis\": \"x\", \"y\": [1.2364628059082785, 1.2292372275796777, 1.2234788226971747, 1.2190739607453165, 1.2159057773003288, 1.2138524078451312, 1.2127846399723745, 1.2125627939159749, 1.213032614988126, 1.2140198561726547, 1.2153232142676642, 1.2167052218495122, 1.2178806607448625, 1.2185022250416513, 1.218143384359028, 1.2162790760805282, 1.2122660337947204, 1.205326617484755, 1.1945430433060547, 1.1788727458166737, 1.1571991142859857, 1.1284321141011668, 1.091665702630472, 1.0463787110781726, 0.9926339496650932, 0.9312005440143375, 0.8635241618065611, 0.7915206318260158, 0.7172560440587006, 0.6426426115220725, 0.5692673019009213, 0.4983835040391422, 0.43100193817713905, 0.3679830043008705, 0.3100679785210593, 0.25784716235825866, 0.21170204322712485, 0.1717615057629947, 0.13789396666581819, 0.1097373222463916, 0.08675607190725605, 0.06831038674476396, 0.05372290710302817, 0.042333312369899505, 0.03353607467718736, 0.02680147678049352, 0.02168292202024934, 0.01781468292777367, 0.014904034025458623, 0.012720849534199382, 0.011086738341588454, 0.00986491837629801, 0.008951400868161272], \"yaxis\": \"y\"}, {\"hoverlabel\": {\"namelength\": 0}, \"hovertemplate\": \"Mode=Walking<br>Vehicle=walk<br>Year=%{x}<br>Person-kilometers=%{y}\", \"legendgroup\": \"Mode=Walking\", \"line\": {\"color\": \"#ab63fa\"}, \"mode\": \"lines\", \"name\": \"Mode=Walking\", \"orientation\": \"v\", \"showlegend\": true, \"stackgroup\": \"1\", \"type\": \"scatter\", \"x\": [1999.0, 2000.0, 2001.0, 2002.0, 2003.0, 2004.0, 2005.0, 2006.0, 2007.0, 2008.0, 2009.0, 2010.0, 2011.0, 2012.0, 2013.0, 2014.0, 2015.0, 2016.0, 2017.0, 2018.0, 2019.0, 2020.0, 2021.0, 2022.0, 2023.0, 2024.0, 2025.0, 2026.0, 2027.0, 2028.0, 2029.0, 2030.0, 2031.0, 2032.0, 2033.0, 2034.0, 2035.0, 2036.0, 2037.0, 2038.0, 2039.0, 2040.0, 2041.0, 2042.0, 2043.0, 2044.0, 2045.0, 2046.0, 2047.0, 2048.0, 2049.0, 2050.0, 2051.0], \"xaxis\": \"x\", \"y\": [4.4217063544034225, 4.3963356115897, 4.376370365079188, 4.361460885887641, 4.351265908776573, 4.345453394129273, 4.343701667678682, 4.345701072138804, 4.351156407301888, 4.359790336347286, 4.371348184500691, 4.3856046144237935, 4.40237268005122, 4.421516165816654, 4.442966062848104, 4.466742369711411, 4.49298247130596, 4.521977518735328, 4.554218101223412, 4.5904500425095796, 4.631740280382629, 4.679550943593523, 4.735816889790834, 4.8030175206184405, 4.884227820489975, 4.983126296315488, 5.103930149012888, 5.251222541905926, 5.429637235148171, 5.643377032382277, 5.895569489620272, 6.187510210890118, 6.5179065928289655, 6.8822982457547734, 7.272863948364341, 7.678790880465753, 8.087258222389494, 8.484896582751285, 8.859404852611254, 9.200932469573816, 9.502916227895657, 9.762256091755033, 9.978922830482414, 10.155219468245138, 10.29493904127249, 10.40260180896844, 10.48286824662441, 10.540149092188553, 10.578388085984098, 10.600973787227957, 10.610736422900702, 10.60999346569037, 10.600618224885888], \"yaxis\": \"y\"}],\n",
       "                        {\"height\": 500, \"legend\": {\"font\": {\"size\": 10}, \"tracegroupgap\": 0, \"traceorder\": \"reversed\", \"y\": 0.5}, \"margin\": {\"t\": 60}, \"template\": {\"data\": {\"bar\": [{\"error_x\": {\"color\": \"#2a3f5f\"}, \"error_y\": {\"color\": \"#2a3f5f\"}, \"marker\": {\"line\": {\"color\": \"#E5ECF6\", \"width\": 0.5}}, \"type\": \"bar\"}], \"barpolar\": [{\"marker\": {\"line\": {\"color\": \"#E5ECF6\", \"width\": 0.5}}, \"type\": \"barpolar\"}], \"carpet\": [{\"aaxis\": {\"endlinecolor\": \"#2a3f5f\", \"gridcolor\": \"white\", \"linecolor\": \"white\", \"minorgridcolor\": \"white\", \"startlinecolor\": \"#2a3f5f\"}, \"baxis\": {\"endlinecolor\": \"#2a3f5f\", \"gridcolor\": \"white\", \"linecolor\": \"white\", \"minorgridcolor\": \"white\", \"startlinecolor\": \"#2a3f5f\"}, \"type\": \"carpet\"}], \"choropleth\": [{\"colorbar\": {\"outlinewidth\": 0, \"ticks\": \"\"}, \"type\": \"choropleth\"}], \"contour\": [{\"colorbar\": {\"outlinewidth\": 0, \"ticks\": \"\"}, \"colorscale\": [[0.0, \"#0d0887\"], [0.1111111111111111, \"#46039f\"], [0.2222222222222222, \"#7201a8\"], [0.3333333333333333, \"#9c179e\"], [0.4444444444444444, \"#bd3786\"], [0.5555555555555556, \"#d8576b\"], [0.6666666666666666, \"#ed7953\"], [0.7777777777777778, \"#fb9f3a\"], [0.8888888888888888, \"#fdca26\"], [1.0, \"#f0f921\"]], \"type\": \"contour\"}], \"contourcarpet\": [{\"colorbar\": {\"outlinewidth\": 0, \"ticks\": \"\"}, \"type\": \"contourcarpet\"}], \"heatmap\": [{\"colorbar\": {\"outlinewidth\": 0, \"ticks\": \"\"}, \"colorscale\": [[0.0, \"#0d0887\"], [0.1111111111111111, \"#46039f\"], [0.2222222222222222, \"#7201a8\"], [0.3333333333333333, \"#9c179e\"], [0.4444444444444444, \"#bd3786\"], [0.5555555555555556, \"#d8576b\"], [0.6666666666666666, \"#ed7953\"], [0.7777777777777778, \"#fb9f3a\"], [0.8888888888888888, \"#fdca26\"], [1.0, \"#f0f921\"]], \"type\": \"heatmap\"}], \"heatmapgl\": [{\"colorbar\": {\"outlinewidth\": 0, \"ticks\": \"\"}, \"colorscale\": [[0.0, \"#0d0887\"], [0.1111111111111111, \"#46039f\"], [0.2222222222222222, \"#7201a8\"], [0.3333333333333333, \"#9c179e\"], [0.4444444444444444, \"#bd3786\"], [0.5555555555555556, \"#d8576b\"], [0.6666666666666666, \"#ed7953\"], [0.7777777777777778, \"#fb9f3a\"], [0.8888888888888888, \"#fdca26\"], [1.0, \"#f0f921\"]], \"type\": \"heatmapgl\"}], \"histogram\": [{\"marker\": {\"colorbar\": {\"outlinewidth\": 0, \"ticks\": \"\"}}, \"type\": \"histogram\"}], \"histogram2d\": [{\"colorbar\": {\"outlinewidth\": 0, \"ticks\": \"\"}, \"colorscale\": [[0.0, \"#0d0887\"], [0.1111111111111111, \"#46039f\"], [0.2222222222222222, \"#7201a8\"], [0.3333333333333333, \"#9c179e\"], [0.4444444444444444, \"#bd3786\"], [0.5555555555555556, \"#d8576b\"], [0.6666666666666666, \"#ed7953\"], [0.7777777777777778, \"#fb9f3a\"], [0.8888888888888888, \"#fdca26\"], [1.0, \"#f0f921\"]], \"type\": \"histogram2d\"}], \"histogram2dcontour\": [{\"colorbar\": {\"outlinewidth\": 0, \"ticks\": \"\"}, \"colorscale\": [[0.0, \"#0d0887\"], [0.1111111111111111, \"#46039f\"], [0.2222222222222222, \"#7201a8\"], [0.3333333333333333, \"#9c179e\"], [0.4444444444444444, \"#bd3786\"], [0.5555555555555556, \"#d8576b\"], [0.6666666666666666, \"#ed7953\"], [0.7777777777777778, \"#fb9f3a\"], [0.8888888888888888, \"#fdca26\"], [1.0, \"#f0f921\"]], \"type\": \"histogram2dcontour\"}], \"mesh3d\": [{\"colorbar\": {\"outlinewidth\": 0, \"ticks\": \"\"}, \"type\": \"mesh3d\"}], \"parcoords\": [{\"line\": {\"colorbar\": {\"outlinewidth\": 0, \"ticks\": \"\"}}, \"type\": \"parcoords\"}], \"scatter\": [{\"marker\": {\"colorbar\": {\"outlinewidth\": 0, \"ticks\": \"\"}}, \"type\": \"scatter\"}], \"scatter3d\": [{\"line\": {\"colorbar\": {\"outlinewidth\": 0, \"ticks\": \"\"}}, \"marker\": {\"colorbar\": {\"outlinewidth\": 0, \"ticks\": \"\"}}, \"type\": \"scatter3d\"}], \"scattercarpet\": [{\"marker\": {\"colorbar\": {\"outlinewidth\": 0, \"ticks\": \"\"}}, \"type\": \"scattercarpet\"}], \"scattergeo\": [{\"marker\": {\"colorbar\": {\"outlinewidth\": 0, \"ticks\": \"\"}}, \"type\": \"scattergeo\"}], \"scattergl\": [{\"marker\": {\"colorbar\": {\"outlinewidth\": 0, \"ticks\": \"\"}}, \"type\": \"scattergl\"}], \"scattermapbox\": [{\"marker\": {\"colorbar\": {\"outlinewidth\": 0, \"ticks\": \"\"}}, \"type\": \"scattermapbox\"}], \"scatterpolar\": [{\"marker\": {\"colorbar\": {\"outlinewidth\": 0, \"ticks\": \"\"}}, \"type\": \"scatterpolar\"}], \"scatterpolargl\": [{\"marker\": {\"colorbar\": {\"outlinewidth\": 0, \"ticks\": \"\"}}, \"type\": \"scatterpolargl\"}], \"scatterternary\": [{\"marker\": {\"colorbar\": {\"outlinewidth\": 0, \"ticks\": \"\"}}, \"type\": \"scatterternary\"}], \"surface\": [{\"colorbar\": {\"outlinewidth\": 0, \"ticks\": \"\"}, \"colorscale\": [[0.0, \"#0d0887\"], [0.1111111111111111, \"#46039f\"], [0.2222222222222222, \"#7201a8\"], [0.3333333333333333, \"#9c179e\"], [0.4444444444444444, \"#bd3786\"], [0.5555555555555556, \"#d8576b\"], [0.6666666666666666, \"#ed7953\"], [0.7777777777777778, \"#fb9f3a\"], [0.8888888888888888, \"#fdca26\"], [1.0, \"#f0f921\"]], \"type\": \"surface\"}], \"table\": [{\"cells\": {\"fill\": {\"color\": \"#EBF0F8\"}, \"line\": {\"color\": \"white\"}}, \"header\": {\"fill\": {\"color\": \"#C8D4E3\"}, \"line\": {\"color\": \"white\"}}, \"type\": \"table\"}]}, \"layout\": {\"annotationdefaults\": {\"arrowcolor\": \"#2a3f5f\", \"arrowhead\": 0, \"arrowwidth\": 1}, \"colorscale\": {\"diverging\": [[0, \"#8e0152\"], [0.1, \"#c51b7d\"], [0.2, \"#de77ae\"], [0.3, \"#f1b6da\"], [0.4, \"#fde0ef\"], [0.5, \"#f7f7f7\"], [0.6, \"#e6f5d0\"], [0.7, \"#b8e186\"], [0.8, \"#7fbc41\"], [0.9, \"#4d9221\"], [1, \"#276419\"]], \"sequential\": [[0.0, \"#0d0887\"], [0.1111111111111111, \"#46039f\"], [0.2222222222222222, \"#7201a8\"], [0.3333333333333333, \"#9c179e\"], [0.4444444444444444, \"#bd3786\"], [0.5555555555555556, \"#d8576b\"], [0.6666666666666666, \"#ed7953\"], [0.7777777777777778, \"#fb9f3a\"], [0.8888888888888888, \"#fdca26\"], [1.0, \"#f0f921\"]], \"sequentialminus\": [[0.0, \"#0d0887\"], [0.1111111111111111, \"#46039f\"], [0.2222222222222222, \"#7201a8\"], [0.3333333333333333, \"#9c179e\"], [0.4444444444444444, \"#bd3786\"], [0.5555555555555556, \"#d8576b\"], [0.6666666666666666, \"#ed7953\"], [0.7777777777777778, \"#fb9f3a\"], [0.8888888888888888, \"#fdca26\"], [1.0, \"#f0f921\"]]}, \"colorway\": [\"#636efa\", \"#EF553B\", \"#00cc96\", \"#ab63fa\", \"#FFA15A\", \"#19d3f3\", \"#FF6692\", \"#B6E880\", \"#FF97FF\", \"#FECB52\"], \"font\": {\"color\": \"#2a3f5f\"}, \"geo\": {\"bgcolor\": \"white\", \"lakecolor\": \"white\", \"landcolor\": \"#E5ECF6\", \"showlakes\": true, \"showland\": true, \"subunitcolor\": \"white\"}, \"hoverlabel\": {\"align\": \"left\"}, \"hovermode\": \"closest\", \"mapbox\": {\"style\": \"light\"}, \"paper_bgcolor\": \"white\", \"plot_bgcolor\": \"#E5ECF6\", \"polar\": {\"angularaxis\": {\"gridcolor\": \"white\", \"linecolor\": \"white\", \"ticks\": \"\"}, \"bgcolor\": \"#E5ECF6\", \"radialaxis\": {\"gridcolor\": \"white\", \"linecolor\": \"white\", \"ticks\": \"\"}}, \"scene\": {\"xaxis\": {\"backgroundcolor\": \"#E5ECF6\", \"gridcolor\": \"white\", \"gridwidth\": 2, \"linecolor\": \"white\", \"showbackground\": true, \"ticks\": \"\", \"zerolinecolor\": \"white\"}, \"yaxis\": {\"backgroundcolor\": \"#E5ECF6\", \"gridcolor\": \"white\", \"gridwidth\": 2, \"linecolor\": \"white\", \"showbackground\": true, \"ticks\": \"\", \"zerolinecolor\": \"white\"}, \"zaxis\": {\"backgroundcolor\": \"#E5ECF6\", \"gridcolor\": \"white\", \"gridwidth\": 2, \"linecolor\": \"white\", \"showbackground\": true, \"ticks\": \"\", \"zerolinecolor\": \"white\"}}, \"shapedefaults\": {\"line\": {\"color\": \"#2a3f5f\"}}, \"ternary\": {\"aaxis\": {\"gridcolor\": \"white\", \"linecolor\": \"white\", \"ticks\": \"\"}, \"baxis\": {\"gridcolor\": \"white\", \"linecolor\": \"white\", \"ticks\": \"\"}, \"bgcolor\": \"#E5ECF6\", \"caxis\": {\"gridcolor\": \"white\", \"linecolor\": \"white\", \"ticks\": \"\"}}, \"title\": {\"x\": 0.05}, \"xaxis\": {\"automargin\": true, \"gridcolor\": \"white\", \"linecolor\": \"white\", \"ticks\": \"\", \"zerolinecolor\": \"white\", \"zerolinewidth\": 2}, \"yaxis\": {\"automargin\": true, \"gridcolor\": \"white\", \"linecolor\": \"white\", \"ticks\": \"\", \"zerolinecolor\": \"white\", \"zerolinewidth\": 2}}}, \"width\": 800, \"xaxis\": {\"anchor\": \"y\", \"domain\": [0.0, 0.98], \"title\": {\"text\": \"Year\"}}, \"yaxis\": {\"anchor\": \"x\", \"domain\": [0.0, 1.0], \"title\": {\"text\": \"Person-kilometers\"}}},\n",
       "                        {\"responsive\": true}\n",
       "                    ).then(function(){\n",
       "                            \n",
       "var gd = document.getElementById('f61ed869-8974-46b6-90b4-7066ba1eef2f');\n",
       "var x = new MutationObserver(function (mutations, observer) {{\n",
       "        var display = window.getComputedStyle(gd).display;\n",
       "        if (!display || display === 'none') {{\n",
       "            console.log([gd, 'removed!']);\n",
       "            Plotly.purge(gd);\n",
       "            observer.disconnect();\n",
       "        }}\n",
       "}});\n",
       "\n",
       "// Listen for the removal of the full notebook cells\n",
       "var notebookContainer = gd.closest('#notebook-container');\n",
       "if (notebookContainer) {{\n",
       "    x.observe(notebookContainer, {childList: true});\n",
       "}}\n",
       "\n",
       "// Listen for the clearing of the current output cell\n",
       "var outputEl = gd.closest('.output');\n",
       "if (outputEl) {{\n",
       "    x.observe(outputEl, {childList: true});\n",
       "}}\n",
       "\n",
       "                        })\n",
       "                };\n",
       "                });\n",
       "            </script>\n",
       "        </div>"
      ]
     },
     "metadata": {},
     "output_type": "display_data"
    },
    {
     "data": {
      "application/vnd.plotly.v1+json": {
       "config": {
        "plotlyServerURL": "https://plot.ly"
       },
       "data": [
        {
         "hoverlabel": {
          "namelength": 0
         },
         "hovertemplate": "Mode=Driving<br>Vehicle=ice<br>Year=%{x}<br>VehicleCount=%{y}",
         "legendgroup": "Mode=Driving",
         "line": {
          "color": "#636efa"
         },
         "mode": "lines",
         "name": "Mode=Driving",
         "orientation": "v",
         "showlegend": true,
         "stackgroup": "1",
         "type": "scatter",
         "x": [
          1999,
          2000,
          2001,
          2002,
          2003,
          2004,
          2005,
          2006,
          2007,
          2008,
          2009,
          2010,
          2011,
          2012,
          2013,
          2014,
          2015,
          2016,
          2017,
          2018,
          2019,
          2020,
          2021,
          2022,
          2023,
          2024,
          2025,
          2026,
          2027,
          2028,
          2029,
          2030,
          2031,
          2032,
          2033,
          2034,
          2035,
          2036,
          2037,
          2038,
          2039,
          2040,
          2041,
          2042,
          2043,
          2044,
          2045,
          2046,
          2047,
          2048,
          2049,
          2050,
          2051
         ],
         "xaxis": "x",
         "y": [
          6440562.719563214,
          6403781.908922897,
          6386661.6997586405,
          6400292.323507054,
          6443777.148322556,
          6515996.687968366,
          6615414.701344331,
          6739893.58264069,
          6886528.12187775,
          7051509.388175055,
          7230032.463669394,
          7416261.702315232,
          7603364.80829733,
          7783622.750012161,
          7948615.001548137,
          8089470.78839089,
          8197167.048569856,
          8262845.346804469,
          8278115.115795416,
          8235312.840741798,
          8127699.993800602,
          7949609.287553707,
          7696590.5322767785,
          7365658.453883715,
          6955788.528427015,
          6468805.823111068,
          5910709.086814305,
          5293214.173091822,
          4634909.258046058,
          3961083.927768294,
          3301399.804835729,
          2685403.258908506,
          2137173.7304519513,
          1671222.2253937188,
          1291269.2663204584,
          991995.3787686849,
          762472.7000392147,
          589661.3584432289,
          460947.5248610849,
          365493.33752653864,
          294658.4359936152,
          241879.13914588225,
          202316.38899951742,
          172460.31583382745,
          149780.1398634141,
          132447.72120002803,
          119133.12059615648,
          108859.13879066052,
          100899.91119558353,
          94710.68269765188,
          89878.98987098178,
          86090.33994641897,
          83103.70374472321
         ],
         "yaxis": "y"
        },
        {
         "hoverlabel": {
          "namelength": 0
         },
         "hovertemplate": "Mode=Driving<br>Vehicle=ev<br>Year=%{x}<br>VehicleCount=%{y}",
         "legendgroup": "Mode=Driving",
         "line": {
          "color": "#636efa"
         },
         "mode": "lines",
         "name": "Mode=Driving",
         "orientation": "v",
         "showlegend": false,
         "stackgroup": "1",
         "type": "scatter",
         "x": [
          1999,
          2000,
          2001,
          2002,
          2003,
          2004,
          2005,
          2006,
          2007,
          2008,
          2009,
          2010,
          2011,
          2012,
          2013,
          2014,
          2015,
          2016,
          2017,
          2018,
          2019,
          2020,
          2021,
          2022,
          2023,
          2024,
          2025,
          2026,
          2027,
          2028,
          2029,
          2030,
          2031,
          2032,
          2033,
          2034,
          2035,
          2036,
          2037,
          2038,
          2039,
          2040,
          2041,
          2042,
          2043,
          2044,
          2045,
          2046,
          2047,
          2048,
          2049,
          2050,
          2051
         ],
         "xaxis": "x",
         "y": [
          680.8488365178613,
          687.5826106359636,
          700.1149465355096,
          721.1778456310748,
          752.9086851677987,
          798.4064365066276,
          862.1806511242596,
          950.8468618961599,
          1074.2152971373885,
          1247.0187004091083,
          1491.695298427264,
          1842.934676921615,
          2355.1877601316864,
          3115.1578442051687,
          4262.590197338146,
          6024.640988194976,
          8771.819479239475,
          13106.684918763962,
          19998.924420890082,
          30978.985833347295,
          48390.757570747315,
          75671.96999952188,
          117568.89388598946,
          180100.64408963133,
          270001.53621506016,
          393371.944923295,
          553475.4441580237,
          748090.1325000229,
          967416.9413537078,
          1193877.1992802664,
          1404726.9017329325,
          1577149.5986057434,
          1693972.6915736077,
          1747534.7322206453,
          1740196.7788048119,
          1681871.288298913,
          1586266.7199846206,
          1467533.7239783043,
          1338123.2236733136,
          1207830.3377740507,
          1083637.5299732527,
          969983.3931428966,
          869216.3767320617,
          782100.0193385094,
          708294.5679687014,
          646771.3958579182,
          596139.2694765055,
          554879.7914233324,
          521502.13480607315,
          494633.58483016794,
          473063.5898483107,
          455756.9381113438,
          441848.26875909476
         ],
         "yaxis": "y"
        },
        {
         "hoverlabel": {
          "namelength": 0
         },
         "hovertemplate": "Mode=Driving<br>Vehicle=hev<br>Year=%{x}<br>VehicleCount=%{y}",
         "legendgroup": "Mode=Driving",
         "line": {
          "color": "#636efa"
         },
         "mode": "lines",
         "name": "Mode=Driving",
         "orientation": "v",
         "showlegend": false,
         "stackgroup": "1",
         "type": "scatter",
         "x": [
          1999,
          2000,
          2001,
          2002,
          2003,
          2004,
          2005,
          2006,
          2007,
          2008,
          2009,
          2010,
          2011,
          2012,
          2013,
          2014,
          2015,
          2016,
          2017,
          2018,
          2019,
          2020,
          2021,
          2022,
          2023,
          2024,
          2025,
          2026,
          2027,
          2028,
          2029,
          2030,
          2031,
          2032,
          2033,
          2034,
          2035,
          2036,
          2037,
          2038,
          2039,
          2040,
          2041,
          2042,
          2043,
          2044,
          2045,
          2046,
          2047,
          2048,
          2049,
          2050,
          2051
         ],
         "xaxis": "x",
         "y": [
          64879.98761868745,
          64674.39233191489,
          64723.44095054841,
          65161.685908930034,
          66012.01999688035,
          67307.79362096489,
          69095.79229492454,
          71441.02321783468,
          74433.85351328293,
          78200.0854172718,
          82914.50368054082,
          88818.19831578645,
          96239.42897061615,
          105616.78241776302,
          117521.616296279,
          132673.98859245577,
          151942.140291821,
          176310.08653235805,
          206791.67358215674,
          244264.9706963366,
          289203.4745415222,
          341299.4493176948,
          399020.5732150467,
          459217.318146694,
          516984.35185225104,
          566015.5838922885,
          599598.3978378591,
          612133.1845458751,
          600730.8880820979,
          566244.1969219894,
          513216.02539125195,
          448680.9300445321,
          380296.519188856,
          314577.27311420505,
          255859.1031490739,
          206163.91891118442,
          165701.73884462292,
          133593.08623753075,
          108498.31357251797,
          89029.26574206393,
          73955.85107390067,
          62273.72463814922,
          53198.24984996083,
          46129.23319495675,
          40610.49814987795,
          36294.515150403065,
          32914.79188883996,
          30265.44519252794,
          28186.38293590037,
          26552.538234959808,
          25265.93852370341,
          24249.751686995834,
          23443.734384184994
         ],
         "yaxis": "y"
        },
        {
         "hoverlabel": {
          "namelength": 0
         },
         "hovertemplate": "Mode=Transit<br>Vehicle=train<br>Year=%{x}<br>VehicleCount=%{y}",
         "legendgroup": "Mode=Transit",
         "line": {
          "color": "#EF553B"
         },
         "mode": "lines",
         "name": "Mode=Transit",
         "orientation": "v",
         "showlegend": true,
         "stackgroup": "1",
         "type": "scatter",
         "x": [
          1999,
          2000,
          2001,
          2002,
          2003,
          2004,
          2005,
          2006,
          2007,
          2008,
          2009,
          2010,
          2011,
          2012,
          2013,
          2014,
          2015,
          2016,
          2017,
          2018,
          2019,
          2020,
          2021,
          2022,
          2023,
          2024,
          2025,
          2026,
          2027,
          2028,
          2029,
          2030,
          2031,
          2032,
          2033,
          2034,
          2035,
          2036,
          2037,
          2038,
          2039,
          2040,
          2041,
          2042,
          2043,
          2044,
          2045,
          2046,
          2047,
          2048,
          2049,
          2050,
          2051
         ],
         "xaxis": "x",
         "y": [
          1297.4954656352572,
          1290.5586310363797,
          1285.314954788021,
          1281.6868797257193,
          1279.6049866725584,
          1279.009484950621,
          1279.852086156698,
          1282.0983543192203,
          1285.7306763442061,
          1290.7519772489845,
          1297.190388386043,
          1305.105105673338,
          1314.5936924804532,
          1325.8012165780133,
          1338.9316126667895,
          1354.2617872207677,
          1372.1590398136143,
          1393.1024842182646,
          1417.7092030933538,
          1446.7658626891703,
          1481.266423241245,
          1522.4562085623973,
          1571.8818432187788,
          1631.4450363316528,
          1703.4555541567656,
          1790.6743708097895,
          1896.3315549942297,
          2024.0948898206186,
          2177.9559245270757,
          2361.9936620715307,
          2579.9789380077245,
          2834.804231082374,
          3127.7717310848675,
          3457.845851247034,
          3821.05471448758,
          4210.266654925448,
          4615.525339976869,
          5024.982823128562,
          5426.267446940565,
          5807.959134457677,
          6160.808500918898,
          6478.4460251145165,
          6757.5171704291,
          6997.350300865918,
          7199.352183571991,
          7366.324997328374,
          7501.844075372745,
          7609.767508362893,
          7693.894370274634,
          7757.75522594391,
          7804.505124769294,
          7836.887791157053,
          7857.244702068479
         ],
         "yaxis": "y"
        },
        {
         "hoverlabel": {
          "namelength": 0
         },
         "hovertemplate": "Mode=Transit<br>Vehicle=metro-bus<br>Year=%{x}<br>VehicleCount=%{y}",
         "legendgroup": "Mode=Transit",
         "line": {
          "color": "#EF553B"
         },
         "mode": "lines",
         "name": "Mode=Transit",
         "orientation": "v",
         "showlegend": false,
         "stackgroup": "1",
         "type": "scatter",
         "x": [
          1999,
          2000,
          2001,
          2002,
          2003,
          2004,
          2005,
          2006,
          2007,
          2008,
          2009,
          2010,
          2011,
          2012,
          2013,
          2014,
          2015,
          2016,
          2017,
          2018,
          2019,
          2020,
          2021,
          2022,
          2023,
          2024,
          2025,
          2026,
          2027,
          2028,
          2029,
          2030,
          2031,
          2032,
          2033,
          2034,
          2035,
          2036,
          2037,
          2038,
          2039,
          2040,
          2041,
          2042,
          2043,
          2044,
          2045,
          2046,
          2047,
          2048,
          2049,
          2050,
          2051
         ],
         "xaxis": "x",
         "y": [
          8845.370532700386,
          8798.080292405724,
          8762.332761413356,
          8737.599211974095,
          8723.406395157084,
          8719.346702061495,
          8725.090937842237,
          8740.404343352744,
          8765.16684546242,
          8799.398384789767,
          8843.290740221826,
          8897.247466023111,
          8961.933677546427,
          9038.338340239066,
          9127.851731015719,
          9232.36159471264,
          9354.371909888234,
          9497.148922137321,
          9664.899447521693,
          9862.9863984011,
          10098.185865182706,
          10378.987550412176,
          10715.935203740215,
          11121.993280356468,
          11612.908069105184,
          12207.501862419083,
          12927.79489488496,
          13798.79141623278,
          14847.702875709023,
          16102.336917750588,
          17588.40032791021,
          19325.61190055002,
          21322.84900865212,
          23573.051782701878,
          26049.14288376062,
          28702.50385503669,
          31465.259738056044,
          34256.63994075325,
          36992.30359484902,
          39594.397008476146,
          41999.86467386794,
          44165.28387648861,
          46067.78585100146,
          47702.79187677781,
          49079.892258368345,
          50218.19019133234,
          51142.05967010967,
          51877.802321427174,
          52451.31743964637,
          52886.67382114516,
          53205.38027402229,
          53426.141494868876,
          53564.91995281483
         ],
         "yaxis": "y"
        },
        {
         "hoverlabel": {
          "namelength": 0
         },
         "hovertemplate": "Mode=Cycling<br>Vehicle=ebike<br>Year=%{x}<br>VehicleCount=%{y}",
         "legendgroup": "Mode=Cycling",
         "line": {
          "color": "#00cc96"
         },
         "mode": "lines",
         "name": "Mode=Cycling",
         "orientation": "v",
         "showlegend": true,
         "stackgroup": "1",
         "type": "scatter",
         "x": [
          1999,
          2000,
          2001,
          2002,
          2003,
          2004,
          2005,
          2006,
          2007,
          2008,
          2009,
          2010,
          2011,
          2012,
          2013,
          2014,
          2015,
          2016,
          2017,
          2018,
          2019,
          2020,
          2021,
          2022,
          2023,
          2024,
          2025,
          2026,
          2027,
          2028,
          2029,
          2030,
          2031,
          2032,
          2033,
          2034,
          2035,
          2036,
          2037,
          2038,
          2039,
          2040,
          2041,
          2042,
          2043,
          2044,
          2045,
          2046,
          2047,
          2048,
          2049,
          2050,
          2051
         ],
         "xaxis": "x",
         "y": [
          11386.442621694965,
          14523.349217746607,
          18573.82151775797,
          23854.360100258178,
          30758.176953761562,
          39804.006775512615,
          51672.18234752662,
          67247.70977322968,
          87669.42037683821,
          114382.41249563072,
          149188.0950155641,
          194281.98614327045,
          252263.99828228538,
          326099.7661290784,
          419006.05628627323,
          534231.3426641278,
          674708.8679930057,
          842579.8268754692,
          1038623.350368107,
          1261686.1609346454,
          1508263.7086060527,
          1772415.8326979035,
          2046165.835805158,
          2320412.261061108,
          2586205.427060483,
          2836086.2322135284,
          3065143.552489154,
          3271550.378327993,
          3456526.8097766284,
          3623837.817489097,
          3778988.0778338537,
          3928240.960887383,
          4077548.3577820957,
          4231502.811401243,
          4392496.330080818,
          4560302.572307178,
          4732221.162390731,
          4903752.4658042295,
          5069597.156329924,
          5224686.501462303,
          5364981.150965998,
          5487896.933840834,
          5592357.754189658,
          5678576.406490658,
          5747699.430392802,
          5801433.539281582,
          5841727.695733954,
          5870541.275604124,
          5889698.423201756,
          5900812.723999226,
          5905261.9253701335,
          5904194.035990697,
          5898550.547459036
         ],
         "yaxis": "y"
        },
        {
         "hoverlabel": {
          "namelength": 0
         },
         "hovertemplate": "Mode=Cycling<br>Vehicle=bike<br>Year=%{x}<br>VehicleCount=%{y}",
         "legendgroup": "Mode=Cycling",
         "line": {
          "color": "#00cc96"
         },
         "mode": "lines",
         "name": "Mode=Cycling",
         "orientation": "v",
         "showlegend": false,
         "stackgroup": "1",
         "type": "scatter",
         "x": [
          1999,
          2000,
          2001,
          2002,
          2003,
          2004,
          2005,
          2006,
          2007,
          2008,
          2009,
          2010,
          2011,
          2012,
          2013,
          2014,
          2015,
          2016,
          2017,
          2018,
          2019,
          2020,
          2021,
          2022,
          2023,
          2024,
          2025,
          2026,
          2027,
          2028,
          2029,
          2030,
          2031,
          2032,
          2033,
          2034,
          2035,
          2036,
          2037,
          2038,
          2039,
          2040,
          2041,
          2042,
          2043,
          2044,
          2045,
          2046,
          2047,
          2048,
          2049,
          2050,
          2051
         ],
         "xaxis": "x",
         "y": [
          17933115.398565676,
          17826825.31206227,
          17772014.574349184,
          17796922.144650225,
          17898842.090620473,
          18074428.548093114,
          18319186.98102323,
          18626993.577013716,
          18989670.745214995,
          19396656.07957428,
          19834810.790311653,
          20288417.975527562,
          20739420.306945447,
          21167941.221787814,
          21553118.10453779,
          21874252.17441795,
          22112242.75835877,
          22251223.312477496,
          22280251.883536182,
          22194837.466173068,
          21998026.31530076,
          21700761.750265185,
          21321308.04288034,
          20883710.349549983,
          20415515.767133035,
          19945211.19598606,
          19499930.677684862,
          19103882.138029583,
          18777664.7964908,
          18538288.83279779,
          18399400.61402245,
          18371111.858866323,
          18459045.606247064,
          18662725.75785945,
          18973999.799025174,
          19376430.768956732,
          19846325.28384398,
          20355412.33030708,
          20874516.112894267,
          21377213.362187352,
          21842561.33413775,
          22256412.875564676,
          22611347.890538927,
          22905615.36024859,
          23141603.51414097,
          23324279.821578745,
          23459875.47657792,
          23554923.18724206,
          23615642.656218063,
          23647608.461595304,
          23655619.455699787,
          23643695.784275565,
          23615147.18748664
         ],
         "yaxis": "y"
        },
        {
         "hoverlabel": {
          "namelength": 0
         },
         "hovertemplate": "Mode=Cycling<br>Vehicle=emoped<br>Year=%{x}<br>VehicleCount=%{y}",
         "legendgroup": "Mode=Cycling",
         "line": {
          "color": "#00cc96"
         },
         "mode": "lines",
         "name": "Mode=Cycling",
         "orientation": "v",
         "showlegend": false,
         "stackgroup": "1",
         "type": "scatter",
         "x": [
          1999,
          2000,
          2001,
          2002,
          2003,
          2004,
          2005,
          2006,
          2007,
          2008,
          2009,
          2010,
          2011,
          2012,
          2013,
          2014,
          2015,
          2016,
          2017,
          2018,
          2019,
          2020,
          2021,
          2022,
          2023,
          2024,
          2025,
          2026,
          2027,
          2028,
          2029,
          2030,
          2031,
          2032,
          2033,
          2034,
          2035,
          2036,
          2037,
          2038,
          2039,
          2040,
          2041,
          2042,
          2043,
          2044,
          2045,
          2046,
          2047,
          2048,
          2049,
          2050,
          2051
         ],
         "xaxis": "x",
         "y": [
          1221.0078614832469,
          1337.2111995709836,
          1496.6547565804246,
          1714.1395278477269,
          2009.7435623208523,
          2410.690611196426,
          2953.871347229677,
          3689.2363173082977,
          4684.346315933264,
          6030.4465082657125,
          7850.523614979091,
          10309.902468163913,
          13630.019644914055,
          18106.039090396956,
          24128.874027824215,
          32211.831427598747,
          43021.31626737881,
          57409.588895292356,
          76445.2405938626,
          101433.83127601283,
          133917.59768958724,
          175640.92662785487,
          228470.21269511446,
          294265.4583355102,
          374715.361763476,
          471158.07474761474,
          584399.7534466275,
          714504.6646440551,
          860488.582082576,
          1019859.7072987532,
          1188063.9857081827,
          1358073.838299632,
          1520492.4015073124,
          1664493.679513417,
          1779629.926303685,
          1858098.6634447826,
          1896690.1356339478,
          1897595.3913032261,
          1867678.9605080832,
          1816522.905994587,
          1754082.5326930985,
          1688817.1968900263,
          1626742.8583799915,
          1571356.85165088,
          1524103.0963059636,
          1485022.5984378126,
          1453352.6816984671,
          1427973.9350458346,
          1407695.6380962501,
          1391412.295770515,
          1378172.913827987,
          1367198.2685192823,
          1357871.0360821749
         ],
         "yaxis": "y"
        },
        {
         "hoverlabel": {
          "namelength": 0
         },
         "hovertemplate": "Mode=Cycling<br>Vehicle=moped<br>Year=%{x}<br>VehicleCount=%{y}",
         "legendgroup": "Mode=Cycling",
         "line": {
          "color": "#00cc96"
         },
         "mode": "lines",
         "name": "Mode=Cycling",
         "orientation": "v",
         "showlegend": false,
         "stackgroup": "1",
         "type": "scatter",
         "x": [
          1999,
          2000,
          2001,
          2002,
          2003,
          2004,
          2005,
          2006,
          2007,
          2008,
          2009,
          2010,
          2011,
          2012,
          2013,
          2014,
          2015,
          2016,
          2017,
          2018,
          2019,
          2020,
          2021,
          2022,
          2023,
          2024,
          2025,
          2026,
          2027,
          2028,
          2029,
          2030,
          2031,
          2032,
          2033,
          2034,
          2035,
          2036,
          2037,
          2038,
          2039,
          2040,
          2041,
          2042,
          2043,
          2044,
          2045,
          2046,
          2047,
          2048,
          2049,
          2050,
          2051
         ],
         "xaxis": "x",
         "y": [
          865511.6050065738,
          860449.4738364378,
          856412.8929383926,
          853321.8023677566,
          851093.6944796853,
          849642.3124560823,
          848875.9189679204,
          848694.9943061183,
          848989.2025550905,
          849633.3878681799,
          850482.3493104944,
          851364.0966541634,
          852071.2612177506,
          852350.4488118091,
          851889.4817271534,
          850302.964267461,
          847117.4598933946,
          841759.0615535426,
          833548.3443198873,
          821710.4920081625,
          805410.9771469107,
          783827.4506097441,
          756263.1230336606,
          722292.4657194245,
          681907.2361616887,
          635609.6645170975,
          584399.7534466275,
          529640.5340967362,
          472847.7324032368,
          415495.7976853171,
          358919.03656668507,
          304318.6956548135,
          252815.88591756817,
          205468.92450544052,
          163210.97487791762,
          126725.90681516739,
          96324.4296683418,
          71886.16931978737,
          52900.043173617916,
          38587.4551839429,
          28058.896559002147,
          20451.344677231322,
          15015.929766872032,
          11153.026204695003,
          8409.325704963721,
          6455.321804577797,
          5057.296064079554,
          4051.591249377831,
          3324.084368996123,
          2795.0473187201696,
          2408.475005314065,
          2124.741652227958,
          1915.596741102211
         ],
         "yaxis": "y"
        },
        {
         "hoverlabel": {
          "namelength": 0
         },
         "hovertemplate": "Mode=Walking<br>Vehicle=walk<br>Year=%{x}<br>VehicleCount=%{y}",
         "legendgroup": "Mode=Walking",
         "line": {
          "color": "#ab63fa"
         },
         "mode": "lines",
         "name": "Mode=Walking",
         "orientation": "v",
         "showlegend": true,
         "stackgroup": "1",
         "type": "scatter",
         "x": [
          1999,
          2000,
          2001,
          2002,
          2003,
          2004,
          2005,
          2006,
          2007,
          2008,
          2009,
          2010,
          2011,
          2012,
          2013,
          2014,
          2015,
          2016,
          2017,
          2018,
          2019,
          2020,
          2021,
          2022,
          2023,
          2024,
          2025,
          2026,
          2027,
          2028,
          2029,
          2030,
          2031,
          2032,
          2033,
          2034,
          2035,
          2036,
          2037,
          2038,
          2039,
          2040,
          2041,
          2042,
          2043,
          2044,
          2045,
          2046,
          2047,
          2048,
          2049,
          2050,
          2051
         ],
         "xaxis": "x",
         "y": [
          null,
          null,
          null,
          null,
          null,
          null,
          null,
          null,
          null,
          null,
          null,
          null,
          null,
          null,
          null,
          null,
          null,
          null,
          null,
          null,
          null,
          null,
          null,
          null,
          null,
          null,
          null,
          null,
          null,
          null,
          null,
          null,
          null,
          null,
          null,
          null,
          null,
          null,
          null,
          null,
          null,
          null,
          null,
          null,
          null,
          null,
          null,
          null,
          null,
          null,
          null,
          null,
          null
         ],
         "yaxis": "y"
        }
       ],
       "layout": {
        "height": 500,
        "legend": {
         "font": {
          "size": 10
         },
         "tracegroupgap": 0,
         "traceorder": "reversed",
         "y": 0.5
        },
        "margin": {
         "t": 60
        },
        "template": {
         "data": {
          "bar": [
           {
            "error_x": {
             "color": "#2a3f5f"
            },
            "error_y": {
             "color": "#2a3f5f"
            },
            "marker": {
             "line": {
              "color": "#E5ECF6",
              "width": 0.5
             }
            },
            "type": "bar"
           }
          ],
          "barpolar": [
           {
            "marker": {
             "line": {
              "color": "#E5ECF6",
              "width": 0.5
             }
            },
            "type": "barpolar"
           }
          ],
          "carpet": [
           {
            "aaxis": {
             "endlinecolor": "#2a3f5f",
             "gridcolor": "white",
             "linecolor": "white",
             "minorgridcolor": "white",
             "startlinecolor": "#2a3f5f"
            },
            "baxis": {
             "endlinecolor": "#2a3f5f",
             "gridcolor": "white",
             "linecolor": "white",
             "minorgridcolor": "white",
             "startlinecolor": "#2a3f5f"
            },
            "type": "carpet"
           }
          ],
          "choropleth": [
           {
            "colorbar": {
             "outlinewidth": 0,
             "ticks": ""
            },
            "type": "choropleth"
           }
          ],
          "contour": [
           {
            "colorbar": {
             "outlinewidth": 0,
             "ticks": ""
            },
            "colorscale": [
             [
              0,
              "#0d0887"
             ],
             [
              0.1111111111111111,
              "#46039f"
             ],
             [
              0.2222222222222222,
              "#7201a8"
             ],
             [
              0.3333333333333333,
              "#9c179e"
             ],
             [
              0.4444444444444444,
              "#bd3786"
             ],
             [
              0.5555555555555556,
              "#d8576b"
             ],
             [
              0.6666666666666666,
              "#ed7953"
             ],
             [
              0.7777777777777778,
              "#fb9f3a"
             ],
             [
              0.8888888888888888,
              "#fdca26"
             ],
             [
              1,
              "#f0f921"
             ]
            ],
            "type": "contour"
           }
          ],
          "contourcarpet": [
           {
            "colorbar": {
             "outlinewidth": 0,
             "ticks": ""
            },
            "type": "contourcarpet"
           }
          ],
          "heatmap": [
           {
            "colorbar": {
             "outlinewidth": 0,
             "ticks": ""
            },
            "colorscale": [
             [
              0,
              "#0d0887"
             ],
             [
              0.1111111111111111,
              "#46039f"
             ],
             [
              0.2222222222222222,
              "#7201a8"
             ],
             [
              0.3333333333333333,
              "#9c179e"
             ],
             [
              0.4444444444444444,
              "#bd3786"
             ],
             [
              0.5555555555555556,
              "#d8576b"
             ],
             [
              0.6666666666666666,
              "#ed7953"
             ],
             [
              0.7777777777777778,
              "#fb9f3a"
             ],
             [
              0.8888888888888888,
              "#fdca26"
             ],
             [
              1,
              "#f0f921"
             ]
            ],
            "type": "heatmap"
           }
          ],
          "heatmapgl": [
           {
            "colorbar": {
             "outlinewidth": 0,
             "ticks": ""
            },
            "colorscale": [
             [
              0,
              "#0d0887"
             ],
             [
              0.1111111111111111,
              "#46039f"
             ],
             [
              0.2222222222222222,
              "#7201a8"
             ],
             [
              0.3333333333333333,
              "#9c179e"
             ],
             [
              0.4444444444444444,
              "#bd3786"
             ],
             [
              0.5555555555555556,
              "#d8576b"
             ],
             [
              0.6666666666666666,
              "#ed7953"
             ],
             [
              0.7777777777777778,
              "#fb9f3a"
             ],
             [
              0.8888888888888888,
              "#fdca26"
             ],
             [
              1,
              "#f0f921"
             ]
            ],
            "type": "heatmapgl"
           }
          ],
          "histogram": [
           {
            "marker": {
             "colorbar": {
              "outlinewidth": 0,
              "ticks": ""
             }
            },
            "type": "histogram"
           }
          ],
          "histogram2d": [
           {
            "colorbar": {
             "outlinewidth": 0,
             "ticks": ""
            },
            "colorscale": [
             [
              0,
              "#0d0887"
             ],
             [
              0.1111111111111111,
              "#46039f"
             ],
             [
              0.2222222222222222,
              "#7201a8"
             ],
             [
              0.3333333333333333,
              "#9c179e"
             ],
             [
              0.4444444444444444,
              "#bd3786"
             ],
             [
              0.5555555555555556,
              "#d8576b"
             ],
             [
              0.6666666666666666,
              "#ed7953"
             ],
             [
              0.7777777777777778,
              "#fb9f3a"
             ],
             [
              0.8888888888888888,
              "#fdca26"
             ],
             [
              1,
              "#f0f921"
             ]
            ],
            "type": "histogram2d"
           }
          ],
          "histogram2dcontour": [
           {
            "colorbar": {
             "outlinewidth": 0,
             "ticks": ""
            },
            "colorscale": [
             [
              0,
              "#0d0887"
             ],
             [
              0.1111111111111111,
              "#46039f"
             ],
             [
              0.2222222222222222,
              "#7201a8"
             ],
             [
              0.3333333333333333,
              "#9c179e"
             ],
             [
              0.4444444444444444,
              "#bd3786"
             ],
             [
              0.5555555555555556,
              "#d8576b"
             ],
             [
              0.6666666666666666,
              "#ed7953"
             ],
             [
              0.7777777777777778,
              "#fb9f3a"
             ],
             [
              0.8888888888888888,
              "#fdca26"
             ],
             [
              1,
              "#f0f921"
             ]
            ],
            "type": "histogram2dcontour"
           }
          ],
          "mesh3d": [
           {
            "colorbar": {
             "outlinewidth": 0,
             "ticks": ""
            },
            "type": "mesh3d"
           }
          ],
          "parcoords": [
           {
            "line": {
             "colorbar": {
              "outlinewidth": 0,
              "ticks": ""
             }
            },
            "type": "parcoords"
           }
          ],
          "scatter": [
           {
            "marker": {
             "colorbar": {
              "outlinewidth": 0,
              "ticks": ""
             }
            },
            "type": "scatter"
           }
          ],
          "scatter3d": [
           {
            "line": {
             "colorbar": {
              "outlinewidth": 0,
              "ticks": ""
             }
            },
            "marker": {
             "colorbar": {
              "outlinewidth": 0,
              "ticks": ""
             }
            },
            "type": "scatter3d"
           }
          ],
          "scattercarpet": [
           {
            "marker": {
             "colorbar": {
              "outlinewidth": 0,
              "ticks": ""
             }
            },
            "type": "scattercarpet"
           }
          ],
          "scattergeo": [
           {
            "marker": {
             "colorbar": {
              "outlinewidth": 0,
              "ticks": ""
             }
            },
            "type": "scattergeo"
           }
          ],
          "scattergl": [
           {
            "marker": {
             "colorbar": {
              "outlinewidth": 0,
              "ticks": ""
             }
            },
            "type": "scattergl"
           }
          ],
          "scattermapbox": [
           {
            "marker": {
             "colorbar": {
              "outlinewidth": 0,
              "ticks": ""
             }
            },
            "type": "scattermapbox"
           }
          ],
          "scatterpolar": [
           {
            "marker": {
             "colorbar": {
              "outlinewidth": 0,
              "ticks": ""
             }
            },
            "type": "scatterpolar"
           }
          ],
          "scatterpolargl": [
           {
            "marker": {
             "colorbar": {
              "outlinewidth": 0,
              "ticks": ""
             }
            },
            "type": "scatterpolargl"
           }
          ],
          "scatterternary": [
           {
            "marker": {
             "colorbar": {
              "outlinewidth": 0,
              "ticks": ""
             }
            },
            "type": "scatterternary"
           }
          ],
          "surface": [
           {
            "colorbar": {
             "outlinewidth": 0,
             "ticks": ""
            },
            "colorscale": [
             [
              0,
              "#0d0887"
             ],
             [
              0.1111111111111111,
              "#46039f"
             ],
             [
              0.2222222222222222,
              "#7201a8"
             ],
             [
              0.3333333333333333,
              "#9c179e"
             ],
             [
              0.4444444444444444,
              "#bd3786"
             ],
             [
              0.5555555555555556,
              "#d8576b"
             ],
             [
              0.6666666666666666,
              "#ed7953"
             ],
             [
              0.7777777777777778,
              "#fb9f3a"
             ],
             [
              0.8888888888888888,
              "#fdca26"
             ],
             [
              1,
              "#f0f921"
             ]
            ],
            "type": "surface"
           }
          ],
          "table": [
           {
            "cells": {
             "fill": {
              "color": "#EBF0F8"
             },
             "line": {
              "color": "white"
             }
            },
            "header": {
             "fill": {
              "color": "#C8D4E3"
             },
             "line": {
              "color": "white"
             }
            },
            "type": "table"
           }
          ]
         },
         "layout": {
          "annotationdefaults": {
           "arrowcolor": "#2a3f5f",
           "arrowhead": 0,
           "arrowwidth": 1
          },
          "colorscale": {
           "diverging": [
            [
             0,
             "#8e0152"
            ],
            [
             0.1,
             "#c51b7d"
            ],
            [
             0.2,
             "#de77ae"
            ],
            [
             0.3,
             "#f1b6da"
            ],
            [
             0.4,
             "#fde0ef"
            ],
            [
             0.5,
             "#f7f7f7"
            ],
            [
             0.6,
             "#e6f5d0"
            ],
            [
             0.7,
             "#b8e186"
            ],
            [
             0.8,
             "#7fbc41"
            ],
            [
             0.9,
             "#4d9221"
            ],
            [
             1,
             "#276419"
            ]
           ],
           "sequential": [
            [
             0,
             "#0d0887"
            ],
            [
             0.1111111111111111,
             "#46039f"
            ],
            [
             0.2222222222222222,
             "#7201a8"
            ],
            [
             0.3333333333333333,
             "#9c179e"
            ],
            [
             0.4444444444444444,
             "#bd3786"
            ],
            [
             0.5555555555555556,
             "#d8576b"
            ],
            [
             0.6666666666666666,
             "#ed7953"
            ],
            [
             0.7777777777777778,
             "#fb9f3a"
            ],
            [
             0.8888888888888888,
             "#fdca26"
            ],
            [
             1,
             "#f0f921"
            ]
           ],
           "sequentialminus": [
            [
             0,
             "#0d0887"
            ],
            [
             0.1111111111111111,
             "#46039f"
            ],
            [
             0.2222222222222222,
             "#7201a8"
            ],
            [
             0.3333333333333333,
             "#9c179e"
            ],
            [
             0.4444444444444444,
             "#bd3786"
            ],
            [
             0.5555555555555556,
             "#d8576b"
            ],
            [
             0.6666666666666666,
             "#ed7953"
            ],
            [
             0.7777777777777778,
             "#fb9f3a"
            ],
            [
             0.8888888888888888,
             "#fdca26"
            ],
            [
             1,
             "#f0f921"
            ]
           ]
          },
          "colorway": [
           "#636efa",
           "#EF553B",
           "#00cc96",
           "#ab63fa",
           "#FFA15A",
           "#19d3f3",
           "#FF6692",
           "#B6E880",
           "#FF97FF",
           "#FECB52"
          ],
          "font": {
           "color": "#2a3f5f"
          },
          "geo": {
           "bgcolor": "white",
           "lakecolor": "white",
           "landcolor": "#E5ECF6",
           "showlakes": true,
           "showland": true,
           "subunitcolor": "white"
          },
          "hoverlabel": {
           "align": "left"
          },
          "hovermode": "closest",
          "mapbox": {
           "style": "light"
          },
          "paper_bgcolor": "white",
          "plot_bgcolor": "#E5ECF6",
          "polar": {
           "angularaxis": {
            "gridcolor": "white",
            "linecolor": "white",
            "ticks": ""
           },
           "bgcolor": "#E5ECF6",
           "radialaxis": {
            "gridcolor": "white",
            "linecolor": "white",
            "ticks": ""
           }
          },
          "scene": {
           "xaxis": {
            "backgroundcolor": "#E5ECF6",
            "gridcolor": "white",
            "gridwidth": 2,
            "linecolor": "white",
            "showbackground": true,
            "ticks": "",
            "zerolinecolor": "white"
           },
           "yaxis": {
            "backgroundcolor": "#E5ECF6",
            "gridcolor": "white",
            "gridwidth": 2,
            "linecolor": "white",
            "showbackground": true,
            "ticks": "",
            "zerolinecolor": "white"
           },
           "zaxis": {
            "backgroundcolor": "#E5ECF6",
            "gridcolor": "white",
            "gridwidth": 2,
            "linecolor": "white",
            "showbackground": true,
            "ticks": "",
            "zerolinecolor": "white"
           }
          },
          "shapedefaults": {
           "line": {
            "color": "#2a3f5f"
           }
          },
          "ternary": {
           "aaxis": {
            "gridcolor": "white",
            "linecolor": "white",
            "ticks": ""
           },
           "baxis": {
            "gridcolor": "white",
            "linecolor": "white",
            "ticks": ""
           },
           "bgcolor": "#E5ECF6",
           "caxis": {
            "gridcolor": "white",
            "linecolor": "white",
            "ticks": ""
           }
          },
          "title": {
           "x": 0.05
          },
          "xaxis": {
           "automargin": true,
           "gridcolor": "white",
           "linecolor": "white",
           "ticks": "",
           "zerolinecolor": "white",
           "zerolinewidth": 2
          },
          "yaxis": {
           "automargin": true,
           "gridcolor": "white",
           "linecolor": "white",
           "ticks": "",
           "zerolinecolor": "white",
           "zerolinewidth": 2
          }
         }
        },
        "width": 800,
        "xaxis": {
         "anchor": "y",
         "domain": [
          0,
          0.98
         ],
         "title": {
          "text": "Year"
         }
        },
        "yaxis": {
         "anchor": "x",
         "domain": [
          0,
          1
         ],
         "title": {
          "text": "VehicleCount"
         }
        }
       }
      },
      "text/html": [
       "<div>\n",
       "        \n",
       "        \n",
       "            <div id=\"b50e3925-4bc0-4af4-84d4-155a91ed3cec\" class=\"plotly-graph-div\" style=\"height:500px; width:800px;\"></div>\n",
       "            <script type=\"text/javascript\">\n",
       "                require([\"plotly\"], function(Plotly) {\n",
       "                    window.PLOTLYENV=window.PLOTLYENV || {};\n",
       "                    \n",
       "                if (document.getElementById(\"b50e3925-4bc0-4af4-84d4-155a91ed3cec\")) {\n",
       "                    Plotly.newPlot(\n",
       "                        'b50e3925-4bc0-4af4-84d4-155a91ed3cec',\n",
       "                        [{\"hoverlabel\": {\"namelength\": 0}, \"hovertemplate\": \"Mode=Driving<br>Vehicle=ice<br>Year=%{x}<br>VehicleCount=%{y}\", \"legendgroup\": \"Mode=Driving\", \"line\": {\"color\": \"#636efa\"}, \"mode\": \"lines\", \"name\": \"Mode=Driving\", \"orientation\": \"v\", \"showlegend\": true, \"stackgroup\": \"1\", \"type\": \"scatter\", \"x\": [1999.0, 2000.0, 2001.0, 2002.0, 2003.0, 2004.0, 2005.0, 2006.0, 2007.0, 2008.0, 2009.0, 2010.0, 2011.0, 2012.0, 2013.0, 2014.0, 2015.0, 2016.0, 2017.0, 2018.0, 2019.0, 2020.0, 2021.0, 2022.0, 2023.0, 2024.0, 2025.0, 2026.0, 2027.0, 2028.0, 2029.0, 2030.0, 2031.0, 2032.0, 2033.0, 2034.0, 2035.0, 2036.0, 2037.0, 2038.0, 2039.0, 2040.0, 2041.0, 2042.0, 2043.0, 2044.0, 2045.0, 2046.0, 2047.0, 2048.0, 2049.0, 2050.0, 2051.0], \"xaxis\": \"x\", \"y\": [6440562.719563214, 6403781.908922897, 6386661.6997586405, 6400292.323507054, 6443777.148322556, 6515996.687968366, 6615414.701344331, 6739893.58264069, 6886528.12187775, 7051509.388175055, 7230032.463669394, 7416261.702315232, 7603364.80829733, 7783622.750012161, 7948615.001548137, 8089470.78839089, 8197167.048569856, 8262845.346804469, 8278115.115795416, 8235312.840741798, 8127699.993800602, 7949609.287553707, 7696590.5322767785, 7365658.453883715, 6955788.528427015, 6468805.823111068, 5910709.086814305, 5293214.173091822, 4634909.258046058, 3961083.927768294, 3301399.804835729, 2685403.258908506, 2137173.7304519513, 1671222.2253937188, 1291269.2663204584, 991995.3787686849, 762472.7000392147, 589661.3584432289, 460947.5248610849, 365493.33752653864, 294658.4359936152, 241879.13914588225, 202316.38899951742, 172460.31583382745, 149780.1398634141, 132447.72120002803, 119133.12059615648, 108859.13879066052, 100899.91119558353, 94710.68269765188, 89878.98987098178, 86090.33994641897, 83103.70374472321], \"yaxis\": \"y\"}, {\"hoverlabel\": {\"namelength\": 0}, \"hovertemplate\": \"Mode=Driving<br>Vehicle=ev<br>Year=%{x}<br>VehicleCount=%{y}\", \"legendgroup\": \"Mode=Driving\", \"line\": {\"color\": \"#636efa\"}, \"mode\": \"lines\", \"name\": \"Mode=Driving\", \"orientation\": \"v\", \"showlegend\": false, \"stackgroup\": \"1\", \"type\": \"scatter\", \"x\": [1999.0, 2000.0, 2001.0, 2002.0, 2003.0, 2004.0, 2005.0, 2006.0, 2007.0, 2008.0, 2009.0, 2010.0, 2011.0, 2012.0, 2013.0, 2014.0, 2015.0, 2016.0, 2017.0, 2018.0, 2019.0, 2020.0, 2021.0, 2022.0, 2023.0, 2024.0, 2025.0, 2026.0, 2027.0, 2028.0, 2029.0, 2030.0, 2031.0, 2032.0, 2033.0, 2034.0, 2035.0, 2036.0, 2037.0, 2038.0, 2039.0, 2040.0, 2041.0, 2042.0, 2043.0, 2044.0, 2045.0, 2046.0, 2047.0, 2048.0, 2049.0, 2050.0, 2051.0], \"xaxis\": \"x\", \"y\": [680.8488365178613, 687.5826106359636, 700.1149465355096, 721.1778456310748, 752.9086851677987, 798.4064365066276, 862.1806511242596, 950.8468618961599, 1074.2152971373885, 1247.0187004091083, 1491.695298427264, 1842.934676921615, 2355.1877601316864, 3115.1578442051687, 4262.590197338146, 6024.640988194976, 8771.819479239475, 13106.684918763962, 19998.924420890082, 30978.985833347295, 48390.757570747315, 75671.96999952188, 117568.89388598946, 180100.64408963133, 270001.53621506016, 393371.944923295, 553475.4441580237, 748090.1325000229, 967416.9413537078, 1193877.1992802664, 1404726.9017329325, 1577149.5986057434, 1693972.6915736077, 1747534.7322206453, 1740196.7788048119, 1681871.288298913, 1586266.7199846206, 1467533.7239783043, 1338123.2236733136, 1207830.3377740507, 1083637.5299732527, 969983.3931428966, 869216.3767320617, 782100.0193385094, 708294.5679687014, 646771.3958579182, 596139.2694765055, 554879.7914233324, 521502.13480607315, 494633.58483016794, 473063.5898483107, 455756.9381113438, 441848.26875909476], \"yaxis\": \"y\"}, {\"hoverlabel\": {\"namelength\": 0}, \"hovertemplate\": \"Mode=Driving<br>Vehicle=hev<br>Year=%{x}<br>VehicleCount=%{y}\", \"legendgroup\": \"Mode=Driving\", \"line\": {\"color\": \"#636efa\"}, \"mode\": \"lines\", \"name\": \"Mode=Driving\", \"orientation\": \"v\", \"showlegend\": false, \"stackgroup\": \"1\", \"type\": \"scatter\", \"x\": [1999.0, 2000.0, 2001.0, 2002.0, 2003.0, 2004.0, 2005.0, 2006.0, 2007.0, 2008.0, 2009.0, 2010.0, 2011.0, 2012.0, 2013.0, 2014.0, 2015.0, 2016.0, 2017.0, 2018.0, 2019.0, 2020.0, 2021.0, 2022.0, 2023.0, 2024.0, 2025.0, 2026.0, 2027.0, 2028.0, 2029.0, 2030.0, 2031.0, 2032.0, 2033.0, 2034.0, 2035.0, 2036.0, 2037.0, 2038.0, 2039.0, 2040.0, 2041.0, 2042.0, 2043.0, 2044.0, 2045.0, 2046.0, 2047.0, 2048.0, 2049.0, 2050.0, 2051.0], \"xaxis\": \"x\", \"y\": [64879.98761868745, 64674.39233191489, 64723.44095054841, 65161.685908930034, 66012.01999688035, 67307.79362096489, 69095.79229492454, 71441.02321783468, 74433.85351328293, 78200.0854172718, 82914.50368054082, 88818.19831578645, 96239.42897061615, 105616.78241776302, 117521.616296279, 132673.98859245577, 151942.140291821, 176310.08653235805, 206791.67358215674, 244264.9706963366, 289203.4745415222, 341299.4493176948, 399020.5732150467, 459217.318146694, 516984.35185225104, 566015.5838922885, 599598.3978378591, 612133.1845458751, 600730.8880820979, 566244.1969219894, 513216.02539125195, 448680.9300445321, 380296.519188856, 314577.27311420505, 255859.1031490739, 206163.91891118442, 165701.73884462292, 133593.08623753075, 108498.31357251797, 89029.26574206393, 73955.85107390067, 62273.72463814922, 53198.24984996083, 46129.23319495675, 40610.49814987795, 36294.515150403065, 32914.79188883996, 30265.44519252794, 28186.38293590037, 26552.538234959808, 25265.93852370341, 24249.751686995834, 23443.734384184994], \"yaxis\": \"y\"}, {\"hoverlabel\": {\"namelength\": 0}, \"hovertemplate\": \"Mode=Transit<br>Vehicle=train<br>Year=%{x}<br>VehicleCount=%{y}\", \"legendgroup\": \"Mode=Transit\", \"line\": {\"color\": \"#EF553B\"}, \"mode\": \"lines\", \"name\": \"Mode=Transit\", \"orientation\": \"v\", \"showlegend\": true, \"stackgroup\": \"1\", \"type\": \"scatter\", \"x\": [1999.0, 2000.0, 2001.0, 2002.0, 2003.0, 2004.0, 2005.0, 2006.0, 2007.0, 2008.0, 2009.0, 2010.0, 2011.0, 2012.0, 2013.0, 2014.0, 2015.0, 2016.0, 2017.0, 2018.0, 2019.0, 2020.0, 2021.0, 2022.0, 2023.0, 2024.0, 2025.0, 2026.0, 2027.0, 2028.0, 2029.0, 2030.0, 2031.0, 2032.0, 2033.0, 2034.0, 2035.0, 2036.0, 2037.0, 2038.0, 2039.0, 2040.0, 2041.0, 2042.0, 2043.0, 2044.0, 2045.0, 2046.0, 2047.0, 2048.0, 2049.0, 2050.0, 2051.0], \"xaxis\": \"x\", \"y\": [1297.4954656352572, 1290.5586310363797, 1285.314954788021, 1281.6868797257193, 1279.6049866725584, 1279.009484950621, 1279.852086156698, 1282.0983543192203, 1285.7306763442061, 1290.7519772489845, 1297.190388386043, 1305.105105673338, 1314.5936924804532, 1325.8012165780133, 1338.9316126667895, 1354.2617872207677, 1372.1590398136143, 1393.1024842182646, 1417.7092030933538, 1446.7658626891703, 1481.266423241245, 1522.4562085623973, 1571.8818432187788, 1631.4450363316528, 1703.4555541567656, 1790.6743708097895, 1896.3315549942297, 2024.0948898206186, 2177.9559245270757, 2361.9936620715307, 2579.9789380077245, 2834.804231082374, 3127.7717310848675, 3457.845851247034, 3821.05471448758, 4210.266654925448, 4615.525339976869, 5024.982823128562, 5426.267446940565, 5807.959134457677, 6160.808500918898, 6478.4460251145165, 6757.5171704291, 6997.350300865918, 7199.352183571991, 7366.324997328374, 7501.844075372745, 7609.767508362893, 7693.894370274634, 7757.75522594391, 7804.505124769294, 7836.887791157053, 7857.244702068479], \"yaxis\": \"y\"}, {\"hoverlabel\": {\"namelength\": 0}, \"hovertemplate\": \"Mode=Transit<br>Vehicle=metro-bus<br>Year=%{x}<br>VehicleCount=%{y}\", \"legendgroup\": \"Mode=Transit\", \"line\": {\"color\": \"#EF553B\"}, \"mode\": \"lines\", \"name\": \"Mode=Transit\", \"orientation\": \"v\", \"showlegend\": false, \"stackgroup\": \"1\", \"type\": \"scatter\", \"x\": [1999.0, 2000.0, 2001.0, 2002.0, 2003.0, 2004.0, 2005.0, 2006.0, 2007.0, 2008.0, 2009.0, 2010.0, 2011.0, 2012.0, 2013.0, 2014.0, 2015.0, 2016.0, 2017.0, 2018.0, 2019.0, 2020.0, 2021.0, 2022.0, 2023.0, 2024.0, 2025.0, 2026.0, 2027.0, 2028.0, 2029.0, 2030.0, 2031.0, 2032.0, 2033.0, 2034.0, 2035.0, 2036.0, 2037.0, 2038.0, 2039.0, 2040.0, 2041.0, 2042.0, 2043.0, 2044.0, 2045.0, 2046.0, 2047.0, 2048.0, 2049.0, 2050.0, 2051.0], \"xaxis\": \"x\", \"y\": [8845.370532700386, 8798.080292405724, 8762.332761413356, 8737.599211974095, 8723.406395157084, 8719.346702061495, 8725.090937842237, 8740.404343352744, 8765.16684546242, 8799.398384789767, 8843.290740221826, 8897.247466023111, 8961.933677546427, 9038.338340239066, 9127.851731015719, 9232.36159471264, 9354.371909888234, 9497.148922137321, 9664.899447521693, 9862.9863984011, 10098.185865182706, 10378.987550412176, 10715.935203740215, 11121.993280356468, 11612.908069105184, 12207.501862419083, 12927.79489488496, 13798.79141623278, 14847.702875709023, 16102.336917750588, 17588.40032791021, 19325.61190055002, 21322.84900865212, 23573.051782701878, 26049.14288376062, 28702.50385503669, 31465.259738056044, 34256.63994075325, 36992.30359484902, 39594.397008476146, 41999.86467386794, 44165.28387648861, 46067.78585100146, 47702.79187677781, 49079.892258368345, 50218.19019133234, 51142.05967010967, 51877.802321427174, 52451.31743964637, 52886.67382114516, 53205.38027402229, 53426.141494868876, 53564.91995281483], \"yaxis\": \"y\"}, {\"hoverlabel\": {\"namelength\": 0}, \"hovertemplate\": \"Mode=Cycling<br>Vehicle=ebike<br>Year=%{x}<br>VehicleCount=%{y}\", \"legendgroup\": \"Mode=Cycling\", \"line\": {\"color\": \"#00cc96\"}, \"mode\": \"lines\", \"name\": \"Mode=Cycling\", \"orientation\": \"v\", \"showlegend\": true, \"stackgroup\": \"1\", \"type\": \"scatter\", \"x\": [1999.0, 2000.0, 2001.0, 2002.0, 2003.0, 2004.0, 2005.0, 2006.0, 2007.0, 2008.0, 2009.0, 2010.0, 2011.0, 2012.0, 2013.0, 2014.0, 2015.0, 2016.0, 2017.0, 2018.0, 2019.0, 2020.0, 2021.0, 2022.0, 2023.0, 2024.0, 2025.0, 2026.0, 2027.0, 2028.0, 2029.0, 2030.0, 2031.0, 2032.0, 2033.0, 2034.0, 2035.0, 2036.0, 2037.0, 2038.0, 2039.0, 2040.0, 2041.0, 2042.0, 2043.0, 2044.0, 2045.0, 2046.0, 2047.0, 2048.0, 2049.0, 2050.0, 2051.0], \"xaxis\": \"x\", \"y\": [11386.442621694965, 14523.349217746607, 18573.82151775797, 23854.360100258178, 30758.176953761562, 39804.006775512615, 51672.18234752662, 67247.70977322968, 87669.42037683821, 114382.41249563072, 149188.0950155641, 194281.98614327045, 252263.99828228538, 326099.7661290784, 419006.05628627323, 534231.3426641278, 674708.8679930057, 842579.8268754692, 1038623.350368107, 1261686.1609346454, 1508263.7086060527, 1772415.8326979035, 2046165.835805158, 2320412.261061108, 2586205.427060483, 2836086.2322135284, 3065143.552489154, 3271550.378327993, 3456526.8097766284, 3623837.817489097, 3778988.0778338537, 3928240.960887383, 4077548.3577820957, 4231502.811401243, 4392496.330080818, 4560302.572307178, 4732221.162390731, 4903752.4658042295, 5069597.156329924, 5224686.501462303, 5364981.150965998, 5487896.933840834, 5592357.754189658, 5678576.406490658, 5747699.430392802, 5801433.539281582, 5841727.695733954, 5870541.275604124, 5889698.423201756, 5900812.723999226, 5905261.9253701335, 5904194.035990697, 5898550.547459036], \"yaxis\": \"y\"}, {\"hoverlabel\": {\"namelength\": 0}, \"hovertemplate\": \"Mode=Cycling<br>Vehicle=bike<br>Year=%{x}<br>VehicleCount=%{y}\", \"legendgroup\": \"Mode=Cycling\", \"line\": {\"color\": \"#00cc96\"}, \"mode\": \"lines\", \"name\": \"Mode=Cycling\", \"orientation\": \"v\", \"showlegend\": false, \"stackgroup\": \"1\", \"type\": \"scatter\", \"x\": [1999.0, 2000.0, 2001.0, 2002.0, 2003.0, 2004.0, 2005.0, 2006.0, 2007.0, 2008.0, 2009.0, 2010.0, 2011.0, 2012.0, 2013.0, 2014.0, 2015.0, 2016.0, 2017.0, 2018.0, 2019.0, 2020.0, 2021.0, 2022.0, 2023.0, 2024.0, 2025.0, 2026.0, 2027.0, 2028.0, 2029.0, 2030.0, 2031.0, 2032.0, 2033.0, 2034.0, 2035.0, 2036.0, 2037.0, 2038.0, 2039.0, 2040.0, 2041.0, 2042.0, 2043.0, 2044.0, 2045.0, 2046.0, 2047.0, 2048.0, 2049.0, 2050.0, 2051.0], \"xaxis\": \"x\", \"y\": [17933115.398565676, 17826825.31206227, 17772014.574349184, 17796922.144650225, 17898842.090620473, 18074428.548093114, 18319186.98102323, 18626993.577013716, 18989670.745214995, 19396656.07957428, 19834810.790311653, 20288417.975527562, 20739420.306945447, 21167941.221787814, 21553118.10453779, 21874252.17441795, 22112242.75835877, 22251223.312477496, 22280251.883536182, 22194837.466173068, 21998026.31530076, 21700761.750265185, 21321308.04288034, 20883710.349549983, 20415515.767133035, 19945211.19598606, 19499930.677684862, 19103882.138029583, 18777664.7964908, 18538288.83279779, 18399400.61402245, 18371111.858866323, 18459045.606247064, 18662725.75785945, 18973999.799025174, 19376430.768956732, 19846325.28384398, 20355412.33030708, 20874516.112894267, 21377213.362187352, 21842561.33413775, 22256412.875564676, 22611347.890538927, 22905615.36024859, 23141603.51414097, 23324279.821578745, 23459875.47657792, 23554923.18724206, 23615642.656218063, 23647608.461595304, 23655619.455699787, 23643695.784275565, 23615147.18748664], \"yaxis\": \"y\"}, {\"hoverlabel\": {\"namelength\": 0}, \"hovertemplate\": \"Mode=Cycling<br>Vehicle=emoped<br>Year=%{x}<br>VehicleCount=%{y}\", \"legendgroup\": \"Mode=Cycling\", \"line\": {\"color\": \"#00cc96\"}, \"mode\": \"lines\", \"name\": \"Mode=Cycling\", \"orientation\": \"v\", \"showlegend\": false, \"stackgroup\": \"1\", \"type\": \"scatter\", \"x\": [1999.0, 2000.0, 2001.0, 2002.0, 2003.0, 2004.0, 2005.0, 2006.0, 2007.0, 2008.0, 2009.0, 2010.0, 2011.0, 2012.0, 2013.0, 2014.0, 2015.0, 2016.0, 2017.0, 2018.0, 2019.0, 2020.0, 2021.0, 2022.0, 2023.0, 2024.0, 2025.0, 2026.0, 2027.0, 2028.0, 2029.0, 2030.0, 2031.0, 2032.0, 2033.0, 2034.0, 2035.0, 2036.0, 2037.0, 2038.0, 2039.0, 2040.0, 2041.0, 2042.0, 2043.0, 2044.0, 2045.0, 2046.0, 2047.0, 2048.0, 2049.0, 2050.0, 2051.0], \"xaxis\": \"x\", \"y\": [1221.0078614832469, 1337.2111995709836, 1496.6547565804246, 1714.1395278477269, 2009.7435623208523, 2410.690611196426, 2953.871347229677, 3689.2363173082977, 4684.346315933264, 6030.4465082657125, 7850.523614979091, 10309.902468163913, 13630.019644914055, 18106.039090396956, 24128.874027824215, 32211.831427598747, 43021.31626737881, 57409.588895292356, 76445.2405938626, 101433.83127601283, 133917.59768958724, 175640.92662785487, 228470.21269511446, 294265.4583355102, 374715.361763476, 471158.07474761474, 584399.7534466275, 714504.6646440551, 860488.582082576, 1019859.7072987532, 1188063.9857081827, 1358073.838299632, 1520492.4015073124, 1664493.679513417, 1779629.926303685, 1858098.6634447826, 1896690.1356339478, 1897595.3913032261, 1867678.9605080832, 1816522.905994587, 1754082.5326930985, 1688817.1968900263, 1626742.8583799915, 1571356.85165088, 1524103.0963059636, 1485022.5984378126, 1453352.6816984671, 1427973.9350458346, 1407695.6380962501, 1391412.295770515, 1378172.913827987, 1367198.2685192823, 1357871.0360821749], \"yaxis\": \"y\"}, {\"hoverlabel\": {\"namelength\": 0}, \"hovertemplate\": \"Mode=Cycling<br>Vehicle=moped<br>Year=%{x}<br>VehicleCount=%{y}\", \"legendgroup\": \"Mode=Cycling\", \"line\": {\"color\": \"#00cc96\"}, \"mode\": \"lines\", \"name\": \"Mode=Cycling\", \"orientation\": \"v\", \"showlegend\": false, \"stackgroup\": \"1\", \"type\": \"scatter\", \"x\": [1999.0, 2000.0, 2001.0, 2002.0, 2003.0, 2004.0, 2005.0, 2006.0, 2007.0, 2008.0, 2009.0, 2010.0, 2011.0, 2012.0, 2013.0, 2014.0, 2015.0, 2016.0, 2017.0, 2018.0, 2019.0, 2020.0, 2021.0, 2022.0, 2023.0, 2024.0, 2025.0, 2026.0, 2027.0, 2028.0, 2029.0, 2030.0, 2031.0, 2032.0, 2033.0, 2034.0, 2035.0, 2036.0, 2037.0, 2038.0, 2039.0, 2040.0, 2041.0, 2042.0, 2043.0, 2044.0, 2045.0, 2046.0, 2047.0, 2048.0, 2049.0, 2050.0, 2051.0], \"xaxis\": \"x\", \"y\": [865511.6050065738, 860449.4738364378, 856412.8929383926, 853321.8023677566, 851093.6944796853, 849642.3124560823, 848875.9189679204, 848694.9943061183, 848989.2025550905, 849633.3878681799, 850482.3493104944, 851364.0966541634, 852071.2612177506, 852350.4488118091, 851889.4817271534, 850302.964267461, 847117.4598933946, 841759.0615535426, 833548.3443198873, 821710.4920081625, 805410.9771469107, 783827.4506097441, 756263.1230336606, 722292.4657194245, 681907.2361616887, 635609.6645170975, 584399.7534466275, 529640.5340967362, 472847.7324032368, 415495.7976853171, 358919.03656668507, 304318.6956548135, 252815.88591756817, 205468.92450544052, 163210.97487791762, 126725.90681516739, 96324.4296683418, 71886.16931978737, 52900.043173617916, 38587.4551839429, 28058.896559002147, 20451.344677231322, 15015.929766872032, 11153.026204695003, 8409.325704963721, 6455.321804577797, 5057.296064079554, 4051.591249377831, 3324.084368996123, 2795.0473187201696, 2408.475005314065, 2124.741652227958, 1915.596741102211], \"yaxis\": \"y\"}, {\"hoverlabel\": {\"namelength\": 0}, \"hovertemplate\": \"Mode=Walking<br>Vehicle=walk<br>Year=%{x}<br>VehicleCount=%{y}\", \"legendgroup\": \"Mode=Walking\", \"line\": {\"color\": \"#ab63fa\"}, \"mode\": \"lines\", \"name\": \"Mode=Walking\", \"orientation\": \"v\", \"showlegend\": true, \"stackgroup\": \"1\", \"type\": \"scatter\", \"x\": [1999.0, 2000.0, 2001.0, 2002.0, 2003.0, 2004.0, 2005.0, 2006.0, 2007.0, 2008.0, 2009.0, 2010.0, 2011.0, 2012.0, 2013.0, 2014.0, 2015.0, 2016.0, 2017.0, 2018.0, 2019.0, 2020.0, 2021.0, 2022.0, 2023.0, 2024.0, 2025.0, 2026.0, 2027.0, 2028.0, 2029.0, 2030.0, 2031.0, 2032.0, 2033.0, 2034.0, 2035.0, 2036.0, 2037.0, 2038.0, 2039.0, 2040.0, 2041.0, 2042.0, 2043.0, 2044.0, 2045.0, 2046.0, 2047.0, 2048.0, 2049.0, 2050.0, 2051.0], \"xaxis\": \"x\", \"y\": [null, null, null, null, null, null, null, null, null, null, null, null, null, null, null, null, null, null, null, null, null, null, null, null, null, null, null, null, null, null, null, null, null, null, null, null, null, null, null, null, null, null, null, null, null, null, null, null, null, null, null, null, null], \"yaxis\": \"y\"}],\n",
       "                        {\"height\": 500, \"legend\": {\"font\": {\"size\": 10}, \"tracegroupgap\": 0, \"traceorder\": \"reversed\", \"y\": 0.5}, \"margin\": {\"t\": 60}, \"template\": {\"data\": {\"bar\": [{\"error_x\": {\"color\": \"#2a3f5f\"}, \"error_y\": {\"color\": \"#2a3f5f\"}, \"marker\": {\"line\": {\"color\": \"#E5ECF6\", \"width\": 0.5}}, \"type\": \"bar\"}], \"barpolar\": [{\"marker\": {\"line\": {\"color\": \"#E5ECF6\", \"width\": 0.5}}, \"type\": \"barpolar\"}], \"carpet\": [{\"aaxis\": {\"endlinecolor\": \"#2a3f5f\", \"gridcolor\": \"white\", \"linecolor\": \"white\", \"minorgridcolor\": \"white\", \"startlinecolor\": \"#2a3f5f\"}, \"baxis\": {\"endlinecolor\": \"#2a3f5f\", \"gridcolor\": \"white\", \"linecolor\": \"white\", \"minorgridcolor\": \"white\", \"startlinecolor\": \"#2a3f5f\"}, \"type\": \"carpet\"}], \"choropleth\": [{\"colorbar\": {\"outlinewidth\": 0, \"ticks\": \"\"}, \"type\": \"choropleth\"}], \"contour\": [{\"colorbar\": {\"outlinewidth\": 0, \"ticks\": \"\"}, \"colorscale\": [[0.0, \"#0d0887\"], [0.1111111111111111, \"#46039f\"], [0.2222222222222222, \"#7201a8\"], [0.3333333333333333, \"#9c179e\"], [0.4444444444444444, \"#bd3786\"], [0.5555555555555556, \"#d8576b\"], [0.6666666666666666, \"#ed7953\"], [0.7777777777777778, \"#fb9f3a\"], [0.8888888888888888, \"#fdca26\"], [1.0, \"#f0f921\"]], \"type\": \"contour\"}], \"contourcarpet\": [{\"colorbar\": {\"outlinewidth\": 0, \"ticks\": \"\"}, \"type\": \"contourcarpet\"}], \"heatmap\": [{\"colorbar\": {\"outlinewidth\": 0, \"ticks\": \"\"}, \"colorscale\": [[0.0, \"#0d0887\"], [0.1111111111111111, \"#46039f\"], [0.2222222222222222, \"#7201a8\"], [0.3333333333333333, \"#9c179e\"], [0.4444444444444444, \"#bd3786\"], [0.5555555555555556, \"#d8576b\"], [0.6666666666666666, \"#ed7953\"], [0.7777777777777778, \"#fb9f3a\"], [0.8888888888888888, \"#fdca26\"], [1.0, \"#f0f921\"]], \"type\": \"heatmap\"}], \"heatmapgl\": [{\"colorbar\": {\"outlinewidth\": 0, \"ticks\": \"\"}, \"colorscale\": [[0.0, \"#0d0887\"], [0.1111111111111111, \"#46039f\"], [0.2222222222222222, \"#7201a8\"], [0.3333333333333333, \"#9c179e\"], [0.4444444444444444, \"#bd3786\"], [0.5555555555555556, \"#d8576b\"], [0.6666666666666666, \"#ed7953\"], [0.7777777777777778, \"#fb9f3a\"], [0.8888888888888888, \"#fdca26\"], [1.0, \"#f0f921\"]], \"type\": \"heatmapgl\"}], \"histogram\": [{\"marker\": {\"colorbar\": {\"outlinewidth\": 0, \"ticks\": \"\"}}, \"type\": \"histogram\"}], \"histogram2d\": [{\"colorbar\": {\"outlinewidth\": 0, \"ticks\": \"\"}, \"colorscale\": [[0.0, \"#0d0887\"], [0.1111111111111111, \"#46039f\"], [0.2222222222222222, \"#7201a8\"], [0.3333333333333333, \"#9c179e\"], [0.4444444444444444, \"#bd3786\"], [0.5555555555555556, \"#d8576b\"], [0.6666666666666666, \"#ed7953\"], [0.7777777777777778, \"#fb9f3a\"], [0.8888888888888888, \"#fdca26\"], [1.0, \"#f0f921\"]], \"type\": \"histogram2d\"}], \"histogram2dcontour\": [{\"colorbar\": {\"outlinewidth\": 0, \"ticks\": \"\"}, \"colorscale\": [[0.0, \"#0d0887\"], [0.1111111111111111, \"#46039f\"], [0.2222222222222222, \"#7201a8\"], [0.3333333333333333, \"#9c179e\"], [0.4444444444444444, \"#bd3786\"], [0.5555555555555556, \"#d8576b\"], [0.6666666666666666, \"#ed7953\"], [0.7777777777777778, \"#fb9f3a\"], [0.8888888888888888, \"#fdca26\"], [1.0, \"#f0f921\"]], \"type\": \"histogram2dcontour\"}], \"mesh3d\": [{\"colorbar\": {\"outlinewidth\": 0, \"ticks\": \"\"}, \"type\": \"mesh3d\"}], \"parcoords\": [{\"line\": {\"colorbar\": {\"outlinewidth\": 0, \"ticks\": \"\"}}, \"type\": \"parcoords\"}], \"scatter\": [{\"marker\": {\"colorbar\": {\"outlinewidth\": 0, \"ticks\": \"\"}}, \"type\": \"scatter\"}], \"scatter3d\": [{\"line\": {\"colorbar\": {\"outlinewidth\": 0, \"ticks\": \"\"}}, \"marker\": {\"colorbar\": {\"outlinewidth\": 0, \"ticks\": \"\"}}, \"type\": \"scatter3d\"}], \"scattercarpet\": [{\"marker\": {\"colorbar\": {\"outlinewidth\": 0, \"ticks\": \"\"}}, \"type\": \"scattercarpet\"}], \"scattergeo\": [{\"marker\": {\"colorbar\": {\"outlinewidth\": 0, \"ticks\": \"\"}}, \"type\": \"scattergeo\"}], \"scattergl\": [{\"marker\": {\"colorbar\": {\"outlinewidth\": 0, \"ticks\": \"\"}}, \"type\": \"scattergl\"}], \"scattermapbox\": [{\"marker\": {\"colorbar\": {\"outlinewidth\": 0, \"ticks\": \"\"}}, \"type\": \"scattermapbox\"}], \"scatterpolar\": [{\"marker\": {\"colorbar\": {\"outlinewidth\": 0, \"ticks\": \"\"}}, \"type\": \"scatterpolar\"}], \"scatterpolargl\": [{\"marker\": {\"colorbar\": {\"outlinewidth\": 0, \"ticks\": \"\"}}, \"type\": \"scatterpolargl\"}], \"scatterternary\": [{\"marker\": {\"colorbar\": {\"outlinewidth\": 0, \"ticks\": \"\"}}, \"type\": \"scatterternary\"}], \"surface\": [{\"colorbar\": {\"outlinewidth\": 0, \"ticks\": \"\"}, \"colorscale\": [[0.0, \"#0d0887\"], [0.1111111111111111, \"#46039f\"], [0.2222222222222222, \"#7201a8\"], [0.3333333333333333, \"#9c179e\"], [0.4444444444444444, \"#bd3786\"], [0.5555555555555556, \"#d8576b\"], [0.6666666666666666, \"#ed7953\"], [0.7777777777777778, \"#fb9f3a\"], [0.8888888888888888, \"#fdca26\"], [1.0, \"#f0f921\"]], \"type\": \"surface\"}], \"table\": [{\"cells\": {\"fill\": {\"color\": \"#EBF0F8\"}, \"line\": {\"color\": \"white\"}}, \"header\": {\"fill\": {\"color\": \"#C8D4E3\"}, \"line\": {\"color\": \"white\"}}, \"type\": \"table\"}]}, \"layout\": {\"annotationdefaults\": {\"arrowcolor\": \"#2a3f5f\", \"arrowhead\": 0, \"arrowwidth\": 1}, \"colorscale\": {\"diverging\": [[0, \"#8e0152\"], [0.1, \"#c51b7d\"], [0.2, \"#de77ae\"], [0.3, \"#f1b6da\"], [0.4, \"#fde0ef\"], [0.5, \"#f7f7f7\"], [0.6, \"#e6f5d0\"], [0.7, \"#b8e186\"], [0.8, \"#7fbc41\"], [0.9, \"#4d9221\"], [1, \"#276419\"]], \"sequential\": [[0.0, \"#0d0887\"], [0.1111111111111111, \"#46039f\"], [0.2222222222222222, \"#7201a8\"], [0.3333333333333333, \"#9c179e\"], [0.4444444444444444, \"#bd3786\"], [0.5555555555555556, \"#d8576b\"], [0.6666666666666666, \"#ed7953\"], [0.7777777777777778, \"#fb9f3a\"], [0.8888888888888888, \"#fdca26\"], [1.0, \"#f0f921\"]], \"sequentialminus\": [[0.0, \"#0d0887\"], [0.1111111111111111, \"#46039f\"], [0.2222222222222222, \"#7201a8\"], [0.3333333333333333, \"#9c179e\"], [0.4444444444444444, \"#bd3786\"], [0.5555555555555556, \"#d8576b\"], [0.6666666666666666, \"#ed7953\"], [0.7777777777777778, \"#fb9f3a\"], [0.8888888888888888, \"#fdca26\"], [1.0, \"#f0f921\"]]}, \"colorway\": [\"#636efa\", \"#EF553B\", \"#00cc96\", \"#ab63fa\", \"#FFA15A\", \"#19d3f3\", \"#FF6692\", \"#B6E880\", \"#FF97FF\", \"#FECB52\"], \"font\": {\"color\": \"#2a3f5f\"}, \"geo\": {\"bgcolor\": \"white\", \"lakecolor\": \"white\", \"landcolor\": \"#E5ECF6\", \"showlakes\": true, \"showland\": true, \"subunitcolor\": \"white\"}, \"hoverlabel\": {\"align\": \"left\"}, \"hovermode\": \"closest\", \"mapbox\": {\"style\": \"light\"}, \"paper_bgcolor\": \"white\", \"plot_bgcolor\": \"#E5ECF6\", \"polar\": {\"angularaxis\": {\"gridcolor\": \"white\", \"linecolor\": \"white\", \"ticks\": \"\"}, \"bgcolor\": \"#E5ECF6\", \"radialaxis\": {\"gridcolor\": \"white\", \"linecolor\": \"white\", \"ticks\": \"\"}}, \"scene\": {\"xaxis\": {\"backgroundcolor\": \"#E5ECF6\", \"gridcolor\": \"white\", \"gridwidth\": 2, \"linecolor\": \"white\", \"showbackground\": true, \"ticks\": \"\", \"zerolinecolor\": \"white\"}, \"yaxis\": {\"backgroundcolor\": \"#E5ECF6\", \"gridcolor\": \"white\", \"gridwidth\": 2, \"linecolor\": \"white\", \"showbackground\": true, \"ticks\": \"\", \"zerolinecolor\": \"white\"}, \"zaxis\": {\"backgroundcolor\": \"#E5ECF6\", \"gridcolor\": \"white\", \"gridwidth\": 2, \"linecolor\": \"white\", \"showbackground\": true, \"ticks\": \"\", \"zerolinecolor\": \"white\"}}, \"shapedefaults\": {\"line\": {\"color\": \"#2a3f5f\"}}, \"ternary\": {\"aaxis\": {\"gridcolor\": \"white\", \"linecolor\": \"white\", \"ticks\": \"\"}, \"baxis\": {\"gridcolor\": \"white\", \"linecolor\": \"white\", \"ticks\": \"\"}, \"bgcolor\": \"#E5ECF6\", \"caxis\": {\"gridcolor\": \"white\", \"linecolor\": \"white\", \"ticks\": \"\"}}, \"title\": {\"x\": 0.05}, \"xaxis\": {\"automargin\": true, \"gridcolor\": \"white\", \"linecolor\": \"white\", \"ticks\": \"\", \"zerolinecolor\": \"white\", \"zerolinewidth\": 2}, \"yaxis\": {\"automargin\": true, \"gridcolor\": \"white\", \"linecolor\": \"white\", \"ticks\": \"\", \"zerolinecolor\": \"white\", \"zerolinewidth\": 2}}}, \"width\": 800, \"xaxis\": {\"anchor\": \"y\", \"domain\": [0.0, 0.98], \"title\": {\"text\": \"Year\"}}, \"yaxis\": {\"anchor\": \"x\", \"domain\": [0.0, 1.0], \"title\": {\"text\": \"VehicleCount\"}}},\n",
       "                        {\"responsive\": true}\n",
       "                    ).then(function(){\n",
       "                            \n",
       "var gd = document.getElementById('b50e3925-4bc0-4af4-84d4-155a91ed3cec');\n",
       "var x = new MutationObserver(function (mutations, observer) {{\n",
       "        var display = window.getComputedStyle(gd).display;\n",
       "        if (!display || display === 'none') {{\n",
       "            console.log([gd, 'removed!']);\n",
       "            Plotly.purge(gd);\n",
       "            observer.disconnect();\n",
       "        }}\n",
       "}});\n",
       "\n",
       "// Listen for the removal of the full notebook cells\n",
       "var notebookContainer = gd.closest('#notebook-container');\n",
       "if (notebookContainer) {{\n",
       "    x.observe(notebookContainer, {childList: true});\n",
       "}}\n",
       "\n",
       "// Listen for the clearing of the current output cell\n",
       "var outputEl = gd.closest('.output');\n",
       "if (outputEl) {{\n",
       "    x.observe(outputEl, {childList: true});\n",
       "}}\n",
       "\n",
       "                        })\n",
       "                };\n",
       "                });\n",
       "            </script>\n",
       "        </div>"
      ]
     },
     "metadata": {},
     "output_type": "display_data"
    },
    {
     "data": {
      "text/plain": [
       "<Figure size 432x288 with 0 Axes>"
      ]
     },
     "metadata": {},
     "output_type": "display_data"
    }
   ],
   "source": [
    "###    R U N   F U N C T I O N S   P E R S O N   T R A N S P O R T \n",
    "\n",
    "### H I G H   S C E N A R I O \n",
    "dfHP, DHP = CarsFirst(x, PolyHP)\n",
    "BinaryShifts(x, DHP, 'HoogPerson', figs=False)\n",
    "dfHP, STVhp = ServiceToPersonVehicles(x, dfHP, figs=True)\n",
    "PlotService(x, dfHP, y='Share', scn='HoogPerson', figs=False)\n",
    "PlotService(x, dfHP, y='Person-kilometers', scn='HoogPerson', figs=False)\n",
    "PlotService(x, dfHP, y='VehicleCount', scn='HoogPerson', figs=False)\n",
    "\n",
    "### L O W   S C E N A R I O \n",
    "dfLP, DLP = CarsFirst(x, PolyLP)\n",
    "BinaryShifts(x, DLP, 'LaagPerson', figs=False)\n",
    "dfLP, STVlp = ServiceToPersonVehicles(x, dfLP, figs=False)\n",
    "PlotService(x, dfLP, y='Share', scn='LaagPerson', figs=False)\n",
    "PlotService(x, dfLP, y='Person-kilometers', scn='LaagPerson', figs=True)\n",
    "PlotService(x, dfLP, y='VehicleCount', scn='LaagPerson', figs=True)\n"
   ]
  },
  {
   "cell_type": "code",
   "execution_count": 96,
   "metadata": {
    "scrolled": false
   },
   "outputs": [
    {
     "name": "stdout",
     "output_type": "stream",
     "text": [
      "Road 0.305\n",
      "Rail 0.274\n",
      "Inland 0.421\n",
      "Road 0.305\n",
      "Rail 0.274\n",
      "Inland 0.421\n"
     ]
    },
    {
     "data": {
      "application/vnd.plotly.v1+json": {
       "config": {
        "plotlyServerURL": "https://plot.ly"
       },
       "data": [
        {
         "hoverlabel": {
          "namelength": 0
         },
         "hovertemplate": "Mode=Road<br>Vehicle=40tlorry<br>Year=%{x}<br>Ton-kilometers=%{y}",
         "legendgroup": "Mode=Road",
         "line": {
          "color": "#636efa"
         },
         "mode": "lines",
         "name": "Mode=Road",
         "orientation": "v",
         "showlegend": true,
         "stackgroup": "1",
         "type": "scatter",
         "x": [
          1999,
          2000,
          2001,
          2002,
          2003,
          2004,
          2005,
          2006,
          2007,
          2008,
          2009,
          2010,
          2011,
          2012,
          2013,
          2014,
          2015,
          2016,
          2017,
          2018,
          2019,
          2020,
          2021,
          2022,
          2023,
          2024,
          2025,
          2026,
          2027,
          2028,
          2029,
          2030,
          2031,
          2032,
          2033,
          2034,
          2035,
          2036,
          2037,
          2038,
          2039,
          2040,
          2041,
          2042,
          2043,
          2044,
          2045,
          2046,
          2047,
          2048,
          2049,
          2050,
          2051
         ],
         "xaxis": "x",
         "y": [
          15.14805677421549,
          15.108050857729447,
          15.083155198459488,
          15.072447758300926,
          15.075086809644237,
          15.090319710172945,
          15.117493514375907,
          15.156067076796244,
          15.20562528258648,
          15.265894958073766,
          15.336762411506708,
          15.418292342252494,
          15.510746491818612,
          15.614601223918056,
          15.730560392584366,
          15.859560307058569,
          16.002760145369365,
          16.161510237236797,
          16.337287531549443,
          16.531585595118486,
          16.745744503521884,
          16.980708078880525,
          17.236698961743237,
          17.512814475512013,
          17.806564390381666,
          18.113399540873946,
          18.426313112468115,
          18.73562848861211,
          19.029102018314802,
          19.29245557394822,
          19.510393384746646,
          19.66805597699875,
          19.7527372830433,
          19.755580774973268,
          19.672917079785783,
          19.506946437780897,
          19.2655985760898,
          18.96158816568334,
          18.610866430359398,
          18.23078945063224,
          17.838347905089975,
          17.44873830973998,
          17.074431912716168,
          16.724765845377092,
          16.405979284003198,
          16.121561474139806,
          15.872770400369722,
          15.659202115537777,
          15.47932734489788,
          15.330947953678114,
          15.211555320553328,
          15.118592282748308,
          15.049630687464404
         ],
         "yaxis": "y"
        },
        {
         "hoverlabel": {
          "namelength": 0
         },
         "hovertemplate": "Mode=Road<br>Vehicle=28tlorry<br>Year=%{x}<br>Ton-kilometers=%{y}",
         "legendgroup": "Mode=Road",
         "line": {
          "color": "#636efa"
         },
         "mode": "lines",
         "name": "Mode=Road",
         "orientation": "v",
         "showlegend": false,
         "stackgroup": "1",
         "type": "scatter",
         "x": [
          1999,
          2000,
          2001,
          2002,
          2003,
          2004,
          2005,
          2006,
          2007,
          2008,
          2009,
          2010,
          2011,
          2012,
          2013,
          2014,
          2015,
          2016,
          2017,
          2018,
          2019,
          2020,
          2021,
          2022,
          2023,
          2024,
          2025,
          2026,
          2027,
          2028,
          2029,
          2030,
          2031,
          2032,
          2033,
          2034,
          2035,
          2036,
          2037,
          2038,
          2039,
          2040,
          2041,
          2042,
          2043,
          2044,
          2045,
          2046,
          2047,
          2048,
          2049,
          2050,
          2051
         ],
         "xaxis": "x",
         "y": [
          53.59283756187821,
          53.42625888725033,
          53.30774208477541,
          53.23278063125274,
          53.19687826710469,
          53.19552180566703,
          53.22414938274366,
          53.27811148442973,
          53.35262571350737,
          53.44272284814349,
          53.54318395032146,
          53.64846890232076,
          53.75263418134271,
          53.849243886612854,
          53.931273069115036,
          53.99101082014637,
          54.01996768917717,
          54.008800207536844,
          53.94726777926453,
          53.82424380050181,
          53.627806410415005,
          53.345442813448614,
          52.96439622892663,
          52.47218423994254,
          51.85729987243667,
          51.11008174811005,
          50.22370167314765,
          49.19517809386405,
          48.026282322064304,
          46.72419183568673,
          45.30175534080017,
          43.777285884287544,
          42.17386986436143,
          40.51825682258509,
          38.8394444640871,
          37.16709994274555,
          35.529955219248095,
          33.95430530208228,
          32.46273082874345,
          31.073154426212817,
          29.798311763677507,
          28.64567225743232,
          27.617779338543293,
          26.712922104374723,
          25.926014146088455,
          25.2495463080464,
          24.674500988313817,
          24.19114867998167,
          23.78968598249279,
          23.460705542004472,
          23.19551092086062,
          22.98630160403638,
          22.82625683439305
         ],
         "yaxis": "y"
        },
        {
         "hoverlabel": {
          "namelength": 0
         },
         "hovertemplate": "Mode=Road<br>Vehicle=16tlorry<br>Year=%{x}<br>Ton-kilometers=%{y}",
         "legendgroup": "Mode=Road",
         "line": {
          "color": "#636efa"
         },
         "mode": "lines",
         "name": "Mode=Road",
         "orientation": "v",
         "showlegend": false,
         "stackgroup": "1",
         "type": "scatter",
         "x": [
          1999,
          2000,
          2001,
          2002,
          2003,
          2004,
          2005,
          2006,
          2007,
          2008,
          2009,
          2010,
          2011,
          2012,
          2013,
          2014,
          2015,
          2016,
          2017,
          2018,
          2019,
          2020,
          2021,
          2022,
          2023,
          2024,
          2025,
          2026,
          2027,
          2028,
          2029,
          2030,
          2031,
          2032,
          2033,
          2034,
          2035,
          2036,
          2037,
          2038,
          2039,
          2040,
          2041,
          2042,
          2043,
          2044,
          2045,
          2046,
          2047,
          2048,
          2049,
          2050,
          2051
         ],
         "xaxis": "x",
         "y": [
          4.394019707944909,
          4.38220253932957,
          4.374722674894106,
          4.371302142888115,
          4.371683970410508,
          4.3756342488629905,
          4.382944645473703,
          4.3934352519788975,
          4.406957948797345,
          4.423400154656728,
          4.442688956628571,
          4.464795569640842,
          4.489739702939425,
          4.51759368162377,
          4.548485401091195,
          4.582599387833349,
          4.62017432183378,
          4.661495202421712,
          4.706877539266368,
          4.75664045750781,
          4.811065046264302,
          4.8703347725763715,
          4.9344553464502,
          5.003154431259208,
          5.075765932340572,
          5.151110496562019,
          5.227392213786061,
          5.302140092130341,
          5.372227403711217,
          5.4339998966561724,
          5.483529687043557,
          5.5169862488075045,
          5.531082635920767,
          5.523524473892173,
          5.493372254350721,
          5.441235267926665,
          5.369247876018063,
          5.280828218552277,
          5.180269862234309,
          5.0722514926079425,
          4.961358413126531,
          4.851693420310229,
          4.746621350870222,
          4.648655512183002,
          4.5594658733951885,
          4.479973068073422,
          4.410489662122932,
          4.350875733479417,
          4.300685761760929,
          4.259293687710745,
          4.225991116650999,
          4.200059064477506,
          4.18081652116433
         ],
         "yaxis": "y"
        },
        {
         "hoverlabel": {
          "namelength": 0
         },
         "hovertemplate": "Mode=Rail<br>Vehicle=freighttrain<br>Year=%{x}<br>Ton-kilometers=%{y}",
         "legendgroup": "Mode=Rail",
         "line": {
          "color": "#EF553B"
         },
         "mode": "lines",
         "name": "Mode=Rail",
         "orientation": "v",
         "showlegend": true,
         "stackgroup": "1",
         "type": "scatter",
         "x": [
          1999,
          2000,
          2001,
          2002,
          2003,
          2004,
          2005,
          2006,
          2007,
          2008,
          2009,
          2010,
          2011,
          2012,
          2013,
          2014,
          2015,
          2016,
          2017,
          2018,
          2019,
          2020,
          2021,
          2022,
          2023,
          2024,
          2025,
          2026,
          2027,
          2028,
          2029,
          2030,
          2031,
          2032,
          2033,
          2034,
          2035,
          2036,
          2037,
          2038,
          2039,
          2040,
          2041,
          2042,
          2043,
          2044,
          2045,
          2046,
          2047,
          2048,
          2049,
          2050,
          2051
         ],
         "xaxis": "x",
         "y": [
          5.397061593290787,
          5.388404407891035,
          5.386342248615551,
          5.390828375556398,
          5.401907928546612,
          5.419735138472089,
          5.444594198792355,
          5.476924255480799,
          5.517349409633104,
          5.566714320381207,
          5.626126207191914,
          5.697004017732464,
          5.781135018387903,
          5.8807392643270635,
          5.998541128729108,
          6.137846788689168,
          6.3026245251228685,
          6.497583162571914,
          6.728241053245945,
          7.000974781840563,
          7.3230326300271384,
          7.70249436781013,
          8.148154870584527,
          8.669308235899686,
          9.275410723978625,
          9.975608102009225,
          10.77812611168337,
          11.68954265369146,
          12.71398292270224,
          13.852303506084588,
          15.101350447572605,
          16.453389059793444,
          17.89580589223969,
          19.41117663835194,
          20.977770808840926,
          22.57052358366605,
          24.16243829136371,
          25.726298384594383,
          27.23648716805518,
          28.67066694879194,
          30.01108050805597,
          31.245313893413474,
          32.36646966127479,
          33.37281222522072,
          34.267027913302336,
          35.05527221838674,
          35.74616701560349,
          36.34986972326477,
          36.877289156582194,
          37.33947804572253,
          37.74720045801967,
          38.110653104991194,
          38.43930978477869
         ],
         "yaxis": "y"
        },
        {
         "hoverlabel": {
          "namelength": 0
         },
         "hovertemplate": "Mode=Inland<br>Vehicle=xlbarge<br>Year=%{x}<br>Ton-kilometers=%{y}",
         "legendgroup": "Mode=Inland",
         "line": {
          "color": "#00cc96"
         },
         "mode": "lines",
         "name": "Mode=Inland",
         "orientation": "v",
         "showlegend": true,
         "stackgroup": "1",
         "type": "scatter",
         "x": [
          1999,
          2000,
          2001,
          2002,
          2003,
          2004,
          2005,
          2006,
          2007,
          2008,
          2009,
          2010,
          2011,
          2012,
          2013,
          2014,
          2015,
          2016,
          2017,
          2018,
          2019,
          2020,
          2021,
          2022,
          2023,
          2024,
          2025,
          2026,
          2027,
          2028,
          2029,
          2030,
          2031,
          2032,
          2033,
          2034,
          2035,
          2036,
          2037,
          2038,
          2039,
          2040,
          2041,
          2042,
          2043,
          2044,
          2045,
          2046,
          2047,
          2048,
          2049,
          2050,
          2051
         ],
         "xaxis": "x",
         "y": [
          5.387364516263288,
          5.404966311473668,
          5.430795151457234,
          5.46483098746788,
          5.5070954512005486,
          5.557652653541923,
          5.616609706385363,
          5.684116677669977,
          5.760366057085522,
          5.845591444267502,
          5.940065384609022,
          6.044096330908627,
          6.158024396155419,
          6.282216207722333,
          6.417058565769221,
          6.562951479360123,
          6.720300721930449,
          6.889510859393778,
          7.070979835070385,
          7.265096789784896,
          7.472244993989291,
          7.692812659028129,
          7.927213597462599,
          8.175919624947065,
          8.439504354715076,
          8.718694806376815,
          9.014422089708514,
          9.32785678374218,
          9.660408281650287,
          10.013665638739242,
          10.389260392167564,
          10.788644481549046,
          11.212796869057597,
          11.661898283685932,
          12.135034250327466,
          12.629996154854014,
          13.143238600624265,
          13.67002083859446,
          14.204718726795956,
          14.741254496085327,
          15.273567281093092,
          15.79604702686913,
          16.30387193986371,
          16.79321924914485,
          17.261349213638177,
          17.706582915874723,
          18.12820603398671,
          18.526330875757964,
          18.90174416542811,
          19.255759614228076,
          19.590086709436505,
          19.90672093612189,
          20.207855757674253
         ],
         "yaxis": "y"
        },
        {
         "hoverlabel": {
          "namelength": 0
         },
         "hovertemplate": "Mode=Inland<br>Vehicle=lbarge<br>Year=%{x}<br>Ton-kilometers=%{y}",
         "legendgroup": "Mode=Inland",
         "line": {
          "color": "#00cc96"
         },
         "mode": "lines",
         "name": "Mode=Inland",
         "orientation": "v",
         "showlegend": false,
         "stackgroup": "1",
         "type": "scatter",
         "x": [
          1999,
          2000,
          2001,
          2002,
          2003,
          2004,
          2005,
          2006,
          2007,
          2008,
          2009,
          2010,
          2011,
          2012,
          2013,
          2014,
          2015,
          2016,
          2017,
          2018,
          2019,
          2020,
          2021,
          2022,
          2023,
          2024,
          2025,
          2026,
          2027,
          2028,
          2029,
          2030,
          2031,
          2032,
          2033,
          2034,
          2035,
          2036,
          2037,
          2038,
          2039,
          2040,
          2041,
          2042,
          2043,
          2044,
          2045,
          2046,
          2047,
          2048,
          2049,
          2050,
          2051
         ],
         "xaxis": "x",
         "y": [
          7.796878511689335,
          7.794452486251254,
          7.80114628110921,
          7.8165736921816755,
          7.840375651689439,
          7.872218927064321,
          7.911794498780242,
          7.958815296324817,
          8.013013520483465,
          8.074137291498268,
          8.14194669969561,
          8.216209438067532,
          8.296695798310163,
          8.38317372221243,
          8.475403776900325,
          8.57313508695871,
          8.676102611480008,
          8.784027121168554,
          8.896619194171926,
          9.013589023219064,
          9.134663681482065,
          9.259614112711045,
          9.38829256230376,
          9.520680603387309,
          9.656944951930635,
          9.797494714788714,
          9.943028792225997,
          10.094557845124877,
          10.253381328794024,
          10.42100210980416,
          10.598967948395456,
          10.788644481549046,
          10.9909443036627,
          11.20605762241925,
          11.433241543525188,
          11.670723682918796,
          11.915755535618093,
          12.164817961944326,
          12.413945212386288,
          12.659106733189104,
          12.896576180273017,
          13.123228360466179,
          13.336728065014343,
          13.535603070301091,
          13.719217328724175,
          13.887672886129105,
          14.041673036036515,
          14.182374288389243,
          14.311247286568696,
          14.429958050372298,
          14.540274202180674,
          14.643996100315489,
          14.742909639511705
         ],
         "yaxis": "y"
        },
        {
         "hoverlabel": {
          "namelength": 0
         },
         "hovertemplate": "Mode=Inland<br>Vehicle=mbarge<br>Year=%{x}<br>Ton-kilometers=%{y}",
         "legendgroup": "Mode=Inland",
         "line": {
          "color": "#00cc96"
         },
         "mode": "lines",
         "name": "Mode=Inland",
         "orientation": "v",
         "showlegend": false,
         "stackgroup": "1",
         "type": "scatter",
         "x": [
          1999,
          2000,
          2001,
          2002,
          2003,
          2004,
          2005,
          2006,
          2007,
          2008,
          2009,
          2010,
          2011,
          2012,
          2013,
          2014,
          2015,
          2016,
          2017,
          2018,
          2019,
          2020,
          2021,
          2022,
          2023,
          2024,
          2025,
          2026,
          2027,
          2028,
          2029,
          2030,
          2031,
          2032,
          2033,
          2034,
          2035,
          2036,
          2037,
          2038,
          2039,
          2040,
          2041,
          2042,
          2043,
          2044,
          2045,
          2046,
          2047,
          2048,
          2049,
          2050,
          2051
         ],
         "xaxis": "x",
         "y": [
          10.326434847856573,
          10.293091376259447,
          10.269016316477993,
          10.25337126693931,
          10.245331821041233,
          10.244085830196664,
          10.248831694549951,
          10.258776372369203,
          10.273133528769138,
          10.291121617994238,
          10.31196213980468,
          10.33487843602229,
          10.359094876383761,
          10.383837409478366,
          10.408335360355682,
          10.431825737214613,
          10.453560377206468,
          10.472817289592848,
          10.488917268663764,
          10.5012471306348,
          10.509290417176704,
          10.512666769981898,
          10.511179040919846,
          10.504866402625547,
          10.494058484910308,
          10.479422253860228,
          10.4619893021445,
          10.443148734749123,
          10.424589553529714,
          10.40818168476861,
          10.395794157239933,
          10.389065056306487,
          10.389155352500445,
          10.396533409911633,
          10.410839867821833,
          10.43087266411631,
          10.454706782979436,
          10.47993153067332,
          10.503959896648755,
          10.524349052019591,
          10.53907280770781,
          10.546705399513868,
          10.546500717075464,
          10.538375405205938,
          10.52282090980452,
          10.500774981967188,
          10.47348144859063,
          10.442359254880003,
          10.408893494796017,
          10.374553276395167,
          10.340736033132535,
          10.30873480271478,
          10.27972339567943
         ],
         "yaxis": "y"
        },
        {
         "hoverlabel": {
          "namelength": 0
         },
         "hovertemplate": "Mode=Inland<br>Vehicle=sbarge<br>Year=%{x}<br>Ton-kilometers=%{y}",
         "legendgroup": "Mode=Inland",
         "line": {
          "color": "#00cc96"
         },
         "mode": "lines",
         "name": "Mode=Inland",
         "orientation": "v",
         "showlegend": false,
         "stackgroup": "1",
         "type": "scatter",
         "x": [
          1999,
          2000,
          2001,
          2002,
          2003,
          2004,
          2005,
          2006,
          2007,
          2008,
          2009,
          2010,
          2011,
          2012,
          2013,
          2014,
          2015,
          2016,
          2017,
          2018,
          2019,
          2020,
          2021,
          2022,
          2023,
          2024,
          2025,
          2026,
          2027,
          2028,
          2029,
          2030,
          2031,
          2032,
          2033,
          2034,
          2035,
          2036,
          2037,
          2038,
          2039,
          2040,
          2041,
          2042,
          2043,
          2044,
          2045,
          2046,
          2047,
          2048,
          2049,
          2050,
          2051
         ],
         "xaxis": "x",
         "y": [
          19.895870882088836,
          19.787324739802795,
          19.692864112318606,
          19.61049541732458,
          19.538242583158457,
          19.47414753318048,
          19.41627176457853,
          19.36269854578293,
          19.31153662929985,
          19.260925153642944,
          19.209040212356367,
          19.154103731289247,
          19.094394243943924,
          19.028261143535744,
          18.954141811880937,
          18.87058341325454,
          18.77626921924808,
          18.670050997163045,
          18.55098822336443,
          18.41839515531934,
          18.27189568717977,
          18.111486435042806,
          17.937604780117052,
          17.75119755791596,
          17.55378121031361,
          17.347479852530935,
          17.135022749471556,
          16.919680939219887,
          16.705123207979288,
          16.495182352378606,
          16.293538579959396,
          16.103351272933132,
          15.926893837851246,
          15.765262880133152,
          15.618229945027075,
          15.484282616295367,
          15.360860626723616,
          15.244746599247,
          15.13253492652493,
          15.021087684503396,
          14.907897046455522,
          14.791305932589,
          14.670575932002317,
          14.545824636088009,
          14.417874438404798,
          14.288058358772153,
          14.158022576255867,
          14.029552266064206,
          13.904434893868647,
          13.784364283303526,
          13.67088215260829,
          13.565350370185122,
          13.468945777924239
         ],
         "yaxis": "y"
        }
       ],
       "layout": {
        "height": 500,
        "legend": {
         "font": {
          "size": 10
         },
         "tracegroupgap": 0,
         "traceorder": "reversed",
         "y": 0.5
        },
        "margin": {
         "t": 60
        },
        "template": {
         "data": {
          "bar": [
           {
            "error_x": {
             "color": "#2a3f5f"
            },
            "error_y": {
             "color": "#2a3f5f"
            },
            "marker": {
             "line": {
              "color": "#E5ECF6",
              "width": 0.5
             }
            },
            "type": "bar"
           }
          ],
          "barpolar": [
           {
            "marker": {
             "line": {
              "color": "#E5ECF6",
              "width": 0.5
             }
            },
            "type": "barpolar"
           }
          ],
          "carpet": [
           {
            "aaxis": {
             "endlinecolor": "#2a3f5f",
             "gridcolor": "white",
             "linecolor": "white",
             "minorgridcolor": "white",
             "startlinecolor": "#2a3f5f"
            },
            "baxis": {
             "endlinecolor": "#2a3f5f",
             "gridcolor": "white",
             "linecolor": "white",
             "minorgridcolor": "white",
             "startlinecolor": "#2a3f5f"
            },
            "type": "carpet"
           }
          ],
          "choropleth": [
           {
            "colorbar": {
             "outlinewidth": 0,
             "ticks": ""
            },
            "type": "choropleth"
           }
          ],
          "contour": [
           {
            "colorbar": {
             "outlinewidth": 0,
             "ticks": ""
            },
            "colorscale": [
             [
              0,
              "#0d0887"
             ],
             [
              0.1111111111111111,
              "#46039f"
             ],
             [
              0.2222222222222222,
              "#7201a8"
             ],
             [
              0.3333333333333333,
              "#9c179e"
             ],
             [
              0.4444444444444444,
              "#bd3786"
             ],
             [
              0.5555555555555556,
              "#d8576b"
             ],
             [
              0.6666666666666666,
              "#ed7953"
             ],
             [
              0.7777777777777778,
              "#fb9f3a"
             ],
             [
              0.8888888888888888,
              "#fdca26"
             ],
             [
              1,
              "#f0f921"
             ]
            ],
            "type": "contour"
           }
          ],
          "contourcarpet": [
           {
            "colorbar": {
             "outlinewidth": 0,
             "ticks": ""
            },
            "type": "contourcarpet"
           }
          ],
          "heatmap": [
           {
            "colorbar": {
             "outlinewidth": 0,
             "ticks": ""
            },
            "colorscale": [
             [
              0,
              "#0d0887"
             ],
             [
              0.1111111111111111,
              "#46039f"
             ],
             [
              0.2222222222222222,
              "#7201a8"
             ],
             [
              0.3333333333333333,
              "#9c179e"
             ],
             [
              0.4444444444444444,
              "#bd3786"
             ],
             [
              0.5555555555555556,
              "#d8576b"
             ],
             [
              0.6666666666666666,
              "#ed7953"
             ],
             [
              0.7777777777777778,
              "#fb9f3a"
             ],
             [
              0.8888888888888888,
              "#fdca26"
             ],
             [
              1,
              "#f0f921"
             ]
            ],
            "type": "heatmap"
           }
          ],
          "heatmapgl": [
           {
            "colorbar": {
             "outlinewidth": 0,
             "ticks": ""
            },
            "colorscale": [
             [
              0,
              "#0d0887"
             ],
             [
              0.1111111111111111,
              "#46039f"
             ],
             [
              0.2222222222222222,
              "#7201a8"
             ],
             [
              0.3333333333333333,
              "#9c179e"
             ],
             [
              0.4444444444444444,
              "#bd3786"
             ],
             [
              0.5555555555555556,
              "#d8576b"
             ],
             [
              0.6666666666666666,
              "#ed7953"
             ],
             [
              0.7777777777777778,
              "#fb9f3a"
             ],
             [
              0.8888888888888888,
              "#fdca26"
             ],
             [
              1,
              "#f0f921"
             ]
            ],
            "type": "heatmapgl"
           }
          ],
          "histogram": [
           {
            "marker": {
             "colorbar": {
              "outlinewidth": 0,
              "ticks": ""
             }
            },
            "type": "histogram"
           }
          ],
          "histogram2d": [
           {
            "colorbar": {
             "outlinewidth": 0,
             "ticks": ""
            },
            "colorscale": [
             [
              0,
              "#0d0887"
             ],
             [
              0.1111111111111111,
              "#46039f"
             ],
             [
              0.2222222222222222,
              "#7201a8"
             ],
             [
              0.3333333333333333,
              "#9c179e"
             ],
             [
              0.4444444444444444,
              "#bd3786"
             ],
             [
              0.5555555555555556,
              "#d8576b"
             ],
             [
              0.6666666666666666,
              "#ed7953"
             ],
             [
              0.7777777777777778,
              "#fb9f3a"
             ],
             [
              0.8888888888888888,
              "#fdca26"
             ],
             [
              1,
              "#f0f921"
             ]
            ],
            "type": "histogram2d"
           }
          ],
          "histogram2dcontour": [
           {
            "colorbar": {
             "outlinewidth": 0,
             "ticks": ""
            },
            "colorscale": [
             [
              0,
              "#0d0887"
             ],
             [
              0.1111111111111111,
              "#46039f"
             ],
             [
              0.2222222222222222,
              "#7201a8"
             ],
             [
              0.3333333333333333,
              "#9c179e"
             ],
             [
              0.4444444444444444,
              "#bd3786"
             ],
             [
              0.5555555555555556,
              "#d8576b"
             ],
             [
              0.6666666666666666,
              "#ed7953"
             ],
             [
              0.7777777777777778,
              "#fb9f3a"
             ],
             [
              0.8888888888888888,
              "#fdca26"
             ],
             [
              1,
              "#f0f921"
             ]
            ],
            "type": "histogram2dcontour"
           }
          ],
          "mesh3d": [
           {
            "colorbar": {
             "outlinewidth": 0,
             "ticks": ""
            },
            "type": "mesh3d"
           }
          ],
          "parcoords": [
           {
            "line": {
             "colorbar": {
              "outlinewidth": 0,
              "ticks": ""
             }
            },
            "type": "parcoords"
           }
          ],
          "scatter": [
           {
            "marker": {
             "colorbar": {
              "outlinewidth": 0,
              "ticks": ""
             }
            },
            "type": "scatter"
           }
          ],
          "scatter3d": [
           {
            "line": {
             "colorbar": {
              "outlinewidth": 0,
              "ticks": ""
             }
            },
            "marker": {
             "colorbar": {
              "outlinewidth": 0,
              "ticks": ""
             }
            },
            "type": "scatter3d"
           }
          ],
          "scattercarpet": [
           {
            "marker": {
             "colorbar": {
              "outlinewidth": 0,
              "ticks": ""
             }
            },
            "type": "scattercarpet"
           }
          ],
          "scattergeo": [
           {
            "marker": {
             "colorbar": {
              "outlinewidth": 0,
              "ticks": ""
             }
            },
            "type": "scattergeo"
           }
          ],
          "scattergl": [
           {
            "marker": {
             "colorbar": {
              "outlinewidth": 0,
              "ticks": ""
             }
            },
            "type": "scattergl"
           }
          ],
          "scattermapbox": [
           {
            "marker": {
             "colorbar": {
              "outlinewidth": 0,
              "ticks": ""
             }
            },
            "type": "scattermapbox"
           }
          ],
          "scatterpolar": [
           {
            "marker": {
             "colorbar": {
              "outlinewidth": 0,
              "ticks": ""
             }
            },
            "type": "scatterpolar"
           }
          ],
          "scatterpolargl": [
           {
            "marker": {
             "colorbar": {
              "outlinewidth": 0,
              "ticks": ""
             }
            },
            "type": "scatterpolargl"
           }
          ],
          "scatterternary": [
           {
            "marker": {
             "colorbar": {
              "outlinewidth": 0,
              "ticks": ""
             }
            },
            "type": "scatterternary"
           }
          ],
          "surface": [
           {
            "colorbar": {
             "outlinewidth": 0,
             "ticks": ""
            },
            "colorscale": [
             [
              0,
              "#0d0887"
             ],
             [
              0.1111111111111111,
              "#46039f"
             ],
             [
              0.2222222222222222,
              "#7201a8"
             ],
             [
              0.3333333333333333,
              "#9c179e"
             ],
             [
              0.4444444444444444,
              "#bd3786"
             ],
             [
              0.5555555555555556,
              "#d8576b"
             ],
             [
              0.6666666666666666,
              "#ed7953"
             ],
             [
              0.7777777777777778,
              "#fb9f3a"
             ],
             [
              0.8888888888888888,
              "#fdca26"
             ],
             [
              1,
              "#f0f921"
             ]
            ],
            "type": "surface"
           }
          ],
          "table": [
           {
            "cells": {
             "fill": {
              "color": "#EBF0F8"
             },
             "line": {
              "color": "white"
             }
            },
            "header": {
             "fill": {
              "color": "#C8D4E3"
             },
             "line": {
              "color": "white"
             }
            },
            "type": "table"
           }
          ]
         },
         "layout": {
          "annotationdefaults": {
           "arrowcolor": "#2a3f5f",
           "arrowhead": 0,
           "arrowwidth": 1
          },
          "colorscale": {
           "diverging": [
            [
             0,
             "#8e0152"
            ],
            [
             0.1,
             "#c51b7d"
            ],
            [
             0.2,
             "#de77ae"
            ],
            [
             0.3,
             "#f1b6da"
            ],
            [
             0.4,
             "#fde0ef"
            ],
            [
             0.5,
             "#f7f7f7"
            ],
            [
             0.6,
             "#e6f5d0"
            ],
            [
             0.7,
             "#b8e186"
            ],
            [
             0.8,
             "#7fbc41"
            ],
            [
             0.9,
             "#4d9221"
            ],
            [
             1,
             "#276419"
            ]
           ],
           "sequential": [
            [
             0,
             "#0d0887"
            ],
            [
             0.1111111111111111,
             "#46039f"
            ],
            [
             0.2222222222222222,
             "#7201a8"
            ],
            [
             0.3333333333333333,
             "#9c179e"
            ],
            [
             0.4444444444444444,
             "#bd3786"
            ],
            [
             0.5555555555555556,
             "#d8576b"
            ],
            [
             0.6666666666666666,
             "#ed7953"
            ],
            [
             0.7777777777777778,
             "#fb9f3a"
            ],
            [
             0.8888888888888888,
             "#fdca26"
            ],
            [
             1,
             "#f0f921"
            ]
           ],
           "sequentialminus": [
            [
             0,
             "#0d0887"
            ],
            [
             0.1111111111111111,
             "#46039f"
            ],
            [
             0.2222222222222222,
             "#7201a8"
            ],
            [
             0.3333333333333333,
             "#9c179e"
            ],
            [
             0.4444444444444444,
             "#bd3786"
            ],
            [
             0.5555555555555556,
             "#d8576b"
            ],
            [
             0.6666666666666666,
             "#ed7953"
            ],
            [
             0.7777777777777778,
             "#fb9f3a"
            ],
            [
             0.8888888888888888,
             "#fdca26"
            ],
            [
             1,
             "#f0f921"
            ]
           ]
          },
          "colorway": [
           "#636efa",
           "#EF553B",
           "#00cc96",
           "#ab63fa",
           "#FFA15A",
           "#19d3f3",
           "#FF6692",
           "#B6E880",
           "#FF97FF",
           "#FECB52"
          ],
          "font": {
           "color": "#2a3f5f"
          },
          "geo": {
           "bgcolor": "white",
           "lakecolor": "white",
           "landcolor": "#E5ECF6",
           "showlakes": true,
           "showland": true,
           "subunitcolor": "white"
          },
          "hoverlabel": {
           "align": "left"
          },
          "hovermode": "closest",
          "mapbox": {
           "style": "light"
          },
          "paper_bgcolor": "white",
          "plot_bgcolor": "#E5ECF6",
          "polar": {
           "angularaxis": {
            "gridcolor": "white",
            "linecolor": "white",
            "ticks": ""
           },
           "bgcolor": "#E5ECF6",
           "radialaxis": {
            "gridcolor": "white",
            "linecolor": "white",
            "ticks": ""
           }
          },
          "scene": {
           "xaxis": {
            "backgroundcolor": "#E5ECF6",
            "gridcolor": "white",
            "gridwidth": 2,
            "linecolor": "white",
            "showbackground": true,
            "ticks": "",
            "zerolinecolor": "white"
           },
           "yaxis": {
            "backgroundcolor": "#E5ECF6",
            "gridcolor": "white",
            "gridwidth": 2,
            "linecolor": "white",
            "showbackground": true,
            "ticks": "",
            "zerolinecolor": "white"
           },
           "zaxis": {
            "backgroundcolor": "#E5ECF6",
            "gridcolor": "white",
            "gridwidth": 2,
            "linecolor": "white",
            "showbackground": true,
            "ticks": "",
            "zerolinecolor": "white"
           }
          },
          "shapedefaults": {
           "line": {
            "color": "#2a3f5f"
           }
          },
          "ternary": {
           "aaxis": {
            "gridcolor": "white",
            "linecolor": "white",
            "ticks": ""
           },
           "baxis": {
            "gridcolor": "white",
            "linecolor": "white",
            "ticks": ""
           },
           "bgcolor": "#E5ECF6",
           "caxis": {
            "gridcolor": "white",
            "linecolor": "white",
            "ticks": ""
           }
          },
          "title": {
           "x": 0.05
          },
          "xaxis": {
           "automargin": true,
           "gridcolor": "white",
           "linecolor": "white",
           "ticks": "",
           "zerolinecolor": "white",
           "zerolinewidth": 2
          },
          "yaxis": {
           "automargin": true,
           "gridcolor": "white",
           "linecolor": "white",
           "ticks": "",
           "zerolinecolor": "white",
           "zerolinewidth": 2
          }
         }
        },
        "width": 800,
        "xaxis": {
         "anchor": "y",
         "domain": [
          0,
          0.98
         ],
         "title": {
          "text": "Year"
         }
        },
        "yaxis": {
         "anchor": "x",
         "domain": [
          0,
          1
         ],
         "title": {
          "text": "Ton-kilometers"
         }
        }
       }
      },
      "text/html": [
       "<div>\n",
       "        \n",
       "        \n",
       "            <div id=\"68374124-2153-4159-89f1-c40f4ac45af5\" class=\"plotly-graph-div\" style=\"height:500px; width:800px;\"></div>\n",
       "            <script type=\"text/javascript\">\n",
       "                require([\"plotly\"], function(Plotly) {\n",
       "                    window.PLOTLYENV=window.PLOTLYENV || {};\n",
       "                    \n",
       "                if (document.getElementById(\"68374124-2153-4159-89f1-c40f4ac45af5\")) {\n",
       "                    Plotly.newPlot(\n",
       "                        '68374124-2153-4159-89f1-c40f4ac45af5',\n",
       "                        [{\"hoverlabel\": {\"namelength\": 0}, \"hovertemplate\": \"Mode=Road<br>Vehicle=40tlorry<br>Year=%{x}<br>Ton-kilometers=%{y}\", \"legendgroup\": \"Mode=Road\", \"line\": {\"color\": \"#636efa\"}, \"mode\": \"lines\", \"name\": \"Mode=Road\", \"orientation\": \"v\", \"showlegend\": true, \"stackgroup\": \"1\", \"type\": \"scatter\", \"x\": [1999.0, 2000.0, 2001.0, 2002.0, 2003.0, 2004.0, 2005.0, 2006.0, 2007.0, 2008.0, 2009.0, 2010.0, 2011.0, 2012.0, 2013.0, 2014.0, 2015.0, 2016.0, 2017.0, 2018.0, 2019.0, 2020.0, 2021.0, 2022.0, 2023.0, 2024.0, 2025.0, 2026.0, 2027.0, 2028.0, 2029.0, 2030.0, 2031.0, 2032.0, 2033.0, 2034.0, 2035.0, 2036.0, 2037.0, 2038.0, 2039.0, 2040.0, 2041.0, 2042.0, 2043.0, 2044.0, 2045.0, 2046.0, 2047.0, 2048.0, 2049.0, 2050.0, 2051.0], \"xaxis\": \"x\", \"y\": [15.14805677421549, 15.108050857729447, 15.083155198459488, 15.072447758300926, 15.075086809644237, 15.090319710172945, 15.117493514375907, 15.156067076796244, 15.20562528258648, 15.265894958073766, 15.336762411506708, 15.418292342252494, 15.510746491818612, 15.614601223918056, 15.730560392584366, 15.859560307058569, 16.002760145369365, 16.161510237236797, 16.337287531549443, 16.531585595118486, 16.745744503521884, 16.980708078880525, 17.236698961743237, 17.512814475512013, 17.806564390381666, 18.113399540873946, 18.426313112468115, 18.73562848861211, 19.029102018314802, 19.29245557394822, 19.510393384746646, 19.66805597699875, 19.7527372830433, 19.755580774973268, 19.672917079785783, 19.506946437780897, 19.2655985760898, 18.96158816568334, 18.610866430359398, 18.23078945063224, 17.838347905089975, 17.44873830973998, 17.074431912716168, 16.724765845377092, 16.405979284003198, 16.121561474139806, 15.872770400369722, 15.659202115537777, 15.47932734489788, 15.330947953678114, 15.211555320553328, 15.118592282748308, 15.049630687464404], \"yaxis\": \"y\"}, {\"hoverlabel\": {\"namelength\": 0}, \"hovertemplate\": \"Mode=Road<br>Vehicle=28tlorry<br>Year=%{x}<br>Ton-kilometers=%{y}\", \"legendgroup\": \"Mode=Road\", \"line\": {\"color\": \"#636efa\"}, \"mode\": \"lines\", \"name\": \"Mode=Road\", \"orientation\": \"v\", \"showlegend\": false, \"stackgroup\": \"1\", \"type\": \"scatter\", \"x\": [1999.0, 2000.0, 2001.0, 2002.0, 2003.0, 2004.0, 2005.0, 2006.0, 2007.0, 2008.0, 2009.0, 2010.0, 2011.0, 2012.0, 2013.0, 2014.0, 2015.0, 2016.0, 2017.0, 2018.0, 2019.0, 2020.0, 2021.0, 2022.0, 2023.0, 2024.0, 2025.0, 2026.0, 2027.0, 2028.0, 2029.0, 2030.0, 2031.0, 2032.0, 2033.0, 2034.0, 2035.0, 2036.0, 2037.0, 2038.0, 2039.0, 2040.0, 2041.0, 2042.0, 2043.0, 2044.0, 2045.0, 2046.0, 2047.0, 2048.0, 2049.0, 2050.0, 2051.0], \"xaxis\": \"x\", \"y\": [53.59283756187821, 53.42625888725033, 53.30774208477541, 53.23278063125274, 53.19687826710469, 53.19552180566703, 53.22414938274366, 53.27811148442973, 53.35262571350737, 53.44272284814349, 53.54318395032146, 53.64846890232076, 53.75263418134271, 53.849243886612854, 53.931273069115036, 53.99101082014637, 54.01996768917717, 54.008800207536844, 53.94726777926453, 53.82424380050181, 53.627806410415005, 53.345442813448614, 52.96439622892663, 52.47218423994254, 51.85729987243667, 51.11008174811005, 50.22370167314765, 49.19517809386405, 48.026282322064304, 46.72419183568673, 45.30175534080017, 43.777285884287544, 42.17386986436143, 40.51825682258509, 38.8394444640871, 37.16709994274555, 35.529955219248095, 33.95430530208228, 32.46273082874345, 31.073154426212817, 29.798311763677507, 28.64567225743232, 27.617779338543293, 26.712922104374723, 25.926014146088455, 25.2495463080464, 24.674500988313817, 24.19114867998167, 23.78968598249279, 23.460705542004472, 23.19551092086062, 22.98630160403638, 22.82625683439305], \"yaxis\": \"y\"}, {\"hoverlabel\": {\"namelength\": 0}, \"hovertemplate\": \"Mode=Road<br>Vehicle=16tlorry<br>Year=%{x}<br>Ton-kilometers=%{y}\", \"legendgroup\": \"Mode=Road\", \"line\": {\"color\": \"#636efa\"}, \"mode\": \"lines\", \"name\": \"Mode=Road\", \"orientation\": \"v\", \"showlegend\": false, \"stackgroup\": \"1\", \"type\": \"scatter\", \"x\": [1999.0, 2000.0, 2001.0, 2002.0, 2003.0, 2004.0, 2005.0, 2006.0, 2007.0, 2008.0, 2009.0, 2010.0, 2011.0, 2012.0, 2013.0, 2014.0, 2015.0, 2016.0, 2017.0, 2018.0, 2019.0, 2020.0, 2021.0, 2022.0, 2023.0, 2024.0, 2025.0, 2026.0, 2027.0, 2028.0, 2029.0, 2030.0, 2031.0, 2032.0, 2033.0, 2034.0, 2035.0, 2036.0, 2037.0, 2038.0, 2039.0, 2040.0, 2041.0, 2042.0, 2043.0, 2044.0, 2045.0, 2046.0, 2047.0, 2048.0, 2049.0, 2050.0, 2051.0], \"xaxis\": \"x\", \"y\": [4.394019707944909, 4.38220253932957, 4.374722674894106, 4.371302142888115, 4.371683970410508, 4.3756342488629905, 4.382944645473703, 4.3934352519788975, 4.406957948797345, 4.423400154656728, 4.442688956628571, 4.464795569640842, 4.489739702939425, 4.51759368162377, 4.548485401091195, 4.582599387833349, 4.62017432183378, 4.661495202421712, 4.706877539266368, 4.75664045750781, 4.811065046264302, 4.8703347725763715, 4.9344553464502, 5.003154431259208, 5.075765932340572, 5.151110496562019, 5.227392213786061, 5.302140092130341, 5.372227403711217, 5.4339998966561724, 5.483529687043557, 5.5169862488075045, 5.531082635920767, 5.523524473892173, 5.493372254350721, 5.441235267926665, 5.369247876018063, 5.280828218552277, 5.180269862234309, 5.0722514926079425, 4.961358413126531, 4.851693420310229, 4.746621350870222, 4.648655512183002, 4.5594658733951885, 4.479973068073422, 4.410489662122932, 4.350875733479417, 4.300685761760929, 4.259293687710745, 4.225991116650999, 4.200059064477506, 4.18081652116433], \"yaxis\": \"y\"}, {\"hoverlabel\": {\"namelength\": 0}, \"hovertemplate\": \"Mode=Rail<br>Vehicle=freighttrain<br>Year=%{x}<br>Ton-kilometers=%{y}\", \"legendgroup\": \"Mode=Rail\", \"line\": {\"color\": \"#EF553B\"}, \"mode\": \"lines\", \"name\": \"Mode=Rail\", \"orientation\": \"v\", \"showlegend\": true, \"stackgroup\": \"1\", \"type\": \"scatter\", \"x\": [1999.0, 2000.0, 2001.0, 2002.0, 2003.0, 2004.0, 2005.0, 2006.0, 2007.0, 2008.0, 2009.0, 2010.0, 2011.0, 2012.0, 2013.0, 2014.0, 2015.0, 2016.0, 2017.0, 2018.0, 2019.0, 2020.0, 2021.0, 2022.0, 2023.0, 2024.0, 2025.0, 2026.0, 2027.0, 2028.0, 2029.0, 2030.0, 2031.0, 2032.0, 2033.0, 2034.0, 2035.0, 2036.0, 2037.0, 2038.0, 2039.0, 2040.0, 2041.0, 2042.0, 2043.0, 2044.0, 2045.0, 2046.0, 2047.0, 2048.0, 2049.0, 2050.0, 2051.0], \"xaxis\": \"x\", \"y\": [5.397061593290787, 5.388404407891035, 5.386342248615551, 5.390828375556398, 5.401907928546612, 5.419735138472089, 5.444594198792355, 5.476924255480799, 5.517349409633104, 5.566714320381207, 5.626126207191914, 5.697004017732464, 5.781135018387903, 5.8807392643270635, 5.998541128729108, 6.137846788689168, 6.3026245251228685, 6.497583162571914, 6.728241053245945, 7.000974781840563, 7.3230326300271384, 7.70249436781013, 8.148154870584527, 8.669308235899686, 9.275410723978625, 9.975608102009225, 10.77812611168337, 11.68954265369146, 12.71398292270224, 13.852303506084588, 15.101350447572605, 16.453389059793444, 17.89580589223969, 19.41117663835194, 20.977770808840926, 22.57052358366605, 24.16243829136371, 25.726298384594383, 27.23648716805518, 28.67066694879194, 30.01108050805597, 31.245313893413474, 32.36646966127479, 33.37281222522072, 34.267027913302336, 35.05527221838674, 35.74616701560349, 36.34986972326477, 36.877289156582194, 37.33947804572253, 37.74720045801967, 38.110653104991194, 38.43930978477869], \"yaxis\": \"y\"}, {\"hoverlabel\": {\"namelength\": 0}, \"hovertemplate\": \"Mode=Inland<br>Vehicle=xlbarge<br>Year=%{x}<br>Ton-kilometers=%{y}\", \"legendgroup\": \"Mode=Inland\", \"line\": {\"color\": \"#00cc96\"}, \"mode\": \"lines\", \"name\": \"Mode=Inland\", \"orientation\": \"v\", \"showlegend\": true, \"stackgroup\": \"1\", \"type\": \"scatter\", \"x\": [1999.0, 2000.0, 2001.0, 2002.0, 2003.0, 2004.0, 2005.0, 2006.0, 2007.0, 2008.0, 2009.0, 2010.0, 2011.0, 2012.0, 2013.0, 2014.0, 2015.0, 2016.0, 2017.0, 2018.0, 2019.0, 2020.0, 2021.0, 2022.0, 2023.0, 2024.0, 2025.0, 2026.0, 2027.0, 2028.0, 2029.0, 2030.0, 2031.0, 2032.0, 2033.0, 2034.0, 2035.0, 2036.0, 2037.0, 2038.0, 2039.0, 2040.0, 2041.0, 2042.0, 2043.0, 2044.0, 2045.0, 2046.0, 2047.0, 2048.0, 2049.0, 2050.0, 2051.0], \"xaxis\": \"x\", \"y\": [5.387364516263288, 5.404966311473668, 5.430795151457234, 5.46483098746788, 5.5070954512005486, 5.557652653541923, 5.616609706385363, 5.684116677669977, 5.760366057085522, 5.845591444267502, 5.940065384609022, 6.044096330908627, 6.158024396155419, 6.282216207722333, 6.417058565769221, 6.562951479360123, 6.720300721930449, 6.889510859393778, 7.070979835070385, 7.265096789784896, 7.472244993989291, 7.692812659028129, 7.927213597462599, 8.175919624947065, 8.439504354715076, 8.718694806376815, 9.014422089708514, 9.32785678374218, 9.660408281650287, 10.013665638739242, 10.389260392167564, 10.788644481549046, 11.212796869057597, 11.661898283685932, 12.135034250327466, 12.629996154854014, 13.143238600624265, 13.67002083859446, 14.204718726795956, 14.741254496085327, 15.273567281093092, 15.79604702686913, 16.30387193986371, 16.79321924914485, 17.261349213638177, 17.706582915874723, 18.12820603398671, 18.526330875757964, 18.90174416542811, 19.255759614228076, 19.590086709436505, 19.90672093612189, 20.207855757674253], \"yaxis\": \"y\"}, {\"hoverlabel\": {\"namelength\": 0}, \"hovertemplate\": \"Mode=Inland<br>Vehicle=lbarge<br>Year=%{x}<br>Ton-kilometers=%{y}\", \"legendgroup\": \"Mode=Inland\", \"line\": {\"color\": \"#00cc96\"}, \"mode\": \"lines\", \"name\": \"Mode=Inland\", \"orientation\": \"v\", \"showlegend\": false, \"stackgroup\": \"1\", \"type\": \"scatter\", \"x\": [1999.0, 2000.0, 2001.0, 2002.0, 2003.0, 2004.0, 2005.0, 2006.0, 2007.0, 2008.0, 2009.0, 2010.0, 2011.0, 2012.0, 2013.0, 2014.0, 2015.0, 2016.0, 2017.0, 2018.0, 2019.0, 2020.0, 2021.0, 2022.0, 2023.0, 2024.0, 2025.0, 2026.0, 2027.0, 2028.0, 2029.0, 2030.0, 2031.0, 2032.0, 2033.0, 2034.0, 2035.0, 2036.0, 2037.0, 2038.0, 2039.0, 2040.0, 2041.0, 2042.0, 2043.0, 2044.0, 2045.0, 2046.0, 2047.0, 2048.0, 2049.0, 2050.0, 2051.0], \"xaxis\": \"x\", \"y\": [7.796878511689335, 7.794452486251254, 7.80114628110921, 7.8165736921816755, 7.840375651689439, 7.872218927064321, 7.911794498780242, 7.958815296324817, 8.013013520483465, 8.074137291498268, 8.14194669969561, 8.216209438067532, 8.296695798310163, 8.38317372221243, 8.475403776900325, 8.57313508695871, 8.676102611480008, 8.784027121168554, 8.896619194171926, 9.013589023219064, 9.134663681482065, 9.259614112711045, 9.38829256230376, 9.520680603387309, 9.656944951930635, 9.797494714788714, 9.943028792225997, 10.094557845124877, 10.253381328794024, 10.42100210980416, 10.598967948395456, 10.788644481549046, 10.9909443036627, 11.20605762241925, 11.433241543525188, 11.670723682918796, 11.915755535618093, 12.164817961944326, 12.413945212386288, 12.659106733189104, 12.896576180273017, 13.123228360466179, 13.336728065014343, 13.535603070301091, 13.719217328724175, 13.887672886129105, 14.041673036036515, 14.182374288389243, 14.311247286568696, 14.429958050372298, 14.540274202180674, 14.643996100315489, 14.742909639511705], \"yaxis\": \"y\"}, {\"hoverlabel\": {\"namelength\": 0}, \"hovertemplate\": \"Mode=Inland<br>Vehicle=mbarge<br>Year=%{x}<br>Ton-kilometers=%{y}\", \"legendgroup\": \"Mode=Inland\", \"line\": {\"color\": \"#00cc96\"}, \"mode\": \"lines\", \"name\": \"Mode=Inland\", \"orientation\": \"v\", \"showlegend\": false, \"stackgroup\": \"1\", \"type\": \"scatter\", \"x\": [1999.0, 2000.0, 2001.0, 2002.0, 2003.0, 2004.0, 2005.0, 2006.0, 2007.0, 2008.0, 2009.0, 2010.0, 2011.0, 2012.0, 2013.0, 2014.0, 2015.0, 2016.0, 2017.0, 2018.0, 2019.0, 2020.0, 2021.0, 2022.0, 2023.0, 2024.0, 2025.0, 2026.0, 2027.0, 2028.0, 2029.0, 2030.0, 2031.0, 2032.0, 2033.0, 2034.0, 2035.0, 2036.0, 2037.0, 2038.0, 2039.0, 2040.0, 2041.0, 2042.0, 2043.0, 2044.0, 2045.0, 2046.0, 2047.0, 2048.0, 2049.0, 2050.0, 2051.0], \"xaxis\": \"x\", \"y\": [10.326434847856573, 10.293091376259447, 10.269016316477993, 10.25337126693931, 10.245331821041233, 10.244085830196664, 10.248831694549951, 10.258776372369203, 10.273133528769138, 10.291121617994238, 10.31196213980468, 10.33487843602229, 10.359094876383761, 10.383837409478366, 10.408335360355682, 10.431825737214613, 10.453560377206468, 10.472817289592848, 10.488917268663764, 10.5012471306348, 10.509290417176704, 10.512666769981898, 10.511179040919846, 10.504866402625547, 10.494058484910308, 10.479422253860228, 10.4619893021445, 10.443148734749123, 10.424589553529714, 10.40818168476861, 10.395794157239933, 10.389065056306487, 10.389155352500445, 10.396533409911633, 10.410839867821833, 10.43087266411631, 10.454706782979436, 10.47993153067332, 10.503959896648755, 10.524349052019591, 10.53907280770781, 10.546705399513868, 10.546500717075464, 10.538375405205938, 10.52282090980452, 10.500774981967188, 10.47348144859063, 10.442359254880003, 10.408893494796017, 10.374553276395167, 10.340736033132535, 10.30873480271478, 10.27972339567943], \"yaxis\": \"y\"}, {\"hoverlabel\": {\"namelength\": 0}, \"hovertemplate\": \"Mode=Inland<br>Vehicle=sbarge<br>Year=%{x}<br>Ton-kilometers=%{y}\", \"legendgroup\": \"Mode=Inland\", \"line\": {\"color\": \"#00cc96\"}, \"mode\": \"lines\", \"name\": \"Mode=Inland\", \"orientation\": \"v\", \"showlegend\": false, \"stackgroup\": \"1\", \"type\": \"scatter\", \"x\": [1999.0, 2000.0, 2001.0, 2002.0, 2003.0, 2004.0, 2005.0, 2006.0, 2007.0, 2008.0, 2009.0, 2010.0, 2011.0, 2012.0, 2013.0, 2014.0, 2015.0, 2016.0, 2017.0, 2018.0, 2019.0, 2020.0, 2021.0, 2022.0, 2023.0, 2024.0, 2025.0, 2026.0, 2027.0, 2028.0, 2029.0, 2030.0, 2031.0, 2032.0, 2033.0, 2034.0, 2035.0, 2036.0, 2037.0, 2038.0, 2039.0, 2040.0, 2041.0, 2042.0, 2043.0, 2044.0, 2045.0, 2046.0, 2047.0, 2048.0, 2049.0, 2050.0, 2051.0], \"xaxis\": \"x\", \"y\": [19.895870882088836, 19.787324739802795, 19.692864112318606, 19.61049541732458, 19.538242583158457, 19.47414753318048, 19.41627176457853, 19.36269854578293, 19.31153662929985, 19.260925153642944, 19.209040212356367, 19.154103731289247, 19.094394243943924, 19.028261143535744, 18.954141811880937, 18.87058341325454, 18.77626921924808, 18.670050997163045, 18.55098822336443, 18.41839515531934, 18.27189568717977, 18.111486435042806, 17.937604780117052, 17.75119755791596, 17.55378121031361, 17.347479852530935, 17.135022749471556, 16.919680939219887, 16.705123207979288, 16.495182352378606, 16.293538579959396, 16.103351272933132, 15.926893837851246, 15.765262880133152, 15.618229945027075, 15.484282616295367, 15.360860626723616, 15.244746599247, 15.13253492652493, 15.021087684503396, 14.907897046455522, 14.791305932589, 14.670575932002317, 14.545824636088009, 14.417874438404798, 14.288058358772153, 14.158022576255867, 14.029552266064206, 13.904434893868647, 13.784364283303526, 13.67088215260829, 13.565350370185122, 13.468945777924239], \"yaxis\": \"y\"}],\n",
       "                        {\"height\": 500, \"legend\": {\"font\": {\"size\": 10}, \"tracegroupgap\": 0, \"traceorder\": \"reversed\", \"y\": 0.5}, \"margin\": {\"t\": 60}, \"template\": {\"data\": {\"bar\": [{\"error_x\": {\"color\": \"#2a3f5f\"}, \"error_y\": {\"color\": \"#2a3f5f\"}, \"marker\": {\"line\": {\"color\": \"#E5ECF6\", \"width\": 0.5}}, \"type\": \"bar\"}], \"barpolar\": [{\"marker\": {\"line\": {\"color\": \"#E5ECF6\", \"width\": 0.5}}, \"type\": \"barpolar\"}], \"carpet\": [{\"aaxis\": {\"endlinecolor\": \"#2a3f5f\", \"gridcolor\": \"white\", \"linecolor\": \"white\", \"minorgridcolor\": \"white\", \"startlinecolor\": \"#2a3f5f\"}, \"baxis\": {\"endlinecolor\": \"#2a3f5f\", \"gridcolor\": \"white\", \"linecolor\": \"white\", \"minorgridcolor\": \"white\", \"startlinecolor\": \"#2a3f5f\"}, \"type\": \"carpet\"}], \"choropleth\": [{\"colorbar\": {\"outlinewidth\": 0, \"ticks\": \"\"}, \"type\": \"choropleth\"}], \"contour\": [{\"colorbar\": {\"outlinewidth\": 0, \"ticks\": \"\"}, \"colorscale\": [[0.0, \"#0d0887\"], [0.1111111111111111, \"#46039f\"], [0.2222222222222222, \"#7201a8\"], [0.3333333333333333, \"#9c179e\"], [0.4444444444444444, \"#bd3786\"], [0.5555555555555556, \"#d8576b\"], [0.6666666666666666, \"#ed7953\"], [0.7777777777777778, \"#fb9f3a\"], [0.8888888888888888, \"#fdca26\"], [1.0, \"#f0f921\"]], \"type\": \"contour\"}], \"contourcarpet\": [{\"colorbar\": {\"outlinewidth\": 0, \"ticks\": \"\"}, \"type\": \"contourcarpet\"}], \"heatmap\": [{\"colorbar\": {\"outlinewidth\": 0, \"ticks\": \"\"}, \"colorscale\": [[0.0, \"#0d0887\"], [0.1111111111111111, \"#46039f\"], [0.2222222222222222, \"#7201a8\"], [0.3333333333333333, \"#9c179e\"], [0.4444444444444444, \"#bd3786\"], [0.5555555555555556, \"#d8576b\"], [0.6666666666666666, \"#ed7953\"], [0.7777777777777778, \"#fb9f3a\"], [0.8888888888888888, \"#fdca26\"], [1.0, \"#f0f921\"]], \"type\": \"heatmap\"}], \"heatmapgl\": [{\"colorbar\": {\"outlinewidth\": 0, \"ticks\": \"\"}, \"colorscale\": [[0.0, \"#0d0887\"], [0.1111111111111111, \"#46039f\"], [0.2222222222222222, \"#7201a8\"], [0.3333333333333333, \"#9c179e\"], [0.4444444444444444, \"#bd3786\"], [0.5555555555555556, \"#d8576b\"], [0.6666666666666666, \"#ed7953\"], [0.7777777777777778, \"#fb9f3a\"], [0.8888888888888888, \"#fdca26\"], [1.0, \"#f0f921\"]], \"type\": \"heatmapgl\"}], \"histogram\": [{\"marker\": {\"colorbar\": {\"outlinewidth\": 0, \"ticks\": \"\"}}, \"type\": \"histogram\"}], \"histogram2d\": [{\"colorbar\": {\"outlinewidth\": 0, \"ticks\": \"\"}, \"colorscale\": [[0.0, \"#0d0887\"], [0.1111111111111111, \"#46039f\"], [0.2222222222222222, \"#7201a8\"], [0.3333333333333333, \"#9c179e\"], [0.4444444444444444, \"#bd3786\"], [0.5555555555555556, \"#d8576b\"], [0.6666666666666666, \"#ed7953\"], [0.7777777777777778, \"#fb9f3a\"], [0.8888888888888888, \"#fdca26\"], [1.0, \"#f0f921\"]], \"type\": \"histogram2d\"}], \"histogram2dcontour\": [{\"colorbar\": {\"outlinewidth\": 0, \"ticks\": \"\"}, \"colorscale\": [[0.0, \"#0d0887\"], [0.1111111111111111, \"#46039f\"], [0.2222222222222222, \"#7201a8\"], [0.3333333333333333, \"#9c179e\"], [0.4444444444444444, \"#bd3786\"], [0.5555555555555556, \"#d8576b\"], [0.6666666666666666, \"#ed7953\"], [0.7777777777777778, \"#fb9f3a\"], [0.8888888888888888, \"#fdca26\"], [1.0, \"#f0f921\"]], \"type\": \"histogram2dcontour\"}], \"mesh3d\": [{\"colorbar\": {\"outlinewidth\": 0, \"ticks\": \"\"}, \"type\": \"mesh3d\"}], \"parcoords\": [{\"line\": {\"colorbar\": {\"outlinewidth\": 0, \"ticks\": \"\"}}, \"type\": \"parcoords\"}], \"scatter\": [{\"marker\": {\"colorbar\": {\"outlinewidth\": 0, \"ticks\": \"\"}}, \"type\": \"scatter\"}], \"scatter3d\": [{\"line\": {\"colorbar\": {\"outlinewidth\": 0, \"ticks\": \"\"}}, \"marker\": {\"colorbar\": {\"outlinewidth\": 0, \"ticks\": \"\"}}, \"type\": \"scatter3d\"}], \"scattercarpet\": [{\"marker\": {\"colorbar\": {\"outlinewidth\": 0, \"ticks\": \"\"}}, \"type\": \"scattercarpet\"}], \"scattergeo\": [{\"marker\": {\"colorbar\": {\"outlinewidth\": 0, \"ticks\": \"\"}}, \"type\": \"scattergeo\"}], \"scattergl\": [{\"marker\": {\"colorbar\": {\"outlinewidth\": 0, \"ticks\": \"\"}}, \"type\": \"scattergl\"}], \"scattermapbox\": [{\"marker\": {\"colorbar\": {\"outlinewidth\": 0, \"ticks\": \"\"}}, \"type\": \"scattermapbox\"}], \"scatterpolar\": [{\"marker\": {\"colorbar\": {\"outlinewidth\": 0, \"ticks\": \"\"}}, \"type\": \"scatterpolar\"}], \"scatterpolargl\": [{\"marker\": {\"colorbar\": {\"outlinewidth\": 0, \"ticks\": \"\"}}, \"type\": \"scatterpolargl\"}], \"scatterternary\": [{\"marker\": {\"colorbar\": {\"outlinewidth\": 0, \"ticks\": \"\"}}, \"type\": \"scatterternary\"}], \"surface\": [{\"colorbar\": {\"outlinewidth\": 0, \"ticks\": \"\"}, \"colorscale\": [[0.0, \"#0d0887\"], [0.1111111111111111, \"#46039f\"], [0.2222222222222222, \"#7201a8\"], [0.3333333333333333, \"#9c179e\"], [0.4444444444444444, \"#bd3786\"], [0.5555555555555556, \"#d8576b\"], [0.6666666666666666, \"#ed7953\"], [0.7777777777777778, \"#fb9f3a\"], [0.8888888888888888, \"#fdca26\"], [1.0, \"#f0f921\"]], \"type\": \"surface\"}], \"table\": [{\"cells\": {\"fill\": {\"color\": \"#EBF0F8\"}, \"line\": {\"color\": \"white\"}}, \"header\": {\"fill\": {\"color\": \"#C8D4E3\"}, \"line\": {\"color\": \"white\"}}, \"type\": \"table\"}]}, \"layout\": {\"annotationdefaults\": {\"arrowcolor\": \"#2a3f5f\", \"arrowhead\": 0, \"arrowwidth\": 1}, \"colorscale\": {\"diverging\": [[0, \"#8e0152\"], [0.1, \"#c51b7d\"], [0.2, \"#de77ae\"], [0.3, \"#f1b6da\"], [0.4, \"#fde0ef\"], [0.5, \"#f7f7f7\"], [0.6, \"#e6f5d0\"], [0.7, \"#b8e186\"], [0.8, \"#7fbc41\"], [0.9, \"#4d9221\"], [1, \"#276419\"]], \"sequential\": [[0.0, \"#0d0887\"], [0.1111111111111111, \"#46039f\"], [0.2222222222222222, \"#7201a8\"], [0.3333333333333333, \"#9c179e\"], [0.4444444444444444, \"#bd3786\"], [0.5555555555555556, \"#d8576b\"], [0.6666666666666666, \"#ed7953\"], [0.7777777777777778, \"#fb9f3a\"], [0.8888888888888888, \"#fdca26\"], [1.0, \"#f0f921\"]], \"sequentialminus\": [[0.0, \"#0d0887\"], [0.1111111111111111, \"#46039f\"], [0.2222222222222222, \"#7201a8\"], [0.3333333333333333, \"#9c179e\"], [0.4444444444444444, \"#bd3786\"], [0.5555555555555556, \"#d8576b\"], [0.6666666666666666, \"#ed7953\"], [0.7777777777777778, \"#fb9f3a\"], [0.8888888888888888, \"#fdca26\"], [1.0, \"#f0f921\"]]}, \"colorway\": [\"#636efa\", \"#EF553B\", \"#00cc96\", \"#ab63fa\", \"#FFA15A\", \"#19d3f3\", \"#FF6692\", \"#B6E880\", \"#FF97FF\", \"#FECB52\"], \"font\": {\"color\": \"#2a3f5f\"}, \"geo\": {\"bgcolor\": \"white\", \"lakecolor\": \"white\", \"landcolor\": \"#E5ECF6\", \"showlakes\": true, \"showland\": true, \"subunitcolor\": \"white\"}, \"hoverlabel\": {\"align\": \"left\"}, \"hovermode\": \"closest\", \"mapbox\": {\"style\": \"light\"}, \"paper_bgcolor\": \"white\", \"plot_bgcolor\": \"#E5ECF6\", \"polar\": {\"angularaxis\": {\"gridcolor\": \"white\", \"linecolor\": \"white\", \"ticks\": \"\"}, \"bgcolor\": \"#E5ECF6\", \"radialaxis\": {\"gridcolor\": \"white\", \"linecolor\": \"white\", \"ticks\": \"\"}}, \"scene\": {\"xaxis\": {\"backgroundcolor\": \"#E5ECF6\", \"gridcolor\": \"white\", \"gridwidth\": 2, \"linecolor\": \"white\", \"showbackground\": true, \"ticks\": \"\", \"zerolinecolor\": \"white\"}, \"yaxis\": {\"backgroundcolor\": \"#E5ECF6\", \"gridcolor\": \"white\", \"gridwidth\": 2, \"linecolor\": \"white\", \"showbackground\": true, \"ticks\": \"\", \"zerolinecolor\": \"white\"}, \"zaxis\": {\"backgroundcolor\": \"#E5ECF6\", \"gridcolor\": \"white\", \"gridwidth\": 2, \"linecolor\": \"white\", \"showbackground\": true, \"ticks\": \"\", \"zerolinecolor\": \"white\"}}, \"shapedefaults\": {\"line\": {\"color\": \"#2a3f5f\"}}, \"ternary\": {\"aaxis\": {\"gridcolor\": \"white\", \"linecolor\": \"white\", \"ticks\": \"\"}, \"baxis\": {\"gridcolor\": \"white\", \"linecolor\": \"white\", \"ticks\": \"\"}, \"bgcolor\": \"#E5ECF6\", \"caxis\": {\"gridcolor\": \"white\", \"linecolor\": \"white\", \"ticks\": \"\"}}, \"title\": {\"x\": 0.05}, \"xaxis\": {\"automargin\": true, \"gridcolor\": \"white\", \"linecolor\": \"white\", \"ticks\": \"\", \"zerolinecolor\": \"white\", \"zerolinewidth\": 2}, \"yaxis\": {\"automargin\": true, \"gridcolor\": \"white\", \"linecolor\": \"white\", \"ticks\": \"\", \"zerolinecolor\": \"white\", \"zerolinewidth\": 2}}}, \"width\": 800, \"xaxis\": {\"anchor\": \"y\", \"domain\": [0.0, 0.98], \"title\": {\"text\": \"Year\"}}, \"yaxis\": {\"anchor\": \"x\", \"domain\": [0.0, 1.0], \"title\": {\"text\": \"Ton-kilometers\"}}},\n",
       "                        {\"responsive\": true}\n",
       "                    ).then(function(){\n",
       "                            \n",
       "var gd = document.getElementById('68374124-2153-4159-89f1-c40f4ac45af5');\n",
       "var x = new MutationObserver(function (mutations, observer) {{\n",
       "        var display = window.getComputedStyle(gd).display;\n",
       "        if (!display || display === 'none') {{\n",
       "            console.log([gd, 'removed!']);\n",
       "            Plotly.purge(gd);\n",
       "            observer.disconnect();\n",
       "        }}\n",
       "}});\n",
       "\n",
       "// Listen for the removal of the full notebook cells\n",
       "var notebookContainer = gd.closest('#notebook-container');\n",
       "if (notebookContainer) {{\n",
       "    x.observe(notebookContainer, {childList: true});\n",
       "}}\n",
       "\n",
       "// Listen for the clearing of the current output cell\n",
       "var outputEl = gd.closest('.output');\n",
       "if (outputEl) {{\n",
       "    x.observe(outputEl, {childList: true});\n",
       "}}\n",
       "\n",
       "                        })\n",
       "                };\n",
       "                });\n",
       "            </script>\n",
       "        </div>"
      ]
     },
     "metadata": {},
     "output_type": "display_data"
    },
    {
     "data": {
      "application/vnd.plotly.v1+json": {
       "config": {
        "plotlyServerURL": "https://plot.ly"
       },
       "data": [
        {
         "hoverlabel": {
          "namelength": 0
         },
         "hovertemplate": "Mode=Road<br>Vehicle=40tlorry<br>Year=%{x}<br>VehicleCount=%{y}",
         "legendgroup": "Mode=Road",
         "line": {
          "color": "#636efa"
         },
         "mode": "lines",
         "name": "Mode=Road",
         "orientation": "v",
         "showlegend": true,
         "stackgroup": "1",
         "type": "scatter",
         "x": [
          1999,
          2000,
          2001,
          2002,
          2003,
          2004,
          2005,
          2006,
          2007,
          2008,
          2009,
          2010,
          2011,
          2012,
          2013,
          2014,
          2015,
          2016,
          2017,
          2018,
          2019,
          2020,
          2021,
          2022,
          2023,
          2024,
          2025,
          2026,
          2027,
          2028,
          2029,
          2030,
          2031,
          2032,
          2033,
          2034,
          2035,
          2036,
          2037,
          2038,
          2039,
          2040,
          2041,
          2042,
          2043,
          2044,
          2045,
          2046,
          2047,
          2048,
          2049,
          2050,
          2051
         ],
         "xaxis": "x",
         "y": [
          47040.176304402994,
          46915.943513836355,
          46838.63351832151,
          46805.383057200655,
          46813.57826285086,
          46860.881909594355,
          46945.26636626899,
          47065.05118117872,
          47218.947273096644,
          47406.106339304846,
          47626.1753259358,
          47879.355147845075,
          48166.458606756496,
          48488.96498370117,
          48849.05999915292,
          49249.65123079185,
          49694.3383442154,
          50187.31459992203,
          50733.16645656758,
          51336.53197744742,
          52001.572580252796,
          52731.21917286373,
          53526.16313443371,
          54383.601328761884,
          55295.800694715705,
          56248.63443376752,
          57220.34386126882,
          58180.879594950726,
          59092.22068533986,
          59910.02839969133,
          60586.80385651453,
          61076.40303393327,
          61339.36901203833,
          61348.19907939942,
          61091.498510240504,
          60576.09984375583,
          59826.62774090732,
          58882.565837981536,
          57793.44843438777,
          56613.17241601139,
          55394.49996405019,
          54184.621738194386,
          53022.265459081624,
          51936.42628508967,
          50946.47910744061,
          50063.25929122897,
          49290.67333201688,
          48627.46682828736,
          48068.89083073648,
          47608.11933859377,
          47237.36217842808,
          46948.678438109346,
          46734.52782798558
         ],
         "yaxis": "y"
        },
        {
         "hoverlabel": {
          "namelength": 0
         },
         "hovertemplate": "Mode=Road<br>Vehicle=28tlorry<br>Year=%{x}<br>VehicleCount=%{y}",
         "legendgroup": "Mode=Road",
         "line": {
          "color": "#636efa"
         },
         "mode": "lines",
         "name": "Mode=Road",
         "orientation": "v",
         "showlegend": false,
         "stackgroup": "1",
         "type": "scatter",
         "x": [
          1999,
          2000,
          2001,
          2002,
          2003,
          2004,
          2005,
          2006,
          2007,
          2008,
          2009,
          2010,
          2011,
          2012,
          2013,
          2014,
          2015,
          2016,
          2017,
          2018,
          2019,
          2020,
          2021,
          2022,
          2023,
          2024,
          2025,
          2026,
          2027,
          2028,
          2029,
          2030,
          2031,
          2032,
          2033,
          2034,
          2035,
          2036,
          2037,
          2038,
          2039,
          2040,
          2041,
          2042,
          2043,
          2044,
          2045,
          2046,
          2047,
          2048,
          2049,
          2050,
          2051
         ],
         "xaxis": "x",
         "y": [
          237750.11118023604,
          237011.12999889237,
          236485.36229844912,
          236152.81610906942,
          235993.544992701,
          235987.52741885555,
          236114.52591235633,
          236353.9141638287,
          236684.4763630641,
          237084.1679030395,
          237529.83637850554,
          237996.90455743033,
          238459.00561039275,
          238887.5884064156,
          239251.48866150845,
          239516.49901728518,
          239644.95832537007,
          239595.41681716897,
          239322.44486180195,
          238776.68229427788,
          237905.24100738633,
          236652.6113720456,
          234962.20138525675,
          232778.63618458796,
          230050.8681956525,
          226736.0373298782,
          222803.85215444426,
          218241.08581381463,
          213055.59625315032,
          207279.22440970084,
          200968.97008857745,
          194206.07416319795,
          187092.9531875553,
          179748.27425915748,
          172300.67784437898,
          164881.7742376882,
          157619.02500220964,
          150629.08082254615,
          144012.11458222603,
          137847.63516249676,
          132192.1409109538,
          127078.76787030973,
          122518.79928374103,
          118504.64519500801,
          115013.74112867335,
          112012.77474918921,
          109461.74190749197,
          107317.48028087986,
          105536.49973749112,
          104077.0670994653,
          102900.60297609147,
          101972.50249480094,
          101262.5072135736
         ],
         "yaxis": "y"
        },
        {
         "hoverlabel": {
          "namelength": 0
         },
         "hovertemplate": "Mode=Road<br>Vehicle=16tlorry<br>Year=%{x}<br>VehicleCount=%{y}",
         "legendgroup": "Mode=Road",
         "line": {
          "color": "#636efa"
         },
         "mode": "lines",
         "name": "Mode=Road",
         "orientation": "v",
         "showlegend": false,
         "stackgroup": "1",
         "type": "scatter",
         "x": [
          1999,
          2000,
          2001,
          2002,
          2003,
          2004,
          2005,
          2006,
          2007,
          2008,
          2009,
          2010,
          2011,
          2012,
          2013,
          2014,
          2015,
          2016,
          2017,
          2018,
          2019,
          2020,
          2021,
          2022,
          2023,
          2024,
          2025,
          2026,
          2027,
          2028,
          2029,
          2030,
          2031,
          2032,
          2033,
          2034,
          2035,
          2036,
          2037,
          2038,
          2039,
          2040,
          2041,
          2042,
          2043,
          2044,
          2045,
          2046,
          2047,
          2048,
          2049,
          2050,
          2051
         ],
         "xaxis": "x",
         "y": [
          34112.53747387914,
          34020.7960539449,
          33962.72686609103,
          33936.171904122144,
          33939.136184332965,
          33969.80378045205,
          34026.5573216073,
          34108.00010778441,
          34212.98222726219,
          34340.62966646628,
          34490.376373086874,
          34661.99887706383,
          34855.65018917853,
          35071.891798188226,
          35311.71660736232,
          35576.55716987072,
          35868.266454162425,
          36189.057024346,
          36541.378308537416,
          36927.70780320296,
          37350.22771591509,
          37810.362374899734,
          38308.15610922521,
          38841.494660422686,
          39405.20686844806,
          39990.13694188628,
          40582.3425099842,
          41162.640271621865,
          41706.756184079684,
          42186.32082431779,
          42570.84045394258,
          42830.577162646056,
          42940.01306999486,
          42881.33602651963,
          42647.25225189099,
          42242.491913663565,
          41683.624915482185,
          40997.18764864984,
          40216.51279368594,
          39377.92286313005,
          38517.01540689728,
          37665.64208004244,
          36849.92545962094,
          36089.37735890685,
          35396.96241822512,
          34779.82788522804,
          34240.40033441092,
          33777.5934946646,
          33387.94861256173,
          33066.605338974354,
          32808.06412187466,
          32606.74319927084,
          32457.35561717224
         ],
         "yaxis": "y"
        },
        {
         "hoverlabel": {
          "namelength": 0
         },
         "hovertemplate": "Mode=Rail<br>Vehicle=freighttrain<br>Year=%{x}<br>VehicleCount=%{y}",
         "legendgroup": "Mode=Rail",
         "line": {
          "color": "#EF553B"
         },
         "mode": "lines",
         "name": "Mode=Rail",
         "orientation": "v",
         "showlegend": true,
         "stackgroup": "1",
         "type": "scatter",
         "x": [
          1999,
          2000,
          2001,
          2002,
          2003,
          2004,
          2005,
          2006,
          2007,
          2008,
          2009,
          2010,
          2011,
          2012,
          2013,
          2014,
          2015,
          2016,
          2017,
          2018,
          2019,
          2020,
          2021,
          2022,
          2023,
          2024,
          2025,
          2026,
          2027,
          2028,
          2029,
          2030,
          2031,
          2032,
          2033,
          2034,
          2035,
          2036,
          2037,
          2038,
          2039,
          2040,
          2041,
          2042,
          2043,
          2044,
          2045,
          2046,
          2047,
          2048,
          2049,
          2050,
          2051
         ],
         "xaxis": "x",
         "y": [
          914.7562022526757,
          913.2888826933957,
          912.9393641721273,
          913.699724670576,
          915.5776150079002,
          918.5991760122184,
          922.8125760665008,
          928.2922466916607,
          935.1439677344243,
          943.5109017595265,
          953.5807130833751,
          965.5939013105871,
          979.8533929471021,
          996.7354685300107,
          1016.7018862252725,
          1040.3130150320624,
          1068.2414449360792,
          1101.2852817918497,
          1140.379839533211,
          1186.605895227214,
          1241.1919711910402,
          1305.5075199678186,
          1381.043198404157,
          1469.3742772711332,
          1572.10351253875,
          1690.7810342388516,
          1826.8010358785373,
          1981.2784158799082,
          2154.9123597800403,
          2347.8480518787437,
          2559.5509233173907,
          2788.7100101344818,
          3033.187439362659,
          3290.0299387037185,
          3555.554374379818,
          3825.5124718078046,
          4095.3285239599504,
          4360.389556710912,
          4616.353757297488,
          4859.43507606643,
          5086.62381492474,
          5295.8159141378765,
          5485.842315470303,
          5656.408851732325,
          5807.970832763107,
          5941.57156243843,
          6058.672375526015,
          6160.99486834996,
          6250.387992641049,
          6328.725092495343,
          6397.8305861050285,
          6459.432729659524,
          6515.137251657406
         ],
         "yaxis": "y"
        },
        {
         "hoverlabel": {
          "namelength": 0
         },
         "hovertemplate": "Mode=Inland<br>Vehicle=xlbarge<br>Year=%{x}<br>VehicleCount=%{y}",
         "legendgroup": "Mode=Inland",
         "line": {
          "color": "#00cc96"
         },
         "mode": "lines",
         "name": "Mode=Inland",
         "orientation": "v",
         "showlegend": true,
         "stackgroup": "1",
         "type": "scatter",
         "x": [
          1999,
          2000,
          2001,
          2002,
          2003,
          2004,
          2005,
          2006,
          2007,
          2008,
          2009,
          2010,
          2011,
          2012,
          2013,
          2014,
          2015,
          2016,
          2017,
          2018,
          2019,
          2020,
          2021,
          2022,
          2023,
          2024,
          2025,
          2026,
          2027,
          2028,
          2029,
          2030,
          2031,
          2032,
          2033,
          2034,
          2035,
          2036,
          2037,
          2038,
          2039,
          2040,
          2041,
          2042,
          2043,
          2044,
          2045,
          2046,
          2047,
          2048,
          2049,
          2050,
          2051
         ],
         "xaxis": "x",
         "y": [
          72.02420801785469,
          72.25952815553852,
          72.6048364669068,
          73.05986491829375,
          73.62490270596442,
          74.30080693469137,
          75.08900959395024,
          75.99151695683253,
          77.01090243700173,
          78.15028905104407,
          79.41332048522362,
          80.80412047545225,
          82.32723602585463,
          83.98756861397024,
          85.79028940931812,
          87.7407461725613,
          89.84436372881265,
          92.10655075970652,
          94.53262740877359,
          97.12779613811138,
          99.89718092822592,
          102.84597181490396,
          105.97970109912444,
          109.30467653094468,
          112.82856680230671,
          116.56109151014498,
          120.51469875297005,
          124.70503811741153,
          129.15095191991693,
          133.8736843977371,
          138.89504773219727,
          144.2344530473188,
          149.9049881850404,
          155.90906932910593,
          162.23447077154532,
          168.85166533206117,
          175.71325425298105,
          182.755857992368,
          189.90428684107042,
          197.07728650345834,
          204.19382867212437,
          211.17891196865813,
          217.96807335912214,
          224.51020584157172,
          230.768681547137,
          236.72105486244533,
          242.35777594793393,
          247.68034625745088,
          252.69928358501528,
          257.43215106575303,
          261.90180300384,
          266.134917236136,
          270.16081839122444
         ],
         "yaxis": "y"
        },
        {
         "hoverlabel": {
          "namelength": 0
         },
         "hovertemplate": "Mode=Inland<br>Vehicle=lbarge<br>Year=%{x}<br>VehicleCount=%{y}",
         "legendgroup": "Mode=Inland",
         "line": {
          "color": "#00cc96"
         },
         "mode": "lines",
         "name": "Mode=Inland",
         "orientation": "v",
         "showlegend": false,
         "stackgroup": "1",
         "type": "scatter",
         "x": [
          1999,
          2000,
          2001,
          2002,
          2003,
          2004,
          2005,
          2006,
          2007,
          2008,
          2009,
          2010,
          2011,
          2012,
          2013,
          2014,
          2015,
          2016,
          2017,
          2018,
          2019,
          2020,
          2021,
          2022,
          2023,
          2024,
          2025,
          2026,
          2027,
          2028,
          2029,
          2030,
          2031,
          2032,
          2033,
          2034,
          2035,
          2036,
          2037,
          2038,
          2039,
          2040,
          2041,
          2042,
          2043,
          2044,
          2045,
          2046,
          2047,
          2048,
          2049,
          2050,
          2051
         ],
         "xaxis": "x",
         "y": [
          157.77803511852022,
          157.7289419428097,
          157.8643979203001,
          158.1765878053073,
          158.6582454837584,
          159.3026276442415,
          160.1034809517118,
          161.05499623249577,
          162.15175428789502,
          163.38865806615593,
          164.7608527427674,
          166.263637341152,
          167.89236347224212,
          169.64233519412707,
          171.50870733083707,
          173.48640315455071,
          175.57005928381218,
          177.75402522021346,
          180.03244420824305,
          182.39945169303815,
          184.84952471325295,
          187.37802807481793,
          189.9819718079924,
          192.6609830256273,
          195.41843540065642,
          198.26260764046688,
          201.20764272680503,
          204.27399244533817,
          207.48795264061727,
          210.8799353979683,
          214.48126127332438,
          218.31956536696887,
          222.41331498613573,
          226.76635918329083,
          231.36366471125007,
          236.1693655148589,
          241.1278427057481,
          246.16788279213517,
          251.20923466266674,
          256.1703358239769,
          260.9757797853531,
          265.5623249768156,
          269.8827159937452,
          273.90716084321735,
          277.62278843319524,
          281.0316637686641,
          284.1480187335286,
          286.9952565225548,
          289.6031371509502,
          292.005374281139,
          294.23773761065183,
          296.3366592832083,
          298.33827875664247
         ],
         "yaxis": "y"
        },
        {
         "hoverlabel": {
          "namelength": 0
         },
         "hovertemplate": "Mode=Inland<br>Vehicle=mbarge<br>Year=%{x}<br>VehicleCount=%{y}",
         "legendgroup": "Mode=Inland",
         "line": {
          "color": "#00cc96"
         },
         "mode": "lines",
         "name": "Mode=Inland",
         "orientation": "v",
         "showlegend": false,
         "stackgroup": "1",
         "type": "scatter",
         "x": [
          1999,
          2000,
          2001,
          2002,
          2003,
          2004,
          2005,
          2006,
          2007,
          2008,
          2009,
          2010,
          2011,
          2012,
          2013,
          2014,
          2015,
          2016,
          2017,
          2018,
          2019,
          2020,
          2021,
          2022,
          2023,
          2024,
          2025,
          2026,
          2027,
          2028,
          2029,
          2030,
          2031,
          2032,
          2033,
          2034,
          2035,
          2036,
          2037,
          2038,
          2039,
          2040,
          2041,
          2042,
          2043,
          2044,
          2045,
          2046,
          2047,
          2048,
          2049,
          2050,
          2051
         ],
         "xaxis": "x",
         "y": [
          283.64456234455827,
          282.72869016334965,
          282.0674009676359,
          281.63766570133726,
          281.41683971958753,
          281.3826150783633,
          281.51297358420464,
          281.786132116579,
          282.18049177734974,
          282.6745852152924,
          283.2470287328324,
          283.8764892297968,
          284.541661840584,
          285.2212850672169,
          285.89419015569257,
          286.53941939130266,
          287.1364223782034,
          287.66536761113406,
          288.10759879591456,
          288.44627311614903,
          288.66720459197813,
          288.7599456132367,
          288.7190809523048,
          288.54568659572317,
          288.2488167529012,
          287.84679152234105,
          287.36794649667297,
          286.85043734933214,
          286.3406572643355,
          285.8899690236872,
          285.54971075680504,
          285.36487708309664,
          285.36735732190067,
          285.5700164095899,
          285.9629834938186,
          286.51324055941797,
          287.16791163548663,
          287.86078024167057,
          288.5207868607383,
          289.08083233015185,
          289.48526167094417,
          289.69491226132516,
          289.68929008275956,
          289.46610555072107,
          289.0388576083645,
          288.4333042257082,
          287.6836106050645,
          286.82875206537346,
          285.9095208871009,
          284.96627025291446,
          284.03738460106536,
          283.1583808471012,
          282.3615009972032
         ],
         "yaxis": "y"
        },
        {
         "hoverlabel": {
          "namelength": 0
         },
         "hovertemplate": "Mode=Inland<br>Vehicle=sbarge<br>Year=%{x}<br>VehicleCount=%{y}",
         "legendgroup": "Mode=Inland",
         "line": {
          "color": "#00cc96"
         },
         "mode": "lines",
         "name": "Mode=Inland",
         "orientation": "v",
         "showlegend": false,
         "stackgroup": "1",
         "type": "scatter",
         "x": [
          1999,
          2000,
          2001,
          2002,
          2003,
          2004,
          2005,
          2006,
          2007,
          2008,
          2009,
          2010,
          2011,
          2012,
          2013,
          2014,
          2015,
          2016,
          2017,
          2018,
          2019,
          2020,
          2021,
          2022,
          2023,
          2024,
          2025,
          2026,
          2027,
          2028,
          2029,
          2030,
          2031,
          2032,
          2033,
          2034,
          2035,
          2036,
          2037,
          2038,
          2039,
          2040,
          2041,
          2042,
          2043,
          2044,
          2045,
          2046,
          2047,
          2048,
          2049,
          2050,
          2051
         ],
         "xaxis": "x",
         "y": [
          1082.7452480038044,
          1076.83810171974,
          1071.697497614592,
          1067.2149437410972,
          1063.2829010920568,
          1059.794809960208,
          1056.64517585775,
          1053.7296891009767,
          1050.9454268649017,
          1048.1911199493243,
          1045.3675102690074,
          1042.3778339602904,
          1039.1284077820128,
          1035.5294047211726,
          1031.4957861572973,
          1026.9484878972858,
          1021.8158527899812,
          1016.035393322006,
          1009.5559256320214,
          1002.340131199353,
          994.3675421177661,
          985.6379742332308,
          976.1752300939237,
          966.0308370574008,
          955.2873208016161,
          944.0602769531856,
          932.4982337480658,
          920.7792030442411,
          909.1028423913192,
          897.67773488481,
          886.7041596304083,
          876.354052106404,
          866.751132463321,
          857.9550786269887,
          849.9534579525464,
          842.6639638395934,
          835.9472650079633,
          829.6282698646007,
          823.5216432117429,
          817.456617336923,
          811.2967148028156,
          804.9517563314529,
          798.3815571578943,
          791.5925166763775,
          784.62939003851,
          777.5647209838236,
          770.4880955661991,
          763.4966640931078,
          756.6877015204053,
          750.1533867480202,
          743.9776210088975,
          738.2345179997741,
          732.9881221634307
         ],
         "yaxis": "y"
        }
       ],
       "layout": {
        "height": 500,
        "legend": {
         "font": {
          "size": 10
         },
         "tracegroupgap": 0,
         "traceorder": "reversed",
         "y": 0.5
        },
        "margin": {
         "t": 60
        },
        "template": {
         "data": {
          "bar": [
           {
            "error_x": {
             "color": "#2a3f5f"
            },
            "error_y": {
             "color": "#2a3f5f"
            },
            "marker": {
             "line": {
              "color": "#E5ECF6",
              "width": 0.5
             }
            },
            "type": "bar"
           }
          ],
          "barpolar": [
           {
            "marker": {
             "line": {
              "color": "#E5ECF6",
              "width": 0.5
             }
            },
            "type": "barpolar"
           }
          ],
          "carpet": [
           {
            "aaxis": {
             "endlinecolor": "#2a3f5f",
             "gridcolor": "white",
             "linecolor": "white",
             "minorgridcolor": "white",
             "startlinecolor": "#2a3f5f"
            },
            "baxis": {
             "endlinecolor": "#2a3f5f",
             "gridcolor": "white",
             "linecolor": "white",
             "minorgridcolor": "white",
             "startlinecolor": "#2a3f5f"
            },
            "type": "carpet"
           }
          ],
          "choropleth": [
           {
            "colorbar": {
             "outlinewidth": 0,
             "ticks": ""
            },
            "type": "choropleth"
           }
          ],
          "contour": [
           {
            "colorbar": {
             "outlinewidth": 0,
             "ticks": ""
            },
            "colorscale": [
             [
              0,
              "#0d0887"
             ],
             [
              0.1111111111111111,
              "#46039f"
             ],
             [
              0.2222222222222222,
              "#7201a8"
             ],
             [
              0.3333333333333333,
              "#9c179e"
             ],
             [
              0.4444444444444444,
              "#bd3786"
             ],
             [
              0.5555555555555556,
              "#d8576b"
             ],
             [
              0.6666666666666666,
              "#ed7953"
             ],
             [
              0.7777777777777778,
              "#fb9f3a"
             ],
             [
              0.8888888888888888,
              "#fdca26"
             ],
             [
              1,
              "#f0f921"
             ]
            ],
            "type": "contour"
           }
          ],
          "contourcarpet": [
           {
            "colorbar": {
             "outlinewidth": 0,
             "ticks": ""
            },
            "type": "contourcarpet"
           }
          ],
          "heatmap": [
           {
            "colorbar": {
             "outlinewidth": 0,
             "ticks": ""
            },
            "colorscale": [
             [
              0,
              "#0d0887"
             ],
             [
              0.1111111111111111,
              "#46039f"
             ],
             [
              0.2222222222222222,
              "#7201a8"
             ],
             [
              0.3333333333333333,
              "#9c179e"
             ],
             [
              0.4444444444444444,
              "#bd3786"
             ],
             [
              0.5555555555555556,
              "#d8576b"
             ],
             [
              0.6666666666666666,
              "#ed7953"
             ],
             [
              0.7777777777777778,
              "#fb9f3a"
             ],
             [
              0.8888888888888888,
              "#fdca26"
             ],
             [
              1,
              "#f0f921"
             ]
            ],
            "type": "heatmap"
           }
          ],
          "heatmapgl": [
           {
            "colorbar": {
             "outlinewidth": 0,
             "ticks": ""
            },
            "colorscale": [
             [
              0,
              "#0d0887"
             ],
             [
              0.1111111111111111,
              "#46039f"
             ],
             [
              0.2222222222222222,
              "#7201a8"
             ],
             [
              0.3333333333333333,
              "#9c179e"
             ],
             [
              0.4444444444444444,
              "#bd3786"
             ],
             [
              0.5555555555555556,
              "#d8576b"
             ],
             [
              0.6666666666666666,
              "#ed7953"
             ],
             [
              0.7777777777777778,
              "#fb9f3a"
             ],
             [
              0.8888888888888888,
              "#fdca26"
             ],
             [
              1,
              "#f0f921"
             ]
            ],
            "type": "heatmapgl"
           }
          ],
          "histogram": [
           {
            "marker": {
             "colorbar": {
              "outlinewidth": 0,
              "ticks": ""
             }
            },
            "type": "histogram"
           }
          ],
          "histogram2d": [
           {
            "colorbar": {
             "outlinewidth": 0,
             "ticks": ""
            },
            "colorscale": [
             [
              0,
              "#0d0887"
             ],
             [
              0.1111111111111111,
              "#46039f"
             ],
             [
              0.2222222222222222,
              "#7201a8"
             ],
             [
              0.3333333333333333,
              "#9c179e"
             ],
             [
              0.4444444444444444,
              "#bd3786"
             ],
             [
              0.5555555555555556,
              "#d8576b"
             ],
             [
              0.6666666666666666,
              "#ed7953"
             ],
             [
              0.7777777777777778,
              "#fb9f3a"
             ],
             [
              0.8888888888888888,
              "#fdca26"
             ],
             [
              1,
              "#f0f921"
             ]
            ],
            "type": "histogram2d"
           }
          ],
          "histogram2dcontour": [
           {
            "colorbar": {
             "outlinewidth": 0,
             "ticks": ""
            },
            "colorscale": [
             [
              0,
              "#0d0887"
             ],
             [
              0.1111111111111111,
              "#46039f"
             ],
             [
              0.2222222222222222,
              "#7201a8"
             ],
             [
              0.3333333333333333,
              "#9c179e"
             ],
             [
              0.4444444444444444,
              "#bd3786"
             ],
             [
              0.5555555555555556,
              "#d8576b"
             ],
             [
              0.6666666666666666,
              "#ed7953"
             ],
             [
              0.7777777777777778,
              "#fb9f3a"
             ],
             [
              0.8888888888888888,
              "#fdca26"
             ],
             [
              1,
              "#f0f921"
             ]
            ],
            "type": "histogram2dcontour"
           }
          ],
          "mesh3d": [
           {
            "colorbar": {
             "outlinewidth": 0,
             "ticks": ""
            },
            "type": "mesh3d"
           }
          ],
          "parcoords": [
           {
            "line": {
             "colorbar": {
              "outlinewidth": 0,
              "ticks": ""
             }
            },
            "type": "parcoords"
           }
          ],
          "scatter": [
           {
            "marker": {
             "colorbar": {
              "outlinewidth": 0,
              "ticks": ""
             }
            },
            "type": "scatter"
           }
          ],
          "scatter3d": [
           {
            "line": {
             "colorbar": {
              "outlinewidth": 0,
              "ticks": ""
             }
            },
            "marker": {
             "colorbar": {
              "outlinewidth": 0,
              "ticks": ""
             }
            },
            "type": "scatter3d"
           }
          ],
          "scattercarpet": [
           {
            "marker": {
             "colorbar": {
              "outlinewidth": 0,
              "ticks": ""
             }
            },
            "type": "scattercarpet"
           }
          ],
          "scattergeo": [
           {
            "marker": {
             "colorbar": {
              "outlinewidth": 0,
              "ticks": ""
             }
            },
            "type": "scattergeo"
           }
          ],
          "scattergl": [
           {
            "marker": {
             "colorbar": {
              "outlinewidth": 0,
              "ticks": ""
             }
            },
            "type": "scattergl"
           }
          ],
          "scattermapbox": [
           {
            "marker": {
             "colorbar": {
              "outlinewidth": 0,
              "ticks": ""
             }
            },
            "type": "scattermapbox"
           }
          ],
          "scatterpolar": [
           {
            "marker": {
             "colorbar": {
              "outlinewidth": 0,
              "ticks": ""
             }
            },
            "type": "scatterpolar"
           }
          ],
          "scatterpolargl": [
           {
            "marker": {
             "colorbar": {
              "outlinewidth": 0,
              "ticks": ""
             }
            },
            "type": "scatterpolargl"
           }
          ],
          "scatterternary": [
           {
            "marker": {
             "colorbar": {
              "outlinewidth": 0,
              "ticks": ""
             }
            },
            "type": "scatterternary"
           }
          ],
          "surface": [
           {
            "colorbar": {
             "outlinewidth": 0,
             "ticks": ""
            },
            "colorscale": [
             [
              0,
              "#0d0887"
             ],
             [
              0.1111111111111111,
              "#46039f"
             ],
             [
              0.2222222222222222,
              "#7201a8"
             ],
             [
              0.3333333333333333,
              "#9c179e"
             ],
             [
              0.4444444444444444,
              "#bd3786"
             ],
             [
              0.5555555555555556,
              "#d8576b"
             ],
             [
              0.6666666666666666,
              "#ed7953"
             ],
             [
              0.7777777777777778,
              "#fb9f3a"
             ],
             [
              0.8888888888888888,
              "#fdca26"
             ],
             [
              1,
              "#f0f921"
             ]
            ],
            "type": "surface"
           }
          ],
          "table": [
           {
            "cells": {
             "fill": {
              "color": "#EBF0F8"
             },
             "line": {
              "color": "white"
             }
            },
            "header": {
             "fill": {
              "color": "#C8D4E3"
             },
             "line": {
              "color": "white"
             }
            },
            "type": "table"
           }
          ]
         },
         "layout": {
          "annotationdefaults": {
           "arrowcolor": "#2a3f5f",
           "arrowhead": 0,
           "arrowwidth": 1
          },
          "colorscale": {
           "diverging": [
            [
             0,
             "#8e0152"
            ],
            [
             0.1,
             "#c51b7d"
            ],
            [
             0.2,
             "#de77ae"
            ],
            [
             0.3,
             "#f1b6da"
            ],
            [
             0.4,
             "#fde0ef"
            ],
            [
             0.5,
             "#f7f7f7"
            ],
            [
             0.6,
             "#e6f5d0"
            ],
            [
             0.7,
             "#b8e186"
            ],
            [
             0.8,
             "#7fbc41"
            ],
            [
             0.9,
             "#4d9221"
            ],
            [
             1,
             "#276419"
            ]
           ],
           "sequential": [
            [
             0,
             "#0d0887"
            ],
            [
             0.1111111111111111,
             "#46039f"
            ],
            [
             0.2222222222222222,
             "#7201a8"
            ],
            [
             0.3333333333333333,
             "#9c179e"
            ],
            [
             0.4444444444444444,
             "#bd3786"
            ],
            [
             0.5555555555555556,
             "#d8576b"
            ],
            [
             0.6666666666666666,
             "#ed7953"
            ],
            [
             0.7777777777777778,
             "#fb9f3a"
            ],
            [
             0.8888888888888888,
             "#fdca26"
            ],
            [
             1,
             "#f0f921"
            ]
           ],
           "sequentialminus": [
            [
             0,
             "#0d0887"
            ],
            [
             0.1111111111111111,
             "#46039f"
            ],
            [
             0.2222222222222222,
             "#7201a8"
            ],
            [
             0.3333333333333333,
             "#9c179e"
            ],
            [
             0.4444444444444444,
             "#bd3786"
            ],
            [
             0.5555555555555556,
             "#d8576b"
            ],
            [
             0.6666666666666666,
             "#ed7953"
            ],
            [
             0.7777777777777778,
             "#fb9f3a"
            ],
            [
             0.8888888888888888,
             "#fdca26"
            ],
            [
             1,
             "#f0f921"
            ]
           ]
          },
          "colorway": [
           "#636efa",
           "#EF553B",
           "#00cc96",
           "#ab63fa",
           "#FFA15A",
           "#19d3f3",
           "#FF6692",
           "#B6E880",
           "#FF97FF",
           "#FECB52"
          ],
          "font": {
           "color": "#2a3f5f"
          },
          "geo": {
           "bgcolor": "white",
           "lakecolor": "white",
           "landcolor": "#E5ECF6",
           "showlakes": true,
           "showland": true,
           "subunitcolor": "white"
          },
          "hoverlabel": {
           "align": "left"
          },
          "hovermode": "closest",
          "mapbox": {
           "style": "light"
          },
          "paper_bgcolor": "white",
          "plot_bgcolor": "#E5ECF6",
          "polar": {
           "angularaxis": {
            "gridcolor": "white",
            "linecolor": "white",
            "ticks": ""
           },
           "bgcolor": "#E5ECF6",
           "radialaxis": {
            "gridcolor": "white",
            "linecolor": "white",
            "ticks": ""
           }
          },
          "scene": {
           "xaxis": {
            "backgroundcolor": "#E5ECF6",
            "gridcolor": "white",
            "gridwidth": 2,
            "linecolor": "white",
            "showbackground": true,
            "ticks": "",
            "zerolinecolor": "white"
           },
           "yaxis": {
            "backgroundcolor": "#E5ECF6",
            "gridcolor": "white",
            "gridwidth": 2,
            "linecolor": "white",
            "showbackground": true,
            "ticks": "",
            "zerolinecolor": "white"
           },
           "zaxis": {
            "backgroundcolor": "#E5ECF6",
            "gridcolor": "white",
            "gridwidth": 2,
            "linecolor": "white",
            "showbackground": true,
            "ticks": "",
            "zerolinecolor": "white"
           }
          },
          "shapedefaults": {
           "line": {
            "color": "#2a3f5f"
           }
          },
          "ternary": {
           "aaxis": {
            "gridcolor": "white",
            "linecolor": "white",
            "ticks": ""
           },
           "baxis": {
            "gridcolor": "white",
            "linecolor": "white",
            "ticks": ""
           },
           "bgcolor": "#E5ECF6",
           "caxis": {
            "gridcolor": "white",
            "linecolor": "white",
            "ticks": ""
           }
          },
          "title": {
           "x": 0.05
          },
          "xaxis": {
           "automargin": true,
           "gridcolor": "white",
           "linecolor": "white",
           "ticks": "",
           "zerolinecolor": "white",
           "zerolinewidth": 2
          },
          "yaxis": {
           "automargin": true,
           "gridcolor": "white",
           "linecolor": "white",
           "ticks": "",
           "zerolinecolor": "white",
           "zerolinewidth": 2
          }
         }
        },
        "width": 800,
        "xaxis": {
         "anchor": "y",
         "domain": [
          0,
          0.98
         ],
         "title": {
          "text": "Year"
         }
        },
        "yaxis": {
         "anchor": "x",
         "domain": [
          0,
          1
         ],
         "title": {
          "text": "VehicleCount"
         }
        }
       }
      },
      "text/html": [
       "<div>\n",
       "        \n",
       "        \n",
       "            <div id=\"8f25cb39-8d0f-49f3-917e-e0136f99a72c\" class=\"plotly-graph-div\" style=\"height:500px; width:800px;\"></div>\n",
       "            <script type=\"text/javascript\">\n",
       "                require([\"plotly\"], function(Plotly) {\n",
       "                    window.PLOTLYENV=window.PLOTLYENV || {};\n",
       "                    \n",
       "                if (document.getElementById(\"8f25cb39-8d0f-49f3-917e-e0136f99a72c\")) {\n",
       "                    Plotly.newPlot(\n",
       "                        '8f25cb39-8d0f-49f3-917e-e0136f99a72c',\n",
       "                        [{\"hoverlabel\": {\"namelength\": 0}, \"hovertemplate\": \"Mode=Road<br>Vehicle=40tlorry<br>Year=%{x}<br>VehicleCount=%{y}\", \"legendgroup\": \"Mode=Road\", \"line\": {\"color\": \"#636efa\"}, \"mode\": \"lines\", \"name\": \"Mode=Road\", \"orientation\": \"v\", \"showlegend\": true, \"stackgroup\": \"1\", \"type\": \"scatter\", \"x\": [1999.0, 2000.0, 2001.0, 2002.0, 2003.0, 2004.0, 2005.0, 2006.0, 2007.0, 2008.0, 2009.0, 2010.0, 2011.0, 2012.0, 2013.0, 2014.0, 2015.0, 2016.0, 2017.0, 2018.0, 2019.0, 2020.0, 2021.0, 2022.0, 2023.0, 2024.0, 2025.0, 2026.0, 2027.0, 2028.0, 2029.0, 2030.0, 2031.0, 2032.0, 2033.0, 2034.0, 2035.0, 2036.0, 2037.0, 2038.0, 2039.0, 2040.0, 2041.0, 2042.0, 2043.0, 2044.0, 2045.0, 2046.0, 2047.0, 2048.0, 2049.0, 2050.0, 2051.0], \"xaxis\": \"x\", \"y\": [47040.176304402994, 46915.943513836355, 46838.63351832151, 46805.383057200655, 46813.57826285086, 46860.881909594355, 46945.26636626899, 47065.05118117872, 47218.947273096644, 47406.106339304846, 47626.1753259358, 47879.355147845075, 48166.458606756496, 48488.96498370117, 48849.05999915292, 49249.65123079185, 49694.3383442154, 50187.31459992203, 50733.16645656758, 51336.53197744742, 52001.572580252796, 52731.21917286373, 53526.16313443371, 54383.601328761884, 55295.800694715705, 56248.63443376752, 57220.34386126882, 58180.879594950726, 59092.22068533986, 59910.02839969133, 60586.80385651453, 61076.40303393327, 61339.36901203833, 61348.19907939942, 61091.498510240504, 60576.09984375583, 59826.62774090732, 58882.565837981536, 57793.44843438777, 56613.17241601139, 55394.49996405019, 54184.621738194386, 53022.265459081624, 51936.42628508967, 50946.47910744061, 50063.25929122897, 49290.67333201688, 48627.46682828736, 48068.89083073648, 47608.11933859377, 47237.36217842808, 46948.678438109346, 46734.52782798558], \"yaxis\": \"y\"}, {\"hoverlabel\": {\"namelength\": 0}, \"hovertemplate\": \"Mode=Road<br>Vehicle=28tlorry<br>Year=%{x}<br>VehicleCount=%{y}\", \"legendgroup\": \"Mode=Road\", \"line\": {\"color\": \"#636efa\"}, \"mode\": \"lines\", \"name\": \"Mode=Road\", \"orientation\": \"v\", \"showlegend\": false, \"stackgroup\": \"1\", \"type\": \"scatter\", \"x\": [1999.0, 2000.0, 2001.0, 2002.0, 2003.0, 2004.0, 2005.0, 2006.0, 2007.0, 2008.0, 2009.0, 2010.0, 2011.0, 2012.0, 2013.0, 2014.0, 2015.0, 2016.0, 2017.0, 2018.0, 2019.0, 2020.0, 2021.0, 2022.0, 2023.0, 2024.0, 2025.0, 2026.0, 2027.0, 2028.0, 2029.0, 2030.0, 2031.0, 2032.0, 2033.0, 2034.0, 2035.0, 2036.0, 2037.0, 2038.0, 2039.0, 2040.0, 2041.0, 2042.0, 2043.0, 2044.0, 2045.0, 2046.0, 2047.0, 2048.0, 2049.0, 2050.0, 2051.0], \"xaxis\": \"x\", \"y\": [237750.11118023604, 237011.12999889237, 236485.36229844912, 236152.81610906942, 235993.544992701, 235987.52741885555, 236114.52591235633, 236353.9141638287, 236684.4763630641, 237084.1679030395, 237529.83637850554, 237996.90455743033, 238459.00561039275, 238887.5884064156, 239251.48866150845, 239516.49901728518, 239644.95832537007, 239595.41681716897, 239322.44486180195, 238776.68229427788, 237905.24100738633, 236652.6113720456, 234962.20138525675, 232778.63618458796, 230050.8681956525, 226736.0373298782, 222803.85215444426, 218241.08581381463, 213055.59625315032, 207279.22440970084, 200968.97008857745, 194206.07416319795, 187092.9531875553, 179748.27425915748, 172300.67784437898, 164881.7742376882, 157619.02500220964, 150629.08082254615, 144012.11458222603, 137847.63516249676, 132192.1409109538, 127078.76787030973, 122518.79928374103, 118504.64519500801, 115013.74112867335, 112012.77474918921, 109461.74190749197, 107317.48028087986, 105536.49973749112, 104077.0670994653, 102900.60297609147, 101972.50249480094, 101262.5072135736], \"yaxis\": \"y\"}, {\"hoverlabel\": {\"namelength\": 0}, \"hovertemplate\": \"Mode=Road<br>Vehicle=16tlorry<br>Year=%{x}<br>VehicleCount=%{y}\", \"legendgroup\": \"Mode=Road\", \"line\": {\"color\": \"#636efa\"}, \"mode\": \"lines\", \"name\": \"Mode=Road\", \"orientation\": \"v\", \"showlegend\": false, \"stackgroup\": \"1\", \"type\": \"scatter\", \"x\": [1999.0, 2000.0, 2001.0, 2002.0, 2003.0, 2004.0, 2005.0, 2006.0, 2007.0, 2008.0, 2009.0, 2010.0, 2011.0, 2012.0, 2013.0, 2014.0, 2015.0, 2016.0, 2017.0, 2018.0, 2019.0, 2020.0, 2021.0, 2022.0, 2023.0, 2024.0, 2025.0, 2026.0, 2027.0, 2028.0, 2029.0, 2030.0, 2031.0, 2032.0, 2033.0, 2034.0, 2035.0, 2036.0, 2037.0, 2038.0, 2039.0, 2040.0, 2041.0, 2042.0, 2043.0, 2044.0, 2045.0, 2046.0, 2047.0, 2048.0, 2049.0, 2050.0, 2051.0], \"xaxis\": \"x\", \"y\": [34112.53747387914, 34020.7960539449, 33962.72686609103, 33936.171904122144, 33939.136184332965, 33969.80378045205, 34026.5573216073, 34108.00010778441, 34212.98222726219, 34340.62966646628, 34490.376373086874, 34661.99887706383, 34855.65018917853, 35071.891798188226, 35311.71660736232, 35576.55716987072, 35868.266454162425, 36189.057024346, 36541.378308537416, 36927.70780320296, 37350.22771591509, 37810.362374899734, 38308.15610922521, 38841.494660422686, 39405.20686844806, 39990.13694188628, 40582.3425099842, 41162.640271621865, 41706.756184079684, 42186.32082431779, 42570.84045394258, 42830.577162646056, 42940.01306999486, 42881.33602651963, 42647.25225189099, 42242.491913663565, 41683.624915482185, 40997.18764864984, 40216.51279368594, 39377.92286313005, 38517.01540689728, 37665.64208004244, 36849.92545962094, 36089.37735890685, 35396.96241822512, 34779.82788522804, 34240.40033441092, 33777.5934946646, 33387.94861256173, 33066.605338974354, 32808.06412187466, 32606.74319927084, 32457.35561717224], \"yaxis\": \"y\"}, {\"hoverlabel\": {\"namelength\": 0}, \"hovertemplate\": \"Mode=Rail<br>Vehicle=freighttrain<br>Year=%{x}<br>VehicleCount=%{y}\", \"legendgroup\": \"Mode=Rail\", \"line\": {\"color\": \"#EF553B\"}, \"mode\": \"lines\", \"name\": \"Mode=Rail\", \"orientation\": \"v\", \"showlegend\": true, \"stackgroup\": \"1\", \"type\": \"scatter\", \"x\": [1999.0, 2000.0, 2001.0, 2002.0, 2003.0, 2004.0, 2005.0, 2006.0, 2007.0, 2008.0, 2009.0, 2010.0, 2011.0, 2012.0, 2013.0, 2014.0, 2015.0, 2016.0, 2017.0, 2018.0, 2019.0, 2020.0, 2021.0, 2022.0, 2023.0, 2024.0, 2025.0, 2026.0, 2027.0, 2028.0, 2029.0, 2030.0, 2031.0, 2032.0, 2033.0, 2034.0, 2035.0, 2036.0, 2037.0, 2038.0, 2039.0, 2040.0, 2041.0, 2042.0, 2043.0, 2044.0, 2045.0, 2046.0, 2047.0, 2048.0, 2049.0, 2050.0, 2051.0], \"xaxis\": \"x\", \"y\": [914.7562022526757, 913.2888826933957, 912.9393641721273, 913.699724670576, 915.5776150079002, 918.5991760122184, 922.8125760665008, 928.2922466916607, 935.1439677344243, 943.5109017595265, 953.5807130833751, 965.5939013105871, 979.8533929471021, 996.7354685300107, 1016.7018862252725, 1040.3130150320624, 1068.2414449360792, 1101.2852817918497, 1140.379839533211, 1186.605895227214, 1241.1919711910402, 1305.5075199678186, 1381.043198404157, 1469.3742772711332, 1572.10351253875, 1690.7810342388516, 1826.8010358785373, 1981.2784158799082, 2154.9123597800403, 2347.8480518787437, 2559.5509233173907, 2788.7100101344818, 3033.187439362659, 3290.0299387037185, 3555.554374379818, 3825.5124718078046, 4095.3285239599504, 4360.389556710912, 4616.353757297488, 4859.43507606643, 5086.62381492474, 5295.8159141378765, 5485.842315470303, 5656.408851732325, 5807.970832763107, 5941.57156243843, 6058.672375526015, 6160.99486834996, 6250.387992641049, 6328.725092495343, 6397.8305861050285, 6459.432729659524, 6515.137251657406], \"yaxis\": \"y\"}, {\"hoverlabel\": {\"namelength\": 0}, \"hovertemplate\": \"Mode=Inland<br>Vehicle=xlbarge<br>Year=%{x}<br>VehicleCount=%{y}\", \"legendgroup\": \"Mode=Inland\", \"line\": {\"color\": \"#00cc96\"}, \"mode\": \"lines\", \"name\": \"Mode=Inland\", \"orientation\": \"v\", \"showlegend\": true, \"stackgroup\": \"1\", \"type\": \"scatter\", \"x\": [1999.0, 2000.0, 2001.0, 2002.0, 2003.0, 2004.0, 2005.0, 2006.0, 2007.0, 2008.0, 2009.0, 2010.0, 2011.0, 2012.0, 2013.0, 2014.0, 2015.0, 2016.0, 2017.0, 2018.0, 2019.0, 2020.0, 2021.0, 2022.0, 2023.0, 2024.0, 2025.0, 2026.0, 2027.0, 2028.0, 2029.0, 2030.0, 2031.0, 2032.0, 2033.0, 2034.0, 2035.0, 2036.0, 2037.0, 2038.0, 2039.0, 2040.0, 2041.0, 2042.0, 2043.0, 2044.0, 2045.0, 2046.0, 2047.0, 2048.0, 2049.0, 2050.0, 2051.0], \"xaxis\": \"x\", \"y\": [72.02420801785469, 72.25952815553852, 72.6048364669068, 73.05986491829375, 73.62490270596442, 74.30080693469137, 75.08900959395024, 75.99151695683253, 77.01090243700173, 78.15028905104407, 79.41332048522362, 80.80412047545225, 82.32723602585463, 83.98756861397024, 85.79028940931812, 87.7407461725613, 89.84436372881265, 92.10655075970652, 94.53262740877359, 97.12779613811138, 99.89718092822592, 102.84597181490396, 105.97970109912444, 109.30467653094468, 112.82856680230671, 116.56109151014498, 120.51469875297005, 124.70503811741153, 129.15095191991693, 133.8736843977371, 138.89504773219727, 144.2344530473188, 149.9049881850404, 155.90906932910593, 162.23447077154532, 168.85166533206117, 175.71325425298105, 182.755857992368, 189.90428684107042, 197.07728650345834, 204.19382867212437, 211.17891196865813, 217.96807335912214, 224.51020584157172, 230.768681547137, 236.72105486244533, 242.35777594793393, 247.68034625745088, 252.69928358501528, 257.43215106575303, 261.90180300384, 266.134917236136, 270.16081839122444], \"yaxis\": \"y\"}, {\"hoverlabel\": {\"namelength\": 0}, \"hovertemplate\": \"Mode=Inland<br>Vehicle=lbarge<br>Year=%{x}<br>VehicleCount=%{y}\", \"legendgroup\": \"Mode=Inland\", \"line\": {\"color\": \"#00cc96\"}, \"mode\": \"lines\", \"name\": \"Mode=Inland\", \"orientation\": \"v\", \"showlegend\": false, \"stackgroup\": \"1\", \"type\": \"scatter\", \"x\": [1999.0, 2000.0, 2001.0, 2002.0, 2003.0, 2004.0, 2005.0, 2006.0, 2007.0, 2008.0, 2009.0, 2010.0, 2011.0, 2012.0, 2013.0, 2014.0, 2015.0, 2016.0, 2017.0, 2018.0, 2019.0, 2020.0, 2021.0, 2022.0, 2023.0, 2024.0, 2025.0, 2026.0, 2027.0, 2028.0, 2029.0, 2030.0, 2031.0, 2032.0, 2033.0, 2034.0, 2035.0, 2036.0, 2037.0, 2038.0, 2039.0, 2040.0, 2041.0, 2042.0, 2043.0, 2044.0, 2045.0, 2046.0, 2047.0, 2048.0, 2049.0, 2050.0, 2051.0], \"xaxis\": \"x\", \"y\": [157.77803511852022, 157.7289419428097, 157.8643979203001, 158.1765878053073, 158.6582454837584, 159.3026276442415, 160.1034809517118, 161.05499623249577, 162.15175428789502, 163.38865806615593, 164.7608527427674, 166.263637341152, 167.89236347224212, 169.64233519412707, 171.50870733083707, 173.48640315455071, 175.57005928381218, 177.75402522021346, 180.03244420824305, 182.39945169303815, 184.84952471325295, 187.37802807481793, 189.9819718079924, 192.6609830256273, 195.41843540065642, 198.26260764046688, 201.20764272680503, 204.27399244533817, 207.48795264061727, 210.8799353979683, 214.48126127332438, 218.31956536696887, 222.41331498613573, 226.76635918329083, 231.36366471125007, 236.1693655148589, 241.1278427057481, 246.16788279213517, 251.20923466266674, 256.1703358239769, 260.9757797853531, 265.5623249768156, 269.8827159937452, 273.90716084321735, 277.62278843319524, 281.0316637686641, 284.1480187335286, 286.9952565225548, 289.6031371509502, 292.005374281139, 294.23773761065183, 296.3366592832083, 298.33827875664247], \"yaxis\": \"y\"}, {\"hoverlabel\": {\"namelength\": 0}, \"hovertemplate\": \"Mode=Inland<br>Vehicle=mbarge<br>Year=%{x}<br>VehicleCount=%{y}\", \"legendgroup\": \"Mode=Inland\", \"line\": {\"color\": \"#00cc96\"}, \"mode\": \"lines\", \"name\": \"Mode=Inland\", \"orientation\": \"v\", \"showlegend\": false, \"stackgroup\": \"1\", \"type\": \"scatter\", \"x\": [1999.0, 2000.0, 2001.0, 2002.0, 2003.0, 2004.0, 2005.0, 2006.0, 2007.0, 2008.0, 2009.0, 2010.0, 2011.0, 2012.0, 2013.0, 2014.0, 2015.0, 2016.0, 2017.0, 2018.0, 2019.0, 2020.0, 2021.0, 2022.0, 2023.0, 2024.0, 2025.0, 2026.0, 2027.0, 2028.0, 2029.0, 2030.0, 2031.0, 2032.0, 2033.0, 2034.0, 2035.0, 2036.0, 2037.0, 2038.0, 2039.0, 2040.0, 2041.0, 2042.0, 2043.0, 2044.0, 2045.0, 2046.0, 2047.0, 2048.0, 2049.0, 2050.0, 2051.0], \"xaxis\": \"x\", \"y\": [283.64456234455827, 282.72869016334965, 282.0674009676359, 281.63766570133726, 281.41683971958753, 281.3826150783633, 281.51297358420464, 281.786132116579, 282.18049177734974, 282.6745852152924, 283.2470287328324, 283.8764892297968, 284.541661840584, 285.2212850672169, 285.89419015569257, 286.53941939130266, 287.1364223782034, 287.66536761113406, 288.10759879591456, 288.44627311614903, 288.66720459197813, 288.7599456132367, 288.7190809523048, 288.54568659572317, 288.2488167529012, 287.84679152234105, 287.36794649667297, 286.85043734933214, 286.3406572643355, 285.8899690236872, 285.54971075680504, 285.36487708309664, 285.36735732190067, 285.5700164095899, 285.9629834938186, 286.51324055941797, 287.16791163548663, 287.86078024167057, 288.5207868607383, 289.08083233015185, 289.48526167094417, 289.69491226132516, 289.68929008275956, 289.46610555072107, 289.0388576083645, 288.4333042257082, 287.6836106050645, 286.82875206537346, 285.9095208871009, 284.96627025291446, 284.03738460106536, 283.1583808471012, 282.3615009972032], \"yaxis\": \"y\"}, {\"hoverlabel\": {\"namelength\": 0}, \"hovertemplate\": \"Mode=Inland<br>Vehicle=sbarge<br>Year=%{x}<br>VehicleCount=%{y}\", \"legendgroup\": \"Mode=Inland\", \"line\": {\"color\": \"#00cc96\"}, \"mode\": \"lines\", \"name\": \"Mode=Inland\", \"orientation\": \"v\", \"showlegend\": false, \"stackgroup\": \"1\", \"type\": \"scatter\", \"x\": [1999.0, 2000.0, 2001.0, 2002.0, 2003.0, 2004.0, 2005.0, 2006.0, 2007.0, 2008.0, 2009.0, 2010.0, 2011.0, 2012.0, 2013.0, 2014.0, 2015.0, 2016.0, 2017.0, 2018.0, 2019.0, 2020.0, 2021.0, 2022.0, 2023.0, 2024.0, 2025.0, 2026.0, 2027.0, 2028.0, 2029.0, 2030.0, 2031.0, 2032.0, 2033.0, 2034.0, 2035.0, 2036.0, 2037.0, 2038.0, 2039.0, 2040.0, 2041.0, 2042.0, 2043.0, 2044.0, 2045.0, 2046.0, 2047.0, 2048.0, 2049.0, 2050.0, 2051.0], \"xaxis\": \"x\", \"y\": [1082.7452480038044, 1076.83810171974, 1071.697497614592, 1067.2149437410972, 1063.2829010920568, 1059.794809960208, 1056.64517585775, 1053.7296891009767, 1050.9454268649017, 1048.1911199493243, 1045.3675102690074, 1042.3778339602904, 1039.1284077820128, 1035.5294047211726, 1031.4957861572973, 1026.9484878972858, 1021.8158527899812, 1016.035393322006, 1009.5559256320214, 1002.340131199353, 994.3675421177661, 985.6379742332308, 976.1752300939237, 966.0308370574008, 955.2873208016161, 944.0602769531856, 932.4982337480658, 920.7792030442411, 909.1028423913192, 897.67773488481, 886.7041596304083, 876.354052106404, 866.751132463321, 857.9550786269887, 849.9534579525464, 842.6639638395934, 835.9472650079633, 829.6282698646007, 823.5216432117429, 817.456617336923, 811.2967148028156, 804.9517563314529, 798.3815571578943, 791.5925166763775, 784.62939003851, 777.5647209838236, 770.4880955661991, 763.4966640931078, 756.6877015204053, 750.1533867480202, 743.9776210088975, 738.2345179997741, 732.9881221634307], \"yaxis\": \"y\"}],\n",
       "                        {\"height\": 500, \"legend\": {\"font\": {\"size\": 10}, \"tracegroupgap\": 0, \"traceorder\": \"reversed\", \"y\": 0.5}, \"margin\": {\"t\": 60}, \"template\": {\"data\": {\"bar\": [{\"error_x\": {\"color\": \"#2a3f5f\"}, \"error_y\": {\"color\": \"#2a3f5f\"}, \"marker\": {\"line\": {\"color\": \"#E5ECF6\", \"width\": 0.5}}, \"type\": \"bar\"}], \"barpolar\": [{\"marker\": {\"line\": {\"color\": \"#E5ECF6\", \"width\": 0.5}}, \"type\": \"barpolar\"}], \"carpet\": [{\"aaxis\": {\"endlinecolor\": \"#2a3f5f\", \"gridcolor\": \"white\", \"linecolor\": \"white\", \"minorgridcolor\": \"white\", \"startlinecolor\": \"#2a3f5f\"}, \"baxis\": {\"endlinecolor\": \"#2a3f5f\", \"gridcolor\": \"white\", \"linecolor\": \"white\", \"minorgridcolor\": \"white\", \"startlinecolor\": \"#2a3f5f\"}, \"type\": \"carpet\"}], \"choropleth\": [{\"colorbar\": {\"outlinewidth\": 0, \"ticks\": \"\"}, \"type\": \"choropleth\"}], \"contour\": [{\"colorbar\": {\"outlinewidth\": 0, \"ticks\": \"\"}, \"colorscale\": [[0.0, \"#0d0887\"], [0.1111111111111111, \"#46039f\"], [0.2222222222222222, \"#7201a8\"], [0.3333333333333333, \"#9c179e\"], [0.4444444444444444, \"#bd3786\"], [0.5555555555555556, \"#d8576b\"], [0.6666666666666666, \"#ed7953\"], [0.7777777777777778, \"#fb9f3a\"], [0.8888888888888888, \"#fdca26\"], [1.0, \"#f0f921\"]], \"type\": \"contour\"}], \"contourcarpet\": [{\"colorbar\": {\"outlinewidth\": 0, \"ticks\": \"\"}, \"type\": \"contourcarpet\"}], \"heatmap\": [{\"colorbar\": {\"outlinewidth\": 0, \"ticks\": \"\"}, \"colorscale\": [[0.0, \"#0d0887\"], [0.1111111111111111, \"#46039f\"], [0.2222222222222222, \"#7201a8\"], [0.3333333333333333, \"#9c179e\"], [0.4444444444444444, \"#bd3786\"], [0.5555555555555556, \"#d8576b\"], [0.6666666666666666, \"#ed7953\"], [0.7777777777777778, \"#fb9f3a\"], [0.8888888888888888, \"#fdca26\"], [1.0, \"#f0f921\"]], \"type\": \"heatmap\"}], \"heatmapgl\": [{\"colorbar\": {\"outlinewidth\": 0, \"ticks\": \"\"}, \"colorscale\": [[0.0, \"#0d0887\"], [0.1111111111111111, \"#46039f\"], [0.2222222222222222, \"#7201a8\"], [0.3333333333333333, \"#9c179e\"], [0.4444444444444444, \"#bd3786\"], [0.5555555555555556, \"#d8576b\"], [0.6666666666666666, \"#ed7953\"], [0.7777777777777778, \"#fb9f3a\"], [0.8888888888888888, \"#fdca26\"], [1.0, \"#f0f921\"]], \"type\": \"heatmapgl\"}], \"histogram\": [{\"marker\": {\"colorbar\": {\"outlinewidth\": 0, \"ticks\": \"\"}}, \"type\": \"histogram\"}], \"histogram2d\": [{\"colorbar\": {\"outlinewidth\": 0, \"ticks\": \"\"}, \"colorscale\": [[0.0, \"#0d0887\"], [0.1111111111111111, \"#46039f\"], [0.2222222222222222, \"#7201a8\"], [0.3333333333333333, \"#9c179e\"], [0.4444444444444444, \"#bd3786\"], [0.5555555555555556, \"#d8576b\"], [0.6666666666666666, \"#ed7953\"], [0.7777777777777778, \"#fb9f3a\"], [0.8888888888888888, \"#fdca26\"], [1.0, \"#f0f921\"]], \"type\": \"histogram2d\"}], \"histogram2dcontour\": [{\"colorbar\": {\"outlinewidth\": 0, \"ticks\": \"\"}, \"colorscale\": [[0.0, \"#0d0887\"], [0.1111111111111111, \"#46039f\"], [0.2222222222222222, \"#7201a8\"], [0.3333333333333333, \"#9c179e\"], [0.4444444444444444, \"#bd3786\"], [0.5555555555555556, \"#d8576b\"], [0.6666666666666666, \"#ed7953\"], [0.7777777777777778, \"#fb9f3a\"], [0.8888888888888888, \"#fdca26\"], [1.0, \"#f0f921\"]], \"type\": \"histogram2dcontour\"}], \"mesh3d\": [{\"colorbar\": {\"outlinewidth\": 0, \"ticks\": \"\"}, \"type\": \"mesh3d\"}], \"parcoords\": [{\"line\": {\"colorbar\": {\"outlinewidth\": 0, \"ticks\": \"\"}}, \"type\": \"parcoords\"}], \"scatter\": [{\"marker\": {\"colorbar\": {\"outlinewidth\": 0, \"ticks\": \"\"}}, \"type\": \"scatter\"}], \"scatter3d\": [{\"line\": {\"colorbar\": {\"outlinewidth\": 0, \"ticks\": \"\"}}, \"marker\": {\"colorbar\": {\"outlinewidth\": 0, \"ticks\": \"\"}}, \"type\": \"scatter3d\"}], \"scattercarpet\": [{\"marker\": {\"colorbar\": {\"outlinewidth\": 0, \"ticks\": \"\"}}, \"type\": \"scattercarpet\"}], \"scattergeo\": [{\"marker\": {\"colorbar\": {\"outlinewidth\": 0, \"ticks\": \"\"}}, \"type\": \"scattergeo\"}], \"scattergl\": [{\"marker\": {\"colorbar\": {\"outlinewidth\": 0, \"ticks\": \"\"}}, \"type\": \"scattergl\"}], \"scattermapbox\": [{\"marker\": {\"colorbar\": {\"outlinewidth\": 0, \"ticks\": \"\"}}, \"type\": \"scattermapbox\"}], \"scatterpolar\": [{\"marker\": {\"colorbar\": {\"outlinewidth\": 0, \"ticks\": \"\"}}, \"type\": \"scatterpolar\"}], \"scatterpolargl\": [{\"marker\": {\"colorbar\": {\"outlinewidth\": 0, \"ticks\": \"\"}}, \"type\": \"scatterpolargl\"}], \"scatterternary\": [{\"marker\": {\"colorbar\": {\"outlinewidth\": 0, \"ticks\": \"\"}}, \"type\": \"scatterternary\"}], \"surface\": [{\"colorbar\": {\"outlinewidth\": 0, \"ticks\": \"\"}, \"colorscale\": [[0.0, \"#0d0887\"], [0.1111111111111111, \"#46039f\"], [0.2222222222222222, \"#7201a8\"], [0.3333333333333333, \"#9c179e\"], [0.4444444444444444, \"#bd3786\"], [0.5555555555555556, \"#d8576b\"], [0.6666666666666666, \"#ed7953\"], [0.7777777777777778, \"#fb9f3a\"], [0.8888888888888888, \"#fdca26\"], [1.0, \"#f0f921\"]], \"type\": \"surface\"}], \"table\": [{\"cells\": {\"fill\": {\"color\": \"#EBF0F8\"}, \"line\": {\"color\": \"white\"}}, \"header\": {\"fill\": {\"color\": \"#C8D4E3\"}, \"line\": {\"color\": \"white\"}}, \"type\": \"table\"}]}, \"layout\": {\"annotationdefaults\": {\"arrowcolor\": \"#2a3f5f\", \"arrowhead\": 0, \"arrowwidth\": 1}, \"colorscale\": {\"diverging\": [[0, \"#8e0152\"], [0.1, \"#c51b7d\"], [0.2, \"#de77ae\"], [0.3, \"#f1b6da\"], [0.4, \"#fde0ef\"], [0.5, \"#f7f7f7\"], [0.6, \"#e6f5d0\"], [0.7, \"#b8e186\"], [0.8, \"#7fbc41\"], [0.9, \"#4d9221\"], [1, \"#276419\"]], \"sequential\": [[0.0, \"#0d0887\"], [0.1111111111111111, \"#46039f\"], [0.2222222222222222, \"#7201a8\"], [0.3333333333333333, \"#9c179e\"], [0.4444444444444444, \"#bd3786\"], [0.5555555555555556, \"#d8576b\"], [0.6666666666666666, \"#ed7953\"], [0.7777777777777778, \"#fb9f3a\"], [0.8888888888888888, \"#fdca26\"], [1.0, \"#f0f921\"]], \"sequentialminus\": [[0.0, \"#0d0887\"], [0.1111111111111111, \"#46039f\"], [0.2222222222222222, \"#7201a8\"], [0.3333333333333333, \"#9c179e\"], [0.4444444444444444, \"#bd3786\"], [0.5555555555555556, \"#d8576b\"], [0.6666666666666666, \"#ed7953\"], [0.7777777777777778, \"#fb9f3a\"], [0.8888888888888888, \"#fdca26\"], [1.0, \"#f0f921\"]]}, \"colorway\": [\"#636efa\", \"#EF553B\", \"#00cc96\", \"#ab63fa\", \"#FFA15A\", \"#19d3f3\", \"#FF6692\", \"#B6E880\", \"#FF97FF\", \"#FECB52\"], \"font\": {\"color\": \"#2a3f5f\"}, \"geo\": {\"bgcolor\": \"white\", \"lakecolor\": \"white\", \"landcolor\": \"#E5ECF6\", \"showlakes\": true, \"showland\": true, \"subunitcolor\": \"white\"}, \"hoverlabel\": {\"align\": \"left\"}, \"hovermode\": \"closest\", \"mapbox\": {\"style\": \"light\"}, \"paper_bgcolor\": \"white\", \"plot_bgcolor\": \"#E5ECF6\", \"polar\": {\"angularaxis\": {\"gridcolor\": \"white\", \"linecolor\": \"white\", \"ticks\": \"\"}, \"bgcolor\": \"#E5ECF6\", \"radialaxis\": {\"gridcolor\": \"white\", \"linecolor\": \"white\", \"ticks\": \"\"}}, \"scene\": {\"xaxis\": {\"backgroundcolor\": \"#E5ECF6\", \"gridcolor\": \"white\", \"gridwidth\": 2, \"linecolor\": \"white\", \"showbackground\": true, \"ticks\": \"\", \"zerolinecolor\": \"white\"}, \"yaxis\": {\"backgroundcolor\": \"#E5ECF6\", \"gridcolor\": \"white\", \"gridwidth\": 2, \"linecolor\": \"white\", \"showbackground\": true, \"ticks\": \"\", \"zerolinecolor\": \"white\"}, \"zaxis\": {\"backgroundcolor\": \"#E5ECF6\", \"gridcolor\": \"white\", \"gridwidth\": 2, \"linecolor\": \"white\", \"showbackground\": true, \"ticks\": \"\", \"zerolinecolor\": \"white\"}}, \"shapedefaults\": {\"line\": {\"color\": \"#2a3f5f\"}}, \"ternary\": {\"aaxis\": {\"gridcolor\": \"white\", \"linecolor\": \"white\", \"ticks\": \"\"}, \"baxis\": {\"gridcolor\": \"white\", \"linecolor\": \"white\", \"ticks\": \"\"}, \"bgcolor\": \"#E5ECF6\", \"caxis\": {\"gridcolor\": \"white\", \"linecolor\": \"white\", \"ticks\": \"\"}}, \"title\": {\"x\": 0.05}, \"xaxis\": {\"automargin\": true, \"gridcolor\": \"white\", \"linecolor\": \"white\", \"ticks\": \"\", \"zerolinecolor\": \"white\", \"zerolinewidth\": 2}, \"yaxis\": {\"automargin\": true, \"gridcolor\": \"white\", \"linecolor\": \"white\", \"ticks\": \"\", \"zerolinecolor\": \"white\", \"zerolinewidth\": 2}}}, \"width\": 800, \"xaxis\": {\"anchor\": \"y\", \"domain\": [0.0, 0.98], \"title\": {\"text\": \"Year\"}}, \"yaxis\": {\"anchor\": \"x\", \"domain\": [0.0, 1.0], \"title\": {\"text\": \"VehicleCount\"}}},\n",
       "                        {\"responsive\": true}\n",
       "                    ).then(function(){\n",
       "                            \n",
       "var gd = document.getElementById('8f25cb39-8d0f-49f3-917e-e0136f99a72c');\n",
       "var x = new MutationObserver(function (mutations, observer) {{\n",
       "        var display = window.getComputedStyle(gd).display;\n",
       "        if (!display || display === 'none') {{\n",
       "            console.log([gd, 'removed!']);\n",
       "            Plotly.purge(gd);\n",
       "            observer.disconnect();\n",
       "        }}\n",
       "}});\n",
       "\n",
       "// Listen for the removal of the full notebook cells\n",
       "var notebookContainer = gd.closest('#notebook-container');\n",
       "if (notebookContainer) {{\n",
       "    x.observe(notebookContainer, {childList: true});\n",
       "}}\n",
       "\n",
       "// Listen for the clearing of the current output cell\n",
       "var outputEl = gd.closest('.output');\n",
       "if (outputEl) {{\n",
       "    x.observe(outputEl, {childList: true});\n",
       "}}\n",
       "\n",
       "                        })\n",
       "                };\n",
       "                });\n",
       "            </script>\n",
       "        </div>"
      ]
     },
     "metadata": {},
     "output_type": "display_data"
    },
    {
     "data": {
      "text/plain": [
       "<Figure size 432x288 with 0 Axes>"
      ]
     },
     "metadata": {},
     "output_type": "display_data"
    }
   ],
   "source": [
    "###    R U N   F U N C T I O N S   F R E I G H T   T R A N S P O R T \n",
    "\n",
    "### H I G H   S C E N A R I O \n",
    "dfHF, DHF = RoadFirst(x, PolyHF)\n",
    "BinaryShifts(x, DHF, 'HoogFreight', figs=False)\n",
    "dfHF, STVhf = ServiceToFreightVehicles(x, dfHF, figs=False)\n",
    "PlotService(x, dfHF, y='Share', scn='HoogFreight', figs=False)\n",
    "PlotService(x, dfHF, y='Ton-kilometers', scn='HoogFreight', figs=False)\n",
    "PlotService(x, dfHF, y='VehicleCount', scn='HoogFreight', figs=False)\n",
    "\n",
    "### L O W   S C E N A R I O \n",
    "dfLF, DLF = RoadFirst(x, PolyLF)\n",
    "BinaryShifts(x, DLF, 'LaagFreight', figs=False)\n",
    "dfLF, STVlf = ServiceToFreightVehicles(x, dfLF, figs=False)\n",
    "PlotService(x, dfLF, y='Share', scn='LaagFreight', figs=False)\n",
    "PlotService(x, dfLF, y='Ton-kilometers', scn='LaagFreight', figs=True)\n",
    "PlotService(x, dfLF, y='VehicleCount', scn='LaagFreight', figs=True)"
   ]
  },
  {
   "cell_type": "code",
   "execution_count": 97,
   "metadata": {
    "scrolled": false
   },
   "outputs": [
    {
     "name": "stdout",
     "output_type": "stream",
     "text": [
      "Air 1.0\n",
      "Air 1.0\n"
     ]
    },
    {
     "data": {
      "application/vnd.plotly.v1+json": {
       "config": {
        "plotlyServerURL": "https://plot.ly"
       },
       "data": [
        {
         "hoverlabel": {
          "namelength": 0
         },
         "hovertemplate": "Vehicle=A330<br>Year=%{x}<br>VehicleCount=%{y}",
         "legendgroup": "Vehicle=A330",
         "line": {
          "color": "#636efa"
         },
         "mode": "lines",
         "name": "Vehicle=A330",
         "orientation": "v",
         "showlegend": true,
         "stackgroup": "1",
         "type": "scatter",
         "x": [
          1999,
          2000,
          2001,
          2002,
          2003,
          2004,
          2005,
          2006,
          2007,
          2008,
          2009,
          2010,
          2011,
          2012,
          2013,
          2014,
          2015,
          2016,
          2017,
          2018,
          2019,
          2020,
          2021,
          2022,
          2023,
          2024,
          2025,
          2026,
          2027,
          2028,
          2029,
          2030,
          2031,
          2032,
          2033,
          2034,
          2035,
          2036,
          2037,
          2038,
          2039,
          2040,
          2041,
          2042,
          2043,
          2044,
          2045,
          2046,
          2047,
          2048,
          2049,
          2050,
          2051
         ],
         "xaxis": "x",
         "y": [
          206.3066042941688,
          206.39860298516749,
          206.47210847446598,
          206.52305709057748,
          206.54650563845033,
          206.53644760931792,
          206.4855942109679,
          206.38511509300142,
          206.22433374367395,
          205.99037320178465,
          205.66774929743826,
          205.23791158764305,
          204.67873713862107,
          203.96399017658814,
          203.0627724258022,
          201.93900584195043,
          200.5510125217862,
          198.85128643878568,
          196.78658773364046,
          194.29852966690348,
          191.32486424919227,
          187.80169267680506,
          183.66681199912745,
          178.86433505947747,
          173.3505608902958,
          167.10081179176115,
          160.1166033153868,
          152.43213320724664,
          144.11877997561174,
          135.28624451516112,
          126.07928531390168,
          116.6697252551371,
          107.24441416158064,
          97.99082156473268,
          89.08255773993945,
          80.6671363162974,
          72.85769369454339,
          65.72940284315108,
          59.320310649950194,
          53.63558686905566,
          48.65383709494877,
          44.334172259898565,
          40.6230104810088,
          37.459961246198496,
          34.78249095680609,
          32.529331997775635,
          30.642760980247836,
          29.06994994585803,
          27.763612232097447,
          26.68214698770483,
          25.78945202994106,
          25.0545363193948,
          24.45102773812933
         ],
         "yaxis": "y"
        },
        {
         "hoverlabel": {
          "namelength": 0
         },
         "hovertemplate": "Vehicle=B787<br>Year=%{x}<br>VehicleCount=%{y}",
         "legendgroup": "Vehicle=B787",
         "line": {
          "color": "#EF553B"
         },
         "mode": "lines",
         "name": "Vehicle=B787",
         "orientation": "v",
         "showlegend": true,
         "stackgroup": "1",
         "type": "scatter",
         "x": [
          1999,
          2000,
          2001,
          2002,
          2003,
          2004,
          2005,
          2006,
          2007,
          2008,
          2009,
          2010,
          2011,
          2012,
          2013,
          2014,
          2015,
          2016,
          2017,
          2018,
          2019,
          2020,
          2021,
          2022,
          2023,
          2024,
          2025,
          2026,
          2027,
          2028,
          2029,
          2030,
          2031,
          2032,
          2033,
          2034,
          2035,
          2036,
          2037,
          2038,
          2039,
          2040,
          2041,
          2042,
          2043,
          2044,
          2045,
          2046,
          2047,
          2048,
          2049,
          2050,
          2051
         ],
         "xaxis": "x",
         "y": [
          0.3767399921340671,
          0.46033578193718366,
          0.5624247734404925,
          0.6870706381307969,
          0.8392165710597166,
          1.0248690809938716,
          1.2513169601457017,
          1.5273905589139682,
          1.8637663890432237,
          2.2733214117343397,
          2.7715397968825206,
          3.376971987479508,
          4.111740917303294,
          5.002082360137961,
          6.078894591725704,
          7.378255656379268,
          8.941843457345291,
          10.81716402114762,
          13.057457207094643,
          15.721109754633437,
          18.870369653146426,
          22.56913570633538,
          26.879610864814758,
          31.857682285266563,
          37.54705093525002,
          43.97239451458649,
          51.13219747176262,
          58.99226206070458,
          67.48120977314126,
          76.48933971439362,
          85.87189339645487,
          95.45704793602125,
          105.05795351037952,
          114.48714058802925,
          123.57099889362429,
          132.1620147980681,
          140.14705190062392,
          147.45093723281798,
          154.0356239068207,
          159.89594216851702,
          165.0532864234257,
          169.54854573927767,
          173.43530199896924,
          176.77394571458134,
          179.62701048477555,
          182.05576392460776,
          184.11792942293735,
          185.86633493812894,
          187.34826713269132,
          188.60532685788573,
          189.6736162964513,
          190.58412648779938,
          191.36322954986665
         ],
         "yaxis": "y"
        }
       ],
       "layout": {
        "height": 500,
        "legend": {
         "font": {
          "size": 10
         },
         "tracegroupgap": 0,
         "traceorder": "reversed",
         "y": 0.5
        },
        "margin": {
         "t": 60
        },
        "template": {
         "data": {
          "bar": [
           {
            "error_x": {
             "color": "#2a3f5f"
            },
            "error_y": {
             "color": "#2a3f5f"
            },
            "marker": {
             "line": {
              "color": "#E5ECF6",
              "width": 0.5
             }
            },
            "type": "bar"
           }
          ],
          "barpolar": [
           {
            "marker": {
             "line": {
              "color": "#E5ECF6",
              "width": 0.5
             }
            },
            "type": "barpolar"
           }
          ],
          "carpet": [
           {
            "aaxis": {
             "endlinecolor": "#2a3f5f",
             "gridcolor": "white",
             "linecolor": "white",
             "minorgridcolor": "white",
             "startlinecolor": "#2a3f5f"
            },
            "baxis": {
             "endlinecolor": "#2a3f5f",
             "gridcolor": "white",
             "linecolor": "white",
             "minorgridcolor": "white",
             "startlinecolor": "#2a3f5f"
            },
            "type": "carpet"
           }
          ],
          "choropleth": [
           {
            "colorbar": {
             "outlinewidth": 0,
             "ticks": ""
            },
            "type": "choropleth"
           }
          ],
          "contour": [
           {
            "colorbar": {
             "outlinewidth": 0,
             "ticks": ""
            },
            "colorscale": [
             [
              0,
              "#0d0887"
             ],
             [
              0.1111111111111111,
              "#46039f"
             ],
             [
              0.2222222222222222,
              "#7201a8"
             ],
             [
              0.3333333333333333,
              "#9c179e"
             ],
             [
              0.4444444444444444,
              "#bd3786"
             ],
             [
              0.5555555555555556,
              "#d8576b"
             ],
             [
              0.6666666666666666,
              "#ed7953"
             ],
             [
              0.7777777777777778,
              "#fb9f3a"
             ],
             [
              0.8888888888888888,
              "#fdca26"
             ],
             [
              1,
              "#f0f921"
             ]
            ],
            "type": "contour"
           }
          ],
          "contourcarpet": [
           {
            "colorbar": {
             "outlinewidth": 0,
             "ticks": ""
            },
            "type": "contourcarpet"
           }
          ],
          "heatmap": [
           {
            "colorbar": {
             "outlinewidth": 0,
             "ticks": ""
            },
            "colorscale": [
             [
              0,
              "#0d0887"
             ],
             [
              0.1111111111111111,
              "#46039f"
             ],
             [
              0.2222222222222222,
              "#7201a8"
             ],
             [
              0.3333333333333333,
              "#9c179e"
             ],
             [
              0.4444444444444444,
              "#bd3786"
             ],
             [
              0.5555555555555556,
              "#d8576b"
             ],
             [
              0.6666666666666666,
              "#ed7953"
             ],
             [
              0.7777777777777778,
              "#fb9f3a"
             ],
             [
              0.8888888888888888,
              "#fdca26"
             ],
             [
              1,
              "#f0f921"
             ]
            ],
            "type": "heatmap"
           }
          ],
          "heatmapgl": [
           {
            "colorbar": {
             "outlinewidth": 0,
             "ticks": ""
            },
            "colorscale": [
             [
              0,
              "#0d0887"
             ],
             [
              0.1111111111111111,
              "#46039f"
             ],
             [
              0.2222222222222222,
              "#7201a8"
             ],
             [
              0.3333333333333333,
              "#9c179e"
             ],
             [
              0.4444444444444444,
              "#bd3786"
             ],
             [
              0.5555555555555556,
              "#d8576b"
             ],
             [
              0.6666666666666666,
              "#ed7953"
             ],
             [
              0.7777777777777778,
              "#fb9f3a"
             ],
             [
              0.8888888888888888,
              "#fdca26"
             ],
             [
              1,
              "#f0f921"
             ]
            ],
            "type": "heatmapgl"
           }
          ],
          "histogram": [
           {
            "marker": {
             "colorbar": {
              "outlinewidth": 0,
              "ticks": ""
             }
            },
            "type": "histogram"
           }
          ],
          "histogram2d": [
           {
            "colorbar": {
             "outlinewidth": 0,
             "ticks": ""
            },
            "colorscale": [
             [
              0,
              "#0d0887"
             ],
             [
              0.1111111111111111,
              "#46039f"
             ],
             [
              0.2222222222222222,
              "#7201a8"
             ],
             [
              0.3333333333333333,
              "#9c179e"
             ],
             [
              0.4444444444444444,
              "#bd3786"
             ],
             [
              0.5555555555555556,
              "#d8576b"
             ],
             [
              0.6666666666666666,
              "#ed7953"
             ],
             [
              0.7777777777777778,
              "#fb9f3a"
             ],
             [
              0.8888888888888888,
              "#fdca26"
             ],
             [
              1,
              "#f0f921"
             ]
            ],
            "type": "histogram2d"
           }
          ],
          "histogram2dcontour": [
           {
            "colorbar": {
             "outlinewidth": 0,
             "ticks": ""
            },
            "colorscale": [
             [
              0,
              "#0d0887"
             ],
             [
              0.1111111111111111,
              "#46039f"
             ],
             [
              0.2222222222222222,
              "#7201a8"
             ],
             [
              0.3333333333333333,
              "#9c179e"
             ],
             [
              0.4444444444444444,
              "#bd3786"
             ],
             [
              0.5555555555555556,
              "#d8576b"
             ],
             [
              0.6666666666666666,
              "#ed7953"
             ],
             [
              0.7777777777777778,
              "#fb9f3a"
             ],
             [
              0.8888888888888888,
              "#fdca26"
             ],
             [
              1,
              "#f0f921"
             ]
            ],
            "type": "histogram2dcontour"
           }
          ],
          "mesh3d": [
           {
            "colorbar": {
             "outlinewidth": 0,
             "ticks": ""
            },
            "type": "mesh3d"
           }
          ],
          "parcoords": [
           {
            "line": {
             "colorbar": {
              "outlinewidth": 0,
              "ticks": ""
             }
            },
            "type": "parcoords"
           }
          ],
          "scatter": [
           {
            "marker": {
             "colorbar": {
              "outlinewidth": 0,
              "ticks": ""
             }
            },
            "type": "scatter"
           }
          ],
          "scatter3d": [
           {
            "line": {
             "colorbar": {
              "outlinewidth": 0,
              "ticks": ""
             }
            },
            "marker": {
             "colorbar": {
              "outlinewidth": 0,
              "ticks": ""
             }
            },
            "type": "scatter3d"
           }
          ],
          "scattercarpet": [
           {
            "marker": {
             "colorbar": {
              "outlinewidth": 0,
              "ticks": ""
             }
            },
            "type": "scattercarpet"
           }
          ],
          "scattergeo": [
           {
            "marker": {
             "colorbar": {
              "outlinewidth": 0,
              "ticks": ""
             }
            },
            "type": "scattergeo"
           }
          ],
          "scattergl": [
           {
            "marker": {
             "colorbar": {
              "outlinewidth": 0,
              "ticks": ""
             }
            },
            "type": "scattergl"
           }
          ],
          "scattermapbox": [
           {
            "marker": {
             "colorbar": {
              "outlinewidth": 0,
              "ticks": ""
             }
            },
            "type": "scattermapbox"
           }
          ],
          "scatterpolar": [
           {
            "marker": {
             "colorbar": {
              "outlinewidth": 0,
              "ticks": ""
             }
            },
            "type": "scatterpolar"
           }
          ],
          "scatterpolargl": [
           {
            "marker": {
             "colorbar": {
              "outlinewidth": 0,
              "ticks": ""
             }
            },
            "type": "scatterpolargl"
           }
          ],
          "scatterternary": [
           {
            "marker": {
             "colorbar": {
              "outlinewidth": 0,
              "ticks": ""
             }
            },
            "type": "scatterternary"
           }
          ],
          "surface": [
           {
            "colorbar": {
             "outlinewidth": 0,
             "ticks": ""
            },
            "colorscale": [
             [
              0,
              "#0d0887"
             ],
             [
              0.1111111111111111,
              "#46039f"
             ],
             [
              0.2222222222222222,
              "#7201a8"
             ],
             [
              0.3333333333333333,
              "#9c179e"
             ],
             [
              0.4444444444444444,
              "#bd3786"
             ],
             [
              0.5555555555555556,
              "#d8576b"
             ],
             [
              0.6666666666666666,
              "#ed7953"
             ],
             [
              0.7777777777777778,
              "#fb9f3a"
             ],
             [
              0.8888888888888888,
              "#fdca26"
             ],
             [
              1,
              "#f0f921"
             ]
            ],
            "type": "surface"
           }
          ],
          "table": [
           {
            "cells": {
             "fill": {
              "color": "#EBF0F8"
             },
             "line": {
              "color": "white"
             }
            },
            "header": {
             "fill": {
              "color": "#C8D4E3"
             },
             "line": {
              "color": "white"
             }
            },
            "type": "table"
           }
          ]
         },
         "layout": {
          "annotationdefaults": {
           "arrowcolor": "#2a3f5f",
           "arrowhead": 0,
           "arrowwidth": 1
          },
          "colorscale": {
           "diverging": [
            [
             0,
             "#8e0152"
            ],
            [
             0.1,
             "#c51b7d"
            ],
            [
             0.2,
             "#de77ae"
            ],
            [
             0.3,
             "#f1b6da"
            ],
            [
             0.4,
             "#fde0ef"
            ],
            [
             0.5,
             "#f7f7f7"
            ],
            [
             0.6,
             "#e6f5d0"
            ],
            [
             0.7,
             "#b8e186"
            ],
            [
             0.8,
             "#7fbc41"
            ],
            [
             0.9,
             "#4d9221"
            ],
            [
             1,
             "#276419"
            ]
           ],
           "sequential": [
            [
             0,
             "#0d0887"
            ],
            [
             0.1111111111111111,
             "#46039f"
            ],
            [
             0.2222222222222222,
             "#7201a8"
            ],
            [
             0.3333333333333333,
             "#9c179e"
            ],
            [
             0.4444444444444444,
             "#bd3786"
            ],
            [
             0.5555555555555556,
             "#d8576b"
            ],
            [
             0.6666666666666666,
             "#ed7953"
            ],
            [
             0.7777777777777778,
             "#fb9f3a"
            ],
            [
             0.8888888888888888,
             "#fdca26"
            ],
            [
             1,
             "#f0f921"
            ]
           ],
           "sequentialminus": [
            [
             0,
             "#0d0887"
            ],
            [
             0.1111111111111111,
             "#46039f"
            ],
            [
             0.2222222222222222,
             "#7201a8"
            ],
            [
             0.3333333333333333,
             "#9c179e"
            ],
            [
             0.4444444444444444,
             "#bd3786"
            ],
            [
             0.5555555555555556,
             "#d8576b"
            ],
            [
             0.6666666666666666,
             "#ed7953"
            ],
            [
             0.7777777777777778,
             "#fb9f3a"
            ],
            [
             0.8888888888888888,
             "#fdca26"
            ],
            [
             1,
             "#f0f921"
            ]
           ]
          },
          "colorway": [
           "#636efa",
           "#EF553B",
           "#00cc96",
           "#ab63fa",
           "#FFA15A",
           "#19d3f3",
           "#FF6692",
           "#B6E880",
           "#FF97FF",
           "#FECB52"
          ],
          "font": {
           "color": "#2a3f5f"
          },
          "geo": {
           "bgcolor": "white",
           "lakecolor": "white",
           "landcolor": "#E5ECF6",
           "showlakes": true,
           "showland": true,
           "subunitcolor": "white"
          },
          "hoverlabel": {
           "align": "left"
          },
          "hovermode": "closest",
          "mapbox": {
           "style": "light"
          },
          "paper_bgcolor": "white",
          "plot_bgcolor": "#E5ECF6",
          "polar": {
           "angularaxis": {
            "gridcolor": "white",
            "linecolor": "white",
            "ticks": ""
           },
           "bgcolor": "#E5ECF6",
           "radialaxis": {
            "gridcolor": "white",
            "linecolor": "white",
            "ticks": ""
           }
          },
          "scene": {
           "xaxis": {
            "backgroundcolor": "#E5ECF6",
            "gridcolor": "white",
            "gridwidth": 2,
            "linecolor": "white",
            "showbackground": true,
            "ticks": "",
            "zerolinecolor": "white"
           },
           "yaxis": {
            "backgroundcolor": "#E5ECF6",
            "gridcolor": "white",
            "gridwidth": 2,
            "linecolor": "white",
            "showbackground": true,
            "ticks": "",
            "zerolinecolor": "white"
           },
           "zaxis": {
            "backgroundcolor": "#E5ECF6",
            "gridcolor": "white",
            "gridwidth": 2,
            "linecolor": "white",
            "showbackground": true,
            "ticks": "",
            "zerolinecolor": "white"
           }
          },
          "shapedefaults": {
           "line": {
            "color": "#2a3f5f"
           }
          },
          "ternary": {
           "aaxis": {
            "gridcolor": "white",
            "linecolor": "white",
            "ticks": ""
           },
           "baxis": {
            "gridcolor": "white",
            "linecolor": "white",
            "ticks": ""
           },
           "bgcolor": "#E5ECF6",
           "caxis": {
            "gridcolor": "white",
            "linecolor": "white",
            "ticks": ""
           }
          },
          "title": {
           "x": 0.05
          },
          "xaxis": {
           "automargin": true,
           "gridcolor": "white",
           "linecolor": "white",
           "ticks": "",
           "zerolinecolor": "white",
           "zerolinewidth": 2
          },
          "yaxis": {
           "automargin": true,
           "gridcolor": "white",
           "linecolor": "white",
           "ticks": "",
           "zerolinecolor": "white",
           "zerolinewidth": 2
          }
         }
        },
        "width": 800,
        "xaxis": {
         "anchor": "y",
         "domain": [
          0,
          0.98
         ],
         "title": {
          "text": "Year"
         }
        },
        "yaxis": {
         "anchor": "x",
         "domain": [
          0,
          1
         ],
         "title": {
          "text": "VehicleCount"
         }
        }
       }
      },
      "text/html": [
       "<div>\n",
       "        \n",
       "        \n",
       "            <div id=\"e152f9a2-221d-4614-89d9-78090119c504\" class=\"plotly-graph-div\" style=\"height:500px; width:800px;\"></div>\n",
       "            <script type=\"text/javascript\">\n",
       "                require([\"plotly\"], function(Plotly) {\n",
       "                    window.PLOTLYENV=window.PLOTLYENV || {};\n",
       "                    \n",
       "                if (document.getElementById(\"e152f9a2-221d-4614-89d9-78090119c504\")) {\n",
       "                    Plotly.newPlot(\n",
       "                        'e152f9a2-221d-4614-89d9-78090119c504',\n",
       "                        [{\"hoverlabel\": {\"namelength\": 0}, \"hovertemplate\": \"Vehicle=A330<br>Year=%{x}<br>VehicleCount=%{y}\", \"legendgroup\": \"Vehicle=A330\", \"line\": {\"color\": \"#636efa\"}, \"mode\": \"lines\", \"name\": \"Vehicle=A330\", \"orientation\": \"v\", \"showlegend\": true, \"stackgroup\": \"1\", \"type\": \"scatter\", \"x\": [1999.0, 2000.0, 2001.0, 2002.0, 2003.0, 2004.0, 2005.0, 2006.0, 2007.0, 2008.0, 2009.0, 2010.0, 2011.0, 2012.0, 2013.0, 2014.0, 2015.0, 2016.0, 2017.0, 2018.0, 2019.0, 2020.0, 2021.0, 2022.0, 2023.0, 2024.0, 2025.0, 2026.0, 2027.0, 2028.0, 2029.0, 2030.0, 2031.0, 2032.0, 2033.0, 2034.0, 2035.0, 2036.0, 2037.0, 2038.0, 2039.0, 2040.0, 2041.0, 2042.0, 2043.0, 2044.0, 2045.0, 2046.0, 2047.0, 2048.0, 2049.0, 2050.0, 2051.0], \"xaxis\": \"x\", \"y\": [206.3066042941688, 206.39860298516749, 206.47210847446598, 206.52305709057748, 206.54650563845033, 206.53644760931792, 206.4855942109679, 206.38511509300142, 206.22433374367395, 205.99037320178465, 205.66774929743826, 205.23791158764305, 204.67873713862107, 203.96399017658814, 203.0627724258022, 201.93900584195043, 200.5510125217862, 198.85128643878568, 196.78658773364046, 194.29852966690348, 191.32486424919227, 187.80169267680506, 183.66681199912745, 178.86433505947747, 173.3505608902958, 167.10081179176115, 160.1166033153868, 152.43213320724664, 144.11877997561174, 135.28624451516112, 126.07928531390168, 116.6697252551371, 107.24441416158064, 97.99082156473268, 89.08255773993945, 80.6671363162974, 72.85769369454339, 65.72940284315108, 59.320310649950194, 53.63558686905566, 48.65383709494877, 44.334172259898565, 40.6230104810088, 37.459961246198496, 34.78249095680609, 32.529331997775635, 30.642760980247836, 29.06994994585803, 27.763612232097447, 26.68214698770483, 25.78945202994106, 25.0545363193948, 24.45102773812933], \"yaxis\": \"y\"}, {\"hoverlabel\": {\"namelength\": 0}, \"hovertemplate\": \"Vehicle=B787<br>Year=%{x}<br>VehicleCount=%{y}\", \"legendgroup\": \"Vehicle=B787\", \"line\": {\"color\": \"#EF553B\"}, \"mode\": \"lines\", \"name\": \"Vehicle=B787\", \"orientation\": \"v\", \"showlegend\": true, \"stackgroup\": \"1\", \"type\": \"scatter\", \"x\": [1999.0, 2000.0, 2001.0, 2002.0, 2003.0, 2004.0, 2005.0, 2006.0, 2007.0, 2008.0, 2009.0, 2010.0, 2011.0, 2012.0, 2013.0, 2014.0, 2015.0, 2016.0, 2017.0, 2018.0, 2019.0, 2020.0, 2021.0, 2022.0, 2023.0, 2024.0, 2025.0, 2026.0, 2027.0, 2028.0, 2029.0, 2030.0, 2031.0, 2032.0, 2033.0, 2034.0, 2035.0, 2036.0, 2037.0, 2038.0, 2039.0, 2040.0, 2041.0, 2042.0, 2043.0, 2044.0, 2045.0, 2046.0, 2047.0, 2048.0, 2049.0, 2050.0, 2051.0], \"xaxis\": \"x\", \"y\": [0.3767399921340671, 0.46033578193718366, 0.5624247734404925, 0.6870706381307969, 0.8392165710597166, 1.0248690809938716, 1.2513169601457017, 1.5273905589139682, 1.8637663890432237, 2.2733214117343397, 2.7715397968825206, 3.376971987479508, 4.111740917303294, 5.002082360137961, 6.078894591725704, 7.378255656379268, 8.941843457345291, 10.81716402114762, 13.057457207094643, 15.721109754633437, 18.870369653146426, 22.56913570633538, 26.879610864814758, 31.857682285266563, 37.54705093525002, 43.97239451458649, 51.13219747176262, 58.99226206070458, 67.48120977314126, 76.48933971439362, 85.87189339645487, 95.45704793602125, 105.05795351037952, 114.48714058802925, 123.57099889362429, 132.1620147980681, 140.14705190062392, 147.45093723281798, 154.0356239068207, 159.89594216851702, 165.0532864234257, 169.54854573927767, 173.43530199896924, 176.77394571458134, 179.62701048477555, 182.05576392460776, 184.11792942293735, 185.86633493812894, 187.34826713269132, 188.60532685788573, 189.6736162964513, 190.58412648779938, 191.36322954986665], \"yaxis\": \"y\"}],\n",
       "                        {\"height\": 500, \"legend\": {\"font\": {\"size\": 10}, \"tracegroupgap\": 0, \"traceorder\": \"reversed\", \"y\": 0.5}, \"margin\": {\"t\": 60}, \"template\": {\"data\": {\"bar\": [{\"error_x\": {\"color\": \"#2a3f5f\"}, \"error_y\": {\"color\": \"#2a3f5f\"}, \"marker\": {\"line\": {\"color\": \"#E5ECF6\", \"width\": 0.5}}, \"type\": \"bar\"}], \"barpolar\": [{\"marker\": {\"line\": {\"color\": \"#E5ECF6\", \"width\": 0.5}}, \"type\": \"barpolar\"}], \"carpet\": [{\"aaxis\": {\"endlinecolor\": \"#2a3f5f\", \"gridcolor\": \"white\", \"linecolor\": \"white\", \"minorgridcolor\": \"white\", \"startlinecolor\": \"#2a3f5f\"}, \"baxis\": {\"endlinecolor\": \"#2a3f5f\", \"gridcolor\": \"white\", \"linecolor\": \"white\", \"minorgridcolor\": \"white\", \"startlinecolor\": \"#2a3f5f\"}, \"type\": \"carpet\"}], \"choropleth\": [{\"colorbar\": {\"outlinewidth\": 0, \"ticks\": \"\"}, \"type\": \"choropleth\"}], \"contour\": [{\"colorbar\": {\"outlinewidth\": 0, \"ticks\": \"\"}, \"colorscale\": [[0.0, \"#0d0887\"], [0.1111111111111111, \"#46039f\"], [0.2222222222222222, \"#7201a8\"], [0.3333333333333333, \"#9c179e\"], [0.4444444444444444, \"#bd3786\"], [0.5555555555555556, \"#d8576b\"], [0.6666666666666666, \"#ed7953\"], [0.7777777777777778, \"#fb9f3a\"], [0.8888888888888888, \"#fdca26\"], [1.0, \"#f0f921\"]], \"type\": \"contour\"}], \"contourcarpet\": [{\"colorbar\": {\"outlinewidth\": 0, \"ticks\": \"\"}, \"type\": \"contourcarpet\"}], \"heatmap\": [{\"colorbar\": {\"outlinewidth\": 0, \"ticks\": \"\"}, \"colorscale\": [[0.0, \"#0d0887\"], [0.1111111111111111, \"#46039f\"], [0.2222222222222222, \"#7201a8\"], [0.3333333333333333, \"#9c179e\"], [0.4444444444444444, \"#bd3786\"], [0.5555555555555556, \"#d8576b\"], [0.6666666666666666, \"#ed7953\"], [0.7777777777777778, \"#fb9f3a\"], [0.8888888888888888, \"#fdca26\"], [1.0, \"#f0f921\"]], \"type\": \"heatmap\"}], \"heatmapgl\": [{\"colorbar\": {\"outlinewidth\": 0, \"ticks\": \"\"}, \"colorscale\": [[0.0, \"#0d0887\"], [0.1111111111111111, \"#46039f\"], [0.2222222222222222, \"#7201a8\"], [0.3333333333333333, \"#9c179e\"], [0.4444444444444444, \"#bd3786\"], [0.5555555555555556, \"#d8576b\"], [0.6666666666666666, \"#ed7953\"], [0.7777777777777778, \"#fb9f3a\"], [0.8888888888888888, \"#fdca26\"], [1.0, \"#f0f921\"]], \"type\": \"heatmapgl\"}], \"histogram\": [{\"marker\": {\"colorbar\": {\"outlinewidth\": 0, \"ticks\": \"\"}}, \"type\": \"histogram\"}], \"histogram2d\": [{\"colorbar\": {\"outlinewidth\": 0, \"ticks\": \"\"}, \"colorscale\": [[0.0, \"#0d0887\"], [0.1111111111111111, \"#46039f\"], [0.2222222222222222, \"#7201a8\"], [0.3333333333333333, \"#9c179e\"], [0.4444444444444444, \"#bd3786\"], [0.5555555555555556, \"#d8576b\"], [0.6666666666666666, \"#ed7953\"], [0.7777777777777778, \"#fb9f3a\"], [0.8888888888888888, \"#fdca26\"], [1.0, \"#f0f921\"]], \"type\": \"histogram2d\"}], \"histogram2dcontour\": [{\"colorbar\": {\"outlinewidth\": 0, \"ticks\": \"\"}, \"colorscale\": [[0.0, \"#0d0887\"], [0.1111111111111111, \"#46039f\"], [0.2222222222222222, \"#7201a8\"], [0.3333333333333333, \"#9c179e\"], [0.4444444444444444, \"#bd3786\"], [0.5555555555555556, \"#d8576b\"], [0.6666666666666666, \"#ed7953\"], [0.7777777777777778, \"#fb9f3a\"], [0.8888888888888888, \"#fdca26\"], [1.0, \"#f0f921\"]], \"type\": \"histogram2dcontour\"}], \"mesh3d\": [{\"colorbar\": {\"outlinewidth\": 0, \"ticks\": \"\"}, \"type\": \"mesh3d\"}], \"parcoords\": [{\"line\": {\"colorbar\": {\"outlinewidth\": 0, \"ticks\": \"\"}}, \"type\": \"parcoords\"}], \"scatter\": [{\"marker\": {\"colorbar\": {\"outlinewidth\": 0, \"ticks\": \"\"}}, \"type\": \"scatter\"}], \"scatter3d\": [{\"line\": {\"colorbar\": {\"outlinewidth\": 0, \"ticks\": \"\"}}, \"marker\": {\"colorbar\": {\"outlinewidth\": 0, \"ticks\": \"\"}}, \"type\": \"scatter3d\"}], \"scattercarpet\": [{\"marker\": {\"colorbar\": {\"outlinewidth\": 0, \"ticks\": \"\"}}, \"type\": \"scattercarpet\"}], \"scattergeo\": [{\"marker\": {\"colorbar\": {\"outlinewidth\": 0, \"ticks\": \"\"}}, \"type\": \"scattergeo\"}], \"scattergl\": [{\"marker\": {\"colorbar\": {\"outlinewidth\": 0, \"ticks\": \"\"}}, \"type\": \"scattergl\"}], \"scattermapbox\": [{\"marker\": {\"colorbar\": {\"outlinewidth\": 0, \"ticks\": \"\"}}, \"type\": \"scattermapbox\"}], \"scatterpolar\": [{\"marker\": {\"colorbar\": {\"outlinewidth\": 0, \"ticks\": \"\"}}, \"type\": \"scatterpolar\"}], \"scatterpolargl\": [{\"marker\": {\"colorbar\": {\"outlinewidth\": 0, \"ticks\": \"\"}}, \"type\": \"scatterpolargl\"}], \"scatterternary\": [{\"marker\": {\"colorbar\": {\"outlinewidth\": 0, \"ticks\": \"\"}}, \"type\": \"scatterternary\"}], \"surface\": [{\"colorbar\": {\"outlinewidth\": 0, \"ticks\": \"\"}, \"colorscale\": [[0.0, \"#0d0887\"], [0.1111111111111111, \"#46039f\"], [0.2222222222222222, \"#7201a8\"], [0.3333333333333333, \"#9c179e\"], [0.4444444444444444, \"#bd3786\"], [0.5555555555555556, \"#d8576b\"], [0.6666666666666666, \"#ed7953\"], [0.7777777777777778, \"#fb9f3a\"], [0.8888888888888888, \"#fdca26\"], [1.0, \"#f0f921\"]], \"type\": \"surface\"}], \"table\": [{\"cells\": {\"fill\": {\"color\": \"#EBF0F8\"}, \"line\": {\"color\": \"white\"}}, \"header\": {\"fill\": {\"color\": \"#C8D4E3\"}, \"line\": {\"color\": \"white\"}}, \"type\": \"table\"}]}, \"layout\": {\"annotationdefaults\": {\"arrowcolor\": \"#2a3f5f\", \"arrowhead\": 0, \"arrowwidth\": 1}, \"colorscale\": {\"diverging\": [[0, \"#8e0152\"], [0.1, \"#c51b7d\"], [0.2, \"#de77ae\"], [0.3, \"#f1b6da\"], [0.4, \"#fde0ef\"], [0.5, \"#f7f7f7\"], [0.6, \"#e6f5d0\"], [0.7, \"#b8e186\"], [0.8, \"#7fbc41\"], [0.9, \"#4d9221\"], [1, \"#276419\"]], \"sequential\": [[0.0, \"#0d0887\"], [0.1111111111111111, \"#46039f\"], [0.2222222222222222, \"#7201a8\"], [0.3333333333333333, \"#9c179e\"], [0.4444444444444444, \"#bd3786\"], [0.5555555555555556, \"#d8576b\"], [0.6666666666666666, \"#ed7953\"], [0.7777777777777778, \"#fb9f3a\"], [0.8888888888888888, \"#fdca26\"], [1.0, \"#f0f921\"]], \"sequentialminus\": [[0.0, \"#0d0887\"], [0.1111111111111111, \"#46039f\"], [0.2222222222222222, \"#7201a8\"], [0.3333333333333333, \"#9c179e\"], [0.4444444444444444, \"#bd3786\"], [0.5555555555555556, \"#d8576b\"], [0.6666666666666666, \"#ed7953\"], [0.7777777777777778, \"#fb9f3a\"], [0.8888888888888888, \"#fdca26\"], [1.0, \"#f0f921\"]]}, \"colorway\": [\"#636efa\", \"#EF553B\", \"#00cc96\", \"#ab63fa\", \"#FFA15A\", \"#19d3f3\", \"#FF6692\", \"#B6E880\", \"#FF97FF\", \"#FECB52\"], \"font\": {\"color\": \"#2a3f5f\"}, \"geo\": {\"bgcolor\": \"white\", \"lakecolor\": \"white\", \"landcolor\": \"#E5ECF6\", \"showlakes\": true, \"showland\": true, \"subunitcolor\": \"white\"}, \"hoverlabel\": {\"align\": \"left\"}, \"hovermode\": \"closest\", \"mapbox\": {\"style\": \"light\"}, \"paper_bgcolor\": \"white\", \"plot_bgcolor\": \"#E5ECF6\", \"polar\": {\"angularaxis\": {\"gridcolor\": \"white\", \"linecolor\": \"white\", \"ticks\": \"\"}, \"bgcolor\": \"#E5ECF6\", \"radialaxis\": {\"gridcolor\": \"white\", \"linecolor\": \"white\", \"ticks\": \"\"}}, \"scene\": {\"xaxis\": {\"backgroundcolor\": \"#E5ECF6\", \"gridcolor\": \"white\", \"gridwidth\": 2, \"linecolor\": \"white\", \"showbackground\": true, \"ticks\": \"\", \"zerolinecolor\": \"white\"}, \"yaxis\": {\"backgroundcolor\": \"#E5ECF6\", \"gridcolor\": \"white\", \"gridwidth\": 2, \"linecolor\": \"white\", \"showbackground\": true, \"ticks\": \"\", \"zerolinecolor\": \"white\"}, \"zaxis\": {\"backgroundcolor\": \"#E5ECF6\", \"gridcolor\": \"white\", \"gridwidth\": 2, \"linecolor\": \"white\", \"showbackground\": true, \"ticks\": \"\", \"zerolinecolor\": \"white\"}}, \"shapedefaults\": {\"line\": {\"color\": \"#2a3f5f\"}}, \"ternary\": {\"aaxis\": {\"gridcolor\": \"white\", \"linecolor\": \"white\", \"ticks\": \"\"}, \"baxis\": {\"gridcolor\": \"white\", \"linecolor\": \"white\", \"ticks\": \"\"}, \"bgcolor\": \"#E5ECF6\", \"caxis\": {\"gridcolor\": \"white\", \"linecolor\": \"white\", \"ticks\": \"\"}}, \"title\": {\"x\": 0.05}, \"xaxis\": {\"automargin\": true, \"gridcolor\": \"white\", \"linecolor\": \"white\", \"ticks\": \"\", \"zerolinecolor\": \"white\", \"zerolinewidth\": 2}, \"yaxis\": {\"automargin\": true, \"gridcolor\": \"white\", \"linecolor\": \"white\", \"ticks\": \"\", \"zerolinecolor\": \"white\", \"zerolinewidth\": 2}}}, \"width\": 800, \"xaxis\": {\"anchor\": \"y\", \"domain\": [0.0, 0.98], \"title\": {\"text\": \"Year\"}}, \"yaxis\": {\"anchor\": \"x\", \"domain\": [0.0, 1.0], \"title\": {\"text\": \"VehicleCount\"}}},\n",
       "                        {\"responsive\": true}\n",
       "                    ).then(function(){\n",
       "                            \n",
       "var gd = document.getElementById('e152f9a2-221d-4614-89d9-78090119c504');\n",
       "var x = new MutationObserver(function (mutations, observer) {{\n",
       "        var display = window.getComputedStyle(gd).display;\n",
       "        if (!display || display === 'none') {{\n",
       "            console.log([gd, 'removed!']);\n",
       "            Plotly.purge(gd);\n",
       "            observer.disconnect();\n",
       "        }}\n",
       "}});\n",
       "\n",
       "// Listen for the removal of the full notebook cells\n",
       "var notebookContainer = gd.closest('#notebook-container');\n",
       "if (notebookContainer) {{\n",
       "    x.observe(notebookContainer, {childList: true});\n",
       "}}\n",
       "\n",
       "// Listen for the clearing of the current output cell\n",
       "var outputEl = gd.closest('.output');\n",
       "if (outputEl) {{\n",
       "    x.observe(outputEl, {childList: true});\n",
       "}}\n",
       "\n",
       "                        })\n",
       "                };\n",
       "                });\n",
       "            </script>\n",
       "        </div>"
      ]
     },
     "metadata": {},
     "output_type": "display_data"
    },
    {
     "data": {
      "text/plain": [
       "<Figure size 432x288 with 0 Axes>"
      ]
     },
     "metadata": {},
     "output_type": "display_data"
    }
   ],
   "source": [
    "### F L I G H T   M O D E L I N G \n",
    "\n",
    "### high scenario\n",
    "dfHAC, DHAC = Flights(x, PolyHAC)\n",
    "BinaryShifts(x, DHAC, 'HoogAir', figs=False)\n",
    "dfHAC, STVhac = ServiceToFlightVehicles(x, dfHAC, service='Person-movements', figs=False)\n",
    "PlotService(x, dfHAC, y='Share', scn='HoogAir', figs=False)\n",
    "PlotService(x, dfHAC, y='Person-movements', scn='HoogAir', figs=False)\n",
    "PlotService(x, dfHAC, y='VehicleCount', scn='HoogAir', figs=False, color='Vehicle')\n",
    "\n",
    "### low scenario\n",
    "dfLAC, DLAC = Flights(x, PolyLAC)\n",
    "BinaryShifts(x, DLAC, 'LaagAir', figs=False)\n",
    "dfLAC, STVlac = ServiceToFlightVehicles(x, dfLAC, service='Person-movements', figs=False)\n",
    "PlotService(x, dfLAC, y='Share', scn='LaagAir', figs=False)\n",
    "PlotService(x, dfLAC, y='Person-movements', scn='LaagAir', figs=False)\n",
    "PlotService(x, dfLAC, y='VehicleCount', scn='LaagAir', figs=True, color='Vehicle')\n"
   ]
  },
  {
   "cell_type": "code",
   "execution_count": 98,
   "metadata": {
    "scrolled": false
   },
   "outputs": [
    {
     "name": "stdout",
     "output_type": "stream",
     "text": [
      "Sea vessels 1.0\n",
      "Sea vessels 1.0\n"
     ]
    },
    {
     "data": {
      "application/vnd.plotly.v1+json": {
       "config": {
        "plotlyServerURL": "https://plot.ly"
       },
       "data": [
        {
         "hoverlabel": {
          "namelength": 0
         },
         "hovertemplate": "Vehicle=Boorvaartuig<br>Year=%{x}<br>VehicleCount=%{y}",
         "legendgroup": "Vehicle=Boorvaartuig",
         "line": {
          "color": "#636efa"
         },
         "mode": "lines",
         "name": "Vehicle=Boorvaartuig",
         "orientation": "v",
         "showlegend": true,
         "stackgroup": "1",
         "type": "scatter",
         "x": [
          1999,
          2000,
          2001,
          2002,
          2003,
          2004,
          2005,
          2006,
          2007,
          2008,
          2009,
          2010,
          2011,
          2012,
          2013,
          2014,
          2015,
          2016,
          2017,
          2018,
          2019,
          2020,
          2021,
          2022,
          2023,
          2024,
          2025,
          2026,
          2027,
          2028,
          2029,
          2030,
          2031,
          2032,
          2033,
          2034,
          2035,
          2036,
          2037,
          2038,
          2039,
          2040,
          2041,
          2042,
          2043,
          2044,
          2045,
          2046,
          2047,
          2048,
          2049,
          2050,
          2051
         ],
         "xaxis": "x",
         "y": [
          1.7990432949998294,
          1.804171328992526,
          1.809839582540261,
          1.8160480556428864,
          1.8227967483005498,
          1.8300856605131037,
          1.837914792280549,
          1.8462841436030315,
          1.8551937144804058,
          1.8646435049128176,
          1.87463351490012,
          1.8851637444424603,
          1.8962341935398384,
          1.9078448621919606,
          1.9199957503991205,
          1.9326868581611716,
          1.9459181854782603,
          1.95968973235024,
          1.9740014987771106,
          1.9888534847590187,
          2.004245690295818,
          2.020178115387802,
          2.03665076003453,
          2.053663624236296,
          2.0712167079929524,
          2.0893100113046468,
          2.1079435341710857,
          2.1271172765927084,
          2.1468312385692228,
          2.1670854201007743,
          2.1878798211870705,
          2.209214441828404,
          2.2310892820247754,
          2.253504341776038,
          2.276459621082192,
          2.299955119943383,
          2.323990838359465,
          2.348566776330732,
          2.3736829338567422,
          2.399339310937645,
          2.425535907573584,
          2.452272723764414,
          2.4795497595102827,
          2.5073670148110416,
          2.5357244896668383,
          2.5646221840776735,
          2.5940600980432515,
          2.624038231563869,
          2.6545565846393764,
          2.685615157269922,
          2.7172139494553584,
          2.749352961195832,
          2.782032192491197
         ],
         "yaxis": "y"
        },
        {
         "hoverlabel": {
          "namelength": 0
         },
         "hovertemplate": "Vehicle=Overig<br>Year=%{x}<br>VehicleCount=%{y}",
         "legendgroup": "Vehicle=Overig",
         "line": {
          "color": "#EF553B"
         },
         "mode": "lines",
         "name": "Vehicle=Overig",
         "orientation": "v",
         "showlegend": true,
         "stackgroup": "1",
         "type": "scatter",
         "x": [
          1999,
          2000,
          2001,
          2002,
          2003,
          2004,
          2005,
          2006,
          2007,
          2008,
          2009,
          2010,
          2011,
          2012,
          2013,
          2014,
          2015,
          2016,
          2017,
          2018,
          2019,
          2020,
          2021,
          2022,
          2023,
          2024,
          2025,
          2026,
          2027,
          2028,
          2029,
          2030,
          2031,
          2032,
          2033,
          2034,
          2035,
          2036,
          2037,
          2038,
          2039,
          2040,
          2041,
          2042,
          2043,
          2044,
          2045,
          2046,
          2047,
          2048,
          2049,
          2050,
          2051
         ],
         "xaxis": "x",
         "y": [
          8.095629029704813,
          8.118704995120417,
          8.144211928775825,
          8.172149830670378,
          8.202518700804735,
          8.235318539178234,
          8.270549345790878,
          8.308211120643325,
          8.34830386373492,
          8.390827575066318,
          8.435782254636859,
          8.483167902447203,
          8.532984518497354,
          8.585232102785987,
          8.639910655314425,
          8.697020176082006,
          8.756560665089394,
          8.818532122335924,
          8.882934547821598,
          8.949767941547076,
          9.019032303511699,
          9.090727633716787,
          9.164853932160357,
          9.241411198843734,
          9.320399433766253,
          9.401818636928576,
          9.485668808329384,
          9.571949947970655,
          9.660662055851073,
          9.751805131971294,
          9.845379176329997,
          9.941384188928504,
          10.039820169766818,
          10.140687118844276,
          10.243985036160877,
          10.349713921717283,
          10.457873775512832,
          10.568464597548848,
          10.681486387823345,
          10.796939146336989,
          10.914822873090433,
          11.035137568083023,
          11.157883231315417,
          11.283059862786956,
          11.410667462498298,
          11.540706030449448,
          11.673175566639074,
          11.808076071068514,
          11.945407543737092,
          12.085169984645477,
          12.227363393793006,
          12.371987771180336,
          12.519043116806813
         ],
         "yaxis": "y"
        },
        {
         "hoverlabel": {
          "namelength": 0
         },
         "hovertemplate": "Vehicle=Bulk Carrier<br>Year=%{x}<br>VehicleCount=%{y}",
         "legendgroup": "Vehicle=Bulk Carrier",
         "line": {
          "color": "#00cc96"
         },
         "mode": "lines",
         "name": "Vehicle=Bulk Carrier",
         "orientation": "v",
         "showlegend": true,
         "stackgroup": "1",
         "type": "scatter",
         "x": [
          1999,
          2000,
          2001,
          2002,
          2003,
          2004,
          2005,
          2006,
          2007,
          2008,
          2009,
          2010,
          2011,
          2012,
          2013,
          2014,
          2015,
          2016,
          2017,
          2018,
          2019,
          2020,
          2021,
          2022,
          2023,
          2024,
          2025,
          2026,
          2027,
          2028,
          2029,
          2030,
          2031,
          2032,
          2033,
          2034,
          2035,
          2036,
          2037,
          2038,
          2039,
          2040,
          2041,
          2042,
          2043,
          2044,
          2045,
          2046,
          2047,
          2048,
          2049,
          2050,
          2051
         ],
         "xaxis": "x",
         "y": [
          4.804028566108095,
          4.81772207857517,
          4.8328581523088845,
          4.849436787308845,
          4.867457983575442,
          4.886921741108285,
          4.9078280599073745,
          4.9301769399731015,
          4.953968381305076,
          4.979202383903688,
          5.0058789477685455,
          5.03399807290004,
          5.063559759298174,
          5.094564006962162,
          5.127010815892787,
          5.160900186089659,
          5.196232117553168,
          5.233006610282924,
          5.271223664278926,
          5.3108832795415655,
          5.351985456070451,
          5.394530193866366,
          5.438517492928136,
          5.483947353256545,
          5.530819774851198,
          5.579134757712489,
          5.628892301839635,
          5.6800924072338095,
          5.732735073894232,
          5.786820301821291,
          5.8423480910142045,
          5.899318441473755,
          5.957731353199946,
          6.017586826192382,
          6.078884860451064,
          6.141625455976383,
          6.205808612767949,
          6.271434330826545,
          6.338502610150994,
          6.407013450741691,
          6.476966852599023,
          6.548362815722602,
          6.621201340112821,
          6.695482425769285,
          6.771206072692386,
          6.848372280882126,
          6.926981050337718,
          7.007032381059951,
          7.088526273048429,
          7.171462726303545,
          7.255841740824907,
          7.341663316612905,
          7.428927453667152
         ],
         "yaxis": "y"
        },
        {
         "hoverlabel": {
          "namelength": 0
         },
         "hovertemplate": "Vehicle=Bergings schip<br>Year=%{x}<br>VehicleCount=%{y}",
         "legendgroup": "Vehicle=Bergings schip",
         "line": {
          "color": "#ab63fa"
         },
         "mode": "lines",
         "name": "Vehicle=Bergings schip",
         "orientation": "v",
         "showlegend": true,
         "stackgroup": "1",
         "type": "scatter",
         "x": [
          1999,
          2000,
          2001,
          2002,
          2003,
          2004,
          2005,
          2006,
          2007,
          2008,
          2009,
          2010,
          2011,
          2012,
          2013,
          2014,
          2015,
          2016,
          2017,
          2018,
          2019,
          2020,
          2021,
          2022,
          2023,
          2024,
          2025,
          2026,
          2027,
          2028,
          2029,
          2030,
          2031,
          2032,
          2033,
          2034,
          2035,
          2036,
          2037,
          2038,
          2039,
          2040,
          2041,
          2042,
          2043,
          2044,
          2045,
          2046,
          2047,
          2048,
          2049,
          2050,
          2051
         ],
         "xaxis": "x",
         "y": [
          5.714538445275956,
          5.730827295845252,
          5.748832117022224,
          5.768552908806404,
          5.789989671198257,
          5.813142404197317,
          5.838011107803587,
          5.864595782017529,
          5.892896426838682,
          5.922913042267508,
          5.954645628303542,
          5.988094184947249,
          6.023258712198631,
          6.060139210056754,
          6.098735678522552,
          6.139048117595558,
          6.181076527276238,
          6.224820907564126,
          6.270281258459222,
          6.317457579961992,
          6.36634987207197,
          6.416958134790089,
          6.469282368114948,
          6.5233225720474834,
          6.579078746587226,
          6.636550891734642,
          6.6957390074888,
          6.756643093851098,
          6.819263150820605,
          6.883599178397786,
          6.949651176581708,
          7.017419145373305,
          7.086903084772576,
          7.158102994779055,
          7.231018875392742,
          7.305650726614103,
          7.381998548442672,
          7.460062340879382,
          7.539842103922832,
          7.621337837573493,
          7.704549541831825,
          7.789477216697366,
          7.876120862170581,
          7.964480478251005,
          8.054556064939101,
          8.146347622234874,
          8.239855150137386,
          8.335078648647576,
          8.43201811776497,
          8.530673557490042,
          8.63104496782232,
          8.73313234876227,
          8.83693570030943
         ],
         "yaxis": "y"
        },
        {
         "hoverlabel": {
          "namelength": 0
         },
         "hovertemplate": "Vehicle=Veer schip<br>Year=%{x}<br>VehicleCount=%{y}",
         "legendgroup": "Vehicle=Veer schip",
         "line": {
          "color": "#FFA15A"
         },
         "mode": "lines",
         "name": "Vehicle=Veer schip",
         "orientation": "v",
         "showlegend": true,
         "stackgroup": "1",
         "type": "scatter",
         "x": [
          1999,
          2000,
          2001,
          2002,
          2003,
          2004,
          2005,
          2006,
          2007,
          2008,
          2009,
          2010,
          2011,
          2012,
          2013,
          2014,
          2015,
          2016,
          2017,
          2018,
          2019,
          2020,
          2021,
          2022,
          2023,
          2024,
          2025,
          2026,
          2027,
          2028,
          2029,
          2030,
          2031,
          2032,
          2033,
          2034,
          2035,
          2036,
          2037,
          2038,
          2039,
          2040,
          2041,
          2042,
          2043,
          2044,
          2045,
          2046,
          2047,
          2048,
          2049,
          2050,
          2051
         ],
         "xaxis": "x",
         "y": [
          7.524767365326988,
          7.546216133649451,
          7.56992445097174,
          7.595892317293241,
          7.624119732614567,
          7.654606696935103,
          7.687353210254852,
          7.722359272574424,
          7.759624883893211,
          7.799150044211823,
          7.840934753529645,
          7.8849790118472916,
          7.931282819164766,
          7.979846175480835,
          8.030669080796732,
          8.083751535111839,
          8.139093538426772,
          8.196695090740917,
          8.256556192054273,
          8.318676842367454,
          8.383057041679846,
          8.449696789992679,
          8.518596087304108,
          8.589754933615364,
          8.66317332892583,
          8.738851273236122,
          8.816788766545011,
          8.896985808854339,
          8.97944240016288,
          9.064158540471245,
          9.151134229778208,
          9.240369468084996,
          9.33186425539161,
          9.425618591697436,
          9.521632477002473,
          9.619905911307336,
          9.720438894611409,
          9.823231426915923,
          9.928283508219032,
          10.035595138521357,
          10.145166317823502,
          10.25699704612486,
          10.371087323426046,
          10.487437149726443,
          10.606046525026661,
          10.72691544932671,
          10.85004392262535,
          10.975431944923823,
          11.103079516221504,
          11.232986636519012,
          11.365153305815731,
          11.499579524112272,
          11.636265291408026
         ],
         "yaxis": "y"
        },
        {
         "hoverlabel": {
          "namelength": 0
         },
         "hovertemplate": "Vehicle=Steen storter schip<br>Year=%{x}<br>VehicleCount=%{y}",
         "legendgroup": "Vehicle=Steen storter schip",
         "line": {
          "color": "#19d3f3"
         },
         "mode": "lines",
         "name": "Vehicle=Steen storter schip",
         "orientation": "v",
         "showlegend": true,
         "stackgroup": "1",
         "type": "scatter",
         "x": [
          1999,
          2000,
          2001,
          2002,
          2003,
          2004,
          2005,
          2006,
          2007,
          2008,
          2009,
          2010,
          2011,
          2012,
          2013,
          2014,
          2015,
          2016,
          2017,
          2018,
          2019,
          2020,
          2021,
          2022,
          2023,
          2024,
          2025,
          2026,
          2027,
          2028,
          2029,
          2030,
          2031,
          2032,
          2033,
          2034,
          2035,
          2036,
          2037,
          2038,
          2039,
          2040,
          2041,
          2042,
          2043,
          2044,
          2045,
          2046,
          2047,
          2048,
          2049,
          2050,
          2051
         ],
         "xaxis": "x",
         "y": [
          10.897957094003061,
          10.92902087917395,
          10.96335712007089,
          11.000965816692998,
          11.041846969041162,
          11.086000577114488,
          11.133426640912981,
          11.184125160437528,
          11.238096135687243,
          11.295339566663014,
          11.355855453363949,
          11.419643795790936,
          11.486704593943982,
          11.5570378478213,
          11.630643557424678,
          11.707521722753219,
          11.787672343807815,
          11.871095420587576,
          11.957790953092504,
          12.047758941323485,
          12.140999385279633,
          12.237512284962726,
          12.337297640370092,
          12.44035545150352,
          12.546685718362106,
          12.65628844094675,
          12.76916361925567,
          12.885311253291533,
          13.004731343052564,
          13.127423888539647,
          13.253388889751008,
          13.382626346688424,
          13.515136259351895,
          13.650918627740532,
          13.789973451854335,
          13.932300731694193,
          14.077900467259216,
          14.226772658551182,
          14.378917305567423,
          14.534334408308837,
          14.693023966776297,
          14.854985980968925,
          15.02022045088761,
          15.18872737653146,
          15.360506757901364,
          15.535558594997326,
          15.713882887817556,
          15.895479636363852,
          16.08034884063531,
          16.268490500632822,
          16.459904616355498,
          16.65459118780423,
          16.852550214978127
         ],
         "yaxis": "y"
        },
        {
         "hoverlabel": {
          "namelength": 0
         },
         "hovertemplate": "Vehicle=Meet- en peil vaartuig<br>Year=%{x}<br>VehicleCount=%{y}",
         "legendgroup": "Vehicle=Meet- en peil vaartuig",
         "line": {
          "color": "#FF6692"
         },
         "mode": "lines",
         "name": "Vehicle=Meet- en peil vaartuig",
         "orientation": "v",
         "showlegend": true,
         "stackgroup": "1",
         "type": "scatter",
         "x": [
          1999,
          2000,
          2001,
          2002,
          2003,
          2004,
          2005,
          2006,
          2007,
          2008,
          2009,
          2010,
          2011,
          2012,
          2013,
          2014,
          2015,
          2016,
          2017,
          2018,
          2019,
          2020,
          2021,
          2022,
          2023,
          2024,
          2025,
          2026,
          2027,
          2028,
          2029,
          2030,
          2031,
          2032,
          2033,
          2034,
          2035,
          2036,
          2037,
          2038,
          2039,
          2040,
          2041,
          2042,
          2043,
          2044,
          2045,
          2046,
          2047,
          2048,
          2049,
          2050,
          2051
         ],
         "xaxis": "x",
         "y": [
          11.935851503165791,
          11.969873726205188,
          12.00748006553904,
          12.048670521166372,
          12.093445093088157,
          12.14180378130342,
          12.193746585812164,
          12.24927350661536,
          12.308384543712041,
          12.371079697103173,
          12.437358966787786,
          12.507222352766851,
          12.580669855040371,
          12.657701473606396,
          12.738317208466876,
          12.822517059620836,
          12.910301027069249,
          13.001669110811143,
          13.096621310846515,
          13.195157627176343,
          13.29727805979965,
          13.402982608718386,
          13.512271273929626,
          13.625144055435323,
          13.741600953234496,
          13.861641967328126,
          13.98526709771426,
          14.112476344395821,
          14.243269707370866,
          14.37764718664036,
          14.515608782202362,
          14.657154494058817,
          14.80228432220973,
          14.95099826665412,
          15.10329632739199,
          15.259178504424314,
          15.418644797750119,
          15.58169520737135,
          15.748329733285086,
          15.918548375492307,
          16.092351133993976,
          16.269738008789126,
          16.45070899987873,
          16.63526410726182,
          16.823403330939357,
          17.01512667091135,
          17.210434127175844,
          17.409325699734804,
          17.611801388587235,
          17.817861193734124,
          18.027505115174492,
          18.24073315290931,
          18.45754530693761
         ],
         "yaxis": "y"
        },
        {
         "hoverlabel": {
          "namelength": 0
         },
         "hovertemplate": "Vehicle=Ro-Ro Vessel<br>Year=%{x}<br>VehicleCount=%{y}",
         "legendgroup": "Vehicle=Ro-Ro Vessel",
         "line": {
          "color": "#B6E880"
         },
         "mode": "lines",
         "name": "Vehicle=Ro-Ro Vessel",
         "orientation": "v",
         "showlegend": true,
         "stackgroup": "1",
         "type": "scatter",
         "x": [
          1999,
          2000,
          2001,
          2002,
          2003,
          2004,
          2005,
          2006,
          2007,
          2008,
          2009,
          2010,
          2011,
          2012,
          2013,
          2014,
          2015,
          2016,
          2017,
          2018,
          2019,
          2020,
          2021,
          2022,
          2023,
          2024,
          2025,
          2026,
          2027,
          2028,
          2029,
          2030,
          2031,
          2032,
          2033,
          2034,
          2035,
          2036,
          2037,
          2038,
          2039,
          2040,
          2041,
          2042,
          2043,
          2044,
          2045,
          2046,
          2047,
          2048,
          2049,
          2050,
          2051
         ],
         "xaxis": "x",
         "y": [
          15.724356910213562,
          15.769177975372463,
          15.818720775198285,
          15.872985309689744,
          15.931971578848122,
          15.995679582672135,
          16.064109321161787,
          16.137260794318355,
          16.215134002140566,
          16.297728944629696,
          16.38504562178446,
          16.477084033606143,
          16.573844180094746,
          16.675326061247702,
          16.78152967706758,
          16.892455027553098,
          17.00810211270553,
          17.1284709325236,
          17.25356148700731,
          17.383373776157935,
          17.5179077999742,
          17.657163558458667,
          17.801141051607487,
          17.94984027942323,
          18.103261241904608,
          18.261403939052904,
          18.424268370865555,
          18.591854537346407,
          18.7641624384929,
          18.941192074306308,
          19.12294344478407,
          19.309416549928752,
          19.500611389740357,
          19.696527964217598,
          19.897166273360476,
          20.102526317170273,
          20.312608095645707,
          20.527411608789347,
          20.746936856597333,
          20.971183839070964,
          21.200152556211506,
          21.43384300801769,
          21.672255194490795,
          21.915389115629534,
          22.163244771435192,
          22.415822161907773,
          22.6731212870447,
          22.935142146848563,
          23.20188474131805,
          23.47334907045446,
          23.74953513425651,
          24.03044293272547,
          24.316072465860078
         ],
         "yaxis": "y"
        },
        {
         "hoverlabel": {
          "namelength": 0
         },
         "hovertemplate": "Vehicle=Zuiger schip<br>Year=%{x}<br>VehicleCount=%{y}",
         "legendgroup": "Vehicle=Zuiger schip",
         "line": {
          "color": "#FF97FF"
         },
         "mode": "lines",
         "name": "Vehicle=Zuiger schip",
         "orientation": "v",
         "showlegend": true,
         "stackgroup": "1",
         "type": "scatter",
         "x": [
          1999,
          2000,
          2001,
          2002,
          2003,
          2004,
          2005,
          2006,
          2007,
          2008,
          2009,
          2010,
          2011,
          2012,
          2013,
          2014,
          2015,
          2016,
          2017,
          2018,
          2019,
          2020,
          2021,
          2022,
          2023,
          2024,
          2025,
          2026,
          2027,
          2028,
          2029,
          2030,
          2031,
          2032,
          2033,
          2034,
          2035,
          2036,
          2037,
          2038,
          2039,
          2040,
          2041,
          2042,
          2043,
          2044,
          2045,
          2046,
          2047,
          2048,
          2049,
          2050,
          2051
         ],
         "xaxis": "x",
         "y": [
          18.215461406910713,
          18.267383173077715,
          18.324774706694672,
          18.3876360077601,
          18.455967076275478,
          18.529767912239322,
          18.60903851565164,
          18.693778886513904,
          18.783989024824645,
          18.87966893058534,
          18.9808186037945,
          19.087438044453613,
          19.19952725256268,
          19.31708622811873,
          19.440114971124736,
          19.568613481579206,
          19.702581759483635,
          19.84201980483653,
          19.986927617637892,
          20.13730519788921,
          20.293152545588992,
          20.454469660740216,
          20.621256543338422,
          20.793513193386588,
          20.971239610883217,
          21.154435795829798,
          21.343101748223365,
          21.53723746806837,
          21.736842955361844,
          21.94191821010527,
          22.15246323229568,
          22.368478021936042,
          22.589962579026363,
          22.81691690356515,
          23.049340995552406,
          23.287234854989617,
          23.53059848187529,
          23.77943187621241,
          24.033735037996507,
          24.29350796722908,
          24.558750663911596,
          24.829463128042583,
          25.10564535962353,
          25.38729735865294,
          25.674419125132307,
          25.96701065906163,
          26.265071960437922,
          26.568603029264185,
          26.87760386553891,
          27.19207446926359,
          27.512014840436738,
          27.837424979059833,
          28.168304885131406
         ],
         "yaxis": "y"
        },
        {
         "hoverlabel": {
          "namelength": 0
         },
         "hovertemplate": "Vehicle=Bevoorradings schip<br>Year=%{x}<br>VehicleCount=%{y}",
         "legendgroup": "Vehicle=Bevoorradings schip",
         "line": {
          "color": "#FECB52"
         },
         "mode": "lines",
         "name": "Vehicle=Bevoorradings schip",
         "orientation": "v",
         "showlegend": true,
         "stackgroup": "1",
         "type": "scatter",
         "x": [
          1999,
          2000,
          2001,
          2002,
          2003,
          2004,
          2005,
          2006,
          2007,
          2008,
          2009,
          2010,
          2011,
          2012,
          2013,
          2014,
          2015,
          2016,
          2017,
          2018,
          2019,
          2020,
          2021,
          2022,
          2023,
          2024,
          2025,
          2026,
          2027,
          2028,
          2029,
          2030,
          2031,
          2032,
          2033,
          2034,
          2035,
          2036,
          2037,
          2038,
          2039,
          2040,
          2041,
          2042,
          2043,
          2044,
          2045,
          2046,
          2047,
          2048,
          2049,
          2050,
          2051
         ],
         "xaxis": "x",
         "y": [
          18.422066481385862,
          18.47457715936389,
          18.532619644489145,
          18.596193936760127,
          18.665300036178333,
          18.73993794274226,
          18.82010765645191,
          18.905809177308786,
          18.99704250531139,
          19.093807640461222,
          19.19610458275677,
          19.30393333219955,
          19.417293888789555,
          19.536186252523777,
          19.66061042340523,
          19.790566401432407,
          19.92605418660681,
          20.067073778926932,
          20.213625178392782,
          20.365708385005856,
          20.523323398764653,
          20.686470219672184,
          20.855148847723928,
          21.029359282922908,
          21.209101525267606,
          21.39437557475953,
          21.585181431395675,
          21.78151909518055,
          21.98338856611115,
          22.190789844188973,
          22.403722929411018,
          22.622187821780287,
          22.846184521296784,
          23.075713027959008,
          23.310773341766954,
          23.551365462722128,
          23.79748939082302,
          24.04914512607265,
          24.30633266846649,
          24.569052018006065,
          24.837303174692856,
          25.111086138525373,
          25.390400909505118,
          25.67524748763059,
          25.96562587290328,
          26.261536065323206,
          26.562978064887336,
          26.869951871598715,
          27.182457485455807,
          27.500494906460126,
          27.824064134610172,
          28.15316516990743,
          28.487798012350428
         ],
         "yaxis": "y"
        },
        {
         "hoverlabel": {
          "namelength": 0
         },
         "hovertemplate": "Vehicle=Bagger schip<br>Year=%{x}<br>VehicleCount=%{y}",
         "legendgroup": "Vehicle=Bagger schip",
         "line": {
          "color": "#636efa"
         },
         "mode": "lines",
         "name": "Vehicle=Bagger schip",
         "orientation": "v",
         "showlegend": true,
         "stackgroup": "1",
         "type": "scatter",
         "x": [
          1999,
          2000,
          2001,
          2002,
          2003,
          2004,
          2005,
          2006,
          2007,
          2008,
          2009,
          2010,
          2011,
          2012,
          2013,
          2014,
          2015,
          2016,
          2017,
          2018,
          2019,
          2020,
          2021,
          2022,
          2023,
          2024,
          2025,
          2026,
          2027,
          2028,
          2029,
          2030,
          2031,
          2032,
          2033,
          2034,
          2035,
          2036,
          2037,
          2038,
          2039,
          2040,
          2041,
          2042,
          2043,
          2044,
          2045,
          2046,
          2047,
          2048,
          2049,
          2050,
          2051
         ],
         "xaxis": "x",
         "y": [
          18.629987511749384,
          18.68309085256908,
          18.741788435390585,
          18.80608026021238,
          18.875966327035975,
          18.951446635859856,
          19.032521186684026,
          19.119189979509997,
          19.21145301433626,
          19.309310291164334,
          19.412761809992684,
          19.521807570822844,
          19.63644757365481,
          19.756681818485543,
          19.882510305318082,
          20.013933034150906,
          20.15095000498554,
          20.293561217820457,
          20.44176667265566,
          20.59556636949267,
          20.754960308329963,
          20.919948489170586,
          21.090530912009974,
          21.266707576851175,
          21.448478483692654,
          21.63584363253594,
          21.828803023377997,
          22.027356656223372,
          22.23150453106904,
          22.44124664791651,
          22.656583006762748,
          22.877513607610794,
          23.104038450460646,
          23.336157535310782,
          23.573870862161208,
          23.81717843101344,
          24.066080241865954,
          24.3205762947218,
          24.580666589576403,
          24.846351126431305,
          25.117629905288,
          25.394502926144987,
          25.67697018900378,
          25.965031693862862,
          26.258687440723744,
          26.55793742958644,
          26.862781660447887,
          27.173220133311162,
          27.48925284817471,
          27.81087980504007,
          28.138101003905717,
          28.470916444773163,
          28.809326127640897
         ],
         "yaxis": "y"
        },
        {
         "hoverlabel": {
          "namelength": 0
         },
         "hovertemplate": "Vehicle=Zware lading schip<br>Year=%{x}<br>VehicleCount=%{y}",
         "legendgroup": "Vehicle=Zware lading schip",
         "line": {
          "color": "#EF553B"
         },
         "mode": "lines",
         "name": "Vehicle=Zware lading schip",
         "orientation": "v",
         "showlegend": true,
         "stackgroup": "1",
         "type": "scatter",
         "x": [
          1999,
          2000,
          2001,
          2002,
          2003,
          2004,
          2005,
          2006,
          2007,
          2008,
          2009,
          2010,
          2011,
          2012,
          2013,
          2014,
          2015,
          2016,
          2017,
          2018,
          2019,
          2020,
          2021,
          2022,
          2023,
          2024,
          2025,
          2026,
          2027,
          2028,
          2029,
          2030,
          2031,
          2032,
          2033,
          2034,
          2035,
          2036,
          2037,
          2038,
          2039,
          2040,
          2041,
          2042,
          2043,
          2044,
          2045,
          2046,
          2047,
          2048,
          2049,
          2050,
          2051
         ],
         "xaxis": "x",
         "y": [
          19.56431619249686,
          19.620082765073427,
          19.6817241413401,
          19.74924032129529,
          19.822631304940582,
          19.901897092274385,
          19.987037683296702,
          20.07805307800912,
          20.17494327641006,
          20.277708278501102,
          20.386348084280655,
          20.500862693750314,
          20.621252106910084,
          20.747516323756766,
          20.879655344293557,
          21.01766916851886,
          21.16155779643427,
          21.311321228038192,
          21.466959463330625,
          21.628472502313166,
          21.795860344984217,
          21.969122991346975,
          22.148260441396644,
          22.333272695136426,
          22.524159752564714,
          22.72092161368311,
          22.923558278488425,
          23.132069746985437,
          23.34645601917097,
          23.566717095046602,
          23.79285297460915,
          24.024863657861808,
          24.262749144804577,
          24.506509435435856,
          24.756144529755645,
          25.01165442776554,
          25.273039129463946,
          25.54029863485406,
          25.813432943931083,
          26.092442056696626,
          26.377325973152267,
          26.668084693296425,
          26.964718217130688,
          27.267226544653468,
          27.575609675866346,
          27.88986761076934,
          28.210000349359238,
          28.53600789163926,
          28.867890237607785,
          29.20564738726642,
          29.549279340613566,
          29.898786097650813,
          30.254167658376577
         ],
         "yaxis": "y"
        },
        {
         "hoverlabel": {
          "namelength": 0
         },
         "hovertemplate": "Vehicle=Cruise schip<br>Year=%{x}<br>VehicleCount=%{y}",
         "legendgroup": "Vehicle=Cruise schip",
         "line": {
          "color": "#00cc96"
         },
         "mode": "lines",
         "name": "Vehicle=Cruise schip",
         "orientation": "v",
         "showlegend": true,
         "stackgroup": "1",
         "type": "scatter",
         "x": [
          1999,
          2000,
          2001,
          2002,
          2003,
          2004,
          2005,
          2006,
          2007,
          2008,
          2009,
          2010,
          2011,
          2012,
          2013,
          2014,
          2015,
          2016,
          2017,
          2018,
          2019,
          2020,
          2021,
          2022,
          2023,
          2024,
          2025,
          2026,
          2027,
          2028,
          2029,
          2030,
          2031,
          2032,
          2033,
          2034,
          2035,
          2036,
          2037,
          2038,
          2039,
          2040,
          2041,
          2042,
          2043,
          2044,
          2045,
          2046,
          2047,
          2048,
          2049,
          2050,
          2051
         ],
         "xaxis": "x",
         "y": [
          20.794734948129108,
          20.854008734357325,
          20.91952679635813,
          20.991289134129833,
          21.06929574767412,
          21.153546636989294,
          21.24404180207537,
          21.340781242934025,
          21.44376495956358,
          21.552992951965727,
          21.66846522013876,
          21.79018176408438,
          21.918142583802595,
          22.05234767929,
          22.19279705055,
          22.33949069758089,
          22.492428620384366,
          22.651610818958737,
          22.817037293304,
          22.988708043421852,
          23.166623069310596,
          23.35078237097363,
          23.54118594840585,
          23.73783380161067,
          23.940725930586375,
          24.14986233533467,
          24.365243015852165,
          24.58686797214394,
          24.81473720420661,
          25.04885071204187,
          25.28920849564632,
          25.535810555023364,
          25.788656890172998,
          26.04774750109352,
          26.31308238778494,
          26.58466155024895,
          26.862484988483846,
          27.146552702493032,
          27.43686469227141,
          27.733420957820687,
          28.036221499142545,
          28.345266316235296,
          28.66055540910064,
          28.982088777736877,
          29.309866422145696,
          29.643888342327113,
          29.98415453827771,
          30.330665010000917,
          30.68341975749501,
          31.04241878076169,
          31.407662079799263,
          31.779149654609416,
          32.15688150519047
         ],
         "yaxis": "y"
        },
        {
         "hoverlabel": {
          "namelength": 0
         },
         "hovertemplate": "Vehicle=Koel schip<br>Year=%{x}<br>VehicleCount=%{y}",
         "legendgroup": "Vehicle=Koel schip",
         "line": {
          "color": "#ab63fa"
         },
         "mode": "lines",
         "name": "Vehicle=Koel schip",
         "orientation": "v",
         "showlegend": true,
         "stackgroup": "1",
         "type": "scatter",
         "x": [
          1999,
          2000,
          2001,
          2002,
          2003,
          2004,
          2005,
          2006,
          2007,
          2008,
          2009,
          2010,
          2011,
          2012,
          2013,
          2014,
          2015,
          2016,
          2017,
          2018,
          2019,
          2020,
          2021,
          2022,
          2023,
          2024,
          2025,
          2026,
          2027,
          2028,
          2029,
          2030,
          2031,
          2032,
          2033,
          2034,
          2035,
          2036,
          2037,
          2038,
          2039,
          2040,
          2041,
          2042,
          2043,
          2044,
          2045,
          2046,
          2047,
          2048,
          2049,
          2050,
          2051
         ],
         "xaxis": "x",
         "y": [
          20.602605388426106,
          20.661331524180373,
          20.726244242740343,
          20.79734354410433,
          20.874629428274016,
          20.958101895247715,
          21.047760945025438,
          21.143606577608853,
          21.245638792996292,
          21.35385759118943,
          21.468262972186587,
          21.588854935989435,
          21.715633482597987,
          21.848598612008875,
          21.987750324225463,
          22.13308861924607,
          22.284613497072375,
          22.442324957702695,
          22.606223001137035,
          22.776307627377072,
          22.95257883642113,
          23.135036628272566,
          23.32368100292634,
          23.518511960385815,
          23.719529500649305,
          23.926733623718494,
          24.14012432959002,
          24.35970161826892,
          24.585465489751847,
          24.81741594404047,
          25.055552981131427,
          25.299876601028082,
          25.55038680373044,
          25.807083589236818,
          26.069966957547212,
          26.339036908663303,
          26.614293442583413,
          26.895736559310905,
          27.183366258840728,
          27.477182541174578,
          27.777185406314114,
          28.083374854257674,
          28.395750885006937,
          28.714313498560216,
          29.03906269491919,
          29.369998474083868,
          29.70712083605087,
          30.050429780823592,
          30.39992530840032,
          30.75560741878275,
          31.117476111969196,
          31.485531387961334,
          31.8597732467575
         ],
         "yaxis": "y"
        },
        {
         "hoverlabel": {
          "namelength": 0
         },
         "hovertemplate": "Vehicle=Offshore support vessel<br>Year=%{x}<br>VehicleCount=%{y}",
         "legendgroup": "Vehicle=Offshore support vessel",
         "line": {
          "color": "#FFA15A"
         },
         "mode": "lines",
         "name": "Vehicle=Offshore support vessel",
         "orientation": "v",
         "showlegend": true,
         "stackgroup": "1",
         "type": "scatter",
         "x": [
          1999,
          2000,
          2001,
          2002,
          2003,
          2004,
          2005,
          2006,
          2007,
          2008,
          2009,
          2010,
          2011,
          2012,
          2013,
          2014,
          2015,
          2016,
          2017,
          2018,
          2019,
          2020,
          2021,
          2022,
          2023,
          2024,
          2025,
          2026,
          2027,
          2028,
          2029,
          2030,
          2031,
          2032,
          2033,
          2034,
          2035,
          2036,
          2037,
          2038,
          2039,
          2040,
          2041,
          2042,
          2043,
          2044,
          2045,
          2046,
          2047,
          2048,
          2049,
          2050,
          2051
         ],
         "xaxis": "x",
         "y": [
          21.225052523628296,
          21.28555289687693,
          21.352426762337693,
          21.42567412000886,
          21.50529496989215,
          21.591289311985843,
          21.683657146289935,
          21.782398472806154,
          21.887513291532777,
          21.99900160247153,
          22.11686340562068,
          22.24109870098196,
          22.371707488555373,
          22.508689768337447,
          22.65204554033166,
          22.80177480453627,
          22.957877560953005,
          23.120353809580145,
          23.28920355041768,
          23.464426783467346,
          23.64602350872741,
          23.83399372620134,
          24.028337435883934,
          24.229054637778663,
          24.436145331883786,
          24.649609518201043,
          24.869447196726966,
          25.095658367466747,
          25.32824303041693,
          25.567201185579243,
          25.812532832950225,
          26.064237972533334,
          26.32231660432858,
          26.58676872833422,
          26.857594344550265,
          27.134793452978435,
          27.418366053617003,
          27.70831214646944,
          28.004631731530534,
          28.307324808802036,
          28.616391378285662,
          28.931831439979685,
          29.253644993885846,
          29.581832040002404,
          29.916392578331088,
          30.25732660887191,
          30.604634131621385,
          30.95831514658301,
          31.318369653755024,
          31.68479765313917,
          32.05759914473372,
          32.436774128540385,
          32.82232260455746
         ],
         "yaxis": "y"
        },
        {
         "hoverlabel": {
          "namelength": 0
         },
         "hovertemplate": "Vehicle=Gas tanker<br>Year=%{x}<br>VehicleCount=%{y}",
         "legendgroup": "Vehicle=Gas tanker",
         "line": {
          "color": "#19d3f3"
         },
         "mode": "lines",
         "name": "Vehicle=Gas tanker",
         "orientation": "v",
         "showlegend": true,
         "stackgroup": "1",
         "type": "scatter",
         "x": [
          1999,
          2000,
          2001,
          2002,
          2003,
          2004,
          2005,
          2006,
          2007,
          2008,
          2009,
          2010,
          2011,
          2012,
          2013,
          2014,
          2015,
          2016,
          2017,
          2018,
          2019,
          2020,
          2021,
          2022,
          2023,
          2024,
          2025,
          2026,
          2027,
          2028,
          2029,
          2030,
          2031,
          2032,
          2033,
          2034,
          2035,
          2036,
          2037,
          2038,
          2039,
          2040,
          2041,
          2042,
          2043,
          2044,
          2045,
          2046,
          2047,
          2048,
          2049,
          2050,
          2051
         ],
         "xaxis": "x",
         "y": [
          23.19767040030502,
          23.263793568488225,
          23.336882569687454,
          23.416937403900814,
          23.5039580711302,
          23.597944571373706,
          23.69889690463135,
          23.806815070905014,
          23.921699070192812,
          24.043548902496635,
          24.172364567814586,
          24.308146066148556,
          24.450893397498554,
          24.600606561860786,
          24.757285559239048,
          24.920930389631437,
          25.091541053039847,
          25.26911754946239,
          25.45365987889906,
          25.645168041351756,
          25.843642036818583,
          26.049081865303325,
          26.261487526800302,
          26.48085902131331,
          26.70719634884044,
          26.9404995093836,
          27.180768502938996,
          27.4280033295123,
          27.682203989099744,
          27.94337048170321,
          28.211502807318908,
          28.486600965950633,
          28.768664957598382,
          29.057694782260263,
          29.353690439936273,
          29.656651930628307,
          29.96657925433447,
          30.28347241105855,
          30.607331400794862,
          30.938156223545317,
          31.275946879311782,
          31.620703368092382,
          31.972425689889008,
          32.331113844699765,
          32.69676783252654,
          33.06938765336935,
          33.44897330722437,
          33.83552479409545,
          34.22904211398064,
          34.629525266881856,
          35.03697425279721,
          35.45138907172857,
          35.87276972367407
         ],
         "yaxis": "y"
        },
        {
         "hoverlabel": {
          "namelength": 0
         },
         "hovertemplate": "Vehicle=Werk schip<br>Year=%{x}<br>VehicleCount=%{y}",
         "legendgroup": "Vehicle=Werk schip",
         "line": {
          "color": "#FF6692"
         },
         "mode": "lines",
         "name": "Vehicle=Werk schip",
         "orientation": "v",
         "showlegend": true,
         "stackgroup": "1",
         "type": "scatter",
         "x": [
          1999,
          2000,
          2001,
          2002,
          2003,
          2004,
          2005,
          2006,
          2007,
          2008,
          2009,
          2010,
          2011,
          2012,
          2013,
          2014,
          2015,
          2016,
          2017,
          2018,
          2019,
          2020,
          2021,
          2022,
          2023,
          2024,
          2025,
          2026,
          2027,
          2028,
          2029,
          2030,
          2031,
          2032,
          2033,
          2034,
          2035,
          2036,
          2037,
          2038,
          2039,
          2040,
          2041,
          2042,
          2043,
          2044,
          2045,
          2046,
          2047,
          2048,
          2049,
          2050,
          2051
         ],
         "xaxis": "x",
         "y": [
          47.01647197992385,
          47.150488802753976,
          47.29862380586528,
          47.460876989253926,
          47.637248352923734,
          47.827737896870865,
          48.032345621095345,
          48.251071525600985,
          48.483915610383974,
          48.73087787544813,
          48.991958320789614,
          49.26715694641227,
          49.5564737523161,
          49.859908738493424,
          50.17746190495192,
          50.50913325168776,
          50.85492277870476,
          51.214830485999094,
          51.58885637357077,
          51.977000441423606,
          52.379262689553784,
          52.79564311796897,
          53.22614172665765,
          53.67075851562751,
          54.12949348487469,
          54.602346634403055,
          55.089317964204916,
          55.590407474291766,
          56.10561516465597,
          56.63494103530134,
          57.1783850862202,
          57.73594731742024,
          58.30762772890145,
          58.89342632066,
          59.49334309269588,
          60.10737804501293,
          60.735531177607314,
          61.37780249048671,
          62.03419198363959,
          62.704699657069824,
          63.38932551078121,
          64.08806954476994,
          64.80093175903984,
          65.52791215358708,
          66.26901072841548,
          67.02422748352505,
          67.79356241890811,
          68.57701553457238,
          69.37458683051395,
          70.18627630673672,
          71.0120839632368,
          71.85200980001804,
          72.70605381707664
         ],
         "yaxis": "y"
        },
        {
         "hoverlabel": {
          "namelength": 0
         },
         "hovertemplate": "Vehicle=Snijkop zuiger<br>Year=%{x}<br>VehicleCount=%{y}",
         "legendgroup": "Vehicle=Snijkop zuiger",
         "line": {
          "color": "#B6E880"
         },
         "mode": "lines",
         "name": "Vehicle=Snijkop zuiger",
         "orientation": "v",
         "showlegend": true,
         "stackgroup": "1",
         "type": "scatter",
         "x": [
          1999,
          2000,
          2001,
          2002,
          2003,
          2004,
          2005,
          2006,
          2007,
          2008,
          2009,
          2010,
          2011,
          2012,
          2013,
          2014,
          2015,
          2016,
          2017,
          2018,
          2019,
          2020,
          2021,
          2022,
          2023,
          2024,
          2025,
          2026,
          2027,
          2028,
          2029,
          2030,
          2031,
          2032,
          2033,
          2034,
          2035,
          2036,
          2037,
          2038,
          2039,
          2040,
          2041,
          2042,
          2043,
          2044,
          2045,
          2046,
          2047,
          2048,
          2049,
          2050,
          2051
         ],
         "xaxis": "x",
         "y": [
          26.36254431185106,
          26.437688708731827,
          26.520749291953074,
          26.611726061512652,
          26.71061901741271,
          26.817428159651094,
          26.93215348822781,
          27.054795003145006,
          27.185352704400536,
          27.323826591996546,
          27.470216665930884,
          27.6245229262057,
          27.786745372821,
          27.956884005772473,
          28.134938825064435,
          28.32090983069472,
          28.51479702266549,
          28.71660040097459,
          28.926319965622017,
          29.143955716609923,
          29.36950765393616,
          29.60297577760503,
          29.84436008761008,
          30.093660583955614,
          30.350877266639472,
          30.61601013566381,
          30.88905919102433,
          31.170024432727477,
          31.458905860768958,
          31.755703475150916,
          32.06041727586906,
          32.37304726292767,
          32.69359343632678,
          33.02205579606421,
          33.35843434213997,
          33.70272907455621,
          34.05493999331078,
          34.41506709840799,
          34.78311038984136,
          35.15906986761308,
          35.542945531725266,
          35.93473738217578,
          36.33444541896679,
          36.74206964209612,
          37.157610051565925,
          37.581066647376225,
          38.012439429522686,
          38.45172839800965,
          38.89893355283493,
          39.3540548940007,
          39.81709242150479,
          40.288046135349354,
          40.76691603553226
         ],
         "yaxis": "y"
        },
        {
         "hoverlabel": {
          "namelength": 0
         },
         "hovertemplate": "Vehicle=Splijtbak - Omnibarge<br>Year=%{x}<br>VehicleCount=%{y}",
         "legendgroup": "Vehicle=Splijtbak - Omnibarge",
         "line": {
          "color": "#FF97FF"
         },
         "mode": "lines",
         "name": "Vehicle=Splijtbak - Omnibarge",
         "orientation": "v",
         "showlegend": true,
         "stackgroup": "1",
         "type": "scatter",
         "x": [
          1999,
          2000,
          2001,
          2002,
          2003,
          2004,
          2005,
          2006,
          2007,
          2008,
          2009,
          2010,
          2011,
          2012,
          2013,
          2014,
          2015,
          2016,
          2017,
          2018,
          2019,
          2020,
          2021,
          2022,
          2023,
          2024,
          2025,
          2026,
          2027,
          2028,
          2029,
          2030,
          2031,
          2032,
          2033,
          2034,
          2035,
          2036,
          2037,
          2038,
          2039,
          2040,
          2041,
          2042,
          2043,
          2044,
          2045,
          2046,
          2047,
          2048,
          2049,
          2050,
          2051
         ],
         "xaxis": "x",
         "y": [
          27.296872992598537,
          27.374680621236173,
          27.46068499790259,
          27.554886122595565,
          27.657283995317318,
          27.767878616065623,
          27.886669984840488,
          28.013658101644126,
          28.14884296647433,
          28.29222457933332,
          28.443802940218852,
          28.60357804913317,
          28.77154990607627,
          28.947718511043696,
          29.13208386403991,
          29.324645965062675,
          29.525404814114225,
          29.734360411192327,
          29.95151275629698,
          30.17686184943042,
          30.410407690590414,
          30.65215027978142,
          30.902089616996747,
          31.160225702240865,
          31.426558535511532,
          31.701088116810983,
          31.983814446134758,
          32.27473752348954,
          32.57385734887089,
          32.88117392228101,
          33.19668724371546,
          33.52039731317869,
          33.85230413067071,
          34.19240769618928,
          34.5407080097344,
          34.89720507130831,
          35.261898880908774,
          35.634789438540245,
          36.01587674419604,
          36.4051607978784,
          36.802641599589535,
          37.208319149327224,
          37.6221934470937,
          38.044264492886725,
          38.47453228670853,
          38.91299682855913,
          39.359658118434034,
          39.814516156337746,
          40.277570942268,
          40.74882247622704,
          41.22827075821264,
          41.71591578822701,
          42.21175756626794
         ],
         "yaxis": "y"
        },
        {
         "hoverlabel": {
          "namelength": 0
         },
         "hovertemplate": "Vehicle=Olie-chemicalien tanker<br>Year=%{x}<br>VehicleCount=%{y}",
         "legendgroup": "Vehicle=Olie-chemicalien tanker",
         "line": {
          "color": "#FECB52"
         },
         "mode": "lines",
         "name": "Vehicle=Olie-chemicalien tanker",
         "orientation": "v",
         "showlegend": true,
         "stackgroup": "1",
         "type": "scatter",
         "x": [
          1999,
          2000,
          2001,
          2002,
          2003,
          2004,
          2005,
          2006,
          2007,
          2008,
          2009,
          2010,
          2011,
          2012,
          2013,
          2014,
          2015,
          2016,
          2017,
          2018,
          2019,
          2020,
          2021,
          2022,
          2023,
          2024,
          2025,
          2026,
          2027,
          2028,
          2029,
          2030,
          2031,
          2032,
          2033,
          2034,
          2035,
          2036,
          2037,
          2038,
          2039,
          2040,
          2041,
          2042,
          2043,
          2044,
          2045,
          2046,
          2047,
          2048,
          2049,
          2050,
          2051
         ],
         "xaxis": "x",
         "y": [
          62.84478940531918,
          63.02392362472904,
          63.2219289765143,
          63.4388054606698,
          63.674553077200684,
          63.92917182610181,
          64.2026617073732,
          64.49502272101995,
          64.80625486703698,
          65.13635814542938,
          65.48533255619203,
          65.85317809933007,
          66.23989477484348,
          66.64548258272201,
          67.06994152297594,
          67.51327159560012,
          67.97547280059966,
          68.45654513796947,
          68.95648860770952,
          69.47530320982496,
          70.01298894431065,
          70.56954581117685,
          71.14497381040816,
          71.73927294201488,
          72.35244320599183,
          72.98448460234417,
          73.63539713106164,
          74.30518079215959,
          74.99383558562782,
          75.70136151147142,
          76.42775856968015,
          77.17302676026425,
          77.93716608322374,
          78.72017653855349,
          79.5220581262535,
          80.34281084632887,
          81.1824346987745,
          82.04092968360064,
          82.91829580079188,
          83.81453305035342,
          84.7296414322903,
          85.66362094659745,
          86.61647159327997,
          87.58819337233275,
          88.5787862837609,
          89.58825032756445,
          90.61658550373309,
          91.66379181227717,
          92.72986925319147,
          93.81481782648116,
          94.91863753214109,
          96.04132837017639,
          97.18289034058196
         ],
         "yaxis": "y"
        },
        {
         "hoverlabel": {
          "namelength": 0
         },
         "hovertemplate": "Vehicle=Sleephopper zuiger<br>Year=%{x}<br>VehicleCount=%{y}",
         "legendgroup": "Vehicle=Sleephopper zuiger",
         "line": {
          "color": "#636efa"
         },
         "mode": "lines",
         "name": "Vehicle=Sleephopper zuiger",
         "orientation": "v",
         "showlegend": true,
         "stackgroup": "1",
         "type": "scatter",
         "x": [
          1999,
          2000,
          2001,
          2002,
          2003,
          2004,
          2005,
          2006,
          2007,
          2008,
          2009,
          2010,
          2011,
          2012,
          2013,
          2014,
          2015,
          2016,
          2017,
          2018,
          2019,
          2020,
          2021,
          2022,
          2023,
          2024,
          2025,
          2026,
          2027,
          2028,
          2029,
          2030,
          2031,
          2032,
          2033,
          2034,
          2035,
          2036,
          2037,
          2038,
          2039,
          2040,
          2041,
          2042,
          2043,
          2044,
          2045,
          2046,
          2047,
          2048,
          2049,
          2050,
          2051
         ],
         "xaxis": "x",
         "y": [
          70.99187231025952,
          71.19422916038316,
          71.41790356177269,
          71.66289551442236,
          71.92920501833791,
          72.21683207351357,
          72.52577667994937,
          72.85603883765106,
          73.20761854661286,
          73.5805158068406,
          73.97473061832842,
          74.39026298108215,
          74.82711289510179,
          75.28528036037575,
          75.76476537691563,
          76.26556794471563,
          76.78768806378152,
          77.33112573410753,
          77.89588095569364,
          78.48195372854568,
          79.08934405265781,
          79.71805192804166,
          80.36807735467983,
          81.0394203325839,
          81.73208086174809,
          82.44605894217818,
          83.18135457386259,
          83.9379677568187,
          84.71589849103493,
          85.51514677651707,
          86.33571261325352,
          87.17759600125588,
          88.04079694052416,
          88.92531543105255,
          89.83115147284106,
          90.75830506589546,
          91.70677621020998,
          92.67656490579621,
          93.66767115263674,
          94.68009495073741,
          95.71383630010396,
          96.76889520073064,
          97.84527165262323,
          98.94296565577594,
          100.06197721019453,
          101.20230631587906,
          102.36395297281786,
          103.54691718102264,
          104.75119894048748,
          105.97679825121826,
          107.22371511320914,
          108.4919495264659,
          109.7815014909828
         ],
         "yaxis": "y"
        },
        {
         "hoverlabel": {
          "namelength": 0
         },
         "hovertemplate": "Vehicle=Transport ponton<br>Year=%{x}<br>VehicleCount=%{y}",
         "legendgroup": "Vehicle=Transport ponton",
         "line": {
          "color": "#EF553B"
         },
         "mode": "lines",
         "name": "Vehicle=Transport ponton",
         "orientation": "v",
         "showlegend": true,
         "stackgroup": "1",
         "type": "scatter",
         "x": [
          1999,
          2000,
          2001,
          2002,
          2003,
          2004,
          2005,
          2006,
          2007,
          2008,
          2009,
          2010,
          2011,
          2012,
          2013,
          2014,
          2015,
          2016,
          2017,
          2018,
          2019,
          2020,
          2021,
          2022,
          2023,
          2024,
          2025,
          2026,
          2027,
          2028,
          2029,
          2030,
          2031,
          2032,
          2033,
          2034,
          2035,
          2036,
          2037,
          2038,
          2039,
          2040,
          2041,
          2042,
          2043,
          2044,
          2045,
          2046,
          2047,
          2048,
          2049,
          2050,
          2051
         ],
         "xaxis": "x",
         "y": [
          73.89881886768372,
          74.10946174449879,
          74.34229507507196,
          74.5973188593972,
          74.87453309748055,
          75.17393778931596,
          75.49553293490345,
          75.83931853424902,
          76.20529458734669,
          76.59346109420245,
          77.00381805481028,
          77.43636546917621,
          77.89110333730024,
          78.36803165917031,
          78.86715043479849,
          79.38845966417874,
          79.93195934731708,
          80.4976494842075,
          81.08553007484998,
          81.69560111925057,
          82.32786261740323,
          82.98231456932002,
          83.65895697498284,
          84.35778983440379,
          85.0788131475768,
          85.8220269145079,
          86.58743113518504,
          87.37502580962631,
          88.18481093781966,
          89.01678651977112,
          89.87095255546859,
          90.74730904492418,
          91.64585598813788,
          92.56659338510364,
          93.50952123582148,
          94.47463954029742,
          95.46194829852543,
          96.47144751051758,
          97.50313717625573,
          98.55701729574601,
          99.63308786899434,
          100.73134889599476,
          101.85180037675329,
          102.99444231126388,
          104.15927469953257,
          105.34629754155938,
          106.55551083733218,
          107.78691458686315,
          109.04050879014616,
          110.31629344718728,
          111.61426855798047,
          112.93443412253173,
          114.27679014083509
         ],
         "yaxis": "y"
        },
        {
         "hoverlabel": {
          "namelength": 0
         },
         "hovertemplate": "Vehicle=Container schip<br>Year=%{x}<br>VehicleCount=%{y}",
         "legendgroup": "Vehicle=Container schip",
         "line": {
          "color": "#00cc96"
         },
         "mode": "lines",
         "name": "Vehicle=Container schip",
         "orientation": "v",
         "showlegend": true,
         "stackgroup": "1",
         "type": "scatter",
         "x": [
          1999,
          2000,
          2001,
          2002,
          2003,
          2004,
          2005,
          2006,
          2007,
          2008,
          2009,
          2010,
          2011,
          2012,
          2013,
          2014,
          2015,
          2016,
          2017,
          2018,
          2019,
          2020,
          2021,
          2022,
          2023,
          2024,
          2025,
          2026,
          2027,
          2028,
          2029,
          2030,
          2031,
          2032,
          2033,
          2034,
          2035,
          2036,
          2037,
          2038,
          2039,
          2040,
          2041,
          2042,
          2043,
          2044,
          2045,
          2046,
          2047,
          2048,
          2049,
          2050,
          2051
         ],
         "xaxis": "x",
         "y": [
          94.70802933058498,
          94.97798725496534,
          95.27638425560679,
          95.60322033250158,
          95.95849548565744,
          96.34220971506662,
          96.75436302072916,
          97.19495540265277,
          97.66398686082974,
          98.16145739526777,
          98.68736700595915,
          99.24171569291158,
          99.82450345612511,
          100.43573029558424,
          101.07539621130445,
          101.74350120327802,
          102.44004527151263,
          103.16502841600061,
          103.91845063674192,
          104.7003119337443,
          105.51061230700003,
          106.34935175652456,
          107.2165302822947,
          108.11214788432594,
          109.0362045626105,
          109.98870031715613,
          110.96963514794739,
          111.97900905500741,
          113.01682203832083,
          114.08307409789529,
          115.17776523371536,
          116.30089544579651,
          117.45246473413876,
          118.63247309873434,
          119.84092053958325,
          121.07780705669325,
          122.34313265005657,
          123.63689731968873,
          124.95910106556646,
          126.30974388769758,
          127.68882578608972,
          129.09634676073523,
          130.53230681164183,
          131.99670593880177,
          133.48954414222274,
          135.01082142190484,
          136.56053777783248,
          138.13869321002127,
          139.74528771846337,
          141.38032130316657,
          143.0437939641231,
          144.73570570134066,
          146.45605651481162
         ],
         "yaxis": "y"
        },
        {
         "hoverlabel": {
          "namelength": 0
         },
         "hovertemplate": "Vehicle=Kust en zeesleepboot<br>Year=%{x}<br>VehicleCount=%{y}",
         "legendgroup": "Vehicle=Kust en zeesleepboot",
         "line": {
          "color": "#ab63fa"
         },
         "mode": "lines",
         "name": "Vehicle=Kust en zeesleepboot",
         "orientation": "v",
         "showlegend": true,
         "stackgroup": "1",
         "type": "scatter",
         "x": [
          1999,
          2000,
          2001,
          2002,
          2003,
          2004,
          2005,
          2006,
          2007,
          2008,
          2009,
          2010,
          2011,
          2012,
          2013,
          2014,
          2015,
          2016,
          2017,
          2018,
          2019,
          2020,
          2021,
          2022,
          2023,
          2024,
          2025,
          2026,
          2027,
          2028,
          2029,
          2030,
          2031,
          2032,
          2033,
          2034,
          2035,
          2036,
          2037,
          2038,
          2039,
          2040,
          2041,
          2042,
          2043,
          2044,
          2045,
          2046,
          2047,
          2048,
          2049,
          2050,
          2051
         ],
         "xaxis": "x",
         "y": [
          146.45273081744645,
          146.87018301775893,
          147.33161227481943,
          147.83701858861593,
          148.38640195916042,
          148.97976238644088,
          149.6170998704574,
          150.29841441122187,
          151.0237060087224,
          151.7929746629709,
          152.60622037395538,
          153.46344314168783,
          154.36464296616828,
          155.30981984737278,
          156.29897378532524,
          157.33210478001376,
          158.40921283145022,
          159.53029793962273,
          160.69536010453123,
          161.90439932618773,
          163.15741560458022,
          164.45440893973264,
          165.79537933160913,
          167.18032678023363,
          168.6092512855941,
          170.08215284770256,
          171.5990314665351,
          173.15988714212753,
          174.76471987445603,
          176.41352966353244,
          178.10631650933297,
          179.84308041188143,
          181.6238213711779,
          183.4485393872104,
          185.3172344599789,
          187.22990658949536,
          189.18655577574785,
          191.1871820187603,
          193.23178531849675,
          195.32036567496928,
          197.45292308818972,
          199.6294575581462,
          201.8499690848507,
          204.11445766829118,
          206.42292330847962,
          208.77536600541606,
          211.1717857590765,
          213.61218256948504,
          216.09655643662953,
          218.624907360522,
          221.1972353411505,
          223.81354037852694,
          226.4738224726394
         ],
         "yaxis": "y"
        },
        {
         "hoverlabel": {
          "namelength": 0
         },
         "hovertemplate": "Vehicle=Multi purpose vessel<br>Year=%{x}<br>VehicleCount=%{y}",
         "legendgroup": "Vehicle=Multi purpose vessel",
         "line": {
          "color": "#FFA15A"
         },
         "mode": "lines",
         "name": "Vehicle=Multi purpose vessel",
         "orientation": "v",
         "showlegend": true,
         "stackgroup": "1",
         "type": "scatter",
         "x": [
          1999,
          2000,
          2001,
          2002,
          2003,
          2004,
          2005,
          2006,
          2007,
          2008,
          2009,
          2010,
          2011,
          2012,
          2013,
          2014,
          2015,
          2016,
          2017,
          2018,
          2019,
          2020,
          2021,
          2022,
          2023,
          2024,
          2025,
          2026,
          2027,
          2028,
          2029,
          2030,
          2031,
          2032,
          2033,
          2034,
          2035,
          2036,
          2037,
          2038,
          2039,
          2040,
          2041,
          2042,
          2043,
          2044,
          2045,
          2046,
          2047,
          2048,
          2049,
          2050,
          2051
         ],
         "xaxis": "x",
         "y": [
          539.2392443801332,
          540.7763042069105,
          542.4752876435685,
          544.3361946900633,
          546.3590253464386,
          548.5437796126505,
          550.8904574886991,
          553.3990589746281,
          556.0695840703942,
          558.9020327760406,
          561.8964050915238,
          565.0527010168875,
          568.3709205521319,
          571.8510636971689,
          575.4931304520866,
          579.2971208168409,
          583.2630347914759,
          587.3908723759474,
          591.6806335702556,
          596.1323183744445,
          600.74592678847,
          605.5214588124201,
          610.4589144461628,
          615.5582936897863,
          620.8195965432463,
          626.242823006587,
          631.8279730797203,
          637.5750467627781,
          643.4840440556728,
          649.554964958448,
          655.7878094710159,
          662.1825775934643,
          668.7392693257934,
          675.4578846679592,
          682.3384236199616,
          689.3808861818447,
          696.5852723535644,
          703.9515821352088,
          711.4798155266457,
          719.1699725279194,
          727.0220531390735,
          735.0360573600643,
          743.2119851909358,
          751.549836631644,
          760.0496116822327,
          768.7113103427022,
          777.534932612964,
          786.5204784931069,
          795.6679479830863,
          804.9773410829463,
          814.4486577926428,
          824.08189811222,
          833.8770620416338
         ],
         "yaxis": "y"
        }
       ],
       "layout": {
        "height": 500,
        "legend": {
         "font": {
          "size": 10
         },
         "tracegroupgap": 0,
         "traceorder": "reversed",
         "y": 0.5
        },
        "margin": {
         "t": 60
        },
        "template": {
         "data": {
          "bar": [
           {
            "error_x": {
             "color": "#2a3f5f"
            },
            "error_y": {
             "color": "#2a3f5f"
            },
            "marker": {
             "line": {
              "color": "#E5ECF6",
              "width": 0.5
             }
            },
            "type": "bar"
           }
          ],
          "barpolar": [
           {
            "marker": {
             "line": {
              "color": "#E5ECF6",
              "width": 0.5
             }
            },
            "type": "barpolar"
           }
          ],
          "carpet": [
           {
            "aaxis": {
             "endlinecolor": "#2a3f5f",
             "gridcolor": "white",
             "linecolor": "white",
             "minorgridcolor": "white",
             "startlinecolor": "#2a3f5f"
            },
            "baxis": {
             "endlinecolor": "#2a3f5f",
             "gridcolor": "white",
             "linecolor": "white",
             "minorgridcolor": "white",
             "startlinecolor": "#2a3f5f"
            },
            "type": "carpet"
           }
          ],
          "choropleth": [
           {
            "colorbar": {
             "outlinewidth": 0,
             "ticks": ""
            },
            "type": "choropleth"
           }
          ],
          "contour": [
           {
            "colorbar": {
             "outlinewidth": 0,
             "ticks": ""
            },
            "colorscale": [
             [
              0,
              "#0d0887"
             ],
             [
              0.1111111111111111,
              "#46039f"
             ],
             [
              0.2222222222222222,
              "#7201a8"
             ],
             [
              0.3333333333333333,
              "#9c179e"
             ],
             [
              0.4444444444444444,
              "#bd3786"
             ],
             [
              0.5555555555555556,
              "#d8576b"
             ],
             [
              0.6666666666666666,
              "#ed7953"
             ],
             [
              0.7777777777777778,
              "#fb9f3a"
             ],
             [
              0.8888888888888888,
              "#fdca26"
             ],
             [
              1,
              "#f0f921"
             ]
            ],
            "type": "contour"
           }
          ],
          "contourcarpet": [
           {
            "colorbar": {
             "outlinewidth": 0,
             "ticks": ""
            },
            "type": "contourcarpet"
           }
          ],
          "heatmap": [
           {
            "colorbar": {
             "outlinewidth": 0,
             "ticks": ""
            },
            "colorscale": [
             [
              0,
              "#0d0887"
             ],
             [
              0.1111111111111111,
              "#46039f"
             ],
             [
              0.2222222222222222,
              "#7201a8"
             ],
             [
              0.3333333333333333,
              "#9c179e"
             ],
             [
              0.4444444444444444,
              "#bd3786"
             ],
             [
              0.5555555555555556,
              "#d8576b"
             ],
             [
              0.6666666666666666,
              "#ed7953"
             ],
             [
              0.7777777777777778,
              "#fb9f3a"
             ],
             [
              0.8888888888888888,
              "#fdca26"
             ],
             [
              1,
              "#f0f921"
             ]
            ],
            "type": "heatmap"
           }
          ],
          "heatmapgl": [
           {
            "colorbar": {
             "outlinewidth": 0,
             "ticks": ""
            },
            "colorscale": [
             [
              0,
              "#0d0887"
             ],
             [
              0.1111111111111111,
              "#46039f"
             ],
             [
              0.2222222222222222,
              "#7201a8"
             ],
             [
              0.3333333333333333,
              "#9c179e"
             ],
             [
              0.4444444444444444,
              "#bd3786"
             ],
             [
              0.5555555555555556,
              "#d8576b"
             ],
             [
              0.6666666666666666,
              "#ed7953"
             ],
             [
              0.7777777777777778,
              "#fb9f3a"
             ],
             [
              0.8888888888888888,
              "#fdca26"
             ],
             [
              1,
              "#f0f921"
             ]
            ],
            "type": "heatmapgl"
           }
          ],
          "histogram": [
           {
            "marker": {
             "colorbar": {
              "outlinewidth": 0,
              "ticks": ""
             }
            },
            "type": "histogram"
           }
          ],
          "histogram2d": [
           {
            "colorbar": {
             "outlinewidth": 0,
             "ticks": ""
            },
            "colorscale": [
             [
              0,
              "#0d0887"
             ],
             [
              0.1111111111111111,
              "#46039f"
             ],
             [
              0.2222222222222222,
              "#7201a8"
             ],
             [
              0.3333333333333333,
              "#9c179e"
             ],
             [
              0.4444444444444444,
              "#bd3786"
             ],
             [
              0.5555555555555556,
              "#d8576b"
             ],
             [
              0.6666666666666666,
              "#ed7953"
             ],
             [
              0.7777777777777778,
              "#fb9f3a"
             ],
             [
              0.8888888888888888,
              "#fdca26"
             ],
             [
              1,
              "#f0f921"
             ]
            ],
            "type": "histogram2d"
           }
          ],
          "histogram2dcontour": [
           {
            "colorbar": {
             "outlinewidth": 0,
             "ticks": ""
            },
            "colorscale": [
             [
              0,
              "#0d0887"
             ],
             [
              0.1111111111111111,
              "#46039f"
             ],
             [
              0.2222222222222222,
              "#7201a8"
             ],
             [
              0.3333333333333333,
              "#9c179e"
             ],
             [
              0.4444444444444444,
              "#bd3786"
             ],
             [
              0.5555555555555556,
              "#d8576b"
             ],
             [
              0.6666666666666666,
              "#ed7953"
             ],
             [
              0.7777777777777778,
              "#fb9f3a"
             ],
             [
              0.8888888888888888,
              "#fdca26"
             ],
             [
              1,
              "#f0f921"
             ]
            ],
            "type": "histogram2dcontour"
           }
          ],
          "mesh3d": [
           {
            "colorbar": {
             "outlinewidth": 0,
             "ticks": ""
            },
            "type": "mesh3d"
           }
          ],
          "parcoords": [
           {
            "line": {
             "colorbar": {
              "outlinewidth": 0,
              "ticks": ""
             }
            },
            "type": "parcoords"
           }
          ],
          "scatter": [
           {
            "marker": {
             "colorbar": {
              "outlinewidth": 0,
              "ticks": ""
             }
            },
            "type": "scatter"
           }
          ],
          "scatter3d": [
           {
            "line": {
             "colorbar": {
              "outlinewidth": 0,
              "ticks": ""
             }
            },
            "marker": {
             "colorbar": {
              "outlinewidth": 0,
              "ticks": ""
             }
            },
            "type": "scatter3d"
           }
          ],
          "scattercarpet": [
           {
            "marker": {
             "colorbar": {
              "outlinewidth": 0,
              "ticks": ""
             }
            },
            "type": "scattercarpet"
           }
          ],
          "scattergeo": [
           {
            "marker": {
             "colorbar": {
              "outlinewidth": 0,
              "ticks": ""
             }
            },
            "type": "scattergeo"
           }
          ],
          "scattergl": [
           {
            "marker": {
             "colorbar": {
              "outlinewidth": 0,
              "ticks": ""
             }
            },
            "type": "scattergl"
           }
          ],
          "scattermapbox": [
           {
            "marker": {
             "colorbar": {
              "outlinewidth": 0,
              "ticks": ""
             }
            },
            "type": "scattermapbox"
           }
          ],
          "scatterpolar": [
           {
            "marker": {
             "colorbar": {
              "outlinewidth": 0,
              "ticks": ""
             }
            },
            "type": "scatterpolar"
           }
          ],
          "scatterpolargl": [
           {
            "marker": {
             "colorbar": {
              "outlinewidth": 0,
              "ticks": ""
             }
            },
            "type": "scatterpolargl"
           }
          ],
          "scatterternary": [
           {
            "marker": {
             "colorbar": {
              "outlinewidth": 0,
              "ticks": ""
             }
            },
            "type": "scatterternary"
           }
          ],
          "surface": [
           {
            "colorbar": {
             "outlinewidth": 0,
             "ticks": ""
            },
            "colorscale": [
             [
              0,
              "#0d0887"
             ],
             [
              0.1111111111111111,
              "#46039f"
             ],
             [
              0.2222222222222222,
              "#7201a8"
             ],
             [
              0.3333333333333333,
              "#9c179e"
             ],
             [
              0.4444444444444444,
              "#bd3786"
             ],
             [
              0.5555555555555556,
              "#d8576b"
             ],
             [
              0.6666666666666666,
              "#ed7953"
             ],
             [
              0.7777777777777778,
              "#fb9f3a"
             ],
             [
              0.8888888888888888,
              "#fdca26"
             ],
             [
              1,
              "#f0f921"
             ]
            ],
            "type": "surface"
           }
          ],
          "table": [
           {
            "cells": {
             "fill": {
              "color": "#EBF0F8"
             },
             "line": {
              "color": "white"
             }
            },
            "header": {
             "fill": {
              "color": "#C8D4E3"
             },
             "line": {
              "color": "white"
             }
            },
            "type": "table"
           }
          ]
         },
         "layout": {
          "annotationdefaults": {
           "arrowcolor": "#2a3f5f",
           "arrowhead": 0,
           "arrowwidth": 1
          },
          "colorscale": {
           "diverging": [
            [
             0,
             "#8e0152"
            ],
            [
             0.1,
             "#c51b7d"
            ],
            [
             0.2,
             "#de77ae"
            ],
            [
             0.3,
             "#f1b6da"
            ],
            [
             0.4,
             "#fde0ef"
            ],
            [
             0.5,
             "#f7f7f7"
            ],
            [
             0.6,
             "#e6f5d0"
            ],
            [
             0.7,
             "#b8e186"
            ],
            [
             0.8,
             "#7fbc41"
            ],
            [
             0.9,
             "#4d9221"
            ],
            [
             1,
             "#276419"
            ]
           ],
           "sequential": [
            [
             0,
             "#0d0887"
            ],
            [
             0.1111111111111111,
             "#46039f"
            ],
            [
             0.2222222222222222,
             "#7201a8"
            ],
            [
             0.3333333333333333,
             "#9c179e"
            ],
            [
             0.4444444444444444,
             "#bd3786"
            ],
            [
             0.5555555555555556,
             "#d8576b"
            ],
            [
             0.6666666666666666,
             "#ed7953"
            ],
            [
             0.7777777777777778,
             "#fb9f3a"
            ],
            [
             0.8888888888888888,
             "#fdca26"
            ],
            [
             1,
             "#f0f921"
            ]
           ],
           "sequentialminus": [
            [
             0,
             "#0d0887"
            ],
            [
             0.1111111111111111,
             "#46039f"
            ],
            [
             0.2222222222222222,
             "#7201a8"
            ],
            [
             0.3333333333333333,
             "#9c179e"
            ],
            [
             0.4444444444444444,
             "#bd3786"
            ],
            [
             0.5555555555555556,
             "#d8576b"
            ],
            [
             0.6666666666666666,
             "#ed7953"
            ],
            [
             0.7777777777777778,
             "#fb9f3a"
            ],
            [
             0.8888888888888888,
             "#fdca26"
            ],
            [
             1,
             "#f0f921"
            ]
           ]
          },
          "colorway": [
           "#636efa",
           "#EF553B",
           "#00cc96",
           "#ab63fa",
           "#FFA15A",
           "#19d3f3",
           "#FF6692",
           "#B6E880",
           "#FF97FF",
           "#FECB52"
          ],
          "font": {
           "color": "#2a3f5f"
          },
          "geo": {
           "bgcolor": "white",
           "lakecolor": "white",
           "landcolor": "#E5ECF6",
           "showlakes": true,
           "showland": true,
           "subunitcolor": "white"
          },
          "hoverlabel": {
           "align": "left"
          },
          "hovermode": "closest",
          "mapbox": {
           "style": "light"
          },
          "paper_bgcolor": "white",
          "plot_bgcolor": "#E5ECF6",
          "polar": {
           "angularaxis": {
            "gridcolor": "white",
            "linecolor": "white",
            "ticks": ""
           },
           "bgcolor": "#E5ECF6",
           "radialaxis": {
            "gridcolor": "white",
            "linecolor": "white",
            "ticks": ""
           }
          },
          "scene": {
           "xaxis": {
            "backgroundcolor": "#E5ECF6",
            "gridcolor": "white",
            "gridwidth": 2,
            "linecolor": "white",
            "showbackground": true,
            "ticks": "",
            "zerolinecolor": "white"
           },
           "yaxis": {
            "backgroundcolor": "#E5ECF6",
            "gridcolor": "white",
            "gridwidth": 2,
            "linecolor": "white",
            "showbackground": true,
            "ticks": "",
            "zerolinecolor": "white"
           },
           "zaxis": {
            "backgroundcolor": "#E5ECF6",
            "gridcolor": "white",
            "gridwidth": 2,
            "linecolor": "white",
            "showbackground": true,
            "ticks": "",
            "zerolinecolor": "white"
           }
          },
          "shapedefaults": {
           "line": {
            "color": "#2a3f5f"
           }
          },
          "ternary": {
           "aaxis": {
            "gridcolor": "white",
            "linecolor": "white",
            "ticks": ""
           },
           "baxis": {
            "gridcolor": "white",
            "linecolor": "white",
            "ticks": ""
           },
           "bgcolor": "#E5ECF6",
           "caxis": {
            "gridcolor": "white",
            "linecolor": "white",
            "ticks": ""
           }
          },
          "title": {
           "x": 0.05
          },
          "xaxis": {
           "automargin": true,
           "gridcolor": "white",
           "linecolor": "white",
           "ticks": "",
           "zerolinecolor": "white",
           "zerolinewidth": 2
          },
          "yaxis": {
           "automargin": true,
           "gridcolor": "white",
           "linecolor": "white",
           "ticks": "",
           "zerolinecolor": "white",
           "zerolinewidth": 2
          }
         }
        },
        "width": 800,
        "xaxis": {
         "anchor": "y",
         "domain": [
          0,
          0.98
         ],
         "title": {
          "text": "Year"
         }
        },
        "yaxis": {
         "anchor": "x",
         "domain": [
          0,
          1
         ],
         "title": {
          "text": "VehicleCount"
         }
        }
       }
      },
      "text/html": [
       "<div>\n",
       "        \n",
       "        \n",
       "            <div id=\"34847efd-6501-4f4e-9a46-512c82b5939a\" class=\"plotly-graph-div\" style=\"height:500px; width:800px;\"></div>\n",
       "            <script type=\"text/javascript\">\n",
       "                require([\"plotly\"], function(Plotly) {\n",
       "                    window.PLOTLYENV=window.PLOTLYENV || {};\n",
       "                    \n",
       "                if (document.getElementById(\"34847efd-6501-4f4e-9a46-512c82b5939a\")) {\n",
       "                    Plotly.newPlot(\n",
       "                        '34847efd-6501-4f4e-9a46-512c82b5939a',\n",
       "                        [{\"hoverlabel\": {\"namelength\": 0}, \"hovertemplate\": \"Vehicle=Boorvaartuig<br>Year=%{x}<br>VehicleCount=%{y}\", \"legendgroup\": \"Vehicle=Boorvaartuig\", \"line\": {\"color\": \"#636efa\"}, \"mode\": \"lines\", \"name\": \"Vehicle=Boorvaartuig\", \"orientation\": \"v\", \"showlegend\": true, \"stackgroup\": \"1\", \"type\": \"scatter\", \"x\": [1999.0, 2000.0, 2001.0, 2002.0, 2003.0, 2004.0, 2005.0, 2006.0, 2007.0, 2008.0, 2009.0, 2010.0, 2011.0, 2012.0, 2013.0, 2014.0, 2015.0, 2016.0, 2017.0, 2018.0, 2019.0, 2020.0, 2021.0, 2022.0, 2023.0, 2024.0, 2025.0, 2026.0, 2027.0, 2028.0, 2029.0, 2030.0, 2031.0, 2032.0, 2033.0, 2034.0, 2035.0, 2036.0, 2037.0, 2038.0, 2039.0, 2040.0, 2041.0, 2042.0, 2043.0, 2044.0, 2045.0, 2046.0, 2047.0, 2048.0, 2049.0, 2050.0, 2051.0], \"xaxis\": \"x\", \"y\": [1.7990432949998294, 1.804171328992526, 1.809839582540261, 1.8160480556428864, 1.8227967483005498, 1.8300856605131037, 1.837914792280549, 1.8462841436030315, 1.8551937144804058, 1.8646435049128176, 1.87463351490012, 1.8851637444424603, 1.8962341935398384, 1.9078448621919606, 1.9199957503991205, 1.9326868581611716, 1.9459181854782603, 1.95968973235024, 1.9740014987771106, 1.9888534847590187, 2.004245690295818, 2.020178115387802, 2.03665076003453, 2.053663624236296, 2.0712167079929524, 2.0893100113046468, 2.1079435341710857, 2.1271172765927084, 2.1468312385692228, 2.1670854201007743, 2.1878798211870705, 2.209214441828404, 2.2310892820247754, 2.253504341776038, 2.276459621082192, 2.299955119943383, 2.323990838359465, 2.348566776330732, 2.3736829338567422, 2.399339310937645, 2.425535907573584, 2.452272723764414, 2.4795497595102827, 2.5073670148110416, 2.5357244896668383, 2.5646221840776735, 2.5940600980432515, 2.624038231563869, 2.6545565846393764, 2.685615157269922, 2.7172139494553584, 2.749352961195832, 2.782032192491197], \"yaxis\": \"y\"}, {\"hoverlabel\": {\"namelength\": 0}, \"hovertemplate\": \"Vehicle=Overig<br>Year=%{x}<br>VehicleCount=%{y}\", \"legendgroup\": \"Vehicle=Overig\", \"line\": {\"color\": \"#EF553B\"}, \"mode\": \"lines\", \"name\": \"Vehicle=Overig\", \"orientation\": \"v\", \"showlegend\": true, \"stackgroup\": \"1\", \"type\": \"scatter\", \"x\": [1999.0, 2000.0, 2001.0, 2002.0, 2003.0, 2004.0, 2005.0, 2006.0, 2007.0, 2008.0, 2009.0, 2010.0, 2011.0, 2012.0, 2013.0, 2014.0, 2015.0, 2016.0, 2017.0, 2018.0, 2019.0, 2020.0, 2021.0, 2022.0, 2023.0, 2024.0, 2025.0, 2026.0, 2027.0, 2028.0, 2029.0, 2030.0, 2031.0, 2032.0, 2033.0, 2034.0, 2035.0, 2036.0, 2037.0, 2038.0, 2039.0, 2040.0, 2041.0, 2042.0, 2043.0, 2044.0, 2045.0, 2046.0, 2047.0, 2048.0, 2049.0, 2050.0, 2051.0], \"xaxis\": \"x\", \"y\": [8.095629029704813, 8.118704995120417, 8.144211928775825, 8.172149830670378, 8.202518700804735, 8.235318539178234, 8.270549345790878, 8.308211120643325, 8.34830386373492, 8.390827575066318, 8.435782254636859, 8.483167902447203, 8.532984518497354, 8.585232102785987, 8.639910655314425, 8.697020176082006, 8.756560665089394, 8.818532122335924, 8.882934547821598, 8.949767941547076, 9.019032303511699, 9.090727633716787, 9.164853932160357, 9.241411198843734, 9.320399433766253, 9.401818636928576, 9.485668808329384, 9.571949947970655, 9.660662055851073, 9.751805131971294, 9.845379176329997, 9.941384188928504, 10.039820169766818, 10.140687118844276, 10.243985036160877, 10.349713921717283, 10.457873775512832, 10.568464597548848, 10.681486387823345, 10.796939146336989, 10.914822873090433, 11.035137568083023, 11.157883231315417, 11.283059862786956, 11.410667462498298, 11.540706030449448, 11.673175566639074, 11.808076071068514, 11.945407543737092, 12.085169984645477, 12.227363393793006, 12.371987771180336, 12.519043116806813], \"yaxis\": \"y\"}, {\"hoverlabel\": {\"namelength\": 0}, \"hovertemplate\": \"Vehicle=Bulk Carrier<br>Year=%{x}<br>VehicleCount=%{y}\", \"legendgroup\": \"Vehicle=Bulk Carrier\", \"line\": {\"color\": \"#00cc96\"}, \"mode\": \"lines\", \"name\": \"Vehicle=Bulk Carrier\", \"orientation\": \"v\", \"showlegend\": true, \"stackgroup\": \"1\", \"type\": \"scatter\", \"x\": [1999.0, 2000.0, 2001.0, 2002.0, 2003.0, 2004.0, 2005.0, 2006.0, 2007.0, 2008.0, 2009.0, 2010.0, 2011.0, 2012.0, 2013.0, 2014.0, 2015.0, 2016.0, 2017.0, 2018.0, 2019.0, 2020.0, 2021.0, 2022.0, 2023.0, 2024.0, 2025.0, 2026.0, 2027.0, 2028.0, 2029.0, 2030.0, 2031.0, 2032.0, 2033.0, 2034.0, 2035.0, 2036.0, 2037.0, 2038.0, 2039.0, 2040.0, 2041.0, 2042.0, 2043.0, 2044.0, 2045.0, 2046.0, 2047.0, 2048.0, 2049.0, 2050.0, 2051.0], \"xaxis\": \"x\", \"y\": [4.804028566108095, 4.81772207857517, 4.8328581523088845, 4.849436787308845, 4.867457983575442, 4.886921741108285, 4.9078280599073745, 4.9301769399731015, 4.953968381305076, 4.979202383903688, 5.0058789477685455, 5.03399807290004, 5.063559759298174, 5.094564006962162, 5.127010815892787, 5.160900186089659, 5.196232117553168, 5.233006610282924, 5.271223664278926, 5.3108832795415655, 5.351985456070451, 5.394530193866366, 5.438517492928136, 5.483947353256545, 5.530819774851198, 5.579134757712489, 5.628892301839635, 5.6800924072338095, 5.732735073894232, 5.786820301821291, 5.8423480910142045, 5.899318441473755, 5.957731353199946, 6.017586826192382, 6.078884860451064, 6.141625455976383, 6.205808612767949, 6.271434330826545, 6.338502610150994, 6.407013450741691, 6.476966852599023, 6.548362815722602, 6.621201340112821, 6.695482425769285, 6.771206072692386, 6.848372280882126, 6.926981050337718, 7.007032381059951, 7.088526273048429, 7.171462726303545, 7.255841740824907, 7.341663316612905, 7.428927453667152], \"yaxis\": \"y\"}, {\"hoverlabel\": {\"namelength\": 0}, \"hovertemplate\": \"Vehicle=Bergings schip<br>Year=%{x}<br>VehicleCount=%{y}\", \"legendgroup\": \"Vehicle=Bergings schip\", \"line\": {\"color\": \"#ab63fa\"}, \"mode\": \"lines\", \"name\": \"Vehicle=Bergings schip\", \"orientation\": \"v\", \"showlegend\": true, \"stackgroup\": \"1\", \"type\": \"scatter\", \"x\": [1999.0, 2000.0, 2001.0, 2002.0, 2003.0, 2004.0, 2005.0, 2006.0, 2007.0, 2008.0, 2009.0, 2010.0, 2011.0, 2012.0, 2013.0, 2014.0, 2015.0, 2016.0, 2017.0, 2018.0, 2019.0, 2020.0, 2021.0, 2022.0, 2023.0, 2024.0, 2025.0, 2026.0, 2027.0, 2028.0, 2029.0, 2030.0, 2031.0, 2032.0, 2033.0, 2034.0, 2035.0, 2036.0, 2037.0, 2038.0, 2039.0, 2040.0, 2041.0, 2042.0, 2043.0, 2044.0, 2045.0, 2046.0, 2047.0, 2048.0, 2049.0, 2050.0, 2051.0], \"xaxis\": \"x\", \"y\": [5.714538445275956, 5.730827295845252, 5.748832117022224, 5.768552908806404, 5.789989671198257, 5.813142404197317, 5.838011107803587, 5.864595782017529, 5.892896426838682, 5.922913042267508, 5.954645628303542, 5.988094184947249, 6.023258712198631, 6.060139210056754, 6.098735678522552, 6.139048117595558, 6.181076527276238, 6.224820907564126, 6.270281258459222, 6.317457579961992, 6.36634987207197, 6.416958134790089, 6.469282368114948, 6.5233225720474834, 6.579078746587226, 6.636550891734642, 6.6957390074888, 6.756643093851098, 6.819263150820605, 6.883599178397786, 6.949651176581708, 7.017419145373305, 7.086903084772576, 7.158102994779055, 7.231018875392742, 7.305650726614103, 7.381998548442672, 7.460062340879382, 7.539842103922832, 7.621337837573493, 7.704549541831825, 7.789477216697366, 7.876120862170581, 7.964480478251005, 8.054556064939101, 8.146347622234874, 8.239855150137386, 8.335078648647576, 8.43201811776497, 8.530673557490042, 8.63104496782232, 8.73313234876227, 8.83693570030943], \"yaxis\": \"y\"}, {\"hoverlabel\": {\"namelength\": 0}, \"hovertemplate\": \"Vehicle=Veer schip<br>Year=%{x}<br>VehicleCount=%{y}\", \"legendgroup\": \"Vehicle=Veer schip\", \"line\": {\"color\": \"#FFA15A\"}, \"mode\": \"lines\", \"name\": \"Vehicle=Veer schip\", \"orientation\": \"v\", \"showlegend\": true, \"stackgroup\": \"1\", \"type\": \"scatter\", \"x\": [1999.0, 2000.0, 2001.0, 2002.0, 2003.0, 2004.0, 2005.0, 2006.0, 2007.0, 2008.0, 2009.0, 2010.0, 2011.0, 2012.0, 2013.0, 2014.0, 2015.0, 2016.0, 2017.0, 2018.0, 2019.0, 2020.0, 2021.0, 2022.0, 2023.0, 2024.0, 2025.0, 2026.0, 2027.0, 2028.0, 2029.0, 2030.0, 2031.0, 2032.0, 2033.0, 2034.0, 2035.0, 2036.0, 2037.0, 2038.0, 2039.0, 2040.0, 2041.0, 2042.0, 2043.0, 2044.0, 2045.0, 2046.0, 2047.0, 2048.0, 2049.0, 2050.0, 2051.0], \"xaxis\": \"x\", \"y\": [7.524767365326988, 7.546216133649451, 7.56992445097174, 7.595892317293241, 7.624119732614567, 7.654606696935103, 7.687353210254852, 7.722359272574424, 7.759624883893211, 7.799150044211823, 7.840934753529645, 7.8849790118472916, 7.931282819164766, 7.979846175480835, 8.030669080796732, 8.083751535111839, 8.139093538426772, 8.196695090740917, 8.256556192054273, 8.318676842367454, 8.383057041679846, 8.449696789992679, 8.518596087304108, 8.589754933615364, 8.66317332892583, 8.738851273236122, 8.816788766545011, 8.896985808854339, 8.97944240016288, 9.064158540471245, 9.151134229778208, 9.240369468084996, 9.33186425539161, 9.425618591697436, 9.521632477002473, 9.619905911307336, 9.720438894611409, 9.823231426915923, 9.928283508219032, 10.035595138521357, 10.145166317823502, 10.25699704612486, 10.371087323426046, 10.487437149726443, 10.606046525026661, 10.72691544932671, 10.85004392262535, 10.975431944923823, 11.103079516221504, 11.232986636519012, 11.365153305815731, 11.499579524112272, 11.636265291408026], \"yaxis\": \"y\"}, {\"hoverlabel\": {\"namelength\": 0}, \"hovertemplate\": \"Vehicle=Steen storter schip<br>Year=%{x}<br>VehicleCount=%{y}\", \"legendgroup\": \"Vehicle=Steen storter schip\", \"line\": {\"color\": \"#19d3f3\"}, \"mode\": \"lines\", \"name\": \"Vehicle=Steen storter schip\", \"orientation\": \"v\", \"showlegend\": true, \"stackgroup\": \"1\", \"type\": \"scatter\", \"x\": [1999.0, 2000.0, 2001.0, 2002.0, 2003.0, 2004.0, 2005.0, 2006.0, 2007.0, 2008.0, 2009.0, 2010.0, 2011.0, 2012.0, 2013.0, 2014.0, 2015.0, 2016.0, 2017.0, 2018.0, 2019.0, 2020.0, 2021.0, 2022.0, 2023.0, 2024.0, 2025.0, 2026.0, 2027.0, 2028.0, 2029.0, 2030.0, 2031.0, 2032.0, 2033.0, 2034.0, 2035.0, 2036.0, 2037.0, 2038.0, 2039.0, 2040.0, 2041.0, 2042.0, 2043.0, 2044.0, 2045.0, 2046.0, 2047.0, 2048.0, 2049.0, 2050.0, 2051.0], \"xaxis\": \"x\", \"y\": [10.897957094003061, 10.92902087917395, 10.96335712007089, 11.000965816692998, 11.041846969041162, 11.086000577114488, 11.133426640912981, 11.184125160437528, 11.238096135687243, 11.295339566663014, 11.355855453363949, 11.419643795790936, 11.486704593943982, 11.5570378478213, 11.630643557424678, 11.707521722753219, 11.787672343807815, 11.871095420587576, 11.957790953092504, 12.047758941323485, 12.140999385279633, 12.237512284962726, 12.337297640370092, 12.44035545150352, 12.546685718362106, 12.65628844094675, 12.76916361925567, 12.885311253291533, 13.004731343052564, 13.127423888539647, 13.253388889751008, 13.382626346688424, 13.515136259351895, 13.650918627740532, 13.789973451854335, 13.932300731694193, 14.077900467259216, 14.226772658551182, 14.378917305567423, 14.534334408308837, 14.693023966776297, 14.854985980968925, 15.02022045088761, 15.18872737653146, 15.360506757901364, 15.535558594997326, 15.713882887817556, 15.895479636363852, 16.08034884063531, 16.268490500632822, 16.459904616355498, 16.65459118780423, 16.852550214978127], \"yaxis\": \"y\"}, {\"hoverlabel\": {\"namelength\": 0}, \"hovertemplate\": \"Vehicle=Meet- en peil vaartuig<br>Year=%{x}<br>VehicleCount=%{y}\", \"legendgroup\": \"Vehicle=Meet- en peil vaartuig\", \"line\": {\"color\": \"#FF6692\"}, \"mode\": \"lines\", \"name\": \"Vehicle=Meet- en peil vaartuig\", \"orientation\": \"v\", \"showlegend\": true, \"stackgroup\": \"1\", \"type\": \"scatter\", \"x\": [1999.0, 2000.0, 2001.0, 2002.0, 2003.0, 2004.0, 2005.0, 2006.0, 2007.0, 2008.0, 2009.0, 2010.0, 2011.0, 2012.0, 2013.0, 2014.0, 2015.0, 2016.0, 2017.0, 2018.0, 2019.0, 2020.0, 2021.0, 2022.0, 2023.0, 2024.0, 2025.0, 2026.0, 2027.0, 2028.0, 2029.0, 2030.0, 2031.0, 2032.0, 2033.0, 2034.0, 2035.0, 2036.0, 2037.0, 2038.0, 2039.0, 2040.0, 2041.0, 2042.0, 2043.0, 2044.0, 2045.0, 2046.0, 2047.0, 2048.0, 2049.0, 2050.0, 2051.0], \"xaxis\": \"x\", \"y\": [11.935851503165791, 11.969873726205188, 12.00748006553904, 12.048670521166372, 12.093445093088157, 12.14180378130342, 12.193746585812164, 12.24927350661536, 12.308384543712041, 12.371079697103173, 12.437358966787786, 12.507222352766851, 12.580669855040371, 12.657701473606396, 12.738317208466876, 12.822517059620836, 12.910301027069249, 13.001669110811143, 13.096621310846515, 13.195157627176343, 13.29727805979965, 13.402982608718386, 13.512271273929626, 13.625144055435323, 13.741600953234496, 13.861641967328126, 13.98526709771426, 14.112476344395821, 14.243269707370866, 14.37764718664036, 14.515608782202362, 14.657154494058817, 14.80228432220973, 14.95099826665412, 15.10329632739199, 15.259178504424314, 15.418644797750119, 15.58169520737135, 15.748329733285086, 15.918548375492307, 16.092351133993976, 16.269738008789126, 16.45070899987873, 16.63526410726182, 16.823403330939357, 17.01512667091135, 17.210434127175844, 17.409325699734804, 17.611801388587235, 17.817861193734124, 18.027505115174492, 18.24073315290931, 18.45754530693761], \"yaxis\": \"y\"}, {\"hoverlabel\": {\"namelength\": 0}, \"hovertemplate\": \"Vehicle=Ro-Ro Vessel<br>Year=%{x}<br>VehicleCount=%{y}\", \"legendgroup\": \"Vehicle=Ro-Ro Vessel\", \"line\": {\"color\": \"#B6E880\"}, \"mode\": \"lines\", \"name\": \"Vehicle=Ro-Ro Vessel\", \"orientation\": \"v\", \"showlegend\": true, \"stackgroup\": \"1\", \"type\": \"scatter\", \"x\": [1999.0, 2000.0, 2001.0, 2002.0, 2003.0, 2004.0, 2005.0, 2006.0, 2007.0, 2008.0, 2009.0, 2010.0, 2011.0, 2012.0, 2013.0, 2014.0, 2015.0, 2016.0, 2017.0, 2018.0, 2019.0, 2020.0, 2021.0, 2022.0, 2023.0, 2024.0, 2025.0, 2026.0, 2027.0, 2028.0, 2029.0, 2030.0, 2031.0, 2032.0, 2033.0, 2034.0, 2035.0, 2036.0, 2037.0, 2038.0, 2039.0, 2040.0, 2041.0, 2042.0, 2043.0, 2044.0, 2045.0, 2046.0, 2047.0, 2048.0, 2049.0, 2050.0, 2051.0], \"xaxis\": \"x\", \"y\": [15.724356910213562, 15.769177975372463, 15.818720775198285, 15.872985309689744, 15.931971578848122, 15.995679582672135, 16.064109321161787, 16.137260794318355, 16.215134002140566, 16.297728944629696, 16.38504562178446, 16.477084033606143, 16.573844180094746, 16.675326061247702, 16.78152967706758, 16.892455027553098, 17.00810211270553, 17.1284709325236, 17.25356148700731, 17.383373776157935, 17.5179077999742, 17.657163558458667, 17.801141051607487, 17.94984027942323, 18.103261241904608, 18.261403939052904, 18.424268370865555, 18.591854537346407, 18.7641624384929, 18.941192074306308, 19.12294344478407, 19.309416549928752, 19.500611389740357, 19.696527964217598, 19.897166273360476, 20.102526317170273, 20.312608095645707, 20.527411608789347, 20.746936856597333, 20.971183839070964, 21.200152556211506, 21.43384300801769, 21.672255194490795, 21.915389115629534, 22.163244771435192, 22.415822161907773, 22.6731212870447, 22.935142146848563, 23.20188474131805, 23.47334907045446, 23.74953513425651, 24.03044293272547, 24.316072465860078], \"yaxis\": \"y\"}, {\"hoverlabel\": {\"namelength\": 0}, \"hovertemplate\": \"Vehicle=Zuiger schip<br>Year=%{x}<br>VehicleCount=%{y}\", \"legendgroup\": \"Vehicle=Zuiger schip\", \"line\": {\"color\": \"#FF97FF\"}, \"mode\": \"lines\", \"name\": \"Vehicle=Zuiger schip\", \"orientation\": \"v\", \"showlegend\": true, \"stackgroup\": \"1\", \"type\": \"scatter\", \"x\": [1999.0, 2000.0, 2001.0, 2002.0, 2003.0, 2004.0, 2005.0, 2006.0, 2007.0, 2008.0, 2009.0, 2010.0, 2011.0, 2012.0, 2013.0, 2014.0, 2015.0, 2016.0, 2017.0, 2018.0, 2019.0, 2020.0, 2021.0, 2022.0, 2023.0, 2024.0, 2025.0, 2026.0, 2027.0, 2028.0, 2029.0, 2030.0, 2031.0, 2032.0, 2033.0, 2034.0, 2035.0, 2036.0, 2037.0, 2038.0, 2039.0, 2040.0, 2041.0, 2042.0, 2043.0, 2044.0, 2045.0, 2046.0, 2047.0, 2048.0, 2049.0, 2050.0, 2051.0], \"xaxis\": \"x\", \"y\": [18.215461406910713, 18.267383173077715, 18.324774706694672, 18.3876360077601, 18.455967076275478, 18.529767912239322, 18.60903851565164, 18.693778886513904, 18.783989024824645, 18.87966893058534, 18.9808186037945, 19.087438044453613, 19.19952725256268, 19.31708622811873, 19.440114971124736, 19.568613481579206, 19.702581759483635, 19.84201980483653, 19.986927617637892, 20.13730519788921, 20.293152545588992, 20.454469660740216, 20.621256543338422, 20.793513193386588, 20.971239610883217, 21.154435795829798, 21.343101748223365, 21.53723746806837, 21.736842955361844, 21.94191821010527, 22.15246323229568, 22.368478021936042, 22.589962579026363, 22.81691690356515, 23.049340995552406, 23.287234854989617, 23.53059848187529, 23.77943187621241, 24.033735037996507, 24.29350796722908, 24.558750663911596, 24.829463128042583, 25.10564535962353, 25.38729735865294, 25.674419125132307, 25.96701065906163, 26.265071960437922, 26.568603029264185, 26.87760386553891, 27.19207446926359, 27.512014840436738, 27.837424979059833, 28.168304885131406], \"yaxis\": \"y\"}, {\"hoverlabel\": {\"namelength\": 0}, \"hovertemplate\": \"Vehicle=Bevoorradings schip<br>Year=%{x}<br>VehicleCount=%{y}\", \"legendgroup\": \"Vehicle=Bevoorradings schip\", \"line\": {\"color\": \"#FECB52\"}, \"mode\": \"lines\", \"name\": \"Vehicle=Bevoorradings schip\", \"orientation\": \"v\", \"showlegend\": true, \"stackgroup\": \"1\", \"type\": \"scatter\", \"x\": [1999.0, 2000.0, 2001.0, 2002.0, 2003.0, 2004.0, 2005.0, 2006.0, 2007.0, 2008.0, 2009.0, 2010.0, 2011.0, 2012.0, 2013.0, 2014.0, 2015.0, 2016.0, 2017.0, 2018.0, 2019.0, 2020.0, 2021.0, 2022.0, 2023.0, 2024.0, 2025.0, 2026.0, 2027.0, 2028.0, 2029.0, 2030.0, 2031.0, 2032.0, 2033.0, 2034.0, 2035.0, 2036.0, 2037.0, 2038.0, 2039.0, 2040.0, 2041.0, 2042.0, 2043.0, 2044.0, 2045.0, 2046.0, 2047.0, 2048.0, 2049.0, 2050.0, 2051.0], \"xaxis\": \"x\", \"y\": [18.422066481385862, 18.47457715936389, 18.532619644489145, 18.596193936760127, 18.665300036178333, 18.73993794274226, 18.82010765645191, 18.905809177308786, 18.99704250531139, 19.093807640461222, 19.19610458275677, 19.30393333219955, 19.417293888789555, 19.536186252523777, 19.66061042340523, 19.790566401432407, 19.92605418660681, 20.067073778926932, 20.213625178392782, 20.365708385005856, 20.523323398764653, 20.686470219672184, 20.855148847723928, 21.029359282922908, 21.209101525267606, 21.39437557475953, 21.585181431395675, 21.78151909518055, 21.98338856611115, 22.190789844188973, 22.403722929411018, 22.622187821780287, 22.846184521296784, 23.075713027959008, 23.310773341766954, 23.551365462722128, 23.79748939082302, 24.04914512607265, 24.30633266846649, 24.569052018006065, 24.837303174692856, 25.111086138525373, 25.390400909505118, 25.67524748763059, 25.96562587290328, 26.261536065323206, 26.562978064887336, 26.869951871598715, 27.182457485455807, 27.500494906460126, 27.824064134610172, 28.15316516990743, 28.487798012350428], \"yaxis\": \"y\"}, {\"hoverlabel\": {\"namelength\": 0}, \"hovertemplate\": \"Vehicle=Bagger schip<br>Year=%{x}<br>VehicleCount=%{y}\", \"legendgroup\": \"Vehicle=Bagger schip\", \"line\": {\"color\": \"#636efa\"}, \"mode\": \"lines\", \"name\": \"Vehicle=Bagger schip\", \"orientation\": \"v\", \"showlegend\": true, \"stackgroup\": \"1\", \"type\": \"scatter\", \"x\": [1999.0, 2000.0, 2001.0, 2002.0, 2003.0, 2004.0, 2005.0, 2006.0, 2007.0, 2008.0, 2009.0, 2010.0, 2011.0, 2012.0, 2013.0, 2014.0, 2015.0, 2016.0, 2017.0, 2018.0, 2019.0, 2020.0, 2021.0, 2022.0, 2023.0, 2024.0, 2025.0, 2026.0, 2027.0, 2028.0, 2029.0, 2030.0, 2031.0, 2032.0, 2033.0, 2034.0, 2035.0, 2036.0, 2037.0, 2038.0, 2039.0, 2040.0, 2041.0, 2042.0, 2043.0, 2044.0, 2045.0, 2046.0, 2047.0, 2048.0, 2049.0, 2050.0, 2051.0], \"xaxis\": \"x\", \"y\": [18.629987511749384, 18.68309085256908, 18.741788435390585, 18.80608026021238, 18.875966327035975, 18.951446635859856, 19.032521186684026, 19.119189979509997, 19.21145301433626, 19.309310291164334, 19.412761809992684, 19.521807570822844, 19.63644757365481, 19.756681818485543, 19.882510305318082, 20.013933034150906, 20.15095000498554, 20.293561217820457, 20.44176667265566, 20.59556636949267, 20.754960308329963, 20.919948489170586, 21.090530912009974, 21.266707576851175, 21.448478483692654, 21.63584363253594, 21.828803023377997, 22.027356656223372, 22.23150453106904, 22.44124664791651, 22.656583006762748, 22.877513607610794, 23.104038450460646, 23.336157535310782, 23.573870862161208, 23.81717843101344, 24.066080241865954, 24.3205762947218, 24.580666589576403, 24.846351126431305, 25.117629905288, 25.394502926144987, 25.67697018900378, 25.965031693862862, 26.258687440723744, 26.55793742958644, 26.862781660447887, 27.173220133311162, 27.48925284817471, 27.81087980504007, 28.138101003905717, 28.470916444773163, 28.809326127640897], \"yaxis\": \"y\"}, {\"hoverlabel\": {\"namelength\": 0}, \"hovertemplate\": \"Vehicle=Zware lading schip<br>Year=%{x}<br>VehicleCount=%{y}\", \"legendgroup\": \"Vehicle=Zware lading schip\", \"line\": {\"color\": \"#EF553B\"}, \"mode\": \"lines\", \"name\": \"Vehicle=Zware lading schip\", \"orientation\": \"v\", \"showlegend\": true, \"stackgroup\": \"1\", \"type\": \"scatter\", \"x\": [1999.0, 2000.0, 2001.0, 2002.0, 2003.0, 2004.0, 2005.0, 2006.0, 2007.0, 2008.0, 2009.0, 2010.0, 2011.0, 2012.0, 2013.0, 2014.0, 2015.0, 2016.0, 2017.0, 2018.0, 2019.0, 2020.0, 2021.0, 2022.0, 2023.0, 2024.0, 2025.0, 2026.0, 2027.0, 2028.0, 2029.0, 2030.0, 2031.0, 2032.0, 2033.0, 2034.0, 2035.0, 2036.0, 2037.0, 2038.0, 2039.0, 2040.0, 2041.0, 2042.0, 2043.0, 2044.0, 2045.0, 2046.0, 2047.0, 2048.0, 2049.0, 2050.0, 2051.0], \"xaxis\": \"x\", \"y\": [19.56431619249686, 19.620082765073427, 19.6817241413401, 19.74924032129529, 19.822631304940582, 19.901897092274385, 19.987037683296702, 20.07805307800912, 20.17494327641006, 20.277708278501102, 20.386348084280655, 20.500862693750314, 20.621252106910084, 20.747516323756766, 20.879655344293557, 21.01766916851886, 21.16155779643427, 21.311321228038192, 21.466959463330625, 21.628472502313166, 21.795860344984217, 21.969122991346975, 22.148260441396644, 22.333272695136426, 22.524159752564714, 22.72092161368311, 22.923558278488425, 23.132069746985437, 23.34645601917097, 23.566717095046602, 23.79285297460915, 24.024863657861808, 24.262749144804577, 24.506509435435856, 24.756144529755645, 25.01165442776554, 25.273039129463946, 25.54029863485406, 25.813432943931083, 26.092442056696626, 26.377325973152267, 26.668084693296425, 26.964718217130688, 27.267226544653468, 27.575609675866346, 27.88986761076934, 28.210000349359238, 28.53600789163926, 28.867890237607785, 29.20564738726642, 29.549279340613566, 29.898786097650813, 30.254167658376577], \"yaxis\": \"y\"}, {\"hoverlabel\": {\"namelength\": 0}, \"hovertemplate\": \"Vehicle=Cruise schip<br>Year=%{x}<br>VehicleCount=%{y}\", \"legendgroup\": \"Vehicle=Cruise schip\", \"line\": {\"color\": \"#00cc96\"}, \"mode\": \"lines\", \"name\": \"Vehicle=Cruise schip\", \"orientation\": \"v\", \"showlegend\": true, \"stackgroup\": \"1\", \"type\": \"scatter\", \"x\": [1999.0, 2000.0, 2001.0, 2002.0, 2003.0, 2004.0, 2005.0, 2006.0, 2007.0, 2008.0, 2009.0, 2010.0, 2011.0, 2012.0, 2013.0, 2014.0, 2015.0, 2016.0, 2017.0, 2018.0, 2019.0, 2020.0, 2021.0, 2022.0, 2023.0, 2024.0, 2025.0, 2026.0, 2027.0, 2028.0, 2029.0, 2030.0, 2031.0, 2032.0, 2033.0, 2034.0, 2035.0, 2036.0, 2037.0, 2038.0, 2039.0, 2040.0, 2041.0, 2042.0, 2043.0, 2044.0, 2045.0, 2046.0, 2047.0, 2048.0, 2049.0, 2050.0, 2051.0], \"xaxis\": \"x\", \"y\": [20.794734948129108, 20.854008734357325, 20.91952679635813, 20.991289134129833, 21.06929574767412, 21.153546636989294, 21.24404180207537, 21.340781242934025, 21.44376495956358, 21.552992951965727, 21.66846522013876, 21.79018176408438, 21.918142583802595, 22.05234767929, 22.19279705055, 22.33949069758089, 22.492428620384366, 22.651610818958737, 22.817037293304, 22.988708043421852, 23.166623069310596, 23.35078237097363, 23.54118594840585, 23.73783380161067, 23.940725930586375, 24.14986233533467, 24.365243015852165, 24.58686797214394, 24.81473720420661, 25.04885071204187, 25.28920849564632, 25.535810555023364, 25.788656890172998, 26.04774750109352, 26.31308238778494, 26.58466155024895, 26.862484988483846, 27.146552702493032, 27.43686469227141, 27.733420957820687, 28.036221499142545, 28.345266316235296, 28.66055540910064, 28.982088777736877, 29.309866422145696, 29.643888342327113, 29.98415453827771, 30.330665010000917, 30.68341975749501, 31.04241878076169, 31.407662079799263, 31.779149654609416, 32.15688150519047], \"yaxis\": \"y\"}, {\"hoverlabel\": {\"namelength\": 0}, \"hovertemplate\": \"Vehicle=Koel schip<br>Year=%{x}<br>VehicleCount=%{y}\", \"legendgroup\": \"Vehicle=Koel schip\", \"line\": {\"color\": \"#ab63fa\"}, \"mode\": \"lines\", \"name\": \"Vehicle=Koel schip\", \"orientation\": \"v\", \"showlegend\": true, \"stackgroup\": \"1\", \"type\": \"scatter\", \"x\": [1999.0, 2000.0, 2001.0, 2002.0, 2003.0, 2004.0, 2005.0, 2006.0, 2007.0, 2008.0, 2009.0, 2010.0, 2011.0, 2012.0, 2013.0, 2014.0, 2015.0, 2016.0, 2017.0, 2018.0, 2019.0, 2020.0, 2021.0, 2022.0, 2023.0, 2024.0, 2025.0, 2026.0, 2027.0, 2028.0, 2029.0, 2030.0, 2031.0, 2032.0, 2033.0, 2034.0, 2035.0, 2036.0, 2037.0, 2038.0, 2039.0, 2040.0, 2041.0, 2042.0, 2043.0, 2044.0, 2045.0, 2046.0, 2047.0, 2048.0, 2049.0, 2050.0, 2051.0], \"xaxis\": \"x\", \"y\": [20.602605388426106, 20.661331524180373, 20.726244242740343, 20.79734354410433, 20.874629428274016, 20.958101895247715, 21.047760945025438, 21.143606577608853, 21.245638792996292, 21.35385759118943, 21.468262972186587, 21.588854935989435, 21.715633482597987, 21.848598612008875, 21.987750324225463, 22.13308861924607, 22.284613497072375, 22.442324957702695, 22.606223001137035, 22.776307627377072, 22.95257883642113, 23.135036628272566, 23.32368100292634, 23.518511960385815, 23.719529500649305, 23.926733623718494, 24.14012432959002, 24.35970161826892, 24.585465489751847, 24.81741594404047, 25.055552981131427, 25.299876601028082, 25.55038680373044, 25.807083589236818, 26.069966957547212, 26.339036908663303, 26.614293442583413, 26.895736559310905, 27.183366258840728, 27.477182541174578, 27.777185406314114, 28.083374854257674, 28.395750885006937, 28.714313498560216, 29.03906269491919, 29.369998474083868, 29.70712083605087, 30.050429780823592, 30.39992530840032, 30.75560741878275, 31.117476111969196, 31.485531387961334, 31.8597732467575], \"yaxis\": \"y\"}, {\"hoverlabel\": {\"namelength\": 0}, \"hovertemplate\": \"Vehicle=Offshore support vessel<br>Year=%{x}<br>VehicleCount=%{y}\", \"legendgroup\": \"Vehicle=Offshore support vessel\", \"line\": {\"color\": \"#FFA15A\"}, \"mode\": \"lines\", \"name\": \"Vehicle=Offshore support vessel\", \"orientation\": \"v\", \"showlegend\": true, \"stackgroup\": \"1\", \"type\": \"scatter\", \"x\": [1999.0, 2000.0, 2001.0, 2002.0, 2003.0, 2004.0, 2005.0, 2006.0, 2007.0, 2008.0, 2009.0, 2010.0, 2011.0, 2012.0, 2013.0, 2014.0, 2015.0, 2016.0, 2017.0, 2018.0, 2019.0, 2020.0, 2021.0, 2022.0, 2023.0, 2024.0, 2025.0, 2026.0, 2027.0, 2028.0, 2029.0, 2030.0, 2031.0, 2032.0, 2033.0, 2034.0, 2035.0, 2036.0, 2037.0, 2038.0, 2039.0, 2040.0, 2041.0, 2042.0, 2043.0, 2044.0, 2045.0, 2046.0, 2047.0, 2048.0, 2049.0, 2050.0, 2051.0], \"xaxis\": \"x\", \"y\": [21.225052523628296, 21.28555289687693, 21.352426762337693, 21.42567412000886, 21.50529496989215, 21.591289311985843, 21.683657146289935, 21.782398472806154, 21.887513291532777, 21.99900160247153, 22.11686340562068, 22.24109870098196, 22.371707488555373, 22.508689768337447, 22.65204554033166, 22.80177480453627, 22.957877560953005, 23.120353809580145, 23.28920355041768, 23.464426783467346, 23.64602350872741, 23.83399372620134, 24.028337435883934, 24.229054637778663, 24.436145331883786, 24.649609518201043, 24.869447196726966, 25.095658367466747, 25.32824303041693, 25.567201185579243, 25.812532832950225, 26.064237972533334, 26.32231660432858, 26.58676872833422, 26.857594344550265, 27.134793452978435, 27.418366053617003, 27.70831214646944, 28.004631731530534, 28.307324808802036, 28.616391378285662, 28.931831439979685, 29.253644993885846, 29.581832040002404, 29.916392578331088, 30.25732660887191, 30.604634131621385, 30.95831514658301, 31.318369653755024, 31.68479765313917, 32.05759914473372, 32.436774128540385, 32.82232260455746], \"yaxis\": \"y\"}, {\"hoverlabel\": {\"namelength\": 0}, \"hovertemplate\": \"Vehicle=Gas tanker<br>Year=%{x}<br>VehicleCount=%{y}\", \"legendgroup\": \"Vehicle=Gas tanker\", \"line\": {\"color\": \"#19d3f3\"}, \"mode\": \"lines\", \"name\": \"Vehicle=Gas tanker\", \"orientation\": \"v\", \"showlegend\": true, \"stackgroup\": \"1\", \"type\": \"scatter\", \"x\": [1999.0, 2000.0, 2001.0, 2002.0, 2003.0, 2004.0, 2005.0, 2006.0, 2007.0, 2008.0, 2009.0, 2010.0, 2011.0, 2012.0, 2013.0, 2014.0, 2015.0, 2016.0, 2017.0, 2018.0, 2019.0, 2020.0, 2021.0, 2022.0, 2023.0, 2024.0, 2025.0, 2026.0, 2027.0, 2028.0, 2029.0, 2030.0, 2031.0, 2032.0, 2033.0, 2034.0, 2035.0, 2036.0, 2037.0, 2038.0, 2039.0, 2040.0, 2041.0, 2042.0, 2043.0, 2044.0, 2045.0, 2046.0, 2047.0, 2048.0, 2049.0, 2050.0, 2051.0], \"xaxis\": \"x\", \"y\": [23.19767040030502, 23.263793568488225, 23.336882569687454, 23.416937403900814, 23.5039580711302, 23.597944571373706, 23.69889690463135, 23.806815070905014, 23.921699070192812, 24.043548902496635, 24.172364567814586, 24.308146066148556, 24.450893397498554, 24.600606561860786, 24.757285559239048, 24.920930389631437, 25.091541053039847, 25.26911754946239, 25.45365987889906, 25.645168041351756, 25.843642036818583, 26.049081865303325, 26.261487526800302, 26.48085902131331, 26.70719634884044, 26.9404995093836, 27.180768502938996, 27.4280033295123, 27.682203989099744, 27.94337048170321, 28.211502807318908, 28.486600965950633, 28.768664957598382, 29.057694782260263, 29.353690439936273, 29.656651930628307, 29.96657925433447, 30.28347241105855, 30.607331400794862, 30.938156223545317, 31.275946879311782, 31.620703368092382, 31.972425689889008, 32.331113844699765, 32.69676783252654, 33.06938765336935, 33.44897330722437, 33.83552479409545, 34.22904211398064, 34.629525266881856, 35.03697425279721, 35.45138907172857, 35.87276972367407], \"yaxis\": \"y\"}, {\"hoverlabel\": {\"namelength\": 0}, \"hovertemplate\": \"Vehicle=Werk schip<br>Year=%{x}<br>VehicleCount=%{y}\", \"legendgroup\": \"Vehicle=Werk schip\", \"line\": {\"color\": \"#FF6692\"}, \"mode\": \"lines\", \"name\": \"Vehicle=Werk schip\", \"orientation\": \"v\", \"showlegend\": true, \"stackgroup\": \"1\", \"type\": \"scatter\", \"x\": [1999.0, 2000.0, 2001.0, 2002.0, 2003.0, 2004.0, 2005.0, 2006.0, 2007.0, 2008.0, 2009.0, 2010.0, 2011.0, 2012.0, 2013.0, 2014.0, 2015.0, 2016.0, 2017.0, 2018.0, 2019.0, 2020.0, 2021.0, 2022.0, 2023.0, 2024.0, 2025.0, 2026.0, 2027.0, 2028.0, 2029.0, 2030.0, 2031.0, 2032.0, 2033.0, 2034.0, 2035.0, 2036.0, 2037.0, 2038.0, 2039.0, 2040.0, 2041.0, 2042.0, 2043.0, 2044.0, 2045.0, 2046.0, 2047.0, 2048.0, 2049.0, 2050.0, 2051.0], \"xaxis\": \"x\", \"y\": [47.01647197992385, 47.150488802753976, 47.29862380586528, 47.460876989253926, 47.637248352923734, 47.827737896870865, 48.032345621095345, 48.251071525600985, 48.483915610383974, 48.73087787544813, 48.991958320789614, 49.26715694641227, 49.5564737523161, 49.859908738493424, 50.17746190495192, 50.50913325168776, 50.85492277870476, 51.214830485999094, 51.58885637357077, 51.977000441423606, 52.379262689553784, 52.79564311796897, 53.22614172665765, 53.67075851562751, 54.12949348487469, 54.602346634403055, 55.089317964204916, 55.590407474291766, 56.10561516465597, 56.63494103530134, 57.1783850862202, 57.73594731742024, 58.30762772890145, 58.89342632066, 59.49334309269588, 60.10737804501293, 60.735531177607314, 61.37780249048671, 62.03419198363959, 62.704699657069824, 63.38932551078121, 64.08806954476994, 64.80093175903984, 65.52791215358708, 66.26901072841548, 67.02422748352505, 67.79356241890811, 68.57701553457238, 69.37458683051395, 70.18627630673672, 71.0120839632368, 71.85200980001804, 72.70605381707664], \"yaxis\": \"y\"}, {\"hoverlabel\": {\"namelength\": 0}, \"hovertemplate\": \"Vehicle=Snijkop zuiger<br>Year=%{x}<br>VehicleCount=%{y}\", \"legendgroup\": \"Vehicle=Snijkop zuiger\", \"line\": {\"color\": \"#B6E880\"}, \"mode\": \"lines\", \"name\": \"Vehicle=Snijkop zuiger\", \"orientation\": \"v\", \"showlegend\": true, \"stackgroup\": \"1\", \"type\": \"scatter\", \"x\": [1999.0, 2000.0, 2001.0, 2002.0, 2003.0, 2004.0, 2005.0, 2006.0, 2007.0, 2008.0, 2009.0, 2010.0, 2011.0, 2012.0, 2013.0, 2014.0, 2015.0, 2016.0, 2017.0, 2018.0, 2019.0, 2020.0, 2021.0, 2022.0, 2023.0, 2024.0, 2025.0, 2026.0, 2027.0, 2028.0, 2029.0, 2030.0, 2031.0, 2032.0, 2033.0, 2034.0, 2035.0, 2036.0, 2037.0, 2038.0, 2039.0, 2040.0, 2041.0, 2042.0, 2043.0, 2044.0, 2045.0, 2046.0, 2047.0, 2048.0, 2049.0, 2050.0, 2051.0], \"xaxis\": \"x\", \"y\": [26.36254431185106, 26.437688708731827, 26.520749291953074, 26.611726061512652, 26.71061901741271, 26.817428159651094, 26.93215348822781, 27.054795003145006, 27.185352704400536, 27.323826591996546, 27.470216665930884, 27.6245229262057, 27.786745372821, 27.956884005772473, 28.134938825064435, 28.32090983069472, 28.51479702266549, 28.71660040097459, 28.926319965622017, 29.143955716609923, 29.36950765393616, 29.60297577760503, 29.84436008761008, 30.093660583955614, 30.350877266639472, 30.61601013566381, 30.88905919102433, 31.170024432727477, 31.458905860768958, 31.755703475150916, 32.06041727586906, 32.37304726292767, 32.69359343632678, 33.02205579606421, 33.35843434213997, 33.70272907455621, 34.05493999331078, 34.41506709840799, 34.78311038984136, 35.15906986761308, 35.542945531725266, 35.93473738217578, 36.33444541896679, 36.74206964209612, 37.157610051565925, 37.581066647376225, 38.012439429522686, 38.45172839800965, 38.89893355283493, 39.3540548940007, 39.81709242150479, 40.288046135349354, 40.76691603553226], \"yaxis\": \"y\"}, {\"hoverlabel\": {\"namelength\": 0}, \"hovertemplate\": \"Vehicle=Splijtbak - Omnibarge<br>Year=%{x}<br>VehicleCount=%{y}\", \"legendgroup\": \"Vehicle=Splijtbak - Omnibarge\", \"line\": {\"color\": \"#FF97FF\"}, \"mode\": \"lines\", \"name\": \"Vehicle=Splijtbak - Omnibarge\", \"orientation\": \"v\", \"showlegend\": true, \"stackgroup\": \"1\", \"type\": \"scatter\", \"x\": [1999.0, 2000.0, 2001.0, 2002.0, 2003.0, 2004.0, 2005.0, 2006.0, 2007.0, 2008.0, 2009.0, 2010.0, 2011.0, 2012.0, 2013.0, 2014.0, 2015.0, 2016.0, 2017.0, 2018.0, 2019.0, 2020.0, 2021.0, 2022.0, 2023.0, 2024.0, 2025.0, 2026.0, 2027.0, 2028.0, 2029.0, 2030.0, 2031.0, 2032.0, 2033.0, 2034.0, 2035.0, 2036.0, 2037.0, 2038.0, 2039.0, 2040.0, 2041.0, 2042.0, 2043.0, 2044.0, 2045.0, 2046.0, 2047.0, 2048.0, 2049.0, 2050.0, 2051.0], \"xaxis\": \"x\", \"y\": [27.296872992598537, 27.374680621236173, 27.46068499790259, 27.554886122595565, 27.657283995317318, 27.767878616065623, 27.886669984840488, 28.013658101644126, 28.14884296647433, 28.29222457933332, 28.443802940218852, 28.60357804913317, 28.77154990607627, 28.947718511043696, 29.13208386403991, 29.324645965062675, 29.525404814114225, 29.734360411192327, 29.95151275629698, 30.17686184943042, 30.410407690590414, 30.65215027978142, 30.902089616996747, 31.160225702240865, 31.426558535511532, 31.701088116810983, 31.983814446134758, 32.27473752348954, 32.57385734887089, 32.88117392228101, 33.19668724371546, 33.52039731317869, 33.85230413067071, 34.19240769618928, 34.5407080097344, 34.89720507130831, 35.261898880908774, 35.634789438540245, 36.01587674419604, 36.4051607978784, 36.802641599589535, 37.208319149327224, 37.6221934470937, 38.044264492886725, 38.47453228670853, 38.91299682855913, 39.359658118434034, 39.814516156337746, 40.277570942268, 40.74882247622704, 41.22827075821264, 41.71591578822701, 42.21175756626794], \"yaxis\": \"y\"}, {\"hoverlabel\": {\"namelength\": 0}, \"hovertemplate\": \"Vehicle=Olie-chemicalien tanker<br>Year=%{x}<br>VehicleCount=%{y}\", \"legendgroup\": \"Vehicle=Olie-chemicalien tanker\", \"line\": {\"color\": \"#FECB52\"}, \"mode\": \"lines\", \"name\": \"Vehicle=Olie-chemicalien tanker\", \"orientation\": \"v\", \"showlegend\": true, \"stackgroup\": \"1\", \"type\": \"scatter\", \"x\": [1999.0, 2000.0, 2001.0, 2002.0, 2003.0, 2004.0, 2005.0, 2006.0, 2007.0, 2008.0, 2009.0, 2010.0, 2011.0, 2012.0, 2013.0, 2014.0, 2015.0, 2016.0, 2017.0, 2018.0, 2019.0, 2020.0, 2021.0, 2022.0, 2023.0, 2024.0, 2025.0, 2026.0, 2027.0, 2028.0, 2029.0, 2030.0, 2031.0, 2032.0, 2033.0, 2034.0, 2035.0, 2036.0, 2037.0, 2038.0, 2039.0, 2040.0, 2041.0, 2042.0, 2043.0, 2044.0, 2045.0, 2046.0, 2047.0, 2048.0, 2049.0, 2050.0, 2051.0], \"xaxis\": \"x\", \"y\": [62.84478940531918, 63.02392362472904, 63.2219289765143, 63.4388054606698, 63.674553077200684, 63.92917182610181, 64.2026617073732, 64.49502272101995, 64.80625486703698, 65.13635814542938, 65.48533255619203, 65.85317809933007, 66.23989477484348, 66.64548258272201, 67.06994152297594, 67.51327159560012, 67.97547280059966, 68.45654513796947, 68.95648860770952, 69.47530320982496, 70.01298894431065, 70.56954581117685, 71.14497381040816, 71.73927294201488, 72.35244320599183, 72.98448460234417, 73.63539713106164, 74.30518079215959, 74.99383558562782, 75.70136151147142, 76.42775856968015, 77.17302676026425, 77.93716608322374, 78.72017653855349, 79.5220581262535, 80.34281084632887, 81.1824346987745, 82.04092968360064, 82.91829580079188, 83.81453305035342, 84.7296414322903, 85.66362094659745, 86.61647159327997, 87.58819337233275, 88.5787862837609, 89.58825032756445, 90.61658550373309, 91.66379181227717, 92.72986925319147, 93.81481782648116, 94.91863753214109, 96.04132837017639, 97.18289034058196], \"yaxis\": \"y\"}, {\"hoverlabel\": {\"namelength\": 0}, \"hovertemplate\": \"Vehicle=Sleephopper zuiger<br>Year=%{x}<br>VehicleCount=%{y}\", \"legendgroup\": \"Vehicle=Sleephopper zuiger\", \"line\": {\"color\": \"#636efa\"}, \"mode\": \"lines\", \"name\": \"Vehicle=Sleephopper zuiger\", \"orientation\": \"v\", \"showlegend\": true, \"stackgroup\": \"1\", \"type\": \"scatter\", \"x\": [1999.0, 2000.0, 2001.0, 2002.0, 2003.0, 2004.0, 2005.0, 2006.0, 2007.0, 2008.0, 2009.0, 2010.0, 2011.0, 2012.0, 2013.0, 2014.0, 2015.0, 2016.0, 2017.0, 2018.0, 2019.0, 2020.0, 2021.0, 2022.0, 2023.0, 2024.0, 2025.0, 2026.0, 2027.0, 2028.0, 2029.0, 2030.0, 2031.0, 2032.0, 2033.0, 2034.0, 2035.0, 2036.0, 2037.0, 2038.0, 2039.0, 2040.0, 2041.0, 2042.0, 2043.0, 2044.0, 2045.0, 2046.0, 2047.0, 2048.0, 2049.0, 2050.0, 2051.0], \"xaxis\": \"x\", \"y\": [70.99187231025952, 71.19422916038316, 71.41790356177269, 71.66289551442236, 71.92920501833791, 72.21683207351357, 72.52577667994937, 72.85603883765106, 73.20761854661286, 73.5805158068406, 73.97473061832842, 74.39026298108215, 74.82711289510179, 75.28528036037575, 75.76476537691563, 76.26556794471563, 76.78768806378152, 77.33112573410753, 77.89588095569364, 78.48195372854568, 79.08934405265781, 79.71805192804166, 80.36807735467983, 81.0394203325839, 81.73208086174809, 82.44605894217818, 83.18135457386259, 83.9379677568187, 84.71589849103493, 85.51514677651707, 86.33571261325352, 87.17759600125588, 88.04079694052416, 88.92531543105255, 89.83115147284106, 90.75830506589546, 91.70677621020998, 92.67656490579621, 93.66767115263674, 94.68009495073741, 95.71383630010396, 96.76889520073064, 97.84527165262323, 98.94296565577594, 100.06197721019453, 101.20230631587906, 102.36395297281786, 103.54691718102264, 104.75119894048748, 105.97679825121826, 107.22371511320914, 108.4919495264659, 109.7815014909828], \"yaxis\": \"y\"}, {\"hoverlabel\": {\"namelength\": 0}, \"hovertemplate\": \"Vehicle=Transport ponton<br>Year=%{x}<br>VehicleCount=%{y}\", \"legendgroup\": \"Vehicle=Transport ponton\", \"line\": {\"color\": \"#EF553B\"}, \"mode\": \"lines\", \"name\": \"Vehicle=Transport ponton\", \"orientation\": \"v\", \"showlegend\": true, \"stackgroup\": \"1\", \"type\": \"scatter\", \"x\": [1999.0, 2000.0, 2001.0, 2002.0, 2003.0, 2004.0, 2005.0, 2006.0, 2007.0, 2008.0, 2009.0, 2010.0, 2011.0, 2012.0, 2013.0, 2014.0, 2015.0, 2016.0, 2017.0, 2018.0, 2019.0, 2020.0, 2021.0, 2022.0, 2023.0, 2024.0, 2025.0, 2026.0, 2027.0, 2028.0, 2029.0, 2030.0, 2031.0, 2032.0, 2033.0, 2034.0, 2035.0, 2036.0, 2037.0, 2038.0, 2039.0, 2040.0, 2041.0, 2042.0, 2043.0, 2044.0, 2045.0, 2046.0, 2047.0, 2048.0, 2049.0, 2050.0, 2051.0], \"xaxis\": \"x\", \"y\": [73.89881886768372, 74.10946174449879, 74.34229507507196, 74.5973188593972, 74.87453309748055, 75.17393778931596, 75.49553293490345, 75.83931853424902, 76.20529458734669, 76.59346109420245, 77.00381805481028, 77.43636546917621, 77.89110333730024, 78.36803165917031, 78.86715043479849, 79.38845966417874, 79.93195934731708, 80.4976494842075, 81.08553007484998, 81.69560111925057, 82.32786261740323, 82.98231456932002, 83.65895697498284, 84.35778983440379, 85.0788131475768, 85.8220269145079, 86.58743113518504, 87.37502580962631, 88.18481093781966, 89.01678651977112, 89.87095255546859, 90.74730904492418, 91.64585598813788, 92.56659338510364, 93.50952123582148, 94.47463954029742, 95.46194829852543, 96.47144751051758, 97.50313717625573, 98.55701729574601, 99.63308786899434, 100.73134889599476, 101.85180037675329, 102.99444231126388, 104.15927469953257, 105.34629754155938, 106.55551083733218, 107.78691458686315, 109.04050879014616, 110.31629344718728, 111.61426855798047, 112.93443412253173, 114.27679014083509], \"yaxis\": \"y\"}, {\"hoverlabel\": {\"namelength\": 0}, \"hovertemplate\": \"Vehicle=Container schip<br>Year=%{x}<br>VehicleCount=%{y}\", \"legendgroup\": \"Vehicle=Container schip\", \"line\": {\"color\": \"#00cc96\"}, \"mode\": \"lines\", \"name\": \"Vehicle=Container schip\", \"orientation\": \"v\", \"showlegend\": true, \"stackgroup\": \"1\", \"type\": \"scatter\", \"x\": [1999.0, 2000.0, 2001.0, 2002.0, 2003.0, 2004.0, 2005.0, 2006.0, 2007.0, 2008.0, 2009.0, 2010.0, 2011.0, 2012.0, 2013.0, 2014.0, 2015.0, 2016.0, 2017.0, 2018.0, 2019.0, 2020.0, 2021.0, 2022.0, 2023.0, 2024.0, 2025.0, 2026.0, 2027.0, 2028.0, 2029.0, 2030.0, 2031.0, 2032.0, 2033.0, 2034.0, 2035.0, 2036.0, 2037.0, 2038.0, 2039.0, 2040.0, 2041.0, 2042.0, 2043.0, 2044.0, 2045.0, 2046.0, 2047.0, 2048.0, 2049.0, 2050.0, 2051.0], \"xaxis\": \"x\", \"y\": [94.70802933058498, 94.97798725496534, 95.27638425560679, 95.60322033250158, 95.95849548565744, 96.34220971506662, 96.75436302072916, 97.19495540265277, 97.66398686082974, 98.16145739526777, 98.68736700595915, 99.24171569291158, 99.82450345612511, 100.43573029558424, 101.07539621130445, 101.74350120327802, 102.44004527151263, 103.16502841600061, 103.91845063674192, 104.7003119337443, 105.51061230700003, 106.34935175652456, 107.2165302822947, 108.11214788432594, 109.0362045626105, 109.98870031715613, 110.96963514794739, 111.97900905500741, 113.01682203832083, 114.08307409789529, 115.17776523371536, 116.30089544579651, 117.45246473413876, 118.63247309873434, 119.84092053958325, 121.07780705669325, 122.34313265005657, 123.63689731968873, 124.95910106556646, 126.30974388769758, 127.68882578608972, 129.09634676073523, 130.53230681164183, 131.99670593880177, 133.48954414222274, 135.01082142190484, 136.56053777783248, 138.13869321002127, 139.74528771846337, 141.38032130316657, 143.0437939641231, 144.73570570134066, 146.45605651481162], \"yaxis\": \"y\"}, {\"hoverlabel\": {\"namelength\": 0}, \"hovertemplate\": \"Vehicle=Kust en zeesleepboot<br>Year=%{x}<br>VehicleCount=%{y}\", \"legendgroup\": \"Vehicle=Kust en zeesleepboot\", \"line\": {\"color\": \"#ab63fa\"}, \"mode\": \"lines\", \"name\": \"Vehicle=Kust en zeesleepboot\", \"orientation\": \"v\", \"showlegend\": true, \"stackgroup\": \"1\", \"type\": \"scatter\", \"x\": [1999.0, 2000.0, 2001.0, 2002.0, 2003.0, 2004.0, 2005.0, 2006.0, 2007.0, 2008.0, 2009.0, 2010.0, 2011.0, 2012.0, 2013.0, 2014.0, 2015.0, 2016.0, 2017.0, 2018.0, 2019.0, 2020.0, 2021.0, 2022.0, 2023.0, 2024.0, 2025.0, 2026.0, 2027.0, 2028.0, 2029.0, 2030.0, 2031.0, 2032.0, 2033.0, 2034.0, 2035.0, 2036.0, 2037.0, 2038.0, 2039.0, 2040.0, 2041.0, 2042.0, 2043.0, 2044.0, 2045.0, 2046.0, 2047.0, 2048.0, 2049.0, 2050.0, 2051.0], \"xaxis\": \"x\", \"y\": [146.45273081744645, 146.87018301775893, 147.33161227481943, 147.83701858861593, 148.38640195916042, 148.97976238644088, 149.6170998704574, 150.29841441122187, 151.0237060087224, 151.7929746629709, 152.60622037395538, 153.46344314168783, 154.36464296616828, 155.30981984737278, 156.29897378532524, 157.33210478001376, 158.40921283145022, 159.53029793962273, 160.69536010453123, 161.90439932618773, 163.15741560458022, 164.45440893973264, 165.79537933160913, 167.18032678023363, 168.6092512855941, 170.08215284770256, 171.5990314665351, 173.15988714212753, 174.76471987445603, 176.41352966353244, 178.10631650933297, 179.84308041188143, 181.6238213711779, 183.4485393872104, 185.3172344599789, 187.22990658949536, 189.18655577574785, 191.1871820187603, 193.23178531849675, 195.32036567496928, 197.45292308818972, 199.6294575581462, 201.8499690848507, 204.11445766829118, 206.42292330847962, 208.77536600541606, 211.1717857590765, 213.61218256948504, 216.09655643662953, 218.624907360522, 221.1972353411505, 223.81354037852694, 226.4738224726394], \"yaxis\": \"y\"}, {\"hoverlabel\": {\"namelength\": 0}, \"hovertemplate\": \"Vehicle=Multi purpose vessel<br>Year=%{x}<br>VehicleCount=%{y}\", \"legendgroup\": \"Vehicle=Multi purpose vessel\", \"line\": {\"color\": \"#FFA15A\"}, \"mode\": \"lines\", \"name\": \"Vehicle=Multi purpose vessel\", \"orientation\": \"v\", \"showlegend\": true, \"stackgroup\": \"1\", \"type\": \"scatter\", \"x\": [1999.0, 2000.0, 2001.0, 2002.0, 2003.0, 2004.0, 2005.0, 2006.0, 2007.0, 2008.0, 2009.0, 2010.0, 2011.0, 2012.0, 2013.0, 2014.0, 2015.0, 2016.0, 2017.0, 2018.0, 2019.0, 2020.0, 2021.0, 2022.0, 2023.0, 2024.0, 2025.0, 2026.0, 2027.0, 2028.0, 2029.0, 2030.0, 2031.0, 2032.0, 2033.0, 2034.0, 2035.0, 2036.0, 2037.0, 2038.0, 2039.0, 2040.0, 2041.0, 2042.0, 2043.0, 2044.0, 2045.0, 2046.0, 2047.0, 2048.0, 2049.0, 2050.0, 2051.0], \"xaxis\": \"x\", \"y\": [539.2392443801332, 540.7763042069105, 542.4752876435685, 544.3361946900633, 546.3590253464386, 548.5437796126505, 550.8904574886991, 553.3990589746281, 556.0695840703942, 558.9020327760406, 561.8964050915238, 565.0527010168875, 568.3709205521319, 571.8510636971689, 575.4931304520866, 579.2971208168409, 583.2630347914759, 587.3908723759474, 591.6806335702556, 596.1323183744445, 600.74592678847, 605.5214588124201, 610.4589144461628, 615.5582936897863, 620.8195965432463, 626.242823006587, 631.8279730797203, 637.5750467627781, 643.4840440556728, 649.554964958448, 655.7878094710159, 662.1825775934643, 668.7392693257934, 675.4578846679592, 682.3384236199616, 689.3808861818447, 696.5852723535644, 703.9515821352088, 711.4798155266457, 719.1699725279194, 727.0220531390735, 735.0360573600643, 743.2119851909358, 751.549836631644, 760.0496116822327, 768.7113103427022, 777.534932612964, 786.5204784931069, 795.6679479830863, 804.9773410829463, 814.4486577926428, 824.08189811222, 833.8770620416338], \"yaxis\": \"y\"}],\n",
       "                        {\"height\": 500, \"legend\": {\"font\": {\"size\": 10}, \"tracegroupgap\": 0, \"traceorder\": \"reversed\", \"y\": 0.5}, \"margin\": {\"t\": 60}, \"template\": {\"data\": {\"bar\": [{\"error_x\": {\"color\": \"#2a3f5f\"}, \"error_y\": {\"color\": \"#2a3f5f\"}, \"marker\": {\"line\": {\"color\": \"#E5ECF6\", \"width\": 0.5}}, \"type\": \"bar\"}], \"barpolar\": [{\"marker\": {\"line\": {\"color\": \"#E5ECF6\", \"width\": 0.5}}, \"type\": \"barpolar\"}], \"carpet\": [{\"aaxis\": {\"endlinecolor\": \"#2a3f5f\", \"gridcolor\": \"white\", \"linecolor\": \"white\", \"minorgridcolor\": \"white\", \"startlinecolor\": \"#2a3f5f\"}, \"baxis\": {\"endlinecolor\": \"#2a3f5f\", \"gridcolor\": \"white\", \"linecolor\": \"white\", \"minorgridcolor\": \"white\", \"startlinecolor\": \"#2a3f5f\"}, \"type\": \"carpet\"}], \"choropleth\": [{\"colorbar\": {\"outlinewidth\": 0, \"ticks\": \"\"}, \"type\": \"choropleth\"}], \"contour\": [{\"colorbar\": {\"outlinewidth\": 0, \"ticks\": \"\"}, \"colorscale\": [[0.0, \"#0d0887\"], [0.1111111111111111, \"#46039f\"], [0.2222222222222222, \"#7201a8\"], [0.3333333333333333, \"#9c179e\"], [0.4444444444444444, \"#bd3786\"], [0.5555555555555556, \"#d8576b\"], [0.6666666666666666, \"#ed7953\"], [0.7777777777777778, \"#fb9f3a\"], [0.8888888888888888, \"#fdca26\"], [1.0, \"#f0f921\"]], \"type\": \"contour\"}], \"contourcarpet\": [{\"colorbar\": {\"outlinewidth\": 0, \"ticks\": \"\"}, \"type\": \"contourcarpet\"}], \"heatmap\": [{\"colorbar\": {\"outlinewidth\": 0, \"ticks\": \"\"}, \"colorscale\": [[0.0, \"#0d0887\"], [0.1111111111111111, \"#46039f\"], [0.2222222222222222, \"#7201a8\"], [0.3333333333333333, \"#9c179e\"], [0.4444444444444444, \"#bd3786\"], [0.5555555555555556, \"#d8576b\"], [0.6666666666666666, \"#ed7953\"], [0.7777777777777778, \"#fb9f3a\"], [0.8888888888888888, \"#fdca26\"], [1.0, \"#f0f921\"]], \"type\": \"heatmap\"}], \"heatmapgl\": [{\"colorbar\": {\"outlinewidth\": 0, \"ticks\": \"\"}, \"colorscale\": [[0.0, \"#0d0887\"], [0.1111111111111111, \"#46039f\"], [0.2222222222222222, \"#7201a8\"], [0.3333333333333333, \"#9c179e\"], [0.4444444444444444, \"#bd3786\"], [0.5555555555555556, \"#d8576b\"], [0.6666666666666666, \"#ed7953\"], [0.7777777777777778, \"#fb9f3a\"], [0.8888888888888888, \"#fdca26\"], [1.0, \"#f0f921\"]], \"type\": \"heatmapgl\"}], \"histogram\": [{\"marker\": {\"colorbar\": {\"outlinewidth\": 0, \"ticks\": \"\"}}, \"type\": \"histogram\"}], \"histogram2d\": [{\"colorbar\": {\"outlinewidth\": 0, \"ticks\": \"\"}, \"colorscale\": [[0.0, \"#0d0887\"], [0.1111111111111111, \"#46039f\"], [0.2222222222222222, \"#7201a8\"], [0.3333333333333333, \"#9c179e\"], [0.4444444444444444, \"#bd3786\"], [0.5555555555555556, \"#d8576b\"], [0.6666666666666666, \"#ed7953\"], [0.7777777777777778, \"#fb9f3a\"], [0.8888888888888888, \"#fdca26\"], [1.0, \"#f0f921\"]], \"type\": \"histogram2d\"}], \"histogram2dcontour\": [{\"colorbar\": {\"outlinewidth\": 0, \"ticks\": \"\"}, \"colorscale\": [[0.0, \"#0d0887\"], [0.1111111111111111, \"#46039f\"], [0.2222222222222222, \"#7201a8\"], [0.3333333333333333, \"#9c179e\"], [0.4444444444444444, \"#bd3786\"], [0.5555555555555556, \"#d8576b\"], [0.6666666666666666, \"#ed7953\"], [0.7777777777777778, \"#fb9f3a\"], [0.8888888888888888, \"#fdca26\"], [1.0, \"#f0f921\"]], \"type\": \"histogram2dcontour\"}], \"mesh3d\": [{\"colorbar\": {\"outlinewidth\": 0, \"ticks\": \"\"}, \"type\": \"mesh3d\"}], \"parcoords\": [{\"line\": {\"colorbar\": {\"outlinewidth\": 0, \"ticks\": \"\"}}, \"type\": \"parcoords\"}], \"scatter\": [{\"marker\": {\"colorbar\": {\"outlinewidth\": 0, \"ticks\": \"\"}}, \"type\": \"scatter\"}], \"scatter3d\": [{\"line\": {\"colorbar\": {\"outlinewidth\": 0, \"ticks\": \"\"}}, \"marker\": {\"colorbar\": {\"outlinewidth\": 0, \"ticks\": \"\"}}, \"type\": \"scatter3d\"}], \"scattercarpet\": [{\"marker\": {\"colorbar\": {\"outlinewidth\": 0, \"ticks\": \"\"}}, \"type\": \"scattercarpet\"}], \"scattergeo\": [{\"marker\": {\"colorbar\": {\"outlinewidth\": 0, \"ticks\": \"\"}}, \"type\": \"scattergeo\"}], \"scattergl\": [{\"marker\": {\"colorbar\": {\"outlinewidth\": 0, \"ticks\": \"\"}}, \"type\": \"scattergl\"}], \"scattermapbox\": [{\"marker\": {\"colorbar\": {\"outlinewidth\": 0, \"ticks\": \"\"}}, \"type\": \"scattermapbox\"}], \"scatterpolar\": [{\"marker\": {\"colorbar\": {\"outlinewidth\": 0, \"ticks\": \"\"}}, \"type\": \"scatterpolar\"}], \"scatterpolargl\": [{\"marker\": {\"colorbar\": {\"outlinewidth\": 0, \"ticks\": \"\"}}, \"type\": \"scatterpolargl\"}], \"scatterternary\": [{\"marker\": {\"colorbar\": {\"outlinewidth\": 0, \"ticks\": \"\"}}, \"type\": \"scatterternary\"}], \"surface\": [{\"colorbar\": {\"outlinewidth\": 0, \"ticks\": \"\"}, \"colorscale\": [[0.0, \"#0d0887\"], [0.1111111111111111, \"#46039f\"], [0.2222222222222222, \"#7201a8\"], [0.3333333333333333, \"#9c179e\"], [0.4444444444444444, \"#bd3786\"], [0.5555555555555556, \"#d8576b\"], [0.6666666666666666, \"#ed7953\"], [0.7777777777777778, \"#fb9f3a\"], [0.8888888888888888, \"#fdca26\"], [1.0, \"#f0f921\"]], \"type\": \"surface\"}], \"table\": [{\"cells\": {\"fill\": {\"color\": \"#EBF0F8\"}, \"line\": {\"color\": \"white\"}}, \"header\": {\"fill\": {\"color\": \"#C8D4E3\"}, \"line\": {\"color\": \"white\"}}, \"type\": \"table\"}]}, \"layout\": {\"annotationdefaults\": {\"arrowcolor\": \"#2a3f5f\", \"arrowhead\": 0, \"arrowwidth\": 1}, \"colorscale\": {\"diverging\": [[0, \"#8e0152\"], [0.1, \"#c51b7d\"], [0.2, \"#de77ae\"], [0.3, \"#f1b6da\"], [0.4, \"#fde0ef\"], [0.5, \"#f7f7f7\"], [0.6, \"#e6f5d0\"], [0.7, \"#b8e186\"], [0.8, \"#7fbc41\"], [0.9, \"#4d9221\"], [1, \"#276419\"]], \"sequential\": [[0.0, \"#0d0887\"], [0.1111111111111111, \"#46039f\"], [0.2222222222222222, \"#7201a8\"], [0.3333333333333333, \"#9c179e\"], [0.4444444444444444, \"#bd3786\"], [0.5555555555555556, \"#d8576b\"], [0.6666666666666666, \"#ed7953\"], [0.7777777777777778, \"#fb9f3a\"], [0.8888888888888888, \"#fdca26\"], [1.0, \"#f0f921\"]], \"sequentialminus\": [[0.0, \"#0d0887\"], [0.1111111111111111, \"#46039f\"], [0.2222222222222222, \"#7201a8\"], [0.3333333333333333, \"#9c179e\"], [0.4444444444444444, \"#bd3786\"], [0.5555555555555556, \"#d8576b\"], [0.6666666666666666, \"#ed7953\"], [0.7777777777777778, \"#fb9f3a\"], [0.8888888888888888, \"#fdca26\"], [1.0, \"#f0f921\"]]}, \"colorway\": [\"#636efa\", \"#EF553B\", \"#00cc96\", \"#ab63fa\", \"#FFA15A\", \"#19d3f3\", \"#FF6692\", \"#B6E880\", \"#FF97FF\", \"#FECB52\"], \"font\": {\"color\": \"#2a3f5f\"}, \"geo\": {\"bgcolor\": \"white\", \"lakecolor\": \"white\", \"landcolor\": \"#E5ECF6\", \"showlakes\": true, \"showland\": true, \"subunitcolor\": \"white\"}, \"hoverlabel\": {\"align\": \"left\"}, \"hovermode\": \"closest\", \"mapbox\": {\"style\": \"light\"}, \"paper_bgcolor\": \"white\", \"plot_bgcolor\": \"#E5ECF6\", \"polar\": {\"angularaxis\": {\"gridcolor\": \"white\", \"linecolor\": \"white\", \"ticks\": \"\"}, \"bgcolor\": \"#E5ECF6\", \"radialaxis\": {\"gridcolor\": \"white\", \"linecolor\": \"white\", \"ticks\": \"\"}}, \"scene\": {\"xaxis\": {\"backgroundcolor\": \"#E5ECF6\", \"gridcolor\": \"white\", \"gridwidth\": 2, \"linecolor\": \"white\", \"showbackground\": true, \"ticks\": \"\", \"zerolinecolor\": \"white\"}, \"yaxis\": {\"backgroundcolor\": \"#E5ECF6\", \"gridcolor\": \"white\", \"gridwidth\": 2, \"linecolor\": \"white\", \"showbackground\": true, \"ticks\": \"\", \"zerolinecolor\": \"white\"}, \"zaxis\": {\"backgroundcolor\": \"#E5ECF6\", \"gridcolor\": \"white\", \"gridwidth\": 2, \"linecolor\": \"white\", \"showbackground\": true, \"ticks\": \"\", \"zerolinecolor\": \"white\"}}, \"shapedefaults\": {\"line\": {\"color\": \"#2a3f5f\"}}, \"ternary\": {\"aaxis\": {\"gridcolor\": \"white\", \"linecolor\": \"white\", \"ticks\": \"\"}, \"baxis\": {\"gridcolor\": \"white\", \"linecolor\": \"white\", \"ticks\": \"\"}, \"bgcolor\": \"#E5ECF6\", \"caxis\": {\"gridcolor\": \"white\", \"linecolor\": \"white\", \"ticks\": \"\"}}, \"title\": {\"x\": 0.05}, \"xaxis\": {\"automargin\": true, \"gridcolor\": \"white\", \"linecolor\": \"white\", \"ticks\": \"\", \"zerolinecolor\": \"white\", \"zerolinewidth\": 2}, \"yaxis\": {\"automargin\": true, \"gridcolor\": \"white\", \"linecolor\": \"white\", \"ticks\": \"\", \"zerolinecolor\": \"white\", \"zerolinewidth\": 2}}}, \"width\": 800, \"xaxis\": {\"anchor\": \"y\", \"domain\": [0.0, 0.98], \"title\": {\"text\": \"Year\"}}, \"yaxis\": {\"anchor\": \"x\", \"domain\": [0.0, 1.0], \"title\": {\"text\": \"VehicleCount\"}}},\n",
       "                        {\"responsive\": true}\n",
       "                    ).then(function(){\n",
       "                            \n",
       "var gd = document.getElementById('34847efd-6501-4f4e-9a46-512c82b5939a');\n",
       "var x = new MutationObserver(function (mutations, observer) {{\n",
       "        var display = window.getComputedStyle(gd).display;\n",
       "        if (!display || display === 'none') {{\n",
       "            console.log([gd, 'removed!']);\n",
       "            Plotly.purge(gd);\n",
       "            observer.disconnect();\n",
       "        }}\n",
       "}});\n",
       "\n",
       "// Listen for the removal of the full notebook cells\n",
       "var notebookContainer = gd.closest('#notebook-container');\n",
       "if (notebookContainer) {{\n",
       "    x.observe(notebookContainer, {childList: true});\n",
       "}}\n",
       "\n",
       "// Listen for the clearing of the current output cell\n",
       "var outputEl = gd.closest('.output');\n",
       "if (outputEl) {{\n",
       "    x.observe(outputEl, {childList: true});\n",
       "}}\n",
       "\n",
       "                        })\n",
       "                };\n",
       "                });\n",
       "            </script>\n",
       "        </div>"
      ]
     },
     "metadata": {},
     "output_type": "display_data"
    },
    {
     "data": {
      "text/plain": [
       "<Figure size 432x288 with 0 Axes>"
      ]
     },
     "metadata": {},
     "output_type": "display_data"
    }
   ],
   "source": [
    "### S E A   M O D E L I N G \n",
    "\n",
    "### high scenario\n",
    "dfHSV, DHSV = SeaVessels(x, PolyHSV)\n",
    "BinaryShifts(x, DHSV, 'HoogTGW', figs=False)\n",
    "dfHSV, STVhsv = ServiceToSeaVehicles(x, dfHSV, service='SeaTGW', figs=False)\n",
    "PlotService(x, dfHSV, y='Share', scn='HoogSea', figs=False)\n",
    "PlotService(x, dfHSV, y='SeaTGW', scn='HoogSea', figs=False)\n",
    "PlotService(x, dfHSV, y='VehicleCount', scn='HoogSea', figs=False, color='Vehicle')\n",
    "\n",
    "### low scenario\n",
    "dfLSV, DLSV = SeaVessels(x, PolyLSV)\n",
    "BinaryShifts(x, DLSV, 'LaagTGW', figs=False)\n",
    "dfLSV, STVlsv = ServiceToSeaVehicles(x, dfLSV, service='SeaTGW', figs=False)\n",
    "PlotService(x, dfLSV, y='Share', scn='LaagSea', figs=False)\n",
    "PlotService(x, dfLSV, y='SeaTGW', scn='LaagSea', figs=False)\n",
    "PlotService(x, dfLSV, y='VehicleCount', scn='LaagSea', figs=True, color='Vehicle')\n"
   ]
  },
  {
   "cell_type": "code",
   "execution_count": 125,
   "metadata": {},
   "outputs": [],
   "source": [
    "### combines all dataframes to a single Vehicle Count dataframe\n",
    "vc = pd.DataFrame() \n",
    "for df in [dfLP, dfHP, dfLF, dfHF, dfLAC, dfHAC, dfLSV, dfHSV]:\n",
    "    vc = pd.concat([vc, df[['Year', 'Vehicle', 'VehicleCount']]], ignore_index=True, sort=False)\n",
    "\n",
    "### dictionary, VehicleInOutStock, to gather all stock and flow data\n",
    "vios = dict()\n",
    "for veh in list(vc['Vehicle'].unique()):\n",
    "    vios[veh] = dict.fromkeys(['i', 'o', 's'])\n",
    "    vios[veh]['s'] = np.array(vc.loc[vc['Vehicle']==veh, 'VehicleCount'])\n",
    "    \n",
    "lifetime = pd.read_csv('data/cdf/lifetime.csv', header=0, index_col=None)\n",
    "for v in vios.keys():\n",
    "    vios[v]['lifetime'] = np.ones(len(x))*lifetime.loc[lifetime['Vehicle']==v, 'lifetime'].values\n",
    "    vios[v]['shape'] = lifetime.loc[lifetime['Vehicle']==v, 'shape'].values\n",
    "    \n",
    "del vios['walk']"
   ]
  },
  {
   "cell_type": "code",
   "execution_count": 126,
   "metadata": {},
   "outputs": [
    {
     "data": {
      "text/plain": [
       "{'ice': {'i': None,\n",
       "  'o': None,\n",
       "  's': array([6440562.719563214, 6403781.908922897, 6386661.6997586405,\n",
       "         6400292.323507054, 6443777.148322556, 6515996.687968366,\n",
       "         6615414.701344331, 6739893.58264069, 6886528.12187775,\n",
       "         7051509.388175055, 7230032.463669394, 7416261.702315232,\n",
       "         7603364.80829733, 7783622.750012161, 7948615.001548137,\n",
       "         8089470.78839089, 8197167.048569856, 8262845.346804469,\n",
       "         8278115.115795416, 8235312.840741798, 8127699.993800602,\n",
       "         7949609.287553707, 7696590.5322767785, 7365658.453883715,\n",
       "         6955788.528427015, 6468805.823111068, 5910709.086814305,\n",
       "         5293214.173091822, 4634909.258046058, 3961083.927768294,\n",
       "         3301399.804835729, 2685403.258908506, 2137173.7304519513,\n",
       "         1671222.2253937188, 1291269.2663204584, 991995.3787686849,\n",
       "         762472.7000392147, 589661.3584432289, 460947.5248610849,\n",
       "         365493.33752653864, 294658.4359936152, 241879.13914588225,\n",
       "         202316.38899951742, 172460.31583382745, 149780.1398634141,\n",
       "         132447.72120002803, 119133.12059615648, 108859.13879066052,\n",
       "         100899.91119558353, 94710.68269765188, 89878.98987098178,\n",
       "         86090.33994641897, 83103.70374472321, 6440933.578800406,\n",
       "         6412129.324656558, 6398622.12357273, 6412412.845513893,\n",
       "         6453402.324277042, 6521186.523547376, 6614891.796981997,\n",
       "         6733017.7398909675, 6873294.626407036, 7032565.566884343,\n",
       "         7206703.998791235, 7390577.587872791, 7578068.110922859,\n",
       "         7762152.766928543, 7935047.8638893, 8088407.490869356,\n",
       "         8213562.21649496, 8301775.764995749, 8344492.452319744,\n",
       "         8333550.705111835, 8261349.441797754, 8120979.535256438,\n",
       "         7906374.762666317, 7612590.199405206, 7236366.156384706,\n",
       "         6777144.8090236, 6238608.849962755, 5630543.692372335,\n",
       "         4970391.742208228, 4283463.827535284, 3600809.9395100144,\n",
       "         2954589.148125208, 2372201.749448367, 1871467.2572297428,\n",
       "         1458765.8447001157, 1130460.2347430196, 876342.0930847336,\n",
       "         683364.4978397285, 538476.7436236033, 430222.8888224578,\n",
       "         349325.67489147186, 288649.7362357204, 242879.67060641362,\n",
       "         208124.5787803, 181554.59489604383, 161107.60707223034,\n",
       "         145269.30164527625, 132915.1932238654, 123199.82758861055,\n",
       "         115479.76432155227, 109259.89959668522, 104155.64803030611,\n",
       "         99865.86103340796], dtype=object),\n",
       "  'lifetime': array([19., 19., 19., 19., 19., 19., 19., 19., 19., 19., 19., 19., 19.,\n",
       "         19., 19., 19., 19., 19., 19., 19., 19., 19., 19., 19., 19., 19.,\n",
       "         19., 19., 19., 19., 19., 19., 19., 19., 19., 19., 19., 19., 19.,\n",
       "         19., 19., 19., 19., 19., 19., 19., 19., 19., 19., 19., 19., 19.,\n",
       "         19.]),\n",
       "  'shape': array([5.5])},\n",
       " 'ev': {'i': None,\n",
       "  'o': None,\n",
       "  's': array([680.8488365178613, 687.5826106359636, 700.1149465355096,\n",
       "         721.1778456310748, 752.9086851677987, 798.4064365066276,\n",
       "         862.1806511242596, 950.8468618961599, 1074.2152971373885,\n",
       "         1247.0187004091083, 1491.695298427264, 1842.934676921615,\n",
       "         2355.1877601316864, 3115.1578442051687, 4262.590197338146,\n",
       "         6024.640988194976, 8771.819479239475, 13106.684918763962,\n",
       "         19998.924420890082, 30978.985833347295, 48390.757570747315,\n",
       "         75671.96999952188, 117568.89388598946, 180100.64408963133,\n",
       "         270001.53621506016, 393371.944923295, 553475.4441580237,\n",
       "         748090.1325000229, 967416.9413537078, 1193877.1992802664,\n",
       "         1404726.9017329325, 1577149.5986057434, 1693972.6915736077,\n",
       "         1747534.7322206453, 1740196.7788048119, 1681871.288298913,\n",
       "         1586266.7199846206, 1467533.7239783043, 1338123.2236733136,\n",
       "         1207830.3377740507, 1083637.5299732527, 969983.3931428966,\n",
       "         869216.3767320617, 782100.0193385094, 708294.5679687014,\n",
       "         646771.3958579182, 596139.2694765055, 554879.7914233324,\n",
       "         521502.13480607315, 494633.58483016794, 473063.5898483107,\n",
       "         455756.9381113438, 441848.26875909476, 680.8880410239191,\n",
       "         688.4788838045139, 701.426065218915, 722.5435726177487,\n",
       "         754.033317259442, 799.0423481451868, 862.1125015003969,\n",
       "         949.876835675226, 1072.1510315136009, 1243.6685950477881,\n",
       "         1486.8821856849443, 1836.552196495227, 2347.351956703829,\n",
       "         3106.565137651169, 4255.31457158709, 6023.849096364414,\n",
       "         8789.364010480413, 13168.43710019456, 20159.284033898737,\n",
       "         31348.52970708598, 49186.48059724034, 77303.23560942739,\n",
       "         120773.44268174375, 186138.47040116065, 280892.66527491465,\n",
       "         412122.2227799513, 584179.7918737245, 795764.9245115703,\n",
       "         1037440.1976110983, 1291043.03036502, 1532124.2167180462,\n",
       "         1735243.7007559773, 1880261.2652453315, 1956923.491399958,\n",
       "         1965925.8453593708, 1916630.5126722567, 1823163.3703219574,\n",
       "         1700739.6397772494, 1563189.294199757, 1421739.3417925874,\n",
       "         1284682.076788857, 1157542.7776550057, 1043489.3006462617,\n",
       "         943835.8981421058, 858552.6323576152, 786723.9312639332,\n",
       "         726924.0906879344, 677498.9726391061, 636759.4612710896,\n",
       "         603101.65838482, 575071.8872549485, 551393.5624233726,\n",
       "         530969.8102179888], dtype=object),\n",
       "  'lifetime': array([19., 19., 19., 19., 19., 19., 19., 19., 19., 19., 19., 19., 19.,\n",
       "         19., 19., 19., 19., 19., 19., 19., 19., 19., 19., 19., 19., 19.,\n",
       "         19., 19., 19., 19., 19., 19., 19., 19., 19., 19., 19., 19., 19.,\n",
       "         19., 19., 19., 19., 19., 19., 19., 19., 19., 19., 19., 19., 19.,\n",
       "         19.]),\n",
       "  'shape': array([5.5])},\n",
       " 'hev': {'i': None,\n",
       "  'o': None,\n",
       "  's': array([64879.98761868745, 64674.39233191489, 64723.44095054841,\n",
       "         65161.685908930034, 66012.01999688035, 67307.79362096489,\n",
       "         69095.79229492454, 71441.02321783468, 74433.85351328293,\n",
       "         78200.0854172718, 82914.50368054082, 88818.19831578645,\n",
       "         96239.42897061615, 105616.78241776302, 117521.616296279,\n",
       "         132673.98859245577, 151942.140291821, 176310.08653235805,\n",
       "         206791.67358215674, 244264.9706963366, 289203.4745415222,\n",
       "         341299.4493176948, 399020.5732150467, 459217.318146694,\n",
       "         516984.35185225104, 566015.5838922885, 599598.3978378591,\n",
       "         612133.1845458751, 600730.8880820979, 566244.1969219894,\n",
       "         513216.02539125195, 448680.9300445321, 380296.519188856,\n",
       "         314577.27311420505, 255859.1031490739, 206163.91891118442,\n",
       "         165701.73884462292, 133593.08623753075, 108498.31357251797,\n",
       "         89029.26574206393, 73955.85107390067, 62273.72463814922,\n",
       "         53198.24984996083, 46129.23319495675, 40610.49814987795,\n",
       "         36294.515150403065, 32914.79188883996, 30265.44519252794,\n",
       "         28186.38293590037, 26552.538234959808, 25265.93852370341,\n",
       "         24249.751686995834, 23443.734384184994, 64883.723525589536,\n",
       "         64758.69627102378, 64844.64977933357, 65285.08553009439,\n",
       "         66110.62323733326, 67361.40266940466, 69090.33073388248,\n",
       "         71368.14117073672, 74290.81771267297, 77990.00153855677,\n",
       "         82646.97125980536, 88510.60173118887, 95919.236559553,\n",
       "         105325.45399593632, 117321.02387283539, 132656.5496366906,\n",
       "         152246.040028184, 177140.77198173536, 208449.8143926899,\n",
       "         247178.7724578075, 293959.0492749418, 348656.8638842134,\n",
       "         409896.5868876552, 474612.4569049771, 537838.0972674744,\n",
       "         592995.0103769288, 632861.441196535, 651143.6205732343,\n",
       "         644212.7945070987, 612328.9936029317, 559760.5484309394,\n",
       "         493656.88467181043, 422118.26548052876, 352269.76853012934,\n",
       "         289047.78458255745, 234940.72367268935, 190448.0103214297,\n",
       "         154822.37556246307, 126747.22268828576, 104796.51464101413,\n",
       "         87676.69420848803, 74315.19003536881, 63864.195403502374,\n",
       "         55668.61675824137, 49225.63530018837, 44148.15470397849,\n",
       "         40135.84809634917, 36953.603900054804, 34415.86297651248,\n",
       "         32375.237620245607, 30714.118063393198, 29338.35088936853,\n",
       "         28172.375172433953], dtype=object),\n",
       "  'lifetime': array([19., 19., 19., 19., 19., 19., 19., 19., 19., 19., 19., 19., 19.,\n",
       "         19., 19., 19., 19., 19., 19., 19., 19., 19., 19., 19., 19., 19.,\n",
       "         19., 19., 19., 19., 19., 19., 19., 19., 19., 19., 19., 19., 19.,\n",
       "         19., 19., 19., 19., 19., 19., 19., 19., 19., 19., 19., 19., 19.,\n",
       "         19.]),\n",
       "  'shape': array([5.5])},\n",
       " 'train': {'i': None,\n",
       "  'o': None,\n",
       "  's': array([1297.4954656352572, 1290.5586310363797, 1285.314954788021,\n",
       "         1281.6868797257193, 1279.6049866725584, 1279.009484950621,\n",
       "         1279.852086156698, 1282.0983543192203, 1285.7306763442061,\n",
       "         1290.7519772489845, 1297.190388386043, 1305.105105673338,\n",
       "         1314.5936924804532, 1325.8012165780133, 1338.9316126667895,\n",
       "         1354.2617872207677, 1372.1590398136143, 1393.1024842182646,\n",
       "         1417.7092030933538, 1446.7658626891703, 1481.266423241245,\n",
       "         1522.4562085623973, 1571.8818432187788, 1631.4450363316528,\n",
       "         1703.4555541567656, 1790.6743708097895, 1896.3315549942297,\n",
       "         2024.0948898206186, 2177.9559245270757, 2361.9936620715307,\n",
       "         2579.9789380077245, 2834.804231082374, 3127.7717310848675,\n",
       "         3457.845851247034, 3821.05471448758, 4210.266654925448,\n",
       "         4615.525339976869, 5024.982823128562, 5426.267446940565,\n",
       "         5807.959134457677, 6160.808500918898, 6478.4460251145165,\n",
       "         6757.5171704291, 6997.350300865918, 7199.352183571991,\n",
       "         7366.324997328374, 7501.844075372745, 7609.767508362893,\n",
       "         7693.894370274634, 7757.75522594391, 7804.505124769294,\n",
       "         7836.887791157053, 7857.244702068479, 1297.5701777682798,\n",
       "         1292.2408915466754, 1287.7219887466906, 1284.1140679300045,\n",
       "         1281.516353696194, 1280.0281854271182, 1279.7509223946051,\n",
       "         1280.7903949922832, 1283.2599522317316, 1287.2843828033695,\n",
       "         1293.004866319882, 1300.5852450968075, 1310.2199869372473,\n",
       "         1322.1441881471164, 1336.6462498078156, 1354.0837801249356,\n",
       "         1374.9034974712897, 1399.6660903391153, 1429.0769793988325,\n",
       "         1464.024124924325, 1505.6239216668646, 1555.2758966930307,\n",
       "         1614.7262717173537, 1686.13879834438, 1772.1683272325079,\n",
       "         1876.0277937897222, 2001.5315671417864, 2153.0877727521834,\n",
       "         2335.6000170597713, 2554.2287406294085, 2813.9620624248987,\n",
       "         3118.9661330863732, 3471.7372137947873, 3872.163254430145,\n",
       "         4316.701600207924, 4797.944761562813, 5304.818306167459,\n",
       "         5823.503294579745, 6338.940263839995, 6836.559522258681,\n",
       "         7303.807814642866, 7731.141027580804, 8112.360805702788,\n",
       "         8444.38082410303, 8726.627377930716, 8960.297561055184,\n",
       "         9147.646300438728, 9291.399233901742, 9394.324025374424,\n",
       "         9458.951404839827, 9487.416887507947, 9481.390443303857,\n",
       "         9442.064218131498], dtype=object),\n",
       "  'lifetime': array([40., 40., 40., 40., 40., 40., 40., 40., 40., 40., 40., 40., 40.,\n",
       "         40., 40., 40., 40., 40., 40., 40., 40., 40., 40., 40., 40., 40.,\n",
       "         40., 40., 40., 40., 40., 40., 40., 40., 40., 40., 40., 40., 40.,\n",
       "         40., 40., 40., 40., 40., 40., 40., 40., 40., 40., 40., 40., 40.,\n",
       "         40.]),\n",
       "  'shape': array([4.])},\n",
       " 'metro-bus': {'i': None,\n",
       "  'o': None,\n",
       "  's': array([8845.370532700386, 8798.080292405724, 8762.332761413356,\n",
       "         8737.599211974095, 8723.406395157084, 8719.346702061495,\n",
       "         8725.090937842237, 8740.404343352744, 8765.16684546242,\n",
       "         8799.398384789767, 8843.290740221826, 8897.247466023111,\n",
       "         8961.933677546427, 9038.338340239066, 9127.851731015719,\n",
       "         9232.36159471264, 9354.371909888234, 9497.148922137321,\n",
       "         9664.899447521693, 9862.9863984011, 10098.185865182706,\n",
       "         10378.987550412176, 10715.935203740215, 11121.993280356468,\n",
       "         11612.908069105184, 12207.501862419083, 12927.79489488496,\n",
       "         13798.79141623278, 14847.702875709023, 16102.336917750588,\n",
       "         17588.40032791021, 19325.61190055002, 21322.84900865212,\n",
       "         23573.051782701878, 26049.14288376062, 28702.50385503669,\n",
       "         31465.259738056044, 34256.63994075325, 36992.30359484902,\n",
       "         39594.397008476146, 41999.86467386794, 44165.28387648861,\n",
       "         46067.78585100146, 47702.79187677781, 49079.892258368345,\n",
       "         50218.19019133234, 51142.05967010967, 51877.802321427174,\n",
       "         52451.31743964637, 52886.67382114516, 53205.38027402229,\n",
       "         53426.141494868876, 53564.91995281483, 8845.87986511609,\n",
       "         8809.548708242392, 8778.742149972413, 8754.145997368054,\n",
       "         8736.436690827339, 8726.291453249542, 8724.401277659297,\n",
       "         8731.487637903761, 8748.32326424172, 8775.758874255078,\n",
       "         8814.756926787757, 8866.434378336533, 8932.11696746518,\n",
       "         9013.407408011057, 9112.271806596178, 9231.148073153769,\n",
       "         9373.081605248564, 9541.894764960904, 9742.396591995783,\n",
       "         9980.640546923085, 10264.237388699043, 10602.728064326795,\n",
       "         11008.017030127283, 11494.855154361587, 12081.341257722705,\n",
       "         12789.378772580128, 13644.971264387055, 14678.170092945378,\n",
       "         15922.404443209522, 17412.854406453087, 19183.525311915862,\n",
       "         21262.818912885617, 23667.752883548346, 26397.563348533473,\n",
       "         29428.099091078795, 32708.86129122105, 36164.35260814539,\n",
       "         39700.365668514576, 43214.23612133099, 46606.638516175444,\n",
       "         49791.99398474822, 52705.237775943104, 55304.11405812865,\n",
       "         57567.58253629113, 59491.732112383346, 61084.72369264132,\n",
       "         62361.92971190892, 63341.93156572691, 64043.59715276698,\n",
       "         64484.17913017607, 64678.23587122866, 64637.15200358391,\n",
       "         64369.054701886125], dtype=object),\n",
       "  'lifetime': array([22.5, 22.5, 22.5, 22.5, 22.5, 22.5, 22.5, 22.5, 22.5, 22.5, 22.5,\n",
       "         22.5, 22.5, 22.5, 22.5, 22.5, 22.5, 22.5, 22.5, 22.5, 22.5, 22.5,\n",
       "         22.5, 22.5, 22.5, 22.5, 22.5, 22.5, 22.5, 22.5, 22.5, 22.5, 22.5,\n",
       "         22.5, 22.5, 22.5, 22.5, 22.5, 22.5, 22.5, 22.5, 22.5, 22.5, 22.5,\n",
       "         22.5, 22.5, 22.5, 22.5, 22.5, 22.5, 22.5, 22.5, 22.5]),\n",
       "  'shape': array([1.8])},\n",
       " 'ebike': {'i': None,\n",
       "  'o': None,\n",
       "  's': array([11386.442621694965, 14523.349217746607, 18573.82151775797,\n",
       "         23854.360100258178, 30758.176953761562, 39804.006775512615,\n",
       "         51672.18234752662, 67247.70977322968, 87669.42037683821,\n",
       "         114382.41249563072, 149188.0950155641, 194281.98614327045,\n",
       "         252263.99828228538, 326099.7661290784, 419006.05628627323,\n",
       "         534231.3426641278, 674708.8679930057, 842579.8268754692,\n",
       "         1038623.350368107, 1261686.1609346454, 1508263.7086060527,\n",
       "         1772415.8326979035, 2046165.835805158, 2320412.261061108,\n",
       "         2586205.427060483, 2836086.2322135284, 3065143.552489154,\n",
       "         3271550.378327993, 3456526.8097766284, 3623837.817489097,\n",
       "         3778988.0778338537, 3928240.960887383, 4077548.3577820957,\n",
       "         4231502.811401243, 4392496.330080818, 4560302.572307178,\n",
       "         4732221.162390731, 4903752.4658042295, 5069597.156329924,\n",
       "         5224686.501462303, 5364981.150965998, 5487896.933840834,\n",
       "         5592357.754189658, 5678576.406490658, 5747699.430392802,\n",
       "         5801433.539281582, 5841727.695733954, 5870541.275604124,\n",
       "         5889698.423201756, 5900812.723999226, 5905261.9253701335,\n",
       "         5904194.035990697, 5898550.547459036, 11387.098273632362,\n",
       "         14542.280598529072, 18608.605069422847, 23899.53417699407,\n",
       "         30804.120948782594, 39835.709715284225, 51668.09800651692,\n",
       "         67179.10562213883, 87500.95045165325, 114075.12509631853,\n",
       "         148706.7238388372, 193609.14570606602, 251424.70591845494,\n",
       "         325200.2676966355, 418290.87347210804, 534161.1221419898,\n",
       "         676058.3543613763, 846549.6440078308, 1046951.4601714927,\n",
       "         1276736.6339831334, 1533065.1422518676, 1810623.9168055374,\n",
       "         2101937.7160050487, 2398203.46649654, 2690525.933811143,\n",
       "         2971269.753981484, 3235184.0383454603, 3480041.9451407418,\n",
       "         3706716.001442888, 3918770.3394142673, 4121711.5879217377,\n",
       "         4322009.394960014, 4525962.119956194, 4738519.4141655145,\n",
       "         4962267.581533458, 5196839.447768915, 5438941.745948516,\n",
       "         5683008.210291718, 5922279.69777408, 6149988.218834768,\n",
       "         6360332.617057101, 6549055.896410249, 6713593.574735297,\n",
       "         6852888.544002087, 6967020.077700445, 7056784.870542854,\n",
       "         7123323.03992815, 7167833.005514675, 7191382.248898634,\n",
       "         7194800.451902366, 7178633.471340112, 7143137.735290815,\n",
       "         7088298.147102498], dtype=object),\n",
       "  'lifetime': array([5., 5., 5., 5., 5., 5., 5., 5., 5., 5., 5., 5., 5., 5., 5., 5., 5.,\n",
       "         5., 5., 5., 5., 5., 5., 5., 5., 5., 5., 5., 5., 5., 5., 5., 5., 5.,\n",
       "         5., 5., 5., 5., 5., 5., 5., 5., 5., 5., 5., 5., 5., 5., 5., 5., 5.,\n",
       "         5., 5.]),\n",
       "  'shape': array([3.])},\n",
       " 'bike': {'i': None,\n",
       "  'o': None,\n",
       "  's': array([17933115.398565676, 17826825.31206227, 17772014.574349184,\n",
       "         17796922.144650225, 17898842.090620473, 18074428.548093114,\n",
       "         18319186.98102323, 18626993.577013716, 18989670.745214995,\n",
       "         19396656.07957428, 19834810.790311653, 20288417.975527562,\n",
       "         20739420.306945447, 21167941.221787814, 21553118.10453779,\n",
       "         21874252.17441795, 22112242.75835877, 22251223.312477496,\n",
       "         22280251.883536182, 22194837.466173068, 21998026.31530076,\n",
       "         21700761.750265185, 21321308.04288034, 20883710.349549983,\n",
       "         20415515.767133035, 19945211.19598606, 19499930.677684862,\n",
       "         19103882.138029583, 18777664.7964908, 18538288.83279779,\n",
       "         18399400.61402245, 18371111.858866323, 18459045.606247064,\n",
       "         18662725.75785945, 18973999.799025174, 19376430.768956732,\n",
       "         19846325.28384398, 20355412.33030708, 20874516.112894267,\n",
       "         21377213.362187352, 21842561.33413775, 22256412.875564676,\n",
       "         22611347.890538927, 22905615.36024859, 23141603.51414097,\n",
       "         23324279.821578745, 23459875.47657792, 23554923.18724206,\n",
       "         23615642.656218063, 23647608.461595304, 23655619.455699787,\n",
       "         23643695.784275565, 23615147.18748664, 17934148.01974907,\n",
       "         17850062.818305857, 17805296.56677841, 17830624.978146747,\n",
       "         17925577.88556469, 18088824.398312367, 18317738.971605945,\n",
       "         18607990.86173858, 18953179.24799758, 19344547.12442986,\n",
       "         19770811.674234122, 20218154.80655433, 20670419.430037078,\n",
       "         21109552.556953546, 21516330.045203615, 21871376.975442525,\n",
       "         22156469.49316554, 22356060.011273667, 22458904.1197558,\n",
       "         22459596.495354105, 22359755.227085058, 22168566.491600502,\n",
       "         21902458.12224552, 21583831.19846886, 21239022.255874775,\n",
       "         20895910.036258854, 20581699.811761845, 20321347.210720737,\n",
       "         20136823.580830622, 20047060.62474919, 20068076.733679734,\n",
       "         20212639.407931134, 20489012.96902355, 20898884.454617526,\n",
       "         21435206.09224792, 22081034.795490082, 22810220.27200424,\n",
       "         23590092.730758704, 24385512.13519859, 25163157.692269817,\n",
       "         25894956.82917211, 26559990.782050885, 27144794.125572395,\n",
       "         27642426.175008982, 28050878.141027793, 28371336.816453014,\n",
       "         28606652.038606692, 28760168.43038071, 28834942.163632456,\n",
       "         28833286.532534678, 28756560.463544063, 28605119.433554683,\n",
       "         28378362.22743276], dtype=object),\n",
       "  'lifetime': array([8., 8., 8., 8., 8., 8., 8., 8., 8., 8., 8., 8., 8., 8., 8., 8., 8.,\n",
       "         8., 8., 8., 8., 8., 8., 8., 8., 8., 8., 8., 8., 8., 8., 8., 8., 8.,\n",
       "         8., 8., 8., 8., 8., 8., 8., 8., 8., 8., 8., 8., 8., 8., 8., 8., 8.,\n",
       "         8., 8.]),\n",
       "  'shape': array([3.])},\n",
       " 'emoped': {'i': None,\n",
       "  'o': None,\n",
       "  's': array([1221.0078614832469, 1337.2111995709836, 1496.6547565804246,\n",
       "         1714.1395278477269, 2009.7435623208523, 2410.690611196426,\n",
       "         2953.871347229677, 3689.2363173082977, 4684.346315933264,\n",
       "         6030.4465082657125, 7850.523614979091, 10309.902468163913,\n",
       "         13630.019644914055, 18106.039090396956, 24128.874027824215,\n",
       "         32211.831427598747, 43021.31626737881, 57409.588895292356,\n",
       "         76445.2405938626, 101433.83127601283, 133917.59768958724,\n",
       "         175640.92662785487, 228470.21269511446, 294265.4583355102,\n",
       "         374715.361763476, 471158.07474761474, 584399.7534466275,\n",
       "         714504.6646440551, 860488.582082576, 1019859.7072987532,\n",
       "         1188063.9857081827, 1358073.838299632, 1520492.4015073124,\n",
       "         1664493.679513417, 1779629.926303685, 1858098.6634447826,\n",
       "         1896690.1356339478, 1897595.3913032261, 1867678.9605080832,\n",
       "         1816522.905994587, 1754082.5326930985, 1688817.1968900263,\n",
       "         1626742.8583799915, 1571356.85165088, 1524103.0963059636,\n",
       "         1485022.5984378126, 1453352.6816984671, 1427973.9350458346,\n",
       "         1407695.6380962501, 1391412.295770515, 1378172.913827987,\n",
       "         1367198.2685192823, 1357871.0360821749, 1221.0781693218366,\n",
       "         1338.9542723309996, 1499.4575706378457, 1717.3856711205526,\n",
       "         2012.745549348875, 2412.610668634004, 2953.6378634220896,\n",
       "         3685.4726660765164, 4675.344642715925, 6014.245763904888,\n",
       "         7825.193069736388, 10274.197051403868, 13584.672027002938,\n",
       "         18056.09623403466, 24087.68952518766, 32207.59743486708,\n",
       "         43107.36327610553, 57680.07432858775, 77058.21001861728,\n",
       "         102643.8208844378, 136119.69828655437, 179427.22957862733,\n",
       "         234697.57369816894, 304130.629756153, 389830.362303419,\n",
       "         493616.0688418495, 616819.6438395822, 760039.099330887,\n",
       "         922772.1848541101, 1102862.8135723942, 1295811.7348422068,\n",
       "         1494207.6992279217, 1687703.1022254964, 1863932.5002642008,\n",
       "         2010474.0509279077, 2117456.085189364, 2179946.1191320494,\n",
       "         2199142.4452578574, 2181813.8303092, 2138232.4983486505,\n",
       "         2079513.05545393, 2015372.8021110892, 1952895.5195301084,\n",
       "         1896308.616171689, 1847427.305662605, 1806361.2957234555,\n",
       "         1772198.4285991855, 1743532.363049929, 1718810.828034586,\n",
       "         1696534.7457438686, 1675352.987476473, 1654092.9183479392,\n",
       "         1631755.915563301], dtype=object),\n",
       "  'lifetime': array([8., 8., 8., 8., 8., 8., 8., 8., 8., 8., 8., 8., 8., 8., 8., 8., 8.,\n",
       "         8., 8., 8., 8., 8., 8., 8., 8., 8., 8., 8., 8., 8., 8., 8., 8., 8.,\n",
       "         8., 8., 8., 8., 8., 8., 8., 8., 8., 8., 8., 8., 8., 8., 8., 8., 8.,\n",
       "         8., 8.]),\n",
       "  'shape': array([3.])},\n",
       " 'moped': {'i': None,\n",
       "  'o': None,\n",
       "  's': array([865511.6050065738, 860449.4738364378, 856412.8929383926,\n",
       "         853321.8023677566, 851093.6944796853, 849642.3124560823,\n",
       "         848875.9189679204, 848694.9943061183, 848989.2025550905,\n",
       "         849633.3878681799, 850482.3493104944, 851364.0966541634,\n",
       "         852071.2612177506, 852350.4488118091, 851889.4817271534,\n",
       "         850302.964267461, 847117.4598933946, 841759.0615535426,\n",
       "         833548.3443198873, 821710.4920081625, 805410.9771469107,\n",
       "         783827.4506097441, 756263.1230336606, 722292.4657194245,\n",
       "         681907.2361616887, 635609.6645170975, 584399.7534466275,\n",
       "         529640.5340967362, 472847.7324032368, 415495.7976853171,\n",
       "         358919.03656668507, 304318.6956548135, 252815.88591756817,\n",
       "         205468.92450544052, 163210.97487791762, 126725.90681516739,\n",
       "         96324.4296683418, 71886.16931978737, 52900.043173617916,\n",
       "         38587.4551839429, 28058.896559002147, 20451.344677231322,\n",
       "         15015.929766872032, 11153.026204695003, 8409.325704963721,\n",
       "         6455.321804577797, 5057.296064079554, 4051.591249377831,\n",
       "         3324.084368996123, 2795.0473187201696, 2408.475005314065,\n",
       "         2124.741652227958, 1915.596741102211, 865561.4427284609,\n",
       "         861571.0812831117, 858016.7137826658, 854937.7763204661,\n",
       "         852364.9871353063, 850319.0322448995, 848808.8209943015,\n",
       "         847829.1804395083, 847357.7426136137, 847350.8548420751,\n",
       "         847738.1780062739, 848415.6390931492, 849236.3862143854,\n",
       "         849999.3649649878, 850435.4294342123, 850191.1986083578,\n",
       "         848811.7809832231, 845725.0116478709, 840232.0782600746,\n",
       "         831512.5584780579, 818654.9124039498, 800724.4702629612,\n",
       "         776876.4162278711, 746507.1290049691, 709413.5230517384,\n",
       "         665906.3289637591, 616819.6438395822, 563393.822914439,\n",
       "         507073.24213068327, 449311.66628441174, 391470.0765583239,\n",
       "         334823.72257148, 280618.4065977491, 230088.11081336104,\n",
       "         184381.83409302036, 144414.58239867608, 110709.73728817626,\n",
       "         83309.60693868797, 61797.583128930804, 45421.36541774203,\n",
       "         33264.593101267295, 24405.888277898324, 18026.538006447023,\n",
       "         13459.4377248757, 10193.28545897898, 7852.165665017879,\n",
       "         6166.7978121102215, 4946.925354707825, 4058.7411455347537,\n",
       "         3407.9725374146637, 2927.8225939063523, 2570.600183743283,\n",
       "         2301.9758364874274], dtype=object),\n",
       "  'lifetime': array([8., 8., 8., 8., 8., 8., 8., 8., 8., 8., 8., 8., 8., 8., 8., 8., 8.,\n",
       "         8., 8., 8., 8., 8., 8., 8., 8., 8., 8., 8., 8., 8., 8., 8., 8., 8.,\n",
       "         8., 8., 8., 8., 8., 8., 8., 8., 8., 8., 8., 8., 8., 8., 8., 8., 8.,\n",
       "         8., 8.]),\n",
       "  'shape': array([3.])},\n",
       " '40tlorry': {'i': None,\n",
       "  'o': None,\n",
       "  's': array([47040.176304402994, 46915.943513836355, 46838.63351832151,\n",
       "         46805.383057200655, 46813.57826285086, 46860.881909594355,\n",
       "         46945.26636626899, 47065.05118117872, 47218.947273096644,\n",
       "         47406.106339304846, 47626.1753259358, 47879.355147845075,\n",
       "         48166.458606756496, 48488.96498370117, 48849.05999915292,\n",
       "         49249.65123079185, 49694.3383442154, 50187.31459992203,\n",
       "         50733.16645656758, 51336.53197744742, 52001.572580252796,\n",
       "         52731.21917286373, 53526.16313443371, 54383.601328761884,\n",
       "         55295.800694715705, 56248.63443376752, 57220.34386126882,\n",
       "         58180.879594950726, 59092.22068533986, 59910.02839969133,\n",
       "         60586.80385651453, 61076.40303393327, 61339.36901203833,\n",
       "         61348.19907939942, 61091.498510240504, 60576.09984375583,\n",
       "         59826.62774090732, 58882.565837981536, 57793.44843438777,\n",
       "         56613.17241601139, 55394.49996405019, 54184.621738194386,\n",
       "         53022.265459081624, 51936.42628508967, 50946.47910744061,\n",
       "         50063.25929122897, 49290.67333201688, 48627.46682828736,\n",
       "         48068.89083073648, 47608.11933859377, 47237.36217842808,\n",
       "         46948.678438109346, 46734.52782798558, 47532.62409857984,\n",
       "         47203.51210125723, 46943.6255584204, 46751.08397449244,\n",
       "         46624.17151623882, 46561.36645532859, 46561.376474854485,\n",
       "         46623.18044969881, 46746.07757784349, 46929.74404752921,\n",
       "         47174.29714772457, 47480.36603440717, 47849.166299667435,\n",
       "         48282.573950972066, 48783.19054622446, 49354.387021938965,\n",
       "         50000.30716147849, 50725.8036423617, 51536.27048717972,\n",
       "         52437.325737240375, 53434.2904771807, 54531.40927004513,\n",
       "         55730.767245248135, 57030.89204223527, 58425.08820681171,\n",
       "         59899.64625641254, 61432.18914998448, 62990.54410921461,\n",
       "         64532.61219501872, 66007.69484737993, 67359.56976425757,\n",
       "         68531.27704484419, 69471.12807136255, 70139.01239132776,\n",
       "         70511.81377254736, 70586.78523130591, 70382.11318862037,\n",
       "         69934.52430165808, 69294.46026873428, 68519.85284462426,\n",
       "         67669.71932647993, 66798.65466264934, 65952.9098874902,\n",
       "         65168.28493541857, 64469.67039755208, 63871.83295815778,\n",
       "         63380.9618944294, 62996.5398171216, 62713.21056536314,\n",
       "         62522.440753427174, 62413.87889551877, 62376.39168183153,\n",
       "         62398.80372704732], dtype=object),\n",
       "  'lifetime': array([22.5, 22.5, 22.5, 22.5, 22.5, 22.5, 22.5, 22.5, 22.5, 22.5, 22.5,\n",
       "         22.5, 22.5, 22.5, 22.5, 22.5, 22.5, 22.5, 22.5, 22.5, 22.5, 22.5,\n",
       "         22.5, 22.5, 22.5, 22.5, 22.5, 22.5, 22.5, 22.5, 22.5, 22.5, 22.5,\n",
       "         22.5, 22.5, 22.5, 22.5, 22.5, 22.5, 22.5, 22.5, 22.5, 22.5, 22.5,\n",
       "         22.5, 22.5, 22.5, 22.5, 22.5, 22.5, 22.5, 22.5, 22.5]),\n",
       "  'shape': array([1.8])},\n",
       " '28tlorry': {'i': None,\n",
       "  'o': None,\n",
       "  's': array([237750.11118023604, 237011.12999889237, 236485.36229844912,\n",
       "         236152.81610906942, 235993.544992701, 235987.52741885555,\n",
       "         236114.52591235633, 236353.9141638287, 236684.4763630641,\n",
       "         237084.1679030395, 237529.83637850554, 237996.90455743033,\n",
       "         238459.00561039275, 238887.5884064156, 239251.48866150845,\n",
       "         239516.49901728518, 239644.95832537007, 239595.41681716897,\n",
       "         239322.44486180195, 238776.68229427788, 237905.24100738633,\n",
       "         236652.6113720456, 234962.20138525675, 232778.63618458796,\n",
       "         230050.8681956525, 226736.0373298782, 222803.85215444426,\n",
       "         218241.08581381463, 213055.59625315032, 207279.22440970084,\n",
       "         200968.97008857745, 194206.07416319795, 187092.9531875553,\n",
       "         179748.27425915748, 172300.67784437898, 164881.7742376882,\n",
       "         157619.02500220964, 150629.08082254615, 144012.11458222603,\n",
       "         137847.63516249676, 132192.1409109538, 127078.76787030973,\n",
       "         122518.79928374103, 118504.64519500801, 115013.74112867335,\n",
       "         112012.77474918921, 109461.74190749197, 107317.48028087986,\n",
       "         105536.49973749112, 104077.0670994653, 102900.60297609147,\n",
       "         101972.50249480094, 101262.5072135736, 240239.03717954285,\n",
       "         238463.8761391614, 237015.4606120886, 235878.85443081518,\n",
       "         235038.7201056237, 234479.19235140472, 234183.72464675718,\n",
       "         234134.90293748004, 234314.22199119837, 234701.81747844082,\n",
       "         235276.14817030964, 236013.62442224225, 236888.17789698328,\n",
       "         237870.77445516016, 238928.87519318936, 240025.86201560986,\n",
       "         241120.45607632084, 242166.17613360813, 243110.9097558473,\n",
       "         243896.6986204504, 244459.8715628027, 244731.69040997748,\n",
       "         244639.6862772518, 244109.859325571, 243069.85517019674,\n",
       "         241453.1226643821, 239203.88213817863, 236282.51821051934,\n",
       "         232670.79844900832, 228376.18606616464, 223434.51873104463,\n",
       "         217910.5122624078, 211895.86266515419, 205505.07797736404,\n",
       "         198869.4598317965, 192129.8072456221, 185428.47018602924,\n",
       "         178901.39404431023, 172670.8134307609, 166839.25795407998,\n",
       "         161485.43769536866, 156662.36023458614, 152397.70045133086,\n",
       "         148696.1086203205, 145542.89347685312, 142908.41905320017,\n",
       "         140752.6013289446, 139029.03771361674, 137688.4845060043,\n",
       "         136681.5650758489, 135960.71999461827, 135481.48676383478,\n",
       "         135203.23422942025], dtype=object),\n",
       "  'lifetime': array([22.5, 22.5, 22.5, 22.5, 22.5, 22.5, 22.5, 22.5, 22.5, 22.5, 22.5,\n",
       "         22.5, 22.5, 22.5, 22.5, 22.5, 22.5, 22.5, 22.5, 22.5, 22.5, 22.5,\n",
       "         22.5, 22.5, 22.5, 22.5, 22.5, 22.5, 22.5, 22.5, 22.5, 22.5, 22.5,\n",
       "         22.5, 22.5, 22.5, 22.5, 22.5, 22.5, 22.5, 22.5, 22.5, 22.5, 22.5,\n",
       "         22.5, 22.5, 22.5, 22.5, 22.5, 22.5, 22.5, 22.5, 22.5]),\n",
       "  'shape': array([1.8])},\n",
       " '16tlorry': {'i': None,\n",
       "  'o': None,\n",
       "  's': array([34112.53747387914, 34020.7960539449, 33962.72686609103,\n",
       "         33936.171904122144, 33939.136184332965, 33969.80378045205,\n",
       "         34026.5573216073, 34108.00010778441, 34212.98222726219,\n",
       "         34340.62966646628, 34490.376373086874, 34661.99887706383,\n",
       "         34855.65018917853, 35071.891798188226, 35311.71660736232,\n",
       "         35576.55716987072, 35868.266454162425, 36189.057024346,\n",
       "         36541.378308537416, 36927.70780320296, 37350.22771591509,\n",
       "         37810.362374899734, 38308.15610922521, 38841.494660422686,\n",
       "         39405.20686844806, 39990.13694188628, 40582.3425099842,\n",
       "         41162.640271621865, 41706.756184079684, 42186.32082431779,\n",
       "         42570.84045394258, 42830.577162646056, 42940.01306999486,\n",
       "         42881.33602651963, 42647.25225189099, 42242.491913663565,\n",
       "         41683.624915482185, 40997.18764864984, 40216.51279368594,\n",
       "         39377.92286313005, 38517.01540689728, 37665.64208004244,\n",
       "         36849.92545962094, 36089.37735890685, 35396.96241822512,\n",
       "         34779.82788522804, 34240.40033441092, 33777.5934946646,\n",
       "         33387.94861256173, 33066.605338974354, 32808.06412187466,\n",
       "         32606.74319927084, 32457.35561717224, 34469.650162489845,\n",
       "         34229.324573919796, 34038.85666991199, 33896.80243666645,\n",
       "         33801.819157819766, 33752.682787504236, 33748.30879078659,\n",
       "         33787.77678753504, 33870.359542644976, 33995.55637713407,\n",
       "         34163.130938520066, 34373.15287737898, 34626.04166109666,\n",
       "         34922.609915796544, 35264.101290815146, 35652.2153475097,\n",
       "         36089.10793087634, 36577.35057659487, 37119.82689066629,\n",
       "         37719.53749538165, 38379.28005121399, 39101.16962316382,\n",
       "         39885.96990140769, 40732.22505707963, 41635.21746990008,\n",
       "         42585.834850534, 43569.5064550338, 44565.45046641669,\n",
       "         45546.53542419893, 46480.0612866941, 47329.67106618701,\n",
       "         48058.39904968036, 48632.56983921923, 49025.96333802916,\n",
       "         49223.462871713906, 49223.401837289224, 49038.05742852271,\n",
       "         48692.15149019094, 48219.67927892234, 47659.747100580025,\n",
       "         47052.24568449866, 46434.1013601316, 45836.58944325321,\n",
       "         45283.87867808076, 44792.70285518566, 44372.88719210416,\n",
       "         44028.40055008245, 43758.63379902344, 43559.678942003724,\n",
       "         43425.46821728852, 43348.706330477835, 43321.581201648,\n",
       "         43336.27099238857], dtype=object),\n",
       "  'lifetime': array([22.5, 22.5, 22.5, 22.5, 22.5, 22.5, 22.5, 22.5, 22.5, 22.5, 22.5,\n",
       "         22.5, 22.5, 22.5, 22.5, 22.5, 22.5, 22.5, 22.5, 22.5, 22.5, 22.5,\n",
       "         22.5, 22.5, 22.5, 22.5, 22.5, 22.5, 22.5, 22.5, 22.5, 22.5, 22.5,\n",
       "         22.5, 22.5, 22.5, 22.5, 22.5, 22.5, 22.5, 22.5, 22.5, 22.5, 22.5,\n",
       "         22.5, 22.5, 22.5, 22.5, 22.5, 22.5, 22.5, 22.5, 22.5]),\n",
       "  'shape': array([1.8])},\n",
       " 'freighttrain': {'i': None,\n",
       "  'o': None,\n",
       "  's': array([914.7562022526757, 913.2888826933957, 912.9393641721273,\n",
       "         913.699724670576, 915.5776150079002, 918.5991760122184,\n",
       "         922.8125760665008, 928.2922466916607, 935.1439677344243,\n",
       "         943.5109017595265, 953.5807130833751, 965.5939013105871,\n",
       "         979.8533929471021, 996.7354685300107, 1016.7018862252725,\n",
       "         1040.3130150320624, 1068.2414449360792, 1101.2852817918497,\n",
       "         1140.379839533211, 1186.605895227214, 1241.1919711910402,\n",
       "         1305.5075199678186, 1381.043198404157, 1469.3742772711332,\n",
       "         1572.10351253875, 1690.7810342388516, 1826.8010358785373,\n",
       "         1981.2784158799082, 2154.9123597800403, 2347.8480518787437,\n",
       "         2559.5509233173907, 2788.7100101344818, 3033.187439362659,\n",
       "         3290.0299387037185, 3555.554374379818, 3825.5124718078046,\n",
       "         4095.3285239599504, 4360.389556710912, 4616.353757297488,\n",
       "         4859.43507606643, 5086.62381492474, 5295.8159141378765,\n",
       "         5485.842315470303, 5656.408851732325, 5807.970832763107,\n",
       "         5941.57156243843, 6058.672375526015, 6160.99486834996,\n",
       "         6250.387992641049, 6328.725092495343, 6397.8305861050285,\n",
       "         6459.432729659524, 6515.137251657406, 924.3324774582333,\n",
       "         918.8868345671734, 914.9857809680724, 912.6397385390721,\n",
       "         911.873207360278, 912.7278684678521, 915.2663749893109,\n",
       "         919.5769651020637, 925.7790566430593, 934.0299920163692,\n",
       "         944.5331187204738, 957.5473966441117, 973.3986949549682,\n",
       "         992.4929101917004, 1015.3309366709074, 1042.525376012233,\n",
       "         1074.818624195305, 1113.1016154923566, 1158.4320075630146,\n",
       "         1212.0499272738955, 1275.38858991645, 1350.0762165787883,\n",
       "         1437.9247930136441, 1540.9006341837878, 1661.0716408179721,\n",
       "         1800.5270148773468, 1961.2672557083338, 2145.065635256384,\n",
       "         2353.3067807424236, 2586.8129576320816, 2845.673282133852,\n",
       "         3129.094851837886, 3435.2970442695005, 3761.4706560484497,\n",
       "         4103.821219288158, 4457.709029529315, 4817.886058465702,\n",
       "         5178.812524195339, 5535.017388426611, 5881.454122961443,\n",
       "         6213.801119221777, 6528.667490098951, 6823.685498093391,\n",
       "         7097.493804011345, 7349.633808396935, 7580.390724011366,\n",
       "         7790.611428199243, 7981.525336444502, 8154.585877131832,\n",
       "         8311.34153454161, 8453.338734006613, 8582.054264186234,\n",
       "         8698.852636690224], dtype=object),\n",
       "  'lifetime': array([40., 40., 40., 40., 40., 40., 40., 40., 40., 40., 40., 40., 40.,\n",
       "         40., 40., 40., 40., 40., 40., 40., 40., 40., 40., 40., 40., 40.,\n",
       "         40., 40., 40., 40., 40., 40., 40., 40., 40., 40., 40., 40., 40.,\n",
       "         40., 40., 40., 40., 40., 40., 40., 40., 40., 40., 40., 40., 40.,\n",
       "         40.]),\n",
       "  'shape': array([4.])},\n",
       " 'xlbarge': {'i': None,\n",
       "  'o': None,\n",
       "  's': array([72.02420801785469, 72.25952815553852, 72.6048364669068,\n",
       "         73.05986491829375, 73.62490270596442, 74.30080693469137,\n",
       "         75.08900959395024, 75.99151695683253, 77.01090243700173,\n",
       "         78.15028905104407, 79.41332048522362, 80.80412047545225,\n",
       "         82.32723602585463, 83.98756861397024, 85.79028940931812,\n",
       "         87.7407461725613, 89.84436372881265, 92.10655075970652,\n",
       "         94.53262740877359, 97.12779613811138, 99.89718092822592,\n",
       "         102.84597181490396, 105.97970109912444, 109.30467653094468,\n",
       "         112.82856680230671, 116.56109151014498, 120.51469875297005,\n",
       "         124.70503811741153, 129.15095191991693, 133.8736843977371,\n",
       "         138.89504773219727, 144.2344530473188, 149.9049881850404,\n",
       "         155.90906932910593, 162.23447077154532, 168.85166533206117,\n",
       "         175.71325425298105, 182.755857992368, 189.90428684107042,\n",
       "         197.07728650345834, 204.19382867212437, 211.17891196865813,\n",
       "         217.96807335912214, 224.51020584157172, 230.768681547137,\n",
       "         236.72105486244533, 242.35777594793393, 247.68034625745088,\n",
       "         252.69928358501528, 257.43215106575303, 261.90180300384,\n",
       "         266.134917236136, 270.16081839122444, 72.7782052421892,\n",
       "         72.70243879279894, 72.76758523494514, 72.97510792265074,\n",
       "         73.32701790824899, 73.82590678269912, 74.47497725436263,\n",
       "         75.27806979505803, 76.23968401580444, 77.36499252133481,\n",
       "         78.659845188478, 80.13076210855115, 81.78491260390298,\n",
       "         83.6300794197078, 85.67460735873078, 87.92733828512586,\n",
       "         90.39753687939269, 93.09481579672631, 96.02907518443797,\n",
       "         99.21047815368355, 102.64949151936493, 106.35702850770018,\n",
       "         110.34473066642607, 114.62542116810698, 119.21373566985672,\n",
       "         124.12689159485726, 129.38548197290908, 135.01408467633107,\n",
       "         141.04137902086313, 147.49940108300476, 154.42159120629768,\n",
       "         161.83944649958565, 169.7778898034505, 178.24986404966188,\n",
       "         187.25104260805514, 196.75575462079075, 206.715147026714,\n",
       "         217.05820407359747, 227.69561976061163, 238.52587823563985,\n",
       "         249.4424371265991, 260.34078969466833, 271.1243772052328,\n",
       "         281.70873723349325, 292.0237295701313, 302.0140495827044,\n",
       "         311.6384484891377, 320.86813919431756, 329.6848150082573,\n",
       "         338.0786016470122, 346.0461520576727, 353.5889910003939,\n",
       "         360.7121472068827], dtype=object),\n",
       "  'lifetime': array([16.5, 16.5, 16.5, 16.5, 16.5, 16.5, 16.5, 16.5, 16.5, 16.5, 16.5,\n",
       "         16.5, 16.5, 16.5, 16.5, 16.5, 16.5, 16.5, 16.5, 16.5, 16.5, 16.5,\n",
       "         16.5, 16.5, 16.5, 16.5, 16.5, 16.5, 16.5, 16.5, 16.5, 16.5, 16.5,\n",
       "         16.5, 16.5, 16.5, 16.5, 16.5, 16.5, 16.5, 16.5, 16.5, 16.5, 16.5,\n",
       "         16.5, 16.5, 16.5, 16.5, 16.5, 16.5, 16.5, 16.5, 16.5]),\n",
       "  'shape': array([1.4])},\n",
       " 'lbarge': {'i': None,\n",
       "  'o': None,\n",
       "  's': array([157.77803511852022, 157.7289419428097, 157.8643979203001,\n",
       "         158.1765878053073, 158.6582454837584, 159.3026276442415,\n",
       "         160.1034809517118, 161.05499623249577, 162.15175428789502,\n",
       "         163.38865806615593, 164.7608527427674, 166.263637341152,\n",
       "         167.89236347224212, 169.64233519412707, 171.50870733083707,\n",
       "         173.48640315455071, 175.57005928381218, 177.75402522021346,\n",
       "         180.03244420824305, 182.39945169303815, 184.84952471325295,\n",
       "         187.37802807481793, 189.9819718079924, 192.6609830256273,\n",
       "         195.41843540065642, 198.26260764046688, 201.20764272680503,\n",
       "         204.27399244533817, 207.48795264061727, 210.8799353979683,\n",
       "         214.48126127332438, 218.31956536696887, 222.41331498613573,\n",
       "         226.76635918329083, 231.36366471125007, 236.1693655148589,\n",
       "         241.1278427057481, 246.16788279213517, 251.20923466266674,\n",
       "         256.1703358239769, 260.9757797853531, 265.5623249768156,\n",
       "         269.8827159937452, 273.90716084321735, 277.62278843319524,\n",
       "         281.0316637686641, 284.1480187335286, 286.9952565225548,\n",
       "         289.6031371509502, 292.005374281139, 294.23773761065183,\n",
       "         296.3366592832083, 298.33827875664247, 159.42976033444802,\n",
       "         158.69573245436587, 158.2182618986365, 157.9930866124371,\n",
       "         158.0163175813126, 158.28443086816193, 158.79425187123098,\n",
       "         159.54292969463538, 160.5279008336574, 161.74684013136368,\n",
       "         163.19759822005147, 164.87812617345003, 166.78638730356298,\n",
       "         168.92026045470828, 171.2774401432075, 173.85534456293772,\n",
       "         176.65104688070474, 179.6612520880718, 182.88235072271962,\n",
       "         186.3105880803103, 189.94239420073964, 193.7749230425575,\n",
       "         197.80683747184742, 202.0393547912106, 206.4775115303028,\n",
       "         211.13152671326887, 216.01803016745276, 221.1608009551328,\n",
       "         226.5905634887946, 232.3433788466707, 238.4572970061534,\n",
       "         244.96725208524762, 251.89864419938345, 259.2605604625488,\n",
       "         267.0399652599638, 275.19824361108175, 283.671130382627,\n",
       "         292.3723437729262, 301.20037481815496, 310.04716684720864,\n",
       "         318.8070617217437, 327.38451369555855, 335.6995461060196,\n",
       "         343.69056903722407, 351.3147518475607, 358.54652170698955,\n",
       "         365.37489813573364, 371.80032775902083, 377.8315290130237,\n",
       "         383.48266990615605, 388.77104213302556, 393.71526833289147,\n",
       "         398.33400626021216], dtype=object),\n",
       "  'lifetime': array([16.5, 16.5, 16.5, 16.5, 16.5, 16.5, 16.5, 16.5, 16.5, 16.5, 16.5,\n",
       "         16.5, 16.5, 16.5, 16.5, 16.5, 16.5, 16.5, 16.5, 16.5, 16.5, 16.5,\n",
       "         16.5, 16.5, 16.5, 16.5, 16.5, 16.5, 16.5, 16.5, 16.5, 16.5, 16.5,\n",
       "         16.5, 16.5, 16.5, 16.5, 16.5, 16.5, 16.5, 16.5, 16.5, 16.5, 16.5,\n",
       "         16.5, 16.5, 16.5, 16.5, 16.5, 16.5, 16.5, 16.5, 16.5]),\n",
       "  'shape': array([1.4])},\n",
       " 'mbarge': {'i': None,\n",
       "  'o': None,\n",
       "  's': array([283.64456234455827, 282.72869016334965, 282.0674009676359,\n",
       "         281.63766570133726, 281.41683971958753, 281.3826150783633,\n",
       "         281.51297358420464, 281.786132116579, 282.18049177734974,\n",
       "         282.6745852152924, 283.2470287328324, 283.8764892297968,\n",
       "         284.541661840584, 285.2212850672169, 285.89419015569257,\n",
       "         286.53941939130266, 287.1364223782034, 287.66536761113406,\n",
       "         288.10759879591456, 288.44627311614903, 288.66720459197813,\n",
       "         288.7599456132367, 288.7190809523048, 288.54568659572317,\n",
       "         288.2488167529012, 287.84679152234105, 287.36794649667297,\n",
       "         286.85043734933214, 286.3406572643355, 285.8899690236872,\n",
       "         285.54971075680504, 285.36487708309664, 285.36735732190067,\n",
       "         285.5700164095899, 285.9629834938186, 286.51324055941797,\n",
       "         287.16791163548663, 287.86078024167057, 288.5207868607383,\n",
       "         289.08083233015185, 289.48526167094417, 289.69491226132516,\n",
       "         289.68929008275956, 289.46610555072107, 289.0388576083645,\n",
       "         288.4333042257082, 287.6836106050645, 286.82875206537346,\n",
       "         285.9095208871009, 284.96627025291446, 284.03738460106536,\n",
       "         283.1583808471012, 282.3615009972032, 286.61394192666154,\n",
       "         284.4616594689685, 282.69967457701426, 281.3109368957002,\n",
       "         280.27823314365247, 279.5841333097043, 279.21093137151706,\n",
       "         279.1405800308088, 279.3546218488779, 279.8341175279421,\n",
       "         280.55957481801346, 281.51088450488106, 282.66726868485193,\n",
       "         284.00725388298497, 285.5086823506026, 287.1487827478906,\n",
       "         288.9043258150029, 290.7518975357341, 292.66833075892083,\n",
       "         294.6313394860644, 296.6204000388429, 298.61791595242994,\n",
       "         300.6106725677805, 302.59154413134166, 304.56132893843323,\n",
       "         306.5304813494421, 308.52037673222713, 310.5636293640484,\n",
       "         312.70293071741673, 314.98796343985157, 317.4702152706213,\n",
       "         320.1959918855128, 323.19850280829047, 326.4904140644903,\n",
       "         330.0585045328068, 333.8618469901015, 337.8342591596326,\n",
       "         341.89078625917875, 345.93700053256185, 349.8792815550016,\n",
       "         353.6341409190167, 357.1351018222612, 360.33638847332213,\n",
       "         363.2134706790746, 365.76109298541814, 367.9897011879446,\n",
       "         369.9211783655578, 371.5846224107741, 373.0126424005138,\n",
       "         374.23840714854055, 375.2934987632857, 376.20650163764833,\n",
       "         377.0022015767181], dtype=object),\n",
       "  'lifetime': array([16.5, 16.5, 16.5, 16.5, 16.5, 16.5, 16.5, 16.5, 16.5, 16.5, 16.5,\n",
       "         16.5, 16.5, 16.5, 16.5, 16.5, 16.5, 16.5, 16.5, 16.5, 16.5, 16.5,\n",
       "         16.5, 16.5, 16.5, 16.5, 16.5, 16.5, 16.5, 16.5, 16.5, 16.5, 16.5,\n",
       "         16.5, 16.5, 16.5, 16.5, 16.5, 16.5, 16.5, 16.5, 16.5, 16.5, 16.5,\n",
       "         16.5, 16.5, 16.5, 16.5, 16.5, 16.5, 16.5, 16.5, 16.5]),\n",
       "  'shape': array([1.4])},\n",
       " 'sbarge': {'i': None,\n",
       "  'o': None,\n",
       "  's': array([1082.7452480038044, 1076.83810171974, 1071.697497614592,\n",
       "         1067.2149437410972, 1063.2829010920568, 1059.794809960208,\n",
       "         1056.64517585775, 1053.7296891009767, 1050.9454268649017,\n",
       "         1048.1911199493243, 1045.3675102690074, 1042.3778339602904,\n",
       "         1039.1284077820128, 1035.5294047211726, 1031.4957861572973,\n",
       "         1026.9484878972858, 1021.8158527899812, 1016.035393322006,\n",
       "         1009.5559256320214, 1002.340131199353, 994.3675421177661,\n",
       "         985.6379742332308, 976.1752300939237, 966.0308370574008,\n",
       "         955.2873208016161, 944.0602769531856, 932.4982337480658,\n",
       "         920.7792030442411, 909.1028423913192, 897.67773488481,\n",
       "         886.7041596304083, 876.354052106404, 866.751132463321,\n",
       "         857.9550786269887, 849.9534579525464, 842.6639638395934,\n",
       "         835.9472650079633, 829.6282698646007, 823.5216432117429,\n",
       "         817.456617336923, 811.2967148028156, 804.9517563314529,\n",
       "         798.3815571578943, 791.5925166763775, 784.62939003851,\n",
       "         777.5647209838236, 770.4880955661991, 763.4966640931078,\n",
       "         756.6877015204053, 750.1533867480202, 743.9776210088975,\n",
       "         738.2345179997741, 732.9881221634307, 1094.0801440633886,\n",
       "         1083.4385191599476, 1074.0997817589277, 1065.9768640863103,\n",
       "         1058.9808809838464, 1053.021038084849, 1048.00457301914,\n",
       "         1043.836736754813, 1040.420832979844, 1037.6583265462107,\n",
       "         1035.4490407956812, 1033.691472029247, 1032.2832408462668,\n",
       "         1031.121721790972, 1030.104888090203, 1029.132427471664,\n",
       "         1028.1071889533334, 1026.9370311242335, 1025.5371562476494,\n",
       "         1023.8330080866938, 1021.7637938660706, 1019.2866504529852,\n",
       "         1016.3813610608534, 1013.0553886021046, 1009.3487259334859,\n",
       "         1005.3377687028595, 1001.1370783881787, 996.8976647998174,\n",
       "         992.800414217346, 989.0437307131878, 985.8254091490531,\n",
       "         983.3202243574906, 981.6563146833216, 980.894676519167,\n",
       "         981.0163673172383, 981.9209290648577, 983.4372627571371,\n",
       "         985.34528131523, 987.4040973825032, 989.3811764371096,\n",
       "         991.0771108473007, 992.3423411734528, 993.0844417748258,\n",
       "         993.2667757373437, 992.9007665738238, 992.0345713795049,\n",
       "         990.7407086174318, 989.1045357065944, 987.2146899492493,\n",
       "         985.1559215218771, 983.0042787577748, 980.8243166739159,\n",
       "         978.6678949122561], dtype=object),\n",
       "  'lifetime': array([16.5, 16.5, 16.5, 16.5, 16.5, 16.5, 16.5, 16.5, 16.5, 16.5, 16.5,\n",
       "         16.5, 16.5, 16.5, 16.5, 16.5, 16.5, 16.5, 16.5, 16.5, 16.5, 16.5,\n",
       "         16.5, 16.5, 16.5, 16.5, 16.5, 16.5, 16.5, 16.5, 16.5, 16.5, 16.5,\n",
       "         16.5, 16.5, 16.5, 16.5, 16.5, 16.5, 16.5, 16.5, 16.5, 16.5, 16.5,\n",
       "         16.5, 16.5, 16.5, 16.5, 16.5, 16.5, 16.5, 16.5, 16.5]),\n",
       "  'shape': array([1.4])},\n",
       " 'A330': {'i': None,\n",
       "  'o': None,\n",
       "  's': array([206.3066042941688, 206.39860298516749, 206.47210847446598,\n",
       "         206.52305709057748, 206.54650563845033, 206.53644760931792,\n",
       "         206.4855942109679, 206.38511509300142, 206.22433374367395,\n",
       "         205.99037320178465, 205.66774929743826, 205.23791158764305,\n",
       "         204.67873713862107, 203.96399017658814, 203.0627724258022,\n",
       "         201.93900584195043, 200.5510125217862, 198.85128643878568,\n",
       "         196.78658773364046, 194.29852966690348, 191.32486424919227,\n",
       "         187.80169267680506, 183.66681199912745, 178.86433505947747,\n",
       "         173.3505608902958, 167.10081179176115, 160.1166033153868,\n",
       "         152.43213320724664, 144.11877997561174, 135.28624451516112,\n",
       "         126.07928531390168, 116.6697252551371, 107.24441416158064,\n",
       "         97.99082156473268, 89.08255773993945, 80.6671363162974,\n",
       "         72.85769369454339, 65.72940284315108, 59.320310649950194,\n",
       "         53.63558686905566, 48.65383709494877, 44.334172259898565,\n",
       "         40.6230104810088, 37.459961246198496, 34.78249095680609,\n",
       "         32.529331997775635, 30.642760980247836, 29.06994994585803,\n",
       "         27.763612232097447, 26.68214698770483, 25.78945202994106,\n",
       "         25.0545363193948, 24.45102773812933, 198.0211091177853,\n",
       "         196.53602833867825, 195.5098852892284, 194.9084158302704,\n",
       "         194.69725034243388, 194.8416891383169, 195.3064229864696,\n",
       "         196.05519693950345, 197.05040984187124, 198.25263346671431,\n",
       "         199.62005119483774, 201.10780280713848, 202.6672412877771,\n",
       "         204.24510739039383, 205.78263902277712, 207.2146676768471,\n",
       "         208.46876684295916, 209.4645687383334, 210.1134148044057,\n",
       "         210.31856464443933, 209.97624624168597, 208.97789148348411,\n",
       "         207.2138970549685, 204.579195783154, 200.9807533075082,\n",
       "         196.34677961163956, 190.63697994815558, 183.8526233075596,\n",
       "         176.04470871774632, 167.3182660864705, 157.8310806911926,\n",
       "         147.7859387127161, 137.41678610227183, 126.970599589636,\n",
       "         116.6878206086929, 106.78450518702263, 97.43880748506699,\n",
       "         88.78325741568025, 80.90295920009582, 73.83874486609703,\n",
       "         67.59370770708067, 62.1414293875895, 57.43447251489891,\n",
       "         53.41213952544036, 50.00694636890881, 47.14961990906564,\n",
       "         44.77267655487233, 42.812775694786424, 41.21209557388403,\n",
       "         39.9189766683673, 38.88805157319093, 38.08003499571112,\n",
       "         37.461310123847376], dtype=object),\n",
       "  'lifetime': array([20., 20., 20., 20., 20., 20., 20., 20., 20., 20., 20., 20., 20.,\n",
       "         20., 20., 20., 20., 20., 20., 20., 20., 20., 20., 20., 20., 20.,\n",
       "         20., 20., 20., 20., 20., 20., 20., 20., 20., 20., 20., 20., 20.,\n",
       "         20., 20., 20., 20., 20., 20., 20., 20., 20., 20., 20., 20., 20.,\n",
       "         20.]),\n",
       "  'shape': array([4.])},\n",
       " 'B787': {'i': None,\n",
       "  'o': None,\n",
       "  's': array([0.3767399921340671, 0.46033578193718366, 0.5624247734404925,\n",
       "         0.6870706381307969, 0.8392165710597166, 1.0248690809938716,\n",
       "         1.2513169601457017, 1.5273905589139682, 1.8637663890432237,\n",
       "         2.2733214117343397, 2.7715397968825206, 3.376971987479508,\n",
       "         4.111740917303294, 5.002082360137961, 6.078894591725704,\n",
       "         7.378255656379268, 8.941843457345291, 10.81716402114762,\n",
       "         13.057457207094643, 15.721109754633437, 18.870369653146426,\n",
       "         22.56913570633538, 26.879610864814758, 31.857682285266563,\n",
       "         37.54705093525002, 43.97239451458649, 51.13219747176262,\n",
       "         58.99226206070458, 67.48120977314126, 76.48933971439362,\n",
       "         85.87189339645487, 95.45704793602125, 105.05795351037952,\n",
       "         114.48714058802925, 123.57099889362429, 132.1620147980681,\n",
       "         140.14705190062392, 147.45093723281798, 154.0356239068207,\n",
       "         159.89594216851702, 165.0532864234257, 169.54854573927767,\n",
       "         173.43530199896924, 176.77394571458134, 179.62701048477555,\n",
       "         182.05576392460776, 184.11792942293735, 185.86633493812894,\n",
       "         187.34826713269132, 188.60532685788573, 189.6736162964513,\n",
       "         190.58412648779938, 191.36322954986665, 0.36160970874708104,\n",
       "         0.43833904384815825, 0.5325639562244768, 0.6484305022796241,\n",
       "         0.7910720073528835, 0.9668376947404781, 1.1835704105278375,\n",
       "         1.4509421219474894, 1.780856430196795, 2.1879272782865025,\n",
       "         2.6900421579568974, 3.309015431358291, 4.071332470825048,\n",
       "         5.008976574430842, 6.160316617777316, 7.571012779314377,\n",
       "         9.29486745250441, 11.39450811327293, 13.941737361484046,\n",
       "         17.017325060980188, 20.709955292585242, 25.11399298530976,\n",
       "         30.32572329205452, 36.43777849434231, 43.531642139984385,\n",
       "         51.66843872375054, 60.878681550152606, 71.15220332160219,\n",
       "         82.42999226363222, 94.59988885771094, 107.49786296787452,\n",
       "         120.91576803767678, 134.61518195369166, 148.34553536386284,\n",
       "         161.8636792337124, 174.95173374439483, 187.43060502294384,\n",
       "         199.16770806154787, 210.07876829628978, 220.1246666272043,\n",
       "         229.3049071715738, 237.64938975427523, 245.2099184138463,\n",
       "         252.05244049546417, 258.2505747180224, 263.8806130997959,\n",
       "         269.01794219260046, 273.73468897396435, 278.0983477988424,\n",
       "         282.171132849207, 286.00985255702943, 289.6661153000233,\n",
       "         293.18674720938355], dtype=object),\n",
       "  'lifetime': array([20., 20., 20., 20., 20., 20., 20., 20., 20., 20., 20., 20., 20.,\n",
       "         20., 20., 20., 20., 20., 20., 20., 20., 20., 20., 20., 20., 20.,\n",
       "         20., 20., 20., 20., 20., 20., 20., 20., 20., 20., 20., 20., 20.,\n",
       "         20., 20., 20., 20., 20., 20., 20., 20., 20., 20., 20., 20., 20.,\n",
       "         20.]),\n",
       "  'shape': array([4.])},\n",
       " 'Boorvaartuig': {'i': None,\n",
       "  'o': None,\n",
       "  's': array([1.7990432949998294, 1.804171328992526, 1.809839582540261,\n",
       "         1.8160480556428864, 1.8227967483005498, 1.8300856605131037,\n",
       "         1.837914792280549, 1.8462841436030315, 1.8551937144804058,\n",
       "         1.8646435049128176, 1.87463351490012, 1.8851637444424603,\n",
       "         1.8962341935398384, 1.9078448621919606, 1.9199957503991205,\n",
       "         1.9326868581611716, 1.9459181854782603, 1.95968973235024,\n",
       "         1.9740014987771106, 1.9888534847590187, 2.004245690295818,\n",
       "         2.020178115387802, 2.03665076003453, 2.053663624236296,\n",
       "         2.0712167079929524, 2.0893100113046468, 2.1079435341710857,\n",
       "         2.1271172765927084, 2.1468312385692228, 2.1670854201007743,\n",
       "         2.1878798211870705, 2.209214441828404, 2.2310892820247754,\n",
       "         2.253504341776038, 2.276459621082192, 2.299955119943383,\n",
       "         2.323990838359465, 2.348566776330732, 2.3736829338567422,\n",
       "         2.399339310937645, 2.425535907573584, 2.452272723764414,\n",
       "         2.4795497595102827, 2.5073670148110416, 2.5357244896668383,\n",
       "         2.5646221840776735, 2.5940600980432515, 2.624038231563869,\n",
       "         2.6545565846393764, 2.685615157269922, 2.7172139494553584,\n",
       "         2.749352961195832, 2.782032192491197, 1.7813860948323652,\n",
       "         1.7841336808086132, 1.7880334056881715, 1.793085269470454,\n",
       "         1.799289272156047, 1.8066454137446577, 1.8151536942365794,\n",
       "         1.8248141136312253, 1.8356266719294752, 1.8475913691304497,\n",
       "         1.8607082052344408, 1.8749771802417436, 1.8903982941520636,\n",
       "         1.906971546965695, 1.9246969386823434, 1.9435744693020092,\n",
       "         1.9636041388246928, 1.9847859472506868, 2.0071198945796986,\n",
       "         2.030605980811728, 2.0552442059470684, 2.0810345699854262,\n",
       "         2.107977072926508, 2.136071714771194, 2.165318495518898,\n",
       "         2.195717415169619, 2.227268473723651, 2.259971671180407,\n",
       "         2.2938270075401803, 2.3288344828035585, 2.3649940969696606,\n",
       "         2.402305850039074, 2.4407697420117977, 2.4803857728872454,\n",
       "         2.521153942665711, 2.563074251347487, 2.606146698932281,\n",
       "         2.6503712854203854, 2.6957480108115077, 2.7422768751056474,\n",
       "         2.7899578783028045, 2.838791020403273, 2.8887763014067587,\n",
       "         2.9399137213132613, 2.992203280123076, 3.045644977835907,\n",
       "         3.100238814451462, 3.155984789970623, 3.2128829043927998,\n",
       "         3.270933157717995, 3.3301355499462066, 3.3904900810777305,\n",
       "         3.4519967511122713], dtype=object),\n",
       "  'lifetime': array([16.5, 16.5, 16.5, 16.5, 16.5, 16.5, 16.5, 16.5, 16.5, 16.5, 16.5,\n",
       "         16.5, 16.5, 16.5, 16.5, 16.5, 16.5, 16.5, 16.5, 16.5, 16.5, 16.5,\n",
       "         16.5, 16.5, 16.5, 16.5, 16.5, 16.5, 16.5, 16.5, 16.5, 16.5, 16.5,\n",
       "         16.5, 16.5, 16.5, 16.5, 16.5, 16.5, 16.5, 16.5, 16.5, 16.5, 16.5,\n",
       "         16.5, 16.5, 16.5, 16.5, 16.5, 16.5, 16.5, 16.5, 16.5]),\n",
       "  'shape': array([1.4])},\n",
       " 'Overig': {'i': None,\n",
       "  'o': None,\n",
       "  's': array([8.095629029704813, 8.118704995120417, 8.144211928775825,\n",
       "         8.172149830670378, 8.202518700804735, 8.235318539178234,\n",
       "         8.270549345790878, 8.308211120643325, 8.34830386373492,\n",
       "         8.390827575066318, 8.435782254636859, 8.483167902447203,\n",
       "         8.532984518497354, 8.585232102785987, 8.639910655314425,\n",
       "         8.697020176082006, 8.756560665089394, 8.818532122335924,\n",
       "         8.882934547821598, 8.949767941547076, 9.019032303511699,\n",
       "         9.090727633716787, 9.164853932160357, 9.241411198843734,\n",
       "         9.320399433766253, 9.401818636928576, 9.485668808329384,\n",
       "         9.571949947970655, 9.660662055851073, 9.751805131971294,\n",
       "         9.845379176329997, 9.941384188928504, 10.039820169766818,\n",
       "         10.140687118844276, 10.243985036160877, 10.349713921717283,\n",
       "         10.457873775512832, 10.568464597548848, 10.681486387823345,\n",
       "         10.796939146336989, 10.914822873090433, 11.035137568083023,\n",
       "         11.157883231315417, 11.283059862786956, 11.410667462498298,\n",
       "         11.540706030449448, 11.673175566639074, 11.808076071068514,\n",
       "         11.945407543737092, 12.085169984645477, 12.227363393793006,\n",
       "         12.371987771180336, 12.519043116806813, 8.01617227474159,\n",
       "         8.02853631114513, 8.046084930475505, 8.068818132730074,\n",
       "         8.09673591791148, 8.129838286018405, 8.168125237052163,\n",
       "         8.21159677101012, 8.260252887896232, 8.314093587706543,\n",
       "         8.373118870442365, 8.437328736105027, 8.506723184693206,\n",
       "         8.58130221620822, 8.661065830648752, 8.746014028014798,\n",
       "         8.836146808306362, 8.93146417152476, 9.031966117668677,\n",
       "         9.13765264673811, 9.24852375873438, 9.364579453656164,\n",
       "         9.485819731502147, 9.612244592276285, 9.743854035975941,\n",
       "         9.88064806260111, 10.02262667215312, 10.169789864629323,\n",
       "         10.322137640031041, 10.479669998360919, 10.64238693961499,\n",
       "         10.810288463795903, 10.98337457090365, 11.16164526093559,\n",
       "         11.345100533893048, 11.533740389777343, 11.727564828587155,\n",
       "         11.926573850323802, 12.130767454985966, 12.340145642573647,\n",
       "         12.554708413086844, 12.774455766526877, 12.99938770289243,\n",
       "         13.229504222183493, 13.464805324401398, 13.705291009544817,\n",
       "         13.950961277612427, 14.201816128608202, 14.457855562529488,\n",
       "         14.719079579376297, 14.985488179148614, 15.257081361847773,\n",
       "         15.533859127472446], dtype=object),\n",
       "  'lifetime': array([16.5, 16.5, 16.5, 16.5, 16.5, 16.5, 16.5, 16.5, 16.5, 16.5, 16.5,\n",
       "         16.5, 16.5, 16.5, 16.5, 16.5, 16.5, 16.5, 16.5, 16.5, 16.5, 16.5,\n",
       "         16.5, 16.5, 16.5, 16.5, 16.5, 16.5, 16.5, 16.5, 16.5, 16.5, 16.5,\n",
       "         16.5, 16.5, 16.5, 16.5, 16.5, 16.5, 16.5, 16.5, 16.5, 16.5, 16.5,\n",
       "         16.5, 16.5, 16.5, 16.5, 16.5, 16.5, 16.5, 16.5, 16.5]),\n",
       "  'shape': array([1.4])},\n",
       " 'Bulk Carrier': {'i': None,\n",
       "  'o': None,\n",
       "  's': array([4.804028566108095, 4.81772207857517, 4.8328581523088845,\n",
       "         4.849436787308845, 4.867457983575442, 4.886921741108285,\n",
       "         4.9078280599073745, 4.9301769399731015, 4.953968381305076,\n",
       "         4.979202383903688, 5.0058789477685455, 5.03399807290004,\n",
       "         5.063559759298174, 5.094564006962162, 5.127010815892787,\n",
       "         5.160900186089659, 5.196232117553168, 5.233006610282924,\n",
       "         5.271223664278926, 5.3108832795415655, 5.351985456070451,\n",
       "         5.394530193866366, 5.438517492928136, 5.483947353256545,\n",
       "         5.530819774851198, 5.579134757712489, 5.628892301839635,\n",
       "         5.6800924072338095, 5.732735073894232, 5.786820301821291,\n",
       "         5.8423480910142045, 5.899318441473755, 5.957731353199946,\n",
       "         6.017586826192382, 6.078884860451064, 6.141625455976383,\n",
       "         6.205808612767949, 6.271434330826545, 6.338502610150994,\n",
       "         6.407013450741691, 6.476966852599023, 6.548362815722602,\n",
       "         6.621201340112821, 6.695482425769285, 6.771206072692386,\n",
       "         6.848372280882126, 6.926981050337718, 7.007032381059951,\n",
       "         7.088526273048429, 7.171462726303545, 7.255841740824907,\n",
       "         7.341663316612905, 7.428927453667152, 4.75687811995833,\n",
       "         4.764215064852552, 4.774628593961846, 4.788118707284646,\n",
       "         4.804685404822519, 4.824328686574682, 4.847048552541918,\n",
       "         4.872845002722661, 4.901718037119261, 4.933667655729368,\n",
       "         4.968693858553763, 5.006796645593234, 5.0479760168469925,\n",
       "         5.092231972315826, 5.139564511998949, 5.189973635896361,\n",
       "         5.2434593440080635, 5.300021636334838, 5.359660512875904,\n",
       "         5.422375973631259, 5.488168018601688, 5.557036647786407,\n",
       "         5.628981861184632, 5.7040036587987135, 5.782102040627086,\n",
       "         5.863277006669747, 5.947528556927482, 6.034856691398723,\n",
       "         6.125261410084254, 6.218742712985642, 6.315300600100535,\n",
       "         6.414935071430504, 6.517646126975546, 6.623433766734093,\n",
       "         6.73229799070693, 6.84423879889484, 6.959256191297041,\n",
       "         7.0773501679143145, 7.198520728745878, 7.322767873791732,\n",
       "         7.450091603051876, 7.580491916527092, 7.713968814216599,\n",
       "         7.850522296120395, 7.990152362239266, 8.132859012572426,\n",
       "         8.27864224711909, 8.427502065881615, 8.579438468858426,\n",
       "         8.73445145604953, 8.892541027454921, 9.053707183075387,\n",
       "         9.217949922910144], dtype=object),\n",
       "  'lifetime': array([16.5, 16.5, 16.5, 16.5, 16.5, 16.5, 16.5, 16.5, 16.5, 16.5, 16.5,\n",
       "         16.5, 16.5, 16.5, 16.5, 16.5, 16.5, 16.5, 16.5, 16.5, 16.5, 16.5,\n",
       "         16.5, 16.5, 16.5, 16.5, 16.5, 16.5, 16.5, 16.5, 16.5, 16.5, 16.5,\n",
       "         16.5, 16.5, 16.5, 16.5, 16.5, 16.5, 16.5, 16.5, 16.5, 16.5, 16.5,\n",
       "         16.5, 16.5, 16.5, 16.5, 16.5, 16.5, 16.5, 16.5, 16.5]),\n",
       "  'shape': array([1.4])},\n",
       " 'Bergings schip': {'i': None,\n",
       "  'o': None,\n",
       "  's': array([5.714538445275956, 5.730827295845252, 5.748832117022224,\n",
       "         5.768552908806404, 5.789989671198257, 5.813142404197317,\n",
       "         5.838011107803587, 5.864595782017529, 5.892896426838682,\n",
       "         5.922913042267508, 5.954645628303542, 5.988094184947249,\n",
       "         6.023258712198631, 6.060139210056754, 6.098735678522552,\n",
       "         6.139048117595558, 6.181076527276238, 6.224820907564126,\n",
       "         6.270281258459222, 6.317457579961992, 6.36634987207197,\n",
       "         6.416958134790089, 6.469282368114948, 6.5233225720474834,\n",
       "         6.579078746587226, 6.636550891734642, 6.6957390074888,\n",
       "         6.756643093851098, 6.819263150820605, 6.883599178397786,\n",
       "         6.949651176581708, 7.017419145373305, 7.086903084772576,\n",
       "         7.158102994779055, 7.231018875392742, 7.305650726614103,\n",
       "         7.381998548442672, 7.460062340879382, 7.539842103922832,\n",
       "         7.621337837573493, 7.704549541831825, 7.789477216697366,\n",
       "         7.876120862170581, 7.964480478251005, 8.054556064939101,\n",
       "         8.146347622234874, 8.239855150137386, 8.335078648647576,\n",
       "         8.43201811776497, 8.530673557490042, 8.63104496782232,\n",
       "         8.73313234876227, 8.83693570030943, 5.6584515520514564,\n",
       "         5.667179071692929, 5.679566282057556, 5.695613183143476,\n",
       "         5.715319774952552, 5.738686057483854, 5.765712030738312,\n",
       "         5.796397694714063, 5.830743049413902, 5.868748094835037,\n",
       "         5.910412830978392, 5.955737257844906, 6.004721375433645,\n",
       "         6.057365183745541, 6.113668682779663, 6.173631872536006,\n",
       "         6.237254753014577, 6.3045373242163025, 6.375479586140255,\n",
       "         6.4500815387864305, 6.528343182155764, 6.610264516247321,\n",
       "         6.695845541060171, 6.785086256597111, 6.877986662856276,\n",
       "         6.974546759837664, 7.07476654754221, 7.178646025968047,\n",
       "         7.28618519511611, 7.397384054988262, 7.512242605581706,\n",
       "         7.630760846898308, 7.752938778938066, 7.878776401699117,\n",
       "         8.008273715182392, 8.141430719388826, 8.278247414317482,\n",
       "         8.418723799969296, 8.562859876343333, 8.710655643439598,\n",
       "         8.862111101258087, 9.017226249799732, 9.176001089063602,\n",
       "         9.338435619049694, 9.504529839758948, 9.674283751190423,\n",
       "         9.84769735334319, 10.02477064622005, 10.20550362981913,\n",
       "         10.38989630414044, 10.577948669183968, 10.769660724950658,\n",
       "         10.96503247143957], dtype=object),\n",
       "  'lifetime': array([16.5, 16.5, 16.5, 16.5, 16.5, 16.5, 16.5, 16.5, 16.5, 16.5, 16.5,\n",
       "         16.5, 16.5, 16.5, 16.5, 16.5, 16.5, 16.5, 16.5, 16.5, 16.5, 16.5,\n",
       "         16.5, 16.5, 16.5, 16.5, 16.5, 16.5, 16.5, 16.5, 16.5, 16.5, 16.5,\n",
       "         16.5, 16.5, 16.5, 16.5, 16.5, 16.5, 16.5, 16.5, 16.5, 16.5, 16.5,\n",
       "         16.5, 16.5, 16.5, 16.5, 16.5, 16.5, 16.5, 16.5, 16.5]),\n",
       "  'shape': array([1.4])},\n",
       " 'Veer schip': {'i': None,\n",
       "  'o': None,\n",
       "  's': array([7.524767365326988, 7.546216133649451, 7.56992445097174,\n",
       "         7.595892317293241, 7.624119732614567, 7.654606696935103,\n",
       "         7.687353210254852, 7.722359272574424, 7.759624883893211,\n",
       "         7.799150044211823, 7.840934753529645, 7.8849790118472916,\n",
       "         7.931282819164766, 7.979846175480835, 8.030669080796732,\n",
       "         8.083751535111839, 8.139093538426772, 8.196695090740917,\n",
       "         8.256556192054273, 8.318676842367454, 8.383057041679846,\n",
       "         8.449696789992679, 8.518596087304108, 8.589754933615364,\n",
       "         8.66317332892583, 8.738851273236122, 8.816788766545011,\n",
       "         8.896985808854339, 8.97944240016288, 9.064158540471245,\n",
       "         9.151134229778208, 9.240369468084996, 9.33186425539161,\n",
       "         9.425618591697436, 9.521632477002473, 9.619905911307336,\n",
       "         9.720438894611409, 9.823231426915923, 9.928283508219032,\n",
       "         10.035595138521357, 10.145166317823502, 10.25699704612486,\n",
       "         10.371087323426046, 10.487437149726443, 10.606046525026661,\n",
       "         10.72691544932671, 10.85004392262535, 10.975431944923823,\n",
       "         11.103079516221504, 11.232986636519012, 11.365153305815731,\n",
       "         11.499579524112272, 11.636265291408026, 7.450913487572927,\n",
       "         7.4624056764185, 7.478716858361154, 7.499847033398437,\n",
       "         7.525796201532802, 7.556564362763023, 7.592151517090326,\n",
       "         7.632557664512259, 7.677782805032502, 7.727826938647374,\n",
       "         7.782690065358099, 7.842372185165909, 7.906873298069575,\n",
       "         7.976193404070324, 8.05033250316693, 8.129290595359388,\n",
       "         8.213067680647704, 8.3016637590331, 8.395078830514356,\n",
       "         8.493312895091465, 8.596365952765659, 8.704238003535707,\n",
       "         8.816929047400384, 8.934439084363373, 9.056768114422216,\n",
       "         9.183916137576913, 9.315883153828697, 9.452669163175106,\n",
       "         9.594274165617371, 9.740698161157946, 9.89194114979315,\n",
       "         10.048003131525439, 10.20888410635481, 10.374584074278808,\n",
       "         10.545103035298663, 10.7204409894156, 10.900597936628394,\n",
       "         11.08557387693827, 11.275368810344, 11.469982736845589,\n",
       "         11.669415656443032, 11.873667569137558, 12.082738474927941,\n",
       "         12.296628373814176, 12.5153372657975, 12.738865150876675,\n",
       "         12.967212029050476, 13.200377900322595, 13.438362764690563,\n",
       "         13.681166622154391, 13.92878947271407, 14.181231316370837,\n",
       "         14.438492153123459], dtype=object),\n",
       "  'lifetime': array([16.5, 16.5, 16.5, 16.5, 16.5, 16.5, 16.5, 16.5, 16.5, 16.5, 16.5,\n",
       "         16.5, 16.5, 16.5, 16.5, 16.5, 16.5, 16.5, 16.5, 16.5, 16.5, 16.5,\n",
       "         16.5, 16.5, 16.5, 16.5, 16.5, 16.5, 16.5, 16.5, 16.5, 16.5, 16.5,\n",
       "         16.5, 16.5, 16.5, 16.5, 16.5, 16.5, 16.5, 16.5, 16.5, 16.5, 16.5,\n",
       "         16.5, 16.5, 16.5, 16.5, 16.5, 16.5, 16.5, 16.5, 16.5]),\n",
       "  'shape': array([1.4])},\n",
       " 'Steen storter schip': {'i': None,\n",
       "  'o': None,\n",
       "  's': array([10.897957094003061, 10.92902087917395, 10.96335712007089,\n",
       "         11.000965816692998, 11.041846969041162, 11.086000577114488,\n",
       "         11.133426640912981, 11.184125160437528, 11.238096135687243,\n",
       "         11.295339566663014, 11.355855453363949, 11.419643795790936,\n",
       "         11.486704593943982, 11.5570378478213, 11.630643557424678,\n",
       "         11.707521722753219, 11.787672343807815, 11.871095420587576,\n",
       "         11.957790953092504, 12.047758941323485, 12.140999385279633,\n",
       "         12.237512284962726, 12.337297640370092, 12.44035545150352,\n",
       "         12.546685718362106, 12.65628844094675, 12.76916361925567,\n",
       "         12.885311253291533, 13.004731343052564, 13.127423888539647,\n",
       "         13.253388889751008, 13.382626346688424, 13.515136259351895,\n",
       "         13.650918627740532, 13.789973451854335, 13.932300731694193,\n",
       "         14.077900467259216, 14.226772658551182, 14.378917305567423,\n",
       "         14.534334408308837, 14.693023966776297, 14.854985980968925,\n",
       "         15.02022045088761, 15.18872737653146, 15.360506757901364,\n",
       "         15.535558594997326, 15.713882887817556, 15.895479636363852,\n",
       "         16.08034884063531, 16.268490500632822, 16.459904616355498,\n",
       "         16.65459118780423, 16.852550214978127, 10.790996127382597,\n",
       "         10.807640014811241, 10.831263145246158, 10.861865518683794,\n",
       "         10.899447135127707, 10.944007994576117, 10.9955480970308,\n",
       "         11.054067442488206, 11.119566030953665, 11.192043862421846,\n",
       "         11.271500936894519, 11.357937254373473, 11.451352814856923,\n",
       "         11.55174761834665, 11.659121664840873, 11.773474954339592,\n",
       "         11.894807486842813, 12.023119262352305, 12.158410280866299,\n",
       "         12.300680542384788, 12.449930046909554, 12.606158794438818,\n",
       "         12.769366784970801, 12.939554018510838, 13.116720495055374,\n",
       "         13.300866214604405, 13.491991177159713, 13.69009538271774,\n",
       "         13.895178831280264, 14.107241522850844, 14.326283457424141,\n",
       "         14.552304635003718, 14.78530505558957, 15.025284719178138,\n",
       "         15.272243625771207, 15.52618177537055, 15.787099167974391,\n",
       "         16.054995803584507, 16.32987168219912, 16.611726803818236,\n",
       "         16.900561168441843, 17.196374776071732, 17.499167626706114,\n",
       "         17.808939720344995, 18.125691056990153, 18.44942163663981,\n",
       "         18.78013145929218, 19.11782052495261, 19.462488833617535,\n",
       "         19.81413638528696, 20.172763179960878, 20.538369217641076,\n",
       "         20.910954498325772], dtype=object),\n",
       "  'lifetime': array([16.5, 16.5, 16.5, 16.5, 16.5, 16.5, 16.5, 16.5, 16.5, 16.5, 16.5,\n",
       "         16.5, 16.5, 16.5, 16.5, 16.5, 16.5, 16.5, 16.5, 16.5, 16.5, 16.5,\n",
       "         16.5, 16.5, 16.5, 16.5, 16.5, 16.5, 16.5, 16.5, 16.5, 16.5, 16.5,\n",
       "         16.5, 16.5, 16.5, 16.5, 16.5, 16.5, 16.5, 16.5, 16.5, 16.5, 16.5,\n",
       "         16.5, 16.5, 16.5, 16.5, 16.5, 16.5, 16.5, 16.5, 16.5]),\n",
       "  'shape': array([1.4])},\n",
       " 'Meet- en peil vaartuig': {'i': None,\n",
       "  'o': None,\n",
       "  's': array([11.935851503165791, 11.969873726205188, 12.00748006553904,\n",
       "         12.048670521166372, 12.093445093088157, 12.14180378130342,\n",
       "         12.193746585812164, 12.24927350661536, 12.308384543712041,\n",
       "         12.371079697103173, 12.437358966787786, 12.507222352766851,\n",
       "         12.580669855040371, 12.657701473606396, 12.738317208466876,\n",
       "         12.822517059620836, 12.910301027069249, 13.001669110811143,\n",
       "         13.096621310846515, 13.195157627176343, 13.29727805979965,\n",
       "         13.402982608718386, 13.512271273929626, 13.625144055435323,\n",
       "         13.741600953234496, 13.861641967328126, 13.98526709771426,\n",
       "         14.112476344395821, 14.243269707370866, 14.37764718664036,\n",
       "         14.515608782202362, 14.657154494058817, 14.80228432220973,\n",
       "         14.95099826665412, 15.10329632739199, 15.259178504424314,\n",
       "         15.418644797750119, 15.58169520737135, 15.748329733285086,\n",
       "         15.918548375492307, 16.092351133993976, 16.269738008789126,\n",
       "         16.45070899987873, 16.63526410726182, 16.823403330939357,\n",
       "         17.01512667091135, 17.210434127175844, 17.409325699734804,\n",
       "         17.611801388587235, 17.817861193734124, 18.027505115174492,\n",
       "         18.24073315290931, 18.45754530693761, 11.818703839323414,\n",
       "         11.836932849317684, 11.862805788115198, 11.896322655712066,\n",
       "         11.937483452112183, 11.9862881773136, 12.042736831318265,\n",
       "         12.106829414122286, 12.178565925731501, 12.257946366140073,\n",
       "         12.344970735349941, 12.439639033363061, 12.541951260177482,\n",
       "         12.65190741579515, 12.769507500214122, 12.89475151343439,\n",
       "         13.027639455455963, 13.168171326280781, 13.316347125906905,\n",
       "         13.472166854334326, 13.635630511564997, 13.806738097596968,\n",
       "         13.985489612428294, 14.171885056064816, 14.36592442850264,\n",
       "         14.567607729741763, 14.776934959784136, 14.993906118625858,\n",
       "         15.218521206268885, 15.450780222717109, 15.690683167964684,\n",
       "         15.938230042015512, 16.193420844869586, 16.45625557652301,\n",
       "         16.726734236977737, 17.004856826235713, 17.290623344294993,\n",
       "         17.584033791157516, 17.885088166821344, 18.193786471286472,\n",
       "         18.5101287045529, 18.83411486662258, 19.16574495749356,\n",
       "         19.505018977165836, 19.85193692564137, 20.206498802918198,\n",
       "         20.568704608994373, 20.938554343875758, 21.316048007558436,\n",
       "         21.701185600042418, 22.093967121327697, 22.494392571416228,\n",
       "         22.902461950306062], dtype=object),\n",
       "  'lifetime': array([16.5, 16.5, 16.5, 16.5, 16.5, 16.5, 16.5, 16.5, 16.5, 16.5, 16.5,\n",
       "         16.5, 16.5, 16.5, 16.5, 16.5, 16.5, 16.5, 16.5, 16.5, 16.5, 16.5,\n",
       "         16.5, 16.5, 16.5, 16.5, 16.5, 16.5, 16.5, 16.5, 16.5, 16.5, 16.5,\n",
       "         16.5, 16.5, 16.5, 16.5, 16.5, 16.5, 16.5, 16.5, 16.5, 16.5, 16.5,\n",
       "         16.5, 16.5, 16.5, 16.5, 16.5, 16.5, 16.5, 16.5, 16.5]),\n",
       "  'shape': array([1.4])},\n",
       " 'Ro-Ro Vessel': {'i': None,\n",
       "  'o': None,\n",
       "  's': array([15.724356910213562, 15.769177975372463, 15.818720775198285,\n",
       "         15.872985309689744, 15.931971578848122, 15.995679582672135,\n",
       "         16.064109321161787, 16.137260794318355, 16.215134002140566,\n",
       "         16.297728944629696, 16.38504562178446, 16.477084033606143,\n",
       "         16.573844180094746, 16.675326061247702, 16.78152967706758,\n",
       "         16.892455027553098, 17.00810211270553, 17.1284709325236,\n",
       "         17.25356148700731, 17.383373776157935, 17.5179077999742,\n",
       "         17.657163558458667, 17.801141051607487, 17.94984027942323,\n",
       "         18.103261241904608, 18.261403939052904, 18.424268370865555,\n",
       "         18.591854537346407, 18.7641624384929, 18.941192074306308,\n",
       "         19.12294344478407, 19.309416549928752, 19.500611389740357,\n",
       "         19.696527964217598, 19.897166273360476, 20.102526317170273,\n",
       "         20.312608095645707, 20.527411608789347, 20.746936856597333,\n",
       "         20.971183839070964, 21.200152556211506, 21.43384300801769,\n",
       "         21.672255194490795, 21.915389115629534, 22.163244771435192,\n",
       "         22.415822161907773, 22.6731212870447, 22.935142146848563,\n",
       "         23.20188474131805, 23.47334907045446, 23.74953513425651,\n",
       "         24.03044293272547, 24.316072465860078, 15.570025928719136,\n",
       "         15.594040927497709, 15.628126080438857, 15.672281387537453,\n",
       "         15.726506848798628, 15.79080246421982, 15.865168233803589,\n",
       "         15.94960415754481, 16.04411023545117, 16.14868646751499,\n",
       "         16.263332853738813, 16.388049394125225, 16.522836088671646,\n",
       "         16.66769293738065, 16.82261994024967, 16.987617097278697,\n",
       "         17.162684408467744, 17.347821873819367, 17.54302949333101,\n",
       "         17.74830726700266, 17.963655194836896, 18.18907327683114,\n",
       "         18.42456151298284, 18.670119903299685, 18.92574844777654,\n",
       "         19.191447146413413, 19.467215999212865, 19.753055006169763,\n",
       "         20.048964167286677, 20.354943482568736, 20.670992952008245,\n",
       "         20.997112575610338, 21.333302353375004, 21.67956228529712,\n",
       "         22.03589237137925, 22.402292611623963, 22.77876300602869,\n",
       "         23.165303554595997, 23.561914257323316, 23.96859511421065,\n",
       "         24.385346125258, 24.81216729046793, 25.249058609837874,\n",
       "         25.696020083367827, 26.15305171106037, 26.620153492912923,\n",
       "         27.097325428922915, 27.58456751909807, 28.081879763433225,\n",
       "         28.589262161928406, 29.10671471458359, 29.63423742140136,\n",
       "         30.171830282379144], dtype=object),\n",
       "  'lifetime': array([16.5, 16.5, 16.5, 16.5, 16.5, 16.5, 16.5, 16.5, 16.5, 16.5, 16.5,\n",
       "         16.5, 16.5, 16.5, 16.5, 16.5, 16.5, 16.5, 16.5, 16.5, 16.5, 16.5,\n",
       "         16.5, 16.5, 16.5, 16.5, 16.5, 16.5, 16.5, 16.5, 16.5, 16.5, 16.5,\n",
       "         16.5, 16.5, 16.5, 16.5, 16.5, 16.5, 16.5, 16.5, 16.5, 16.5, 16.5,\n",
       "         16.5, 16.5, 16.5, 16.5, 16.5, 16.5, 16.5, 16.5, 16.5]),\n",
       "  'shape': array([1.4])},\n",
       " 'Zuiger schip': {'i': None,\n",
       "  'o': None,\n",
       "  's': array([18.215461406910713, 18.267383173077715, 18.324774706694672,\n",
       "         18.3876360077601, 18.455967076275478, 18.529767912239322,\n",
       "         18.60903851565164, 18.693778886513904, 18.783989024824645,\n",
       "         18.87966893058534, 18.9808186037945, 19.087438044453613,\n",
       "         19.19952725256268, 19.31708622811873, 19.440114971124736,\n",
       "         19.568613481579206, 19.702581759483635, 19.84201980483653,\n",
       "         19.986927617637892, 20.13730519788921, 20.293152545588992,\n",
       "         20.454469660740216, 20.621256543338422, 20.793513193386588,\n",
       "         20.971239610883217, 21.154435795829798, 21.343101748223365,\n",
       "         21.53723746806837, 21.736842955361844, 21.94191821010527,\n",
       "         22.15246323229568, 22.368478021936042, 22.589962579026363,\n",
       "         22.81691690356515, 23.049340995552406, 23.287234854989617,\n",
       "         23.53059848187529, 23.77943187621241, 24.033735037996507,\n",
       "         24.29350796722908, 24.558750663911596, 24.829463128042583,\n",
       "         25.10564535962353, 25.38729735865294, 25.674419125132307,\n",
       "         25.96701065906163, 26.265071960437922, 26.568603029264185,\n",
       "         26.87760386553891, 27.19207446926359, 27.512014840436738,\n",
       "         27.837424979059833, 28.168304885131406, 18.036680802186815,\n",
       "         18.064500336297872, 18.103985371615586, 18.15513590813402,\n",
       "         18.217951945859117, 18.29243348478791, 18.37858052492336,\n",
       "         18.47639306625954, 18.58587110880535, 18.707014652551887,\n",
       "         18.839823697502105, 18.984298243658994, 19.140438291019578,\n",
       "         19.308243839586822, 19.48771488935776, 19.678851440332387,\n",
       "         19.88165349251071, 20.096121045895693, 20.322254100484376,\n",
       "         20.560052656276742, 20.80951671327578, 21.070646271478505,\n",
       "         21.343441330881955, 21.62790189149504, 21.924027953311814,\n",
       "         22.231819516332283, 22.551276580559414, 22.882399145987264,\n",
       "         23.22518721261881, 23.57964078045999, 23.94575984950189,\n",
       "         24.323544419750462, 24.71299449120569, 25.114110063861638,\n",
       "         25.526891137721282, 25.951337712787588, 26.387449789057587,\n",
       "         26.83522736653425, 27.294670445214603, 27.765779025098656,\n",
       "         28.248553106186392, 28.742992688480797, 29.249097771978896,\n",
       "         29.766868356680682, 30.29630444258914, 30.837406029701285,\n",
       "         31.39017311801414, 31.95460570753665, 32.53070379826284,\n",
       "         33.118467390192734, 33.7178964833263, 34.32899107766655,\n",
       "         34.95175117321048], dtype=object),\n",
       "  'lifetime': array([16.5, 16.5, 16.5, 16.5, 16.5, 16.5, 16.5, 16.5, 16.5, 16.5, 16.5,\n",
       "         16.5, 16.5, 16.5, 16.5, 16.5, 16.5, 16.5, 16.5, 16.5, 16.5, 16.5,\n",
       "         16.5, 16.5, 16.5, 16.5, 16.5, 16.5, 16.5, 16.5, 16.5, 16.5, 16.5,\n",
       "         16.5, 16.5, 16.5, 16.5, 16.5, 16.5, 16.5, 16.5, 16.5, 16.5, 16.5,\n",
       "         16.5, 16.5, 16.5, 16.5, 16.5, 16.5, 16.5, 16.5, 16.5]),\n",
       "  'shape': array([1.4])},\n",
       " 'Bevoorradings schip': {'i': None,\n",
       "  'o': None,\n",
       "  's': array([18.422066481385862, 18.47457715936389, 18.532619644489145,\n",
       "         18.596193936760127, 18.665300036178333, 18.73993794274226,\n",
       "         18.82010765645191, 18.905809177308786, 18.99704250531139,\n",
       "         19.093807640461222, 19.19610458275677, 19.30393333219955,\n",
       "         19.417293888789555, 19.536186252523777, 19.66061042340523,\n",
       "         19.790566401432407, 19.92605418660681, 20.067073778926932,\n",
       "         20.213625178392782, 20.365708385005856, 20.523323398764653,\n",
       "         20.686470219672184, 20.855148847723928, 21.029359282922908,\n",
       "         21.209101525267606, 21.39437557475953, 21.585181431395675,\n",
       "         21.78151909518055, 21.98338856611115, 22.190789844188973,\n",
       "         22.403722929411018, 22.622187821780287, 22.846184521296784,\n",
       "         23.075713027959008, 23.310773341766954, 23.551365462722128,\n",
       "         23.79748939082302, 24.04914512607265, 24.30633266846649,\n",
       "         24.569052018006065, 24.837303174692856, 25.111086138525373,\n",
       "         25.390400909505118, 25.67524748763059, 25.96562587290328,\n",
       "         26.261536065323206, 26.562978064887336, 26.869951871598715,\n",
       "         27.182457485455807, 27.500494906460126, 27.824064134610172,\n",
       "         28.15316516990743, 28.487798012350428, 18.24125809491499,\n",
       "         18.26939316629345, 18.309326052394642, 18.361056753212555,\n",
       "         18.4245852687532, 18.49991159901358, 18.58703574399669,\n",
       "         18.685957703696527, 18.796677478122103, 18.919195067264404,\n",
       "         19.053510471126426, 19.199623689711192, 19.357534723015682,\n",
       "         19.527243571042913, 19.708750233789868, 19.902054711256547,\n",
       "         20.107157003442964, 20.324057110352108, 20.552755031980986,\n",
       "         20.79325076832959, 21.045544319400932, 21.309635685192,\n",
       "         21.585524865699792, 21.873211860933328, 22.172696670886587,\n",
       "         22.48397929555958, 22.807059734955303, 23.14193798906775,\n",
       "         23.488614057899927, 23.847087941457843, 24.217359639732482,\n",
       "         24.599429152729865, 24.993296480449974, 25.398961622886805,\n",
       "         25.816424580043368, 26.245685351922663, 26.68674393852169,\n",
       "         27.13960033984345, 27.60425455588494, 28.08070658664616,\n",
       "         28.568956432127106, 29.06900409233079, 29.5808495672542,\n",
       "         30.104492856897338, 30.639933961263218, 31.187172880348818,\n",
       "         31.746209614151137, 32.31704416267921, 32.899676525927006,\n",
       "         33.49410670389453, 34.10033469658178, 34.718360503991775,\n",
       "         35.34818412612149], dtype=object),\n",
       "  'lifetime': array([16.5, 16.5, 16.5, 16.5, 16.5, 16.5, 16.5, 16.5, 16.5, 16.5, 16.5,\n",
       "         16.5, 16.5, 16.5, 16.5, 16.5, 16.5, 16.5, 16.5, 16.5, 16.5, 16.5,\n",
       "         16.5, 16.5, 16.5, 16.5, 16.5, 16.5, 16.5, 16.5, 16.5, 16.5, 16.5,\n",
       "         16.5, 16.5, 16.5, 16.5, 16.5, 16.5, 16.5, 16.5, 16.5, 16.5, 16.5,\n",
       "         16.5, 16.5, 16.5, 16.5, 16.5, 16.5, 16.5, 16.5, 16.5]),\n",
       "  'shape': array([1.4])},\n",
       " 'Bagger schip': {'i': None,\n",
       "  'o': None,\n",
       "  's': array([18.629987511749384, 18.68309085256908, 18.741788435390585,\n",
       "         18.80608026021238, 18.875966327035975, 18.951446635859856,\n",
       "         19.032521186684026, 19.119189979509997, 19.21145301433626,\n",
       "         19.309310291164334, 19.412761809992684, 19.521807570822844,\n",
       "         19.63644757365481, 19.756681818485543, 19.882510305318082,\n",
       "         20.013933034150906, 20.15095000498554, 20.293561217820457,\n",
       "         20.44176667265566, 20.59556636949267, 20.754960308329963,\n",
       "         20.919948489170586, 21.090530912009974, 21.266707576851175,\n",
       "         21.448478483692654, 21.63584363253594, 21.828803023377997,\n",
       "         22.027356656223372, 22.23150453106904, 22.44124664791651,\n",
       "         22.656583006762748, 22.877513607610794, 23.104038450460646,\n",
       "         23.336157535310782, 23.573870862161208, 23.81717843101344,\n",
       "         24.066080241865954, 24.3205762947218, 24.580666589576403,\n",
       "         24.846351126431305, 25.117629905288, 25.394502926144987,\n",
       "         25.67697018900378, 25.965031693862862, 26.258687440723744,\n",
       "         26.55793742958644, 26.862781660447887, 27.173220133311162,\n",
       "         27.48925284817471, 27.81087980504007, 28.138101003905717,\n",
       "         28.470916444773163, 28.809326127640897, 18.44713842772423,\n",
       "         18.475591046161608, 18.515974635599036, 18.56828919603044,\n",
       "         18.632534727461895, 18.708711229890366, 18.796818703318888,\n",
       "         18.89685714774139, 19.00882656316698, 19.132726949586555,\n",
       "         19.26855830700313, 19.416320635419765, 19.576013934833416,\n",
       "         19.747638205247124, 19.931193446657844, 20.12667965906557,\n",
       "         20.33409684247032, 20.553444996875115, 20.784724122276934,\n",
       "         21.02793421867576, 21.283075286074645, 21.55014732447054,\n",
       "         21.82915033386041, 22.12008431425338, 22.42294926564336,\n",
       "         22.737745188030352, 23.064472081417403, 23.40312994579842,\n",
       "         23.753718781176456, 24.116238587557586, 24.49068936493269,\n",
       "         24.877071113307853, 25.275383832683065, 25.68562752305225,\n",
       "         26.107802184418453, 26.541907816784708, 26.987944420147976,\n",
       "         27.4459119945113, 27.915810539871636, 28.39764005622899,\n",
       "         28.891400543583355, 29.397092001937775, 29.914714431289212,\n",
       "         30.444267831637656, 30.985752202986163, 31.53916754533168,\n",
       "         32.10451385867116, 32.681791143013754, 33.27099939835335,\n",
       "         33.87213862468997, 34.48520882202359, 35.11020999035727,\n",
       "         35.74714212968797], dtype=object),\n",
       "  'lifetime': array([16.5, 16.5, 16.5, 16.5, 16.5, 16.5, 16.5, 16.5, 16.5, 16.5, 16.5,\n",
       "         16.5, 16.5, 16.5, 16.5, 16.5, 16.5, 16.5, 16.5, 16.5, 16.5, 16.5,\n",
       "         16.5, 16.5, 16.5, 16.5, 16.5, 16.5, 16.5, 16.5, 16.5, 16.5, 16.5,\n",
       "         16.5, 16.5, 16.5, 16.5, 16.5, 16.5, 16.5, 16.5, 16.5, 16.5, 16.5,\n",
       "         16.5, 16.5, 16.5, 16.5, 16.5, 16.5, 16.5, 16.5, 16.5]),\n",
       "  'shape': array([1.4])},\n",
       " 'Zware lading schip': {'i': None,\n",
       "  'o': None,\n",
       "  's': array([19.56431619249686, 19.620082765073427, 19.6817241413401,\n",
       "         19.74924032129529, 19.822631304940582, 19.901897092274385,\n",
       "         19.987037683296702, 20.07805307800912, 20.17494327641006,\n",
       "         20.277708278501102, 20.386348084280655, 20.500862693750314,\n",
       "         20.621252106910084, 20.747516323756766, 20.879655344293557,\n",
       "         21.01766916851886, 21.16155779643427, 21.311321228038192,\n",
       "         21.466959463330625, 21.628472502313166, 21.795860344984217,\n",
       "         21.969122991346975, 22.148260441396644, 22.333272695136426,\n",
       "         22.524159752564714, 22.72092161368311, 22.923558278488425,\n",
       "         23.132069746985437, 23.34645601917097, 23.566717095046602,\n",
       "         23.79285297460915, 24.024863657861808, 24.262749144804577,\n",
       "         24.506509435435856, 24.756144529755645, 25.01165442776554,\n",
       "         25.273039129463946, 25.54029863485406, 25.813432943931083,\n",
       "         26.092442056696626, 26.377325973152267, 26.668084693296425,\n",
       "         26.964718217130688, 27.267226544653468, 27.575609675866346,\n",
       "         27.88986761076934, 28.210000349359238, 28.53600789163926,\n",
       "         28.867890237607785, 29.20564738726642, 29.549279340613566,\n",
       "         29.898786097650813, 30.254167658376577, 19.372296885284744,\n",
       "         19.40217645569574, 19.44458535759348, 19.49952359097157,\n",
       "         19.566991155836405, 19.64698805218479, 19.73951428001991,\n",
       "         19.844569839335396, 19.962154730140814, 20.092268952426593,\n",
       "         20.23491250619591, 20.39008539145198, 20.557787608191592,\n",
       "         20.738019156417952, 20.93078003612786, 21.136070247321314,\n",
       "         21.35388978999832, 21.584238664162065, 21.827116869809362,\n",
       "         22.082524406940205, 22.350461275557798, 22.630927475658932,\n",
       "         22.92392300724043, 23.22944787031186, 23.547502064866837,\n",
       "         23.878085590905364, 24.221198448430634, 24.576840637436256,\n",
       "         24.945012157925433, 25.325713009904543, 25.71894319336401,\n",
       "         26.124702708310224, 26.54299155474317, 26.97380973265648,\n",
       "         27.41715724205334, 27.873034082936936, 28.341440255304086,\n",
       "         28.822375759157975, 29.315840594495413, 29.821834761316406,\n",
       "         30.340358259620945, 30.871411089412227, 31.414993250687058,\n",
       "         31.971104743445434, 32.53974556769056, 33.12091572341923,\n",
       "         33.71461521062825, 34.32084402932722, 34.93960217950973,\n",
       "         35.57088966117579, 36.214706474325396, 36.871052618961755,\n",
       "         37.539928095081656], dtype=object),\n",
       "  'lifetime': array([16.5, 16.5, 16.5, 16.5, 16.5, 16.5, 16.5, 16.5, 16.5, 16.5, 16.5,\n",
       "         16.5, 16.5, 16.5, 16.5, 16.5, 16.5, 16.5, 16.5, 16.5, 16.5, 16.5,\n",
       "         16.5, 16.5, 16.5, 16.5, 16.5, 16.5, 16.5, 16.5, 16.5, 16.5, 16.5,\n",
       "         16.5, 16.5, 16.5, 16.5, 16.5, 16.5, 16.5, 16.5, 16.5, 16.5, 16.5,\n",
       "         16.5, 16.5, 16.5, 16.5, 16.5, 16.5, 16.5, 16.5, 16.5]),\n",
       "  'shape': array([1.4])},\n",
       " 'Cruise schip': {'i': None,\n",
       "  'o': None,\n",
       "  's': array([20.794734948129108, 20.854008734357325, 20.91952679635813,\n",
       "         20.991289134129833, 21.06929574767412, 21.153546636989294,\n",
       "         21.24404180207537, 21.340781242934025, 21.44376495956358,\n",
       "         21.552992951965727, 21.66846522013876, 21.79018176408438,\n",
       "         21.918142583802595, 22.05234767929, 22.19279705055,\n",
       "         22.33949069758089, 22.492428620384366, 22.651610818958737,\n",
       "         22.817037293304, 22.988708043421852, 23.166623069310596,\n",
       "         23.35078237097363, 23.54118594840585, 23.73783380161067,\n",
       "         23.940725930586375, 24.14986233533467, 24.365243015852165,\n",
       "         24.58686797214394, 24.81473720420661, 25.04885071204187,\n",
       "         25.28920849564632, 25.535810555023364, 25.788656890172998,\n",
       "         26.04774750109352, 26.31308238778494, 26.58466155024895,\n",
       "         26.862484988483846, 27.146552702493032, 27.43686469227141,\n",
       "         27.733420957820687, 28.036221499142545, 28.345266316235296,\n",
       "         28.66055540910064, 28.982088777736877, 29.309866422145696,\n",
       "         29.643888342327113, 29.98415453827771, 30.330665010000917,\n",
       "         30.68341975749501, 31.04241878076169, 31.407662079799263,\n",
       "         31.779149654609416, 32.15688150519047, 20.590639361086268,\n",
       "         20.62239808656112, 20.667474125290386, 20.72586747726729,\n",
       "         20.797578142498615, 20.88260612098097, 20.980951412717744,\n",
       "         21.092614017702157, 21.217593935944386, 21.355891167434255,\n",
       "         21.507505712175142, 21.67243757017046, 21.8506867414168,\n",
       "         22.04225322591757, 22.247137023669367, 22.465338134672187,\n",
       "         22.696856558926044, 22.941692296434315, 23.199845347193623,\n",
       "         23.471315711203953, 23.756103388468713, 24.054208378984494,\n",
       "         24.365630682747916, 24.690370299769153, 25.02842723004142,\n",
       "         25.379801473564715, 25.74449303034243, 26.12250190036778,\n",
       "         26.51382808364416, 26.918471580178355, 27.336432389960187,\n",
       "         27.767710512996448, 28.212305949287124, 28.670218698825433,\n",
       "         29.14144876161478, 29.62599613765854, 30.123860826953333,\n",
       "         30.63504282950255, 31.15954214530279, 31.697358774354065,\n",
       "         32.248492716656365, 32.81294397221309, 33.39071254102085,\n",
       "         33.981798423079624, 34.586201618392835, 35.20392212695707,\n",
       "         35.834959948768926, 36.47931508383862, 37.13698753215933,\n",
       "         37.80797729373108, 38.49228436855385, 39.18990875663104,\n",
       "         39.900850457959265], dtype=object),\n",
       "  'lifetime': array([16.5, 16.5, 16.5, 16.5, 16.5, 16.5, 16.5, 16.5, 16.5, 16.5, 16.5,\n",
       "         16.5, 16.5, 16.5, 16.5, 16.5, 16.5, 16.5, 16.5, 16.5, 16.5, 16.5,\n",
       "         16.5, 16.5, 16.5, 16.5, 16.5, 16.5, 16.5, 16.5, 16.5, 16.5, 16.5,\n",
       "         16.5, 16.5, 16.5, 16.5, 16.5, 16.5, 16.5, 16.5, 16.5, 16.5, 16.5,\n",
       "         16.5, 16.5, 16.5, 16.5, 16.5, 16.5, 16.5, 16.5, 16.5]),\n",
       "  'shape': array([1.4])},\n",
       " 'Koel schip': {'i': None,\n",
       "  'o': None,\n",
       "  's': array([20.602605388426106, 20.661331524180373, 20.726244242740343,\n",
       "         20.79734354410433, 20.874629428274016, 20.958101895247715,\n",
       "         21.047760945025438, 21.143606577608853, 21.245638792996292,\n",
       "         21.35385759118943, 21.468262972186587, 21.588854935989435,\n",
       "         21.715633482597987, 21.848598612008875, 21.987750324225463,\n",
       "         22.13308861924607, 22.284613497072375, 22.442324957702695,\n",
       "         22.606223001137035, 22.776307627377072, 22.95257883642113,\n",
       "         23.135036628272566, 23.32368100292634, 23.518511960385815,\n",
       "         23.719529500649305, 23.926733623718494, 24.14012432959002,\n",
       "         24.35970161826892, 24.585465489751847, 24.81741594404047,\n",
       "         25.055552981131427, 25.299876601028082, 25.55038680373044,\n",
       "         25.807083589236818, 26.069966957547212, 26.339036908663303,\n",
       "         26.614293442583413, 26.895736559310905, 27.183366258840728,\n",
       "         27.477182541174578, 27.777185406314114, 28.083374854257674,\n",
       "         28.395750885006937, 28.714313498560216, 29.03906269491919,\n",
       "         29.369998474083868, 29.70712083605087, 30.050429780823592,\n",
       "         30.39992530840032, 30.75560741878275, 31.117476111969196,\n",
       "         31.485531387961334, 31.8597732467575, 20.40039550924988,\n",
       "         20.431860805163957, 20.47652037119012, 20.534374207321648,\n",
       "         20.605422313565263, 20.68966468991761, 20.78710133638204,\n",
       "         20.89773225295184, 21.02155743963709, 21.15857689642771,\n",
       "         21.308790623327045, 21.47219862033848, 21.64880088745864,\n",
       "         21.838597424690892, 22.04158823203187, 22.25777330948157,\n",
       "         22.487152657040003, 22.72972627471052, 22.98549416248977,\n",
       "         23.25445632037774, 23.53661274837781, 23.8319634464866,\n",
       "         24.140508414700758, 24.462247653030367, 24.797181161468703,\n",
       "         25.145308940015767, 25.50663098867492, 25.881147307439434,\n",
       "         26.26885789631268, 26.669762755301377, 27.08386188439544,\n",
       "         27.511155283601592, 27.951642952919833, 28.405324892343437,\n",
       "         28.87220110187577, 29.352271581520192, 29.845536331273344,\n",
       "         30.351995351138584, 30.871648641112547, 31.404496201195244,\n",
       "         31.950538031386664, 32.50977413169018, 33.082204502102414,\n",
       "         33.667829142623376, 34.26664805325644, 34.878661233998216,\n",
       "         35.50386868484536, 36.14227040580796, 36.79386639687929,\n",
       "         37.45865665805935, 38.13664118934812, 38.82781999074899,\n",
       "         39.53219306225859], dtype=object),\n",
       "  'lifetime': array([16.5, 16.5, 16.5, 16.5, 16.5, 16.5, 16.5, 16.5, 16.5, 16.5, 16.5,\n",
       "         16.5, 16.5, 16.5, 16.5, 16.5, 16.5, 16.5, 16.5, 16.5, 16.5, 16.5,\n",
       "         16.5, 16.5, 16.5, 16.5, 16.5, 16.5, 16.5, 16.5, 16.5, 16.5, 16.5,\n",
       "         16.5, 16.5, 16.5, 16.5, 16.5, 16.5, 16.5, 16.5, 16.5, 16.5, 16.5,\n",
       "         16.5, 16.5, 16.5, 16.5, 16.5, 16.5, 16.5, 16.5, 16.5]),\n",
       "  'shape': array([1.4])},\n",
       " 'Offshore support vessel': {'i': None,\n",
       "  'o': None,\n",
       "  's': array([21.225052523628296, 21.28555289687693, 21.352426762337693,\n",
       "         21.42567412000886, 21.50529496989215, 21.591289311985843,\n",
       "         21.683657146289935, 21.782398472806154, 21.887513291532777,\n",
       "         21.99900160247153, 22.11686340562068, 22.24109870098196,\n",
       "         22.371707488555373, 22.508689768337447, 22.65204554033166,\n",
       "         22.80177480453627, 22.957877560953005, 23.120353809580145,\n",
       "         23.28920355041768, 23.464426783467346, 23.64602350872741,\n",
       "         23.83399372620134, 24.028337435883934, 24.229054637778663,\n",
       "         24.436145331883786, 24.649609518201043, 24.869447196726966,\n",
       "         25.095658367466747, 25.32824303041693, 25.567201185579243,\n",
       "         25.812532832950225, 26.064237972533334, 26.32231660432858,\n",
       "         26.58676872833422, 26.857594344550265, 27.134793452978435,\n",
       "         27.418366053617003, 27.70831214646944, 28.004631731530534,\n",
       "         28.307324808802036, 28.616391378285662, 28.931831439979685,\n",
       "         29.253644993885846, 29.581832040002404, 29.916392578331088,\n",
       "         30.25732660887191, 30.604634131621385, 30.95831514658301,\n",
       "         31.318369653755024, 31.68479765313917, 32.05759914473372,\n",
       "         32.436774128540385, 32.82232260455746, 21.01673346759653,\n",
       "         21.04914939489585, 21.095158218377964, 21.154759938035948,\n",
       "         21.22795455387673, 21.314742065896848, 21.41512247409976,\n",
       "         21.52909577847855, 21.656661979043598, 21.797821075784523,\n",
       "         21.95257306870477, 22.120917957807826, 22.302855743090213,\n",
       "         22.498386424555402, 22.70751000219992, 22.930226476023773,\n",
       "         23.166535846026964, 23.416438112212948, 23.679933274578275,\n",
       "         23.957021333122928, 24.247702287850387, 24.551976138757173,\n",
       "         24.869842885839837, 25.201302529108762, 25.54635506855702,\n",
       "         25.90500050418461, 26.277238835995, 26.66307006398126,\n",
       "         27.062494188146854, 27.475511208498713, 27.90212112502644,\n",
       "         28.34232393773697, 28.796119646630295, 29.26350825169949,\n",
       "         29.744489752948024, 30.239064150379352, 30.747231443990017,\n",
       "         31.26899163378348, 31.804344719756273, 32.353290701908406,\n",
       "         32.91582958023987, 33.49196135475414, 34.08168602544774,\n",
       "         34.68500359232067, 35.30191405537641, 35.93241741461147,\n",
       "         36.5765136700224, 37.23420282161961, 37.90548486939613,\n",
       "         38.59035981335201, 39.2888276534872, 40.00088838980521,\n",
       "         40.72654202230255], dtype=object),\n",
       "  'lifetime': array([16.5, 16.5, 16.5, 16.5, 16.5, 16.5, 16.5, 16.5, 16.5, 16.5, 16.5,\n",
       "         16.5, 16.5, 16.5, 16.5, 16.5, 16.5, 16.5, 16.5, 16.5, 16.5, 16.5,\n",
       "         16.5, 16.5, 16.5, 16.5, 16.5, 16.5, 16.5, 16.5, 16.5, 16.5, 16.5,\n",
       "         16.5, 16.5, 16.5, 16.5, 16.5, 16.5, 16.5, 16.5, 16.5, 16.5, 16.5,\n",
       "         16.5, 16.5, 16.5, 16.5, 16.5, 16.5, 16.5, 16.5, 16.5]),\n",
       "  'shape': array([1.4])},\n",
       " 'Gas tanker': {'i': None,\n",
       "  'o': None,\n",
       "  's': array([23.19767040030502, 23.263793568488225, 23.336882569687454,\n",
       "         23.416937403900814, 23.5039580711302, 23.597944571373706,\n",
       "         23.69889690463135, 23.806815070905014, 23.921699070192812,\n",
       "         24.043548902496635, 24.172364567814586, 24.308146066148556,\n",
       "         24.450893397498554, 24.600606561860786, 24.757285559239048,\n",
       "         24.920930389631437, 25.091541053039847, 25.26911754946239,\n",
       "         25.45365987889906, 25.645168041351756, 25.843642036818583,\n",
       "         26.049081865303325, 26.261487526800302, 26.48085902131331,\n",
       "         26.70719634884044, 26.9404995093836, 27.180768502938996,\n",
       "         27.4280033295123, 27.682203989099744, 27.94337048170321,\n",
       "         28.211502807318908, 28.486600965950633, 28.768664957598382,\n",
       "         29.057694782260263, 29.353690439936273, 29.656651930628307,\n",
       "         29.96657925433447, 30.28347241105855, 30.607331400794862,\n",
       "         30.938156223545317, 31.275946879311782, 31.620703368092382,\n",
       "         31.972425689889008, 32.331113844699765, 32.69676783252654,\n",
       "         33.06938765336935, 33.44897330722437, 33.83552479409545,\n",
       "         34.22904211398064, 34.629525266881856, 35.03697425279721,\n",
       "         35.45138907172857, 35.87276972367407, 22.969990549122183,\n",
       "         23.005419153898206, 23.05570395396905, 23.12084494932716,\n",
       "         23.200842139980104, 23.295695525924096, 23.405405107162917,\n",
       "         23.529970883689007, 23.66939285551371, 23.823671022625682,\n",
       "         23.992805385028692, 24.176795942726542, 24.37564269571544,\n",
       "         24.589345643999174, 24.817904787573955, 25.061320126439778,\n",
       "         25.319591660596654, 25.59271939004836, 25.880703314791116,\n",
       "         26.183543434824916, 26.501239750153555, 26.833792260773237,\n",
       "         27.181200966680187, 27.543465867885754, 27.92058696438237,\n",
       "         28.31256425617003, 28.719397743252525, 29.141087425622278,\n",
       "         29.577633303283083, 30.029035376242508, 30.495293644489195,\n",
       "         30.976408108030718, 31.47237876686707, 31.983205620990685,\n",
       "         32.50888867040535, 33.04942791511485, 33.60482335511539,\n",
       "         34.17507499041077, 34.760182820997194, 35.36014684687467,\n",
       "         35.97496706804319, 36.604643484506546, 37.24917609626095,\n",
       "         37.9085649033064, 38.58280990564669, 39.271911103278015,\n",
       "         39.975868496196604, 40.69468208441383, 41.42835186792208,\n",
       "         42.176877846721396, 42.94026002081174, 43.71849839019694,\n",
       "         44.51159295487318], dtype=object),\n",
       "  'lifetime': array([16.5, 16.5, 16.5, 16.5, 16.5, 16.5, 16.5, 16.5, 16.5, 16.5, 16.5,\n",
       "         16.5, 16.5, 16.5, 16.5, 16.5, 16.5, 16.5, 16.5, 16.5, 16.5, 16.5,\n",
       "         16.5, 16.5, 16.5, 16.5, 16.5, 16.5, 16.5, 16.5, 16.5, 16.5, 16.5,\n",
       "         16.5, 16.5, 16.5, 16.5, 16.5, 16.5, 16.5, 16.5, 16.5, 16.5, 16.5,\n",
       "         16.5, 16.5, 16.5, 16.5, 16.5, 16.5, 16.5, 16.5, 16.5]),\n",
       "  'shape': array([1.4])},\n",
       " 'Werk schip': {'i': None,\n",
       "  'o': None,\n",
       "  's': array([47.01647197992385, 47.150488802753976, 47.29862380586528,\n",
       "         47.460876989253926, 47.637248352923734, 47.827737896870865,\n",
       "         48.032345621095345, 48.251071525600985, 48.483915610383974,\n",
       "         48.73087787544813, 48.991958320789614, 49.26715694641227,\n",
       "         49.5564737523161, 49.859908738493424, 50.17746190495192,\n",
       "         50.50913325168776, 50.85492277870476, 51.214830485999094,\n",
       "         51.58885637357077, 51.977000441423606, 52.379262689553784,\n",
       "         52.79564311796897, 53.22614172665765, 53.67075851562751,\n",
       "         54.12949348487469, 54.602346634403055, 55.089317964204916,\n",
       "         55.590407474291766, 56.10561516465597, 56.63494103530134,\n",
       "         57.1783850862202, 57.73594731742024, 58.30762772890145,\n",
       "         58.89342632066, 59.49334309269588, 60.10737804501293,\n",
       "         60.735531177607314, 61.37780249048671, 62.03419198363959,\n",
       "         62.704699657069824, 63.38932551078121, 64.08806954476994,\n",
       "         64.80093175903984, 65.52791215358708, 66.26901072841548,\n",
       "         67.02422748352505, 67.79356241890811, 68.57701553457238,\n",
       "         69.37458683051395, 70.18627630673672, 71.0120839632368,\n",
       "         71.85200980001804, 72.70605381707664, 46.55501601650994,\n",
       "         46.62682184765571, 46.7287378527006, 46.860764031629266,\n",
       "         47.02290038445705, 47.215146911176305, 47.437503611794675,\n",
       "         47.689970486296836, 47.97254753470579, 48.28523475699854,\n",
       "         48.628032153182716, 49.00093972326604, 49.40395746724082,\n",
       "         49.837085385114726, 50.30032347688008, 50.79367174253688,\n",
       "         51.31713018208515, 51.87069879553253, 52.45437758287139,\n",
       "         53.06816654410168, 53.71206567923112, 54.38607498825199,\n",
       "         55.09019447115666, 55.82442412796812, 56.58876395867104,\n",
       "         57.38321396326541, 58.207774141758904, 59.06244449413618,\n",
       "         59.947225020404915, 60.86211572058045, 61.80711659463976,\n",
       "         62.782227642598215, 63.787448864455776, 64.82278026019712,\n",
       "         65.88822182982993, 66.98377357336186, 68.10943549078526,\n",
       "         69.26520758210776, 70.45108984732173, 71.66708228642716,\n",
       "         72.91318489942404, 74.18939768632004, 75.4957206471075,\n",
       "         76.8321537817864, 78.19869709036446, 79.59535057283395,\n",
       "         81.0221142291872, 82.47898805944729, 83.96597206359881,\n",
       "         85.48306624164181, 87.03027059357623, 88.6075851194098,\n",
       "         90.21500981913482], dtype=object),\n",
       "  'lifetime': array([16.5, 16.5, 16.5, 16.5, 16.5, 16.5, 16.5, 16.5, 16.5, 16.5, 16.5,\n",
       "         16.5, 16.5, 16.5, 16.5, 16.5, 16.5, 16.5, 16.5, 16.5, 16.5, 16.5,\n",
       "         16.5, 16.5, 16.5, 16.5, 16.5, 16.5, 16.5, 16.5, 16.5, 16.5, 16.5,\n",
       "         16.5, 16.5, 16.5, 16.5, 16.5, 16.5, 16.5, 16.5, 16.5, 16.5, 16.5,\n",
       "         16.5, 16.5, 16.5, 16.5, 16.5, 16.5, 16.5, 16.5, 16.5]),\n",
       "  'shape': array([1.4])},\n",
       " 'Snijkop zuiger': {'i': None,\n",
       "  'o': None,\n",
       "  's': array([26.36254431185106, 26.437688708731827, 26.520749291953074,\n",
       "         26.611726061512652, 26.71061901741271, 26.817428159651094,\n",
       "         26.93215348822781, 27.054795003145006, 27.185352704400536,\n",
       "         27.323826591996546, 27.470216665930884, 27.6245229262057,\n",
       "         27.786745372821, 27.956884005772473, 28.134938825064435,\n",
       "         28.32090983069472, 28.51479702266549, 28.71660040097459,\n",
       "         28.926319965622017, 29.143955716609923, 29.36950765393616,\n",
       "         29.60297577760503, 29.84436008761008, 30.093660583955614,\n",
       "         30.350877266639472, 30.61601013566381, 30.88905919102433,\n",
       "         31.170024432727477, 31.458905860768958, 31.755703475150916,\n",
       "         32.06041727586906, 32.37304726292767, 32.69359343632678,\n",
       "         33.02205579606421, 33.35843434213997, 33.70272907455621,\n",
       "         34.05493999331078, 34.41506709840799, 34.78311038984136,\n",
       "         35.15906986761308, 35.542945531725266, 35.93473738217578,\n",
       "         36.33444541896679, 36.74206964209612, 37.157610051565925,\n",
       "         37.581066647376225, 38.012439429522686, 38.45172839800965,\n",
       "         38.89893355283493, 39.3540548940007, 39.81709242150479,\n",
       "         40.288046135349354, 40.76691603553226, 26.103801944098294,\n",
       "         26.144064097461012, 26.201209286922058, 26.27523751247283,\n",
       "         26.366148774121932, 26.47394307186507, 26.59862040570653,\n",
       "         26.74018077563773, 26.898624181671554, 27.073950623795117,\n",
       "         27.266160102012698, 27.475252616328618, 27.701228166738566,\n",
       "         27.94408675324685, 28.203828375849163, 28.480453034545498,\n",
       "         28.773960729335872, 29.08435146022457, 29.41162522720731,\n",
       "         29.75578203028407, 30.116821869459166, 30.49474474472829,\n",
       "         30.889550656087145, 31.301239603548634, 31.72981158710415,\n",
       "         32.1752666067537, 32.63760466250158, 33.11682575433918,\n",
       "         33.61292988227082, 34.12591704630509, 34.65578724642909,\n",
       "         35.20254048265143, 35.76617675497209, 36.34669606338248,\n",
       "         36.944098407886905, 37.55838378848966, 38.189552205186445,\n",
       "         38.83760365798156, 39.502538146870705, 40.184355671853886,\n",
       "         40.88305623293109, 41.59863983010663, 42.3311064633762,\n",
       "         43.08045613273979, 43.84668883820173, 44.62980457975769,\n",
       "         45.429803357403365, 46.246685171151704, 47.08045002099405,\n",
       "         47.93109790693044, 48.798628828960844, 49.68304278708959,\n",
       "         50.584339781312366], dtype=object),\n",
       "  'lifetime': array([16.5, 16.5, 16.5, 16.5, 16.5, 16.5, 16.5, 16.5, 16.5, 16.5, 16.5,\n",
       "         16.5, 16.5, 16.5, 16.5, 16.5, 16.5, 16.5, 16.5, 16.5, 16.5, 16.5,\n",
       "         16.5, 16.5, 16.5, 16.5, 16.5, 16.5, 16.5, 16.5, 16.5, 16.5, 16.5,\n",
       "         16.5, 16.5, 16.5, 16.5, 16.5, 16.5, 16.5, 16.5, 16.5, 16.5, 16.5,\n",
       "         16.5, 16.5, 16.5, 16.5, 16.5, 16.5, 16.5, 16.5, 16.5]),\n",
       "  'shape': array([1.4])},\n",
       " 'Splijtbak - Omnibarge': {'i': None,\n",
       "  'o': None,\n",
       "  's': array([27.296872992598537, 27.374680621236173, 27.46068499790259,\n",
       "         27.554886122595565, 27.657283995317318, 27.767878616065623,\n",
       "         27.886669984840488, 28.013658101644126, 28.14884296647433,\n",
       "         28.29222457933332, 28.443802940218852, 28.60357804913317,\n",
       "         28.77154990607627, 28.947718511043696, 29.13208386403991,\n",
       "         29.324645965062675, 29.525404814114225, 29.734360411192327,\n",
       "         29.95151275629698, 30.17686184943042, 30.410407690590414,\n",
       "         30.65215027978142, 30.902089616996747, 31.160225702240865,\n",
       "         31.426558535511532, 31.701088116810983, 31.983814446134758,\n",
       "         32.27473752348954, 32.57385734887089, 32.88117392228101,\n",
       "         33.19668724371546, 33.52039731317869, 33.85230413067071,\n",
       "         34.19240769618928, 34.5407080097344, 34.89720507130831,\n",
       "         35.261898880908774, 35.634789438540245, 36.01587674419604,\n",
       "         36.4051607978784, 36.802641599589535, 37.208319149327224,\n",
       "         37.6221934470937, 38.044264492886725, 38.47453228670853,\n",
       "         38.91299682855913, 39.359658118434034, 39.814516156337746,\n",
       "         40.277570942268, 40.74882247622704, 41.22827075821264,\n",
       "         41.71591578822701, 42.21175756626794, 27.028960401658807,\n",
       "         27.070649506995146, 27.129820008916496, 27.206471907413963,\n",
       "         27.300605202496442, 27.412219894159488, 27.541315982407554,\n",
       "         27.687893467231735, 27.851952348645387, 28.033492626635155,\n",
       "         28.232514301205477, 28.449017372360828, 28.683001840096743,\n",
       "         28.93446770441768, 29.20341496531918, 29.489843622801242,\n",
       "         29.793753676863876, 30.115145127511518, 30.454017974739738,\n",
       "         30.810372218548515, 31.18420785894232, 31.575524895916683,\n",
       "         31.98432332946716, 32.41060315960711, 32.85436438632763,\n",
       "         33.315607009628714, 33.794331029514815, 34.29053644597702,\n",
       "         34.8042232590198, 35.33539146865205, 35.88404107486041,\n",
       "         36.4501720776538, 37.0337844770322, 37.63487827298671,\n",
       "         38.253453465521794, 38.88951005464189, 39.543048040342555,\n",
       "         40.21406742262823, 40.90256820149448, 41.6085503769413,\n",
       "         42.33201394896868, 43.072958917581076, 43.83138528277405,\n",
       "         44.60729304454757, 45.400682202906125, 46.21155275784524,\n",
       "         47.03990470936046, 47.88573805746517, 48.74905280215042,\n",
       "         49.62984894341626, 50.52812648126265, 51.44388541569407,\n",
       "         52.37712574670606], dtype=object),\n",
       "  'lifetime': array([16.5, 16.5, 16.5, 16.5, 16.5, 16.5, 16.5, 16.5, 16.5, 16.5, 16.5,\n",
       "         16.5, 16.5, 16.5, 16.5, 16.5, 16.5, 16.5, 16.5, 16.5, 16.5, 16.5,\n",
       "         16.5, 16.5, 16.5, 16.5, 16.5, 16.5, 16.5, 16.5, 16.5, 16.5, 16.5,\n",
       "         16.5, 16.5, 16.5, 16.5, 16.5, 16.5, 16.5, 16.5, 16.5, 16.5, 16.5,\n",
       "         16.5, 16.5, 16.5, 16.5, 16.5, 16.5, 16.5, 16.5, 16.5]),\n",
       "  'shape': array([1.4])},\n",
       " 'Olie-chemicalien tanker': {'i': None,\n",
       "  'o': None,\n",
       "  's': array([62.84478940531918, 63.02392362472904, 63.2219289765143,\n",
       "         63.4388054606698, 63.674553077200684, 63.92917182610181,\n",
       "         64.2026617073732, 64.49502272101995, 64.80625486703698,\n",
       "         65.13635814542938, 65.48533255619203, 65.85317809933007,\n",
       "         66.23989477484348, 66.64548258272201, 67.06994152297594,\n",
       "         67.51327159560012, 67.97547280059966, 68.45654513796947,\n",
       "         68.95648860770952, 69.47530320982496, 70.01298894431065,\n",
       "         70.56954581117685, 71.14497381040816, 71.73927294201488,\n",
       "         72.35244320599183, 72.98448460234417, 73.63539713106164,\n",
       "         74.30518079215959, 74.99383558562782, 75.70136151147142,\n",
       "         76.42775856968015, 77.17302676026425, 77.93716608322374,\n",
       "         78.72017653855349, 79.5220581262535, 80.34281084632887,\n",
       "         81.1824346987745, 82.04092968360064, 82.91829580079188,\n",
       "         83.81453305035342, 84.7296414322903, 85.66362094659745,\n",
       "         86.61647159327997, 87.58819337233275, 88.5787862837609,\n",
       "         89.58825032756445, 90.61658550373309, 91.66379181227717,\n",
       "         92.72986925319147, 93.81481782648116, 94.91863753214109,\n",
       "         96.04132837017639, 97.18289034058196, 62.2279821116337,\n",
       "         62.323961715087506, 62.46018822474166, 62.63666164057567,\n",
       "         62.85338196261004, 63.110349190834526, 63.40756332525937,\n",
       "         63.74502436586408, 64.1227323126794, 64.54068716567461,\n",
       "         64.99888892485988, 65.49733759024556, 66.03603316182134,\n",
       "         66.61497563959749, 67.23416502356375, 67.8936013137201,\n",
       "         68.59328451006658, 69.33321461261342, 70.11339162135037,\n",
       "         70.93381553627744, 71.79448635740488, 72.69540408472241,\n",
       "         73.63656871821982, 74.61798025792784, 75.63963870382598,\n",
       "         76.70154405591421, 77.80369631420282, 78.94609547867128,\n",
       "         80.12874154932986, 81.35163452619906, 82.61477440924811,\n",
       "         83.91816119849756, 85.26179489394734, 86.64567549557698,\n",
       "         88.06980300339674, 89.53417741741686, 91.0387987376271,\n",
       "         92.58366696403769, 94.1687820966384, 95.79414413542924,\n",
       "         97.45975308041017, 99.16560893159148, 100.9117116889629,\n",
       "         102.6980613525244, 104.52465792228631, 106.3915013982383,\n",
       "         108.29859178037015, 110.24592906871264, 112.23351326324521,\n",
       "         114.26134436396795, 116.32942237088074, 118.43774728399393,\n",
       "         120.58631910329721], dtype=object),\n",
       "  'lifetime': array([16.5, 16.5, 16.5, 16.5, 16.5, 16.5, 16.5, 16.5, 16.5, 16.5, 16.5,\n",
       "         16.5, 16.5, 16.5, 16.5, 16.5, 16.5, 16.5, 16.5, 16.5, 16.5, 16.5,\n",
       "         16.5, 16.5, 16.5, 16.5, 16.5, 16.5, 16.5, 16.5, 16.5, 16.5, 16.5,\n",
       "         16.5, 16.5, 16.5, 16.5, 16.5, 16.5, 16.5, 16.5, 16.5, 16.5, 16.5,\n",
       "         16.5, 16.5, 16.5, 16.5, 16.5, 16.5, 16.5, 16.5, 16.5]),\n",
       "  'shape': array([1.4])},\n",
       " 'Sleephopper zuiger': {'i': None,\n",
       "  'o': None,\n",
       "  's': array([70.99187231025952, 71.19422916038316, 71.41790356177269,\n",
       "         71.66289551442236, 71.92920501833791, 72.21683207351357,\n",
       "         72.52577667994937, 72.85603883765106, 73.20761854661286,\n",
       "         73.5805158068406, 73.97473061832842, 74.39026298108215,\n",
       "         74.82711289510179, 75.28528036037575, 75.76476537691563,\n",
       "         76.26556794471563, 76.78768806378152, 77.33112573410753,\n",
       "         77.89588095569364, 78.48195372854568, 79.08934405265781,\n",
       "         79.71805192804166, 80.36807735467983, 81.0394203325839,\n",
       "         81.73208086174809, 82.44605894217818, 83.18135457386259,\n",
       "         83.9379677568187, 84.71589849103493, 85.51514677651707,\n",
       "         86.33571261325352, 87.17759600125588, 88.04079694052416,\n",
       "         88.92531543105255, 89.83115147284106, 90.75830506589546,\n",
       "         91.70677621020998, 92.67656490579621, 93.66767115263674,\n",
       "         94.68009495073741, 95.71383630010396, 96.76889520073064,\n",
       "         97.84527165262323, 98.94296565577594, 100.06197721019453,\n",
       "         101.20230631587906, 102.36395297281786, 103.54691718102264,\n",
       "         104.75119894048748, 105.97679825121826, 107.22371511320914,\n",
       "         108.4919495264659, 109.7815014909828, 70.29510325354518,\n",
       "         70.40352547625065, 70.55741214004813, 70.75676324491448,\n",
       "         71.00157879087284, 71.29185877791168, 71.62760320604254,\n",
       "         72.00881207524228, 72.4354853855456, 72.90762313691783,\n",
       "         73.42522532937048, 73.98829196291518, 74.59682303754033,\n",
       "         75.25081855325752, 75.95027851005514, 76.69520290793321,\n",
       "         77.48559174689174, 78.32144502694229, 79.20276274807331,\n",
       "         80.12954491028476, 81.10179151358825, 82.1195025579722,\n",
       "         83.182678043425, 84.29131796998143, 85.44542233761831,\n",
       "         86.64499114633563, 87.890024396145, 89.1805220870232,\n",
       "         90.51648421898187, 91.89791079204416, 93.32480180617532,\n",
       "         94.79715726139852, 96.31497715771374, 97.87826149509782,\n",
       "         99.48701027356236, 101.14122349311893, 102.84090115375595,\n",
       "         104.586043255485, 106.3766497982945, 108.21272078218446,\n",
       "         110.09425620715486, 112.0212560732173, 113.99372038036019,\n",
       "         116.01164912858351, 118.0750423178989, 120.18389994829471,\n",
       "         122.33822201975937, 124.5380085323277, 126.78325948597643,\n",
       "         129.07397488070563, 131.41015471651528, 133.79179899341696,\n",
       "         136.2189077113991], dtype=object),\n",
       "  'lifetime': array([16.5, 16.5, 16.5, 16.5, 16.5, 16.5, 16.5, 16.5, 16.5, 16.5, 16.5,\n",
       "         16.5, 16.5, 16.5, 16.5, 16.5, 16.5, 16.5, 16.5, 16.5, 16.5, 16.5,\n",
       "         16.5, 16.5, 16.5, 16.5, 16.5, 16.5, 16.5, 16.5, 16.5, 16.5, 16.5,\n",
       "         16.5, 16.5, 16.5, 16.5, 16.5, 16.5, 16.5, 16.5, 16.5, 16.5, 16.5,\n",
       "         16.5, 16.5, 16.5, 16.5, 16.5, 16.5, 16.5, 16.5, 16.5]),\n",
       "  'shape': array([1.4])},\n",
       " 'Transport ponton': {'i': None,\n",
       "  'o': None,\n",
       "  's': array([73.89881886768372, 74.10946174449879, 74.34229507507196,\n",
       "         74.5973188593972, 74.87453309748055, 75.17393778931596,\n",
       "         75.49553293490345, 75.83931853424902, 76.20529458734669,\n",
       "         76.59346109420245, 77.00381805481028, 77.43636546917621,\n",
       "         77.89110333730024, 78.36803165917031, 78.86715043479849,\n",
       "         79.38845966417874, 79.93195934731708, 80.4976494842075,\n",
       "         81.08553007484998, 81.69560111925057, 82.32786261740323,\n",
       "         82.98231456932002, 83.65895697498284, 84.35778983440379,\n",
       "         85.0788131475768, 85.8220269145079, 86.58743113518504,\n",
       "         87.37502580962631, 88.18481093781966, 89.01678651977112,\n",
       "         89.87095255546859, 90.74730904492418, 91.64585598813788,\n",
       "         92.56659338510364, 93.50952123582148, 94.47463954029742,\n",
       "         95.46194829852543, 96.47144751051758, 97.50313717625573,\n",
       "         98.55701729574601, 99.63308786899434, 100.73134889599476,\n",
       "         101.85180037675329, 102.99444231126388, 104.15927469953257,\n",
       "         105.34629754155938, 106.55551083733218, 107.78691458686315,\n",
       "         109.04050879014616, 110.31629344718728, 111.61426855798047,\n",
       "         112.93443412253173, 114.27679014083509, 73.17351879263134,\n",
       "         73.28638064478713, 73.44656859763364, 73.65408265114681,\n",
       "         73.90892280535073, 74.21108906023333, 74.56058141580671,\n",
       "         74.95739987204672, 75.40154442898954, 75.89301508659904,\n",
       "         76.43181184488718, 77.0179347038661, 77.65138366352373,\n",
       "         78.33215872387211, 79.06025988489918, 79.83568714660494,\n",
       "         80.65844050898941, 81.52851997206463, 82.44592553581857,\n",
       "         83.41065720025118, 84.42271496537457, 85.48209883117664,\n",
       "         86.58880879764536, 87.7428448648169, 88.94420703266712,\n",
       "         90.19289530119605, 91.48890967041574, 92.83225014030205,\n",
       "         94.22291671086707, 95.6609093821349, 97.14622815406938,\n",
       "         98.67887302669462, 100.25884400001061, 101.88614107399323,\n",
       "         103.56076424865456, 105.28271352400664, 107.05198890003741,\n",
       "         108.86859037675896, 110.73251795415918, 112.64377163223813,\n",
       "         114.60235141099575, 116.60825729044414, 118.66148927057124,\n",
       "         120.762047351377, 122.90993153287356, 125.1051418150488,\n",
       "         127.34767819789064, 129.63754068143535, 131.97472926565874,\n",
       "         134.35924395056085, 136.79108473614158, 139.27025162241316,\n",
       "         141.7967446093634], dtype=object),\n",
       "  'lifetime': array([16.5, 16.5, 16.5, 16.5, 16.5, 16.5, 16.5, 16.5, 16.5, 16.5, 16.5,\n",
       "         16.5, 16.5, 16.5, 16.5, 16.5, 16.5, 16.5, 16.5, 16.5, 16.5, 16.5,\n",
       "         16.5, 16.5, 16.5, 16.5, 16.5, 16.5, 16.5, 16.5, 16.5, 16.5, 16.5,\n",
       "         16.5, 16.5, 16.5, 16.5, 16.5, 16.5, 16.5, 16.5, 16.5, 16.5, 16.5,\n",
       "         16.5, 16.5, 16.5, 16.5, 16.5, 16.5, 16.5, 16.5, 16.5]),\n",
       "  'shape': array([1.4])},\n",
       " 'Container schip': {'i': None,\n",
       "  'o': None,\n",
       "  's': array([94.70802933058498, 94.97798725496534, 95.27638425560679,\n",
       "         95.60322033250158, 95.95849548565744, 96.34220971506662,\n",
       "         96.75436302072916, 97.19495540265277, 97.66398686082974,\n",
       "         98.16145739526777, 98.68736700595915, 99.24171569291158,\n",
       "         99.82450345612511, 100.43573029558424, 101.07539621130445,\n",
       "         101.74350120327802, 102.44004527151263, 103.16502841600061,\n",
       "         103.91845063674192, 104.7003119337443, 105.51061230700003,\n",
       "         106.34935175652456, 107.2165302822947, 108.11214788432594,\n",
       "         109.0362045626105, 109.98870031715613, 110.96963514794739,\n",
       "         111.97900905500741, 113.01682203832083, 114.08307409789529,\n",
       "         115.17776523371536, 116.30089544579651, 117.45246473413876,\n",
       "         118.63247309873434, 119.84092053958325, 121.07780705669325,\n",
       "         122.34313265005657, 123.63689731968873, 124.95910106556646,\n",
       "         126.30974388769758, 127.68882578608972, 129.09634676073523,\n",
       "         130.53230681164183, 131.99670593880177, 133.48954414222274,\n",
       "         135.01082142190484, 136.56053777783248, 138.13869321002127,\n",
       "         139.74528771846337, 141.38032130316657, 143.0437939641231,\n",
       "         144.73570570134066, 146.45605651481162, 93.77849159460939,\n",
       "         93.92313427994667, 94.12842964960284, 94.39437770354701,\n",
       "         94.72097844181008, 95.10823186437662, 95.55613797126207,\n",
       "         96.06469676243556, 96.63390823794339, 97.26377239773927,\n",
       "         97.95428924183855, 98.70545877025678, 99.51728098297848,\n",
       "         100.3897558800191, 101.32288346136316, 102.31666372701068,\n",
       "         103.37109667696168, 104.48618231123157, 105.66192062980495,\n",
       "         106.89831163268178, 108.19535531987754, 109.55305169137674,\n",
       "         110.97140074716397, 112.45040248728556, 113.99005691171061,\n",
       "         115.59036402043913, 117.25132381348655, 118.97293629082198,\n",
       "         120.75520145246088, 122.59811929843414, 124.50168982869542,\n",
       "         126.46591304327563, 128.49078894217473, 130.57631752536184,\n",
       "         132.72249879285243, 134.9293327446619, 137.19681938077488,\n",
       "         139.52495870120674, 141.91375070594208, 144.3631953949809,\n",
       "         146.87329276832315, 149.44404282598433, 152.07544556794898,\n",
       "         154.76750099421704, 157.52020910480408, 160.33356989969457,\n",
       "         163.207583378873, 166.1422495423859, 169.1375683902022,\n",
       "         172.193539922322, 175.3101641387452, 178.48744103948738,\n",
       "         181.725370624533], dtype=object),\n",
       "  'lifetime': array([16.5, 16.5, 16.5, 16.5, 16.5, 16.5, 16.5, 16.5, 16.5, 16.5, 16.5,\n",
       "         16.5, 16.5, 16.5, 16.5, 16.5, 16.5, 16.5, 16.5, 16.5, 16.5, 16.5,\n",
       "         16.5, 16.5, 16.5, 16.5, 16.5, 16.5, 16.5, 16.5, 16.5, 16.5, 16.5,\n",
       "         16.5, 16.5, 16.5, 16.5, 16.5, 16.5, 16.5, 16.5, 16.5, 16.5, 16.5,\n",
       "         16.5, 16.5, 16.5, 16.5, 16.5, 16.5, 16.5, 16.5, 16.5]),\n",
       "  'shape': array([1.4])},\n",
       " 'Kust en zeesleepboot': {'i': None,\n",
       "  'o': None,\n",
       "  's': array([146.45273081744645, 146.87018301775893, 147.33161227481943,\n",
       "         147.83701858861593, 148.38640195916042, 148.97976238644088,\n",
       "         149.6170998704574, 150.29841441122187, 151.0237060087224,\n",
       "         151.7929746629709, 152.60622037395538, 153.46344314168783,\n",
       "         154.36464296616828, 155.30981984737278, 156.29897378532524,\n",
       "         157.33210478001376, 158.40921283145022, 159.53029793962273,\n",
       "         160.69536010453123, 161.90439932618773, 163.15741560458022,\n",
       "         164.45440893973264, 165.79537933160913, 167.18032678023363,\n",
       "         168.6092512855941, 170.08215284770256, 171.5990314665351,\n",
       "         173.15988714212753, 174.76471987445603, 176.41352966353244,\n",
       "         178.10631650933297, 179.84308041188143, 181.6238213711779,\n",
       "         183.4485393872104, 185.3172344599789, 187.22990658949536,\n",
       "         189.18655577574785, 191.1871820187603, 193.23178531849675,\n",
       "         195.32036567496928, 197.45292308818972, 199.6294575581462,\n",
       "         201.8499690848507, 204.11445766829118, 206.42292330847962,\n",
       "         208.77536600541606, 211.1717857590765, 213.61218256948504,\n",
       "         216.09655643662953, 218.624907360522, 221.1972353411505,\n",
       "         223.81354037852694, 226.4738224726394, 145.015330622408,\n",
       "         145.23900031979414, 145.55646091656547, 145.96771241267416,\n",
       "         146.47275480816802, 147.07158810302317, 147.7642122972635,\n",
       "         148.55062739084124, 149.43083338382806, 150.4048302761523,\n",
       "         151.47261806783771, 152.6341967589084, 153.88956634934036,\n",
       "         155.2387268391575, 156.68167822833593, 158.2184205168756,\n",
       "         159.8489537047766, 161.57327779206273, 163.3913927787102,\n",
       "         165.3032986647189, 167.30899545011286, 169.40848313486805,\n",
       "         171.60176171896063, 173.8888312024623, 176.26969158532526,\n",
       "         178.7443428675495, 181.31278504915892, 183.97501813010572,\n",
       "         186.7310421104138, 189.58085699013097, 192.52446276918553,\n",
       "         195.5618594476253, 198.69304702545023, 201.91802550261252,\n",
       "         205.2367948791361, 208.64935515504487, 212.15570633031496,\n",
       "         215.75584840497018, 219.4497813789867, 223.23750525236454,\n",
       "         227.11902002510362, 231.0943256972279, 235.1634222687135,\n",
       "         239.32630973956032, 243.58298810979238, 247.9334573793857,\n",
       "         252.37771754831633, 256.9157686166562, 261.5476105843572,\n",
       "         266.2732434514196, 271.09266721784314, 276.005881883652,\n",
       "         281.01288744882214], dtype=object),\n",
       "  'lifetime': array([16.5, 16.5, 16.5, 16.5, 16.5, 16.5, 16.5, 16.5, 16.5, 16.5, 16.5,\n",
       "         16.5, 16.5, 16.5, 16.5, 16.5, 16.5, 16.5, 16.5, 16.5, 16.5, 16.5,\n",
       "         16.5, 16.5, 16.5, 16.5, 16.5, 16.5, 16.5, 16.5, 16.5, 16.5, 16.5,\n",
       "         16.5, 16.5, 16.5, 16.5, 16.5, 16.5, 16.5, 16.5, 16.5, 16.5, 16.5,\n",
       "         16.5, 16.5, 16.5, 16.5, 16.5, 16.5, 16.5, 16.5, 16.5]),\n",
       "  'shape': array([1.4])},\n",
       " 'Multi purpose vessel': {'i': None,\n",
       "  'o': None,\n",
       "  's': array([539.2392443801332, 540.7763042069105, 542.4752876435685,\n",
       "         544.3361946900633, 546.3590253464386, 548.5437796126505,\n",
       "         550.8904574886991, 553.3990589746281, 556.0695840703942,\n",
       "         558.9020327760406, 561.8964050915238, 565.0527010168875,\n",
       "         568.3709205521319, 571.8510636971689, 575.4931304520866,\n",
       "         579.2971208168409, 583.2630347914759, 587.3908723759474,\n",
       "         591.6806335702556, 596.1323183744445, 600.74592678847,\n",
       "         605.5214588124201, 610.4589144461628, 615.5582936897863,\n",
       "         620.8195965432463, 626.242823006587, 631.8279730797203,\n",
       "         637.5750467627781, 643.4840440556728, 649.554964958448,\n",
       "         655.7878094710159, 662.1825775934643, 668.7392693257934,\n",
       "         675.4578846679592, 682.3384236199616, 689.3808861818447,\n",
       "         696.5852723535644, 703.9515821352088, 711.4798155266457,\n",
       "         719.1699725279194, 727.0220531390735, 735.0360573600643,\n",
       "         743.2119851909358, 751.549836631644, 760.0496116822327,\n",
       "         768.7113103427022, 777.534932612964, 786.5204784931069,\n",
       "         795.6679479830863, 804.9773410829463, 814.4486577926428,\n",
       "         824.08189811222, 833.8770620416338, 533.9467340205239,\n",
       "         534.7702862884539, 535.9391768333275, 537.4534056549688,\n",
       "         539.3129727535537, 541.5178781289945, 544.0681217813789,\n",
       "         546.9637037105311, 550.2046239167149, 553.7908823996667,\n",
       "         557.7224791594739, 561.999414196225, 566.6216875098319,\n",
       "         571.5892991003824, 576.9022489677886, 582.5605371120505,\n",
       "         588.5641635331682, 594.9131282312295, 601.6074312061467,\n",
       "         608.6470724579194, 616.0320519866361, 623.7623697922083,\n",
       "         631.8380258745484, 640.2590202339201, 649.0253528701476,\n",
       "         658.1370237832307, 667.5940329732576, 677.3963804400522,\n",
       "         687.5440661837025, 698.0370902043845, 708.8754525018343,\n",
       "         720.0591530762279, 731.588191927565, 743.46256905567,\n",
       "         755.6822844606307, 768.247338142535, 781.1577301012952,\n",
       "         794.413460336999, 808.0145288495585, 821.9609356389739,\n",
       "         836.2526807052449, 850.8897640484596, 865.87218566853,\n",
       "         881.1999455654561, 896.8730437393261, 912.8914801900517,\n",
       "         929.2552549175448, 945.9643679220701, 963.0188192034507,\n",
       "         980.4186087616873, 998.1637365967794, 1016.2542027088153,\n",
       "         1034.6900070977072], dtype=object),\n",
       "  'lifetime': array([16.5, 16.5, 16.5, 16.5, 16.5, 16.5, 16.5, 16.5, 16.5, 16.5, 16.5,\n",
       "         16.5, 16.5, 16.5, 16.5, 16.5, 16.5, 16.5, 16.5, 16.5, 16.5, 16.5,\n",
       "         16.5, 16.5, 16.5, 16.5, 16.5, 16.5, 16.5, 16.5, 16.5, 16.5, 16.5,\n",
       "         16.5, 16.5, 16.5, 16.5, 16.5, 16.5, 16.5, 16.5, 16.5, 16.5, 16.5,\n",
       "         16.5, 16.5, 16.5, 16.5, 16.5, 16.5, 16.5, 16.5, 16.5]),\n",
       "  'shape': array([1.4])}}"
      ]
     },
     "execution_count": 126,
     "metadata": {},
     "output_type": "execute_result"
    }
   ],
   "source": [
    "vios\n",
    "# list(vc['Vehicle'].unique())\n"
   ]
  },
  {
   "cell_type": "code",
   "execution_count": 127,
   "metadata": {},
   "outputs": [],
   "source": [
    "# np.ones(len(x))*lifetime.loc[3, 'lifetime']\n",
    "# v='ice'\n",
    "# lifetime.loc[lifetime['Vehicle']==v, 'shape'].values"
   ]
  },
  {
   "cell_type": "code",
   "execution_count": 128,
   "metadata": {},
   "outputs": [],
   "source": [
    "import stockflow as sf"
   ]
  },
  {
   "cell_type": "code",
   "execution_count": 129,
   "metadata": {},
   "outputs": [],
   "source": [
    "for v in vios.keys():\n",
    "    IOS, dt = sf.InOutStock(\\\n",
    "                            x,\n",
    "                            vios[v]['s'],\n",
    "                            vios[v]['lifetime'],\n",
    "                            shape = vios[v]['shape'],\n",
    "                            scaleflow = 'year',\n",
    "                            )\n",
    "    vios[v]['i'] = np.array(IOS['Infl'])\n",
    "    vios[v]['o'] = np.array(IOS['Outf'])\n",
    "    \n",
    "                "
   ]
  },
  {
   "cell_type": "code",
   "execution_count": 163,
   "metadata": {},
   "outputs": [
    {
     "data": {
      "text/html": [
       "<div>\n",
       "<style scoped>\n",
       "    .dataframe tbody tr th:only-of-type {\n",
       "        vertical-align: middle;\n",
       "    }\n",
       "\n",
       "    .dataframe tbody tr th {\n",
       "        vertical-align: top;\n",
       "    }\n",
       "\n",
       "    .dataframe thead th {\n",
       "        text-align: right;\n",
       "    }\n",
       "</style>\n",
       "<table border=\"1\" class=\"dataframe\">\n",
       "  <thead>\n",
       "    <tr style=\"text-align: right;\">\n",
       "      <th></th>\n",
       "      <th>Year</th>\n",
       "      <th>Vehicle</th>\n",
       "      <th>Stock</th>\n",
       "      <th>Inflow</th>\n",
       "      <th>Outflow</th>\n",
       "    </tr>\n",
       "  </thead>\n",
       "  <tbody>\n",
       "    <tr>\n",
       "      <th>0</th>\n",
       "      <td>1999.0</td>\n",
       "      <td>ice</td>\n",
       "      <td>6.44056e+06</td>\n",
       "      <td>303869.749155</td>\n",
       "      <td>340650.559796</td>\n",
       "    </tr>\n",
       "    <tr>\n",
       "      <th>1</th>\n",
       "      <td>2000.0</td>\n",
       "      <td>ice</td>\n",
       "      <td>6.40378e+06</td>\n",
       "      <td>315004.323485</td>\n",
       "      <td>332124.532649</td>\n",
       "    </tr>\n",
       "    <tr>\n",
       "      <th>2</th>\n",
       "      <td>2001.0</td>\n",
       "      <td>ice</td>\n",
       "      <td>6.38666e+06</td>\n",
       "      <td>341915.021416</td>\n",
       "      <td>328284.397668</td>\n",
       "    </tr>\n",
       "    <tr>\n",
       "      <th>3</th>\n",
       "      <td>2002.0</td>\n",
       "      <td>ice</td>\n",
       "      <td>6.40029e+06</td>\n",
       "      <td>370128.784701</td>\n",
       "      <td>326643.959886</td>\n",
       "    </tr>\n",
       "    <tr>\n",
       "      <th>4</th>\n",
       "      <td>2003.0</td>\n",
       "      <td>ice</td>\n",
       "      <td>6.44378e+06</td>\n",
       "      <td>398416.281056</td>\n",
       "      <td>326196.741410</td>\n",
       "    </tr>\n",
       "    <tr>\n",
       "      <th>5</th>\n",
       "      <td>2004.0</td>\n",
       "      <td>ice</td>\n",
       "      <td>6.516e+06</td>\n",
       "      <td>425790.462400</td>\n",
       "      <td>326372.449024</td>\n",
       "    </tr>\n",
       "    <tr>\n",
       "      <th>6</th>\n",
       "      <td>2005.0</td>\n",
       "      <td>ice</td>\n",
       "      <td>6.61541e+06</td>\n",
       "      <td>451325.917748</td>\n",
       "      <td>326847.036452</td>\n",
       "    </tr>\n",
       "    <tr>\n",
       "      <th>7</th>\n",
       "      <td>2006.0</td>\n",
       "      <td>ice</td>\n",
       "      <td>6.73989e+06</td>\n",
       "      <td>474061.797868</td>\n",
       "      <td>327427.258631</td>\n",
       "    </tr>\n",
       "    <tr>\n",
       "      <th>8</th>\n",
       "      <td>2007.0</td>\n",
       "      <td>ice</td>\n",
       "      <td>6.88653e+06</td>\n",
       "      <td>492984.488872</td>\n",
       "      <td>328003.222574</td>\n",
       "    </tr>\n",
       "    <tr>\n",
       "      <th>9</th>\n",
       "      <td>2008.0</td>\n",
       "      <td>ice</td>\n",
       "      <td>7.05151e+06</td>\n",
       "      <td>507042.865376</td>\n",
       "      <td>328519.789882</td>\n",
       "    </tr>\n",
       "    <tr>\n",
       "      <th>10</th>\n",
       "      <td>2009.0</td>\n",
       "      <td>ice</td>\n",
       "      <td>7.23003e+06</td>\n",
       "      <td>515191.663512</td>\n",
       "      <td>328962.424866</td>\n",
       "    </tr>\n",
       "    <tr>\n",
       "      <th>11</th>\n",
       "      <td>2010.0</td>\n",
       "      <td>ice</td>\n",
       "      <td>7.41626e+06</td>\n",
       "      <td>516453.792076</td>\n",
       "      <td>329350.686094</td>\n",
       "    </tr>\n",
       "    <tr>\n",
       "      <th>12</th>\n",
       "      <td>2011.0</td>\n",
       "      <td>ice</td>\n",
       "      <td>7.60336e+06</td>\n",
       "      <td>509995.284863</td>\n",
       "      <td>329737.343148</td>\n",
       "    </tr>\n",
       "    <tr>\n",
       "      <th>13</th>\n",
       "      <td>2012.0</td>\n",
       "      <td>ice</td>\n",
       "      <td>7.78362e+06</td>\n",
       "      <td>495203.713236</td>\n",
       "      <td>330211.461700</td>\n",
       "    </tr>\n",
       "    <tr>\n",
       "      <th>14</th>\n",
       "      <td>2013.0</td>\n",
       "      <td>ice</td>\n",
       "      <td>7.94862e+06</td>\n",
       "      <td>471759.980903</td>\n",
       "      <td>330904.194060</td>\n",
       "    </tr>\n",
       "  </tbody>\n",
       "</table>\n",
       "</div>"
      ],
      "text/plain": [
       "      Year Vehicle        Stock         Inflow        Outflow\n",
       "0   1999.0     ice  6.44056e+06  303869.749155  340650.559796\n",
       "1   2000.0     ice  6.40378e+06  315004.323485  332124.532649\n",
       "2   2001.0     ice  6.38666e+06  341915.021416  328284.397668\n",
       "3   2002.0     ice  6.40029e+06  370128.784701  326643.959886\n",
       "4   2003.0     ice  6.44378e+06  398416.281056  326196.741410\n",
       "5   2004.0     ice    6.516e+06  425790.462400  326372.449024\n",
       "6   2005.0     ice  6.61541e+06  451325.917748  326847.036452\n",
       "7   2006.0     ice  6.73989e+06  474061.797868  327427.258631\n",
       "8   2007.0     ice  6.88653e+06  492984.488872  328003.222574\n",
       "9   2008.0     ice  7.05151e+06  507042.865376  328519.789882\n",
       "10  2009.0     ice  7.23003e+06  515191.663512  328962.424866\n",
       "11  2010.0     ice  7.41626e+06  516453.792076  329350.686094\n",
       "12  2011.0     ice  7.60336e+06  509995.284863  329737.343148\n",
       "13  2012.0     ice  7.78362e+06  495203.713236  330211.461700\n",
       "14  2013.0     ice  7.94862e+06  471759.980903  330904.194060"
      ]
     },
     "execution_count": 163,
     "metadata": {},
     "output_type": "execute_result"
    }
   ],
   "source": [
    "temp = pd.DataFrame()\n",
    "key='ice'\n",
    "temp.at[:, 'Year'] = pd.Series(x)\n",
    "temp.at[:, 'Vehicle'] = key\n",
    "temp.at[:, 'Stock'] = pd.Series(vios[key]['s'])\n",
    "temp.at[:, 'Inflow'] = pd.Series(vios[key]['i'])\n",
    "temp.at[:, 'Outflow'] = pd.Series(vios[key]['o'])\n",
    "\n",
    "temp.head(15)"
   ]
  },
  {
   "cell_type": "code",
   "execution_count": 164,
   "metadata": {
    "scrolled": true
   },
   "outputs": [
    {
     "data": {
      "text/html": [
       "<div>\n",
       "<style scoped>\n",
       "    .dataframe tbody tr th:only-of-type {\n",
       "        vertical-align: middle;\n",
       "    }\n",
       "\n",
       "    .dataframe tbody tr th {\n",
       "        vertical-align: top;\n",
       "    }\n",
       "\n",
       "    .dataframe thead th {\n",
       "        text-align: right;\n",
       "    }\n",
       "</style>\n",
       "<table border=\"1\" class=\"dataframe\">\n",
       "  <thead>\n",
       "    <tr style=\"text-align: right;\">\n",
       "      <th></th>\n",
       "      <th>Year</th>\n",
       "      <th>Vehicle</th>\n",
       "      <th>Stock</th>\n",
       "      <th>Inflow</th>\n",
       "      <th>Outflow</th>\n",
       "    </tr>\n",
       "  </thead>\n",
       "  <tbody>\n",
       "    <tr>\n",
       "      <th>0</th>\n",
       "      <td>1999.0</td>\n",
       "      <td>ice</td>\n",
       "      <td>6.44056e+06</td>\n",
       "      <td>303869.749155</td>\n",
       "      <td>340650.559796</td>\n",
       "    </tr>\n",
       "    <tr>\n",
       "      <th>1</th>\n",
       "      <td>2000.0</td>\n",
       "      <td>ice</td>\n",
       "      <td>6.40378e+06</td>\n",
       "      <td>315004.323485</td>\n",
       "      <td>332124.532649</td>\n",
       "    </tr>\n",
       "    <tr>\n",
       "      <th>2</th>\n",
       "      <td>2001.0</td>\n",
       "      <td>ice</td>\n",
       "      <td>6.38666e+06</td>\n",
       "      <td>341915.021416</td>\n",
       "      <td>328284.397668</td>\n",
       "    </tr>\n",
       "    <tr>\n",
       "      <th>3</th>\n",
       "      <td>2002.0</td>\n",
       "      <td>ice</td>\n",
       "      <td>6.40029e+06</td>\n",
       "      <td>370128.784701</td>\n",
       "      <td>326643.959886</td>\n",
       "    </tr>\n",
       "    <tr>\n",
       "      <th>4</th>\n",
       "      <td>2003.0</td>\n",
       "      <td>ice</td>\n",
       "      <td>6.44378e+06</td>\n",
       "      <td>398416.281056</td>\n",
       "      <td>326196.741410</td>\n",
       "    </tr>\n",
       "    <tr>\n",
       "      <th>5</th>\n",
       "      <td>2004.0</td>\n",
       "      <td>ice</td>\n",
       "      <td>6.516e+06</td>\n",
       "      <td>425790.462400</td>\n",
       "      <td>326372.449024</td>\n",
       "    </tr>\n",
       "    <tr>\n",
       "      <th>6</th>\n",
       "      <td>2005.0</td>\n",
       "      <td>ice</td>\n",
       "      <td>6.61541e+06</td>\n",
       "      <td>451325.917748</td>\n",
       "      <td>326847.036452</td>\n",
       "    </tr>\n",
       "    <tr>\n",
       "      <th>7</th>\n",
       "      <td>2006.0</td>\n",
       "      <td>ice</td>\n",
       "      <td>6.73989e+06</td>\n",
       "      <td>474061.797868</td>\n",
       "      <td>327427.258631</td>\n",
       "    </tr>\n",
       "    <tr>\n",
       "      <th>8</th>\n",
       "      <td>2007.0</td>\n",
       "      <td>ice</td>\n",
       "      <td>6.88653e+06</td>\n",
       "      <td>492984.488872</td>\n",
       "      <td>328003.222574</td>\n",
       "    </tr>\n",
       "    <tr>\n",
       "      <th>9</th>\n",
       "      <td>2008.0</td>\n",
       "      <td>ice</td>\n",
       "      <td>7.05151e+06</td>\n",
       "      <td>507042.865376</td>\n",
       "      <td>328519.789882</td>\n",
       "    </tr>\n",
       "    <tr>\n",
       "      <th>10</th>\n",
       "      <td>2009.0</td>\n",
       "      <td>ice</td>\n",
       "      <td>7.23003e+06</td>\n",
       "      <td>515191.663512</td>\n",
       "      <td>328962.424866</td>\n",
       "    </tr>\n",
       "    <tr>\n",
       "      <th>11</th>\n",
       "      <td>2010.0</td>\n",
       "      <td>ice</td>\n",
       "      <td>7.41626e+06</td>\n",
       "      <td>516453.792076</td>\n",
       "      <td>329350.686094</td>\n",
       "    </tr>\n",
       "    <tr>\n",
       "      <th>12</th>\n",
       "      <td>2011.0</td>\n",
       "      <td>ice</td>\n",
       "      <td>7.60336e+06</td>\n",
       "      <td>509995.284863</td>\n",
       "      <td>329737.343148</td>\n",
       "    </tr>\n",
       "    <tr>\n",
       "      <th>13</th>\n",
       "      <td>2012.0</td>\n",
       "      <td>ice</td>\n",
       "      <td>7.78362e+06</td>\n",
       "      <td>495203.713236</td>\n",
       "      <td>330211.461700</td>\n",
       "    </tr>\n",
       "    <tr>\n",
       "      <th>14</th>\n",
       "      <td>2013.0</td>\n",
       "      <td>ice</td>\n",
       "      <td>7.94862e+06</td>\n",
       "      <td>471759.980903</td>\n",
       "      <td>330904.194060</td>\n",
       "    </tr>\n",
       "    <tr>\n",
       "      <th>15</th>\n",
       "      <td>2014.0</td>\n",
       "      <td>ice</td>\n",
       "      <td>8.08947e+06</td>\n",
       "      <td>439692.014254</td>\n",
       "      <td>331995.754075</td>\n",
       "    </tr>\n",
       "    <tr>\n",
       "      <th>16</th>\n",
       "      <td>2015.0</td>\n",
       "      <td>ice</td>\n",
       "      <td>8.19717e+06</td>\n",
       "      <td>399399.659243</td>\n",
       "      <td>333721.361008</td>\n",
       "    </tr>\n",
       "    <tr>\n",
       "      <th>17</th>\n",
       "      <td>2016.0</td>\n",
       "      <td>ice</td>\n",
       "      <td>8.26285e+06</td>\n",
       "      <td>351642.549920</td>\n",
       "      <td>336372.780929</td>\n",
       "    </tr>\n",
       "    <tr>\n",
       "      <th>18</th>\n",
       "      <td>2017.0</td>\n",
       "      <td>ice</td>\n",
       "      <td>8.27812e+06</td>\n",
       "      <td>297488.330185</td>\n",
       "      <td>340290.605239</td>\n",
       "    </tr>\n",
       "    <tr>\n",
       "      <th>19</th>\n",
       "      <td>2018.0</td>\n",
       "      <td>ice</td>\n",
       "      <td>8.23531e+06</td>\n",
       "      <td>238228.192111</td>\n",
       "      <td>345841.039052</td>\n",
       "    </tr>\n",
       "    <tr>\n",
       "      <th>20</th>\n",
       "      <td>2019.0</td>\n",
       "      <td>ice</td>\n",
       "      <td>8.1277e+06</td>\n",
       "      <td>175280.038484</td>\n",
       "      <td>353370.744731</td>\n",
       "    </tr>\n",
       "    <tr>\n",
       "      <th>21</th>\n",
       "      <td>2020.0</td>\n",
       "      <td>ice</td>\n",
       "      <td>7.94961e+06</td>\n",
       "      <td>110117.111163</td>\n",
       "      <td>363135.866440</td>\n",
       "    </tr>\n",
       "    <tr>\n",
       "      <th>22</th>\n",
       "      <td>2021.0</td>\n",
       "      <td>ice</td>\n",
       "      <td>7.69659e+06</td>\n",
       "      <td>44276.548190</td>\n",
       "      <td>375208.626583</td>\n",
       "    </tr>\n",
       "    <tr>\n",
       "      <th>23</th>\n",
       "      <td>2022.0</td>\n",
       "      <td>ice</td>\n",
       "      <td>7.36566e+06</td>\n",
       "      <td>0.000000</td>\n",
       "      <td>409869.925457</td>\n",
       "    </tr>\n",
       "    <tr>\n",
       "      <th>24</th>\n",
       "      <td>2023.0</td>\n",
       "      <td>ice</td>\n",
       "      <td>6.95579e+06</td>\n",
       "      <td>0.000000</td>\n",
       "      <td>486982.705316</td>\n",
       "    </tr>\n",
       "    <tr>\n",
       "      <th>25</th>\n",
       "      <td>2024.0</td>\n",
       "      <td>ice</td>\n",
       "      <td>6.46881e+06</td>\n",
       "      <td>0.000000</td>\n",
       "      <td>558096.736297</td>\n",
       "    </tr>\n",
       "    <tr>\n",
       "      <th>26</th>\n",
       "      <td>2025.0</td>\n",
       "      <td>ice</td>\n",
       "      <td>5.91071e+06</td>\n",
       "      <td>0.000000</td>\n",
       "      <td>617494.913722</td>\n",
       "    </tr>\n",
       "    <tr>\n",
       "      <th>27</th>\n",
       "      <td>2026.0</td>\n",
       "      <td>ice</td>\n",
       "      <td>5.29321e+06</td>\n",
       "      <td>0.000000</td>\n",
       "      <td>658304.915046</td>\n",
       "    </tr>\n",
       "    <tr>\n",
       "      <th>28</th>\n",
       "      <td>2027.0</td>\n",
       "      <td>ice</td>\n",
       "      <td>4.63491e+06</td>\n",
       "      <td>0.000000</td>\n",
       "      <td>673825.330278</td>\n",
       "    </tr>\n",
       "    <tr>\n",
       "      <th>29</th>\n",
       "      <td>2028.0</td>\n",
       "      <td>ice</td>\n",
       "      <td>3.96108e+06</td>\n",
       "      <td>0.000000</td>\n",
       "      <td>659684.122933</td>\n",
       "    </tr>\n",
       "    <tr>\n",
       "      <th>...</th>\n",
       "      <td>...</td>\n",
       "      <td>...</td>\n",
       "      <td>...</td>\n",
       "      <td>...</td>\n",
       "      <td>...</td>\n",
       "    </tr>\n",
       "    <tr>\n",
       "      <th>2302</th>\n",
       "      <td>2022.0</td>\n",
       "      <td>Multi purpose vessel</td>\n",
       "      <td>615.558</td>\n",
       "      <td>39.537242</td>\n",
       "      <td>34.275938</td>\n",
       "    </tr>\n",
       "    <tr>\n",
       "      <th>2303</th>\n",
       "      <td>2023.0</td>\n",
       "      <td>Multi purpose vessel</td>\n",
       "      <td>620.82</td>\n",
       "      <td>39.966540</td>\n",
       "      <td>34.543312</td>\n",
       "    </tr>\n",
       "    <tr>\n",
       "      <th>2304</th>\n",
       "      <td>2024.0</td>\n",
       "      <td>Multi purpose vessel</td>\n",
       "      <td>626.243</td>\n",
       "      <td>40.405196</td>\n",
       "      <td>34.820044</td>\n",
       "    </tr>\n",
       "    <tr>\n",
       "      <th>2305</th>\n",
       "      <td>2025.0</td>\n",
       "      <td>Multi purpose vessel</td>\n",
       "      <td>631.828</td>\n",
       "      <td>40.853203</td>\n",
       "      <td>35.106128</td>\n",
       "    </tr>\n",
       "    <tr>\n",
       "      <th>2306</th>\n",
       "      <td>2026.0</td>\n",
       "      <td>Multi purpose vessel</td>\n",
       "      <td>637.575</td>\n",
       "      <td>41.310554</td>\n",
       "      <td>35.401554</td>\n",
       "    </tr>\n",
       "    <tr>\n",
       "      <th>2307</th>\n",
       "      <td>2027.0</td>\n",
       "      <td>Multi purpose vessel</td>\n",
       "      <td>643.484</td>\n",
       "      <td>41.777240</td>\n",
       "      <td>35.706316</td>\n",
       "    </tr>\n",
       "    <tr>\n",
       "      <th>2308</th>\n",
       "      <td>2028.0</td>\n",
       "      <td>Multi purpose vessel</td>\n",
       "      <td>649.555</td>\n",
       "      <td>42.253255</td>\n",
       "      <td>36.020408</td>\n",
       "    </tr>\n",
       "    <tr>\n",
       "      <th>2309</th>\n",
       "      <td>2029.0</td>\n",
       "      <td>Multi purpose vessel</td>\n",
       "      <td>655.788</td>\n",
       "      <td>42.738594</td>\n",
       "      <td>36.343823</td>\n",
       "    </tr>\n",
       "    <tr>\n",
       "      <th>2310</th>\n",
       "      <td>2030.0</td>\n",
       "      <td>Multi purpose vessel</td>\n",
       "      <td>662.183</td>\n",
       "      <td>43.233251</td>\n",
       "      <td>36.676556</td>\n",
       "    </tr>\n",
       "    <tr>\n",
       "      <th>2311</th>\n",
       "      <td>2031.0</td>\n",
       "      <td>Multi purpose vessel</td>\n",
       "      <td>668.739</td>\n",
       "      <td>43.737222</td>\n",
       "      <td>37.018603</td>\n",
       "    </tr>\n",
       "    <tr>\n",
       "      <th>2312</th>\n",
       "      <td>2032.0</td>\n",
       "      <td>Multi purpose vessel</td>\n",
       "      <td>675.458</td>\n",
       "      <td>44.250502</td>\n",
       "      <td>37.369959</td>\n",
       "    </tr>\n",
       "    <tr>\n",
       "      <th>2313</th>\n",
       "      <td>2033.0</td>\n",
       "      <td>Multi purpose vessel</td>\n",
       "      <td>682.338</td>\n",
       "      <td>44.773087</td>\n",
       "      <td>37.730620</td>\n",
       "    </tr>\n",
       "    <tr>\n",
       "      <th>2314</th>\n",
       "      <td>2034.0</td>\n",
       "      <td>Multi purpose vessel</td>\n",
       "      <td>689.381</td>\n",
       "      <td>45.304975</td>\n",
       "      <td>38.100582</td>\n",
       "    </tr>\n",
       "    <tr>\n",
       "      <th>2315</th>\n",
       "      <td>2035.0</td>\n",
       "      <td>Multi purpose vessel</td>\n",
       "      <td>696.585</td>\n",
       "      <td>45.846160</td>\n",
       "      <td>38.479844</td>\n",
       "    </tr>\n",
       "    <tr>\n",
       "      <th>2316</th>\n",
       "      <td>2036.0</td>\n",
       "      <td>Multi purpose vessel</td>\n",
       "      <td>703.952</td>\n",
       "      <td>46.396642</td>\n",
       "      <td>38.868401</td>\n",
       "    </tr>\n",
       "    <tr>\n",
       "      <th>2317</th>\n",
       "      <td>2037.0</td>\n",
       "      <td>Multi purpose vessel</td>\n",
       "      <td>711.48</td>\n",
       "      <td>46.956416</td>\n",
       "      <td>39.266250</td>\n",
       "    </tr>\n",
       "    <tr>\n",
       "      <th>2318</th>\n",
       "      <td>2038.0</td>\n",
       "      <td>Multi purpose vessel</td>\n",
       "      <td>719.17</td>\n",
       "      <td>47.525481</td>\n",
       "      <td>39.673390</td>\n",
       "    </tr>\n",
       "    <tr>\n",
       "      <th>2319</th>\n",
       "      <td>2039.0</td>\n",
       "      <td>Multi purpose vessel</td>\n",
       "      <td>727.022</td>\n",
       "      <td>48.103834</td>\n",
       "      <td>40.089819</td>\n",
       "    </tr>\n",
       "    <tr>\n",
       "      <th>2320</th>\n",
       "      <td>2040.0</td>\n",
       "      <td>Multi purpose vessel</td>\n",
       "      <td>735.036</td>\n",
       "      <td>48.691474</td>\n",
       "      <td>40.515533</td>\n",
       "    </tr>\n",
       "    <tr>\n",
       "      <th>2321</th>\n",
       "      <td>2041.0</td>\n",
       "      <td>Multi purpose vessel</td>\n",
       "      <td>743.212</td>\n",
       "      <td>49.288397</td>\n",
       "      <td>40.950532</td>\n",
       "    </tr>\n",
       "    <tr>\n",
       "      <th>2322</th>\n",
       "      <td>2042.0</td>\n",
       "      <td>Multi purpose vessel</td>\n",
       "      <td>751.55</td>\n",
       "      <td>49.894604</td>\n",
       "      <td>41.394813</td>\n",
       "    </tr>\n",
       "    <tr>\n",
       "      <th>2323</th>\n",
       "      <td>2043.0</td>\n",
       "      <td>Multi purpose vessel</td>\n",
       "      <td>760.05</td>\n",
       "      <td>50.510092</td>\n",
       "      <td>41.848375</td>\n",
       "    </tr>\n",
       "    <tr>\n",
       "      <th>2324</th>\n",
       "      <td>2044.0</td>\n",
       "      <td>Multi purpose vessel</td>\n",
       "      <td>768.711</td>\n",
       "      <td>51.134859</td>\n",
       "      <td>42.311217</td>\n",
       "    </tr>\n",
       "    <tr>\n",
       "      <th>2325</th>\n",
       "      <td>2045.0</td>\n",
       "      <td>Multi purpose vessel</td>\n",
       "      <td>777.535</td>\n",
       "      <td>51.768904</td>\n",
       "      <td>42.783336</td>\n",
       "    </tr>\n",
       "    <tr>\n",
       "      <th>2326</th>\n",
       "      <td>2046.0</td>\n",
       "      <td>Multi purpose vessel</td>\n",
       "      <td>786.52</td>\n",
       "      <td>52.412226</td>\n",
       "      <td>43.264732</td>\n",
       "    </tr>\n",
       "    <tr>\n",
       "      <th>2327</th>\n",
       "      <td>2047.0</td>\n",
       "      <td>Multi purpose vessel</td>\n",
       "      <td>795.668</td>\n",
       "      <td>53.064824</td>\n",
       "      <td>43.755403</td>\n",
       "    </tr>\n",
       "    <tr>\n",
       "      <th>2328</th>\n",
       "      <td>2048.0</td>\n",
       "      <td>Multi purpose vessel</td>\n",
       "      <td>804.977</td>\n",
       "      <td>53.726697</td>\n",
       "      <td>44.255348</td>\n",
       "    </tr>\n",
       "    <tr>\n",
       "      <th>2329</th>\n",
       "      <td>2049.0</td>\n",
       "      <td>Multi purpose vessel</td>\n",
       "      <td>814.449</td>\n",
       "      <td>54.397842</td>\n",
       "      <td>44.764567</td>\n",
       "    </tr>\n",
       "    <tr>\n",
       "      <th>2330</th>\n",
       "      <td>2050.0</td>\n",
       "      <td>Multi purpose vessel</td>\n",
       "      <td>824.082</td>\n",
       "      <td>NaN</td>\n",
       "      <td>NaN</td>\n",
       "    </tr>\n",
       "    <tr>\n",
       "      <th>2331</th>\n",
       "      <td>2051.0</td>\n",
       "      <td>Multi purpose vessel</td>\n",
       "      <td>833.877</td>\n",
       "      <td>NaN</td>\n",
       "      <td>NaN</td>\n",
       "    </tr>\n",
       "  </tbody>\n",
       "</table>\n",
       "<p>2332 rows × 5 columns</p>\n",
       "</div>"
      ],
      "text/plain": [
       "        Year               Vehicle        Stock         Inflow        Outflow\n",
       "0     1999.0                   ice  6.44056e+06  303869.749155  340650.559796\n",
       "1     2000.0                   ice  6.40378e+06  315004.323485  332124.532649\n",
       "2     2001.0                   ice  6.38666e+06  341915.021416  328284.397668\n",
       "3     2002.0                   ice  6.40029e+06  370128.784701  326643.959886\n",
       "4     2003.0                   ice  6.44378e+06  398416.281056  326196.741410\n",
       "5     2004.0                   ice    6.516e+06  425790.462400  326372.449024\n",
       "6     2005.0                   ice  6.61541e+06  451325.917748  326847.036452\n",
       "7     2006.0                   ice  6.73989e+06  474061.797868  327427.258631\n",
       "8     2007.0                   ice  6.88653e+06  492984.488872  328003.222574\n",
       "9     2008.0                   ice  7.05151e+06  507042.865376  328519.789882\n",
       "10    2009.0                   ice  7.23003e+06  515191.663512  328962.424866\n",
       "11    2010.0                   ice  7.41626e+06  516453.792076  329350.686094\n",
       "12    2011.0                   ice  7.60336e+06  509995.284863  329737.343148\n",
       "13    2012.0                   ice  7.78362e+06  495203.713236  330211.461700\n",
       "14    2013.0                   ice  7.94862e+06  471759.980903  330904.194060\n",
       "15    2014.0                   ice  8.08947e+06  439692.014254  331995.754075\n",
       "16    2015.0                   ice  8.19717e+06  399399.659243  333721.361008\n",
       "17    2016.0                   ice  8.26285e+06  351642.549920  336372.780929\n",
       "18    2017.0                   ice  8.27812e+06  297488.330185  340290.605239\n",
       "19    2018.0                   ice  8.23531e+06  238228.192111  345841.039052\n",
       "20    2019.0                   ice   8.1277e+06  175280.038484  353370.744731\n",
       "21    2020.0                   ice  7.94961e+06  110117.111163  363135.866440\n",
       "22    2021.0                   ice  7.69659e+06   44276.548190  375208.626583\n",
       "23    2022.0                   ice  7.36566e+06       0.000000  409869.925457\n",
       "24    2023.0                   ice  6.95579e+06       0.000000  486982.705316\n",
       "25    2024.0                   ice  6.46881e+06       0.000000  558096.736297\n",
       "26    2025.0                   ice  5.91071e+06       0.000000  617494.913722\n",
       "27    2026.0                   ice  5.29321e+06       0.000000  658304.915046\n",
       "28    2027.0                   ice  4.63491e+06       0.000000  673825.330278\n",
       "29    2028.0                   ice  3.96108e+06       0.000000  659684.122933\n",
       "...      ...                   ...          ...            ...            ...\n",
       "2302  2022.0  Multi purpose vessel      615.558      39.537242      34.275938\n",
       "2303  2023.0  Multi purpose vessel       620.82      39.966540      34.543312\n",
       "2304  2024.0  Multi purpose vessel      626.243      40.405196      34.820044\n",
       "2305  2025.0  Multi purpose vessel      631.828      40.853203      35.106128\n",
       "2306  2026.0  Multi purpose vessel      637.575      41.310554      35.401554\n",
       "2307  2027.0  Multi purpose vessel      643.484      41.777240      35.706316\n",
       "2308  2028.0  Multi purpose vessel      649.555      42.253255      36.020408\n",
       "2309  2029.0  Multi purpose vessel      655.788      42.738594      36.343823\n",
       "2310  2030.0  Multi purpose vessel      662.183      43.233251      36.676556\n",
       "2311  2031.0  Multi purpose vessel      668.739      43.737222      37.018603\n",
       "2312  2032.0  Multi purpose vessel      675.458      44.250502      37.369959\n",
       "2313  2033.0  Multi purpose vessel      682.338      44.773087      37.730620\n",
       "2314  2034.0  Multi purpose vessel      689.381      45.304975      38.100582\n",
       "2315  2035.0  Multi purpose vessel      696.585      45.846160      38.479844\n",
       "2316  2036.0  Multi purpose vessel      703.952      46.396642      38.868401\n",
       "2317  2037.0  Multi purpose vessel       711.48      46.956416      39.266250\n",
       "2318  2038.0  Multi purpose vessel       719.17      47.525481      39.673390\n",
       "2319  2039.0  Multi purpose vessel      727.022      48.103834      40.089819\n",
       "2320  2040.0  Multi purpose vessel      735.036      48.691474      40.515533\n",
       "2321  2041.0  Multi purpose vessel      743.212      49.288397      40.950532\n",
       "2322  2042.0  Multi purpose vessel       751.55      49.894604      41.394813\n",
       "2323  2043.0  Multi purpose vessel       760.05      50.510092      41.848375\n",
       "2324  2044.0  Multi purpose vessel      768.711      51.134859      42.311217\n",
       "2325  2045.0  Multi purpose vessel      777.535      51.768904      42.783336\n",
       "2326  2046.0  Multi purpose vessel       786.52      52.412226      43.264732\n",
       "2327  2047.0  Multi purpose vessel      795.668      53.064824      43.755403\n",
       "2328  2048.0  Multi purpose vessel      804.977      53.726697      44.255348\n",
       "2329  2049.0  Multi purpose vessel      814.449      54.397842      44.764567\n",
       "2330  2050.0  Multi purpose vessel      824.082            NaN            NaN\n",
       "2331  2051.0  Multi purpose vessel      833.877            NaN            NaN\n",
       "\n",
       "[2332 rows x 5 columns]"
      ]
     },
     "execution_count": 164,
     "metadata": {},
     "output_type": "execute_result"
    }
   ],
   "source": [
    "VIOS = pd.DataFrame()\n",
    "for key in vios.keys():\n",
    "    temp = pd.DataFrame()\n",
    "    temp.at[:, 'Year'] = pd.Series(x)\n",
    "    temp.at[:, 'Vehicle'] = key\n",
    "    temp.at[:, 'Stock'] = pd.Series(vios[key]['s'])\n",
    "    temp.at[:, 'Inflow'] = pd.Series(vios[key]['i'])\n",
    "    temp.at[:, 'Outflow'] = pd.Series(vios[key]['o'])\n",
    "    VIOS = pd.concat([VIOS, temp], ignore_index=True, sort=False)\n",
    "    \n",
    "VIOS"
   ]
  },
  {
   "cell_type": "code",
   "execution_count": 63,
   "metadata": {},
   "outputs": [],
   "source": [
    "# dfHF.loc[dfHF['Year'].isin([2000, 2010, 2018, 2030, 2050])]\\\n",
    "#     .loc[:, ['Year', 'Vehicle','VehicleCount']]\\\n",
    "#     .pivot(index='Vehicle', columns='Year', values='VehicleCount')"
   ]
  },
  {
   "cell_type": "code",
   "execution_count": 64,
   "metadata": {},
   "outputs": [],
   "source": [
    "# dfLF.loc[dfLF['Year'].isin([2000, 2010, 2018, 2030, 2050])]\\\n",
    "#     .loc[:, ['Year', 'Vehicle','VehicleCount']]\\\n",
    "#     .pivot(index='Vehicle', columns='Year', values='VehicleCount')"
   ]
  },
  {
   "cell_type": "code",
   "execution_count": 65,
   "metadata": {},
   "outputs": [],
   "source": [
    "# dfHP.loc[dfHP['Year'].isin([2000, 2010, 2018, 2030, 2050])]\\\n",
    "#     .loc[:, ['Year', 'Vehicle','VehicleCount']]\\\n",
    "#     .pivot(index='Vehicle', columns='Year', values='VehicleCount')"
   ]
  },
  {
   "cell_type": "code",
   "execution_count": 66,
   "metadata": {},
   "outputs": [],
   "source": [
    "# dfLP.loc[dfLP['Year'].isin([2000, 2010, 2018, 2030, 2050])]\\\n",
    "#     .loc[:, ['Year', 'Vehicle','VehicleCount']]\\\n",
    "#     .pivot(index='Vehicle', columns='Year', values='VehicleCount')"
   ]
  },
  {
   "cell_type": "code",
   "execution_count": null,
   "metadata": {},
   "outputs": [],
   "source": []
  }
 ],
 "metadata": {
  "kernelspec": {
   "display_name": "Python 3",
   "language": "python",
   "name": "python3"
  },
  "language_info": {
   "codemirror_mode": {
    "name": "ipython",
    "version": 3
   },
   "file_extension": ".py",
   "mimetype": "text/x-python",
   "name": "python",
   "nbconvert_exporter": "python",
   "pygments_lexer": "ipython3",
   "version": "3.7.3"
  }
 },
 "nbformat": 4,
 "nbformat_minor": 2
}
