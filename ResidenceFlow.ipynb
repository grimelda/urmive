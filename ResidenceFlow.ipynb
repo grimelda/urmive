{
 "cells": [
  {
   "cell_type": "code",
   "execution_count": 1,
   "metadata": {},
   "outputs": [],
   "source": [
    "import matplotlib.pyplot as plt\n",
    "import pandas as pd\n",
    "import numpy as np\n",
    "import scipy\n",
    "import scipy.stats\n",
    "import sysdyn as sd"
   ]
  },
  {
   "cell_type": "code",
   "execution_count": 2,
   "metadata": {},
   "outputs": [],
   "source": [
    "startmodel = 2000\n",
    "endmodel = 2051\n",
    "x = np.linspace(startmodel, endmodel, (1*(endmodel-startmodel))+1)\n",
    "ya = sd.LogistiCurve(x, start=2e3, end=10e3, steepness=0.2, midpoint=2020)\\\n",
    "     - sd.LogistiCurve(x, start=0, end=5e3, steepness=0.4, midpoint=2030)\\\n",
    "     + sd.LogistiCurve(x, start=0, end=4e3, steepness=0.2, midpoint=2055)\n",
    "# ya = 2e3*np.ones(len(x))\n",
    "# plt.plot(x,ya); plt.ylim(0,max(ya)*1.1)"
   ]
  },
  {
   "cell_type": "code",
   "execution_count": 3,
   "metadata": {},
   "outputs": [
    {
     "ename": "TypeError",
     "evalue": "InOutStock() got an unexpected keyword argument 'by'",
     "output_type": "error",
     "traceback": [
      "\u001b[0;31m---------------------------------------------------------------------------\u001b[0m",
      "\u001b[0;31mTypeError\u001b[0m                                 Traceback (most recent call last)",
      "\u001b[0;32m<ipython-input-3-a1cc2ff14ced>\u001b[0m in \u001b[0;36m<module>\u001b[0;34m\u001b[0m\n\u001b[1;32m      1\u001b[0m \u001b[0mlifetime\u001b[0m \u001b[0;34m=\u001b[0m \u001b[0;36m5\u001b[0m\u001b[0;34m*\u001b[0m\u001b[0mnp\u001b[0m\u001b[0;34m.\u001b[0m\u001b[0mones\u001b[0m\u001b[0;34m(\u001b[0m\u001b[0mlen\u001b[0m\u001b[0;34m(\u001b[0m\u001b[0mx\u001b[0m\u001b[0;34m)\u001b[0m\u001b[0;34m)\u001b[0m\u001b[0;34m\u001b[0m\u001b[0;34m\u001b[0m\u001b[0m\n\u001b[0;32m----> 2\u001b[0;31m \u001b[0mIOS\u001b[0m\u001b[0;34m,\u001b[0m \u001b[0mdt\u001b[0m \u001b[0;34m=\u001b[0m \u001b[0msd\u001b[0m\u001b[0;34m.\u001b[0m\u001b[0mInOutStock\u001b[0m\u001b[0;34m(\u001b[0m\u001b[0mx\u001b[0m\u001b[0;34m,\u001b[0m \u001b[0mya\u001b[0m\u001b[0;34m,\u001b[0m \u001b[0mlifetime\u001b[0m\u001b[0;34m,\u001b[0m \u001b[0mby\u001b[0m\u001b[0;34m=\u001b[0m\u001b[0;34m'dt'\u001b[0m\u001b[0;34m,\u001b[0m \u001b[0mshape\u001b[0m\u001b[0;34m=\u001b[0m\u001b[0;36m4\u001b[0m\u001b[0;34m)\u001b[0m\u001b[0;34m\u001b[0m\u001b[0;34m\u001b[0m\u001b[0m\n\u001b[0m",
      "\u001b[0;31mTypeError\u001b[0m: InOutStock() got an unexpected keyword argument 'by'"
     ]
    }
   ],
   "source": [
    "lifetime = 5*np.ones(len(x))\n",
    "IOS, dt = sd.InOutStock(x, ya, lifetime, scaleflow='dt', shape=4)"
   ]
  },
  {
   "cell_type": "code",
   "execution_count": null,
   "metadata": {},
   "outputs": [],
   "source": [
    "# IOS.loc[(IOS.index>2000,IOS.index<2001),'Infl_dt']\n",
    "years = list(IOS.index.astype('int').unique())\n",
    "# IOS.tail(51)\n",
    "# IOS.index[2]-0.1\n",
    "ix = list(IOS.index)\n",
    "ix[1-1]"
   ]
  },
  {
   "cell_type": "code",
   "execution_count": null,
   "metadata": {
    "scrolled": true
   },
   "outputs": [],
   "source": [
    "ix = list(IOS.index)\n",
    "IOS.loc[IOS.index[0], 'Control'] = IOS.loc[IOS.index[0], 'Stock']\n",
    "for i in range(1,len(IOS.index)):\n",
    "    IOS.loc[ix[i],'Control'] = IOS.loc[ix[i-1], 'Control'] + IOS.loc[ix[i], 'Infl_dt'] - IOS.loc[ix[i], 'Outf_dt']\n",
    "# IOS.head(20)"
   ]
  },
  {
   "cell_type": "code",
   "execution_count": null,
   "metadata": {
    "scrolled": true
   },
   "outputs": [],
   "source": [
    "# IOS['Hist']"
   ]
  },
  {
   "cell_type": "code",
   "execution_count": null,
   "metadata": {},
   "outputs": [],
   "source": [
    "plt.plot(x, ya, label='Input')\n",
    "plt.plot(IOS.index, IOS['Stock'], label='Stock')\n",
    "plt.plot(IOS.index, IOS['Infl_dt'], label='Inflow')\n",
    "plt.plot(IOS.index, IOS['Outf_dt'], label='Outflow')\n",
    "plt.plot(IOS.index, IOS['Control'], label='Control')\n",
    "plt.legend()\n",
    "# print('expected outflow: ',1/lifetime[0]*ya[0])\n",
    "# print('mean outflow: ',IOS['Outf'].dropna().mean())\n",
    "print('max inflow: ',max(IOS['Infl_dt'].dropna()))\n",
    "print('sum inflow: ',sum(IOS['Infl_dt'].dropna()))\n",
    "print('max outflow: ',max(IOS['Outf_dt'].dropna()))\n",
    "print('sum outflow: ',sum(IOS['Outf_dt'].dropna()))\n",
    "plt.ylim(-2e3,10e3)"
   ]
  },
  {
   "cell_type": "code",
   "execution_count": null,
   "metadata": {},
   "outputs": [],
   "source": [
    "for i in list(IOS.index)[0:5]:#[15:25]:\n",
    "    plt.plot(IOS['Hist'][i])\n",
    "# for i in list(IOS.index)[25:30]:#[15:25]:\n",
    "#     plt.plot(IOS['Hist'][i])\n",
    "# for i in list(IOS.index)[45:50]:#[15:25]:\n",
    "#     plt.plot(IOS['Hist'][i])\n",
    "    \n",
    "# plt.ylim(0,100)"
   ]
  },
  {
   "cell_type": "code",
   "execution_count": null,
   "metadata": {},
   "outputs": [],
   "source": [
    "yb = scipy.stats.weibull_min.cdf(range(0,100), 3, 0, 20)\n",
    "plt.plot(range(0,100),yb)\n",
    "scipy.stats.weibull_min.cdf(range(0,100), 3, 0, 20)[20]"
   ]
  },
  {
   "cell_type": "code",
   "execution_count": null,
   "metadata": {},
   "outputs": [],
   "source": [
    "plt.plot(x, np.gradient(ya, x[1]-x[0]))\n",
    "\n",
    "# len(np.gradient(ya, x[1]-x[0]))\n",
    "# len(x)"
   ]
  }
 ],
 "metadata": {
  "celltoolbar": "Raw Cell Format",
  "kernelspec": {
   "display_name": "Python 3",
   "language": "python",
   "name": "python3"
  },
  "language_info": {
   "codemirror_mode": {
    "name": "ipython",
    "version": 3
   },
   "file_extension": ".py",
   "mimetype": "text/x-python",
   "name": "python",
   "nbconvert_exporter": "python",
   "pygments_lexer": "ipython3",
   "version": "3.7.3"
  }
 },
 "nbformat": 4,
 "nbformat_minor": 2
}
