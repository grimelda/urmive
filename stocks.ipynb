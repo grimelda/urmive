{
 "cells": [
  {
   "cell_type": "code",
   "execution_count": null,
   "metadata": {},
   "outputs": [],
   "source": [
    "#!/usr/bin/env python3\n",
    "# -*- coding: utf-8 -*-\n",
    "# Created on Thu Aug 29 11:59:11 2019\n",
    "# @author: jvanderzaag\n",
    "\n",
    "! git clone https://github.com/grimelda/urmive/\n",
    "import os\n",
    "os.chdir('urmive/')\n",
    "import time; start = time.time()\n",
    "import functions as func\n",
    "\n",
    "#%%\n",
    "(\n",
    " dbx,\n",
    " dbm,\n",
    " dba,\n",
    " ) = func.ReadData()\n",
    "\n",
    "#%%\n",
    "(\n",
    " dbx,\n",
    " Vtypes,\n",
    " ) = func.UnifyCountData(dbx, startyear=2000, endyear=2017)\n",
    "\n",
    "#%%\n",
    "(\n",
    " dbm\n",
    " ) = func.UnifyMassData(dbm, dbx)\n",
    "\n",
    "#%%\n",
    "mat = func.CalcMass(dbx, \n",
    "                    dbm,\n",
    "                    #include=['A330','B747'], #['A330','B747']\n",
    "                    #exclude=['icecar'], # ['bicycle', 'ebicycle'] ['evcar','icecar']\n",
    "                    ) # include/exclude are kinda mutually exclusive, be sane.\n",
    "\n",
    "\n",
    "#%% Plotting\n",
    "func.PlotMass2D(mat, D=['Material', 'Vehicle'])"
   ]
  },
  {
   "cell_type": "code",
   "execution_count": null,
   "metadata": {},
   "outputs": [],
   "source": [
    "func.PlotMass2D(mat, D=['Vehicle', 'Material'])\n"
   ]
  },
  {
   "cell_type": "code",
   "execution_count": null,
   "metadata": {},
   "outputs": [],
   "source": [
    "func.PlotMass1D(mat, D='Vehicle')\n",
    "\n"
   ]
  }
 ],
 "metadata": {
  "kernelspec": {
   "display_name": "Python 3",
   "language": "python",
   "name": "python3"
  },
  "language_info": {
   "codemirror_mode": {
    "name": "ipython",
    "version": 3
   },
   "file_extension": ".py",
   "mimetype": "text/x-python",
   "name": "python",
   "nbconvert_exporter": "python",
   "pygments_lexer": "ipython3",
   "version": "3.6.8"
  }
 },
 "nbformat": 4,
 "nbformat_minor": 2
}
