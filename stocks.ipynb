{
 "cells": [
  {
   "cell_type": "code",
   "execution_count": 2,
   "metadata": {},
   "outputs": [
    {
     "name": "stdout",
     "output_type": "stream",
     "text": [
      "No count data found for vehicle: B787\n",
      "No count data found for vehicle: B777\n",
      "No count data found for vehicle: B767\n",
      "No material data was found for 94 vehicle types...\n",
      "\n"
     ]
    },
    {
     "data": {
      "application/vnd.plotly.v1+json": {
       "config": {
        "plotlyServerURL": "https://plot.ly"
       },
       "data": [
        {
         "hoverlabel": {
          "namelength": 0
         },
         "hovertemplate": "Material=Cryolite<br>Vehicle=carev<br>Year=%{x}<br>Mass=%{y}",
         "legendgroup": "Material=Cryolite",
         "line": {
          "color": "#636efa"
         },
         "mode": "lines",
         "name": "Material=Cryolite",
         "orientation": "v",
         "showlegend": true,
         "stackgroup": "1",
         "type": "scatter",
         "x": [
          2000,
          2001,
          2002,
          2003,
          2004,
          2005,
          2006,
          2007,
          2008,
          2009,
          2010,
          2011,
          2012,
          2013,
          2014,
          2015,
          2016,
          2017
         ],
         "xaxis": "x",
         "y": [
          0.006413791127999999,
          0.009299997135599999,
          0.06991032329519999,
          0.08305859510759998,
          0.08305859510759998,
          0.26761543481579997,
          0.7395101170583999,
          1.2314478965759998,
          1.8110942697689998,
          3.7499833277633994,
          6.347248045046999,
          8.951407587793199,
          11.246582742947998,
          14.543752417074597,
          20.792388423528596,
          25.003844022951597,
          33.770053391923796,
          39.352937879291396
         ],
         "yaxis": "y"
        },
        {
         "hoverlabel": {
          "namelength": 0
         },
         "hovertemplate": "Material=Chromium<br>Vehicle=carev<br>Year=%{x}<br>Mass=%{y}",
         "legendgroup": "Material=Chromium",
         "line": {
          "color": "#EF553B"
         },
         "mode": "lines",
         "name": "Material=Chromium",
         "orientation": "v",
         "showlegend": true,
         "stackgroup": "1",
         "type": "scatter",
         "x": [
          2000,
          2001,
          2002,
          2003,
          2004,
          2005,
          2006,
          2007,
          2008,
          2009,
          2010,
          2011,
          2012,
          2013,
          2014,
          2015,
          2016,
          2017
         ],
         "xaxis": "x",
         "y": [
          0.035822820392,
          0.0519430895684,
          0.3904687422728,
          0.4639055240764,
          0.4639055240764,
          1.4947071808562,
          4.1303711911976,
          6.8779815152640005,
          10.115468908191,
          20.9447075126926,
          35.451158630433,
          49.9961192800948,
          62.815315557372,
          81.2309319503894,
          116.1313147172954,
          139.6534741571924,
          188.6152094984682,
          219.7971835086846
         ],
         "yaxis": "y"
        },
        {
         "hoverlabel": {
          "namelength": 0
         },
         "hovertemplate": "Material=Palladium<br>Vehicle=carev<br>Year=%{x}<br>Mass=%{y}",
         "legendgroup": "Material=Palladium",
         "line": {
          "color": "#00cc96"
         },
         "mode": "lines",
         "name": "Material=Palladium",
         "orientation": "v",
         "showlegend": true,
         "stackgroup": "1",
         "type": "scatter",
         "x": [
          2000,
          2001,
          2002,
          2003,
          2004,
          2005,
          2006,
          2007,
          2008,
          2009,
          2010,
          2011,
          2012,
          2013,
          2014,
          2015,
          2016,
          2017
         ],
         "xaxis": "x",
         "y": [
          0.09590248679999999,
          0.13905860586,
          1.04533710612,
          1.24193720406,
          1.24193720406,
          4.00153126173,
          11.05755672804,
          18.4132774656,
          27.08046471015,
          56.07178646979,
          94.90749849945,
          133.84630570242,
          168.1650106038,
          217.46608150551,
          310.89907927040997,
          373.87104966546,
          504.94817106153,
          588.42649069659
         ],
         "yaxis": "y"
        },
        {
         "hoverlabel": {
          "namelength": 0
         },
         "hovertemplate": "Material=Silicon<br>Vehicle=carev<br>Year=%{x}<br>Mass=%{y}",
         "legendgroup": "Material=Silicon",
         "line": {
          "color": "#ab63fa"
         },
         "mode": "lines",
         "name": "Material=Silicon",
         "orientation": "v",
         "showlegend": true,
         "stackgroup": "1",
         "type": "scatter",
         "x": [
          2000,
          2001,
          2002,
          2003,
          2004,
          2005,
          2006,
          2007,
          2008,
          2009,
          2010,
          2011,
          2012,
          2013,
          2014,
          2015,
          2016,
          2017
         ],
         "xaxis": "x",
         "y": [
          0.10872827708,
          0.157656001766,
          1.185138220172,
          1.4080311881860001,
          1.4080311881860001,
          4.5366873611630005,
          12.536370347324,
          20.875829199360002,
          30.702147240465003,
          63.570705401749,
          107.600221205295,
          151.746619906702,
          190.65503385978002,
          246.54952289968102,
          352.478046844871,
          423.871751782526,
          572.4788426885431,
          667.1213714728291
         ],
         "yaxis": "y"
        },
        {
         "hoverlabel": {
          "namelength": 0
         },
         "hovertemplate": "Material=Boric Oxide<br>Vehicle=carev<br>Year=%{x}<br>Mass=%{y}",
         "legendgroup": "Material=Boric Oxide",
         "line": {
          "color": "#FFA15A"
         },
         "mode": "lines",
         "name": "Material=Boric Oxide",
         "orientation": "v",
         "showlegend": true,
         "stackgroup": "1",
         "type": "scatter",
         "x": [
          2000,
          2001,
          2002,
          2003,
          2004,
          2005,
          2006,
          2007,
          2008,
          2009,
          2010,
          2011,
          2012,
          2013,
          2014,
          2015,
          2016,
          2017
         ],
         "xaxis": "x",
         "y": [
          0.37440505700000004,
          0.54288733265,
          4.0810151213,
          4.84854548815,
          4.84854548815,
          15.622051003325,
          43.1689030721,
          71.885770944,
          105.722627970375,
          218.905276701475,
          370.52060453362503,
          522.53841780205,
          656.5192674495,
          848.991547126775,
          1213.755673909025,
          1459.59939446165,
          1971.326866242825,
          2297.227748108475
         ],
         "yaxis": "y"
        },
        {
         "hoverlabel": {
          "namelength": 0
         },
         "hovertemplate": "Material=Silicone<br>Vehicle=carev<br>Year=%{x}<br>Mass=%{y}",
         "legendgroup": "Material=Silicone",
         "line": {
          "color": "#19d3f3"
         },
         "mode": "lines",
         "name": "Material=Silicone",
         "orientation": "v",
         "showlegend": true,
         "stackgroup": "1",
         "type": "scatter",
         "x": [
          2000,
          2001,
          2002,
          2003,
          2004,
          2005,
          2006,
          2007,
          2008,
          2009,
          2010,
          2011,
          2012,
          2013,
          2014,
          2015,
          2016,
          2017
         ],
         "xaxis": "x",
         "y": [
          0.7184804434800001,
          1.041796643046,
          7.831436833931999,
          9.304321743066,
          9.304321743066,
          29.978596504202997,
          82.840795133244,
          137.94824514815997,
          202.88091522766499,
          420.07755329166895,
          711.026208878895,
          1002.747230942862,
          1259.85545764218,
          1629.2082916241611,
          2329.187863684551,
          2800.9600848846057,
          3782.9611930219826,
          4408.362495049149
         ],
         "yaxis": "y"
        },
        {
         "hoverlabel": {
          "namelength": 0
         },
         "hovertemplate": "Material=Molybdenum<br>Vehicle=carev<br>Year=%{x}<br>Mass=%{y}",
         "legendgroup": "Material=Molybdenum",
         "line": {
          "color": "#FF6692"
         },
         "mode": "lines",
         "name": "Material=Molybdenum",
         "orientation": "v",
         "showlegend": true,
         "stackgroup": "1",
         "type": "scatter",
         "x": [
          2000,
          2001,
          2002,
          2003,
          2004,
          2005,
          2006,
          2007,
          2008,
          2009,
          2010,
          2011,
          2012,
          2013,
          2014,
          2015,
          2016,
          2017
         ],
         "xaxis": "x",
         "y": [
          0.931516928,
          1.3506995456,
          10.153534515199999,
          12.0631442176,
          12.0631442176,
          38.867543820799995,
          107.40390179839999,
          178.85125017599998,
          263.03709254399996,
          544.6346598783999,
          921.8524398719999,
          1300.0716005631998,
          1633.414933248,
          2112.2844980095997,
          3019.8148651136,
          3631.4721679615996,
          4904.646217228799,
          5715.4851272064
         ],
         "yaxis": "y"
        },
        {
         "hoverlabel": {
          "namelength": 0
         },
         "hovertemplate": "Material=Gold<br>Vehicle=carev<br>Year=%{x}<br>Mass=%{y}",
         "legendgroup": "Material=Gold",
         "line": {
          "color": "#B6E880"
         },
         "mode": "lines",
         "name": "Material=Gold",
         "orientation": "v",
         "showlegend": true,
         "stackgroup": "1",
         "type": "scatter",
         "x": [
          2000,
          2001,
          2002,
          2003,
          2004,
          2005,
          2006,
          2007,
          2008,
          2009,
          2010,
          2011,
          2012,
          2013,
          2014,
          2015,
          2016,
          2017
         ],
         "xaxis": "x",
         "y": [
          2.8228615931999994,
          4.093149310139999,
          30.769191365879994,
          36.55605763193999,
          36.55605763193999,
          117.78389997626998,
          325.47594169595993,
          541.9894258943999,
          797.1055423798499,
          1650.4566020042098,
          2793.5744041705493,
          3939.726782549579,
          4949.887803676199,
          6401.050377200489,
          9151.223284375588,
          11004.784778010539,
          14863.001432056468,
          17320.161305857408
         ],
         "yaxis": "y"
        },
        {
         "hoverlabel": {
          "namelength": 0
         },
         "hovertemplate": "Material=Silver<br>Vehicle=carev<br>Year=%{x}<br>Mass=%{y}",
         "legendgroup": "Material=Silver",
         "line": {
          "color": "#FF97FF"
         },
         "mode": "lines",
         "name": "Material=Silver",
         "orientation": "v",
         "showlegend": true,
         "stackgroup": "1",
         "type": "scatter",
         "x": [
          2000,
          2001,
          2002,
          2003,
          2004,
          2005,
          2006,
          2007,
          2008,
          2009,
          2010,
          2011,
          2012,
          2013,
          2014,
          2015,
          2016,
          2017
         ],
         "xaxis": "x",
         "y": [
          3.3693646891999993,
          4.885578799339999,
          36.72607511227999,
          43.633272725139996,
          43.633272725139996,
          140.58674165686998,
          388.4877486647599,
          646.9180203263999,
          951.4243541128499,
          1969.9832996580096,
          3334.4075305495494,
          4702.453828481979,
          5908.180982512199,
          7640.287135112689,
          10922.890683565789,
          13135.299772611737,
          17740.463195693068,
          20673.326689407208
         ],
         "yaxis": "y"
        },
        {
         "hoverlabel": {
          "namelength": 0
         },
         "hovertemplate": "Material=Neodymium Oxide<br>Vehicle=carev<br>Year=%{x}<br>Mass=%{y}",
         "legendgroup": "Material=Neodymium Oxide",
         "line": {
          "color": "#FECB52"
         },
         "mode": "lines",
         "name": "Material=Neodymium Oxide",
         "orientation": "v",
         "showlegend": true,
         "stackgroup": "1",
         "type": "scatter",
         "x": [
          2000,
          2001,
          2002,
          2003,
          2004,
          2005,
          2006,
          2007,
          2008,
          2009,
          2010,
          2011,
          2012,
          2013,
          2014,
          2015,
          2016,
          2017
         ],
         "xaxis": "x",
         "y": [
          3.639826464,
          5.2777483728,
          39.6741084576,
          47.1357527088,
          47.1357527088,
          151.8717592104,
          419.6719912992,
          698.846681088,
          1027.795997772,
          2128.1155378392,
          3602.063264436,
          5079.9238044816,
          6382.435704624,
          8253.5794941048,
          11799.6804266568,
          14189.6814785808,
          19164.5052939144,
          22332.7922395032
         ],
         "yaxis": "y"
        },
        {
         "hoverlabel": {
          "namelength": 0
         },
         "hovertemplate": "Material=Polyvinylfluoride<br>Vehicle=ebicycle<br>Year=%{x}<br>Mass=%{y}",
         "legendgroup": "Material=Polyvinylfluoride",
         "line": {
          "color": "#636efa"
         },
         "mode": "lines",
         "name": "Material=Polyvinylfluoride",
         "orientation": "v",
         "showlegend": true,
         "stackgroup": "1",
         "type": "scatter",
         "x": [
          2012,
          2013,
          2014,
          2015,
          2016,
          2017
         ],
         "xaxis": "x",
         "y": [
          16800,
          21000,
          25200,
          27300,
          29400.000000000004,
          37800
         ],
         "yaxis": "y"
        },
        {
         "hoverlabel": {
          "namelength": 0
         },
         "hovertemplate": "Material=Phthalic Anhydride<br>Vehicle=ebicycle<br>Year=%{x}<br>Mass=%{y}",
         "legendgroup": "Material=Phthalic Anhydride",
         "line": {
          "color": "#EF553B"
         },
         "mode": "lines",
         "name": "Material=Phthalic Anhydride",
         "orientation": "v",
         "showlegend": true,
         "stackgroup": "1",
         "type": "scatter",
         "x": [
          2012,
          2013,
          2014,
          2015,
          2016,
          2017
         ],
         "xaxis": "x",
         "y": [
          25600,
          32000,
          38400,
          41600,
          44800,
          57600
         ],
         "yaxis": "y"
        },
        {
         "hoverlabel": {
          "namelength": 0
         },
         "hovertemplate": "Material=LiPF6<br>Vehicle=ebicycle<br>Year=%{x}<br>Mass=%{y}",
         "legendgroup": "Material=LiPF6",
         "line": {
          "color": "#00cc96"
         },
         "mode": "lines",
         "name": "Material=LiPF6",
         "orientation": "v",
         "showlegend": true,
         "stackgroup": "1",
         "type": "scatter",
         "x": [
          2012,
          2013,
          2014,
          2015,
          2016,
          2017
         ],
         "xaxis": "x",
         "y": [
          31200,
          39000,
          46800,
          50700,
          54600,
          70200
         ],
         "yaxis": "y"
        },
        {
         "hoverlabel": {
          "namelength": 0
         },
         "hovertemplate": "Material=Tin<br>Vehicle=carev<br>Year=%{x}<br>Mass=%{y}",
         "legendgroup": "Material=Tin",
         "line": {
          "color": "#ab63fa"
         },
         "mode": "lines",
         "name": "Material=Tin",
         "orientation": "v",
         "showlegend": true,
         "stackgroup": "1",
         "type": "scatter",
         "x": [
          2000,
          2001,
          2002,
          2003,
          2004,
          2005,
          2006,
          2007,
          2008,
          2009,
          2010,
          2011,
          2012,
          2013,
          2014,
          2015,
          2016,
          2017
         ],
         "xaxis": "x",
         "y": [
          17.388423928,
          25.2132146956,
          189.53382081520002,
          225.1800898676,
          225.1800898676,
          725.5319883958,
          2004.8852788984002,
          3338.5773941760003,
          4910.056206669,
          10166.5767601034,
          17208.019029747,
          24268.1538551132,
          30490.601357748,
          39429.5553885346,
          56370.227400388605,
          67787.9012621116,
          91553.9643763038,
          106689.71798443141
         ],
         "yaxis": "y"
        },
        {
         "hoverlabel": {
          "namelength": 0
         },
         "hovertemplate": "Material=Ferrous Alloys<br>Vehicle=carev<br>Year=%{x}<br>Mass=%{y}",
         "legendgroup": "Material=Ferrous Alloys",
         "line": {
          "color": "#FFA15A"
         },
         "mode": "lines",
         "name": "Material=Ferrous Alloys",
         "orientation": "v",
         "showlegend": true,
         "stackgroup": "1",
         "type": "scatter",
         "x": [
          2000,
          2001,
          2002,
          2003,
          2004,
          2005,
          2006,
          2007,
          2008,
          2009,
          2010,
          2011,
          2012,
          2013,
          2014,
          2015,
          2016,
          2017
         ],
         "xaxis": "x",
         "y": [
          20.566995968,
          29.822144153600004,
          224.18025605120002,
          266.3425977856,
          266.3425977856,
          858.1579067648,
          2371.3746351104,
          3948.863225856,
          5807.605486464,
          12025.0083675904,
          20353.613384832002,
          28704.3279227392,
          36064.227429888,
          46637.205882137605,
          66674.6017039616,
          80179.4054314496,
          108289.86134561281,
          126192.40298595841
         ],
         "yaxis": "y"
        },
        {
         "hoverlabel": {
          "namelength": 0
         },
         "hovertemplate": "Material=Barite<br>Vehicle=carev<br>Year=%{x}<br>Mass=%{y}",
         "legendgroup": "Material=Barite",
         "line": {
          "color": "#19d3f3"
         },
         "mode": "lines",
         "name": "Material=Barite",
         "orientation": "v",
         "showlegend": true,
         "stackgroup": "1",
         "type": "scatter",
         "x": [
          2000,
          2001,
          2002,
          2003,
          2004,
          2005,
          2006,
          2007,
          2008,
          2009,
          2010,
          2011,
          2012,
          2013,
          2014,
          2015,
          2016,
          2017
         ],
         "xaxis": "x",
         "y": [
          24.023354908,
          34.8338646166,
          261.85456849720003,
          311.10244605860004,
          311.10244605860004,
          1002.3744835363001,
          2769.8928208924003,
          4612.484142336,
          6783.5948421465,
          14045.8550308349,
          23774.1126008295,
          33528.1952773502,
          42124.952831178,
          54474.7590055081,
          77879.5125246271,
          93653.84794109261,
          126488.36884547431,
          147399.4981251429
         ],
         "yaxis": "y"
        },
        {
         "hoverlabel": {
          "namelength": 0
         },
         "hovertemplate": "Material=Selenium<br>Vehicle=carev<br>Year=%{x}<br>Mass=%{y}",
         "legendgroup": "Material=Selenium",
         "line": {
          "color": "#FF6692"
         },
         "mode": "lines",
         "name": "Material=Selenium",
         "orientation": "v",
         "showlegend": true,
         "stackgroup": "1",
         "type": "scatter",
         "x": [
          2000,
          2001,
          2002,
          2003,
          2004,
          2005,
          2006,
          2007,
          2008,
          2009,
          2010,
          2011,
          2012,
          2013,
          2014,
          2015,
          2016,
          2017
         ],
         "xaxis": "x",
         "y": [
          25.679819172000002,
          37.2357377994,
          279.9100289748,
          332.5536582774,
          332.5536582774,
          1071.4904549517,
          2960.8831505316,
          4930.525281024,
          7251.3389386935005,
          15014.3482743891,
          25413.3910480905,
          35840.0396274018,
          45029.562918102,
          58230.9159589479,
          83249.4797872689,
          100111.4910510834,
          135210.0258998937,
          157563.0244981611
         ],
         "yaxis": "y"
        },
        {
         "hoverlabel": {
          "namelength": 0
         },
         "hovertemplate": "Material=Polyester<br>Vehicle=carev<br>Year=%{x}<br>Mass=%{y}",
         "legendgroup": "Material=Polyester",
         "line": {
          "color": "#B6E880"
         },
         "mode": "lines",
         "name": "Material=Polyester",
         "orientation": "v",
         "showlegend": true,
         "stackgroup": "1",
         "type": "scatter",
         "x": [
          2000,
          2001,
          2002,
          2003,
          2004,
          2005,
          2006,
          2007,
          2008,
          2009,
          2010,
          2011,
          2012,
          2013,
          2014,
          2015,
          2016,
          2017
         ],
         "xaxis": "x",
         "y": [
          26.354459304000002,
          38.2139659908,
          287.2636064136,
          341.2902479868,
          341.2902479868,
          1099.6398144594,
          3038.6691577512,
          5060.056186368,
          7441.840445967,
          15408.7934935662,
          26081.031788721,
          36781.6011276276,
          46212.544389564,
          59760.71305626781,
          85436.5450331898,
          102741.5418736788,
          138762.1579889034,
          161702.3970900702
         ],
         "yaxis": "y"
        },
        {
         "hoverlabel": {
          "namelength": 0
         },
         "hovertemplate": "Material=Polystyrene<br>Vehicle=carev<br>Year=%{x}<br>Mass=%{y}",
         "legendgroup": "Material=Polystyrene",
         "line": {
          "color": "#FF97FF"
         },
         "mode": "lines",
         "name": "Material=Polystyrene",
         "orientation": "v",
         "showlegend": true,
         "stackgroup": "1",
         "type": "scatter",
         "x": [
          2000,
          2001,
          2002,
          2003,
          2004,
          2005,
          2006,
          2007,
          2008,
          2009,
          2010,
          2011,
          2012,
          2013,
          2014,
          2015,
          2016,
          2017
         ],
         "xaxis": "x",
         "y": [
          27.8527181216,
          40.38644127632001,
          303.59462752544005,
          360.69269967472,
          360.69269967472,
          1162.15466362376,
          3211.41839942048,
          5347.7218793472,
          7864.9112795867995,
          16284.78796774648,
          27563.7461710884,
          38872.64604641104,
          48839.7412262256,
          63158.12729458712,
          90293.63792455592,
          108582.42896115153,
          146650.82777180136,
          170895.22626074808
         ],
         "yaxis": "y"
        },
        {
         "hoverlabel": {
          "namelength": 0
         },
         "hovertemplate": "Material=Magnesium<br>Vehicle=carev<br>Year=%{x}<br>Mass=%{y}",
         "legendgroup": "Material=Magnesium",
         "line": {
          "color": "#FECB52"
         },
         "mode": "lines",
         "name": "Material=Magnesium",
         "orientation": "v",
         "showlegend": true,
         "stackgroup": "1",
         "type": "scatter",
         "x": [
          2000,
          2001,
          2002,
          2003,
          2004,
          2005,
          2006,
          2007,
          2008,
          2009,
          2010,
          2011,
          2012,
          2013,
          2014,
          2015,
          2016,
          2017
         ],
         "xaxis": "x",
         "y": [
          39.824135268000006,
          57.7449961386,
          434.0830744212,
          515.7225517206,
          515.7225517206,
          1661.6620440573001,
          4591.7227964004005,
          7646.233971456,
          11245.3401963015,
          23284.176287817903,
          39410.9598645945,
          55580.554386784206,
          69831.621192438,
          90304.21353033511,
          129102.87731518412,
          155252.4001355346,
          209683.0326164553,
          244347.9511604859
         ],
         "yaxis": "y"
        },
        {
         "hoverlabel": {
          "namelength": 0
         },
         "hovertemplate": "Material=Niobium and tantalum<br>Vehicle=A330<br>Year=%{x}<br>Mass=%{y}",
         "legendgroup": "Material=Niobium and tantalum",
         "line": {
          "color": "#636efa"
         },
         "mode": "lines",
         "name": "Material=Niobium and tantalum",
         "orientation": "v",
         "showlegend": true,
         "stackgroup": "1",
         "type": "scatter",
         "x": [
          1996,
          1997,
          1998,
          1999,
          2000,
          2001,
          2002,
          2003,
          2004,
          2005,
          2006,
          2007,
          2008,
          2009,
          2010,
          2011,
          2012,
          2013,
          2014,
          2015,
          2016,
          2017
         ],
         "xaxis": "x",
         "y": [
          47188,
          50384,
          49256,
          49820,
          53580,
          55272,
          54896,
          61288,
          59408,
          54708,
          54144,
          55272,
          55460,
          58844,
          56776,
          54520,
          54144,
          54708,
          53768,
          52452,
          53580,
          55084
         ],
         "yaxis": "y"
        },
        {
         "hoverlabel": {
          "namelength": 0
         },
         "hovertemplate": "Material=Other<br>Vehicle=B747<br>Year=%{x}<br>Mass=%{y}",
         "legendgroup": "Material=Other",
         "line": {
          "color": "#EF553B"
         },
         "mode": "lines",
         "name": "Material=Other",
         "orientation": "v",
         "showlegend": true,
         "stackgroup": "1",
         "type": "scatter",
         "x": [
          1996,
          1997,
          1998,
          1999,
          2000,
          2001,
          2002,
          2003,
          2004,
          2005,
          2006,
          2007,
          2008,
          2009,
          2010,
          2011,
          2012,
          2013,
          2014,
          2015,
          2016,
          2017
         ],
         "xaxis": "x",
         "y": [
          62390,
          69730,
          67895,
          67895,
          69730,
          69730,
          67895,
          62390,
          53215,
          53215,
          55050,
          55050,
          55050,
          55050,
          51380,
          51380,
          49545,
          53215,
          53215,
          51380,
          47710,
          38535
         ],
         "yaxis": "y"
        },
        {
         "hoverlabel": {
          "namelength": 0
         },
         "hovertemplate": "Material=Brass<br>Vehicle=carev<br>Year=%{x}<br>Mass=%{y}",
         "legendgroup": "Material=Brass",
         "line": {
          "color": "#00cc96"
         },
         "mode": "lines",
         "name": "Material=Brass",
         "orientation": "v",
         "showlegend": true,
         "stackgroup": "1",
         "type": "scatter",
         "x": [
          2000,
          2001,
          2002,
          2003,
          2004,
          2005,
          2006,
          2007,
          2008,
          2009,
          2010,
          2011,
          2012,
          2013,
          2014,
          2015,
          2016,
          2017
         ],
         "xaxis": "x",
         "y": [
          67.067737419176,
          97.2482192578052,
          731.0383378690183,
          868.5271995783291,
          868.5271995783291,
          2798.4013438151183,
          7732.910124430994,
          12877.00558448179,
          18938.252353739823,
          39212.82937555673,
          66371.90964345205,
          93603.08772907297,
          117603.27756452512,
          152081.124678288,
          217421.86785892025,
          261460.22094178668,
          353126.7277528809,
          411505.8397894027
         ],
         "yaxis": "y"
        },
        {
         "hoverlabel": {
          "namelength": 0
         },
         "hovertemplate": "Material=Zinc<br>Vehicle=carev<br>Year=%{x}<br>Mass=%{y}",
         "legendgroup": "Material=Zinc",
         "line": {
          "color": "#ab63fa"
         },
         "mode": "lines",
         "name": "Material=Zinc",
         "orientation": "v",
         "showlegend": true,
         "stackgroup": "1",
         "type": "scatter",
         "x": [
          2000,
          2001,
          2002,
          2003,
          2004,
          2005,
          2006,
          2007,
          2008,
          2009,
          2010,
          2011,
          2012,
          2013,
          2014,
          2015,
          2016,
          2017
         ],
         "xaxis": "x",
         "y": [
          81.3508029388,
          117.95866426126,
          886.72375203292,
          1053.49289805746,
          1053.49289805746,
          3394.36225262143,
          9379.747578843639,
          15619.3541642496,
          22971.43297984365,
          47563.780708242884,
          80506.78835830995,
          113537.24812153622,
          142648.6329531858,
          184469.04697394941,
          263725.06673707534,
          317142.03771676484,
          428330.2814034432,
          499142.0878215217
         ],
         "yaxis": "y"
        },
        {
         "hoverlabel": {
          "namelength": 0
         },
         "hovertemplate": "Material=Ferrite<br>Vehicle=carev<br>Year=%{x}<br>Mass=%{y}",
         "legendgroup": "Material=Ferrite",
         "line": {
          "color": "#FFA15A"
         },
         "mode": "lines",
         "name": "Material=Ferrite",
         "orientation": "v",
         "showlegend": true,
         "stackgroup": "1",
         "type": "scatter",
         "x": [
          2000,
          2001,
          2002,
          2003,
          2004,
          2005,
          2006,
          2007,
          2008,
          2009,
          2010,
          2011,
          2012,
          2013,
          2014,
          2015,
          2016,
          2017
         ],
         "xaxis": "x",
         "y": [
          86.62158554800001,
          125.60129904460001,
          944.1752824732,
          1121.7495328466,
          1121.7495328466,
          3614.2856569903,
          9987.4688136844,
          16631.344425216,
          24459.7702191165,
          50645.475530276904,
          85722.8865979395,
          120893.41587006621,
          151890.95025841802,
          196420.9418490061,
          280812.02156914514,
          337689.9201796006,
          456082.13776696834,
          531481.8969072249
         ],
         "yaxis": "y"
        },
        {
         "hoverlabel": {
          "namelength": 0
         },
         "hovertemplate": "Material=Ethylene Carbonate<br>Vehicle=ebicycle<br>Year=%{x}<br>Mass=%{y}",
         "legendgroup": "Material=Ethylene Carbonate",
         "line": {
          "color": "#19d3f3"
         },
         "mode": "lines",
         "name": "Material=Ethylene Carbonate",
         "orientation": "v",
         "showlegend": true,
         "stackgroup": "1",
         "type": "scatter",
         "x": [
          2012,
          2013,
          2014,
          2015,
          2016,
          2017
         ],
         "xaxis": "x",
         "y": [
          265600,
          332000,
          398400,
          431600,
          464800,
          597600
         ],
         "yaxis": "y"
        },
        {
         "hoverlabel": {
          "namelength": 0
         },
         "hovertemplate": "Material=GFRP<br>Vehicle=carev<br>Year=%{x}<br>Mass=%{y}",
         "legendgroup": "Material=GFRP",
         "line": {
          "color": "#FF6692"
         },
         "mode": "lines",
         "name": "Material=GFRP",
         "orientation": "v",
         "showlegend": true,
         "stackgroup": "1",
         "type": "scatter",
         "x": [
          2000,
          2001,
          2002,
          2003,
          2004,
          2005,
          2006,
          2007,
          2008,
          2009,
          2010,
          2011,
          2012,
          2013,
          2014,
          2015,
          2016,
          2017
         ],
         "xaxis": "x",
         "y": [
          100.25648577999999,
          145.37190438099998,
          1092.795695002,
          1298.321490851,
          1298.321490851,
          4183.2018691705,
          11559.572810433998,
          19249.245269760002,
          28309.9251721275,
          58617.4608234215,
          99216.32474003249,
          139922.964378857,
          175799.74781523,
          227339.1007425835,
          325013.9820137485,
          390844.896989041,
          527872.9553410006,
          615141.2133882014
         ],
         "yaxis": "y"
        },
        {
         "hoverlabel": {
          "namelength": 0
         },
         "hovertemplate": "Material=Graphite<br>Vehicle=carev<br>Year=%{x}<br>Mass=%{y}",
         "legendgroup": "Material=Graphite",
         "line": {
          "color": "#B6E880"
         },
         "mode": "lines",
         "name": "Material=Graphite",
         "orientation": "v",
         "showlegend": true,
         "stackgroup": "1",
         "type": "scatter",
         "x": [
          2000,
          2001,
          2002,
          2003,
          2004,
          2005,
          2006,
          2007,
          2008,
          2009,
          2010,
          2011,
          2012,
          2013,
          2014,
          2015,
          2016,
          2017
         ],
         "xaxis": "x",
         "y": [
          0.8871555884,
          1.28637560318,
          9.66999591356,
          11.48866486978,
          11.48866486978,
          37.01656692599,
          102.28903934252,
          170.3338729728,
          250.51055927445,
          518.69769364777,
          877.95134917035,
          1238.15869695046,
          1555.6273242594,
          2011.69183336613,
          2876.00316536483,
          3458.53170359798,
          4671.07378293339,
          5443.29836485617
         ],
         "yaxis": "y"
        },
        {
         "hoverlabel": {
          "namelength": 0
         },
         "hovertemplate": "Material=Graphite<br>Vehicle=ebicycle<br>Year=%{x}<br>Mass=%{y}",
         "legendgroup": "Material=Graphite",
         "line": {
          "color": "#B6E880"
         },
         "mode": "lines",
         "name": "Material=Graphite",
         "orientation": "v",
         "showlegend": false,
         "stackgroup": "1",
         "type": "scatter",
         "x": [
          2012,
          2013,
          2014,
          2015,
          2016,
          2017
         ],
         "xaxis": "x",
         "y": [
          329600,
          412000.00000000006,
          494400.00000000006,
          535600,
          576800,
          741600.0000000001
         ],
         "yaxis": "y"
        },
        {
         "hoverlabel": {
          "namelength": 0
         },
         "hovertemplate": "Material=LiMn2O4<br>Vehicle=carev<br>Year=%{x}<br>Mass=%{y}",
         "legendgroup": "Material=LiMn2O4",
         "line": {
          "color": "#FF97FF"
         },
         "mode": "lines",
         "name": "Material=LiMn2O4",
         "orientation": "v",
         "showlegend": true,
         "stackgroup": "1",
         "type": "scatter",
         "x": [
          2000,
          2001,
          2002,
          2003,
          2004,
          2005,
          2006,
          2007,
          2008,
          2009,
          2010,
          2011,
          2012,
          2013,
          2014,
          2015,
          2016,
          2017
         ],
         "xaxis": "x",
         "y": [
          0.04520239556,
          0.06554347356200001,
          0.492706111604,
          0.585371022502,
          0.585371022502,
          1.886069954741,
          5.211836208068,
          8.67885994752,
          12.764026446255,
          26.428710624043,
          44.733420706065,
          63.086723363314,
          79.26240061446,
          102.499822111967,
          146.538255986297,
          176.21927897088202,
          238.000783162401,
          277.347208377603
         ],
         "yaxis": "y"
        },
        {
         "hoverlabel": {
          "namelength": 0
         },
         "hovertemplate": "Material=LiMn2O4<br>Vehicle=ebicycle<br>Year=%{x}<br>Mass=%{y}",
         "legendgroup": "Material=LiMn2O4",
         "line": {
          "color": "#FF97FF"
         },
         "mode": "lines",
         "name": "Material=LiMn2O4",
         "orientation": "v",
         "showlegend": false,
         "stackgroup": "1",
         "type": "scatter",
         "x": [
          2012,
          2013,
          2014,
          2015,
          2016,
          2017
         ],
         "xaxis": "x",
         "y": [
          338400,
          423000,
          507600,
          549900,
          592200,
          761400
         ],
         "yaxis": "y"
        },
        {
         "hoverlabel": {
          "namelength": 0
         },
         "hovertemplate": "Material=Silica<br>Vehicle=carev<br>Year=%{x}<br>Mass=%{y}",
         "legendgroup": "Material=Silica",
         "line": {
          "color": "#FECB52"
         },
         "mode": "lines",
         "name": "Material=Silica",
         "orientation": "v",
         "showlegend": true,
         "stackgroup": "1",
         "type": "scatter",
         "x": [
          2000,
          2001,
          2002,
          2003,
          2004,
          2005,
          2006,
          2007,
          2008,
          2009,
          2010,
          2011,
          2012,
          2013,
          2014,
          2015,
          2016,
          2017
         ],
         "xaxis": "x",
         "y": [
          118.63941412000001,
          172.02715047400002,
          1293.1696139080002,
          1536.380412854,
          1536.380412854,
          4950.229554157,
          13679.124448036,
          22778.76751104,
          33500.804562135,
          69365.49945061101,
          117408.530198505,
          165579.09831657802,
          208034.21265942,
          269023.76947315905,
          384608.218679569,
          462509.82397611404,
          624663.2092099771,
          727932.8872307311
         ],
         "yaxis": "y"
        },
        {
         "hoverlabel": {
          "namelength": 0
         },
         "hovertemplate": "Material=Silica<br>Vehicle=ebicycle<br>Year=%{x}<br>Mass=%{y}",
         "legendgroup": "Material=Silica",
         "line": {
          "color": "#FECB52"
         },
         "mode": "lines",
         "name": "Material=Silica",
         "orientation": "v",
         "showlegend": false,
         "stackgroup": "1",
         "type": "scatter",
         "x": [
          2012,
          2013,
          2014,
          2015,
          2016,
          2017
         ],
         "xaxis": "x",
         "y": [
          34400,
          43000,
          51600,
          55900,
          60200,
          77400
         ],
         "yaxis": "y"
        },
        {
         "hoverlabel": {
          "namelength": 0
         },
         "hovertemplate": "Material=Lead<br>Vehicle=carev<br>Year=%{x}<br>Mass=%{y}",
         "legendgroup": "Material=Lead",
         "line": {
          "color": "#636efa"
         },
         "mode": "lines",
         "name": "Material=Lead",
         "orientation": "v",
         "showlegend": true,
         "stackgroup": "1",
         "type": "scatter",
         "x": [
          2000,
          2001,
          2002,
          2003,
          2004,
          2005,
          2006,
          2007,
          2008,
          2009,
          2010,
          2011,
          2012,
          2013,
          2014,
          2015,
          2016,
          2017
         ],
         "xaxis": "x",
         "y": [
          149.106407688,
          216.20429114760003,
          1625.2598437992,
          1930.9279795596,
          1930.9279795596,
          6221.464860781801,
          17191.9688064264,
          28628.430276096,
          42103.921870899,
          87178.7889149814,
          147559.428708237,
          208100.35788975723,
          261458.08588090804,
          338109.9624131166,
          483376.8801031506,
          581283.8750512836,
          785078.7854190499,
          914868.4579910695
         ],
         "yaxis": "y"
        },
        {
         "hoverlabel": {
          "namelength": 0
         },
         "hovertemplate": "Material=Nylon<br>Vehicle=carev<br>Year=%{x}<br>Mass=%{y}",
         "legendgroup": "Material=Nylon",
         "line": {
          "color": "#EF553B"
         },
         "mode": "lines",
         "name": "Material=Nylon",
         "orientation": "v",
         "showlegend": true,
         "stackgroup": "1",
         "type": "scatter",
         "x": [
          2000,
          2001,
          2002,
          2003,
          2004,
          2005,
          2006,
          2007,
          2008,
          2009,
          2010,
          2011,
          2012,
          2013,
          2014,
          2015,
          2016,
          2017
         ],
         "xaxis": "x",
         "y": [
          212.402421824,
          307.9835116448,
          2315.1863978816,
          2750.6113626208,
          2750.6113626208,
          8862.4910506064,
          24489.9992363072,
          40781.264990207994,
          59977.13386255199,
          124186.3859799472,
          210198.74669757596,
          296439.44001866557,
          372447.64666838397,
          481638.42166755674,
          688571.4811295888,
          828040.2213597728,
          1118346.5414482704,
          1303232.2295249712
         ],
         "yaxis": "y"
        },
        {
         "hoverlabel": {
          "namelength": 0
         },
         "hovertemplate": "Material=Iron<br>Vehicle=carev<br>Year=%{x}<br>Mass=%{y}",
         "legendgroup": "Material=Iron",
         "line": {
          "color": "#00cc96"
         },
         "mode": "lines",
         "name": "Material=Iron",
         "orientation": "v",
         "showlegend": true,
         "stackgroup": "1",
         "type": "scatter",
         "x": [
          2000,
          2001,
          2002,
          2003,
          2004,
          2005,
          2006,
          2007,
          2008,
          2009,
          2010,
          2011,
          2012,
          2013,
          2014,
          2015,
          2016,
          2017
         ],
         "xaxis": "x",
         "y": [
          10.168116440399999,
          14.74376883858,
          110.83246920036,
          131.67710790318,
          131.67710790318,
          424.26465847569,
          1172.38382557812,
          1952.2783565568002,
          2871.2218798579497,
          5945.04347979087,
          10062.62223233085,
          14191.131710044261,
          17829.7921782414,
          23056.966637340032,
          32963.25407939973,
          39639.89353707738,
          53537.42088490509,
          62388.25784045127
         ],
         "yaxis": "y"
        },
        {
         "hoverlabel": {
          "namelength": 0
         },
         "hovertemplate": "Material=Iron<br>Vehicle=A330<br>Year=%{x}<br>Mass=%{y}",
         "legendgroup": "Material=Iron",
         "line": {
          "color": "#00cc96"
         },
         "mode": "lines",
         "name": "Material=Iron",
         "orientation": "v",
         "showlegend": false,
         "stackgroup": "1",
         "type": "scatter",
         "x": [
          1996,
          1997,
          1998,
          1999,
          2000,
          2001,
          2002,
          2003,
          2004,
          2005,
          2006,
          2007,
          2008,
          2009,
          2010,
          2011,
          2012,
          2013,
          2014,
          2015,
          2016,
          2017
         ],
         "xaxis": "x",
         "y": [
          228912,
          244416,
          238944,
          241680,
          259920,
          268128,
          266304,
          297312,
          288192,
          265392,
          262656,
          268128,
          269040,
          285456,
          275424,
          264480,
          262656,
          265392,
          260832,
          254448,
          259920,
          267216
         ],
         "yaxis": "y"
        },
        {
         "hoverlabel": {
          "namelength": 0
         },
         "hovertemplate": "Material=ABS<br>Vehicle=carev<br>Year=%{x}<br>Mass=%{y}",
         "legendgroup": "Material=ABS",
         "line": {
          "color": "#ab63fa"
         },
         "mode": "lines",
         "name": "Material=ABS",
         "orientation": "v",
         "showlegend": true,
         "stackgroup": "1",
         "type": "scatter",
         "x": [
          2000,
          2001,
          2002,
          2003,
          2004,
          2005,
          2006,
          2007,
          2008,
          2009,
          2010,
          2011,
          2012,
          2013,
          2014,
          2015,
          2016,
          2017
         ],
         "xaxis": "x",
         "y": [
          261.59449604,
          379.312019258,
          2851.380006836,
          3387.6487237180004,
          3387.6487237180004,
          10915.030347269001,
          30161.845393412004,
          50226.14323968001,
          73867.745819295,
          152947.761972187,
          258880.45314358504,
          365094.35839822603,
          458705.94880614005,
          593185.139357903,
          848043.5771248731,
          1019813.0630871381,
          1377353.880412209,
          1605058.8094902271
         ],
         "yaxis": "y"
        },
        {
         "hoverlabel": {
          "namelength": 0
         },
         "hovertemplate": "Material=Ferrous alloys<br>Vehicle=A330<br>Year=%{x}<br>Mass=%{y}",
         "legendgroup": "Material=Ferrous alloys",
         "line": {
          "color": "#FFA15A"
         },
         "mode": "lines",
         "name": "Material=Ferrous alloys",
         "orientation": "v",
         "showlegend": true,
         "stackgroup": "1",
         "type": "scatter",
         "x": [
          1996,
          1997,
          1998,
          1999,
          2000,
          2001,
          2002,
          2003,
          2004,
          2005,
          2006,
          2007,
          2008,
          2009,
          2010,
          2011,
          2012,
          2013,
          2014,
          2015,
          2016,
          2017
         ],
         "xaxis": "x",
         "y": [
          433728,
          463104,
          452736,
          457920,
          492480,
          508032,
          504576,
          563328,
          546048,
          502848,
          497664,
          508032,
          509760,
          540864,
          521856,
          501120,
          497664,
          502848,
          494208,
          482112,
          492480,
          506304
         ],
         "yaxis": "y"
        },
        {
         "hoverlabel": {
          "namelength": 0
         },
         "hovertemplate": "Material=Polyvinylchloride<br>Vehicle=carev<br>Year=%{x}<br>Mass=%{y}",
         "legendgroup": "Material=Polyvinylchloride",
         "line": {
          "color": "#19d3f3"
         },
         "mode": "lines",
         "name": "Material=Polyvinylchloride",
         "orientation": "v",
         "showlegend": true,
         "stackgroup": "1",
         "type": "scatter",
         "x": [
          2000,
          2001,
          2002,
          2003,
          2004,
          2005,
          2006,
          2007,
          2008,
          2009,
          2010,
          2011,
          2012,
          2013,
          2014,
          2015,
          2016,
          2017
         ],
         "xaxis": "x",
         "y": [
          580.2811720000001,
          841.4076994000001,
          6325.0647748,
          7514.641177400001,
          7514.641177400001,
          24212.2319017,
          66906.4191316,
          111413.98502400001,
          163856.8959435,
          339275.89423910005,
          574260.7548405001,
          809869.4177018,
          1017523.0351020001,
          1315831.0785979,
          1881170.0104189,
          2262197.1349834003,
          3055310.9338437,
          3560416.6800111
         ],
         "yaxis": "y"
        },
        {
         "hoverlabel": {
          "namelength": 0
         },
         "hovertemplate": "Material=Nickel<br>Vehicle=carev<br>Year=%{x}<br>Mass=%{y}",
         "legendgroup": "Material=Nickel",
         "line": {
          "color": "#FF6692"
         },
         "mode": "lines",
         "name": "Material=Nickel",
         "orientation": "v",
         "showlegend": true,
         "stackgroup": "1",
         "type": "scatter",
         "x": [
          2000,
          2001,
          2002,
          2003,
          2004,
          2005,
          2006,
          2007,
          2008,
          2009,
          2010,
          2011,
          2012,
          2013,
          2014,
          2015,
          2016,
          2017
         ],
         "xaxis": "x",
         "y": [
          7.656302779999999,
          11.101639031,
          83.45370030199999,
          99.149121001,
          99.149121001,
          319.4592334955,
          882.7717105339999,
          1470.01013376,
          2161.9484975025,
          4476.4488278965,
          7576.868638657499,
          10685.518974907,
          13425.32692473,
          17361.2407763585,
          24820.3937597735,
          29847.713572691,
          40312.1568048255,
          46976.585559676496
         ],
         "yaxis": "y"
        },
        {
         "hoverlabel": {
          "namelength": 0
         },
         "hovertemplate": "Material=Nickel<br>Vehicle=A330<br>Year=%{x}<br>Mass=%{y}",
         "legendgroup": "Material=Nickel",
         "line": {
          "color": "#FF6692"
         },
         "mode": "lines",
         "name": "Material=Nickel",
         "orientation": "v",
         "showlegend": false,
         "stackgroup": "1",
         "type": "scatter",
         "x": [
          1996,
          1997,
          1998,
          1999,
          2000,
          2001,
          2002,
          2003,
          2004,
          2005,
          2006,
          2007,
          2008,
          2009,
          2010,
          2011,
          2012,
          2013,
          2014,
          2015,
          2016,
          2017
         ],
         "xaxis": "x",
         "y": [
          739948,
          790064,
          772376,
          781220,
          840180,
          866712,
          860816,
          961048,
          931568,
          857868,
          849024,
          866712,
          869660,
          922724,
          890296,
          854920,
          849024,
          857868,
          843128,
          822492,
          840180,
          863764
         ],
         "yaxis": "y"
        },
        {
         "hoverlabel": {
          "namelength": 0
         },
         "hovertemplate": "Material=Copper<br>Vehicle=carev<br>Year=%{x}<br>Mass=%{y}",
         "legendgroup": "Material=Copper",
         "line": {
          "color": "#B6E880"
         },
         "mode": "lines",
         "name": "Material=Copper",
         "orientation": "v",
         "showlegend": true,
         "stackgroup": "1",
         "type": "scatter",
         "x": [
          2000,
          2001,
          2002,
          2003,
          2004,
          2005,
          2006,
          2007,
          2008,
          2009,
          2010,
          2011,
          2012,
          2013,
          2014,
          2015,
          2016,
          2017
         ],
         "xaxis": "x",
         "y": [
          1247.9298486259997,
          1809.4982805077,
          13602.4353500234,
          16160.6915397067,
          16160.6915397067,
          52069.87293391985,
          143886.3115465778,
          239602.53093619202,
          352384.19100576674,
          729633.3842454066,
          1234982.5764465053,
          1741673.2932348768,
          2188244.989565691,
          2829774.5264981017,
          4045570.181521983,
          4864992.118376031,
          6570631.43723183,
          7656891.973968334
         ],
         "yaxis": "y"
        },
        {
         "hoverlabel": {
          "namelength": 0
         },
         "hovertemplate": "Material=Copper<br>Vehicle=ebicycle<br>Year=%{x}<br>Mass=%{y}",
         "legendgroup": "Material=Copper",
         "line": {
          "color": "#B6E880"
         },
         "mode": "lines",
         "name": "Material=Copper",
         "orientation": "v",
         "showlegend": false,
         "stackgroup": "1",
         "type": "scatter",
         "x": [
          2012,
          2013,
          2014,
          2015,
          2016,
          2017
         ],
         "xaxis": "x",
         "y": [
          678400,
          848000,
          1017600.0000000001,
          1102400,
          1187200,
          1526400
         ],
         "yaxis": "y"
        },
        {
         "hoverlabel": {
          "namelength": 0
         },
         "hovertemplate": "Material=Glass<br>Vehicle=carev<br>Year=%{x}<br>Mass=%{y}",
         "legendgroup": "Material=Glass",
         "line": {
          "color": "#FF97FF"
         },
         "mode": "lines",
         "name": "Material=Glass",
         "orientation": "v",
         "showlegend": true,
         "stackgroup": "1",
         "type": "scatter",
         "x": [
          2000,
          2001,
          2002,
          2003,
          2004,
          2005,
          2006,
          2007,
          2008,
          2009,
          2010,
          2011,
          2012,
          2013,
          2014,
          2015,
          2016,
          2017
         ],
         "xaxis": "x",
         "y": [
          1874.0322409720002,
          2717.3467494094,
          20426.951426594802,
          24268.7175205874,
          24268.7175205874,
          78193.9952545567,
          216075.91738407162,
          359814.19026662403,
          529179.8540444686,
          1095699.8004903044,
          1854589.1564719155,
          2615493.097112572,
          3286115.5345444023,
          4249508.658822083,
          6075284.569589054,
          7305820.989817294,
          9867201.405971799,
          11498452.770125877
         ],
         "yaxis": "y"
        },
        {
         "hoverlabel": {
          "namelength": 0
         },
         "hovertemplate": "Material=Titanium<br>Vehicle=carev<br>Year=%{x}<br>Mass=%{y}",
         "legendgroup": "Material=Titanium",
         "line": {
          "color": "#FECB52"
         },
         "mode": "lines",
         "name": "Material=Titanium",
         "orientation": "v",
         "showlegend": true,
         "stackgroup": "1",
         "type": "scatter",
         "x": [
          2000,
          2001,
          2002,
          2003,
          2004,
          2005,
          2006,
          2007,
          2008,
          2009,
          2010,
          2011,
          2012,
          2013,
          2014,
          2015,
          2016,
          2017
         ],
         "xaxis": "x",
         "y": [
          12.379164932,
          17.9497891514,
          134.9328977588,
          160.3101858694,
          160.3101858694,
          516.5206567877,
          1427.3177166596,
          2376.799666944,
          3495.5666976735,
          7237.7882566171,
          12250.731095830499,
          17276.9815373458,
          21706.865708262,
          28070.684920679898,
          40131.0863556809,
          48259.5555291554,
          65179.0886790897,
          75954.5327941491
         ],
         "yaxis": "y"
        },
        {
         "hoverlabel": {
          "namelength": 0
         },
         "hovertemplate": "Material=Titanium<br>Vehicle=A330<br>Year=%{x}<br>Mass=%{y}",
         "legendgroup": "Material=Titanium",
         "line": {
          "color": "#FECB52"
         },
         "mode": "lines",
         "name": "Material=Titanium",
         "orientation": "v",
         "showlegend": false,
         "stackgroup": "1",
         "type": "scatter",
         "x": [
          1996,
          1997,
          1998,
          1999,
          2000,
          2001,
          2002,
          2003,
          2004,
          2005,
          2006,
          2007,
          2008,
          2009,
          2010,
          2011,
          2012,
          2013,
          2014,
          2015,
          2016,
          2017
         ],
         "xaxis": "x",
         "y": [
          1961765.8000000003,
          2094634.3999999997,
          2047739.5999999999,
          2071186.9999999998,
          2227503,
          2297845.2,
          2282213.5999999996,
          2547950.8,
          2469792.8000000003,
          2274397.8,
          2250950.4000000004,
          2297845.2000000007,
          2305661,
          2446345.4000000004,
          2360371.5999999996,
          2266581.9999999995,
          2250950.3999999994,
          2274397.8,
          2235318.7999999993,
          2180608.2,
          2227502.999999999,
          2290029.3999999994
         ],
         "yaxis": "y"
        },
        {
         "hoverlabel": {
          "namelength": 0
         },
         "hovertemplate": "Material=Titanium<br>Vehicle=B747<br>Year=%{x}<br>Mass=%{y}",
         "legendgroup": "Material=Titanium",
         "line": {
          "color": "#FECB52"
         },
         "mode": "lines",
         "name": "Material=Titanium",
         "orientation": "v",
         "showlegend": false,
         "stackgroup": "1",
         "type": "scatter",
         "x": [
          1996,
          1997,
          1998,
          1999,
          2000,
          2001,
          2002,
          2003,
          2004,
          2005,
          2006,
          2007,
          2008,
          2009,
          2010,
          2011,
          2012,
          2013,
          2014,
          2015,
          2016,
          2017
         ],
         "xaxis": "x",
         "y": [
          249560,
          278920,
          271580,
          271580,
          278920,
          278920,
          271580,
          249560,
          212860,
          212860,
          220200,
          220200,
          220200,
          220200,
          205520,
          205520,
          198180,
          212860,
          212860,
          205520,
          190840,
          154140
         ],
         "yaxis": "y"
        },
        {
         "hoverlabel": {
          "namelength": 0
         },
         "hovertemplate": "Material=Polyurethane<br>Vehicle=carev<br>Year=%{x}<br>Mass=%{y}",
         "legendgroup": "Material=Polyurethane",
         "line": {
          "color": "#636efa"
         },
         "mode": "lines",
         "name": "Material=Polyurethane",
         "orientation": "v",
         "showlegend": true,
         "stackgroup": "1",
         "type": "scatter",
         "x": [
          2000,
          2001,
          2002,
          2003,
          2004,
          2005,
          2006,
          2007,
          2008,
          2009,
          2010,
          2011,
          2012,
          2013,
          2014,
          2015,
          2016,
          2017
         ],
         "xaxis": "x",
         "y": [
          1633.2107176,
          2368.1555405199997,
          17801.99682184,
          21150.078792919998,
          21150.078792919998,
          68145.71719185999,
          188309.19573928,
          313576.4577792,
          461177.8763823,
          954897.4763127799,
          1616266.1564049,
          2279390.53801844,
          2863834.9933116,
          3703427.79296182,
          5294583.33458362,
          6366990.32202772,
          8599221.900575459,
          10020850.16971038
         ],
         "yaxis": "y"
        },
        {
         "hoverlabel": {
          "namelength": 0
         },
         "hovertemplate": "Material=Polyurethane<br>Vehicle=ebicycle<br>Year=%{x}<br>Mass=%{y}",
         "legendgroup": "Material=Polyurethane",
         "line": {
          "color": "#636efa"
         },
         "mode": "lines",
         "name": "Material=Polyurethane",
         "orientation": "v",
         "showlegend": false,
         "stackgroup": "1",
         "type": "scatter",
         "x": [
          2012,
          2013,
          2014,
          2015,
          2016,
          2017
         ],
         "xaxis": "x",
         "y": [
          24000,
          30000,
          36000,
          39000,
          42000,
          54000
         ],
         "yaxis": "y"
        },
        {
         "hoverlabel": {
          "namelength": 0
         },
         "hovertemplate": "Material=Polyurethane<br>Vehicle=bicycle<br>Year=%{x}<br>Mass=%{y}",
         "legendgroup": "Material=Polyurethane",
         "line": {
          "color": "#636efa"
         },
         "mode": "lines",
         "name": "Material=Polyurethane",
         "orientation": "v",
         "showlegend": false,
         "stackgroup": "1",
         "type": "scatter",
         "x": [
          1996,
          1997,
          1998,
          1999,
          2000,
          2001,
          2002,
          2003,
          2004,
          2005,
          2006,
          2007,
          2008,
          2009,
          2010,
          2011,
          2012,
          2013,
          2014,
          2015,
          2016,
          2017
         ],
         "xaxis": "x",
         "y": [
          480000,
          501000,
          495000,
          495000,
          534000,
          534000,
          534000,
          540000,
          540000,
          540000,
          540000,
          540000,
          540000,
          540000,
          570000,
          600000,
          624000,
          669000,
          675000,
          681000,
          684000,
          684000
         ],
         "yaxis": "y"
        },
        {
         "hoverlabel": {
          "namelength": 0
         },
         "hovertemplate": "Material=Polypropylene<br>Vehicle=carev<br>Year=%{x}<br>Mass=%{y}",
         "legendgroup": "Material=Polypropylene",
         "line": {
          "color": "#EF553B"
         },
         "mode": "lines",
         "name": "Material=Polypropylene",
         "orientation": "v",
         "showlegend": true,
         "stackgroup": "1",
         "type": "scatter",
         "x": [
          2000,
          2001,
          2002,
          2003,
          2004,
          2005,
          2006,
          2007,
          2008,
          2009,
          2010,
          2011,
          2012,
          2013,
          2014,
          2015,
          2016,
          2017
         ],
         "xaxis": "x",
         "y": [
          2867.8919112,
          4158.44327124,
          31260.02183208,
          37139.20025004,
          37139.20025004,
          119662.78999481999,
          330667.93736136,
          550635.2469504,
          809820.9784251,
          1676784.70318086,
          2838137.5326213,
          4002573.34586628,
          5028848.4662892,
          6503160.00053934,
          9297203.69502594,
          11180333.22121764,
          15100096.18814802,
          17596452.70225206
         ],
         "yaxis": "y"
        },
        {
         "hoverlabel": {
          "namelength": 0
         },
         "hovertemplate": "Material=Composites<br>Vehicle=A330<br>Year=%{x}<br>Mass=%{y}",
         "legendgroup": "Material=Composites",
         "line": {
          "color": "#00cc96"
         },
         "mode": "lines",
         "name": "Material=Composites",
         "orientation": "v",
         "showlegend": true,
         "stackgroup": "1",
         "type": "scatter",
         "x": [
          1996,
          1997,
          1998,
          1999,
          2000,
          2001,
          2002,
          2003,
          2004,
          2005,
          2006,
          2007,
          2008,
          2009,
          2010,
          2011,
          2012,
          2013,
          2014,
          2015,
          2016,
          2017
         ],
         "xaxis": "x",
         "y": [
          3037049.8000000003,
          3242746.4,
          3170147.6,
          3206447,
          3448443,
          3557341.1999999997,
          3533141.6,
          3944534.8000000003,
          3823536.8000000003,
          3521041.8000000003,
          3484742.4,
          3557341.2,
          3569440.9999999995,
          3787237.3999999994,
          3654139.6,
          3508942,
          3484742.4,
          3521041.8000000003,
          3460542.8,
          3375844.2,
          3448442.9999999995,
          3545241.4
         ],
         "yaxis": "y"
        },
        {
         "hoverlabel": {
          "namelength": 0
         },
         "hovertemplate": "Material=Composites<br>Vehicle=B747<br>Year=%{x}<br>Mass=%{y}",
         "legendgroup": "Material=Composites",
         "line": {
          "color": "#00cc96"
         },
         "mode": "lines",
         "name": "Material=Composites",
         "orientation": "v",
         "showlegend": false,
         "stackgroup": "1",
         "type": "scatter",
         "x": [
          1996,
          1997,
          1998,
          1999,
          2000,
          2001,
          2002,
          2003,
          2004,
          2005,
          2006,
          2007,
          2008,
          2009,
          2010,
          2011,
          2012,
          2013,
          2014,
          2015,
          2016,
          2017
         ],
         "xaxis": "x",
         "y": [
          62390,
          69730,
          67895,
          67895,
          69730,
          69730,
          67895,
          62390,
          53215,
          53215,
          55050,
          55050,
          55050,
          55050,
          51380,
          51380,
          49545,
          53215,
          53215,
          51380,
          47710,
          38535
         ],
         "yaxis": "y"
        },
        {
         "hoverlabel": {
          "namelength": 0
         },
         "hovertemplate": "Material=Rubber<br>Vehicle=carev<br>Year=%{x}<br>Mass=%{y}",
         "legendgroup": "Material=Rubber",
         "line": {
          "color": "#ab63fa"
         },
         "mode": "lines",
         "name": "Material=Rubber",
         "orientation": "v",
         "showlegend": true,
         "stackgroup": "1",
         "type": "scatter",
         "x": [
          2000,
          2001,
          2002,
          2003,
          2004,
          2005,
          2006,
          2007,
          2008,
          2009,
          2010,
          2011,
          2012,
          2013,
          2014,
          2015,
          2016,
          2017
         ],
         "xaxis": "x",
         "y": [
          2644.0230816000003,
          3833.83346832,
          28819.85158944,
          34240.09890672,
          34240.09890672,
          110321.86307976,
          304855.86130848003,
          507652.43166720006,
          746606.0176668001,
          1545894.19523448,
          2616591.3421284,
          3690130.81383504,
          4636294.4735856,
          5995520.63925912,
          8571460.126507921,
          10307591.78246352,
          13921376.429817362,
          16222866.321196081
         ],
         "yaxis": "y"
        },
        {
         "hoverlabel": {
          "namelength": 0
         },
         "hovertemplate": "Material=Rubber<br>Vehicle=ebicycle<br>Year=%{x}<br>Mass=%{y}",
         "legendgroup": "Material=Rubber",
         "line": {
          "color": "#ab63fa"
         },
         "mode": "lines",
         "name": "Material=Rubber",
         "orientation": "v",
         "showlegend": false,
         "stackgroup": "1",
         "type": "scatter",
         "x": [
          2012,
          2013,
          2014,
          2015,
          2016,
          2017
         ],
         "xaxis": "x",
         "y": [
          450399.99999999994,
          563000,
          675599.9999999999,
          731899.9999999999,
          788199.9999999999,
          1013399.9999999999
         ],
         "yaxis": "y"
        },
        {
         "hoverlabel": {
          "namelength": 0
         },
         "hovertemplate": "Material=Rubber<br>Vehicle=bicycle<br>Year=%{x}<br>Mass=%{y}",
         "legendgroup": "Material=Rubber",
         "line": {
          "color": "#ab63fa"
         },
         "mode": "lines",
         "name": "Material=Rubber",
         "orientation": "v",
         "showlegend": false,
         "stackgroup": "1",
         "type": "scatter",
         "x": [
          1996,
          1997,
          1998,
          1999,
          2000,
          2001,
          2002,
          2003,
          2004,
          2005,
          2006,
          2007,
          2008,
          2009,
          2010,
          2011,
          2012,
          2013,
          2014,
          2015,
          2016,
          2017
         ],
         "xaxis": "x",
         "y": [
          9008000,
          9402100,
          9289500,
          9289500,
          10021399.999999998,
          10021399.999999998,
          10021399.999999998,
          10133999.999999998,
          10133999.999999998,
          10133999.999999998,
          10133999.999999998,
          10133999.999999998,
          10133999.999999998,
          10133999.999999998,
          10696999.999999998,
          11259999.999999998,
          11710399.999999998,
          12554899.999999998,
          12667499.999999998,
          12780099.999999998,
          12836399.999999998,
          12836399.999999998
         ],
         "yaxis": "y"
        },
        {
         "hoverlabel": {
          "namelength": 0
         },
         "hovertemplate": "Material=Polyethylene<br>Vehicle=carev<br>Year=%{x}<br>Mass=%{y}",
         "legendgroup": "Material=Polyethylene",
         "line": {
          "color": "#FFA15A"
         },
         "mode": "lines",
         "name": "Material=Polyethylene",
         "orientation": "v",
         "showlegend": true,
         "stackgroup": "1",
         "type": "scatter",
         "x": [
          2000,
          2001,
          2002,
          2003,
          2004,
          2005,
          2006,
          2007,
          2008,
          2009,
          2010,
          2011,
          2012,
          2013,
          2014,
          2015,
          2016,
          2017
         ],
         "xaxis": "x",
         "y": [
          1078.4960208512,
          1563.8192302342402,
          11755.60662727808,
          13966.52347002304,
          13966.52347002304,
          45000.24647001632,
          124350.59120414336,
          207071.23600343041,
          304540.3138878576,
          630569.6609911753,
          1067306.6246348685,
          1505202.971500977,
          1891142.7725625793,
          2445570.6144816596,
          3496295.3627959415,
          4204462.812487361,
          5678524.21138626,
          6617301.072736186
         ],
         "yaxis": "y"
        },
        {
         "hoverlabel": {
          "namelength": 0
         },
         "hovertemplate": "Material=Polyethylene<br>Vehicle=ebicycle<br>Year=%{x}<br>Mass=%{y}",
         "legendgroup": "Material=Polyethylene",
         "line": {
          "color": "#FFA15A"
         },
         "mode": "lines",
         "name": "Material=Polyethylene",
         "orientation": "v",
         "showlegend": false,
         "stackgroup": "1",
         "type": "scatter",
         "x": [
          2012,
          2013,
          2014,
          2015,
          2016,
          2017
         ],
         "xaxis": "x",
         "y": [
          1747200,
          2184000,
          2620800,
          2839200,
          3057600,
          3931200
         ],
         "yaxis": "y"
        },
        {
         "hoverlabel": {
          "namelength": 0
         },
         "hovertemplate": "Material=Polyethylene<br>Vehicle=bicycle<br>Year=%{x}<br>Mass=%{y}",
         "legendgroup": "Material=Polyethylene",
         "line": {
          "color": "#FFA15A"
         },
         "mode": "lines",
         "name": "Material=Polyethylene",
         "orientation": "v",
         "showlegend": false,
         "stackgroup": "1",
         "type": "scatter",
         "x": [
          1996,
          1997,
          1998,
          1999,
          2000,
          2001,
          2002,
          2003,
          2004,
          2005,
          2006,
          2007,
          2008,
          2009,
          2010,
          2011,
          2012,
          2013,
          2014,
          2015,
          2016,
          2017
         ],
         "xaxis": "x",
         "y": [
          31360000,
          32732000,
          32340000,
          32340000,
          34888000,
          34888000,
          34888000,
          35280000,
          35280000,
          35280000,
          35280000,
          35280000,
          35280000,
          35280000,
          37240000,
          39200000,
          40768000,
          43708000,
          44100000,
          44492000,
          44688000,
          44688000
         ],
         "yaxis": "y"
        },
        {
         "hoverlabel": {
          "namelength": 0
         },
         "hovertemplate": "Material=Aluminium<br>Vehicle=carev<br>Year=%{x}<br>Mass=%{y}",
         "legendgroup": "Material=Aluminium",
         "line": {
          "color": "#19d3f3"
         },
         "mode": "lines",
         "name": "Material=Aluminium",
         "orientation": "v",
         "showlegend": true,
         "stackgroup": "1",
         "type": "scatter",
         "x": [
          2000,
          2001,
          2002,
          2003,
          2004,
          2005,
          2006,
          2007,
          2008,
          2009,
          2010,
          2011,
          2012,
          2013,
          2014,
          2015,
          2016,
          2017
         ],
         "xaxis": "x",
         "y": [
          2195.09016080156,
          3182.880733162262,
          23926.482752737,
          28426.417582380207,
          28426.417582380207,
          91590.13695944508,
          253093.89554041985,
          421457.3108738995,
          619838.5841563406,
          1283414.3397666519,
          2172316.100383244,
          3063577.5829226975,
          3849090.596965535,
          4977531.571379597,
          7116098.160540519,
          8557449.23737684,
          11557643.591906395,
          13468359.822376112
         ],
         "yaxis": "y"
        },
        {
         "hoverlabel": {
          "namelength": 0
         },
         "hovertemplate": "Material=Aluminium<br>Vehicle=ebicycle<br>Year=%{x}<br>Mass=%{y}",
         "legendgroup": "Material=Aluminium",
         "line": {
          "color": "#19d3f3"
         },
         "mode": "lines",
         "name": "Material=Aluminium",
         "orientation": "v",
         "showlegend": false,
         "stackgroup": "1",
         "type": "scatter",
         "x": [
          2012,
          2013,
          2014,
          2015,
          2016,
          2017
         ],
         "xaxis": "x",
         "y": [
          6844800,
          8556000,
          10267200,
          11122800,
          11978400,
          15400800
         ],
         "yaxis": "y"
        },
        {
         "hoverlabel": {
          "namelength": 0
         },
         "hovertemplate": "Material=Aluminium<br>Vehicle=A330<br>Year=%{x}<br>Mass=%{y}",
         "legendgroup": "Material=Aluminium",
         "line": {
          "color": "#19d3f3"
         },
         "mode": "lines",
         "name": "Material=Aluminium",
         "orientation": "v",
         "showlegend": false,
         "stackgroup": "1",
         "type": "scatter",
         "x": [
          1996,
          1997,
          1998,
          1999,
          2000,
          2001,
          2002,
          2003,
          2004,
          2005,
          2006,
          2007,
          2008,
          2009,
          2010,
          2011,
          2012,
          2013,
          2014,
          2015,
          2016,
          2017
         ],
         "xaxis": "x",
         "y": [
          15509164.5,
          16559585.999999998,
          16188849,
          16374217.5,
          17610007.5,
          18166113,
          18042534,
          20143377,
          19525481.999999996,
          17980744.499999996,
          17795376,
          18166113.000000004,
          18227902.500000004,
          19340113.5,
          18660429,
          17918955,
          17795376,
          17980744.5,
          17671796.999999996,
          17239270.5,
          17610007.499999996,
          18104323.5
         ],
         "yaxis": "y"
        },
        {
         "hoverlabel": {
          "namelength": 0
         },
         "hovertemplate": "Material=Aluminium<br>Vehicle=B747<br>Year=%{x}<br>Mass=%{y}",
         "legendgroup": "Material=Aluminium",
         "line": {
          "color": "#19d3f3"
         },
         "mode": "lines",
         "name": "Material=Aluminium",
         "orientation": "v",
         "showlegend": false,
         "stackgroup": "1",
         "type": "scatter",
         "x": [
          1996,
          1997,
          1998,
          1999,
          2000,
          2001,
          2002,
          2003,
          2004,
          2005,
          2006,
          2007,
          2008,
          2009,
          2010,
          2011,
          2012,
          2013,
          2014,
          2015,
          2016,
          2017
         ],
         "xaxis": "x",
         "y": [
          5053590,
          5648130,
          5499495,
          5499495,
          5648130,
          5648130,
          5499495,
          5053590,
          4310415,
          4310415,
          4459050,
          4459050,
          4459050,
          4459050,
          4161780,
          4161780,
          4013145,
          4310415,
          4310415,
          4161780,
          3864510,
          3121335
         ],
         "yaxis": "y"
        },
        {
         "hoverlabel": {
          "namelength": 0
         },
         "hovertemplate": "Material=Aluminium<br>Vehicle=bicycle<br>Year=%{x}<br>Mass=%{y}",
         "legendgroup": "Material=Aluminium",
         "line": {
          "color": "#19d3f3"
         },
         "mode": "lines",
         "name": "Material=Aluminium",
         "orientation": "v",
         "showlegend": false,
         "stackgroup": "1",
         "type": "scatter",
         "x": [
          1996,
          1997,
          1998,
          1999,
          2000,
          2001,
          2002,
          2003,
          2004,
          2005,
          2006,
          2007,
          2008,
          2009,
          2010,
          2011,
          2012,
          2013,
          2014,
          2015,
          2016,
          2017
         ],
         "xaxis": "x",
         "y": [
          120480000,
          125751000,
          124245000,
          124245000,
          134034000,
          134034000,
          134034000,
          135540000,
          135540000,
          135540000,
          135540000,
          135540000,
          135540000,
          135540000,
          143070000,
          150600000,
          156624000,
          167919000,
          169425000,
          170931000,
          171684000,
          171684000
         ],
         "yaxis": "y"
        },
        {
         "hoverlabel": {
          "namelength": 0
         },
         "hovertemplate": "Material=Steel<br>Vehicle=carev<br>Year=%{x}<br>Mass=%{y}",
         "legendgroup": "Material=Steel",
         "line": {
          "color": "#FF6692"
         },
         "mode": "lines",
         "name": "Material=Steel",
         "orientation": "v",
         "showlegend": true,
         "stackgroup": "1",
         "type": "scatter",
         "x": [
          2000,
          2001,
          2002,
          2003,
          2004,
          2005,
          2006,
          2007,
          2008,
          2009,
          2010,
          2011,
          2012,
          2013,
          2014,
          2015,
          2016,
          2017
         ],
         "xaxis": "x",
         "y": [
          49336.455100672,
          71537.85989597443,
          537767.3605973249,
          638907.0935537023,
          638907.0935537023,
          2058563.5890755393,
          5688493.27310748,
          9472599.379329026,
          13931381.509052254,
          28845791.885985404,
          48824589.37900251,
          68856423.56125288,
          86511474.01902835,
          111874112.17490631,
          159940153.55673602,
          192335703.38721475,
          259767536.80743572,
          302712454.1498156
         ],
         "yaxis": "y"
        },
        {
         "hoverlabel": {
          "namelength": 0
         },
         "hovertemplate": "Material=Steel<br>Vehicle=ebicycle<br>Year=%{x}<br>Mass=%{y}",
         "legendgroup": "Material=Steel",
         "line": {
          "color": "#FF6692"
         },
         "mode": "lines",
         "name": "Material=Steel",
         "orientation": "v",
         "showlegend": false,
         "stackgroup": "1",
         "type": "scatter",
         "x": [
          2012,
          2013,
          2014,
          2015,
          2016,
          2017
         ],
         "xaxis": "x",
         "y": [
          8133600,
          10167000,
          12200400,
          13217100,
          14233800,
          18300600
         ],
         "yaxis": "y"
        },
        {
         "hoverlabel": {
          "namelength": 0
         },
         "hovertemplate": "Material=Steel<br>Vehicle=A330<br>Year=%{x}<br>Mass=%{y}",
         "legendgroup": "Material=Steel",
         "line": {
          "color": "#FF6692"
         },
         "mode": "lines",
         "name": "Material=Steel",
         "orientation": "v",
         "showlegend": false,
         "stackgroup": "1",
         "type": "scatter",
         "x": [
          1996,
          1997,
          1998,
          1999,
          2000,
          2001,
          2002,
          2003,
          2004,
          2005,
          2006,
          2007,
          2008,
          2009,
          2010,
          2011,
          2012,
          2013,
          2014,
          2015,
          2016,
          2017
         ],
         "xaxis": "x",
         "y": [
          3102109,
          3312212.0000000005,
          3238058,
          3275135,
          3522315.0000000005,
          3633545.9999999995,
          3608828.0000000005,
          4029033.9999999995,
          3905444.0000000005,
          3596469.0000000005,
          3559391.9999999995,
          3633545.999999999,
          3645904.9999999995,
          3868367.0000000005,
          3732418,
          3584110.0000000005,
          3559392.0000000005,
          3596469,
          3534674.000000001,
          3448161,
          3522315.000000001,
          3621187.0000000005
         ],
         "yaxis": "y"
        },
        {
         "hoverlabel": {
          "namelength": 0
         },
         "hovertemplate": "Material=Steel<br>Vehicle=B747<br>Year=%{x}<br>Mass=%{y}",
         "legendgroup": "Material=Steel",
         "line": {
          "color": "#FF6692"
         },
         "mode": "lines",
         "name": "Material=Steel",
         "orientation": "v",
         "showlegend": false,
         "stackgroup": "1",
         "type": "scatter",
         "x": [
          1996,
          1997,
          1998,
          1999,
          2000,
          2001,
          2002,
          2003,
          2004,
          2005,
          2006,
          2007,
          2008,
          2009,
          2010,
          2011,
          2012,
          2013,
          2014,
          2015,
          2016,
          2017
         ],
         "xaxis": "x",
         "y": [
          811070,
          906490,
          882635,
          882635,
          906490,
          906490,
          882635,
          811070,
          691795,
          691795,
          715650,
          715650,
          715650,
          715650,
          667940,
          667940,
          644085,
          691795,
          691795,
          667940,
          620230,
          500955
         ],
         "yaxis": "y"
        },
        {
         "hoverlabel": {
          "namelength": 0
         },
         "hovertemplate": "Material=Steel<br>Vehicle=bicycle<br>Year=%{x}<br>Mass=%{y}",
         "legendgroup": "Material=Steel",
         "line": {
          "color": "#FF6692"
         },
         "mode": "lines",
         "name": "Material=Steel",
         "orientation": "v",
         "showlegend": false,
         "stackgroup": "1",
         "type": "scatter",
         "x": [
          1996,
          1997,
          1998,
          1999,
          2000,
          2001,
          2002,
          2003,
          2004,
          2005,
          2006,
          2007,
          2008,
          2009,
          2010,
          2011,
          2012,
          2013,
          2014,
          2015,
          2016,
          2017
         ],
         "xaxis": "x",
         "y": [
          103840000,
          108383000,
          107085000,
          107085000,
          115522000,
          115522000,
          115522000,
          116820000,
          116820000,
          116820000,
          116820000,
          116820000,
          116820000,
          116820000,
          123310000,
          129800000,
          134992000,
          144727000,
          146025000,
          147323000,
          147972000,
          147972000
         ],
         "yaxis": "y"
        }
       ],
       "layout": {
        "height": 600,
        "legend": {
         "font": {
          "size": 10
         },
         "tracegroupgap": 0,
         "traceorder": "reversed",
         "y": 0.5
        },
        "margin": {
         "t": 60
        },
        "template": {
         "data": {
          "bar": [
           {
            "error_x": {
             "color": "#2a3f5f"
            },
            "error_y": {
             "color": "#2a3f5f"
            },
            "marker": {
             "line": {
              "color": "#E5ECF6",
              "width": 0.5
             }
            },
            "type": "bar"
           }
          ],
          "barpolar": [
           {
            "marker": {
             "line": {
              "color": "#E5ECF6",
              "width": 0.5
             }
            },
            "type": "barpolar"
           }
          ],
          "carpet": [
           {
            "aaxis": {
             "endlinecolor": "#2a3f5f",
             "gridcolor": "white",
             "linecolor": "white",
             "minorgridcolor": "white",
             "startlinecolor": "#2a3f5f"
            },
            "baxis": {
             "endlinecolor": "#2a3f5f",
             "gridcolor": "white",
             "linecolor": "white",
             "minorgridcolor": "white",
             "startlinecolor": "#2a3f5f"
            },
            "type": "carpet"
           }
          ],
          "choropleth": [
           {
            "colorbar": {
             "outlinewidth": 0,
             "ticks": ""
            },
            "type": "choropleth"
           }
          ],
          "contour": [
           {
            "colorbar": {
             "outlinewidth": 0,
             "ticks": ""
            },
            "colorscale": [
             [
              0,
              "#0d0887"
             ],
             [
              0.1111111111111111,
              "#46039f"
             ],
             [
              0.2222222222222222,
              "#7201a8"
             ],
             [
              0.3333333333333333,
              "#9c179e"
             ],
             [
              0.4444444444444444,
              "#bd3786"
             ],
             [
              0.5555555555555556,
              "#d8576b"
             ],
             [
              0.6666666666666666,
              "#ed7953"
             ],
             [
              0.7777777777777778,
              "#fb9f3a"
             ],
             [
              0.8888888888888888,
              "#fdca26"
             ],
             [
              1,
              "#f0f921"
             ]
            ],
            "type": "contour"
           }
          ],
          "contourcarpet": [
           {
            "colorbar": {
             "outlinewidth": 0,
             "ticks": ""
            },
            "type": "contourcarpet"
           }
          ],
          "heatmap": [
           {
            "colorbar": {
             "outlinewidth": 0,
             "ticks": ""
            },
            "colorscale": [
             [
              0,
              "#0d0887"
             ],
             [
              0.1111111111111111,
              "#46039f"
             ],
             [
              0.2222222222222222,
              "#7201a8"
             ],
             [
              0.3333333333333333,
              "#9c179e"
             ],
             [
              0.4444444444444444,
              "#bd3786"
             ],
             [
              0.5555555555555556,
              "#d8576b"
             ],
             [
              0.6666666666666666,
              "#ed7953"
             ],
             [
              0.7777777777777778,
              "#fb9f3a"
             ],
             [
              0.8888888888888888,
              "#fdca26"
             ],
             [
              1,
              "#f0f921"
             ]
            ],
            "type": "heatmap"
           }
          ],
          "heatmapgl": [
           {
            "colorbar": {
             "outlinewidth": 0,
             "ticks": ""
            },
            "colorscale": [
             [
              0,
              "#0d0887"
             ],
             [
              0.1111111111111111,
              "#46039f"
             ],
             [
              0.2222222222222222,
              "#7201a8"
             ],
             [
              0.3333333333333333,
              "#9c179e"
             ],
             [
              0.4444444444444444,
              "#bd3786"
             ],
             [
              0.5555555555555556,
              "#d8576b"
             ],
             [
              0.6666666666666666,
              "#ed7953"
             ],
             [
              0.7777777777777778,
              "#fb9f3a"
             ],
             [
              0.8888888888888888,
              "#fdca26"
             ],
             [
              1,
              "#f0f921"
             ]
            ],
            "type": "heatmapgl"
           }
          ],
          "histogram": [
           {
            "marker": {
             "colorbar": {
              "outlinewidth": 0,
              "ticks": ""
             }
            },
            "type": "histogram"
           }
          ],
          "histogram2d": [
           {
            "colorbar": {
             "outlinewidth": 0,
             "ticks": ""
            },
            "colorscale": [
             [
              0,
              "#0d0887"
             ],
             [
              0.1111111111111111,
              "#46039f"
             ],
             [
              0.2222222222222222,
              "#7201a8"
             ],
             [
              0.3333333333333333,
              "#9c179e"
             ],
             [
              0.4444444444444444,
              "#bd3786"
             ],
             [
              0.5555555555555556,
              "#d8576b"
             ],
             [
              0.6666666666666666,
              "#ed7953"
             ],
             [
              0.7777777777777778,
              "#fb9f3a"
             ],
             [
              0.8888888888888888,
              "#fdca26"
             ],
             [
              1,
              "#f0f921"
             ]
            ],
            "type": "histogram2d"
           }
          ],
          "histogram2dcontour": [
           {
            "colorbar": {
             "outlinewidth": 0,
             "ticks": ""
            },
            "colorscale": [
             [
              0,
              "#0d0887"
             ],
             [
              0.1111111111111111,
              "#46039f"
             ],
             [
              0.2222222222222222,
              "#7201a8"
             ],
             [
              0.3333333333333333,
              "#9c179e"
             ],
             [
              0.4444444444444444,
              "#bd3786"
             ],
             [
              0.5555555555555556,
              "#d8576b"
             ],
             [
              0.6666666666666666,
              "#ed7953"
             ],
             [
              0.7777777777777778,
              "#fb9f3a"
             ],
             [
              0.8888888888888888,
              "#fdca26"
             ],
             [
              1,
              "#f0f921"
             ]
            ],
            "type": "histogram2dcontour"
           }
          ],
          "mesh3d": [
           {
            "colorbar": {
             "outlinewidth": 0,
             "ticks": ""
            },
            "type": "mesh3d"
           }
          ],
          "parcoords": [
           {
            "line": {
             "colorbar": {
              "outlinewidth": 0,
              "ticks": ""
             }
            },
            "type": "parcoords"
           }
          ],
          "scatter": [
           {
            "marker": {
             "colorbar": {
              "outlinewidth": 0,
              "ticks": ""
             }
            },
            "type": "scatter"
           }
          ],
          "scatter3d": [
           {
            "line": {
             "colorbar": {
              "outlinewidth": 0,
              "ticks": ""
             }
            },
            "marker": {
             "colorbar": {
              "outlinewidth": 0,
              "ticks": ""
             }
            },
            "type": "scatter3d"
           }
          ],
          "scattercarpet": [
           {
            "marker": {
             "colorbar": {
              "outlinewidth": 0,
              "ticks": ""
             }
            },
            "type": "scattercarpet"
           }
          ],
          "scattergeo": [
           {
            "marker": {
             "colorbar": {
              "outlinewidth": 0,
              "ticks": ""
             }
            },
            "type": "scattergeo"
           }
          ],
          "scattergl": [
           {
            "marker": {
             "colorbar": {
              "outlinewidth": 0,
              "ticks": ""
             }
            },
            "type": "scattergl"
           }
          ],
          "scattermapbox": [
           {
            "marker": {
             "colorbar": {
              "outlinewidth": 0,
              "ticks": ""
             }
            },
            "type": "scattermapbox"
           }
          ],
          "scatterpolar": [
           {
            "marker": {
             "colorbar": {
              "outlinewidth": 0,
              "ticks": ""
             }
            },
            "type": "scatterpolar"
           }
          ],
          "scatterpolargl": [
           {
            "marker": {
             "colorbar": {
              "outlinewidth": 0,
              "ticks": ""
             }
            },
            "type": "scatterpolargl"
           }
          ],
          "scatterternary": [
           {
            "marker": {
             "colorbar": {
              "outlinewidth": 0,
              "ticks": ""
             }
            },
            "type": "scatterternary"
           }
          ],
          "surface": [
           {
            "colorbar": {
             "outlinewidth": 0,
             "ticks": ""
            },
            "colorscale": [
             [
              0,
              "#0d0887"
             ],
             [
              0.1111111111111111,
              "#46039f"
             ],
             [
              0.2222222222222222,
              "#7201a8"
             ],
             [
              0.3333333333333333,
              "#9c179e"
             ],
             [
              0.4444444444444444,
              "#bd3786"
             ],
             [
              0.5555555555555556,
              "#d8576b"
             ],
             [
              0.6666666666666666,
              "#ed7953"
             ],
             [
              0.7777777777777778,
              "#fb9f3a"
             ],
             [
              0.8888888888888888,
              "#fdca26"
             ],
             [
              1,
              "#f0f921"
             ]
            ],
            "type": "surface"
           }
          ],
          "table": [
           {
            "cells": {
             "fill": {
              "color": "#EBF0F8"
             },
             "line": {
              "color": "white"
             }
            },
            "header": {
             "fill": {
              "color": "#C8D4E3"
             },
             "line": {
              "color": "white"
             }
            },
            "type": "table"
           }
          ]
         },
         "layout": {
          "annotationdefaults": {
           "arrowcolor": "#2a3f5f",
           "arrowhead": 0,
           "arrowwidth": 1
          },
          "colorscale": {
           "diverging": [
            [
             0,
             "#8e0152"
            ],
            [
             0.1,
             "#c51b7d"
            ],
            [
             0.2,
             "#de77ae"
            ],
            [
             0.3,
             "#f1b6da"
            ],
            [
             0.4,
             "#fde0ef"
            ],
            [
             0.5,
             "#f7f7f7"
            ],
            [
             0.6,
             "#e6f5d0"
            ],
            [
             0.7,
             "#b8e186"
            ],
            [
             0.8,
             "#7fbc41"
            ],
            [
             0.9,
             "#4d9221"
            ],
            [
             1,
             "#276419"
            ]
           ],
           "sequential": [
            [
             0,
             "#0d0887"
            ],
            [
             0.1111111111111111,
             "#46039f"
            ],
            [
             0.2222222222222222,
             "#7201a8"
            ],
            [
             0.3333333333333333,
             "#9c179e"
            ],
            [
             0.4444444444444444,
             "#bd3786"
            ],
            [
             0.5555555555555556,
             "#d8576b"
            ],
            [
             0.6666666666666666,
             "#ed7953"
            ],
            [
             0.7777777777777778,
             "#fb9f3a"
            ],
            [
             0.8888888888888888,
             "#fdca26"
            ],
            [
             1,
             "#f0f921"
            ]
           ],
           "sequentialminus": [
            [
             0,
             "#0d0887"
            ],
            [
             0.1111111111111111,
             "#46039f"
            ],
            [
             0.2222222222222222,
             "#7201a8"
            ],
            [
             0.3333333333333333,
             "#9c179e"
            ],
            [
             0.4444444444444444,
             "#bd3786"
            ],
            [
             0.5555555555555556,
             "#d8576b"
            ],
            [
             0.6666666666666666,
             "#ed7953"
            ],
            [
             0.7777777777777778,
             "#fb9f3a"
            ],
            [
             0.8888888888888888,
             "#fdca26"
            ],
            [
             1,
             "#f0f921"
            ]
           ]
          },
          "colorway": [
           "#636efa",
           "#EF553B",
           "#00cc96",
           "#ab63fa",
           "#FFA15A",
           "#19d3f3",
           "#FF6692",
           "#B6E880",
           "#FF97FF",
           "#FECB52"
          ],
          "font": {
           "color": "#2a3f5f"
          },
          "geo": {
           "bgcolor": "white",
           "lakecolor": "white",
           "landcolor": "#E5ECF6",
           "showlakes": true,
           "showland": true,
           "subunitcolor": "white"
          },
          "hoverlabel": {
           "align": "left"
          },
          "hovermode": "closest",
          "mapbox": {
           "style": "light"
          },
          "paper_bgcolor": "white",
          "plot_bgcolor": "#E5ECF6",
          "polar": {
           "angularaxis": {
            "gridcolor": "white",
            "linecolor": "white",
            "ticks": ""
           },
           "bgcolor": "#E5ECF6",
           "radialaxis": {
            "gridcolor": "white",
            "linecolor": "white",
            "ticks": ""
           }
          },
          "scene": {
           "xaxis": {
            "backgroundcolor": "#E5ECF6",
            "gridcolor": "white",
            "gridwidth": 2,
            "linecolor": "white",
            "showbackground": true,
            "ticks": "",
            "zerolinecolor": "white"
           },
           "yaxis": {
            "backgroundcolor": "#E5ECF6",
            "gridcolor": "white",
            "gridwidth": 2,
            "linecolor": "white",
            "showbackground": true,
            "ticks": "",
            "zerolinecolor": "white"
           },
           "zaxis": {
            "backgroundcolor": "#E5ECF6",
            "gridcolor": "white",
            "gridwidth": 2,
            "linecolor": "white",
            "showbackground": true,
            "ticks": "",
            "zerolinecolor": "white"
           }
          },
          "shapedefaults": {
           "line": {
            "color": "#2a3f5f"
           }
          },
          "ternary": {
           "aaxis": {
            "gridcolor": "white",
            "linecolor": "white",
            "ticks": ""
           },
           "baxis": {
            "gridcolor": "white",
            "linecolor": "white",
            "ticks": ""
           },
           "bgcolor": "#E5ECF6",
           "caxis": {
            "gridcolor": "white",
            "linecolor": "white",
            "ticks": ""
           }
          },
          "title": {
           "x": 0.05
          },
          "xaxis": {
           "automargin": true,
           "gridcolor": "white",
           "linecolor": "white",
           "ticks": "",
           "zerolinecolor": "white",
           "zerolinewidth": 2
          },
          "yaxis": {
           "automargin": true,
           "gridcolor": "white",
           "linecolor": "white",
           "ticks": "",
           "zerolinecolor": "white",
           "zerolinewidth": 2
          }
         }
        },
        "xaxis": {
         "anchor": "y",
         "domain": [
          0,
          0.98
         ],
         "title": {
          "text": "Year"
         }
        },
        "yaxis": {
         "anchor": "x",
         "domain": [
          0,
          1
         ],
         "title": {
          "text": "Mass"
         }
        }
       }
      },
      "text/html": [
       "<div>\n",
       "        \n",
       "        \n",
       "            <div id=\"22b8160b-a32c-438a-852f-6096161a379e\" class=\"plotly-graph-div\" style=\"height:600px; width:100%;\"></div>\n",
       "            <script type=\"text/javascript\">\n",
       "                require([\"plotly\"], function(Plotly) {\n",
       "                    window.PLOTLYENV=window.PLOTLYENV || {};\n",
       "                    \n",
       "                if (document.getElementById(\"22b8160b-a32c-438a-852f-6096161a379e\")) {\n",
       "                    Plotly.newPlot(\n",
       "                        '22b8160b-a32c-438a-852f-6096161a379e',\n",
       "                        [{\"hoverlabel\": {\"namelength\": 0}, \"hovertemplate\": \"Material=Cryolite<br>Vehicle=carev<br>Year=%{x}<br>Mass=%{y}\", \"legendgroup\": \"Material=Cryolite\", \"line\": {\"color\": \"#636efa\"}, \"mode\": \"lines\", \"name\": \"Material=Cryolite\", \"orientation\": \"v\", \"showlegend\": true, \"stackgroup\": \"1\", \"type\": \"scatter\", \"x\": [2000.0, 2001.0, 2002.0, 2003.0, 2004.0, 2005.0, 2006.0, 2007.0, 2008.0, 2009.0, 2010.0, 2011.0, 2012.0, 2013.0, 2014.0, 2015.0, 2016.0, 2017.0], \"xaxis\": \"x\", \"y\": [0.006413791127999999, 0.009299997135599999, 0.06991032329519999, 0.08305859510759998, 0.08305859510759998, 0.26761543481579997, 0.7395101170583999, 1.2314478965759998, 1.8110942697689998, 3.7499833277633994, 6.347248045046999, 8.951407587793199, 11.246582742947998, 14.543752417074597, 20.792388423528596, 25.003844022951597, 33.770053391923796, 39.352937879291396], \"yaxis\": \"y\"}, {\"hoverlabel\": {\"namelength\": 0}, \"hovertemplate\": \"Material=Chromium<br>Vehicle=carev<br>Year=%{x}<br>Mass=%{y}\", \"legendgroup\": \"Material=Chromium\", \"line\": {\"color\": \"#EF553B\"}, \"mode\": \"lines\", \"name\": \"Material=Chromium\", \"orientation\": \"v\", \"showlegend\": true, \"stackgroup\": \"1\", \"type\": \"scatter\", \"x\": [2000.0, 2001.0, 2002.0, 2003.0, 2004.0, 2005.0, 2006.0, 2007.0, 2008.0, 2009.0, 2010.0, 2011.0, 2012.0, 2013.0, 2014.0, 2015.0, 2016.0, 2017.0], \"xaxis\": \"x\", \"y\": [0.035822820392, 0.0519430895684, 0.3904687422728, 0.4639055240764, 0.4639055240764, 1.4947071808562, 4.1303711911976, 6.8779815152640005, 10.115468908191, 20.9447075126926, 35.451158630433, 49.9961192800948, 62.815315557372, 81.2309319503894, 116.1313147172954, 139.6534741571924, 188.6152094984682, 219.7971835086846], \"yaxis\": \"y\"}, {\"hoverlabel\": {\"namelength\": 0}, \"hovertemplate\": \"Material=Palladium<br>Vehicle=carev<br>Year=%{x}<br>Mass=%{y}\", \"legendgroup\": \"Material=Palladium\", \"line\": {\"color\": \"#00cc96\"}, \"mode\": \"lines\", \"name\": \"Material=Palladium\", \"orientation\": \"v\", \"showlegend\": true, \"stackgroup\": \"1\", \"type\": \"scatter\", \"x\": [2000.0, 2001.0, 2002.0, 2003.0, 2004.0, 2005.0, 2006.0, 2007.0, 2008.0, 2009.0, 2010.0, 2011.0, 2012.0, 2013.0, 2014.0, 2015.0, 2016.0, 2017.0], \"xaxis\": \"x\", \"y\": [0.09590248679999999, 0.13905860586, 1.04533710612, 1.24193720406, 1.24193720406, 4.00153126173, 11.05755672804, 18.4132774656, 27.08046471015, 56.07178646979, 94.90749849945, 133.84630570242, 168.1650106038, 217.46608150551, 310.89907927040997, 373.87104966546, 504.94817106153, 588.42649069659], \"yaxis\": \"y\"}, {\"hoverlabel\": {\"namelength\": 0}, \"hovertemplate\": \"Material=Silicon<br>Vehicle=carev<br>Year=%{x}<br>Mass=%{y}\", \"legendgroup\": \"Material=Silicon\", \"line\": {\"color\": \"#ab63fa\"}, \"mode\": \"lines\", \"name\": \"Material=Silicon\", \"orientation\": \"v\", \"showlegend\": true, \"stackgroup\": \"1\", \"type\": \"scatter\", \"x\": [2000.0, 2001.0, 2002.0, 2003.0, 2004.0, 2005.0, 2006.0, 2007.0, 2008.0, 2009.0, 2010.0, 2011.0, 2012.0, 2013.0, 2014.0, 2015.0, 2016.0, 2017.0], \"xaxis\": \"x\", \"y\": [0.10872827708, 0.157656001766, 1.185138220172, 1.4080311881860001, 1.4080311881860001, 4.5366873611630005, 12.536370347324, 20.875829199360002, 30.702147240465003, 63.570705401749, 107.600221205295, 151.746619906702, 190.65503385978002, 246.54952289968102, 352.478046844871, 423.871751782526, 572.4788426885431, 667.1213714728291], \"yaxis\": \"y\"}, {\"hoverlabel\": {\"namelength\": 0}, \"hovertemplate\": \"Material=Boric Oxide<br>Vehicle=carev<br>Year=%{x}<br>Mass=%{y}\", \"legendgroup\": \"Material=Boric Oxide\", \"line\": {\"color\": \"#FFA15A\"}, \"mode\": \"lines\", \"name\": \"Material=Boric Oxide\", \"orientation\": \"v\", \"showlegend\": true, \"stackgroup\": \"1\", \"type\": \"scatter\", \"x\": [2000.0, 2001.0, 2002.0, 2003.0, 2004.0, 2005.0, 2006.0, 2007.0, 2008.0, 2009.0, 2010.0, 2011.0, 2012.0, 2013.0, 2014.0, 2015.0, 2016.0, 2017.0], \"xaxis\": \"x\", \"y\": [0.37440505700000004, 0.54288733265, 4.0810151213, 4.84854548815, 4.84854548815, 15.622051003325, 43.1689030721, 71.885770944, 105.722627970375, 218.905276701475, 370.52060453362503, 522.53841780205, 656.5192674495, 848.991547126775, 1213.755673909025, 1459.59939446165, 1971.326866242825, 2297.227748108475], \"yaxis\": \"y\"}, {\"hoverlabel\": {\"namelength\": 0}, \"hovertemplate\": \"Material=Silicone<br>Vehicle=carev<br>Year=%{x}<br>Mass=%{y}\", \"legendgroup\": \"Material=Silicone\", \"line\": {\"color\": \"#19d3f3\"}, \"mode\": \"lines\", \"name\": \"Material=Silicone\", \"orientation\": \"v\", \"showlegend\": true, \"stackgroup\": \"1\", \"type\": \"scatter\", \"x\": [2000.0, 2001.0, 2002.0, 2003.0, 2004.0, 2005.0, 2006.0, 2007.0, 2008.0, 2009.0, 2010.0, 2011.0, 2012.0, 2013.0, 2014.0, 2015.0, 2016.0, 2017.0], \"xaxis\": \"x\", \"y\": [0.7184804434800001, 1.041796643046, 7.831436833931999, 9.304321743066, 9.304321743066, 29.978596504202997, 82.840795133244, 137.94824514815997, 202.88091522766499, 420.07755329166895, 711.026208878895, 1002.747230942862, 1259.85545764218, 1629.2082916241611, 2329.187863684551, 2800.9600848846057, 3782.9611930219826, 4408.362495049149], \"yaxis\": \"y\"}, {\"hoverlabel\": {\"namelength\": 0}, \"hovertemplate\": \"Material=Molybdenum<br>Vehicle=carev<br>Year=%{x}<br>Mass=%{y}\", \"legendgroup\": \"Material=Molybdenum\", \"line\": {\"color\": \"#FF6692\"}, \"mode\": \"lines\", \"name\": \"Material=Molybdenum\", \"orientation\": \"v\", \"showlegend\": true, \"stackgroup\": \"1\", \"type\": \"scatter\", \"x\": [2000.0, 2001.0, 2002.0, 2003.0, 2004.0, 2005.0, 2006.0, 2007.0, 2008.0, 2009.0, 2010.0, 2011.0, 2012.0, 2013.0, 2014.0, 2015.0, 2016.0, 2017.0], \"xaxis\": \"x\", \"y\": [0.931516928, 1.3506995456, 10.153534515199999, 12.0631442176, 12.0631442176, 38.867543820799995, 107.40390179839999, 178.85125017599998, 263.03709254399996, 544.6346598783999, 921.8524398719999, 1300.0716005631998, 1633.414933248, 2112.2844980095997, 3019.8148651136, 3631.4721679615996, 4904.646217228799, 5715.4851272064], \"yaxis\": \"y\"}, {\"hoverlabel\": {\"namelength\": 0}, \"hovertemplate\": \"Material=Gold<br>Vehicle=carev<br>Year=%{x}<br>Mass=%{y}\", \"legendgroup\": \"Material=Gold\", \"line\": {\"color\": \"#B6E880\"}, \"mode\": \"lines\", \"name\": \"Material=Gold\", \"orientation\": \"v\", \"showlegend\": true, \"stackgroup\": \"1\", \"type\": \"scatter\", \"x\": [2000.0, 2001.0, 2002.0, 2003.0, 2004.0, 2005.0, 2006.0, 2007.0, 2008.0, 2009.0, 2010.0, 2011.0, 2012.0, 2013.0, 2014.0, 2015.0, 2016.0, 2017.0], \"xaxis\": \"x\", \"y\": [2.8228615931999994, 4.093149310139999, 30.769191365879994, 36.55605763193999, 36.55605763193999, 117.78389997626998, 325.47594169595993, 541.9894258943999, 797.1055423798499, 1650.4566020042098, 2793.5744041705493, 3939.726782549579, 4949.887803676199, 6401.050377200489, 9151.223284375588, 11004.784778010539, 14863.001432056468, 17320.161305857408], \"yaxis\": \"y\"}, {\"hoverlabel\": {\"namelength\": 0}, \"hovertemplate\": \"Material=Silver<br>Vehicle=carev<br>Year=%{x}<br>Mass=%{y}\", \"legendgroup\": \"Material=Silver\", \"line\": {\"color\": \"#FF97FF\"}, \"mode\": \"lines\", \"name\": \"Material=Silver\", \"orientation\": \"v\", \"showlegend\": true, \"stackgroup\": \"1\", \"type\": \"scatter\", \"x\": [2000.0, 2001.0, 2002.0, 2003.0, 2004.0, 2005.0, 2006.0, 2007.0, 2008.0, 2009.0, 2010.0, 2011.0, 2012.0, 2013.0, 2014.0, 2015.0, 2016.0, 2017.0], \"xaxis\": \"x\", \"y\": [3.3693646891999993, 4.885578799339999, 36.72607511227999, 43.633272725139996, 43.633272725139996, 140.58674165686998, 388.4877486647599, 646.9180203263999, 951.4243541128499, 1969.9832996580096, 3334.4075305495494, 4702.453828481979, 5908.180982512199, 7640.287135112689, 10922.890683565789, 13135.299772611737, 17740.463195693068, 20673.326689407208], \"yaxis\": \"y\"}, {\"hoverlabel\": {\"namelength\": 0}, \"hovertemplate\": \"Material=Neodymium Oxide<br>Vehicle=carev<br>Year=%{x}<br>Mass=%{y}\", \"legendgroup\": \"Material=Neodymium Oxide\", \"line\": {\"color\": \"#FECB52\"}, \"mode\": \"lines\", \"name\": \"Material=Neodymium Oxide\", \"orientation\": \"v\", \"showlegend\": true, \"stackgroup\": \"1\", \"type\": \"scatter\", \"x\": [2000.0, 2001.0, 2002.0, 2003.0, 2004.0, 2005.0, 2006.0, 2007.0, 2008.0, 2009.0, 2010.0, 2011.0, 2012.0, 2013.0, 2014.0, 2015.0, 2016.0, 2017.0], \"xaxis\": \"x\", \"y\": [3.639826464, 5.2777483728, 39.6741084576, 47.1357527088, 47.1357527088, 151.8717592104, 419.6719912992, 698.846681088, 1027.795997772, 2128.1155378392, 3602.063264436, 5079.9238044816, 6382.435704624, 8253.5794941048, 11799.6804266568, 14189.6814785808, 19164.5052939144, 22332.7922395032], \"yaxis\": \"y\"}, {\"hoverlabel\": {\"namelength\": 0}, \"hovertemplate\": \"Material=Polyvinylfluoride<br>Vehicle=ebicycle<br>Year=%{x}<br>Mass=%{y}\", \"legendgroup\": \"Material=Polyvinylfluoride\", \"line\": {\"color\": \"#636efa\"}, \"mode\": \"lines\", \"name\": \"Material=Polyvinylfluoride\", \"orientation\": \"v\", \"showlegend\": true, \"stackgroup\": \"1\", \"type\": \"scatter\", \"x\": [2012.0, 2013.0, 2014.0, 2015.0, 2016.0, 2017.0], \"xaxis\": \"x\", \"y\": [16800.0, 21000.0, 25200.0, 27300.0, 29400.000000000004, 37800.0], \"yaxis\": \"y\"}, {\"hoverlabel\": {\"namelength\": 0}, \"hovertemplate\": \"Material=Phthalic Anhydride<br>Vehicle=ebicycle<br>Year=%{x}<br>Mass=%{y}\", \"legendgroup\": \"Material=Phthalic Anhydride\", \"line\": {\"color\": \"#EF553B\"}, \"mode\": \"lines\", \"name\": \"Material=Phthalic Anhydride\", \"orientation\": \"v\", \"showlegend\": true, \"stackgroup\": \"1\", \"type\": \"scatter\", \"x\": [2012.0, 2013.0, 2014.0, 2015.0, 2016.0, 2017.0], \"xaxis\": \"x\", \"y\": [25600.0, 32000.0, 38400.0, 41600.0, 44800.0, 57600.0], \"yaxis\": \"y\"}, {\"hoverlabel\": {\"namelength\": 0}, \"hovertemplate\": \"Material=LiPF6<br>Vehicle=ebicycle<br>Year=%{x}<br>Mass=%{y}\", \"legendgroup\": \"Material=LiPF6\", \"line\": {\"color\": \"#00cc96\"}, \"mode\": \"lines\", \"name\": \"Material=LiPF6\", \"orientation\": \"v\", \"showlegend\": true, \"stackgroup\": \"1\", \"type\": \"scatter\", \"x\": [2012.0, 2013.0, 2014.0, 2015.0, 2016.0, 2017.0], \"xaxis\": \"x\", \"y\": [31200.0, 39000.0, 46800.0, 50700.0, 54600.0, 70200.0], \"yaxis\": \"y\"}, {\"hoverlabel\": {\"namelength\": 0}, \"hovertemplate\": \"Material=Tin<br>Vehicle=carev<br>Year=%{x}<br>Mass=%{y}\", \"legendgroup\": \"Material=Tin\", \"line\": {\"color\": \"#ab63fa\"}, \"mode\": \"lines\", \"name\": \"Material=Tin\", \"orientation\": \"v\", \"showlegend\": true, \"stackgroup\": \"1\", \"type\": \"scatter\", \"x\": [2000.0, 2001.0, 2002.0, 2003.0, 2004.0, 2005.0, 2006.0, 2007.0, 2008.0, 2009.0, 2010.0, 2011.0, 2012.0, 2013.0, 2014.0, 2015.0, 2016.0, 2017.0], \"xaxis\": \"x\", \"y\": [17.388423928, 25.2132146956, 189.53382081520002, 225.1800898676, 225.1800898676, 725.5319883958, 2004.8852788984002, 3338.5773941760003, 4910.056206669, 10166.5767601034, 17208.019029747, 24268.1538551132, 30490.601357748, 39429.5553885346, 56370.227400388605, 67787.9012621116, 91553.9643763038, 106689.71798443141], \"yaxis\": \"y\"}, {\"hoverlabel\": {\"namelength\": 0}, \"hovertemplate\": \"Material=Ferrous Alloys<br>Vehicle=carev<br>Year=%{x}<br>Mass=%{y}\", \"legendgroup\": \"Material=Ferrous Alloys\", \"line\": {\"color\": \"#FFA15A\"}, \"mode\": \"lines\", \"name\": \"Material=Ferrous Alloys\", \"orientation\": \"v\", \"showlegend\": true, \"stackgroup\": \"1\", \"type\": \"scatter\", \"x\": [2000.0, 2001.0, 2002.0, 2003.0, 2004.0, 2005.0, 2006.0, 2007.0, 2008.0, 2009.0, 2010.0, 2011.0, 2012.0, 2013.0, 2014.0, 2015.0, 2016.0, 2017.0], \"xaxis\": \"x\", \"y\": [20.566995968, 29.822144153600004, 224.18025605120002, 266.3425977856, 266.3425977856, 858.1579067648, 2371.3746351104, 3948.863225856, 5807.605486464, 12025.0083675904, 20353.613384832002, 28704.3279227392, 36064.227429888, 46637.205882137605, 66674.6017039616, 80179.4054314496, 108289.86134561281, 126192.40298595841], \"yaxis\": \"y\"}, {\"hoverlabel\": {\"namelength\": 0}, \"hovertemplate\": \"Material=Barite<br>Vehicle=carev<br>Year=%{x}<br>Mass=%{y}\", \"legendgroup\": \"Material=Barite\", \"line\": {\"color\": \"#19d3f3\"}, \"mode\": \"lines\", \"name\": \"Material=Barite\", \"orientation\": \"v\", \"showlegend\": true, \"stackgroup\": \"1\", \"type\": \"scatter\", \"x\": [2000.0, 2001.0, 2002.0, 2003.0, 2004.0, 2005.0, 2006.0, 2007.0, 2008.0, 2009.0, 2010.0, 2011.0, 2012.0, 2013.0, 2014.0, 2015.0, 2016.0, 2017.0], \"xaxis\": \"x\", \"y\": [24.023354908, 34.8338646166, 261.85456849720003, 311.10244605860004, 311.10244605860004, 1002.3744835363001, 2769.8928208924003, 4612.484142336, 6783.5948421465, 14045.8550308349, 23774.1126008295, 33528.1952773502, 42124.952831178, 54474.7590055081, 77879.5125246271, 93653.84794109261, 126488.36884547431, 147399.4981251429], \"yaxis\": \"y\"}, {\"hoverlabel\": {\"namelength\": 0}, \"hovertemplate\": \"Material=Selenium<br>Vehicle=carev<br>Year=%{x}<br>Mass=%{y}\", \"legendgroup\": \"Material=Selenium\", \"line\": {\"color\": \"#FF6692\"}, \"mode\": \"lines\", \"name\": \"Material=Selenium\", \"orientation\": \"v\", \"showlegend\": true, \"stackgroup\": \"1\", \"type\": \"scatter\", \"x\": [2000.0, 2001.0, 2002.0, 2003.0, 2004.0, 2005.0, 2006.0, 2007.0, 2008.0, 2009.0, 2010.0, 2011.0, 2012.0, 2013.0, 2014.0, 2015.0, 2016.0, 2017.0], \"xaxis\": \"x\", \"y\": [25.679819172000002, 37.2357377994, 279.9100289748, 332.5536582774, 332.5536582774, 1071.4904549517, 2960.8831505316, 4930.525281024, 7251.3389386935005, 15014.3482743891, 25413.3910480905, 35840.0396274018, 45029.562918102, 58230.9159589479, 83249.4797872689, 100111.4910510834, 135210.0258998937, 157563.0244981611], \"yaxis\": \"y\"}, {\"hoverlabel\": {\"namelength\": 0}, \"hovertemplate\": \"Material=Polyester<br>Vehicle=carev<br>Year=%{x}<br>Mass=%{y}\", \"legendgroup\": \"Material=Polyester\", \"line\": {\"color\": \"#B6E880\"}, \"mode\": \"lines\", \"name\": \"Material=Polyester\", \"orientation\": \"v\", \"showlegend\": true, \"stackgroup\": \"1\", \"type\": \"scatter\", \"x\": [2000.0, 2001.0, 2002.0, 2003.0, 2004.0, 2005.0, 2006.0, 2007.0, 2008.0, 2009.0, 2010.0, 2011.0, 2012.0, 2013.0, 2014.0, 2015.0, 2016.0, 2017.0], \"xaxis\": \"x\", \"y\": [26.354459304000002, 38.2139659908, 287.2636064136, 341.2902479868, 341.2902479868, 1099.6398144594, 3038.6691577512, 5060.056186368, 7441.840445967, 15408.7934935662, 26081.031788721, 36781.6011276276, 46212.544389564, 59760.71305626781, 85436.5450331898, 102741.5418736788, 138762.1579889034, 161702.3970900702], \"yaxis\": \"y\"}, {\"hoverlabel\": {\"namelength\": 0}, \"hovertemplate\": \"Material=Polystyrene<br>Vehicle=carev<br>Year=%{x}<br>Mass=%{y}\", \"legendgroup\": \"Material=Polystyrene\", \"line\": {\"color\": \"#FF97FF\"}, \"mode\": \"lines\", \"name\": \"Material=Polystyrene\", \"orientation\": \"v\", \"showlegend\": true, \"stackgroup\": \"1\", \"type\": \"scatter\", \"x\": [2000.0, 2001.0, 2002.0, 2003.0, 2004.0, 2005.0, 2006.0, 2007.0, 2008.0, 2009.0, 2010.0, 2011.0, 2012.0, 2013.0, 2014.0, 2015.0, 2016.0, 2017.0], \"xaxis\": \"x\", \"y\": [27.8527181216, 40.38644127632001, 303.59462752544005, 360.69269967472, 360.69269967472, 1162.15466362376, 3211.41839942048, 5347.7218793472, 7864.9112795867995, 16284.78796774648, 27563.7461710884, 38872.64604641104, 48839.7412262256, 63158.12729458712, 90293.63792455592, 108582.42896115153, 146650.82777180136, 170895.22626074808], \"yaxis\": \"y\"}, {\"hoverlabel\": {\"namelength\": 0}, \"hovertemplate\": \"Material=Magnesium<br>Vehicle=carev<br>Year=%{x}<br>Mass=%{y}\", \"legendgroup\": \"Material=Magnesium\", \"line\": {\"color\": \"#FECB52\"}, \"mode\": \"lines\", \"name\": \"Material=Magnesium\", \"orientation\": \"v\", \"showlegend\": true, \"stackgroup\": \"1\", \"type\": \"scatter\", \"x\": [2000.0, 2001.0, 2002.0, 2003.0, 2004.0, 2005.0, 2006.0, 2007.0, 2008.0, 2009.0, 2010.0, 2011.0, 2012.0, 2013.0, 2014.0, 2015.0, 2016.0, 2017.0], \"xaxis\": \"x\", \"y\": [39.824135268000006, 57.7449961386, 434.0830744212, 515.7225517206, 515.7225517206, 1661.6620440573001, 4591.7227964004005, 7646.233971456, 11245.3401963015, 23284.176287817903, 39410.9598645945, 55580.554386784206, 69831.621192438, 90304.21353033511, 129102.87731518412, 155252.4001355346, 209683.0326164553, 244347.9511604859], \"yaxis\": \"y\"}, {\"hoverlabel\": {\"namelength\": 0}, \"hovertemplate\": \"Material=Niobium and tantalum<br>Vehicle=A330<br>Year=%{x}<br>Mass=%{y}\", \"legendgroup\": \"Material=Niobium and tantalum\", \"line\": {\"color\": \"#636efa\"}, \"mode\": \"lines\", \"name\": \"Material=Niobium and tantalum\", \"orientation\": \"v\", \"showlegend\": true, \"stackgroup\": \"1\", \"type\": \"scatter\", \"x\": [1996.0, 1997.0, 1998.0, 1999.0, 2000.0, 2001.0, 2002.0, 2003.0, 2004.0, 2005.0, 2006.0, 2007.0, 2008.0, 2009.0, 2010.0, 2011.0, 2012.0, 2013.0, 2014.0, 2015.0, 2016.0, 2017.0], \"xaxis\": \"x\", \"y\": [47188.0, 50384.0, 49256.0, 49820.0, 53580.0, 55272.0, 54896.0, 61288.0, 59408.0, 54708.0, 54144.0, 55272.0, 55460.0, 58844.0, 56776.0, 54520.0, 54144.0, 54708.0, 53768.0, 52452.0, 53580.0, 55084.0], \"yaxis\": \"y\"}, {\"hoverlabel\": {\"namelength\": 0}, \"hovertemplate\": \"Material=Other<br>Vehicle=B747<br>Year=%{x}<br>Mass=%{y}\", \"legendgroup\": \"Material=Other\", \"line\": {\"color\": \"#EF553B\"}, \"mode\": \"lines\", \"name\": \"Material=Other\", \"orientation\": \"v\", \"showlegend\": true, \"stackgroup\": \"1\", \"type\": \"scatter\", \"x\": [1996.0, 1997.0, 1998.0, 1999.0, 2000.0, 2001.0, 2002.0, 2003.0, 2004.0, 2005.0, 2006.0, 2007.0, 2008.0, 2009.0, 2010.0, 2011.0, 2012.0, 2013.0, 2014.0, 2015.0, 2016.0, 2017.0], \"xaxis\": \"x\", \"y\": [62390.0, 69730.0, 67895.0, 67895.0, 69730.0, 69730.0, 67895.0, 62390.0, 53215.0, 53215.0, 55050.0, 55050.0, 55050.0, 55050.0, 51380.0, 51380.0, 49545.0, 53215.0, 53215.0, 51380.0, 47710.0, 38535.0], \"yaxis\": \"y\"}, {\"hoverlabel\": {\"namelength\": 0}, \"hovertemplate\": \"Material=Brass<br>Vehicle=carev<br>Year=%{x}<br>Mass=%{y}\", \"legendgroup\": \"Material=Brass\", \"line\": {\"color\": \"#00cc96\"}, \"mode\": \"lines\", \"name\": \"Material=Brass\", \"orientation\": \"v\", \"showlegend\": true, \"stackgroup\": \"1\", \"type\": \"scatter\", \"x\": [2000.0, 2001.0, 2002.0, 2003.0, 2004.0, 2005.0, 2006.0, 2007.0, 2008.0, 2009.0, 2010.0, 2011.0, 2012.0, 2013.0, 2014.0, 2015.0, 2016.0, 2017.0], \"xaxis\": \"x\", \"y\": [67.067737419176, 97.2482192578052, 731.0383378690183, 868.5271995783291, 868.5271995783291, 2798.4013438151183, 7732.910124430994, 12877.00558448179, 18938.252353739823, 39212.82937555673, 66371.90964345205, 93603.08772907297, 117603.27756452512, 152081.124678288, 217421.86785892025, 261460.22094178668, 353126.7277528809, 411505.8397894027], \"yaxis\": \"y\"}, {\"hoverlabel\": {\"namelength\": 0}, \"hovertemplate\": \"Material=Zinc<br>Vehicle=carev<br>Year=%{x}<br>Mass=%{y}\", \"legendgroup\": \"Material=Zinc\", \"line\": {\"color\": \"#ab63fa\"}, \"mode\": \"lines\", \"name\": \"Material=Zinc\", \"orientation\": \"v\", \"showlegend\": true, \"stackgroup\": \"1\", \"type\": \"scatter\", \"x\": [2000.0, 2001.0, 2002.0, 2003.0, 2004.0, 2005.0, 2006.0, 2007.0, 2008.0, 2009.0, 2010.0, 2011.0, 2012.0, 2013.0, 2014.0, 2015.0, 2016.0, 2017.0], \"xaxis\": \"x\", \"y\": [81.3508029388, 117.95866426126, 886.72375203292, 1053.49289805746, 1053.49289805746, 3394.36225262143, 9379.747578843639, 15619.3541642496, 22971.43297984365, 47563.780708242884, 80506.78835830995, 113537.24812153622, 142648.6329531858, 184469.04697394941, 263725.06673707534, 317142.03771676484, 428330.2814034432, 499142.0878215217], \"yaxis\": \"y\"}, {\"hoverlabel\": {\"namelength\": 0}, \"hovertemplate\": \"Material=Ferrite<br>Vehicle=carev<br>Year=%{x}<br>Mass=%{y}\", \"legendgroup\": \"Material=Ferrite\", \"line\": {\"color\": \"#FFA15A\"}, \"mode\": \"lines\", \"name\": \"Material=Ferrite\", \"orientation\": \"v\", \"showlegend\": true, \"stackgroup\": \"1\", \"type\": \"scatter\", \"x\": [2000.0, 2001.0, 2002.0, 2003.0, 2004.0, 2005.0, 2006.0, 2007.0, 2008.0, 2009.0, 2010.0, 2011.0, 2012.0, 2013.0, 2014.0, 2015.0, 2016.0, 2017.0], \"xaxis\": \"x\", \"y\": [86.62158554800001, 125.60129904460001, 944.1752824732, 1121.7495328466, 1121.7495328466, 3614.2856569903, 9987.4688136844, 16631.344425216, 24459.7702191165, 50645.475530276904, 85722.8865979395, 120893.41587006621, 151890.95025841802, 196420.9418490061, 280812.02156914514, 337689.9201796006, 456082.13776696834, 531481.8969072249], \"yaxis\": \"y\"}, {\"hoverlabel\": {\"namelength\": 0}, \"hovertemplate\": \"Material=Ethylene Carbonate<br>Vehicle=ebicycle<br>Year=%{x}<br>Mass=%{y}\", \"legendgroup\": \"Material=Ethylene Carbonate\", \"line\": {\"color\": \"#19d3f3\"}, \"mode\": \"lines\", \"name\": \"Material=Ethylene Carbonate\", \"orientation\": \"v\", \"showlegend\": true, \"stackgroup\": \"1\", \"type\": \"scatter\", \"x\": [2012.0, 2013.0, 2014.0, 2015.0, 2016.0, 2017.0], \"xaxis\": \"x\", \"y\": [265600.0, 332000.0, 398400.0, 431600.0, 464800.0, 597600.0], \"yaxis\": \"y\"}, {\"hoverlabel\": {\"namelength\": 0}, \"hovertemplate\": \"Material=GFRP<br>Vehicle=carev<br>Year=%{x}<br>Mass=%{y}\", \"legendgroup\": \"Material=GFRP\", \"line\": {\"color\": \"#FF6692\"}, \"mode\": \"lines\", \"name\": \"Material=GFRP\", \"orientation\": \"v\", \"showlegend\": true, \"stackgroup\": \"1\", \"type\": \"scatter\", \"x\": [2000.0, 2001.0, 2002.0, 2003.0, 2004.0, 2005.0, 2006.0, 2007.0, 2008.0, 2009.0, 2010.0, 2011.0, 2012.0, 2013.0, 2014.0, 2015.0, 2016.0, 2017.0], \"xaxis\": \"x\", \"y\": [100.25648577999999, 145.37190438099998, 1092.795695002, 1298.321490851, 1298.321490851, 4183.2018691705, 11559.572810433998, 19249.245269760002, 28309.9251721275, 58617.4608234215, 99216.32474003249, 139922.964378857, 175799.74781523, 227339.1007425835, 325013.9820137485, 390844.896989041, 527872.9553410006, 615141.2133882014], \"yaxis\": \"y\"}, {\"hoverlabel\": {\"namelength\": 0}, \"hovertemplate\": \"Material=Graphite<br>Vehicle=carev<br>Year=%{x}<br>Mass=%{y}\", \"legendgroup\": \"Material=Graphite\", \"line\": {\"color\": \"#B6E880\"}, \"mode\": \"lines\", \"name\": \"Material=Graphite\", \"orientation\": \"v\", \"showlegend\": true, \"stackgroup\": \"1\", \"type\": \"scatter\", \"x\": [2000.0, 2001.0, 2002.0, 2003.0, 2004.0, 2005.0, 2006.0, 2007.0, 2008.0, 2009.0, 2010.0, 2011.0, 2012.0, 2013.0, 2014.0, 2015.0, 2016.0, 2017.0], \"xaxis\": \"x\", \"y\": [0.8871555884, 1.28637560318, 9.66999591356, 11.48866486978, 11.48866486978, 37.01656692599, 102.28903934252, 170.3338729728, 250.51055927445, 518.69769364777, 877.95134917035, 1238.15869695046, 1555.6273242594, 2011.69183336613, 2876.00316536483, 3458.53170359798, 4671.07378293339, 5443.29836485617], \"yaxis\": \"y\"}, {\"hoverlabel\": {\"namelength\": 0}, \"hovertemplate\": \"Material=Graphite<br>Vehicle=ebicycle<br>Year=%{x}<br>Mass=%{y}\", \"legendgroup\": \"Material=Graphite\", \"line\": {\"color\": \"#B6E880\"}, \"mode\": \"lines\", \"name\": \"Material=Graphite\", \"orientation\": \"v\", \"showlegend\": false, \"stackgroup\": \"1\", \"type\": \"scatter\", \"x\": [2012.0, 2013.0, 2014.0, 2015.0, 2016.0, 2017.0], \"xaxis\": \"x\", \"y\": [329600.0, 412000.00000000006, 494400.00000000006, 535600.0, 576800.0, 741600.0000000001], \"yaxis\": \"y\"}, {\"hoverlabel\": {\"namelength\": 0}, \"hovertemplate\": \"Material=LiMn2O4<br>Vehicle=carev<br>Year=%{x}<br>Mass=%{y}\", \"legendgroup\": \"Material=LiMn2O4\", \"line\": {\"color\": \"#FF97FF\"}, \"mode\": \"lines\", \"name\": \"Material=LiMn2O4\", \"orientation\": \"v\", \"showlegend\": true, \"stackgroup\": \"1\", \"type\": \"scatter\", \"x\": [2000.0, 2001.0, 2002.0, 2003.0, 2004.0, 2005.0, 2006.0, 2007.0, 2008.0, 2009.0, 2010.0, 2011.0, 2012.0, 2013.0, 2014.0, 2015.0, 2016.0, 2017.0], \"xaxis\": \"x\", \"y\": [0.04520239556, 0.06554347356200001, 0.492706111604, 0.585371022502, 0.585371022502, 1.886069954741, 5.211836208068, 8.67885994752, 12.764026446255, 26.428710624043, 44.733420706065, 63.086723363314, 79.26240061446, 102.499822111967, 146.538255986297, 176.21927897088202, 238.000783162401, 277.347208377603], \"yaxis\": \"y\"}, {\"hoverlabel\": {\"namelength\": 0}, \"hovertemplate\": \"Material=LiMn2O4<br>Vehicle=ebicycle<br>Year=%{x}<br>Mass=%{y}\", \"legendgroup\": \"Material=LiMn2O4\", \"line\": {\"color\": \"#FF97FF\"}, \"mode\": \"lines\", \"name\": \"Material=LiMn2O4\", \"orientation\": \"v\", \"showlegend\": false, \"stackgroup\": \"1\", \"type\": \"scatter\", \"x\": [2012.0, 2013.0, 2014.0, 2015.0, 2016.0, 2017.0], \"xaxis\": \"x\", \"y\": [338400.0, 423000.0, 507600.0, 549900.0, 592200.0, 761400.0], \"yaxis\": \"y\"}, {\"hoverlabel\": {\"namelength\": 0}, \"hovertemplate\": \"Material=Silica<br>Vehicle=carev<br>Year=%{x}<br>Mass=%{y}\", \"legendgroup\": \"Material=Silica\", \"line\": {\"color\": \"#FECB52\"}, \"mode\": \"lines\", \"name\": \"Material=Silica\", \"orientation\": \"v\", \"showlegend\": true, \"stackgroup\": \"1\", \"type\": \"scatter\", \"x\": [2000.0, 2001.0, 2002.0, 2003.0, 2004.0, 2005.0, 2006.0, 2007.0, 2008.0, 2009.0, 2010.0, 2011.0, 2012.0, 2013.0, 2014.0, 2015.0, 2016.0, 2017.0], \"xaxis\": \"x\", \"y\": [118.63941412000001, 172.02715047400002, 1293.1696139080002, 1536.380412854, 1536.380412854, 4950.229554157, 13679.124448036, 22778.76751104, 33500.804562135, 69365.49945061101, 117408.530198505, 165579.09831657802, 208034.21265942, 269023.76947315905, 384608.218679569, 462509.82397611404, 624663.2092099771, 727932.8872307311], \"yaxis\": \"y\"}, {\"hoverlabel\": {\"namelength\": 0}, \"hovertemplate\": \"Material=Silica<br>Vehicle=ebicycle<br>Year=%{x}<br>Mass=%{y}\", \"legendgroup\": \"Material=Silica\", \"line\": {\"color\": \"#FECB52\"}, \"mode\": \"lines\", \"name\": \"Material=Silica\", \"orientation\": \"v\", \"showlegend\": false, \"stackgroup\": \"1\", \"type\": \"scatter\", \"x\": [2012.0, 2013.0, 2014.0, 2015.0, 2016.0, 2017.0], \"xaxis\": \"x\", \"y\": [34400.0, 43000.0, 51600.0, 55900.0, 60200.0, 77400.0], \"yaxis\": \"y\"}, {\"hoverlabel\": {\"namelength\": 0}, \"hovertemplate\": \"Material=Lead<br>Vehicle=carev<br>Year=%{x}<br>Mass=%{y}\", \"legendgroup\": \"Material=Lead\", \"line\": {\"color\": \"#636efa\"}, \"mode\": \"lines\", \"name\": \"Material=Lead\", \"orientation\": \"v\", \"showlegend\": true, \"stackgroup\": \"1\", \"type\": \"scatter\", \"x\": [2000.0, 2001.0, 2002.0, 2003.0, 2004.0, 2005.0, 2006.0, 2007.0, 2008.0, 2009.0, 2010.0, 2011.0, 2012.0, 2013.0, 2014.0, 2015.0, 2016.0, 2017.0], \"xaxis\": \"x\", \"y\": [149.106407688, 216.20429114760003, 1625.2598437992, 1930.9279795596, 1930.9279795596, 6221.464860781801, 17191.9688064264, 28628.430276096, 42103.921870899, 87178.7889149814, 147559.428708237, 208100.35788975723, 261458.08588090804, 338109.9624131166, 483376.8801031506, 581283.8750512836, 785078.7854190499, 914868.4579910695], \"yaxis\": \"y\"}, {\"hoverlabel\": {\"namelength\": 0}, \"hovertemplate\": \"Material=Nylon<br>Vehicle=carev<br>Year=%{x}<br>Mass=%{y}\", \"legendgroup\": \"Material=Nylon\", \"line\": {\"color\": \"#EF553B\"}, \"mode\": \"lines\", \"name\": \"Material=Nylon\", \"orientation\": \"v\", \"showlegend\": true, \"stackgroup\": \"1\", \"type\": \"scatter\", \"x\": [2000.0, 2001.0, 2002.0, 2003.0, 2004.0, 2005.0, 2006.0, 2007.0, 2008.0, 2009.0, 2010.0, 2011.0, 2012.0, 2013.0, 2014.0, 2015.0, 2016.0, 2017.0], \"xaxis\": \"x\", \"y\": [212.402421824, 307.9835116448, 2315.1863978816, 2750.6113626208, 2750.6113626208, 8862.4910506064, 24489.9992363072, 40781.264990207994, 59977.13386255199, 124186.3859799472, 210198.74669757596, 296439.44001866557, 372447.64666838397, 481638.42166755674, 688571.4811295888, 828040.2213597728, 1118346.5414482704, 1303232.2295249712], \"yaxis\": \"y\"}, {\"hoverlabel\": {\"namelength\": 0}, \"hovertemplate\": \"Material=Iron<br>Vehicle=carev<br>Year=%{x}<br>Mass=%{y}\", \"legendgroup\": \"Material=Iron\", \"line\": {\"color\": \"#00cc96\"}, \"mode\": \"lines\", \"name\": \"Material=Iron\", \"orientation\": \"v\", \"showlegend\": true, \"stackgroup\": \"1\", \"type\": \"scatter\", \"x\": [2000.0, 2001.0, 2002.0, 2003.0, 2004.0, 2005.0, 2006.0, 2007.0, 2008.0, 2009.0, 2010.0, 2011.0, 2012.0, 2013.0, 2014.0, 2015.0, 2016.0, 2017.0], \"xaxis\": \"x\", \"y\": [10.168116440399999, 14.74376883858, 110.83246920036, 131.67710790318, 131.67710790318, 424.26465847569, 1172.38382557812, 1952.2783565568002, 2871.2218798579497, 5945.04347979087, 10062.62223233085, 14191.131710044261, 17829.7921782414, 23056.966637340032, 32963.25407939973, 39639.89353707738, 53537.42088490509, 62388.25784045127], \"yaxis\": \"y\"}, {\"hoverlabel\": {\"namelength\": 0}, \"hovertemplate\": \"Material=Iron<br>Vehicle=A330<br>Year=%{x}<br>Mass=%{y}\", \"legendgroup\": \"Material=Iron\", \"line\": {\"color\": \"#00cc96\"}, \"mode\": \"lines\", \"name\": \"Material=Iron\", \"orientation\": \"v\", \"showlegend\": false, \"stackgroup\": \"1\", \"type\": \"scatter\", \"x\": [1996.0, 1997.0, 1998.0, 1999.0, 2000.0, 2001.0, 2002.0, 2003.0, 2004.0, 2005.0, 2006.0, 2007.0, 2008.0, 2009.0, 2010.0, 2011.0, 2012.0, 2013.0, 2014.0, 2015.0, 2016.0, 2017.0], \"xaxis\": \"x\", \"y\": [228912.0, 244416.0, 238944.0, 241680.0, 259920.0, 268128.0, 266304.0, 297312.0, 288192.0, 265392.0, 262656.0, 268128.0, 269040.0, 285456.0, 275424.0, 264480.0, 262656.0, 265392.0, 260832.0, 254448.0, 259920.0, 267216.0], \"yaxis\": \"y\"}, {\"hoverlabel\": {\"namelength\": 0}, \"hovertemplate\": \"Material=ABS<br>Vehicle=carev<br>Year=%{x}<br>Mass=%{y}\", \"legendgroup\": \"Material=ABS\", \"line\": {\"color\": \"#ab63fa\"}, \"mode\": \"lines\", \"name\": \"Material=ABS\", \"orientation\": \"v\", \"showlegend\": true, \"stackgroup\": \"1\", \"type\": \"scatter\", \"x\": [2000.0, 2001.0, 2002.0, 2003.0, 2004.0, 2005.0, 2006.0, 2007.0, 2008.0, 2009.0, 2010.0, 2011.0, 2012.0, 2013.0, 2014.0, 2015.0, 2016.0, 2017.0], \"xaxis\": \"x\", \"y\": [261.59449604, 379.312019258, 2851.380006836, 3387.6487237180004, 3387.6487237180004, 10915.030347269001, 30161.845393412004, 50226.14323968001, 73867.745819295, 152947.761972187, 258880.45314358504, 365094.35839822603, 458705.94880614005, 593185.139357903, 848043.5771248731, 1019813.0630871381, 1377353.880412209, 1605058.8094902271], \"yaxis\": \"y\"}, {\"hoverlabel\": {\"namelength\": 0}, \"hovertemplate\": \"Material=Ferrous alloys<br>Vehicle=A330<br>Year=%{x}<br>Mass=%{y}\", \"legendgroup\": \"Material=Ferrous alloys\", \"line\": {\"color\": \"#FFA15A\"}, \"mode\": \"lines\", \"name\": \"Material=Ferrous alloys\", \"orientation\": \"v\", \"showlegend\": true, \"stackgroup\": \"1\", \"type\": \"scatter\", \"x\": [1996.0, 1997.0, 1998.0, 1999.0, 2000.0, 2001.0, 2002.0, 2003.0, 2004.0, 2005.0, 2006.0, 2007.0, 2008.0, 2009.0, 2010.0, 2011.0, 2012.0, 2013.0, 2014.0, 2015.0, 2016.0, 2017.0], \"xaxis\": \"x\", \"y\": [433728.0, 463104.0, 452736.0, 457920.0, 492480.0, 508032.0, 504576.0, 563328.0, 546048.0, 502848.0, 497664.0, 508032.0, 509760.0, 540864.0, 521856.0, 501120.0, 497664.0, 502848.0, 494208.0, 482112.0, 492480.0, 506304.0], \"yaxis\": \"y\"}, {\"hoverlabel\": {\"namelength\": 0}, \"hovertemplate\": \"Material=Polyvinylchloride<br>Vehicle=carev<br>Year=%{x}<br>Mass=%{y}\", \"legendgroup\": \"Material=Polyvinylchloride\", \"line\": {\"color\": \"#19d3f3\"}, \"mode\": \"lines\", \"name\": \"Material=Polyvinylchloride\", \"orientation\": \"v\", \"showlegend\": true, \"stackgroup\": \"1\", \"type\": \"scatter\", \"x\": [2000.0, 2001.0, 2002.0, 2003.0, 2004.0, 2005.0, 2006.0, 2007.0, 2008.0, 2009.0, 2010.0, 2011.0, 2012.0, 2013.0, 2014.0, 2015.0, 2016.0, 2017.0], \"xaxis\": \"x\", \"y\": [580.2811720000001, 841.4076994000001, 6325.0647748, 7514.641177400001, 7514.641177400001, 24212.2319017, 66906.4191316, 111413.98502400001, 163856.8959435, 339275.89423910005, 574260.7548405001, 809869.4177018, 1017523.0351020001, 1315831.0785979, 1881170.0104189, 2262197.1349834003, 3055310.9338437, 3560416.6800111], \"yaxis\": \"y\"}, {\"hoverlabel\": {\"namelength\": 0}, \"hovertemplate\": \"Material=Nickel<br>Vehicle=carev<br>Year=%{x}<br>Mass=%{y}\", \"legendgroup\": \"Material=Nickel\", \"line\": {\"color\": \"#FF6692\"}, \"mode\": \"lines\", \"name\": \"Material=Nickel\", \"orientation\": \"v\", \"showlegend\": true, \"stackgroup\": \"1\", \"type\": \"scatter\", \"x\": [2000.0, 2001.0, 2002.0, 2003.0, 2004.0, 2005.0, 2006.0, 2007.0, 2008.0, 2009.0, 2010.0, 2011.0, 2012.0, 2013.0, 2014.0, 2015.0, 2016.0, 2017.0], \"xaxis\": \"x\", \"y\": [7.656302779999999, 11.101639031, 83.45370030199999, 99.149121001, 99.149121001, 319.4592334955, 882.7717105339999, 1470.01013376, 2161.9484975025, 4476.4488278965, 7576.868638657499, 10685.518974907, 13425.32692473, 17361.2407763585, 24820.3937597735, 29847.713572691, 40312.1568048255, 46976.585559676496], \"yaxis\": \"y\"}, {\"hoverlabel\": {\"namelength\": 0}, \"hovertemplate\": \"Material=Nickel<br>Vehicle=A330<br>Year=%{x}<br>Mass=%{y}\", \"legendgroup\": \"Material=Nickel\", \"line\": {\"color\": \"#FF6692\"}, \"mode\": \"lines\", \"name\": \"Material=Nickel\", \"orientation\": \"v\", \"showlegend\": false, \"stackgroup\": \"1\", \"type\": \"scatter\", \"x\": [1996.0, 1997.0, 1998.0, 1999.0, 2000.0, 2001.0, 2002.0, 2003.0, 2004.0, 2005.0, 2006.0, 2007.0, 2008.0, 2009.0, 2010.0, 2011.0, 2012.0, 2013.0, 2014.0, 2015.0, 2016.0, 2017.0], \"xaxis\": \"x\", \"y\": [739948.0, 790064.0, 772376.0, 781220.0, 840180.0, 866712.0, 860816.0, 961048.0, 931568.0, 857868.0, 849024.0, 866712.0, 869660.0, 922724.0, 890296.0, 854920.0, 849024.0, 857868.0, 843128.0, 822492.0, 840180.0, 863764.0], \"yaxis\": \"y\"}, {\"hoverlabel\": {\"namelength\": 0}, \"hovertemplate\": \"Material=Copper<br>Vehicle=carev<br>Year=%{x}<br>Mass=%{y}\", \"legendgroup\": \"Material=Copper\", \"line\": {\"color\": \"#B6E880\"}, \"mode\": \"lines\", \"name\": \"Material=Copper\", \"orientation\": \"v\", \"showlegend\": true, \"stackgroup\": \"1\", \"type\": \"scatter\", \"x\": [2000.0, 2001.0, 2002.0, 2003.0, 2004.0, 2005.0, 2006.0, 2007.0, 2008.0, 2009.0, 2010.0, 2011.0, 2012.0, 2013.0, 2014.0, 2015.0, 2016.0, 2017.0], \"xaxis\": \"x\", \"y\": [1247.9298486259997, 1809.4982805077, 13602.4353500234, 16160.6915397067, 16160.6915397067, 52069.87293391985, 143886.3115465778, 239602.53093619202, 352384.19100576674, 729633.3842454066, 1234982.5764465053, 1741673.2932348768, 2188244.989565691, 2829774.5264981017, 4045570.181521983, 4864992.118376031, 6570631.43723183, 7656891.973968334], \"yaxis\": \"y\"}, {\"hoverlabel\": {\"namelength\": 0}, \"hovertemplate\": \"Material=Copper<br>Vehicle=ebicycle<br>Year=%{x}<br>Mass=%{y}\", \"legendgroup\": \"Material=Copper\", \"line\": {\"color\": \"#B6E880\"}, \"mode\": \"lines\", \"name\": \"Material=Copper\", \"orientation\": \"v\", \"showlegend\": false, \"stackgroup\": \"1\", \"type\": \"scatter\", \"x\": [2012.0, 2013.0, 2014.0, 2015.0, 2016.0, 2017.0], \"xaxis\": \"x\", \"y\": [678400.0, 848000.0, 1017600.0000000001, 1102400.0, 1187200.0, 1526400.0], \"yaxis\": \"y\"}, {\"hoverlabel\": {\"namelength\": 0}, \"hovertemplate\": \"Material=Glass<br>Vehicle=carev<br>Year=%{x}<br>Mass=%{y}\", \"legendgroup\": \"Material=Glass\", \"line\": {\"color\": \"#FF97FF\"}, \"mode\": \"lines\", \"name\": \"Material=Glass\", \"orientation\": \"v\", \"showlegend\": true, \"stackgroup\": \"1\", \"type\": \"scatter\", \"x\": [2000.0, 2001.0, 2002.0, 2003.0, 2004.0, 2005.0, 2006.0, 2007.0, 2008.0, 2009.0, 2010.0, 2011.0, 2012.0, 2013.0, 2014.0, 2015.0, 2016.0, 2017.0], \"xaxis\": \"x\", \"y\": [1874.0322409720002, 2717.3467494094, 20426.951426594802, 24268.7175205874, 24268.7175205874, 78193.9952545567, 216075.91738407162, 359814.19026662403, 529179.8540444686, 1095699.8004903044, 1854589.1564719155, 2615493.097112572, 3286115.5345444023, 4249508.658822083, 6075284.569589054, 7305820.989817294, 9867201.405971799, 11498452.770125877], \"yaxis\": \"y\"}, {\"hoverlabel\": {\"namelength\": 0}, \"hovertemplate\": \"Material=Titanium<br>Vehicle=carev<br>Year=%{x}<br>Mass=%{y}\", \"legendgroup\": \"Material=Titanium\", \"line\": {\"color\": \"#FECB52\"}, \"mode\": \"lines\", \"name\": \"Material=Titanium\", \"orientation\": \"v\", \"showlegend\": true, \"stackgroup\": \"1\", \"type\": \"scatter\", \"x\": [2000.0, 2001.0, 2002.0, 2003.0, 2004.0, 2005.0, 2006.0, 2007.0, 2008.0, 2009.0, 2010.0, 2011.0, 2012.0, 2013.0, 2014.0, 2015.0, 2016.0, 2017.0], \"xaxis\": \"x\", \"y\": [12.379164932, 17.9497891514, 134.9328977588, 160.3101858694, 160.3101858694, 516.5206567877, 1427.3177166596, 2376.799666944, 3495.5666976735, 7237.7882566171, 12250.731095830499, 17276.9815373458, 21706.865708262, 28070.684920679898, 40131.0863556809, 48259.5555291554, 65179.0886790897, 75954.5327941491], \"yaxis\": \"y\"}, {\"hoverlabel\": {\"namelength\": 0}, \"hovertemplate\": \"Material=Titanium<br>Vehicle=A330<br>Year=%{x}<br>Mass=%{y}\", \"legendgroup\": \"Material=Titanium\", \"line\": {\"color\": \"#FECB52\"}, \"mode\": \"lines\", \"name\": \"Material=Titanium\", \"orientation\": \"v\", \"showlegend\": false, \"stackgroup\": \"1\", \"type\": \"scatter\", \"x\": [1996.0, 1997.0, 1998.0, 1999.0, 2000.0, 2001.0, 2002.0, 2003.0, 2004.0, 2005.0, 2006.0, 2007.0, 2008.0, 2009.0, 2010.0, 2011.0, 2012.0, 2013.0, 2014.0, 2015.0, 2016.0, 2017.0], \"xaxis\": \"x\", \"y\": [1961765.8000000003, 2094634.3999999997, 2047739.5999999999, 2071186.9999999998, 2227503.0, 2297845.2, 2282213.5999999996, 2547950.8, 2469792.8000000003, 2274397.8, 2250950.4000000004, 2297845.2000000007, 2305661.0, 2446345.4000000004, 2360371.5999999996, 2266581.9999999995, 2250950.3999999994, 2274397.8, 2235318.7999999993, 2180608.2, 2227502.999999999, 2290029.3999999994], \"yaxis\": \"y\"}, {\"hoverlabel\": {\"namelength\": 0}, \"hovertemplate\": \"Material=Titanium<br>Vehicle=B747<br>Year=%{x}<br>Mass=%{y}\", \"legendgroup\": \"Material=Titanium\", \"line\": {\"color\": \"#FECB52\"}, \"mode\": \"lines\", \"name\": \"Material=Titanium\", \"orientation\": \"v\", \"showlegend\": false, \"stackgroup\": \"1\", \"type\": \"scatter\", \"x\": [1996.0, 1997.0, 1998.0, 1999.0, 2000.0, 2001.0, 2002.0, 2003.0, 2004.0, 2005.0, 2006.0, 2007.0, 2008.0, 2009.0, 2010.0, 2011.0, 2012.0, 2013.0, 2014.0, 2015.0, 2016.0, 2017.0], \"xaxis\": \"x\", \"y\": [249560.0, 278920.0, 271580.0, 271580.0, 278920.0, 278920.0, 271580.0, 249560.0, 212860.0, 212860.0, 220200.0, 220200.0, 220200.0, 220200.0, 205520.0, 205520.0, 198180.0, 212860.0, 212860.0, 205520.0, 190840.0, 154140.0], \"yaxis\": \"y\"}, {\"hoverlabel\": {\"namelength\": 0}, \"hovertemplate\": \"Material=Polyurethane<br>Vehicle=carev<br>Year=%{x}<br>Mass=%{y}\", \"legendgroup\": \"Material=Polyurethane\", \"line\": {\"color\": \"#636efa\"}, \"mode\": \"lines\", \"name\": \"Material=Polyurethane\", \"orientation\": \"v\", \"showlegend\": true, \"stackgroup\": \"1\", \"type\": \"scatter\", \"x\": [2000.0, 2001.0, 2002.0, 2003.0, 2004.0, 2005.0, 2006.0, 2007.0, 2008.0, 2009.0, 2010.0, 2011.0, 2012.0, 2013.0, 2014.0, 2015.0, 2016.0, 2017.0], \"xaxis\": \"x\", \"y\": [1633.2107176, 2368.1555405199997, 17801.99682184, 21150.078792919998, 21150.078792919998, 68145.71719185999, 188309.19573928, 313576.4577792, 461177.8763823, 954897.4763127799, 1616266.1564049, 2279390.53801844, 2863834.9933116, 3703427.79296182, 5294583.33458362, 6366990.32202772, 8599221.900575459, 10020850.16971038], \"yaxis\": \"y\"}, {\"hoverlabel\": {\"namelength\": 0}, \"hovertemplate\": \"Material=Polyurethane<br>Vehicle=ebicycle<br>Year=%{x}<br>Mass=%{y}\", \"legendgroup\": \"Material=Polyurethane\", \"line\": {\"color\": \"#636efa\"}, \"mode\": \"lines\", \"name\": \"Material=Polyurethane\", \"orientation\": \"v\", \"showlegend\": false, \"stackgroup\": \"1\", \"type\": \"scatter\", \"x\": [2012.0, 2013.0, 2014.0, 2015.0, 2016.0, 2017.0], \"xaxis\": \"x\", \"y\": [24000.0, 30000.0, 36000.0, 39000.0, 42000.0, 54000.0], \"yaxis\": \"y\"}, {\"hoverlabel\": {\"namelength\": 0}, \"hovertemplate\": \"Material=Polyurethane<br>Vehicle=bicycle<br>Year=%{x}<br>Mass=%{y}\", \"legendgroup\": \"Material=Polyurethane\", \"line\": {\"color\": \"#636efa\"}, \"mode\": \"lines\", \"name\": \"Material=Polyurethane\", \"orientation\": \"v\", \"showlegend\": false, \"stackgroup\": \"1\", \"type\": \"scatter\", \"x\": [1996.0, 1997.0, 1998.0, 1999.0, 2000.0, 2001.0, 2002.0, 2003.0, 2004.0, 2005.0, 2006.0, 2007.0, 2008.0, 2009.0, 2010.0, 2011.0, 2012.0, 2013.0, 2014.0, 2015.0, 2016.0, 2017.0], \"xaxis\": \"x\", \"y\": [480000.0, 501000.0, 495000.0, 495000.0, 534000.0, 534000.0, 534000.0, 540000.0, 540000.0, 540000.0, 540000.0, 540000.0, 540000.0, 540000.0, 570000.0, 600000.0, 624000.0, 669000.0, 675000.0, 681000.0, 684000.0, 684000.0], \"yaxis\": \"y\"}, {\"hoverlabel\": {\"namelength\": 0}, \"hovertemplate\": \"Material=Polypropylene<br>Vehicle=carev<br>Year=%{x}<br>Mass=%{y}\", \"legendgroup\": \"Material=Polypropylene\", \"line\": {\"color\": \"#EF553B\"}, \"mode\": \"lines\", \"name\": \"Material=Polypropylene\", \"orientation\": \"v\", \"showlegend\": true, \"stackgroup\": \"1\", \"type\": \"scatter\", \"x\": [2000.0, 2001.0, 2002.0, 2003.0, 2004.0, 2005.0, 2006.0, 2007.0, 2008.0, 2009.0, 2010.0, 2011.0, 2012.0, 2013.0, 2014.0, 2015.0, 2016.0, 2017.0], \"xaxis\": \"x\", \"y\": [2867.8919112, 4158.44327124, 31260.02183208, 37139.20025004, 37139.20025004, 119662.78999481999, 330667.93736136, 550635.2469504, 809820.9784251, 1676784.70318086, 2838137.5326213, 4002573.34586628, 5028848.4662892, 6503160.00053934, 9297203.69502594, 11180333.22121764, 15100096.18814802, 17596452.70225206], \"yaxis\": \"y\"}, {\"hoverlabel\": {\"namelength\": 0}, \"hovertemplate\": \"Material=Composites<br>Vehicle=A330<br>Year=%{x}<br>Mass=%{y}\", \"legendgroup\": \"Material=Composites\", \"line\": {\"color\": \"#00cc96\"}, \"mode\": \"lines\", \"name\": \"Material=Composites\", \"orientation\": \"v\", \"showlegend\": true, \"stackgroup\": \"1\", \"type\": \"scatter\", \"x\": [1996.0, 1997.0, 1998.0, 1999.0, 2000.0, 2001.0, 2002.0, 2003.0, 2004.0, 2005.0, 2006.0, 2007.0, 2008.0, 2009.0, 2010.0, 2011.0, 2012.0, 2013.0, 2014.0, 2015.0, 2016.0, 2017.0], \"xaxis\": \"x\", \"y\": [3037049.8000000003, 3242746.4, 3170147.6, 3206447.0, 3448443.0, 3557341.1999999997, 3533141.6, 3944534.8000000003, 3823536.8000000003, 3521041.8000000003, 3484742.4, 3557341.2, 3569440.9999999995, 3787237.3999999994, 3654139.6, 3508942.0, 3484742.4, 3521041.8000000003, 3460542.8, 3375844.2, 3448442.9999999995, 3545241.4], \"yaxis\": \"y\"}, {\"hoverlabel\": {\"namelength\": 0}, \"hovertemplate\": \"Material=Composites<br>Vehicle=B747<br>Year=%{x}<br>Mass=%{y}\", \"legendgroup\": \"Material=Composites\", \"line\": {\"color\": \"#00cc96\"}, \"mode\": \"lines\", \"name\": \"Material=Composites\", \"orientation\": \"v\", \"showlegend\": false, \"stackgroup\": \"1\", \"type\": \"scatter\", \"x\": [1996.0, 1997.0, 1998.0, 1999.0, 2000.0, 2001.0, 2002.0, 2003.0, 2004.0, 2005.0, 2006.0, 2007.0, 2008.0, 2009.0, 2010.0, 2011.0, 2012.0, 2013.0, 2014.0, 2015.0, 2016.0, 2017.0], \"xaxis\": \"x\", \"y\": [62390.0, 69730.0, 67895.0, 67895.0, 69730.0, 69730.0, 67895.0, 62390.0, 53215.0, 53215.0, 55050.0, 55050.0, 55050.0, 55050.0, 51380.0, 51380.0, 49545.0, 53215.0, 53215.0, 51380.0, 47710.0, 38535.0], \"yaxis\": \"y\"}, {\"hoverlabel\": {\"namelength\": 0}, \"hovertemplate\": \"Material=Rubber<br>Vehicle=carev<br>Year=%{x}<br>Mass=%{y}\", \"legendgroup\": \"Material=Rubber\", \"line\": {\"color\": \"#ab63fa\"}, \"mode\": \"lines\", \"name\": \"Material=Rubber\", \"orientation\": \"v\", \"showlegend\": true, \"stackgroup\": \"1\", \"type\": \"scatter\", \"x\": [2000.0, 2001.0, 2002.0, 2003.0, 2004.0, 2005.0, 2006.0, 2007.0, 2008.0, 2009.0, 2010.0, 2011.0, 2012.0, 2013.0, 2014.0, 2015.0, 2016.0, 2017.0], \"xaxis\": \"x\", \"y\": [2644.0230816000003, 3833.83346832, 28819.85158944, 34240.09890672, 34240.09890672, 110321.86307976, 304855.86130848003, 507652.43166720006, 746606.0176668001, 1545894.19523448, 2616591.3421284, 3690130.81383504, 4636294.4735856, 5995520.63925912, 8571460.126507921, 10307591.78246352, 13921376.429817362, 16222866.321196081], \"yaxis\": \"y\"}, {\"hoverlabel\": {\"namelength\": 0}, \"hovertemplate\": \"Material=Rubber<br>Vehicle=ebicycle<br>Year=%{x}<br>Mass=%{y}\", \"legendgroup\": \"Material=Rubber\", \"line\": {\"color\": \"#ab63fa\"}, \"mode\": \"lines\", \"name\": \"Material=Rubber\", \"orientation\": \"v\", \"showlegend\": false, \"stackgroup\": \"1\", \"type\": \"scatter\", \"x\": [2012.0, 2013.0, 2014.0, 2015.0, 2016.0, 2017.0], \"xaxis\": \"x\", \"y\": [450399.99999999994, 563000.0, 675599.9999999999, 731899.9999999999, 788199.9999999999, 1013399.9999999999], \"yaxis\": \"y\"}, {\"hoverlabel\": {\"namelength\": 0}, \"hovertemplate\": \"Material=Rubber<br>Vehicle=bicycle<br>Year=%{x}<br>Mass=%{y}\", \"legendgroup\": \"Material=Rubber\", \"line\": {\"color\": \"#ab63fa\"}, \"mode\": \"lines\", \"name\": \"Material=Rubber\", \"orientation\": \"v\", \"showlegend\": false, \"stackgroup\": \"1\", \"type\": \"scatter\", \"x\": [1996.0, 1997.0, 1998.0, 1999.0, 2000.0, 2001.0, 2002.0, 2003.0, 2004.0, 2005.0, 2006.0, 2007.0, 2008.0, 2009.0, 2010.0, 2011.0, 2012.0, 2013.0, 2014.0, 2015.0, 2016.0, 2017.0], \"xaxis\": \"x\", \"y\": [9008000.0, 9402100.0, 9289500.0, 9289500.0, 10021399.999999998, 10021399.999999998, 10021399.999999998, 10133999.999999998, 10133999.999999998, 10133999.999999998, 10133999.999999998, 10133999.999999998, 10133999.999999998, 10133999.999999998, 10696999.999999998, 11259999.999999998, 11710399.999999998, 12554899.999999998, 12667499.999999998, 12780099.999999998, 12836399.999999998, 12836399.999999998], \"yaxis\": \"y\"}, {\"hoverlabel\": {\"namelength\": 0}, \"hovertemplate\": \"Material=Polyethylene<br>Vehicle=carev<br>Year=%{x}<br>Mass=%{y}\", \"legendgroup\": \"Material=Polyethylene\", \"line\": {\"color\": \"#FFA15A\"}, \"mode\": \"lines\", \"name\": \"Material=Polyethylene\", \"orientation\": \"v\", \"showlegend\": true, \"stackgroup\": \"1\", \"type\": \"scatter\", \"x\": [2000.0, 2001.0, 2002.0, 2003.0, 2004.0, 2005.0, 2006.0, 2007.0, 2008.0, 2009.0, 2010.0, 2011.0, 2012.0, 2013.0, 2014.0, 2015.0, 2016.0, 2017.0], \"xaxis\": \"x\", \"y\": [1078.4960208512, 1563.8192302342402, 11755.60662727808, 13966.52347002304, 13966.52347002304, 45000.24647001632, 124350.59120414336, 207071.23600343041, 304540.3138878576, 630569.6609911753, 1067306.6246348685, 1505202.971500977, 1891142.7725625793, 2445570.6144816596, 3496295.3627959415, 4204462.812487361, 5678524.21138626, 6617301.072736186], \"yaxis\": \"y\"}, {\"hoverlabel\": {\"namelength\": 0}, \"hovertemplate\": \"Material=Polyethylene<br>Vehicle=ebicycle<br>Year=%{x}<br>Mass=%{y}\", \"legendgroup\": \"Material=Polyethylene\", \"line\": {\"color\": \"#FFA15A\"}, \"mode\": \"lines\", \"name\": \"Material=Polyethylene\", \"orientation\": \"v\", \"showlegend\": false, \"stackgroup\": \"1\", \"type\": \"scatter\", \"x\": [2012.0, 2013.0, 2014.0, 2015.0, 2016.0, 2017.0], \"xaxis\": \"x\", \"y\": [1747200.0, 2184000.0, 2620800.0, 2839200.0, 3057600.0, 3931200.0], \"yaxis\": \"y\"}, {\"hoverlabel\": {\"namelength\": 0}, \"hovertemplate\": \"Material=Polyethylene<br>Vehicle=bicycle<br>Year=%{x}<br>Mass=%{y}\", \"legendgroup\": \"Material=Polyethylene\", \"line\": {\"color\": \"#FFA15A\"}, \"mode\": \"lines\", \"name\": \"Material=Polyethylene\", \"orientation\": \"v\", \"showlegend\": false, \"stackgroup\": \"1\", \"type\": \"scatter\", \"x\": [1996.0, 1997.0, 1998.0, 1999.0, 2000.0, 2001.0, 2002.0, 2003.0, 2004.0, 2005.0, 2006.0, 2007.0, 2008.0, 2009.0, 2010.0, 2011.0, 2012.0, 2013.0, 2014.0, 2015.0, 2016.0, 2017.0], \"xaxis\": \"x\", \"y\": [31360000.0, 32732000.0, 32340000.0, 32340000.0, 34888000.0, 34888000.0, 34888000.0, 35280000.0, 35280000.0, 35280000.0, 35280000.0, 35280000.0, 35280000.0, 35280000.0, 37240000.0, 39200000.0, 40768000.0, 43708000.0, 44100000.0, 44492000.0, 44688000.0, 44688000.0], \"yaxis\": \"y\"}, {\"hoverlabel\": {\"namelength\": 0}, \"hovertemplate\": \"Material=Aluminium<br>Vehicle=carev<br>Year=%{x}<br>Mass=%{y}\", \"legendgroup\": \"Material=Aluminium\", \"line\": {\"color\": \"#19d3f3\"}, \"mode\": \"lines\", \"name\": \"Material=Aluminium\", \"orientation\": \"v\", \"showlegend\": true, \"stackgroup\": \"1\", \"type\": \"scatter\", \"x\": [2000.0, 2001.0, 2002.0, 2003.0, 2004.0, 2005.0, 2006.0, 2007.0, 2008.0, 2009.0, 2010.0, 2011.0, 2012.0, 2013.0, 2014.0, 2015.0, 2016.0, 2017.0], \"xaxis\": \"x\", \"y\": [2195.09016080156, 3182.880733162262, 23926.482752737, 28426.417582380207, 28426.417582380207, 91590.13695944508, 253093.89554041985, 421457.3108738995, 619838.5841563406, 1283414.3397666519, 2172316.100383244, 3063577.5829226975, 3849090.596965535, 4977531.571379597, 7116098.160540519, 8557449.23737684, 11557643.591906395, 13468359.822376112], \"yaxis\": \"y\"}, {\"hoverlabel\": {\"namelength\": 0}, \"hovertemplate\": \"Material=Aluminium<br>Vehicle=ebicycle<br>Year=%{x}<br>Mass=%{y}\", \"legendgroup\": \"Material=Aluminium\", \"line\": {\"color\": \"#19d3f3\"}, \"mode\": \"lines\", \"name\": \"Material=Aluminium\", \"orientation\": \"v\", \"showlegend\": false, \"stackgroup\": \"1\", \"type\": \"scatter\", \"x\": [2012.0, 2013.0, 2014.0, 2015.0, 2016.0, 2017.0], \"xaxis\": \"x\", \"y\": [6844800.0, 8556000.0, 10267200.0, 11122800.0, 11978400.0, 15400800.0], \"yaxis\": \"y\"}, {\"hoverlabel\": {\"namelength\": 0}, \"hovertemplate\": \"Material=Aluminium<br>Vehicle=A330<br>Year=%{x}<br>Mass=%{y}\", \"legendgroup\": \"Material=Aluminium\", \"line\": {\"color\": \"#19d3f3\"}, \"mode\": \"lines\", \"name\": \"Material=Aluminium\", \"orientation\": \"v\", \"showlegend\": false, \"stackgroup\": \"1\", \"type\": \"scatter\", \"x\": [1996.0, 1997.0, 1998.0, 1999.0, 2000.0, 2001.0, 2002.0, 2003.0, 2004.0, 2005.0, 2006.0, 2007.0, 2008.0, 2009.0, 2010.0, 2011.0, 2012.0, 2013.0, 2014.0, 2015.0, 2016.0, 2017.0], \"xaxis\": \"x\", \"y\": [15509164.5, 16559585.999999998, 16188849.0, 16374217.5, 17610007.5, 18166113.0, 18042534.0, 20143377.0, 19525481.999999996, 17980744.499999996, 17795376.0, 18166113.000000004, 18227902.500000004, 19340113.5, 18660429.0, 17918955.0, 17795376.0, 17980744.5, 17671796.999999996, 17239270.5, 17610007.499999996, 18104323.5], \"yaxis\": \"y\"}, {\"hoverlabel\": {\"namelength\": 0}, \"hovertemplate\": \"Material=Aluminium<br>Vehicle=B747<br>Year=%{x}<br>Mass=%{y}\", \"legendgroup\": \"Material=Aluminium\", \"line\": {\"color\": \"#19d3f3\"}, \"mode\": \"lines\", \"name\": \"Material=Aluminium\", \"orientation\": \"v\", \"showlegend\": false, \"stackgroup\": \"1\", \"type\": \"scatter\", \"x\": [1996.0, 1997.0, 1998.0, 1999.0, 2000.0, 2001.0, 2002.0, 2003.0, 2004.0, 2005.0, 2006.0, 2007.0, 2008.0, 2009.0, 2010.0, 2011.0, 2012.0, 2013.0, 2014.0, 2015.0, 2016.0, 2017.0], \"xaxis\": \"x\", \"y\": [5053590.0, 5648130.0, 5499495.0, 5499495.0, 5648130.0, 5648130.0, 5499495.0, 5053590.0, 4310415.0, 4310415.0, 4459050.0, 4459050.0, 4459050.0, 4459050.0, 4161780.0, 4161780.0, 4013145.0, 4310415.0, 4310415.0, 4161780.0, 3864510.0, 3121335.0], \"yaxis\": \"y\"}, {\"hoverlabel\": {\"namelength\": 0}, \"hovertemplate\": \"Material=Aluminium<br>Vehicle=bicycle<br>Year=%{x}<br>Mass=%{y}\", \"legendgroup\": \"Material=Aluminium\", \"line\": {\"color\": \"#19d3f3\"}, \"mode\": \"lines\", \"name\": \"Material=Aluminium\", \"orientation\": \"v\", \"showlegend\": false, \"stackgroup\": \"1\", \"type\": \"scatter\", \"x\": [1996.0, 1997.0, 1998.0, 1999.0, 2000.0, 2001.0, 2002.0, 2003.0, 2004.0, 2005.0, 2006.0, 2007.0, 2008.0, 2009.0, 2010.0, 2011.0, 2012.0, 2013.0, 2014.0, 2015.0, 2016.0, 2017.0], \"xaxis\": \"x\", \"y\": [120480000.0, 125751000.0, 124245000.0, 124245000.0, 134034000.0, 134034000.0, 134034000.0, 135540000.0, 135540000.0, 135540000.0, 135540000.0, 135540000.0, 135540000.0, 135540000.0, 143070000.0, 150600000.0, 156624000.0, 167919000.0, 169425000.0, 170931000.0, 171684000.0, 171684000.0], \"yaxis\": \"y\"}, {\"hoverlabel\": {\"namelength\": 0}, \"hovertemplate\": \"Material=Steel<br>Vehicle=carev<br>Year=%{x}<br>Mass=%{y}\", \"legendgroup\": \"Material=Steel\", \"line\": {\"color\": \"#FF6692\"}, \"mode\": \"lines\", \"name\": \"Material=Steel\", \"orientation\": \"v\", \"showlegend\": true, \"stackgroup\": \"1\", \"type\": \"scatter\", \"x\": [2000.0, 2001.0, 2002.0, 2003.0, 2004.0, 2005.0, 2006.0, 2007.0, 2008.0, 2009.0, 2010.0, 2011.0, 2012.0, 2013.0, 2014.0, 2015.0, 2016.0, 2017.0], \"xaxis\": \"x\", \"y\": [49336.455100672, 71537.85989597443, 537767.3605973249, 638907.0935537023, 638907.0935537023, 2058563.5890755393, 5688493.27310748, 9472599.379329026, 13931381.509052254, 28845791.885985404, 48824589.37900251, 68856423.56125288, 86511474.01902835, 111874112.17490631, 159940153.55673602, 192335703.38721475, 259767536.80743572, 302712454.1498156], \"yaxis\": \"y\"}, {\"hoverlabel\": {\"namelength\": 0}, \"hovertemplate\": \"Material=Steel<br>Vehicle=ebicycle<br>Year=%{x}<br>Mass=%{y}\", \"legendgroup\": \"Material=Steel\", \"line\": {\"color\": \"#FF6692\"}, \"mode\": \"lines\", \"name\": \"Material=Steel\", \"orientation\": \"v\", \"showlegend\": false, \"stackgroup\": \"1\", \"type\": \"scatter\", \"x\": [2012.0, 2013.0, 2014.0, 2015.0, 2016.0, 2017.0], \"xaxis\": \"x\", \"y\": [8133600.0, 10167000.0, 12200400.0, 13217100.0, 14233800.0, 18300600.0], \"yaxis\": \"y\"}, {\"hoverlabel\": {\"namelength\": 0}, \"hovertemplate\": \"Material=Steel<br>Vehicle=A330<br>Year=%{x}<br>Mass=%{y}\", \"legendgroup\": \"Material=Steel\", \"line\": {\"color\": \"#FF6692\"}, \"mode\": \"lines\", \"name\": \"Material=Steel\", \"orientation\": \"v\", \"showlegend\": false, \"stackgroup\": \"1\", \"type\": \"scatter\", \"x\": [1996.0, 1997.0, 1998.0, 1999.0, 2000.0, 2001.0, 2002.0, 2003.0, 2004.0, 2005.0, 2006.0, 2007.0, 2008.0, 2009.0, 2010.0, 2011.0, 2012.0, 2013.0, 2014.0, 2015.0, 2016.0, 2017.0], \"xaxis\": \"x\", \"y\": [3102109.0, 3312212.0000000005, 3238058.0, 3275135.0, 3522315.0000000005, 3633545.9999999995, 3608828.0000000005, 4029033.9999999995, 3905444.0000000005, 3596469.0000000005, 3559391.9999999995, 3633545.999999999, 3645904.9999999995, 3868367.0000000005, 3732418.0, 3584110.0000000005, 3559392.0000000005, 3596469.0, 3534674.000000001, 3448161.0, 3522315.000000001, 3621187.0000000005], \"yaxis\": \"y\"}, {\"hoverlabel\": {\"namelength\": 0}, \"hovertemplate\": \"Material=Steel<br>Vehicle=B747<br>Year=%{x}<br>Mass=%{y}\", \"legendgroup\": \"Material=Steel\", \"line\": {\"color\": \"#FF6692\"}, \"mode\": \"lines\", \"name\": \"Material=Steel\", \"orientation\": \"v\", \"showlegend\": false, \"stackgroup\": \"1\", \"type\": \"scatter\", \"x\": [1996.0, 1997.0, 1998.0, 1999.0, 2000.0, 2001.0, 2002.0, 2003.0, 2004.0, 2005.0, 2006.0, 2007.0, 2008.0, 2009.0, 2010.0, 2011.0, 2012.0, 2013.0, 2014.0, 2015.0, 2016.0, 2017.0], \"xaxis\": \"x\", \"y\": [811070.0, 906490.0, 882635.0, 882635.0, 906490.0, 906490.0, 882635.0, 811070.0, 691795.0, 691795.0, 715650.0, 715650.0, 715650.0, 715650.0, 667940.0, 667940.0, 644085.0, 691795.0, 691795.0, 667940.0, 620230.0, 500955.0], \"yaxis\": \"y\"}, {\"hoverlabel\": {\"namelength\": 0}, \"hovertemplate\": \"Material=Steel<br>Vehicle=bicycle<br>Year=%{x}<br>Mass=%{y}\", \"legendgroup\": \"Material=Steel\", \"line\": {\"color\": \"#FF6692\"}, \"mode\": \"lines\", \"name\": \"Material=Steel\", \"orientation\": \"v\", \"showlegend\": false, \"stackgroup\": \"1\", \"type\": \"scatter\", \"x\": [1996.0, 1997.0, 1998.0, 1999.0, 2000.0, 2001.0, 2002.0, 2003.0, 2004.0, 2005.0, 2006.0, 2007.0, 2008.0, 2009.0, 2010.0, 2011.0, 2012.0, 2013.0, 2014.0, 2015.0, 2016.0, 2017.0], \"xaxis\": \"x\", \"y\": [103840000.0, 108383000.0, 107085000.0, 107085000.0, 115522000.0, 115522000.0, 115522000.0, 116820000.0, 116820000.0, 116820000.0, 116820000.0, 116820000.0, 116820000.0, 116820000.0, 123310000.0, 129800000.0, 134992000.0, 144727000.0, 146025000.0, 147323000.0, 147972000.0, 147972000.0], \"yaxis\": \"y\"}],\n",
       "                        {\"height\": 600, \"legend\": {\"font\": {\"size\": 10}, \"tracegroupgap\": 0, \"traceorder\": \"reversed\", \"y\": 0.5}, \"margin\": {\"t\": 60}, \"template\": {\"data\": {\"bar\": [{\"error_x\": {\"color\": \"#2a3f5f\"}, \"error_y\": {\"color\": \"#2a3f5f\"}, \"marker\": {\"line\": {\"color\": \"#E5ECF6\", \"width\": 0.5}}, \"type\": \"bar\"}], \"barpolar\": [{\"marker\": {\"line\": {\"color\": \"#E5ECF6\", \"width\": 0.5}}, \"type\": \"barpolar\"}], \"carpet\": [{\"aaxis\": {\"endlinecolor\": \"#2a3f5f\", \"gridcolor\": \"white\", \"linecolor\": \"white\", \"minorgridcolor\": \"white\", \"startlinecolor\": \"#2a3f5f\"}, \"baxis\": {\"endlinecolor\": \"#2a3f5f\", \"gridcolor\": \"white\", \"linecolor\": \"white\", \"minorgridcolor\": \"white\", \"startlinecolor\": \"#2a3f5f\"}, \"type\": \"carpet\"}], \"choropleth\": [{\"colorbar\": {\"outlinewidth\": 0, \"ticks\": \"\"}, \"type\": \"choropleth\"}], \"contour\": [{\"colorbar\": {\"outlinewidth\": 0, \"ticks\": \"\"}, \"colorscale\": [[0.0, \"#0d0887\"], [0.1111111111111111, \"#46039f\"], [0.2222222222222222, \"#7201a8\"], [0.3333333333333333, \"#9c179e\"], [0.4444444444444444, \"#bd3786\"], [0.5555555555555556, \"#d8576b\"], [0.6666666666666666, \"#ed7953\"], [0.7777777777777778, \"#fb9f3a\"], [0.8888888888888888, \"#fdca26\"], [1.0, \"#f0f921\"]], \"type\": \"contour\"}], \"contourcarpet\": [{\"colorbar\": {\"outlinewidth\": 0, \"ticks\": \"\"}, \"type\": \"contourcarpet\"}], \"heatmap\": [{\"colorbar\": {\"outlinewidth\": 0, \"ticks\": \"\"}, \"colorscale\": [[0.0, \"#0d0887\"], [0.1111111111111111, \"#46039f\"], [0.2222222222222222, \"#7201a8\"], [0.3333333333333333, \"#9c179e\"], [0.4444444444444444, \"#bd3786\"], [0.5555555555555556, \"#d8576b\"], [0.6666666666666666, \"#ed7953\"], [0.7777777777777778, \"#fb9f3a\"], [0.8888888888888888, \"#fdca26\"], [1.0, \"#f0f921\"]], \"type\": \"heatmap\"}], \"heatmapgl\": [{\"colorbar\": {\"outlinewidth\": 0, \"ticks\": \"\"}, \"colorscale\": [[0.0, \"#0d0887\"], [0.1111111111111111, \"#46039f\"], [0.2222222222222222, \"#7201a8\"], [0.3333333333333333, \"#9c179e\"], [0.4444444444444444, \"#bd3786\"], [0.5555555555555556, \"#d8576b\"], [0.6666666666666666, \"#ed7953\"], [0.7777777777777778, \"#fb9f3a\"], [0.8888888888888888, \"#fdca26\"], [1.0, \"#f0f921\"]], \"type\": \"heatmapgl\"}], \"histogram\": [{\"marker\": {\"colorbar\": {\"outlinewidth\": 0, \"ticks\": \"\"}}, \"type\": \"histogram\"}], \"histogram2d\": [{\"colorbar\": {\"outlinewidth\": 0, \"ticks\": \"\"}, \"colorscale\": [[0.0, \"#0d0887\"], [0.1111111111111111, \"#46039f\"], [0.2222222222222222, \"#7201a8\"], [0.3333333333333333, \"#9c179e\"], [0.4444444444444444, \"#bd3786\"], [0.5555555555555556, \"#d8576b\"], [0.6666666666666666, \"#ed7953\"], [0.7777777777777778, \"#fb9f3a\"], [0.8888888888888888, \"#fdca26\"], [1.0, \"#f0f921\"]], \"type\": \"histogram2d\"}], \"histogram2dcontour\": [{\"colorbar\": {\"outlinewidth\": 0, \"ticks\": \"\"}, \"colorscale\": [[0.0, \"#0d0887\"], [0.1111111111111111, \"#46039f\"], [0.2222222222222222, \"#7201a8\"], [0.3333333333333333, \"#9c179e\"], [0.4444444444444444, \"#bd3786\"], [0.5555555555555556, \"#d8576b\"], [0.6666666666666666, \"#ed7953\"], [0.7777777777777778, \"#fb9f3a\"], [0.8888888888888888, \"#fdca26\"], [1.0, \"#f0f921\"]], \"type\": \"histogram2dcontour\"}], \"mesh3d\": [{\"colorbar\": {\"outlinewidth\": 0, \"ticks\": \"\"}, \"type\": \"mesh3d\"}], \"parcoords\": [{\"line\": {\"colorbar\": {\"outlinewidth\": 0, \"ticks\": \"\"}}, \"type\": \"parcoords\"}], \"scatter\": [{\"marker\": {\"colorbar\": {\"outlinewidth\": 0, \"ticks\": \"\"}}, \"type\": \"scatter\"}], \"scatter3d\": [{\"line\": {\"colorbar\": {\"outlinewidth\": 0, \"ticks\": \"\"}}, \"marker\": {\"colorbar\": {\"outlinewidth\": 0, \"ticks\": \"\"}}, \"type\": \"scatter3d\"}], \"scattercarpet\": [{\"marker\": {\"colorbar\": {\"outlinewidth\": 0, \"ticks\": \"\"}}, \"type\": \"scattercarpet\"}], \"scattergeo\": [{\"marker\": {\"colorbar\": {\"outlinewidth\": 0, \"ticks\": \"\"}}, \"type\": \"scattergeo\"}], \"scattergl\": [{\"marker\": {\"colorbar\": {\"outlinewidth\": 0, \"ticks\": \"\"}}, \"type\": \"scattergl\"}], \"scattermapbox\": [{\"marker\": {\"colorbar\": {\"outlinewidth\": 0, \"ticks\": \"\"}}, \"type\": \"scattermapbox\"}], \"scatterpolar\": [{\"marker\": {\"colorbar\": {\"outlinewidth\": 0, \"ticks\": \"\"}}, \"type\": \"scatterpolar\"}], \"scatterpolargl\": [{\"marker\": {\"colorbar\": {\"outlinewidth\": 0, \"ticks\": \"\"}}, \"type\": \"scatterpolargl\"}], \"scatterternary\": [{\"marker\": {\"colorbar\": {\"outlinewidth\": 0, \"ticks\": \"\"}}, \"type\": \"scatterternary\"}], \"surface\": [{\"colorbar\": {\"outlinewidth\": 0, \"ticks\": \"\"}, \"colorscale\": [[0.0, \"#0d0887\"], [0.1111111111111111, \"#46039f\"], [0.2222222222222222, \"#7201a8\"], [0.3333333333333333, \"#9c179e\"], [0.4444444444444444, \"#bd3786\"], [0.5555555555555556, \"#d8576b\"], [0.6666666666666666, \"#ed7953\"], [0.7777777777777778, \"#fb9f3a\"], [0.8888888888888888, \"#fdca26\"], [1.0, \"#f0f921\"]], \"type\": \"surface\"}], \"table\": [{\"cells\": {\"fill\": {\"color\": \"#EBF0F8\"}, \"line\": {\"color\": \"white\"}}, \"header\": {\"fill\": {\"color\": \"#C8D4E3\"}, \"line\": {\"color\": \"white\"}}, \"type\": \"table\"}]}, \"layout\": {\"annotationdefaults\": {\"arrowcolor\": \"#2a3f5f\", \"arrowhead\": 0, \"arrowwidth\": 1}, \"colorscale\": {\"diverging\": [[0, \"#8e0152\"], [0.1, \"#c51b7d\"], [0.2, \"#de77ae\"], [0.3, \"#f1b6da\"], [0.4, \"#fde0ef\"], [0.5, \"#f7f7f7\"], [0.6, \"#e6f5d0\"], [0.7, \"#b8e186\"], [0.8, \"#7fbc41\"], [0.9, \"#4d9221\"], [1, \"#276419\"]], \"sequential\": [[0.0, \"#0d0887\"], [0.1111111111111111, \"#46039f\"], [0.2222222222222222, \"#7201a8\"], [0.3333333333333333, \"#9c179e\"], [0.4444444444444444, \"#bd3786\"], [0.5555555555555556, \"#d8576b\"], [0.6666666666666666, \"#ed7953\"], [0.7777777777777778, \"#fb9f3a\"], [0.8888888888888888, \"#fdca26\"], [1.0, \"#f0f921\"]], \"sequentialminus\": [[0.0, \"#0d0887\"], [0.1111111111111111, \"#46039f\"], [0.2222222222222222, \"#7201a8\"], [0.3333333333333333, \"#9c179e\"], [0.4444444444444444, \"#bd3786\"], [0.5555555555555556, \"#d8576b\"], [0.6666666666666666, \"#ed7953\"], [0.7777777777777778, \"#fb9f3a\"], [0.8888888888888888, \"#fdca26\"], [1.0, \"#f0f921\"]]}, \"colorway\": [\"#636efa\", \"#EF553B\", \"#00cc96\", \"#ab63fa\", \"#FFA15A\", \"#19d3f3\", \"#FF6692\", \"#B6E880\", \"#FF97FF\", \"#FECB52\"], \"font\": {\"color\": \"#2a3f5f\"}, \"geo\": {\"bgcolor\": \"white\", \"lakecolor\": \"white\", \"landcolor\": \"#E5ECF6\", \"showlakes\": true, \"showland\": true, \"subunitcolor\": \"white\"}, \"hoverlabel\": {\"align\": \"left\"}, \"hovermode\": \"closest\", \"mapbox\": {\"style\": \"light\"}, \"paper_bgcolor\": \"white\", \"plot_bgcolor\": \"#E5ECF6\", \"polar\": {\"angularaxis\": {\"gridcolor\": \"white\", \"linecolor\": \"white\", \"ticks\": \"\"}, \"bgcolor\": \"#E5ECF6\", \"radialaxis\": {\"gridcolor\": \"white\", \"linecolor\": \"white\", \"ticks\": \"\"}}, \"scene\": {\"xaxis\": {\"backgroundcolor\": \"#E5ECF6\", \"gridcolor\": \"white\", \"gridwidth\": 2, \"linecolor\": \"white\", \"showbackground\": true, \"ticks\": \"\", \"zerolinecolor\": \"white\"}, \"yaxis\": {\"backgroundcolor\": \"#E5ECF6\", \"gridcolor\": \"white\", \"gridwidth\": 2, \"linecolor\": \"white\", \"showbackground\": true, \"ticks\": \"\", \"zerolinecolor\": \"white\"}, \"zaxis\": {\"backgroundcolor\": \"#E5ECF6\", \"gridcolor\": \"white\", \"gridwidth\": 2, \"linecolor\": \"white\", \"showbackground\": true, \"ticks\": \"\", \"zerolinecolor\": \"white\"}}, \"shapedefaults\": {\"line\": {\"color\": \"#2a3f5f\"}}, \"ternary\": {\"aaxis\": {\"gridcolor\": \"white\", \"linecolor\": \"white\", \"ticks\": \"\"}, \"baxis\": {\"gridcolor\": \"white\", \"linecolor\": \"white\", \"ticks\": \"\"}, \"bgcolor\": \"#E5ECF6\", \"caxis\": {\"gridcolor\": \"white\", \"linecolor\": \"white\", \"ticks\": \"\"}}, \"title\": {\"x\": 0.05}, \"xaxis\": {\"automargin\": true, \"gridcolor\": \"white\", \"linecolor\": \"white\", \"ticks\": \"\", \"zerolinecolor\": \"white\", \"zerolinewidth\": 2}, \"yaxis\": {\"automargin\": true, \"gridcolor\": \"white\", \"linecolor\": \"white\", \"ticks\": \"\", \"zerolinecolor\": \"white\", \"zerolinewidth\": 2}}}, \"xaxis\": {\"anchor\": \"y\", \"domain\": [0.0, 0.98], \"title\": {\"text\": \"Year\"}}, \"yaxis\": {\"anchor\": \"x\", \"domain\": [0.0, 1.0], \"title\": {\"text\": \"Mass\"}}},\n",
       "                        {\"responsive\": true}\n",
       "                    ).then(function(){\n",
       "                            \n",
       "var gd = document.getElementById('22b8160b-a32c-438a-852f-6096161a379e');\n",
       "var x = new MutationObserver(function (mutations, observer) {{\n",
       "        var display = window.getComputedStyle(gd).display;\n",
       "        if (!display || display === 'none') {{\n",
       "            console.log([gd, 'removed!']);\n",
       "            Plotly.purge(gd);\n",
       "            observer.disconnect();\n",
       "        }}\n",
       "}});\n",
       "\n",
       "// Listen for the removal of the full notebook cells\n",
       "var notebookContainer = gd.closest('#notebook-container');\n",
       "if (notebookContainer) {{\n",
       "    x.observe(notebookContainer, {childList: true});\n",
       "}}\n",
       "\n",
       "// Listen for the clearing of the current output cell\n",
       "var outputEl = gd.closest('.output');\n",
       "if (outputEl) {{\n",
       "    x.observe(outputEl, {childList: true});\n",
       "}}\n",
       "\n",
       "                        })\n",
       "                };\n",
       "                });\n",
       "            </script>\n",
       "        </div>"
      ]
     },
     "metadata": {},
     "output_type": "display_data"
    },
    {
     "name": "stdout",
     "output_type": "stream",
     "text": [
      "1.67883 s have elapsed, all is good!\n"
     ]
    }
   ],
   "source": [
    "#!/usr/bin/env python3\n",
    "# -*- coding: utf-8 -*-\n",
    "# Created on Thu Aug 29 11:59:11 2019\n",
    "# @author: jvanderzaag\n",
    "import time; start = time.time()\n",
    "import functions as func\n",
    "\n",
    "\n",
    "import os\n",
    "import pandas as pd \n",
    "import numpy as np\n",
    "import plotly.express as px\n",
    "\n",
    "\n",
    "#%%\n",
    "(\n",
    " dbx,\n",
    " dbm,\n",
    " dba,\n",
    " ) = func.ReadData()\n",
    "\n",
    "#%%\n",
    "(\n",
    " dbx,\n",
    " Vtypes,\n",
    " ) = func.UnifyCountData(dbx)\n",
    "\n",
    "#%%\n",
    "(\n",
    " dbm\n",
    " ) = func.UnifyMassData(dbm, dbx)\n",
    "\n",
    "#%%\n",
    "mat = func.CalcMass(dbx, dbm)\n",
    "\n",
    "#%% Plotting\n",
    "    \n",
    "func.PlotMaterialVehicle(\n",
    "                         mat,\n",
    "                         #exclude=['bicycle'],\n",
    "                         #include=['A330','B747'],\n",
    "                         )\n",
    "    \n",
    "#%%\n",
    "print(round(time.time()-start,5),'s have elapsed, all is good!'); del start"
   ]
  },
  {
   "cell_type": "code",
   "execution_count": null,
   "metadata": {},
   "outputs": [],
   "source": []
  },
  {
   "cell_type": "code",
   "execution_count": null,
   "metadata": {},
   "outputs": [],
   "source": []
  }
 ],
 "metadata": {
  "kernelspec": {
   "display_name": "Python 3",
   "language": "python",
   "name": "python3"
  },
  "language_info": {
   "codemirror_mode": {
    "name": "ipython",
    "version": 3
   },
   "file_extension": ".py",
   "mimetype": "text/x-python",
   "name": "python",
   "nbconvert_exporter": "python",
   "pygments_lexer": "ipython3",
   "version": "3.6.8"
  }
 },
 "nbformat": 4,
 "nbformat_minor": 2
}
